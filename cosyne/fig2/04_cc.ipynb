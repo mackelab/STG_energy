{
 "cells": [
  {
   "cell_type": "code",
   "execution_count": 1,
   "metadata": {},
   "outputs": [],
   "source": [
    "import time\n",
    "from copy import deepcopy\n",
    "\n",
    "import dill as pickle\n",
    "import IPython.display as IPd\n",
    "import matplotlib as mpl\n",
    "import matplotlib.colors as mcolors\n",
    "import matplotlib.patheffects as pe\n",
    "import matplotlib.pylab as plt\n",
    "import numpy as np\n",
    "import torch\n",
    "from matplotlib.ticker import FormatStrFormatter\n",
    "\n",
    "import stg_energy.fig5_cc.energy as ue\n",
    "import stg_energy.fig5_cc.helpers as helpers\n",
    "import stg_energy.fig5_cc.viz as viz\n",
    "from stg_energy.fig3_amortize_energy.viz import energy_scape\n",
    "from pyloric.sbi_prior import create_prior\n",
    "from pyloric.sbi_wrapper import get_time, simulate, simulate_energyscape\n",
    "from stg_energy.common import col, get_labels_8pt\n",
    "from stg_energy.fig5_cc.conditional_density import (\n",
    "    buildCondCovMatrix,\n",
    "    conditional_correlation,\n",
    "    conditional_mutual_information,\n",
    "    eval_conditional_density,\n",
    "    partialCorrelation,\n",
    ")"
   ]
  },
  {
   "cell_type": "markdown",
   "metadata": {},
   "source": [
    "# Figure 5"
   ]
  },
  {
   "cell_type": "code",
   "execution_count": 2,
   "metadata": {},
   "outputs": [],
   "source": [
    "%load_ext autoreload\n",
    "%autoreload 2"
   ]
  },
  {
   "cell_type": "code",
   "execution_count": 3,
   "metadata": {},
   "outputs": [],
   "source": [
    "PANEL_B0 = \"svg/panel_b0.svg\"\n",
    "PANEL_C0 = \"svg/panel_c0.svg\"\n",
    "PANEL_C1 = \"svg/panel_c1.svg\"\n",
    "PANEL_C_CBAR = \"svg/panel_c_cbar.svg\"\n",
    "PANEL_C0_CBAR = \"svg/panel_c0_cbar.svg\"\n",
    "PANEL_C2 = \"svg/panel_c2.svg\"\n",
    "PANEL_C3 = \"svg/panel_c3.svg\"\n",
    "PANEL_D1 = \"svg/panel_d1.svg\"\n",
    "PANEL_D2 = \"svg/panel_d2.svg\"\n",
    "PANEL_D3 = \"svg/panel_d3.svg\"\n",
    "PANEL_D4 = \"svg/panel_d4.svg\"\n",
    "PANEL_D5 = \"svg/panel_d5.svg\""
   ]
  },
  {
   "cell_type": "code",
   "execution_count": 4,
   "metadata": {},
   "outputs": [],
   "source": [
    "datafile = \"../../results/prior_samples_after_classifier/samples_full_3.npz\"\n",
    "data = np.load(datafile)\n",
    "\n",
    "params = data[\"params\"]\n",
    "stats = data[\"stats\"]\n",
    "seeds = data[\"seeds\"]\n",
    "\n",
    "stats_mean = np.mean(stats, axis=0)\n",
    "stats_std = np.std(stats, axis=0)"
   ]
  },
  {
   "cell_type": "code",
   "execution_count": 5,
   "metadata": {},
   "outputs": [],
   "source": [
    "data = np.load(\"../../results/flow/200411_flow.npz\", allow_pickle=True)\n",
    "posterior = data[\"posterior\"].tolist()"
   ]
  },
  {
   "cell_type": "code",
   "execution_count": 6,
   "metadata": {},
   "outputs": [],
   "source": [
    "prior = create_prior(log=True)\n",
    "dimensions = 31\n",
    "params_mean = prior.mean.numpy()\n",
    "params_std = prior.stddev.numpy()\n",
    "\n",
    "npz = np.load(\"../../results/experimental_data/summstats_prep845_082_0044.npz\")\n",
    "summstats_experimental_11 = npz[\"summ_stats\"]"
   ]
  },
  {
   "cell_type": "code",
   "execution_count": 7,
   "metadata": {},
   "outputs": [],
   "source": [
    "lims_unnorm = np.asarray(\n",
    "    [prior.support.lower_bound.numpy(), prior.support.upper_bound.numpy()]\n",
    ").T\n",
    "lims_unnorm[:, 0] += 1e-8\n",
    "lims_unnorm[:, 1] -= 1e-8"
   ]
  },
  {
   "cell_type": "code",
   "execution_count": 8,
   "metadata": {},
   "outputs": [],
   "source": [
    "lims = np.reshape([-np.sqrt(3), np.sqrt(3)] * 46, (46, 2))"
   ]
  },
  {
   "cell_type": "markdown",
   "metadata": {},
   "source": [
    "### Find a value to condition on"
   ]
  },
  {
   "cell_type": "code",
   "execution_count": 9,
   "metadata": {},
   "outputs": [
    {
     "name": "stdout",
     "output_type": "stream",
     "text": [
      "There are 55043 datapoints in this dataset\n"
     ]
    }
   ],
   "source": [
    "data = np.load(\"../../results/11deg_post_pred/11_deg_post_pred_close_to_obs.npz\")\n",
    "sample_stats = data[\"sample_stats\"]\n",
    "sample_params = data[\"sample_params\"]\n",
    "sample_seed = data[\"sample_seeds\"]\n",
    "print(\"There are\", len(sample_seed), \"datapoints in this dataset\")"
   ]
  },
  {
   "cell_type": "code",
   "execution_count": 10,
   "metadata": {},
   "outputs": [],
   "source": [
    "from decimal import Decimal\n",
    "\n",
    "all_labels = []\n",
    "for dim_i in range(31):\n",
    "    if dim_i > len(params_mean) - 7.5:  # synapses\n",
    "        if dim_i == 24:\n",
    "            all_labels.append(\n",
    "                [r\"$\\mathdefault{0.01}$   \", r\"$\\mathdefault{10000}\\;\\;\\;\\;$   \"]\n",
    "            )\n",
    "        else:\n",
    "            all_labels.append(\n",
    "                [r\"$\\;\\;\\mathdefault{0.01}$\", r\"$\\mathdefault{1000}\\;\\;\\;\\;$ \"]\n",
    "            )\n",
    "    else:  # membrane conductances\n",
    "        num_after_digits = -int(\n",
    "            np.log10(lims[dim_i, 1] * params_std[dim_i] + params_mean[dim_i])\n",
    "        )\n",
    "        if num_after_digits > 2:\n",
    "            num_after_digits = 2\n",
    "        labels = [\n",
    "            round(\n",
    "                Decimal(\n",
    "                    (lims[dim_i, num_tmp] * params_std[dim_i] + params_mean[dim_i])\n",
    "                    / 0.628e-3\n",
    "                ),\n",
    "                num_after_digits,\n",
    "            )\n",
    "            for num_tmp in range(2)\n",
    "        ]\n",
    "        new_labels = []\n",
    "        counter = 0\n",
    "        for l in labels:\n",
    "            if counter == 0:\n",
    "                new_labels.append(r\"$\\mathdefault{\" + str(l) + \"}$\")\n",
    "            else:\n",
    "                new_labels.append(r\"$\\mathdefault{\" + str(l) + \"}\\;\\;\\;$ \")\n",
    "            counter += 1\n",
    "        all_labels.append(new_labels)"
   ]
  },
  {
   "cell_type": "markdown",
   "metadata": {},
   "source": [
    "# Panel A: perturbing one parameter breaks activity"
   ]
  },
  {
   "cell_type": "markdown",
   "metadata": {},
   "source": [
    "Good setups:  \n",
    "sample_number=2, bad_condition[0]=0.11, dims=0,5  \n",
    "sample_number=8, bad_condition[0]=0.11, dims=0,5  "
   ]
  },
  {
   "cell_type": "code",
   "execution_count": 11,
   "metadata": {},
   "outputs": [],
   "source": [
    "sample_number = 0\n",
    "condition1 = deepcopy(sample_params[sample_number])  # 5,6 is good\n",
    "condition_stats = deepcopy(sample_stats[sample_number])\n",
    "condition1_norm = torch.as_tensor([condition1])"
   ]
  },
  {
   "cell_type": "markdown",
   "metadata": {},
   "source": [
    "### Perturb parameter set"
   ]
  },
  {
   "cell_type": "code",
   "execution_count": 12,
   "metadata": {},
   "outputs": [],
   "source": [
    "condition1[0] = 0.26\n",
    "condition1[5] = 0.04\n",
    "bad_condition = deepcopy(condition1)\n",
    "bad_condition[0] = 0.113   # 0.28\n",
    "condition1_norm = torch.as_tensor(condition1).unsqueeze(0)\n",
    "#bad_condition[1] = 0.0033 # 41: 0.087\n",
    "#bad_condition[5] = 0.03  # 0.085"
   ]
  },
  {
   "cell_type": "code",
   "execution_count": 13,
   "metadata": {},
   "outputs": [
    {
     "name": "stdout",
     "output_type": "stream",
     "text": [
      "threshold_for_simulating 5742300750463192.0\n"
     ]
    }
   ],
   "source": [
    "my_samples = posterior.sample(10000)\n",
    "probs = posterior.log_prob(my_samples).detach().numpy()\n",
    "sorted_log_probs = np.sort(probs)\n",
    "threshold_for_simulating = sorted_log_probs[5000] # upper 75% quantile.\n",
    "threshold_for_simulating = np.exp(threshold_for_simulating-100.) # subtract for numerical stability\n",
    "print(\"threshold_for_simulating\", threshold_for_simulating)"
   ]
  },
  {
   "cell_type": "code",
   "execution_count": 14,
   "metadata": {},
   "outputs": [
    {
     "ename": "NameError",
     "evalue": "name 'all_baseline_fracs' is not defined",
     "output_type": "error",
     "traceback": [
      "\u001b[0;31m---------------------------------------------------------------------------\u001b[0m",
      "\u001b[0;31mNameError\u001b[0m                                 Traceback (most recent call last)",
      "\u001b[0;32m<ipython-input-14-ec60f7ae8f50>\u001b[0m in \u001b[0;36m<module>\u001b[0;34m\u001b[0m\n\u001b[1;32m     23\u001b[0m \u001b[0mall_dists\u001b[0m \u001b[0;34m=\u001b[0m \u001b[0mnp\u001b[0m\u001b[0;34m.\u001b[0m\u001b[0masarray\u001b[0m\u001b[0;34m(\u001b[0m\u001b[0mall_dists\u001b[0m\u001b[0;34m)\u001b[0m\u001b[0;34m\u001b[0m\u001b[0;34m\u001b[0m\u001b[0m\n\u001b[1;32m     24\u001b[0m \u001b[0mall_fracs\u001b[0m \u001b[0;34m=\u001b[0m \u001b[0mall_dists\u001b[0m \u001b[0;34m/\u001b[0m \u001b[0mresolution\u001b[0m\u001b[0;34m\u001b[0m\u001b[0;34m\u001b[0m\u001b[0m\n\u001b[0;32m---> 25\u001b[0;31m \u001b[0mall_relative_fracs\u001b[0m \u001b[0;34m=\u001b[0m \u001b[0mall_fracs\u001b[0m \u001b[0;34m/\u001b[0m \u001b[0mall_baseline_fracs\u001b[0m\u001b[0;34m\u001b[0m\u001b[0;34m\u001b[0m\u001b[0m\n\u001b[0m",
      "\u001b[0;31mNameError\u001b[0m: name 'all_baseline_fracs' is not defined"
     ]
    }
   ],
   "source": [
    "all_dists = []\n",
    "resolution=100\n",
    "for ppp in range(31):\n",
    "\n",
    "    p_vector = np.exp(eval_conditional_density(\n",
    "        posterior,\n",
    "        torch.as_tensor(condition1_norm, dtype=torch.float32),\n",
    "        lims_unnorm,\n",
    "        ppp,\n",
    "        ppp,\n",
    "        resolution=resolution,\n",
    "        log=True\n",
    "    ) - 100 )\n",
    "\n",
    "    threshold =  deepcopy(threshold_for_simulating)\n",
    "\n",
    "    inds = np.where(p_vector>threshold)\n",
    "    if np.any(p_vector>threshold): \n",
    "        max_min_dist = np.max(inds) - np.min(inds)+1\n",
    "    else:\n",
    "        max_min_dist = 0.0\n",
    "    all_dists.append(max_min_dist)\n",
    "all_dists = np.asarray(all_dists)\n",
    "all_fracs = all_dists / resolution\n",
    "all_relative_fracs = all_fracs / all_baseline_fracs"
   ]
  },
  {
   "cell_type": "code",
   "execution_count": 15,
   "metadata": {},
   "outputs": [],
   "source": [
    "from stg_energy.fig3_amortize_energy.viz import py_sensitivity_bars, synapse_sensitivity_bars"
   ]
  },
  {
   "cell_type": "code",
   "execution_count": 16,
   "metadata": {},
   "outputs": [
    {
     "name": "stderr",
     "output_type": "stream",
     "text": [
      "/home/michael/Documents/STG_energy/stg_energy/fig5_cc/viz.py:360: FutureWarning: elementwise comparison failed; returning scalar instead, but in the future will perform elementwise comparison\n",
      "  if opts[\"labels\"] == [] or opts[\"labels\"] is None:\n",
      "findfont: Font family ['serif'] not found. Falling back to DejaVu Sans.\n",
      "findfont: Font family ['serif'] not found. Falling back to DejaVu Sans.\n"
     ]
    },
    {
     "data": {
      "image/png": "[encoded data removed]",
      "text/plain": [
       "<Figure size 120x130 with 1 Axes>"
      ]
     },
     "metadata": {},
     "output_type": "display_data"
    }
   ],
   "source": [
    "import matplotlib.patheffects as pe\n",
    "\n",
    "with mpl.rc_context(fname=\"../../.matplotlibrc\"):\n",
    "\n",
    "    labels_ = get_labels_8pt()\n",
    "    labels_[9] += \"\"\n",
    "\n",
    "    fig, axes = viz.singleOneDmarginal(\n",
    "        pdfs=[posterior],\n",
    "        samples=sample_params,\n",
    "        # subset=[0,1,2,3,4,5,6,7], # ,25,26,28\n",
    "        subset=[0],  # ,25,26,28\n",
    "        limits=lims_unnorm,\n",
    "        ticks=lims_unnorm,\n",
    "        tick_labels=all_labels,\n",
    "        fig_size=(1.2, 1.3),\n",
    "        labels=labels_,\n",
    "        points=[condition1, bad_condition],\n",
    "        scatter_offdiag={\"rasterized\": True, \"alpha\": 1.0},\n",
    "        # points_offdiag={'marker':'o', 'markeredgecolor':'w', 'markersize':3.6, 'markeredgewidth':0.5, 'path_effects':[pe.Stroke(linewidth=1.2, foreground='k'), pe.Normal()]},\n",
    "        points_colors=[col[\"CONSISTENT1\"], col[\"INCONSISTENT\"]],\n",
    "        samples_colors=[col[\"SNPE\"]],\n",
    "        condition=torch.as_tensor(condition1_norm, dtype=torch.float32),\n",
    "        diag=[\"cond\"],\n",
    "        upper=[\"cond\"],\n",
    "        hist_offdiag={\"bins\": 500},\n",
    "        hist_diag={\"bins\": 500},\n",
    "    )\n",
    "    plt.savefig(PANEL_B0, facecolor='None', transparent=True)\n",
    "    plt.show()"
   ]
  },
  {
   "cell_type": "markdown",
   "metadata": {},
   "source": [
    "# Panel B: cure the parameter set"
   ]
  },
  {
   "cell_type": "code",
   "execution_count": 17,
   "metadata": {},
   "outputs": [],
   "source": [
    "cured_condition = deepcopy(bad_condition)\n",
    "cured_condition[5] = 0.087 # 0.087"
   ]
  },
  {
   "cell_type": "code",
   "execution_count": 18,
   "metadata": {},
   "outputs": [],
   "source": [
    "def revert_positions(a):\n",
    "    \"\"\"\n",
    "    Because we swap the dimensions of the two parameters (such that LP-CaS is on the x-axis), we also have to flip these values for the points.\n",
    "    \"\"\"\n",
    "    a_new = deepcopy(a)\n",
    "    a_new[5] = deepcopy(a[0])\n",
    "    a_new[0] = deepcopy(a[5])\n",
    "    return a_new"
   ]
  },
  {
   "cell_type": "code",
   "execution_count": 19,
   "metadata": {},
   "outputs": [],
   "source": [
    "from decimal import Decimal\n",
    "\n",
    "all_labels = []\n",
    "for dim_i in range(31):\n",
    "    if dim_i > len(params_mean) - 7.5:  # synapses\n",
    "        if dim_i == 24:\n",
    "            all_labels.append(\n",
    "                [r\"$\\mathdefault{0.01}$   \", r\"$\\mathdefault{10000}$   \"]\n",
    "            )\n",
    "        else:\n",
    "            all_labels.append(\n",
    "                [r\"$\\;\\;\\mathdefault{0.01}$\", r\"$\\mathdefault{1000}$ \"]\n",
    "            )\n",
    "    else:  # membrane conductances\n",
    "        num_after_digits = -int(\n",
    "            np.log10(lims[dim_i, 1] * params_std[dim_i] + params_mean[dim_i])\n",
    "        )\n",
    "        if num_after_digits > 2:\n",
    "            num_after_digits = 2\n",
    "        labels = [\n",
    "            round(\n",
    "                Decimal(\n",
    "                    (lims[dim_i, num_tmp] * params_std[dim_i] + params_mean[dim_i])\n",
    "                    / 0.628e-3\n",
    "                ),\n",
    "                num_after_digits,\n",
    "            )\n",
    "            for num_tmp in range(2)\n",
    "        ]\n",
    "        new_labels = []\n",
    "        counter = 0\n",
    "        for l in labels:\n",
    "            if counter == 0:\n",
    "                new_labels.append(r\"$\\mathdefault{\" + str(int(l)) + \"}$\")\n",
    "            else:\n",
    "                new_labels.append(r\"$\\mathdefault{\" + str(int(l)) + \"}$\")\n",
    "            counter += 1\n",
    "        all_labels.append(new_labels)"
   ]
  },
  {
   "cell_type": "code",
   "execution_count": 20,
   "metadata": {},
   "outputs": [
    {
     "name": "stderr",
     "output_type": "stream",
     "text": [
      "/home/michael/Documents/STG_energy/stg_energy/fig5_cc/viz.py:640: FutureWarning: elementwise comparison failed; returning scalar instead, but in the future will perform elementwise comparison\n",
      "  if opts[\"labels\"] == [] or opts[\"labels\"] is None:\n"
     ]
    },
    {
     "name": "stdout",
     "output_type": "stream",
     "text": [
      "running this upper\n"
     ]
    },
    {
     "data": {
      "image/png": "[encoded data removed]",
      "text/plain": [
       "<Figure size 100x100 with 1 Axes>"
      ]
     },
     "metadata": {},
     "output_type": "display_data"
    }
   ],
   "source": [
    "# condition1_swap = revert_positions(condition1)\n",
    "# bad_condition_swap = revert_positions(bad_condition)\n",
    "# cured_condition_swap = revert_positions(cured_condition)\n",
    "\n",
    "with mpl.rc_context(fname=\"../../.matplotlibrc\"):\n",
    "\n",
    "    labels_ = get_labels_8pt()\n",
    "    labels_[9] += \"\"\n",
    "\n",
    "    fig, axes, im = viz.single2Dmarginal(\n",
    "        pdfs=[posterior],\n",
    "        samples=sample_params,\n",
    "        subset=[5, 0],  # 0,1   0,4    0,5\n",
    "        #subset=[0,5],  # 0,1   0,4    0,5\n",
    "        limits=lims_unnorm,\n",
    "        ticks=lims_unnorm,\n",
    "        tick_labels=all_labels,\n",
    "        fig_size=(1.0, 1.0),\n",
    "        labels=labels_,\n",
    "        #points=[condition1, bad_condition, cured_condition],\n",
    "        scatter_offdiag={\"rasterized\": True, \"alpha\": 1.0},\n",
    "        points_offdiag={'markersize':12.6},\n",
    "        points_colors=[col[\"CONSISTENT1\"], col[\"INCONSISTENT\"], col[\"GT\"]],\n",
    "        samples_colors=[col[\"SNPE\"]],\n",
    "        condition=torch.as_tensor(condition1_norm, dtype=torch.float32),\n",
    "        diag=None,\n",
    "        upper=[\"cond\"],\n",
    "        hist_offdiag={\"bins\": 40},\n",
    "    )\n",
    "\n",
    "    plt.savefig(PANEL_C0, facecolor='None', transparent=True)\n",
    "    plt.show()"
   ]
  },
  {
   "cell_type": "code",
   "execution_count": 22,
   "metadata": {},
   "outputs": [
    {
     "data": {
      "image/png": "[encoded data removed]",
      "text/plain": [
       "<Figure size 90x90 with 1 Axes>"
      ]
     },
     "metadata": {},
     "output_type": "display_data"
    }
   ],
   "source": [
    "with mpl.rc_context(fname=\"../../.matplotlibrc\"):\n",
    "\n",
    "    # draw a new figure and replot the colorbar there\n",
    "    fig, ax = plt.subplots(figsize=(0.9, 0.9))\n",
    "    cbar = plt.colorbar(im)\n",
    "    cbar.set_ticks([])\n",
    "    cbar.set_label(\"Posterior prob.\", labelpad=7)\n",
    "\n",
    "    ax.remove()\n",
    "    plt.savefig(PANEL_C0_CBAR, facecolor='None', transparent=True)\n",
    "    plt.show()"
   ]
  },
  {
   "cell_type": "markdown",
   "metadata": {},
   "source": [
    "# Panel C: show that energy is not constant in this plane"
   ]
  },
  {
   "cell_type": "code",
   "execution_count": 23,
   "metadata": {},
   "outputs": [],
   "source": [
    "# pairs = np.asarray(\n",
    "#     [[0, 2], [4, 5], [10, 11], [11, 12], [17, 18], [18, 19], [22, 26], [24, 25]]\n",
    "# )  # [18,19]\n",
    "pairs = np.asarray(\n",
    "    [[0, 5]]\n",
    ")  # [18,19]\n",
    "neuron_to_observe = [\"PM\", \"PM\", \"LP\", \"LP\", \"PY\", \"PY\", \"PM\", \"PM\"]"
   ]
  },
  {
   "cell_type": "code",
   "execution_count": 24,
   "metadata": {},
   "outputs": [],
   "source": [
    "condition1_norm = torch.as_tensor([condition1], dtype=torch.float32)"
   ]
  },
  {
   "cell_type": "code",
   "execution_count": 25,
   "metadata": {},
   "outputs": [],
   "source": [
    "condition1 = deepcopy(sample_params[sample_number])  # 5,6 is good\n",
    "condition1_stats = deepcopy(sample_stats[sample_number])\n",
    "condition1_norm = torch.as_tensor([condition1])"
   ]
  },
  {
   "cell_type": "code",
   "execution_count": 26,
   "metadata": {},
   "outputs": [],
   "source": [
    "grid_bins = 50\n",
    "patience = 3"
   ]
  },
  {
   "cell_type": "code",
   "execution_count": 27,
   "metadata": {},
   "outputs": [],
   "source": [
    "all_conditional_correlations = np.load(\n",
    "    \"../../results/conditional_correlation_energy/200930_sample0_dims0_5_grid50_patience3_p_vector_nn.npy\"\n",
    ")\n",
    "all_energy_images = np.load(\n",
    "    \"../../results/conditional_correlation_energy/200930_sample0_dims0_5_grid50_patience3_energy_specific_neuron_nn.npy\"\n",
    ")"
   ]
  },
  {
   "cell_type": "code",
   "execution_count": 28,
   "metadata": {},
   "outputs": [],
   "source": [
    "all_conditional_correlations = np.asarray(all_conditional_correlations)\n",
    "energy_image = np.asarray(all_energy_images)"
   ]
  },
  {
   "cell_type": "code",
   "execution_count": 29,
   "metadata": {},
   "outputs": [
    {
     "data": {
      "image/png": "[encoded data removed]",
      "text/plain": [
       "<Figure size 200x200 with 2 Axes>"
      ]
     },
     "metadata": {},
     "output_type": "display_data"
    }
   ],
   "source": [
    "# build colormap\n",
    "colors = plt.cm.autumn(np.linspace(0, 1, 2048))\n",
    "blacks = np.ones_like(colors)\n",
    "blacks[:, :3] = 0.0\n",
    "\n",
    "# combine them and build a new colormap\n",
    "colors = np.vstack((blacks[-1], np.flipud(colors)))\n",
    "mymap = mcolors.LinearSegmentedColormap.from_list(\"my_colormap\", colors)\n",
    "\n",
    "image = deepcopy(energy_image / 40000)\n",
    "# image[image == 0.0] = np.max(image) + 1.0\n",
    "max_val_of_image = np.max(image[image != np.max(image)])\n",
    "min_val_of_image = np.min(image[image != np.min(image)])\n",
    "diff = max_val_of_image - min_val_of_image\n",
    "val_for_black_parts = min_val_of_image - 1/200*diff\n",
    "image[image == np.min(image)] = val_for_black_parts\n",
    "val_for_white_parts = max_val_of_image + 1/200*diff\n",
    "image[image == np.max(image)] = val_for_white_parts\n",
    "\n",
    "with mpl.rc_context(fname=\"../../.matplotlibrc\"):\n",
    "    fig, ax = plt.subplots(1, 1, figsize=(2, 2))\n",
    "    h = ax.imshow(image, origin=\"lower\", aspect=\"auto\", cmap=mymap)\n",
    "    plt.colorbar(h)\n",
    "    ax.axes.get_yaxis().set_ticks([])\n",
    "    ax.axes.get_xaxis().set_ticks([])\n",
    "    plt.show()"
   ]
  },
  {
   "cell_type": "code",
   "execution_count": 30,
   "metadata": {},
   "outputs": [],
   "source": [
    "neurons = [\"AB/PD1\", \"AB/PD2\", \"LP1\", \"LP2\", \"PY1\", \"PY2\", \"syn1\", \"syn2\"]\n",
    "\n",
    "seeds_max = [0, 0, 0, 1, 0, 0, 0, 0]\n",
    "seeds_min = [0, 0, 1, 1, 0, 0, 0, 0]\n",
    "\n",
    "t_max_mins = [125000, 125000, 100000, 100000, 112000, 113000, 110000, 125000]\n",
    "t_max_maxs = [145000, 145000, 120000, 120000, 132000, 133000, 130000, 145000]\n",
    "\n",
    "t_min_mins = [120000, 125000, 100000, 100000, 112000, 113000, 110000, 125000]\n",
    "t_min_maxs = [140000, 145000, 120000, 120000, 132000, 133000, 130000, 145000]\n",
    "\n",
    "neuron_to_plot = [0, 0, 1, 1, 2, 2, 2, 0]\n",
    "\n",
    "set_to_inspect = 0\n",
    "\n",
    "# find dims\n",
    "# energy_image = all_energy_images[set_to_inspect]\n",
    "pair = pairs[set_to_inspect]\n",
    "dim1 = pair[0]\n",
    "dim2 = pair[1]\n",
    "\n",
    "vec1 = np.linspace(lims_unnorm[dim1, 0], lims_unnorm[dim1, 1], grid_bins)\n",
    "vec2 = np.linspace(lims_unnorm[dim2, 0], lims_unnorm[dim2, 1], grid_bins)"
   ]
  },
  {
   "cell_type": "code",
   "execution_count": 31,
   "metadata": {},
   "outputs": [],
   "source": [
    "np_pair = np.asarray(pair)\n",
    "labels = get_labels_8pt()\n",
    "labels_for_x_and_y = labels[np_pair]"
   ]
  },
  {
   "cell_type": "code",
   "execution_count": 32,
   "metadata": {},
   "outputs": [
    {
     "name": "stdout",
     "output_type": "stream",
     "text": [
      "-------- High energy set --------\n"
     ]
    },
    {
     "data": {
      "image/png": "[encoded data removed]",
      "text/plain": [
       "<Figure size 100x110 with 2 Axes>"
      ]
     },
     "metadata": {},
     "output_type": "display_data"
    }
   ],
   "source": [
    "###################################################################################################\n",
    "#                                        maximum energy set                                       #\n",
    "###################################################################################################\n",
    "\n",
    "print(\"-------- High energy set --------\")\n",
    "cond1_norm_tmp = deepcopy(condition1_norm[0])\n",
    "tmp_energy_image = deepcopy(energy_image)\n",
    "# find parameter value that had maximum energy\n",
    "max_energy_pixel = np.unravel_index(tmp_energy_image.argmax(), tmp_energy_image.shape)\n",
    "# replace the parameter values\n",
    "param1 = vec1[max_energy_pixel[0]]\n",
    "param2 = vec2[max_energy_pixel[1]]\n",
    "\n",
    "cond1_norm_tmp[dim1] = param1\n",
    "cond1_norm_tmp[dim2] = param2\n",
    "\n",
    "# simulate and build energy scape\n",
    "parameter_set = cond1_norm_tmp\n",
    "\n",
    "out_target = simulate_energyscape(deepcopy(parameter_set), seed=8607175)\n",
    "\n",
    "with mpl.rc_context(fname=\"../../.matplotlibrc\"):\n",
    "    energy_scape(\n",
    "        out_target,\n",
    "        get_time(),\n",
    "        figsize=(1.0, 1.1),\n",
    "        cols=['k', 'k', 'k'],\n",
    "        time_len=20000,\n",
    "        offset=155000,\n",
    "        neuron=neuron_to_plot[set_to_inspect],\n",
    "        ylabels=False,\n",
    "    )\n",
    "    plt.savefig(PANEL_C2, facecolor='None', transparent=True)\n",
    "    plt.show()"
   ]
  },
  {
   "cell_type": "code",
   "execution_count": 33,
   "metadata": {},
   "outputs": [
    {
     "name": "stdout",
     "output_type": "stream",
     "text": [
      "-------- Low energy set --------\n"
     ]
    },
    {
     "data": {
      "image/png": "[encoded data removed]",
      "text/plain": [
       "<Figure size 100x110 with 2 Axes>"
      ]
     },
     "metadata": {},
     "output_type": "display_data"
    }
   ],
   "source": [
    "###################################################################################################\n",
    "#                                        minimum energy set                                       #\n",
    "###################################################################################################\n",
    "print(\"-------- Low energy set --------\")\n",
    "tmp_energy_image = deepcopy(energy_image)\n",
    "tmp_energy_image[tmp_energy_image <=0.0] = 1e10\n",
    "min_energy_pixel = np.unravel_index(tmp_energy_image.argmin(), tmp_energy_image.shape)\n",
    "param1 = vec1[min_energy_pixel[0]]\n",
    "param2 = vec2[min_energy_pixel[1]]\n",
    "\n",
    "cond1_norm_tmp[dim1] = param1\n",
    "cond1_norm_tmp[dim2] = param2\n",
    "\n",
    "parameter_set = cond1_norm_tmp\n",
    "\n",
    "out_target = simulate_energyscape(deepcopy(parameter_set), seed=8607175)\n",
    "with mpl.rc_context(fname=\"../../.matplotlibrc\"):\n",
    "    energy_scape(\n",
    "        out_target,\n",
    "        get_time(),\n",
    "        figsize=(1.0, 1.1),\n",
    "        cols=['k', 'k', 'k'],\n",
    "        time_len=20000,\n",
    "        offset=301300,\n",
    "        neuron=neuron_to_plot[set_to_inspect],\n",
    "        ylabels=True,\n",
    "    )\n",
    "    plt.savefig(PANEL_C3, facecolor='None', transparent=True)\n",
    "    plt.show()"
   ]
  },
  {
   "cell_type": "markdown",
   "metadata": {},
   "source": [
    "# Plot the figure again, but with the points of max and min"
   ]
  },
  {
   "cell_type": "code",
   "execution_count": 34,
   "metadata": {},
   "outputs": [],
   "source": [
    "from pyloric.sbi_prior import create_prior\n",
    "prior = create_prior()"
   ]
  },
  {
   "cell_type": "code",
   "execution_count": 35,
   "metadata": {},
   "outputs": [],
   "source": [
    "lower0 = prior.support.lower_bound[pairs[set_to_inspect][0]].item() / 0.628e-3\n",
    "upper0 = prior.support.upper_bound[pairs[set_to_inspect][0]].item() / 0.628e-3\n",
    "lower1= prior.support.lower_bound[pairs[set_to_inspect][1]].item() / 0.628e-3\n",
    "upper1 = prior.support.upper_bound[pairs[set_to_inspect][1]].item() / 0.628e-3"
   ]
  },
  {
   "cell_type": "code",
   "execution_count": 36,
   "metadata": {},
   "outputs": [
    {
     "data": {
      "image/png": "[encoded data removed]",
      "text/plain": [
       "<Figure size 100x100 with 1 Axes>"
      ]
     },
     "metadata": {},
     "output_type": "display_data"
    }
   ],
   "source": [
    "# build colormap\n",
    "colors = plt.cm.autumn(np.linspace(0, 1, 2048))\n",
    "blacks = np.ones_like(colors)\n",
    "blacks[:, :3] = 0.0\n",
    "\n",
    "# combine them and build a new colormap\n",
    "colors = np.vstack((blacks[-1], np.flipud(colors)))\n",
    "mymap = mcolors.LinearSegmentedColormap.from_list(\"my_colormap\", colors)\n",
    "\n",
    "image = deepcopy(energy_image / 40000)\n",
    "max_val_of_image = np.max(image[image != np.max(image)])\n",
    "min_val_of_image = np.min(image[image != np.min(image)])\n",
    "diff = max_val_of_image - min_val_of_image\n",
    "val_for_black_parts = min_val_of_image - 1/200*diff\n",
    "image[image == np.min(image)] = val_for_black_parts\n",
    "\n",
    "with mpl.rc_context(fname=\"../../.matplotlibrc\"):\n",
    "    fig, ax = plt.subplots(1, 1, figsize=(1.0, 1.0))\n",
    "    h = ax.imshow(image.T, origin=\"lower\", aspect=\"auto\", cmap=mymap)\n",
    "    ax.scatter(min_energy_pixel[0], min_energy_pixel[1]-0.5, s=40, color='#FFFFFF', edgecolors='k', linewidths=0.8)\n",
    "    # -0.5 because otherwise the dot is cut off.\n",
    "    ax.scatter(max_energy_pixel[0]-0.5, max_energy_pixel[1], s=40, color='#FFFFFF', edgecolors='k', linewidths=0.8)\n",
    "    ax.axes.get_yaxis().set_ticks([])\n",
    "    ax.axes.get_xaxis().set_ticks([])\n",
    "#     ax.spines['top'].set_visible(True)\n",
    "#     ax.spines['right'].set_visible(True)\n",
    "    ax.set_xlabel(labels_for_x_and_y[0], labelpad=-3)\n",
    "    ax.set_ylabel(labels_for_x_and_y[1], labelpad=-9)\n",
    "    ax.set_xticks([-0.5, image.shape[0]-0.5])\n",
    "    ax.set_yticks([-0.5, image.shape[1]-0.5])\n",
    "    ax.set_xticklabels([int(np.round(lower0)), int(np.round(upper0))])\n",
    "    ax.set_yticklabels([int(np.round(lower1)), int(np.round(upper1))])\n",
    "\n",
    "    plt.savefig(PANEL_C1, facecolor='None', transparent=True)\n",
    "    plt.show()"
   ]
  },
  {
   "cell_type": "code",
   "execution_count": 38,
   "metadata": {},
   "outputs": [
    {
     "data": {
      "image/png": "[encoded data removed]",
      "text/plain": [
       "<Figure size 90x90 with 1 Axes>"
      ]
     },
     "metadata": {},
     "output_type": "display_data"
    }
   ],
   "source": [
    "with mpl.rc_context(fname=\"../../.matplotlibrc\"):\n",
    "\n",
    "    # draw a new figure and replot the colorbar there\n",
    "    fig, ax = plt.subplots(figsize=(0.9, 0.9))\n",
    "    cbar = plt.colorbar(h)\n",
    "    cbar.set_ticks([val_for_black_parts, max_val_of_image])\n",
    "    cbar.set_ticklabels(['%.0f' %val_for_black_parts, '%.0f' %max_val_of_image])\n",
    "    cbar.set_label(\"Energy\\nAB/PD ($\\mu$J/s)\", labelpad=-4)\n",
    "\n",
    "    ax.remove()\n",
    "    plt.savefig(PANEL_C_CBAR, facecolor='None', transparent=True)\n",
    "    plt.show()"
   ]
  },
  {
   "cell_type": "code",
   "execution_count": 39,
   "metadata": {},
   "outputs": [],
   "source": [
    "npz = np.load('../../results/experimental_data/trace_data_845_082_0044.npz')\n",
    "t = npz['t']\n",
    "PD_spikes = npz['PD_spikes']\n",
    "LP_spikes = npz['LP_spikes']\n",
    "PY_spikes = npz['PY_spikes']\n",
    "pdn = npz['pdn']\n",
    "lpn = npz['lpn']\n",
    "pyn = npz['pyn']"
   ]
  },
  {
   "cell_type": "code",
   "execution_count": 40,
   "metadata": {},
   "outputs": [],
   "source": [
    "start_index = 219500 + 2100\n",
    "end_index   = 246500 + 2100  # 32000\n",
    "height_offset = 200\n",
    "shown_t = t[end_index] - t[start_index]\n",
    "time_len = shown_t / 0.025 * 1000\n",
    "dt = t[1] - t[0]"
   ]
  },
  {
   "cell_type": "code",
   "execution_count": 41,
   "metadata": {},
   "outputs": [
    {
     "data": {
      "image/png": "[encoded data removed]",
      "text/plain": [
       "<Figure size 200x150 with 1 Axes>"
      ]
     },
     "metadata": {},
     "output_type": "display_data"
    }
   ],
   "source": [
    "with mpl.rc_context(fname='../../.matplotlibrc'):\n",
    "    fig, ax = plt.subplots(1,1,figsize=(2.0, 1.5)) # (2.87, 2.08*3/4)\n",
    "    ax.plot(t[start_index:end_index], 2.5+pdn[start_index:end_index]*0.007, c=col['GT'], lw=0.8)\n",
    "    ax.plot(t[start_index:end_index], 1.2+lpn[start_index:end_index]*0.25, c=col['GT'], lw=0.8)\n",
    "    ax.plot(t[start_index:end_index], -0.1+pyn[start_index:end_index]*0.013, c=col['GT'], lw=0.8)\n",
    "\n",
    "    linew = 0.4; headl = 0.06; headw = 0.16; linelen = 0.17; circlefact = 0.8\n",
    "\n",
    "    height1 = 3.2\n",
    "    plt.arrow(t[start_index]+0.6, height1, 1.15, 0,  shape='full', head_width=headw, head_length=headl, length_includes_head=True, color='k', lw=linew)\n",
    "    plt.arrow(t[start_index]+1.75, height1, -1.15, 0,  shape='full', head_width=headw, head_length=headl, length_includes_head=True, color='k', lw=linew)\n",
    "    plt.plot([t[start_index]+0.6, t[start_index]+0.6], [height1-linelen,height1+linelen], c='k', lw=linew*1.5)\n",
    "    plt.plot([t[start_index]+1.75, t[start_index]+1.75], [height1-linelen,height1+linelen], c='k', lw=linew*1.5)\n",
    "\n",
    "    height2 = 1.64\n",
    "    plt.arrow(t[start_index]+0.6, height2, 0.48, 0,  shape='full', head_width=headw, head_length=headl, length_includes_head=True, color='k', lw=linew)\n",
    "    plt.arrow(t[start_index]+1.08, height2, -0.48, 0,  shape='full', head_width=headw, head_length=headl, length_includes_head=True, color='k', lw=linew)\n",
    "    plt.plot([t[start_index]+0.6, t[start_index]+0.6], [height2-linelen,height2+linelen], c='k', lw=linew*1.5)\n",
    "    plt.plot([t[start_index]+1.08, t[start_index]+1.08], [height2-linelen,height2+linelen], c='k', lw=linew*1.5)\n",
    "\n",
    "    plt.arrow(t[start_index]+1.98, height2, 0.27, 0,  shape='full', head_width=headw, head_length=headl, length_includes_head=True, color='k', lw=linew)\n",
    "    plt.arrow(t[start_index]+2.25, height2, -0.27, 0,  shape='full', head_width=headw, head_length=headl, length_includes_head=True, color='k', lw=linew)\n",
    "    plt.plot([t[start_index]+1.98, t[start_index]+1.98], [height2-linelen,height2+linelen], c='k', lw=linew*1.5)\n",
    "    plt.plot([t[start_index]+2.25, t[start_index]+2.25], [height2-linelen,height2+linelen], c='k', lw=linew*1.5)\n",
    "\n",
    "    height4 = 0.44\n",
    "    plt.arrow(t[start_index]+1.33, height4, 0.43, 0,  shape='full', head_width=headw, head_length=headl, length_includes_head=True, color='k', lw=linew)\n",
    "    plt.arrow(t[start_index]+1.76, height4, -0.43, 0,  shape='full', head_width=headw, head_length=headl, length_includes_head=True, color='k', lw=linew)\n",
    "    plt.plot([t[start_index]+1.33, t[start_index]+1.33], [height4-linelen,height4+linelen], c='k', lw=linew*1.5)\n",
    "    plt.plot([t[start_index]+1.76, t[start_index]+1.76], [height4-linelen,height4+linelen], c='k', lw=linew*1.5)\n",
    "\n",
    "    ax.spines['right'].set_visible(False)\n",
    "    ax.spines['top'].set_visible(False)\n",
    "    ax.spines['bottom'].set_visible(False)\n",
    "    ax.spines['left'].set_visible(False)\n",
    "    ax.axes.get_yaxis().set_ticks([])\n",
    "    ax.axes.get_xaxis().set_ticks([])\n",
    "    ax.get_yaxis().set_visible(False)\n",
    "    ax.set_ylim([-0.95, 4.0])\n",
    "\n",
    "    duration = 0.5\n",
    "    number_of_timesteps = int(duration / dt)\n",
    "    t_scale = np.linspace(t[start_index], t[start_index + number_of_timesteps], 2)\n",
    "\n",
    "    ax.plot(t_scale, -0.8 * np.ones_like(t_scale), c='k', lw=1.0)\n",
    "\n",
    "    plt.savefig('svg/panel_experimental.svg', facecolor='None', transparent=True)\n",
    "    plt.show()"
   ]
  },
  {
   "cell_type": "markdown",
   "metadata": {},
   "source": [
    "# Assemble figure"
   ]
  },
  {
   "cell_type": "code",
   "execution_count": 42,
   "metadata": {},
   "outputs": [],
   "source": [
    "def svg(img):\n",
    "    IPd.display(IPd.HTML('<img src=\"{}\" / >'.format(img, time.time())))"
   ]
  },
  {
   "cell_type": "code",
   "execution_count": 43,
   "metadata": {},
   "outputs": [],
   "source": [
    "PANEL_REG_D1 = \"svg/panel_reg_d1.svg\"\n",
    "PANEL_REG_D2 = \"svg/panel_reg_d2.svg\"\n",
    "PANEL_REG_D3 = \"svg/panel_reg_d3.svg\"\n",
    "PANEL_REG_D4 = \"svg/panel_reg_d4.svg\"\n",
    "PANEL_REG_F_alt = \"svg/panel_reg_f_alt.svg\""
   ]
  },
  {
   "cell_type": "code",
   "execution_count": 44,
   "metadata": {},
   "outputs": [],
   "source": [
    "PANEL_REG_A1 = \"svg/panel_reg_a1.svg\"\n",
    "PANEL_REG_A2 = \"svg/panel_reg_a2.svg\"\n",
    "PANEL_REG_B = \"svg/panel_reg_b.svg\"\n",
    "PANEL_REG_C = \"svg/panel_reg_c.svg\"\n",
    "PANEL_REG_D1 = \"svg/panel_reg_d1.svg\"\n",
    "PANEL_REG_D2 = \"svg/panel_reg_d2.svg\"\n",
    "PANEL_REG_D3 = \"svg/panel_reg_d3.svg\"\n",
    "PANEL_REG_D4 = \"svg/panel_reg_d4.svg\"\n",
    "PANEL_REG_E = \"svg/panel_reg_e.svg\"\n",
    "PANEL_REG_F = \"svg/panel_reg_f.svg\"\n",
    "PANEL_REG_F_alt = \"svg/panel_reg_f_alt.svg\"\n",
    "PANEL_REG_G = \"svg/panel_reg_g.svg\"\n",
    "PANEL_REG_H = \"svg/panel_reg_h.svg\"\n",
    "PANEL_REG_G2 = \"svg/panel_reg_g2.svg\"\n",
    "PANEL_REG_H2 = \"svg/panel_reg_h2.svg\"\n",
    "PANEL_quality_of_approx_NN = \"svg/panel_quality_of_approx_NN.svg\"\n",
    "PANEL_NN_REG = \"../../fig4_sensitivity/svg/panel_nn_reg.svg\""
   ]
  },
  {
   "cell_type": "code",
   "execution_count": 85,
   "metadata": {},
   "outputs": [
    {
     "data": {
      "text/html": [
       "<img src=\"fig/fig2.svg\" / >"
      ],
      "text/plain": [
       "<IPython.core.display.HTML object>"
      ]
     },
     "metadata": {},
     "output_type": "display_data"
    }
   ],
   "source": [
    "from svgutils.compose import *\n",
    "\n",
    "# > Inkscape pixel is 1/90 of an inch, other software usually uses 1/72.\n",
    "# > http://www.inkscapeforum.com/viewtopic.php?f=6&t=5964\n",
    "svg_scale = 1.25  # set this to 1.25 for Inkscape, 1.0 otherwise\n",
    "factor_svg=5.5\n",
    "\n",
    "# Panel letters in Helvetica Neue, 12pt, Medium\n",
    "kwargs_text = {'size': '12pt', 'font': 'Arial', 'weight': '800'}\n",
    "kwargs_consistent = {'size': '10pt', 'font': 'Arial', 'weight': '500', 'color': '#AF99EF'}\n",
    "kwargs_consistent1 = {'size': '10pt', 'font': 'Arial', 'weight': '500', 'color': '#9E7DD5'}\n",
    "kwargs_inconsistent = {'size': '10pt', 'font': 'Arial', 'weight': '500', 'color': '#AF99EF'}\n",
    "kwargs_text8pt = {'size': '7.7pt', 'font': 'Arial'}\n",
    "kwargs_text8pt_white = {'size': '7.7pt', 'font': 'Arial', 'color': '#FFFFFF'}\n",
    "\n",
    "sizefactor = 1.0\n",
    "dshift = 0.5*factor_svg\n",
    "\n",
    "f = Figure(\"20.3cm\", \"10.2cm\",\n",
    "\n",
    "   Panel(\n",
    "        SVG('svg/panel_experimental.svg').scale(svg_scale),\n",
    "        Text(\"a\", -1.3*factor_svg, 4.3*factor_svg, **kwargs_text),\n",
    "    ).move(1.3*factor_svg, -1.5*factor_svg),\n",
    "\n",
    "    Panel(\n",
    "        SVG('svg/outline.svg').scale(svg_scale),\n",
    "        Text(\"b\", -4.3*factor_svg, 1.3*factor_svg, **kwargs_text),\n",
    "    ).move(35.1*factor_svg, 1.5*factor_svg),\n",
    "\n",
    "    Panel(\n",
    "        SVG('svg/panel_a.svg').scale(svg_scale),\n",
    "        Text(\"c\", 0*factor_svg, 1.3*factor_svg, **kwargs_text),\n",
    "    ).move(117.0*factor_svg, 1.5*factor_svg),\n",
    "\n",
    "    Panel(\n",
    "          SVG(PANEL_REG_B).scale(svg_scale).move(0, 0*factor_svg),\n",
    "          Text(\"d\", -3.0*factor_svg, 1.6*factor_svg, **kwargs_text),\n",
    "          Text(\"inactive\", 15.0*factor_svg, 6.0*factor_svg, **kwargs_text8pt),\n",
    "          Text(\"active\", 13.0*factor_svg, 14.2*factor_svg, **kwargs_text8pt),\n",
    "    ).move(3*factor_svg, 24.9*factor_svg),\n",
    "\n",
    "    Panel(\n",
    "          SVG('svg/panel_all_influences.svg').scale(svg_scale).move(0, 0*factor_svg),\n",
    "          Text(\"e\", -1.5*factor_svg, 0.8*factor_svg, **kwargs_text),\n",
    "    ).move(40.5*factor_svg, 25.7*factor_svg),\n",
    "\n",
    "    Panel(\n",
    "          SVG(PANEL_REG_F_alt).scale(svg_scale).move(0, 0*factor_svg),\n",
    "          Text(\"f\", -1*factor_svg, 1.5*factor_svg, **kwargs_text),\n",
    "    ).move(106.0*factor_svg, 25.0*factor_svg),\n",
    "\n",
    "    Panel(\n",
    "        SVG('svg/panel_c0.svg').scale(svg_scale),\n",
    "        Text(\"g\", -0.5*factor_svg, 1.1*factor_svg, **kwargs_text),\n",
    "    ).move(0.5*factor_svg, 48.5*factor_svg),\n",
    "           \n",
    "    Panel(\n",
    "        SVG(PANEL_C0_CBAR).scale(svg_scale),\n",
    "    ).move(19.2*factor_svg, 49.0*factor_svg),\n",
    "\n",
    "    Panel(\n",
    "        SVG('svg/panel_c1.svg').scale(svg_scale),\n",
    "        Text(\"h\", -1.7*factor_svg, 1.1*factor_svg, **kwargs_text),\n",
    "    ).move(28.3*factor_svg, 48.5*factor_svg),\n",
    "\n",
    "    Panel(\n",
    "        SVG(PANEL_C_CBAR).scale(svg_scale),\n",
    "    ).move(47.3*factor_svg, 49.2*factor_svg),\n",
    "\n",
    "    Panel(\n",
    "        SVG('svg/panel_c3.svg').scale(svg_scale),\n",
    "        Text(\"i\", -0.7*factor_svg, 1.1*factor_svg, **kwargs_text),\n",
    "    ).move(60.3*factor_svg, 47.7*factor_svg),\n",
    "    Panel(\n",
    "        SVG('svg/panel_c2.svg').scale(svg_scale),\n",
    "    ).move(86.3*factor_svg, 47.8*factor_svg),\n",
    ")\n",
    "\n",
    "!mkdir -p fig\n",
    "f.save(\"fig/fig2.svg\")\n",
    "svg('fig/fig2.svg')"
   ]
  },
  {
   "cell_type": "code",
   "execution_count": 412,
   "metadata": {},
   "outputs": [
    {
     "data": {
      "text/html": [
       "<img src=\"fig/fig2.svg\" / >"
      ],
      "text/plain": [
       "<IPython.core.display.HTML object>"
      ]
     },
     "metadata": {},
     "output_type": "display_data"
    }
   ],
   "source": [
    "from svgutils.compose import *\n",
    "\n",
    "# > Inkscape pixel is 1/90 of an inch, other software usually uses 1/72.\n",
    "# > http://www.inkscapeforum.com/viewtopic.php?f=6&t=5964\n",
    "svg_scale = 1.25  # set this to 1.25 for Inkscape, 1.0 otherwise\n",
    "factor_svg=5.5\n",
    "\n",
    "# Panel letters in Helvetica Neue, 12pt, Medium\n",
    "kwargs_text = {'size': '12pt', 'font': 'Arial', 'weight': '800'}\n",
    "kwargs_consistent = {'size': '10pt', 'font': 'Arial', 'weight': '500', 'color': '#AF99EF'}\n",
    "kwargs_consistent1 = {'size': '10pt', 'font': 'Arial', 'weight': '500', 'color': '#9E7DD5'}\n",
    "kwargs_inconsistent = {'size': '10pt', 'font': 'Arial', 'weight': '500', 'color': '#AF99EF'}\n",
    "kwargs_text8pt = {'size': '7.7pt', 'font': 'Arial'}\n",
    "kwargs_text8pt_white = {'size': '7.7pt', 'font': 'Arial', 'color': '#FFFFFF'}\n",
    "\n",
    "sizefactor = 1.0\n",
    "dshift = 0.5*factor_svg\n",
    "\n",
    "f = Figure(\"20.3cm\", \"10.7cm\",\n",
    "\n",
    "   Panel(\n",
    "        SVG('svg/panel_experimental.svg').scale(svg_scale),\n",
    "        Text(\"a\", -1.3*factor_svg, 4.3*factor_svg, **kwargs_text),\n",
    "    ).move(1.3*factor_svg, -1.5*factor_svg),\n",
    "\n",
    "    Panel(\n",
    "        SVG('svg/outline.svg').scale(svg_scale),\n",
    "        Text(\"b\", -4.3*factor_svg, 1.3*factor_svg, **kwargs_text),\n",
    "    ).move(35.1*factor_svg, 1.5*factor_svg),\n",
    "\n",
    "    Panel(\n",
    "        SVG('svg/panel_a.svg').scale(svg_scale),\n",
    "        Text(\"c\", 0*factor_svg, 1.3*factor_svg, **kwargs_text),\n",
    "    ).move(117.0*factor_svg, 1.5*factor_svg),\n",
    "           \n",
    "    Panel(\n",
    "          SVG(PANEL_REG_A1).scale(svg_scale).move(0, 0*factor_svg),\n",
    "          Text(\"d\", -2.0*factor_svg, 1.5*factor_svg, **kwargs_text),\n",
    "    ).move(2*factor_svg, 25*factor_svg),\n",
    "\n",
    "    Panel(\n",
    "          SVG(PANEL_REG_A2).scale(svg_scale).move(0, 0*factor_svg),\n",
    "    ).move(30.2*factor_svg, 25.7*factor_svg),\n",
    "\n",
    "    Panel(\n",
    "          SVG(PANEL_REG_B).scale(svg_scale).move(0, 0*factor_svg),\n",
    "          Text(\"e\", -2.0*factor_svg, 1.6*factor_svg, **kwargs_text),\n",
    "          Text(\"inactive\", 15.0*factor_svg, 6.0*factor_svg, **kwargs_text8pt),\n",
    "          Text(\"active\", 13.0*factor_svg, 14.2*factor_svg, **kwargs_text8pt),\n",
    "    ).move(55*factor_svg, 24.9*factor_svg),\n",
    "\n",
    "    Panel(\n",
    "          SVG('svg/panel_all_influences.svg').scale(svg_scale).move(0, 0*factor_svg),\n",
    "          Text(\"f\", -.5*factor_svg, 0.8*factor_svg, **kwargs_text),\n",
    "    ).move(89.6*factor_svg, 25.7*factor_svg),\n",
    "\n",
    "#     Panel(\n",
    "#           SVG(PANEL_REG_F_alt).scale(svg_scale).move(0, 0*factor_svg),\n",
    "#           Text(\"e\", -1*factor_svg, 1.5*factor_svg, **kwargs_text),\n",
    "#     ).move(106.0*factor_svg, 25.0*factor_svg),\n",
    "\n",
    "    Panel(\n",
    "        SVG('svg/panel_c0.svg').scale(svg_scale),\n",
    "        Text(\"g\", -1.7*factor_svg, 1.5*factor_svg, **kwargs_text),\n",
    "    ).move(1.7*factor_svg, 50.1*factor_svg),\n",
    "           \n",
    "    Panel(\n",
    "        SVG(PANEL_C0_CBAR).scale(svg_scale),\n",
    "    ).move(23.8*factor_svg, 51.2*factor_svg),\n",
    "\n",
    "    Panel(\n",
    "        SVG('svg/panel_c1.svg').scale(svg_scale),\n",
    "        Text(\"h\", -1.7*factor_svg, 1.1*factor_svg, **kwargs_text),\n",
    "    ).move(35.3*factor_svg, 50.5*factor_svg),\n",
    "\n",
    "    Panel(\n",
    "        SVG(PANEL_C_CBAR).scale(svg_scale),\n",
    "    ).move(57.3*factor_svg, 51.2*factor_svg),\n",
    "\n",
    "    Panel(\n",
    "        SVG('svg/panel_c3.svg').scale(svg_scale),\n",
    "        Text(\"i\", -0.7*factor_svg, -0.1*factor_svg, **kwargs_text),\n",
    "    ).move(71.3*factor_svg, 51.7*factor_svg),\n",
    "    Panel(\n",
    "        SVG('svg/panel_c2.svg').scale(svg_scale),\n",
    "    ).move(110.3*factor_svg, 51.8*factor_svg),\n",
    ")\n",
    "\n",
    "!mkdir -p fig\n",
    "f.save(\"fig/fig2.svg\")\n",
    "svg('fig/fig2.svg')"
   ]
  },
  {
   "cell_type": "code",
   "execution_count": null,
   "metadata": {},
   "outputs": [],
   "source": []
  },
  {
   "cell_type": "code",
   "execution_count": null,
   "metadata": {},
   "outputs": [],
   "source": []
  }
 ],
 "metadata": {
  "kernelspec": {
   "display_name": "sbi_prinz",
   "language": "python",
   "name": "sbi_prinz"
  },
  "language_info": {
   "codemirror_mode": {
    "name": "ipython",
    "version": 3
   },
   "file_extension": ".py",
   "mimetype": "text/x-python",
   "name": "python",
   "nbconvert_exporter": "python",
   "pygments_lexer": "ipython3",
   "version": "3.8.5"
  }
 },
 "nbformat": 4,
 "nbformat_minor": 4
}
