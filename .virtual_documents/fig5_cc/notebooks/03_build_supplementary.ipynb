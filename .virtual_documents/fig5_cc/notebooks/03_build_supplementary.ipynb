get_ipython().run_line_magic("load_ext", " autoreload")
get_ipython().run_line_magic("autoreload", " 2")


import pickle
import matplotlib as mpl
import matplotlib.pyplot as plt
import sys
sys.path.append("../model/")
sys.path.append('../../')

import helpers
import viz


PANEL_X1 = '../svg/panel_x1.svg'
PANEL_X2 = '../svg/panel_x2.svg'
PANEL_X3 = '../svg/panel_x3.svg'
PANEL_Y1 = '../svg/panel_y1.svg'
PANEL_Y2 = '../svg/panel_y2.svg'
PANEL_Y3 = '../svg/panel_y3.svg'
PANEL_Y4 = '../svg/panel_y4.svg'
PANEL_Y5 = '../svg/panel_y5.svg'
PANEL_Z1 = '../svg/panel_z1.svg'
PANEL_Z2 = '../svg/panel_z2.svg'
PANEL_Z3 = '../svg/panel_z3.svg'
PANEL_Z4 = '../svg/panel_z4.svg'
PANEL_Z5 = '../svg/panel_z5.svg'


with open('../../results/conditional_correlation_energy/200703_PM_all_stored_data_from_energy_all_conditional_correlations.pickle', 'rb') as handle:
    all_conditional_correlations = pickle.load(handle)
with open('../../results/conditional_correlation_energy/200703_PM_all_stored_data_from_energy_all_energy_images.pickle', 'rb') as handle:
    all_energy_images = pickle.load(handle)
with open('../../results/conditional_correlation_energy/200703_PM_all_stored_data_from_energy_all_energy_per_spike.pickle', 'rb') as handle:
    all_energy_per_spike = pickle.load(handle)
with open('../../results/conditional_correlation_energy/200703_PM_all_stored_data_from_energy_all_num_spikes_per_burst.pickle', 'rb') as handle:
    all_num_spikes_per_burst = pickle.load(handle)
with open('../../results/conditional_correlation_energy/200703_PM_all_stored_data_from_energy_all_spike_width.pickle', 'rb') as handle:
    all_spike_width = pickle.load(handle)


with mpl.rc_context(fname='../../.matplotlibrc'):
    viz.energy_matrix(all_energy_images, figsize=(7,7))
    #plt.savefig(PANEL_X1, facecolor='None', transparent=True)
    plt.show()


with mpl.rc_context(fname='../../.matplotlibrc'):
    viz.energy_gain_matrix(all_energy_per_spike, figsize=(1.9, 1.9), title='AB/PD', lims=[0, 70])
    #plt.savefig(PANEL_Y1, facecolor='None', transparent=True)
    plt.show()


with mpl.rc_context(fname='../../.matplotlibrc'):
    viz.energy_gain_matrix(all_num_spikes_per_burst, figsize=(1.9, 1.9), title='AB/PD', lims=[0, 70])
    #plt.savefig(PANEL_Z1, facecolor='None', transparent=True)
    plt.show()


with open('../../results/conditional_correlation_energy/200703_LP_all_stored_data_from_energy_all_conditional_correlations.pickle', 'rb') as handle:
    all_conditional_correlations = pickle.load(handle)
with open('../../results/conditional_correlation_energy/200703_LP_all_stored_data_from_energy_all_energy_images.pickle', 'rb') as handle:
    all_energy_images = pickle.load(handle)
with open('../../results/conditional_correlation_energy/200703_LP_all_stored_data_from_energy_all_energy_per_spike.pickle', 'rb') as handle:
    all_energy_per_spike = pickle.load(handle)
with open('../../results/conditional_correlation_energy/200703_LP_all_stored_data_from_energy_all_num_spikes_per_burst.pickle', 'rb') as handle:
    all_num_spikes_per_burst = pickle.load(handle)
with open('../../results/conditional_correlation_energy/200703_LP_all_stored_data_from_energy_all_spike_width.pickle', 'rb') as handle:
    all_spike_width = pickle.load(handle)


with mpl.rc_context(fname='../../.matplotlibrc'):
    viz.energy_matrix(all_energy_images, figsize=(7,7))
    #plt.savefig(PANEL_X2, facecolor='None', transparent=True)
    plt.show()


with mpl.rc_context(fname='../../.matplotlibrc'):
    viz.energy_gain_matrix(all_energy_per_spike, figsize=(1.9, 1.9), title='LP', lims=[0, 70])
    #plt.savefig(PANEL_Y2, facecolor='None', transparent=True)
    plt.show()


with mpl.rc_context(fname='../../.matplotlibrc'):
    viz.energy_gain_matrix(all_num_spikes_per_burst, figsize=(1.9, 1.9), title='LP', lims=[0, 70])
    #plt.savefig(PANEL_Z2, facecolor='None', transparent=True)
    plt.show()


with open('../../results/conditional_correlation_energy/200703_PY_all_stored_data_from_energy_all_conditional_correlations.pickle', 'rb') as handle:
    all_conditional_correlations = pickle.load(handle)
with open('../../results/conditional_correlation_energy/200703_PY_all_stored_data_from_energy_all_energy_images.pickle', 'rb') as handle:
    all_energy_images = pickle.load(handle)
with open('../../results/conditional_correlation_energy/200703_PY_all_stored_data_from_energy_all_energy_per_spike.pickle', 'rb') as handle:
    all_energy_per_spike = pickle.load(handle)
with open('../../results/conditional_correlation_energy/200703_PY_all_stored_data_from_energy_all_num_spikes_per_burst.pickle', 'rb') as handle:
    all_num_spikes_per_burst = pickle.load(handle)
with open('../../results/conditional_correlation_energy/200703_PY_all_stored_data_from_energy_all_spike_width.pickle', 'rb') as handle:
    all_spike_width = pickle.load(handle)


with mpl.rc_context(fname='../../.matplotlibrc'):
    viz.energy_matrix(all_energy_images, figsize=(7,7))
    #plt.savefig(PANEL_X3, facecolor='None', transparent=True)
    plt.show()


with mpl.rc_context(fname='../../.matplotlibrc'):
    viz.energy_gain_matrix(all_energy_per_spike, figsize=(1.9, 1.9), title='PY', lims=[0, 70])
    #plt.savefig(PANEL_Y3, facecolor='None', transparent=True)
    plt.show()


with mpl.rc_context(fname='../../.matplotlibrc'):
    viz.energy_gain_matrix(all_num_spikes_per_burst, figsize=(1.9, 1.9), title='PY', lims=[0, 70])
    #plt.savefig(PANEL_Z3, facecolor='None', transparent=True)
    plt.show()


with open('../../results/conditional_correlation_energy/200703_Synapses_all_stored_data_from_energy_all_conditional_correlations.pickle', 'rb') as handle:
    all_conditional_correlations = pickle.load(handle)
with open('../../results/conditional_correlation_energy/200703_Synapses_all_stored_data_from_energy_all_energy_images.pickle', 'rb') as handle:
    all_energy_images = pickle.load(handle)
with open('../../results/conditional_correlation_energy/200703_Synapses_all_stored_data_from_energy_all_energy_per_spike.pickle', 'rb') as handle:
    all_energy_per_spike = pickle.load(handle)
with open('../../results/conditional_correlation_energy/200703_Synapses_all_stored_data_from_energy_all_num_spikes_per_burst.pickle', 'rb') as handle:
    all_num_spikes_per_burst = pickle.load(handle)
with open('../../results/conditional_correlation_energy/200703_Synapses_all_stored_data_from_energy_all_spike_width.pickle', 'rb') as handle:
    all_spike_width = pickle.load(handle)


with mpl.rc_context(fname='../../.matplotlibrc'):
    viz.energy_gain_matrix_syn(all_energy_per_spike, figsize=(1.9, 1.9), title='Synapses', lims=[0, 70])
    #plt.savefig(PANEL_Y4, facecolor='None', transparent=True)
    plt.show()


with mpl.rc_context(fname='../../.matplotlibrc'):
    im=viz.energy_gain_matrix_syn(all_num_spikes_per_burst, figsize=(1.9, 1.9), title='Synapses', lims=[0, 70])
    #plt.savefig(PANEL_Z4, facecolor='None', transparent=True)
    plt.show()


with mpl.rc_context(fname='../../.matplotlibrc'):

    # draw a new figure and replot the colorbar there
    fig,ax = plt.subplots(figsize=(1.9,1.9))
    cb = plt.colorbar(im,ax=ax, aspect=30)

    #cb.outline.set_color('white')
    
    cb.outline.set_edgecolor('k')
    cb.outline.set_linewidth(0.2)

    cb.set_ticks([0., 70])  # vertically oriented colorbar
    cb.ax.set_yticklabels(['0 %', '70 %'])  # vertically oriented colorbar
                           
    cb.ax.set_ylabel('pot. E per spike savings')
    cb.ax.yaxis.labelpad = -10
    
    ax.remove()
    #plt.savefig(PANEL_Y5, facecolor='None', transparent=True)
    plt.show()


with mpl.rc_context(fname='../../.matplotlibrc'):

    # draw a new figure and replot the colorbar there
    fig,ax = plt.subplots(figsize=(1.9,1.9))
    cb = plt.colorbar(im,ax=ax, aspect=30)

    #cb.outline.set_color('white')
    
    cb.outline.set_edgecolor('k')
    cb.outline.set_linewidth(0.2)

    cb.set_ticks([0., 70])  # vertically oriented colorbar
    cb.ax.set_yticklabels(['0 %', '70 %'])  # vertically oriented colorbar
                           
    cb.ax.set_ylabel('pot. #spikes savings')
    cb.ax.yaxis.labelpad = -10
    
    ax.remove()
    #plt.savefig(PANEL_Z5, facecolor='None', transparent=True)
    plt.show()


import time
import IPython.display as IPd

def svg(img):
    IPd.display(IPd.HTML('<img src="{}" / >'.format(img, time.time())))


from svgutils.compose import *

# > Inkscape pixel is 1/90 of an inch, other software usually uses 1/72.
# > http://www.inkscapeforum.com/viewtopic.php?f=6&t=5964
svg_scale = 1.25  # set this to 1.25 for Inkscape, 1.0 otherwise
factor_svg=5.5

# Panel letters in Helvetica Neue, 12pt, Medium
kwargs_text = {'size': '12pt', 'font': 'Arial', 'weight': '800'}
kwargs_consistent = {'size': '10pt', 'font': 'Arial', 'weight': '500', 'color': '#AF99EF'}
kwargs_consistent1 = {'size': '10pt', 'font': 'Arial', 'weight': '500', 'color': '#9E7DD5'}
kwargs_inconsistent = {'size': '10pt', 'font': 'Arial', 'weight': '500', 'color': '#AF99EF'}
kwargs_text8pt = {'size': '7.7pt', 'font': 'Arial'}

sizefactor = 1.0
dshift = 0.5*factor_svg

f = Figure("20.3cm", "10.5cm",

    Panel(
          SVG(PANEL_Y1).scale(svg_scale),
          Text("a", 0*factor_svg, 2*factor_svg, **kwargs_text),
    ).move(0*factor_svg, 0.4*factor_svg),
           
    Panel(
          SVG(PANEL_Y2).scale(svg_scale),
    ).move(32*factor_svg, 0.4*factor_svg),
           
    Panel(
          SVG(PANEL_Y3).scale(svg_scale),
    ).move(64*factor_svg, 0.4*factor_svg),
           
    Panel(
          SVG(PANEL_Y4).scale(svg_scale),
    ).move(96*factor_svg, 0.4*factor_svg),
           
    Panel(
          SVG(PANEL_Y5).scale(svg_scale),
    ).move(131*factor_svg, 3.4*factor_svg),
           
    Panel(
          SVG(PANEL_Z1).scale(svg_scale),
          Text("b", 0*factor_svg, 2*factor_svg, **kwargs_text),
    ).move(0*factor_svg, 37.*factor_svg),
           
    Panel(
          SVG(PANEL_Z2).scale(svg_scale),
    ).move(32*factor_svg, 37.*factor_svg),
           
    Panel(
          SVG(PANEL_Z3).scale(svg_scale),
    ).move(64*factor_svg, 37.*factor_svg),
           
    Panel(
          SVG(PANEL_Z4).scale(svg_scale),
    ).move(96*factor_svg, 37.*factor_svg),
           
    Panel(
          SVG(PANEL_Y5).scale(svg_scale),
    ).move(131*factor_svg, 40.*factor_svg),
    
)

get_ipython().getoutput("mkdir -p fig")
f.save("../fig/fig5_supp2.svg")
svg('../fig/fig5_supp2.svg')



