import numpy as np
import matplotlib.pylab as plt
import time
from copy import deepcopy

import importlib
import matplotlib as mpl
import matplotlib.patches as mp

from pyloric import create_prior, simulate, stats, wrapper, get_time
from stg_energy.common import col, svg, plot_pdf, samples_nd, get_labels_8pt
import stg_energy.fig1_posterior.viz as viz


get_ipython().run_line_magic("load_ext", " autoreload")
get_ipython().run_line_magic("autoreload", " 2")


PANEL_A = '../svg/panel_a.svg'
PANEL_B = '../svg/panel_b.svg'
PANEL_C = '../svg/panel_c.svg'
PANEL_D = '../svg/panel_d.svg'


outfile = '../../results/11deg_post_pred/11_deg_post_pred_close_to_obs.npz'
data_n = np.load(outfile)
sample_seeds = data_n["sample_seeds"]
sample_params = data_n["sample_params"]
sample_stats = data_n["sample_stats"]
print('There are', len(sample_seeds), 'datapoints in this dataset')

stats_mean = np.mean(sample_stats, axis=0)
stats_std  = np.std(sample_stats, axis=0)


prior = create_prior(log=True)
dimensions = 31
lims = np.asarray([-np.sqrt(3)*np.ones(dimensions), np.sqrt(3)*np.ones(dimensions)]).T


params_mean = prior.mean.numpy()
params_std = prior.stddev.numpy()


sample_params_norm = (sample_params - params_mean) / params_std


npz = np.load('../../results/experimental_data/trace_data_845_082_0044.npz')
t = npz['t']
PD_spikes = npz['PD_spikes']
LP_spikes = npz['LP_spikes']
PY_spikes = npz['PY_spikes']
pdn = npz['pdn']
lpn = npz['lpn']
pyn = npz['pyn']


start_index = 219500 + 2100
end_index   = 246500 + 2100  # 32000
height_offset = 200
shown_t = t[end_index] - t[start_index]
time_len = shown_t / 0.025 * 1000
dt = t[1] - t[0]


with mpl.rc_context(fname='../../.matplotlibrc'):
    fig, ax = plt.subplots(1,1,figsize=(2.87, 2.08*3/4)) # (2.87, 2.08*3/4)
    ax.plot(t[start_index:end_index], 2.5+pdn[start_index:end_index]*0.007, c=col['GT'], lw=0.8)
    ax.plot(t[start_index:end_index], 1.2+lpn[start_index:end_index]*0.25, c=col['GT'], lw=0.8)
    ax.plot(t[start_index:end_index], -0.1+pyn[start_index:end_index]*0.013, c=col['GT'], lw=0.8)
    
    linew = 0.4
    headl = 0.06
    headw = 0.16
    linelen = 0.17
    circlefact = 0.8
    
    # period arrow
    height1 = 3.2
    plt.arrow(t[start_index]+0.6, height1, 1.15, 0,  shape='full', head_width=headw, head_length=headl, length_includes_head=True, color='k', lw=linew)
    plt.arrow(t[start_index]+1.75, height1, -1.15, 0,  shape='full', head_width=headw, head_length=headl, length_includes_head=True, color='k', lw=linew)
    plt.plot([t[start_index]+0.6, t[start_index]+0.6], [height1-linelen,height1+linelen], c='k', lw=linew*1.5)
    plt.plot([t[start_index]+1.75, t[start_index]+1.75], [height1-linelen,height1+linelen], c='k', lw=linew*1.5)
    #patch =mp.Ellipse((t[start_index]+1.2, 3.65), 0.2*circlefact,0.6*circlefact, color='lightgray')
    #ax.add_patch(patch)
    
    # delay arrow
    height2 = 1.64
    plt.arrow(t[start_index]+0.6, height2, 0.48, 0,  shape='full', head_width=headw, head_length=headl, length_includes_head=True, color='k', lw=linew)
    plt.arrow(t[start_index]+1.08, height2, -0.48, 0,  shape='full', head_width=headw, head_length=headl, length_includes_head=True, color='k', lw=linew)
    plt.plot([t[start_index]+0.6, t[start_index]+0.6], [height2-linelen,height2+linelen], c='k', lw=linew*1.5)
    plt.plot([t[start_index]+1.08, t[start_index]+1.08], [height2-linelen,height2+linelen], c='k', lw=linew*1.5)
    #patch =mp.Ellipse((t[start_index]+0.94, 2.1), 0.2*circlefact,0.6*circlefact, color='lightgray')
    #ax.add_patch(patch)
    
    # gap arrow
    plt.arrow(t[start_index]+1.98, height2, 0.27, 0,  shape='full', head_width=headw, head_length=headl, length_includes_head=True, color='k', lw=linew)
    plt.arrow(t[start_index]+2.25, height2, -0.27, 0,  shape='full', head_width=headw, head_length=headl, length_includes_head=True, color='k', lw=linew)
    plt.plot([t[start_index]+1.98, t[start_index]+1.98], [height2-linelen,height2+linelen], c='k', lw=linew*1.5)
    plt.plot([t[start_index]+2.25, t[start_index]+2.25], [height2-linelen,height2+linelen], c='k', lw=linew*1.5)
    #patch =mp.Ellipse((t[start_index]+2.1, 2.1), 0.2*circlefact,0.6*circlefact, color='lightgray')
    #ax.add_patch(patch)
    
    # duration arrow
    height4 = 0.44
    plt.arrow(t[start_index]+1.33, height4, 0.43, 0,  shape='full', head_width=headw, head_length=headl, length_includes_head=True, color='k', lw=linew)
    plt.arrow(t[start_index]+1.76, height4, -0.43, 0,  shape='full', head_width=headw, head_length=headl, length_includes_head=True, color='k', lw=linew)
    plt.plot([t[start_index]+1.33, t[start_index]+1.33], [height4-linelen,height4+linelen], c='k', lw=linew*1.5)
    plt.plot([t[start_index]+1.76, t[start_index]+1.76], [height4-linelen,height4+linelen], c='k', lw=linew*1.5)
    #patch =mp.Ellipse((t[start_index]+1.55, 0.9), radius=0.2, color='lightgray')
    #ax.add_patch(patch)
    

    ax.spines['right'].set_visible(False)
    ax.spines['top'].set_visible(False)
    ax.spines['bottom'].set_visible(False)
    ax.spines['left'].set_visible(False)
    ax.axes.get_yaxis().set_ticks([])
    ax.axes.get_xaxis().set_ticks([])
    ax.get_yaxis().set_visible(False)
    ax.set_ylim([-0.95, 4.0])
    
    duration = 0.5
    number_of_timesteps = int(duration / dt)
    t_scale = np.linspace(t[start_index], t[start_index + number_of_timesteps], 2)
    
    ax.plot(t_scale, -0.8 * np.ones_like(t_scale), c='k', lw=1.0)
    
    #plt.savefig(PANEL_B, facecolor='None', transparent=True)
    plt.show()


from decimal import Decimal
all_labels = []
for dim_i in range(31):
    if dim_i > len(params_mean) - 7.5: # synapses
        if dim_i == 24: all_labels.append([r'$\mathdefault{0.01}$ ', r'$\mathdefault{10000}\;\;\;\;$  '])
        else: all_labels.append([r'$\;\;\mathdefault{0.01}$', r'$\mathdefault{1000}\;\;\;\;$ '])
    else: # membrane conductances
        num_after_digits = -int(np.log10(lims[dim_i, 1] * params_std[dim_i] + params_mean[dim_i]))
        if num_after_digits > 2:
            num_after_digits=2
        labels = [round(Decimal((lims[dim_i, num_tmp] * params_std[dim_i] + params_mean[dim_i]) / 0.628e-3), num_after_digits)
                  for num_tmp in range(2)]
        new_labels = []
        counter=0
        for l in labels:
            if counter == 0:
                new_labels.append(r'$\mathdefault{'+str(l)+'}$')
            else:
                new_labels.append(r'$\mathdefault{'+str(l)+'}\;\;\;$ ')
            counter+=1
        all_labels.append(new_labels)


import matplotlib.patheffects as pe

with mpl.rc_context(fname='../../.matplotlibrc'):

    labels_ = get_labels_8pt()
    labels_[9] += ''

    fig, axes = samples_nd(samples=[sample_params_norm[:10000]],
                           subset=[2,4,10,19,24,25,26,28],
                           limits=lims,
                           ticks=lims,
                           tick_labels=all_labels,
                           fig_size=(17.0*0.2435,17.0*0.2435),
                           labels=labels_,
                           #points=[start_point, end_point],
                           scatter_offdiag={'rasterized':True, 'alpha':1.0},
                           #points_offdiag={'marker':'o', 'markeredgecolor':'w', 'markersize':3.6, 'markeredgewidth':0.5, 'path_effects':[pe.Stroke(linewidth=1.2, foreground='k'), pe.Normal()]},
                           #points_colors=[col['CONSISTENT1'], col['CONSISTENT2']],
                           samples_colors=[col['SNPE']],
                           diag=['kde'],
                           upper=['kde'],
                           hist_offdiag={'bins':50},
                           plot_offdiag={'linewidth': 1.6, 'path_effects':[pe.Stroke(linewidth=2.4, foreground='k'), pe.Normal()]})
    
    #plt.savefig(PANEL_C, facecolor='None', transparent=True)
    plt.show()


all_traces = []
for parameter_index in range(6):
    all_traces.append(simulate(deepcopy(sample_params[parameter_index]),
                      seed=sample_seeds[parameter_index]))


#labels_ = viz.get_labels_8pt(params)
offsets = [39000, 89000, 45000, 39000, 39000, 79000]
# #offsets[0] = 47000
# offsets[1] = 83500 # 75500
# offsets[2] = 29000 # 21000
# offsets[3] = 40500 # 40500

with mpl.rc_context(fname='../../.matplotlibrc'):

    fig = viz.viz_path_and_samples_abstract_twoRows(
        traces=all_traces,
        t=get_time(),
        figsize=(5.87, 3.0), offsets=offsets,
        mycols=col, time_len=int(time_len),
    )
    
    plt.savefig(PANEL_D, facecolor='None', transparent=True, dpi=300, bbox_inches='tight')
    plt.show()


color_mixture1 = 0.33 * np.asarray(list(col['CONSISTENT1'])) + 0.67 * np.asarray(
    list(col['CONSISTENT2']))
color_mixture2 = 0.67 * np.asarray(list(col['CONSISTENT1'])) + 0.33 * np.asarray(
    list(col['CONSISTENT2']))


import time
import IPython.display as IPd

def svg(img):
    IPd.display(IPd.HTML('<img src="{}" / >'.format(img, time.time())))


from svgutils.compose import *

# > Inkscape pixel is 1/90 of an inch, other software usually uses 1/72.
# > http://www.inkscapeforum.com/viewtopic.php?f=6&t=5964
svg_scale = 1.25  # set this to 1.25 for Inkscape, 1.0 otherwise
factor_svg=5.5

# Panel letters in Helvetica Neue, 12pt, Medium
kwargs_text = {'size': '12pt', 'font': 'Arial', 'weight': '800'}
kwargs_consistent = {'size': '10pt', 'font': 'Arial', 'weight': '500', 'color': '#AF99EF'}
kwargs_consistent1 = {'size': '10pt', 'font': 'Arial', 'weight': '500', 'color': '#9E7DD5'}
kwargs_inconsistent = {'size': '10pt', 'font': 'Arial', 'weight': '500', 'color': '#AF99EF'}
kwargs_text8pt = {'size': '7.7pt', 'font': 'Arial'}

startx1 = 492
startx2 = 594
starty1 = 204
starty2 = 307

endx1 = 642
endx2 = 673
endy1 = 159
endy2 = 191

deltax1 =  endx1-startx1
deltax2 =  endx2-startx2
deltay1 =  endy1-starty1
deltay2 =  endy2-starty2

sizefactor = 1.0
dshift = 0.5*factor_svg

f = Figure("20.3cm", "9.1cm",

    #Line(((startx1,starty1+dshift),(startx1+deltax1*sizefactor,starty1+dshift+deltay1*sizefactor)), width=1.5, color='grey'),
    #Line(((startx2,starty2+dshift),(startx2+deltax2*sizefactor,starty2+dshift+deltay2*sizefactor)), width=1.5, color='grey'),
           
    Panel(
          SVG(PANEL_A).scale(svg_scale).scale(0.9).move(0, 15*factor_svg),
          Text("a", -2.7*factor_svg, 16.9*factor_svg-dshift, **kwargs_text),
    ).move(2.7*factor_svg, -14.4*factor_svg+dshift),
           
    Panel(
        SVG(PANEL_B).scale(svg_scale).move(0*factor_svg, 0*factor_svg),
        Text("b", -6.0*factor_svg, 5*factor_svg-dshift, **kwargs_text),
        Text("PD", -1.*factor_svg+0.0, 8.2*factor_svg, **kwargs_text8pt),
        Text("LP", -1.*factor_svg+0.0, 13.4*factor_svg, **kwargs_text8pt),
        Text("PY", -1.*factor_svg+0.0, 18.6*factor_svg, **kwargs_text8pt),
        
        #Text("Period", 15.5*factor_svg+0.0, 2.8*factor_svg, **kwargs_text8pt),
        #Text("Delay", 11.3*factor_svg+0.0, 9.6*factor_svg, **kwargs_text8pt),
        #Text("Gap", 27.5*factor_svg+0.0, 9.6*factor_svg, **kwargs_text8pt),
        #Text("Duration", 19.2*factor_svg+0.0, 13.8*factor_svg, **kwargs_text8pt),
        Text("1", 17.45*factor_svg+0.0, 4.5*factor_svg, **kwargs_text8pt),
        Text("2", 13.1*factor_svg+0.0, 10.6*factor_svg, **kwargs_text8pt),
        Text("3", 28.75*factor_svg+0.0, 10.6*factor_svg, **kwargs_text8pt),
        Text("4", 21.7*factor_svg+0.0, 15.4*factor_svg, **kwargs_text8pt),
        #Text("50 mV", 39.4*factor_svg, 25*factor_svg, **kwargs_text8pt),
        #Text("50 mV", 32.0*factor_svg, 4.8*factor_svg, **kwargs_text8pt),
        Text("500 ms", 3.2*factor_svg, 22.5*factor_svg, **kwargs_text8pt),
    ).move(37.8*factor_svg, -2.5*factor_svg+dshift),
    
    Panel(
          SVG(PANEL_C).scale(svg_scale).move(-10*factor_svg,0*factor_svg),
          Text("c", -11.5*factor_svg, 2.7*factor_svg-dshift, **kwargs_text),
    ).move(90.1*factor_svg, -0.2*factor_svg+dshift),
    
    Panel(
          SVG(PANEL_D).scale(svg_scale).move(0*factor_svg, 0*factor_svg),
          Text("d", 0*factor_svg, 3.5*factor_svg-dshift, **kwargs_text),
        #Text("1", 41.5*factor_svg, 4*factor_svg, **kwargs_consistent),
        Text("50 mV", 75.7*factor_svg, 4*factor_svg, **kwargs_text8pt),
        Text("500 ms", 69.0*factor_svg, 1.9*factor_svg, **kwargs_text8pt),
    ).move(0*factor_svg, 23.2*factor_svg+dshift)

)

get_ipython().getoutput("mkdir -p fig")
f.save("../fig/fig1.svg")
svg('../fig/fig1.svg')




























































