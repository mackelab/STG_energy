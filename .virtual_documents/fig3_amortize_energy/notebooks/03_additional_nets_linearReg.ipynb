import time

import IPython.display as IPd
import matplotlib as mpl
import matplotlib.pylab as plt
import numpy as np
import torch
from mpl_toolkits.axes_grid1 import make_axes_locatable

import stg_energy.fig3_amortize_energy.viz as viz
from pyloric import create_prior, get_time, simulate_energyscape, stats
from sbi.utils.regression_net.get_nn_classifier import classifier
from sbi.utils.regression_net.train_classifier import fit_regression_net
from stg_energy.common import col, get_labels_8pt, svg
from stg_energy.fig3_amortize_energy.helper_functions import (
    active_subspace,
    get_gradient,
)


get_ipython().run_line_magic("load_ext", " autoreload")
get_ipython().run_line_magic("autoreload", " 2")


PANEL_quality_of_approx_LinReg = "../svg/panel_quality_of_approx_LinReg.svg"
PANEL_REG_D1_lin = "../svg/panel_reg_d1_lin.svg"
PANEL_REG_D2_lin = "../svg/panel_reg_d2_lin.svg"
PANEL_REG_D3_lin = "../svg/panel_reg_d3_lin.svg"
PANEL_REG_D4_lin = "../svg/panel_reg_d4_lin.svg"
PANEL_quality_of_approx_NN = "../svg/panel_quality_of_approx_NN.svg"


prior_11 = create_prior(log=True)
dimensions_11 = 31
lims_11 = np.asarray(
    [-np.sqrt(3) * np.ones(dimensions_11), np.sqrt(3) * np.ones(dimensions_11)]
).T

params_mean_11 = prior_11.mean.numpy()
params_std_11 = prior_11.stddev.numpy()


data = np.load("../../results/11deg_post_pred/11_deg_post_pred_close_to_obs.npz")
good_stats = data["sample_stats"]
good_params = data["sample_params"]
good_seeds = data["sample_seeds"]


sample_params = good_params
sample_stats = good_stats
print("There are", len(good_seeds), "datapoints in this dataset")


sample_stats = data["sample_stats"]
sample_params = data["sample_params"]
sample_seeds = data["sample_seeds"]


energies = sample_stats[:, 21:24]
summed_energies = np.sum(energies, axis=1)


energies = torch.as_tensor(energies)
sample_stats = torch.as_tensor(sample_stats)


print(energies.shape)


num_test = 500

test_params = good_params[:num_test]
train_params = good_params[num_test:]
mean_params = np.mean(train_params, axis=0)
std_params = np.std(train_params, axis=0)

train_params_norm = (train_params - mean_params) / std_params
test_params_norm = (test_params - mean_params) / std_params


train_energy_ABPD = torch.sum(energies[num_test:], dim=1).unsqueeze(1)
test_energy_ABPD = torch.sum(energies[:num_test], dim=1).unsqueeze(1)
mean_energy = torch.mean(train_energy_ABPD)
std_energy = torch.std(train_energy_ABPD)
train_energy_ABPD_norm = (train_energy_ABPD - mean_energy) / std_energy
test_energy_ABPD_norm = (test_energy_ABPD - mean_energy) / std_energy


from sklearn.linear_model import LinearRegression


regressor = LinearRegression()


fitted_reg = regressor.fit(train_params_norm, train_energy_ABPD_norm)


predictions = fitted_reg.predict(test_params_norm)


mean_energy


with mpl.rc_context(fname="../../.matplotlibrc"):
    fig, ax = plt.subplots(1, 1, figsize=(2, 1.0))
    unnorm_x = test_energy_ABPD_norm[:300] * std_energy + mean_energy
    unnorm_y = predictions[:300] * std_energy.numpy() + mean_energy.numpy()
    ax.scatter(x=unnorm_x.numpy(), y=unnorm_y, s=3, color="#2b8cbe")
    gt_vec = np.linspace(np.min(unnorm_x.numpy()), np.max(unnorm_x.numpy()), 2)
    ax.plot(gt_vec, gt_vec, "#ff7f00")
    ax.set_xlabel("AB/PD energy")
    ax.set_ylabel("Lin Reg prediction")
    plt.savefig(PANEL_quality_of_approx_LinReg, facecolor='None', transparent=False)


coeff = np.asarray([fitted_reg.coef_[0]])


coeff


with mpl.rc_context(fname="../../.matplotlibrc"):
    viz.py_sensitivity_bars(coeff[:1, 0:8], ylim=[-0.3, 0.6], figsize=(1.6, 1.0), ylabel='First E-vec.', plot_labels=True, color="#3182bd")
    plt.savefig(PANEL_REG_D1_lin, facecolor='None', transparent=False)


with mpl.rc_context(fname="../../.matplotlibrc"):
    viz.py_sensitivity_bars(coeff[:1, 8:16], ylim=[-0.3, 0.6], figsize=(1.6, 1.0), ylabel='First E-vec.', plot_labels=True, color="#fc8d59")
    plt.savefig(PANEL_REG_D2_lin, facecolor='None', transparent=False)


with mpl.rc_context(fname="../../.matplotlibrc"):
    viz.py_sensitivity_bars(coeff[:1, 16:24], ylim=[-0.3, 0.6], figsize=(1.6, 1.0), ylabel='First E-vec.', plot_labels=True, color="#2ca25f")
    plt.savefig(PANEL_REG_D3_lin, facecolor='None', transparent=False)


with mpl.rc_context(fname="../../.matplotlibrc"):
    viz.py_sensitivity_bars(coeff[:1, 24:], ylim=[-0.3, 0.6], figsize=(1.6, 1.0), ylabel='First E-vec.', plot_labels=True, color="k")
    plt.savefig(PANEL_REG_D4_lin, facecolor='None', transparent=False)


def svg(img):
    IPd.display(IPd.HTML('<img src="{}" / >'.format(img, time.time())))


from svgutils.compose import *

# > Inkscape pixel is 1/90 of an inch, other software usually uses 1/72.
# > http://www.inkscapeforum.com/viewtopic.php?f=6&t=5964
svg_scale = 1.25  # set this to 1.25 for Inkscape, 1.0 otherwise
factor_svg=5.5

# Panel letters in Helvetica Neue, 12pt, Medium
kwargs_text = {'size': '12pt', 'font': 'Arial', 'weight': '800'}
kwargs_text_12pt = {'size': '12pt', 'font': 'Arial', 'weight': '500'}
kwargs_consistent = {'size': '10pt', 'font': 'Arial', 'weight': '500', 'color': '#AF99EF'}
kwargs_consistent1 = {'size': '10pt', 'font': 'Arial', 'weight': '500', 'color': '#9E7DD5'}
kwargs_inconsistent = {'size': '10pt', 'font': 'Arial', 'weight': '500', 'color': '#AF99EF'}
kwargs_text8pt = {'size': '7.7pt', 'font': 'Arial'}
kwargs_text8pt_red = {'size': '7.7pt', 'font': 'Arial', 'weight': '800', 'color': "#b30000"}

f = Figure("20.3cm", "7.5cm",
       
    Panel(
          SVG(PANEL_REG_D1_lin).scale(svg_scale).move(0, 0*factor_svg),
        Text("AB/PD", 16.0*factor_svg, 3.5*factor_svg, **kwargs_text8pt),
    ).move(2*factor_svg, 3*factor_svg),
    
    Panel(
          SVG(PANEL_REG_D2_lin).scale(svg_scale).move(0, 0*factor_svg),
        Text("LP", 18.0*factor_svg, 3.5*factor_svg, **kwargs_text8pt),
    ).move(36*factor_svg, 3*factor_svg),
    
    Panel(
          SVG(PANEL_REG_D3_lin).scale(svg_scale).move(0, 0*factor_svg),
        Text("PY", 18.0*factor_svg, 3.5*factor_svg, **kwargs_text8pt),
    ).move(68*factor_svg, 3*factor_svg),
    
    Panel(
          SVG(PANEL_REG_D4_lin).scale(svg_scale).move(0, 0*factor_svg),
        Text("Synapses", 14.0*factor_svg, 3.5*factor_svg, **kwargs_text8pt),
    ).move(99*factor_svg, 3*factor_svg),
           
    Panel(
          SVG(PANEL_quality_of_approx_LinReg).scale(svg_scale).move(0, 0*factor_svg),
    ).move(5*factor_svg, 25.3*factor_svg),
           
    Panel(
          SVG(PANEL_quality_of_approx_NN).scale(svg_scale).move(0, 0*factor_svg),
    ).move(43*factor_svg, 24*factor_svg),
    
)

get_ipython().getoutput("mkdir -p fig")
f.save("../fig/fig3_reg_supp_linear_reg.svg")
svg('../fig/fig3_reg_supp_linear_reg.svg')






