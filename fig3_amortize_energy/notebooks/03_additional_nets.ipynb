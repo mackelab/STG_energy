{
 "cells": [
  {
   "cell_type": "code",
   "execution_count": 7,
   "metadata": {},
   "outputs": [],
   "source": [
    "import time\n",
    "\n",
    "import IPython.display as IPd\n",
    "import matplotlib as mpl\n",
    "import matplotlib.pylab as plt\n",
    "import numpy as np\n",
    "import torch\n",
    "from mpl_toolkits.axes_grid1 import make_axes_locatable\n",
    "\n",
    "import stg_energy.fig3_amortize_energy.viz as viz\n",
    "from pyloric import create_prior, get_time, simulate_energyscape, stats\n",
    "from sbi.utils.regression_net.get_nn_classifier import classifier\n",
    "from sbi.utils.regression_net.train_classifier import fit_regression_net\n",
    "from stg_energy.common import col, get_labels_8pt, svg\n",
    "from stg_energy.fig3_amortize_energy.helper_functions import (\n",
    "    active_subspace,\n",
    "    get_gradient,\n",
    ")"
   ]
  },
  {
   "cell_type": "markdown",
   "metadata": {},
   "source": [
    "# Figure 3: additional nets\n",
    "Here, we train 3 nets to predict the energy in AB/PD, LP, and PY. This will be used in fig5_cc"
   ]
  },
  {
   "cell_type": "code",
   "execution_count": 8,
   "metadata": {},
   "outputs": [
    {
     "name": "stdout",
     "output_type": "stream",
     "text": [
      "The autoreload extension is already loaded. To reload it, use:\n",
      "  %reload_ext autoreload\n"
     ]
    }
   ],
   "source": [
    "%load_ext autoreload\n",
    "%autoreload 2"
   ]
  },
  {
   "cell_type": "code",
   "execution_count": 9,
   "metadata": {},
   "outputs": [],
   "source": [
    "PANEL_A = \"../svg/panel_a.svg\"\n",
    "PANEL_B = \"../svg/panel_b.svg\"\n",
    "PANEL_C = \"../svg/panel_c.svg\"\n",
    "PANEL_REG_A1 = \"../svg/panel_reg_a1.svg\"\n",
    "PANEL_REG_A2 = \"../svg/panel_reg_a2.svg\"\n",
    "PANEL_REG_B = \"../svg/panel_reg_b.svg\"\n",
    "PANEL_REG_C = \"../svg/panel_reg_c.svg\"\n",
    "PANEL_REG_D1 = \"../svg/panel_reg_d1.svg\"\n",
    "PANEL_REG_D2 = \"../svg/panel_reg_d2.svg\"\n",
    "PANEL_REG_D3 = \"../svg/panel_reg_d3.svg\"\n",
    "PANEL_REG_D4 = \"../svg/panel_reg_d4.svg\"\n",
    "PANEL_REG_E = \"../svg/panel_reg_e.svg\"\n",
    "PANEL_REG_F = \"../svg/panel_reg_f.svg\"\n",
    "PANEL_REG_G = \"../svg/panel_reg_g.svg\"\n",
    "PANEL_REG_H = \"../svg/panel_reg_h.svg\"\n",
    "PANEL_REG_G2 = \"../svg/panel_reg_g2.svg\"\n",
    "PANEL_REG_H2 = \"../svg/panel_reg_h2.svg\""
   ]
  },
  {
   "cell_type": "markdown",
   "metadata": {},
   "source": [
    "### Load experimental data"
   ]
  },
  {
   "cell_type": "code",
   "execution_count": 10,
   "metadata": {},
   "outputs": [],
   "source": [
    "prior_11 = create_prior(log=True)\n",
    "dimensions_11 = 31\n",
    "lims_11 = np.asarray(\n",
    "    [-np.sqrt(3) * np.ones(dimensions_11), np.sqrt(3) * np.ones(dimensions_11)]\n",
    ").T\n",
    "\n",
    "params_mean_11 = prior_11.mean.numpy()\n",
    "params_std_11 = prior_11.stddev.numpy()"
   ]
  },
  {
   "cell_type": "code",
   "execution_count": 11,
   "metadata": {},
   "outputs": [],
   "source": [
    "data = np.load(\"../../results/11deg_post_pred/11_deg_post_pred_close_to_obs.npz\")\n",
    "good_stats = data[\"sample_stats\"]\n",
    "good_params = data[\"sample_params\"]\n",
    "good_seeds = data[\"sample_seeds\"]"
   ]
  },
  {
   "cell_type": "code",
   "execution_count": 12,
   "metadata": {},
   "outputs": [
    {
     "name": "stdout",
     "output_type": "stream",
     "text": [
      "There are 55043 datapoints in this dataset\n"
     ]
    }
   ],
   "source": [
    "sample_params = good_params\n",
    "sample_stats = good_stats\n",
    "print(\"There are\", len(good_seeds), \"datapoints in this dataset\")"
   ]
  },
  {
   "cell_type": "code",
   "execution_count": 13,
   "metadata": {},
   "outputs": [],
   "source": [
    "sample_stats = data[\"sample_stats\"]\n",
    "sample_params = data[\"sample_params\"]\n",
    "sample_seeds = data[\"sample_seeds\"]"
   ]
  },
  {
   "cell_type": "code",
   "execution_count": 14,
   "metadata": {},
   "outputs": [],
   "source": [
    "energies = sample_stats[:, 21:24]\n",
    "summed_energies = np.sum(energies, axis=1)"
   ]
  },
  {
   "cell_type": "markdown",
   "metadata": {},
   "source": [
    "### Quantify the variances"
   ]
  },
  {
   "cell_type": "code",
   "execution_count": 15,
   "metadata": {},
   "outputs": [],
   "source": [
    "prior_range = (prior_11.support.upper_bound - prior_11.support.lower_bound).numpy()"
   ]
  },
  {
   "cell_type": "code",
   "execution_count": 16,
   "metadata": {},
   "outputs": [],
   "source": [
    "inds = np.argsort(summed_energies)\n",
    "sorted_energies = np.sort(summed_energies)\n",
    "sorted_params = sample_params[inds]\n",
    "sorted_ss = sample_stats[inds]"
   ]
  },
  {
   "cell_type": "code",
   "execution_count": 17,
   "metadata": {},
   "outputs": [],
   "source": [
    "all_means = []\n",
    "for quantile in [0.99, 0.75, 0.5, 0.25, 0.01]:\n",
    "\n",
    "    sample_stats = data[\"sample_stats\"]\n",
    "    sample_params = data[\"sample_params\"]\n",
    "    sample_seeds = data[\"sample_seeds\"]\n",
    "\n",
    "    num_samples = 1000\n",
    "    num_vals = len(summed_energies)\n",
    "    params_to_plot = sorted_params[\n",
    "        int(num_vals * quantile - num_samples / 2) : int(\n",
    "            num_vals * quantile + num_samples / 2\n",
    "        )\n",
    "    ]\n",
    "    energy_thr = sorted_energies[int(num_vals * quantile)]\n",
    "\n",
    "    mean_of_these_params = np.mean(params_to_plot, axis=0)\n",
    "    all_means.append(mean_of_these_params)\n",
    "all_means = np.asarray(all_means)"
   ]
  },
  {
   "cell_type": "code",
   "execution_count": 18,
   "metadata": {},
   "outputs": [
    {
     "data": {
      "text/plain": [
       "1721441.8802888643"
      ]
     },
     "execution_count": 18,
     "metadata": {},
     "output_type": "execute_result"
    }
   ],
   "source": [
    "energy_thr"
   ]
  },
  {
   "cell_type": "markdown",
   "metadata": {},
   "source": [
    "### Plot histogram"
   ]
  },
  {
   "cell_type": "code",
   "execution_count": 19,
   "metadata": {},
   "outputs": [
    {
     "data": {
      "image/png": "[encoded data removed]",
      "text/plain": [
       "<Figure size 172.8x144 with 1 Axes>"
      ]
     },
     "metadata": {
      "needs_background": "light"
     },
     "output_type": "display_data"
    }
   ],
   "source": [
    "fig, ax = plt.subplots(1, 1, figsize=(2.4, 2))\n",
    "\n",
    "N, bins, patches = ax.hist(summed_energies, bins=100)\n",
    "\n",
    "for quantile in [0.99, 0.75, 0.5, 0.25, 0.01]:\n",
    "    sample_stats = data[\"sample_stats\"]\n",
    "    sample_params = data[\"sample_params\"]\n",
    "    sample_seeds = data[\"sample_seeds\"]\n",
    "\n",
    "    num_samples = 1000\n",
    "    num_vals = len(summed_energies)\n",
    "    params_to_plot = sorted_params[\n",
    "        int(num_vals * quantile - num_samples / 2) : int(\n",
    "            num_vals * quantile + num_samples / 2\n",
    "        )\n",
    "    ]\n",
    "    energy_thr_low = sorted_energies[int(num_vals * quantile - num_samples / 2)]\n",
    "    energy_thr_high = sorted_energies[int(num_vals * quantile + num_samples / 2)]\n",
    "\n",
    "    for i, b in enumerate(bins):\n",
    "        if b > energy_thr_low and b < energy_thr_high:\n",
    "            patches[i].set_facecolor(\"r\")\n",
    "\n",
    "ax.set_xlim(0, 7500000)\n",
    "ax.set_xlabel(\"Energy\")\n",
    "ax.set_ylabel(\"Frequency of posterior samples\")\n",
    "ax.spines[\"top\"].set_visible(False)\n",
    "ax.spines[\"right\"].set_visible(False)\n",
    "\n",
    "# plt.savefig('../results/energy/figs_new/histogram.png', dpi=300, bbox_inches='tight')"
   ]
  },
  {
   "cell_type": "code",
   "execution_count": 20,
   "metadata": {},
   "outputs": [],
   "source": [
    "shift_in_mean = all_means[0] - all_means[-1]\n",
    "shift_in_mean_normalized = shift_in_mean / prior_range"
   ]
  },
  {
   "cell_type": "code",
   "execution_count": 21,
   "metadata": {},
   "outputs": [],
   "source": [
    "sort_inds = np.argsort(np.abs(shift_in_mean_normalized))\n",
    "strongest_variation_inds = np.sort(sort_inds[-8:])  # these are used for plots"
   ]
  },
  {
   "cell_type": "code",
   "execution_count": 22,
   "metadata": {},
   "outputs": [],
   "source": [
    "labels_ = get_labels_8pt()\n",
    "labels_[9] += \"\""
   ]
  },
  {
   "cell_type": "code",
   "execution_count": 23,
   "metadata": {},
   "outputs": [],
   "source": [
    "from decimal import Decimal\n",
    "\n",
    "all_labels = []\n",
    "lims = lims_11\n",
    "params_std = params_std_11\n",
    "params_mean = params_mean_11\n",
    "for dim_i in range(31):\n",
    "    if dim_i > len(params_mean_11) - 7.5:  # synapses\n",
    "        if dim_i == 24:\n",
    "            all_labels.append(\n",
    "                [r\"$\\mathdefault{0.01}$     \", r\"$\\mathdefault{10000}\\;\\;\\;\\;$   \"]\n",
    "            )\n",
    "        else:\n",
    "            all_labels.append(\n",
    "                [r\"$\\mathdefault{0.01}$ \", r\"$\\mathdefault{1000}\\;\\;\\;\\;$ \"]\n",
    "            )\n",
    "    else:  # membrane conductances\n",
    "        num_after_digits = -int(\n",
    "            np.log10(lims[dim_i, 1] * params_std[dim_i] + params_mean[dim_i])\n",
    "        )\n",
    "        if num_after_digits > 2:\n",
    "            num_after_digits = 2\n",
    "        labels = [\n",
    "            round(\n",
    "                Decimal(\n",
    "                    (lims[dim_i, num_tmp] * params_std[dim_i] + params_mean[dim_i])\n",
    "                    / 0.628e-3\n",
    "                ),\n",
    "                num_after_digits,\n",
    "            )\n",
    "            for num_tmp in range(2)\n",
    "        ]\n",
    "        new_labels = []\n",
    "        counter = 0\n",
    "        for l in labels:\n",
    "            if counter == 0:\n",
    "                new_labels.append(r\"$\\mathdefault{\" + str(l) + \"}$  \")\n",
    "            else:\n",
    "                new_labels.append(r\"$\\mathdefault{\" + str(l) + \"}\\;\\;\\;$  \")\n",
    "            counter += 1\n",
    "        all_labels.append(new_labels)"
   ]
  },
  {
   "cell_type": "markdown",
   "metadata": {},
   "source": [
    "# Panel 0: Fit regression net"
   ]
  },
  {
   "cell_type": "code",
   "execution_count": 24,
   "metadata": {},
   "outputs": [],
   "source": [
    "energies = torch.as_tensor(energies)\n",
    "sample_stats = torch.as_tensor(sample_stats)"
   ]
  },
  {
   "cell_type": "code",
   "execution_count": 25,
   "metadata": {},
   "outputs": [
    {
     "name": "stdout",
     "output_type": "stream",
     "text": [
      "torch.Size([55043, 3])\n"
     ]
    }
   ],
   "source": [
    "print(energies.shape)"
   ]
  },
  {
   "cell_type": "code",
   "execution_count": 26,
   "metadata": {},
   "outputs": [],
   "source": [
    "num_test = 500\n",
    "\n",
    "test_params = good_params[:num_test]\n",
    "train_params = good_params[num_test:]\n",
    "mean_params = np.mean(train_params, axis=0)\n",
    "std_params = np.std(train_params, axis=0)\n",
    "\n",
    "train_params_norm = (train_params - mean_params) / std_params\n",
    "test_params_norm = (test_params - mean_params) / std_params"
   ]
  },
  {
   "cell_type": "markdown",
   "metadata": {},
   "source": [
    "### AB/PD"
   ]
  },
  {
   "cell_type": "code",
   "execution_count": 43,
   "metadata": {},
   "outputs": [],
   "source": [
    "train_energy_ABPD = energies[num_test:, 0].unsqueeze(1)\n",
    "test_energy_ABPD = energies[:num_test, 0].unsqueeze(1)\n",
    "mean_energy = torch.mean(train_energy_ABPD)\n",
    "std_energy = torch.std(train_energy_ABPD)\n",
    "train_energy_ABPD_norm = (train_energy_ABPD - mean_energy) / std_energy\n",
    "test_energy_ABPD_norm = (test_energy_ABPD - mean_energy) / std_energy"
   ]
  },
  {
   "cell_type": "code",
   "execution_count": 44,
   "metadata": {},
   "outputs": [],
   "source": [
    "nn = classifier(dim=31)"
   ]
  },
  {
   "cell_type": "code",
   "execution_count": 45,
   "metadata": {},
   "outputs": [
    {
     "name": "stdout",
     "output_type": "stream",
     "text": [
      "Total number of trainable parameters 169001\n",
      "Training loss   0.0024701463387346544\n",
      "validation loss 0.0008987268660043381\n",
      "Training loss   0.0010592765318238294\n",
      "validation loss 0.0006617953384501687\n",
      "Training loss   0.0007933264820722042\n",
      "validation loss 0.0005149087516077061\n",
      "Training loss   0.0006942612797589827\n",
      "validation loss 0.0004975700392417685\n",
      "Training loss   0.0006159773559788863\n",
      "validation loss 0.0004282528297219333\n",
      "Training loss   0.0005756694181246083\n",
      "validation loss 0.0004232845531211437\n",
      "Training loss   0.0005449943847858956\n",
      "validation loss 0.0003854897482735536\n",
      "Training loss   0.0005143139853572954\n",
      "validation loss 0.0003544431934380728\n",
      "Training loss   0.0004950413541720192\n",
      "validation loss 0.0003858382819607977\n",
      "Training loss   0.00048543369500959145\n",
      "validation loss 0.00035472796115030615\n",
      "Training loss   0.0004678096998187882\n",
      "validation loss 0.0003369252367319042\n",
      "Training loss   0.0004572099554118721\n",
      "validation loss 0.0003338536469557764\n",
      "Training loss   0.0004440778439718504\n",
      "validation loss 0.00032773606434778596\n",
      "Training loss   0.0004445900204846444\n",
      "validation loss 0.00031531502029198666\n",
      "Training loss   0.00043202797965965605\n",
      "validation loss 0.0003314705920686534\n",
      "Training loss   0.00041956821398268\n",
      "validation loss 0.0003335731174014884\n",
      "Training loss   0.00041959699152390844\n",
      "validation loss 0.00031307752472096686\n",
      "Training loss   0.00040939417456712626\n",
      "validation loss 0.0002983598230623467\n",
      "Training loss   0.00040869706871083327\n",
      "validation loss 0.0003151895578243829\n",
      "Training loss   0.0004040409060364475\n",
      "validation loss 0.00029723993173905405\n",
      "Training loss   0.00039660499354240373\n",
      "validation loss 0.00029996488564310546\n",
      "Training loss   0.00039570741843392116\n",
      "validation loss 0.0003272569922714961\n",
      "Training loss   0.0003890953637399095\n",
      "validation loss 0.0002959250708944638\n",
      "Training loss   0.0003875697333583635\n",
      "validation loss 0.0002879432172068044\n",
      "Training loss   0.00038444498392453994\n",
      "validation loss 0.0003330438958667048\n",
      "Training loss   0.0003761608295818527\n",
      "validation loss 0.00029729231065233074\n",
      "Training loss   0.0003742306366334566\n",
      "validation loss 0.00028561830920133973\n",
      "Training loss   0.0003737837745708042\n",
      "validation loss 0.00028667729706473576\n",
      "Training loss   0.00036978901614649937\n",
      "validation loss 0.0002799646011242126\n",
      "Training loss   0.0003638391354552475\n",
      "validation loss 0.00030633671811886823\n",
      "Training loss   0.00036665507215049393\n",
      "validation loss 0.00029161080827306543\n",
      "Training loss   0.0003626310538183782\n",
      "validation loss 0.0002792488139952464\n",
      "Training loss   0.0003602404166340088\n",
      "validation loss 0.0002910899382518258\n",
      "Training loss   0.0003493936711389843\n",
      "validation loss 0.0002717742267876563\n",
      "Training loss   0.0003497752577210309\n",
      "validation loss 0.0002707955936237992\n",
      "Training loss   0.00034901262198174443\n",
      "validation loss 0.0002793507488302743\n",
      "Training loss   0.0003470035067780248\n",
      "validation loss 0.0002719512340756975\n",
      "Training loss   0.0003456583944226875\n",
      "validation loss 0.00028607398433752503\n",
      "Training loss   0.0003427557319364294\n",
      "validation loss 0.0002696270142757871\n",
      "Training loss   0.00034760061392189953\n",
      "validation loss 0.0002671190592998982\n",
      "Training loss   0.0003373792460431877\n",
      "validation loss 0.00027386551999463934\n",
      "Training loss   0.0003367465296228212\n",
      "validation loss 0.0002742201660091346\n",
      "Training loss   0.00033542629398475066\n",
      "validation loss 0.0002945734242593663\n",
      "Training loss   0.00033717186589293655\n",
      "validation loss 0.0002716328645693557\n",
      "Training loss   0.00033143810456438957\n",
      "validation loss 0.00027624241850662405\n",
      "Training loss   0.00033556211926581854\n",
      "validation loss 0.0002651605589484316\n",
      "Training loss   0.0003244452477352192\n",
      "validation loss 0.0002644068548689732\n",
      "Training loss   0.0003293264208976519\n",
      "validation loss 0.00027054521092149665\n",
      "Training loss   0.00032235234030794093\n",
      "validation loss 0.0002628411977329077\n",
      "Training loss   0.00032772071775828514\n",
      "validation loss 0.00026439390333896925\n",
      "Training loss   0.00031996854472454\n",
      "validation loss 0.00026146576156810703\n",
      "Training loss   0.0003205209486030171\n",
      "validation loss 0.00025906961293435226\n",
      "Training loss   0.00031842596476731855\n",
      "validation loss 0.0002561238648986237\n",
      "Training loss   0.0003215642191089157\n",
      "validation loss 0.00025843974120921766\n",
      "Training loss   0.00031864583471067785\n",
      "validation loss 0.0002625667488357815\n",
      "Training loss   0.00031715450675067077\n",
      "validation loss 0.00025992551809953614\n",
      "Training loss   0.0003130199964471815\n",
      "validation loss 0.00026841644252335444\n",
      "Training loss   0.0003106613002139668\n",
      "validation loss 0.00025710226032340014\n",
      "Training loss   0.00031096039355381583\n",
      "validation loss 0.00027118098190503313\n",
      "Training loss   0.00031151658656508775\n",
      "validation loss 0.00025357548557187744\n",
      "Training loss   0.0003071247365689506\n",
      "validation loss 0.00025464112697106013\n",
      "Training loss   0.00030189705304931996\n",
      "validation loss 0.00025137810388240216\n",
      "Training loss   0.0003041229247221191\n",
      "validation loss 0.0002653608649224726\n",
      "Training loss   0.00030395105921347945\n",
      "validation loss 0.0002845670591688123\n",
      "Training loss   0.0003058639602177695\n",
      "validation loss 0.00025225264463303945\n",
      "Training loss   0.0003019661306778626\n",
      "validation loss 0.00025529521581478667\n",
      "Training loss   0.00030293592512026257\n",
      "validation loss 0.0002619041623351336\n",
      "Training loss   0.0002980982728279408\n",
      "validation loss 0.0002579062991014978\n",
      "Training loss   0.0002981812934584872\n",
      "validation loss 0.00025799185469555376\n",
      "Training loss   0.00030004697545202974\n",
      "validation loss 0.00026895693092718787\n",
      "Training loss   0.00029797410775749184\n",
      "validation loss 0.00026363049762700806\n",
      "Training loss   0.0002928385433348259\n",
      "validation loss 0.0002571652499117183\n"
     ]
    }
   ],
   "source": [
    "converged_nn = fit_regression_net(\n",
    "    nn,\n",
    "    train_params_norm,\n",
    "    train_energy_ABPD_norm,\n",
    "    num_train=train_params_norm.shape[0],\n",
    "    batch_size=50,\n",
    "    stop_after_epochs=10,\n",
    "    max_epochs=200,\n",
    ")\n",
    "np.savez('../../results/regression_nets/201007_predict_total_energy_ABPD.npz', converged_nn=converged_nn, mean_params=mean_params, std_params=std_params, mean_energy=mean_energy, std_energy=std_energy)"
   ]
  },
  {
   "cell_type": "code",
   "execution_count": 46,
   "metadata": {},
   "outputs": [],
   "source": [
    "data = np.load(\n",
    "    \"../../results/regression_nets/201007_predict_total_energy_ABPD.npz\",\n",
    "    allow_pickle=True,\n",
    ")\n",
    "converged_nn = data[\"converged_nn\"].tolist()"
   ]
  },
  {
   "cell_type": "code",
   "execution_count": 47,
   "metadata": {},
   "outputs": [],
   "source": [
    "predictions = converged_nn.predict(torch.as_tensor(test_params_norm)).detach()"
   ]
  },
  {
   "cell_type": "code",
   "execution_count": 48,
   "metadata": {},
   "outputs": [
    {
     "data": {
      "image/png": "[encoded data removed]",
      "text/plain": [
       "<Figure size 200x100 with 1 Axes>"
      ]
     },
     "metadata": {},
     "output_type": "display_data"
    }
   ],
   "source": [
    "with mpl.rc_context(fname=\"../../.matplotlibrc\"):\n",
    "    fig, ax = plt.subplots(1, 1, figsize=(2, 1.0))\n",
    "    unnorm_x = test_energy_ABPD_norm[:300] * std_energy + mean_energy\n",
    "    unnorm_y = predictions[:300] * std_energy + mean_energy\n",
    "    ax.scatter(x=unnorm_x.numpy(), y=unnorm_y.numpy(), s=3, color=\"#2b8cbe\")\n",
    "    gt_vec = np.linspace(np.min(unnorm_x.numpy()), np.max(unnorm_x.numpy()), 2)\n",
    "    ax.plot(gt_vec, gt_vec, \"#ff7f00\")\n",
    "    ax.set_xlabel(\"AB/PD energy\")\n",
    "    ax.set_ylabel(\"Neural net prediction\")"
   ]
  },
  {
   "cell_type": "markdown",
   "metadata": {},
   "source": [
    "### LP"
   ]
  },
  {
   "cell_type": "code",
   "execution_count": 49,
   "metadata": {},
   "outputs": [],
   "source": [
    "nn = classifier(dim=31)"
   ]
  },
  {
   "cell_type": "code",
   "execution_count": 50,
   "metadata": {},
   "outputs": [],
   "source": [
    "train_energy_ABPD = energies[num_test:, 1].unsqueeze(1)\n",
    "test_energy_ABPD = energies[:num_test, 1].unsqueeze(1)\n",
    "mean_energy = torch.mean(train_energy_ABPD)\n",
    "std_energy = torch.std(train_energy_ABPD)\n",
    "train_energy_ABPD_norm = (train_energy_ABPD - mean_energy) / std_energy\n",
    "test_energy_ABPD_norm = (test_energy_ABPD - mean_energy) / std_energy"
   ]
  },
  {
   "cell_type": "code",
   "execution_count": 51,
   "metadata": {},
   "outputs": [
    {
     "name": "stdout",
     "output_type": "stream",
     "text": [
      "Total number of trainable parameters 169001\n",
      "Training loss   0.0031469269285908617\n",
      "validation loss 0.0010503784829356275\n",
      "Training loss   0.001409336614921553\n",
      "validation loss 0.0007759686296517209\n",
      "Training loss   0.0011060385183295214\n",
      "validation loss 0.0006895094952869591\n",
      "Training loss   0.0009699744643140196\n",
      "validation loss 0.0006206545917322393\n",
      "Training loss   0.0008883743199782089\n",
      "validation loss 0.0006299218996048083\n",
      "Training loss   0.0008300184882385596\n",
      "validation loss 0.0005549944028954895\n",
      "Training loss   0.0007709063818912608\n",
      "validation loss 0.000559623667493968\n",
      "Training loss   0.0007518824653627444\n",
      "validation loss 0.0004923356090878042\n",
      "Training loss   0.0007196638339544881\n",
      "validation loss 0.0005005355856076606\n",
      "Training loss   0.0006804600213590592\n",
      "validation loss 0.0005091515080328932\n",
      "Training loss   0.0006755830620954632\n",
      "validation loss 0.00044453893160732597\n",
      "Training loss   0.0006500851879223593\n",
      "validation loss 0.0004385940686182403\n",
      "Training loss   0.0006337203349709581\n",
      "validation loss 0.00042944805599291535\n",
      "Training loss   0.0006134316969190565\n",
      "validation loss 0.00042708176696087437\n",
      "Training loss   0.0006016172700734005\n",
      "validation loss 0.00041427249831551264\n",
      "Training loss   0.0005865425134479582\n",
      "validation loss 0.0003897801847440403\n",
      "Training loss   0.0005821460167425982\n",
      "validation loss 0.00041248365352314397\n",
      "Training loss   0.0005723342627002778\n",
      "validation loss 0.0003858289438087278\n",
      "Training loss   0.0005632472742521028\n",
      "validation loss 0.0004005684548908696\n",
      "Training loss   0.0005490361109964557\n",
      "validation loss 0.0003727284225094876\n",
      "Training loss   0.0005405346549811531\n",
      "validation loss 0.0003872288551478622\n",
      "Training loss   0.000539676130572765\n",
      "validation loss 0.0003702132087661846\n",
      "Training loss   0.0005308191117137243\n",
      "validation loss 0.00037447925414599813\n",
      "Training loss   0.0005187047027135535\n",
      "validation loss 0.00037402818448957666\n",
      "Training loss   0.0005148157387525038\n",
      "validation loss 0.0003689970778460136\n",
      "Training loss   0.0005138694177066902\n",
      "validation loss 0.00035048346013841447\n",
      "Training loss   0.0005012196252280979\n",
      "validation loss 0.00035665517708749315\n",
      "Training loss   0.0004865304370023094\n",
      "validation loss 0.00035591457144969326\n",
      "Training loss   0.0004915845283156721\n",
      "validation loss 0.0003580456208625482\n",
      "Training loss   0.00048621880117320543\n",
      "validation loss 0.0003575665328231675\n",
      "Training loss   0.0004851585431086662\n",
      "validation loss 0.0003529887209372385\n",
      "Training loss   0.00046986384267039657\n",
      "validation loss 0.00033444740752306253\n",
      "Training loss   0.00047819351165684734\n",
      "validation loss 0.00034187782852885705\n",
      "Training loss   0.00047089344371994165\n",
      "validation loss 0.00035760853572737504\n",
      "Training loss   0.00046656835237089933\n",
      "validation loss 0.0003385703708536028\n",
      "Training loss   0.0004644227586625899\n",
      "validation loss 0.0003452533907252752\n",
      "Training loss   0.00046348922463322747\n",
      "validation loss 0.0003402718963437841\n",
      "Training loss   0.0004637825458430147\n",
      "validation loss 0.0003461761029623278\n",
      "Training loss   0.0004577210112754134\n",
      "validation loss 0.0003234591625296228\n",
      "Training loss   0.00046273268460016214\n",
      "validation loss 0.00037536920909620445\n",
      "Training loss   0.0004434774886583606\n",
      "validation loss 0.0003335014409039897\n",
      "Training loss   0.0004436600922756844\n",
      "validation loss 0.0003304118435662564\n",
      "Training loss   0.0004495214333755026\n",
      "validation loss 0.0003205749678308542\n",
      "Training loss   0.00044378003847649907\n",
      "validation loss 0.0003246698545601038\n",
      "Training loss   0.00044132201038613657\n",
      "validation loss 0.0003317633973251888\n",
      "Training loss   0.0004368910282409193\n",
      "validation loss 0.00031889912046621853\n",
      "Training loss   0.0004350216771821119\n",
      "validation loss 0.0003202679043756943\n",
      "Training loss   0.00044069198132695985\n",
      "validation loss 0.00032237983598116886\n",
      "Training loss   0.00043564069229128045\n",
      "validation loss 0.0003258788371740351\n",
      "Training loss   0.00042367791772924483\n",
      "validation loss 0.00031810407035947393\n",
      "Training loss   0.00043347301852752454\n",
      "validation loss 0.0003368814037916422\n",
      "Training loss   0.00042858390404154926\n",
      "validation loss 0.00032926557191214793\n",
      "Training loss   0.0004219855651252744\n",
      "validation loss 0.000313913182796796\n",
      "Training loss   0.00041593222723222874\n",
      "validation loss 0.0003387564760790737\n",
      "Training loss   0.0004171982452800349\n",
      "validation loss 0.0003319660437273717\n",
      "Training loss   0.00041354257301360643\n",
      "validation loss 0.00031120262982018164\n",
      "Training loss   0.00041690804447897987\n",
      "validation loss 0.0003123821081178763\n",
      "Training loss   0.00041516690538393825\n",
      "validation loss 0.000306299704150062\n",
      "Training loss   0.00041375519265967145\n",
      "validation loss 0.00031182722664010516\n",
      "Training loss   0.000409352707357396\n",
      "validation loss 0.0003196093039527385\n",
      "Training loss   0.00040125608939927613\n",
      "validation loss 0.0003019779041327543\n",
      "Training loss   0.00040840781277872503\n",
      "validation loss 0.0003033706765557024\n",
      "Training loss   0.0004029387364829095\n",
      "validation loss 0.00030017835783791805\n",
      "Training loss   0.0004061467072669498\n",
      "validation loss 0.00033304241206753046\n",
      "Training loss   0.00039884039789597314\n",
      "validation loss 0.0003032995519372545\n",
      "Training loss   0.00040242433174366967\n",
      "validation loss 0.0003071561874010823\n",
      "Training loss   0.0003993458889230978\n",
      "validation loss 0.0002998206642388915\n",
      "Training loss   0.00039532454561055404\n",
      "validation loss 0.0003087380876223447\n",
      "Training loss   0.00039815521019105973\n",
      "validation loss 0.00030530186516841435\n",
      "Training loss   0.0003928695362647285\n",
      "validation loss 0.0003013412518500189\n",
      "Training loss   0.00039476295310829075\n",
      "validation loss 0.0003068611894817007\n",
      "Training loss   0.0003927008597124999\n",
      "validation loss 0.00030017173580149244\n",
      "Training loss   0.00038552291079363914\n",
      "validation loss 0.0003047720070733705\n",
      "Training loss   0.0003879400087386003\n",
      "validation loss 0.00030839705411225257\n",
      "Training loss   0.00039031074747851186\n",
      "validation loss 0.0003045888902750942\n",
      "Training loss   0.0003917145509712369\n",
      "validation loss 0.00029575556199092805\n",
      "Training loss   0.00038522938500327574\n",
      "validation loss 0.00029722235219315803\n",
      "Training loss   0.00038064672135861195\n",
      "validation loss 0.0003007419330539996\n",
      "Training loss   0.0003759453589366986\n",
      "validation loss 0.0002978676159231899\n",
      "Training loss   0.00037893280299651196\n",
      "validation loss 0.00030412083520706807\n",
      "Training loss   0.0003746175095829032\n",
      "validation loss 0.00030402148955123453\n",
      "Training loss   0.0003768021939284407\n",
      "validation loss 0.00030164186852129634\n",
      "Training loss   0.00037630306340686036\n",
      "validation loss 0.00029494253513902616\n",
      "Training loss   0.00037924542808075005\n",
      "validation loss 0.00029605665567692107\n",
      "Training loss   0.0003793737667808831\n",
      "validation loss 0.0002952086613756817\n",
      "Training loss   0.00037919938229208063\n",
      "validation loss 0.0002919767594851014\n",
      "Training loss   0.0003722066612776237\n",
      "validation loss 0.0002987006441865024\n",
      "Training loss   0.00036953038418875895\n",
      "validation loss 0.00029472606222458544\n",
      "Training loss   0.0003726206188037933\n",
      "validation loss 0.0002958889285787107\n",
      "Training loss   0.0003699118810213466\n",
      "validation loss 0.00030244651295784194\n",
      "Training loss   0.00036643128057032936\n",
      "validation loss 0.0002941559680065739\n",
      "Training loss   0.0003688390391074805\n",
      "validation loss 0.0002908486141340925\n",
      "Training loss   0.00036739467886732493\n",
      "validation loss 0.00029145169031732026\n",
      "Training loss   0.0003670182307240173\n",
      "validation loss 0.0002962221874659975\n",
      "Training loss   0.00036131477339845574\n",
      "validation loss 0.0002937987063500064\n",
      "Training loss   0.0003684451851470613\n",
      "validation loss 0.00029383485387297095\n",
      "Training loss   0.00036813473494805705\n",
      "validation loss 0.0002945965678387558\n",
      "Training loss   0.00036345487019193455\n",
      "validation loss 0.000290311544307266\n",
      "Training loss   0.0003596605641912029\n",
      "validation loss 0.00029090412087417545\n",
      "Training loss   0.00035717927578451464\n",
      "validation loss 0.00029930034285286606\n",
      "Training loss   0.0003576347910003151\n",
      "validation loss 0.0002976904603576682\n",
      "Training loss   0.0003550214083705005\n",
      "validation loss 0.0002889542747374306\n",
      "Training loss   0.00035617978189816284\n",
      "validation loss 0.0002938821731693531\n",
      "Training loss   0.00035493801047159127\n",
      "validation loss 0.00028619222209799955\n",
      "Training loss   0.00035511297548125706\n",
      "validation loss 0.0002953184863311724\n",
      "Training loss   0.0003598644541679867\n",
      "validation loss 0.0002941187437005703\n",
      "Training loss   0.00035139772093864254\n",
      "validation loss 0.0002973893361966835\n",
      "Training loss   0.0003496421530315042\n",
      "validation loss 0.000302534573135247\n",
      "Training loss   0.00035474615221563243\n",
      "validation loss 0.0002950954505376429\n",
      "Training loss   0.00035529229227247657\n",
      "validation loss 0.0002951631177384082\n",
      "Training loss   0.0003517655507148993\n",
      "validation loss 0.0002904586655307155\n",
      "Training loss   0.0003466987797884651\n",
      "validation loss 0.00029530000670597054\n",
      "Training loss   0.0003470038748067753\n",
      "validation loss 0.00029032633927549164\n",
      "Training loss   0.00034636158070284475\n",
      "validation loss 0.00029488006499139244\n"
     ]
    }
   ],
   "source": [
    "converged_nn = fit_regression_net(\n",
    "    nn,\n",
    "    train_params_norm,\n",
    "    train_energy_ABPD_norm,\n",
    "    num_train=train_params_norm.shape[0],\n",
    "    batch_size=50,\n",
    "    stop_after_epochs=10,\n",
    "    max_epochs=200,\n",
    ")\n",
    "np.savez('../../results/regression_nets/201007_predict_total_energy_LP.npz', converged_nn=converged_nn)"
   ]
  },
  {
   "cell_type": "code",
   "execution_count": 52,
   "metadata": {},
   "outputs": [],
   "source": [
    "data = np.load(\n",
    "    \"../../results/regression_nets/201007_predict_total_energy_LP.npz\",\n",
    "    allow_pickle=True,\n",
    ")\n",
    "converged_nn = data[\"converged_nn\"].tolist()"
   ]
  },
  {
   "cell_type": "code",
   "execution_count": 53,
   "metadata": {},
   "outputs": [],
   "source": [
    "predictions = converged_nn.predict(torch.as_tensor(test_params_norm)).detach()"
   ]
  },
  {
   "cell_type": "code",
   "execution_count": 54,
   "metadata": {},
   "outputs": [
    {
     "data": {
      "image/png": "[encoded data removed]",
      "text/plain": [
       "<Figure size 200x100 with 1 Axes>"
      ]
     },
     "metadata": {},
     "output_type": "display_data"
    }
   ],
   "source": [
    "with mpl.rc_context(fname=\"../../.matplotlibrc\"):\n",
    "    fig, ax = plt.subplots(1, 1, figsize=(2, 1.0))\n",
    "    unnorm_x = test_energy_ABPD_norm[:300] * std_energy + mean_energy\n",
    "    unnorm_y = predictions[:300] * std_energy + mean_energy\n",
    "    ax.scatter(x=unnorm_x.numpy(), y=unnorm_y.numpy(), s=3, color=\"#2b8cbe\")\n",
    "    gt_vec = np.linspace(np.min(unnorm_x.numpy()), np.max(unnorm_x.numpy()), 2)\n",
    "    ax.plot(gt_vec, gt_vec, \"#ff7f00\")\n",
    "    ax.set_xlabel(\"Total energy\")\n",
    "    ax.set_ylabel(\"Neural net prediction\")"
   ]
  },
  {
   "cell_type": "markdown",
   "metadata": {},
   "source": [
    "# PY"
   ]
  },
  {
   "cell_type": "code",
   "execution_count": 55,
   "metadata": {},
   "outputs": [],
   "source": [
    "nn = classifier(dim=31)"
   ]
  },
  {
   "cell_type": "code",
   "execution_count": 56,
   "metadata": {},
   "outputs": [],
   "source": [
    "train_energy_ABPD = energies[num_test:, 2].unsqueeze(1)\n",
    "test_energy_ABPD = energies[:num_test, 2].unsqueeze(1)\n",
    "mean_energy = torch.mean(train_energy_ABPD)\n",
    "std_energy = torch.std(train_energy_ABPD)\n",
    "train_energy_ABPD_norm = (train_energy_ABPD - mean_energy) / std_energy\n",
    "test_energy_ABPD_norm = (test_energy_ABPD - mean_energy) / std_energy"
   ]
  },
  {
   "cell_type": "code",
   "execution_count": 57,
   "metadata": {},
   "outputs": [
    {
     "name": "stdout",
     "output_type": "stream",
     "text": [
      "Total number of trainable parameters 169001\n",
      "Training loss   0.0020436190659222173\n",
      "validation loss 0.000680924508307474\n",
      "Training loss   0.0007599113805257779\n",
      "validation loss 0.0005652459836833855\n",
      "Training loss   0.0006153447317649189\n",
      "validation loss 0.0004523135006332157\n",
      "Training loss   0.0005453138644198402\n",
      "validation loss 0.00042878246749217746\n",
      "Training loss   0.0005166825295469665\n",
      "validation loss 0.00040085503761507196\n",
      "Training loss   0.0004955978925683508\n",
      "validation loss 0.0003798698692298285\n",
      "Training loss   0.00047000339202752224\n",
      "validation loss 0.0003631959446491614\n",
      "Training loss   0.00045515883391352086\n",
      "validation loss 0.0003614530711683191\n",
      "Training loss   0.0004398854782700422\n",
      "validation loss 0.0003609635717791226\n",
      "Training loss   0.0004204397271422188\n",
      "validation loss 0.00034701855994904405\n",
      "Training loss   0.00041192500962696074\n",
      "validation loss 0.0003288379160979273\n",
      "Training loss   0.00040638426429488256\n",
      "validation loss 0.0003252807497554804\n",
      "Training loss   0.0003919292625642079\n",
      "validation loss 0.00032122343962996734\n",
      "Training loss   0.0003891790203289936\n",
      "validation loss 0.0003174097547828332\n",
      "Training loss   0.000380600803093669\n",
      "validation loss 0.00034929919701093493\n",
      "Training loss   0.00037458156390483534\n",
      "validation loss 0.00030648922334287714\n",
      "Training loss   0.0003716710410317627\n",
      "validation loss 0.0003128964127844676\n",
      "Training loss   0.0003650786563721601\n",
      "validation loss 0.0003148575985204944\n",
      "Training loss   0.0003538525584124993\n",
      "validation loss 0.00029282590372643264\n",
      "Training loss   0.00035373179563485095\n",
      "validation loss 0.00028974969950730815\n",
      "Training loss   0.00034643698135673794\n",
      "validation loss 0.000288962966341638\n",
      "Training loss   0.00034616949038462886\n",
      "validation loss 0.00029036910994461543\n",
      "Training loss   0.000336506389278944\n",
      "validation loss 0.0002781495347782956\n",
      "Training loss   0.0003328303549652877\n",
      "validation loss 0.000282968175413956\n",
      "Training loss   0.00033431663655066095\n",
      "validation loss 0.0002934492883758191\n",
      "Training loss   0.0003338753948759347\n",
      "validation loss 0.000271581286798367\n",
      "Training loss   0.00032379403597289136\n",
      "validation loss 0.00027848380924254575\n",
      "Training loss   0.000327291434722275\n",
      "validation loss 0.00029547806200934157\n",
      "Training loss   0.00031899008531860446\n",
      "validation loss 0.0002708011268408445\n",
      "Training loss   0.00031539257447708234\n",
      "validation loss 0.0002623208515912868\n",
      "Training loss   0.0003138404577220559\n",
      "validation loss 0.0002837701074055146\n",
      "Training loss   0.0003110334618980729\n",
      "validation loss 0.0002758541161503462\n",
      "Training loss   0.00030957680609588106\n",
      "validation loss 0.0002662700177516061\n",
      "Training loss   0.0003063651002127546\n",
      "validation loss 0.00025964016214313583\n",
      "Training loss   0.00030429954080498804\n",
      "validation loss 0.0002617082850517591\n",
      "Training loss   0.00029913250613914234\n",
      "validation loss 0.00025829397864113914\n",
      "Training loss   0.00030037407081278533\n",
      "validation loss 0.0002554731970220995\n",
      "Training loss   0.00030040745309604434\n",
      "validation loss 0.0002593671340464617\n",
      "Training loss   0.00029275546293138654\n",
      "validation loss 0.00026677801597293203\n",
      "Training loss   0.0002954824257354711\n",
      "validation loss 0.0002665214117626659\n",
      "Training loss   0.0002919449666354106\n",
      "validation loss 0.0002594384251249481\n",
      "Training loss   0.00029274496179883947\n",
      "validation loss 0.0002599393947205338\n",
      "Training loss   0.0002878302186106743\n",
      "validation loss 0.0002567285984262865\n",
      "Training loss   0.0002854528306320739\n",
      "validation loss 0.0002512642593864833\n",
      "Training loss   0.00029052000346267535\n",
      "validation loss 0.00025180465380441805\n",
      "Training loss   0.0002794484552475618\n",
      "validation loss 0.00025266472618996167\n",
      "Training loss   0.00028150279192233304\n",
      "validation loss 0.0002458903511711264\n",
      "Training loss   0.00028090512649337683\n",
      "validation loss 0.0002492158438098693\n",
      "Training loss   0.00027895410948867376\n",
      "validation loss 0.0002525550998767836\n",
      "Training loss   0.0002804191600099677\n",
      "validation loss 0.0002409824825768674\n",
      "Training loss   0.00027464675062542144\n",
      "validation loss 0.00024188288822974994\n",
      "Training loss   0.00027469089975123105\n",
      "validation loss 0.00024191903208205725\n",
      "Training loss   0.000272446231955782\n",
      "validation loss 0.00024917064675093243\n",
      "Training loss   0.0002719980852644723\n",
      "validation loss 0.0002456076835870306\n",
      "Training loss   0.0002704828940892004\n",
      "validation loss 0.00025595382554243184\n",
      "Training loss   0.00027120302521139186\n",
      "validation loss 0.000245978046758365\n",
      "Training loss   0.00026900691781161145\n",
      "validation loss 0.0002382835914490968\n",
      "Training loss   0.00026693918232334295\n",
      "validation loss 0.0002463371443411115\n",
      "Training loss   0.0002688406800427456\n",
      "validation loss 0.0002566936129651192\n",
      "Training loss   0.0002656579666214417\n",
      "validation loss 0.0002392679379482973\n",
      "Training loss   0.00026693590839854545\n",
      "validation loss 0.00023859260581590843\n",
      "Training loss   0.00026422039372087585\n",
      "validation loss 0.0002449183863110492\n",
      "Training loss   0.0002639914823234909\n",
      "validation loss 0.00023895887526539244\n",
      "Training loss   0.0002627956064707403\n",
      "validation loss 0.0002386710156646483\n",
      "Training loss   0.00026140220441002183\n",
      "validation loss 0.0002383800127008276\n",
      "Training loss   0.00025808709210502483\n",
      "validation loss 0.0002526449837732982\n",
      "Training loss   0.0002586965574676504\n",
      "validation loss 0.00024546273436830965\n"
     ]
    }
   ],
   "source": [
    "converged_nn = fit_regression_net(\n",
    "    nn,\n",
    "    train_params_norm,\n",
    "    train_energy_ABPD_norm,\n",
    "    num_train=train_params_norm.shape[0],\n",
    "    batch_size=50,\n",
    "    stop_after_epochs=10,\n",
    "    max_epochs=200,\n",
    ")\n",
    "np.savez('../../results/regression_nets/201007_predict_total_energy_PY.npz', converged_nn=converged_nn)"
   ]
  },
  {
   "cell_type": "code",
   "execution_count": 58,
   "metadata": {},
   "outputs": [],
   "source": [
    "data = np.load(\n",
    "    \"../../results/regression_nets/201007_predict_total_energy_PY.npz\",\n",
    "    allow_pickle=True,\n",
    ")\n",
    "converged_nn = data[\"converged_nn\"].tolist()"
   ]
  },
  {
   "cell_type": "code",
   "execution_count": 59,
   "metadata": {},
   "outputs": [],
   "source": [
    "predictions = converged_nn.predict(torch.as_tensor(test_params_norm)).detach()"
   ]
  },
  {
   "cell_type": "code",
   "execution_count": 60,
   "metadata": {},
   "outputs": [
    {
     "data": {
      "image/png": "[encoded data removed]",
      "text/plain": [
       "<Figure size 200x100 with 1 Axes>"
      ]
     },
     "metadata": {},
     "output_type": "display_data"
    }
   ],
   "source": [
    "with mpl.rc_context(fname=\"../../.matplotlibrc\"):\n",
    "    fig, ax = plt.subplots(1, 1, figsize=(2, 1.0))\n",
    "    unnorm_x = test_energy_ABPD_norm[:300] * std_energy + mean_energy\n",
    "    unnorm_y = predictions[:300] * std_energy + mean_energy\n",
    "    ax.scatter(x=unnorm_x.numpy(), y=unnorm_y.numpy(), s=3, color=\"#2b8cbe\")\n",
    "    gt_vec = np.linspace(np.min(unnorm_x.numpy()), np.max(unnorm_x.numpy()), 2)\n",
    "    ax.plot(gt_vec, gt_vec, \"#ff7f00\")\n",
    "    ax.set_xlabel(\"Total energy\")\n",
    "    ax.set_ylabel(\"Neural net prediction\")"
   ]
  },
  {
   "cell_type": "code",
   "execution_count": null,
   "metadata": {},
   "outputs": [],
   "source": []
  }
 ],
 "metadata": {
  "kernelspec": {
   "display_name": "sbi_prinz",
   "language": "python",
   "name": "sbi_prinz"
  },
  "language_info": {
   "codemirror_mode": {
    "name": "ipython",
    "version": 3
   },
   "file_extension": ".py",
   "mimetype": "text/x-python",
   "name": "python",
   "nbconvert_exporter": "python",
   "pygments_lexer": "ipython3",
   "version": "3.8.5"
  }
 },
 "nbformat": 4,
 "nbformat_minor": 4
}
