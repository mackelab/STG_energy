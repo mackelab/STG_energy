{
 "cells": [
  {
   "cell_type": "code",
   "execution_count": 1,
   "metadata": {},
   "outputs": [],
   "source": [
    "import time\n",
    "\n",
    "import IPython.display as IPd\n",
    "import matplotlib as mpl\n",
    "import matplotlib.pylab as plt\n",
    "import numpy as np\n",
    "import torch\n",
    "from mpl_toolkits.axes_grid1 import make_axes_locatable\n",
    "\n",
    "import stg_energy.fig3_amortize_energy.viz as viz\n",
    "from pyloric import create_prior, get_time, simulate_energyscape, stats\n",
    "from sbi.utils.regression_net.get_nn_classifier import classifier\n",
    "from sbi.utils.regression_net.train_classifier import fit_regression_net\n",
    "from stg_energy.common import col, get_labels_8pt, svg\n",
    "from stg_energy.fig3_amortize_energy.helper_functions import (\n",
    "    active_subspace,\n",
    "    get_gradient,\n",
    ")"
   ]
  },
  {
   "cell_type": "markdown",
   "metadata": {},
   "source": [
    "# Figure 3: additional nets\n",
    "Here, we train 3 nets to predict the energy in AB/PD, LP, and PY. This will be used in fig5_cc"
   ]
  },
  {
   "cell_type": "code",
   "execution_count": 2,
   "metadata": {},
   "outputs": [],
   "source": [
    "%load_ext autoreload\n",
    "%autoreload 2"
   ]
  },
  {
   "cell_type": "code",
   "execution_count": 3,
   "metadata": {},
   "outputs": [],
   "source": [
    "PANEL_A = \"../svg/panel_a.svg\"\n",
    "PANEL_B = \"../svg/panel_b.svg\"\n",
    "PANEL_C = \"../svg/panel_c.svg\""
   ]
  },
  {
   "cell_type": "markdown",
   "metadata": {},
   "source": [
    "### Load experimental data"
   ]
  },
  {
   "cell_type": "code",
   "execution_count": 4,
   "metadata": {},
   "outputs": [],
   "source": [
    "prior_11 = create_prior(log=True)\n",
    "dimensions_11 = 31\n",
    "lims_11 = np.asarray(\n",
    "    [-np.sqrt(3) * np.ones(dimensions_11), np.sqrt(3) * np.ones(dimensions_11)]\n",
    ").T\n",
    "\n",
    "params_mean_11 = prior_11.mean.numpy()\n",
    "params_std_11 = prior_11.stddev.numpy()"
   ]
  },
  {
   "cell_type": "code",
   "execution_count": 5,
   "metadata": {},
   "outputs": [],
   "source": [
    "data = np.load(\"../../results/11deg_post_pred/11_deg_post_pred_close_to_obs.npz\")\n",
    "good_stats = data[\"sample_stats\"]\n",
    "good_params = data[\"sample_params\"]\n",
    "good_seeds = data[\"sample_seeds\"]"
   ]
  },
  {
   "cell_type": "code",
   "execution_count": 6,
   "metadata": {},
   "outputs": [
    {
     "name": "stdout",
     "output_type": "stream",
     "text": [
      "There are 55043 datapoints in this dataset\n"
     ]
    }
   ],
   "source": [
    "sample_params = good_params\n",
    "sample_stats = good_stats\n",
    "print(\"There are\", len(good_seeds), \"datapoints in this dataset\")"
   ]
  },
  {
   "cell_type": "code",
   "execution_count": 7,
   "metadata": {},
   "outputs": [],
   "source": [
    "sample_stats = data[\"sample_stats\"]\n",
    "sample_params = data[\"sample_params\"]\n",
    "sample_seeds = data[\"sample_seeds\"]"
   ]
  },
  {
   "cell_type": "code",
   "execution_count": 8,
   "metadata": {},
   "outputs": [],
   "source": [
    "energies = sample_stats[:, 21:24]\n",
    "summed_energies = np.sum(energies, axis=1)"
   ]
  },
  {
   "cell_type": "markdown",
   "metadata": {},
   "source": [
    "# Panel 0: Fit regression net"
   ]
  },
  {
   "cell_type": "code",
   "execution_count": 9,
   "metadata": {},
   "outputs": [],
   "source": [
    "energies = torch.as_tensor(energies)\n",
    "sample_stats = torch.as_tensor(sample_stats)"
   ]
  },
  {
   "cell_type": "code",
   "execution_count": 10,
   "metadata": {},
   "outputs": [
    {
     "name": "stdout",
     "output_type": "stream",
     "text": [
      "torch.Size([55043, 3])\n"
     ]
    }
   ],
   "source": [
    "print(energies.shape)"
   ]
  },
  {
   "cell_type": "code",
   "execution_count": 11,
   "metadata": {},
   "outputs": [],
   "source": [
    "num_test = 500\n",
    "\n",
    "test_params = good_params[:num_test]\n",
    "train_params = good_params[num_test:]\n",
    "mean_params = np.mean(train_params, axis=0)\n",
    "std_params = np.std(train_params, axis=0)\n",
    "\n",
    "train_params_norm = (train_params - mean_params) / std_params\n",
    "test_params_norm = (test_params - mean_params) / std_params"
   ]
  },
  {
   "cell_type": "markdown",
   "metadata": {},
   "source": [
    "### AB/PD"
   ]
  },
  {
   "cell_type": "code",
   "execution_count": 43,
   "metadata": {},
   "outputs": [],
   "source": [
    "train_energy_ABPD = energies[num_test:, 0].unsqueeze(1)\n",
    "test_energy_ABPD = energies[:num_test, 0].unsqueeze(1)\n",
    "mean_energy = torch.mean(train_energy_ABPD)\n",
    "std_energy = torch.std(train_energy_ABPD)\n",
    "train_energy_ABPD_norm = (train_energy_ABPD - mean_energy) / std_energy\n",
    "test_energy_ABPD_norm = (test_energy_ABPD - mean_energy) / std_energy"
   ]
  },
  {
   "cell_type": "code",
   "execution_count": 44,
   "metadata": {},
   "outputs": [],
   "source": [
    "nn = classifier(dim=31)"
   ]
  },
  {
   "cell_type": "code",
   "execution_count": 45,
   "metadata": {
    "collapsed": true,
    "jupyter": {
     "outputs_hidden": true
    }
   },
   "outputs": [
    {
     "name": "stdout",
     "output_type": "stream",
     "text": [
      "Total number of trainable parameters 169001\n",
      "Training loss   0.0024701463387346544\n",
      "validation loss 0.0008987268660043381\n",
      "Training loss   0.0010592765318238294\n",
      "validation loss 0.0006617953384501687\n",
      "Training loss   0.0007933264820722042\n",
      "validation loss 0.0005149087516077061\n",
      "Training loss   0.0006942612797589827\n",
      "validation loss 0.0004975700392417685\n",
      "Training loss   0.0006159773559788863\n",
      "validation loss 0.0004282528297219333\n",
      "Training loss   0.0005756694181246083\n",
      "validation loss 0.0004232845531211437\n",
      "Training loss   0.0005449943847858956\n",
      "validation loss 0.0003854897482735536\n",
      "Training loss   0.0005143139853572954\n",
      "validation loss 0.0003544431934380728\n",
      "Training loss   0.0004950413541720192\n",
      "validation loss 0.0003858382819607977\n",
      "Training loss   0.00048543369500959145\n",
      "validation loss 0.00035472796115030615\n",
      "Training loss   0.0004678096998187882\n",
      "validation loss 0.0003369252367319042\n",
      "Training loss   0.0004572099554118721\n",
      "validation loss 0.0003338536469557764\n",
      "Training loss   0.0004440778439718504\n",
      "validation loss 0.00032773606434778596\n",
      "Training loss   0.0004445900204846444\n",
      "validation loss 0.00031531502029198666\n",
      "Training loss   0.00043202797965965605\n",
      "validation loss 0.0003314705920686534\n",
      "Training loss   0.00041956821398268\n",
      "validation loss 0.0003335731174014884\n",
      "Training loss   0.00041959699152390844\n",
      "validation loss 0.00031307752472096686\n",
      "Training loss   0.00040939417456712626\n",
      "validation loss 0.0002983598230623467\n",
      "Training loss   0.00040869706871083327\n",
      "validation loss 0.0003151895578243829\n",
      "Training loss   0.0004040409060364475\n",
      "validation loss 0.00029723993173905405\n",
      "Training loss   0.00039660499354240373\n",
      "validation loss 0.00029996488564310546\n",
      "Training loss   0.00039570741843392116\n",
      "validation loss 0.0003272569922714961\n",
      "Training loss   0.0003890953637399095\n",
      "validation loss 0.0002959250708944638\n",
      "Training loss   0.0003875697333583635\n",
      "validation loss 0.0002879432172068044\n",
      "Training loss   0.00038444498392453994\n",
      "validation loss 0.0003330438958667048\n",
      "Training loss   0.0003761608295818527\n",
      "validation loss 0.00029729231065233074\n",
      "Training loss   0.0003742306366334566\n",
      "validation loss 0.00028561830920133973\n",
      "Training loss   0.0003737837745708042\n",
      "validation loss 0.00028667729706473576\n",
      "Training loss   0.00036978901614649937\n",
      "validation loss 0.0002799646011242126\n",
      "Training loss   0.0003638391354552475\n",
      "validation loss 0.00030633671811886823\n",
      "Training loss   0.00036665507215049393\n",
      "validation loss 0.00029161080827306543\n",
      "Training loss   0.0003626310538183782\n",
      "validation loss 0.0002792488139952464\n",
      "Training loss   0.0003602404166340088\n",
      "validation loss 0.0002910899382518258\n",
      "Training loss   0.0003493936711389843\n",
      "validation loss 0.0002717742267876563\n",
      "Training loss   0.0003497752577210309\n",
      "validation loss 0.0002707955936237992\n",
      "Training loss   0.00034901262198174443\n",
      "validation loss 0.0002793507488302743\n",
      "Training loss   0.0003470035067780248\n",
      "validation loss 0.0002719512340756975\n",
      "Training loss   0.0003456583944226875\n",
      "validation loss 0.00028607398433752503\n",
      "Training loss   0.0003427557319364294\n",
      "validation loss 0.0002696270142757871\n",
      "Training loss   0.00034760061392189953\n",
      "validation loss 0.0002671190592998982\n",
      "Training loss   0.0003373792460431877\n",
      "validation loss 0.00027386551999463934\n",
      "Training loss   0.0003367465296228212\n",
      "validation loss 0.0002742201660091346\n",
      "Training loss   0.00033542629398475066\n",
      "validation loss 0.0002945734242593663\n",
      "Training loss   0.00033717186589293655\n",
      "validation loss 0.0002716328645693557\n",
      "Training loss   0.00033143810456438957\n",
      "validation loss 0.00027624241850662405\n",
      "Training loss   0.00033556211926581854\n",
      "validation loss 0.0002651605589484316\n",
      "Training loss   0.0003244452477352192\n",
      "validation loss 0.0002644068548689732\n",
      "Training loss   0.0003293264208976519\n",
      "validation loss 0.00027054521092149665\n",
      "Training loss   0.00032235234030794093\n",
      "validation loss 0.0002628411977329077\n",
      "Training loss   0.00032772071775828514\n",
      "validation loss 0.00026439390333896925\n",
      "Training loss   0.00031996854472454\n",
      "validation loss 0.00026146576156810703\n",
      "Training loss   0.0003205209486030171\n",
      "validation loss 0.00025906961293435226\n",
      "Training loss   0.00031842596476731855\n",
      "validation loss 0.0002561238648986237\n",
      "Training loss   0.0003215642191089157\n",
      "validation loss 0.00025843974120921766\n",
      "Training loss   0.00031864583471067785\n",
      "validation loss 0.0002625667488357815\n",
      "Training loss   0.00031715450675067077\n",
      "validation loss 0.00025992551809953614\n",
      "Training loss   0.0003130199964471815\n",
      "validation loss 0.00026841644252335444\n",
      "Training loss   0.0003106613002139668\n",
      "validation loss 0.00025710226032340014\n",
      "Training loss   0.00031096039355381583\n",
      "validation loss 0.00027118098190503313\n",
      "Training loss   0.00031151658656508775\n",
      "validation loss 0.00025357548557187744\n",
      "Training loss   0.0003071247365689506\n",
      "validation loss 0.00025464112697106013\n",
      "Training loss   0.00030189705304931996\n",
      "validation loss 0.00025137810388240216\n",
      "Training loss   0.0003041229247221191\n",
      "validation loss 0.0002653608649224726\n",
      "Training loss   0.00030395105921347945\n",
      "validation loss 0.0002845670591688123\n",
      "Training loss   0.0003058639602177695\n",
      "validation loss 0.00025225264463303945\n",
      "Training loss   0.0003019661306778626\n",
      "validation loss 0.00025529521581478667\n",
      "Training loss   0.00030293592512026257\n",
      "validation loss 0.0002619041623351336\n",
      "Training loss   0.0002980982728279408\n",
      "validation loss 0.0002579062991014978\n",
      "Training loss   0.0002981812934584872\n",
      "validation loss 0.00025799185469555376\n",
      "Training loss   0.00030004697545202974\n",
      "validation loss 0.00026895693092718787\n",
      "Training loss   0.00029797410775749184\n",
      "validation loss 0.00026363049762700806\n",
      "Training loss   0.0002928385433348259\n",
      "validation loss 0.0002571652499117183\n"
     ]
    }
   ],
   "source": [
    "converged_nn = fit_regression_net(\n",
    "    nn,\n",
    "    train_params_norm,\n",
    "    train_energy_ABPD_norm,\n",
    "    num_train=train_params_norm.shape[0],\n",
    "    batch_size=50,\n",
    "    stop_after_epochs=10,\n",
    "    max_epochs=200,\n",
    ")\n",
    "np.savez('../../results/regression_nets/201007_predict_total_energy_ABPD.npz', converged_nn=converged_nn, mean_params=mean_params, std_params=std_params, mean_energy=mean_energy, std_energy=std_energy)"
   ]
  },
  {
   "cell_type": "code",
   "execution_count": 46,
   "metadata": {},
   "outputs": [],
   "source": [
    "data = np.load(\n",
    "    \"../../results/regression_nets/201007_predict_total_energy_ABPD.npz\",\n",
    "    allow_pickle=True,\n",
    ")\n",
    "converged_nn = data[\"converged_nn\"].tolist()"
   ]
  },
  {
   "cell_type": "code",
   "execution_count": 47,
   "metadata": {},
   "outputs": [],
   "source": [
    "predictions = converged_nn.predict(torch.as_tensor(test_params_norm)).detach()"
   ]
  },
  {
   "cell_type": "code",
   "execution_count": 48,
   "metadata": {},
   "outputs": [
    {
     "data": {
      "image/png": "[encoded data removed]",
      "text/plain": [
       "<Figure size 200x100 with 1 Axes>"
      ]
     },
     "metadata": {},
     "output_type": "display_data"
    }
   ],
   "source": [
    "with mpl.rc_context(fname=\"../../.matplotlibrc\"):\n",
    "    fig, ax = plt.subplots(1, 1, figsize=(2, 1.0))\n",
    "    unnorm_x = test_energy_ABPD_norm[:300] * std_energy + mean_energy\n",
    "    unnorm_y = predictions[:300] * std_energy + mean_energy\n",
    "    ax.scatter(x=unnorm_x.numpy(), y=unnorm_y.numpy(), s=3, color=\"#2b8cbe\")\n",
    "    gt_vec = np.linspace(np.min(unnorm_x.numpy()), np.max(unnorm_x.numpy()), 2)\n",
    "    ax.plot(gt_vec, gt_vec, \"#ff7f00\")\n",
    "    ax.set_xlabel(\"AB/PD energy\")\n",
    "    ax.set_ylabel(\"Neural net prediction\")"
   ]
  },
  {
   "cell_type": "markdown",
   "metadata": {},
   "source": [
    "### LP"
   ]
  },
  {
   "cell_type": "code",
   "execution_count": 20,
   "metadata": {},
   "outputs": [],
   "source": [
    "nn = classifier(dim=31)"
   ]
  },
  {
   "cell_type": "code",
   "execution_count": 21,
   "metadata": {},
   "outputs": [],
   "source": [
    "train_energy_ABPD = energies[num_test:, 1].unsqueeze(1)\n",
    "test_energy_ABPD = energies[:num_test, 1].unsqueeze(1)\n",
    "mean_energy = torch.mean(train_energy_ABPD)\n",
    "std_energy = torch.std(train_energy_ABPD)\n",
    "train_energy_ABPD_norm = (train_energy_ABPD - mean_energy) / std_energy\n",
    "test_energy_ABPD_norm = (test_energy_ABPD - mean_energy) / std_energy"
   ]
  },
  {
   "cell_type": "code",
   "execution_count": 22,
   "metadata": {},
   "outputs": [
    {
     "name": "stdout",
     "output_type": "stream",
     "text": [
      "Total number of trainable parameters 169001\n",
      "Training loss   0.002840474718298904\n",
      "validation loss 0.0010780653673011596\n",
      "Training loss   0.0013582053965165838\n",
      "validation loss 0.0008714694355628995\n",
      "Training loss   0.0010942079029240277\n",
      "validation loss 0.0007588154464741566\n",
      "Training loss   0.0009586672672975779\n",
      "validation loss 0.0007090356883846435\n",
      "Training loss   0.0008818506120105797\n",
      "validation loss 0.0007478458122252107\n",
      "Training loss   0.0008168353670613047\n",
      "validation loss 0.0005806248174087374\n",
      "Training loss   0.0007673200060348749\n",
      "validation loss 0.0005449614094059802\n",
      "Training loss   0.0007335096174205084\n",
      "validation loss 0.000479466601093082\n",
      "Training loss   0.000715538401655565\n",
      "validation loss 0.0005298171168505654\n",
      "Training loss   0.0006803428588997854\n",
      "validation loss 0.0004727425926137036\n",
      "Training loss   0.0006647786110210945\n",
      "validation loss 0.00045062472051868297\n",
      "Training loss   0.0006433414218325297\n",
      "validation loss 0.0004192566615209243\n",
      "Training loss   0.0006281730164420115\n",
      "validation loss 0.00043887933801542065\n",
      "Training loss   0.0006112462195415703\n",
      "validation loss 0.00041355298683525335\n",
      "Training loss   0.0006019329615800934\n",
      "validation loss 0.0004039322815692064\n",
      "Training loss   0.0005873627925582772\n",
      "validation loss 0.0004001545063352279\n",
      "Training loss   0.0005777802464726467\n",
      "validation loss 0.0004194442515699389\n",
      "Training loss   0.0005682290723431076\n",
      "validation loss 0.00045637504055099027\n",
      "Training loss   0.0005615330289462229\n",
      "validation loss 0.00039374295683572533\n",
      "Training loss   0.0005436605065091146\n",
      "validation loss 0.00036429993135600214\n",
      "Training loss   0.0005506584089160733\n",
      "validation loss 0.00039336321317171637\n",
      "Training loss   0.0005362528574202487\n",
      "validation loss 0.00038917653730410597\n",
      "Training loss   0.0005384297084906885\n",
      "validation loss 0.0003604897100727674\n",
      "Training loss   0.0005165877174634628\n",
      "validation loss 0.00035904790355894786\n",
      "Training loss   0.0005093966334679673\n",
      "validation loss 0.0003967186741660649\n",
      "Training loss   0.0004958399814364441\n",
      "validation loss 0.00036628193859656287\n",
      "Training loss   0.000500354758480344\n",
      "validation loss 0.0004052555238047835\n",
      "Training loss   0.000493130406966303\n",
      "validation loss 0.00035279010781910744\n",
      "Training loss   0.0004916608470303555\n",
      "validation loss 0.0003557467143419246\n",
      "Training loss   0.0004769043815439091\n",
      "validation loss 0.0003354865553986032\n",
      "Training loss   0.0004843175887434368\n",
      "validation loss 0.0003293174550306021\n",
      "Training loss   0.00047476904824493885\n",
      "validation loss 0.0003461989504989411\n",
      "Training loss   0.0004687824981028185\n",
      "validation loss 0.00036875132409860847\n",
      "Training loss   0.00047115295335548447\n",
      "validation loss 0.00034511039216211364\n",
      "Training loss   0.0004666423451222511\n",
      "validation loss 0.00033411288823450956\n",
      "Training loss   0.00045965112031788374\n",
      "validation loss 0.0003454508157455517\n",
      "Training loss   0.00045854698593325723\n",
      "validation loss 0.00031827347819188886\n",
      "Training loss   0.00045731145496367243\n",
      "validation loss 0.000329286946234738\n",
      "Training loss   0.00045812659747558593\n",
      "validation loss 0.00032720877767619905\n",
      "Training loss   0.00044545927775581763\n",
      "validation loss 0.00031989503064552214\n",
      "Training loss   0.0004525856278504936\n",
      "validation loss 0.0003256783485207724\n",
      "Training loss   0.0004426759399309441\n",
      "validation loss 0.00032514854121738133\n",
      "Training loss   0.0004450015157869151\n",
      "validation loss 0.00032230944711609134\n",
      "Training loss   0.00044128033599659627\n",
      "validation loss 0.00031435467895226234\n",
      "Training loss   0.00043970727372325344\n",
      "validation loss 0.00032216998740798505\n",
      "Training loss   0.0004343663094060755\n",
      "validation loss 0.00031553743890291175\n",
      "Training loss   0.00042486932679857196\n",
      "validation loss 0.0003378725838595634\n",
      "Training loss   0.00043426151634036106\n",
      "validation loss 0.0003092272147386037\n",
      "Training loss   0.00042636951612553896\n",
      "validation loss 0.00036080704163674585\n",
      "Training loss   0.00042926536136204523\n",
      "validation loss 0.00031951018417037265\n",
      "Training loss   0.000422387073108516\n",
      "validation loss 0.0003160771670538717\n",
      "Training loss   0.0004221756751403198\n",
      "validation loss 0.0003164717400024835\n",
      "Training loss   0.0004144794422015426\n",
      "validation loss 0.0003214999804602753\n",
      "Training loss   0.0004194100382214933\n",
      "validation loss 0.00030959906512367737\n",
      "Training loss   0.00041637086965410204\n",
      "validation loss 0.000312935510576864\n",
      "Training loss   0.00040757917385872254\n",
      "validation loss 0.00031385476795715763\n",
      "Training loss   0.0004102031553200248\n",
      "validation loss 0.0003042304295940644\n",
      "Training loss   0.0004132230415657367\n",
      "validation loss 0.0003110986470144949\n",
      "Training loss   0.00040781490757151945\n",
      "validation loss 0.0003130031560097781\n",
      "Training loss   0.00040882843260615676\n",
      "validation loss 0.0003101283622057093\n",
      "Training loss   0.00041299519528506745\n",
      "validation loss 0.0003105490934530548\n",
      "Training loss   0.0004020319861262603\n",
      "validation loss 0.00030924405315318966\n",
      "Training loss   0.0003943291475001912\n",
      "validation loss 0.00030592432028787273\n",
      "Training loss   0.00040612737588235936\n",
      "validation loss 0.00030739236389151086\n",
      "Training loss   0.0003979177332366058\n",
      "validation loss 0.0003263705847981214\n",
      "Training loss   0.00040028710061503023\n",
      "validation loss 0.0003117741591798177\n",
      "Training loss   0.00040222656027806406\n",
      "validation loss 0.0003137038879806738\n"
     ]
    }
   ],
   "source": [
    "converged_nn = fit_regression_net(\n",
    "    nn,\n",
    "    train_params_norm,\n",
    "    train_energy_ABPD_norm,\n",
    "    num_train=train_params_norm.shape[0],\n",
    "    batch_size=50,\n",
    "    stop_after_epochs=10,\n",
    "    max_epochs=200,\n",
    ")\n",
    "np.savez('../../results/regression_nets/201007_predict_total_energy_LP.npz', converged_nn=converged_nn, mean_params=mean_params, std_params=std_params, mean_energy=mean_energy, std_energy=std_energy)"
   ]
  },
  {
   "cell_type": "code",
   "execution_count": 23,
   "metadata": {},
   "outputs": [],
   "source": [
    "data = np.load(\n",
    "    \"../../results/regression_nets/201007_predict_total_energy_LP.npz\",\n",
    "    allow_pickle=True,\n",
    ")\n",
    "converged_nn = data[\"converged_nn\"].tolist()"
   ]
  },
  {
   "cell_type": "code",
   "execution_count": 24,
   "metadata": {},
   "outputs": [],
   "source": [
    "predictions = converged_nn.predict(torch.as_tensor(test_params_norm)).detach()"
   ]
  },
  {
   "cell_type": "code",
   "execution_count": 25,
   "metadata": {},
   "outputs": [
    {
     "data": {
      "image/png": "[encoded data removed]",
      "text/plain": [
       "<Figure size 200x100 with 1 Axes>"
      ]
     },
     "metadata": {},
     "output_type": "display_data"
    }
   ],
   "source": [
    "with mpl.rc_context(fname=\"../../.matplotlibrc\"):\n",
    "    fig, ax = plt.subplots(1, 1, figsize=(2, 1.0))\n",
    "    unnorm_x = test_energy_ABPD_norm[:300] * std_energy + mean_energy\n",
    "    unnorm_y = predictions[:300] * std_energy + mean_energy\n",
    "    ax.scatter(x=unnorm_x.numpy(), y=unnorm_y.numpy(), s=3, color=\"#2b8cbe\")\n",
    "    gt_vec = np.linspace(np.min(unnorm_x.numpy()), np.max(unnorm_x.numpy()), 2)\n",
    "    ax.plot(gt_vec, gt_vec, \"#ff7f00\")\n",
    "    ax.set_xlabel(\"Total energy\")\n",
    "    ax.set_ylabel(\"Neural net prediction\")"
   ]
  },
  {
   "cell_type": "markdown",
   "metadata": {},
   "source": [
    "# PY"
   ]
  },
  {
   "cell_type": "code",
   "execution_count": 67,
   "metadata": {},
   "outputs": [],
   "source": [
    "nn = classifier(dim=31)"
   ]
  },
  {
   "cell_type": "code",
   "execution_count": 68,
   "metadata": {},
   "outputs": [],
   "source": [
    "train_energy_ABPD = energies[num_test:, 2].unsqueeze(1)\n",
    "test_energy_ABPD = energies[:num_test, 2].unsqueeze(1)\n",
    "mean_energy = torch.mean(train_energy_ABPD)\n",
    "std_energy = torch.std(train_energy_ABPD)\n",
    "train_energy_ABPD_norm = (train_energy_ABPD - mean_energy) / std_energy\n",
    "test_energy_ABPD_norm = (test_energy_ABPD - mean_energy) / std_energy"
   ]
  },
  {
   "cell_type": "code",
   "execution_count": 69,
   "metadata": {
    "collapsed": true,
    "jupyter": {
     "outputs_hidden": true
    }
   },
   "outputs": [
    {
     "name": "stdout",
     "output_type": "stream",
     "text": [
      "Total number of trainable parameters 169001\n",
      "Training loss   0.002117187371563999\n",
      "validation loss 0.0005942763086309354\n",
      "Training loss   0.0007571277575251055\n",
      "validation loss 0.0004812629046610033\n",
      "Training loss   0.0006085111304224836\n",
      "validation loss 0.0004248581929123806\n",
      "Training loss   0.0005537201065897657\n",
      "validation loss 0.0004099898327118098\n",
      "Training loss   0.0005094241718007276\n",
      "validation loss 0.0004028098995769166\n",
      "Training loss   0.0004910056251908666\n",
      "validation loss 0.00038374950537350505\n",
      "Training loss   0.00046914442897470114\n",
      "validation loss 0.0003536218364136575\n",
      "Training loss   0.0004457534448549666\n",
      "validation loss 0.00036513699725693676\n",
      "Training loss   0.00043523076593021665\n",
      "validation loss 0.00035096922638381325\n",
      "Training loss   0.00041619982006774447\n",
      "validation loss 0.0003371635916293705\n",
      "Training loss   0.00040951495144134957\n",
      "validation loss 0.0003254632918824852\n",
      "Training loss   0.00039977927503951325\n",
      "validation loss 0.0003487401156183452\n",
      "Training loss   0.00039185296292638353\n",
      "validation loss 0.0003327924058210074\n",
      "Training loss   0.00038812611568682723\n",
      "validation loss 0.00031343730478987136\n",
      "Training loss   0.00037522996102888964\n",
      "validation loss 0.00032346960751290283\n",
      "Training loss   0.000370707683791279\n",
      "validation loss 0.0003040150417429826\n",
      "Training loss   0.00036307907095590287\n",
      "validation loss 0.0002981328639337549\n",
      "Training loss   0.00035574196623187486\n",
      "validation loss 0.00028468226701512894\n",
      "Training loss   0.00035463975794595753\n",
      "validation loss 0.0002934129056746975\n",
      "Training loss   0.00035034548827432425\n",
      "validation loss 0.00028319970203527717\n",
      "Training loss   0.0003473878062298009\n",
      "validation loss 0.0002925387914032154\n",
      "Training loss   0.0003386618827671211\n",
      "validation loss 0.00029180539220462253\n",
      "Training loss   0.00033777564146619403\n",
      "validation loss 0.00029247505991531007\n",
      "Training loss   0.00033350477216595594\n",
      "validation loss 0.0002839913861493142\n",
      "Training loss   0.00032955838734347184\n",
      "validation loss 0.0002751625101163123\n",
      "Training loss   0.00032528489360437367\n",
      "validation loss 0.00027901124308187957\n",
      "Training loss   0.0003213983160530726\n",
      "validation loss 0.0002773948663403472\n",
      "Training loss   0.0003214188907916246\n",
      "validation loss 0.00029158370431058456\n",
      "Training loss   0.0003169182606093492\n",
      "validation loss 0.00027060067224786655\n",
      "Training loss   0.0003209640278127755\n",
      "validation loss 0.0002701943659152764\n",
      "Training loss   0.0003090887913307979\n",
      "validation loss 0.0002599738090103586\n",
      "Training loss   0.0003120371585653705\n",
      "validation loss 0.00026134031788061017\n",
      "Training loss   0.0003036580809318118\n",
      "validation loss 0.0002637909371047311\n",
      "Training loss   0.00030490039640459604\n",
      "validation loss 0.00027102175468321136\n",
      "Training loss   0.00030271203463640297\n",
      "validation loss 0.00025714187158099234\n",
      "Training loss   0.0003024915892852718\n",
      "validation loss 0.0002574304689838458\n",
      "Training loss   0.00030111629429409607\n",
      "validation loss 0.00027630457613620597\n",
      "Training loss   0.0002988963886883566\n",
      "validation loss 0.000260945986853921\n",
      "Training loss   0.0002931329664869709\n",
      "validation loss 0.00025836410398717106\n",
      "Training loss   0.00029304987000432925\n",
      "validation loss 0.0002597377676513357\n",
      "Training loss   0.00029078858727033734\n",
      "validation loss 0.00026251315194720745\n",
      "Training loss   0.00029051643055957784\n",
      "validation loss 0.0002650867447625815\n",
      "Training loss   0.0002815358017183017\n",
      "validation loss 0.0002561353129103411\n",
      "Training loss   0.0002843115571984958\n",
      "validation loss 0.0002561098213054028\n",
      "Training loss   0.000286142294873566\n",
      "validation loss 0.00027389189930108576\n",
      "Training loss   0.0002833986960240212\n",
      "validation loss 0.00025006389061004385\n",
      "Training loss   0.000282412029195603\n",
      "validation loss 0.000251230971732345\n",
      "Training loss   0.0002802764708162595\n",
      "validation loss 0.00025696048511347563\n",
      "Training loss   0.0002789456033724788\n",
      "validation loss 0.0002449855817896745\n",
      "Training loss   0.0002785594391980636\n",
      "validation loss 0.00025061704986664707\n",
      "Training loss   0.0002753304776178116\n",
      "validation loss 0.0002601021205055451\n",
      "Training loss   0.00027572786280820983\n",
      "validation loss 0.000248655403420452\n",
      "Training loss   0.0002709916929449981\n",
      "validation loss 0.0002499113479111852\n",
      "Training loss   0.0002748486514768176\n",
      "validation loss 0.0002525732751788894\n",
      "Training loss   0.00027106018990089736\n",
      "validation loss 0.000250431115454785\n",
      "Training loss   0.0002695207052707497\n",
      "validation loss 0.000248969839433401\n",
      "Training loss   0.00027172450262728673\n",
      "validation loss 0.0002457740433227295\n",
      "Training loss   0.0002681070627860793\n",
      "validation loss 0.00024819812181684864\n",
      "Training loss   0.0002651658597705228\n",
      "validation loss 0.0002483879996243417\n"
     ]
    }
   ],
   "source": [
    "converged_nn = fit_regression_net(\n",
    "    nn,\n",
    "    train_params_norm,\n",
    "    train_energy_ABPD_norm,\n",
    "    num_train=train_params_norm.shape[0],\n",
    "    batch_size=50,\n",
    "    stop_after_epochs=10,\n",
    "    max_epochs=200,\n",
    ")\n",
    "np.savez('../../results/regression_nets/201007_predict_total_energy_PY.npz', converged_nn=converged_nn, mean_params=mean_params, std_params=std_params, mean_energy=mean_energy, std_energy=std_energy)"
   ]
  },
  {
   "cell_type": "code",
   "execution_count": 70,
   "metadata": {},
   "outputs": [],
   "source": [
    "data = np.load(\n",
    "    \"../../results/regression_nets/201007_predict_total_energy_PY.npz\",\n",
    "    allow_pickle=True,\n",
    ")\n",
    "converged_nn = data[\"converged_nn\"].tolist()"
   ]
  },
  {
   "cell_type": "code",
   "execution_count": 71,
   "metadata": {},
   "outputs": [],
   "source": [
    "predictions = converged_nn.predict(torch.as_tensor(test_params_norm)).detach()"
   ]
  },
  {
   "cell_type": "code",
   "execution_count": 72,
   "metadata": {},
   "outputs": [
    {
     "data": {
      "image/png": "[encoded data removed]",
      "text/plain": [
       "<Figure size 200x100 with 1 Axes>"
      ]
     },
     "metadata": {},
     "output_type": "display_data"
    }
   ],
   "source": [
    "with mpl.rc_context(fname=\"../../.matplotlibrc\"):\n",
    "    fig, ax = plt.subplots(1, 1, figsize=(2, 1.0))\n",
    "    unnorm_x = test_energy_ABPD_norm[:300] * std_energy + mean_energy\n",
    "    unnorm_y = predictions[:300] * std_energy + mean_energy\n",
    "    ax.scatter(x=unnorm_x.numpy(), y=unnorm_y.numpy(), s=3, color=\"#2b8cbe\")\n",
    "    gt_vec = np.linspace(np.min(unnorm_x.numpy()), np.max(unnorm_x.numpy()), 2)\n",
    "    ax.plot(gt_vec, gt_vec, \"#ff7f00\")\n",
    "    ax.set_xlabel(\"Total energy\")\n",
    "    ax.set_ylabel(\"Neural net prediction\")"
   ]
  },
  {
   "cell_type": "code",
   "execution_count": null,
   "metadata": {},
   "outputs": [],
   "source": []
  }
 ],
 "metadata": {
  "kernelspec": {
   "display_name": "sbi_prinz",
   "language": "python",
   "name": "sbi_prinz"
  },
  "language_info": {
   "codemirror_mode": {
    "name": "ipython",
    "version": 3
   },
   "file_extension": ".py",
   "mimetype": "text/x-python",
   "name": "python",
   "nbconvert_exporter": "python",
   "pygments_lexer": "ipython3",
   "version": "3.8.5"
  }
 },
 "nbformat": 4,
 "nbformat_minor": 4
}
