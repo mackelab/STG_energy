{
 "cells": [
  {
   "cell_type": "code",
   "execution_count": 3,
   "metadata": {},
   "outputs": [],
   "source": [
    "import time\n",
    "\n",
    "import IPython.display as IPd\n",
    "import matplotlib as mpl\n",
    "import matplotlib.pylab as plt\n",
    "import numpy as np\n",
    "import torch\n",
    "from mpl_toolkits.axes_grid1 import make_axes_locatable\n",
    "\n",
    "import stg_energy.fig3_amortize_energy.viz as viz\n",
    "from pyloric import create_prior, get_time, simulate_energyscape, stats\n",
    "from sbi.utils.regression_net.get_nn_classifier import classifier\n",
    "from sbi.utils.regression_net.train_classifier import fit_regression_net\n",
    "from stg_energy.common import col, get_labels_8pt, svg\n",
    "from stg_energy.fig3_amortize_energy.helper_functions import (\n",
    "    active_subspace,\n",
    "    get_gradient,\n",
    ")"
   ]
  },
  {
   "cell_type": "markdown",
   "metadata": {},
   "source": [
    "# Figure 3: additional nets\n",
    "Here, we train 3 nets to predict the energy in AB/PD, LP, and PY. This will be used in fig5_cc"
   ]
  },
  {
   "cell_type": "code",
   "execution_count": 4,
   "metadata": {},
   "outputs": [],
   "source": [
    "%load_ext autoreload\n",
    "%autoreload 2"
   ]
  },
  {
   "cell_type": "code",
   "execution_count": 32,
   "metadata": {},
   "outputs": [],
   "source": [
    "PANEL_quality_of_approx_LinReg = \"../svg/panel_quality_of_approx_LinReg.svg\"\n",
    "PANEL_REG_D1_lin = \"../svg/panel_reg_d1_lin.svg\"\n",
    "PANEL_REG_D2_lin = \"../svg/panel_reg_d2_lin.svg\"\n",
    "PANEL_REG_D3_lin = \"../svg/panel_reg_d3_lin.svg\"\n",
    "PANEL_REG_D4_lin = \"../svg/panel_reg_d4_lin.svg\"\n",
    "PANEL_quality_of_approx_NN = \"../svg/panel_quality_of_approx_NN.svg\"\n",
    "PANEL_lin_reg = \"../svg/panel_lin_reg.svg\""
   ]
  },
  {
   "cell_type": "markdown",
   "metadata": {},
   "source": [
    "### Load experimental data"
   ]
  },
  {
   "cell_type": "code",
   "execution_count": 6,
   "metadata": {},
   "outputs": [],
   "source": [
    "prior_11 = create_prior(log=True)\n",
    "dimensions_11 = 31\n",
    "lims_11 = np.asarray(\n",
    "    [-np.sqrt(3) * np.ones(dimensions_11), np.sqrt(3) * np.ones(dimensions_11)]\n",
    ").T\n",
    "\n",
    "params_mean_11 = prior_11.mean.numpy()\n",
    "params_std_11 = prior_11.stddev.numpy()"
   ]
  },
  {
   "cell_type": "code",
   "execution_count": 7,
   "metadata": {},
   "outputs": [],
   "source": [
    "data = np.load(\"../../results/11deg_post_pred/11_deg_post_pred_close_to_obs.npz\")\n",
    "good_stats = data[\"sample_stats\"]\n",
    "good_params = data[\"sample_params\"]\n",
    "good_seeds = data[\"sample_seeds\"]"
   ]
  },
  {
   "cell_type": "code",
   "execution_count": 8,
   "metadata": {},
   "outputs": [
    {
     "name": "stdout",
     "output_type": "stream",
     "text": [
      "There are 55043 datapoints in this dataset\n"
     ]
    }
   ],
   "source": [
    "sample_params = good_params\n",
    "sample_stats = good_stats\n",
    "print(\"There are\", len(good_seeds), \"datapoints in this dataset\")"
   ]
  },
  {
   "cell_type": "code",
   "execution_count": 9,
   "metadata": {},
   "outputs": [],
   "source": [
    "sample_stats = data[\"sample_stats\"]\n",
    "sample_params = data[\"sample_params\"]\n",
    "sample_seeds = data[\"sample_seeds\"]"
   ]
  },
  {
   "cell_type": "code",
   "execution_count": 10,
   "metadata": {},
   "outputs": [],
   "source": [
    "energies = sample_stats[:, 21:24]\n",
    "summed_energies = np.sum(energies, axis=1)"
   ]
  },
  {
   "cell_type": "markdown",
   "metadata": {},
   "source": [
    "# Panel 0: Fit regression net"
   ]
  },
  {
   "cell_type": "code",
   "execution_count": 11,
   "metadata": {},
   "outputs": [],
   "source": [
    "energies = torch.as_tensor(energies)\n",
    "sample_stats = torch.as_tensor(sample_stats)"
   ]
  },
  {
   "cell_type": "code",
   "execution_count": 12,
   "metadata": {},
   "outputs": [
    {
     "name": "stdout",
     "output_type": "stream",
     "text": [
      "torch.Size([55043, 3])\n"
     ]
    }
   ],
   "source": [
    "print(energies.shape)"
   ]
  },
  {
   "cell_type": "code",
   "execution_count": 13,
   "metadata": {},
   "outputs": [],
   "source": [
    "num_test = 500\n",
    "\n",
    "test_params = good_params[:num_test]\n",
    "train_params = good_params[num_test:]\n",
    "mean_params = np.mean(train_params, axis=0)\n",
    "std_params = np.std(train_params, axis=0)\n",
    "\n",
    "train_params_norm = (train_params - mean_params) / std_params\n",
    "test_params_norm = (test_params - mean_params) / std_params"
   ]
  },
  {
   "cell_type": "markdown",
   "metadata": {},
   "source": [
    "### AB/PD"
   ]
  },
  {
   "cell_type": "code",
   "execution_count": 14,
   "metadata": {},
   "outputs": [],
   "source": [
    "train_energy_ABPD = torch.sum(energies[num_test:], dim=1).unsqueeze(1)\n",
    "test_energy_ABPD = torch.sum(energies[:num_test], dim=1).unsqueeze(1)\n",
    "mean_energy = torch.mean(train_energy_ABPD)\n",
    "std_energy = torch.std(train_energy_ABPD)\n",
    "train_energy_ABPD_norm = (train_energy_ABPD - mean_energy) / std_energy\n",
    "test_energy_ABPD_norm = (test_energy_ABPD - mean_energy) / std_energy"
   ]
  },
  {
   "cell_type": "code",
   "execution_count": 15,
   "metadata": {},
   "outputs": [],
   "source": [
    "from sklearn.linear_model import LinearRegression"
   ]
  },
  {
   "cell_type": "code",
   "execution_count": 16,
   "metadata": {},
   "outputs": [],
   "source": [
    "regressor = LinearRegression()"
   ]
  },
  {
   "cell_type": "code",
   "execution_count": 17,
   "metadata": {},
   "outputs": [],
   "source": [
    "fitted_reg = regressor.fit(train_params_norm, train_energy_ABPD_norm)"
   ]
  },
  {
   "cell_type": "code",
   "execution_count": 18,
   "metadata": {},
   "outputs": [],
   "source": [
    "predictions = fitted_reg.predict(test_params_norm)"
   ]
  },
  {
   "cell_type": "code",
   "execution_count": 19,
   "metadata": {},
   "outputs": [
    {
     "data": {
      "text/plain": [
       "tensor(3780229.3953, dtype=torch.float64)"
      ]
     },
     "execution_count": 19,
     "metadata": {},
     "output_type": "execute_result"
    }
   ],
   "source": [
    "mean_energy"
   ]
  },
  {
   "cell_type": "code",
   "execution_count": 56,
   "metadata": {},
   "outputs": [
    {
     "data": {
      "image/png": "[encoded data removed]",
      "text/plain": [
       "<Figure size 200x100 with 1 Axes>"
      ]
     },
     "metadata": {},
     "output_type": "display_data"
    }
   ],
   "source": [
    "with mpl.rc_context(fname=\"../../.matplotlibrc\"):\n",
    "    fig, ax = plt.subplots(1, 1, figsize=(2, 1.0))\n",
    "    unnorm_x = test_energy_ABPD_norm[:300] * std_energy + mean_energy\n",
    "    unnorm_y = predictions[:300] * std_energy.numpy() + mean_energy.numpy()\n",
    "    ax.scatter(x=unnorm_x.numpy()/40000, y=unnorm_y/40000, s=3, color=\"#2b8cbe\")\n",
    "    gt_vec = np.linspace(np.min(unnorm_x.numpy())/40000, np.max(unnorm_x.numpy())/40000, 2)\n",
    "    ax.plot(gt_vec, gt_vec, \"#ff7f00\")\n",
    "    ax.set_xlabel(\"Total energy ($\\mu$J/s)\")\n",
    "    ax.set_ylabel(\"Lin. Reg. prediction\")\n",
    "    plt.savefig(PANEL_quality_of_approx_LinReg, facecolor='None', transparent=False)"
   ]
  },
  {
   "cell_type": "code",
   "execution_count": 21,
   "metadata": {},
   "outputs": [],
   "source": [
    "coeff = np.asarray([fitted_reg.coef_[0]])"
   ]
  },
  {
   "cell_type": "code",
   "execution_count": 22,
   "metadata": {},
   "outputs": [
    {
     "data": {
      "text/plain": [
       "array([[ 0.24386115,  0.24714988,  0.22915705, -0.20228311,  0.02741928,\n",
       "        -0.0867205 , -0.01520331, -0.02410771,  0.06194275,  0.1165701 ,\n",
       "         0.25380537, -0.12808335,  0.00068791, -0.0904568 ,  0.01791403,\n",
       "        -0.03450488,  0.4474904 ,  0.55777943,  0.31478217, -0.24465199,\n",
       "        -0.14649534, -0.11644471,  0.01737932, -0.08561385,  0.04036997,\n",
       "        -0.01357779, -0.02205842,  0.0396339 ,  0.01102217, -0.02230285,\n",
       "         0.09144662]], dtype=float32)"
      ]
     },
     "execution_count": 22,
     "metadata": {},
     "output_type": "execute_result"
    }
   ],
   "source": [
    "coeff"
   ]
  },
  {
   "cell_type": "code",
   "execution_count": 69,
   "metadata": {},
   "outputs": [
    {
     "data": {
      "image/png": "[encoded data removed]",
      "text/plain": [
       "<Figure size 160x100 with 1 Axes>"
      ]
     },
     "metadata": {},
     "output_type": "display_data"
    }
   ],
   "source": [
    "with mpl.rc_context(fname=\"../../.matplotlibrc\"):\n",
    "    viz.py_sensitivity_bars(coeff[:1, 0:8], ylim=[-0.3, 0.6], figsize=(1.6, 1.0), ylabel='w', plot_labels=True, color=\"#3182bd\")\n",
    "    plt.savefig(PANEL_REG_D1_lin, facecolor='None', transparent=False)"
   ]
  },
  {
   "cell_type": "code",
   "execution_count": 71,
   "metadata": {},
   "outputs": [
    {
     "data": {
      "image/png": "[encoded data removed]",
      "text/plain": [
       "<Figure size 160x100 with 1 Axes>"
      ]
     },
     "metadata": {},
     "output_type": "display_data"
    }
   ],
   "source": [
    "with mpl.rc_context(fname=\"../../.matplotlibrc\"):\n",
    "    viz.py_sensitivity_bars(coeff[:1, 8:16], ylim=[-0.3, 0.6], figsize=(1.6, 1.0), ylabel='', plot_labels=False, color=\"#fc8d59\")\n",
    "    plt.savefig(PANEL_REG_D2_lin, facecolor='None', transparent=False)"
   ]
  },
  {
   "cell_type": "code",
   "execution_count": 73,
   "metadata": {},
   "outputs": [
    {
     "data": {
      "image/png": "[encoded data removed]",
      "text/plain": [
       "<Figure size 160x100 with 1 Axes>"
      ]
     },
     "metadata": {},
     "output_type": "display_data"
    }
   ],
   "source": [
    "with mpl.rc_context(fname=\"../../.matplotlibrc\"):\n",
    "    viz.py_sensitivity_bars(coeff[:1, 16:24], ylim=[-0.3, 0.6], figsize=(1.6, 1.0), ylabel='', plot_labels=False, color=\"#2ca25f\")\n",
    "    plt.savefig(PANEL_REG_D3_lin, facecolor='None', transparent=False)"
   ]
  },
  {
   "cell_type": "code",
   "execution_count": 93,
   "metadata": {},
   "outputs": [
    {
     "data": {
      "image/png": "[encoded data removed]",
      "text/plain": [
       "<Figure size 160x100 with 1 Axes>"
      ]
     },
     "metadata": {},
     "output_type": "display_data"
    }
   ],
   "source": [
    "with mpl.rc_context(fname=\"../../.matplotlibrc\"):\n",
    "    viz.synapse_sensitivity_bars(coeff[:1, 24:], ylim=[-0.3, 0.6], figsize=(1.6, 1.0), ylabel='', color=\"k\")\n",
    "    plt.savefig(PANEL_REG_D4_lin, facecolor='None', transparent=False)"
   ]
  },
  {
   "cell_type": "code",
   "execution_count": 75,
   "metadata": {},
   "outputs": [],
   "source": [
    "def svg(img):\n",
    "    IPd.display(IPd.HTML('<img src=\"{}\" / >'.format(img, time.time())))"
   ]
  },
  {
   "cell_type": "code",
   "execution_count": 96,
   "metadata": {},
   "outputs": [
    {
     "data": {
      "text/html": [
       "<img src=\"../fig/fig3_reg_supp_linear_reg.svg\" / >"
      ],
      "text/plain": [
       "<IPython.core.display.HTML object>"
      ]
     },
     "metadata": {},
     "output_type": "display_data"
    }
   ],
   "source": [
    "from svgutils.compose import *\n",
    "\n",
    "# > Inkscape pixel is 1/90 of an inch, other software usually uses 1/72.\n",
    "# > http://www.inkscapeforum.com/viewtopic.php?f=6&t=5964\n",
    "svg_scale = 1.25  # set this to 1.25 for Inkscape, 1.0 otherwise\n",
    "factor_svg=5.5\n",
    "\n",
    "# Panel letters in Helvetica Neue, 12pt, Medium\n",
    "kwargs_text = {'size': '12pt', 'font': 'Arial', 'weight': '800'}\n",
    "kwargs_text_12pt = {'size': '12pt', 'font': 'Arial', 'weight': '500'}\n",
    "kwargs_consistent = {'size': '10pt', 'font': 'Arial', 'weight': '500', 'color': '#AF99EF'}\n",
    "kwargs_consistent1 = {'size': '10pt', 'font': 'Arial', 'weight': '500', 'color': '#9E7DD5'}\n",
    "kwargs_inconsistent = {'size': '10pt', 'font': 'Arial', 'weight': '500', 'color': '#AF99EF'}\n",
    "kwargs_text8pt = {'size': '7.7pt', 'font': 'Arial'}\n",
    "kwargs_text8pt_red = {'size': '7.7pt', 'font': 'Arial', 'weight': '800', 'color': \"#b30000\"}\n",
    "\n",
    "f = Figure(\"20.3cm\", \"7.2cm\",\n",
    "           \n",
    "    Panel(\n",
    "          SVG(PANEL_lin_reg).scale(svg_scale).move(0, 0*factor_svg),\n",
    "          Text(\"a\", -2*factor_svg, -0.5*factor_svg, **kwargs_text),\n",
    "    ).move(2*factor_svg, 3.0*factor_svg),\n",
    "    \n",
    "    Panel(\n",
    "          SVG(PANEL_quality_of_approx_LinReg).scale(svg_scale).move(0, 0*factor_svg),\n",
    "        Text(\"b\", -2*factor_svg, 1.2*factor_svg, **kwargs_text),\n",
    "    ).move(36.1*factor_svg, 1.3*factor_svg),\n",
    "           \n",
    "    Panel(\n",
    "          SVG(PANEL_quality_of_approx_NN).scale(svg_scale).move(0, 0*factor_svg),\n",
    "    ).move(73*factor_svg, 0*factor_svg),\n",
    "    \n",
    "    Panel(\n",
    "          SVG(PANEL_REG_D1_lin).scale(svg_scale).move(0, 0*factor_svg),\n",
    "        Text(\"c\", -2*factor_svg, -1.0*factor_svg, **kwargs_text),\n",
    "        Text(\"AB/PD\", 16.0*factor_svg, 3.5*factor_svg, **kwargs_text8pt),\n",
    "    ).move(2*factor_svg, 28*factor_svg),\n",
    "    \n",
    "    Panel(\n",
    "          SVG(PANEL_REG_D2_lin).scale(svg_scale).move(0, 0*factor_svg),\n",
    "        Text(\"LP\", 11.0*factor_svg, 3.5*factor_svg, **kwargs_text8pt),\n",
    "    ).move(33*factor_svg, 28*factor_svg),\n",
    "    \n",
    "    Panel(\n",
    "          SVG(PANEL_REG_D3_lin).scale(svg_scale).move(0, 0*factor_svg),\n",
    "        Text(\"PY\", 11.0*factor_svg, 3.5*factor_svg, **kwargs_text8pt),\n",
    "    ).move(58*factor_svg, 28*factor_svg),\n",
    "    \n",
    "    Panel(\n",
    "          SVG(PANEL_REG_D4_lin).scale(svg_scale).move(0, 0*factor_svg),\n",
    "        Text(\"Synapses\", 8.0*factor_svg, 3.5*factor_svg, **kwargs_text8pt),\n",
    "    ).move(83*factor_svg, 28*factor_svg),\n",
    "    \n",
    ")\n",
    "\n",
    "!mkdir -p fig\n",
    "f.save(\"../fig/fig3_reg_supp_linear_reg.svg\")\n",
    "svg('../fig/fig3_reg_supp_linear_reg.svg')"
   ]
  },
  {
   "cell_type": "code",
   "execution_count": null,
   "metadata": {},
   "outputs": [],
   "source": []
  },
  {
   "cell_type": "code",
   "execution_count": null,
   "metadata": {},
   "outputs": [],
   "source": []
  }
 ],
 "metadata": {
  "kernelspec": {
   "display_name": "sbi_prinz",
   "language": "python",
   "name": "sbi_prinz"
  },
  "language_info": {
   "codemirror_mode": {
    "name": "ipython",
    "version": 3
   },
   "file_extension": ".py",
   "mimetype": "text/x-python",
   "name": "python",
   "nbconvert_exporter": "python",
   "pygments_lexer": "ipython3",
   "version": "3.8.5"
  }
 },
 "nbformat": 4,
 "nbformat_minor": 4
}
