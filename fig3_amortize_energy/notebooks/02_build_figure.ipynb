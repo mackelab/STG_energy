{
 "cells": [
  {
   "cell_type": "code",
   "execution_count": 1,
   "metadata": {},
   "outputs": [
    {
     "ename": "ImportError",
     "evalue": "cannot import name 'get_time' from 'pyloric' (/home/michael/Documents/pyloric/pyloric/__init__.py)",
     "output_type": "error",
     "traceback": [
      "\u001b[0;31m---------------------------------------------------------------------------\u001b[0m",
      "\u001b[0;31mImportError\u001b[0m                               Traceback (most recent call last)",
      "\u001b[0;32m<ipython-input-1-4248daf8df53>\u001b[0m in \u001b[0;36m<module>\u001b[0;34m\u001b[0m\n\u001b[1;32m      9\u001b[0m \u001b[0;34m\u001b[0m\u001b[0m\n\u001b[1;32m     10\u001b[0m \u001b[0;32mimport\u001b[0m \u001b[0mstg_energy\u001b[0m\u001b[0;34m.\u001b[0m\u001b[0mfig3_amortize_energy\u001b[0m\u001b[0;34m.\u001b[0m\u001b[0mviz\u001b[0m \u001b[0;32mas\u001b[0m \u001b[0mviz\u001b[0m\u001b[0;34m\u001b[0m\u001b[0;34m\u001b[0m\u001b[0m\n\u001b[0;32m---> 11\u001b[0;31m \u001b[0;32mfrom\u001b[0m \u001b[0mpyloric\u001b[0m \u001b[0;32mimport\u001b[0m \u001b[0mcreate_prior\u001b[0m\u001b[0;34m,\u001b[0m \u001b[0mget_time\u001b[0m\u001b[0;34m,\u001b[0m \u001b[0msimulate_energyscape\u001b[0m\u001b[0;34m,\u001b[0m \u001b[0mstats\u001b[0m\u001b[0;34m\u001b[0m\u001b[0;34m\u001b[0m\u001b[0m\n\u001b[0m\u001b[1;32m     12\u001b[0m \u001b[0;32mfrom\u001b[0m \u001b[0msbi\u001b[0m\u001b[0;34m.\u001b[0m\u001b[0mutils\u001b[0m\u001b[0;34m.\u001b[0m\u001b[0mregression_net\u001b[0m\u001b[0;34m.\u001b[0m\u001b[0mget_nn_classifier\u001b[0m \u001b[0;32mimport\u001b[0m \u001b[0mclassifier\u001b[0m\u001b[0;34m\u001b[0m\u001b[0;34m\u001b[0m\u001b[0m\n\u001b[1;32m     13\u001b[0m \u001b[0;32mfrom\u001b[0m \u001b[0msbi\u001b[0m\u001b[0;34m.\u001b[0m\u001b[0mutils\u001b[0m\u001b[0;34m.\u001b[0m\u001b[0mregression_net\u001b[0m\u001b[0;34m.\u001b[0m\u001b[0mtrain_classifier\u001b[0m \u001b[0;32mimport\u001b[0m \u001b[0mfit_regression_net\u001b[0m\u001b[0;34m\u001b[0m\u001b[0;34m\u001b[0m\u001b[0m\n",
      "\u001b[0;31mImportError\u001b[0m: cannot import name 'get_time' from 'pyloric' (/home/michael/Documents/pyloric/pyloric/__init__.py)"
     ]
    }
   ],
   "source": [
    "import time\n",
    "\n",
    "import IPython.display as IPd\n",
    "import matplotlib as mpl\n",
    "import matplotlib.pylab as plt\n",
    "import numpy as np\n",
    "import torch\n",
    "from mpl_toolkits.axes_grid1 import make_axes_locatable\n",
    "\n",
    "import stg_energy.fig3_amortize_energy.viz as viz\n",
    "from pyloric import create_prior, get_time, simulate_energyscape, stats\n",
    "from sbi.utils.regression_net.get_nn_classifier import classifier\n",
    "from sbi.utils.regression_net.train_classifier import fit_regression_net\n",
    "from stg_energy.common import col, get_labels_8pt, svg\n",
    "from stg_energy.fig3_amortize_energy.helper_functions import (\n",
    "    active_subspace,\n",
    "    get_gradient,\n",
    ")\n",
    "import seaborn as sns\n",
    "import pandas as pd"
   ]
  },
  {
   "cell_type": "markdown",
   "metadata": {},
   "source": [
    "# Figure 3"
   ]
  },
  {
   "cell_type": "code",
   "execution_count": null,
   "metadata": {},
   "outputs": [],
   "source": [
    "%load_ext autoreload\n",
    "%autoreload 2"
   ]
  },
  {
   "cell_type": "code",
   "execution_count": null,
   "metadata": {},
   "outputs": [],
   "source": [
    "PANEL_A = \"../svg/panel_a.svg\"\n",
    "PANEL_B = \"../svg/panel_b.svg\"\n",
    "PANEL_C = \"../svg/panel_c.svg\"\n",
    "PANEL_REG_A1 = \"../svg/panel_reg_a1.svg\"\n",
    "PANEL_REG_A2 = \"../svg/panel_reg_a2.svg\"\n",
    "PANEL_REG_B = \"../svg/panel_reg_b.svg\"\n",
    "PANEL_REG_C = \"../svg/panel_reg_c.svg\"\n",
    "PANEL_REG_D1 = \"../svg/panel_reg_d1.svg\"\n",
    "PANEL_REG_D2 = \"../svg/panel_reg_d2.svg\"\n",
    "PANEL_REG_D3 = \"../svg/panel_reg_d3.svg\"\n",
    "PANEL_REG_D4 = \"../svg/panel_reg_d4.svg\"\n",
    "PANEL_REG_E = \"../svg/panel_reg_e.svg\"\n",
    "PANEL_REG_F = \"../svg/panel_reg_f.svg\"\n",
    "PANEL_REG_F_alt = \"../svg/panel_reg_f_alt.svg\"\n",
    "PANEL_REG_G = \"../svg/panel_reg_g.svg\"\n",
    "PANEL_REG_H = \"../svg/panel_reg_h.svg\"\n",
    "PANEL_REG_G2 = \"../svg/panel_reg_g2.svg\"\n",
    "PANEL_REG_H2 = \"../svg/panel_reg_h2.svg\"\n",
    "PANEL_quality_of_approx_NN = \"../svg/panel_quality_of_approx_NN.svg\"\n",
    "PANEL_NN_REG = \"../../fig4_sensitivity/svg/panel_nn_reg.svg\""
   ]
  },
  {
   "cell_type": "markdown",
   "metadata": {},
   "source": [
    "### Load experimental data"
   ]
  },
  {
   "cell_type": "code",
   "execution_count": null,
   "metadata": {},
   "outputs": [],
   "source": [
    "prior_11 = create_prior(log=True)\n",
    "dimensions_11 = 31\n",
    "lims_11 = np.asarray(\n",
    "    [-np.sqrt(3) * np.ones(dimensions_11), np.sqrt(3) * np.ones(dimensions_11)]\n",
    ").T\n",
    "\n",
    "params_mean_11 = prior_11.mean.numpy()\n",
    "params_std_11 = prior_11.stddev.numpy()"
   ]
  },
  {
   "cell_type": "code",
   "execution_count": null,
   "metadata": {},
   "outputs": [],
   "source": [
    "data = np.load(\"../../results/11deg_post_pred/11_deg_post_pred_close_to_obs.npz\")\n",
    "good_stats = data[\"sample_stats\"]\n",
    "good_params = data[\"sample_params\"]\n",
    "good_seeds = data[\"sample_seeds\"]"
   ]
  },
  {
   "cell_type": "code",
   "execution_count": null,
   "metadata": {},
   "outputs": [],
   "source": [
    "sample_params = good_params\n",
    "sample_stats = good_stats\n",
    "print(\"There are\", len(good_seeds), \"datapoints in this dataset\")"
   ]
  },
  {
   "cell_type": "code",
   "execution_count": null,
   "metadata": {},
   "outputs": [],
   "source": [
    "sample_stats = data[\"sample_stats\"]\n",
    "sample_params = data[\"sample_params\"]\n",
    "sample_seeds = data[\"sample_seeds\"]"
   ]
  },
  {
   "cell_type": "code",
   "execution_count": 2,
   "metadata": {},
   "outputs": [
    {
     "ename": "NameError",
     "evalue": "name 'sample_stats' is not defined",
     "output_type": "error",
     "traceback": [
      "\u001b[0;31m---------------------------------------------------------------------------\u001b[0m",
      "\u001b[0;31mNameError\u001b[0m                                 Traceback (most recent call last)",
      "\u001b[0;32m<ipython-input-2-bf9c82f63ff2>\u001b[0m in \u001b[0;36m<module>\u001b[0;34m\u001b[0m\n\u001b[0;32m----> 1\u001b[0;31m \u001b[0menergies\u001b[0m \u001b[0;34m=\u001b[0m \u001b[0msample_stats\u001b[0m\u001b[0;34m[\u001b[0m\u001b[0;34m:\u001b[0m\u001b[0;34m,\u001b[0m \u001b[0;36m21\u001b[0m\u001b[0;34m:\u001b[0m\u001b[0;36m24\u001b[0m\u001b[0;34m]\u001b[0m\u001b[0;34m\u001b[0m\u001b[0;34m\u001b[0m\u001b[0m\n\u001b[0m\u001b[1;32m      2\u001b[0m \u001b[0msummed_energies\u001b[0m \u001b[0;34m=\u001b[0m \u001b[0mnp\u001b[0m\u001b[0;34m.\u001b[0m\u001b[0msum\u001b[0m\u001b[0;34m(\u001b[0m\u001b[0menergies\u001b[0m\u001b[0;34m,\u001b[0m \u001b[0maxis\u001b[0m\u001b[0;34m=\u001b[0m\u001b[0;36m1\u001b[0m\u001b[0;34m)\u001b[0m\u001b[0;34m\u001b[0m\u001b[0;34m\u001b[0m\u001b[0m\n",
      "\u001b[0;31mNameError\u001b[0m: name 'sample_stats' is not defined"
     ]
    }
   ],
   "source": [
    "energies = sample_stats[:, 21:24]\n",
    "summed_energies = np.sum(energies, axis=1)"
   ]
  },
  {
   "cell_type": "markdown",
   "metadata": {},
   "source": [
    "### Simulate the 55,000 samples and keep track of the energy consumption of each trace"
   ]
  },
  {
   "cell_type": "code",
   "execution_count": 3,
   "metadata": {},
   "outputs": [],
   "source": [
    "# from joblib import Parallel, delayed\n",
    "# from copy import deepcopy\n",
    "\n",
    "# params_with_seeds = np.concatenate((good_params, good_seeds[None,].T), axis=1)\n",
    "\n",
    "# def simulator(params_set):\n",
    "#     out_target = simulate_energyscape(\n",
    "#         deepcopy(params_set[:-1].astype(np.float64)),\n",
    "#         seed=int(params_set[-1]),\n",
    "#     )\n",
    "#     all_energies = out_target['all_energies']\n",
    "#     synaptic_energies = out_target['synapse_energies']\n",
    "#     print(synaptic_energies.shape)\n",
    "#     summed_energy_each_current = np.sum(all_energies, axis=2)\n",
    "#     summed_energy_synapses = np.sum(synaptic_energies, axis=1)\n",
    "#     summed_energy_total = np.sum(all_energies) + np.sum(synaptic_energies)\n",
    "#     fraction_of_each_current = summed_energy_each_current / summed_energy_total\n",
    "#     fraction_of_synapse = summed_energy_synapses / summed_energy_total\n",
    "#     return (fraction_of_each_current, fraction_of_synapse)\n",
    "\n",
    "# # output = simulator(params_with_seeds[0])\n",
    "# simulation_outputs = Parallel(n_jobs=4)(\n",
    "#     delayed(simulator)(batch)\n",
    "#     for batch in params_with_seeds[:1000]\n",
    "# )"
   ]
  },
  {
   "cell_type": "code",
   "execution_count": 68,
   "metadata": {},
   "outputs": [],
   "source": [
    "# all_e_cur = []\n",
    "# all_e_syn = []\n",
    "# for so in simulation_outputs:\n",
    "#     e_cur, e_syn = so\n",
    "#     all_e_cur.append(e_cur)\n",
    "#     all_e_syn.append(e_syn)\n",
    "\n",
    "# all_e_cur = np.asarray(all_e_cur)\n",
    "# all_e_syn = np.asarray(all_e_syn)\n",
    "# fractions = np.mean(all_e_cur, axis=0)\n",
    "# synapse_fractions = np.mean(all_e_syn, axis=0)"
   ]
  },
  {
   "cell_type": "code",
   "execution_count": 69,
   "metadata": {},
   "outputs": [],
   "source": [
    "# current_fractions = fractions.T.flatten()\n",
    "# all_fractions = np.concatenate((current_fractions, synapse_fractions))\n",
    "# np.savez('../../results/fig3_fraction_consumed_currents.npz', all_fractions=all_fractions)"
   ]
  },
  {
   "cell_type": "code",
   "execution_count": 70,
   "metadata": {},
   "outputs": [],
   "source": [
    "all_fractions = np.load('../../results/fig3_fraction_consumed_currents.npz')['all_fractions']"
   ]
  },
  {
   "cell_type": "code",
   "execution_count": 71,
   "metadata": {},
   "outputs": [],
   "source": [
    "all_fractions /= np.linalg.norm(all_fractions)"
   ]
  },
  {
   "cell_type": "markdown",
   "metadata": {},
   "source": [
    "# Panel 0: Fit regression net"
   ]
  },
  {
   "cell_type": "code",
   "execution_count": 72,
   "metadata": {},
   "outputs": [],
   "source": [
    "energies = torch.as_tensor(energies)\n",
    "sample_stats = torch.as_tensor(sample_stats)"
   ]
  },
  {
   "cell_type": "code",
   "execution_count": 73,
   "metadata": {},
   "outputs": [
    {
     "name": "stdout",
     "output_type": "stream",
     "text": [
      "torch.Size([55043, 3])\n"
     ]
    }
   ],
   "source": [
    "print(energies.shape)"
   ]
  },
  {
   "cell_type": "code",
   "execution_count": 74,
   "metadata": {},
   "outputs": [],
   "source": [
    "num_test = 500\n",
    "\n",
    "test_params = good_params[:num_test]\n",
    "train_params = good_params[num_test:]\n",
    "mean_params = np.mean(train_params, axis=0)\n",
    "std_params = np.std(train_params, axis=0)\n",
    "\n",
    "train_params_norm = (train_params - mean_params) / std_params\n",
    "test_params_norm = (test_params - mean_params) / std_params"
   ]
  },
  {
   "cell_type": "code",
   "execution_count": 75,
   "metadata": {},
   "outputs": [],
   "source": [
    "train_energy_ABPD = torch.sum(energies[num_test:], dim=1).unsqueeze(1)\n",
    "test_energy_ABPD = torch.sum(energies[:num_test], dim=1).unsqueeze(1)\n",
    "mean_energy = torch.mean(train_energy_ABPD)\n",
    "std_energy = torch.std(train_energy_ABPD)\n",
    "train_energy_ABPD_norm = (train_energy_ABPD - mean_energy) / std_energy\n",
    "test_energy_ABPD_norm = (test_energy_ABPD - mean_energy) / std_energy"
   ]
  },
  {
   "cell_type": "code",
   "execution_count": 76,
   "metadata": {},
   "outputs": [],
   "source": [
    "nn = classifier(dim=31)"
   ]
  },
  {
   "cell_type": "code",
   "execution_count": 77,
   "metadata": {},
   "outputs": [],
   "source": [
    "# converged_nn = fit_regression_net(\n",
    "#     nn,\n",
    "#     train_params_norm,\n",
    "#     train_energy_ABPD_norm,\n",
    "#     num_train=train_params_norm.shape[0],\n",
    "#     batch_size=50,\n",
    "#     stop_after_epochs=10,\n",
    "#     max_epochs=200,\n",
    "# )\n",
    "# np.savez('../../results/regression_nets/200923_predict_total_energy_sum_over_all_neurons.npz', converged_nn=converged_nn)"
   ]
  },
  {
   "cell_type": "code",
   "execution_count": 78,
   "metadata": {},
   "outputs": [],
   "source": [
    "data = np.load(\n",
    "    \"../../results/regression_nets/200923_predict_total_energy_sum_over_all_neurons.npz\",\n",
    "    allow_pickle=True,\n",
    ")\n",
    "converged_nn = data[\"converged_nn\"].tolist()"
   ]
  },
  {
   "cell_type": "code",
   "execution_count": 79,
   "metadata": {},
   "outputs": [],
   "source": [
    "predictions = converged_nn.predict(torch.as_tensor(test_params_norm)).detach()"
   ]
  },
  {
   "cell_type": "code",
   "execution_count": 80,
   "metadata": {},
   "outputs": [
    {
     "data": {
      "image/png": "[encoded data removed]",
      "text/plain": [
       "<Figure size 200x100 with 1 Axes>"
      ]
     },
     "metadata": {},
     "output_type": "display_data"
    }
   ],
   "source": [
    "with mpl.rc_context(fname=\"../../.matplotlibrc\"):\n",
    "    fig, ax = plt.subplots(1, 1, figsize=(2, 1.0))\n",
    "    unnorm_x = test_energy_ABPD_norm[:300] * std_energy + mean_energy\n",
    "    unnorm_y = predictions[:300] * std_energy + mean_energy\n",
    "    ax.scatter(x=unnorm_x.numpy()/40000, y=unnorm_y.numpy()/40000, s=3, color=\"#2b8cbe\")\n",
    "    gt_vec = np.linspace(np.min(unnorm_x.numpy())/40000, np.max(unnorm_x.numpy())/40000, 2)\n",
    "    ax.plot(gt_vec, gt_vec, \"#ff7f00\")\n",
    "    ax.set_xlabel(\"Total energy ($\\mu$J/s)\")\n",
    "    ax.set_ylabel(\"Neural net prediction\")\n",
    "    plt.savefig(PANEL_quality_of_approx_NN, facecolor='None', transparent=False)"
   ]
  },
  {
   "cell_type": "code",
   "execution_count": 81,
   "metadata": {},
   "outputs": [
    {
     "name": "stdout",
     "output_type": "stream",
     "text": [
      "mean squared error:  tensor(6.2687, dtype=torch.float64)\n"
     ]
    }
   ],
   "source": [
    "unnorm_y = predictions[:300] * std_energy + mean_energy\n",
    "mse = torch.mean(torch.abs(unnorm_x/40000 - unnorm_y/40000)**2)\n",
    "print(\"mean squared error: \", mse)"
   ]
  },
  {
   "cell_type": "code",
   "execution_count": 82,
   "metadata": {},
   "outputs": [],
   "source": [
    "e_vals, e_vecs = active_subspace(converged_nn, test_params_norm)"
   ]
  },
  {
   "cell_type": "markdown",
   "metadata": {},
   "source": [
    "### Plot correlation between parameter and energy"
   ]
  },
  {
   "cell_type": "code",
   "execution_count": 278,
   "metadata": {},
   "outputs": [
    {
     "data": {
      "text/plain": [
       "array([100.91252161,  92.22576264, 136.72640764, ..., 123.69596635,\n",
       "       132.92566882,  81.11312686])"
      ]
     },
     "execution_count": 278,
     "metadata": {},
     "output_type": "execute_result"
    }
   ],
   "source": [
    "summed_energies / 40000"
   ]
  },
  {
   "cell_type": "code",
   "execution_count": 282,
   "metadata": {},
   "outputs": [
    {
     "data": {
      "image/png": "[encoded data removed]",
      "text/plain": [
       "<Figure size 130x100 with 1 Axes>"
      ]
     },
     "metadata": {},
     "output_type": "display_data"
    }
   ],
   "source": [
    "PY_Na = good_params[:, 16]\n",
    "num_scatter = 200\n",
    "\n",
    "summed_energies_joule = summed_energies / 40000\n",
    "df = pd.DataFrame(data=[PY_Na[:num_scatter], summed_energies_joule[:num_scatter]], index=[\"PY_Na\", \"total_energy\"])\n",
    "\n",
    "with mpl.rc_context(fname=\"../../.matplotlibrc\"):\n",
    "    fig, ax = plt.subplots(1,1, figsize=(1.3,1.0))\n",
    "    sns.regplot(x=PY_Na[:num_scatter]/(0.628*1e-3), y=summed_energies_joule[:num_scatter], scatter_kws={\"s\":2}, ci=None, color='k');\n",
    "    ax.set_xlabel('$\\mathrm{g}_{\\mathrm{Na}}$ of PY [$\\mathrm{mS}/\\mathrm{cm}^2$]')\n",
    "    ax.set_ylabel('Total Energy')\n",
    "    ax.spines['top'].set_visible(False)\n",
    "    ax.spines['right'].set_visible(False)\n",
    "    #ax.xaxis.set_label_coords(0.5, -0.35)\n",
    "    ax.set_ylim([np.min(summed_energies_joule), np.max(summed_energies_joule)])\n",
    "    ax.set_yticks([np.min(summed_energies_joule), np.max(summed_energies_joule)])\n",
    "#     ax.set_yticklabels([\"min\", \"max\"])\n",
    "    plt.savefig(PANEL_REG_A1, facecolor='None', transparent=False)"
   ]
  },
  {
   "cell_type": "code",
   "execution_count": 283,
   "metadata": {},
   "outputs": [
    {
     "data": {
      "image/png": "[encoded data removed]",
      "text/plain": [
       "<Figure size 130x100 with 1 Axes>"
      ]
     },
     "metadata": {},
     "output_type": "display_data"
    }
   ],
   "source": [
    "ABPD_Na = good_params[:, 20]\n",
    "\n",
    "with mpl.rc_context(fname=\"../../.matplotlibrc\"):\n",
    "    fig, ax = plt.subplots(1,1, figsize=(1.3,1))\n",
    "    sns.regplot(x=ABPD_Na[:num_scatter]/(0.628*1e-3), y=summed_energies_joule[:num_scatter], scatter_kws={\"s\":2}, ci=None, color='k');\n",
    "    ax.set_xlabel('$\\mathrm{g}_{\\mathrm{KCa}}$ of LP [$\\mathrm{mS}/\\mathrm{cm}^2$]')\n",
    "    ax.spines['top'].set_visible(False)\n",
    "    ax.spines['right'].set_visible(False)\n",
    "    ax.set_ylim([np.min(summed_energies_joule), np.max(summed_energies_joule)])\n",
    "    ax.set_ylabel('Total Energy')\n",
    "    ax.set_yticks([np.min(summed_energies_joule), np.max(summed_energies_joule)])\n",
    "#     ax.set_yticklabels([\"min\", \"max\"])\n",
    "#     ax.set_yticks([])\n",
    "    ax.set_xticks([1, 3])\n",
    "    plt.savefig(PANEL_REG_A2, facecolor='None', transparent=False)"
   ]
  },
  {
   "cell_type": "markdown",
   "metadata": {},
   "source": [
    "### Sketch of active subspace"
   ]
  },
  {
   "cell_type": "code",
   "execution_count": 274,
   "metadata": {},
   "outputs": [
    {
     "data": {
      "image/png": "[encoded data removed]",
      "text/plain": [
       "<Figure size 195x130 with 2 Axes>"
      ]
     },
     "metadata": {},
     "output_type": "display_data"
    }
   ],
   "source": [
    "from matplotlib.colors import Normalize\n",
    "import matplotlib.cm\n",
    "\n",
    "figureratio = 1.5\n",
    "figuresize = 1.3\n",
    "\n",
    "vec1 = np.linspace(-3,3,int(figureratio * 100))\n",
    "vec2 = np.linspace(-3,3,100)\n",
    "\n",
    "X,Y = np.meshgrid(vec1, vec2)\n",
    "dist = np.abs(X + 1.5*Y)\n",
    "\n",
    "m_e = [0.0, -.1]\n",
    "s_e = [6., 0.7]\n",
    "m_e_2 = [1.1, 1.7]\n",
    "s_e_2 = [1.5, 6.]\n",
    "dists_e_1 = s_e[0]*(X-m_e[0])**2 + s_e[1]*(Y-m_e[1])**2\n",
    "dists_e_2 = s_e_2[0]*(X-m_e_2[0])**2 + s_e_2[1]*(Y-m_e_2[1])**2\n",
    "dists_e = np.minimum(dists_e_1, dists_e_2)\n",
    "allowed_dist = 5.0\n",
    "thr_dists_e = dists_e < allowed_dist\n",
    "inds = np.where(np.abs(dists_e - allowed_dist) < 0.5)\n",
    "inds = np.asarray(inds).T\n",
    "with mpl.rc_context(fname=\"../../.matplotlibrc\"):\n",
    "    fig, ax = plt.subplots(1,1, figsize=(figureratio*figuresize,figuresize))\\\n",
    "\n",
    "    image_to_plot = -np.sqrt(dist)\n",
    "\n",
    "    im = ax.imshow(image_to_plot, cmap='autumn_r')\n",
    "    ax.set_xticks([])\n",
    "    ax.set_yticks([])\n",
    "    ax.set_xlabel(\"Parameter 1\")\n",
    "    ax.set_ylabel(\"Parameter 2\")\n",
    "\n",
    "    cbar = plt.colorbar(ii, aspect=15,fraction=0.04, pad=0.04)\n",
    "    cbar.set_ticks([])\n",
    "    cbar.set_label('Energy', labelpad=5)\n",
    "    ax.arrow(75, 50, 10, -5, head_width=7, head_length=9, facecolor='k')\n",
    "    ax.arrow(75, 50, 10, 20, head_width=7, head_length=9, facecolor='k')\n",
    "    plt.savefig(PANEL_REG_B, facecolor='None', transparent=False)"
   ]
  },
  {
   "cell_type": "markdown",
   "metadata": {},
   "source": [
    "### Plot all 31D eigenvalues\n",
    "It seems that energy lies largely in a 1D subspace. As we will show below, within theis subspace, it is possible to optimize both the energy/spike and the number of spikes."
   ]
  },
  {
   "cell_type": "code",
   "execution_count": 328,
   "metadata": {},
   "outputs": [
    {
     "data": {
      "image/png": "[encoded data removed]",
      "text/plain": [
       "<Figure size 200x100 with 1 Axes>"
      ]
     },
     "metadata": {},
     "output_type": "display_data"
    }
   ],
   "source": [
    "with mpl.rc_context(fname=\"../../.matplotlibrc\"):\n",
    "    viz.plot_eigenvalues(torch.log(torch.flip(e_vals, dims=(0,))), figsize=(2.0, 1.0), color='k')\n",
    "    plt.savefig(PANEL_REG_C, facecolor='None', transparent=False)\n",
    "    plt.show()"
   ]
  },
  {
   "cell_type": "code",
   "execution_count": 338,
   "metadata": {},
   "outputs": [
    {
     "name": "stdout",
     "output_type": "stream",
     "text": [
      "Ratio of first two eigenvalues:   tensor(25.2059)\n"
     ]
    }
   ],
   "source": [
    "print(\"Ratio of first two eigenvalues:  \", e_vals[-1] / e_vals[-2])"
   ]
  },
  {
   "cell_type": "markdown",
   "metadata": {},
   "source": [
    "### Plot first eigenvector"
   ]
  },
  {
   "cell_type": "code",
   "execution_count": 196,
   "metadata": {},
   "outputs": [
    {
     "data": {
      "image/png": "[encoded data removed]",
      "text/plain": [
       "<Figure size 160x100 with 1 Axes>"
      ]
     },
     "metadata": {},
     "output_type": "display_data"
    }
   ],
   "source": [
    "with mpl.rc_context(fname=\"../../.matplotlibrc\"):\n",
    "    viz.py_sensitivity_bars(e_vecs[0:8, -1:].T, ylim=[-0.3, 0.6], figsize=(1.6, 1.0), ylabel='Active dim.', plot_labels=True, color=\"#3182bd\")\n",
    "    plt.savefig(PANEL_REG_D1, facecolor='None', transparent=False)\n",
    "    plt.show()"
   ]
  },
  {
   "cell_type": "code",
   "execution_count": 197,
   "metadata": {},
   "outputs": [
    {
     "data": {
      "image/png": "[encoded data removed]",
      "text/plain": [
       "<Figure size 160x100 with 1 Axes>"
      ]
     },
     "metadata": {},
     "output_type": "display_data"
    }
   ],
   "source": [
    "with mpl.rc_context(fname=\"../../.matplotlibrc\"):\n",
    "    viz.py_sensitivity_bars(e_vecs[8:16, -1:].T, ylim=[-0.3, 0.6], figsize=(1.6, 1.0), ylabel=None, plot_labels=False, color=\"#fc8d59\")\n",
    "    plt.savefig(PANEL_REG_D2, facecolor='None', transparent=False)\n",
    "    plt.show()"
   ]
  },
  {
   "cell_type": "code",
   "execution_count": 198,
   "metadata": {},
   "outputs": [
    {
     "data": {
      "image/png": "[encoded data removed]",
      "text/plain": [
       "<Figure size 160x100 with 1 Axes>"
      ]
     },
     "metadata": {},
     "output_type": "display_data"
    }
   ],
   "source": [
    "with mpl.rc_context(fname=\"../../.matplotlibrc\"):\n",
    "    viz.py_sensitivity_bars(e_vecs[16:24, -1:].T, ylim=[-0.3, 0.6], figsize=(1.6, 1.0), ylabel=None, plot_labels=False, color=\"#2ca25f\")\n",
    "    plt.savefig(PANEL_REG_D3, facecolor='None', transparent=False)\n",
    "    plt.show()"
   ]
  },
  {
   "cell_type": "code",
   "execution_count": 199,
   "metadata": {},
   "outputs": [
    {
     "data": {
      "image/png": "[encoded data removed]",
      "text/plain": [
       "<Figure size 140x100 with 1 Axes>"
      ]
     },
     "metadata": {},
     "output_type": "display_data"
    }
   ],
   "source": [
    "with mpl.rc_context(fname=\"../../.matplotlibrc\"):\n",
    "    viz.synapse_sensitivity_bars(e_vecs[24:, -1:].T, ylim=[-0.3, 0.6], figsize=(1.4, 1.0), ylabel='', color=\"k\")\n",
    "    plt.savefig(PANEL_REG_D4, facecolor='None', transparent=False)\n",
    "    plt.show()"
   ]
  },
  {
   "cell_type": "code",
   "execution_count": 200,
   "metadata": {},
   "outputs": [],
   "source": [
    "# with mpl.rc_context(fname=\"../../.matplotlibrc\"):\n",
    "#     viz.py_sensitivity_bars(e_vecs[16:24, -1:].T, ylim=[-0.3, 0.6], figsize=(2.8, 1.0), ylabel='PY neuron', color=\"#2ca25f\")\n",
    "#     plt.savefig(PANEL_REG_E, facecolor='None', transparent=False)\n",
    "#     plt.show()"
   ]
  },
  {
   "cell_type": "markdown",
   "metadata": {},
   "source": [
    "## Which parameters affect energy, which parameters influence energy?"
   ]
  },
  {
   "cell_type": "code",
   "execution_count": 339,
   "metadata": {},
   "outputs": [
    {
     "data": {
      "image/png": "[encoded data removed]",
      "text/plain": [
       "<Figure size 175x175 with 1 Axes>"
      ]
     },
     "metadata": {},
     "output_type": "display_data"
    }
   ],
   "source": [
    "eigenvector = e_vecs[:, -1].numpy()\n",
    "\n",
    "with mpl.rc_context(fname=\"../../.matplotlibrc\"):\n",
    "    fig, ax = plt.subplots(1,1, figsize=(1.75, 1.75))\n",
    "\n",
    "    markers = ['o', '^', 's']\n",
    "    cols_hex = [\n",
    "        \"#1b9e77\",\n",
    "        \"#d95f02\",\n",
    "        \"#7570b3\",\n",
    "        \"#e7298a\",\n",
    "        \"#66a61e\",\n",
    "        \"#e6ab02\",\n",
    "        \"#a6761d\",\n",
    "        \"#666666\",\n",
    "    ]\n",
    "    labels = ['Na', 'CaT', 'CaS', 'A', 'KCa', 'Kd', 'H', 'leak']\n",
    "    labels2 = ['AB/PD', 'LP', 'PY']\n",
    "    ims = []\n",
    "#     for synapse in range(7):\n",
    "#         im = ax.scatter(\n",
    "#             all_fractions[24+synapse],\n",
    "#             np.abs(eigenvector)[24+synapse],\n",
    "#             c='k',\n",
    "#             marker='o',\n",
    "#             s=10\n",
    "#         )\n",
    "#     ims.append(im)\n",
    "    for neuron in range(3):\n",
    "        for channel, c in enumerate(cols_hex):\n",
    "            im = ax.scatter(\n",
    "                    all_fractions[channel+neuron*8], \n",
    "                    np.abs(eigenvector)[channel+neuron*8], \n",
    "                    c=c, \n",
    "                    marker=markers[neuron], \n",
    "                    s=14\n",
    "                )\n",
    "            if neuron == 0:\n",
    "                ims.append(im)\n",
    "    \n",
    "    # Dummy scatter outside of limits for the legend:\n",
    "    ims2 = []\n",
    "    ims2.append(ax.scatter([10.],[10.], c='k', marker='o', s=14))\n",
    "    ims2.append(ax.scatter([10.],[10.], c='k', marker='^', s=14))\n",
    "    ims2.append(ax.scatter([10.],[10.], c='k', marker='s', s=14))\n",
    "    \n",
    "    leg1 = ax.legend(ims, labels, bbox_to_anchor=(1.05, -0.88, 0.1, 0.5), labelspacing=0.3, columnspacing=0.5, markerfirst=False, handletextpad=-0.4, ncol=4)\n",
    "    leg2 = ax.legend(ims2, labels2, bbox_to_anchor=(1.05, -1.18, 0.1, 0.5), labelspacing=0.3, columnspacing=0.5, markerfirst=False, handletextpad=-0.4, ncol=3)\n",
    "    ax.add_artist(leg1)\n",
    "#     import itertools\n",
    "#     def flip(items, ncol):\n",
    "#         return itertools.chain(*[items[i::ncol] for i in range(ncol)])\n",
    "#     handles, labels = ax.get_legend_handles_labels()\n",
    "#     ax.legend(flip(handles, 2), flip(labels, 2), bbox_to_anchor=(1.1, -0.9, 0.1, 0.5), labelspacing=0.3, columnspacing=0.5, markerfirst=False, handletextpad=-0.4, ncol=4)\n",
    "\n",
    "    ax.arrow(0.6, 0.2, 0.08, -0.065, head_width=0.04, head_length=0.04, facecolor='k')\n",
    "    ax.arrow(0.178, 0.645, 0.08, -0.065, head_width=0.04, head_length=0.04, facecolor='k')\n",
    "    ax.arrow(0.07, 0.48, 0.0, -0.1, head_width=0.04, head_length=0.04, facecolor='k')\n",
    "    \n",
    "    ax.plot([0.0, 0.7], [0.0, 0.7], color='grey', alpha=0.5)\n",
    "    ax.set_xlim([0.0, 0.78])\n",
    "    ax.set_ylim([0.0, 0.78])\n",
    "\n",
    "    ax.set_xlabel('Consumed Energy')\n",
    "    ax.set_ylabel('|Active dim.|')\n",
    "    plt.savefig(PANEL_REG_F_alt, facecolor='None', transparent=False)"
   ]
  },
  {
   "cell_type": "markdown",
   "metadata": {},
   "source": [
    "### Project into 1D plane"
   ]
  },
  {
   "cell_type": "code",
   "execution_count": 154,
   "metadata": {},
   "outputs": [],
   "source": [
    "num_scatter = 1000\n",
    "\n",
    "projection_mat = e_vecs[:, -1:]\n",
    "train_params_norm_tt = torch.as_tensor(train_params_norm)[:num_scatter]\n",
    "all_train_params_norm_tt = torch.as_tensor(train_params_norm)\n",
    "projected = torch.mm(train_params_norm_tt, projection_mat)[:num_scatter]\n",
    "all_projected = torch.mm(all_train_params_norm_tt, projection_mat)"
   ]
  },
  {
   "cell_type": "code",
   "execution_count": 155,
   "metadata": {},
   "outputs": [],
   "source": [
    "minimal_dim0_set = projected[torch.argmin(projected[:, 0])]\n",
    "maximal_dim0_set = projected[torch.argmax(projected[:, 0])]"
   ]
  },
  {
   "cell_type": "code",
   "execution_count": 156,
   "metadata": {},
   "outputs": [
    {
     "data": {
      "image/png": "[encoded data removed]",
      "text/plain": [
       "<Figure size 150x100 with 1 Axes>"
      ]
     },
     "metadata": {},
     "output_type": "display_data"
    }
   ],
   "source": [
    "with mpl.rc_context(fname=\"../../.matplotlibrc\"):\n",
    "    fig, ax = plt.subplots(1, 1, figsize=(1.5, 1))\n",
    "    _ = ax.hist(all_projected[:10000].T, bins=50, facecolor='k')\n",
    "    ax.axvline(minimal_dim0_set, c=\"#b30000\", ymin=0, ymax=0.75)\n",
    "    ax.axvline(maximal_dim0_set, c=\"#b30000\", ymin=0, ymax=0.75)\n",
    "    ax.spines[\"top\"].set_visible(False)\n",
    "    ax.spines[\"right\"].set_visible(False)\n",
    "    ax.set_xlabel(\"Projected samples\")\n",
    "    ax.set_ylabel(\"Count\")\n",
    "    plt.savefig(PANEL_REG_F, facecolor='None', transparent=False)"
   ]
  },
  {
   "cell_type": "markdown",
   "metadata": {},
   "source": [
    "### Simulate the most extreme cases and show the PY neuron"
   ]
  },
  {
   "cell_type": "code",
   "execution_count": 157,
   "metadata": {},
   "outputs": [
    {
     "name": "stdout",
     "output_type": "stream",
     "text": [
      "tensor(7542451.3953, dtype=torch.float64)\n"
     ]
    }
   ],
   "source": [
    "min_of_energy_PY = torch.min(torch.sum(energies, dim=1)) \n",
    "max_of_energy_PY = torch.max(torch.sum(energies, dim=1)) \n",
    "print(max_of_energy_PY)"
   ]
  },
  {
   "cell_type": "code",
   "execution_count": 158,
   "metadata": {},
   "outputs": [
    {
     "name": "stdout",
     "output_type": "stream",
     "text": [
      "tensor(210., dtype=torch.float64)\n",
      "tensor(625., dtype=torch.float64)\n"
     ]
    }
   ],
   "source": [
    "min_num_spikes_PY = torch.min(torch.sum(sample_stats[:, -6:-3], dim=1)) \n",
    "max_num_spikes_PY = torch.max(torch.sum(sample_stats[:, -6:-3], dim=1)) \n",
    "print(min_num_spikes_PY)\n",
    "print(max_num_spikes_PY)"
   ]
  },
  {
   "cell_type": "code",
   "execution_count": 159,
   "metadata": {},
   "outputs": [],
   "source": [
    "unnorm_set_dim0_min = (\n",
    "    train_params_norm_tt[torch.argmin(projected[:, 0])] * std_params + mean_params\n",
    ")\n",
    "unnorm_set_dim0_max = (\n",
    "    train_params_norm_tt[torch.argmax(projected[:, 0])] * std_params + mean_params\n",
    ")\n",
    "simulation_output_dim0_min = simulate_energyscape(unnorm_set_dim0_min, seed=0)\n",
    "simulation_output_dim0_max = simulate_energyscape(unnorm_set_dim0_max, seed=0)"
   ]
  },
  {
   "cell_type": "code",
   "execution_count": 160,
   "metadata": {},
   "outputs": [
    {
     "data": {
      "image/png": "[encoded data removed]",
      "text/plain": [
       "<Figure size 180x100 with 2 Axes>"
      ]
     },
     "metadata": {},
     "output_type": "display_data"
    }
   ],
   "source": [
    "with mpl.rc_context(fname=\"../../.matplotlibrc\"):\n",
    "    viz.energy_scape(\n",
    "        simulation_output_dim0_min,\n",
    "        get_time(),\n",
    "        (1.8, 1.0),\n",
    "        [\"k\", \"k\", \"k\"],\n",
    "        time_len=30000,\n",
    "        offset=100000,\n",
    "    )\n",
    "    plt.savefig(PANEL_REG_G, facecolor='None', transparent=False)\n",
    "# 18 spikes"
   ]
  },
  {
   "cell_type": "code",
   "execution_count": 161,
   "metadata": {},
   "outputs": [
    {
     "data": {
      "image/png": "[encoded data removed]",
      "text/plain": [
       "<Figure size 40x100 with 1 Axes>"
      ]
     },
     "metadata": {},
     "output_type": "display_data"
    }
   ],
   "source": [
    "summstats = stats(simulation_output_dim0_min)\n",
    "energies_PY_sim = np.sum(summstats[28:31])\n",
    "\n",
    "with mpl.rc_context(fname=\"../../.matplotlibrc\"):\n",
    "    fig, ax = plt.subplots(1,1, figsize=(0.4,1.0))\n",
    "    height_energy = (energies_PY_sim - min_of_energy_PY) / (max_of_energy_PY - min_of_energy_PY)\n",
    "    ax.bar(np.arange(0,1), [height_energy], width=0.13, facecolor='k')\n",
    "    ax.set_ylim([0,1])\n",
    "    ax.set_xlim([-0.2, 0.2])\n",
    "    ax.spines['top'].set_visible(False)\n",
    "    ax.spines['right'].set_visible(False)\n",
    "    ax.set_xticks([0])\n",
    "    ax.set_yticks([0,1])\n",
    "    ax.set_xticklabels(['Energy\\n$\\mu$J/s'])\n",
    "    ax.set_yticklabels([21, 189])\n",
    "    plt.savefig(PANEL_REG_G2, facecolor='None', transparent=False)\n",
    "    plt.show()"
   ]
  },
  {
   "cell_type": "code",
   "execution_count": 162,
   "metadata": {},
   "outputs": [
    {
     "data": {
      "image/png": "[encoded data removed]",
      "text/plain": [
       "<Figure size 180x100 with 2 Axes>"
      ]
     },
     "metadata": {},
     "output_type": "display_data"
    }
   ],
   "source": [
    "with mpl.rc_context(fname=\"../../.matplotlibrc\"):\n",
    "    viz.energy_scape(\n",
    "        simulation_output_dim0_max,\n",
    "        get_time(),\n",
    "        (1.8, 1.0),\n",
    "        [\"k\", \"k\", \"k\"],\n",
    "        time_len=30000,\n",
    "        offset=37000,\n",
    "    )\n",
    "    plt.savefig(PANEL_REG_H, facecolor='None', transparent=False)\n",
    "# 29 spikes"
   ]
  },
  {
   "cell_type": "code",
   "execution_count": 163,
   "metadata": {},
   "outputs": [
    {
     "data": {
      "image/png": "[encoded data removed]",
      "text/plain": [
       "<Figure size 40x100 with 1 Axes>"
      ]
     },
     "metadata": {},
     "output_type": "display_data"
    }
   ],
   "source": [
    "summstats = stats(simulation_output_dim0_max)\n",
    "energies_PY_sim = np.sum(summstats[28:31])\n",
    "\n",
    "with mpl.rc_context(fname=\"../../.matplotlibrc\"):\n",
    "    fig, ax = plt.subplots(1,1, figsize=(0.4,1.0))\n",
    "    height_energy = (energies_PY_sim - min_of_energy_PY) / (max_of_energy_PY - min_of_energy_PY)\n",
    "    ax.bar(np.arange(0,2), [height_energy], width=0.13, facecolor='k')\n",
    "    ax.set_ylim([0,1])\n",
    "    ax.set_xlim([-0.2, 0.2])\n",
    "    ax.spines['top'].set_visible(False)\n",
    "    ax.spines['right'].set_visible(False)\n",
    "    ax.set_xticks([0])\n",
    "    ax.set_yticks([0,1])\n",
    "    ax.set_xticklabels(['Energy\\n$\\mu$J/s'])\n",
    "    ax.set_yticklabels([21, 189])\n",
    "    plt.savefig(PANEL_REG_H2, facecolor='None', transparent=False)\n",
    "    plt.show()"
   ]
  },
  {
   "cell_type": "code",
   "execution_count": 164,
   "metadata": {},
   "outputs": [],
   "source": [
    "def svg(img):\n",
    "    IPd.display(IPd.HTML('<img src=\"{}\" / >'.format(img, time.time())))"
   ]
  },
  {
   "cell_type": "code",
   "execution_count": 316,
   "metadata": {},
   "outputs": [
    {
     "data": {
      "text/html": [
       "<img src=\"../fig/fig3_reg.svg\" / >"
      ],
      "text/plain": [
       "<IPython.core.display.HTML object>"
      ]
     },
     "metadata": {},
     "output_type": "display_data"
    }
   ],
   "source": [
    "from svgutils.compose import *\n",
    "\n",
    "# > Inkscape pixel is 1/90 of an inch, other software usually uses 1/72.\n",
    "# > http://www.inkscapeforum.com/viewtopic.php?f=6&t=5964\n",
    "svg_scale = 1.25  # set this to 1.25 for Inkscape, 1.0 otherwise\n",
    "factor_svg=5.5\n",
    "\n",
    "# Panel letters in Helvetica Neue, 12pt, Medium\n",
    "kwargs_text = {'size': '12pt', 'font': 'Arial', 'weight': '800'}\n",
    "kwargs_text_12pt = {'size': '12pt', 'font': 'Arial', 'weight': '500'}\n",
    "kwargs_consistent = {'size': '10pt', 'font': 'Arial', 'weight': '500', 'color': '#AF99EF'}\n",
    "kwargs_consistent1 = {'size': '10pt', 'font': 'Arial', 'weight': '500', 'color': '#9E7DD5'}\n",
    "kwargs_inconsistent = {'size': '10pt', 'font': 'Arial', 'weight': '500', 'color': '#AF99EF'}\n",
    "kwargs_text8pt = {'size': '7.7pt', 'font': 'Arial'}\n",
    "kwargs_text8pt_red = {'size': '7.7pt', 'font': 'Arial', 'weight': '800', 'color': \"#b30000\"}\n",
    "\n",
    "f = Figure(\"20.3cm\", \"10.0cm\",\n",
    "\n",
    "    Panel(\n",
    "          SVG(PANEL_REG_A1).scale(svg_scale).move(0, 0*factor_svg),\n",
    "          Text(\"a\", -2.0*factor_svg, 2.5*factor_svg, **kwargs_text),\n",
    "    ).move(2*factor_svg, 0*factor_svg),\n",
    "\n",
    "    Panel(\n",
    "          SVG(PANEL_REG_A2).scale(svg_scale).move(0, 0*factor_svg),\n",
    "    ).move(30.2*factor_svg, 0*factor_svg),\n",
    "\n",
    "    Panel(\n",
    "          SVG(PANEL_NN_REG).scale(svg_scale).move(0, 0*factor_svg),\n",
    "        Text(\"b\", -4.0*factor_svg, -4.5*factor_svg, **kwargs_text),\n",
    "    ).move(69*factor_svg, 7*factor_svg),\n",
    "\n",
    "    Panel(\n",
    "          SVG(PANEL_REG_B).scale(svg_scale).move(0, 0*factor_svg),\n",
    "          Text(\"c\", -2.0*factor_svg, 2.5*factor_svg, **kwargs_text),\n",
    "          Text(\"inactive\", 15.0*factor_svg, 7.0*factor_svg, **kwargs_text8pt),\n",
    "          Text(\"active\", 11.0*factor_svg, 13.5*factor_svg, **kwargs_text8pt),\n",
    "    ).move(107*factor_svg, 0*factor_svg),\n",
    "    Panel(\n",
    "          SVG(PANEL_REG_D1).scale(svg_scale).move(0, 0*factor_svg),\n",
    "          Text(\"e\", -2.0*factor_svg, 2.5*factor_svg, **kwargs_text),\n",
    "        Text(\"AB/PD\", 16.0*factor_svg, 3.5*factor_svg, **kwargs_text8pt),\n",
    "    ).move(2*factor_svg, 24*factor_svg),\n",
    "    Panel(\n",
    "          SVG(PANEL_REG_D2).scale(svg_scale).move(0, 0*factor_svg),\n",
    "        Text(\"LP\", 11.0*factor_svg, 3.5*factor_svg, **kwargs_text8pt),\n",
    "    ).move(31.5*factor_svg, 24*factor_svg),\n",
    "    Panel(\n",
    "          SVG(PANEL_REG_D3).scale(svg_scale).move(0, 0*factor_svg),\n",
    "        Text(\"PY\", 11.0*factor_svg, 3.5*factor_svg, **kwargs_text8pt),\n",
    "    ).move(55*factor_svg, 24*factor_svg),\n",
    "    Panel(\n",
    "          SVG(PANEL_REG_D4).scale(svg_scale).move(0, 0*factor_svg),\n",
    "        Text(\"Synapses\", 7.0*factor_svg, 3.5*factor_svg, **kwargs_text8pt),\n",
    "    ).move(77.5*factor_svg, 24*factor_svg),\n",
    "    Panel(\n",
    "          SVG(PANEL_REG_F_alt).scale(svg_scale).move(0, 0*factor_svg),\n",
    "          Text(\"h\", -1*factor_svg, 1.5*factor_svg, **kwargs_text),\n",
    "    ).move(106.0*factor_svg, 25.0*factor_svg),\n",
    "    Panel(\n",
    "          SVG(PANEL_REG_G).scale(svg_scale).move(0, 0*factor_svg),\n",
    "          Text(\"f\", -2.0*factor_svg, 2.5*factor_svg, **kwargs_text),\n",
    "    ).move(2*factor_svg, 47.4*factor_svg),\n",
    "    Panel(\n",
    "          SVG(PANEL_REG_G2).scale(svg_scale).move(0, 0*factor_svg),\n",
    "    ).move(35.5*factor_svg, 46.7*factor_svg),\n",
    "    Panel(\n",
    "          SVG(PANEL_REG_H).scale(svg_scale).move(0, 0*factor_svg),\n",
    "          Text(\"g\", -2.0*factor_svg, 2.5*factor_svg, **kwargs_text),\n",
    "    ).move(53*factor_svg, 47*factor_svg),\n",
    "    Panel(\n",
    "          SVG(PANEL_REG_H2).scale(svg_scale).move(0, 0*factor_svg),\n",
    "    ).move(86.5*factor_svg, 46.7*factor_svg),\n",
    ")\n",
    "\n",
    "!mkdir -p fig\n",
    "f.save(\"../fig/fig3_reg.svg\")\n",
    "svg('../fig/fig3_reg.svg')"
   ]
  },
  {
   "cell_type": "markdown",
   "metadata": {},
   "source": [
    "### Build appendix"
   ]
  },
  {
   "cell_type": "code",
   "execution_count": 327,
   "metadata": {},
   "outputs": [
    {
     "data": {
      "text/html": [
       "<img src=\"../fig/fig3_reg_supp_EV_spectrum.svg\" / >"
      ],
      "text/plain": [
       "<IPython.core.display.HTML object>"
      ]
     },
     "metadata": {},
     "output_type": "display_data"
    }
   ],
   "source": [
    "from svgutils.compose import *\n",
    "\n",
    "# > Inkscape pixel is 1/90 of an inch, other software usually uses 1/72.\n",
    "# > http://www.inkscapeforum.com/viewtopic.php?f=6&t=5964\n",
    "svg_scale = 1.25  # set this to 1.25 for Inkscape, 1.0 otherwise\n",
    "factor_svg=5.5\n",
    "\n",
    "# Panel letters in Helvetica Neue, 12pt, Medium\n",
    "kwargs_text = {'size': '12pt', 'font': 'Arial', 'weight': '800'}\n",
    "kwargs_text_12pt = {'size': '12pt', 'font': 'Arial', 'weight': '500'}\n",
    "kwargs_consistent = {'size': '10pt', 'font': 'Arial', 'weight': '500', 'color': '#AF99EF'}\n",
    "kwargs_consistent1 = {'size': '10pt', 'font': 'Arial', 'weight': '500', 'color': '#9E7DD5'}\n",
    "kwargs_inconsistent = {'size': '10pt', 'font': 'Arial', 'weight': '500', 'color': '#AF99EF'}\n",
    "kwargs_text8pt = {'size': '7.7pt', 'font': 'Arial'}\n",
    "kwargs_text8pt_red = {'size': '7.7pt', 'font': 'Arial', 'weight': '800', 'color': \"#b30000\"}\n",
    "\n",
    "f = Figure(\"20.3cm\", \"3.2cm\",\n",
    "\n",
    "    Panel(\n",
    "          SVG(PANEL_REG_C).scale(svg_scale).move(0, 0*factor_svg),\n",
    "    ).move(0*factor_svg, 0*factor_svg),\n",
    ")\n",
    "\n",
    "!mkdir -p fig\n",
    "f.save(\"../fig/fig3_reg_supp_EV_spectrum.svg\")\n",
    "svg('../fig/fig3_reg_supp_EV_spectrum.svg')"
   ]
  },
  {
   "cell_type": "code",
   "execution_count": null,
   "metadata": {},
   "outputs": [],
   "source": []
  },
  {
   "cell_type": "code",
   "execution_count": null,
   "metadata": {},
   "outputs": [],
   "source": []
  },
  {
   "cell_type": "code",
   "execution_count": null,
   "metadata": {},
   "outputs": [],
   "source": []
  },
  {
   "cell_type": "code",
   "execution_count": null,
   "metadata": {},
   "outputs": [],
   "source": []
  },
  {
   "cell_type": "code",
   "execution_count": null,
   "metadata": {},
   "outputs": [],
   "source": []
  }
 ],
 "metadata": {
  "kernelspec": {
   "display_name": "sbi_prinz",
   "language": "python",
   "name": "sbi_prinz"
  },
  "language_info": {
   "codemirror_mode": {
    "name": "ipython",
    "version": 3
   },
   "file_extension": ".py",
   "mimetype": "text/x-python",
   "name": "python",
   "nbconvert_exporter": "python",
   "pygments_lexer": "ipython3",
   "version": "3.8.5"
  }
 },
 "nbformat": 4,
 "nbformat_minor": 4
}
