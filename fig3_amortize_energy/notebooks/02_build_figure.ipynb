{
 "cells": [
  {
   "cell_type": "code",
   "execution_count": 309,
   "metadata": {},
   "outputs": [],
   "source": [
    "import time\n",
    "\n",
    "import IPython.display as IPd\n",
    "import matplotlib as mpl\n",
    "import matplotlib.pylab as plt\n",
    "import numpy as np\n",
    "import torch\n",
    "from mpl_toolkits.axes_grid1 import make_axes_locatable\n",
    "\n",
    "import stg_energy.fig3_amortize_energy.viz as viz\n",
    "from pyloric import create_prior, get_time, simulate_energyscape, stats\n",
    "from sbi.utils.regression_net.get_nn_classifier import classifier\n",
    "from sbi.utils.regression_net.train_classifier import fit_regression_net\n",
    "from stg_energy.common import col, get_labels_8pt, svg\n",
    "from stg_energy.fig3_amortize_energy.helper_functions import (\n",
    "    active_subspace,\n",
    "    get_gradient,\n",
    ")"
   ]
  },
  {
   "cell_type": "markdown",
   "metadata": {},
   "source": [
    "# Figure 3"
   ]
  },
  {
   "cell_type": "code",
   "execution_count": 310,
   "metadata": {},
   "outputs": [
    {
     "name": "stdout",
     "output_type": "stream",
     "text": [
      "The autoreload extension is already loaded. To reload it, use:\n",
      "  %reload_ext autoreload\n"
     ]
    }
   ],
   "source": [
    "%load_ext autoreload\n",
    "%autoreload 2"
   ]
  },
  {
   "cell_type": "code",
   "execution_count": 492,
   "metadata": {},
   "outputs": [],
   "source": [
    "PANEL_A = \"../svg/panel_a.svg\"\n",
    "PANEL_B = \"../svg/panel_b.svg\"\n",
    "PANEL_C = \"../svg/panel_c.svg\"\n",
    "PANEL_REG_A1 = \"../svg/panel_reg_a1.svg\"\n",
    "PANEL_REG_A2 = \"../svg/panel_reg_a2.svg\"\n",
    "PANEL_REG_B = \"../svg/panel_reg_b.svg\"\n",
    "PANEL_REG_C = \"../svg/panel_reg_c.svg\"\n",
    "PANEL_REG_D1 = \"../svg/panel_reg_d1.svg\"\n",
    "PANEL_REG_D2 = \"../svg/panel_reg_d2.svg\"\n",
    "PANEL_REG_D3 = \"../svg/panel_reg_d3.svg\"\n",
    "PANEL_REG_D4 = \"../svg/panel_reg_d4.svg\"\n",
    "PANEL_REG_E = \"../svg/panel_reg_e.svg\"\n",
    "PANEL_REG_F = \"../svg/panel_reg_f.svg\"\n",
    "PANEL_REG_G = \"../svg/panel_reg_g.svg\"\n",
    "PANEL_REG_H = \"../svg/panel_reg_h.svg\"\n",
    "PANEL_REG_G2 = \"../svg/panel_reg_g2.svg\"\n",
    "PANEL_REG_H2 = \"../svg/panel_reg_h2.svg\""
   ]
  },
  {
   "cell_type": "markdown",
   "metadata": {},
   "source": [
    "### Load experimental data"
   ]
  },
  {
   "cell_type": "code",
   "execution_count": 493,
   "metadata": {},
   "outputs": [],
   "source": [
    "prior_11 = create_prior(log=True)\n",
    "dimensions_11 = 31\n",
    "lims_11 = np.asarray(\n",
    "    [-np.sqrt(3) * np.ones(dimensions_11), np.sqrt(3) * np.ones(dimensions_11)]\n",
    ").T\n",
    "\n",
    "params_mean_11 = prior_11.mean.numpy()\n",
    "params_std_11 = prior_11.stddev.numpy()"
   ]
  },
  {
   "cell_type": "code",
   "execution_count": 494,
   "metadata": {},
   "outputs": [],
   "source": [
    "data = np.load(\"../../results/11deg_post_pred/11_deg_post_pred_close_to_obs.npz\")\n",
    "good_stats = data[\"sample_stats\"]\n",
    "good_params = data[\"sample_params\"]\n",
    "good_seeds = data[\"sample_seeds\"]"
   ]
  },
  {
   "cell_type": "code",
   "execution_count": 495,
   "metadata": {},
   "outputs": [
    {
     "name": "stdout",
     "output_type": "stream",
     "text": [
      "There are 55043 datapoints in this dataset\n"
     ]
    }
   ],
   "source": [
    "sample_params = good_params\n",
    "sample_stats = good_stats\n",
    "print(\"There are\", len(good_seeds), \"datapoints in this dataset\")"
   ]
  },
  {
   "cell_type": "code",
   "execution_count": 496,
   "metadata": {},
   "outputs": [],
   "source": [
    "sample_stats = data[\"sample_stats\"]\n",
    "sample_params = data[\"sample_params\"]\n",
    "sample_seeds = data[\"sample_seeds\"]"
   ]
  },
  {
   "cell_type": "code",
   "execution_count": 497,
   "metadata": {},
   "outputs": [],
   "source": [
    "energies = sample_stats[:, 21:24]\n",
    "summed_energies = np.sum(energies, axis=1)"
   ]
  },
  {
   "cell_type": "markdown",
   "metadata": {},
   "source": [
    "### Quantify the variances"
   ]
  },
  {
   "cell_type": "code",
   "execution_count": 498,
   "metadata": {},
   "outputs": [],
   "source": [
    "prior_range = (prior_11.support.upper_bound - prior_11.support.lower_bound).numpy()"
   ]
  },
  {
   "cell_type": "code",
   "execution_count": 499,
   "metadata": {},
   "outputs": [],
   "source": [
    "inds = np.argsort(summed_energies)\n",
    "sorted_energies = np.sort(summed_energies)\n",
    "sorted_params = sample_params[inds]\n",
    "sorted_ss = sample_stats[inds]"
   ]
  },
  {
   "cell_type": "code",
   "execution_count": 500,
   "metadata": {},
   "outputs": [],
   "source": [
    "all_means = []\n",
    "for quantile in [0.99, 0.75, 0.5, 0.25, 0.01]:\n",
    "\n",
    "    sample_stats = data[\"sample_stats\"]\n",
    "    sample_params = data[\"sample_params\"]\n",
    "    sample_seeds = data[\"sample_seeds\"]\n",
    "\n",
    "    num_samples = 1000\n",
    "    num_vals = len(summed_energies)\n",
    "    params_to_plot = sorted_params[\n",
    "        int(num_vals * quantile - num_samples / 2) : int(\n",
    "            num_vals * quantile + num_samples / 2\n",
    "        )\n",
    "    ]\n",
    "    energy_thr = sorted_energies[int(num_vals * quantile)]\n",
    "\n",
    "    mean_of_these_params = np.mean(params_to_plot, axis=0)\n",
    "    all_means.append(mean_of_these_params)\n",
    "all_means = np.asarray(all_means)"
   ]
  },
  {
   "cell_type": "code",
   "execution_count": 501,
   "metadata": {},
   "outputs": [
    {
     "data": {
      "text/plain": [
       "1721441.8802888643"
      ]
     },
     "execution_count": 501,
     "metadata": {},
     "output_type": "execute_result"
    }
   ],
   "source": [
    "energy_thr"
   ]
  },
  {
   "cell_type": "markdown",
   "metadata": {},
   "source": [
    "### Plot histogram"
   ]
  },
  {
   "cell_type": "code",
   "execution_count": 502,
   "metadata": {},
   "outputs": [
    {
     "data": {
      "image/png": "[encoded data removed]",
      "text/plain": [
       "<Figure size 172.8x144 with 1 Axes>"
      ]
     },
     "metadata": {
      "needs_background": "light"
     },
     "output_type": "display_data"
    }
   ],
   "source": [
    "fig, ax = plt.subplots(1, 1, figsize=(2.4, 2))\n",
    "\n",
    "N, bins, patches = ax.hist(summed_energies, bins=100)\n",
    "\n",
    "for quantile in [0.99, 0.75, 0.5, 0.25, 0.01]:\n",
    "    sample_stats = data[\"sample_stats\"]\n",
    "    sample_params = data[\"sample_params\"]\n",
    "    sample_seeds = data[\"sample_seeds\"]\n",
    "\n",
    "    num_samples = 1000\n",
    "    num_vals = len(summed_energies)\n",
    "    params_to_plot = sorted_params[\n",
    "        int(num_vals * quantile - num_samples / 2) : int(\n",
    "            num_vals * quantile + num_samples / 2\n",
    "        )\n",
    "    ]\n",
    "    energy_thr_low = sorted_energies[int(num_vals * quantile - num_samples / 2)]\n",
    "    energy_thr_high = sorted_energies[int(num_vals * quantile + num_samples / 2)]\n",
    "\n",
    "    for i, b in enumerate(bins):\n",
    "        if b > energy_thr_low and b < energy_thr_high:\n",
    "            patches[i].set_facecolor(\"r\")\n",
    "\n",
    "ax.set_xlim(0, 7500000)\n",
    "ax.set_xlabel(\"Energy\")\n",
    "ax.set_ylabel(\"Frequency of posterior samples\")\n",
    "ax.spines[\"top\"].set_visible(False)\n",
    "ax.spines[\"right\"].set_visible(False)\n",
    "\n",
    "# plt.savefig('../results/energy/figs_new/histogram.png', dpi=300, bbox_inches='tight')"
   ]
  },
  {
   "cell_type": "code",
   "execution_count": 503,
   "metadata": {},
   "outputs": [],
   "source": [
    "shift_in_mean = all_means[0] - all_means[-1]\n",
    "shift_in_mean_normalized = shift_in_mean / prior_range"
   ]
  },
  {
   "cell_type": "code",
   "execution_count": 504,
   "metadata": {},
   "outputs": [],
   "source": [
    "sort_inds = np.argsort(np.abs(shift_in_mean_normalized))\n",
    "strongest_variation_inds = np.sort(sort_inds[-8:])  # these are used for plots"
   ]
  },
  {
   "cell_type": "code",
   "execution_count": 505,
   "metadata": {},
   "outputs": [],
   "source": [
    "labels_ = get_labels_8pt()\n",
    "labels_[9] += \"\""
   ]
  },
  {
   "cell_type": "code",
   "execution_count": 506,
   "metadata": {},
   "outputs": [],
   "source": [
    "from decimal import Decimal\n",
    "\n",
    "all_labels = []\n",
    "lims = lims_11\n",
    "params_std = params_std_11\n",
    "params_mean = params_mean_11\n",
    "for dim_i in range(31):\n",
    "    if dim_i > len(params_mean_11) - 7.5:  # synapses\n",
    "        if dim_i == 24:\n",
    "            all_labels.append(\n",
    "                [r\"$\\mathdefault{0.01}$     \", r\"$\\mathdefault{10000}\\;\\;\\;\\;$   \"]\n",
    "            )\n",
    "        else:\n",
    "            all_labels.append(\n",
    "                [r\"$\\mathdefault{0.01}$ \", r\"$\\mathdefault{1000}\\;\\;\\;\\;$ \"]\n",
    "            )\n",
    "    else:  # membrane conductances\n",
    "        num_after_digits = -int(\n",
    "            np.log10(lims[dim_i, 1] * params_std[dim_i] + params_mean[dim_i])\n",
    "        )\n",
    "        if num_after_digits > 2:\n",
    "            num_after_digits = 2\n",
    "        labels = [\n",
    "            round(\n",
    "                Decimal(\n",
    "                    (lims[dim_i, num_tmp] * params_std[dim_i] + params_mean[dim_i])\n",
    "                    / 0.628e-3\n",
    "                ),\n",
    "                num_after_digits,\n",
    "            )\n",
    "            for num_tmp in range(2)\n",
    "        ]\n",
    "        new_labels = []\n",
    "        counter = 0\n",
    "        for l in labels:\n",
    "            if counter == 0:\n",
    "                new_labels.append(r\"$\\mathdefault{\" + str(l) + \"}$  \")\n",
    "            else:\n",
    "                new_labels.append(r\"$\\mathdefault{\" + str(l) + \"}\\;\\;\\;$  \")\n",
    "            counter += 1\n",
    "        all_labels.append(new_labels)"
   ]
  },
  {
   "cell_type": "markdown",
   "metadata": {},
   "source": [
    "# Panel 0: Fit regression net"
   ]
  },
  {
   "cell_type": "code",
   "execution_count": 507,
   "metadata": {},
   "outputs": [],
   "source": [
    "energies = torch.as_tensor(energies)\n",
    "sample_stats = torch.as_tensor(sample_stats)"
   ]
  },
  {
   "cell_type": "code",
   "execution_count": 508,
   "metadata": {},
   "outputs": [
    {
     "name": "stdout",
     "output_type": "stream",
     "text": [
      "torch.Size([55043, 3])\n"
     ]
    }
   ],
   "source": [
    "print(energies.shape)"
   ]
  },
  {
   "cell_type": "code",
   "execution_count": 509,
   "metadata": {},
   "outputs": [],
   "source": [
    "num_test = 500\n",
    "\n",
    "test_params = good_params[:num_test]\n",
    "train_params = good_params[num_test:]\n",
    "mean_params = np.mean(train_params, axis=0)\n",
    "std_params = np.std(train_params, axis=0)\n",
    "\n",
    "train_params_norm = (train_params - mean_params) / std_params\n",
    "test_params_norm = (test_params - mean_params) / std_params"
   ]
  },
  {
   "cell_type": "code",
   "execution_count": 510,
   "metadata": {},
   "outputs": [],
   "source": [
    "train_energy_ABPD = torch.sum(energies[num_test:], dim=1).unsqueeze(1)\n",
    "test_energy_ABPD = torch.sum(energies[:num_test], dim=1).unsqueeze(1)\n",
    "mean_energy = torch.mean(train_energy_ABPD)\n",
    "std_energy = torch.std(train_energy_ABPD)\n",
    "train_energy_ABPD_norm = (train_energy_ABPD - mean_energy) / std_energy\n",
    "test_energy_ABPD_norm = (test_energy_ABPD - mean_energy) / std_energy"
   ]
  },
  {
   "cell_type": "code",
   "execution_count": 511,
   "metadata": {},
   "outputs": [],
   "source": [
    "nn = classifier(dim=31)"
   ]
  },
  {
   "cell_type": "code",
   "execution_count": 512,
   "metadata": {},
   "outputs": [],
   "source": [
    "# converged_nn = fit_regression_net(\n",
    "#     nn,\n",
    "#     train_params_norm,\n",
    "#     train_energy_ABPD_norm,\n",
    "#     num_train=train_params_norm.shape[0],\n",
    "#     batch_size=50,\n",
    "#     stop_after_epochs=10,\n",
    "#     max_epochs=200,\n",
    "# )\n",
    "# np.savez('../../results/regression_nets/200923_predict_total_energy_sum_over_all_neurons.npz', converged_nn=converged_nn)"
   ]
  },
  {
   "cell_type": "code",
   "execution_count": 513,
   "metadata": {},
   "outputs": [],
   "source": [
    "data = np.load(\n",
    "    \"../../results/regression_nets/200923_predict_total_energy_sum_over_all_neurons.npz\",\n",
    "    allow_pickle=True,\n",
    ")\n",
    "converged_nn = data[\"converged_nn\"].tolist()"
   ]
  },
  {
   "cell_type": "code",
   "execution_count": 514,
   "metadata": {},
   "outputs": [],
   "source": [
    "predictions = converged_nn.predict(torch.as_tensor(test_params_norm)).detach()"
   ]
  },
  {
   "cell_type": "code",
   "execution_count": 515,
   "metadata": {},
   "outputs": [
    {
     "data": {
      "image/png": "[encoded data removed]",
      "text/plain": [
       "<Figure size 200x100 with 1 Axes>"
      ]
     },
     "metadata": {},
     "output_type": "display_data"
    }
   ],
   "source": [
    "with mpl.rc_context(fname=\"../../.matplotlibrc\"):\n",
    "    fig, ax = plt.subplots(1, 1, figsize=(2, 1.0))\n",
    "    unnorm_x = test_energy_ABPD_norm[:300] * std_energy + mean_energy\n",
    "    unnorm_y = predictions[:300] * std_energy + mean_energy\n",
    "    ax.scatter(x=unnorm_x.numpy(), y=unnorm_y.numpy(), s=3, color=\"#2b8cbe\")\n",
    "    gt_vec = np.linspace(np.min(unnorm_x.numpy()), np.max(unnorm_x.numpy()), 2)\n",
    "    ax.plot(gt_vec, gt_vec, \"#ff7f00\")\n",
    "    ax.set_xlabel(\"Total energy\")\n",
    "    ax.set_ylabel(\"Neural net prediction\")"
   ]
  },
  {
   "cell_type": "code",
   "execution_count": 516,
   "metadata": {},
   "outputs": [],
   "source": [
    "cum_grad = get_gradient(converged_nn, test_params_norm)"
   ]
  },
  {
   "cell_type": "code",
   "execution_count": 517,
   "metadata": {},
   "outputs": [
    {
     "data": {
      "image/png": "[encoded data removed]",
      "text/plain": [
       "<Figure size 100x50 with 1 Axes>"
      ]
     },
     "metadata": {},
     "output_type": "display_data"
    }
   ],
   "source": [
    "with mpl.rc_context(fname=\"../../.matplotlibrc\"):\n",
    "    viz.all_sensitivity_bars(cum_grad, ylim=[-1, 1], figsize=(1.0,0.5))\n",
    "    plt.show()"
   ]
  },
  {
   "cell_type": "code",
   "execution_count": 518,
   "metadata": {},
   "outputs": [],
   "source": [
    "e_vals, e_vecs = active_subspace(converged_nn, test_params_norm)"
   ]
  },
  {
   "cell_type": "markdown",
   "metadata": {},
   "source": [
    "### Plot correlation between parameter and energy"
   ]
  },
  {
   "cell_type": "code",
   "execution_count": 519,
   "metadata": {},
   "outputs": [],
   "source": [
    "import seaborn as sns\n",
    "import pandas as pd"
   ]
  },
  {
   "cell_type": "code",
   "execution_count": 520,
   "metadata": {},
   "outputs": [
    {
     "data": {
      "image/png": "[encoded data removed]",
      "text/plain": [
       "<Figure size 130x100 with 1 Axes>"
      ]
     },
     "metadata": {},
     "output_type": "display_data"
    }
   ],
   "source": [
    "PY_Na = good_params[:, 16]\n",
    "num_scatter = 200\n",
    "\n",
    "df = pd.DataFrame(data=[PY_Na[:num_scatter], summed_energies[:num_scatter]], index=[\"PY_Na\", \"total_energy\"])\n",
    "\n",
    "with mpl.rc_context(fname=\"../../.matplotlibrc\"):\n",
    "    fig, ax = plt.subplots(1,1, figsize=(1.3,1.0))\n",
    "    sns.regplot(x=PY_Na[:num_scatter], y=summed_energies[:num_scatter], scatter_kws={\"s\":2}, ci=None);\n",
    "    ax.set_xlabel('$\\mathrm{g}_{\\mathrm{Na}}$ of PY')\n",
    "    ax.set_ylabel('Total Energy')\n",
    "    ax.spines['top'].set_visible(False)\n",
    "    ax.spines['right'].set_visible(False)\n",
    "    #ax.xaxis.set_label_coords(0.5, -0.35)\n",
    "    ax.set_ylim([np.min(summed_energies), np.max(summed_energies)])\n",
    "    ax.set_yticks([np.min(summed_energies), np.max(summed_energies)])\n",
    "    ax.set_yticklabels([\"min\", \"max\"])\n",
    "    plt.savefig(PANEL_REG_A1, facecolor='None', transparent=False)"
   ]
  },
  {
   "cell_type": "code",
   "execution_count": 590,
   "metadata": {},
   "outputs": [
    {
     "data": {
      "image/png": "[encoded data removed]",
      "text/plain": [
       "<Figure size 130x100 with 1 Axes>"
      ]
     },
     "metadata": {},
     "output_type": "display_data"
    }
   ],
   "source": [
    "ABPD_Na = good_params[:, 20]\n",
    "\n",
    "with mpl.rc_context(fname=\"../../.matplotlibrc\"):\n",
    "    fig, ax = plt.subplots(1,1, figsize=(1.3,1))\n",
    "    sns.regplot(x=ABPD_Na[:num_scatter], y=summed_energies[:num_scatter], scatter_kws={\"s\":2}, ci=None);\n",
    "    ax.set_xlabel('$\\mathrm{g}_{\\mathrm{KCa}}$ of LP')\n",
    "    ax.set_ylabel('Total Energy')\n",
    "    ax.spines['top'].set_visible(False)\n",
    "    ax.spines['right'].set_visible(False)\n",
    "    #ax.xaxis.set_label_coords(0.35, -0.35)\n",
    "    ax.set_ylim([np.min(summed_energies), np.max(summed_energies)])\n",
    "    ax.set_yticks([np.min(summed_energies), np.max(summed_energies)])\n",
    "    ax.set_yticklabels([\"min\", \"max\"])\n",
    "    ax.set_xticks([0.001, 0.003])\n",
    "    plt.savefig(PANEL_REG_A2, facecolor='None', transparent=False)"
   ]
  },
  {
   "cell_type": "markdown",
   "metadata": {},
   "source": [
    "### Sketch of active subspace"
   ]
  },
  {
   "cell_type": "code",
   "execution_count": 593,
   "metadata": {},
   "outputs": [
    {
     "data": {
      "image/png": "[encoded data removed]",
      "text/plain": [
       "<Figure size 195x130 with 2 Axes>"
      ]
     },
     "metadata": {},
     "output_type": "display_data"
    }
   ],
   "source": [
    "figureratio = 1.5\n",
    "figuresize = 1.3\n",
    "\n",
    "vec1 = np.linspace(-3,3,int(figureratio * 100))\n",
    "vec2 = np.linspace(-3,3,100)\n",
    "\n",
    "X,Y = np.meshgrid(vec1, vec2)\n",
    "dist = np.abs(X + 1.5*Y)\n",
    "\n",
    "with mpl.rc_context(fname=\"../../.matplotlibrc\"):\n",
    "    fig, ax = plt.subplots(1,1, figsize=(figureratio*figuresize,figuresize))\n",
    "    im = ax.imshow(-dist)\n",
    "    ax.set_xticks([])\n",
    "    ax.set_yticks([])\n",
    "    ax.set_xlabel(\"Parameter 1\")\n",
    "    ax.set_ylabel(\"Parameter 2\")\n",
    "    \n",
    "    cbar = plt.colorbar(im, aspect=15,fraction=0.04, pad=0.04)\n",
    "    cbar.set_ticks([])\n",
    "    cbar.set_label('Energy', labelpad=5)\n",
    "    ax.arrow(75, 50, 10, -5, head_width=7, head_length=9, facecolor='k')\n",
    "    ax.arrow(75, 50, 10, 20, head_width=7, head_length=9, facecolor='k')\n",
    "    plt.savefig(PANEL_REG_B, facecolor='None', transparent=False)"
   ]
  },
  {
   "cell_type": "markdown",
   "metadata": {},
   "source": [
    "### Plot all 31D eigenvalues\n",
    "It seems that energy lies largely in a 1D subspace. As we will show below, within theis subspace, it is possible to optimize both the energy/spike and the number of spikes."
   ]
  },
  {
   "cell_type": "code",
   "execution_count": 523,
   "metadata": {},
   "outputs": [
    {
     "data": {
      "image/png": "[encoded data removed]",
      "text/plain": [
       "<Figure size 170x100 with 1 Axes>"
      ]
     },
     "metadata": {},
     "output_type": "display_data"
    }
   ],
   "source": [
    "with mpl.rc_context(fname=\"../../.matplotlibrc\"):\n",
    "    viz.plot_eigenvalues(torch.log(torch.flip(e_vals, dims=(0,))), figsize=(1.7, 1.0))\n",
    "    plt.savefig(PANEL_REG_C, facecolor='None', transparent=False)\n",
    "    plt.show()"
   ]
  },
  {
   "cell_type": "markdown",
   "metadata": {},
   "source": [
    "### Plot first eigenvector"
   ]
  },
  {
   "cell_type": "code",
   "execution_count": 524,
   "metadata": {},
   "outputs": [],
   "source": [
    "e_vecs = e_vecs "
   ]
  },
  {
   "cell_type": "code",
   "execution_count": 525,
   "metadata": {},
   "outputs": [],
   "source": [
    "# with mpl.rc_context(fname=\"../../.matplotlibrc\"):\n",
    "#     viz.all_sensitivity_bars(e_vecs[:, -1:].T, ylim=[-0.3, 0.6], figsize=(3.0, 1.0), ylabel='First Eigenvec.')\n",
    "#     plt.savefig(PANEL_REG_D, facecolor='None', transparent=False)\n",
    "#     plt.show()"
   ]
  },
  {
   "cell_type": "code",
   "execution_count": 583,
   "metadata": {},
   "outputs": [
    {
     "data": {
      "image/png": "[encoded data removed]",
      "text/plain": [
       "<Figure size 160x100 with 1 Axes>"
      ]
     },
     "metadata": {},
     "output_type": "display_data"
    }
   ],
   "source": [
    "with mpl.rc_context(fname=\"../../.matplotlibrc\"):\n",
    "    viz.py_sensitivity_bars(e_vecs[0:8, -1:].T, ylim=[-0.3, 0.6], figsize=(1.6, 1.0), ylabel='First E-vec.', plot_labels=True, color=\"#3182bd\")\n",
    "    plt.savefig(PANEL_REG_D1, facecolor='None', transparent=False)\n",
    "    plt.show()"
   ]
  },
  {
   "cell_type": "code",
   "execution_count": 548,
   "metadata": {},
   "outputs": [
    {
     "data": {
      "image/png": "[encoded data removed]",
      "text/plain": [
       "<Figure size 160x100 with 1 Axes>"
      ]
     },
     "metadata": {},
     "output_type": "display_data"
    }
   ],
   "source": [
    "with mpl.rc_context(fname=\"../../.matplotlibrc\"):\n",
    "    viz.py_sensitivity_bars(e_vecs[8:16, -1:].T, ylim=[-0.3, 0.6], figsize=(1.6, 1.0), ylabel=None, plot_labels=False, color=\"#fc8d59\")\n",
    "    plt.savefig(PANEL_REG_D2, facecolor='None', transparent=False)\n",
    "    plt.show()"
   ]
  },
  {
   "cell_type": "code",
   "execution_count": 549,
   "metadata": {},
   "outputs": [
    {
     "data": {
      "image/png": "[encoded data removed]",
      "text/plain": [
       "<Figure size 160x100 with 1 Axes>"
      ]
     },
     "metadata": {},
     "output_type": "display_data"
    }
   ],
   "source": [
    "with mpl.rc_context(fname=\"../../.matplotlibrc\"):\n",
    "    viz.py_sensitivity_bars(e_vecs[16:24, -1:].T, ylim=[-0.3, 0.6], figsize=(1.6, 1.0), ylabel=None, plot_labels=False, color=\"#2ca25f\")\n",
    "    plt.savefig(PANEL_REG_D3, facecolor='None', transparent=False)\n",
    "    plt.show()"
   ]
  },
  {
   "cell_type": "code",
   "execution_count": 550,
   "metadata": {},
   "outputs": [
    {
     "data": {
      "image/png": "[encoded data removed]",
      "text/plain": [
       "<Figure size 140x100 with 1 Axes>"
      ]
     },
     "metadata": {},
     "output_type": "display_data"
    }
   ],
   "source": [
    "with mpl.rc_context(fname=\"../../.matplotlibrc\"):\n",
    "    viz.synapse_sensitivity_bars(e_vecs[24:, -1:].T, ylim=[-0.3, 0.6], figsize=(1.4, 1.0), ylabel='', color=\"k\")\n",
    "    plt.savefig(PANEL_REG_D4, facecolor='None', transparent=False)\n",
    "    plt.show()"
   ]
  },
  {
   "cell_type": "code",
   "execution_count": 551,
   "metadata": {},
   "outputs": [],
   "source": [
    "# with mpl.rc_context(fname=\"../../.matplotlibrc\"):\n",
    "#     viz.py_sensitivity_bars(e_vecs[16:24, -1:].T, ylim=[-0.3, 0.6], figsize=(2.8, 1.0), ylabel='PY neuron', color=\"#2ca25f\")\n",
    "#     plt.savefig(PANEL_REG_E, facecolor='None', transparent=False)\n",
    "#     plt.show()"
   ]
  },
  {
   "cell_type": "markdown",
   "metadata": {},
   "source": [
    "### Project into 1D plane"
   ]
  },
  {
   "cell_type": "code",
   "execution_count": 233,
   "metadata": {},
   "outputs": [],
   "source": [
    "num_scatter = 1000\n",
    "\n",
    "projection_mat = e_vecs[:, -1:]\n",
    "train_params_norm_tt = torch.as_tensor(train_params_norm)[:num_scatter]\n",
    "all_train_params_norm_tt = torch.as_tensor(train_params_norm)\n",
    "projected = torch.mm(train_params_norm_tt, projection_mat)[:num_scatter]\n",
    "all_projected = torch.mm(all_train_params_norm_tt, projection_mat)"
   ]
  },
  {
   "cell_type": "code",
   "execution_count": 234,
   "metadata": {},
   "outputs": [],
   "source": [
    "minimal_dim0_set = projected[torch.argmin(projected[:, 0])]\n",
    "maximal_dim0_set = projected[torch.argmax(projected[:, 0])]"
   ]
  },
  {
   "cell_type": "code",
   "execution_count": 235,
   "metadata": {},
   "outputs": [
    {
     "data": {
      "image/png": "[encoded data removed]",
      "text/plain": [
       "<Figure size 150x100 with 1 Axes>"
      ]
     },
     "metadata": {},
     "output_type": "display_data"
    }
   ],
   "source": [
    "with mpl.rc_context(fname=\"../../.matplotlibrc\"):\n",
    "    fig, ax = plt.subplots(1, 1, figsize=(1.5, 1))\n",
    "    _ = ax.hist(all_projected[:10000].T, bins=50)\n",
    "    ax.axvline(minimal_dim0_set, c=\"#8856a7\", ymin=0, ymax=0.75)\n",
    "    ax.axvline(maximal_dim0_set, c=\"#8856a7\", ymin=0, ymax=0.75)\n",
    "    ax.spines[\"top\"].set_visible(False)\n",
    "    ax.spines[\"right\"].set_visible(False)\n",
    "    ax.set_xlabel(\"Projected samples\")\n",
    "    ax.set_ylabel(\"Count\")\n",
    "    plt.savefig(PANEL_REG_F, facecolor='None', transparent=False)"
   ]
  },
  {
   "cell_type": "markdown",
   "metadata": {},
   "source": [
    "### Simulate the most extreme cases and show the PY neuron"
   ]
  },
  {
   "cell_type": "code",
   "execution_count": 236,
   "metadata": {},
   "outputs": [
    {
     "name": "stdout",
     "output_type": "stream",
     "text": [
      "tensor(7542451.3953, dtype=torch.float64)\n"
     ]
    }
   ],
   "source": [
    "min_of_energy_PY = torch.min(torch.sum(energies, dim=1)) \n",
    "max_of_energy_PY = torch.max(torch.sum(energies, dim=1)) \n",
    "print(max_of_energy_PY)"
   ]
  },
  {
   "cell_type": "code",
   "execution_count": 237,
   "metadata": {},
   "outputs": [
    {
     "name": "stdout",
     "output_type": "stream",
     "text": [
      "tensor(210., dtype=torch.float64)\n",
      "tensor(625., dtype=torch.float64)\n"
     ]
    }
   ],
   "source": [
    "min_num_spikes_PY = torch.min(torch.sum(sample_stats[:, -6:-3], dim=1)) \n",
    "max_num_spikes_PY = torch.max(torch.sum(sample_stats[:, -6:-3], dim=1)) \n",
    "print(min_num_spikes_PY)\n",
    "print(max_num_spikes_PY)"
   ]
  },
  {
   "cell_type": "code",
   "execution_count": 238,
   "metadata": {},
   "outputs": [],
   "source": [
    "unnorm_set_dim0_min = (\n",
    "    train_params_norm_tt[torch.argmin(projected[:, 0])] * std_params + mean_params\n",
    ")\n",
    "unnorm_set_dim0_max = (\n",
    "    train_params_norm_tt[torch.argmax(projected[:, 0])] * std_params + mean_params\n",
    ")\n",
    "simulation_output_dim0_min = simulate_energyscape(unnorm_set_dim0_min, seed=0)\n",
    "simulation_output_dim0_max = simulate_energyscape(unnorm_set_dim0_max, seed=0)"
   ]
  },
  {
   "cell_type": "code",
   "execution_count": 239,
   "metadata": {},
   "outputs": [
    {
     "data": {
      "image/png": "[encoded data removed]",
      "text/plain": [
       "<Figure size 300x100 with 2 Axes>"
      ]
     },
     "metadata": {},
     "output_type": "display_data"
    }
   ],
   "source": [
    "with mpl.rc_context(fname=\"../../.matplotlibrc\"):\n",
    "    viz.energy_scape(\n",
    "        simulation_output_dim0_min,\n",
    "        get_time(),\n",
    "        (3.0, 1.0),\n",
    "        [\"k\", \"k\", \"k\"],\n",
    "        time_len=30000,\n",
    "        offset=100000,\n",
    "    )\n",
    "    plt.savefig(PANEL_REG_G, facecolor='None', transparent=False)\n",
    "# 18 spikes"
   ]
  },
  {
   "cell_type": "code",
   "execution_count": 240,
   "metadata": {},
   "outputs": [
    {
     "data": {
      "image/png": "[encoded data removed]",
      "text/plain": [
       "<Figure size 70x100 with 1 Axes>"
      ]
     },
     "metadata": {},
     "output_type": "display_data"
    }
   ],
   "source": [
    "summstats = stats(simulation_output_dim0_min)\n",
    "num_spikes_PY = np.sum(summstats[31:34])\n",
    "energies_PY_sim = np.sum(summstats[28:31])\n",
    "\n",
    "with mpl.rc_context(fname=\"../../.matplotlibrc\"):\n",
    "    fig, ax = plt.subplots(1,1, figsize=(0.7,1.0))\n",
    "    height_energy = (energies_PY_sim - min_of_energy_PY) / (max_of_energy_PY - min_of_energy_PY)\n",
    "    height_num_spikes = (num_spikes_PY - min_num_spikes_PY) / (max_num_spikes_PY - min_num_spikes_PY)\n",
    "    ax.bar(np.arange(0,2), [height_energy], width=0.3)\n",
    "    ax.set_ylim([0,1])\n",
    "    ax.set_xlim([-0.4, 1.4])\n",
    "    ax.spines['top'].set_visible(False)\n",
    "    ax.spines['right'].set_visible(False)\n",
    "    ax.set_xticks([0,1])\n",
    "    ax.set_yticks([0,1])\n",
    "    ax.set_xticklabels(['E / spike', '#spikes'], rotation=45)\n",
    "    ax.set_yticklabels(['min', 'max'])\n",
    "    plt.savefig(PANEL_REG_G2, facecolor='None', transparent=False)\n",
    "    plt.show()"
   ]
  },
  {
   "cell_type": "code",
   "execution_count": 241,
   "metadata": {},
   "outputs": [
    {
     "data": {
      "image/png": "[encoded data removed]",
      "text/plain": [
       "<Figure size 300x100 with 2 Axes>"
      ]
     },
     "metadata": {},
     "output_type": "display_data"
    }
   ],
   "source": [
    "with mpl.rc_context(fname=\"../../.matplotlibrc\"):\n",
    "    viz.energy_scape(\n",
    "        simulation_output_dim0_max,\n",
    "        get_time(),\n",
    "        (3.0, 1.0),\n",
    "        [\"k\", \"k\", \"k\"],\n",
    "        time_len=30000,\n",
    "        offset=37000,\n",
    "    )\n",
    "    plt.savefig(PANEL_REG_H, facecolor='None', transparent=False)\n",
    "# 29 spikes"
   ]
  },
  {
   "cell_type": "code",
   "execution_count": 242,
   "metadata": {},
   "outputs": [
    {
     "name": "stdout",
     "output_type": "stream",
     "text": [
      "num_spikes_PY 513.0\n",
      "energies_PY_sim 6762657.042568047\n"
     ]
    },
    {
     "data": {
      "image/png": "[encoded data removed]",
      "text/plain": [
       "<Figure size 70x100 with 1 Axes>"
      ]
     },
     "metadata": {},
     "output_type": "display_data"
    }
   ],
   "source": [
    "summstats = stats(simulation_output_dim0_max)\n",
    "num_spikes_PY = np.sum(summstats[31:34])\n",
    "energies_PY_sim = np.sum(summstats[28:31])\n",
    "print('num_spikes_PY', num_spikes_PY)\n",
    "print('energies_PY_sim', energies_PY_sim)\n",
    "\n",
    "with mpl.rc_context(fname=\"../../.matplotlibrc\"):\n",
    "    fig, ax = plt.subplots(1,1, figsize=(0.7,1.0))\n",
    "    height_energy = (energies_PY_sim - min_of_energy_PY) / (max_of_energy_PY - min_of_energy_PY)\n",
    "    height_num_spikes = (num_spikes_PY - min_num_spikes_PY) / (max_num_spikes_PY - min_num_spikes_PY)\n",
    "    ax.bar(np.arange(0,2), [height_energy], width=0.3)\n",
    "    ax.set_ylim([0,1])\n",
    "    ax.set_xlim([-0.4, 1.4])\n",
    "    ax.spines['top'].set_visible(False)\n",
    "    ax.spines['right'].set_visible(False)\n",
    "    ax.set_xticks([0,1])\n",
    "    ax.set_yticks([0,1])\n",
    "    ax.set_xticklabels(['E / spike', '#spikes'], rotation=45)\n",
    "    ax.set_yticklabels(['min', 'max'])\n",
    "    plt.savefig(PANEL_REG_H2, facecolor='None', transparent=False)\n",
    "    plt.show()"
   ]
  },
  {
   "cell_type": "code",
   "execution_count": 344,
   "metadata": {},
   "outputs": [],
   "source": [
    "def svg(img):\n",
    "    IPd.display(IPd.HTML('<img src=\"{}\" / >'.format(img, time.time())))"
   ]
  },
  {
   "cell_type": "code",
   "execution_count": 600,
   "metadata": {},
   "outputs": [
    {
     "data": {
      "text/html": [
       "<img src=\"../fig/fig3_reg.svg\" / >"
      ],
      "text/plain": [
       "<IPython.core.display.HTML object>"
      ]
     },
     "metadata": {},
     "output_type": "display_data"
    }
   ],
   "source": [
    "from svgutils.compose import *\n",
    "\n",
    "# > Inkscape pixel is 1/90 of an inch, other software usually uses 1/72.\n",
    "# > http://www.inkscapeforum.com/viewtopic.php?f=6&t=5964\n",
    "svg_scale = 1.25  # set this to 1.25 for Inkscape, 1.0 otherwise\n",
    "factor_svg=5.5\n",
    "\n",
    "# Panel letters in Helvetica Neue, 12pt, Medium\n",
    "kwargs_text = {'size': '12pt', 'font': 'Arial', 'weight': '800'}\n",
    "kwargs_text_12pt = {'size': '12pt', 'font': 'Arial', 'weight': '500'}\n",
    "kwargs_consistent = {'size': '10pt', 'font': 'Arial', 'weight': '500', 'color': '#AF99EF'}\n",
    "kwargs_consistent1 = {'size': '10pt', 'font': 'Arial', 'weight': '500', 'color': '#9E7DD5'}\n",
    "kwargs_inconsistent = {'size': '10pt', 'font': 'Arial', 'weight': '500', 'color': '#AF99EF'}\n",
    "kwargs_text8pt = {'size': '7.7pt', 'font': 'Arial'}\n",
    "kwargs_text8pt_red = {'size': '7.7pt', 'font': 'Arial', 'weight': '800', 'color': '#8856a7'}\n",
    "\n",
    "f = Figure(\"20.3cm\", \"10.2cm\",\n",
    "           \n",
    "    Panel(\n",
    "          SVG(PANEL_REG_A1).scale(svg_scale).move(0, 0*factor_svg),\n",
    "          Text(\"a\", -2.0*factor_svg, 2.5*factor_svg, **kwargs_text),\n",
    "    ).move(2*factor_svg, 0*factor_svg),\n",
    "    \n",
    "    Panel(\n",
    "          SVG(PANEL_REG_A2).scale(svg_scale).move(0, 0*factor_svg),\n",
    "    ).move(29*factor_svg, 0*factor_svg),\n",
    "    \n",
    "    Panel(\n",
    "          SVG(PANEL_REG_B).scale(svg_scale).move(0, 0*factor_svg),\n",
    "          Text(\"b\", -2.0*factor_svg, 2.5*factor_svg, **kwargs_text),\n",
    "          Text(\"inactive\", 18.0*factor_svg, 7.0*factor_svg, **kwargs_text8pt),\n",
    "          Text(\"active\", 11.0*factor_svg, 13.5*factor_svg, **kwargs_text8pt),\n",
    "    ).move(65*factor_svg, 0*factor_svg),\n",
    "\n",
    "    Panel(\n",
    "          SVG(PANEL_REG_C).scale(svg_scale).move(0, 0*factor_svg),\n",
    "          Text(\"c\", -2.0*factor_svg, 2.5*factor_svg, **kwargs_text),\n",
    "    ).move(105*factor_svg, 0*factor_svg),\n",
    "    \n",
    "    Panel(\n",
    "          SVG(PANEL_REG_D1).scale(svg_scale).move(0, 0*factor_svg),\n",
    "          Text(\"d\", -2.0*factor_svg, 2.5*factor_svg, **kwargs_text),\n",
    "        Text(\"AB/PD\", 16.0*factor_svg, 3.5*factor_svg, **kwargs_text8pt),\n",
    "    ).move(2*factor_svg, 23*factor_svg),\n",
    "    \n",
    "    Panel(\n",
    "          SVG(PANEL_REG_D2).scale(svg_scale).move(0, 0*factor_svg),\n",
    "        Text(\"LP\", 11.0*factor_svg, 3.5*factor_svg, **kwargs_text8pt),\n",
    "    ).move(32*factor_svg, 23*factor_svg),\n",
    "    \n",
    "    Panel(\n",
    "          SVG(PANEL_REG_D3).scale(svg_scale).move(0, 0*factor_svg),\n",
    "        Text(\"PY\", 11.0*factor_svg, 3.5*factor_svg, **kwargs_text8pt),\n",
    "    ).move(56*factor_svg, 23*factor_svg),\n",
    "    \n",
    "    Panel(\n",
    "          SVG(PANEL_REG_D4).scale(svg_scale).move(0, 0*factor_svg),\n",
    "        Text(\"Synapses\", 7.0*factor_svg, 3.5*factor_svg, **kwargs_text8pt),\n",
    "    ).move(79*factor_svg, 23*factor_svg),\n",
    "    \n",
    "#     Panel(\n",
    "#           SVG(PANEL_REG_E).scale(svg_scale).move(0, 0*factor_svg),\n",
    "#           Text(\"e\", -1.0*factor_svg, 2.5*factor_svg, **kwargs_text),\n",
    "#     ).move(58*factor_svg, 25*factor_svg),\n",
    "    \n",
    "    Panel(\n",
    "          SVG(PANEL_REG_F).scale(svg_scale).move(0, 0*factor_svg),\n",
    "          Text(\"e\", -1.0*factor_svg, 2.5*factor_svg, **kwargs_text),\n",
    "          Text(\"f\", 11.1*factor_svg, 3.5*factor_svg, **kwargs_text8pt_red),\n",
    "          Text(\"g\", 26.0*factor_svg, 3.5*factor_svg, **kwargs_text8pt_red),\n",
    "    ).move(108*factor_svg, 23*factor_svg),\n",
    "    \n",
    "    Panel(\n",
    "          SVG(PANEL_REG_G).scale(svg_scale).move(0, 0*factor_svg),\n",
    "          Text(\"f\", -2.0*factor_svg, 2.5*factor_svg, **kwargs_text),\n",
    "          #Text(\"1\", 10.8*factor_svg, 2.5*factor_svg, **kwargs_text8pt_red),\n",
    "    ).move(2*factor_svg, 47*factor_svg),\n",
    "    \n",
    "    Panel(\n",
    "          SVG(PANEL_REG_G2).scale(svg_scale).move(0, 0*factor_svg),\n",
    "    ).move(50*factor_svg, 47*factor_svg),\n",
    "    \n",
    "    Panel(\n",
    "          SVG(PANEL_REG_H).scale(svg_scale).move(0, 0*factor_svg),\n",
    "          Text(\"g\", -2.0*factor_svg, 2.5*factor_svg, **kwargs_text),\n",
    "          #Text(\"2\", 10.8*factor_svg, 2.5*factor_svg, **kwargs_text8pt_red),\n",
    "    ).move(73*factor_svg, 47*factor_svg),\n",
    "    \n",
    "    Panel(\n",
    "          SVG(PANEL_REG_H2).scale(svg_scale).move(0, 0*factor_svg),\n",
    "    ).move(121*factor_svg, 47*factor_svg),\n",
    ")\n",
    "\n",
    "!mkdir -p fig\n",
    "f.save(\"../fig/fig3_reg.svg\")\n",
    "svg('../fig/fig3_reg.svg')"
   ]
  },
  {
   "cell_type": "markdown",
   "metadata": {},
   "source": [
    "# Panel A: posterior for parameters that change a lot"
   ]
  },
  {
   "cell_type": "code",
   "execution_count": 288,
   "metadata": {},
   "outputs": [
    {
     "ename": "KeyError",
     "evalue": "'sample_stats is not a file in the archive'",
     "output_type": "error",
     "traceback": [
      "\u001b[0;31m---------------------------------------------------------------------------\u001b[0m",
      "\u001b[0;31mKeyError\u001b[0m                                  Traceback (most recent call last)",
      "\u001b[0;32m<ipython-input-288-1e5eec36071b>\u001b[0m in \u001b[0;36m<module>\u001b[0;34m\u001b[0m\n\u001b[1;32m      2\u001b[0m \u001b[0;34m\u001b[0m\u001b[0m\n\u001b[1;32m      3\u001b[0m \u001b[0;32mfor\u001b[0m \u001b[0mi\u001b[0m\u001b[0;34m,\u001b[0m \u001b[0mquantile\u001b[0m \u001b[0;32min\u001b[0m \u001b[0menumerate\u001b[0m\u001b[0;34m(\u001b[0m\u001b[0;34m[\u001b[0m\u001b[0;36m0.99\u001b[0m\u001b[0;34m,\u001b[0m \u001b[0;36m0.01\u001b[0m\u001b[0;34m]\u001b[0m\u001b[0;34m)\u001b[0m\u001b[0;34m:\u001b[0m\u001b[0;34m\u001b[0m\u001b[0;34m\u001b[0m\u001b[0m\n\u001b[0;32m----> 4\u001b[0;31m     \u001b[0msample_stats\u001b[0m \u001b[0;34m=\u001b[0m \u001b[0mdata\u001b[0m\u001b[0;34m[\u001b[0m\u001b[0;34m\"sample_stats\"\u001b[0m\u001b[0;34m]\u001b[0m\u001b[0;34m\u001b[0m\u001b[0;34m\u001b[0m\u001b[0m\n\u001b[0m\u001b[1;32m      5\u001b[0m     \u001b[0msample_params\u001b[0m \u001b[0;34m=\u001b[0m \u001b[0mdata\u001b[0m\u001b[0;34m[\u001b[0m\u001b[0;34m\"sample_params\"\u001b[0m\u001b[0;34m]\u001b[0m\u001b[0;34m\u001b[0m\u001b[0;34m\u001b[0m\u001b[0m\n\u001b[1;32m      6\u001b[0m     \u001b[0msample_seeds\u001b[0m \u001b[0;34m=\u001b[0m \u001b[0mdata\u001b[0m\u001b[0;34m[\u001b[0m\u001b[0;34m\"sample_seeds\"\u001b[0m\u001b[0;34m]\u001b[0m\u001b[0;34m\u001b[0m\u001b[0;34m\u001b[0m\u001b[0m\n",
      "\u001b[0;32m~/anaconda3/envs/sbi_prinz/lib/python3.8/site-packages/numpy/lib/npyio.py\u001b[0m in \u001b[0;36m__getitem__\u001b[0;34m(self, key)\u001b[0m\n\u001b[1;32m    257\u001b[0m                 \u001b[0;32mreturn\u001b[0m \u001b[0mself\u001b[0m\u001b[0;34m.\u001b[0m\u001b[0mzip\u001b[0m\u001b[0;34m.\u001b[0m\u001b[0mread\u001b[0m\u001b[0;34m(\u001b[0m\u001b[0mkey\u001b[0m\u001b[0;34m)\u001b[0m\u001b[0;34m\u001b[0m\u001b[0;34m\u001b[0m\u001b[0m\n\u001b[1;32m    258\u001b[0m         \u001b[0;32melse\u001b[0m\u001b[0;34m:\u001b[0m\u001b[0;34m\u001b[0m\u001b[0;34m\u001b[0m\u001b[0m\n\u001b[0;32m--> 259\u001b[0;31m             \u001b[0;32mraise\u001b[0m \u001b[0mKeyError\u001b[0m\u001b[0;34m(\u001b[0m\u001b[0;34m\"%s is not a file in the archive\"\u001b[0m \u001b[0;34m%\u001b[0m \u001b[0mkey\u001b[0m\u001b[0;34m)\u001b[0m\u001b[0;34m\u001b[0m\u001b[0;34m\u001b[0m\u001b[0m\n\u001b[0m\u001b[1;32m    260\u001b[0m \u001b[0;34m\u001b[0m\u001b[0m\n\u001b[1;32m    261\u001b[0m \u001b[0;34m\u001b[0m\u001b[0m\n",
      "\u001b[0;31mKeyError\u001b[0m: 'sample_stats is not a file in the archive'"
     ]
    }
   ],
   "source": [
    "all_sample_params = []\n",
    "\n",
    "for i, quantile in enumerate([0.99, 0.01]):\n",
    "    sample_stats = data[\"sample_stats\"]\n",
    "    sample_params = data[\"sample_params\"]\n",
    "    sample_seeds = data[\"sample_seeds\"]\n",
    "\n",
    "    num_samples = 1000\n",
    "    num_vals = len(summed_energies)\n",
    "    params_to_plot = sorted_params[\n",
    "        int(num_vals * quantile - num_samples / 2) : int(\n",
    "            num_vals * quantile + num_samples / 2\n",
    "        )\n",
    "    ]\n",
    "    energy_thr_low = sorted_energies[int(num_vals * quantile - num_samples / 2)]\n",
    "    energy_thr_high = sorted_energies[int(num_vals * quantile + num_samples / 2)]\n",
    "    print(\"energy_thr\", energy_thr_low, energy_thr_high)\n",
    "\n",
    "    sample_params = (params_to_plot - params_mean_11) / params_std_11\n",
    "    all_sample_params.append(sample_params)\n",
    "\n",
    "with mpl.rc_context(fname=\"../../.matplotlibrc\"):\n",
    "    fig, axes = viz.oneDmarginal(\n",
    "        samples=all_sample_params,\n",
    "        subset=strongest_variation_inds.tolist(),\n",
    "        limits=lims,\n",
    "        ticks=lims,\n",
    "        tick_labels=all_labels,\n",
    "        fig_size=(10, 1.3),\n",
    "        labels=labels_,\n",
    "        samples_colors=[col[\"SNPE\"], \"r\"],\n",
    "        diag=[\"kde\", \"kde\"],\n",
    "        hist_offdiag={\"bins\": 50},\n",
    "    )\n",
    "    # plt.savefig(PANEL_A, facecolor='None', transparent=True)\n",
    "    plt.show()"
   ]
  },
  {
   "cell_type": "markdown",
   "metadata": {},
   "source": [
    "# Panel B: posterior for parameters that barely change"
   ]
  },
  {
   "cell_type": "code",
   "execution_count": 22,
   "metadata": {},
   "outputs": [],
   "source": [
    "sort_inds = np.argsort(np.abs(shift_in_mean_normalized))\n",
    "weakest_variation_inds = np.sort(sort_inds[:8])  # these are used for plots"
   ]
  },
  {
   "cell_type": "code",
   "execution_count": 27,
   "metadata": {},
   "outputs": [
    {
     "name": "stderr",
     "output_type": "stream",
     "text": [
      "../model/viz.py:143: FutureWarning: elementwise comparison failed; returning scalar instead, but in the future will perform elementwise comparison\n",
      "  if opts['labels'] == [] or opts['labels'] is None:\n"
     ]
    },
    {
     "data": {
      "image/png": "[encoded data removed]",
      "text/plain": [
       "<Figure size 1000x130 with 8 Axes>"
      ]
     },
     "metadata": {},
     "output_type": "display_data"
    }
   ],
   "source": [
    "all_sample_params = []\n",
    "\n",
    "for i, quantile in enumerate([0.99, 0.01]):\n",
    "    sample_stats = data[\"sample_stats\"]\n",
    "    sample_params = data[\"sample_params\"]\n",
    "    sample_seeds = data[\"sample_seeds\"]\n",
    "\n",
    "    num_samples = 1000\n",
    "    num_vals = len(summed_energies)\n",
    "    params_to_plot = sorted_params[\n",
    "        int(num_vals * quantile - num_samples / 2) : int(\n",
    "            num_vals * quantile + num_samples / 2\n",
    "        )\n",
    "    ]\n",
    "\n",
    "    sample_params = (params_to_plot - params_mean_11) / params_std_11\n",
    "    all_sample_params.append(sample_params)\n",
    "\n",
    "with mpl.rc_context(fname=\"../../.matplotlibrc\"):\n",
    "    fig, axes = viz.oneDmarginal(\n",
    "        samples=all_sample_params,\n",
    "        subset=weakest_variation_inds.tolist(),\n",
    "        limits=lims,\n",
    "        ticks=lims,\n",
    "        tick_labels=all_labels,\n",
    "        fig_size=(10, 1.3),\n",
    "        labels=labels_,\n",
    "        samples_colors=[col[\"SNPE\"], \"r\"],\n",
    "        diag=[\"kde\", \"kde\"],\n",
    "        hist_offdiag={\"bins\": 50},\n",
    "    )\n",
    "    # plt.savefig(PANEL_B, facecolor='None', transparent=True)\n",
    "    plt.show()"
   ]
  },
  {
   "cell_type": "markdown",
   "metadata": {},
   "source": [
    "# Panel C: summarize"
   ]
  },
  {
   "cell_type": "code",
   "execution_count": 24,
   "metadata": {},
   "outputs": [
    {
     "data": {
      "image/png": "[encoded data removed]",
      "text/plain": [
       "<Figure size 1000x100 with 4 Axes>"
      ]
     },
     "metadata": {},
     "output_type": "display_data"
    }
   ],
   "source": [
    "with mpl.rc_context(fname=\"../../.matplotlibrc\"):\n",
    "    viz.sensitivity_hist(shift_in_mean_normalized, figsize=(10, 1))\n",
    "    # plt.savefig(PANEL_C, facecolor='None', transparent=True)"
   ]
  },
  {
   "cell_type": "markdown",
   "metadata": {},
   "source": [
    "# Assemble figure"
   ]
  },
  {
   "cell_type": "code",
   "execution_count": 25,
   "metadata": {},
   "outputs": [],
   "source": [
    "import time\n",
    "\n",
    "import IPython.display as IPd\n",
    "\n",
    "\n",
    "def svg(img):\n",
    "    IPd.display(IPd.HTML('<img src=\"{}\" / >'.format(img, time.time())))"
   ]
  },
  {
   "cell_type": "code",
   "execution_count": 26,
   "metadata": {},
   "outputs": [
    {
     "data": {
      "text/html": [
       "<img src=\"../fig/fig3.svg\" / >"
      ],
      "text/plain": [
       "<IPython.core.display.HTML object>"
      ]
     },
     "metadata": {},
     "output_type": "display_data"
    }
   ],
   "source": [
    "from svgutils.compose import *\n",
    "\n",
    "# > Inkscape pixel is 1/90 of an inch, other software usually uses 1/72.\n",
    "# > http://www.inkscapeforum.com/viewtopic.php?f=6&t=5964\n",
    "svg_scale = 1.25  # set this to 1.25 for Inkscape, 1.0 otherwise\n",
    "factor_svg=5.5\n",
    "\n",
    "# Panel letters in Helvetica Neue, 12pt, Medium\n",
    "kwargs_text = {'size': '12pt', 'font': 'Arial', 'weight': '800'}\n",
    "kwargs_consistent = {'size': '10pt', 'font': 'Arial', 'weight': '500', 'color': '#AF99EF'}\n",
    "kwargs_consistent1 = {'size': '10pt', 'font': 'Arial', 'weight': '500', 'color': '#9E7DD5'}\n",
    "kwargs_inconsistent = {'size': '10pt', 'font': 'Arial', 'weight': '500', 'color': '#AF99EF'}\n",
    "kwargs_text8pt = {'size': '7.7pt', 'font': 'Arial'}\n",
    "\n",
    "f = Figure(\"20.3cm\", \"11.0cm\",\n",
    "\n",
    "    Panel(\n",
    "          SVG(PANEL_A).scale(svg_scale).move(0, 0*factor_svg),\n",
    "          Text(\"a\", 0.0*factor_svg, 2.5*factor_svg, **kwargs_text),\n",
    "    ).move(0*factor_svg, 0*factor_svg),\n",
    "    \n",
    "    Panel(\n",
    "        SVG(PANEL_B).scale(svg_scale).move(0*factor_svg, 0*factor_svg),\n",
    "        Text(\"b\", 0.0*factor_svg, 2.5*factor_svg, **kwargs_text),\n",
    "    ).move(0*factor_svg, 28*factor_svg),\n",
    "    \n",
    "    Panel(\n",
    "          SVG(PANEL_C).scale(svg_scale).move(0*factor_svg,0*factor_svg),\n",
    "          Text(\"c\", 0.0*factor_svg, 2.0*factor_svg, **kwargs_text),\n",
    "    ).move(0*factor_svg, 56*factor_svg),\n",
    ")\n",
    "\n",
    "!mkdir -p fig\n",
    "f.save(\"../fig/fig3.svg\")\n",
    "svg('../fig/fig3.svg')"
   ]
  },
  {
   "cell_type": "code",
   "execution_count": null,
   "metadata": {},
   "outputs": [],
   "source": []
  },
  {
   "cell_type": "code",
   "execution_count": null,
   "metadata": {},
   "outputs": [],
   "source": []
  }
 ],
 "metadata": {
  "kernelspec": {
   "display_name": "sbi_prinz",
   "language": "python",
   "name": "sbi_prinz"
  },
  "language_info": {
   "codemirror_mode": {
    "name": "ipython",
    "version": 3
   },
   "file_extension": ".py",
   "mimetype": "text/x-python",
   "name": "python",
   "nbconvert_exporter": "python",
   "pygments_lexer": "ipython3",
   "version": "3.8.5"
  }
 },
 "nbformat": 4,
 "nbformat_minor": 4
}
