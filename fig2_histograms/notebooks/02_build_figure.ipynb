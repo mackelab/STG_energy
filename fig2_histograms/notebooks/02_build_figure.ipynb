{
 "cells": [
  {
   "cell_type": "code",
   "execution_count": 5,
   "metadata": {},
   "outputs": [],
   "source": [
    "import time\n",
    "from copy import deepcopy\n",
    "\n",
    "import IPython.display as IPd\n",
    "import matplotlib as mpl\n",
    "import matplotlib.pylab as plt\n",
    "import numpy as np\n",
    "\n",
    "import stg_energy.fig2_histograms.viz as viz\n",
    "from pyloric.sbi_wrapper import get_time, simulate_energyscape\n",
    "from stg_energy.common import col, svg\n",
    "from stg_energy.fig2_histograms.energy import select_ss_close_to_obs"
   ]
  },
  {
   "cell_type": "markdown",
   "metadata": {},
   "source": [
    "# Figure 2"
   ]
  },
  {
   "cell_type": "code",
   "execution_count": 6,
   "metadata": {},
   "outputs": [
    {
     "name": "stdout",
     "output_type": "stream",
     "text": [
      "The autoreload extension is already loaded. To reload it, use:\n",
      "  %reload_ext autoreload\n"
     ]
    }
   ],
   "source": [
    "%load_ext autoreload\n",
    "%autoreload 2"
   ]
  },
  {
   "cell_type": "code",
   "execution_count": 261,
   "metadata": {},
   "outputs": [],
   "source": [
    "PANEL_A = \"../svg/panel_a.svg\"\n",
    "PANEL_B = \"../svg/panel_b.svg\"\n",
    "PANEL_C1 = \"../svg/panel_c1.svg\"\n",
    "PANEL_C2 = \"../svg/panel_c2.svg\"\n",
    "PANEL_D1 = \"../svg/panel_d1.svg\"\n",
    "PANEL_D2 = \"../svg/panel_d2.svg\""
   ]
  },
  {
   "cell_type": "code",
   "execution_count": 8,
   "metadata": {},
   "outputs": [
    {
     "name": "stdout",
     "output_type": "stream",
     "text": [
      "There are 1124507 datapoints in this dataset\n"
     ]
    }
   ],
   "source": [
    "outfile = \"../../results/11deg_post_pred/11_deg_post_pred.npz\"\n",
    "data_n = np.load(outfile)\n",
    "sample_seeds = data_n[\"seeds\"]\n",
    "sample_params = data_n[\"params\"]\n",
    "sample_stats = data_n[\"stats\"]\n",
    "print(\"There are\", len(sample_seeds), \"datapoints in this dataset\")"
   ]
  },
  {
   "cell_type": "markdown",
   "metadata": {},
   "source": [
    "### Load prior simulations for getting the std and mean of summstats"
   ]
  },
  {
   "cell_type": "code",
   "execution_count": 9,
   "metadata": {},
   "outputs": [],
   "source": [
    "datafile = \"../../results/prior_samples_after_classifier/samples_full_3.npz\"\n",
    "data = np.load(datafile)\n",
    "\n",
    "params = data[\"params\"]\n",
    "stats = data[\"stats\"]\n",
    "seeds = data[\"seeds\"]\n",
    "\n",
    "stats_mean = np.mean(stats, axis=0)\n",
    "stats_std = np.std(stats, axis=0)"
   ]
  },
  {
   "cell_type": "markdown",
   "metadata": {},
   "source": [
    "### Load experimental data"
   ]
  },
  {
   "cell_type": "code",
   "execution_count": 10,
   "metadata": {},
   "outputs": [],
   "source": [
    "npz = np.load(\"../../results/experimental_data/summstats_prep845_082_0044.npz\")\n",
    "observation = npz[\"summ_stats\"]\n",
    "\n",
    "npz = np.load(\"../../results/experimental_data/trace_data_845_082_0044.npz\")\n",
    "t = npz[\"t\"]"
   ]
  },
  {
   "cell_type": "code",
   "execution_count": 11,
   "metadata": {},
   "outputs": [
    {
     "data": {
      "text/plain": [
       "array([1.17085859e+03, 2.06036434e+02, 2.14307031e+02, 4.12842187e+02,\n",
       "       2.75164844e+02, 4.20460938e+01, 4.81925781e+02, 7.38278906e+02,\n",
       "       1.75970382e-01, 1.83034085e-01, 3.52597820e-01, 2.35011166e-01,\n",
       "       3.59104797e-02, 4.11600328e-01, 6.30544893e-01, 2.50000000e+00,\n",
       "       2.50000000e+00, 2.50000000e+00])"
      ]
     },
     "execution_count": 11,
     "metadata": {},
     "output_type": "execute_result"
    }
   ],
   "source": [
    "observation"
   ]
  },
  {
   "cell_type": "markdown",
   "metadata": {},
   "source": [
    "### Select only the ones that are close to the observation"
   ]
  },
  {
   "cell_type": "code",
   "execution_count": 12,
   "metadata": {},
   "outputs": [
    {
     "data": {
      "text/plain": [
       "array([1.02627304e+01, 7.45749320e+00, 6.67399653e+00, 5.56057901e+00,\n",
       "       3.74952141e+00, 7.03324819e+00, 8.31305524e+00, 8.90978283e+00,\n",
       "       3.08293428e-03, 3.49053123e-03, 2.94070659e-03, 1.64757951e-03,\n",
       "       3.17512674e-03, 1.93512987e-03, 2.08303979e-03, 2.95139748e-01,\n",
       "       6.37143175e-01, 3.58698940e-01])"
      ]
     },
     "execution_count": 12,
     "metadata": {},
     "output_type": "execute_result"
    }
   ],
   "source": [
    "stats_std * 0.01"
   ]
  },
  {
   "cell_type": "code",
   "execution_count": 13,
   "metadata": {},
   "outputs": [],
   "source": [
    "num_std = np.asarray(\n",
    "    [0.02, 0.02, 0.02, 0.02, 0.2, 0.2, 0.2, 0.2, 0.2, 0.2, 0.2, 0.2, 0.2, 0.2, 0.2]\n",
    ")"
   ]
  },
  {
   "cell_type": "code",
   "execution_count": 14,
   "metadata": {},
   "outputs": [],
   "source": [
    "good_params, good_dat, good_seeds = select_ss_close_to_obs(\n",
    "    sample_params,\n",
    "    sample_stats,\n",
    "    sample_seeds,\n",
    "    observation,\n",
    "    num_std=num_std,\n",
    "    stats_std=stats_std[:15],\n",
    ")"
   ]
  },
  {
   "cell_type": "code",
   "execution_count": 15,
   "metadata": {},
   "outputs": [
    {
     "data": {
      "text/plain": [
       "(55043, 30)"
      ]
     },
     "execution_count": 15,
     "metadata": {},
     "output_type": "execute_result"
    }
   ],
   "source": [
    "good_dat.shape"
   ]
  },
  {
   "cell_type": "code",
   "execution_count": 16,
   "metadata": {},
   "outputs": [],
   "source": [
    "sample_stats = good_dat\n",
    "sample_params = good_params\n",
    "sample_seeds = good_seeds"
   ]
  },
  {
   "cell_type": "code",
   "execution_count": 17,
   "metadata": {},
   "outputs": [],
   "source": [
    "# np.savez('../../results/11deg_post_pred/11_deg_post_pred_close_to_obs.npz',\n",
    "#         sample_stats=sample_stats, sample_params=sample_params, sample_seeds=sample_seeds)"
   ]
  },
  {
   "cell_type": "markdown",
   "metadata": {},
   "source": [
    "# Panel A: Histogram for total energy"
   ]
  },
  {
   "cell_type": "code",
   "execution_count": 18,
   "metadata": {},
   "outputs": [],
   "source": [
    "all_energies_per_spike = sample_stats[:, 18:21]\n",
    "all_total_energies = sample_stats[:, 21:24]"
   ]
  },
  {
   "cell_type": "code",
   "execution_count": 19,
   "metadata": {},
   "outputs": [],
   "source": [
    "summed_energies_per_spike = np.sum(np.asarray(all_energies_per_spike), axis=1)\n",
    "summed_energies_total = np.sum(np.asarray(all_total_energies), axis=1)"
   ]
  },
  {
   "cell_type": "code",
   "execution_count": 136,
   "metadata": {},
   "outputs": [
    {
     "data": {
      "image/png": "[encoded data removed]",
      "text/plain": [
       "<Figure size 450x100 with 4 Axes>"
      ]
     },
     "metadata": {},
     "output_type": "display_data"
    }
   ],
   "source": [
    "with mpl.rc_context(fname=\"../../.matplotlibrc\"):\n",
    "    fig, ax = plt.subplots(1, 4, figsize=(4.5, 1))\n",
    "\n",
    "    # The factor /4000 comes from: 0.025ms stepsize -> total energy = int_energy = energy * 0.025ms = energy / 40000\n",
    "    # But then, we have x1000 because all our currents are given in /cm**2. Thus, we have to multiply with 10,000 to obtain nano-Joule.\n",
    "    # We say that our units are in micro-Joule, hence divide by 1000.\n",
    "    # Lastly, divide by 10 because 10 second recording\n",
    "    # This gives us: /40000 * 10000 / 1000 / 10 = /40000\n",
    "    _ = ax[0].hist(\n",
    "        all_total_energies[:, 0] / 40000, range=[0, 200], bins=100, color=\"#3182bd\"\n",
    "    )\n",
    "    ax[0].set_ylabel(\"Count\")\n",
    "    ax[0].tick_params(axis=\"both\", which=\"major\")\n",
    "    ax[0].spines[\"top\"].set_visible(False)\n",
    "    ax[0].spines[\"right\"].set_visible(False)\n",
    "    ax[0].spines[\"left\"].set_visible(False)\n",
    "    ax[0].axes.get_yaxis().set_ticks([])\n",
    "    ax[0].set_title(\"AB/PD\")\n",
    "\n",
    "    _ = ax[1].hist(\n",
    "        all_total_energies[:, 1] / 40000, range=[0, 200], bins=100, color=\"#fc8d59\"\n",
    "    )\n",
    "    # ax[1].set_ylabel('Count')\n",
    "    ax[1].tick_params(axis=\"both\", which=\"major\")\n",
    "    ax[1].spines[\"top\"].set_visible(False)\n",
    "    ax[1].spines[\"right\"].set_visible(False)\n",
    "    ax[1].spines[\"left\"].set_visible(False)\n",
    "    ax[1].axes.get_yaxis().set_ticks([])\n",
    "    ax[1].set_title(\"LP\")\n",
    "\n",
    "    _ = ax[2].hist(\n",
    "        all_total_energies[:, 2] / 40000, range=[0, 200], bins=100, color=\"#2ca25f\"\n",
    "    )\n",
    "    # ax[2].set_ylabel('Count')\n",
    "    ax[2].tick_params(axis=\"both\", which=\"major\")\n",
    "    ax[2].spines[\"top\"].set_visible(False)\n",
    "    ax[2].spines[\"right\"].set_visible(False)\n",
    "    ax[2].spines[\"left\"].set_visible(False)\n",
    "    ax[2].axes.get_yaxis().set_ticks([])\n",
    "    ax[2].set_title(\"PY\")\n",
    "\n",
    "    _ = ax[3].hist(summed_energies_total / 40000, range=[0, 200], bins=100, color=\"k\")\n",
    "    # ax[3].set_ylabel('Count')\n",
    "    ax[3].tick_params(axis=\"both\", which=\"major\")\n",
    "    ax[3].spines[\"top\"].set_visible(False)\n",
    "    ax[3].spines[\"right\"].set_visible(False)\n",
    "    ax[3].spines[\"left\"].set_visible(False)\n",
    "    ax[3].axes.get_yaxis().set_ticks([])\n",
    "    ax[3].set_title(\"Sum\")\n",
    "\n",
    "    plt.subplots_adjust(wspace=0.3)\n",
    "    \n",
    "    for i in range(4):\n",
    "        ax[i].set_xlim([0, 200])\n",
    "        ax[i].spines[\"top\"].set_visible(False)\n",
    "        ax[i].spines[\"right\"].set_visible(False)\n",
    "        ax[i].spines[\"left\"].set_visible(False)\n",
    "        ax[i].set_xlabel(\"Energy ($\\mu$J/s)\")\n",
    "        ax[i].set_xticks([0, 200])\n",
    "\n",
    "    plt.savefig(PANEL_A, facecolor=\"None\", transparent=True)\n",
    "    plt.show()"
   ]
  },
  {
   "cell_type": "markdown",
   "metadata": {},
   "source": [
    "# Panel B: Histogram for energy per spike"
   ]
  },
  {
   "cell_type": "code",
   "execution_count": 137,
   "metadata": {},
   "outputs": [
    {
     "data": {
      "image/png": "[encoded data removed]",
      "text/plain": [
       "<Figure size 450x100 with 3 Axes>"
      ]
     },
     "metadata": {},
     "output_type": "display_data"
    }
   ],
   "source": [
    "with mpl.rc_context(fname=\"../../.matplotlibrc\"):\n",
    "    fig, ax = plt.subplots(1, 3, figsize=(4.5, 1))\n",
    "\n",
    "    # The factor /4000 comes from: 10 second recording. 0.025ms stepsize -> total energy = int_energy = energy * 0.025ms = energy / 40000\n",
    "    _ = ax[0].hist(all_energies_per_spike[:, 0]/40000*10, range=[0, 6], bins=100, color=\"#3182bd\")\n",
    "    ax[0].set_ylabel(\"Count\")\n",
    "    ax[0].axes.get_yaxis().set_ticks([])\n",
    "    ax[0].set_title(\"AB/PD\")\n",
    "\n",
    "    _ = ax[1].hist(\n",
    "        all_energies_per_spike[:, 1]/40000*10, range=[0, 6], bins=100, color=\"#fc8d59\"\n",
    "    )\n",
    "    # ax[1].set_ylabel('Count')\n",
    "    ax[1].set_xlabel(\"E/spike\")\n",
    "    ax[1].axes.get_yaxis().set_ticks([])\n",
    "    ax[1].set_title(\"LP\")\n",
    "\n",
    "    _ = ax[2].hist(all_energies_per_spike[:, 2]/40000*10, range=[0, 6], bins=100, color=\"#2ca25f\")\n",
    "    # ax[2].set_ylabel('Count')\n",
    "    ax[2].set_xlabel(\"E/spike\")\n",
    "    ax[2].axes.get_yaxis().set_ticks([])\n",
    "    ax[2].set_title(\"PY\")\n",
    "\n",
    "    for i in range(3):\n",
    "        ax[i].set_xlim([0, 6])\n",
    "        ax[i].set_xticks([0, 6])\n",
    "        ax[i].set_xlabel(\"E/spike ($\\mu$J)\")\n",
    "        ax[i].spines[\"top\"].set_visible(False)\n",
    "        ax[i].spines[\"right\"].set_visible(False)\n",
    "        ax[i].spines[\"left\"].set_visible(False)\n",
    "\n",
    "    plt.subplots_adjust(wspace=0.3)\n",
    "\n",
    "    plt.savefig(PANEL_B, facecolor=\"None\", transparent=True)\n",
    "    plt.show()"
   ]
  },
  {
   "cell_type": "markdown",
   "metadata": {},
   "source": [
    "# Panel C: trace with highest and lowest energy"
   ]
  },
  {
   "cell_type": "code",
   "execution_count": 178,
   "metadata": {},
   "outputs": [],
   "source": [
    "inds = np.argsort(summed_energies_total)\n",
    "sorted_params = sample_params[inds]\n",
    "sorted_seeds = sample_seeds[inds]"
   ]
  },
  {
   "cell_type": "code",
   "execution_count": 179,
   "metadata": {},
   "outputs": [
    {
     "name": "stdout",
     "output_type": "stream",
     "text": [
      "sorted_seeds[counter] 7284523\n",
      "sorted_seeds[counter] 465919\n"
     ]
    }
   ],
   "source": [
    "all_out_targets = []\n",
    "\n",
    "for counter in [0, len(sorted_params) - 1]:\n",
    "    print(\"sorted_seeds[counter]\", sorted_seeds[counter])\n",
    "    out_target = simulate_energyscape(\n",
    "        deepcopy(sorted_params[counter]), seed=sorted_seeds[counter]\n",
    "    )\n",
    "    all_out_targets.append(out_target)"
   ]
  },
  {
   "cell_type": "code",
   "execution_count": 367,
   "metadata": {},
   "outputs": [
    {
     "name": "stdout",
     "output_type": "stream",
     "text": [
      "Showing :   3.0 seconds\n",
      "Scalebar indicates:  50mV\n"
     ]
    },
    {
     "data": {
      "image/png": "[encoded data removed]",
      "text/plain": [
       "<Figure size 490x130 with 2 Axes>"
      ]
     },
     "metadata": {},
     "output_type": "display_data"
    }
   ],
   "source": [
    "with mpl.rc_context(fname=\"../../.matplotlibrc\"):\n",
    "    viz.compare_voltage_low_and_high_energy_trace(\n",
    "        all_out_targets,\n",
    "        t,\n",
    "        get_time(),\n",
    "        figsize=(4.9, 1.3),\n",
    "        cols=['k','k','k'],\n",
    "    )\n",
    "    plt.savefig(PANEL_C1, facecolor='None', transparent=True)\n",
    "    plt.show()"
   ]
  },
  {
   "cell_type": "code",
   "execution_count": 383,
   "metadata": {},
   "outputs": [
    {
     "name": "stdout",
     "output_type": "stream",
     "text": [
      "Showing :   3.0 seconds\n",
      "Scalebar indicates:  1000 micro Joule / second\n"
     ]
    },
    {
     "data": {
      "image/png": "[encoded data removed]",
      "text/plain": [
       "<Figure size 490x130 with 2 Axes>"
      ]
     },
     "metadata": {},
     "output_type": "display_data"
    }
   ],
   "source": [
    "with mpl.rc_context(fname=\"../../.matplotlibrc\"):\n",
    "    viz.compare_energy_low_and_high_energy_trace(\n",
    "        all_out_targets,\n",
    "        t,\n",
    "        get_time(),\n",
    "        figsize=(4.9, 1.3),\n",
    "        cols=['k','k','k'],\n",
    "    )\n",
    "    plt.savefig(PANEL_C2, facecolor='None', transparent=True)\n",
    "    plt.show()"
   ]
  },
  {
   "cell_type": "markdown",
   "metadata": {},
   "source": [
    "# Panel D: Energy scape"
   ]
  },
  {
   "cell_type": "code",
   "execution_count": 384,
   "metadata": {},
   "outputs": [
    {
     "data": {
      "image/png": "[encoded data removed]",
      "text/plain": [
       "<Figure size 410x120 with 2 Axes>"
      ]
     },
     "metadata": {},
     "output_type": "display_data"
    }
   ],
   "source": [
    "with mpl.rc_context(fname=\"../../.matplotlibrc\"):\n",
    "    viz.energy_scape_voltage(\n",
    "        all_out_targets,\n",
    "        t,\n",
    "        get_time(),\n",
    "        figsize=(4.1, 1.2),\n",
    "        cols=['k', 'k', 'k'],\n",
    "    )\n",
    "    plt.savefig(PANEL_D1, facecolor=\"None\", transparent=True)\n",
    "    plt.show()"
   ]
  },
  {
   "cell_type": "code",
   "execution_count": 385,
   "metadata": {},
   "outputs": [
    {
     "data": {
      "image/png": "[encoded data removed]",
      "text/plain": [
       "<Figure size 410x120 with 2 Axes>"
      ]
     },
     "metadata": {},
     "output_type": "display_data"
    }
   ],
   "source": [
    "with mpl.rc_context(fname=\"../../.matplotlibrc\"):\n",
    "    viz.energy_scape_energy(\n",
    "        all_out_targets,\n",
    "        t,\n",
    "        get_time(),\n",
    "        figsize=(4.1, 1.2),\n",
    "        cols=cols,\n",
    "    )\n",
    "    plt.savefig(PANEL_D2, facecolor=\"None\", transparent=True)\n",
    "    plt.show()"
   ]
  },
  {
   "cell_type": "markdown",
   "metadata": {},
   "source": [
    "# Assemble figure"
   ]
  },
  {
   "cell_type": "code",
   "execution_count": 386,
   "metadata": {},
   "outputs": [],
   "source": [
    "def svg(img):\n",
    "    IPd.display(IPd.HTML('<img src=\"{}\" / >'.format(img, time.time())))"
   ]
  },
  {
   "cell_type": "code",
   "execution_count": 388,
   "metadata": {},
   "outputs": [
    {
     "data": {
      "text/html": [
       "<img src=\"../fig/fig2.svg\" / >"
      ],
      "text/plain": [
       "<IPython.core.display.HTML object>"
      ]
     },
     "metadata": {},
     "output_type": "display_data"
    }
   ],
   "source": [
    "from svgutils.compose import *\n",
    "\n",
    "# > Inkscape pixel is 1/90 of an inch, other software usually uses 1/72.\n",
    "# > http://www.inkscapeforum.com/viewtopic.php?f=6&t=5964\n",
    "svg_scale = 1.25  # set this to 1.25 for Inkscape, 1.0 otherwise\n",
    "factor_svg=5.5\n",
    "\n",
    "# Panel letters in Helvetica Neue, 12pt, Medium\n",
    "kwargs_text = {'size': '12pt', 'font': 'Arial', 'weight': '800'}\n",
    "kwargs_consistent = {'size': '10pt', 'font': 'Arial', 'weight': '500', 'color': '#AF99EF'}\n",
    "kwargs_consistent1 = {'size': '10pt', 'font': 'Arial', 'weight': '500', 'color': '#9E7DD5'}\n",
    "kwargs_inconsistent = {'size': '10pt', 'font': 'Arial', 'weight': '500', 'color': '#AF99EF'}\n",
    "kwargs_text8pt = {'size': '7.7pt', 'font': 'Arial'}\n",
    "\n",
    "f = Figure(\"20.3cm\", \"11.4cm\",\n",
    "    \n",
    "    Panel(\n",
    "          SVG(PANEL_C1).scale(svg_scale).move(0*factor_svg,0*factor_svg),\n",
    "          Text(\"a\", 0.0*factor_svg, 2.6*factor_svg, **kwargs_text),\n",
    "    ).move(0*factor_svg, 0*factor_svg),\n",
    "    \n",
    "    Panel(\n",
    "          SVG(PANEL_C2).scale(svg_scale).move(0*factor_svg,0*factor_svg),\n",
    "    ).move(0*factor_svg, 24.4*factor_svg),\n",
    "    \n",
    "    Panel(\n",
    "          SVG(PANEL_D1).scale(svg_scale).move(0*factor_svg, 0*factor_svg),\n",
    "          Text(\"b\", -2*factor_svg, 2.6*factor_svg, **kwargs_text),\n",
    "    ).move(73*factor_svg, 0.0*factor_svg),\n",
    "    \n",
    "    Panel(\n",
    "          SVG(PANEL_D2).scale(svg_scale).move(0*factor_svg, 0*factor_svg),\n",
    "    ).move(73*factor_svg, 20.0*factor_svg),\n",
    "    \n",
    "    Panel(\n",
    "          SVG(PANEL_A).scale(svg_scale).move(0, 0*factor_svg),\n",
    "          Text(\"c\", 0.0*factor_svg, 2.5*factor_svg, **kwargs_text),\n",
    "    ).move(0*factor_svg, 55.0*factor_svg),\n",
    "    \n",
    "    Panel(\n",
    "        SVG(PANEL_B).scale(svg_scale).move(0*factor_svg, 0*factor_svg),\n",
    "        Text(\"d\", -2.0*factor_svg, 2.5*factor_svg, **kwargs_text),\n",
    "    ).move(73*factor_svg, 55.0*factor_svg),\n",
    ")\n",
    "\n",
    "!mkdir -p fig\n",
    "f.save(\"../fig/fig2.svg\")\n",
    "svg('../fig/fig2.svg')"
   ]
  },
  {
   "cell_type": "markdown",
   "metadata": {},
   "source": [
    "# Additional stuff\n"
   ]
  },
  {
   "cell_type": "code",
   "execution_count": 144,
   "metadata": {},
   "outputs": [
    {
     "name": "stdout",
     "output_type": "stream",
     "text": [
      "Energy per spike:  min:  6788.608130555542  max:  43919.740452343845  ratio:  6.4696237590531975\n",
      "Energy total:      min:  848945.6118815772  max:  7542451.395313956  ratio:  8.884493057920514\n"
     ]
    }
   ],
   "source": [
    "print(\n",
    "    \"Energy per spike:  min: \",\n",
    "    np.min(summed_energies_per_spike),\n",
    "    \" max: \",\n",
    "    np.max(summed_energies_per_spike),\n",
    "    \" ratio: \",\n",
    "    np.max(summed_energies_per_spike) / np.min(summed_energies_per_spike),\n",
    ")\n",
    "print(\n",
    "    \"Energy total:      min: \",\n",
    "    np.min(summed_energies_total),\n",
    "    \" max: \",\n",
    "    np.max(summed_energies_total),\n",
    "    \" ratio: \",\n",
    "    np.max(summed_energies_total) / np.min(summed_energies_total),\n",
    ")"
   ]
  },
  {
   "cell_type": "code",
   "execution_count": 29,
   "metadata": {},
   "outputs": [
    {
     "data": {
      "text/plain": [
       "<matplotlib.lines.Line2D at 0x1314c7f10>"
      ]
     },
     "execution_count": 29,
     "metadata": {},
     "output_type": "execute_result"
    },
    {
     "data": {
      "image/png": "[encoded data removed]",
      "text/plain": [
       "<Figure size 360x216 with 1 Axes>"
      ]
     },
     "metadata": {
      "needs_background": "light"
     },
     "output_type": "display_data"
    }
   ],
   "source": [
    "fig, ax = plt.subplots(1, 1, figsize=(5, 3))\n",
    "\n",
    "_ = ax.hist(summed_energies_total / 1000, range=[0, 7000], bins=100)\n",
    "ax.set_ylabel(\"Count\", fontsize=10.0)\n",
    "ax.set_xlabel(\"Energy\", fontsize=10.0)\n",
    "ax.tick_params(axis=\"both\", which=\"major\", labelsize=10)\n",
    "ax.spines[\"top\"].set_visible(False)\n",
    "ax.spines[\"right\"].set_visible(False)\n",
    "ax.set_title(\"Total energy / 1000\", fontsize=12.0)\n",
    "\n",
    "ax.axvline(2000, color=\"k\")\n",
    "ax.axvline(1300, color=\"k\")\n",
    "ax.axvline(1000, color=\"k\")\n",
    "ax.axvline(900, color=\"k\")\n",
    "\n",
    "# plt.savefig('../results/energy/figs/hist_with_lines.pdf', bbox_inches='tight')"
   ]
  },
  {
   "cell_type": "code",
   "execution_count": null,
   "metadata": {},
   "outputs": [],
   "source": []
  },
  {
   "cell_type": "code",
   "execution_count": null,
   "metadata": {},
   "outputs": [],
   "source": []
  },
  {
   "cell_type": "code",
   "execution_count": null,
   "metadata": {},
   "outputs": [],
   "source": []
  },
  {
   "cell_type": "code",
   "execution_count": null,
   "metadata": {},
   "outputs": [],
   "source": []
  }
 ],
 "metadata": {
  "kernelspec": {
   "display_name": "sbi_prinz",
   "language": "python",
   "name": "sbi_prinz"
  },
  "language_info": {
   "codemirror_mode": {
    "name": "ipython",
    "version": 3
   },
   "file_extension": ".py",
   "mimetype": "text/x-python",
   "name": "python",
   "nbconvert_exporter": "python",
   "pygments_lexer": "ipython3",
   "version": "3.8.5"
  }
 },
 "nbformat": 4,
 "nbformat_minor": 4
}
