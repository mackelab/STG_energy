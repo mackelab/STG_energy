{
 "cells": [
  {
   "cell_type": "markdown",
   "metadata": {},
   "source": [
    "# Figure 2"
   ]
  },
  {
   "cell_type": "code",
   "execution_count": 1,
   "metadata": {},
   "outputs": [],
   "source": [
    "%load_ext autoreload\n",
    "%autoreload 2"
   ]
  },
  {
   "cell_type": "code",
   "execution_count": 2,
   "metadata": {},
   "outputs": [],
   "source": [
    "import numpy as np\n",
    "import matplotlib.pylab as plt\n",
    "import time\n",
    "from copy import deepcopy\n",
    "\n",
    "import sys\n",
    "sys.path.append(\"../model/\")\n",
    "sys.path.append('../../')\n",
    "sys.path.append('../../simulator')\n",
    "\n",
    "import matplotlib as mpl\n",
    "from common import col, svg, samples_nd\n",
    "import viz\n",
    "import importlib\n",
    "import dill as pickle\n",
    "from sbi_wrapper import simulate, get_time, simulate_energyscape\n",
    "\n",
    "# from find_pyloric import merge_datasets, merge_datasets_energy, find_close_to_obs\n",
    "from energy import select_ss_close_to_obs"
   ]
  },
  {
   "cell_type": "code",
   "execution_count": 3,
   "metadata": {},
   "outputs": [],
   "source": [
    "PANEL_A = '../svg/panel_a.svg'\n",
    "PANEL_B = '../svg/panel_b.svg'\n",
    "PANEL_C = '../svg/panel_c.svg'\n",
    "PANEL_D = '../svg/panel_d.svg'"
   ]
  },
  {
   "cell_type": "code",
   "execution_count": 4,
   "metadata": {},
   "outputs": [],
   "source": [
    "# params_11 = netio.load_setup('collect_31D')\n",
    "# pyloric_sim = netio.create_simulators(params_11, save_all_energies=True)\n",
    "# energy_calc = netio.create_energy(params_11)"
   ]
  },
  {
   "cell_type": "code",
   "execution_count": 5,
   "metadata": {},
   "outputs": [
    {
     "name": "stdout",
     "output_type": "stream",
     "text": [
      "There are 1124507 datapoints in this dataset\n"
     ]
    }
   ],
   "source": [
    "outfile = '../../results/11deg_post_pred/11_deg_post_pred.npz'\n",
    "data_n = np.load(outfile)\n",
    "sample_seeds = data_n[\"seeds\"]\n",
    "sample_params = data_n[\"params\"]\n",
    "sample_stats = data_n[\"stats\"]\n",
    "print('There are', len(sample_seeds), 'datapoints in this dataset')"
   ]
  },
  {
   "cell_type": "code",
   "execution_count": 6,
   "metadata": {},
   "outputs": [],
   "source": [
    "# ratio_of_nan = (len(sample_seeds_all) - len(sample_seeds)) / len(sample_seeds_all) * 100\n",
    "# print(\"Overall percentage of NaNs\", ratio_of_nan, \"%\")"
   ]
  },
  {
   "cell_type": "markdown",
   "metadata": {},
   "source": [
    "### Load prior simulations for getting the std and mean of summstats"
   ]
  },
  {
   "cell_type": "code",
   "execution_count": 7,
   "metadata": {},
   "outputs": [],
   "source": [
    "datafile = '../../results/prior_samples_after_classifier/samples_full_3.npz'\n",
    "data = np.load(datafile)\n",
    "\n",
    "params = data['params']\n",
    "stats = data['stats']\n",
    "seeds = data['seeds']\n",
    "\n",
    "stats_mean = np.mean(stats, axis=0)\n",
    "stats_std = np.std(stats, axis=0)"
   ]
  },
  {
   "cell_type": "markdown",
   "metadata": {},
   "source": [
    "### Load experimental data"
   ]
  },
  {
   "cell_type": "code",
   "execution_count": 8,
   "metadata": {},
   "outputs": [],
   "source": [
    "npz = np.load('../../results/experimental_data/summstats_prep845_082_0044.npz')\n",
    "observation = npz['summ_stats']\n",
    "\n",
    "npz = np.load('../../results/experimental_data/trace_data_845_082_0044.npz')\n",
    "t = npz['t']"
   ]
  },
  {
   "cell_type": "code",
   "execution_count": 9,
   "metadata": {},
   "outputs": [
    {
     "data": {
      "text/plain": [
       "array([1.17085859e+03, 2.06036434e+02, 2.14307031e+02, 4.12842187e+02,\n",
       "       2.75164844e+02, 4.20460938e+01, 4.81925781e+02, 7.38278906e+02,\n",
       "       1.75970382e-01, 1.83034085e-01, 3.52597820e-01, 2.35011166e-01,\n",
       "       3.59104797e-02, 4.11600328e-01, 6.30544893e-01, 2.50000000e+00,\n",
       "       2.50000000e+00, 2.50000000e+00])"
      ]
     },
     "execution_count": 9,
     "metadata": {},
     "output_type": "execute_result"
    }
   ],
   "source": [
    "observation"
   ]
  },
  {
   "cell_type": "markdown",
   "metadata": {},
   "source": [
    "### Select only the ones that are close to the observation"
   ]
  },
  {
   "cell_type": "code",
   "execution_count": 10,
   "metadata": {},
   "outputs": [
    {
     "data": {
      "text/plain": [
       "array([1.02627304e+01, 7.45749320e+00, 6.67399653e+00, 5.56057901e+00,\n",
       "       3.74952141e+00, 7.03324819e+00, 8.31305524e+00, 8.90978283e+00,\n",
       "       3.08293428e-03, 3.49053123e-03, 2.94070659e-03, 1.64757951e-03,\n",
       "       3.17512674e-03, 1.93512987e-03, 2.08303979e-03, 2.95139748e-01,\n",
       "       6.37143175e-01, 3.58698940e-01])"
      ]
     },
     "execution_count": 10,
     "metadata": {},
     "output_type": "execute_result"
    }
   ],
   "source": [
    "stats_std*0.01"
   ]
  },
  {
   "cell_type": "code",
   "execution_count": 11,
   "metadata": {},
   "outputs": [],
   "source": [
    "num_std = np.asarray([0.02, 0.02, 0.02, 0.02, 0.2, 0.2, 0.2, 0.2, 0.2, 0.2, 0.2, 0.2, 0.2, 0.2, 0.2])"
   ]
  },
  {
   "cell_type": "code",
   "execution_count": 12,
   "metadata": {},
   "outputs": [],
   "source": [
    "good_params, good_dat, good_seeds = select_ss_close_to_obs(sample_params, sample_stats, sample_seeds, observation, num_std=num_std, stats_std=stats_std[:15])"
   ]
  },
  {
   "cell_type": "code",
   "execution_count": 13,
   "metadata": {},
   "outputs": [
    {
     "data": {
      "text/plain": [
       "(55043, 30)"
      ]
     },
     "execution_count": 13,
     "metadata": {},
     "output_type": "execute_result"
    }
   ],
   "source": [
    "good_dat.shape"
   ]
  },
  {
   "cell_type": "code",
   "execution_count": 30,
   "metadata": {},
   "outputs": [],
   "source": [
    "sample_stats = good_dat\n",
    "sample_params = good_params\n",
    "sample_seeds = good_seeds"
   ]
  },
  {
   "cell_type": "code",
   "execution_count": null,
   "metadata": {},
   "outputs": [],
   "source": [
    "#np.savez('../../results/11deg_post_pred/11_deg_post_pred_close_to_obs.npz',\n",
    "#         sample_stats=sample_stats, sample_params=sample_params, sample_seeds=sample_seeds)"
   ]
  },
  {
   "cell_type": "markdown",
   "metadata": {},
   "source": [
    "# Panel A: Histogram for total energy"
   ]
  },
  {
   "cell_type": "code",
   "execution_count": 16,
   "metadata": {},
   "outputs": [],
   "source": [
    "all_energies_per_spike = sample_stats[:, 18:21]\n",
    "all_total_energies     = sample_stats[:, 21:24]"
   ]
  },
  {
   "cell_type": "code",
   "execution_count": 17,
   "metadata": {},
   "outputs": [],
   "source": [
    "summed_energies_per_spike = np.sum(np.asarray(all_energies_per_spike), axis=1)\n",
    "summed_energies_total     = np.sum(np.asarray(all_total_energies), axis=1)"
   ]
  },
  {
   "cell_type": "code",
   "execution_count": 18,
   "metadata": {},
   "outputs": [
    {
     "data": {
      "image/png": "[encoded data removed]",
      "text/plain": [
       "<Figure size 400x100 with 4 Axes>"
      ]
     },
     "metadata": {},
     "output_type": "display_data"
    }
   ],
   "source": [
    "with mpl.rc_context(fname='../../.matplotlibrc'):\n",
    "    fig, ax = plt.subplots(1, 4, figsize=(4.0, 1))\n",
    "\n",
    "    _ = ax[0].hist(all_total_energies[:,0]/1000, range=[0, 8000], bins=100, color='b')\n",
    "    ax[0].set_ylabel('Count')\n",
    "    ax[0].set_xlabel('Energy')\n",
    "    ax[0].tick_params(axis='both', which='major')\n",
    "    ax[0].spines['top'].set_visible(False)\n",
    "    ax[0].spines['right'].set_visible(False)\n",
    "    ax[0].spines['left'].set_visible(False)\n",
    "    ax[0].axes.get_yaxis().set_ticks([])\n",
    "    ax[0].set_title('AB/PD')\n",
    "\n",
    "    _ = ax[1].hist(all_total_energies[:,1]/1000, range=[0, 8000], bins=100, color='orange')\n",
    "    #ax[1].set_ylabel('Count')\n",
    "    ax[1].set_xlabel('Energy')\n",
    "    ax[1].tick_params(axis='both', which='major')\n",
    "    ax[1].spines['top'].set_visible(False)\n",
    "    ax[1].spines['right'].set_visible(False)\n",
    "    ax[1].spines['left'].set_visible(False)\n",
    "    ax[1].axes.get_yaxis().set_ticks([])\n",
    "    ax[1].set_title('LP')\n",
    "\n",
    "    _ = ax[2].hist(all_total_energies[:,2]/1000, range=[0, 8000], bins=100, color='g')\n",
    "    #ax[2].set_ylabel('Count')\n",
    "    ax[2].set_xlabel('Energy')\n",
    "    ax[2].tick_params(axis='both', which='major')\n",
    "    ax[2].spines['top'].set_visible(False)\n",
    "    ax[2].spines['right'].set_visible(False)\n",
    "    ax[2].spines['left'].set_visible(False)\n",
    "    ax[2].axes.get_yaxis().set_ticks([])\n",
    "    ax[2].set_title('PY')\n",
    "\n",
    "    _ = ax[3].hist(summed_energies_total/1000, range=[0, 8000], bins=100, color='k')\n",
    "    #ax[3].set_ylabel('Count')\n",
    "    ax[3].set_xlabel('Energy')\n",
    "    ax[3].tick_params(axis='both', which='major')\n",
    "    ax[3].spines['top'].set_visible(False)\n",
    "    ax[3].spines['right'].set_visible(False)\n",
    "    ax[3].spines['left'].set_visible(False)\n",
    "    ax[3].axes.get_yaxis().set_ticks([])\n",
    "    ax[3].set_title('Total')\n",
    "\n",
    "    plt.subplots_adjust(wspace=0.3)\n",
    "    \n",
    "    plt.savefig(PANEL_A, facecolor='None', transparent=True)\n",
    "    plt.show()"
   ]
  },
  {
   "cell_type": "markdown",
   "metadata": {},
   "source": [
    "# Panel B: Histogram for energy per spike"
   ]
  },
  {
   "cell_type": "code",
   "execution_count": 19,
   "metadata": {},
   "outputs": [
    {
     "data": {
      "image/png": "[encoded data removed]",
      "text/plain": [
       "<Figure size 400x100 with 4 Axes>"
      ]
     },
     "metadata": {},
     "output_type": "display_data"
    }
   ],
   "source": [
    "with mpl.rc_context(fname='../../.matplotlibrc'):\n",
    "    fig, ax = plt.subplots(1, 4, figsize=(4.0, 1))\n",
    "\n",
    "    _ = ax[0].hist(all_energies_per_spike[:,0], range=[0, 50000], bins=100, color='b')\n",
    "    ax[0].set_ylabel('Count')\n",
    "    ax[0].set_xlabel('Energy')\n",
    "    ax[0].tick_params(axis='both', which='major')\n",
    "    ax[0].spines['top'].set_visible(False)\n",
    "    ax[0].spines['right'].set_visible(False)\n",
    "    ax[0].spines['left'].set_visible(False)\n",
    "    ax[0].axes.get_yaxis().set_ticks([])\n",
    "    ax[0].set_title('AB/PD')\n",
    "\n",
    "    _ = ax[1].hist(all_energies_per_spike[:,1], range=[0, 50000], bins=100, color='orange')\n",
    "    #ax[1].set_ylabel('Count')\n",
    "    ax[1].set_xlabel('Energy')\n",
    "    ax[1].tick_params(axis='both', which='major')\n",
    "    ax[1].spines['top'].set_visible(False)\n",
    "    ax[1].spines['right'].set_visible(False)\n",
    "    ax[1].spines['left'].set_visible(False)\n",
    "    ax[1].axes.get_yaxis().set_ticks([])\n",
    "    ax[1].set_title('LP')\n",
    "\n",
    "    _ = ax[2].hist(all_energies_per_spike[:,2], range=[0, 50000], bins=100, color='g')\n",
    "    #ax[2].set_ylabel('Count')\n",
    "    ax[2].set_xlabel('Energy')\n",
    "    ax[2].tick_params(axis='both', which='major')\n",
    "    ax[2].spines['top'].set_visible(False)\n",
    "    ax[2].spines['right'].set_visible(False)\n",
    "    ax[2].spines['left'].set_visible(False)\n",
    "    ax[2].axes.get_yaxis().set_ticks([])\n",
    "    ax[2].set_title('PY')\n",
    "\n",
    "    _ = ax[3].hist(summed_energies_per_spike, range=[0, 50000], bins=100, color='k')\n",
    "    #ax[3].set_ylabel('Count')\n",
    "    ax[3].set_xlabel('Energy')\n",
    "    #ax[3].tick_params(axis='both', which='major')\n",
    "    ax[3].spines['top'].set_visible(False)\n",
    "    ax[3].spines['right'].set_visible(False)\n",
    "    ax[3].spines['left'].set_visible(False)\n",
    "    ax[3].axes.get_yaxis().set_ticks([])\n",
    "    ax[3].set_title('Total')\n",
    "\n",
    "    plt.subplots_adjust(wspace=0.3)\n",
    "    \n",
    "    plt.savefig(PANEL_B, facecolor='None', transparent=True)\n",
    "    plt.show()"
   ]
  },
  {
   "cell_type": "markdown",
   "metadata": {},
   "source": [
    "# Panel C: trace with highest and lowest energy"
   ]
  },
  {
   "cell_type": "code",
   "execution_count": 20,
   "metadata": {},
   "outputs": [],
   "source": [
    "inds = np.argsort(summed_energies_total)\n",
    "sorted_params = sample_params[inds]\n",
    "sorted_seeds  = sample_seeds[inds]"
   ]
  },
  {
   "cell_type": "code",
   "execution_count": 21,
   "metadata": {},
   "outputs": [
    {
     "name": "stdout",
     "output_type": "stream",
     "text": [
      "sorted_seeds[counter] 7284523\n",
      "sorted_seeds[counter] 465919\n"
     ]
    }
   ],
   "source": [
    "all_out_targets = []\n",
    "\n",
    "for counter in [0, len(sorted_params)-1]:\n",
    "    print(\"sorted_seeds[counter]\",sorted_seeds[counter])\n",
    "    out_target = simulate_energyscape(deepcopy(sorted_params[counter]), seed=sorted_seeds[counter])\n",
    "    all_out_targets.append(out_target)"
   ]
  },
  {
   "cell_type": "code",
   "execution_count": 22,
   "metadata": {},
   "outputs": [
    {
     "data": {
      "image/png": "[encoded data removed]",
      "text/plain": [
       "<Figure size 400x320 with 4 Axes>"
      ]
     },
     "metadata": {},
     "output_type": "display_data"
    }
   ],
   "source": [
    "cols = [col['CONSISTENT1'], col['CONSISTENT1']]\n",
    "\n",
    "with mpl.rc_context(fname='../../.matplotlibrc'):\n",
    "    viz.compare_low_and_high_energy_trace(\n",
    "        all_out_targets,\n",
    "        t,\n",
    "        get_time(),\n",
    "        figsize=(4.0, 3.2),\n",
    "        cols=cols,\n",
    "    )\n",
    "    plt.savefig(PANEL_C, facecolor='None', transparent=True)\n",
    "    plt.show()"
   ]
  },
  {
   "cell_type": "markdown",
   "metadata": {},
   "source": [
    "# Panel D: Energy scape"
   ]
  },
  {
   "cell_type": "code",
   "execution_count": 23,
   "metadata": {},
   "outputs": [
    {
     "data": {
      "text/plain": [
       "(1500000,)"
      ]
     },
     "execution_count": 23,
     "metadata": {},
     "output_type": "execute_result"
    }
   ],
   "source": [
    "t.shape"
   ]
  },
  {
   "cell_type": "code",
   "execution_count": 24,
   "metadata": {},
   "outputs": [
    {
     "data": {
      "text/plain": [
       "array([[-32.38132648, -32.68514058, -32.8783062 , -33.17381056,\n",
       "        -33.53406629, -33.75074136, -34.05089738, -34.32519021,\n",
       "        -34.54892011, -34.78753731],\n",
       "       [-58.74297365, -58.74853186, -58.76121208, -58.80127783,\n",
       "        -58.82759958, -58.88589896, -58.87853714, -58.91547086,\n",
       "        -58.89506318, -58.91183918],\n",
       "       [-62.54247886, -62.47480798, -62.47877407, -62.53509165,\n",
       "        -62.53048687, -62.5240557 , -62.54652896, -62.60172145,\n",
       "        -62.49787974, -62.50099731]])"
      ]
     },
     "execution_count": 24,
     "metadata": {},
     "output_type": "execute_result"
    }
   ],
   "source": [
    "all_out_targets[0]['data'][:, 100000:100010]"
   ]
  },
  {
   "cell_type": "code",
   "execution_count": 25,
   "metadata": {},
   "outputs": [
    {
     "data": {
      "image/png": "[encoded data removed]",
      "text/plain": [
       "<Figure size 400x320 with 4 Axes>"
      ]
     },
     "metadata": {},
     "output_type": "display_data"
    }
   ],
   "source": [
    "with mpl.rc_context(fname='../../.matplotlibrc'):\n",
    "    viz.energy_scape(\n",
    "        all_out_targets,\n",
    "        t,\n",
    "        get_time(),\n",
    "        figsize=(4.0, 3.2),\n",
    "        cols=cols,\n",
    "    )\n",
    "    plt.savefig(PANEL_D, facecolor='None', transparent=True)\n",
    "    plt.show()"
   ]
  },
  {
   "cell_type": "markdown",
   "metadata": {},
   "source": [
    "# Assemble figure"
   ]
  },
  {
   "cell_type": "code",
   "execution_count": 26,
   "metadata": {},
   "outputs": [],
   "source": [
    "import time\n",
    "import IPython.display as IPd\n",
    "\n",
    "def svg(img):\n",
    "    IPd.display(IPd.HTML('<img src=\"{}\" / >'.format(img, time.time())))"
   ]
  },
  {
   "cell_type": "code",
   "execution_count": 27,
   "metadata": {},
   "outputs": [
    {
     "data": {
      "text/html": [
       "<img src=\"../fig/fig2.svg\" / >"
      ],
      "text/plain": [
       "<IPython.core.display.HTML object>"
      ]
     },
     "metadata": {},
     "output_type": "display_data"
    }
   ],
   "source": [
    "from svgutils.compose import *\n",
    "\n",
    "# > Inkscape pixel is 1/90 of an inch, other software usually uses 1/72.\n",
    "# > http://www.inkscapeforum.com/viewtopic.php?f=6&t=5964\n",
    "svg_scale = 1.25  # set this to 1.25 for Inkscape, 1.0 otherwise\n",
    "factor_svg=5.5\n",
    "\n",
    "# Panel letters in Helvetica Neue, 12pt, Medium\n",
    "kwargs_text = {'size': '12pt', 'font': 'Arial', 'weight': '800'}\n",
    "kwargs_consistent = {'size': '10pt', 'font': 'Arial', 'weight': '500', 'color': '#AF99EF'}\n",
    "kwargs_consistent1 = {'size': '10pt', 'font': 'Arial', 'weight': '500', 'color': '#9E7DD5'}\n",
    "kwargs_inconsistent = {'size': '10pt', 'font': 'Arial', 'weight': '500', 'color': '#AF99EF'}\n",
    "kwargs_text8pt = {'size': '7.7pt', 'font': 'Arial'}\n",
    "\n",
    "f = Figure(\"20.3cm\", \"11.4cm\",\n",
    "\n",
    "    Panel(\n",
    "          SVG(PANEL_A).scale(svg_scale).move(0, 0*factor_svg),\n",
    "          Text(\"a\", 0.0*factor_svg, 2.5*factor_svg, **kwargs_text),\n",
    "    ).move(0*factor_svg, 0.0*factor_svg),\n",
    "           \n",
    "    Panel(\n",
    "        SVG(PANEL_B).scale(svg_scale).move(0*factor_svg, 0*factor_svg),\n",
    "        Text(\"b\", 0.0*factor_svg, 2.5*factor_svg, **kwargs_text),\n",
    "    ).move(65*factor_svg, 0.0*factor_svg),\n",
    "    \n",
    "    Panel(\n",
    "          SVG(PANEL_C).scale(svg_scale).move(0*factor_svg,0*factor_svg),\n",
    "          Text(\"c\", 0.0*factor_svg, 2.0*factor_svg, **kwargs_text),\n",
    "    ).move(0*factor_svg, 27*factor_svg),\n",
    "    \n",
    "    Panel(\n",
    "          SVG(PANEL_D).scale(svg_scale).move(0*factor_svg, 0*factor_svg),\n",
    "          Text(\"d\", 0*factor_svg, 0.0*factor_svg, **kwargs_text),\n",
    "    ).move(65*factor_svg, 29.0*factor_svg)\n",
    ")\n",
    "\n",
    "!mkdir -p fig\n",
    "f.save(\"../fig/fig2.svg\")\n",
    "svg('../fig/fig2.svg')"
   ]
  },
  {
   "cell_type": "markdown",
   "metadata": {},
   "source": [
    "# Additional stuff\n"
   ]
  },
  {
   "cell_type": "code",
   "execution_count": 28,
   "metadata": {},
   "outputs": [
    {
     "name": "stdout",
     "output_type": "stream",
     "text": [
      "Energy per spike:  min:  6788.608130555542  max:  43919.740452343845  ratio:  6.4696237590531975\n",
      "Energy total:      min:  848945.6118815772  max:  7542451.395313956  ratio:  8.884493057920514\n"
     ]
    }
   ],
   "source": [
    "print('Energy per spike:  min: ', np.min(summed_energies_per_spike), ' max: ', np.max(summed_energies_per_spike),\n",
    "      ' ratio: ', np.max(summed_energies_per_spike)/np.min(summed_energies_per_spike))\n",
    "print('Energy total:      min: ', np.min(summed_energies_total), ' max: ', np.max(summed_energies_total),\n",
    "      ' ratio: ', np.max(summed_energies_total)/np.min(summed_energies_total))"
   ]
  },
  {
   "cell_type": "code",
   "execution_count": 29,
   "metadata": {},
   "outputs": [
    {
     "data": {
      "text/plain": [
       "<matplotlib.lines.Line2D at 0x1314c7f10>"
      ]
     },
     "execution_count": 29,
     "metadata": {},
     "output_type": "execute_result"
    },
    {
     "data": {
      "image/png": "[encoded data removed]",
      "text/plain": [
       "<Figure size 360x216 with 1 Axes>"
      ]
     },
     "metadata": {
      "needs_background": "light"
     },
     "output_type": "display_data"
    }
   ],
   "source": [
    "fig, ax = plt.subplots(1, 1, figsize=(5, 3))\n",
    "\n",
    "_ = ax.hist(summed_energies_total/1000, range=[0, 7000], bins=100)\n",
    "ax.set_ylabel('Count', fontsize=10.0)\n",
    "ax.set_xlabel('Energy', fontsize=10.0)\n",
    "ax.tick_params(axis='both', which='major', labelsize=10)\n",
    "ax.spines['top'].set_visible(False)\n",
    "ax.spines['right'].set_visible(False)\n",
    "ax.set_title('Total energy / 1000', fontsize=12.0)\n",
    "\n",
    "ax.axvline(2000, color='k')\n",
    "ax.axvline(1300, color='k')\n",
    "ax.axvline(1000, color='k')\n",
    "ax.axvline(900, color='k')\n",
    "\n",
    "#plt.savefig('../results/energy/figs/hist_with_lines.pdf', bbox_inches='tight')"
   ]
  },
  {
   "cell_type": "code",
   "execution_count": null,
   "metadata": {},
   "outputs": [],
   "source": []
  },
  {
   "cell_type": "code",
   "execution_count": null,
   "metadata": {},
   "outputs": [],
   "source": []
  },
  {
   "cell_type": "code",
   "execution_count": null,
   "metadata": {},
   "outputs": [],
   "source": []
  },
  {
   "cell_type": "code",
   "execution_count": null,
   "metadata": {},
   "outputs": [],
   "source": []
  }
 ],
 "metadata": {
  "kernelspec": {
   "display_name": "sbi_prinz",
   "language": "python",
   "name": "sbi_prinz"
  },
  "language_info": {
   "codemirror_mode": {
    "name": "ipython",
    "version": 3
   },
   "file_extension": ".py",
   "mimetype": "text/x-python",
   "name": "python",
   "nbconvert_exporter": "python",
   "pygments_lexer": "ipython3",
   "version": "3.8.2"
  }
 },
 "nbformat": 4,
 "nbformat_minor": 4
}
