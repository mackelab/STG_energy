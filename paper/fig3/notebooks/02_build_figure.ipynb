{
 "cells": [
  {
   "cell_type": "code",
   "execution_count": 1,
   "metadata": {},
   "outputs": [],
   "source": [
    "import math\n",
    "import time\n",
    "from copy import deepcopy\n",
    "import dill as pickle\n",
    "import IPython.display as IPd\n",
    "import matplotlib as mpl\n",
    "import matplotlib.pylab as plt\n",
    "import numpy as np\n",
    "import pandas as pd\n",
    "import torch\n",
    "from matplotlib import ticker\n",
    "from pyloric import create_prior, simulate, summary_stats\n",
    "from pyloric.utils import energy_of_membrane, energy_of_synapse\n",
    "from sbi.analysis import ActiveSubspace\n",
    "\n",
    "import stg_energy.fig3_active_subspaces.viz as viz\n",
    "from stg_energy.fig3_active_subspaces.helper_functions import nth_argmax, nth_argmin\n",
    "from sklearn.linear_model import LinearRegression\n",
    "from sbi.analysis import pairplot\n",
    "from stg_energy.common import get_labels_8pt, generate_labels_for_pairplot, generate_labels_for_pairplot_no_whitespace\n",
    "import matplotlib.patheffects as pe"
   ]
  },
  {
   "cell_type": "markdown",
   "metadata": {},
   "source": [
    "# Figure 3"
   ]
  },
  {
   "cell_type": "code",
   "execution_count": 2,
   "metadata": {},
   "outputs": [],
   "source": [
    "pd.options.display.max_columns = 999"
   ]
  },
  {
   "cell_type": "code",
   "execution_count": 3,
   "metadata": {},
   "outputs": [],
   "source": [
    "%load_ext autoreload\n",
    "%autoreload 2"
   ]
  },
  {
   "cell_type": "code",
   "execution_count": 4,
   "metadata": {},
   "outputs": [],
   "source": [
    "PANEL_A = \"../svg/panel_a.svg\"\n",
    "PANEL_B = \"../svg/panel_b.svg\"\n",
    "PANEL_B_lin = \"../svg/panel_b_lin.svg\"\n",
    "PANEL_B_raw = \"../svg/panel_b_raw.svg\"\n",
    "PANEL_C = \"../svg/panel_c.svg\"\n",
    "PANEL_D = \"../svg/panel_d.svg\"\n",
    "PANEL_E1 = \"../svg/panel_e1.svg\"\n",
    "PANEL_E2 = \"../svg/panel_e2.svg\"\n",
    "PANEL_F1 = \"../svg/panel_f1.svg\"\n",
    "PANEL_F1_raw = \"../svg/panel_f1_raw.svg\"\n",
    "PANEL_F2 = \"../svg/panel_f2.svg\"\n",
    "PANEL_G1 = \"../svg/panel_g1.svg\"\n",
    "PANEL_G2 = \"../svg/panel_g2.svg\"\n",
    "PANEL_H1 = \"../svg/panel_h1.svg\"\n",
    "PANEL_H2 = \"../svg/panel_h2.svg\"\n",
    "PANEL_I1 = \"../svg/panel_i1.svg\"\n",
    "PANEL_I2 = \"../svg/panel_i2.svg\"\n",
    "PANEL_Synapses_reduction = \"../svg/panel_synapses_reduction.svg\"\n",
    "\n",
    "PANEL_supp_EV1 = \"../svg/panel_supp_ev1.svg\"\n",
    "PANEL_supp_EV2 = \"../svg/panel_supp_ev2.svg\"\n",
    "PANEL_supp_EV3 = \"../svg/panel_supp_ev3.svg\"\n",
    "\n",
    "PANEL_supp_shift1 = \"../svg/panel_supp_shift1.svg\"\n",
    "PANEL_supp_shift2 = \"../svg/panel_supp_shift2.svg\"\n",
    "PANEL_supp_shift3 = \"../svg/panel_supp_shift3.svg\"\n",
    "PANEL_supp_shift4 = \"../svg/panel_supp_shift4.svg\"\n",
    "PANEL_supp_shift5 = \"../svg/panel_supp_shift5.svg\"\n",
    "PANEL_supp_shift6 = \"../svg/panel_supp_shift6.svg\"\n",
    "PANEL_supp_shift7 = \"../svg/panel_supp_shift7.svg\"\n",
    "\n",
    "PANEL_supp_performance1 = \"../svg/panel_supp_performance1.svg\"\n",
    "PANEL_supp_performance2 = \"../svg/panel_supp_performance2.svg\"\n",
    "PANEL_supp_performance3 = \"../svg/panel_supp_performance3.svg\"\n",
    "\n",
    "PANEL_supp_synapses1 = \"../svg/panel_supp_synapses1.svg\"\n",
    "PANEL_supp_synapses2 = \"../svg/panel_supp_synapses2.svg\"\n",
    "PANEL_supp_synapses3 = \"../svg/panel_supp_synapses3.svg\"\n",
    "\n",
    "PANEL_NEW_A = \"../svg/panel_new_a_inkscape.svg\"\n",
    "\n",
    "PANEL_NEW_F1 = \"../svg/panel_new_f1.svg\"\n",
    "PANEL_NEW_F2 = \"../svg/panel_new_f2.svg\"\n",
    "\n",
    "PANEL_NEW_G1 = \"../svg/panel_new_g1.svg\"\n",
    "PANEL_NEW_G2 = \"../svg/panel_new_g2.svg\"\n",
    "PANEL_NEW_supp_params_11 = \"../svg/PANEL_NEW_supp_params_11.svg\"\n",
    "PANEL_NEW_supp_params_12 = \"../svg/PANEL_NEW_supp_params_12.svg\"\n",
    "PANEL_NEW_supp_params_21 = \"../svg/PANEL_NEW_supp_params_21.svg\"\n",
    "PANEL_NEW_supp_params_22 = \"../svg/PANEL_NEW_supp_params_22.svg\"\n",
    "\n",
    "PANEL_MECH_KD_A = \"../svg/panel_mech_kd_a_new.svg\"\n",
    "PANEL_MECH_KD_B = \"../svg/panel_mech_kd_b_new.svg\"\n",
    "PANEL_MECH_KD_C = \"../svg/panel_mech_kd_c_new.svg\"\n",
    "PANEL_MECH_KD_D = \"../svg/panel_mech_kd_d_new.svg\"\n",
    "PANEL_MECH_KD_E = \"../svg/panel_mech_kd_e_new.svg\"\n",
    "PANEL_MECH_KD_F = \"../svg/panel_mech_kd_f_new.svg\"\n",
    "PANEL_MECH_KD_voltage = \"../svg/panel_mech_kd_voltage_new.svg\"\n",
    "PANEL_lin_reg = \"../svg/panel_lin_reg.svg\"\n",
    "PANEL_degeneracy_plot = \"../svg/panel_degeneracy_plot.svg\""
   ]
  },
  {
   "cell_type": "markdown",
   "metadata": {},
   "source": [
    "### Load experimental data"
   ]
  },
  {
   "cell_type": "code",
   "execution_count": 5,
   "metadata": {},
   "outputs": [],
   "source": [
    "prior_11 = create_prior()"
   ]
  },
  {
   "cell_type": "code",
   "execution_count": 6,
   "metadata": {},
   "outputs": [],
   "source": [
    "theta = pd.read_pickle(\n",
    "    \"../../../results/simulation_data_Tube_MLslurm_cluster/close_to_xo_circuit_parameters.pkl\"\n",
    ")\n",
    "x = pd.read_pickle(\n",
    "    \"../../../results/simulation_data_Tube_MLslurm_cluster/close_to_xo_simulation_outputs.pkl\"\n",
    ")\n",
    "seeds = np.load(\n",
    "    \"../../../results/simulation_data_Tube_MLslurm_cluster/close_to_xo_seeds.npy\"\n",
    ")\n",
    "\n",
    "theta_np = theta.to_numpy()\n",
    "x_np = x.to_numpy()"
   ]
  },
  {
   "cell_type": "code",
   "execution_count": 86,
   "metadata": {
    "tags": []
   },
   "outputs": [],
   "source": [
    "cols_hex = [\n",
    "    \"#1b9e77\",\n",
    "    \"#d95f02\",\n",
    "    \"#7570b3\",\n",
    "    \"#e7298a\",\n",
    "    \"#66a61e\",\n",
    "    \"#e6ab02\",\n",
    "    \"#a6761d\",\n",
    "    \"#666666\",\n",
    "    \"#1b9e77\",\n",
    "    \"#d95f02\",\n",
    "    \"#7570b3\",\n",
    "    \"#e7298a\",\n",
    "    \"#66a61e\",\n",
    "    \"#e6ab02\",\n",
    "    \"#a6761d\",\n",
    "    \"#666666\",\n",
    "    \"#1b9e77\",\n",
    "    \"#d95f02\",\n",
    "    \"#7570b3\",\n",
    "    \"#e7298a\",\n",
    "    \"#66a61e\",\n",
    "    \"#e6ab02\",\n",
    "    \"#a6761d\",\n",
    "    \"#666666\",\n",
    "    \"k\",\n",
    "    \"k\",\n",
    "    \"k\",\n",
    "    \"k\",\n",
    "    \"k\",\n",
    "    \"k\",\n",
    "    \"k\",\n",
    "]\n",
    "cols = np.asarray(cols_hex)"
   ]
  },
  {
   "cell_type": "markdown",
   "metadata": {},
   "source": [
    "### Simulate 10 samples and keep track of the energy consumption of each trace"
   ]
  },
  {
   "cell_type": "code",
   "execution_count": 7,
   "metadata": {},
   "outputs": [],
   "source": [
    "def simulator(p_with_s):\n",
    "    circuit_params = np.asarray([p_with_s[:-1]])\n",
    "    theta_pd = pd.DataFrame(circuit_params, columns=theta.columns)\n",
    "    out_target = simulate(\n",
    "        theta_pd.loc[0], seed=int(p_with_s[-1]), track_energy=True, track_currents=True\n",
    "    )\n",
    "    all_energies = energy_of_membrane(out_target)\n",
    "    synaptic_energies = energy_of_synapse(out_target)\n",
    "\n",
    "    summed_energy_each_current = np.sum(all_energies, axis=2)\n",
    "    summed_energy_synapses = np.sum(synaptic_energies, axis=1)\n",
    "    summed_energy_total = np.sum(all_energies) + np.sum(synaptic_energies)\n",
    "    fraction_of_each_current = summed_energy_each_current / summed_energy_total\n",
    "    fraction_of_synapse = summed_energy_synapses / summed_energy_total\n",
    "    return (fraction_of_each_current, fraction_of_synapse)"
   ]
  },
  {
   "cell_type": "code",
   "execution_count": 8,
   "metadata": {},
   "outputs": [],
   "source": [
    "# torch.manual_seed(0)\n",
    "# params_with_seeds = np.concatenate(\n",
    "#     (\n",
    "#         theta_np[:200],\n",
    "#         seeds[:200][\n",
    "#             None,\n",
    "#         ].T,\n",
    "#     ),\n",
    "#     axis=1,\n",
    "# )\n",
    "# simulation_outputs = list(map(simulator, params_with_seeds))\n",
    "simulation_outputs = np.load(\"../../../results/simulation_data_Tube_MLslurm_cluster/twohundred_predictives_individual_currents.npy\", allow_pickle=True)"
   ]
  },
  {
   "cell_type": "code",
   "execution_count": 9,
   "metadata": {},
   "outputs": [],
   "source": [
    "# np.save(\"../../../results/simulation_data_Tube_MLslurm_cluster/twohundred_predictives_individual_currents.npy\", simulation_outputs)"
   ]
  },
  {
   "cell_type": "code",
   "execution_count": 10,
   "metadata": {},
   "outputs": [],
   "source": [
    "all_e_cur = []\n",
    "all_e_syn = []\n",
    "for so in simulation_outputs:\n",
    "    e_cur, e_syn = so\n",
    "    all_e_cur.append(e_cur)\n",
    "    all_e_syn.append(e_syn)\n",
    "\n",
    "all_e_cur = np.asarray(all_e_cur)\n",
    "all_e_syn = np.asarray(all_e_syn)\n",
    "fractions = np.mean(all_e_cur, axis=0)\n",
    "synapse_fractions = np.mean(all_e_syn, axis=0)"
   ]
  },
  {
   "cell_type": "code",
   "execution_count": 11,
   "metadata": {},
   "outputs": [],
   "source": [
    "summed_energy_synapses = np.sum(all_e_syn, axis=1)"
   ]
  },
  {
   "cell_type": "code",
   "execution_count": 12,
   "metadata": {},
   "outputs": [],
   "source": [
    "summed_energy_membrane = np.sum(np.sum(all_e_cur, axis=1), axis=1)"
   ]
  },
  {
   "cell_type": "code",
   "execution_count": 13,
   "metadata": {},
   "outputs": [],
   "source": [
    "fraction_between_them = summed_energy_synapses / (summed_energy_membrane + summed_energy_synapses)"
   ]
  },
  {
   "cell_type": "code",
   "execution_count": 14,
   "metadata": {},
   "outputs": [
    {
     "name": "stdout",
     "output_type": "stream",
     "text": [
      "Fraction of energy consumed by synapses:    0.07815773482273314 %\n"
     ]
    }
   ],
   "source": [
    "print(\"Fraction of energy consumed by synapses:   \", np.mean(fraction_between_them)*100, \"%\")"
   ]
  },
  {
   "cell_type": "code",
   "execution_count": 15,
   "metadata": {},
   "outputs": [],
   "source": [
    "current_fractions = fractions.T.flatten()\n",
    "all_fractions = np.concatenate((current_fractions, synapse_fractions))\n",
    "all_fractions /= np.linalg.norm(all_fractions)"
   ]
  },
  {
   "cell_type": "markdown",
   "metadata": {},
   "source": [
    "###  Fit regression net for total energy"
   ]
  },
  {
   "cell_type": "code",
   "execution_count": 16,
   "metadata": {},
   "outputs": [],
   "source": [
    "import sys\n",
    "sys.path.append(\"home/michael/Documents/sbi/sbi/utils/user_input_checks_utils\")"
   ]
  },
  {
   "cell_type": "code",
   "execution_count": 17,
   "metadata": {},
   "outputs": [],
   "source": [
    "import sys\n",
    "from sbi.utils import user_input_checks_utils\n",
    "\n",
    "sys.modules[\"sbi.user_input.user_input_checks_utils\"] = user_input_checks_utils"
   ]
  },
  {
   "cell_type": "code",
   "execution_count": 18,
   "metadata": {},
   "outputs": [
    {
     "name": "stderr",
     "output_type": "stream",
     "text": [
      "/home/michael/Documents/sbi/sbi/inference/posteriors/base_posterior.py:1089: UserWarning: You had saved the posterior under an older version of `sbi`. To make the loaded version comply with the version you are using right now, we had to set the following attributes: `self._device = cpu` `self._num_iid_trials = None` `self._iid_methods = ['snle', 'snre_a', 'snre_b']` `self._allow_iid_x = False` `self._sample_with = rejection`\n",
      "  warn(warning_description + warning_msg)\n"
     ]
    }
   ],
   "source": [
    "with open(\n",
    "    \"../../../results/trained_neural_nets/inference/posterior_11deg.pickle\", \"rb\"\n",
    ") as handle:\n",
    "    posterior = pickle.load(handle)\n",
    "    posterior._device = 'cpu'"
   ]
  },
  {
   "cell_type": "code",
   "execution_count": 19,
   "metadata": {},
   "outputs": [],
   "source": [
    "xo = np.load(\"../../../results/experimental_data/xo_11deg.npy\")"
   ]
  },
  {
   "cell_type": "code",
   "execution_count": 20,
   "metadata": {},
   "outputs": [],
   "source": [
    "energies = x[\"energies\"]"
   ]
  },
  {
   "cell_type": "code",
   "execution_count": 21,
   "metadata": {},
   "outputs": [],
   "source": [
    "energies_tt = torch.as_tensor(energies.to_numpy())\n",
    "x_tt = torch.as_tensor(x_np, dtype=torch.float32)"
   ]
  },
  {
   "cell_type": "code",
   "execution_count": 22,
   "metadata": {},
   "outputs": [],
   "source": [
    "num_test = 1000\n",
    "\n",
    "theta_test = torch.as_tensor(theta_np[:num_test], dtype=torch.float32)\n",
    "theta_train = torch.as_tensor(theta_np[num_test:], dtype=torch.float32)"
   ]
  },
  {
   "cell_type": "code",
   "execution_count": 23,
   "metadata": {},
   "outputs": [],
   "source": [
    "train_energy = torch.as_tensor(\n",
    "    torch.sum(energies_tt[num_test:], dim=1).unsqueeze(1), dtype=torch.float32\n",
    ")\n",
    "test_energy = torch.as_tensor(\n",
    "    torch.sum(energies_tt[:num_test], dim=1).unsqueeze(1), dtype=torch.float32\n",
    ")"
   ]
  },
  {
   "cell_type": "code",
   "execution_count": 24,
   "metadata": {},
   "outputs": [],
   "source": [
    "posterior._sample_with = \"rejection\""
   ]
  },
  {
   "cell_type": "markdown",
   "metadata": {},
   "source": [
    "### Compute the same thing for several quantiles and plot it"
   ]
  },
  {
   "cell_type": "code",
   "execution_count": 25,
   "metadata": {},
   "outputs": [],
   "source": [
    "base = 4.0\n",
    "mylist =[0.001]\n",
    "while mylist[-1] < (1/base):\n",
    "    mylist.append(deepcopy(mylist[-1]) * base)"
   ]
  },
  {
   "cell_type": "code",
   "execution_count": 26,
   "metadata": {},
   "outputs": [
    {
     "data": {
      "text/plain": [
       "[0.001, 0.004, 0.016, 0.064, 0.256]"
      ]
     },
     "execution_count": 26,
     "metadata": {},
     "output_type": "execute_result"
    }
   ],
   "source": [
    "mylist"
   ]
  },
  {
   "cell_type": "code",
   "execution_count": 27,
   "metadata": {},
   "outputs": [],
   "source": [
    "mylist.append(1.0)\n",
    "mylist = np.asarray(mylist)"
   ]
  },
  {
   "cell_type": "code",
   "execution_count": 28,
   "metadata": {},
   "outputs": [],
   "source": [
    "summed_energies = np.sum(x['energies'].to_numpy(), axis=1) / 10 / 1000\n",
    "inds = np.argsort(summed_energies)\n",
    "sorted_energies = summed_energies[inds]"
   ]
  },
  {
   "cell_type": "code",
   "execution_count": 61,
   "metadata": {},
   "outputs": [],
   "source": [
    "num_vals = sorted_energies.shape[0]\n",
    "fracs = []\n",
    "eval_quantiles = np.flip(1 - mylist)"
   ]
  },
  {
   "cell_type": "code",
   "execution_count": 83,
   "metadata": {},
   "outputs": [],
   "source": [
    "sorted_energies = summed_energies[inds]\n",
    "num_vals = sorted_energies.shape[0]\n",
    "fracs = []\n",
    "eval_quantiles = np.flip(mylist)\n",
    "for quantile in eval_quantiles:\n",
    "    if quantile == 1.0:\n",
    "        fracs.append([1.0]*31)\n",
    "    else:\n",
    "        one_percent_quantile = int(num_vals * quantile)\n",
    "        one_percent_energy = sorted_energies[one_percent_quantile]\n",
    "\n",
    "        min_energy_condition = summed_energies < one_percent_energy\n",
    "        min_energy_theta = theta_np[min_energy_condition]\n",
    "\n",
    "        std_of_min_energy = np.std(min_energy_theta, axis=0)\n",
    "        std_of_all_samples = np.std(theta_np, axis=0)\n",
    "\n",
    "        fracs.append(std_of_min_energy / std_of_all_samples)\n",
    "\n",
    "fracs = np.asarray(fracs)\n",
    "fracs[fracs > 1.0] = 1.0"
   ]
  },
  {
   "cell_type": "code",
   "execution_count": 82,
   "metadata": {},
   "outputs": [
    {
     "data": {
      "text/plain": [
       "array([0.7991528 , 0.9401006 , 0.974575  , 1.        , 0.87298363,\n",
       "       0.9657782 , 0.90162313, 0.96740246, 0.9080675 , 1.        ,\n",
       "       1.        , 0.9563853 , 0.9419756 , 0.9877916 , 1.        ,\n",
       "       1.        , 0.39964786, 0.51263916, 0.8248636 , 0.83355314,\n",
       "       0.9435503 , 0.94093883, 0.9908032 , 1.        , 0.99511   ,\n",
       "       0.99074054, 1.        , 0.7032725 , 0.9847332 , 1.        ,\n",
       "       0.9141029 ], dtype=float32)"
      ]
     },
     "execution_count": 82,
     "metadata": {},
     "output_type": "execute_result"
    }
   ],
   "source": [
    "fracs[-1]"
   ]
  },
  {
   "cell_type": "code",
   "execution_count": 84,
   "metadata": {},
   "outputs": [],
   "source": [
    "styles = [\"solid\", \"dotted\", \"dashed\"]*8\n",
    "styles += [\"dotted\"]*7"
   ]
  },
  {
   "cell_type": "code",
   "execution_count": 85,
   "metadata": {},
   "outputs": [
    {
     "data": {
      "image/png": "[encoded data removed]",
      "text/plain": [
       "<Figure size 200x90 with 1 Axes>"
      ]
     },
     "metadata": {},
     "output_type": "display_data"
    }
   ],
   "source": [
    "with mpl.rc_context(fname=\"../../../.matplotlibrc\"):\n",
    "    fig, ax = plt.subplots(1, 1, figsize=(2.0, 0.9))\n",
    "\n",
    "    for f, c, s in zip(fracs.T, cols, styles):\n",
    "        _ = ax.plot(f, c=c, linestyle=s)\n",
    "\n",
    "    _ = ax.set_xticks(range(len(eval_quantiles)))\n",
    "    vals = 1-np.asarray(eval_quantiles)\n",
    "    l = [str(round(100-float(100*label), 6)) for label in vals]\n",
    "    l[0] = \"100\"\n",
    "    l[1] = \"25\"\n",
    "    _ = ax.set_xticklabels(l)\n",
    "    ax.set_xlabel(\"Lowest energy quantile [%]\")\n",
    "    ax.set_yticks([0., 1.])\n",
    "#     ax.set_ylabel(\"Degeneracy\")\n",
    "    ax.set_ylim([0, 1.01])    \n",
    "    plt.savefig(\"degeneracy_plot.png\", dpi=300, bbox_inches=\"tight\")\n",
    "    plt.savefig(PANEL_degeneracy_plot, facecolor=\"None\", transparent=False)"
   ]
  },
  {
   "cell_type": "code",
   "execution_count": 98,
   "metadata": {},
   "outputs": [],
   "source": [
    "summed_energies = np.sum(x['energies'].to_numpy(), axis=1) / 10 / 1000\n",
    "inds = np.argsort(summed_energies)\n",
    "sorted_energies = summed_energies[inds]\n",
    "quantiles = np.linspace(0, 1, 51)"
   ]
  },
  {
   "cell_type": "code",
   "execution_count": 110,
   "metadata": {},
   "outputs": [],
   "source": [
    "fracs = []\n",
    "for i in range(len(quantiles)-1):\n",
    "    start_ind = int(len(summed_energies) * quantiles[i])\n",
    "    end_ind = int(len(summed_energies) * quantiles[i+1])\n",
    "    start_e = sorted_energies[start_ind]\n",
    "    end_e = sorted_energies[np.minimum(35938, end_ind)]\n",
    "    \n",
    "    valid_inds = np.logical_and((summed_energies > start_e), (summed_energies < end_e))\n",
    "    valid_theta = theta_np[valid_inds]\n",
    "    \n",
    "    std_of_min_energy = np.std(valid_theta, axis=0)\n",
    "    std_of_all_samples = np.std(theta_np, axis=0)\n",
    "    \n",
    "    fracs.append(std_of_min_energy / std_of_all_samples)\n",
    "fracs = np.asarray(fracs)\n",
    "fracs[fracs > 1.0] = 1.0"
   ]
  },
  {
   "cell_type": "code",
   "execution_count": 113,
   "metadata": {},
   "outputs": [
    {
     "data": {
      "image/png": "[encoded data removed]",
      "text/plain": [
       "<Figure size 500x190 with 1 Axes>"
      ]
     },
     "metadata": {},
     "output_type": "display_data"
    }
   ],
   "source": [
    "with mpl.rc_context(fname=\"../../../.matplotlibrc\"):\n",
    "    fig, ax = plt.subplots(1, 1, figsize=(5.0, 1.9))\n",
    "\n",
    "    for f, c, s in zip(fracs.T, cols, styles):\n",
    "        _ = ax.plot(quantiles[:-1], f, c=c, linestyle=s)\n",
    "\n",
    "    ax.set_xlabel(\"Energy level\")\n",
    "    ax.set_yticks([0., 1.])\n",
    "    ax.set_xticks([0, 1])\n",
    "    ax.set_xticklabels([\"Most efficient\", \"Most expensive\"])\n",
    "    ax.set_ylabel(\"Degeneracy\")\n",
    "#     ax.set_ylabel(\"Degeneracy\")\n",
    "    ax.set_ylim([0, 1.01])    \n",
    "    plt.savefig(\"degeneracy_plot.png\", dpi=300, bbox_inches=\"tight\")\n",
    "#     plt.savefig(PANEL_degeneracy_plot, facecolor=\"None\", transparent=False)"
   ]
  },
  {
   "cell_type": "markdown",
   "metadata": {},
   "source": [
    "### Randomized control trial"
   ]
  },
  {
   "cell_type": "code",
   "execution_count": 168,
   "metadata": {},
   "outputs": [],
   "source": [
    "shuffled_energies = np.sum(x['energies'].to_numpy(), axis=1) / 10 / 1000\n",
    "np.random.shuffle(shuffled_energies)\n",
    "inds = np.argsort(shuffled_energies)\n",
    "sorted_shuffled_energies = shuffled_energies[inds]"
   ]
  },
  {
   "cell_type": "code",
   "execution_count": 169,
   "metadata": {},
   "outputs": [],
   "source": [
    "num_vals = sorted_shuffled_energies.shape[0]\n",
    "fracs = []\n",
    "eval_quantiles = np.flip(mylist)\n",
    "for quantile in eval_quantiles:\n",
    "    if quantile == 1.0:\n",
    "        fracs.append([1.0]*31)\n",
    "    else:\n",
    "        one_percent_quantile = int(num_vals * quantile)\n",
    "        one_percent_energy = sorted_shuffled_energies[one_percent_quantile]\n",
    "\n",
    "        min_energy_condition = shuffled_energies < one_percent_energy\n",
    "        min_energy_theta = theta_np[min_energy_condition]\n",
    "\n",
    "        std_of_min_energy = np.std(min_energy_theta, axis=0)\n",
    "        std_of_all_samples = np.std(theta_np, axis=0)\n",
    "\n",
    "        fracs.append(std_of_min_energy / std_of_all_samples)\n",
    "\n",
    "fracs = np.asarray(fracs)\n",
    "# fracs[fracs > 1.0] = 1.0"
   ]
  },
  {
   "cell_type": "code",
   "execution_count": 171,
   "metadata": {},
   "outputs": [
    {
     "data": {
      "image/png": "[encoded data removed]",
      "text/plain": [
       "<Figure size 200x90 with 1 Axes>"
      ]
     },
     "metadata": {},
     "output_type": "display_data"
    }
   ],
   "source": [
    "with mpl.rc_context(fname=\"../../../.matplotlibrc\"):\n",
    "    fig, ax = plt.subplots(1, 1, figsize=(2.0, 0.9))\n",
    "\n",
    "    for f, c, s in zip(fracs.T, cols, styles):\n",
    "        _ = ax.plot(f, c=c, linestyle=s)\n",
    "\n",
    "    _ = ax.set_xticks(range(len(eval_quantiles)))\n",
    "    vals = 1-np.asarray(eval_quantiles)\n",
    "    l = [str(round(100-float(100*label), 6)) for label in vals]\n",
    "    l[0] = \"100\"\n",
    "    l[1] = \"25\"\n",
    "    _ = ax.set_xticklabels(l)\n",
    "    ax.set_xlabel(\"Lowest energy quantile [%]\")\n",
    "    ax.set_yticks([0., 1.])\n",
    "#     ax.set_ylabel(\"Degeneracy\")\n",
    "    ax.set_ylim([0, 1.3])    \n",
    "    plt.savefig(\"plot_jakob_pedro2.png\", dpi=300, bbox_inches=\"tight\")\n",
    "#     plt.savefig(PANEL_degeneracy_plot, facecolor=\"None\", transparent=False)"
   ]
  },
  {
   "cell_type": "code",
   "execution_count": 172,
   "metadata": {},
   "outputs": [],
   "source": [
    "fitted_reg = np.load(\"../../../results/regression_nets/linear_regression.npy\", allow_pickle=True).tolist()\n",
    "mean_params = np.load(\"../../../results/regression_nets/linear_regression_theta_mean.npy\", allow_pickle=True)\n",
    "std_params = np.load(\"../../../results/regression_nets/linear_regression_theta_std.npy\", allow_pickle=True)\n",
    "mean_energy = np.load(\"../../../results/regression_nets/linear_regression_x_mean.npy\", allow_pickle=True)\n",
    "std_energy = np.load(\"../../../results/regression_nets/linear_regression_x_std.npy\", allow_pickle=True)"
   ]
  },
  {
   "cell_type": "code",
   "execution_count": 173,
   "metadata": {},
   "outputs": [],
   "source": [
    "theta_np_norm_lin = (theta_np - mean_params) / std_params\n",
    "coef = fitted_reg.coef_[0]\n",
    "np.random.shuffle(coef)\n",
    "predicted_energy_norm = np.sum(theta_np_norm_lin * coef, axis=1) + fitted_reg.intercept_\n",
    "predicted_energy = predicted_energy_norm * std_energy + mean_energy"
   ]
  },
  {
   "cell_type": "code",
   "execution_count": 174,
   "metadata": {},
   "outputs": [],
   "source": [
    "shuffled_energies = predicted_energy\n",
    "inds = np.argsort(shuffled_energies)\n",
    "sorted_shuffled_energies = shuffled_energies[inds]"
   ]
  },
  {
   "cell_type": "code",
   "execution_count": 175,
   "metadata": {},
   "outputs": [],
   "source": [
    "num_vals = sorted_shuffled_energies.shape[0]\n",
    "fracs = []\n",
    "eval_quantiles = np.flip(mylist)\n",
    "for quantile in eval_quantiles:\n",
    "    if quantile == 1.0:\n",
    "        fracs.append([1.0]*31)\n",
    "    else:\n",
    "        one_percent_quantile = int(num_vals * quantile)\n",
    "        one_percent_energy = sorted_shuffled_energies[one_percent_quantile]\n",
    "\n",
    "        min_energy_condition = shuffled_energies < one_percent_energy\n",
    "        min_energy_theta = theta_np[min_energy_condition]\n",
    "\n",
    "        std_of_min_energy = np.std(min_energy_theta, axis=0)\n",
    "        std_of_all_samples = np.std(theta_np, axis=0)\n",
    "\n",
    "        fracs.append(std_of_min_energy / std_of_all_samples)\n",
    "\n",
    "fracs = np.asarray(fracs)\n",
    "fracs[fracs > 1.0] = 1.0"
   ]
  },
  {
   "cell_type": "code",
   "execution_count": 176,
   "metadata": {},
   "outputs": [
    {
     "data": {
      "image/png": "[encoded data removed]",
      "text/plain": [
       "<Figure size 200x90 with 1 Axes>"
      ]
     },
     "metadata": {},
     "output_type": "display_data"
    }
   ],
   "source": [
    "with mpl.rc_context(fname=\"../../../.matplotlibrc\"):\n",
    "    fig, ax = plt.subplots(1, 1, figsize=(2.0, 0.9))\n",
    "\n",
    "    for f, c, s in zip(fracs.T, cols, styles):\n",
    "        _ = ax.plot(f, c=c, linestyle=s)\n",
    "\n",
    "    _ = ax.set_xticks(range(len(eval_quantiles)))\n",
    "    vals = 1-np.asarray(eval_quantiles)\n",
    "    l = [str(round(100-float(100*label), 6)) for label in vals]\n",
    "    l[0] = \"100\"\n",
    "    l[1] = \"25\"\n",
    "    _ = ax.set_xticklabels(l)\n",
    "    ax.set_xlabel(\"Lowest energy quantile [%]\")\n",
    "    ax.set_yticks([0., 1.])\n",
    "#     ax.set_ylabel(\"Degeneracy\")\n",
    "    ax.set_ylim([0, 1.01]) \n",
    "    plt.savefig(\"plot_jakob_pedro.png\", dpi=300, bbox_inches=\"tight\")\n",
    "#     plt.savefig(PANEL_degeneracy_plot, facecolor=\"None\", transparent=False)"
   ]
  },
  {
   "cell_type": "markdown",
   "metadata": {},
   "source": [
    "### Variance reduction plot"
   ]
  },
  {
   "cell_type": "code",
   "execution_count": 87,
   "metadata": {},
   "outputs": [],
   "source": [
    "summed_energies = np.sum(x['energies'].to_numpy(), axis=1) / 10 / 1000"
   ]
  },
  {
   "cell_type": "code",
   "execution_count": 88,
   "metadata": {},
   "outputs": [],
   "source": [
    "inds = np.argsort(summed_energies)"
   ]
  },
  {
   "cell_type": "code",
   "execution_count": 89,
   "metadata": {},
   "outputs": [],
   "source": [
    "sorted_energies = summed_energies[inds]\n",
    "num_vals = sorted_energies.shape[0]\n",
    "quantile = 0.02\n",
    "one_percent_quantile = int(num_vals * quantile)\n",
    "ninenine_percent_quantile = int(num_vals * (1-quantile))\n",
    "one_percent_energy = sorted_energies[one_percent_quantile]\n",
    "ninenine_percent_energy = sorted_energies[ninenine_percent_quantile]"
   ]
  },
  {
   "cell_type": "code",
   "execution_count": 90,
   "metadata": {},
   "outputs": [],
   "source": [
    "min_energy_condition = summed_energies < one_percent_energy\n",
    "max_energy_condition = summed_energies > ninenine_percent_energy"
   ]
  },
  {
   "cell_type": "code",
   "execution_count": 91,
   "metadata": {},
   "outputs": [],
   "source": [
    "min_energy_theta = theta_np[min_energy_condition]\n",
    "max_energy_theta = theta_np[max_energy_condition]\n",
    "\n",
    "min_energy_energies = summed_energies[min_energy_condition]\n",
    "max_energy_energies = summed_energies[max_energy_condition]"
   ]
  },
  {
   "cell_type": "code",
   "execution_count": 92,
   "metadata": {},
   "outputs": [],
   "source": [
    "prior = create_prior(as_torch_dist=True)\n",
    "lower_b = prior.support.base_constraint.lower_bound.unsqueeze(0)\n",
    "upper_b = prior.support.base_constraint.upper_bound.unsqueeze(0)\n",
    "limits = torch.cat((lower_b, upper_b), dim=0).T"
   ]
  },
  {
   "cell_type": "code",
   "execution_count": 93,
   "metadata": {},
   "outputs": [
    {
     "name": "stderr",
     "output_type": "stream",
     "text": [
      "findfont: Font family ['serif'] not found. Falling back to DejaVu Sans.\n",
      "findfont: Generic family 'serif' not found because none of the following families were found: Arial, sans-serif\n"
     ]
    },
    {
     "data": {
      "image/png": "[encoded data removed]",
      "text/plain": [
       "<Figure size 80x90 with 1 Axes>"
      ]
     },
     "metadata": {},
     "output_type": "display_data"
    }
   ],
   "source": [
    "with mpl.rc_context(fname=\"../../../.matplotlibrc\"):\n",
    "    fig, ax = plt.subplots(1,1, figsize=(0.8, 0.9))\n",
    "    vals, xvals = np.histogram(summed_energies, bins=100, range=[0, 30])\n",
    "    val_dist = xvals[1] - xvals[0]\n",
    "    ax.plot(xvals[1:] - val_dist/2, vals, c='k')\n",
    "    _, _, one = ax.hist(min_energy_energies, bins=100, range=[0, 30], color='#fd8d3c')\n",
    "    _, _, two = ax.hist(max_energy_energies, bins=100, range=[0, 30], color='#bd0026')\n",
    "    ax.set_xlabel(\"Energy ($\\mu$J/s)\")\n",
    "    ax.set_ylabel(\"Count\")\n",
    "    ax.set_xlim([0, 30])\n",
    "    ax.set_xticks([0, 30])\n",
    "    leg = ax.legend([one, two], [\"Most efficient 2%\", \"Least efficient 2%\"], ncol=3, loc=((-0.4, 1.1)), handletextpad=0.02)\n",
    "    for line in leg.get_patches():\n",
    "        line.set_height(1.6)\n",
    "        line.set_width(10.0)\n",
    "        line.set_y(2.3)\n",
    "    plt.savefig(PANEL_supp_shift1, facecolor=\"None\", transparent=False)"
   ]
  },
  {
   "cell_type": "code",
   "execution_count": 94,
   "metadata": {},
   "outputs": [],
   "source": [
    "std_of_min_energy = np.std(min_energy_theta, axis=0)\n",
    "std_of_all_samples = np.std(theta_np, axis=0)"
   ]
  },
  {
   "cell_type": "code",
   "execution_count": 95,
   "metadata": {},
   "outputs": [],
   "source": [
    "stds_fraction = 1 - (std_of_min_energy / std_of_all_samples)"
   ]
  },
  {
   "cell_type": "code",
   "execution_count": 97,
   "metadata": {},
   "outputs": [
    {
     "data": {
      "text/plain": [
       "array([0.8037193 , 0.8464843 , 0.9300234 , 0.95980245, 0.99449205,\n",
       "       0.94929683, 1.0431094 , 1.0038784 , 1.044511  , 0.9603026 ,\n",
       "       0.86817485, 1.0000968 , 0.9569214 , 0.93456495, 1.020405  ,\n",
       "       1.0002675 , 0.6696571 , 0.554467  , 0.8713912 , 0.9851734 ,\n",
       "       0.902615  , 0.99208903, 0.9757338 , 0.8798166 , 0.91078734,\n",
       "       0.9658037 , 0.90537155, 1.1536438 , 0.93125415, 0.9684211 ,\n",
       "       1.1299083 ], dtype=float32)"
      ]
     },
     "execution_count": 97,
     "metadata": {},
     "output_type": "execute_result"
    }
   ],
   "source": [
    "1- stds_fraction"
   ]
  },
  {
   "cell_type": "code",
   "execution_count": 194,
   "metadata": {},
   "outputs": [
    {
     "data": {
      "image/png": "[encoded data removed]",
      "text/plain": [
       "<Figure size 180x90 with 1 Axes>"
      ]
     },
     "metadata": {},
     "output_type": "display_data"
    }
   ],
   "source": [
    "with mpl.rc_context(fname=\"../../../.matplotlibrc\"):\n",
    "    viz.py_sensitivity_bars_cosyne(\n",
    "        1.0 - deepcopy(torch.as_tensor(stds_fraction)),\n",
    "        ylim=[0.0, 1.0],\n",
    "        figsize=(1.8, 0.9),\n",
    "        ylabel=\"Fraction of std. dev.\",\n",
    "        title=None,\n",
    "        title_x_offset=-1.1,\n",
    "        title_y_offset=0.1,\n",
    "        legend_y_offset=0.3,\n",
    "        legend=False,\n",
    "        yticks=[0, 1],\n",
    "        ylabelpad=5.5,\n",
    "        rotation=90,\n",
    "        spacing=0.23\n",
    "    )\n",
    "    plt.savefig(PANEL_supp_shift7, facecolor=\"None\", transparent=False)\n",
    "    plt.show()"
   ]
  },
  {
   "cell_type": "code",
   "execution_count": 195,
   "metadata": {},
   "outputs": [
    {
     "data": {
      "image/png": "[encoded data removed]",
      "text/plain": [
       "<Figure size 100x90 with 1 Axes>"
      ]
     },
     "metadata": {},
     "output_type": "display_data"
    }
   ],
   "source": [
    "with mpl.rc_context(fname=\"../../../.matplotlibrc\"):\n",
    "    viz.synapse_sensitivity_bars(\n",
    "        1.0 - deepcopy(torch.as_tensor([stds_fraction[-7:]])),\n",
    "        ylim=[0.0, 1.0], \n",
    "        figsize=(1.0, 0.9), \n",
    "        ylabel=None, \n",
    "        color=\"k\", \n",
    "        title=\"Synapses\",\n",
    "        width_multiplier=0.5\n",
    "    )\n",
    "    plt.savefig(PANEL_Synapses_reduction, facecolor=\"None\", transparent=False)\n",
    "    plt.show()"
   ]
  },
  {
   "cell_type": "markdown",
   "metadata": {},
   "source": [
    "### Concrete plots"
   ]
  },
  {
   "cell_type": "code",
   "execution_count": 196,
   "metadata": {},
   "outputs": [],
   "source": [
    "labels_ = get_labels_8pt()"
   ]
  },
  {
   "cell_type": "code",
   "execution_count": 197,
   "metadata": {},
   "outputs": [
    {
     "data": {
      "image/png": "[encoded data removed]",
      "text/plain": [
       "<Figure size 80x90 with 1 Axes>"
      ]
     },
     "metadata": {},
     "output_type": "display_data"
    }
   ],
   "source": [
    "with mpl.rc_context(fname=\"../../../.matplotlibrc\"):\n",
    "    fig, ax = plt.subplots(1,1, figsize=(0.8, 0.9))\n",
    "    ind=0\n",
    "    vals, xvals = np.histogram(min_energy_theta[:, ind], bins=30)\n",
    "    val_dist = xvals[1] - xvals[0]\n",
    "    one, = ax.plot(xvals[1:] - val_dist/2, vals, color='#fd8d3c')\n",
    "#     vals, xvals = np.histogram(theta_np[:, ind], bins=30)\n",
    "#     val_dist = xvals[1] - xvals[0]\n",
    "#     ax.plot(xvals[1:] - val_dist/2, vals/30, color='k', alpha=0.7)\n",
    "    vals, xvals = np.histogram(max_energy_theta[:, ind], bins=30)\n",
    "    two, = ax.plot(xvals[1:], vals, color='#bd0026')\n",
    "    ax.set_xlabel(r\"$\\overline{g}_{Na}$ (AB/PD)\")\n",
    "    ax.set_ylabel(\"Count\")\n",
    "    ax.set_xlim(limits[ind])\n",
    "    ax.set_xticks(limits[ind])\n",
    "#     ax.legend([one, two], [\"Most efficient 2%\", \"Least efficient 2%\"], ncol=3, loc=((0.0, 1)))\n",
    "    ax.set_ylim(bottom=0)\n",
    "    ax.set_ylim([0, 60])\n",
    "    plt.savefig(PANEL_supp_shift2, facecolor=\"None\", transparent=False)"
   ]
  },
  {
   "cell_type": "code",
   "execution_count": 198,
   "metadata": {},
   "outputs": [
    {
     "data": {
      "image/png": "[encoded data removed]",
      "text/plain": [
       "<Figure size 80x90 with 1 Axes>"
      ]
     },
     "metadata": {},
     "output_type": "display_data"
    }
   ],
   "source": [
    "with mpl.rc_context(fname=\"../../../.matplotlibrc\"):\n",
    "    fig, ax = plt.subplots(1,1, figsize=(0.8, 0.9))\n",
    "    ind = 17\n",
    "    vals, xvals = np.histogram(min_energy_theta[:, ind], bins=30)\n",
    "    val_dist = xvals[1] - xvals[0]\n",
    "    one, = ax.plot(xvals[1:] - val_dist/2, vals, color='#fd8d3c')\n",
    "    vals, xvals = np.histogram(max_energy_theta[:, ind], bins=30)\n",
    "    two, = ax.plot(xvals[1:], vals, color='#bd0026')\n",
    "    ax.set_xlabel(r\"$\\overline{g}_{CaT}$ (PY)\")\n",
    "    ax.set_xlim(limits[ind])\n",
    "    ax.set_xticks(limits[ind])\n",
    "    ax.set_ylim(bottom=0)\n",
    "#     ax.legend([one, two], [\"Most efficient 2%\", \"Least efficient 2%\"], ncol=3, loc=((0.0, 1)))\n",
    "    plt.savefig(PANEL_supp_shift3, facecolor=\"None\", transparent=False)"
   ]
  },
  {
   "cell_type": "code",
   "execution_count": 199,
   "metadata": {},
   "outputs": [
    {
     "data": {
      "image/png": "[encoded data removed]",
      "text/plain": [
       "<Figure size 80x90 with 1 Axes>"
      ]
     },
     "metadata": {},
     "output_type": "display_data"
    }
   ],
   "source": [
    "with mpl.rc_context(fname=\"../../../.matplotlibrc\"):\n",
    "    fig, ax = plt.subplots(1,1, figsize=(0.8, 0.9))\n",
    "    ind = 5\n",
    "    vals, xvals = np.histogram(min_energy_theta[:, ind], bins=30)\n",
    "    val_dist = xvals[1] - xvals[0]\n",
    "    ax.plot(xvals[1:] - val_dist/2, vals, color='#fd8d3c')\n",
    "    vals, xvals = np.histogram(max_energy_theta[:, ind], bins=30)\n",
    "    ax.plot(xvals[1:], vals, color='#bd0026')\n",
    "    ax.set_xlabel(r\"$\\overline{g}_{Kd}$ (AB/PD)\")\n",
    "    ax.set_xlim(limits[ind])\n",
    "    ax.set_xticks(limits[ind])\n",
    "    ax.set_ylim(bottom=0)\n",
    "    ax.set_yticklabels([])\n",
    "    ax.set_yticks([0, 50])\n",
    "    ax.set_ylim([0, 60])\n",
    "    plt.savefig(PANEL_supp_shift4, facecolor=\"None\", transparent=False)"
   ]
  },
  {
   "cell_type": "code",
   "execution_count": 200,
   "metadata": {},
   "outputs": [
    {
     "data": {
      "image/png": "[encoded data removed]",
      "text/plain": [
       "<Figure size 80x90 with 1 Axes>"
      ]
     },
     "metadata": {},
     "output_type": "display_data"
    }
   ],
   "source": [
    "with mpl.rc_context(fname=\"../../../.matplotlibrc\"):\n",
    "    fig, ax = plt.subplots(1,1, figsize=(0.8, 0.9))\n",
    "    ind = 14\n",
    "    vals, xvals = np.histogram(min_energy_theta[:, ind], bins=30)\n",
    "    val_dist = xvals[1] - xvals[0]\n",
    "    ax.plot(xvals[1:] - val_dist/2, vals, color='#fd8d3c')\n",
    "    vals, xvals = np.histogram(max_energy_theta[:, ind], bins=30)\n",
    "    ax.plot(xvals[1:], vals, color='#bd0026')\n",
    "    ax.set_xlabel(r\"$\\overline{g}_{H}$ (LP)\")\n",
    "    ax.set_xlim(limits[ind])\n",
    "    ax.set_xticks(limits[ind])\n",
    "    ax.set_ylim(bottom=0)\n",
    "    plt.savefig(PANEL_supp_shift5, facecolor=\"None\", transparent=False)"
   ]
  },
  {
   "cell_type": "markdown",
   "metadata": {},
   "source": [
    "### Panel C"
   ]
  },
  {
   "cell_type": "code",
   "execution_count": 201,
   "metadata": {},
   "outputs": [],
   "source": [
    "prior = create_prior(as_torch_dist=True)\n",
    "lower_b = prior.support.base_constraint.lower_bound.unsqueeze(0)\n",
    "upper_b = prior.support.base_constraint.upper_bound.unsqueeze(0)\n",
    "limits = torch.cat((lower_b, upper_b), dim=0).T "
   ]
  },
  {
   "cell_type": "code",
   "execution_count": 202,
   "metadata": {},
   "outputs": [],
   "source": [
    "npz = np.load('../../../results/experimental_data/trace_data_845_082_0044.npz')\n",
    "t = npz['t']\n",
    "PD_spikes = npz['PD_spikes']\n",
    "LP_spikes = npz['LP_spikes']\n",
    "PY_spikes = npz['PY_spikes']\n",
    "pdn = npz['pdn']\n",
    "lpn = npz['lpn']\n",
    "pyn = npz['pyn']\n",
    "start_index = 219500 + 2100\n",
    "end_index   = 246500 + 2100  # 32000\n",
    "height_offset = 200\n",
    "shown_t = t[end_index] - t[start_index]\n",
    "time_len = shown_t / 0.025 * 1000\n",
    "dt = t[1] - t[0]\n",
    "time_vec = np.arange(0, 11000, 0.025)"
   ]
  },
  {
   "cell_type": "code",
   "execution_count": 203,
   "metadata": {},
   "outputs": [],
   "source": [
    "inds = np.argsort(summed_energies)\n",
    "quantile = 0.00015\n",
    "sorted_energies = summed_energies[inds]\n",
    "num_vals = sorted_energies.shape[0]\n",
    "one_percent_quantile = int(num_vals * quantile)\n",
    "one_percent_energy = sorted_energies[one_percent_quantile]"
   ]
  },
  {
   "cell_type": "code",
   "execution_count": 204,
   "metadata": {},
   "outputs": [],
   "source": [
    "min_energy_condition = summed_energies < one_percent_energy\n",
    "min_energy_theta = theta_np[min_energy_condition]\n",
    "min_energy_energies = summed_energies[min_energy_condition]\n",
    "min_energy_x = x[min_energy_condition]\n",
    "min_energy_seed = seeds[min_energy_condition]"
   ]
  },
  {
   "cell_type": "code",
   "execution_count": 237,
   "metadata": {},
   "outputs": [],
   "source": [
    "labels_ = get_labels_8pt()\n",
    "lims=limits.numpy()\n",
    "all_labels = generate_labels_for_pairplot_no_whitespace(lims)"
   ]
  },
  {
   "cell_type": "code",
   "execution_count": 238,
   "metadata": {},
   "outputs": [
    {
     "name": "stderr",
     "output_type": "stream",
     "text": [
      "/home/michael/Documents/sbi/sbi/utils/plot.py:563: FutureWarning: elementwise comparison failed; returning scalar instead, but in the future will perform elementwise comparison\n",
      "  if opts[\"labels\"] == [] or opts[\"labels\"] is None:\n"
     ]
    },
    {
     "data": {
      "image/png": "[encoded data removed]",
      "text/plain": [
       "<Figure size 200x200 with 16 Axes>"
      ]
     },
     "metadata": {},
     "output_type": "display_data"
    }
   ],
   "source": [
    "with mpl.rc_context(fname='../../../.matplotlibrc'):\n",
    "\n",
    "    labels_new = get_labels_8pt()\n",
    "    new_labels = []\n",
    "    for l in labels_new:\n",
    "        new_labels.append(l+'    '+r'$\\;\\;$')\n",
    "    labels_new = new_labels\n",
    "    labels_new[9] += ''\n",
    "\n",
    "    fig, axes = pairplot(\n",
    "        samples=min_energy_theta,\n",
    "        subset=[0,8,18,26],\n",
    "        labelpad=1,\n",
    "        tick_labelpad=1,\n",
    "        limits=limits,\n",
    "        ticks=limits,\n",
    "        tick_labels=all_labels,\n",
    "        figsize=(2.0, 2.0),\n",
    "        labels=labels_,\n",
    "        scatter_offdiag={'rasterized':True, 'alpha':1.0},\n",
    "        diag=['scatter'],\n",
    "        upper=['scatter'],\n",
    "        samples_colors=\"k\",\n",
    "        hist_offdiag={'bins':50},\n",
    "        plot_offdiag={'linewidth': 1.6, 'path_effects':[pe.Stroke(linewidth=2.4, foreground='k'), pe.Normal()]}\n",
    "    )\n",
    "    plt.savefig(PANEL_NEW_A, facecolor='None', transparent=True)"
   ]
  },
  {
   "cell_type": "markdown",
   "metadata": {},
   "source": [
    "### Panel E"
   ]
  },
  {
   "cell_type": "code",
   "execution_count": 53,
   "metadata": {},
   "outputs": [
    {
     "data": {
      "image/png": "[encoded data removed]",
      "text/plain": [
       "<Figure size 250x120 with 1 Axes>"
      ]
     },
     "metadata": {},
     "output_type": "display_data"
    },
    {
     "data": {
      "image/png": "[encoded data removed]",
      "text/plain": [
       "<Figure size 250x120 with 1 Axes>"
      ]
     },
     "metadata": {},
     "output_type": "display_data"
    }
   ],
   "source": [
    "with mpl.rc_context(fname='../../../.matplotlibrc'):\n",
    "    viz.plot_overall_efficient(\n",
    "        1, min_energy_theta, min_energy_seed, time_vec, time_len, offset=90000, figsize=(2.5, 1.2)\n",
    "    )\n",
    "    plt.savefig(PANEL_NEW_F1, facecolor='None', transparent=True)\n",
    "\n",
    "    viz.plot_overall_efficient(\n",
    "        3, min_energy_theta, min_energy_seed, time_vec, time_len, figsize=(2.5, 1.2)\n",
    "    )\n",
    "    plt.savefig(PANEL_NEW_F2, facecolor='None', transparent=True)"
   ]
  },
  {
   "cell_type": "markdown",
   "metadata": {},
   "source": [
    "### Panel F"
   ]
  },
  {
   "cell_type": "code",
   "execution_count": 54,
   "metadata": {},
   "outputs": [
    {
     "name": "stdout",
     "output_type": "stream",
     "text": [
      "3.88169053624513\n",
      "4.163538616011244\n"
     ]
    },
    {
     "data": {
      "image/png": "[encoded data removed]",
      "text/plain": [
       "<Figure size 30x80 with 1 Axes>"
      ]
     },
     "metadata": {},
     "output_type": "display_data"
    },
    {
     "data": {
      "image/png": "[encoded data removed]",
      "text/plain": [
       "<Figure size 30x80 with 1 Axes>"
      ]
     },
     "metadata": {},
     "output_type": "display_data"
    }
   ],
   "source": [
    "with mpl.rc_context(fname='../../../.matplotlibrc'):\n",
    "    viz.plot_energy_of_theta(\n",
    "        1, min_energy_theta, min_energy_seed, time_vec, time_len, offset=90000, figsize=(0.3, 0.8)\n",
    "    )\n",
    "    plt.savefig(PANEL_NEW_G1, facecolor='None', transparent=True)\n",
    "\n",
    "    viz.plot_energy_of_theta(\n",
    "        3, min_energy_theta, min_energy_seed, time_vec, time_len, figsize=(0.3, 0.8)\n",
    "    )\n",
    "    plt.savefig(PANEL_NEW_G2, facecolor='None', transparent=True)"
   ]
  },
  {
   "cell_type": "markdown",
   "metadata": {},
   "source": [
    "### Panel G"
   ]
  },
  {
   "cell_type": "code",
   "execution_count": 55,
   "metadata": {},
   "outputs": [
    {
     "data": {
      "image/png": "[encoded data removed]",
      "text/plain": [
       "<Figure size 110x80 with 1 Axes>"
      ]
     },
     "metadata": {},
     "output_type": "display_data"
    },
    {
     "data": {
      "image/png": "[encoded data removed]",
      "text/plain": [
       "<Figure size 110x80 with 1 Axes>"
      ]
     },
     "metadata": {},
     "output_type": "display_data"
    },
    {
     "data": {
      "image/png": "[encoded data removed]",
      "text/plain": [
       "<Figure size 40x80 with 1 Axes>"
      ]
     },
     "metadata": {},
     "output_type": "display_data"
    },
    {
     "data": {
      "image/png": "[encoded data removed]",
      "text/plain": [
       "<Figure size 40x80 with 1 Axes>"
      ]
     },
     "metadata": {},
     "output_type": "display_data"
    }
   ],
   "source": [
    "with mpl.rc_context(fname='../../../.matplotlibrc'):\n",
    "    viz.plot_params(deepcopy(min_energy_theta[1]), [1, 3, 11, 12, 20, 23, 24, 27], labels=False, width=1.1, ylim=[0, 750], labelpad=2, height=0.8)\n",
    "    plt.savefig(PANEL_NEW_supp_params_11, facecolor='None', transparent=True)\n",
    "    viz.plot_params(deepcopy(min_energy_theta[3]), [1, 3, 11, 12, 20, 23, 24, 27], width=1.1, ylim=[0, 750], labelpad=2, height=0.8)\n",
    "    plt.savefig(PANEL_NEW_supp_params_12, facecolor='None', transparent=True)\n",
    "\n",
    "    viz.plot_synapses(deepcopy(min_energy_theta[1]), [1, 3, 11, 12, 20, 23, 24, 27], labels=False, width=0.4, height=0.8)\n",
    "    plt.savefig(PANEL_NEW_supp_params_21, facecolor='None', transparent=True)\n",
    "    viz.plot_synapses(deepcopy(min_energy_theta[3]), [1, 3, 11, 12, 20, 23, 24, 27], width=0.4, height=0.8)\n",
    "    plt.savefig(PANEL_NEW_supp_params_22, facecolor='None', transparent=True)"
   ]
  },
  {
   "cell_type": "markdown",
   "metadata": {},
   "source": [
    "### Assemble figure"
   ]
  },
  {
   "cell_type": "code",
   "execution_count": 178,
   "metadata": {},
   "outputs": [],
   "source": [
    "def svg(img):\n",
    "    IPd.display(IPd.HTML('<img src=\"{}\" / >'.format(img, time.time())))"
   ]
  },
  {
   "cell_type": "code",
   "execution_count": 240,
   "metadata": {},
   "outputs": [
    {
     "data": {
      "text/html": [
       "<img src=\"../fig/fig3_1.svg\" / >"
      ],
      "text/plain": [
       "<IPython.core.display.HTML object>"
      ]
     },
     "metadata": {},
     "output_type": "display_data"
    }
   ],
   "source": [
    "from svgutils.compose import *\n",
    "\n",
    "# > Inkscape pixel is 1/90 of an inch, other software usually uses 1/72.\n",
    "# > http://www.inkscapeforum.com/viewtopic.php?f=6&t=5964\n",
    "svg_scale = 1.25  # set this to 1.25 for Inkscape, 1.0 otherwise\n",
    "factor_svg=5.5\n",
    "\n",
    "# Panel letters in Helvetica Neue, 12pt, Medium\n",
    "kwargs_text = {'size': '12pt', 'font': 'Arial', 'weight': '800'}\n",
    "kwargs_text_12pt = {'size': '12pt', 'font': 'Arial', 'weight': '500'}\n",
    "kwargs_consistent = {'size': '10pt', 'font': 'Arial', 'weight': '500', 'color': '#AF99EF'}\n",
    "kwargs_consistent1 = {'size': '10pt', 'font': 'Arial', 'weight': '500', 'color': '#9E7DD5'}\n",
    "kwargs_inconsistent = {'size': '10pt', 'font': 'Arial', 'weight': '500', 'color': '#AF99EF'}\n",
    "kwargs_text8pt = {'size': '7.7pt', 'font': 'Arial'}\n",
    "kwargs_text8pt_blue = {'size': '7.7pt', 'font': 'Arial', 'weight': '500', 'color': \"#0570b0\"}\n",
    "\n",
    "f = Figure(\"20.3cm\", \"9.9cm\",\n",
    "\n",
    "    Panel(\n",
    "          SVG(PANEL_supp_shift1).scale(svg_scale).move(0, 0*factor_svg),\n",
    "        Text(\"a\", 4.0*factor_svg, 3.5*factor_svg, **kwargs_text),\n",
    "    ).move(-4*factor_svg, -1*factor_svg),\n",
    "           \n",
    "    Panel(\n",
    "          SVG(PANEL_supp_shift3).scale(svg_scale).move(0, 0*factor_svg),\n",
    "    ).move(16.7*factor_svg, 3.4*factor_svg),\n",
    "    \n",
    "    Panel(\n",
    "          SVG(PANEL_supp_shift4).scale(svg_scale).move(0, 0*factor_svg),\n",
    "    ).move(34.0*factor_svg, 3.4*factor_svg),\n",
    "    \n",
    "    Panel(\n",
    "          SVG(PANEL_Synapses_reduction).scale(svg_scale).move(0, 0*factor_svg),\n",
    "    ).move(87.0*factor_svg, 0.6*factor_svg),\n",
    "\n",
    "    Panel(\n",
    "          SVG(PANEL_supp_shift7).scale(svg_scale).move(0, 0*factor_svg),\n",
    "          Text(\"b\", -1.15*factor_svg, 2.4*factor_svg, **kwargs_text),\n",
    "    ).move(55.65*factor_svg, 0.1*factor_svg),\n",
    "           \n",
    "    Panel(\n",
    "          SVG(\"../svg/panel_legend_4cols.svg\").scale(svg_scale).move(0, 0*factor_svg),\n",
    "    ).move(65.2*factor_svg, 1.9*factor_svg),\n",
    "\n",
    "    Panel(\n",
    "          SVG(PANEL_degeneracy_plot).scale(svg_scale).move(0, 0*factor_svg),          \n",
    "        Text(\"c\", 0.15*factor_svg, -0.3*factor_svg, **kwargs_text),\n",
    "    ).move(109.4*factor_svg, 2.8*factor_svg),\n",
    "           \n",
    "    Panel(\n",
    "          SVG(PANEL_NEW_A).scale(svg_scale*1.03).move(0*factor_svg, 0*factor_svg),\n",
    "          Text(\"d\", -2*factor_svg, 1.5*factor_svg, **kwargs_text),\n",
    "    ).move(2*factor_svg, 27*factor_svg),\n",
    "\n",
    "    Panel(\n",
    "        SVG(PANEL_NEW_F1).scale(svg_scale).move(0*factor_svg, 0*factor_svg),\n",
    "        Text(\"e\", -.0*factor_svg, 2.8*factor_svg, **kwargs_text),\n",
    "    ).move(44.0*factor_svg, 25.7*factor_svg),\n",
    "\n",
    "    Panel(\n",
    "        SVG(PANEL_NEW_F2).scale(svg_scale).move(0*factor_svg, 0*factor_svg),\n",
    "    ).move(44.0*factor_svg, 45.5*factor_svg),\n",
    "\n",
    "    Panel(\n",
    "        SVG(PANEL_NEW_G1).scale(svg_scale).move(0*factor_svg, 0*factor_svg),\n",
    "        Text(\"f\", -2.2*factor_svg, 1.7*factor_svg, **kwargs_text),\n",
    "    ).move(86.7*factor_svg, 26.8*factor_svg),\n",
    "           \n",
    "    Panel(\n",
    "        SVG(PANEL_NEW_G2).scale(svg_scale).move(0*factor_svg, 0*factor_svg),\n",
    "    ).move(86.7*factor_svg, 46.5*factor_svg),\n",
    "\n",
    "    Panel(\n",
    "        SVG(PANEL_NEW_supp_params_11).scale(svg_scale).move(0*factor_svg, 0*factor_svg),\n",
    "        Text(\"g\", -1.7*factor_svg, 1.7*factor_svg, **kwargs_text),\n",
    "    ).move(103.7*factor_svg, 26.8*factor_svg),\n",
    "\n",
    "    Panel(\n",
    "        SVG(PANEL_NEW_supp_params_12).scale(svg_scale).move(0*factor_svg, 0*factor_svg),\n",
    "    ).move(103.7*factor_svg, 46.5*factor_svg),\n",
    "\n",
    "    Panel(\n",
    "        SVG(PANEL_NEW_supp_params_21).scale(svg_scale).move(0*factor_svg, 0*factor_svg),\n",
    "    ).move(127.5*factor_svg, 26.8*factor_svg),\n",
    "\n",
    "    Panel(\n",
    "        SVG(PANEL_NEW_supp_params_22).scale(svg_scale).move(0*factor_svg, 0*factor_svg),\n",
    "    ).move(127.5*factor_svg, 46.5*factor_svg),\n",
    ")\n",
    "\n",
    "!mkdir -p fig\n",
    "f.save(\"../fig/fig3_1.svg\")\n",
    "svg('../fig/fig3_1.svg')"
   ]
  },
  {
   "cell_type": "code",
   "execution_count": null,
   "metadata": {},
   "outputs": [],
   "source": []
  },
  {
   "cell_type": "code",
   "execution_count": null,
   "metadata": {},
   "outputs": [],
   "source": []
  }
 ],
 "metadata": {
  "kernelspec": {
   "display_name": "Python 3",
   "language": "python",
   "name": "python3"
  },
  "language_info": {
   "codemirror_mode": {
    "name": "ipython",
    "version": 3
   },
   "file_extension": ".py",
   "mimetype": "text/x-python",
   "name": "python",
   "nbconvert_exporter": "python",
   "pygments_lexer": "ipython3",
   "version": "3.8.10"
  }
 },
 "nbformat": 4,
 "nbformat_minor": 4
}
