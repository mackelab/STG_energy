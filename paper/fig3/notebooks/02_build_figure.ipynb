{
 "cells": [
  {
   "cell_type": "code",
   "execution_count": 844,
   "metadata": {},
   "outputs": [],
   "source": [
    "import math\n",
    "import time\n",
    "from copy import deepcopy\n",
    "import dill as pickle\n",
    "import IPython.display as IPd\n",
    "import matplotlib as mpl\n",
    "import matplotlib.pylab as plt\n",
    "import numpy as np\n",
    "import pandas as pd\n",
    "import torch\n",
    "from matplotlib import ticker\n",
    "from pyloric import create_prior, simulate, summary_stats\n",
    "from pyloric.utils import energy_of_membrane, energy_of_synapse\n",
    "from sbi.analysis import ActiveSubspace\n",
    "\n",
    "import stg_energy.fig3_active_subspaces.viz as viz\n",
    "from stg_energy.fig3_active_subspaces.helper_functions import nth_argmax, nth_argmin\n",
    "from sklearn.linear_model import LinearRegression"
   ]
  },
  {
   "cell_type": "markdown",
   "metadata": {},
   "source": [
    "# Figure 3"
   ]
  },
  {
   "cell_type": "code",
   "execution_count": 12,
   "metadata": {},
   "outputs": [],
   "source": [
    "pd.options.display.max_columns = 999"
   ]
  },
  {
   "cell_type": "code",
   "execution_count": 13,
   "metadata": {},
   "outputs": [
    {
     "name": "stdout",
     "output_type": "stream",
     "text": [
      "The autoreload extension is already loaded. To reload it, use:\n",
      "  %reload_ext autoreload\n"
     ]
    }
   ],
   "source": [
    "%load_ext autoreload\n",
    "%autoreload 2"
   ]
  },
  {
   "cell_type": "code",
   "execution_count": 843,
   "metadata": {},
   "outputs": [],
   "source": [
    "PANEL_A = \"../svg/panel_a.svg\"\n",
    "PANEL_B = \"../svg/panel_b.svg\"\n",
    "PANEL_B_lin = \"../svg/panel_b_lin.svg\"\n",
    "PANEL_B_raw = \"../svg/panel_b_raw.svg\"\n",
    "PANEL_C = \"../svg/panel_c.svg\"\n",
    "PANEL_D = \"../svg/panel_d.svg\"\n",
    "PANEL_E1 = \"../svg/panel_e1.svg\"\n",
    "PANEL_E2 = \"../svg/panel_e2.svg\"\n",
    "PANEL_F1 = \"../svg/panel_f1.svg\"\n",
    "PANEL_F1_raw = \"../svg/panel_f1_raw.svg\"\n",
    "PANEL_F2 = \"../svg/panel_f2.svg\"\n",
    "PANEL_G1 = \"../svg/panel_g1.svg\"\n",
    "PANEL_G2 = \"../svg/panel_g2.svg\"\n",
    "PANEL_H1 = \"../svg/panel_h1.svg\"\n",
    "PANEL_H2 = \"../svg/panel_h2.svg\"\n",
    "PANEL_I1 = \"../svg/panel_i1.svg\"\n",
    "PANEL_I2 = \"../svg/panel_i2.svg\"\n",
    "\n",
    "PANEL_supp_EV1 = \"../svg/panel_supp_ev1.svg\"\n",
    "PANEL_supp_EV2 = \"../svg/panel_supp_ev2.svg\"\n",
    "PANEL_supp_EV3 = \"../svg/panel_supp_ev3.svg\"\n",
    "\n",
    "PANEL_supp_shift1 = \"../svg/panel_supp_shift1.svg\"\n",
    "PANEL_supp_shift2 = \"../svg/panel_supp_shift2.svg\"\n",
    "PANEL_supp_shift3 = \"../svg/panel_supp_shift3.svg\"\n",
    "PANEL_supp_shift4 = \"../svg/panel_supp_shift4.svg\"\n",
    "PANEL_supp_shift5 = \"../svg/panel_supp_shift5.svg\"\n",
    "PANEL_supp_shift6 = \"../svg/panel_supp_shift6.svg\"\n",
    "PANEL_supp_shift7 = \"../svg/panel_supp_shift7.svg\"\n",
    "\n",
    "PANEL_supp_performance1 = \"../svg/panel_supp_performance1.svg\"\n",
    "PANEL_supp_performance2 = \"../svg/panel_supp_performance2.svg\"\n",
    "PANEL_supp_performance3 = \"../svg/panel_supp_performance3.svg\"\n",
    "\n",
    "PANEL_supp_synapses1 = \"../svg/panel_supp_synapses1.svg\"\n",
    "PANEL_supp_synapses2 = \"../svg/panel_supp_synapses2.svg\"\n",
    "PANEL_supp_synapses3 = \"../svg/panel_supp_synapses3.svg\"\n",
    "\n",
    "PANEL_NEW_A = \"../svg/panel_new_a_inkscape.svg\"\n",
    "\n",
    "PANEL_NEW_F1 = \"../svg/panel_new_f1.svg\"\n",
    "PANEL_NEW_F2 = \"../svg/panel_new_f2.svg\"\n",
    "\n",
    "PANEL_NEW_G1 = \"../svg/panel_new_g1.svg\"\n",
    "PANEL_NEW_G2 = \"../svg/panel_new_g2.svg\"\n",
    "PANEL_NEW_supp_params_11 = \"../svg/PANEL_NEW_supp_params_11.svg\"\n",
    "PANEL_NEW_supp_params_12 = \"../svg/PANEL_NEW_supp_params_12.svg\"\n",
    "PANEL_NEW_supp_params_21 = \"../svg/PANEL_NEW_supp_params_21.svg\"\n",
    "PANEL_NEW_supp_params_22 = \"../svg/PANEL_NEW_supp_params_22.svg\""
   ]
  },
  {
   "cell_type": "markdown",
   "metadata": {},
   "source": [
    "### Load experimental data"
   ]
  },
  {
   "cell_type": "code",
   "execution_count": 15,
   "metadata": {},
   "outputs": [],
   "source": [
    "prior_11 = create_prior()"
   ]
  },
  {
   "cell_type": "code",
   "execution_count": 16,
   "metadata": {},
   "outputs": [],
   "source": [
    "theta = pd.read_pickle(\n",
    "    \"../../../results/simulation_data_Tube_MLslurm_cluster/close_to_xo_circuit_parameters.pkl\"\n",
    ")\n",
    "x = pd.read_pickle(\n",
    "    \"../../../results/simulation_data_Tube_MLslurm_cluster/close_to_xo_simulation_outputs.pkl\"\n",
    ")\n",
    "seeds = np.load(\n",
    "    \"../../../results/simulation_data_Tube_MLslurm_cluster/close_to_xo_seeds.npy\"\n",
    ")\n",
    "\n",
    "theta_np = theta.to_numpy()\n",
    "x_np = x.to_numpy()"
   ]
  },
  {
   "cell_type": "markdown",
   "metadata": {},
   "source": [
    "### Simulate 10 samples and keep track of the energy consumption of each trace"
   ]
  },
  {
   "cell_type": "code",
   "execution_count": 528,
   "metadata": {},
   "outputs": [],
   "source": [
    "def simulator(p_with_s):\n",
    "    circuit_params = np.asarray([p_with_s[:-1]])\n",
    "    theta_pd = pd.DataFrame(circuit_params, columns=theta.columns)\n",
    "    out_target = simulate(\n",
    "        theta_pd.loc[0], seed=int(p_with_s[-1]), track_energy=True, track_currents=True\n",
    "    )\n",
    "    all_energies = energy_of_membrane(out_target)\n",
    "    synaptic_energies = energy_of_synapse(out_target)\n",
    "\n",
    "    summed_energy_each_current = np.sum(all_energies, axis=2)\n",
    "    summed_energy_synapses = np.sum(synaptic_energies, axis=1)\n",
    "    summed_energy_total = np.sum(all_energies) + np.sum(synaptic_energies)\n",
    "    fraction_of_each_current = summed_energy_each_current / summed_energy_total\n",
    "    fraction_of_synapse = summed_energy_synapses / summed_energy_total\n",
    "    return (fraction_of_each_current, fraction_of_synapse)"
   ]
  },
  {
   "cell_type": "code",
   "execution_count": 533,
   "metadata": {},
   "outputs": [],
   "source": [
    "# torch.manual_seed(0)\n",
    "# params_with_seeds = np.concatenate(\n",
    "#     (\n",
    "#         theta_np[:200],\n",
    "#         seeds[:200][\n",
    "#             None,\n",
    "#         ].T,\n",
    "#     ),\n",
    "#     axis=1,\n",
    "# )\n",
    "# simulation_outputs = list(map(simulator, params_with_seeds))\n",
    "simulation_outputs = np.load(\"../../../results/simulation_data_Tube_MLslurm_cluster/twohundred_predictives_individual_currents.npy\", allow_pickle=True)"
   ]
  },
  {
   "cell_type": "code",
   "execution_count": 534,
   "metadata": {},
   "outputs": [],
   "source": [
    "# np.save(\"../../../results/simulation_data_Tube_MLslurm_cluster/twohundred_predictives_individual_currents.npy\", simulation_outputs)"
   ]
  },
  {
   "cell_type": "code",
   "execution_count": 535,
   "metadata": {},
   "outputs": [],
   "source": [
    "all_e_cur = []\n",
    "all_e_syn = []\n",
    "for so in simulation_outputs:\n",
    "    e_cur, e_syn = so\n",
    "    all_e_cur.append(e_cur)\n",
    "    all_e_syn.append(e_syn)\n",
    "\n",
    "all_e_cur = np.asarray(all_e_cur)\n",
    "all_e_syn = np.asarray(all_e_syn)\n",
    "fractions = np.mean(all_e_cur, axis=0)\n",
    "synapse_fractions = np.mean(all_e_syn, axis=0)"
   ]
  },
  {
   "cell_type": "code",
   "execution_count": 536,
   "metadata": {},
   "outputs": [],
   "source": [
    "summed_energy_synapses = np.sum(all_e_syn, axis=1)"
   ]
  },
  {
   "cell_type": "code",
   "execution_count": 537,
   "metadata": {},
   "outputs": [],
   "source": [
    "summed_energy_membrane = np.sum(np.sum(all_e_cur, axis=1), axis=1)"
   ]
  },
  {
   "cell_type": "code",
   "execution_count": 538,
   "metadata": {},
   "outputs": [],
   "source": [
    "fraction_between_them = summed_energy_synapses / (summed_energy_membrane + summed_energy_synapses)"
   ]
  },
  {
   "cell_type": "code",
   "execution_count": 539,
   "metadata": {},
   "outputs": [
    {
     "name": "stdout",
     "output_type": "stream",
     "text": [
      "Fraction of energy consumed by synapses:    0.07815773482273314 %\n"
     ]
    }
   ],
   "source": [
    "print(\"Fraction of energy consumed by synapses:   \", np.mean(fraction_between_them)*100, \"%\")"
   ]
  },
  {
   "cell_type": "code",
   "execution_count": 540,
   "metadata": {},
   "outputs": [],
   "source": [
    "current_fractions = fractions.T.flatten()\n",
    "all_fractions = np.concatenate((current_fractions, synapse_fractions))\n",
    "all_fractions /= np.linalg.norm(all_fractions)"
   ]
  },
  {
   "cell_type": "markdown",
   "metadata": {},
   "source": [
    "### Sketch of active subspace"
   ]
  },
  {
   "cell_type": "code",
   "execution_count": 541,
   "metadata": {},
   "outputs": [
    {
     "data": {
      "image/png": "[encoded data removed]",
      "text/plain": [
       "<Figure size 195x130 with 2 Axes>"
      ]
     },
     "metadata": {},
     "output_type": "display_data"
    }
   ],
   "source": [
    "with mpl.rc_context(fname=\"../../../.matplotlibrc\"):\n",
    "    viz.active_subspace_sketch()\n",
    "    plt.savefig(PANEL_B_raw, facecolor='None', transparent=False)"
   ]
  },
  {
   "cell_type": "markdown",
   "metadata": {},
   "source": [
    "###  Fit regression net for total energy"
   ]
  },
  {
   "cell_type": "code",
   "execution_count": 542,
   "metadata": {},
   "outputs": [],
   "source": [
    "import sys\n",
    "sys.path.append(\"home/michael/Documents/sbi/sbi/utils/user_input_checks_utils\")"
   ]
  },
  {
   "cell_type": "code",
   "execution_count": 543,
   "metadata": {},
   "outputs": [],
   "source": [
    "import sys\n",
    "from sbi.utils import user_input_checks_utils\n",
    "\n",
    "sys.modules[\"sbi.user_input.user_input_checks_utils\"] = user_input_checks_utils"
   ]
  },
  {
   "cell_type": "code",
   "execution_count": 544,
   "metadata": {},
   "outputs": [
    {
     "name": "stderr",
     "output_type": "stream",
     "text": [
      "/home/michael/Documents/sbi/sbi/inference/posteriors/base_posterior.py:1130: UserWarning: You had saved the posterior under an older version of `sbi`. To make the loaded version comply with the version you are using right now, we had to set the following attributes: `self._device = cpu` `self._num_iid_trials = None` `self._iid_methods = ['snle', 'snre_a', 'snre_b']` `self._allow_iid_x = False` `self._sample_with = rejection`\n",
      "  warn(warning_description + warning_msg)\n"
     ]
    }
   ],
   "source": [
    "with open(\n",
    "    \"../../../results/trained_neural_nets/inference/posterior_11deg.pickle\", \"rb\"\n",
    ") as handle:\n",
    "    posterior = pickle.load(handle)\n",
    "    posterior._device = 'cpu'"
   ]
  },
  {
   "cell_type": "code",
   "execution_count": 545,
   "metadata": {},
   "outputs": [],
   "source": [
    "xo = np.load(\"../../../results/experimental_data/xo_11deg.npy\")"
   ]
  },
  {
   "cell_type": "code",
   "execution_count": 546,
   "metadata": {},
   "outputs": [],
   "source": [
    "energies = x[\"energies\"]"
   ]
  },
  {
   "cell_type": "code",
   "execution_count": 547,
   "metadata": {},
   "outputs": [],
   "source": [
    "energies_tt = torch.as_tensor(energies.to_numpy())\n",
    "x_tt = torch.as_tensor(x_np, dtype=torch.float32)"
   ]
  },
  {
   "cell_type": "code",
   "execution_count": 548,
   "metadata": {},
   "outputs": [],
   "source": [
    "num_test = 1000\n",
    "\n",
    "theta_test = torch.as_tensor(theta_np[:num_test], dtype=torch.float32)\n",
    "theta_train = torch.as_tensor(theta_np[num_test:], dtype=torch.float32)"
   ]
  },
  {
   "cell_type": "code",
   "execution_count": 549,
   "metadata": {},
   "outputs": [],
   "source": [
    "train_energy = torch.as_tensor(\n",
    "    torch.sum(energies_tt[num_test:], dim=1).unsqueeze(1), dtype=torch.float32\n",
    ")\n",
    "test_energy = torch.as_tensor(\n",
    "    torch.sum(energies_tt[:num_test], dim=1).unsqueeze(1), dtype=torch.float32\n",
    ")"
   ]
  },
  {
   "cell_type": "code",
   "execution_count": 550,
   "metadata": {},
   "outputs": [],
   "source": [
    "posterior._sample_with = \"rejection\""
   ]
  },
  {
   "cell_type": "code",
   "execution_count": 551,
   "metadata": {},
   "outputs": [],
   "source": [
    "# torch.manual_seed(0)\n",
    "# sensitivity = ActiveSubspace(posterior.set_default_x(xo))\n",
    "# converged_nn = sensitivity.add_property(\n",
    "#     theta_train, train_energy, hidden_features=20, num_blocks=1\n",
    "# ).train()\n",
    "# e_vals, e_vecs = sensitivity.find_directions()"
   ]
  },
  {
   "cell_type": "code",
   "execution_count": 552,
   "metadata": {},
   "outputs": [],
   "source": [
    "# predictions = converged_nn(theta_test).detach()"
   ]
  },
  {
   "cell_type": "code",
   "execution_count": 558,
   "metadata": {},
   "outputs": [],
   "source": [
    "# with mpl.rc_context(fname=\"../../../.matplotlibrc\"):\n",
    "#     fig, ax = plt.subplots(1, 1, figsize=(2, 1.0))\n",
    "#     unnorm_x = test_energy[:300]\n",
    "#     unnorm_y = predictions[:300]\n",
    "#     ax.scatter(x=unnorm_x.numpy()/10/1000, y=unnorm_y.numpy()/10/1000, s=3, color=\"#2b8cbe\")\n",
    "#     gt_vec = np.linspace(np.min(unnorm_x.numpy()/10/1000), np.max(unnorm_x.numpy()/10/1000), 2)\n",
    "#     ax.plot(gt_vec, gt_vec, \"#ff7f00\")\n",
    "#     ax.set_xlabel(\"Total energy ($\\mu$J/s)\")\n",
    "#     ax.set_ylabel(\"NN prediction\")\n",
    "#     plt.savefig(PANEL_supp_performance1, facecolor='None', transparent=False)"
   ]
  },
  {
   "cell_type": "code",
   "execution_count": 559,
   "metadata": {},
   "outputs": [],
   "source": [
    "# unnorm_y = predictions[:300]\n",
    "# mse = torch.mean(torch.abs(unnorm_x/10/1000 - unnorm_y/10/1000) ** 2)\n",
    "# print(\"mean squared error: \", mse)"
   ]
  },
  {
   "cell_type": "code",
   "execution_count": 560,
   "metadata": {},
   "outputs": [],
   "source": [
    "# with mpl.rc_context(fname=\"../../../.matplotlibrc\"):\n",
    "#     viz.plot_eigenvalues(\n",
    "#         torch.abs(torch.flip(e_vals, dims=(0,))),\n",
    "#         figsize=(2.0, 1.0),\n",
    "#         ylabel=\"log(E.-value)\",\n",
    "#         color=\"k\",\n",
    "#         title=\"Total energy\"\n",
    "#     )\n",
    "#     plt.savefig(PANEL_supp_EV1, facecolor=\"None\", transparent=False)\n",
    "#     plt.show()"
   ]
  },
  {
   "cell_type": "code",
   "execution_count": 561,
   "metadata": {},
   "outputs": [],
   "source": [
    "# print(\"Ratio of first two eigenvalues:  \", e_vals[-1] / e_vals[-2])"
   ]
  },
  {
   "cell_type": "code",
   "execution_count": 562,
   "metadata": {},
   "outputs": [],
   "source": [
    "# print(\"Fraction of first to total: \", e_vals[-1] / torch.sum(e_vals))"
   ]
  },
  {
   "cell_type": "code",
   "execution_count": 563,
   "metadata": {},
   "outputs": [],
   "source": [
    "# with mpl.rc_context(fname=\"../../../.matplotlibrc\"):\n",
    "#     viz.py_sensitivity_bars_cosyne(\n",
    "#         e_vecs[:, -1].T,\n",
    "#         ylim=[-1, 1.0],\n",
    "#         figsize=(2.85, 1.2),\n",
    "#         ylabel='Active dir.',\n",
    "#         plot_labels=True,\n",
    "#         title='Total energy',\n",
    "#         yticks=[-1, 0, 1]\n",
    "#     )\n",
    "#     plt.savefig(PANEL_C, facecolor=\"None\", transparent=False)\n",
    "#     plt.show()"
   ]
  },
  {
   "cell_type": "code",
   "execution_count": 564,
   "metadata": {},
   "outputs": [],
   "source": [
    "# with mpl.rc_context(fname=\"../../../.matplotlibrc\"):\n",
    "#     viz.synapse_sensitivity_bars(\n",
    "#         deepcopy(e_vecs[24:, -1:].T), ylim=[-0.3, 0.6], figsize=(1.8, 1.0), ylabel=\"Active dir.\", color=\"k\", title='Total energy'\n",
    "#     )\n",
    "#     plt.savefig(PANEL_supp_synapses1, facecolor=\"None\", transparent=False)\n",
    "#     plt.show()"
   ]
  },
  {
   "cell_type": "markdown",
   "metadata": {},
   "source": [
    "### Linear regression"
   ]
  },
  {
   "cell_type": "code",
   "execution_count": 664,
   "metadata": {},
   "outputs": [],
   "source": [
    "num_test = 500\n",
    "\n",
    "test_params = theta_np[:num_test]\n",
    "train_params = theta_np[num_test:]\n",
    "mean_params = np.mean(train_params, axis=0)\n",
    "std_params = np.std(train_params, axis=0)\n",
    "\n",
    "train_params_norm = (train_params - mean_params) / std_params\n",
    "test_params_norm = (test_params - mean_params) / std_params"
   ]
  },
  {
   "cell_type": "code",
   "execution_count": 665,
   "metadata": {},
   "outputs": [],
   "source": [
    "train_energy_ABPD = torch.sum(torch.as_tensor(energies.to_numpy())[num_test:], dim=1).unsqueeze(1)\n",
    "test_energy_ABPD = torch.sum(torch.as_tensor(energies.to_numpy())[:num_test], dim=1).unsqueeze(1)\n",
    "mean_energy = torch.mean(train_energy_ABPD)\n",
    "std_energy = torch.std(train_energy_ABPD)\n",
    "train_energy_ABPD_norm = (train_energy_ABPD - mean_energy) / std_energy\n",
    "test_energy_ABPD_norm = (test_energy_ABPD - mean_energy) / std_energy\n",
    "\n",
    "regressor = LinearRegression()\n",
    "fitted_reg = regressor.fit(train_params_norm, train_energy_ABPD_norm)\n",
    "predictions = fitted_reg.predict(test_params_norm)\n",
    "coeff = np.asarray([fitted_reg.coef_[0]])\n",
    "coeff = coeff / np.linalg.norm(coeff)"
   ]
  },
  {
   "cell_type": "code",
   "execution_count": 666,
   "metadata": {},
   "outputs": [
    {
     "data": {
      "image/png": "[encoded data removed]",
      "text/plain": [
       "<Figure size 285x120 with 1 Axes>"
      ]
     },
     "metadata": {},
     "output_type": "display_data"
    }
   ],
   "source": [
    "with mpl.rc_context(fname=\"../../../.matplotlibrc\"):\n",
    "    viz.py_sensitivity_bars_cosyne(\n",
    "        torch.as_tensor(coeff)[0],\n",
    "        ylim=[-1, 1.0],\n",
    "        figsize=(2.85, 1.2),\n",
    "        ylabel='Weights w',\n",
    "        plot_labels=True,\n",
    "        title='Total energy',\n",
    "        yticks=[-1, 0, 1]\n",
    "    )\n",
    "    plt.savefig(PANEL_C, facecolor=\"None\", transparent=False)\n",
    "    plt.show()"
   ]
  },
  {
   "cell_type": "code",
   "execution_count": 821,
   "metadata": {},
   "outputs": [
    {
     "data": {
      "image/png": "[encoded data removed]",
      "text/plain": [
       "<Figure size 180x100 with 1 Axes>"
      ]
     },
     "metadata": {},
     "output_type": "display_data"
    }
   ],
   "source": [
    "with mpl.rc_context(fname=\"../../../.matplotlibrc\"):\n",
    "    viz.synapse_sensitivity_bars(\n",
    "        deepcopy(torch.as_tensor(coeff))[:, -7:], ylim=[-0.3, 0.6], figsize=(1.8, 1.0), ylabel=\"Weights w\", color=\"k\", title='Total energy'\n",
    "    )\n",
    "    plt.savefig(PANEL_supp_synapses1, facecolor=\"None\", transparent=False)\n",
    "    plt.show()"
   ]
  },
  {
   "cell_type": "code",
   "execution_count": 670,
   "metadata": {},
   "outputs": [
    {
     "data": {
      "image/png": "[encoded data removed]",
      "text/plain": [
       "<Figure size 200x100 with 1 Axes>"
      ]
     },
     "metadata": {},
     "output_type": "display_data"
    }
   ],
   "source": [
    "with mpl.rc_context(fname=\"../../../.matplotlibrc\"):\n",
    "    fig, ax = plt.subplots(1, 1, figsize=(2, 1.0))\n",
    "    unnorm_x = test_energy_ABPD_norm[:300] * std_energy + mean_energy\n",
    "    unnorm_y = predictions[:300] * std_energy.numpy() + mean_energy.numpy()\n",
    "    ax.scatter(x=unnorm_x.numpy()/10/1000, y=unnorm_y/10/1000, s=3, color=\"#2b8cbe\")\n",
    "    gt_vec = np.linspace(np.min(unnorm_x.numpy())/10/1000, np.max(unnorm_x.numpy())/10/1000, 2)\n",
    "    ax.plot(gt_vec, gt_vec, \"#ff7f00\")\n",
    "    ax.set_xlabel(\"Total energy ($\\mu$J/s)\")\n",
    "    ax.set_ylabel(\"Lin. Reg.\\nprediction\")\n",
    "    plt.savefig(PANEL_supp_performance1, facecolor='None', transparent=False)"
   ]
  },
  {
   "cell_type": "markdown",
   "metadata": {},
   "source": [
    "### Variance reduction plot"
   ]
  },
  {
   "cell_type": "code",
   "execution_count": 671,
   "metadata": {},
   "outputs": [],
   "source": [
    "summed_energies = np.sum(x['energies'].to_numpy(), axis=1) / 10 / 1000"
   ]
  },
  {
   "cell_type": "code",
   "execution_count": 672,
   "metadata": {},
   "outputs": [],
   "source": [
    "inds = np.argsort(summed_energies)"
   ]
  },
  {
   "cell_type": "code",
   "execution_count": 673,
   "metadata": {},
   "outputs": [],
   "source": [
    "sorted_energies = summed_energies[inds]\n",
    "num_vals = sorted_energies.shape[0]\n",
    "quantile = 0.02\n",
    "one_percent_quantile = int(num_vals * quantile)\n",
    "ninenine_percent_quantile = int(num_vals * (1-quantile))\n",
    "one_percent_energy = sorted_energies[one_percent_quantile]\n",
    "ninenine_percent_energy = sorted_energies[ninenine_percent_quantile]"
   ]
  },
  {
   "cell_type": "code",
   "execution_count": 674,
   "metadata": {},
   "outputs": [],
   "source": [
    "min_energy_condition = summed_energies < one_percent_energy\n",
    "max_energy_condition = summed_energies > ninenine_percent_energy"
   ]
  },
  {
   "cell_type": "code",
   "execution_count": 675,
   "metadata": {},
   "outputs": [],
   "source": [
    "min_energy_theta = theta_np[min_energy_condition]\n",
    "max_energy_theta = theta_np[max_energy_condition]\n",
    "\n",
    "min_energy_energies = summed_energies[min_energy_condition]\n",
    "max_energy_energies = summed_energies[max_energy_condition]"
   ]
  },
  {
   "cell_type": "code",
   "execution_count": 676,
   "metadata": {},
   "outputs": [],
   "source": [
    "from sbi.analysis import pairplot"
   ]
  },
  {
   "cell_type": "code",
   "execution_count": 677,
   "metadata": {},
   "outputs": [],
   "source": [
    "from pyloric import create_prior"
   ]
  },
  {
   "cell_type": "code",
   "execution_count": 678,
   "metadata": {},
   "outputs": [],
   "source": [
    "prior = create_prior(as_torch_dist=True)\n",
    "lower_b = prior.support.base_constraint.lower_bound.unsqueeze(0)\n",
    "upper_b = prior.support.base_constraint.upper_bound.unsqueeze(0)\n",
    "limits = torch.cat((lower_b, upper_b), dim=0).T"
   ]
  },
  {
   "cell_type": "code",
   "execution_count": 679,
   "metadata": {},
   "outputs": [
    {
     "data": {
      "image/png": "[encoded data removed]",
      "text/plain": [
       "<Figure size 120x100 with 1 Axes>"
      ]
     },
     "metadata": {},
     "output_type": "display_data"
    }
   ],
   "source": [
    "with mpl.rc_context(fname=\"../../../.matplotlibrc\"):\n",
    "    fig, ax = plt.subplots(1,1, figsize=(1.2, 1.0))\n",
    "    vals, xvals = np.histogram(summed_energies, bins=100, range=[0, 30])\n",
    "    val_dist = xvals[1] - xvals[0]\n",
    "    ax.plot(xvals[1:] - val_dist/2, vals, c='k')\n",
    "    _ = ax.hist(min_energy_energies, bins=100, range=[0, 30], color='#fd8d3c')\n",
    "    _ = ax.hist(max_energy_energies, bins=100, range=[0, 30], color='#bd0026')\n",
    "    ax.set_xlabel(\"Energy ($\\mu$J/s)\")\n",
    "    ax.set_ylabel(\"Count\")\n",
    "    ax.set_xlim([0, 30])\n",
    "    ax.set_xticks([0, 30])\n",
    "    plt.savefig(PANEL_supp_shift1, facecolor=\"None\", transparent=False)"
   ]
  },
  {
   "cell_type": "code",
   "execution_count": 680,
   "metadata": {},
   "outputs": [],
   "source": [
    "std_of_min_energy = np.std(min_energy_theta, axis=0)\n",
    "std_of_all_samples = np.std(theta_np, axis=0)"
   ]
  },
  {
   "cell_type": "code",
   "execution_count": 681,
   "metadata": {},
   "outputs": [],
   "source": [
    "stds_fraction = std_of_min_energy / std_of_all_samples"
   ]
  },
  {
   "cell_type": "code",
   "execution_count": 682,
   "metadata": {},
   "outputs": [
    {
     "name": "stdout",
     "output_type": "stream",
     "text": [
      "[0.8037193  0.8464843  0.9300234  0.95980245 0.99449205 0.94929683\n",
      " 1.0431094  1.0038784 ]\n",
      "[1.044511   0.9603026  0.86817485 1.0000968  0.9569214  0.93456495\n",
      " 1.020405   1.0002675 ]\n",
      "[0.6696571  0.554467   0.8713912  0.9851734  0.902615   0.99208903\n",
      " 0.9757338  0.8798166 ]\n",
      "[0.91078734 0.9658037  0.90537155 1.1536438  0.93125415 0.9684211\n",
      " 1.1299083 ]\n"
     ]
    }
   ],
   "source": [
    "print(stds_fraction[:8])\n",
    "print(stds_fraction[8:16])\n",
    "print(stds_fraction[16:24])\n",
    "print(stds_fraction[24:])"
   ]
  },
  {
   "cell_type": "code",
   "execution_count": 683,
   "metadata": {},
   "outputs": [
    {
     "data": {
      "image/png": "[encoded data removed]",
      "text/plain": [
       "<Figure size 285x90 with 1 Axes>"
      ]
     },
     "metadata": {},
     "output_type": "display_data"
    }
   ],
   "source": [
    "with mpl.rc_context(fname=\"../../../.matplotlibrc\"):\n",
    "    viz.py_sensitivity_bars_cosyne(\n",
    "        1.0 - deepcopy(torch.as_tensor(stds_fraction)),\n",
    "        ylim=[0.0, 1.0],\n",
    "        figsize=(2.85, 0.9),\n",
    "        ylabel=\"\",\n",
    "        title='Reduction of std. dev.',\n",
    "        title_x_offset=-0.75,\n",
    "        title_y_offset=0.1\n",
    "    )\n",
    "    plt.savefig(PANEL_supp_shift7, facecolor=\"None\", transparent=False)\n",
    "    plt.show()"
   ]
  },
  {
   "cell_type": "code",
   "execution_count": 684,
   "metadata": {},
   "outputs": [],
   "source": [
    "from stg_energy.common import get_labels_8pt"
   ]
  },
  {
   "cell_type": "code",
   "execution_count": 685,
   "metadata": {},
   "outputs": [],
   "source": [
    "labels_ = get_labels_8pt()"
   ]
  },
  {
   "cell_type": "code",
   "execution_count": 686,
   "metadata": {},
   "outputs": [
    {
     "data": {
      "image/png": "[encoded data removed]",
      "text/plain": [
       "<Figure size 120x100 with 1 Axes>"
      ]
     },
     "metadata": {},
     "output_type": "display_data"
    }
   ],
   "source": [
    "with mpl.rc_context(fname=\"../../../.matplotlibrc\"):\n",
    "    fig, ax = plt.subplots(1,1, figsize=(1.2, 1.0))\n",
    "    ind=0\n",
    "    vals, xvals = np.histogram(min_energy_theta[:, ind], bins=30)\n",
    "    val_dist = xvals[1] - xvals[0]\n",
    "    ax.plot(xvals[1:] - val_dist/2, vals, color='#fd8d3c')\n",
    "    vals, xvals = np.histogram(max_energy_theta[:, ind], bins=30)\n",
    "    ax.plot(xvals[1:], vals, color='#bd0026')\n",
    "    ax.set_xlabel(labels_[ind])\n",
    "    ax.set_ylabel(\"Count\")\n",
    "    ax.set_xlim(limits[ind])\n",
    "    ax.set_xticks(limits[ind])\n",
    "    ax.set_ylim(bottom=0)\n",
    "    plt.savefig(PANEL_supp_shift2, facecolor=\"None\", transparent=False)"
   ]
  },
  {
   "cell_type": "code",
   "execution_count": 687,
   "metadata": {},
   "outputs": [
    {
     "data": {
      "image/png": "[encoded data removed]",
      "text/plain": [
       "<Figure size 120x100 with 1 Axes>"
      ]
     },
     "metadata": {},
     "output_type": "display_data"
    }
   ],
   "source": [
    "with mpl.rc_context(fname=\"../../../.matplotlibrc\"):\n",
    "    fig, ax = plt.subplots(1,1, figsize=(1.2, 1.0))\n",
    "    ind = 17\n",
    "    vals, xvals = np.histogram(min_energy_theta[:, ind], bins=30)\n",
    "    val_dist = xvals[1] - xvals[0]\n",
    "    ax.plot(xvals[1:] - val_dist/2, vals, color='#fd8d3c')\n",
    "    vals, xvals = np.histogram(max_energy_theta[:, ind], bins=30)\n",
    "    ax.plot(xvals[1:], vals, color='#bd0026')\n",
    "    ax.set_xlabel(labels_[ind])\n",
    "    ax.set_xlim(limits[ind])\n",
    "    ax.set_xticks(limits[ind])\n",
    "    ax.set_ylim(bottom=0)\n",
    "    plt.savefig(PANEL_supp_shift3, facecolor=\"None\", transparent=False)"
   ]
  },
  {
   "cell_type": "code",
   "execution_count": 688,
   "metadata": {},
   "outputs": [
    {
     "data": {
      "image/png": "[encoded data removed]",
      "text/plain": [
       "<Figure size 120x100 with 1 Axes>"
      ]
     },
     "metadata": {},
     "output_type": "display_data"
    }
   ],
   "source": [
    "with mpl.rc_context(fname=\"../../../.matplotlibrc\"):\n",
    "    fig, ax = plt.subplots(1,1, figsize=(1.2, 1.0))\n",
    "    ind = 5\n",
    "    vals, xvals = np.histogram(min_energy_theta[:, ind], bins=30)\n",
    "    val_dist = xvals[1] - xvals[0]\n",
    "    ax.plot(xvals[1:] - val_dist/2, vals, color='#fd8d3c')\n",
    "    vals, xvals = np.histogram(max_energy_theta[:, ind], bins=30)\n",
    "    ax.plot(xvals[1:], vals, color='#bd0026')\n",
    "    ax.set_xlabel(labels_[ind])\n",
    "    ax.set_xlim(limits[ind])\n",
    "    ax.set_xticks(limits[ind])\n",
    "    ax.set_ylim(bottom=0)\n",
    "    plt.savefig(PANEL_supp_shift4, facecolor=\"None\", transparent=False)"
   ]
  },
  {
   "cell_type": "code",
   "execution_count": 689,
   "metadata": {},
   "outputs": [
    {
     "data": {
      "image/png": "[encoded data removed]",
      "text/plain": [
       "<Figure size 120x100 with 1 Axes>"
      ]
     },
     "metadata": {},
     "output_type": "display_data"
    }
   ],
   "source": [
    "with mpl.rc_context(fname=\"../../../.matplotlibrc\"):\n",
    "    fig, ax = plt.subplots(1,1, figsize=(1.2, 1.0))\n",
    "    ind = 14\n",
    "    vals, xvals = np.histogram(min_energy_theta[:, ind], bins=30)\n",
    "    val_dist = xvals[1] - xvals[0]\n",
    "    ax.plot(xvals[1:] - val_dist/2, vals, color='#fd8d3c')\n",
    "    vals, xvals = np.histogram(max_energy_theta[:, ind], bins=30)\n",
    "    ax.plot(xvals[1:], vals, color='#bd0026')\n",
    "    ax.set_xlabel(labels_[ind])\n",
    "    ax.set_xlim(limits[ind])\n",
    "    ax.set_xticks(limits[ind])\n",
    "    ax.set_ylim(bottom=0)\n",
    "    plt.savefig(PANEL_supp_shift5, facecolor=\"None\", transparent=False)"
   ]
  },
  {
   "cell_type": "code",
   "execution_count": 690,
   "metadata": {},
   "outputs": [],
   "source": [
    "min_means = np.mean(min_energy_theta, axis=0)\n",
    "max_means = np.mean(max_energy_theta, axis=0)\n",
    "prior_std = prior.stddev"
   ]
  },
  {
   "cell_type": "code",
   "execution_count": 691,
   "metadata": {},
   "outputs": [],
   "source": [
    "mean_shifts = max_means - min_means"
   ]
  },
  {
   "cell_type": "code",
   "execution_count": 692,
   "metadata": {},
   "outputs": [],
   "source": [
    "mean_shifts_norm = mean_shifts / prior_std"
   ]
  },
  {
   "cell_type": "code",
   "execution_count": 693,
   "metadata": {},
   "outputs": [],
   "source": [
    "mean_shifts_norm = mean_shifts_norm / np.linalg.norm(mean_shifts_norm)"
   ]
  },
  {
   "cell_type": "code",
   "execution_count": 694,
   "metadata": {},
   "outputs": [
    {
     "data": {
      "image/png": "[encoded data removed]",
      "text/plain": [
       "<Figure size 285x90 with 1 Axes>"
      ]
     },
     "metadata": {},
     "output_type": "display_data"
    }
   ],
   "source": [
    "with mpl.rc_context(fname=\"../../../.matplotlibrc\"):\n",
    "    viz.py_sensitivity_bars_cosyne(\n",
    "        deepcopy(mean_shifts_norm),\n",
    "        ylim=[-1, 1.0],\n",
    "        figsize=(2.85, 0.9),\n",
    "        ylabel=\"\",\n",
    "        title='Mean-shift of marginal',\n",
    "        title_x_offset=-1.0,\n",
    "    )\n",
    "    plt.savefig(PANEL_supp_shift6, facecolor=\"None\", transparent=False)\n",
    "    plt.show()"
   ]
  },
  {
   "cell_type": "markdown",
   "metadata": {},
   "source": [
    "## Which parameters affect energy, which parameters influence energy?"
   ]
  },
  {
   "cell_type": "code",
   "execution_count": 695,
   "metadata": {},
   "outputs": [
    {
     "data": {
      "image/png": "[encoded data removed]",
      "text/plain": [
       "<Figure size 175x175 with 1 Axes>"
      ]
     },
     "metadata": {},
     "output_type": "display_data"
    }
   ],
   "source": [
    "eigenvector = coeff[0]\n",
    "\n",
    "with mpl.rc_context(fname=\"../../../.matplotlibrc\"):\n",
    "    viz.scatter_sensitivity_consumption(all_fractions, eigenvector)\n",
    "    plt.savefig(PANEL_D, facecolor=\"None\", transparent=False)"
   ]
  },
  {
   "cell_type": "markdown",
   "metadata": {},
   "source": [
    "# Energy per spike"
   ]
  },
  {
   "cell_type": "code",
   "execution_count": 696,
   "metadata": {},
   "outputs": [],
   "source": [
    "# all_energies_per_spike_ABPD = x[\"energies_per_spike\"][\"PM\"].to_numpy()\n",
    "# all_energies_per_spike_ABPD_test = torch.as_tensor(\n",
    "#     all_energies_per_spike_ABPD[:num_test], dtype=torch.float32\n",
    "# ).unsqueeze(1)\n",
    "# all_energies_per_spike_ABPD_train = torch.as_tensor(\n",
    "#     all_energies_per_spike_ABPD[num_test:], dtype=torch.float32\n",
    "# ).unsqueeze(1)"
   ]
  },
  {
   "cell_type": "code",
   "execution_count": 697,
   "metadata": {},
   "outputs": [],
   "source": [
    "# torch.manual_seed(0)\n",
    "\n",
    "# sensitivity_e_per_spike = ActiveSubspace(posterior.set_default_x(xo))\n",
    "# converged_nn_e_per_spike = sensitivity_e_per_spike.add_property(\n",
    "#     theta_train, all_energies_per_spike_ABPD_train, hidden_features=20, num_blocks=1\n",
    "# ).train()\n",
    "# predictions = converged_nn_e_per_spike(theta_test).detach().numpy()\n",
    "# e_vals_e_per_spike, e_vecs_e_per_spike = sensitivity_e_per_spike.find_directions()"
   ]
  },
  {
   "cell_type": "code",
   "execution_count": 698,
   "metadata": {},
   "outputs": [],
   "source": [
    "# with mpl.rc_context(fname=\"../../../.matplotlibrc\"):\n",
    "#     fig, ax = plt.subplots(1, 1, figsize=(2, 1.0))\n",
    "#     unnorm_x = all_energies_per_spike_ABPD_test[:300].numpy()/1000\n",
    "#     unnorm_y = predictions[:300]/1000\n",
    "#     ax.scatter(x=unnorm_x, y=unnorm_y, s=3, color=\"#2b8cbe\")\n",
    "#     gt_vec = np.linspace(np.min(unnorm_x), np.max(unnorm_x), 2)\n",
    "#     ax.plot(gt_vec, gt_vec, \"#ff7f00\")\n",
    "#     ax.set_xlabel(\"Energy / spike (AB/PD) ($\\mu$J/s)\")\n",
    "#     ax.set_ylabel(\"NN prediction\")\n",
    "#     plt.savefig(PANEL_supp_performance2, facecolor='None', transparent=False)"
   ]
  },
  {
   "cell_type": "code",
   "execution_count": 699,
   "metadata": {},
   "outputs": [],
   "source": [
    "# with mpl.rc_context(fname=\"../../../.matplotlibrc\"):\n",
    "#     viz.plot_eigenvalues(\n",
    "#         torch.flip(torch.abs(e_vals_e_per_spike), dims=(0,)),\n",
    "#         figsize=(1.8, 1.0),\n",
    "#         ylabel=\"log(E.-value)\",\n",
    "#         color=\"k\",\n",
    "#         title=\"E / spike\\n(AB/PD)\"\n",
    "#     )\n",
    "#     print(\n",
    "#         \"Ratio of first to second eigenvalue: \",\n",
    "#         e_vals_e_per_spike[-1] / e_vals_e_per_spike[-2],\n",
    "#     )\n",
    "#     plt.savefig(PANEL_supp_EV2, facecolor=\"None\", transparent=False)\n",
    "#     plt.show()"
   ]
  },
  {
   "cell_type": "code",
   "execution_count": 776,
   "metadata": {},
   "outputs": [],
   "source": [
    "# print(\"Fraction of first to total: \", e_vals_e_per_spike[-1] / torch.sum(e_vals_e_per_spike))"
   ]
  },
  {
   "cell_type": "code",
   "execution_count": 777,
   "metadata": {},
   "outputs": [],
   "source": [
    "# with mpl.rc_context(fname=\"../../../.matplotlibrc\"):\n",
    "#     viz.py_sensitivity_bars_cosyne(\n",
    "#         deepcopy(e_vecs_e_per_spike[:, -1].T),\n",
    "#         ylim=[-1, 1.0],\n",
    "#         figsize=(2.85, 0.9),\n",
    "#         ylabel=\"Active dir.\",\n",
    "#         plot_labels=False,\n",
    "#         legend=False,\n",
    "#         title='E / spike (AB/PD)',\n",
    "#         title_x_offset=-0.6,\n",
    "#     )\n",
    "#     plt.savefig(PANEL_E1, facecolor=\"None\", transparent=True)\n",
    "#     plt.show()"
   ]
  },
  {
   "cell_type": "code",
   "execution_count": 778,
   "metadata": {},
   "outputs": [],
   "source": [
    "# with mpl.rc_context(fname=\"../../../.matplotlibrc\"):\n",
    "#     viz.synapse_sensitivity_bars(\n",
    "#         e_vecs_e_per_spike[24:, -1:].T, ylim=[-0.3, 0.6], figsize=(1.8, 1.0), ylabel=\"\", color=\"k\", title=\"E / spike\\n(AB/PD)\"\n",
    "#     )\n",
    "#     plt.savefig(PANEL_supp_synapses2, facecolor=\"None\", transparent=False)\n",
    "#     plt.show()"
   ]
  },
  {
   "cell_type": "markdown",
   "metadata": {},
   "source": [
    "### Linear regression"
   ]
  },
  {
   "cell_type": "code",
   "execution_count": 823,
   "metadata": {},
   "outputs": [],
   "source": [
    "all_energies_per_spike_ABPD = x[\"energies_per_spike\"][\"PY\"].to_numpy() / 1000"
   ]
  },
  {
   "cell_type": "code",
   "execution_count": 824,
   "metadata": {},
   "outputs": [],
   "source": [
    "all_e_per_spike_ABPD = torch.as_tensor(all_energies_per_spike_ABPD)\n",
    "train_energy_ABPD = all_e_per_spike_ABPD[num_test:].unsqueeze(1)\n",
    "test_energy_ABPD = all_e_per_spike_ABPD[:num_test].unsqueeze(1)\n",
    "mean_energy = torch.mean(train_energy_ABPD)\n",
    "std_energy = torch.std(train_energy_ABPD)\n",
    "train_energy_ABPD_norm = (train_energy_ABPD - mean_energy) / std_energy\n",
    "test_energy_ABPD_norm = (test_energy_ABPD - mean_energy) / std_energy\n",
    "\n",
    "regressor = LinearRegression()\n",
    "fitted_reg = regressor.fit(train_params_norm, train_energy_ABPD_norm)\n",
    "predictions = fitted_reg.predict(test_params_norm)\n",
    "coeff = np.asarray([fitted_reg.coef_[0]])\n",
    "coeff = coeff / np.linalg.norm(coeff)"
   ]
  },
  {
   "cell_type": "code",
   "execution_count": 825,
   "metadata": {},
   "outputs": [
    {
     "data": {
      "image/png": "[encoded data removed]",
      "text/plain": [
       "<Figure size 285x90 with 1 Axes>"
      ]
     },
     "metadata": {},
     "output_type": "display_data"
    }
   ],
   "source": [
    "with mpl.rc_context(fname=\"../../../.matplotlibrc\"):\n",
    "    viz.py_sensitivity_bars_cosyne(\n",
    "        torch.as_tensor(coeff)[0],\n",
    "        ylim=[-1, 1.0],\n",
    "        figsize=(2.85, 0.9),\n",
    "        ylabel=\"Weights w\",\n",
    "        plot_labels=False,\n",
    "        legend=False,\n",
    "        title='E / spike (PY)',\n",
    "        title_x_offset=0,\n",
    "    )\n",
    "    plt.savefig(PANEL_E1, facecolor=\"None\", transparent=True)\n",
    "    plt.show()"
   ]
  },
  {
   "cell_type": "code",
   "execution_count": 826,
   "metadata": {},
   "outputs": [
    {
     "data": {
      "image/png": "[encoded data removed]",
      "text/plain": [
       "<Figure size 180x100 with 1 Axes>"
      ]
     },
     "metadata": {},
     "output_type": "display_data"
    }
   ],
   "source": [
    "with mpl.rc_context(fname=\"../../../.matplotlibrc\"):\n",
    "    viz.synapse_sensitivity_bars(\n",
    "        deepcopy(torch.as_tensor(coeff))[:, -7:], ylim=[-0.3, 0.6], figsize=(1.8, 1.0), ylabel=\"\", color=\"k\", title=\"E / spike\\n(AB/PD)\"\n",
    "    )\n",
    "    plt.savefig(PANEL_supp_synapses2, facecolor=\"None\", transparent=False)\n",
    "    plt.show()"
   ]
  },
  {
   "cell_type": "code",
   "execution_count": 827,
   "metadata": {},
   "outputs": [
    {
     "data": {
      "image/png": "[encoded data removed]",
      "text/plain": [
       "<Figure size 200x100 with 1 Axes>"
      ]
     },
     "metadata": {},
     "output_type": "display_data"
    }
   ],
   "source": [
    "with mpl.rc_context(fname=\"../../../.matplotlibrc\"):\n",
    "    fig, ax = plt.subplots(1, 1, figsize=(2, 1.0))\n",
    "    unnorm_x = test_energy_ABPD_norm[:300].numpy() * std_energy.numpy() + mean_energy.numpy()\n",
    "    unnorm_y = predictions[:300] * std_energy.numpy() + mean_energy.numpy()\n",
    "    ax.scatter(x=unnorm_x, y=unnorm_y, s=3, color=\"#2b8cbe\")\n",
    "    gt_vec = np.linspace(np.min(unnorm_x), np.max(unnorm_x), 2)\n",
    "    ax.plot(gt_vec, gt_vec, \"#ff7f00\")\n",
    "    ax.set_xlabel(\"Energy / spike (AB/PD) ($\\mu$J/s)\")\n",
    "    ax.set_ylabel(\"Lin. Reg.\\nprediction\")\n",
    "    plt.savefig(PANEL_supp_performance2, facecolor='None', transparent=False)"
   ]
  },
  {
   "cell_type": "markdown",
   "metadata": {},
   "source": [
    "## Number of spikes"
   ]
  },
  {
   "cell_type": "code",
   "execution_count": 828,
   "metadata": {},
   "outputs": [],
   "source": [
    "# numSpikesPerBurst = x[\"num_spikes\"][\"PM\"].to_numpy() / x[\"num_bursts\"][\"PM\"].to_numpy()\n",
    "# numSpikesPerBurst_test = torch.as_tensor(\n",
    "#     numSpikesPerBurst[:num_test], dtype=torch.float32\n",
    "# ).unsqueeze(1)\n",
    "# numSpikesPerBurst_train = torch.as_tensor(\n",
    "#     numSpikesPerBurst[num_test:], dtype=torch.float32\n",
    "# ).unsqueeze(1)"
   ]
  },
  {
   "cell_type": "code",
   "execution_count": 829,
   "metadata": {},
   "outputs": [],
   "source": [
    "# torch.manual_seed(0)\n",
    "\n",
    "# sensitivity_num_spikes = ActiveSubspace(posterior.set_default_x(xo))\n",
    "# converged_nn_num_spikes = sensitivity_num_spikes.add_property(\n",
    "#     theta_train,\n",
    "#     numSpikesPerBurst_train,\n",
    "#     hidden_features=20,\n",
    "#     num_blocks=1\n",
    "# ).train()\n",
    "# e_vals_num_spikes, e_vecs_num_spikes = sensitivity_num_spikes.find_directions()"
   ]
  },
  {
   "cell_type": "code",
   "execution_count": 830,
   "metadata": {},
   "outputs": [],
   "source": [
    "# predictions = converged_nn_num_spikes(theta_test).detach().numpy()"
   ]
  },
  {
   "cell_type": "code",
   "execution_count": 831,
   "metadata": {},
   "outputs": [],
   "source": [
    "# with mpl.rc_context(fname=\"../../../.matplotlibrc\"):\n",
    "#     fig, ax = plt.subplots(1, 1, figsize=(2, 1.0))\n",
    "#     unnorm_x = numSpikesPerBurst_test[:300].numpy()\n",
    "#     unnorm_y = predictions[:300]\n",
    "#     ax.scatter(x=unnorm_x, y=unnorm_y, s=3, color=\"#2b8cbe\")\n",
    "#     gt_vec = np.linspace(np.min(unnorm_x), np.max(unnorm_x), 2)\n",
    "#     ax.plot(gt_vec, gt_vec, \"#ff7f00\")\n",
    "#     ax.set_xlabel(\"Spikes per burst (AB/PD)\")\n",
    "#     ax.set_ylabel(\"NN prediction\")\n",
    "#     plt.savefig(PANEL_supp_performance3, facecolor='None', transparent=False)"
   ]
  },
  {
   "cell_type": "code",
   "execution_count": 832,
   "metadata": {},
   "outputs": [],
   "source": [
    "# with mpl.rc_context(fname=\"../../../.matplotlibrc\"):\n",
    "#     viz.plot_eigenvalues(\n",
    "#         torch.flip(torch.abs(e_vals_num_spikes), dims=(0,)),\n",
    "#         figsize=(1.8, 1.0),\n",
    "#         ylabel=\"log(E.-value)\",\n",
    "#         color=\"k\",\n",
    "#         title=\"Spikes per burst\\n(AB/PD)\"\n",
    "#     )\n",
    "#     print(\n",
    "#         \"Ratio of first to second eigenvalue: \",\n",
    "#         e_vals_num_spikes[-1] / e_vals_num_spikes[-2],\n",
    "#     )\n",
    "#     plt.savefig(PANEL_supp_EV3, facecolor=\"None\", transparent=False)\n",
    "#     plt.show()"
   ]
  },
  {
   "cell_type": "code",
   "execution_count": 833,
   "metadata": {},
   "outputs": [],
   "source": [
    "# print(\"Fraction of first to total: \", e_vals_num_spikes[-1] / torch.sum(e_vals_num_spikes))"
   ]
  },
  {
   "cell_type": "code",
   "execution_count": 834,
   "metadata": {},
   "outputs": [],
   "source": [
    "# with mpl.rc_context(fname=\"../../../.matplotlibrc\"):\n",
    "#     viz.py_sensitivity_bars_cosyne(\n",
    "#         e_vecs_num_spikes[:, -1].T,\n",
    "#         ylim=[-1, 1.0],\n",
    "#         figsize=(2.85, 0.9),\n",
    "#         ylabel=\"Active dir.\",\n",
    "#         plot_labels=True,\n",
    "#         legend=True,\n",
    "#         legend_y_offset=0.3,\n",
    "#         title='#spikes (AB/PD)',\n",
    "#         title_x_offset=-0.5,\n",
    "#         yticks=[-1, 0, 1]\n",
    "#     )\n",
    "#     plt.savefig(PANEL_E2, facecolor=\"None\", transparent=True)\n",
    "#     plt.show()"
   ]
  },
  {
   "cell_type": "code",
   "execution_count": 835,
   "metadata": {},
   "outputs": [],
   "source": [
    "# with mpl.rc_context(fname=\"../../../.matplotlibrc\"):\n",
    "#     viz.synapse_sensitivity_bars(\n",
    "#         e_vecs_num_spikes[24:, -1:].T, ylim=[-0.3, 0.6], figsize=(1.8, 1.0), ylabel=\"\", color=\"k\", title=\"Spikes per burst\\n(AB/PD)\"\n",
    "#     )\n",
    "#     plt.savefig(PANEL_supp_synapses3, facecolor=\"None\", transparent=False)\n",
    "#     plt.show()"
   ]
  },
  {
   "cell_type": "markdown",
   "metadata": {},
   "source": [
    "### Linear regression"
   ]
  },
  {
   "cell_type": "code",
   "execution_count": 836,
   "metadata": {},
   "outputs": [],
   "source": [
    "numSpikesPerBurst = x[\"num_spikes\"][\"PY\"].to_numpy() / x[\"num_bursts\"][\"PY\"].to_numpy()"
   ]
  },
  {
   "cell_type": "code",
   "execution_count": 837,
   "metadata": {},
   "outputs": [],
   "source": [
    "numSpikesPerBurst = torch.as_tensor(numSpikesPerBurst)\n",
    "train_energy_ABPD = numSpikesPerBurst[num_test:].unsqueeze(1)\n",
    "test_energy_ABPD = numSpikesPerBurst[:num_test].unsqueeze(1)\n",
    "mean_energy = torch.mean(train_energy_ABPD)\n",
    "std_energy = torch.std(train_energy_ABPD)\n",
    "train_energy_ABPD_norm = (train_energy_ABPD - mean_energy) / std_energy\n",
    "test_energy_ABPD_norm = (test_energy_ABPD - mean_energy) / std_energy\n",
    "\n",
    "regressor = LinearRegression()\n",
    "fitted_reg = regressor.fit(train_params_norm, train_energy_ABPD_norm)\n",
    "predictions = fitted_reg.predict(test_params_norm)\n",
    "coeff = np.asarray([fitted_reg.coef_[0]])\n",
    "coeff = coeff / np.linalg.norm(coeff)"
   ]
  },
  {
   "cell_type": "code",
   "execution_count": 838,
   "metadata": {},
   "outputs": [
    {
     "data": {
      "image/png": "[encoded data removed]",
      "text/plain": [
       "<Figure size 285x90 with 1 Axes>"
      ]
     },
     "metadata": {},
     "output_type": "display_data"
    }
   ],
   "source": [
    "with mpl.rc_context(fname=\"../../../.matplotlibrc\"):\n",
    "    viz.py_sensitivity_bars_cosyne(\n",
    "        torch.as_tensor(coeff)[0],\n",
    "        ylim=[-1, 1.0],\n",
    "        figsize=(2.85, 0.9),\n",
    "        ylabel=\"Weights w\",\n",
    "        plot_labels=True,\n",
    "        legend=True,\n",
    "        legend_y_offset=0.3,\n",
    "        title='#spikes (PY)',\n",
    "        title_x_offset=0,\n",
    "        yticks=[-1, 0, 1]\n",
    "    )\n",
    "    plt.savefig(PANEL_E2, facecolor=\"None\", transparent=True)\n",
    "    plt.show()"
   ]
  },
  {
   "cell_type": "code",
   "execution_count": 839,
   "metadata": {},
   "outputs": [
    {
     "data": {
      "image/png": "[encoded data removed]",
      "text/plain": [
       "<Figure size 180x100 with 1 Axes>"
      ]
     },
     "metadata": {},
     "output_type": "display_data"
    }
   ],
   "source": [
    "with mpl.rc_context(fname=\"../../../.matplotlibrc\"):\n",
    "    viz.synapse_sensitivity_bars(\n",
    "        deepcopy(torch.as_tensor(coeff))[:, -7:], ylim=[-0.3, 0.6], figsize=(1.8, 1.0), ylabel=\"\", color=\"k\", title=\"#spikes\\n(PY)\"\n",
    "    )\n",
    "    plt.savefig(PANEL_supp_synapses3, facecolor=\"None\", transparent=False)\n",
    "    plt.show()"
   ]
  },
  {
   "cell_type": "code",
   "execution_count": 840,
   "metadata": {},
   "outputs": [
    {
     "data": {
      "image/png": "[encoded data removed]",
      "text/plain": [
       "<Figure size 200x100 with 1 Axes>"
      ]
     },
     "metadata": {},
     "output_type": "display_data"
    }
   ],
   "source": [
    "with mpl.rc_context(fname=\"../../../.matplotlibrc\"):\n",
    "    fig, ax = plt.subplots(1, 1, figsize=(2, 1.0))\n",
    "    unnorm_x = test_energy_ABPD_norm[:300].numpy() * std_energy.numpy() + mean_energy.numpy()\n",
    "    unnorm_y = predictions[:300] * std_energy.numpy() + mean_energy.numpy()\n",
    "    ax.scatter(x=unnorm_x, y=unnorm_y, s=3, color=\"#2b8cbe\")\n",
    "    gt_vec = np.linspace(np.min(unnorm_x), np.max(unnorm_x), 2)\n",
    "    ax.plot(gt_vec, gt_vec, \"#ff7f00\")\n",
    "    ax.set_xlabel(\"Spikes per burst (AB/PD)\")\n",
    "    ax.set_ylabel(\"Lin. Reg.\\nprediction\")\n",
    "    plt.savefig(PANEL_supp_performance3, facecolor='None', transparent=False)"
   ]
  },
  {
   "cell_type": "markdown",
   "metadata": {},
   "source": [
    "# Relationship between the two"
   ]
  },
  {
   "cell_type": "code",
   "execution_count": 841,
   "metadata": {},
   "outputs": [],
   "source": [
    "# projected_e_per_spike = sensitivity_e_per_spike.project(theta_train, num_dimensions=1)\n",
    "# projected_num_spikes = sensitivity_num_spikes.project(theta_train, num_dimensions=1)"
   ]
  },
  {
   "cell_type": "code",
   "execution_count": 728,
   "metadata": {},
   "outputs": [],
   "source": [
    "# ind_of_min_e_per_spike = nth_argmin(projected_e_per_spike, 0)\n",
    "# # ind_of_max_e_per_spike = nth_argmax(projected_e_per_spike, 27)\n",
    "\n",
    "# ind_of_min_numSpikes = nth_argmin(projected_num_spikes, 0)\n",
    "# # ind_of_max_numSpikes = nth_argmax(projected_num_spikes, 0)"
   ]
  },
  {
   "cell_type": "code",
   "execution_count": 729,
   "metadata": {},
   "outputs": [],
   "source": [
    "# cond1 = projected_e_per_spike > -1.0\n",
    "# cond2 = projected_e_per_spike < -0.8\n",
    "# cond3 = projected_num_spikes > -0.7\n",
    "# cond4 = projected_num_spikes < -0.6"
   ]
  },
  {
   "cell_type": "code",
   "execution_count": 353,
   "metadata": {},
   "outputs": [],
   "source": [
    "# full_cond = torch.logical_and(\n",
    "#     torch.logical_and(torch.logical_and(cond1, cond2), cond3), cond4\n",
    "# )"
   ]
  },
  {
   "cell_type": "code",
   "execution_count": 640,
   "metadata": {},
   "outputs": [],
   "source": [
    "# fulfiling_param_sets = theta_train[full_cond[:, 0]]\n",
    "# print(fulfiling_param_sets.shape)"
   ]
  },
  {
   "cell_type": "code",
   "execution_count": 641,
   "metadata": {},
   "outputs": [],
   "source": [
    "# parameter_set1 = theta_train[ind_of_min_e_per_spike].unsqueeze(0)\n",
    "# parameter_set1_dim1 = sensitivity_e_per_spike.project(parameter_set1, num_dimensions=1)\n",
    "# parameter_set1_dim2 = sensitivity_num_spikes.project(parameter_set1, num_dimensions=1)\n",
    "\n",
    "# parameter_set2 = theta_train[ind_of_min_numSpikes].unsqueeze(0)\n",
    "# parameter_set2_dim1 = sensitivity_e_per_spike.project(parameter_set2, num_dimensions=1)\n",
    "# parameter_set2_dim2 = sensitivity_num_spikes.project(parameter_set2, num_dimensions=1)\n",
    "\n",
    "# # parameter_set3 = train_params_norm[ind_of_max_e_per_spike].unsqueeze(0)\n",
    "# parameter_set3 = theta_train[full_cond[:, 0]][2].unsqueeze(0)\n",
    "# parameter_set3_dim1 = sensitivity_e_per_spike.project(parameter_set3, num_dimensions=1)\n",
    "# parameter_set3_dim2 = sensitivity_num_spikes.project(parameter_set3, num_dimensions=1)"
   ]
  },
  {
   "cell_type": "code",
   "execution_count": 642,
   "metadata": {},
   "outputs": [],
   "source": [
    "# energy_PM = x[\"energies\"][\"PM\"].to_numpy()\n",
    "# energy_PM_train = energy_PM[num_test:]"
   ]
  },
  {
   "cell_type": "code",
   "execution_count": 643,
   "metadata": {},
   "outputs": [],
   "source": [
    "# v1 = e_vecs_num_spikes[:, -1]\n",
    "# v2 = e_vecs_e_per_spike[:, -1]\n",
    "# norm_v1 = torch.norm(v1)\n",
    "# dot_prod = torch.dot(v1, v2).item()\n",
    "# angle = math.acos(dot_prod)\n",
    "# print(\"angle in rad:\", angle)\n",
    "# print(\"angle in deg:\", angle / 2 / math.pi * 360)\n",
    "\n",
    "# angle_within_90deg = math.pi - angle\n",
    "# my_ticker = ticker.FixedFormatter([-2, 0, 2])"
   ]
  },
  {
   "cell_type": "code",
   "execution_count": 644,
   "metadata": {},
   "outputs": [],
   "source": [
    "# energy_PM_train.shape"
   ]
  },
  {
   "cell_type": "code",
   "execution_count": 645,
   "metadata": {},
   "outputs": [],
   "source": [
    "# with mpl.rc_context(fname=\"../../../.matplotlibrc\"):\n",
    "#     fig = plt.figure(figsize=(3.1, 2.0))\n",
    "#     viz.curvelinear_test1(\n",
    "#         fig,\n",
    "#         angle_within_90deg,\n",
    "#         projected_num_spikes,\n",
    "#         projected_e_per_spike,\n",
    "#         energy_PM_train,\n",
    "#         parameter_set1_dim1,\n",
    "#         parameter_set1_dim2,\n",
    "#         parameter_set2_dim1,\n",
    "#         parameter_set2_dim2,\n",
    "#         parameter_set3_dim1,\n",
    "#         parameter_set3_dim2,\n",
    "#     )\n",
    "#     plt.savefig(\"result_cool.png\", dpi=400, bbox_inches=\"tight\")\n",
    "# #     plt.savefig(PANEL_F1_raw, facecolor=\"None\", transparent=True)\n",
    "#     plt.show()"
   ]
  },
  {
   "cell_type": "markdown",
   "metadata": {},
   "source": [
    "### Run simulations"
   ]
  },
  {
   "cell_type": "code",
   "execution_count": 646,
   "metadata": {},
   "outputs": [],
   "source": [
    "# all_energies_per_spike = x[\"energies_per_spike\"][\"PM\"].to_numpy()\n",
    "# all_energies = x[\"energies\"][\"PM\"].to_numpy()\n",
    "# all_num_spikes = x[\"num_spikes\"][\"PM\"].to_numpy()\n",
    "\n",
    "# min_energy_per_spike = np.min(all_energies_per_spike)\n",
    "# max_energy_per_spike = np.max(all_energies_per_spike)\n",
    "\n",
    "# min_energy = np.min(all_energies)\n",
    "# max_energy = np.max(all_energies)\n",
    "\n",
    "# min_num_spikes = np.min(all_num_spikes)\n",
    "# max_num_spikes = np.max(all_num_spikes)"
   ]
  },
  {
   "cell_type": "code",
   "execution_count": 647,
   "metadata": {},
   "outputs": [],
   "source": [
    "# unnorm_set_dim_1 = pd.DataFrame(parameter_set1[:1], columns=theta.columns)\n",
    "# unnorm_set_dim_2 = pd.DataFrame(parameter_set2[:1], columns=theta.columns)\n",
    "# unnorm_set_dim_3 = pd.DataFrame(parameter_set3[:1], columns=theta.columns)\n",
    "\n",
    "# simulation_output_1 = simulate(\n",
    "#     unnorm_set_dim_1.loc[0], seed=0, track_energy=True, track_currents=True\n",
    "# )\n",
    "# simulation_output_2 = simulate(\n",
    "#     unnorm_set_dim_2.loc[0], seed=20, track_energy=True, track_currents=True\n",
    "# )\n",
    "# simulation_output_3 = simulate(\n",
    "#     unnorm_set_dim_3.loc[0], seed=0, track_energy=True, track_currents=True\n",
    "# )"
   ]
  },
  {
   "cell_type": "markdown",
   "metadata": {},
   "source": [
    "## Plot the traces"
   ]
  },
  {
   "cell_type": "code",
   "execution_count": 648,
   "metadata": {},
   "outputs": [],
   "source": [
    "# time_vec = np.arange(0, 11000, 0.025)"
   ]
  },
  {
   "cell_type": "code",
   "execution_count": 650,
   "metadata": {},
   "outputs": [],
   "source": [
    "# with mpl.rc_context(fname=\"../../../.matplotlibrc\"):\n",
    "#     viz.energy_scape(\n",
    "#         simulation_output_1,\n",
    "#         time_vec,\n",
    "#         (1.3, 1.0),\n",
    "#         [\"k\", \"k\", \"k\"],\n",
    "#         time_len=20000,\n",
    "#         offset=103000,\n",
    "#         ylimE=[0, 250],\n",
    "#         v_labelpad=4.7,\n",
    "#         neuron=0,\n",
    "#     )\n",
    "#     plt.savefig(PANEL_G1, facecolor=\"None\", transparent=True)"
   ]
  },
  {
   "cell_type": "code",
   "execution_count": 651,
   "metadata": {},
   "outputs": [],
   "source": [
    "# summstats = summary_stats(\n",
    "#     simulation_output_1,\n",
    "#     stats_customization={\n",
    "#         \"energies\": True,\n",
    "#         \"num_spikes\": True,\n",
    "#         \"energies_per_spike\": True,\n",
    "#     },\n",
    "# )\n",
    "# num_spikes_ABPD = summstats[\"num_spikes\"][\"PM\"].to_numpy()[0]\n",
    "# energies_ABPD_sim = summstats[\"energies\"][\"PM\"].to_numpy()[0]\n",
    "# energyperspike_ABPD_sim = summstats[\"energies_per_spike\"][\"PM\"].to_numpy()[0]\n",
    "\n",
    "# with mpl.rc_context(fname=\"../../../.matplotlibrc\"):\n",
    "#     viz.bars_for_energy(\n",
    "#         num_spikes_ABPD,\n",
    "#         min_num_spikes,\n",
    "#         max_num_spikes,\n",
    "#         energyperspike_ABPD_sim,\n",
    "#         min_energy_per_spike,\n",
    "#         max_energy_per_spike,\n",
    "#         energies_ABPD_sim,\n",
    "#         min_energy,\n",
    "#         max_energy,\n",
    "#     )\n",
    "#     plt.savefig(PANEL_G2, facecolor=\"None\", transparent=True)\n",
    "#     plt.show()"
   ]
  },
  {
   "cell_type": "code",
   "execution_count": 652,
   "metadata": {},
   "outputs": [],
   "source": [
    "# # simulation_output_2 = simulate(\n",
    "# #     unnorm_set_dim_2.loc[0], seed=20, track_energy=True, track_currents=True\n",
    "# # )\n",
    "\n",
    "# with mpl.rc_context(fname=\"../../../.matplotlibrc\"):\n",
    "#     viz.energy_scape(\n",
    "#         simulation_output_2,\n",
    "#         time_vec,\n",
    "#         (1.3, 1.0),\n",
    "#         [\"k\", \"k\", \"k\"],\n",
    "#         time_len=20000,  # 0, 20000, 193000, 20000, 302800\n",
    "#         offset=167000,\n",
    "#         ylimE=[0, 250],\n",
    "#         v_labelpad=4.7,\n",
    "#         neuron=0,\n",
    "#     )\n",
    "#     plt.savefig(PANEL_H1, facecolor=\"None\", transparent=True)"
   ]
  },
  {
   "cell_type": "code",
   "execution_count": 653,
   "metadata": {},
   "outputs": [],
   "source": [
    "# summstats = summary_stats(\n",
    "#     simulation_output_2,\n",
    "#     stats_customization={\n",
    "#         \"energies\": True,\n",
    "#         \"num_spikes\": True,\n",
    "#         \"energies_per_spike\": True,\n",
    "#     },\n",
    "# )\n",
    "# num_spikes_ABPD = summstats[\"num_spikes\"][\"PM\"].to_numpy()[0]\n",
    "# energies_ABPD_sim = summstats[\"energies\"][\"PM\"].to_numpy()[0]\n",
    "# energyperspike_ABPD_sim = summstats[\"energies_per_spike\"][\"PM\"].to_numpy()[0]\n",
    "\n",
    "# with mpl.rc_context(fname=\"../../../.matplotlibrc\"):\n",
    "#     viz.bars_for_energy(\n",
    "#         num_spikes_ABPD,\n",
    "#         min_num_spikes,\n",
    "#         max_num_spikes,\n",
    "#         energyperspike_ABPD_sim,\n",
    "#         min_energy_per_spike,\n",
    "#         max_energy_per_spike,\n",
    "#         energies_ABPD_sim,\n",
    "#         min_energy,\n",
    "#         max_energy,\n",
    "#     )\n",
    "#     plt.savefig(PANEL_H2, facecolor=\"None\", transparent=True)\n",
    "#     plt.show()"
   ]
  },
  {
   "cell_type": "code",
   "execution_count": 654,
   "metadata": {},
   "outputs": [],
   "source": [
    "# with mpl.rc_context(fname=\"../../../.matplotlibrc\"):\n",
    "#     viz.energy_scape(\n",
    "#         simulation_output_3,\n",
    "#         time_vec,\n",
    "#         (1.3, 1.0),\n",
    "#         [\"k\", \"k\", \"k\"],\n",
    "#         time_len=20000,\n",
    "#         offset=62800,\n",
    "#         ylimE=[0, 250],\n",
    "#         v_labelpad=4.7,\n",
    "#         neuron=0,\n",
    "#     )\n",
    "#     plt.savefig(PANEL_I1, facecolor=\"None\", transparent=True)"
   ]
  },
  {
   "cell_type": "code",
   "execution_count": 655,
   "metadata": {},
   "outputs": [],
   "source": [
    "# summstats = summary_stats(\n",
    "#     simulation_output_3,\n",
    "#     stats_customization={\n",
    "#         \"energies\": True,\n",
    "#         \"num_spikes\": True,\n",
    "#         \"energies_per_spike\": True,\n",
    "#     },\n",
    "# )\n",
    "# num_spikes_ABPD = summstats[\"num_spikes\"][\"PM\"].to_numpy()[0]\n",
    "# energies_ABPD_sim = summstats[\"energies\"][\"PM\"].to_numpy()[0]\n",
    "# energyperspike_ABPD_sim = summstats[\"energies_per_spike\"][\"PM\"].to_numpy()[0]\n",
    "\n",
    "# with mpl.rc_context(fname=\"../../../.matplotlibrc\"):\n",
    "#     viz.bars_for_energy(\n",
    "#         num_spikes_ABPD,\n",
    "#         min_num_spikes,\n",
    "#         max_num_spikes,\n",
    "#         energyperspike_ABPD_sim,\n",
    "#         min_energy_per_spike,\n",
    "#         max_energy_per_spike,\n",
    "#         energies_ABPD_sim,\n",
    "#         min_energy,\n",
    "#         max_energy,\n",
    "#     )\n",
    "#     plt.savefig(PANEL_I2, facecolor=\"None\", transparent=True)\n",
    "#     plt.show()"
   ]
  },
  {
   "cell_type": "markdown",
   "metadata": {},
   "source": [
    "## Assemble figure"
   ]
  },
  {
   "cell_type": "code",
   "execution_count": 656,
   "metadata": {},
   "outputs": [],
   "source": [
    "def svg(img):\n",
    "    IPd.display(IPd.HTML('<img src=\"{}\" / >'.format(img, time.time())))"
   ]
  },
  {
   "cell_type": "code",
   "execution_count": 762,
   "metadata": {},
   "outputs": [
    {
     "data": {
      "text/html": [
       "<img src=\"../fig/fig3_1.svg\" / >"
      ],
      "text/plain": [
       "<IPython.core.display.HTML object>"
      ]
     },
     "metadata": {},
     "output_type": "display_data"
    }
   ],
   "source": [
    "from svgutils.compose import *\n",
    "\n",
    "# > Inkscape pixel is 1/90 of an inch, other software usually uses 1/72.\n",
    "# > http://www.inkscapeforum.com/viewtopic.php?f=6&t=5964\n",
    "svg_scale = 1.25  # set this to 1.25 for Inkscape, 1.0 otherwise\n",
    "factor_svg=5.5\n",
    "\n",
    "# Panel letters in Helvetica Neue, 12pt, Medium\n",
    "kwargs_text = {'size': '12pt', 'font': 'Arial', 'weight': '800'}\n",
    "kwargs_text_12pt = {'size': '12pt', 'font': 'Arial', 'weight': '500'}\n",
    "kwargs_consistent = {'size': '10pt', 'font': 'Arial', 'weight': '500', 'color': '#AF99EF'}\n",
    "kwargs_consistent1 = {'size': '10pt', 'font': 'Arial', 'weight': '500', 'color': '#9E7DD5'}\n",
    "kwargs_inconsistent = {'size': '10pt', 'font': 'Arial', 'weight': '500', 'color': '#AF99EF'}\n",
    "kwargs_text8pt = {'size': '7.7pt', 'font': 'Arial'}\n",
    "kwargs_text8pt_blue = {'size': '7.7pt', 'font': 'Arial', 'weight': '500', 'color': \"#0570b0\"}\n",
    "\n",
    "f = Figure(\"20.3cm\", \"9.9cm\",\n",
    "\n",
    "    Panel(\n",
    "          SVG(PANEL_supp_shift1).scale(svg_scale).move(0, 0*factor_svg),\n",
    "        Text(\"a\", 0.0*factor_svg, 2.5*factor_svg, **kwargs_text),\n",
    "    ).move(0*factor_svg, 0.0*factor_svg),\n",
    "           \n",
    "    Panel(\n",
    "          SVG(PANEL_supp_shift3).scale(svg_scale).move(0, 0*factor_svg),\n",
    "    ).move(29.5*factor_svg, 0.*factor_svg),\n",
    "    \n",
    "    Panel(\n",
    "          SVG(PANEL_supp_shift4).scale(svg_scale).move(0, 0*factor_svg),\n",
    "    ).move(55.0*factor_svg, 0.*factor_svg),\n",
    "    \n",
    "    Panel(\n",
    "          SVG(PANEL_supp_shift7).scale(svg_scale).move(0, 0*factor_svg),\n",
    "          Text(\"b\", -3.4*factor_svg, 2.2*factor_svg, **kwargs_text),\n",
    "    ).move(87.9*factor_svg, 0.3*factor_svg),\n",
    "           \n",
    "    Panel(\n",
    "          SVG(PANEL_NEW_A).scale(svg_scale*1.03).move(0*factor_svg, 0*factor_svg),\n",
    "          Text(\"c\", -2*factor_svg, 1.5*factor_svg, **kwargs_text),\n",
    "    ).move(2*factor_svg, 26.5*factor_svg),\n",
    "    Panel(\n",
    "        SVG(PANEL_NEW_F1).scale(svg_scale).move(0*factor_svg, 0*factor_svg),\n",
    "        Text(\"d\", -.0*factor_svg, 2.8*factor_svg, **kwargs_text),\n",
    "    ).move(44.0*factor_svg, 25.2*factor_svg),\n",
    "\n",
    "    Panel(\n",
    "        SVG(PANEL_NEW_F2).scale(svg_scale).move(0*factor_svg, 0*factor_svg),\n",
    "    ).move(44.0*factor_svg, 45.0*factor_svg),\n",
    "           \n",
    "    Panel(\n",
    "        SVG(PANEL_NEW_G1).scale(svg_scale).move(0*factor_svg, 0*factor_svg),\n",
    "        Text(\"e\", -2.2*factor_svg, 1.7*factor_svg, **kwargs_text),\n",
    "    ).move(86.7*factor_svg, 26.3*factor_svg),\n",
    "           \n",
    "    Panel(\n",
    "        SVG(PANEL_NEW_G2).scale(svg_scale).move(0*factor_svg, 0*factor_svg),\n",
    "    ).move(86.7*factor_svg, 46.0*factor_svg),\n",
    "\n",
    "    Panel(\n",
    "        SVG(PANEL_NEW_supp_params_11).scale(svg_scale).move(0*factor_svg, 0*factor_svg),\n",
    "        Text(\"f\", -1.7*factor_svg, 1.7*factor_svg, **kwargs_text),\n",
    "    ).move(103.7*factor_svg, 26.3*factor_svg),\n",
    "\n",
    "    Panel(\n",
    "        SVG(PANEL_NEW_supp_params_12).scale(svg_scale).move(0*factor_svg, 0*factor_svg),\n",
    "    ).move(103.7*factor_svg, 46*factor_svg),\n",
    "\n",
    "    Panel(\n",
    "        SVG(PANEL_NEW_supp_params_21).scale(svg_scale).move(0*factor_svg, 0*factor_svg),\n",
    "    ).move(127.5*factor_svg, 26.3*factor_svg),\n",
    "\n",
    "    Panel(\n",
    "        SVG(PANEL_NEW_supp_params_22).scale(svg_scale).move(0*factor_svg, 0*factor_svg),\n",
    "    ).move(127.5*factor_svg, 46*factor_svg),\n",
    ")\n",
    "\n",
    "!mkdir -p fig\n",
    "f.save(\"../fig/fig3_1.svg\")\n",
    "svg('../fig/fig3_1.svg')"
   ]
  },
  {
   "cell_type": "code",
   "execution_count": 770,
   "metadata": {},
   "outputs": [],
   "source": [
    "PANEL_MECH_KD_A = \"../svg/panel_mech_kd_a_new.svg\"\n",
    "PANEL_MECH_KD_B = \"../svg/panel_mech_kd_b_new.svg\"\n",
    "PANEL_MECH_KD_C = \"../svg/panel_mech_kd_c_new.svg\"\n",
    "PANEL_MECH_KD_D = \"../svg/panel_mech_kd_d_new.svg\"\n",
    "PANEL_MECH_KD_E = \"../svg/panel_mech_kd_e_new.svg\"\n",
    "PANEL_MECH_KD_F = \"../svg/panel_mech_kd_f_new.svg\"\n",
    "PANEL_MECH_KD_voltage = \"../svg/panel_mech_kd_voltage_new.svg\"\n",
    "PANEL_lin_reg = \"../svg/panel_lin_reg.svg\""
   ]
  },
  {
   "cell_type": "code",
   "execution_count": 772,
   "metadata": {},
   "outputs": [
    {
     "data": {
      "text/html": [
       "<img src=\"../fig/fig3_2x.svg\" / >"
      ],
      "text/plain": [
       "<IPython.core.display.HTML object>"
      ]
     },
     "metadata": {},
     "output_type": "display_data"
    }
   ],
   "source": [
    "from svgutils.compose import *\n",
    "\n",
    "# > Inkscape pixel is 1/90 of an inch, other software usually uses 1/72.\n",
    "# > http://www.inkscapeforum.com/viewtopic.php?f=6&t=5964\n",
    "svg_scale = 1.25  # set this to 1.25 for Inkscape, 1.0 otherwise\n",
    "factor_svg=5.5\n",
    "\n",
    "# Panel letters in Helvetica Neue, 12pt, Medium\n",
    "kwargs_text = {'size': '12pt', 'font': 'Arial', 'weight': '800'}\n",
    "kwargs_text_12pt = {'size': '12pt', 'font': 'Arial', 'weight': '500'}\n",
    "kwargs_consistent = {'size': '10pt', 'font': 'Arial', 'weight': '500', 'color': '#AF99EF'}\n",
    "kwargs_consistent1 = {'size': '10pt', 'font': 'Arial', 'weight': '500', 'color': '#9E7DD5'}\n",
    "kwargs_inconsistent = {'size': '10pt', 'font': 'Arial', 'weight': '500', 'color': '#AF99EF'}\n",
    "kwargs_text8pt = {'size': '7.7pt', 'font': 'Arial'}\n",
    "kwargs_text8pt_blue = {'size': '7.7pt', 'font': 'Arial', 'weight': '500', 'color': \"#0570b0\"}\n",
    "\n",
    "f = Figure(\"20.3cm\", \"9.3cm\",\n",
    "\n",
    "    Panel(\n",
    "          SVG(PANEL_lin_reg).scale(svg_scale).move(0, 0*factor_svg),\n",
    "        Text(\"a\", -5.0*factor_svg, -0.5*factor_svg, **kwargs_text),\n",
    "    ).move(5*factor_svg, 3*factor_svg),\n",
    "\n",
    "    Panel(\n",
    "          SVG(PANEL_B_lin).scale(svg_scale).move(0, 0*factor_svg),\n",
    "          Text(\"b\", -4.0*factor_svg, 1.8*factor_svg, **kwargs_text),\n",
    "    ).move(46.5*factor_svg, 0.7*factor_svg),\n",
    "    Panel(\n",
    "          SVG(PANEL_C).scale(svg_scale).move(0, 0*factor_svg),\n",
    "          Text(\"c\", -1.0*factor_svg, 2.5*factor_svg, **kwargs_text),\n",
    "    ).move(85.0*factor_svg, 0*factor_svg),\n",
    "           \n",
    "    Panel(\n",
    "          SVG(PANEL_D).scale(svg_scale).move(0, 0*factor_svg),\n",
    "          Text(\"d\", -1.5*factor_svg, 2.5*factor_svg, **kwargs_text),\n",
    "    ).move(1.5*factor_svg, 27.0*factor_svg),\n",
    "           \n",
    "    Panel(\n",
    "          SVG(PANEL_MECH_KD_D).scale(svg_scale).move(0, 0*factor_svg),\n",
    "          Text(\"e\", 0*factor_svg, 5.5*factor_svg, **kwargs_text),\n",
    "    ).move(42*factor_svg, 24.0*factor_svg),\n",
    "\n",
    "    Panel(\n",
    "          SVG(PANEL_MECH_KD_B).scale(svg_scale).move(0, 0*factor_svg),\n",
    "    ).move(42*factor_svg, 42.4*factor_svg),\n",
    "\n",
    "    Panel(\n",
    "          SVG(PANEL_E1).scale(svg_scale).move(0, 0*factor_svg),\n",
    "          Text(\"f\", -1*factor_svg, 1.5*factor_svg, **kwargs_text),\n",
    "    ).move(85.0*factor_svg, 28.0*factor_svg),\n",
    "\n",
    "    Panel(\n",
    "          SVG(PANEL_E2).scale(svg_scale).move(0*factor_svg, 0*factor_svg),\n",
    "    ).move(85*factor_svg, 43.5*factor_svg),\n",
    ")\n",
    "\n",
    "!mkdir -p fig\n",
    "f.save(\"../fig/fig3_2x.svg\")\n",
    "svg('../fig/fig3_2x.svg')"
   ]
  },
  {
   "cell_type": "code",
   "execution_count": 765,
   "metadata": {},
   "outputs": [],
   "source": [
    "# from svgutils.compose import *\n",
    "\n",
    "# # > Inkscape pixel is 1/90 of an inch, other software usually uses 1/72.\n",
    "# # > http://www.inkscapeforum.com/viewtopic.php?f=6&t=5964\n",
    "# svg_scale = 1.25  # set this to 1.25 for Inkscape, 1.0 otherwise\n",
    "# factor_svg=5.5\n",
    "\n",
    "# # Panel letters in Helvetica Neue, 12pt, Medium\n",
    "# kwargs_text = {'size': '12pt', 'font': 'Arial', 'weight': '800'}\n",
    "# kwargs_text_12pt = {'size': '12pt', 'font': 'Arial', 'weight': '500'}\n",
    "# kwargs_consistent = {'size': '10pt', 'font': 'Arial', 'weight': '500', 'color': '#AF99EF'}\n",
    "# kwargs_consistent1 = {'size': '10pt', 'font': 'Arial', 'weight': '500', 'color': '#9E7DD5'}\n",
    "# kwargs_inconsistent = {'size': '10pt', 'font': 'Arial', 'weight': '500', 'color': '#AF99EF'}\n",
    "# kwargs_text8pt = {'size': '7.7pt', 'font': 'Arial'}\n",
    "# kwargs_text8pt_blue = {'size': '7.7pt', 'font': 'Arial', 'weight': '500', 'color': \"#0570b0\"}\n",
    "\n",
    "# f = Figure(\"20.3cm\", \"9.6cm\",\n",
    "\n",
    "#     Panel(\n",
    "#           SVG(PANEL_D).scale(svg_scale).move(0, 0*factor_svg),\n",
    "#           Text(\"a\", -3.5*factor_svg, 2.5*factor_svg, **kwargs_text),\n",
    "#     ).move(3.5*factor_svg, 0.0*factor_svg),\n",
    "\n",
    "#     Panel(\n",
    "#           SVG(PANEL_E1).scale(svg_scale).move(0, 0*factor_svg),\n",
    "#           Text(\"b\", -1*factor_svg, 1.5*factor_svg, **kwargs_text),\n",
    "#     ).move(44.0*factor_svg, 1.0*factor_svg),\n",
    "\n",
    "#     Panel(\n",
    "#           SVG(PANEL_E2).scale(svg_scale).move(0*factor_svg, 0*factor_svg),\n",
    "#     ).move(44*factor_svg, 16.5*factor_svg),\n",
    "\n",
    "#     Panel(\n",
    "#           SVG(PANEL_F1).scale(svg_scale).move(0*factor_svg, 0*factor_svg),\n",
    "#         Text(\"d\", 10.7*factor_svg, 9.7*factor_svg, **kwargs_text8pt_blue),\n",
    "#         Text(\"e\", 26.5*factor_svg, 24.7*factor_svg, **kwargs_text8pt_blue),\n",
    "#         Text(\"f\", 21.6*factor_svg, 20.6*factor_svg, **kwargs_text8pt_blue),\n",
    "#         Text(\"c\", -2.0*factor_svg, -.4*factor_svg, **kwargs_text),\n",
    "#     ).move(92*factor_svg, 3.0*factor_svg),\n",
    "\n",
    "#     Panel(\n",
    "#           SVG(PANEL_F2).scale(svg_scale).move(0*factor_svg, 0*factor_svg),\n",
    "#     ).move(92*factor_svg, 25.7*factor_svg),\n",
    "\n",
    "#     Panel(\n",
    "#           SVG(PANEL_H1).scale(svg_scale).move(0*factor_svg, 0*factor_svg),\n",
    "#         Text(\"d\", -0.5*factor_svg, 0.5*factor_svg, **kwargs_text),\n",
    "#     ).move(0.5*factor_svg, 150+15.0*factor_svg),\n",
    "\n",
    "#     Panel(\n",
    "#           SVG(PANEL_H2).scale(svg_scale).move(0*factor_svg, 0*factor_svg),\n",
    "#     ).move(27.5*factor_svg, 150+14.5*factor_svg),\n",
    "\n",
    "#     Panel(\n",
    "#           SVG(PANEL_G1).scale(svg_scale).move(0*factor_svg, 0*factor_svg),\n",
    "#         Text(\"e\", -0.5*factor_svg, 0.5*factor_svg, **kwargs_text),\n",
    "#     ).move(47.0*factor_svg, 150+15*factor_svg),\n",
    "\n",
    "#     Panel(\n",
    "#           SVG(PANEL_G2).scale(svg_scale).move(0*factor_svg, 0*factor_svg),\n",
    "#     ).move(74.0*factor_svg, 150+14.5*factor_svg),\n",
    "\n",
    "#     Panel(\n",
    "#           SVG(PANEL_I1).scale(svg_scale).move(0*factor_svg, 0*factor_svg),\n",
    "#         Text(\"f\", -0.5*factor_svg, 0.5*factor_svg, **kwargs_text),\n",
    "#     ).move(93.75*factor_svg, 150+15*factor_svg),\n",
    "\n",
    "#     Panel(\n",
    "#           SVG(PANEL_I2).scale(svg_scale).move(0*factor_svg, 0*factor_svg),\n",
    "#     ).move(120.5*factor_svg, 150+14.5*factor_svg),\n",
    "# )\n",
    "\n",
    "# !mkdir -p fig\n",
    "# f.save(\"../fig/fig3_2.svg\")\n",
    "# svg('../fig/fig3_2.svg')"
   ]
  },
  {
   "cell_type": "code",
   "execution_count": 766,
   "metadata": {},
   "outputs": [],
   "source": [
    "# from svgutils.compose import *\n",
    "\n",
    "# # > Inkscape pixel is 1/90 of an inch, other software usually uses 1/72.\n",
    "# # > http://www.inkscapeforum.com/viewtopic.php?f=6&t=5964\n",
    "# svg_scale = 1.25  # set this to 1.25 for Inkscape, 1.0 otherwise\n",
    "# factor_svg=5.5\n",
    "\n",
    "# # Panel letters in Helvetica Neue, 12pt, Medium\n",
    "# kwargs_text = {'size': '12pt', 'font': 'Arial', 'weight': '800'}\n",
    "# kwargs_text_12pt = {'size': '12pt', 'font': 'Arial', 'weight': '500'}\n",
    "# kwargs_consistent = {'size': '10pt', 'font': 'Arial', 'weight': '500', 'color': '#AF99EF'}\n",
    "# kwargs_consistent1 = {'size': '10pt', 'font': 'Arial', 'weight': '500', 'color': '#9E7DD5'}\n",
    "# kwargs_inconsistent = {'size': '10pt', 'font': 'Arial', 'weight': '500', 'color': '#AF99EF'}\n",
    "# kwargs_text8pt = {'size': '7.7pt', 'font': 'Arial'}\n",
    "# kwargs_text8pt_red = {'size': '7.7pt', 'font': 'Arial', 'weight': '800', 'color': \"#b30000\"}\n",
    "\n",
    "# f = Figure(\"20.3cm\", \"3.0cm\",\n",
    "\n",
    "#     Panel(\n",
    "#           SVG(PANEL_supp_shift6).scale(svg_scale).move(0, 0*factor_svg),\n",
    "#     ).move(0*factor_svg, 2.1*factor_svg),\n",
    "\n",
    "# )\n",
    "\n",
    "# !mkdir -p fig\n",
    "# f.save(\"../fig/fig3_supp7.svg\")\n",
    "# svg('../fig/fig3_supp7.svg')"
   ]
  },
  {
   "cell_type": "markdown",
   "metadata": {},
   "source": [
    "### Build appendix"
   ]
  },
  {
   "cell_type": "code",
   "execution_count": 767,
   "metadata": {},
   "outputs": [],
   "source": [
    "# from svgutils.compose import *\n",
    "\n",
    "# # > Inkscape pixel is 1/90 of an inch, other software usually uses 1/72.\n",
    "# # > http://www.inkscapeforum.com/viewtopic.php?f=6&t=5964\n",
    "# svg_scale = 1.25  # set this to 1.25 for Inkscape, 1.0 otherwise\n",
    "# factor_svg=5.5\n",
    "\n",
    "# # Panel letters in Helvetica Neue, 12pt, Medium\n",
    "# kwargs_text = {'size': '12pt', 'font': 'Arial', 'weight': '800'}\n",
    "# kwargs_text_12pt = {'size': '12pt', 'font': 'Arial', 'weight': '500'}\n",
    "# kwargs_consistent = {'size': '10pt', 'font': 'Arial', 'weight': '500', 'color': '#AF99EF'}\n",
    "# kwargs_consistent1 = {'size': '10pt', 'font': 'Arial', 'weight': '500', 'color': '#9E7DD5'}\n",
    "# kwargs_inconsistent = {'size': '10pt', 'font': 'Arial', 'weight': '500', 'color': '#AF99EF'}\n",
    "# kwargs_text8pt = {'size': '7.7pt', 'font': 'Arial'}\n",
    "# kwargs_text8pt_red = {'size': '7.7pt', 'font': 'Arial', 'weight': '800', 'color': \"#b30000\"}\n",
    "\n",
    "# f = Figure(\"20.3cm\", \"3.7cm\",\n",
    "\n",
    "#     Panel(\n",
    "#           SVG(PANEL_supp_EV1).scale(svg_scale).move(0, 0*factor_svg),\n",
    "#     ).move(0*factor_svg, 2.1*factor_svg),\n",
    "           \n",
    "#     Panel(\n",
    "#           SVG(PANEL_supp_EV2).scale(svg_scale).move(0, 0*factor_svg),\n",
    "#     ).move(40*factor_svg, 0.0*factor_svg),\n",
    "           \n",
    "#     Panel(\n",
    "#           SVG(PANEL_supp_EV3).scale(svg_scale).move(0, 0*factor_svg),\n",
    "#     ).move(80*factor_svg, 0*factor_svg),\n",
    "# )\n",
    "\n",
    "# !mkdir -p fig\n",
    "# f.save(\"../fig/fig3_supp2.svg\")\n",
    "# svg('../fig/fig3_supp2.svg')"
   ]
  },
  {
   "cell_type": "code",
   "execution_count": 842,
   "metadata": {},
   "outputs": [
    {
     "data": {
      "text/html": [
       "<img src=\"../fig/fig3_supp1.svg\" / >"
      ],
      "text/plain": [
       "<IPython.core.display.HTML object>"
      ]
     },
     "metadata": {},
     "output_type": "display_data"
    }
   ],
   "source": [
    "from svgutils.compose import *\n",
    "\n",
    "# > Inkscape pixel is 1/90 of an inch, other software usually uses 1/72.\n",
    "# > http://www.inkscapeforum.com/viewtopic.php?f=6&t=5964\n",
    "svg_scale = 1.25  # set this to 1.25 for Inkscape, 1.0 otherwise\n",
    "factor_svg=5.5\n",
    "\n",
    "# Panel letters in Helvetica Neue, 12pt, Medium\n",
    "kwargs_text = {'size': '12pt', 'font': 'Arial', 'weight': '800'}\n",
    "kwargs_text_12pt = {'size': '12pt', 'font': 'Arial', 'weight': '500'}\n",
    "kwargs_consistent = {'size': '10pt', 'font': 'Arial', 'weight': '500', 'color': '#AF99EF'}\n",
    "kwargs_consistent1 = {'size': '10pt', 'font': 'Arial', 'weight': '500', 'color': '#9E7DD5'}\n",
    "kwargs_inconsistent = {'size': '10pt', 'font': 'Arial', 'weight': '500', 'color': '#AF99EF'}\n",
    "kwargs_text8pt = {'size': '7.7pt', 'font': 'Arial'}\n",
    "kwargs_text8pt_red = {'size': '7.7pt', 'font': 'Arial', 'weight': '800', 'color': \"#b30000\"}\n",
    "\n",
    "f = Figure(\"20.3cm\", \"3.0cm\",\n",
    "\n",
    "    Panel(\n",
    "          SVG(PANEL_supp_performance1).scale(svg_scale).move(0, 0*factor_svg),\n",
    "    ).move(0*factor_svg, 0*factor_svg),\n",
    "           \n",
    "    Panel(\n",
    "          SVG(PANEL_supp_performance2).scale(svg_scale).move(0, 0*factor_svg),\n",
    "    ).move(40*factor_svg, 0*factor_svg),\n",
    "           \n",
    "    Panel(\n",
    "          SVG(PANEL_supp_performance3).scale(svg_scale).move(0, 0*factor_svg),\n",
    "    ).move(80*factor_svg, -0.5*factor_svg),\n",
    ")\n",
    "\n",
    "!mkdir -p fig\n",
    "f.save(\"../fig/fig3_supp1.svg\")\n",
    "svg('../fig/fig3_supp1.svg')"
   ]
  },
  {
   "cell_type": "code",
   "execution_count": 822,
   "metadata": {},
   "outputs": [
    {
     "data": {
      "text/html": [
       "<img src=\"../fig/fig3_supp3.svg\" / >"
      ],
      "text/plain": [
       "<IPython.core.display.HTML object>"
      ]
     },
     "metadata": {},
     "output_type": "display_data"
    }
   ],
   "source": [
    "from svgutils.compose import *\n",
    "\n",
    "# > Inkscape pixel is 1/90 of an inch, other software usually uses 1/72.\n",
    "# > http://www.inkscapeforum.com/viewtopic.php?f=6&t=5964\n",
    "svg_scale = 1.25  # set this to 1.25 for Inkscape, 1.0 otherwise\n",
    "factor_svg=5.5\n",
    "\n",
    "# Panel letters in Helvetica Neue, 12pt, Medium\n",
    "kwargs_text = {'size': '12pt', 'font': 'Arial', 'weight': '800'}\n",
    "kwargs_text_12pt = {'size': '12pt', 'font': 'Arial', 'weight': '500'}\n",
    "kwargs_consistent = {'size': '10pt', 'font': 'Arial', 'weight': '500', 'color': '#AF99EF'}\n",
    "kwargs_consistent1 = {'size': '10pt', 'font': 'Arial', 'weight': '500', 'color': '#9E7DD5'}\n",
    "kwargs_inconsistent = {'size': '10pt', 'font': 'Arial', 'weight': '500', 'color': '#AF99EF'}\n",
    "kwargs_text8pt = {'size': '7.7pt', 'font': 'Arial'}\n",
    "kwargs_text8pt_red = {'size': '7.7pt', 'font': 'Arial', 'weight': '800', 'color': \"#b30000\"}\n",
    "\n",
    "f = Figure(\"20.3cm\", \"3.8cm\",\n",
    "\n",
    "    Panel(\n",
    "          SVG(PANEL_supp_synapses1).scale(svg_scale).move(0, 0*factor_svg),\n",
    "    ).move(0*factor_svg, 2.0*factor_svg),\n",
    "           \n",
    "    Panel(\n",
    "          SVG(PANEL_supp_synapses2).scale(svg_scale).move(0, 0*factor_svg),\n",
    "    ).move(36*factor_svg, 0.*factor_svg),\n",
    "           \n",
    "    Panel(\n",
    "          SVG(PANEL_supp_synapses3).scale(svg_scale).move(0, 0*factor_svg),\n",
    "    ).move(69*factor_svg, 0.*factor_svg),\n",
    ")\n",
    "\n",
    "!mkdir -p fig\n",
    "f.save(\"../fig/fig3_supp3.svg\")\n",
    "svg('../fig/fig3_supp3.svg')"
   ]
  },
  {
   "cell_type": "code",
   "execution_count": null,
   "metadata": {},
   "outputs": [],
   "source": []
  },
  {
   "cell_type": "code",
   "execution_count": null,
   "metadata": {},
   "outputs": [],
   "source": []
  }
 ],
 "metadata": {
  "kernelspec": {
   "display_name": "Python 3",
   "language": "python",
   "name": "python3"
  },
  "language_info": {
   "codemirror_mode": {
    "name": "ipython",
    "version": 3
   },
   "file_extension": ".py",
   "mimetype": "text/x-python",
   "name": "python",
   "nbconvert_exporter": "python",
   "pygments_lexer": "ipython3",
   "version": "3.8.10"
  }
 },
 "nbformat": 4,
 "nbformat_minor": 4
}
