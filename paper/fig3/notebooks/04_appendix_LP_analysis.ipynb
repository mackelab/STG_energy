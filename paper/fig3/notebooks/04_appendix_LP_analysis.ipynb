{
 "cells": [
  {
   "cell_type": "code",
   "execution_count": 1,
   "metadata": {},
   "outputs": [],
   "source": [
    "import math\n",
    "import time\n",
    "from copy import deepcopy\n",
    "import dill as pickle\n",
    "import IPython.display as IPd\n",
    "import matplotlib as mpl\n",
    "import matplotlib.pylab as plt\n",
    "import numpy as np\n",
    "import pandas as pd\n",
    "import torch\n",
    "from matplotlib import ticker\n",
    "from pyloric import create_prior, simulate, summary_stats\n",
    "from pyloric.utils import energy_of_membrane, energy_of_synapse\n",
    "from sbi.analysis import ActiveSubspace\n",
    "\n",
    "import stg_energy.fig3_active_subspaces.viz as viz\n",
    "from stg_energy.fig3_active_subspaces.helper_functions import nth_argmax, nth_argmin\n",
    "from sklearn.linear_model import LinearRegression"
   ]
  },
  {
   "cell_type": "markdown",
   "metadata": {},
   "source": [
    "# Figure 3"
   ]
  },
  {
   "cell_type": "code",
   "execution_count": 2,
   "metadata": {},
   "outputs": [],
   "source": [
    "pd.options.display.max_columns = 999"
   ]
  },
  {
   "cell_type": "code",
   "execution_count": 3,
   "metadata": {},
   "outputs": [],
   "source": [
    "%load_ext autoreload\n",
    "%autoreload 2"
   ]
  },
  {
   "cell_type": "code",
   "execution_count": 4,
   "metadata": {},
   "outputs": [],
   "source": [
    "PANEL_supp_LP1 = \"../svg/panel_supp_lp1.svg\"\n",
    "PANEL_supp_LP2 = \"../svg/panel_supp_lp2.svg\"\n",
    "PANEL_supp_PY1 = \"../svg/panel_supp_py1.svg\"\n",
    "PANEL_supp_PY2 = \"../svg/panel_supp_py2.svg\"\n",
    "\n",
    "PANEL_supp_LP_EV1 = \"../svg/panel_supp_lp_ev1.svg\"\n",
    "PANEL_supp_LP_EV2 = \"../svg/panel_supp_lp_ev2.svg\"\n",
    "PANEL_supp_PY_EV1 = \"../svg/panel_supp_py_ev1.svg\"\n",
    "PANEL_supp_PY_EV2 = \"../svg/panel_supp_py_ev2.svg\"\n",
    "\n",
    "PANEL_supp_LP_syn1 = \"../svg/panel_supp_lp_syn1.svg\"\n",
    "PANEL_supp_LP_syn2 = \"../svg/panel_supp_lp_syn2.svg\"\n",
    "PANEL_supp_PY_syn1 = \"../svg/panel_supp_py_syn1.svg\"\n",
    "PANEL_supp_PY_syn2 = \"../svg/panel_supp_py_syn2.svg\""
   ]
  },
  {
   "cell_type": "markdown",
   "metadata": {},
   "source": [
    "### Load experimental data"
   ]
  },
  {
   "cell_type": "code",
   "execution_count": 5,
   "metadata": {},
   "outputs": [],
   "source": [
    "prior_11 = create_prior()"
   ]
  },
  {
   "cell_type": "code",
   "execution_count": 6,
   "metadata": {},
   "outputs": [],
   "source": [
    "theta = pd.read_pickle(\n",
    "    \"../../../results/simulation_data_Tube_MLslurm_cluster/close_to_xo_circuit_parameters.pkl\"\n",
    ")\n",
    "x = pd.read_pickle(\n",
    "    \"../../../results/simulation_data_Tube_MLslurm_cluster/close_to_xo_simulation_outputs.pkl\"\n",
    ")\n",
    "seeds = np.load(\n",
    "    \"../../../results/simulation_data_Tube_MLslurm_cluster/close_to_xo_seeds.npy\"\n",
    ")\n",
    "\n",
    "theta_np = theta.to_numpy()\n",
    "x_np = x.to_numpy()"
   ]
  },
  {
   "cell_type": "markdown",
   "metadata": {},
   "source": [
    "###  Fit regression net for total energy"
   ]
  },
  {
   "cell_type": "code",
   "execution_count": 7,
   "metadata": {},
   "outputs": [],
   "source": [
    "import sys\n",
    "from sbi.utils import user_input_checks_utils\n",
    "\n",
    "sys.modules[\"sbi.user_input.user_input_checks_utils\"] = user_input_checks_utils"
   ]
  },
  {
   "cell_type": "code",
   "execution_count": 8,
   "metadata": {},
   "outputs": [
    {
     "name": "stderr",
     "output_type": "stream",
     "text": [
      "/home/michael/Documents/sbi/sbi/inference/posteriors/base_posterior.py:1130: UserWarning: You had saved the posterior under an older version of `sbi`. To make the loaded version comply with the version you are using right now, we had to set the following attributes: `self._device = cpu` `self._num_iid_trials = None` `self._iid_methods = ['snle', 'snre_a', 'snre_b']` `self._allow_iid_x = False` `self._sample_with = rejection`\n",
      "  warn(warning_description + warning_msg)\n"
     ]
    }
   ],
   "source": [
    "with open(\n",
    "    \"../../../results/trained_neural_nets/inference/posterior_11deg.pickle\", \"rb\"\n",
    ") as handle:\n",
    "    posterior = pickle.load(handle)\n",
    "    posterior._device = \"cpu\"\n",
    "    posterior._sample_with = \"rejection\""
   ]
  },
  {
   "cell_type": "code",
   "execution_count": 9,
   "metadata": {},
   "outputs": [],
   "source": [
    "xo = np.load(\"../../../results/experimental_data/xo_11deg.npy\")"
   ]
  },
  {
   "cell_type": "markdown",
   "metadata": {},
   "source": [
    "# Energy per spike"
   ]
  },
  {
   "cell_type": "code",
   "execution_count": 41,
   "metadata": {},
   "outputs": [],
   "source": [
    "energies = x[\"energies\"]\n",
    "energies_tt = torch.as_tensor(energies.to_numpy())\n",
    "x_tt = torch.as_tensor(x_np, dtype=torch.float32)"
   ]
  },
  {
   "cell_type": "code",
   "execution_count": 42,
   "metadata": {},
   "outputs": [],
   "source": [
    "num_test = 500\n",
    "\n",
    "test_params = theta_np[:num_test]\n",
    "train_params = theta_np[num_test:]\n",
    "mean_params = np.mean(train_params, axis=0)\n",
    "std_params = np.std(train_params, axis=0)\n",
    "\n",
    "train_params_norm = (train_params - mean_params) / std_params\n",
    "test_params_norm = (test_params - mean_params) / std_params"
   ]
  },
  {
   "cell_type": "code",
   "execution_count": 43,
   "metadata": {},
   "outputs": [],
   "source": [
    "all_energies_per_spike_ABPD = x[\"energies_per_spike\"][\"LP\"].to_numpy() / 1000\n",
    "\n",
    "all_e_per_spike_ABPD = torch.as_tensor(all_energies_per_spike_ABPD)\n",
    "train_energy_ABPD = all_e_per_spike_ABPD[num_test:].unsqueeze(1)\n",
    "test_energy_ABPD = all_e_per_spike_ABPD[:num_test].unsqueeze(1)\n",
    "mean_energy = torch.mean(train_energy_ABPD)\n",
    "std_energy = torch.std(train_energy_ABPD)\n",
    "train_energy_ABPD_norm = (train_energy_ABPD - mean_energy) / std_energy\n",
    "test_energy_ABPD_norm = (test_energy_ABPD - mean_energy) / std_energy\n",
    "\n",
    "regressor = LinearRegression()\n",
    "fitted_reg = regressor.fit(train_params_norm, train_energy_ABPD_norm)\n",
    "predictions = fitted_reg.predict(test_params_norm)\n",
    "coeff = np.asarray([fitted_reg.coef_[0]])\n",
    "coeff = coeff / np.linalg.norm(coeff)"
   ]
  },
  {
   "cell_type": "code",
   "execution_count": 54,
   "metadata": {},
   "outputs": [
    {
     "data": {
      "image/png": "[encoded data removed]",
      "text/plain": [
       "<Figure size 250x90 with 1 Axes>"
      ]
     },
     "metadata": {},
     "output_type": "display_data"
    }
   ],
   "source": [
    "with mpl.rc_context(fname=\"../../../.matplotlibrc\"):\n",
    "    viz.py_sensitivity_bars_cosyne(\n",
    "        deepcopy(torch.as_tensor(coeff))[0],\n",
    "        ylim=[-1, 1.0],\n",
    "        figsize=(2.5, 0.9),\n",
    "        ylabel=\"Weights w\",\n",
    "        plot_labels=False,\n",
    "        legend=False,\n",
    "        title='E / spike (LP)',\n",
    "        title_x_offset=0,\n",
    "        legend_y_offset=0.3,\n",
    "    )\n",
    "    plt.savefig(PANEL_supp_LP1, facecolor=\"None\", transparent=True)\n",
    "    plt.show()"
   ]
  },
  {
   "cell_type": "code",
   "execution_count": 45,
   "metadata": {},
   "outputs": [
    {
     "data": {
      "image/png": "[encoded data removed]",
      "text/plain": [
       "<Figure size 140x90 with 1 Axes>"
      ]
     },
     "metadata": {},
     "output_type": "display_data"
    }
   ],
   "source": [
    "with mpl.rc_context(fname=\"../../../.matplotlibrc\"):\n",
    "    viz.synapse_sensitivity_bars(\n",
    "        deepcopy(torch.as_tensor(coeff))[:, -7:], ylim=[-0.3, 0.6], figsize=(1.4, 0.9), ylabel=\"\", color=\"k\", title=None, plot_labels=False\n",
    "    )\n",
    "    plt.savefig(PANEL_supp_LP_syn1, facecolor=\"None\", transparent=False)\n",
    "    plt.show()"
   ]
  },
  {
   "cell_type": "markdown",
   "metadata": {},
   "source": [
    "## Number of spikes"
   ]
  },
  {
   "cell_type": "code",
   "execution_count": 46,
   "metadata": {},
   "outputs": [],
   "source": [
    "numSpikesPerBurst = x[\"num_spikes\"][\"LP\"].to_numpy() / x[\"num_bursts\"][\"LP\"].to_numpy()"
   ]
  },
  {
   "cell_type": "code",
   "execution_count": 47,
   "metadata": {},
   "outputs": [],
   "source": [
    "numSpikesPerBurst = torch.as_tensor(numSpikesPerBurst)\n",
    "train_energy_ABPD = numSpikesPerBurst[num_test:].unsqueeze(1)\n",
    "test_energy_ABPD = numSpikesPerBurst[:num_test].unsqueeze(1)\n",
    "mean_energy = torch.mean(train_energy_ABPD)\n",
    "std_energy = torch.std(train_energy_ABPD)\n",
    "train_energy_ABPD_norm = (train_energy_ABPD - mean_energy) / std_energy\n",
    "test_energy_ABPD_norm = (test_energy_ABPD - mean_energy) / std_energy\n",
    "\n",
    "regressor = LinearRegression()\n",
    "fitted_reg = regressor.fit(train_params_norm, train_energy_ABPD_norm)\n",
    "predictions = fitted_reg.predict(test_params_norm)\n",
    "coeff = np.asarray([fitted_reg.coef_[0]])\n",
    "coeff = coeff / np.linalg.norm(coeff)"
   ]
  },
  {
   "cell_type": "code",
   "execution_count": 48,
   "metadata": {},
   "outputs": [
    {
     "data": {
      "image/png": "[encoded data removed]",
      "text/plain": [
       "<Figure size 250x90 with 1 Axes>"
      ]
     },
     "metadata": {},
     "output_type": "display_data"
    }
   ],
   "source": [
    "with mpl.rc_context(fname=\"../../../.matplotlibrc\"):\n",
    "    viz.py_sensitivity_bars_cosyne(\n",
    "        torch.as_tensor(coeff)[0],\n",
    "        ylim=[-1, 1.0],\n",
    "        figsize=(2.5, 0.9),\n",
    "        ylabel=\"Weights w\",\n",
    "        plot_labels=True,\n",
    "        legend=False,\n",
    "        legend_y_offset=0.3,\n",
    "        title='#spikes (LP)',\n",
    "        title_x_offset=0,\n",
    "        yticks=[-1, 0, 1]\n",
    "    )\n",
    "    plt.savefig(PANEL_supp_LP2, facecolor=\"None\", transparent=True)\n",
    "    plt.show()"
   ]
  },
  {
   "cell_type": "code",
   "execution_count": 59,
   "metadata": {},
   "outputs": [
    {
     "data": {
      "image/png": "[encoded data removed]",
      "text/plain": [
       "<Figure size 140x90 with 1 Axes>"
      ]
     },
     "metadata": {},
     "output_type": "display_data"
    }
   ],
   "source": [
    "with mpl.rc_context(fname=\"../../../.matplotlibrc\"):\n",
    "    viz.synapse_sensitivity_bars(\n",
    "        deepcopy(torch.as_tensor(coeff))[:, -7:], ylim=[-0.3, 0.6], figsize=(1.4, 0.9), ylabel=\"\", color=\"k\", title=None, plot_labels=True\n",
    "    )\n",
    "    plt.savefig(PANEL_supp_LP_syn2, facecolor=\"None\", transparent=False)\n",
    "    plt.show()"
   ]
  },
  {
   "cell_type": "markdown",
   "metadata": {},
   "source": [
    "## Assemble figure"
   ]
  },
  {
   "cell_type": "code",
   "execution_count": 50,
   "metadata": {},
   "outputs": [],
   "source": [
    "time_vec = np.arange(0, 11000, 0.025)"
   ]
  },
  {
   "cell_type": "code",
   "execution_count": 51,
   "metadata": {},
   "outputs": [],
   "source": [
    "def svg(img):\n",
    "    IPd.display(IPd.HTML('<img src=\"{}\" / >'.format(img, time.time())))"
   ]
  },
  {
   "cell_type": "code",
   "execution_count": 60,
   "metadata": {},
   "outputs": [
    {
     "data": {
      "text/html": [
       "<img src=\"../fig/fig3_supp5.svg\" / >"
      ],
      "text/plain": [
       "<IPython.core.display.HTML object>"
      ]
     },
     "metadata": {},
     "output_type": "display_data"
    }
   ],
   "source": [
    "from svgutils.compose import *\n",
    "\n",
    "# > Inkscape pixel is 1/90 of an inch, other software usually uses 1/72.\n",
    "# > http://www.inkscapeforum.com/viewtopic.php?f=6&t=5964\n",
    "svg_scale = 1.25  # set this to 1.25 for Inkscape, 1.0 otherwise\n",
    "factor_svg=5.5\n",
    "\n",
    "# Panel letters in Helvetica Neue, 12pt, Medium\n",
    "kwargs_text = {'size': '12pt', 'font': 'Arial', 'weight': '800'}\n",
    "kwargs_text_12pt = {'size': '12pt', 'font': 'Arial', 'weight': '500'}\n",
    "kwargs_consistent = {'size': '10pt', 'font': 'Arial', 'weight': '500', 'color': '#AF99EF'}\n",
    "kwargs_consistent1 = {'size': '10pt', 'font': 'Arial', 'weight': '500', 'color': '#9E7DD5'}\n",
    "kwargs_inconsistent = {'size': '10pt', 'font': 'Arial', 'weight': '500', 'color': '#AF99EF'}\n",
    "kwargs_text8pt = {'size': '7.7pt', 'font': 'Arial'}\n",
    "kwargs_text8pt_blue = {'size': '7.7pt', 'font': 'Arial', 'weight': '500', 'color': \"#0570b0\"}\n",
    "\n",
    "f = Figure(\"20.3cm\", \"10.4cm\",\n",
    "\n",
    "    Panel(\n",
    "          SVG(PANEL_supp_PY1).scale(svg_scale).move(0, 0*factor_svg),\n",
    "    ).move(0.0*factor_svg, -7+1.6*factor_svg),\n",
    "\n",
    "    Panel(\n",
    "          SVG(PANEL_supp_PY_syn1).scale(svg_scale).move(0, 0*factor_svg),\n",
    "    ).move(52.0*factor_svg, 0.3*factor_svg),\n",
    "\n",
    "    Panel(\n",
    "          SVG(PANEL_supp_PY2).scale(svg_scale).move(0, 0*factor_svg),\n",
    "    ).move(0.0*factor_svg, 83+1.6*factor_svg),\n",
    "\n",
    "    Panel(\n",
    "          SVG(PANEL_supp_PY_syn2).scale(svg_scale).move(0, 0*factor_svg),\n",
    "    ).move(52.0*factor_svg, 90+0.3*factor_svg),\n",
    "\n",
    "    Panel(\n",
    "          SVG(PANEL_supp_LP1).scale(svg_scale).move(0, 0*factor_svg),\n",
    "    ).move(0.0*factor_svg, 173+1.6*factor_svg),\n",
    "\n",
    "    Panel(\n",
    "          SVG(PANEL_supp_LP_syn1).scale(svg_scale).move(0, 0*factor_svg),\n",
    "    ).move(52.0*factor_svg, 180+0.3*factor_svg),\n",
    "\n",
    "    Panel(\n",
    "          SVG(PANEL_supp_LP2).scale(svg_scale).move(0, 0*factor_svg),\n",
    "    ).move(0.0*factor_svg, 263+1.6*factor_svg),\n",
    "\n",
    "    Panel(\n",
    "          SVG(PANEL_supp_LP_syn2).scale(svg_scale).move(0, 0*factor_svg),\n",
    "    ).move(52.0*factor_svg, 270+0.3*factor_svg),\n",
    ")\n",
    "\n",
    "!mkdir -p fig\n",
    "f.save(\"../fig/fig3_supp5.svg\")\n",
    "svg('../fig/fig3_supp5.svg')"
   ]
  },
  {
   "cell_type": "code",
   "execution_count": null,
   "metadata": {},
   "outputs": [],
   "source": []
  },
  {
   "cell_type": "code",
   "execution_count": null,
   "metadata": {},
   "outputs": [],
   "source": []
  },
  {
   "cell_type": "code",
   "execution_count": null,
   "metadata": {},
   "outputs": [],
   "source": []
  },
  {
   "cell_type": "code",
   "execution_count": null,
   "metadata": {},
   "outputs": [],
   "source": []
  },
  {
   "cell_type": "code",
   "execution_count": null,
   "metadata": {},
   "outputs": [],
   "source": []
  },
  {
   "cell_type": "code",
   "execution_count": null,
   "metadata": {},
   "outputs": [],
   "source": []
  }
 ],
 "metadata": {
  "kernelspec": {
   "display_name": "Python 3",
   "language": "python",
   "name": "python3"
  },
  "language_info": {
   "codemirror_mode": {
    "name": "ipython",
    "version": 3
   },
   "file_extension": ".py",
   "mimetype": "text/x-python",
   "name": "python",
   "nbconvert_exporter": "python",
   "pygments_lexer": "ipython3",
   "version": "3.8.10"
  }
 },
 "nbformat": 4,
 "nbformat_minor": 4
}
