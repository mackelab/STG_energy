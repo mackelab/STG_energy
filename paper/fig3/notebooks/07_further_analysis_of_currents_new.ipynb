{
 "cells": [
  {
   "cell_type": "code",
   "execution_count": 1,
   "metadata": {},
   "outputs": [],
   "source": [
    "import math\n",
    "import time\n",
    "from copy import deepcopy\n",
    "import dill as pickle\n",
    "import IPython.display as IPd\n",
    "import matplotlib as mpl\n",
    "import matplotlib.pylab as plt\n",
    "import numpy as np\n",
    "import pandas as pd\n",
    "import torch\n",
    "from matplotlib import ticker\n",
    "from pyloric import create_prior, simulate, summary_stats\n",
    "from pyloric.utils import energy_of_membrane, energy_of_synapse\n",
    "from sbi.analysis import ActiveSubspace\n",
    "\n",
    "import stg_energy.fig3_active_subspaces.viz as viz\n",
    "from stg_energy.fig3_active_subspaces.helper_functions import nth_argmax, nth_argmin"
   ]
  },
  {
   "cell_type": "markdown",
   "metadata": {},
   "source": [
    "# Figure 3"
   ]
  },
  {
   "cell_type": "code",
   "execution_count": 2,
   "metadata": {},
   "outputs": [],
   "source": [
    "pd.options.display.max_columns = 999"
   ]
  },
  {
   "cell_type": "code",
   "execution_count": 3,
   "metadata": {},
   "outputs": [],
   "source": [
    "%load_ext autoreload\n",
    "%autoreload 2"
   ]
  },
  {
   "cell_type": "code",
   "execution_count": 4,
   "metadata": {},
   "outputs": [],
   "source": [
    "PANEL_MECH_KD_A = \"../svg/panel_mech_kd_a_new.svg\"\n",
    "PANEL_MECH_KD_B = \"../svg/panel_mech_kd_b_new.svg\"\n",
    "PANEL_MECH_KD_C = \"../svg/panel_mech_kd_c_new.svg\"\n",
    "PANEL_MECH_KD_D = \"../svg/panel_mech_kd_d_new.svg\"\n",
    "PANEL_MECH_KD_E = \"../svg/panel_mech_kd_e_new.svg\"\n",
    "PANEL_MECH_KD_F = \"../svg/panel_mech_kd_f_new.svg\"\n",
    "PANEL_MECH_KD_voltage = \"../svg/panel_mech_kd_voltage_new.svg\""
   ]
  },
  {
   "cell_type": "markdown",
   "metadata": {},
   "source": [
    "### Load experimental data"
   ]
  },
  {
   "cell_type": "code",
   "execution_count": 5,
   "metadata": {},
   "outputs": [],
   "source": [
    "prior_11 = create_prior()"
   ]
  },
  {
   "cell_type": "code",
   "execution_count": 6,
   "metadata": {},
   "outputs": [],
   "source": [
    "theta = pd.read_pickle(\n",
    "    \"../../../results/simulation_data_Tube_MLslurm_cluster/close_to_xo_circuit_parameters.pkl\"\n",
    ")\n",
    "x = pd.read_pickle(\n",
    "    \"../../../results/simulation_data_Tube_MLslurm_cluster/close_to_xo_simulation_outputs.pkl\"\n",
    ")\n",
    "seeds = np.load(\n",
    "    \"../../../results/simulation_data_Tube_MLslurm_cluster/close_to_xo_seeds.npy\"\n",
    ")\n",
    "\n",
    "theta_np = theta.to_numpy()\n",
    "x_np = x.to_numpy()"
   ]
  },
  {
   "cell_type": "markdown",
   "metadata": {},
   "source": [
    "### Time vector"
   ]
  },
  {
   "cell_type": "code",
   "execution_count": 7,
   "metadata": {},
   "outputs": [],
   "source": [
    "t = np.arange(0, 11000, 0.025)"
   ]
  },
  {
   "cell_type": "markdown",
   "metadata": {},
   "source": [
    "### Doubling Na leads to twice as high effective conductances"
   ]
  },
  {
   "cell_type": "code",
   "execution_count": 8,
   "metadata": {},
   "outputs": [],
   "source": [
    "from pyloric.utils import show_traces"
   ]
  },
  {
   "cell_type": "code",
   "execution_count": 9,
   "metadata": {},
   "outputs": [],
   "source": [
    "custom_stats = {\n",
    "    \"plateau_durations\": True,\n",
    "    \"num_bursts\": True,\n",
    "    \"num_spikes\": True,\n",
    "    \"energies\": True,\n",
    "    \"energies_per_burst\": True,\n",
    "    \"energies_per_spike\": True,\n",
    "    \"pyloric_like\": True,\n",
    "}"
   ]
  },
  {
   "cell_type": "code",
   "execution_count": 10,
   "metadata": {},
   "outputs": [],
   "source": [
    "index = 2"
   ]
  },
  {
   "cell_type": "code",
   "execution_count": 11,
   "metadata": {},
   "outputs": [],
   "source": [
    "out_target_base = simulate(theta.loc[index], seed=int(seeds[index]), track_energy=True, track_currents=True)\n",
    "summstats_base = summary_stats(out_target_base, stats_customization=custom_stats)"
   ]
  },
  {
   "cell_type": "code",
   "execution_count": 12,
   "metadata": {},
   "outputs": [
    {
     "name": "stdout",
     "output_type": "stream",
     "text": [
      "Energy consumption of PY:               30661\n",
      "Num spikes of PY:                       162\n",
      "Energy consumption per spike of PY:     185\n"
     ]
    }
   ],
   "source": [
    "print(\"Energy consumption of PY:              \", int(summstats_base[\"energies\"][\"PY\"].loc[0]))\n",
    "print(\"Num spikes of PY:                      \", int(summstats_base[\"num_spikes\"][\"PY\"].loc[0]))\n",
    "print(\"Energy consumption per spike of PY:    \", int(summstats_base[\"energies_per_spike\"][\"PY\"].loc[0]))"
   ]
  },
  {
   "cell_type": "markdown",
   "metadata": {},
   "source": [
    "### ...but doubling Kd does not"
   ]
  },
  {
   "cell_type": "code",
   "execution_count": 13,
   "metadata": {},
   "outputs": [],
   "source": [
    "perturbed_theta = deepcopy(theta.loc[index])\n",
    "perturbed_theta[\"PY\"][\"Kd\"] += perturbed_theta[\"PY\"][\"Kd\"] * 0.5"
   ]
  },
  {
   "cell_type": "code",
   "execution_count": 14,
   "metadata": {},
   "outputs": [],
   "source": [
    "out_target = simulate(perturbed_theta, seed=int(seeds[index]), track_energy=True, track_currents=True)\n",
    "summstats = summary_stats(out_target, stats_customization=custom_stats)"
   ]
  },
  {
   "cell_type": "code",
   "execution_count": 15,
   "metadata": {},
   "outputs": [
    {
     "name": "stdout",
     "output_type": "stream",
     "text": [
      "Energy consumption of PY:               25197\n",
      "Num spikes of PY:                       139\n",
      "Energy consumption per spike of PY:     176\n"
     ]
    }
   ],
   "source": [
    "print(\"Energy consumption of PY:              \", int(summstats[\"energies\"][\"PY\"].loc[0]))\n",
    "print(\"Num spikes of PY:                      \", int(summstats[\"num_spikes\"][\"PY\"].loc[0]))\n",
    "print(\"Energy consumption per spike of PY:    \", int(summstats[\"energies_per_spike\"][\"PY\"].loc[0]))"
   ]
  },
  {
   "cell_type": "code",
   "execution_count": 63,
   "metadata": {},
   "outputs": [
    {
     "data": {
      "image/png": "[encoded data removed]",
      "text/plain": [
       "<Figure size 210x80 with 1 Axes>"
      ]
     },
     "metadata": {},
     "output_type": "display_data"
    }
   ],
   "source": [
    "with mpl.rc_context(fname=\"../../../.matplotlibrc\"):\n",
    "    fig, ax = plt.subplots(1, 1, figsize=(2.1, 0.8))\n",
    "    _ = ax.plot(t[:91500-65500], out_target_base[\"membrane_conds\"][2, 5, 70500:96500], c=\"k\")\n",
    "    _ = ax.plot(t[:91500-65500], out_target[\"membrane_conds\"][2, 5, 70500:96500], alpha=0.7, c=\"#d7301f\")\n",
    "    ax.set_ylabel(\"$n^4 \\cdot \\overline{g}_{\\mathrm{Kd}}$ (PY)\\n(mS / $\\mathrm{cm}^2$)\", labelpad=6.5)\n",
    "    ax.set_xlabel(\"Time (ms)\")\n",
    "    \n",
    "    ax.set_ylim([-0.45, 11])\n",
    "    ax.set_yticks([0, 11])\n",
    "    ax.set_xticks([0, 200, 400, 600])\n",
    "    plt.savefig(PANEL_MECH_KD_B, facecolor=\"None\", transparent=True)"
   ]
  },
  {
   "cell_type": "markdown",
   "metadata": {},
   "source": [
    "### ...and plot n**4"
   ]
  },
  {
   "cell_type": "code",
   "execution_count": 64,
   "metadata": {},
   "outputs": [
    {
     "data": {
      "image/png": "[encoded data removed]",
      "text/plain": [
       "<Figure size 210x80 with 1 Axes>"
      ]
     },
     "metadata": {},
     "output_type": "display_data"
    }
   ],
   "source": [
    "with mpl.rc_context(fname=\"../../../.matplotlibrc\"):\n",
    "    fig, ax = plt.subplots(1, 1, figsize=(2.1, 0.8))\n",
    "    _ = ax.plot(t[:91500-65500], out_target_base[\"n_Kd\"][2, 70500:96500]**4, c=\"k\") # 66000:91000\n",
    "    _ = ax.plot(t[:91500-65500], out_target[\"n_Kd\"][2, 70500:96500]**4, alpha=0.7, c=\"#d7301f\")\n",
    "    ax.set_ylabel(\"$n^4$ (PY)\", labelpad=10)\n",
    "#     ax.set_xlabel(\"Time (ms)\")\n",
    "    ax.set_xticks([])\n",
    "    ax.legend(\n",
    "        [\n",
    "            \"$\\overline{g}_{\\mathrm{Kd}}$\"+f\" = {int(theta.loc[index]['PY']['Kd'])}\" + \" mS / $\\mathrm{cm}^2$\", \n",
    "            \"$\\overline{g}_{\\mathrm{Kd}}$\"+f\" = {int(perturbed_theta['PY']['Kd'])}\" + \" mS / $\\mathrm{cm}^2$\"\n",
    "        ], \n",
    "        loc=(0.04, 0.8), \n",
    "        labelspacing=0.3\n",
    "    )\n",
    "    ax.set_xticks([0, 200, 400, 600])\n",
    "    ax.set_xticklabels([])\n",
    "    ax.set_ylim([-0.0035, 0.1])\n",
    "    ax.set_yticks([0, 0.1])\n",
    "    plt.savefig(PANEL_MECH_KD_D, facecolor=\"None\", transparent=True)"
   ]
  },
  {
   "cell_type": "code",
   "execution_count": 56,
   "metadata": {},
   "outputs": [],
   "source": [
    "def svg(img):\n",
    "    IPd.display(IPd.HTML('<img src=\"{}\" / >'.format(img, time.time())))"
   ]
  },
  {
   "cell_type": "code",
   "execution_count": 57,
   "metadata": {},
   "outputs": [
    {
     "data": {
      "text/html": [
       "<img src=\"../fig/fig3_supp9_new.svg\" / >"
      ],
      "text/plain": [
       "<IPython.core.display.HTML object>"
      ]
     },
     "metadata": {},
     "output_type": "display_data"
    }
   ],
   "source": [
    "from svgutils.compose import *\n",
    "\n",
    "# > Inkscape pixel is 1/90 of an inch, other software usually uses 1/72.\n",
    "# > http://www.inkscapeforum.com/viewtopic.php?f=6&t=5964\n",
    "svg_scale = 1.25  # set this to 1.25 for Inkscape, 1.0 otherwise\n",
    "factor_svg=5.5\n",
    "\n",
    "# Panel letters in Helvetica Neue, 12pt, Medium\n",
    "kwargs_text = {'size': '12pt', 'font': 'Arial', 'weight': '800'}\n",
    "kwargs_text_12pt = {'size': '12pt', 'font': 'Arial', 'weight': '500'}\n",
    "kwargs_consistent = {'size': '10pt', 'font': 'Arial', 'weight': '500', 'color': '#AF99EF'}\n",
    "kwargs_consistent1 = {'size': '10pt', 'font': 'Arial', 'weight': '500', 'color': '#9E7DD5'}\n",
    "kwargs_inconsistent = {'size': '10pt', 'font': 'Arial', 'weight': '500', 'color': '#AF99EF'}\n",
    "kwargs_text8pt = {'size': '7.7pt', 'font': 'Arial'}\n",
    "kwargs_text8pt_blue = {'size': '7.7pt', 'font': 'Arial', 'weight': '500', 'color': \"#0570b0\"}\n",
    "\n",
    "f = Figure(\"20.3cm\", \"4.7cm\",\n",
    "    Panel(\n",
    "          SVG(PANEL_MECH_KD_D).scale(svg_scale).move(0, 0*factor_svg),\n",
    "    ).move(95*factor_svg, -1.4*factor_svg),\n",
    "\n",
    "    Panel(\n",
    "          SVG(PANEL_MECH_KD_B).scale(svg_scale).move(0, 0*factor_svg),\n",
    "    ).move(48*factor_svg, -1.4*factor_svg),        \n",
    ")\n",
    "\n",
    "# !mkdir -p fig\n",
    "# f.save(\"../fig/fig3_supp9_new.svg\")\n",
    "# svg('../fig/fig3_supp9_new.svg')"
   ]
  },
  {
   "cell_type": "code",
   "execution_count": null,
   "metadata": {},
   "outputs": [],
   "source": []
  },
  {
   "cell_type": "code",
   "execution_count": null,
   "metadata": {},
   "outputs": [],
   "source": []
  }
 ],
 "metadata": {
  "kernelspec": {
   "display_name": "Python 3",
   "language": "python",
   "name": "python3"
  },
  "language_info": {
   "codemirror_mode": {
    "name": "ipython",
    "version": 3
   },
   "file_extension": ".py",
   "mimetype": "text/x-python",
   "name": "python",
   "nbconvert_exporter": "python",
   "pygments_lexer": "ipython3",
   "version": "3.8.10"
  }
 },
 "nbformat": 4,
 "nbformat_minor": 4
}
