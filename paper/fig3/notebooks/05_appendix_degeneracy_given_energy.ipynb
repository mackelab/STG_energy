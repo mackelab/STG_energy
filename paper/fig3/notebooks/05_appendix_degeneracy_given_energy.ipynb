{
 "cells": [
  {
   "cell_type": "code",
   "execution_count": 1,
   "metadata": {},
   "outputs": [],
   "source": [
    "import math\n",
    "import time\n",
    "from multiprocessing import Pool\n",
    "from copy import deepcopy\n",
    "import dill as pickle\n",
    "import IPython.display as IPd\n",
    "import matplotlib as mpl\n",
    "import matplotlib.pylab as plt\n",
    "import numpy as np\n",
    "import pandas as pd\n",
    "import torch\n",
    "from matplotlib import ticker\n",
    "from pyloric import create_prior, simulate, summary_stats\n",
    "from pyloric.utils import show_traces\n",
    "from pyloric.utils import energy_of_membrane, energy_of_synapse\n",
    "from stg_energy import check_if_close_to_obs \n",
    "from sbi.analysis import ActiveSubspace\n",
    "from sbi.utils import BoxUniform\n",
    "from stg_energy.common import get_labels_8pt, generate_labels_for_pairplot\n",
    "from sbi.analysis import pairplot\n",
    "from pyloric import create_prior\n",
    "import matplotlib.patheffects as pe\n",
    "\n",
    "from stg_energy.fig3_active_subspaces.helper_functions import nth_argmax, nth_argmin\n",
    "import stg_energy.fig3_active_subspaces.viz_05_appendix as viz"
   ]
  },
  {
   "cell_type": "markdown",
   "metadata": {},
   "source": [
    "# Figure 3"
   ]
  },
  {
   "cell_type": "code",
   "execution_count": 2,
   "metadata": {},
   "outputs": [],
   "source": [
    "pd.options.display.max_columns = 999"
   ]
  },
  {
   "cell_type": "code",
   "execution_count": 3,
   "metadata": {},
   "outputs": [],
   "source": [
    "%load_ext autoreload\n",
    "%autoreload 2"
   ]
  },
  {
   "cell_type": "code",
   "execution_count": 4,
   "metadata": {},
   "outputs": [],
   "source": [
    "PANEL_NEW_A = \"../svg/panel_new_a.svg\"\n",
    "PANEL_NEW_B1 = \"../svg/panel_new_b1.svg\"\n",
    "PANEL_NEW_B2 = \"../svg/panel_new_b2.svg\"\n",
    "PANEL_NEW_C11 = \"../svg/panel_new_c11.svg\"\n",
    "PANEL_NEW_C12 = \"../svg/panel_new_c12.svg\"\n",
    "PANEL_NEW_C21 = \"../svg/panel_new_c21.svg\"\n",
    "PANEL_NEW_C22 = \"../svg/panel_new_c22.svg\"\n",
    "\n",
    "PANEL_NEW_D1 = \"../svg/panel_new_d1.svg\"\n",
    "PANEL_NEW_D2 = \"../svg/panel_new_d2.svg\"\n",
    "PANEL_NEW_E1 = \"../svg/panel_new_e1.svg\"\n",
    "PANEL_NEW_E2 = \"../svg/panel_new_e2.svg\"\n",
    "PANEL_NEW_E3 = \"../svg/panel_new_e3.svg\"\n",
    "PANEL_NEW_E4 = \"../svg/panel_new_e4.svg\"\n",
    "PANEL_NEW_F1 = \"../svg/panel_new_f1.svg\"\n",
    "PANEL_NEW_F2 = \"../svg/panel_new_f2.svg\"\n",
    "PANEL_NEW_G1 = \"../svg/panel_new_g1.svg\"\n",
    "PANEL_NEW_G2= \"../svg/panel_new_g2.svg\"\n",
    "PANEL_NEW_H = \"../svg/panel_new_h.svg\"\n",
    "PANEL_NEW_supp_a1 = \"../svg/panel_new_supp_a1.svg\"\n",
    "PANEL_NEW_supp_a2 = \"../svg/panel_new_supp_a2.svg\"\n",
    "PANEL_NEW_supp_a3 = \"../svg/panel_new_supp_a3.svg\"\n",
    "\n",
    "PANEL_NEW_supp_params_11 = \"../svg/PANEL_NEW_supp_params_11.svg\"\n",
    "PANEL_NEW_supp_params_12 = \"../svg/PANEL_NEW_supp_params_12.svg\"\n",
    "PANEL_NEW_supp_params_21 = \"../svg/PANEL_NEW_supp_params_21.svg\"\n",
    "PANEL_NEW_supp_params_22 = \"../svg/PANEL_NEW_supp_params_22.svg\"\n",
    "\n",
    "PANEL_NEW_supp_b1 = \"../svg/panel_new_supp_b1.svg\"\n",
    "PANEL_NEW_supp_b2 = \"../svg/panel_new_supp_b2.svg\"\n",
    "PANEL_NEW_supp_b3 = \"../svg/panel_new_supp_b3.svg\"\n",
    "\n",
    "PANEL_NEW_supp_c = \"../svg/panel_new_supp_c.svg\""
   ]
  },
  {
   "cell_type": "markdown",
   "metadata": {},
   "source": [
    "### Load experimental data"
   ]
  },
  {
   "cell_type": "code",
   "execution_count": 5,
   "metadata": {},
   "outputs": [],
   "source": [
    "prior_11 = create_prior()"
   ]
  },
  {
   "cell_type": "code",
   "execution_count": 6,
   "metadata": {},
   "outputs": [],
   "source": [
    "theta = pd.read_pickle(\n",
    "    \"../../../results/simulation_data_Tube_MLslurm_cluster/close_to_xo_circuit_parameters.pkl\"\n",
    ")\n",
    "x = pd.read_pickle(\n",
    "    \"../../../results/simulation_data_Tube_MLslurm_cluster/close_to_xo_simulation_outputs.pkl\"\n",
    ")\n",
    "seeds = np.load(\n",
    "    \"../../../results/simulation_data_Tube_MLslurm_cluster/close_to_xo_seeds.npy\"\n",
    ")\n",
    "\n",
    "theta_np = theta.to_numpy()\n",
    "x_np = x.to_numpy()"
   ]
  },
  {
   "cell_type": "code",
   "execution_count": 7,
   "metadata": {},
   "outputs": [],
   "source": [
    "syns = deepcopy(theta_np[:, -7:])\n",
    "syns = np.exp(syns)"
   ]
  },
  {
   "cell_type": "code",
   "execution_count": 8,
   "metadata": {},
   "outputs": [],
   "source": [
    "import sys\n",
    "sys.path.append(\"home/michael/Documents/sbi/sbi/utils/user_input_checks_utils\")"
   ]
  },
  {
   "cell_type": "code",
   "execution_count": 9,
   "metadata": {},
   "outputs": [],
   "source": [
    "import sys\n",
    "from sbi.utils import user_input_checks_utils\n",
    "\n",
    "sys.modules[\"sbi.user_input.user_input_checks_utils\"] = user_input_checks_utils"
   ]
  },
  {
   "cell_type": "code",
   "execution_count": 10,
   "metadata": {},
   "outputs": [
    {
     "name": "stderr",
     "output_type": "stream",
     "text": [
      "/home/michael/Documents/sbi/sbi/inference/posteriors/base_posterior.py:1117: UserWarning: You had saved the posterior under an older version of `sbi`. To make the loaded version comply with the version you are using right now, we had to set the following attributes: `self._device = cpu` `self._num_iid_trials = None` `self._iid_methods = ['snle', 'snre_a', 'snre_b']` `self._allow_iid_x = False`\n",
      "  warn(warning_description + warning_msg)\n"
     ]
    }
   ],
   "source": [
    "with open(\n",
    "    \"../../../results/trained_neural_nets/inference/posterior_11deg.pickle\", \"rb\"\n",
    ") as handle:\n",
    "    posterior = pickle.load(handle)\n",
    "    posterior._device = 'cpu'\n",
    "    \n",
    "posterior._prior = BoxUniform(posterior._prior.support.base_constraint.lower_bound, posterior._prior.support.base_constraint.upper_bound)\n",
    "posterior._sample_with = \"rejection\""
   ]
  },
  {
   "cell_type": "code",
   "execution_count": 11,
   "metadata": {},
   "outputs": [],
   "source": [
    "xo = np.load(\"../../../results/experimental_data/xo_11deg.npy\")"
   ]
  },
  {
   "cell_type": "code",
   "execution_count": 12,
   "metadata": {},
   "outputs": [],
   "source": [
    "energies = x[\"energies\"]\n",
    "energies_tt = torch.as_tensor(energies.to_numpy())\n",
    "x_tt = torch.as_tensor(x_np, dtype=torch.float32)\n",
    "summed_energies = np.sum(x['energies'].to_numpy(), axis=1) / 10 / 1000"
   ]
  },
  {
   "cell_type": "markdown",
   "metadata": {},
   "source": [
    "### Define simulator"
   ]
  },
  {
   "cell_type": "code",
   "execution_count": 13,
   "metadata": {},
   "outputs": [],
   "source": [
    "prior = create_prior(as_torch_dist=True)\n",
    "lower_b = prior.support.base_constraint.lower_bound.unsqueeze(0)\n",
    "upper_b = prior.support.base_constraint.upper_bound.unsqueeze(0)\n",
    "limits = torch.cat((lower_b, upper_b), dim=0).T"
   ]
  },
  {
   "cell_type": "markdown",
   "metadata": {},
   "source": [
    "### Load experimental data for time vector"
   ]
  },
  {
   "cell_type": "code",
   "execution_count": 14,
   "metadata": {},
   "outputs": [],
   "source": [
    "npz = np.load('../../../results/experimental_data/trace_data_845_082_0044.npz')\n",
    "t = npz['t']\n",
    "PD_spikes = npz['PD_spikes']\n",
    "LP_spikes = npz['LP_spikes']\n",
    "PY_spikes = npz['PY_spikes']\n",
    "pdn = npz['pdn']\n",
    "lpn = npz['lpn']\n",
    "pyn = npz['pyn']\n",
    "start_index = 219500 + 2100\n",
    "end_index   = 246500 + 2100  # 32000\n",
    "height_offset = 200\n",
    "shown_t = t[end_index] - t[start_index]\n",
    "time_len = shown_t / 0.025 * 1000\n",
    "dt = t[1] - t[0]\n",
    "time_vec = np.arange(0, 11000, 0.025)"
   ]
  },
  {
   "cell_type": "markdown",
   "metadata": {},
   "source": [
    "# Figure 1"
   ]
  },
  {
   "cell_type": "code",
   "execution_count": 15,
   "metadata": {},
   "outputs": [],
   "source": [
    "inds = np.argsort(summed_energies)\n",
    "quantile = 0.00015\n",
    "sorted_energies = summed_energies[inds]\n",
    "num_vals = sorted_energies.shape[0]\n",
    "one_percent_quantile = int(num_vals * quantile)\n",
    "one_percent_energy = sorted_energies[one_percent_quantile]"
   ]
  },
  {
   "cell_type": "code",
   "execution_count": 16,
   "metadata": {},
   "outputs": [],
   "source": [
    "min_energy_condition = summed_energies < one_percent_energy\n",
    "min_energy_theta = theta_np[min_energy_condition]\n",
    "min_energy_energies = summed_energies[min_energy_condition]\n",
    "min_energy_x = x[min_energy_condition]\n",
    "min_energy_seed = seeds[min_energy_condition]"
   ]
  },
  {
   "cell_type": "markdown",
   "metadata": {},
   "source": [
    "### Panel A"
   ]
  },
  {
   "cell_type": "code",
   "execution_count": 17,
   "metadata": {},
   "outputs": [],
   "source": [
    "labels_ = get_labels_8pt()\n",
    "lims=limits.numpy()\n",
    "all_labels = generate_labels_for_pairplot(lims)"
   ]
  },
  {
   "cell_type": "code",
   "execution_count": 18,
   "metadata": {
    "tags": []
   },
   "outputs": [
    {
     "name": "stderr",
     "output_type": "stream",
     "text": [
      "/home/michael/Documents/sbi/sbi/utils/plot.py:563: FutureWarning: elementwise comparison failed; returning scalar instead, but in the future will perform elementwise comparison\n",
      "  if opts[\"labels\"] == [] or opts[\"labels\"] is None:\n",
      "findfont: Font family ['serif'] not found. Falling back to DejaVu Sans.\n",
      "findfont: Generic family 'serif' not found because none of the following families were found: Arial, sans-serif\n",
      "findfont: Font family ['serif'] not found. Falling back to DejaVu Sans.\n",
      "findfont: Generic family 'serif' not found because none of the following families were found: Arial, sans-serif\n",
      "findfont: Font family ['serif'] not found. Falling back to DejaVu Sans.\n",
      "findfont: Generic family 'serif' not found because none of the following families were found: Arial, sans-serif\n"
     ]
    },
    {
     "data": {
      "image/png": "[encoded data removed]",
      "text/plain": [
       "<Figure size 200x200 with 16 Axes>"
      ]
     },
     "metadata": {},
     "output_type": "display_data"
    }
   ],
   "source": [
    "with mpl.rc_context(fname='../../../.matplotlibrc'):\n",
    "\n",
    "    labels_new = get_labels_8pt()\n",
    "    new_labels = []\n",
    "    for l in labels_new:\n",
    "        new_labels.append(l+'    '+r'$\\;\\;$')\n",
    "    labels_new = new_labels\n",
    "    labels_new[9] += ''\n",
    "\n",
    "    fig, axes = pairplot(\n",
    "        samples=min_energy_theta,\n",
    "        subset=[0,8,18,25],\n",
    "        labelpad=1,\n",
    "        tick_labelpad=1,\n",
    "        limits=limits,\n",
    "        ticks=limits,\n",
    "        tick_labels=all_labels,\n",
    "        figsize=(2.0, 2.0),\n",
    "        labels=labels_,\n",
    "        scatter_offdiag={'rasterized':True, 'alpha':1.0},\n",
    "        diag=['scatter'],\n",
    "        upper=['scatter'],\n",
    "        hist_offdiag={'bins':50},\n",
    "        plot_offdiag={'linewidth': 1.6, 'path_effects':[pe.Stroke(linewidth=2.4, foreground='k'), pe.Normal()]}\n",
    "    )\n",
    "    plt.savefig(PANEL_NEW_A, facecolor='None', transparent=True)"
   ]
  },
  {
   "cell_type": "markdown",
   "metadata": {},
   "source": [
    "### Panel B"
   ]
  },
  {
   "cell_type": "code",
   "execution_count": 19,
   "metadata": {},
   "outputs": [
    {
     "data": {
      "image/png": "[encoded data removed]",
      "text/plain": [
       "<Figure size 220x120 with 1 Axes>"
      ]
     },
     "metadata": {},
     "output_type": "display_data"
    },
    {
     "data": {
      "image/png": "[encoded data removed]",
      "text/plain": [
       "<Figure size 220x120 with 1 Axes>"
      ]
     },
     "metadata": {},
     "output_type": "display_data"
    }
   ],
   "source": [
    "viz.plot_overall_efficient(\n",
    "    1, min_energy_theta, min_energy_seed, time_vec, time_len, offset=90000\n",
    ")\n",
    "plt.savefig(PANEL_NEW_F1, facecolor='None', transparent=True)\n",
    "\n",
    "viz.plot_overall_efficient(\n",
    "    3, min_energy_theta, min_energy_seed, time_vec, time_len\n",
    ")\n",
    "plt.savefig(PANEL_NEW_F2, facecolor='None', transparent=True)"
   ]
  },
  {
   "cell_type": "markdown",
   "metadata": {},
   "source": [
    "### Panel C"
   ]
  },
  {
   "cell_type": "code",
   "execution_count": 20,
   "metadata": {},
   "outputs": [
    {
     "data": {
      "image/png": "[encoded data removed]",
      "text/plain": [
       "<Figure size 130x100 with 1 Axes>"
      ]
     },
     "metadata": {},
     "output_type": "display_data"
    },
    {
     "data": {
      "image/png": "[encoded data removed]",
      "text/plain": [
       "<Figure size 130x100 with 1 Axes>"
      ]
     },
     "metadata": {},
     "output_type": "display_data"
    },
    {
     "data": {
      "image/png": "[encoded data removed]",
      "text/plain": [
       "<Figure size 38x100 with 1 Axes>"
      ]
     },
     "metadata": {},
     "output_type": "display_data"
    },
    {
     "data": {
      "image/png": "[encoded data removed]",
      "text/plain": [
       "<Figure size 42x100 with 1 Axes>"
      ]
     },
     "metadata": {},
     "output_type": "display_data"
    }
   ],
   "source": [
    "viz.plot_params(deepcopy(min_energy_theta[1]), [1, 3, 11, 12, 20, 23, 24, 27], labels=False, width=1.3)\n",
    "plt.savefig(PANEL_NEW_supp_params_11, facecolor='None', transparent=True)\n",
    "viz.plot_params(deepcopy(min_energy_theta[3]), [1, 3, 11, 12, 20, 23, 24, 27], width=1.3)\n",
    "plt.savefig(PANEL_NEW_supp_params_12, facecolor='None', transparent=True)\n",
    "\n",
    "viz.plot_synapses(deepcopy(min_energy_theta[1]), [1, 3, 11, 12, 20, 23, 24, 27], labels=False, width=0.38)\n",
    "plt.savefig(PANEL_NEW_supp_params_21, facecolor='None', transparent=True)\n",
    "viz.plot_synapses(deepcopy(min_energy_theta[3]), [1, 3, 11, 12, 20, 23, 24, 27], width=0.42)\n",
    "plt.savefig(PANEL_NEW_supp_params_22, facecolor='None', transparent=True)"
   ]
  },
  {
   "cell_type": "markdown",
   "metadata": {},
   "source": [
    "### Assemble intermeditttent figure"
   ]
  },
  {
   "cell_type": "code",
   "execution_count": 21,
   "metadata": {},
   "outputs": [],
   "source": [
    "import time\n",
    "import IPython.display as IPd\n",
    "\n",
    "def svg(img):\n",
    "    IPd.display(IPd.HTML('<img src=\"{}\" / >'.format(img, time.time())))"
   ]
  },
  {
   "cell_type": "code",
   "execution_count": 23,
   "metadata": {},
   "outputs": [
    {
     "data": {
      "text/html": [
       "<img src=\"../fig/fig3_supp8.svg\" / >"
      ],
      "text/plain": [
       "<IPython.core.display.HTML object>"
      ]
     },
     "metadata": {},
     "output_type": "display_data"
    }
   ],
   "source": [
    "from svgutils.compose import *\n",
    "\n",
    "# > Inkscape pixel is 1/90 of an inch, other software usually uses 1/72.\n",
    "# > http://www.inkscapeforum.com/viewtopic.php?f=6&t=5964\n",
    "svg_scale = 1.25  # set this to 1.25 for Inkscape, 1.0 otherwise\n",
    "factor_svg=5.5\n",
    "\n",
    "# Panel letters in Helvetica Neue, 12pt, Medium\n",
    "kwargs_text = {'size': '12pt', 'font': 'Arial', 'weight': '800'}\n",
    "\n",
    "f = Figure(\"20.3cm\", \"6.0cm\",\n",
    "    \n",
    "    Panel(\n",
    "          SVG(PANEL_NEW_A).scale(svg_scale*1.03).move(0*factor_svg, 0*factor_svg),\n",
    "          Text(\"a\", 0*factor_svg, 1.7*factor_svg, **kwargs_text),\n",
    "    ).move(0*factor_svg, 0.5*factor_svg),\n",
    "\n",
    "    Panel(\n",
    "        SVG(PANEL_NEW_F1).scale(svg_scale).move(0*factor_svg, 0*factor_svg),\n",
    "        Text(\"b\", 3.0*factor_svg, 3.4*factor_svg, **kwargs_text),\n",
    "    ).move(38.0*factor_svg, -1.2*factor_svg),\n",
    "\n",
    "    Panel(\n",
    "        SVG(PANEL_NEW_F2).scale(svg_scale).move(0*factor_svg, 0*factor_svg),\n",
    "    ).move(38.0*factor_svg, 100-1.0*factor_svg),\n",
    "\n",
    "    Panel(\n",
    "        SVG(PANEL_NEW_supp_params_11).scale(svg_scale).move(0*factor_svg, 0*factor_svg),\n",
    "        Text(\"c\", -7.0*factor_svg, 1.7*factor_svg, **kwargs_text),\n",
    "    ).move(82.0*factor_svg, 0.5*factor_svg),\n",
    "\n",
    "    Panel(\n",
    "        SVG(PANEL_NEW_supp_params_12).scale(svg_scale).move(0*factor_svg, 0*factor_svg),\n",
    "    ).move(82.0*factor_svg, 100-1.0*factor_svg),\n",
    "\n",
    "    Panel(\n",
    "        SVG(PANEL_NEW_supp_params_21).scale(svg_scale).move(0*factor_svg, 0*factor_svg),\n",
    "    ).move(109.0*factor_svg, 0.5*factor_svg),\n",
    "           \n",
    "    Panel(\n",
    "        SVG(PANEL_NEW_supp_params_22).scale(svg_scale).move(0*factor_svg, 0*factor_svg),\n",
    "    ).move(109.0*factor_svg, 100-1.0*factor_svg),\n",
    ")\n",
    "\n",
    "!mkdir -p fig\n",
    "f.save(\"../fig/fig3_supp8.svg\")\n",
    "svg('../fig/fig3_supp8.svg')"
   ]
  },
  {
   "cell_type": "markdown",
   "metadata": {},
   "source": [
    "# Figure 2"
   ]
  },
  {
   "cell_type": "code",
   "execution_count": 24,
   "metadata": {},
   "outputs": [],
   "source": [
    "energies_tt = torch.as_tensor(energies.to_numpy())\n",
    "x_tt = torch.as_tensor(x_np, dtype=torch.float32)\n",
    "\n",
    "summed_energies = x['energies'].to_numpy()[:, 1] / 10 / 1000"
   ]
  },
  {
   "cell_type": "code",
   "execution_count": 25,
   "metadata": {},
   "outputs": [],
   "source": [
    "allowed_std = 1.0"
   ]
  },
  {
   "cell_type": "code",
   "execution_count": 26,
   "metadata": {},
   "outputs": [],
   "source": [
    "selected_inds_ab = range(5)\n",
    "selected_inds_lp = range(5)\n",
    "selected_inds_py = range(5)"
   ]
  },
  {
   "cell_type": "markdown",
   "metadata": {},
   "source": [
    "### Panel B"
   ]
  },
  {
   "cell_type": "code",
   "execution_count": 27,
   "metadata": {},
   "outputs": [],
   "source": [
    "selected_ones_1 = [3, 1, 1]\n",
    "selected_ones_2 = [2, 0, 2]"
   ]
  },
  {
   "cell_type": "code",
   "execution_count": 28,
   "metadata": {},
   "outputs": [
    {
     "data": {
      "image/png": "[encoded data removed]",
      "text/plain": [
       "<Figure size 220x120 with 1 Axes>"
      ]
     },
     "metadata": {},
     "output_type": "display_data"
    },
    {
     "data": {
      "image/png": "[encoded data removed]",
      "text/plain": [
       "<Figure size 220x120 with 1 Axes>"
      ]
     },
     "metadata": {},
     "output_type": "display_data"
    }
   ],
   "source": [
    "viz.plot_stuff(selected_ones_1, time_vec, time_len, allowed_std)\n",
    "plt.savefig(PANEL_NEW_B1, facecolor=\"None\", transparent=True)\n",
    "viz.plot_stuff(selected_ones_2, time_vec, time_len, allowed_std)\n",
    "plt.savefig(PANEL_NEW_B2, facecolor=\"None\", transparent=True)"
   ]
  },
  {
   "cell_type": "markdown",
   "metadata": {},
   "source": [
    "### Panel C"
   ]
  },
  {
   "cell_type": "code",
   "execution_count": 31,
   "metadata": {},
   "outputs": [
    {
     "data": {
      "image/png": "[encoded data removed]",
      "text/plain": [
       "<Figure size 70x80 with 1 Axes>"
      ]
     },
     "metadata": {},
     "output_type": "display_data"
    },
    {
     "data": {
      "image/png": "[encoded data removed]",
      "text/plain": [
       "<Figure size 70x80 with 1 Axes>"
      ]
     },
     "metadata": {},
     "output_type": "display_data"
    }
   ],
   "source": [
    "summed_energies_total1 = viz.plot_energies(selected_ones_1, allowed_std, labels=False)\n",
    "plt.savefig(PANEL_NEW_D1, facecolor='None', transparent=True)\n",
    "summed_energies_total2 = viz.plot_energies(selected_ones_2, allowed_std)\n",
    "plt.savefig(PANEL_NEW_D2, facecolor='None', transparent=True)"
   ]
  },
  {
   "cell_type": "markdown",
   "metadata": {},
   "source": [
    "### Panel D"
   ]
  },
  {
   "cell_type": "code",
   "execution_count": 29,
   "metadata": {},
   "outputs": [
    {
     "data": {
      "image/png": "[encoded data removed]",
      "text/plain": [
       "<Figure size 130x100 with 1 Axes>"
      ]
     },
     "metadata": {},
     "output_type": "display_data"
    },
    {
     "data": {
      "image/png": "[encoded data removed]",
      "text/plain": [
       "<Figure size 130x100 with 1 Axes>"
      ]
     },
     "metadata": {},
     "output_type": "display_data"
    }
   ],
   "source": [
    "params_to_plot = [3, 7, 14, 17, 23, 24, 26]\n",
    "\n",
    "samples1, stats, all_seeds_loaded = viz.load_theta_x_seeds(*selected_ones_1)\n",
    "close_sim = check_if_close_to_obs(stats, sloppiness_durations=allowed_std, sloppiness_phases=allowed_std)\n",
    "successful_samples1 = samples1[close_sim][0]\n",
    "viz.plot_params(successful_samples1, params_to_plot, labels=False)\n",
    "plt.savefig(PANEL_NEW_C11, facecolor='None', transparent=True)\n",
    "\n",
    "samples2, stats, all_seeds_loaded = viz.load_theta_x_seeds(*selected_ones_2)\n",
    "close_sim = check_if_close_to_obs(stats, sloppiness_durations=allowed_std, sloppiness_phases=allowed_std)\n",
    "successful_samples2 = samples2[close_sim][0]\n",
    "viz.plot_params(successful_samples2, params_to_plot)\n",
    "plt.savefig(PANEL_NEW_C21, facecolor='None', transparent=True)"
   ]
  },
  {
   "cell_type": "code",
   "execution_count": 30,
   "metadata": {},
   "outputs": [
    {
     "data": {
      "image/png": "[encoded data removed]",
      "text/plain": [
       "<Figure size 50x100 with 1 Axes>"
      ]
     },
     "metadata": {},
     "output_type": "display_data"
    },
    {
     "data": {
      "image/png": "[encoded data removed]",
      "text/plain": [
       "<Figure size 50x100 with 1 Axes>"
      ]
     },
     "metadata": {},
     "output_type": "display_data"
    }
   ],
   "source": [
    "samples, stats, all_seeds_loaded = viz.load_theta_x_seeds(*selected_ones_1)\n",
    "close_sim = check_if_close_to_obs(stats, sloppiness_durations=allowed_std, sloppiness_phases=allowed_std)\n",
    "successful_samples = samples[close_sim][0]\n",
    "viz.plot_synapses(successful_samples, params_to_plot, labels=False, ylim=[0, 50])\n",
    "plt.savefig(PANEL_NEW_C12, facecolor='None', transparent=True)\n",
    "\n",
    "samples, stats, all_seeds_loaded = viz.load_theta_x_seeds(*selected_ones_2)\n",
    "close_sim = check_if_close_to_obs(stats, sloppiness_durations=allowed_std, sloppiness_phases=allowed_std)\n",
    "successful_samples = samples[close_sim][0]\n",
    "viz.plot_synapses(successful_samples, params_to_plot, ylim=[0, 50])\n",
    "plt.savefig(PANEL_NEW_C22, facecolor='None', transparent=True)"
   ]
  },
  {
   "cell_type": "markdown",
   "metadata": {},
   "source": [
    "### Panel E"
   ]
  },
  {
   "cell_type": "code",
   "execution_count": 39,
   "metadata": {},
   "outputs": [],
   "source": [
    "successful_samples_tt = []\n",
    "all_low_energies = []\n",
    "for i in range(5):\n",
    "    for j in range(5):\n",
    "        for k in range(5):\n",
    "            stats = viz.load_x_pd(i, j, k)\n",
    "            samples, _, _ = viz.load_theta_x_seeds(i, j, k)\n",
    "            close_sim = check_if_close_to_obs(stats.to_numpy(), sloppiness_durations=allowed_std, sloppiness_phases=allowed_std)\n",
    "            if np.any(close_sim):\n",
    "                successful_stats1 = stats[close_sim].iloc[0]\n",
    "                energy1 = successful_stats1[\"energies\"].to_numpy()/10/1000\n",
    "                summed_energies_total1 = np.asarray(energy1)\n",
    "                all_low_energies.append(summed_energies_total1)\n",
    "                \n",
    "                successful_samples = samples[close_sim]\n",
    "                successful_samples_tt.append(torch.as_tensor(successful_samples[0], dtype=torch.float32))\n",
    "                successful_seeds = all_seeds_loaded[close_sim]\n",
    "successful_samples_tt = torch.stack(successful_samples_tt)\n",
    "all_low_energies = np.asarray(all_low_energies)"
   ]
  },
  {
   "cell_type": "code",
   "execution_count": 33,
   "metadata": {},
   "outputs": [
    {
     "data": {
      "image/png": "[encoded data removed]",
      "text/plain": [
       "<Figure size 140x100 with 1 Axes>"
      ]
     },
     "metadata": {},
     "output_type": "display_data"
    }
   ],
   "source": [
    "theta = pd.read_pickle(\"../../../results/simulation_data_Tube_MLslurm_cluster/close_to_xo_circuit_parameters.pkl\")\n",
    "x = pd.read_pickle(\"../../../results/simulation_data_Tube_MLslurm_cluster/close_to_xo_simulation_outputs.pkl\")\n",
    "seeds = np.load(\"../../../results/simulation_data_Tube_MLslurm_cluster/close_to_xo_seeds.npy\")\n",
    "\n",
    "theta_np = theta.to_numpy()\n",
    "x_np = x.to_numpy()\n",
    "\n",
    "all_total_energies = x[\"energies\"].to_numpy()\n",
    "summed_energies_total = np.sum(np.asarray(all_total_energies), axis=1)\n",
    "\n",
    "with mpl.rc_context(fname=\"../../../.matplotlibrc\"):\n",
    "    fig, ax = plt.subplots(1, 1, figsize=(1.4, 1))\n",
    "    _ = ax.hist(all_total_energies[:, 0]/10/1000, range=[0, 30], bins=75, color=\"#3182bd\", weights=0.008*np.ones_like(summed_energies_total))\n",
    "    _ = ax.hist(all_low_energies[:, 0], range=[0, 30], bins=75, color=\"#d7301f\")\n",
    "    ax.set_ylabel('Count')\n",
    "    ax.tick_params(axis=\"both\", which=\"major\")\n",
    "    ax.spines[\"top\"].set_visible(False)\n",
    "    ax.spines[\"right\"].set_visible(False)\n",
    "    ax.spines[\"left\"].set_visible(False)\n",
    "    ax.axes.get_yaxis().set_ticks([])\n",
    "    ax.set_xlabel(\"Energy AB/PD\\n($\\mu$J/s)\")\n",
    "    ax.set_xlim([0, 30])\n",
    "    plt.savefig(PANEL_NEW_E1, facecolor='None', transparent=True)"
   ]
  },
  {
   "cell_type": "code",
   "execution_count": 34,
   "metadata": {},
   "outputs": [
    {
     "data": {
      "image/png": "[encoded data removed]",
      "text/plain": [
       "<Figure size 140x100 with 1 Axes>"
      ]
     },
     "metadata": {},
     "output_type": "display_data"
    }
   ],
   "source": [
    "with mpl.rc_context(fname=\"../../../.matplotlibrc\"):\n",
    "    fig, ax = plt.subplots(1, 1, figsize=(1.4, 1))\n",
    "    _ = ax.hist(all_total_energies[:, 1]/10/1000, range=[0, 30], bins=75, color=\"#fc8d59\", weights=0.0045*np.ones_like(summed_energies_total))\n",
    "    _ = ax.hist(all_low_energies[:, 1], range=[0, 30], bins=75, color=\"#d7301f\")\n",
    "    ax.tick_params(axis=\"both\", which=\"major\")\n",
    "    ax.spines[\"top\"].set_visible(False)\n",
    "    ax.spines[\"right\"].set_visible(False)\n",
    "    ax.spines[\"left\"].set_visible(False)\n",
    "    ax.axes.get_yaxis().set_ticks([])\n",
    "    ax.set_xlabel(\"Energy LP\\n($\\mu$J/s)\")\n",
    "    ax.set_xlim([0, 30])\n",
    "    plt.savefig(PANEL_NEW_E2, facecolor='None', transparent=True)"
   ]
  },
  {
   "cell_type": "code",
   "execution_count": 35,
   "metadata": {},
   "outputs": [
    {
     "data": {
      "image/png": "[encoded data removed]",
      "text/plain": [
       "<Figure size 140x100 with 1 Axes>"
      ]
     },
     "metadata": {},
     "output_type": "display_data"
    }
   ],
   "source": [
    "with mpl.rc_context(fname=\"../../../.matplotlibrc\"):\n",
    "    fig, ax = plt.subplots(1, 1, figsize=(1.4, 1))\n",
    "    _ = ax.hist(all_total_energies[:, 2]/10/1000, range=[0, 30], bins=75, color=\"#2ca25f\", weights=0.012*np.ones_like(summed_energies_total))\n",
    "    _ = ax.hist(all_low_energies[:, 2], range=[0, 30], bins=75, color=\"#d7301f\")\n",
    "    ax.tick_params(axis=\"both\", which=\"major\")\n",
    "    ax.spines[\"top\"].set_visible(False)\n",
    "    ax.spines[\"right\"].set_visible(False)\n",
    "    ax.spines[\"left\"].set_visible(False)\n",
    "    ax.axes.get_yaxis().set_ticks([])\n",
    "    ax.set_xlabel(\"Energy PY\\n($\\mu$J/s)\")\n",
    "    ax.set_xlim([0, 30])\n",
    "    plt.savefig(PANEL_NEW_E3, facecolor='None', transparent=True)"
   ]
  },
  {
   "cell_type": "code",
   "execution_count": 36,
   "metadata": {},
   "outputs": [
    {
     "data": {
      "image/png": "[encoded data removed]",
      "text/plain": [
       "<Figure size 140x100 with 1 Axes>"
      ]
     },
     "metadata": {},
     "output_type": "display_data"
    }
   ],
   "source": [
    "with mpl.rc_context(fname=\"../../../.matplotlibrc\"):\n",
    "    fig, ax = plt.subplots(1, 1, figsize=(1.4, 1))\n",
    "    _ = ax.hist(summed_energies_total/10/1000, range=[0, 30], bins=75, color=\"k\", weights=0.01*np.ones_like(summed_energies_total))\n",
    "    _ = ax.hist(np.sum(all_low_energies, axis=1), range=[0, 30], bins=75, color=\"#d7301f\")\n",
    "    ax.tick_params(axis=\"both\", which=\"major\")\n",
    "    ax.spines[\"top\"].set_visible(False)\n",
    "    ax.spines[\"right\"].set_visible(False)\n",
    "    ax.spines[\"left\"].set_visible(False)\n",
    "    ax.axes.get_yaxis().set_ticks([])\n",
    "    ax.set_xlabel(\"Energy total\\n($\\mu$J/s)\")\n",
    "    ax.set_xlim([0, 30])\n",
    "    plt.savefig(PANEL_NEW_E4, facecolor='None', transparent=True)"
   ]
  },
  {
   "cell_type": "markdown",
   "metadata": {},
   "source": [
    "### Panel F"
   ]
  },
  {
   "cell_type": "code",
   "execution_count": 40,
   "metadata": {},
   "outputs": [],
   "source": [
    "log_probs = posterior.log_prob(torch.as_tensor(theta_np), x=xo).numpy()\n",
    "probs_of_successful = posterior.log_prob(successful_samples_tt, x=xo).numpy()"
   ]
  },
  {
   "cell_type": "code",
   "execution_count": 41,
   "metadata": {},
   "outputs": [
    {
     "data": {
      "image/png": "[encoded data removed]",
      "text/plain": [
       "<Figure size 230x100 with 1 Axes>"
      ]
     },
     "metadata": {},
     "output_type": "display_data"
    }
   ],
   "source": [
    "with mpl.rc_context(fname='../../../.matplotlibrc'):\n",
    "    fig, ax = plt.subplots(1, 1, figsize=(2.3, 1.0))\n",
    "    ax.hist(log_probs, color=\"k\", bins=70, weights=0.002*np.ones_like(log_probs), range=(-48, -35))\n",
    "    ax.hist(probs_of_successful, color=\"#d7301f\", bins=70, range=(-48, -35))\n",
    "    ax.set_xlabel(\"Posterior log-probability\")\n",
    "    ax.set_ylabel(\"Count\")\n",
    "    ax.spines[\"left\"].set_visible(False)\n",
    "    ax.set_yticks([])\n",
    "    plt.savefig(PANEL_NEW_supp_c, facecolor='None', transparent=True)"
   ]
  },
  {
   "cell_type": "markdown",
   "metadata": {},
   "source": [
    "# Assemble figure"
   ]
  },
  {
   "cell_type": "code",
   "execution_count": 61,
   "metadata": {},
   "outputs": [],
   "source": [
    "import time\n",
    "import IPython.display as IPd\n",
    "\n",
    "def svg(img):\n",
    "    IPd.display(IPd.HTML('<img src=\"{}\" / >'.format(img, time.time())))"
   ]
  },
  {
   "cell_type": "code",
   "execution_count": 62,
   "metadata": {},
   "outputs": [
    {
     "data": {
      "text/html": [
       "<img src=\"../fig/fig3_new.svg\" / >"
      ],
      "text/plain": [
       "<IPython.core.display.HTML object>"
      ]
     },
     "metadata": {},
     "output_type": "display_data"
    }
   ],
   "source": [
    "from svgutils.compose import *\n",
    "\n",
    "# > Inkscape pixel is 1/90 of an inch, other software usually uses 1/72.\n",
    "# > http://www.inkscapeforum.com/viewtopic.php?f=6&t=5964\n",
    "svg_scale = 1.25  # set this to 1.25 for Inkscape, 1.0 otherwise\n",
    "factor_svg=5.5\n",
    "\n",
    "# Panel letters in Helvetica Neue, 12pt, Medium\n",
    "kwargs_text = {'size': '12pt', 'font': 'Arial', 'weight': '800'}\n",
    "kwargs_consistent = {'size': '10pt', 'font': 'Arial', 'weight': '500', 'color': '#AF99EF'}\n",
    "kwargs_consistent1 = {'size': '10pt', 'font': 'Arial', 'weight': '500', 'color': '#9E7DD5'}\n",
    "kwargs_inconsistent = {'size': '10pt', 'font': 'Arial', 'weight': '500', 'color': '#AF99EF'}\n",
    "kwargs_text8pt = {'size': '7.7pt', 'font': 'Arial'}\n",
    "\n",
    "sizefactor = 1.0\n",
    "dshift = 0.5*factor_svg\n",
    "\n",
    "f = Figure(\"20.3cm\", \"9.4cm\",\n",
    "    Panel(\n",
    "        SVG(\"../svg/panel_d_for_new.svg\").scale(svg_scale).move(0*factor_svg, 0*factor_svg),\n",
    "        Text(\"a\", -1.0*factor_svg, 2.5*factor_svg-dshift, **kwargs_text),\n",
    "    ).move(1.5*factor_svg, -0.5*factor_svg+dshift),\n",
    "           \n",
    "    Panel(\n",
    "        SVG(PANEL_NEW_B1).scale(svg_scale).move(0*factor_svg, 0*factor_svg),\n",
    "        Text(\"b\", 0.0*factor_svg, 4.0*factor_svg-dshift, **kwargs_text),\n",
    "    ).move(42.0*factor_svg, -2.0*factor_svg+dshift),\n",
    "    \n",
    "    Panel(\n",
    "        SVG(PANEL_NEW_B2).scale(svg_scale).move(0*factor_svg, 0*factor_svg),\n",
    "    ).move(42.0*factor_svg, 100-1.5*factor_svg+dshift),\n",
    "           \n",
    "    Panel(\n",
    "        SVG(PANEL_NEW_D1).scale(svg_scale).move(0*factor_svg, 0*factor_svg),\n",
    "        Text(\"c\", -7.0*factor_svg, 1.5*factor_svg-dshift, **kwargs_text),\n",
    "    ).move(83.5*factor_svg, 0.5*factor_svg+dshift),\n",
    "           \n",
    "    Panel(\n",
    "        SVG(PANEL_NEW_D2).scale(svg_scale).move(0*factor_svg, 0*factor_svg),\n",
    "    ).move(83.5*factor_svg, 100-1.5*factor_svg+dshift),\n",
    "    \n",
    "    Panel(\n",
    "        SVG(PANEL_NEW_C11).scale(svg_scale).move(0*factor_svg, 0*factor_svg),\n",
    "        Text(\"d\", -7.0*factor_svg, 3.5*factor_svg-dshift, **kwargs_text),\n",
    "    ).move(107.5*factor_svg, -1.5*factor_svg+dshift),\n",
    "\n",
    "    Panel(\n",
    "        SVG(PANEL_NEW_C21).scale(svg_scale).move(0*factor_svg, 0*factor_svg),\n",
    "    ).move(107.5*factor_svg, 14.0*factor_svg+dshift),\n",
    "           \n",
    "    Panel(\n",
    "        SVG(PANEL_NEW_C12).scale(svg_scale).move(0*factor_svg, 0*factor_svg),\n",
    "    ).move(132.0*factor_svg, -1.5*factor_svg+dshift),\n",
    "    Panel(\n",
    "        SVG(PANEL_NEW_C22).scale(svg_scale).move(0*factor_svg, 0*factor_svg),\n",
    "    ).move(132.0*factor_svg, 14.0*factor_svg+dshift),\n",
    "\n",
    "    Panel(\n",
    "          SVG(PANEL_NEW_E1).scale(svg_scale).move(0*factor_svg, 0*factor_svg),\n",
    "          Text(\"e\", -0.5*factor_svg, 1.0*factor_svg-dshift, **kwargs_text),\n",
    "    ).move(1*factor_svg, 42.0*factor_svg),\n",
    "    Panel(\n",
    "          SVG(PANEL_NEW_E2).scale(svg_scale).move(0*factor_svg, 0*factor_svg),\n",
    "    ).move(26.6*factor_svg, 42.0*factor_svg),\n",
    "    Panel(\n",
    "          SVG(PANEL_NEW_E3).scale(svg_scale).move(0*factor_svg, 0*factor_svg),\n",
    "    ).move(50.2*factor_svg, 42.0*factor_svg),\n",
    "    Panel(\n",
    "          SVG(PANEL_NEW_E4).scale(svg_scale).move(0*factor_svg, 0*factor_svg),\n",
    "    ).move(73.8*factor_svg, 42.0*factor_svg),\n",
    "       \n",
    "    Panel(\n",
    "          SVG(PANEL_NEW_supp_c).scale(svg_scale).move(-10*factor_svg,0*factor_svg),\n",
    "          Text(\"f\", -11.5*factor_svg, 1.5*factor_svg-dshift, **kwargs_text),\n",
    "    ).move(112*factor_svg, 42.0*factor_svg),\n",
    ")\n",
    "\n",
    "!mkdir -p fig\n",
    "f.save(\"../fig/fig3_new.svg\")\n",
    "svg('../fig/fig3_new.svg')"
   ]
  },
  {
   "cell_type": "code",
   "execution_count": null,
   "metadata": {},
   "outputs": [],
   "source": []
  }
 ],
 "metadata": {
  "kernelspec": {
   "display_name": "Python 3",
   "language": "python",
   "name": "python3"
  },
  "language_info": {
   "codemirror_mode": {
    "name": "ipython",
    "version": 3
   },
   "file_extension": ".py",
   "mimetype": "text/x-python",
   "name": "python",
   "nbconvert_exporter": "python",
   "pygments_lexer": "ipython3",
   "version": "3.8.10"
  }
 },
 "nbformat": 4,
 "nbformat_minor": 4
}
