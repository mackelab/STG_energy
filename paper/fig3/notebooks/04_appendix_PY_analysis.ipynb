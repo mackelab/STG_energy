{
 "cells": [
  {
   "cell_type": "code",
   "execution_count": 1,
   "metadata": {},
   "outputs": [],
   "source": [
    "import math\n",
    "import time\n",
    "from copy import deepcopy\n",
    "import dill as pickle\n",
    "import IPython.display as IPd\n",
    "import matplotlib as mpl\n",
    "import matplotlib.pylab as plt\n",
    "import numpy as np\n",
    "import pandas as pd\n",
    "import torch\n",
    "from matplotlib import ticker\n",
    "from pyloric import create_prior, simulate, summary_stats\n",
    "from pyloric.utils import energy_of_membrane, energy_of_synapse\n",
    "from sbi.utils import ActiveSubspace\n",
    "\n",
    "import stg_energy.fig3_active_subspaces.viz as viz\n",
    "from stg_energy.fig3_active_subspaces.helper_functions import nth_argmax, nth_argmin"
   ]
  },
  {
   "cell_type": "markdown",
   "metadata": {},
   "source": [
    "# Figure 3"
   ]
  },
  {
   "cell_type": "code",
   "execution_count": 2,
   "metadata": {},
   "outputs": [],
   "source": [
    "pd.options.display.max_columns = 999"
   ]
  },
  {
   "cell_type": "code",
   "execution_count": 3,
   "metadata": {},
   "outputs": [],
   "source": [
    "%load_ext autoreload\n",
    "%autoreload 2"
   ]
  },
  {
   "cell_type": "code",
   "execution_count": 73,
   "metadata": {},
   "outputs": [],
   "source": [
    "PANEL_supp_LP1 = \"../svg/panel_supp_lp1.svg\"\n",
    "PANEL_supp_LP2 = \"../svg/panel_supp_lp2.svg\"\n",
    "PANEL_supp_PY1 = \"../svg/panel_supp_py1.svg\"\n",
    "PANEL_supp_PY2 = \"../svg/panel_supp_py2.svg\"\n",
    "\n",
    "PANEL_supp_LP_EV1 = \"../svg/panel_supp_lp_ev1.svg\"\n",
    "PANEL_supp_LP_EV2 = \"../svg/panel_supp_lp_ev2.svg\"\n",
    "PANEL_supp_PY_EV1 = \"../svg/panel_supp_py_ev1.svg\"\n",
    "PANEL_supp_PY_EV2 = \"../svg/panel_supp_py_ev2.svg\"\n",
    "\n",
    "PANEL_supp_LP_syn1 = \"../svg/panel_supp_lp_syn1.svg\"\n",
    "PANEL_supp_LP_syn2 = \"../svg/panel_supp_lp_syn2.svg\"\n",
    "PANEL_supp_PY_syn1 = \"../svg/panel_supp_py_syn1.svg\"\n",
    "PANEL_supp_PY_syn2 = \"../svg/panel_supp_py_syn2.svg\""
   ]
  },
  {
   "cell_type": "markdown",
   "metadata": {},
   "source": [
    "### Load experimental data"
   ]
  },
  {
   "cell_type": "code",
   "execution_count": 5,
   "metadata": {},
   "outputs": [],
   "source": [
    "prior_11 = create_prior()"
   ]
  },
  {
   "cell_type": "code",
   "execution_count": 6,
   "metadata": {},
   "outputs": [],
   "source": [
    "theta = pd.read_pickle(\n",
    "    \"../../../results/simulation_data_Tube_MLslurm_cluster/close_to_xo_circuit_parameters.pkl\"\n",
    ")\n",
    "x = pd.read_pickle(\n",
    "    \"../../../results/simulation_data_Tube_MLslurm_cluster/close_to_xo_simulation_outputs.pkl\"\n",
    ")\n",
    "seeds = np.load(\n",
    "    \"../../../results/simulation_data_Tube_MLslurm_cluster/close_to_xo_seeds.npy\"\n",
    ")\n",
    "\n",
    "theta_np = theta.to_numpy()\n",
    "x_np = x.to_numpy()"
   ]
  },
  {
   "cell_type": "markdown",
   "metadata": {},
   "source": [
    "###  Fit regression net for total energy"
   ]
  },
  {
   "cell_type": "code",
   "execution_count": 7,
   "metadata": {},
   "outputs": [],
   "source": [
    "with open(\n",
    "    \"../../../results/trained_neural_nets/inference/posterior_11deg.pickle\", \"rb\"\n",
    ") as handle:\n",
    "    posterior = pickle.load(handle)"
   ]
  },
  {
   "cell_type": "code",
   "execution_count": 8,
   "metadata": {},
   "outputs": [],
   "source": [
    "xo = np.load(\"../../../results/experimental_data/xo_11deg.npy\")"
   ]
  },
  {
   "cell_type": "markdown",
   "metadata": {},
   "source": [
    "# Energy per spike"
   ]
  },
  {
   "cell_type": "code",
   "execution_count": 9,
   "metadata": {},
   "outputs": [],
   "source": [
    "num_test = 1000"
   ]
  },
  {
   "cell_type": "code",
   "execution_count": 10,
   "metadata": {},
   "outputs": [],
   "source": [
    "theta_test = torch.as_tensor(theta_np[:num_test], dtype=torch.float32)\n",
    "theta_train = torch.as_tensor(theta_np[num_test:], dtype=torch.float32)"
   ]
  },
  {
   "cell_type": "code",
   "execution_count": 11,
   "metadata": {},
   "outputs": [],
   "source": [
    "all_energies_per_spike_ABPD = x[\"energies_per_spike\"][\"PY\"].to_numpy()\n",
    "all_energies_per_spike_ABPD_test = torch.as_tensor(\n",
    "    all_energies_per_spike_ABPD[:num_test], dtype=torch.float32\n",
    ").unsqueeze(1)\n",
    "all_energies_per_spike_ABPD_train = torch.as_tensor(\n",
    "    all_energies_per_spike_ABPD[num_test:], dtype=torch.float32\n",
    ").unsqueeze(1)"
   ]
  },
  {
   "cell_type": "code",
   "execution_count": 12,
   "metadata": {},
   "outputs": [
    {
     "name": "stdout",
     "output_type": "stream",
     "text": [
      "Training neural network. Epochs trained:  122\r"
     ]
    },
    {
     "data": {
      "application/vnd.jupyter.widget-view+json": {
       "model_id": "647ef54097e0474a8b05e640b3f3436d",
       "version_major": 2,
       "version_minor": 0
      },
      "text/plain": [
       "HBox(children=(FloatProgress(value=0.0, description='Drawing 1000 posterior samples', max=1000.0, style=Progre…"
      ]
     },
     "metadata": {},
     "output_type": "display_data"
    },
    {
     "name": "stdout",
     "output_type": "stream",
     "text": [
      "\n"
     ]
    }
   ],
   "source": [
    "torch.manual_seed(0)\n",
    "\n",
    "sensitivity_e_per_spike = ActiveSubspace(posterior.set_default_x(xo))\n",
    "converged_nn_e_per_spike = sensitivity_e_per_spike.add_property(\n",
    "    theta_train, all_energies_per_spike_ABPD_train, hidden_features=20, num_blocks=1\n",
    ").train()\n",
    "predictions = converged_nn_e_per_spike(theta_test).detach().numpy()\n",
    "e_vals_e_per_spike, e_vecs_e_per_spike = sensitivity_e_per_spike.find_active()"
   ]
  },
  {
   "cell_type": "code",
   "execution_count": 13,
   "metadata": {},
   "outputs": [
    {
     "data": {
      "image/png": "[encoded data removed]",
      "text/plain": [
       "<Figure size 200x100 with 1 Axes>"
      ]
     },
     "metadata": {},
     "output_type": "display_data"
    }
   ],
   "source": [
    "with mpl.rc_context(fname=\"../../../.matplotlibrc\"):\n",
    "    fig, ax = plt.subplots(1, 1, figsize=(2, 1.0))\n",
    "    unnorm_x = all_energies_per_spike_ABPD_test[:300].numpy()/1000\n",
    "    unnorm_y = predictions[:300]/1000\n",
    "    ax.scatter(x=unnorm_x, y=unnorm_y, s=3, color=\"#2b8cbe\")\n",
    "    gt_vec = np.linspace(np.min(unnorm_x), np.max(unnorm_x), 2)\n",
    "    ax.plot(gt_vec, gt_vec, \"#ff7f00\")\n",
    "    ax.set_xlabel(\"Energy / spike (PY) ($\\mu$J/s)\")\n",
    "    ax.set_ylabel(\"NN prediction\")\n",
    "#     plt.savefig(PANEL_supp_performance2, facecolor='None', transparent=False)"
   ]
  },
  {
   "cell_type": "code",
   "execution_count": 192,
   "metadata": {},
   "outputs": [
    {
     "name": "stdout",
     "output_type": "stream",
     "text": [
      "Ratio of first to second eigenvalue:  tensor(32.4336)\n"
     ]
    },
    {
     "data": {
      "image/png": "[encoded data removed]",
      "text/plain": [
       "<Figure size 180x90 with 1 Axes>"
      ]
     },
     "metadata": {},
     "output_type": "display_data"
    }
   ],
   "source": [
    "with mpl.rc_context(fname=\"../../../.matplotlibrc\"):\n",
    "    viz.plot_eigenvalues(\n",
    "        torch.flip(torch.abs(e_vals_e_per_spike), dims=(0,)),\n",
    "        figsize=(1.8, 0.9),\n",
    "        ylabel=\"log(E.-value)\",\n",
    "        color=\"k\",\n",
    "        title=None,\n",
    "        xlabel=False\n",
    "    )\n",
    "    print(\n",
    "        \"Ratio of first to second eigenvalue: \",\n",
    "        e_vals_e_per_spike[-1] / e_vals_e_per_spike[-2],\n",
    "    )\n",
    "    plt.savefig(PANEL_supp_PY_EV1, facecolor=\"None\", transparent=False)\n",
    "    plt.show()"
   ]
  },
  {
   "cell_type": "code",
   "execution_count": 167,
   "metadata": {},
   "outputs": [
    {
     "data": {
      "image/png": "[encoded data removed]",
      "text/plain": [
       "<Figure size 250x90 with 1 Axes>"
      ]
     },
     "metadata": {},
     "output_type": "display_data"
    }
   ],
   "source": [
    "with mpl.rc_context(fname=\"../../../.matplotlibrc\"):\n",
    "    viz.py_sensitivity_bars_cosyne(\n",
    "        deepcopy(e_vecs_e_per_spike[:, -1].T),\n",
    "        ylim=[-1, 1.0],\n",
    "        figsize=(2.5, 0.9),\n",
    "        ylabel=\"Active dim.\",\n",
    "        plot_labels=False,\n",
    "        legend=True,\n",
    "        title='E / spike (PY)',\n",
    "        title_x_offset=-0.6,\n",
    "        legend_y_offset=0.3,\n",
    "    )\n",
    "    plt.savefig(PANEL_supp_PY1, facecolor=\"None\", transparent=True)\n",
    "    plt.show()"
   ]
  },
  {
   "cell_type": "code",
   "execution_count": 191,
   "metadata": {},
   "outputs": [
    {
     "data": {
      "image/png": "[encoded data removed]",
      "text/plain": [
       "<Figure size 140x90 with 1 Axes>"
      ]
     },
     "metadata": {},
     "output_type": "display_data"
    }
   ],
   "source": [
    "with mpl.rc_context(fname=\"../../../.matplotlibrc\"):\n",
    "    viz.synapse_sensitivity_bars(\n",
    "        e_vecs_e_per_spike[24:, -1:].T, ylim=[-0.3, 0.6], figsize=(1.4, 0.9), ylabel=\"\", color=\"k\", title=None, plot_labels=False\n",
    "    )\n",
    "    plt.savefig(PANEL_supp_PY_syn1, facecolor=\"None\", transparent=False)\n",
    "    plt.show()"
   ]
  },
  {
   "cell_type": "markdown",
   "metadata": {},
   "source": [
    "## Number of spikes"
   ]
  },
  {
   "cell_type": "code",
   "execution_count": 207,
   "metadata": {},
   "outputs": [],
   "source": [
    "numSpikesPerBurst = x[\"num_spikes\"][\"PY\"].to_numpy() / x[\"num_bursts\"][\"PY\"].to_numpy()\n",
    "numSpikesPerBurst_test = torch.as_tensor(\n",
    "    numSpikesPerBurst[:num_test], dtype=torch.float32\n",
    ").unsqueeze(1)\n",
    "numSpikesPerBurst_train = torch.as_tensor(\n",
    "    numSpikesPerBurst[num_test:], dtype=torch.float32\n",
    ").unsqueeze(1)"
   ]
  },
  {
   "cell_type": "code",
   "execution_count": 226,
   "metadata": {},
   "outputs": [
    {
     "name": "stdout",
     "output_type": "stream",
     "text": [
      "Training neural network. Epochs trained:  101\r"
     ]
    },
    {
     "data": {
      "application/vnd.jupyter.widget-view+json": {
       "model_id": "01d78263f6b14e4c9ef2ea2714604b6c",
       "version_major": 2,
       "version_minor": 0
      },
      "text/plain": [
       "HBox(children=(FloatProgress(value=0.0, description='Drawing 1000 posterior samples', max=1000.0, style=Progre…"
      ]
     },
     "metadata": {},
     "output_type": "display_data"
    },
    {
     "name": "stdout",
     "output_type": "stream",
     "text": [
      "\n"
     ]
    }
   ],
   "source": [
    "torch.manual_seed(0)\n",
    "\n",
    "sensitivity_num_spikes = ActiveSubspace(posterior.set_default_x(xo))\n",
    "converged_nn_num_spikes = sensitivity_num_spikes.add_property(\n",
    "    theta_train,\n",
    "    numSpikesPerBurst_train,\n",
    "    hidden_features=20,\n",
    "    num_blocks=1\n",
    ").train(max_num_epochs=100)\n",
    "e_vals_num_spikes, e_vecs_num_spikes = sensitivity_num_spikes.find_active()"
   ]
  },
  {
   "cell_type": "code",
   "execution_count": 227,
   "metadata": {},
   "outputs": [],
   "source": [
    "predictions = converged_nn_num_spikes(theta_test).detach().numpy()"
   ]
  },
  {
   "cell_type": "code",
   "execution_count": 228,
   "metadata": {},
   "outputs": [
    {
     "data": {
      "image/png": "[encoded data removed]",
      "text/plain": [
       "<Figure size 200x100 with 1 Axes>"
      ]
     },
     "metadata": {},
     "output_type": "display_data"
    }
   ],
   "source": [
    "with mpl.rc_context(fname=\"../../../.matplotlibrc\"):\n",
    "    fig, ax = plt.subplots(1, 1, figsize=(2, 1.0))\n",
    "    unnorm_x = numSpikesPerBurst_test[:300].numpy()\n",
    "    unnorm_y = predictions[:300]\n",
    "    ax.scatter(x=unnorm_x, y=unnorm_y, s=3, color=\"#2b8cbe\")\n",
    "    gt_vec = np.linspace(np.min(unnorm_x), np.max(unnorm_x), 2)\n",
    "    ax.plot(gt_vec, gt_vec, \"#ff7f00\")\n",
    "    ax.set_xlabel(\"Spikes per burst (PY)\")\n",
    "    ax.set_ylabel(\"NN prediction\")\n",
    "#     plt.savefig(PANEL_supp_performance3, facecolor='None', transparent=False)"
   ]
  },
  {
   "cell_type": "code",
   "execution_count": 229,
   "metadata": {},
   "outputs": [
    {
     "name": "stdout",
     "output_type": "stream",
     "text": [
      "Ratio of first to second eigenvalue:  tensor(33.8267)\n"
     ]
    },
    {
     "data": {
      "image/png": "[encoded data removed]",
      "text/plain": [
       "<Figure size 180x90 with 1 Axes>"
      ]
     },
     "metadata": {},
     "output_type": "display_data"
    }
   ],
   "source": [
    "with mpl.rc_context(fname=\"../../../.matplotlibrc\"):\n",
    "    viz.plot_eigenvalues(\n",
    "        torch.flip(torch.abs(e_vals_num_spikes), dims=(0,)),\n",
    "        figsize=(1.8, 0.9),\n",
    "        ylabel=\"log(E.-value)\",\n",
    "        color=\"k\",\n",
    "        title=None,\n",
    "    )\n",
    "    print(\n",
    "        \"Ratio of first to second eigenvalue: \",\n",
    "        e_vals_num_spikes[-1] / e_vals_num_spikes[-2],\n",
    "    )\n",
    "    plt.savefig(PANEL_supp_PY_EV2, facecolor=\"None\", transparent=False)\n",
    "    plt.show()"
   ]
  },
  {
   "cell_type": "code",
   "execution_count": 230,
   "metadata": {},
   "outputs": [
    {
     "data": {
      "image/png": "[encoded data removed]",
      "text/plain": [
       "<Figure size 250x90 with 1 Axes>"
      ]
     },
     "metadata": {},
     "output_type": "display_data"
    }
   ],
   "source": [
    "with mpl.rc_context(fname=\"../../../.matplotlibrc\"):\n",
    "    viz.py_sensitivity_bars_cosyne(\n",
    "        e_vecs_num_spikes[:, -1].T,\n",
    "        ylim=[-1, 1.0],\n",
    "        figsize=(2.5, 0.9),\n",
    "        ylabel=\"Active dim.\",\n",
    "        plot_labels=True,\n",
    "        legend=True,\n",
    "        legend_y_offset=0.3,\n",
    "        title='#spikes (PY)',\n",
    "        title_x_offset=-0.5,\n",
    "    )\n",
    "    plt.savefig(PANEL_supp_PY2, facecolor=\"None\", transparent=True)\n",
    "    plt.show()"
   ]
  },
  {
   "cell_type": "code",
   "execution_count": 231,
   "metadata": {},
   "outputs": [
    {
     "data": {
      "image/png": "[encoded data removed]",
      "text/plain": [
       "<Figure size 140x90 with 1 Axes>"
      ]
     },
     "metadata": {},
     "output_type": "display_data"
    }
   ],
   "source": [
    "with mpl.rc_context(fname=\"../../../.matplotlibrc\"):\n",
    "    viz.synapse_sensitivity_bars(\n",
    "        e_vecs_num_spikes[24:, -1:].T, ylim=[-0.3, 0.6], figsize=(1.4, 0.9), ylabel=\"\", color=\"k\", title=None\n",
    "    )\n",
    "    plt.savefig(PANEL_supp_PY_syn2, facecolor=\"None\", transparent=False)\n",
    "    plt.show()"
   ]
  },
  {
   "cell_type": "markdown",
   "metadata": {},
   "source": [
    "# Relationship between the two"
   ]
  },
  {
   "cell_type": "code",
   "execution_count": 232,
   "metadata": {},
   "outputs": [],
   "source": [
    "projected_e_per_spike = sensitivity_e_per_spike.project(theta_train, num_dimensions=1)\n",
    "projected_num_spikes = sensitivity_num_spikes.project(theta_train, num_dimensions=1)"
   ]
  },
  {
   "cell_type": "code",
   "execution_count": 233,
   "metadata": {},
   "outputs": [],
   "source": [
    "ind_of_min_e_per_spike = nth_argmin(projected_e_per_spike, 0)\n",
    "# ind_of_max_e_per_spike = nth_argmax(projected_e_per_spike, 27)\n",
    "\n",
    "ind_of_min_numSpikes = nth_argmin(projected_num_spikes, 0)\n",
    "# ind_of_max_numSpikes = nth_argmax(projected_num_spikes, 0)"
   ]
  },
  {
   "cell_type": "code",
   "execution_count": 234,
   "metadata": {},
   "outputs": [],
   "source": [
    "cond1 = projected_e_per_spike > -1.5\n",
    "cond2 = projected_e_per_spike < -0.3\n",
    "cond3 = projected_num_spikes > -1.2\n",
    "cond4 = projected_num_spikes < -0.1"
   ]
  },
  {
   "cell_type": "code",
   "execution_count": 235,
   "metadata": {},
   "outputs": [],
   "source": [
    "full_cond = torch.logical_and(\n",
    "    torch.logical_and(torch.logical_and(cond1, cond2), cond3), cond4\n",
    ")"
   ]
  },
  {
   "cell_type": "code",
   "execution_count": 236,
   "metadata": {},
   "outputs": [
    {
     "name": "stdout",
     "output_type": "stream",
     "text": [
      "torch.Size([51, 31])\n"
     ]
    }
   ],
   "source": [
    "fulfiling_param_sets = theta_train[full_cond[:, 0]]\n",
    "print(fulfiling_param_sets.shape)"
   ]
  },
  {
   "cell_type": "code",
   "execution_count": 237,
   "metadata": {},
   "outputs": [],
   "source": [
    "parameter_set1 = theta_train[ind_of_min_e_per_spike].unsqueeze(0)\n",
    "parameter_set1_dim1 = sensitivity_e_per_spike.project(parameter_set1, num_dimensions=1)\n",
    "parameter_set1_dim2 = sensitivity_num_spikes.project(parameter_set1, num_dimensions=1)\n",
    "\n",
    "parameter_set2 = theta_train[ind_of_min_numSpikes].unsqueeze(0)\n",
    "parameter_set2_dim1 = sensitivity_e_per_spike.project(parameter_set2, num_dimensions=1)\n",
    "parameter_set2_dim2 = sensitivity_num_spikes.project(parameter_set2, num_dimensions=1)\n",
    "\n",
    "# parameter_set3 = train_params_norm[ind_of_max_e_per_spike].unsqueeze(0)\n",
    "parameter_set3 = theta_train[full_cond[:, 0]][2].unsqueeze(0)\n",
    "parameter_set3_dim1 = sensitivity_e_per_spike.project(parameter_set3, num_dimensions=1)\n",
    "parameter_set3_dim2 = sensitivity_num_spikes.project(parameter_set3, num_dimensions=1)"
   ]
  },
  {
   "cell_type": "code",
   "execution_count": 238,
   "metadata": {},
   "outputs": [],
   "source": [
    "energy_PM = x[\"energies\"][\"PY\"].to_numpy()\n",
    "energy_PM_train = energy_PM[num_test:]"
   ]
  },
  {
   "cell_type": "code",
   "execution_count": 239,
   "metadata": {},
   "outputs": [
    {
     "name": "stdout",
     "output_type": "stream",
     "text": [
      "angle in rad: 1.944558563179236\n",
      "angle in deg: 111.41499868619366\n"
     ]
    }
   ],
   "source": [
    "v1 = e_vecs_num_spikes[:, -1]\n",
    "v2 = e_vecs_e_per_spike[:, -1]\n",
    "norm_v1 = torch.norm(v1)\n",
    "dot_prod = torch.dot(v1, v2).item()\n",
    "angle = math.acos(dot_prod)\n",
    "print(\"angle in rad:\", angle)\n",
    "print(\"angle in deg:\", angle / 2 / math.pi * 360)\n",
    "\n",
    "angle_within_90deg = math.pi - angle\n",
    "my_ticker = ticker.FixedFormatter([-2, 0, 2])"
   ]
  },
  {
   "cell_type": "code",
   "execution_count": 240,
   "metadata": {},
   "outputs": [
    {
     "data": {
      "image/png": "[encoded data removed]",
      "text/plain": [
       "<Figure size 310x200 with 2 Axes>"
      ]
     },
     "metadata": {},
     "output_type": "display_data"
    }
   ],
   "source": [
    "with mpl.rc_context(fname=\"../../../.matplotlibrc\"):\n",
    "    fig = plt.figure(figsize=(3.1, 2.0))\n",
    "    viz.curvelinear_test1(\n",
    "        fig,\n",
    "        angle_within_90deg,\n",
    "        projected_num_spikes,\n",
    "        projected_e_per_spike,\n",
    "        energy_PM_train,\n",
    "        parameter_set1_dim1,\n",
    "        parameter_set1_dim2,\n",
    "        parameter_set2_dim1,\n",
    "        parameter_set2_dim2,\n",
    "        parameter_set3_dim1,\n",
    "        parameter_set3_dim2,\n",
    "    )\n",
    "#     plt.savefig(PANEL_F1, facecolor=\"None\", transparent=True)\n",
    "    plt.show()"
   ]
  },
  {
   "cell_type": "markdown",
   "metadata": {},
   "source": [
    "## Assemble figure"
   ]
  },
  {
   "cell_type": "code",
   "execution_count": 241,
   "metadata": {},
   "outputs": [],
   "source": [
    "time_vec = np.arange(0, 11000, 0.025)"
   ]
  },
  {
   "cell_type": "code",
   "execution_count": 242,
   "metadata": {},
   "outputs": [],
   "source": [
    "def svg(img):\n",
    "    IPd.display(IPd.HTML('<img src=\"{}\" / >'.format(img, time.time())))"
   ]
  },
  {
   "cell_type": "code",
   "execution_count": 244,
   "metadata": {},
   "outputs": [
    {
     "data": {
      "text/html": [
       "<img src=\"../fig/fig3_supp5.svg\" / >"
      ],
      "text/plain": [
       "<IPython.core.display.HTML object>"
      ]
     },
     "metadata": {},
     "output_type": "display_data"
    }
   ],
   "source": [
    "from svgutils.compose import *\n",
    "\n",
    "# > Inkscape pixel is 1/90 of an inch, other software usually uses 1/72.\n",
    "# > http://www.inkscapeforum.com/viewtopic.php?f=6&t=5964\n",
    "svg_scale = 1.25  # set this to 1.25 for Inkscape, 1.0 otherwise\n",
    "factor_svg=5.5\n",
    "\n",
    "# Panel letters in Helvetica Neue, 12pt, Medium\n",
    "kwargs_text = {'size': '12pt', 'font': 'Arial', 'weight': '800'}\n",
    "kwargs_text_12pt = {'size': '12pt', 'font': 'Arial', 'weight': '500'}\n",
    "kwargs_consistent = {'size': '10pt', 'font': 'Arial', 'weight': '500', 'color': '#AF99EF'}\n",
    "kwargs_consistent1 = {'size': '10pt', 'font': 'Arial', 'weight': '500', 'color': '#9E7DD5'}\n",
    "kwargs_inconsistent = {'size': '10pt', 'font': 'Arial', 'weight': '500', 'color': '#AF99EF'}\n",
    "kwargs_text8pt = {'size': '7.7pt', 'font': 'Arial'}\n",
    "kwargs_text8pt_blue = {'size': '7.7pt', 'font': 'Arial', 'weight': '500', 'color': \"#0570b0\"}\n",
    "\n",
    "f = Figure(\"20.3cm\", \"10.1cm\",\n",
    "\n",
    "    Panel(\n",
    "          SVG(PANEL_supp_LP_EV1).scale(svg_scale).move(0, 0*factor_svg),\n",
    "          Text(\"a\", -2*factor_svg, 1.5*factor_svg, **kwargs_text),\n",
    "    ).move(2.0*factor_svg, 1.0*factor_svg),\n",
    "\n",
    "    Panel(\n",
    "          SVG(PANEL_supp_LP1).scale(svg_scale).move(0, 0*factor_svg),\n",
    "    ).move(44.0*factor_svg, 1.6*factor_svg),\n",
    "\n",
    "    Panel(\n",
    "          SVG(PANEL_supp_LP_syn1).scale(svg_scale).move(0, 0*factor_svg),\n",
    "    ).move(96.0*factor_svg, 0.3*factor_svg),\n",
    "\n",
    "    Panel(\n",
    "          SVG(PANEL_supp_LP_EV2).scale(svg_scale).move(0, 0*factor_svg),\n",
    "          Text(\"b\", -6*factor_svg, 3.5*factor_svg, **kwargs_text),\n",
    "    ).move(6.0*factor_svg, 80+1.0*factor_svg),\n",
    "\n",
    "    Panel(\n",
    "          SVG(PANEL_supp_LP2).scale(svg_scale).move(0, 0*factor_svg),\n",
    "    ).move(44.0*factor_svg, 83+1.6*factor_svg),\n",
    "\n",
    "    Panel(\n",
    "          SVG(PANEL_supp_LP_syn2).scale(svg_scale).move(0, 0*factor_svg),\n",
    "    ).move(96.0*factor_svg, 90+0.3*factor_svg),\n",
    "\n",
    "    Panel(\n",
    "          SVG(PANEL_supp_PY_EV1).scale(svg_scale).move(0, 0*factor_svg),\n",
    "          Text(\"c\", -3*factor_svg, 1.5*factor_svg, **kwargs_text),\n",
    "    ).move(3.0*factor_svg, 180+1.0*factor_svg),\n",
    "\n",
    "    Panel(\n",
    "          SVG(PANEL_supp_PY1).scale(svg_scale).move(0, 0*factor_svg),\n",
    "    ).move(44.0*factor_svg, 173+1.6*factor_svg),\n",
    "\n",
    "    Panel(\n",
    "          SVG(PANEL_supp_PY_syn1).scale(svg_scale).move(0, 0*factor_svg),\n",
    "    ).move(96.0*factor_svg, 180+0.3*factor_svg),\n",
    "\n",
    "   Panel(\n",
    "          SVG(PANEL_supp_PY_EV2).scale(svg_scale).move(0, 0*factor_svg),\n",
    "          Text(\"d\", -6*factor_svg, 4.5*factor_svg, **kwargs_text),\n",
    "    ).move(6.0*factor_svg, 260+1.0*factor_svg),\n",
    "\n",
    "    Panel(\n",
    "          SVG(PANEL_supp_PY2).scale(svg_scale).move(0, 0*factor_svg),\n",
    "    ).move(44.0*factor_svg, 263+1.6*factor_svg),\n",
    "\n",
    "    Panel(\n",
    "          SVG(PANEL_supp_PY_syn2).scale(svg_scale).move(0, 0*factor_svg),\n",
    "    ).move(96.0*factor_svg, 270+0.3*factor_svg),\n",
    "\n",
    "\n",
    ")\n",
    "\n",
    "!mkdir -p fig\n",
    "f.save(\"../fig/fig3_supp5.svg\")\n",
    "svg('../fig/fig3_supp5.svg')"
   ]
  },
  {
   "cell_type": "code",
   "execution_count": null,
   "metadata": {},
   "outputs": [],
   "source": []
  },
  {
   "cell_type": "code",
   "execution_count": null,
   "metadata": {},
   "outputs": [],
   "source": []
  },
  {
   "cell_type": "code",
   "execution_count": null,
   "metadata": {},
   "outputs": [],
   "source": []
  }
 ],
 "metadata": {
  "kernelspec": {
   "display_name": "sbi_prinz",
   "language": "python",
   "name": "sbi_prinz"
  },
  "language_info": {
   "codemirror_mode": {
    "name": "ipython",
    "version": 3
   },
   "file_extension": ".py",
   "mimetype": "text/x-python",
   "name": "python",
   "nbconvert_exporter": "python",
   "pygments_lexer": "ipython3",
   "version": "3.8.5"
  }
 },
 "nbformat": 4,
 "nbformat_minor": 4
}
