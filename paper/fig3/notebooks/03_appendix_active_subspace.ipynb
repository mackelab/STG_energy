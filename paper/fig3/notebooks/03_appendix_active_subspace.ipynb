{
 "cells": [
  {
   "cell_type": "code",
   "execution_count": 1,
   "metadata": {},
   "outputs": [],
   "source": [
    "import math\n",
    "import time\n",
    "from copy import deepcopy\n",
    "import dill as pickle\n",
    "import IPython.display as IPd\n",
    "import matplotlib as mpl\n",
    "import matplotlib.pylab as plt\n",
    "import numpy as np\n",
    "import pandas as pd\n",
    "import torch\n",
    "from matplotlib import ticker\n",
    "from pyloric import create_prior, simulate, summary_stats\n",
    "from pyloric.utils import energy_of_membrane, energy_of_synapse\n",
    "from sbi.analysis import ActiveSubspace\n",
    "\n",
    "import stg_energy.fig3_active_subspaces.viz as viz\n",
    "from stg_energy.fig3_active_subspaces.helper_functions import nth_argmax, nth_argmin"
   ]
  },
  {
   "cell_type": "markdown",
   "metadata": {},
   "source": [
    "# Figure 3"
   ]
  },
  {
   "cell_type": "code",
   "execution_count": 2,
   "metadata": {},
   "outputs": [],
   "source": [
    "pd.options.display.max_columns = 999"
   ]
  },
  {
   "cell_type": "code",
   "execution_count": 3,
   "metadata": {},
   "outputs": [],
   "source": [
    "%load_ext autoreload\n",
    "%autoreload 2"
   ]
  },
  {
   "cell_type": "code",
   "execution_count": 42,
   "metadata": {},
   "outputs": [],
   "source": [
    "PANEL_A = \"../svg/panel_a.svg\"\n",
    "PANEL_B = \"../svg/panel_b.svg\"\n",
    "PANEL_B_raw = \"../svg/panel_b_raw.svg\"\n",
    "PANEL_C = \"../svg/panel_c_act.svg\"\n",
    "PANEL_C_act = \"../svg/panel_c_act.svg\"\n",
    "PANEL_D = \"../svg/panel_d_act.svg\"\n",
    "PANEL_E1 = \"../svg/panel_e1_act.svg\"\n",
    "PANEL_E2 = \"../svg/panel_e2_act.svg\"\n",
    "PANEL_F1 = \"../svg/panel_f1_act.svg\"\n",
    "PANEL_F1_raw = \"../svg/panel_f1_raw.svg\"\n",
    "PANEL_F2 = \"../svg/panel_f2.svg\"\n",
    "PANEL_G1 = \"../svg/panel_g1.svg\"\n",
    "PANEL_G2 = \"../svg/panel_g2.svg\"\n",
    "PANEL_H1 = \"../svg/panel_h1.svg\"\n",
    "PANEL_H2 = \"../svg/panel_h2.svg\"\n",
    "PANEL_I1 = \"../svg/panel_i1.svg\"\n",
    "PANEL_I2 = \"../svg/panel_i2.svg\"\n",
    "\n",
    "PANEL_supp_EV1 = \"../svg/panel_supp_ev1.svg\"\n",
    "PANEL_supp_EV2 = \"../svg/panel_supp_ev2.svg\"\n",
    "PANEL_supp_EV3 = \"../svg/panel_supp_ev3.svg\"\n",
    "\n",
    "PANEL_supp_shift1 = \"../svg/panel_supp_shift1.svg\"\n",
    "PANEL_supp_shift2 = \"../svg/panel_supp_shift2.svg\"\n",
    "PANEL_supp_shift3 = \"../svg/panel_supp_shift3.svg\"\n",
    "PANEL_supp_shift4 = \"../svg/panel_supp_shift4.svg\"\n",
    "PANEL_supp_shift5 = \"../svg/panel_supp_shift5.svg\"\n",
    "PANEL_supp_shift6 = \"../svg/panel_supp_shift6.svg\"\n",
    "PANEL_supp_shift7 = \"../svg/panel_supp_shift7.svg\"\n",
    "\n",
    "PANEL_supp_performance1 = \"../svg/panel_supp_performance1_act.svg\"\n",
    "PANEL_supp_performance2 = \"../svg/panel_supp_performance2_act.svg\"\n",
    "PANEL_supp_performance3 = \"../svg/panel_supp_performance3_act.svg\"\n",
    "\n",
    "PANEL_supp_synapses1 = \"../svg/panel_supp_synapses1_act.svg\"\n",
    "PANEL_supp_synapses2 = \"../svg/panel_supp_synapses2_act.svg\"\n",
    "PANEL_supp_synapses3 = \"../svg/panel_supp_synapses3_act.svg\"\n",
    "\n",
    "PANEL_NEW_A = \"../svg/panel_new_a_inkscape.svg\"\n",
    "\n",
    "PANEL_NEW_F1 = \"../svg/panel_new_f1.svg\"\n",
    "PANEL_NEW_F2 = \"../svg/panel_new_f2.svg\"\n",
    "\n",
    "PANEL_NEW_G1 = \"../svg/panel_new_g1.svg\"\n",
    "PANEL_NEW_G2 = \"../svg/panel_new_g2.svg\"\n",
    "PANEL_NEW_supp_params_11 = \"../svg/PANEL_NEW_supp_params_11.svg\"\n",
    "PANEL_NEW_supp_params_12 = \"../svg/PANEL_NEW_supp_params_12.svg\"\n",
    "PANEL_NEW_supp_params_21 = \"../svg/PANEL_NEW_supp_params_21.svg\"\n",
    "PANEL_NEW_supp_params_22 = \"../svg/PANEL_NEW_supp_params_22.svg\"\n",
    "\n",
    "PANEL_REG_supp_bar = \"../svg/panel_reg_supp_bar.svg\""
   ]
  },
  {
   "cell_type": "markdown",
   "metadata": {},
   "source": [
    "### Load experimental data"
   ]
  },
  {
   "cell_type": "code",
   "execution_count": 5,
   "metadata": {},
   "outputs": [],
   "source": [
    "prior_11 = create_prior()"
   ]
  },
  {
   "cell_type": "code",
   "execution_count": 6,
   "metadata": {},
   "outputs": [],
   "source": [
    "theta = pd.read_pickle(\n",
    "    \"../../../results/simulation_data_Tube_MLslurm_cluster/close_to_xo_circuit_parameters.pkl\"\n",
    ")\n",
    "x = pd.read_pickle(\n",
    "    \"../../../results/simulation_data_Tube_MLslurm_cluster/close_to_xo_simulation_outputs.pkl\"\n",
    ")\n",
    "seeds = np.load(\n",
    "    \"../../../results/simulation_data_Tube_MLslurm_cluster/close_to_xo_seeds.npy\"\n",
    ")\n",
    "\n",
    "theta_np = theta.to_numpy()\n",
    "x_np = x.to_numpy()"
   ]
  },
  {
   "cell_type": "markdown",
   "metadata": {},
   "source": [
    "###  Fit regression net for total energy"
   ]
  },
  {
   "cell_type": "code",
   "execution_count": 7,
   "metadata": {},
   "outputs": [],
   "source": [
    "import sys\n",
    "sys.path.append(\"home/michael/Documents/sbi/sbi/utils/user_input_checks_utils\")"
   ]
  },
  {
   "cell_type": "code",
   "execution_count": 8,
   "metadata": {},
   "outputs": [],
   "source": [
    "import sys\n",
    "from sbi.utils import user_input_checks_utils\n",
    "\n",
    "sys.modules[\"sbi.user_input.user_input_checks_utils\"] = user_input_checks_utils"
   ]
  },
  {
   "cell_type": "code",
   "execution_count": 9,
   "metadata": {},
   "outputs": [
    {
     "name": "stderr",
     "output_type": "stream",
     "text": [
      "/home/michael/Documents/sbi/sbi/inference/posteriors/base_posterior.py:1130: UserWarning: You had saved the posterior under an older version of `sbi`. To make the loaded version comply with the version you are using right now, we had to set the following attributes: `self._device = cpu` `self._num_iid_trials = None` `self._iid_methods = ['snle', 'snre_a', 'snre_b']` `self._allow_iid_x = False` `self._sample_with = rejection`\n",
      "  warn(warning_description + warning_msg)\n"
     ]
    }
   ],
   "source": [
    "with open(\n",
    "    \"../../../results/trained_neural_nets/inference/posterior_11deg.pickle\", \"rb\"\n",
    ") as handle:\n",
    "    posterior = pickle.load(handle)\n",
    "    posterior._device = 'cpu'"
   ]
  },
  {
   "cell_type": "code",
   "execution_count": 10,
   "metadata": {},
   "outputs": [],
   "source": [
    "xo = np.load(\"../../../results/experimental_data/xo_11deg.npy\")"
   ]
  },
  {
   "cell_type": "code",
   "execution_count": 11,
   "metadata": {},
   "outputs": [],
   "source": [
    "energies = x[\"energies\"]"
   ]
  },
  {
   "cell_type": "code",
   "execution_count": 12,
   "metadata": {},
   "outputs": [],
   "source": [
    "energies_tt = torch.as_tensor(energies.to_numpy())\n",
    "x_tt = torch.as_tensor(x_np, dtype=torch.float32)"
   ]
  },
  {
   "cell_type": "code",
   "execution_count": 13,
   "metadata": {},
   "outputs": [],
   "source": [
    "num_test = 1000\n",
    "\n",
    "theta_test = torch.as_tensor(theta_np[:num_test], dtype=torch.float32)\n",
    "theta_train = torch.as_tensor(theta_np[num_test:], dtype=torch.float32)"
   ]
  },
  {
   "cell_type": "code",
   "execution_count": 14,
   "metadata": {},
   "outputs": [],
   "source": [
    "train_energy = torch.as_tensor(\n",
    "    torch.sum(energies_tt[num_test:], dim=1).unsqueeze(1), dtype=torch.float32\n",
    ")\n",
    "test_energy = torch.as_tensor(\n",
    "    torch.sum(energies_tt[:num_test], dim=1).unsqueeze(1), dtype=torch.float32\n",
    ")"
   ]
  },
  {
   "cell_type": "code",
   "execution_count": 15,
   "metadata": {},
   "outputs": [],
   "source": [
    "posterior._sample_with = \"rejection\""
   ]
  },
  {
   "cell_type": "code",
   "execution_count": 24,
   "metadata": {},
   "outputs": [],
   "source": [
    "# torch.manual_seed(0)\n",
    "# sensitivity = ActiveSubspace(posterior.set_default_x(xo))\n",
    "# converged_nn = sensitivity.add_property(\n",
    "#     theta_train, train_energy, hidden_features=20, num_blocks=1\n",
    "# ).train()"
   ]
  },
  {
   "cell_type": "code",
   "execution_count": 25,
   "metadata": {},
   "outputs": [],
   "source": [
    "# with open(\"../../../results/regression_nets/210717_total_energy.npy\", \"wb\") as handle:\n",
    "#     pickle.dump(converged_nn, handle)\n",
    "# with open(\"../../../results/regression_nets/210717_sensitivity_total_energy.npy\", \"wb\") as handle:\n",
    "#     pickle.dump(sensitivity, handle)"
   ]
  },
  {
   "cell_type": "code",
   "execution_count": 26,
   "metadata": {},
   "outputs": [],
   "source": [
    "with open(\"../../../results/regression_nets/210717_total_energy.npy\", \"rb\") as handle:\n",
    "    converged_nn = pickle.load(handle)\n",
    "with open(\"../../../results/regression_nets/210717_sensitivity_total_energy.npy\", \"rb\") as handle:\n",
    "    sensitivity = pickle.load(handle)"
   ]
  },
  {
   "cell_type": "code",
   "execution_count": 29,
   "metadata": {},
   "outputs": [
    {
     "data": {
      "application/vnd.jupyter.widget-view+json": {
       "model_id": "24aedffcd30f45fcab58ba6eb15aa47c",
       "version_major": 2,
       "version_minor": 0
      },
      "text/plain": [
       "Drawing 1000 posterior samples:   0%|          | 0/1000 [00:00<?, ?it/s]"
      ]
     },
     "metadata": {},
     "output_type": "display_data"
    }
   ],
   "source": [
    "torch.manual_seed(0)\n",
    "e_vals, e_vecs = sensitivity.find_directions()"
   ]
  },
  {
   "cell_type": "code",
   "execution_count": 30,
   "metadata": {},
   "outputs": [],
   "source": [
    "predictions = converged_nn(theta_test).detach()"
   ]
  },
  {
   "cell_type": "code",
   "execution_count": 104,
   "metadata": {},
   "outputs": [
    {
     "data": {
      "image/png": "[encoded data removed]",
      "text/plain": [
       "<Figure size 140x100 with 1 Axes>"
      ]
     },
     "metadata": {},
     "output_type": "display_data"
    }
   ],
   "source": [
    "with mpl.rc_context(fname=\"../../../.matplotlibrc\"):\n",
    "    fig, ax = plt.subplots(1, 1, figsize=(1.4, 1.0))\n",
    "    unnorm_x = test_energy[:300]\n",
    "    unnorm_y = predictions[:300]\n",
    "    ax.scatter(x=unnorm_x.numpy()/10/1000, y=unnorm_y/10/1000, s=3, color=\"k\", alpha=0.5)\n",
    "    ax.plot([3, 26.5], [3, 26.5], \"k\", alpha=0.5)\n",
    "    ax.set_xlabel(\"Total energy ($\\mu$J/s)\")\n",
    "    ax.set_ylabel(\"NN prediction\", labelpad=-1)\n",
    "    ax.set_xticks([3, 27])\n",
    "    ax.set_yticks([3, 27])\n",
    "    ax.set_xlim([3, 27])\n",
    "    ax.set_ylim([3, 27])\n",
    "    plt.savefig(PANEL_supp_performance1, facecolor='None', transparent=False)"
   ]
  },
  {
   "cell_type": "code",
   "execution_count": 105,
   "metadata": {},
   "outputs": [
    {
     "name": "stdout",
     "output_type": "stream",
     "text": [
      "mean squared error:  tensor(0.2351)\n"
     ]
    }
   ],
   "source": [
    "unnorm_y = predictions[:300]\n",
    "mse = torch.mean(torch.abs(unnorm_x/10/1000 - unnorm_y/10/1000) ** 2)\n",
    "print(\"mean squared error: \", mse)"
   ]
  },
  {
   "cell_type": "code",
   "execution_count": 127,
   "metadata": {},
   "outputs": [
    {
     "data": {
      "image/png": "[encoded data removed]",
      "text/plain": [
       "<Figure size 170x100 with 1 Axes>"
      ]
     },
     "metadata": {},
     "output_type": "display_data"
    }
   ],
   "source": [
    "with mpl.rc_context(fname=\"../../../.matplotlibrc\"):\n",
    "    viz.plot_eigenvalues(\n",
    "        torch.abs(torch.flip(e_vals, dims=(0,))),\n",
    "        figsize=(1.7, 1.0),\n",
    "        ylabel=\"log(E.-value)\",\n",
    "        color=\"k\",\n",
    "        title=None\n",
    "    )\n",
    "    plt.savefig(PANEL_supp_EV1, facecolor=\"None\", transparent=False)\n",
    "    plt.show()"
   ]
  },
  {
   "cell_type": "code",
   "execution_count": 107,
   "metadata": {},
   "outputs": [
    {
     "name": "stdout",
     "output_type": "stream",
     "text": [
      "Ratio of first two eigenvalues:   tensor(24.6975)\n"
     ]
    }
   ],
   "source": [
    "print(\"Ratio of first two eigenvalues:  \", e_vals[-1] / e_vals[-2])"
   ]
  },
  {
   "cell_type": "code",
   "execution_count": 108,
   "metadata": {},
   "outputs": [
    {
     "name": "stdout",
     "output_type": "stream",
     "text": [
      "Fraction of first to total:  tensor(0.9147)\n"
     ]
    }
   ],
   "source": [
    "print(\"Fraction of first to total: \", e_vals[-1] / torch.sum(e_vals))"
   ]
  },
  {
   "cell_type": "code",
   "execution_count": 109,
   "metadata": {},
   "outputs": [
    {
     "data": {
      "image/png": "[encoded data removed]",
      "text/plain": [
       "<Figure size 230x100 with 1 Axes>"
      ]
     },
     "metadata": {},
     "output_type": "display_data"
    }
   ],
   "source": [
    "with mpl.rc_context(fname=\"../../../.matplotlibrc\"):\n",
    "    viz.py_sensitivity_bars_cosyne(\n",
    "        e_vecs[:, -1].T,\n",
    "        ylim=[-1, 1.0],\n",
    "        figsize=(2.3, 1.0),\n",
    "        ylabel='Strongest\\nEigenvector',\n",
    "        plot_labels=True,\n",
    "        legend=False,\n",
    "        title=None,\n",
    "        yticks=[-1, 0, 1]\n",
    "    )\n",
    "    plt.savefig(PANEL_C_act, facecolor=\"None\", transparent=False)\n",
    "    plt.show()"
   ]
  },
  {
   "cell_type": "code",
   "execution_count": 143,
   "metadata": {},
   "outputs": [
    {
     "data": {
      "image/png": "[encoded data removed]",
      "text/plain": [
       "<Figure size 100x100 with 1 Axes>"
      ]
     },
     "metadata": {},
     "output_type": "display_data"
    }
   ],
   "source": [
    "with mpl.rc_context(fname=\"../../../.matplotlibrc\"):\n",
    "    viz.synapse_sensitivity_bars(\n",
    "        deepcopy(e_vecs[24:, -1:].T), ylim=[-1, 1], figsize=(1.0, 1.0), ylabel=None, color=\"k\", title=None, width_multiplier=0.5\n",
    "    )\n",
    "    plt.savefig(PANEL_supp_synapses1, facecolor=\"None\", transparent=False)\n",
    "    plt.show()"
   ]
  },
  {
   "cell_type": "code",
   "execution_count": 144,
   "metadata": {},
   "outputs": [
    {
     "data": {
      "image/png": "[encoded data removed]",
      "text/plain": [
       "<Figure size 60x100 with 1 Axes>"
      ]
     },
     "metadata": {},
     "output_type": "display_data"
    }
   ],
   "source": [
    "with mpl.rc_context(fname=\"../../../.matplotlibrc\"):\n",
    "    fig, ax = plt.subplots(1,1, figsize=(0.6, 1.0))\n",
    "    mse_nn = 0.657416062903956 # see notebook 02_build_figure.ipynb\n",
    "    ax.bar(np.arange(2), [mse, mse_nn], facecolor='k', width=0.3)\n",
    "    ax.spines['top'].set_visible(False)\n",
    "    ax.spines['right'].set_visible(False)\n",
    "    ax.set_ylabel(\"Mean-sq. error\")\n",
    "    ax.set_xticks([0.0, 1.0])\n",
    "    ax.set_xlim([-0.5, 1.5])\n",
    "    ax.set_xticklabels(['NN', 'Linear'], rotation=90)\n",
    "    plt.savefig(PANEL_REG_supp_bar, facecolor='None', transparent=False)"
   ]
  },
  {
   "cell_type": "markdown",
   "metadata": {},
   "source": [
    "### Assembe figure"
   ]
  },
  {
   "cell_type": "code",
   "execution_count": 145,
   "metadata": {},
   "outputs": [],
   "source": [
    "def svg(img):\n",
    "    IPd.display(IPd.HTML('<img src=\"{}\" / >'.format(img, time.time())))"
   ]
  },
  {
   "cell_type": "code",
   "execution_count": 146,
   "metadata": {},
   "outputs": [
    {
     "data": {
      "text/html": [
       "<img src=\"../fig/fig3_supp2.svg\" / >"
      ],
      "text/plain": [
       "<IPython.core.display.HTML object>"
      ]
     },
     "metadata": {},
     "output_type": "display_data"
    }
   ],
   "source": [
    "from svgutils.compose import *\n",
    "\n",
    "# > Inkscape pixel is 1/90 of an inch, other software usually uses 1/72.\n",
    "# > http://www.inkscapeforum.com/viewtopic.php?f=6&t=5964\n",
    "svg_scale = 1.25  # set this to 1.25 for Inkscape, 1.0 otherwise\n",
    "factor_svg=5.5\n",
    "\n",
    "# Panel letters in Helvetica Neue, 12pt, Medium\n",
    "kwargs_text = {'size': '12pt', 'font': 'Arial', 'weight': '800'}\n",
    "kwargs_text_12pt = {'size': '12pt', 'font': 'Arial', 'weight': '500'}\n",
    "kwargs_consistent = {'size': '10pt', 'font': 'Arial', 'weight': '500', 'color': '#AF99EF'}\n",
    "kwargs_consistent1 = {'size': '10pt', 'font': 'Arial', 'weight': '500', 'color': '#9E7DD5'}\n",
    "kwargs_inconsistent = {'size': '10pt', 'font': 'Arial', 'weight': '500', 'color': '#AF99EF'}\n",
    "kwargs_text8pt = {'size': '7.7pt', 'font': 'Arial'}\n",
    "kwargs_text8pt_red = {'size': '7.7pt', 'font': 'Arial', 'weight': '800', 'color': \"#b30000\"}\n",
    "\n",
    "f = Figure(\"20.3cm\", \"3.4cm\",\n",
    "\n",
    "    Panel(\n",
    "          SVG(PANEL_supp_performance1).scale(svg_scale).move(0, 0*factor_svg),\n",
    "          Text(\"a\", -1*factor_svg, 2.3*factor_svg, **kwargs_text),\n",
    "    ).move(1*factor_svg, 0.0*factor_svg),\n",
    "           \n",
    "    Panel(\n",
    "          SVG(PANEL_supp_EV1).scale(svg_scale).move(0, 0*factor_svg),\n",
    "          Text(\"b\", -1*factor_svg, 1.6*factor_svg, **kwargs_text),\n",
    "    ).move(33*factor_svg, 0.7*factor_svg),\n",
    "           \n",
    "    Panel(\n",
    "          SVG(PANEL_C_act).scale(svg_scale).move(0, 0*factor_svg),\n",
    "          Text(\"c\", -1*factor_svg, 2.3*factor_svg, **kwargs_text),\n",
    "    ).move(70*factor_svg, 0*factor_svg),\n",
    "           \n",
    "    Panel(\n",
    "          SVG(PANEL_supp_synapses1).scale(svg_scale).move(0, 0*factor_svg),\n",
    "    ).move(110*factor_svg, 0.7*factor_svg),\n",
    ")\n",
    "\n",
    "!mkdir -p fig\n",
    "f.save(\"../fig/fig3_supp2.svg\")\n",
    "svg('../fig/fig3_supp2.svg')"
   ]
  },
  {
   "cell_type": "markdown",
   "metadata": {},
   "source": [
    "# Energy per spike"
   ]
  },
  {
   "cell_type": "code",
   "execution_count": 137,
   "metadata": {},
   "outputs": [],
   "source": [
    "all_energies_per_spike_ABPD = x[\"energies_per_spike\"][\"PY\"].to_numpy()\n",
    "all_energies_per_spike_ABPD_test = torch.as_tensor(\n",
    "    all_energies_per_spike_ABPD[:num_test], dtype=torch.float32\n",
    ").unsqueeze(1)\n",
    "all_energies_per_spike_ABPD_train = torch.as_tensor(\n",
    "    all_energies_per_spike_ABPD[num_test:], dtype=torch.float32\n",
    ").unsqueeze(1)"
   ]
  },
  {
   "cell_type": "code",
   "execution_count": 138,
   "metadata": {},
   "outputs": [
    {
     "name": "stdout",
     "output_type": "stream",
     "text": [
      "Training neural network. Epochs trained:  122\r"
     ]
    },
    {
     "data": {
      "application/vnd.jupyter.widget-view+json": {
       "model_id": "30da7a3ce5f8448b9210c9e6c4f0a2e4",
       "version_major": 2,
       "version_minor": 0
      },
      "text/plain": [
       "Drawing 1000 posterior samples:   0%|          | 0/1000 [00:00<?, ?it/s]"
      ]
     },
     "metadata": {},
     "output_type": "display_data"
    }
   ],
   "source": [
    "torch.manual_seed(0)\n",
    "\n",
    "sensitivity_e_per_spike = ActiveSubspace(posterior.set_default_x(xo))\n",
    "converged_nn_e_per_spike = sensitivity_e_per_spike.add_property(\n",
    "    theta_train, all_energies_per_spike_ABPD_train, hidden_features=20, num_blocks=1\n",
    ").train()\n",
    "predictions = converged_nn_e_per_spike(theta_test).detach().numpy()\n",
    "e_vals_e_per_spike, e_vecs_e_per_spike = sensitivity_e_per_spike.find_directions()"
   ]
  },
  {
   "cell_type": "code",
   "execution_count": 141,
   "metadata": {},
   "outputs": [
    {
     "data": {
      "image/png": "[encoded data removed]",
      "text/plain": [
       "<Figure size 200x100 with 1 Axes>"
      ]
     },
     "metadata": {},
     "output_type": "display_data"
    }
   ],
   "source": [
    "with mpl.rc_context(fname=\"../../../.matplotlibrc\"):\n",
    "    fig, ax = plt.subplots(1, 1, figsize=(2, 1.0))\n",
    "    unnorm_x = all_energies_per_spike_ABPD_test[:300].numpy()/1000\n",
    "    unnorm_y = predictions[:300]/1000\n",
    "    ax.scatter(x=unnorm_x, y=unnorm_y, s=3, color=\"#2b8cbe\")\n",
    "    gt_vec = np.linspace(np.min(unnorm_x), np.max(unnorm_x), 2)\n",
    "    ax.plot(gt_vec, gt_vec, \"#ff7f00\")\n",
    "    ax.set_xlabel(\"Energy / spike (PY) ($\\mu$J/s)\")\n",
    "    ax.set_ylabel(\"NN prediction\")\n",
    "    plt.savefig(PANEL_supp_performance2, facecolor='None', transparent=False)"
   ]
  },
  {
   "cell_type": "code",
   "execution_count": 142,
   "metadata": {},
   "outputs": [
    {
     "name": "stdout",
     "output_type": "stream",
     "text": [
      "Ratio of first to second eigenvalue:  tensor(32.2492)\n"
     ]
    },
    {
     "data": {
      "image/png": "[encoded data removed]",
      "text/plain": [
       "<Figure size 180x100 with 1 Axes>"
      ]
     },
     "metadata": {},
     "output_type": "display_data"
    }
   ],
   "source": [
    "with mpl.rc_context(fname=\"../../../.matplotlibrc\"):\n",
    "    viz.plot_eigenvalues(\n",
    "        torch.flip(torch.abs(e_vals_e_per_spike), dims=(0,)),\n",
    "        figsize=(1.8, 1.0),\n",
    "        ylabel=\"log(E.-value)\",\n",
    "        color=\"k\",\n",
    "        title=\"E / spike\\n(PY)\"\n",
    "    )\n",
    "    print(\n",
    "        \"Ratio of first to second eigenvalue: \",\n",
    "        e_vals_e_per_spike[-1] / e_vals_e_per_spike[-2],\n",
    "    )\n",
    "    plt.savefig(PANEL_supp_EV2, facecolor=\"None\", transparent=False)\n",
    "    plt.show()"
   ]
  },
  {
   "cell_type": "code",
   "execution_count": 143,
   "metadata": {},
   "outputs": [
    {
     "name": "stdout",
     "output_type": "stream",
     "text": [
      "Fraction of first to total:  tensor(0.9599)\n"
     ]
    }
   ],
   "source": [
    "print(\"Fraction of first to total: \", e_vals_e_per_spike[-1] / torch.sum(e_vals_e_per_spike))"
   ]
  },
  {
   "cell_type": "code",
   "execution_count": 144,
   "metadata": {},
   "outputs": [
    {
     "data": {
      "image/png": "[encoded data removed]",
      "text/plain": [
       "<Figure size 250x90 with 1 Axes>"
      ]
     },
     "metadata": {},
     "output_type": "display_data"
    }
   ],
   "source": [
    "with mpl.rc_context(fname=\"../../../.matplotlibrc\"):\n",
    "    viz.py_sensitivity_bars_cosyne(\n",
    "        deepcopy(e_vecs_e_per_spike[:, -1].T),\n",
    "        ylim=[-1, 1.0],\n",
    "        figsize=(2.5, 0.9),\n",
    "        ylabel=\"Active dir.\",\n",
    "        legend=False,\n",
    "        title='E / spike (PY)',\n",
    "        title_x_offset=-0.6,\n",
    "    )\n",
    "    plt.savefig(PANEL_E1, facecolor=\"None\", transparent=True)\n",
    "    plt.show()"
   ]
  },
  {
   "cell_type": "code",
   "execution_count": 145,
   "metadata": {},
   "outputs": [
    {
     "data": {
      "image/png": "[encoded data removed]",
      "text/plain": [
       "<Figure size 180x100 with 1 Axes>"
      ]
     },
     "metadata": {},
     "output_type": "display_data"
    }
   ],
   "source": [
    "with mpl.rc_context(fname=\"../../../.matplotlibrc\"):\n",
    "    viz.synapse_sensitivity_bars(\n",
    "        e_vecs_e_per_spike[24:, -1:].T, ylim=[-0.3, 0.6], figsize=(1.8, 1.0), ylabel=\"\", color=\"k\", title=\"E / spike\\n(PY)\"\n",
    "    )\n",
    "    plt.savefig(PANEL_supp_synapses2, facecolor=\"None\", transparent=False)\n",
    "    plt.show()"
   ]
  },
  {
   "cell_type": "markdown",
   "metadata": {},
   "source": [
    "## Number of spikes"
   ]
  },
  {
   "cell_type": "code",
   "execution_count": 146,
   "metadata": {},
   "outputs": [],
   "source": [
    "numSpikesPerBurst = x[\"num_spikes\"][\"PY\"].to_numpy() / x[\"num_bursts\"][\"PY\"].to_numpy()\n",
    "numSpikesPerBurst_test = torch.as_tensor(\n",
    "    numSpikesPerBurst[:num_test], dtype=torch.float32\n",
    ").unsqueeze(1)\n",
    "numSpikesPerBurst_train = torch.as_tensor(\n",
    "    numSpikesPerBurst[num_test:], dtype=torch.float32\n",
    ").unsqueeze(1)"
   ]
  },
  {
   "cell_type": "code",
   "execution_count": 147,
   "metadata": {},
   "outputs": [
    {
     "name": "stdout",
     "output_type": "stream",
     "text": [
      "Training neural network. Epochs trained:  138\r"
     ]
    },
    {
     "data": {
      "application/vnd.jupyter.widget-view+json": {
       "model_id": "8f172f094cec4432b215f75390f3b1b2",
       "version_major": 2,
       "version_minor": 0
      },
      "text/plain": [
       "Drawing 1000 posterior samples:   0%|          | 0/1000 [00:00<?, ?it/s]"
      ]
     },
     "metadata": {},
     "output_type": "display_data"
    }
   ],
   "source": [
    "torch.manual_seed(0)\n",
    "\n",
    "sensitivity_num_spikes = ActiveSubspace(posterior.set_default_x(xo))\n",
    "converged_nn_num_spikes = sensitivity_num_spikes.add_property(\n",
    "    theta_train,\n",
    "    numSpikesPerBurst_train,\n",
    "    hidden_features=20,\n",
    "    num_blocks=1\n",
    ").train()\n",
    "e_vals_num_spikes, e_vecs_num_spikes = sensitivity_num_spikes.find_directions()"
   ]
  },
  {
   "cell_type": "code",
   "execution_count": 148,
   "metadata": {},
   "outputs": [],
   "source": [
    "predictions = converged_nn_num_spikes(theta_test).detach().numpy()"
   ]
  },
  {
   "cell_type": "code",
   "execution_count": 149,
   "metadata": {},
   "outputs": [
    {
     "data": {
      "image/png": "[encoded data removed]",
      "text/plain": [
       "<Figure size 200x100 with 1 Axes>"
      ]
     },
     "metadata": {},
     "output_type": "display_data"
    }
   ],
   "source": [
    "with mpl.rc_context(fname=\"../../../.matplotlibrc\"):\n",
    "    fig, ax = plt.subplots(1, 1, figsize=(2, 1.0))\n",
    "    unnorm_x = numSpikesPerBurst_test[:300].numpy()\n",
    "    unnorm_y = predictions[:300]\n",
    "    ax.scatter(x=unnorm_x, y=unnorm_y, s=3, color=\"#2b8cbe\")\n",
    "    gt_vec = np.linspace(np.min(unnorm_x), np.max(unnorm_x), 2)\n",
    "    ax.plot(gt_vec, gt_vec, \"#ff7f00\")\n",
    "    ax.set_xlabel(\"Spikes per burst (PY)\")\n",
    "    ax.set_ylabel(\"NN prediction\")\n",
    "    plt.savefig(PANEL_supp_performance3, facecolor='None', transparent=False)"
   ]
  },
  {
   "cell_type": "code",
   "execution_count": 150,
   "metadata": {},
   "outputs": [
    {
     "name": "stdout",
     "output_type": "stream",
     "text": [
      "Ratio of first to second eigenvalue:  tensor(33.3874)\n"
     ]
    },
    {
     "data": {
      "image/png": "[encoded data removed]",
      "text/plain": [
       "<Figure size 180x100 with 1 Axes>"
      ]
     },
     "metadata": {},
     "output_type": "display_data"
    }
   ],
   "source": [
    "with mpl.rc_context(fname=\"../../../.matplotlibrc\"):\n",
    "    viz.plot_eigenvalues(\n",
    "        torch.flip(torch.abs(e_vals_num_spikes), dims=(0,)),\n",
    "        figsize=(1.8, 1.0),\n",
    "        ylabel=\"log(E.-value)\",\n",
    "        color=\"k\",\n",
    "        title=\"Spikes per burst\\n(PY)\"\n",
    "    )\n",
    "    print(\n",
    "        \"Ratio of first to second eigenvalue: \",\n",
    "        e_vals_num_spikes[-1] / e_vals_num_spikes[-2],\n",
    "    )\n",
    "    plt.savefig(PANEL_supp_EV3, facecolor=\"None\", transparent=False)\n",
    "    plt.show()"
   ]
  },
  {
   "cell_type": "code",
   "execution_count": 151,
   "metadata": {},
   "outputs": [
    {
     "name": "stdout",
     "output_type": "stream",
     "text": [
      "Fraction of first to total:  tensor(0.9557)\n"
     ]
    }
   ],
   "source": [
    "print(\"Fraction of first to total: \", e_vals_num_spikes[-1] / torch.sum(e_vals_num_spikes))"
   ]
  },
  {
   "cell_type": "code",
   "execution_count": 152,
   "metadata": {},
   "outputs": [
    {
     "data": {
      "image/png": "[encoded data removed]",
      "text/plain": [
       "<Figure size 250x90 with 1 Axes>"
      ]
     },
     "metadata": {},
     "output_type": "display_data"
    }
   ],
   "source": [
    "with mpl.rc_context(fname=\"../../../.matplotlibrc\"):\n",
    "    viz.py_sensitivity_bars_cosyne(\n",
    "        e_vecs_num_spikes[:, -1].T,\n",
    "        ylim=[-1, 1.0],\n",
    "        figsize=(2.5, 0.9),\n",
    "        ylabel=\"Active dir.\",\n",
    "        plot_labels=True,\n",
    "        legend=True,\n",
    "        legend_y_offset=0.3,\n",
    "        title='#spikes (PY)',\n",
    "        title_x_offset=-0.5,\n",
    "        yticks=[-1, 0, 1]\n",
    "    )\n",
    "    plt.savefig(PANEL_E2, facecolor=\"None\", transparent=True)\n",
    "    plt.show()"
   ]
  },
  {
   "cell_type": "code",
   "execution_count": 153,
   "metadata": {},
   "outputs": [
    {
     "data": {
      "image/png": "[encoded data removed]",
      "text/plain": [
       "<Figure size 180x100 with 1 Axes>"
      ]
     },
     "metadata": {},
     "output_type": "display_data"
    }
   ],
   "source": [
    "with mpl.rc_context(fname=\"../../../.matplotlibrc\"):\n",
    "    viz.synapse_sensitivity_bars(\n",
    "        e_vecs_num_spikes[24:, -1:].T, ylim=[-0.3, 0.6], figsize=(1.8, 1.0), ylabel=\"\", color=\"k\", title=\"Spikes per burst\\n(PY)\"\n",
    "    )\n",
    "    plt.savefig(PANEL_supp_synapses3, facecolor=\"None\", transparent=False)\n",
    "    plt.show()"
   ]
  },
  {
   "cell_type": "markdown",
   "metadata": {},
   "source": [
    "## Assemble figure"
   ]
  },
  {
   "cell_type": "code",
   "execution_count": 154,
   "metadata": {},
   "outputs": [],
   "source": [
    "def svg(img):\n",
    "    IPd.display(IPd.HTML('<img src=\"{}\" / >'.format(img, time.time())))"
   ]
  },
  {
   "cell_type": "markdown",
   "metadata": {},
   "source": [
    "### Build appendix"
   ]
  },
  {
   "cell_type": "code",
   "execution_count": 155,
   "metadata": {},
   "outputs": [
    {
     "data": {
      "text/html": [
       "<img src=\"../fig/fig3_supp2.svg\" / >"
      ],
      "text/plain": [
       "<IPython.core.display.HTML object>"
      ]
     },
     "metadata": {},
     "output_type": "display_data"
    }
   ],
   "source": [
    "from svgutils.compose import *\n",
    "\n",
    "# > Inkscape pixel is 1/90 of an inch, other software usually uses 1/72.\n",
    "# > http://www.inkscapeforum.com/viewtopic.php?f=6&t=5964\n",
    "svg_scale = 1.25  # set this to 1.25 for Inkscape, 1.0 otherwise\n",
    "factor_svg=5.5\n",
    "\n",
    "# Panel letters in Helvetica Neue, 12pt, Medium\n",
    "kwargs_text = {'size': '12pt', 'font': 'Arial', 'weight': '800'}\n",
    "kwargs_text_12pt = {'size': '12pt', 'font': 'Arial', 'weight': '500'}\n",
    "kwargs_consistent = {'size': '10pt', 'font': 'Arial', 'weight': '500', 'color': '#AF99EF'}\n",
    "kwargs_consistent1 = {'size': '10pt', 'font': 'Arial', 'weight': '500', 'color': '#9E7DD5'}\n",
    "kwargs_inconsistent = {'size': '10pt', 'font': 'Arial', 'weight': '500', 'color': '#AF99EF'}\n",
    "kwargs_text8pt = {'size': '7.7pt', 'font': 'Arial'}\n",
    "kwargs_text8pt_red = {'size': '7.7pt', 'font': 'Arial', 'weight': '800', 'color': \"#b30000\"}\n",
    "\n",
    "f = Figure(\"20.3cm\", \"3.7cm\",\n",
    "\n",
    "    Panel(\n",
    "          SVG(PANEL_supp_EV1).scale(svg_scale).move(0, 0*factor_svg),\n",
    "    ).move(0*factor_svg, 2.1*factor_svg),\n",
    "           \n",
    "    Panel(\n",
    "          SVG(PANEL_supp_EV2).scale(svg_scale).move(0, 0*factor_svg),\n",
    "    ).move(40*factor_svg, 0.0*factor_svg),\n",
    "           \n",
    "    Panel(\n",
    "          SVG(PANEL_supp_EV3).scale(svg_scale).move(0, 0*factor_svg),\n",
    "    ).move(80*factor_svg, 0*factor_svg),\n",
    ")\n",
    "\n",
    "!mkdir -p fig\n",
    "f.save(\"../fig/fig3_supp2.svg\")\n",
    "svg('../fig/fig3_supp2.svg')"
   ]
  },
  {
   "cell_type": "code",
   "execution_count": 161,
   "metadata": {},
   "outputs": [
    {
     "data": {
      "text/html": [
       "<img src=\"../fig/fig3_supp1.svg\" / >"
      ],
      "text/plain": [
       "<IPython.core.display.HTML object>"
      ]
     },
     "metadata": {},
     "output_type": "display_data"
    }
   ],
   "source": [
    "from svgutils.compose import *\n",
    "\n",
    "# > Inkscape pixel is 1/90 of an inch, other software usually uses 1/72.\n",
    "# > http://www.inkscapeforum.com/viewtopic.php?f=6&t=5964\n",
    "svg_scale = 1.25  # set this to 1.25 for Inkscape, 1.0 otherwise\n",
    "factor_svg=5.5\n",
    "\n",
    "# Panel letters in Helvetica Neue, 12pt, Medium\n",
    "kwargs_text = {'size': '12pt', 'font': 'Arial', 'weight': '800'}\n",
    "kwargs_text_12pt = {'size': '12pt', 'font': 'Arial', 'weight': '500'}\n",
    "kwargs_consistent = {'size': '10pt', 'font': 'Arial', 'weight': '500', 'color': '#AF99EF'}\n",
    "kwargs_consistent1 = {'size': '10pt', 'font': 'Arial', 'weight': '500', 'color': '#9E7DD5'}\n",
    "kwargs_inconsistent = {'size': '10pt', 'font': 'Arial', 'weight': '500', 'color': '#AF99EF'}\n",
    "kwargs_text8pt = {'size': '7.7pt', 'font': 'Arial'}\n",
    "kwargs_text8pt_red = {'size': '7.7pt', 'font': 'Arial', 'weight': '800', 'color': \"#b30000\"}\n",
    "\n",
    "f = Figure(\"20.3cm\", \"3.0cm\",\n",
    "           \n",
    "    Panel(\n",
    "          SVG(PANEL_REG_supp_bar).scale(svg_scale).move(0, 0*factor_svg),\n",
    "    ).move(0*factor_svg, 0*factor_svg),\n",
    "\n",
    "    Panel(\n",
    "          SVG(PANEL_supp_performance1).scale(svg_scale).move(0, 0*factor_svg),\n",
    "    ).move(24*factor_svg, 0*factor_svg),\n",
    "           \n",
    "    Panel(\n",
    "          SVG(PANEL_supp_performance2).scale(svg_scale).move(0, 0*factor_svg),\n",
    "    ).move(64*factor_svg, 0*factor_svg),\n",
    "           \n",
    "    Panel(\n",
    "          SVG(PANEL_supp_performance3).scale(svg_scale).move(0, 0*factor_svg),\n",
    "    ).move(104*factor_svg, -0.5*factor_svg),\n",
    ")\n",
    "\n",
    "!mkdir -p fig\n",
    "f.save(\"../fig/fig3_supp1.svg\")\n",
    "svg('../fig/fig3_supp1.svg')"
   ]
  },
  {
   "cell_type": "code",
   "execution_count": 162,
   "metadata": {},
   "outputs": [
    {
     "data": {
      "text/html": [
       "<img src=\"../fig/fig3_supp3.svg\" / >"
      ],
      "text/plain": [
       "<IPython.core.display.HTML object>"
      ]
     },
     "metadata": {},
     "output_type": "display_data"
    }
   ],
   "source": [
    "from svgutils.compose import *\n",
    "\n",
    "# > Inkscape pixel is 1/90 of an inch, other software usually uses 1/72.\n",
    "# > http://www.inkscapeforum.com/viewtopic.php?f=6&t=5964\n",
    "svg_scale = 1.25  # set this to 1.25 for Inkscape, 1.0 otherwise\n",
    "factor_svg=5.5\n",
    "\n",
    "# Panel letters in Helvetica Neue, 12pt, Medium\n",
    "kwargs_text = {'size': '12pt', 'font': 'Arial', 'weight': '800'}\n",
    "kwargs_text_12pt = {'size': '12pt', 'font': 'Arial', 'weight': '500'}\n",
    "kwargs_consistent = {'size': '10pt', 'font': 'Arial', 'weight': '500', 'color': '#AF99EF'}\n",
    "kwargs_consistent1 = {'size': '10pt', 'font': 'Arial', 'weight': '500', 'color': '#9E7DD5'}\n",
    "kwargs_inconsistent = {'size': '10pt', 'font': 'Arial', 'weight': '500', 'color': '#AF99EF'}\n",
    "kwargs_text8pt = {'size': '7.7pt', 'font': 'Arial'}\n",
    "kwargs_text8pt_red = {'size': '7.7pt', 'font': 'Arial', 'weight': '800', 'color': \"#b30000\"}\n",
    "\n",
    "f = Figure(\"20.3cm\", \"2.6cm\",\n",
    "\n",
    "    Panel(\n",
    "          SVG(PANEL_C_act).scale(svg_scale).move(0, 0*factor_svg),\n",
    "    ).move(0*factor_svg, 0.0*factor_svg),\n",
    "           \n",
    "    Panel(\n",
    "          SVG(PANEL_E1).scale(svg_scale).move(0, 0*factor_svg),\n",
    "    ).move(45*factor_svg, 0.*factor_svg),\n",
    "           \n",
    "    Panel(\n",
    "          SVG(PANEL_E2).scale(svg_scale).move(0, 0*factor_svg),\n",
    "    ).move(90*factor_svg, 0.*factor_svg),\n",
    ")\n",
    "\n",
    "!mkdir -p fig\n",
    "f.save(\"../fig/fig3_supp3.svg\")\n",
    "svg('../fig/fig3_supp3.svg')"
   ]
  },
  {
   "cell_type": "code",
   "execution_count": 163,
   "metadata": {},
   "outputs": [
    {
     "data": {
      "text/html": [
       "<img src=\"../fig/fig3_supp3.svg\" / >"
      ],
      "text/plain": [
       "<IPython.core.display.HTML object>"
      ]
     },
     "metadata": {},
     "output_type": "display_data"
    }
   ],
   "source": [
    "from svgutils.compose import *\n",
    "\n",
    "# > Inkscape pixel is 1/90 of an inch, other software usually uses 1/72.\n",
    "# > http://www.inkscapeforum.com/viewtopic.php?f=6&t=5964\n",
    "svg_scale = 1.25  # set this to 1.25 for Inkscape, 1.0 otherwise\n",
    "factor_svg=5.5\n",
    "\n",
    "# Panel letters in Helvetica Neue, 12pt, Medium\n",
    "kwargs_text = {'size': '12pt', 'font': 'Arial', 'weight': '800'}\n",
    "kwargs_text_12pt = {'size': '12pt', 'font': 'Arial', 'weight': '500'}\n",
    "kwargs_consistent = {'size': '10pt', 'font': 'Arial', 'weight': '500', 'color': '#AF99EF'}\n",
    "kwargs_consistent1 = {'size': '10pt', 'font': 'Arial', 'weight': '500', 'color': '#9E7DD5'}\n",
    "kwargs_inconsistent = {'size': '10pt', 'font': 'Arial', 'weight': '500', 'color': '#AF99EF'}\n",
    "kwargs_text8pt = {'size': '7.7pt', 'font': 'Arial'}\n",
    "kwargs_text8pt_red = {'size': '7.7pt', 'font': 'Arial', 'weight': '800', 'color': \"#b30000\"}\n",
    "\n",
    "f = Figure(\"20.3cm\", \"3.8cm\",\n",
    "\n",
    "    Panel(\n",
    "          SVG(PANEL_supp_synapses1).scale(svg_scale).move(0, 0*factor_svg),\n",
    "    ).move(0*factor_svg, 2.0*factor_svg),\n",
    "           \n",
    "    Panel(\n",
    "          SVG(PANEL_supp_synapses2).scale(svg_scale).move(0, 0*factor_svg),\n",
    "    ).move(36*factor_svg, 0.*factor_svg),\n",
    "           \n",
    "    Panel(\n",
    "          SVG(PANEL_supp_synapses3).scale(svg_scale).move(0, 0*factor_svg),\n",
    "    ).move(69*factor_svg, 0.*factor_svg),\n",
    ")\n",
    "\n",
    "!mkdir -p fig\n",
    "f.save(\"../fig/fig3_supp3.svg\")\n",
    "svg('../fig/fig3_supp3.svg')"
   ]
  },
  {
   "cell_type": "code",
   "execution_count": null,
   "metadata": {},
   "outputs": [],
   "source": []
  },
  {
   "cell_type": "code",
   "execution_count": null,
   "metadata": {},
   "outputs": [],
   "source": []
  }
 ],
 "metadata": {
  "kernelspec": {
   "display_name": "Python 3",
   "language": "python",
   "name": "python3"
  },
  "language_info": {
   "codemirror_mode": {
    "name": "ipython",
    "version": 3
   },
   "file_extension": ".py",
   "mimetype": "text/x-python",
   "name": "python",
   "nbconvert_exporter": "python",
   "pygments_lexer": "ipython3",
   "version": "3.8.10"
  }
 },
 "nbformat": 4,
 "nbformat_minor": 4
}
