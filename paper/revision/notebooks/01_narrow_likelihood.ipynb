{
 "cells": [
  {
   "cell_type": "code",
   "execution_count": 1,
   "metadata": {},
   "outputs": [],
   "source": [
    "import time\n",
    "from copy import deepcopy\n",
    "\n",
    "import IPython.display as IPd\n",
    "import matplotlib as mpl\n",
    "import matplotlib.pylab as plt\n",
    "import numpy as np"
   ]
  },
  {
   "cell_type": "code",
   "execution_count": 2,
   "metadata": {},
   "outputs": [],
   "source": [
    "from pyloric import simulate, summary_stats"
   ]
  },
  {
   "cell_type": "code",
   "execution_count": 3,
   "metadata": {},
   "outputs": [],
   "source": [
    "import stg_energy.revision.viz as viz\n",
    "from stg_energy.common import col, svg\n",
    "import pandas as pd"
   ]
  },
  {
   "cell_type": "markdown",
   "metadata": {},
   "source": [
    "# Figure 2"
   ]
  },
  {
   "cell_type": "code",
   "execution_count": 4,
   "metadata": {},
   "outputs": [],
   "source": [
    "pd.options.display.max_columns=999"
   ]
  },
  {
   "cell_type": "code",
   "execution_count": 5,
   "metadata": {},
   "outputs": [],
   "source": [
    "%load_ext autoreload\n",
    "%autoreload 2"
   ]
  },
  {
   "cell_type": "code",
   "execution_count": 6,
   "metadata": {},
   "outputs": [],
   "source": [
    "PANEL_A = \"../svg/panel_a.svg\"\n",
    "PANEL_B = \"../svg/panel_b.svg\"\n",
    "PANEL_C = \"../svg/panel_c.svg\"\n",
    "PANEL_D = \"../svg/panel_d.svg\"\n"
   ]
  },
  {
   "cell_type": "code",
   "execution_count": 7,
   "metadata": {},
   "outputs": [],
   "source": [
    "theta = pd.read_pickle(\"../../../results/simulation_data_Tube_MLslurm_cluster/close_to_xo_circuit_parameters.pkl\")\n",
    "x = pd.read_pickle(\"../../../results/simulation_data_Tube_MLslurm_cluster/close_to_xo_simulation_outputs.pkl\")\n",
    "seeds = np.load(\"../../../results/simulation_data_Tube_MLslurm_cluster/close_to_xo_seeds.npy\")\n",
    "\n",
    "theta_np = theta.to_numpy()\n",
    "x_np = x.to_numpy()"
   ]
  },
  {
   "cell_type": "markdown",
   "metadata": {},
   "source": [
    "# Panel A: Histogram for total energy"
   ]
  },
  {
   "cell_type": "code",
   "execution_count": 8,
   "metadata": {},
   "outputs": [],
   "source": [
    "all_energies_per_spike = x[\"energies_per_spike\"].to_numpy()\n",
    "all_total_energies = x[\"energies\"].to_numpy()"
   ]
  },
  {
   "cell_type": "code",
   "execution_count": 9,
   "metadata": {},
   "outputs": [],
   "source": [
    "summed_energies_per_spike = np.sum(np.asarray(all_energies_per_spike), axis=1)\n",
    "summed_energies_total = np.sum(np.asarray(all_total_energies), axis=1)"
   ]
  },
  {
   "cell_type": "markdown",
   "metadata": {},
   "source": [
    "# Evaluate variability of summary stats"
   ]
  },
  {
   "cell_type": "code",
   "execution_count": 27,
   "metadata": {},
   "outputs": [
    {
     "data": {
      "text/plain": [
       "array([3709.,  676., 9089., ...,  472., 4468., 6712.])"
      ]
     },
     "execution_count": 27,
     "metadata": {},
     "output_type": "execute_result"
    }
   ],
   "source": [
    "seeds"
   ]
  },
  {
   "cell_type": "code",
   "execution_count": 30,
   "metadata": {},
   "outputs": [
    {
     "name": "stdout",
     "output_type": "stream",
     "text": [
      "43.66163904951109\n",
      "53.52785799593199\n",
      "62.56642531366677\n",
      "38.08481070088755\n",
      "72.658012185126\n",
      "46.921396494345785\n",
      "42.00005739791984\n",
      "51.48836107831183\n",
      "133.44539776130708\n",
      "67.71580562640176\n",
      "97.83479593640689\n",
      "75.65600941236636\n",
      "63.329699725697026\n",
      "51.66877239509685\n",
      "57.79915612688127\n"
     ]
    }
   ],
   "source": [
    "all_out_targets = []\n",
    "summstats = []\n",
    "for seed in range(5):\n",
    "    out_target = simulate(sorted_params_pd.loc[seed], seed=int(seeds[seed]))\n",
    "    stats = summary_stats(out_target)"
   ]
  },
  {
   "cell_type": "code",
   "execution_count": 31,
   "metadata": {},
   "outputs": [],
   "source": [
    "vals1 = np.asarray([\n",
    "    43.66163904951109,\n",
    "    53.52785799593199,\n",
    "    62.56642531366677,\n",
    "])\n",
    "vals2 = np.asarray([\n",
    "    38.08481070088755,\n",
    "    72.658012185126,\n",
    "    46.921396494345785,\n",
    "])\n",
    "vals3 = np.asarray([\n",
    "    42.00005739791984,\n",
    "    51.48836107831183,\n",
    "    133.44539776130708,\n",
    "])\n",
    "vals4 = np.asarray([\n",
    "    67.71580562640176,\n",
    "    97.83479593640689,\n",
    "    75.65600941236636,\n",
    "])\n",
    "vals5 = np.asarray([\n",
    "    63.329699725697026,\n",
    "    51.66877239509685,\n",
    "    57.79915612688127,\n",
    "])"
   ]
  },
  {
   "cell_type": "code",
   "execution_count": 32,
   "metadata": {},
   "outputs": [],
   "source": [
    "val1_mean = np.mean(vals1)\n",
    "val2_mean = np.mean(vals2)\n",
    "val3_mean = np.mean(vals3)\n",
    "val4_mean = np.mean(vals4)\n",
    "val5_mean = np.mean(vals5)"
   ]
  },
  {
   "cell_type": "code",
   "execution_count": 33,
   "metadata": {},
   "outputs": [],
   "source": [
    "vals = np.asarray([val1_mean, val2_mean, val3_mean, val4_mean, val5_mean])"
   ]
  },
  {
   "cell_type": "code",
   "execution_count": 34,
   "metadata": {},
   "outputs": [
    {
     "data": {
      "text/plain": [
       "63.89054647999054"
      ]
     },
     "execution_count": 34,
     "metadata": {},
     "output_type": "execute_result"
    }
   ],
   "source": [
    "np.mean(vals)"
   ]
  },
  {
   "cell_type": "code",
   "execution_count": 35,
   "metadata": {},
   "outputs": [
    {
     "data": {
      "text/plain": [
       "11.764806681964417"
      ]
     },
     "execution_count": 35,
     "metadata": {},
     "output_type": "execute_result"
    }
   ],
   "source": [
    "np.std(vals)"
   ]
  },
  {
   "cell_type": "markdown",
   "metadata": {},
   "source": [
    "# Panel C: trace with highest and lowest energy"
   ]
  },
  {
   "cell_type": "code",
   "execution_count": 14,
   "metadata": {},
   "outputs": [],
   "source": [
    "inds = np.argsort(summed_energies_total)\n",
    "sorted_params = theta_np[inds]\n",
    "sorted_seeds = seeds[inds]\n",
    "sorted_params_pd = pd.DataFrame(sorted_params, columns=theta.columns)"
   ]
  },
  {
   "cell_type": "code",
   "execution_count": 15,
   "metadata": {},
   "outputs": [],
   "source": [
    "all_out_targets = []\n",
    "summstats = []\n",
    "for seed in range(4):\n",
    "    out_target = simulate(sorted_params_pd.loc[1500], seed=seed)\n",
    "    all_out_targets.append(out_target)"
   ]
  },
  {
   "cell_type": "code",
   "execution_count": 12,
   "metadata": {},
   "outputs": [],
   "source": [
    "time_vec = np.arange(0, 11000, 0.025)"
   ]
  },
  {
   "cell_type": "code",
   "execution_count": 38,
   "metadata": {},
   "outputs": [
    {
     "name": "stdout",
     "output_type": "stream",
     "text": [
      "Showing :   10.0 seconds\n",
      "Scalebar indicates:  50mV\n"
     ]
    },
    {
     "data": {
      "image/png": "[encoded data removed]",
      "text/plain": [
       "<Figure size 630x110 with 1 Axes>"
      ]
     },
     "metadata": {},
     "output_type": "display_data"
    }
   ],
   "source": [
    "with mpl.rc_context(fname=\"../../../.matplotlibrc\"):\n",
    "    viz.vis_trace(\n",
    "        all_out_targets[0],\n",
    "        time_vec,\n",
    "        figsize=(6.3, 1.1),\n",
    "        offset=0,\n",
    "    )\n",
    "    plt.savefig(PANEL_A, facecolor='None', transparent=True)\n",
    "    plt.savefig(\"panel_single_trace.png\")\n",
    "    plt.show()"
   ]
  },
  {
   "cell_type": "code",
   "execution_count": 15,
   "metadata": {},
   "outputs": [
    {
     "name": "stdout",
     "output_type": "stream",
     "text": [
      "Showing :   5.0 seconds\n",
      "Scalebar indicates:  50mV\n"
     ]
    },
    {
     "data": {
      "image/png": "[encoded data removed]",
      "text/plain": [
       "<Figure size 230x110 with 1 Axes>"
      ]
     },
     "metadata": {},
     "output_type": "display_data"
    }
   ],
   "source": [
    "with mpl.rc_context(fname=\"../../../.matplotlibrc\"):\n",
    "    viz.vis_trace(\n",
    "        all_out_targets[1],\n",
    "        time_vec,\n",
    "        figsize=(2.3, 1.1),\n",
    "        ylabel=False\n",
    "    )\n",
    "    plt.savefig(PANEL_B, facecolor='None', transparent=True)\n",
    "    plt.show()"
   ]
  },
  {
   "cell_type": "code",
   "execution_count": 16,
   "metadata": {},
   "outputs": [
    {
     "name": "stdout",
     "output_type": "stream",
     "text": [
      "Showing :   5.0 seconds\n",
      "Scalebar indicates:  50mV\n"
     ]
    },
    {
     "data": {
      "image/png": "[encoded data removed]",
      "text/plain": [
       "<Figure size 230x110 with 1 Axes>"
      ]
     },
     "metadata": {},
     "output_type": "display_data"
    }
   ],
   "source": [
    "with mpl.rc_context(fname=\"../../../.matplotlibrc\"):\n",
    "    viz.vis_trace(\n",
    "        all_out_targets[2],\n",
    "        time_vec,\n",
    "        figsize=(2.3, 1.1),\n",
    "        ylabel=False\n",
    "    )\n",
    "    plt.savefig(PANEL_C, facecolor='None', transparent=True)\n",
    "    plt.show()"
   ]
  },
  {
   "cell_type": "code",
   "execution_count": 66,
   "metadata": {},
   "outputs": [
    {
     "name": "stdout",
     "output_type": "stream",
     "text": [
      "Showing :   3.0 seconds\n",
      "Scalebar indicates:  50mV\n"
     ]
    },
    {
     "data": {
      "image/png": "[encoded data removed]",
      "text/plain": [
       "<Figure size 230x110 with 1 Axes>"
      ]
     },
     "metadata": {},
     "output_type": "display_data"
    }
   ],
   "source": [
    "with mpl.rc_context(fname=\"../../../.matplotlibrc\"):\n",
    "    viz.vis_trace(\n",
    "        all_out_targets[3],\n",
    "        time_vec,\n",
    "        figsize=(2.3, 1.1),\n",
    "        ylabel=False\n",
    "    )\n",
    "    plt.savefig(PANEL_D, facecolor='None', transparent=True)\n",
    "    plt.show()"
   ]
  },
  {
   "cell_type": "markdown",
   "metadata": {},
   "source": [
    "# Assemble figure"
   ]
  },
  {
   "cell_type": "code",
   "execution_count": 67,
   "metadata": {},
   "outputs": [],
   "source": [
    "def svg(img):\n",
    "    IPd.display(IPd.HTML('<img src=\"{}\" / >'.format(img, time.time())))"
   ]
  },
  {
   "cell_type": "code",
   "execution_count": 75,
   "metadata": {},
   "outputs": [
    {
     "data": {
      "text/html": [
       "<img src=\"../fig/fig_revision_narrow_likelihood.svg\" / >"
      ],
      "text/plain": [
       "<IPython.core.display.HTML object>"
      ]
     },
     "metadata": {},
     "output_type": "display_data"
    }
   ],
   "source": [
    "from svgutils.compose import *\n",
    "import svgutils.transform as sg\n",
    "\n",
    "# > Inkscape pixel is 1/90 of an inch, other software usually uses 1/72.\n",
    "# > http://www.inkscapeforum.com/viewtopic.php?f=6&t=5964\n",
    "svg_scale = 1.25  # set this to 1.25 for Inkscape, 1.0 otherwise\n",
    "factor_svg=5.5\n",
    "\n",
    "# Panel letters in Helvetica Neue, 12pt, Medium\n",
    "kwargs_text = {'size': '12pt', 'font': 'Arial', 'weight': '800'}\n",
    "kwargs_consistent = {'size': '10pt', 'font': 'Arial', 'weight': '500', 'color': '#AF99EF'}\n",
    "kwargs_consistent1 = {'size': '10pt', 'font': 'Arial', 'weight': '500', 'color': '#9E7DD5'}\n",
    "kwargs_inconsistent = {'size': '10pt', 'font': 'Arial', 'weight': '500', 'color': '#AF99EF'}\n",
    "kwargs_text8pt = {'size': '7.7pt', 'font': 'Arial'}\n",
    "\n",
    "f = Figure(\"20.3cm\", \"3.2cm\",\n",
    "\n",
    "    Panel(\n",
    "          SVG(PANEL_A).scale(svg_scale).move(0*factor_svg,0*factor_svg),\n",
    "    ).move(0*factor_svg, 0*factor_svg),\n",
    "    Panel(\n",
    "          SVG(PANEL_B).scale(svg_scale).move(0*factor_svg,0*factor_svg),\n",
    "    ).move(35*factor_svg, 0*factor_svg),\n",
    "    Panel(\n",
    "          SVG(PANEL_C).scale(svg_scale).move(0*factor_svg,0*factor_svg),\n",
    "    ).move(70*factor_svg, 0*factor_svg),\n",
    "    Panel(\n",
    "          SVG(PANEL_D).scale(svg_scale).move(0*factor_svg,0*factor_svg),\n",
    "    ).move(105*factor_svg, 0*factor_svg),\n",
    ")\n",
    "\n",
    "f.save(\"../fig/fig_revision_narrow_likelihood.svg\")\n",
    "svg('../fig/fig_revision_narrow_likelihood.svg')"
   ]
  },
  {
   "cell_type": "code",
   "execution_count": null,
   "metadata": {},
   "outputs": [],
   "source": []
  },
  {
   "cell_type": "code",
   "execution_count": null,
   "metadata": {},
   "outputs": [],
   "source": []
  },
  {
   "cell_type": "code",
   "execution_count": null,
   "metadata": {},
   "outputs": [],
   "source": []
  }
 ],
 "metadata": {
  "kernelspec": {
   "display_name": "Python 3",
   "language": "python",
   "name": "python3"
  },
  "language_info": {
   "codemirror_mode": {
    "name": "ipython",
    "version": 3
   },
   "file_extension": ".py",
   "mimetype": "text/x-python",
   "name": "python",
   "nbconvert_exporter": "python",
   "pygments_lexer": "ipython3",
   "version": "3.8.10"
  }
 },
 "nbformat": 4,
 "nbformat_minor": 4
}
