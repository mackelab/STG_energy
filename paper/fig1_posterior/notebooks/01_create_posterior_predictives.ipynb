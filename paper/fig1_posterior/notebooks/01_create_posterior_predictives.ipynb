{
 "cells": [
  {
   "cell_type": "markdown",
   "metadata": {},
   "source": [
    "### Sample flow to get posterior samples"
   ]
  },
  {
   "cell_type": "code",
   "execution_count": 23,
   "metadata": {},
   "outputs": [],
   "source": [
    "import torch\n",
    "import numpy as np\n",
    "\n",
    "from pyloric import simulate, create_prior, stats\n",
    "from joblib import delayed, Parallel\n",
    "from copy import deepcopy\n",
    "from multiprocessing import Pool\n",
    "import time"
   ]
  },
  {
   "cell_type": "code",
   "execution_count": 24,
   "metadata": {},
   "outputs": [],
   "source": [
    "_ = torch.manual_seed(12312313)"
   ]
  },
  {
   "cell_type": "code",
   "execution_count": 25,
   "metadata": {},
   "outputs": [],
   "source": [
    "data = np.load('/home/michael/Documents/STG_energy/results/flow/200411_flow.npz', allow_pickle=True)"
   ]
  },
  {
   "cell_type": "code",
   "execution_count": 26,
   "metadata": {},
   "outputs": [],
   "source": [
    "flow = data['posterior'].tolist()"
   ]
  },
  {
   "cell_type": "code",
   "execution_count": 27,
   "metadata": {},
   "outputs": [
    {
     "name": "stdout",
     "output_type": "stream",
     "text": [
      "tensor([[ 3.4304e-02,  6.9182e-04,  1.3943e-03,  1.4528e-02,  2.4569e-03,\n",
      "          2.3212e-02,  4.9989e-06,  1.2571e-06,  7.3174e-02,  5.5572e-04,\n",
      "          4.4999e-03,  2.8524e-02,  6.1185e-03,  4.8477e-02,  2.4848e-05,\n",
      "          1.7146e-05,  1.6718e-01,  4.1757e-03,  1.2410e-03,  2.0514e-02,\n",
      "          1.5498e-03,  6.5672e-02,  1.2471e-05,  9.5230e-06, -9.0803e+00,\n",
      "         -1.7436e+01, -1.0947e+01, -1.0716e+01, -1.6232e+01, -1.7659e+01,\n",
      "         -1.2110e+01]], grad_fn=<CatBackward>)\n"
     ]
    }
   ],
   "source": [
    "print(flow.sample(1))"
   ]
  },
  {
   "cell_type": "code",
   "execution_count": 28,
   "metadata": {},
   "outputs": [],
   "source": [
    "prior = create_prior()"
   ]
  },
  {
   "cell_type": "code",
   "execution_count": 29,
   "metadata": {},
   "outputs": [],
   "source": [
    "data = np.load(\"../../results/11deg_post_pred/11_deg_post_pred_close_to_obs.npz\")\n",
    "good_stats = data[\"sample_stats\"]\n",
    "good_params = data[\"sample_params\"]\n",
    "good_seeds = data[\"sample_seeds\"]"
   ]
  },
  {
   "cell_type": "code",
   "execution_count": 30,
   "metadata": {},
   "outputs": [],
   "source": [
    "from stg_energy.fig2_histograms.energy import select_ss_close_to_obs\n",
    "datafile = \"../../results/prior_samples_after_classifier/samples_full_3.npz\"\n",
    "data = np.load(datafile)\n",
    "ss_prior = data[\"stats\"]\n",
    "\n",
    "stats_mean = np.mean(ss_prior, axis=0)\n",
    "stats_std = np.std(ss_prior, axis=0)"
   ]
  },
  {
   "cell_type": "code",
   "execution_count": 31,
   "metadata": {},
   "outputs": [],
   "source": [
    "npz = np.load(\"../../results/experimental_data/summstats_prep845_082_0044.npz\")\n",
    "observation = npz[\"summ_stats\"]\n",
    "\n",
    "npz = np.load(\"../../results/experimental_data/trace_data_845_082_0044.npz\")\n",
    "t = npz[\"t\"]"
   ]
  },
  {
   "cell_type": "code",
   "execution_count": 32,
   "metadata": {},
   "outputs": [],
   "source": [
    "num_std = np.asarray(\n",
    "    [0.02, 0.02, 0.02, 0.02, 0.2, 0.2, 0.2, 0.2, 0.2, 0.2, 0.2, 0.2, 0.2, 0.2, 0.2]\n",
    ")"
   ]
  },
  {
   "cell_type": "code",
   "execution_count": 36,
   "metadata": {},
   "outputs": [
    {
     "name": "stdout",
     "output_type": "stream",
     "text": [
      "num of good:   torch.Size([104, 31])\n",
      "Overall time for iteration 1958 :    258.63058257102966\n",
      "num of good:   torch.Size([128, 31])\n",
      "Overall time for iteration 1959 :    253.99272656440735\n",
      "num of good:   torch.Size([133, 31])\n",
      "Overall time for iteration 1960 :    252.06354308128357\n",
      "num of good:   torch.Size([118, 31])\n",
      "Overall time for iteration 1961 :    250.91775631904602\n",
      "num of good:   torch.Size([101, 31])\n",
      "Overall time for iteration 1962 :    251.53859210014343\n",
      "num of good:   torch.Size([98, 31])\n",
      "Overall time for iteration 1963 :    252.8818256855011\n",
      "num of good:   torch.Size([108, 31])\n",
      "Overall time for iteration 1964 :    254.2624535560608\n",
      "num of good:   torch.Size([116, 31])\n",
      "Overall time for iteration 1965 :    253.21874523162842\n",
      "num of good:   torch.Size([119, 31])\n",
      "Overall time for iteration 1966 :    253.44809365272522\n",
      "num of good:   torch.Size([127, 31])\n",
      "Overall time for iteration 1967 :    252.56233310699463\n",
      "num of good:   torch.Size([103, 31])\n",
      "Overall time for iteration 1968 :    253.1283984184265\n",
      "num of good:   torch.Size([107, 31])\n",
      "Overall time for iteration 1969 :    252.35045909881592\n",
      "num of good:   torch.Size([117, 31])\n",
      "Overall time for iteration 1970 :    253.31747913360596\n",
      "num of good:   torch.Size([98, 31])\n",
      "Overall time for iteration 1971 :    252.46322631835938\n",
      "num of good:   torch.Size([113, 31])\n",
      "Overall time for iteration 1972 :    253.19047260284424\n",
      "num of good:   torch.Size([100, 31])\n",
      "Overall time for iteration 1973 :    254.71547889709473\n",
      "num of good:   torch.Size([107, 31])\n",
      "Overall time for iteration 1974 :    251.5658040046692\n",
      "num of good:   torch.Size([112, 31])\n",
      "Overall time for iteration 1975 :    255.80287265777588\n",
      "num of good:   torch.Size([120, 31])\n",
      "Overall time for iteration 1976 :    253.78485941886902\n",
      "num of good:   torch.Size([105, 31])\n",
      "Overall time for iteration 1977 :    251.70331525802612\n",
      "num of good:   torch.Size([109, 31])\n",
      "Overall time for iteration 1978 :    252.2962031364441\n",
      "num of good:   torch.Size([109, 31])\n",
      "Overall time for iteration 1979 :    252.48512721061707\n",
      "num of good:   torch.Size([117, 31])\n",
      "Overall time for iteration 1980 :    253.29234313964844\n",
      "num of good:   torch.Size([128, 31])\n",
      "Overall time for iteration 1981 :    258.54976749420166\n",
      "num of good:   torch.Size([103, 31])\n",
      "Overall time for iteration 1982 :    252.86072301864624\n",
      "num of good:   torch.Size([107, 31])\n",
      "Overall time for iteration 1983 :    252.3453767299652\n",
      "num of good:   torch.Size([110, 31])\n",
      "Overall time for iteration 1984 :    253.4309093952179\n",
      "num of good:   torch.Size([127, 31])\n",
      "Overall time for iteration 1985 :    254.5752396583557\n",
      "num of good:   torch.Size([103, 31])\n",
      "Overall time for iteration 1986 :    255.80022311210632\n",
      "num of good:   torch.Size([120, 31])\n",
      "Overall time for iteration 1987 :    251.66606497764587\n",
      "num of good:   torch.Size([130, 31])\n",
      "Overall time for iteration 1988 :    253.27890419960022\n",
      "num of good:   torch.Size([89, 31])\n",
      "Overall time for iteration 1989 :    257.3116853237152\n",
      "num of good:   torch.Size([102, 31])\n",
      "Overall time for iteration 1990 :    256.25033044815063\n",
      "num of good:   torch.Size([117, 31])\n",
      "Overall time for iteration 1991 :    256.80906105041504\n",
      "num of good:   torch.Size([119, 31])\n",
      "Overall time for iteration 1992 :    252.24584102630615\n",
      "num of good:   torch.Size([106, 31])\n",
      "Overall time for iteration 1993 :    254.1832468509674\n",
      "num of good:   torch.Size([110, 31])\n",
      "Overall time for iteration 1994 :    254.32381415367126\n",
      "num of good:   torch.Size([107, 31])\n",
      "Overall time for iteration 1995 :    254.12481212615967\n",
      "num of good:   torch.Size([95, 31])\n",
      "Overall time for iteration 1996 :    252.65967416763306\n",
      "num of good:   torch.Size([109, 31])\n",
      "Overall time for iteration 1997 :    253.3511402606964\n",
      "num of good:   torch.Size([92, 31])\n",
      "Overall time for iteration 1998 :    252.46395993232727\n",
      "num of good:   torch.Size([102, 31])\n",
      "Overall time for iteration 1999 :    251.1363377571106\n"
     ]
    }
   ],
   "source": [
    "start_time = time.time()\n",
    "all_samples = []\n",
    "for k in range(1958, 2000):\n",
    "    start_time = time.time()\n",
    "    num_samples_per_iter = 2520\n",
    "    flow_samples = flow.sample(num_samples_per_iter)\n",
    "    seeds = torch.randint(0, 10000, (num_samples_per_iter, 1))\n",
    "\n",
    "    params_with_seeds = torch.cat((flow_samples, seeds), axis=1).detach().numpy()\n",
    "\n",
    "    def simulator(params_set):\n",
    "        out_target = simulate(\n",
    "            deepcopy(params_set[:-1].astype(np.float64)),\n",
    "            seed=int(params_set[-1]),\n",
    "        )\n",
    "        return stats(out_target)\n",
    "\n",
    "    simulation_outputs = Parallel(n_jobs=12)(\n",
    "        delayed(simulator)(batch)\n",
    "        for batch in params_with_seeds\n",
    "    )\n",
    "\n",
    "    simulation_outputs = np.asarray(simulation_outputs)\n",
    "\n",
    "    # Just for fun and print: compute how many are good.\n",
    "    good_params_new, good_dat_new, good_seeds_new = select_ss_close_to_obs(\n",
    "        flow_samples,\n",
    "        simulation_outputs,\n",
    "        seeds.squeeze(),\n",
    "        observation,\n",
    "        num_std=num_std,\n",
    "        stats_std=stats_std[:15],\n",
    "        new_burst_position_in_ss=True\n",
    "    )\n",
    "\n",
    "    print(\"num of good:  \", good_params_new.shape)\n",
    "\n",
    "    np.savez(f\"../../results/11deg_post_pred/11deg_5million_predictives_for_temp/simulated/11deg_5million_predictives_for_temp_{k}.npz\", params=flow_samples.detach().numpy(), stats=simulation_outputs, seeds=seeds)\n",
    "    print(\"Overall time for iteration\", k, \":   \", time.time()-start_time)"
   ]
  },
  {
   "cell_type": "code",
   "execution_count": null,
   "metadata": {},
   "outputs": [],
   "source": []
  },
  {
   "cell_type": "code",
   "execution_count": null,
   "metadata": {},
   "outputs": [],
   "source": []
  }
 ],
 "metadata": {
  "kernelspec": {
   "display_name": "sbi_prinz",
   "language": "python",
   "name": "sbi_prinz"
  },
  "language_info": {
   "codemirror_mode": {
    "name": "ipython",
    "version": 3
   },
   "file_extension": ".py",
   "mimetype": "text/x-python",
   "name": "python",
   "nbconvert_exporter": "python",
   "pygments_lexer": "ipython3",
   "version": "3.8.5"
  }
 },
 "nbformat": 4,
 "nbformat_minor": 4
}
