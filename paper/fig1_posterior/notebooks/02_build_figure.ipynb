{
 "cells": [
  {
   "cell_type": "code",
   "execution_count": 17,
   "metadata": {},
   "outputs": [],
   "source": [
    "import numpy as np\n",
    "import matplotlib.pylab as plt\n",
    "import time\n",
    "from copy import deepcopy\n",
    "\n",
    "import importlib\n",
    "import matplotlib as mpl\n",
    "import matplotlib.patches as mp\n",
    "import pandas as pd\n",
    "\n",
    "from pyloric import create_prior, simulate, summary_stats\n",
    "from stg_energy.common import col, svg, plot_pdf, samples_nd, get_labels_8pt\n",
    "import stg_energy.fig1_posterior.viz as viz"
   ]
  },
  {
   "cell_type": "markdown",
   "metadata": {},
   "source": [
    "# Figure 1"
   ]
  },
  {
   "cell_type": "code",
   "execution_count": 3,
   "metadata": {},
   "outputs": [],
   "source": [
    "%load_ext autoreload\n",
    "%autoreload 2"
   ]
  },
  {
   "cell_type": "code",
   "execution_count": 4,
   "metadata": {},
   "outputs": [],
   "source": [
    "PANEL_A = '../svg/panel_a.svg'\n",
    "PANEL_A_smaller = '../svg/panel_a_smaller.svg'\n",
    "PANEL_B = '../svg/panel_b.svg'\n",
    "PANEL_C = '../svg/panel_c.svg'\n",
    "PANEL_D = '../svg/panel_d.svg'\n",
    "PANEL_E = '../svg/panel_e.svg'\n",
    "PANEL_F = '../svg/panel_f.svg'"
   ]
  },
  {
   "cell_type": "markdown",
   "metadata": {},
   "source": [
    "### Load samples"
   ]
  },
  {
   "cell_type": "code",
   "execution_count": 4,
   "metadata": {},
   "outputs": [
    {
     "name": "stdout",
     "output_type": "stream",
     "text": [
      "There are 55043 datapoints in this dataset\n"
     ]
    }
   ],
   "source": [
    "outfile = '../../results/11deg_post_pred/11_deg_post_pred_close_to_obs.npz'\n",
    "data_n = np.load(outfile)\n",
    "sample_seeds = data_n[\"sample_seeds\"]\n",
    "sample_params = data_n[\"sample_params\"]\n",
    "sample_stats = data_n[\"sample_stats\"]\n",
    "print('There are', len(sample_seeds), 'datapoints in this dataset')\n",
    "\n",
    "stats_mean = np.mean(sample_stats, axis=0)\n",
    "stats_std  = np.std(sample_stats, axis=0)"
   ]
  },
  {
   "cell_type": "markdown",
   "metadata": {},
   "source": [
    "### Load network"
   ]
  },
  {
   "cell_type": "code",
   "execution_count": 8,
   "metadata": {},
   "outputs": [],
   "source": [
    "prior = create_prior(as_torch_dist=True)\n",
    "dimensions = 31\n",
    "lims = np.asarray([-np.sqrt(3)*np.ones(dimensions), np.sqrt(3)*np.ones(dimensions)]).T"
   ]
  },
  {
   "cell_type": "code",
   "execution_count": 9,
   "metadata": {},
   "outputs": [],
   "source": [
    "params_mean = prior.mean.numpy()\n",
    "params_std = prior.stddev.numpy()"
   ]
  },
  {
   "cell_type": "code",
   "execution_count": 7,
   "metadata": {},
   "outputs": [],
   "source": [
    "sample_params_norm = (sample_params - params_mean) / params_std"
   ]
  },
  {
   "cell_type": "markdown",
   "metadata": {},
   "source": [
    "# Panel B: experimental data"
   ]
  },
  {
   "cell_type": "code",
   "execution_count": 11,
   "metadata": {},
   "outputs": [],
   "source": [
    "npz = np.load('../../../results/experimental_data/trace_data_845_082_0044.npz')\n",
    "t = npz['t']\n",
    "PD_spikes = npz['PD_spikes']\n",
    "LP_spikes = npz['LP_spikes']\n",
    "PY_spikes = npz['PY_spikes']\n",
    "pdn = npz['pdn']\n",
    "lpn = npz['lpn']\n",
    "pyn = npz['pyn']"
   ]
  },
  {
   "cell_type": "code",
   "execution_count": 12,
   "metadata": {},
   "outputs": [],
   "source": [
    "start_index = 219500 + 2100\n",
    "end_index   = 246500 + 2100  # 32000\n",
    "height_offset = 200\n",
    "shown_t = t[end_index] - t[start_index]\n",
    "time_len = shown_t / 0.025 * 1000\n",
    "dt = t[1] - t[0]"
   ]
  },
  {
   "cell_type": "code",
   "execution_count": 14,
   "metadata": {},
   "outputs": [
    {
     "data": {
      "image/png": "[encoded data removed]",
      "text/plain": [
       "<Figure size 220x170 with 1 Axes>"
      ]
     },
     "metadata": {},
     "output_type": "display_data"
    }
   ],
   "source": [
    "with mpl.rc_context(fname='../../../.matplotlibrc'):\n",
    "    fig, ax = plt.subplots(1,1,figsize=(2.2, 1.7)) # (2.87, 2.08*3/4)\n",
    "    ax.plot(t[start_index:end_index], 2.5+pdn[start_index:end_index]*0.007, c=col['GT'], lw=0.8)\n",
    "    ax.plot(t[start_index:end_index], 1.2+lpn[start_index:end_index]*0.25, c=col['GT'], lw=0.8)\n",
    "    ax.plot(t[start_index:end_index], -0.1+pyn[start_index:end_index]*0.013, c=col['GT'], lw=0.8)\n",
    "    \n",
    "    linew = 0.4\n",
    "    headl = 0.06\n",
    "    headw = 0.16\n",
    "    linelen = 0.17\n",
    "    circlefact = 0.8\n",
    "    \n",
    "    # period arrow\n",
    "    height1 = 3.2\n",
    "    plt.arrow(t[start_index]+0.6, height1, 1.15, 0,  shape='full', head_width=headw, head_length=headl, length_includes_head=True, color='k', lw=linew)\n",
    "    plt.arrow(t[start_index]+1.75, height1, -1.15, 0,  shape='full', head_width=headw, head_length=headl, length_includes_head=True, color='k', lw=linew)\n",
    "    plt.plot([t[start_index]+0.6, t[start_index]+0.6], [height1-linelen,height1+linelen], c='k', lw=linew*1.5)\n",
    "    plt.plot([t[start_index]+1.75, t[start_index]+1.75], [height1-linelen,height1+linelen], c='k', lw=linew*1.5)\n",
    "    #patch =mp.Ellipse((t[start_index]+1.2, 3.65), 0.2*circlefact,0.6*circlefact, color='lightgray')\n",
    "    #ax.add_patch(patch)\n",
    "    \n",
    "    # delay arrow\n",
    "    height2 = 1.64\n",
    "    plt.arrow(t[start_index]+0.6, height2, 0.48, 0,  shape='full', head_width=headw, head_length=headl, length_includes_head=True, color='k', lw=linew)\n",
    "    plt.arrow(t[start_index]+1.08, height2, -0.48, 0,  shape='full', head_width=headw, head_length=headl, length_includes_head=True, color='k', lw=linew)\n",
    "    plt.plot([t[start_index]+0.6, t[start_index]+0.6], [height2-linelen,height2+linelen], c='k', lw=linew*1.5)\n",
    "    plt.plot([t[start_index]+1.08, t[start_index]+1.08], [height2-linelen,height2+linelen], c='k', lw=linew*1.5)\n",
    "    #patch =mp.Ellipse((t[start_index]+0.94, 2.1), 0.2*circlefact,0.6*circlefact, color='lightgray')\n",
    "    #ax.add_patch(patch)\n",
    "    \n",
    "    # gap arrow\n",
    "    plt.arrow(t[start_index]+1.98, height2, 0.27, 0,  shape='full', head_width=headw, head_length=headl, length_includes_head=True, color='k', lw=linew)\n",
    "    plt.arrow(t[start_index]+2.25, height2, -0.27, 0,  shape='full', head_width=headw, head_length=headl, length_includes_head=True, color='k', lw=linew)\n",
    "    plt.plot([t[start_index]+1.98, t[start_index]+1.98], [height2-linelen,height2+linelen], c='k', lw=linew*1.5)\n",
    "    plt.plot([t[start_index]+2.25, t[start_index]+2.25], [height2-linelen,height2+linelen], c='k', lw=linew*1.5)\n",
    "    #patch =mp.Ellipse((t[start_index]+2.1, 2.1), 0.2*circlefact,0.6*circlefact, color='lightgray')\n",
    "    #ax.add_patch(patch)\n",
    "    \n",
    "    # duration arrow\n",
    "    height4 = 0.44\n",
    "    plt.arrow(t[start_index]+1.33, height4, 0.43, 0,  shape='full', head_width=headw, head_length=headl, length_includes_head=True, color='k', lw=linew)\n",
    "    plt.arrow(t[start_index]+1.76, height4, -0.43, 0,  shape='full', head_width=headw, head_length=headl, length_includes_head=True, color='k', lw=linew)\n",
    "    plt.plot([t[start_index]+1.33, t[start_index]+1.33], [height4-linelen,height4+linelen], c='k', lw=linew*1.5)\n",
    "    plt.plot([t[start_index]+1.76, t[start_index]+1.76], [height4-linelen,height4+linelen], c='k', lw=linew*1.5)\n",
    "    #patch =mp.Ellipse((t[start_index]+1.55, 0.9), radius=0.2, color='lightgray')\n",
    "    #ax.add_patch(patch)\n",
    "    \n",
    "\n",
    "    ax.spines['right'].set_visible(False)\n",
    "    ax.spines['top'].set_visible(False)\n",
    "    ax.spines['bottom'].set_visible(False)\n",
    "    ax.spines['left'].set_visible(False)\n",
    "    ax.axes.get_yaxis().set_ticks([])\n",
    "    ax.axes.get_xaxis().set_ticks([])\n",
    "    ax.get_yaxis().set_visible(False)\n",
    "    ax.set_ylim([-0.95, 4.0])\n",
    "    \n",
    "    duration = 0.5\n",
    "    number_of_timesteps = int(duration / dt)\n",
    "    t_scale = np.linspace(t[start_index], t[start_index + number_of_timesteps], 2)\n",
    "    \n",
    "    ax.plot(t_scale, -0.8 * np.ones_like(t_scale), c='k', lw=1.0)\n",
    "    \n",
    "#     plt.savefig(PANEL_B, facecolor='None', transparent=True)\n",
    "    plt.show()"
   ]
  },
  {
   "cell_type": "markdown",
   "metadata": {},
   "source": [
    "# Panel C: posterior"
   ]
  },
  {
   "cell_type": "code",
   "execution_count": 15,
   "metadata": {},
   "outputs": [],
   "source": [
    "from decimal import Decimal\n",
    "all_labels = []\n",
    "for dim_i in range(31):\n",
    "    if dim_i > len(params_mean) - 7.5: # synapses\n",
    "        if dim_i == 24: all_labels.append([r'$\\mathdefault{0.01}\\;\\;\\;\\;\\;$ ', r'$\\mathdefault{10000}\\;\\;\\;\\;$  '])\n",
    "        else: all_labels.append([r'$\\;\\;\\mathdefault{0.01}\\;\\;\\;\\;\\;$ ', r'$\\mathdefault{1000}\\;\\;\\;\\;$ '])\n",
    "    else: # membrane conductances\n",
    "        num_after_digits = -int(np.log10(lims[dim_i, 1] * params_std[dim_i] + params_mean[dim_i]))\n",
    "        if num_after_digits > 2:\n",
    "            num_after_digits=2\n",
    "        labels = [round(Decimal((lims[dim_i, num_tmp] * params_std[dim_i] + params_mean[dim_i]) / 0.628e-3), num_after_digits)\n",
    "                  for num_tmp in range(2)]\n",
    "        new_labels = []\n",
    "        counter=0\n",
    "        for l in labels:\n",
    "            if counter == 0:\n",
    "                new_labels.append(r'$\\mathdefault{'+str(l)+'}\\;\\;\\;\\;\\;$ ')\n",
    "            else:\n",
    "                new_labels.append(r'$\\mathdefault{'+str(l)+'}\\;\\;\\;\\;\\;$ ')\n",
    "            counter+=1\n",
    "        all_labels.append(new_labels)"
   ]
  },
  {
   "cell_type": "code",
   "execution_count": 22,
   "metadata": {},
   "outputs": [],
   "source": [
    "path = '../../../results/simulation_data_Tube_MLslurm_cluster/01_simulate_11deg_R3/data/all_circuit_parameters.pkl'\n",
    "params_accepted_by_classifier = pd.read_pickle(path)\n",
    "params_accepted_by_classifier_np = params_accepted_by_classifier.to_numpy()\n",
    "params_accepted_by_classifier_norm = (params_accepted_by_classifier_np - params_mean) / params_std"
   ]
  },
  {
   "cell_type": "code",
   "execution_count": 23,
   "metadata": {},
   "outputs": [
    {
     "name": "stderr",
     "output_type": "stream",
     "text": [
      "/home/michael/Documents/STG_energy/stg_energy/common.py:625: FutureWarning: elementwise comparison failed; returning scalar instead, but in the future will perform elementwise comparison\n",
      "  if opts[\"labels\"] == [] or opts[\"labels\"] is None:\n",
      "findfont: Font family ['serif'] not found. Falling back to DejaVu Sans.\n",
      "findfont: Font family ['serif'] not found. Falling back to DejaVu Sans.\n"
     ]
    },
    {
     "data": {
      "image/png": "[encoded data removed]",
      "text/plain": [
       "<Figure size 136x136 with 9 Axes>"
      ]
     },
     "metadata": {},
     "output_type": "display_data"
    }
   ],
   "source": [
    "import matplotlib.patheffects as pe\n",
    "\n",
    "with mpl.rc_context(fname='../../../.matplotlibrc'):\n",
    "\n",
    "    labels_ = get_labels_8pt()\n",
    "    labels_[9] += ''\n",
    "\n",
    "    fig, axes = samples_nd(samples=[params_accepted_by_classifier_norm[:100000]],\n",
    "                           subset=[2,4,10],\n",
    "                           limits=lims,\n",
    "                           ticks=lims,\n",
    "                           tick_labels=all_labels,\n",
    "                           fig_size=(17.0*0.08, 17.0*0.08),\n",
    "                           labels=labels_,\n",
    "                           scatter_offdiag={'rasterized':True, 'alpha':1.0},\n",
    "                           samples_colors=[col['SNPE']],\n",
    "                           diag=['kde'],\n",
    "                           upper=['kde'],\n",
    "                           hist_offdiag={'bins':50},\n",
    "                           plot_offdiag={'linewidth': 1.6, 'path_effects':[pe.Stroke(linewidth=2.4, foreground='k'), pe.Normal()]})\n",
    "\n",
    "#     plt.savefig(PANEL_C, facecolor='None', transparent=True)\n",
    "    plt.show()"
   ]
  },
  {
   "cell_type": "code",
   "execution_count": 20,
   "metadata": {},
   "outputs": [
    {
     "name": "stderr",
     "output_type": "stream",
     "text": [
      "/home/michael/Documents/STG_energy/stg_energy/common.py:625: FutureWarning: elementwise comparison failed; returning scalar instead, but in the future will perform elementwise comparison\n",
      "  if opts[\"labels\"] == [] or opts[\"labels\"] is None:\n"
     ]
    },
    {
     "data": {
      "image/png": "[encoded data removed]",
      "text/plain": [
       "<Figure size 136x136 with 9 Axes>"
      ]
     },
     "metadata": {},
     "output_type": "display_data"
    }
   ],
   "source": [
    "import matplotlib.patheffects as pe\n",
    "\n",
    "with mpl.rc_context(fname='../../.matplotlibrc'):\n",
    "\n",
    "    labels_ = get_labels_8pt()\n",
    "    labels_[9] += ''\n",
    "\n",
    "    fig, axes = samples_nd(samples=[sample_params_norm[:10000]],\n",
    "                           subset=[2,4,10],\n",
    "                           limits=lims,\n",
    "                           ticks=lims,\n",
    "                           tick_labels=all_labels,\n",
    "                           fig_size=(17.0*0.08, 17.0*0.08),\n",
    "                           labels=labels_,\n",
    "                           scatter_offdiag={'rasterized':True, 'alpha':1.0},\n",
    "                           samples_colors=[col['SNPE']],\n",
    "                           diag=['kde'],\n",
    "                           upper=['kde'],\n",
    "                           hist_offdiag={'bins':50},\n",
    "                           plot_offdiag={'linewidth': 1.6, 'path_effects':[pe.Stroke(linewidth=2.4, foreground='k'), pe.Normal()]})\n",
    "\n",
    "    plt.savefig(PANEL_D, facecolor='None', transparent=True)\n",
    "    plt.show()"
   ]
  },
  {
   "cell_type": "markdown",
   "metadata": {},
   "source": [
    "# Panel D: posterior samples"
   ]
  },
  {
   "cell_type": "code",
   "execution_count": 14,
   "metadata": {},
   "outputs": [],
   "source": [
    "all_traces = []\n",
    "for parameter_index in range(6):\n",
    "    all_traces.append(simulate(deepcopy(sample_params[parameter_index]),\n",
    "                      seed=sample_seeds[parameter_index]))"
   ]
  },
  {
   "cell_type": "code",
   "execution_count": 158,
   "metadata": {},
   "outputs": [
    {
     "name": "stdout",
     "output_type": "stream",
     "text": [
      "0 0\n",
      "1 0\n",
      "2 0\n",
      "0 1\n",
      "1 1\n",
      "2 1\n"
     ]
    },
    {
     "data": {
      "image/png": "[encoded data removed]",
      "text/plain": [
       "<Figure size 587x300 with 6 Axes>"
      ]
     },
     "metadata": {},
     "output_type": "display_data"
    }
   ],
   "source": [
    "offsets = [39000, 89000, 45000, 39000, 39000, 79000]\n",
    "\n",
    "with mpl.rc_context(fname='../../.matplotlibrc'):\n",
    "\n",
    "    fig = viz.viz_path_and_samples_abstract_twoRows(\n",
    "        traces=all_traces,\n",
    "        t=get_time(),\n",
    "        figsize=(5.87, 3.0), offsets=offsets,\n",
    "        mycols=col, time_len=int(time_len),\n",
    "    )\n",
    "    \n",
    "    plt.savefig(PANEL_E, facecolor='None', transparent=True, dpi=300, bbox_inches='tight')\n",
    "    plt.show()"
   ]
  },
  {
   "cell_type": "code",
   "execution_count": 159,
   "metadata": {},
   "outputs": [
    {
     "name": "stdout",
     "output_type": "stream",
     "text": [
      "0 0\n",
      "1 0\n",
      "2 0\n",
      "0 1\n",
      "1 1\n",
      "2 1\n"
     ]
    },
    {
     "data": {
      "image/png": "[encoded data removed]",
      "text/plain": [
       "<Figure size 587x300 with 6 Axes>"
      ]
     },
     "metadata": {},
     "output_type": "display_data"
    }
   ],
   "source": [
    "#labels_ = viz.get_labels_8pt(params)\n",
    "offsets = [39000, 89000, 45000, 39000, 39000, 79000]\n",
    "# #offsets[0] = 47000\n",
    "# offsets[1] = 83500 # 75500\n",
    "# offsets[2] = 29000 # 21000\n",
    "# offsets[3] = 40500 # 40500\n",
    "\n",
    "with mpl.rc_context(fname='../../.matplotlibrc'):\n",
    "\n",
    "    fig = viz.viz_path_and_samples_abstract_twoRows(\n",
    "        traces=all_traces,\n",
    "        t=get_time(),\n",
    "        figsize=(5.87, 3.0), offsets=offsets,\n",
    "        mycols=col, time_len=int(time_len),\n",
    "    )\n",
    "\n",
    "#     plt.savefig(PANEL_E, facecolor='None', transparent=True, dpi=300, bbox_inches='tight')\n",
    "    plt.show()"
   ]
  },
  {
   "cell_type": "markdown",
   "metadata": {},
   "source": [
    "# Panel E / F: alternative"
   ]
  },
  {
   "cell_type": "code",
   "execution_count": 21,
   "metadata": {},
   "outputs": [],
   "source": [
    "trace_classifier = simulate(deepcopy(params_accepted_by_classifier[69]), seed=0) # 61\n",
    "trace_posterior = simulate(deepcopy(sample_params[2]), seed=sample_seeds[2])"
   ]
  },
  {
   "cell_type": "code",
   "execution_count": 22,
   "metadata": {},
   "outputs": [
    {
     "data": {
      "image/png": "[encoded data removed]",
      "text/plain": [
       "<Figure size 158.4x100.8 with 1 Axes>"
      ]
     },
     "metadata": {},
     "output_type": "display_data"
    }
   ],
   "source": [
    "fig, ax = plt.subplots(1,1,figsize=(2.2,1.4))\n",
    "viz.vis_sample_plain(\n",
    "    voltage_trace=trace_classifier,\n",
    "    t=get_time(),\n",
    "    axV=ax,\n",
    "    time_len=int(time_len),\n",
    "    offset=0,\n",
    "    col=\"k\",\n",
    "    scale_bar=True,\n",
    "    scale_bar_voltage=True,\n",
    "    print_label=False,\n",
    ")\n",
    "plt.savefig(PANEL_E, facecolor='None', transparent=True, dpi=300, bbox_inches='tight')\n",
    "plt.show()"
   ]
  },
  {
   "cell_type": "code",
   "execution_count": 23,
   "metadata": {},
   "outputs": [
    {
     "data": {
      "image/png": "[encoded data removed]",
      "text/plain": [
       "<Figure size 158.4x100.8 with 1 Axes>"
      ]
     },
     "metadata": {},
     "output_type": "display_data"
    }
   ],
   "source": [
    "fig, ax = plt.subplots(1,1,figsize=(2.2,1.4))\n",
    "viz.vis_sample_plain(\n",
    "    voltage_trace=trace_posterior,\n",
    "    t=get_time(),\n",
    "    axV=ax,\n",
    "    time_len=int(time_len),\n",
    "    offset=45000,\n",
    "    col=\"k\",\n",
    "    scale_bar=False,\n",
    "    scale_bar_voltage=False,\n",
    "    print_label=False,\n",
    ")\n",
    "plt.savefig(PANEL_F, facecolor='None', transparent=True, dpi=300, bbox_inches='tight')\n",
    "plt.show()"
   ]
  },
  {
   "cell_type": "markdown",
   "metadata": {},
   "source": [
    "# Assemble figure"
   ]
  },
  {
   "cell_type": "code",
   "execution_count": 24,
   "metadata": {},
   "outputs": [],
   "source": [
    "color_mixture1 = 0.33 * np.asarray(list(col['CONSISTENT1'])) + 0.67 * np.asarray(\n",
    "    list(col['CONSISTENT2']))\n",
    "color_mixture2 = 0.67 * np.asarray(list(col['CONSISTENT1'])) + 0.33 * np.asarray(\n",
    "    list(col['CONSISTENT2']))"
   ]
  },
  {
   "cell_type": "code",
   "execution_count": 25,
   "metadata": {},
   "outputs": [],
   "source": [
    "import time\n",
    "import IPython.display as IPd\n",
    "\n",
    "def svg(img):\n",
    "    IPd.display(IPd.HTML('<img src=\"{}\" / >'.format(img, time.time())))"
   ]
  },
  {
   "cell_type": "code",
   "execution_count": 47,
   "metadata": {},
   "outputs": [
    {
     "data": {
      "text/html": [
       "<img src=\"../fig/fig1.svg\" / >"
      ],
      "text/plain": [
       "<IPython.core.display.HTML object>"
      ]
     },
     "metadata": {},
     "output_type": "display_data"
    }
   ],
   "source": [
    "from svgutils.compose import *\n",
    "\n",
    "# > Inkscape pixel is 1/90 of an inch, other software usually uses 1/72.\n",
    "# > http://www.inkscapeforum.com/viewtopic.php?f=6&t=5964\n",
    "svg_scale = 1.25  # set this to 1.25 for Inkscape, 1.0 otherwise\n",
    "factor_svg=5.5\n",
    "\n",
    "# Panel letters in Helvetica Neue, 12pt, Medium\n",
    "kwargs_text = {'size': '12pt', 'font': 'Arial', 'weight': '800'}\n",
    "kwargs_consistent = {'size': '10pt', 'font': 'Arial', 'weight': '500', 'color': '#AF99EF'}\n",
    "kwargs_consistent1 = {'size': '10pt', 'font': 'Arial', 'weight': '500', 'color': '#9E7DD5'}\n",
    "kwargs_inconsistent = {'size': '10pt', 'font': 'Arial', 'weight': '500', 'color': '#AF99EF'}\n",
    "kwargs_text8pt = {'size': '7.7pt', 'font': 'Arial'}\n",
    "\n",
    "startx1 = 492\n",
    "startx2 = 594\n",
    "starty1 = 204\n",
    "starty2 = 307\n",
    "\n",
    "endx1 = 642\n",
    "endx2 = 673\n",
    "endy1 = 159\n",
    "endy2 = 191\n",
    "\n",
    "deltax1 =  endx1-startx1\n",
    "deltax2 =  endx2-startx2\n",
    "deltay1 =  endy1-starty1\n",
    "deltay2 =  endy2-starty2\n",
    "\n",
    "sizefactor = 1.0\n",
    "dshift = 0.5*factor_svg\n",
    "\n",
    "f = Figure(\"20.3cm\", \"9.1cm\",\n",
    "\n",
    "    Panel(\n",
    "          SVG(PANEL_A_smaller).scale(svg_scale).scale(0.9).move(0, 15*factor_svg),\n",
    "          Text(\"a\", -2.7*factor_svg, 16.9*factor_svg-dshift, **kwargs_text),\n",
    "    ).move(2.7*factor_svg, -14.4*factor_svg+dshift),\n",
    "\n",
    "    Panel(\n",
    "        SVG(PANEL_B).scale(svg_scale).move(0*factor_svg, 0*factor_svg),\n",
    "        Text(\"b\", -2.0*factor_svg, 5*factor_svg-dshift, **kwargs_text),\n",
    "        Text(\"PD\", -1.*factor_svg, 8.5*factor_svg, **kwargs_text8pt),\n",
    "        Text(\"LP\", -1.*factor_svg, 14.2*factor_svg, **kwargs_text8pt),\n",
    "        Text(\"PY\", -1.*factor_svg, 19.8*factor_svg, **kwargs_text8pt),\n",
    "        Text(\"1\", 13.8*factor_svg, 4.5*factor_svg, **kwargs_text8pt),\n",
    "        Text(\"2\", 10.4*factor_svg, 11.3*factor_svg, **kwargs_text8pt),\n",
    "        Text(\"3\", 22.35*factor_svg, 11.3*factor_svg, **kwargs_text8pt),\n",
    "        Text(\"4\", 17.0*factor_svg, 16.4*factor_svg, **kwargs_text8pt),\n",
    "    ).move(30.0*factor_svg, -1.5*factor_svg+dshift),\n",
    "\n",
    "    Panel(\n",
    "          SVG(PANEL_C).scale(svg_scale).move(-10*factor_svg,0*factor_svg),\n",
    "          Text(\"c\", -10.5*factor_svg, 2.0*factor_svg-dshift, **kwargs_text),\n",
    "    ).move(10.5*factor_svg, 24.5*factor_svg+dshift),\n",
    "\n",
    "    Panel(\n",
    "          SVG(PANEL_D).scale(svg_scale).move(-10*factor_svg,0*factor_svg),\n",
    "          Text(\"d\", -10.5*factor_svg, 2.0*factor_svg-dshift, **kwargs_text),\n",
    "    ).move(83.5*factor_svg, 24.5*factor_svg+dshift),\n",
    "\n",
    "    Panel(\n",
    "          SVG(PANEL_E).scale(svg_scale).move(0*factor_svg, 0*factor_svg),\n",
    "          Text(\"e\", 0*factor_svg, 3.5*factor_svg-dshift, **kwargs_text),\n",
    "    ).move(30*factor_svg, 24.5*factor_svg+dshift),\n",
    "\n",
    "   Panel(\n",
    "          SVG(PANEL_F).scale(svg_scale).move(0*factor_svg, 0*factor_svg),\n",
    "          Text(\"f\", 0*factor_svg, 3.5*factor_svg-dshift, **kwargs_text),\n",
    "    ).move(111*factor_svg, 24.5*factor_svg+dshift)\n",
    ")\n",
    "\n",
    "!mkdir -p fig\n",
    "f.save(\"../fig/fig1.svg\")\n",
    "svg('../fig/fig1.svg')"
   ]
  },
  {
   "cell_type": "markdown",
   "metadata": {},
   "source": [
    "### Supplementary: quantitative comparison between simulation-informed prior and posterior"
   ]
  },
  {
   "cell_type": "code",
   "execution_count": 52,
   "metadata": {},
   "outputs": [],
   "source": [
    "PANEL_prior_stats = '../svg/panel_prior_stats.svg'\n",
    "PANEL_sim_inf_prior_stats = '../svg/panel_sim_inf_prior_stats.svg'\n",
    "PANEL_post_stats = '../svg/panel_post_stats.svg'"
   ]
  },
  {
   "cell_type": "code",
   "execution_count": 53,
   "metadata": {},
   "outputs": [],
   "source": [
    "npz = np.load(\"../../results/pyloricsamples_31D_noNaN_only56.npz\")"
   ]
  },
  {
   "cell_type": "code",
   "execution_count": 54,
   "metadata": {},
   "outputs": [],
   "source": [
    "summstats = npz['stats']\n",
    "\n",
    "stats_mean = np.mean(summstats, axis=0)\n",
    "stats_std  = np.std(summstats, axis=0)"
   ]
  },
  {
   "cell_type": "code",
   "execution_count": 55,
   "metadata": {},
   "outputs": [],
   "source": [
    "from joblib import delayed, Parallel\n",
    "import torch"
   ]
  },
  {
   "cell_type": "code",
   "execution_count": 56,
   "metadata": {},
   "outputs": [],
   "source": [
    "npz = np.load(\"../../results/experimental_data/summstats_prep845_082_0044.npz\")\n",
    "observation = npz[\"summ_stats\"]"
   ]
  },
  {
   "cell_type": "code",
   "execution_count": 57,
   "metadata": {},
   "outputs": [],
   "source": [
    "names = []\n",
    "for num in range(15):\n",
    "    names.append(viz.get_summ_stat_name_text(num))"
   ]
  },
  {
   "cell_type": "code",
   "execution_count": 125,
   "metadata": {},
   "outputs": [],
   "source": [
    "num_sims = 500"
   ]
  },
  {
   "cell_type": "markdown",
   "metadata": {},
   "source": [
    "### Prior"
   ]
  },
  {
   "cell_type": "code",
   "execution_count": 126,
   "metadata": {},
   "outputs": [
    {
     "data": {
      "image/png": "[encoded data removed]",
      "text/plain": [
       "<Figure size 340x130 with 1 Axes>"
      ]
     },
     "metadata": {},
     "output_type": "display_data"
    }
   ],
   "source": [
    "import seaborn as sns\n",
    "import pandas as pd\n",
    "\n",
    "norm_ss = (np.asarray(summstats)[:num_sims,:15]-stats_mean[:15])/stats_std[:15]\n",
    "\n",
    "with mpl.rc_context(fname='../../.matplotlibrc'):\n",
    "    fig, ax = plt.subplots(1,1, figsize=(3.4*1.0, 1.3))\n",
    "    plt.scatter(np.arange(15)+0.4, (observation[:15]-stats_mean[:15])/stats_std[:15], marker='x', s=15.0, color=col['GT'])\n",
    "    df = pd.DataFrame(np.asarray(norm_ss))\n",
    "\n",
    "    box = sns.boxplot(data=df, width=0.4, fliersize=.0, linewidth=1.2) # , color='#0570b0'\n",
    "    for i, patch in enumerate(box.artists):\n",
    "        r, g, b, a = patch.get_facecolor() # r, g, b, a = patch.get_facecolor()\n",
    "        patch.set_facecolor(1-((1-np.asarray(col['CONSISTENT1'])))*0.6) # patch.set_facecolor((r, g, b, .6))\n",
    "        patch.set_edgecolor(1-((1-np.asarray(col['CONSISTENT1'])))*0.6) # WANT A BRIGHTER ONE!\n",
    "        for j in range(i*6,i*6+6):\n",
    "            line = ax.lines[j]\n",
    "            line.set_color(col['CONSISTENT1'])\n",
    "            line.set_mfc(col['CONSISTENT1'])\n",
    "            line.set_mec(col['CONSISTENT1'])\n",
    "            \n",
    "    ax.set_ylim([-2,2])\n",
    "    ax.set_xlim([-0.5,14.7])\n",
    "    ax.set_xticklabels(names, rotation='vertical')\n",
    "    ax.set_yticks([-2, -1, 0, 1, 2])\n",
    "    ax.set_yticklabels(['$\\mathdefault{-2} \\sigma$', '$\\mathdefault{-}\\sigma$', '0', '$\\sigma$', '$\\mathdefault{2} \\sigma$'])\n",
    "    ax.text(0.15,  -0.8, 'Summary statistics of prior samples', transform=ax.transAxes)\n",
    "    ax.text(0.322, -0.95, '[st. dev. of samples]', transform=ax.transAxes)\n",
    "    plt.savefig(PANEL_prior_stats, facecolor='None', transparent=True, dpi=300, bbox_inches='tight')\n",
    "    plt.show()"
   ]
  },
  {
   "cell_type": "markdown",
   "metadata": {},
   "source": [
    "### Simulation-informed prior"
   ]
  },
  {
   "cell_type": "code",
   "execution_count": 127,
   "metadata": {},
   "outputs": [],
   "source": [
    "torch.manual_seed(0)\n",
    "\n",
    "flow_samples = torch.as_tensor(params_accepted_by_classifier[:num_sims])\n",
    "seeds = torch.randint(0, 10000, (num_sims, 1))\n",
    "params_with_seeds = torch.cat((flow_samples, seeds), axis=1).detach().numpy()"
   ]
  },
  {
   "cell_type": "code",
   "execution_count": 128,
   "metadata": {},
   "outputs": [],
   "source": [
    "def simulator(params_set):\n",
    "    out_target = simulate(\n",
    "        deepcopy(params_set[:-1].astype(np.float64)),\n",
    "        seed=int(params_set[-1]),\n",
    "    )\n",
    "    return stats(out_target)\n",
    "\n",
    "simulation_outputs = Parallel(n_jobs=4)(\n",
    "    delayed(simulator)(batch)\n",
    "    for batch in params_with_seeds\n",
    ")\n",
    "simulation_outputs = np.asarray(simulation_outputs)"
   ]
  },
  {
   "cell_type": "code",
   "execution_count": 129,
   "metadata": {},
   "outputs": [
    {
     "name": "stdout",
     "output_type": "stream",
     "text": [
      "Number of good sets:   37\n"
     ]
    }
   ],
   "source": [
    "ss_noNan = []\n",
    "for s in simulation_outputs:\n",
    "    if np.invert(np.any(np.isnan(s))):\n",
    "        ss_noNan.append(s)\n",
    "ss_noNan = np.asarray(ss_noNan)\n",
    "print(\"Number of good sets:  \", ss_noNan.shape[0])"
   ]
  },
  {
   "cell_type": "code",
   "execution_count": 130,
   "metadata": {},
   "outputs": [
    {
     "data": {
      "image/png": "[encoded data removed]",
      "text/plain": [
       "<Figure size 340x130 with 1 Axes>"
      ]
     },
     "metadata": {},
     "output_type": "display_data"
    }
   ],
   "source": [
    "# import seaborn as sns\n",
    "import pandas as pd\n",
    "\n",
    "norm_ss = (np.asarray(ss_noNan)[:,:15]-stats_mean[:15])/stats_std[:15]\n",
    "\n",
    "with mpl.rc_context(fname='../../.matplotlibrc'):\n",
    "    fig, ax = plt.subplots(1,1, figsize=(3.4*1., 1.3))\n",
    "    plt.scatter(np.arange(15)+0.4, (observation[:15]-stats_mean[:15])/stats_std[:15], marker='x', s=15.0, color=col['GT'])\n",
    "    df = pd.DataFrame(np.asarray(norm_ss))\n",
    "\n",
    "    box = sns.boxplot(data=df, width=0.4, fliersize=.0, linewidth=1.2) # , color='#0570b0'\n",
    "    for i, patch in enumerate(box.artists):\n",
    "        r, g, b, a = patch.get_facecolor() # r, g, b, a = patch.get_facecolor()\n",
    "        patch.set_facecolor(1-((1-np.asarray(col['CONSISTENT1'])))*0.6) # patch.set_facecolor((r, g, b, .6))\n",
    "        patch.set_edgecolor(1-((1-np.asarray(col['CONSISTENT1'])))*0.6) # WANT A BRIGHTER ONE!\n",
    "        for j in range(i*6,i*6+6):\n",
    "            line = ax.lines[j]\n",
    "            line.set_color(col['CONSISTENT1'])\n",
    "            line.set_mfc(col['CONSISTENT1'])\n",
    "            line.set_mec(col['CONSISTENT1'])\n",
    "        \n",
    "    ax.set_ylim([-2,2])\n",
    "    ax.set_xlim([-0.5,14.7])\n",
    "    ax.set_xticklabels(names, rotation='vertical')\n",
    "    ax.set_yticks([-2, -1, 0, 1, 2])\n",
    "    ax.set_yticklabels(['$\\mathdefault{-2} \\sigma$', '$\\mathdefault{-}\\sigma$', '0', '$\\sigma$', '$\\mathdefault{2} \\sigma$'])\n",
    "    ax.text(-0.12,  -0.8, 'Summary statistics of simulation-informed-prior samples', transform=ax.transAxes)\n",
    "    ax.text(0.322, -0.95, '[st. dev. of samples]', transform=ax.transAxes)\n",
    "    plt.savefig(PANEL_sim_inf_prior_stats, facecolor='None', transparent=True, dpi=300, bbox_inches='tight')\n",
    "    plt.show()"
   ]
  },
  {
   "cell_type": "markdown",
   "metadata": {},
   "source": [
    "### Posterior"
   ]
  },
  {
   "cell_type": "code",
   "execution_count": 131,
   "metadata": {},
   "outputs": [],
   "source": [
    "torch.manual_seed(0)\n",
    "\n",
    "flow_samples = torch.as_tensor(sample_params[:num_sims])\n",
    "seeds = torch.randint(0, 10000, (num_sims, 1))\n",
    "params_with_seeds = torch.cat((flow_samples, seeds), axis=1).detach().numpy()"
   ]
  },
  {
   "cell_type": "code",
   "execution_count": 132,
   "metadata": {},
   "outputs": [],
   "source": [
    "def simulator(params_set):\n",
    "    out_target = simulate(\n",
    "        deepcopy(params_set[:-1].astype(np.float64)),\n",
    "        seed=int(params_set[-1]),\n",
    "    )\n",
    "    return stats(out_target)\n",
    "\n",
    "simulation_outputs_post = Parallel(n_jobs=4)(\n",
    "    delayed(simulator)(batch)\n",
    "    for batch in params_with_seeds\n",
    ")\n",
    "simulation_outputs_post = np.asarray(simulation_outputs_post)"
   ]
  },
  {
   "cell_type": "code",
   "execution_count": 133,
   "metadata": {},
   "outputs": [
    {
     "name": "stdout",
     "output_type": "stream",
     "text": [
      "Number of good sets:   482\n"
     ]
    }
   ],
   "source": [
    "ss_noNan_post = []\n",
    "for s in simulation_outputs_post:\n",
    "    if np.invert(np.any(np.isnan(s))):\n",
    "        ss_noNan_post.append(s)\n",
    "ss_noNan_post = np.asarray(ss_noNan_post)\n",
    "print(\"Number of good sets:  \", ss_noNan_post.shape[0])"
   ]
  },
  {
   "cell_type": "code",
   "execution_count": 134,
   "metadata": {},
   "outputs": [
    {
     "data": {
      "image/png": "[encoded data removed]",
      "text/plain": [
       "<Figure size 340x130 with 1 Axes>"
      ]
     },
     "metadata": {},
     "output_type": "display_data"
    }
   ],
   "source": [
    "import seaborn as sns\n",
    "import pandas as pd\n",
    "\n",
    "norm_ss = (np.asarray(ss_noNan_post)[:,:15]-stats_mean[:15])/stats_std[:15]\n",
    "\n",
    "with mpl.rc_context(fname='../../.matplotlibrc'):\n",
    "    fig, ax = plt.subplots(1,1, figsize=(3.4*1.0, 1.3))\n",
    "    plt.scatter(np.arange(15)+0.4, (observation[:15]-stats_mean[:15])/stats_std[:15], marker='x', s=15.0, color=col['GT'])\n",
    "    df = pd.DataFrame(np.asarray(norm_ss))\n",
    "\n",
    "    box = sns.boxplot(data=df, width=0.4, fliersize=.0, linewidth=1.2) # , color='#0570b0'\n",
    "    for i, patch in enumerate(box.artists):\n",
    "        r, g, b, a = patch.get_facecolor() # r, g, b, a = patch.get_facecolor()\n",
    "        patch.set_facecolor(1-((1-np.asarray(col['CONSISTENT1'])))*0.6) # patch.set_facecolor((r, g, b, .6))\n",
    "        patch.set_edgecolor(1-((1-np.asarray(col['CONSISTENT1'])))*0.6) # WANT A BRIGHTER ONE!\n",
    "        for j in range(i*6,i*6+6):\n",
    "            line = ax.lines[j]\n",
    "            line.set_color(col['CONSISTENT1'])\n",
    "            line.set_mfc(col['CONSISTENT1'])\n",
    "            line.set_mec(col['CONSISTENT1'])\n",
    "            \n",
    "    ax.set_ylim([-2,2])\n",
    "    ax.set_xlim([-0.5,14.7])\n",
    "    ax.set_xticklabels(names, rotation='vertical')\n",
    "    ax.set_yticks([-2, -1, 0, 1, 2])\n",
    "    ax.set_yticklabels(['$\\mathdefault{-2} \\sigma$', '$\\mathdefault{-}\\sigma$', '0', '$\\sigma$', '$\\mathdefault{2} \\sigma$'])\n",
    "    ax.text(0.10,  -0.8, 'Summary statistics of posterior samples', transform=ax.transAxes)\n",
    "    ax.text(0.322, -0.95, '[st. dev. of samples]', transform=ax.transAxes)\n",
    "    plt.savefig(PANEL_post_stats, facecolor='None', transparent=True, dpi=300, bbox_inches='tight')\n",
    "    plt.show()"
   ]
  },
  {
   "cell_type": "markdown",
   "metadata": {},
   "source": [
    "### Assemble figure"
   ]
  },
  {
   "cell_type": "code",
   "execution_count": 135,
   "metadata": {},
   "outputs": [
    {
     "data": {
      "text/html": [
       "<img src=\"../fig/fig1_supp_quantitative_comparison.svg\" / >"
      ],
      "text/plain": [
       "<IPython.core.display.HTML object>"
      ]
     },
     "metadata": {},
     "output_type": "display_data"
    }
   ],
   "source": [
    "from svgutils.compose import *\n",
    "\n",
    "# > Inkscape pixel is 1/90 of an inch, other software usually uses 1/72.\n",
    "# > http://www.inkscapeforum.com/viewtopic.php?f=6&t=5964\n",
    "svg_scale = 1.25  # set this to 1.25 for Inkscape, 1.0 otherwise\n",
    "factor_svg=5.5\n",
    "\n",
    "# Panel letters in Helvetica Neue, 12pt, Medium\n",
    "kwargs_text = {'size': '12pt', 'font': 'Arial', 'weight': '800'}\n",
    "kwargs_consistent = {'size': '10pt', 'font': 'Arial', 'weight': '500', 'color': '#AF99EF'}\n",
    "kwargs_consistent1 = {'size': '10pt', 'font': 'Arial', 'weight': '500', 'color': '#9E7DD5'}\n",
    "kwargs_inconsistent = {'size': '10pt', 'font': 'Arial', 'weight': '500', 'color': '#AF99EF'}\n",
    "kwargs_text8pt = {'size': '7.7pt', 'font': 'Arial'}\n",
    "\n",
    "startx1 = 492\n",
    "startx2 = 594\n",
    "starty1 = 204\n",
    "starty2 = 307\n",
    "\n",
    "endx1 = 642\n",
    "endx2 = 673\n",
    "endy1 = 159\n",
    "endy2 = 191\n",
    "\n",
    "deltax1 =  endx1-startx1\n",
    "deltax2 =  endx2-startx2\n",
    "deltay1 =  endy1-starty1\n",
    "deltay2 =  endy2-starty2\n",
    "\n",
    "sizefactor = 1.0\n",
    "dshift = 0.5*factor_svg\n",
    "\n",
    "f = Figure(\"20.3cm\", \"4.7cm\",\n",
    "           \n",
    "    Panel(\n",
    "          SVG(PANEL_prior_stats).scale(svg_scale).scale(0.9).move(0, 15*factor_svg),\n",
    "    ).move(0*factor_svg, -14.4*factor_svg+dshift),\n",
    "           \n",
    "    Panel(\n",
    "          SVG(PANEL_sim_inf_prior_stats).scale(svg_scale).scale(0.9).move(0, 15*factor_svg),\n",
    "    ).move(47*factor_svg, -14.4*factor_svg+dshift),\n",
    "\n",
    "    Panel(\n",
    "          SVG(PANEL_post_stats).scale(svg_scale).scale(0.9).move(0, 15*factor_svg),\n",
    "    ).move(94*factor_svg, -14.4*factor_svg+dshift),\n",
    ")\n",
    "\n",
    "!mkdir -p fig\n",
    "f.save(\"../fig/fig1_supp_quantitative_comparison.svg\")\n",
    "svg('../fig/fig1_supp_quantitative_comparison.svg')"
   ]
  },
  {
   "cell_type": "code",
   "execution_count": null,
   "metadata": {},
   "outputs": [],
   "source": []
  }
 ],
 "metadata": {
  "kernelspec": {
   "display_name": "sbi_prinz",
   "language": "python",
   "name": "sbi_prinz"
  },
  "language_info": {
   "codemirror_mode": {
    "name": "ipython",
    "version": 3
   },
   "file_extension": ".py",
   "mimetype": "text/x-python",
   "name": "python",
   "nbconvert_exporter": "python",
   "pygments_lexer": "ipython3",
   "version": "3.8.5"
  }
 },
 "nbformat": 4,
 "nbformat_minor": 4
}
