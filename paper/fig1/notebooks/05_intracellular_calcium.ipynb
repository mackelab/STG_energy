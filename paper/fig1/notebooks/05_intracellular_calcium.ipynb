{
 "cells": [
  {
   "cell_type": "markdown",
   "id": "c21da7f5-5e05-45ae-b189-0c3dafc854ce",
   "metadata": {},
   "source": [
    "# Why are the measures so similar?"
   ]
  },
  {
   "cell_type": "markdown",
   "id": "1736f4b5-8344-46b1-868a-58de06d34391",
   "metadata": {},
   "source": [
    "If the voltage shapes are very similar, then $(V-E_{Na})$ is just a proportionality factor. In that case, both metrics will be very similar.\n",
    "\n",
    "What if the voltage shapes are not similar, e.g. one spike is high and one is low? The big part of the energy is consumed when $(V - E_{Na})$ is large, i.e. in the regime where the spikes are still in their \"early phase\". This phase exists in both high and low spikes and within this range, the voltage waveforms are very similar. The difference in voltage waveforms only appears at high voltages (one spike still increasing, other flattening out). However, in this regime, the consumed energy is generally low due to a low $(V - E_{Na})$."
   ]
  },
  {
   "cell_type": "code",
   "execution_count": 1,
   "id": "869f8f5b-3796-4350-916a-1788d9af8865",
   "metadata": {},
   "outputs": [],
   "source": [
    "%load_ext autoreload\n",
    "%autoreload 2"
   ]
  },
  {
   "cell_type": "code",
   "execution_count": 2,
   "id": "8cb05a8d-e986-439b-8784-9208d16c2726",
   "metadata": {},
   "outputs": [],
   "source": [
    "from pyloric import simulate, create_prior, summary_stats\n",
    "import pandas as pd\n",
    "import numpy as np\n",
    "import matplotlib as mpl\n",
    "import matplotlib.pyplot as plt\n",
    "from multiprocessing import Pool\n",
    "import time\n",
    "import torch\n",
    "from matplotlib.patches import Rectangle\n",
    "import stg_energy.fig1_energy.viz_appendix as viz\n",
    "from sklearn.linear_model import LinearRegression\n",
    "\n",
    "prior = create_prior()"
   ]
  },
  {
   "cell_type": "code",
   "execution_count": 3,
   "id": "96d5a3f1-58d2-4858-aaf4-8db4e1d516eb",
   "metadata": {
    "tags": []
   },
   "outputs": [],
   "source": [
    "def simulate_(params_with_seeds):\n",
    "    p1 = create_prior()\n",
    "    pars = p1.sample((1,))\n",
    "    column_names = pars.columns\n",
    "\n",
    "    parameter_set_pd = pd.DataFrame(\n",
    "        np.asarray([params_with_seeds[:-1]]), columns=column_names\n",
    "    )\n",
    "    out_target = simulate(\n",
    "        parameter_set_pd.loc[0],\n",
    "        seed=int(params_with_seeds[-1]),\n",
    "        dt=0.025,\n",
    "        t_max=11000,\n",
    "        temperature=283,\n",
    "        noise_std=0.001,\n",
    "        track_energy=True,\n",
    "        track_currents=True,\n",
    "        energy_measure=\"power\"\n",
    "    )\n",
    "    custom_stats = {\n",
    "        \"plateau_durations\": True,\n",
    "        \"num_bursts\": True,\n",
    "        \"num_spikes\": True,\n",
    "        \"energies\": True,\n",
    "        \"energies_per_burst\": True,\n",
    "        \"energies_per_spike\": True,\n",
    "        \"pyloric_like\": True,\n",
    "        \"spike_heights\": True,\n",
    "    }\n",
    "    return summary_stats(out_target, stats_customization=custom_stats, t_burn_in=1000)"
   ]
  },
  {
   "cell_type": "code",
   "execution_count": 4,
   "id": "b27c69c5-4305-4f50-aff4-18e2a6f1ec81",
   "metadata": {},
   "outputs": [],
   "source": [
    "def simulate_calcium(params_with_seeds):\n",
    "    p1 = create_prior()\n",
    "    pars = p1.sample((1,))\n",
    "    column_names = pars.columns\n",
    "\n",
    "    parameter_set_pd = pd.DataFrame(\n",
    "        np.asarray([params_with_seeds[:-1]]), columns=column_names\n",
    "    )\n",
    "    out_target = simulate(\n",
    "        parameter_set_pd.loc[0],\n",
    "        seed=int(params_with_seeds[-1]),\n",
    "        dt=0.025,\n",
    "        t_max=11000,\n",
    "        temperature=283,\n",
    "        noise_std=0.001,\n",
    "        track_energy=True,\n",
    "        track_currents=True,\n",
    "        track_calcium=True,\n",
    "        energy_measure=\"power\"\n",
    "    )\n",
    "    return out_target"
   ]
  },
  {
   "cell_type": "code",
   "execution_count": 5,
   "id": "85c22689-2fb6-4293-8155-e8420ac5bca1",
   "metadata": {},
   "outputs": [],
   "source": [
    "theta = pd.read_pickle(\n",
    "    \"../../../results/simulation_data_Tube_MLslurm_cluster/close_to_xo_circuit_parameters.pkl\"\n",
    ")\n",
    "x = pd.read_pickle(\n",
    "    \"../../../results/simulation_data_Tube_MLslurm_cluster/close_to_xo_simulation_outputs.pkl\"\n",
    ")\n",
    "seeds = np.load(\n",
    "    \"../../../results/simulation_data_Tube_MLslurm_cluster/close_to_xo_seeds.npy\"\n",
    ")"
   ]
  },
  {
   "cell_type": "code",
   "execution_count": 6,
   "id": "167597a5-4dcd-4cba-823a-8c84d6416024",
   "metadata": {},
   "outputs": [],
   "source": [
    "n_samp = 100\n",
    "samples = theta[:n_samp]\n",
    "data_np = samples.to_numpy()\n",
    "params_with_seeds = np.concatenate((data_np, np.expand_dims(seeds[:n_samp], axis=1)), axis=1)"
   ]
  },
  {
   "cell_type": "code",
   "execution_count": 7,
   "id": "e216ff89-b56a-4203-8a79-6a1b515e49c0",
   "metadata": {
    "tags": []
   },
   "outputs": [
    {
     "name": "stdout",
     "output_type": "stream",
     "text": [
      "Simulation time 391.06010484695435\n"
     ]
    }
   ],
   "source": [
    "with Pool(1) as pool:\n",
    "    start_time = time.time()\n",
    "    data1 = pool.map(simulate_calcium, params_with_seeds)\n",
    "    print(\"Simulation time\", time.time() - start_time)"
   ]
  },
  {
   "cell_type": "markdown",
   "id": "f8fe7c7e-51fa-437d-ab8c-5ca21807e00d",
   "metadata": {},
   "source": [
    "# Sodium"
   ]
  },
  {
   "cell_type": "code",
   "execution_count": 8,
   "id": "fbf019f3-63e4-4d00-9f2c-e8bce3b96fb3",
   "metadata": {},
   "outputs": [],
   "source": [
    "time_vec = np.arange(0, 11000, 0.025)"
   ]
  },
  {
   "cell_type": "code",
   "execution_count": 9,
   "id": "50649209-9080-4703-8888-78af4402f37d",
   "metadata": {},
   "outputs": [],
   "source": [
    "intracellular_calcium_abpd = np.asarray([np.mean(d[\"intracellular_calcium\"][0][40000:]) for d in data1])\n",
    "energies_pd = np.asarray([np.sum(d[\"energy\"][0][40000:]) / 1000 * 0.025 for d in data1])\n",
    "energies_pd = np.asarray(energies_pd).astype(float)\n",
    "\n",
    "rho_pd = np.corrcoef(intracellular_calcium_abpd, energies_pd)[0, 1]"
   ]
  },
  {
   "cell_type": "code",
   "execution_count": 10,
   "id": "d64acd83-5811-4998-89e3-208088174b1a",
   "metadata": {},
   "outputs": [
    {
     "data": {
      "image/png": "[encoded data removed]",
      "text/plain": [
       "<Figure size 180x180 with 1 Axes>"
      ]
     },
     "metadata": {},
     "output_type": "display_data"
    }
   ],
   "source": [
    "with mpl.rc_context(fname=\"../../../.matplotlibrc\"):\n",
    "    fig, ax = plt.subplots(1, 1, figsize=(1.8, 1.8))\n",
    "    _ = ax.scatter(intracellular_calcium_abpd, energies_pd / 1000 / 10, c=\"k\")\n",
    "    ax.set_xlabel(r\"Average [Ca$^{2+}$]\")\n",
    "    ax.set_ylabel(r\"Energy ($\\mu$J/s)\")\n",
    "    ax.text(160.0, 0.8, r\"$\\rho$\" + f\"={rho_pd:.4f}\")\n",
    "    ax.set_xlim([0, 250])\n",
    "    ax.set_ylim([0, 9])\n",
    "    ax.set_xticks([0, 250])\n",
    "    ax.set_yticks([0, 9])\n",
    "    ax.set_title(\"AB/PD\")\n",
    "    plt.savefig(\"../svg/panel_explanation_of_proportionality_g1.svg\")"
   ]
  },
  {
   "cell_type": "code",
   "execution_count": 11,
   "id": "cd6bbdaf-7f28-49cb-add6-d71276c8e210",
   "metadata": {},
   "outputs": [],
   "source": [
    "intracellular_calcium_lp = np.asarray([np.mean(d[\"intracellular_calcium\"][1][40000:]) for d in data1])\n",
    "energies_lp = np.asarray([np.sum(d[\"energy\"][1][40000:]) / 1000 * 0.025 for d in data1])\n",
    "energies_lp = np.asarray(energies_lp).astype(float)\n",
    "\n",
    "rho_lp = np.corrcoef(intracellular_calcium_lp, energies_lp)[0, 1]"
   ]
  },
  {
   "cell_type": "code",
   "execution_count": 12,
   "id": "7304da2d-dc27-4f5a-85dc-e9a4c35121ce",
   "metadata": {},
   "outputs": [
    {
     "data": {
      "image/png": "[encoded data removed]",
      "text/plain": [
       "<Figure size 180x180 with 1 Axes>"
      ]
     },
     "metadata": {},
     "output_type": "display_data"
    }
   ],
   "source": [
    "with mpl.rc_context(fname=\"../../../.matplotlibrc\"):\n",
    "    fig, ax = plt.subplots(1, 1, figsize=(1.8, 1.8))\n",
    "    _ = ax.scatter(intracellular_calcium_lp, energies_lp / 1000 / 10, c=\"k\")\n",
    "    ax.set_xlabel(r\"Average [Ca$^{2+}$]\")\n",
    "    ax.set_ylabel(r\"Energy ($\\mu$J/s)\")\n",
    "    ax.text(130.0, 0.55, r\"$\\rho$\" + f\"={rho_lp:.4f}\")\n",
    "    ax.set_xlim([0, 200])\n",
    "    ax.set_ylim([0, 6])\n",
    "    ax.set_xticks([0, 200])\n",
    "    ax.set_yticks([0, 6])\n",
    "    ax.set_title(\"LP\")\n",
    "    plt.savefig(\"../svg/panel_explanation_of_proportionality_g2.svg\")"
   ]
  },
  {
   "cell_type": "code",
   "execution_count": 13,
   "id": "99cf5d02-ae02-47b6-8aaa-e0e8fad57ee7",
   "metadata": {},
   "outputs": [],
   "source": [
    "intracellular_calcium_py = np.asarray([np.mean(d[\"intracellular_calcium\"][2][40000:]) for d in data1])\n",
    "energies_py = np.asarray([np.sum(d[\"energy\"][2][40000:]) / 1000 * 0.025 for d in data1])\n",
    "energies_py = np.asarray(energies_py).astype(float)\n",
    "\n",
    "rho_py = np.corrcoef(intracellular_calcium_py, energies_py)[0, 1]"
   ]
  },
  {
   "cell_type": "code",
   "execution_count": 14,
   "id": "f7a9d641-b6ef-4a0d-87c6-cddc69a194bf",
   "metadata": {},
   "outputs": [
    {
     "data": {
      "image/png": "[encoded data removed]",
      "text/plain": [
       "<Figure size 180x180 with 1 Axes>"
      ]
     },
     "metadata": {},
     "output_type": "display_data"
    }
   ],
   "source": [
    "with mpl.rc_context(fname=\"../../../.matplotlibrc\"):\n",
    "    fig, ax = plt.subplots(1, 1, figsize=(1.8, 1.8))\n",
    "    _ = ax.scatter(intracellular_calcium_py, energies_py / 1000 / 10, c=\"k\")\n",
    "    ax.set_xlabel(r\"Average [Ca$^{2+}$]\")\n",
    "    ax.set_ylabel(r\"Energy ($\\mu$J/s)\")\n",
    "    ax.text(320.0, 1.55, r\"$\\rho$\" + f\"={rho_py:.4f}\")\n",
    "    ax.set_xlim([0, 500])\n",
    "    ax.set_ylim([0, 18])\n",
    "    ax.set_xticks([0, 500])\n",
    "    ax.set_yticks([0, 18])\n",
    "    ax.set_title(\"PY\")\n",
    "    plt.savefig(\"../svg/panel_explanation_of_proportionality_g3.svg\")"
   ]
  },
  {
   "cell_type": "markdown",
   "id": "cc98de19-de72-41c4-9ab6-a38ce6dbf5f3",
   "metadata": {},
   "source": [
    "## Assemble figure"
   ]
  },
  {
   "cell_type": "code",
   "execution_count": 15,
   "id": "4bb4e98a-8911-4faf-9aa8-cdca37f62796",
   "metadata": {},
   "outputs": [],
   "source": [
    "import IPython.display as IPd\n",
    "def svg(img):\n",
    "    IPd.display(IPd.HTML('<img src=\"{}\" / >'.format(img, time.time())))"
   ]
  },
  {
   "cell_type": "code",
   "execution_count": 19,
   "id": "c2b9975b-8cc8-443f-9e6b-5a9f48af1cb4",
   "metadata": {},
   "outputs": [
    {
     "data": {
      "text/html": [
       "<img src=\"../fig/fig1_supp_explanation6.svg\" / >"
      ],
      "text/plain": [
       "<IPython.core.display.HTML object>"
      ]
     },
     "metadata": {},
     "output_type": "display_data"
    }
   ],
   "source": [
    "from svgutils.compose import *\n",
    "import svgutils.transform as sg\n",
    "\n",
    "# > Inkscape pixel is 1/90 of an inch, other software usually uses 1/72.\n",
    "# > http://www.inkscapeforum.com/viewtopic.php?f=6&t=5964\n",
    "svg_scale = 1.25  # set this to 1.25 for Inkscape, 1.0 otherwise\n",
    "factor_svg=5.5\n",
    "\n",
    "# Panel letters in Helvetica Neue, 12pt, Medium\n",
    "kwargs_text = {'size': '12pt', 'font': 'Arial', 'weight': '800'}\n",
    "kwargs_consistent = {'size': '10pt', 'font': 'Arial', 'weight': '500', 'color': '#AF99EF'}\n",
    "kwargs_consistent1 = {'size': '10pt', 'font': 'Arial', 'weight': '500', 'color': '#9E7DD5'}\n",
    "kwargs_inconsistent = {'size': '10pt', 'font': 'Arial', 'weight': '500', 'color': '#AF99EF'}\n",
    "kwargs_text8pt = {'size': '7.7pt', 'font': 'Arial'}\n",
    "\n",
    "f = Figure(\"20.3cm\", \"5.0cm\",\n",
    "\n",
    "    Panel(\n",
    "          SVG(\"../svg/panel_explanation_of_proportionality_g1.svg\").scale(svg_scale).move(0*factor_svg,0*factor_svg),\n",
    "    ).move(0*factor_svg, 0*factor_svg),\n",
    "           \n",
    "    Panel(\n",
    "          SVG(\"../svg/panel_explanation_of_proportionality_g2.svg\").scale(svg_scale).move(0*factor_svg,0*factor_svg),\n",
    "    ).move(35*factor_svg, 0*factor_svg),\n",
    "    \n",
    "    Panel(\n",
    "          SVG(\"../svg/panel_explanation_of_proportionality_g3.svg\").scale(svg_scale).move(0*factor_svg,0*factor_svg),\n",
    "    ).move(70*factor_svg, 0*factor_svg),\n",
    ")\n",
    "\n",
    "f.save(\"../fig/fig1_supp_explanation6.svg\")\n",
    "svg('../fig/fig1_supp_explanation6.svg')"
   ]
  },
  {
   "cell_type": "code",
   "execution_count": null,
   "id": "a55f243b-066f-4bbc-b69c-faef60e4df30",
   "metadata": {},
   "outputs": [],
   "source": []
  },
  {
   "cell_type": "code",
   "execution_count": null,
   "id": "32c90bbb-e782-4320-90cf-62b799c53d33",
   "metadata": {},
   "outputs": [],
   "source": []
  }
 ],
 "metadata": {
  "kernelspec": {
   "display_name": "Python 3",
   "language": "python",
   "name": "python3"
  },
  "language_info": {
   "codemirror_mode": {
    "name": "ipython",
    "version": 3
   },
   "file_extension": ".py",
   "mimetype": "text/x-python",
   "name": "python",
   "nbconvert_exporter": "python",
   "pygments_lexer": "ipython3",
   "version": "3.8.10"
  }
 },
 "nbformat": 4,
 "nbformat_minor": 5
}
