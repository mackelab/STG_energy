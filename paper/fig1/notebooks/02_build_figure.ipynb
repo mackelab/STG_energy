{
 "cells": [
  {
   "cell_type": "code",
   "execution_count": 1,
   "metadata": {},
   "outputs": [],
   "source": [
    "import time\n",
    "from copy import deepcopy\n",
    "\n",
    "import IPython.display as IPd\n",
    "import matplotlib as mpl\n",
    "import matplotlib.pylab as plt\n",
    "import numpy as np\n",
    "\n",
    "import stg_energy.fig1_energy.viz as viz\n",
    "from pyloric import simulate, summary_stats\n",
    "from stg_energy.common import col, svg\n",
    "import pandas as pd"
   ]
  },
  {
   "cell_type": "markdown",
   "metadata": {},
   "source": [
    "# Figure 2"
   ]
  },
  {
   "cell_type": "code",
   "execution_count": 2,
   "metadata": {},
   "outputs": [],
   "source": [
    "pd.options.display.max_columns=999"
   ]
  },
  {
   "cell_type": "code",
   "execution_count": 3,
   "metadata": {},
   "outputs": [],
   "source": [
    "%load_ext autoreload\n",
    "%autoreload 2"
   ]
  },
  {
   "cell_type": "code",
   "execution_count": 4,
   "metadata": {},
   "outputs": [],
   "source": [
    "PANEL_A = \"../svg/panel_a.svg\"\n",
    "PANEL_B = \"../svg/panel_b.svg\"\n",
    "PANEL_C1 = \"../svg/panel_c1.svg\"\n",
    "PANEL_C2 = \"../svg/panel_c2.svg\"\n",
    "PANEL_D1 = \"../svg/panel_d1.svg\"\n",
    "PANEL_D2 = \"../svg/panel_d2.svg\"\n",
    "\n",
    "PANEL_C1_supp = \"../svg/panel_c1_supp.svg\"\n",
    "PANEL_C2_supp = \"../svg/panel_c2_supp.svg\"\n",
    "PANEL_D1_supp = \"../svg/panel_d1_supp.svg\"\n",
    "PANEL_D2_supp = \"../svg/panel_d2_supp.svg\""
   ]
  },
  {
   "cell_type": "code",
   "execution_count": 5,
   "metadata": {},
   "outputs": [],
   "source": [
    "theta = pd.read_pickle(\"../../../results/simulation_data_Tube_MLslurm_cluster/close_to_xo_circuit_parameters.pkl\")\n",
    "x = pd.read_pickle(\"../../../results/simulation_data_Tube_MLslurm_cluster/close_to_xo_simulation_outputs.pkl\")\n",
    "seeds = np.load(\"../../../results/simulation_data_Tube_MLslurm_cluster/close_to_xo_seeds.npy\")\n",
    "\n",
    "theta_np = theta.to_numpy()\n",
    "x_np = x.to_numpy()"
   ]
  },
  {
   "cell_type": "markdown",
   "metadata": {},
   "source": [
    "# Panel A: Histogram for total energy"
   ]
  },
  {
   "cell_type": "code",
   "execution_count": 6,
   "metadata": {},
   "outputs": [],
   "source": [
    "all_energies_per_spike = x[\"energies_per_spike\"].to_numpy()\n",
    "all_total_energies = x[\"energies\"].to_numpy()"
   ]
  },
  {
   "cell_type": "code",
   "execution_count": 7,
   "metadata": {},
   "outputs": [],
   "source": [
    "summed_energies_per_spike = np.sum(np.asarray(all_energies_per_spike), axis=1)\n",
    "summed_energies_total = np.sum(np.asarray(all_total_energies), axis=1)"
   ]
  },
  {
   "cell_type": "markdown",
   "metadata": {},
   "source": [
    "# Panel C: trace with highest and lowest energy"
   ]
  },
  {
   "cell_type": "code",
   "execution_count": 8,
   "metadata": {},
   "outputs": [],
   "source": [
    "inds = np.argsort(summed_energies_total)\n",
    "sorted_params = theta_np[inds]\n",
    "sorted_seeds = seeds[inds]\n",
    "sorted_params_pd = pd.DataFrame(sorted_params, columns=theta.columns)"
   ]
  },
  {
   "cell_type": "code",
   "execution_count": 9,
   "metadata": {},
   "outputs": [],
   "source": [
    "all_out_targets = []\n",
    "summstats = []\n",
    "for counter in [1500, len(sorted_params) - 500]:\n",
    "    out_target = simulate(\n",
    "        sorted_params_pd.loc[counter], seed=int(sorted_seeds[counter]), track_currents=True, track_energy=True\n",
    "    )\n",
    "    summstats.append(summary_stats(out_target, stats_customization={'energies': True}))\n",
    "    all_out_targets.append(out_target)"
   ]
  },
  {
   "cell_type": "code",
   "execution_count": 10,
   "metadata": {},
   "outputs": [],
   "source": [
    "time_vec = np.arange(0, 11000, 0.025)"
   ]
  },
  {
   "cell_type": "code",
   "execution_count": 11,
   "metadata": {},
   "outputs": [
    {
     "name": "stdout",
     "output_type": "stream",
     "text": [
      "Showing :   3.0 seconds\n",
      "Scalebar indicates:  50mV\n"
     ]
    },
    {
     "data": {
      "image/png": "[encoded data removed]",
      "text/plain": [
       "<Figure size 380x110 with 2 Axes>"
      ]
     },
     "metadata": {},
     "output_type": "display_data"
    }
   ],
   "source": [
    "with mpl.rc_context(fname=\"../../../.matplotlibrc\"):\n",
    "    viz.compare_voltage_low_and_high_energy_trace(\n",
    "        all_out_targets,\n",
    "        time_vec,\n",
    "        figsize=(3.8, 1.1),\n",
    "    )\n",
    "    plt.savefig(PANEL_C1, facecolor='None', transparent=True)\n",
    "    plt.show()"
   ]
  },
  {
   "cell_type": "code",
   "execution_count": 12,
   "metadata": {},
   "outputs": [
    {
     "name": "stdout",
     "output_type": "stream",
     "text": [
      "Showing :   3.0 seconds\n",
      "Scalebar indicates:  100 micro Joule / second\n"
     ]
    },
    {
     "data": {
      "image/png": "[encoded data removed]",
      "text/plain": [
       "<Figure size 380x110 with 2 Axes>"
      ]
     },
     "metadata": {},
     "output_type": "display_data"
    }
   ],
   "source": [
    "with mpl.rc_context(fname=\"../../../.matplotlibrc\"):\n",
    "    viz.compare_energy_low_and_high_energy_trace(\n",
    "        all_out_targets,\n",
    "        t=time_vec,\n",
    "        figsize=(3.8, 1.1),\n",
    "    )\n",
    "    plt.savefig(PANEL_C2, facecolor='None', transparent=True)\n",
    "    plt.show()"
   ]
  },
  {
   "cell_type": "code",
   "execution_count": 13,
   "metadata": {},
   "outputs": [
    {
     "name": "stderr",
     "output_type": "stream",
     "text": [
      "<ipython-input-13-0895d31e4287>:5: UserWarning: FixedFormatter should only be used together with FixedLocator\n",
      "  ax.set_xticklabels(['', 'Left', 'Right'])\n"
     ]
    },
    {
     "data": {
      "image/png": "[encoded data removed]",
      "text/plain": [
       "<Figure size 80x110 with 1 Axes>"
      ]
     },
     "metadata": {},
     "output_type": "display_data"
    }
   ],
   "source": [
    "with mpl.rc_context(fname=\"../../../.matplotlibrc\"):\n",
    "    fig, ax = plt.subplots(1, 1, figsize=(0.8, 1.1))\n",
    "    ax.bar(np.arange(0, 2), [np.sum(summstats[0]['energies'].to_numpy())/1000/10, np.sum(summstats[1]['energies'].to_numpy())/1000/10], color='k', width=0.3)\n",
    "    ax.set_xlim([-0.4, 1.4])\n",
    "    ax.set_xticklabels(['', 'Left', 'Right'])\n",
    "    ax.set_ylabel(\"Energy ($\\mu$J/s)\")\n",
    "    plt.savefig(PANEL_B, facecolor=\"None\", transparent=True)"
   ]
  },
  {
   "cell_type": "markdown",
   "metadata": {},
   "source": [
    "# Panel D: Energy scape"
   ]
  },
  {
   "cell_type": "code",
   "execution_count": 14,
   "metadata": {},
   "outputs": [
    {
     "data": {
      "image/png": "[encoded data removed]",
      "text/plain": [
       "<Figure size 290x120 with 2 Axes>"
      ]
     },
     "metadata": {},
     "output_type": "display_data"
    }
   ],
   "source": [
    "with mpl.rc_context(fname=\"../../../.matplotlibrc\"):\n",
    "    viz.energy_scape_voltage(\n",
    "        all_out_targets,\n",
    "        time_vec,\n",
    "        figsize=(2.9, 1.2),\n",
    "        cols=['k', 'k', 'k'],\n",
    "    )\n",
    "    plt.savefig(PANEL_D1, facecolor=\"None\", transparent=True)\n",
    "    plt.show()"
   ]
  },
  {
   "cell_type": "code",
   "execution_count": 15,
   "metadata": {},
   "outputs": [
    {
     "name": "stdout",
     "output_type": "stream",
     "text": [
      "time_len2 1800\n"
     ]
    },
    {
     "data": {
      "image/png": "[encoded data removed]",
      "text/plain": [
       "<Figure size 290x120 with 2 Axes>"
      ]
     },
     "metadata": {},
     "output_type": "display_data"
    }
   ],
   "source": [
    "with mpl.rc_context(fname=\"../../../.matplotlibrc\"):\n",
    "    viz.energy_scape_energy(\n",
    "        deepcopy(all_out_targets),\n",
    "        deepcopy(time_vec),\n",
    "        figsize=(2.9, 1.2),\n",
    "    )\n",
    "    plt.savefig(PANEL_D2, facecolor=\"None\", transparent=True)\n",
    "    plt.show()"
   ]
  },
  {
   "cell_type": "markdown",
   "metadata": {},
   "source": [
    "# Assemble figure"
   ]
  },
  {
   "cell_type": "code",
   "execution_count": 16,
   "metadata": {},
   "outputs": [],
   "source": [
    "def svg(img):\n",
    "    IPd.display(IPd.HTML('<img src=\"{}\" / >'.format(img, time.time())))"
   ]
  },
  {
   "cell_type": "code",
   "execution_count": 17,
   "metadata": {
    "tags": []
   },
   "outputs": [
    {
     "data": {
      "text/html": [
       "<img src=\"../fig/fig1.svg\" / >"
      ],
      "text/plain": [
       "<IPython.core.display.HTML object>"
      ]
     },
     "metadata": {},
     "output_type": "display_data"
    }
   ],
   "source": [
    "from svgutils.compose import *\n",
    "import svgutils.transform as sg\n",
    "\n",
    "# > Inkscape pixel is 1/90 of an inch, other software usually uses 1/72.\n",
    "# > http://www.inkscapeforum.com/viewtopic.php?f=6&t=5964\n",
    "svg_scale = 1.25  # set this to 1.25 for Inkscape, 1.0 otherwise\n",
    "factor_svg=5.5\n",
    "\n",
    "# Panel letters in Helvetica Neue, 12pt, Medium\n",
    "kwargs_text = {'size': '12pt', 'font': 'Arial', 'weight': '800'}\n",
    "kwargs_consistent = {'size': '10pt', 'font': 'Arial', 'weight': '500', 'color': '#AF99EF'}\n",
    "kwargs_consistent1 = {'size': '10pt', 'font': 'Arial', 'weight': '500', 'color': '#9E7DD5'}\n",
    "kwargs_inconsistent = {'size': '10pt', 'font': 'Arial', 'weight': '500', 'color': '#AF99EF'}\n",
    "kwargs_text8pt = {'size': '7.7pt', 'font': 'Arial'}\n",
    "\n",
    "f = Figure(\"20.3cm\", \"7.8cm\",\n",
    "\n",
    "    Panel(\n",
    "          SVG(PANEL_A).scale(svg_scale).move(0*factor_svg,0*factor_svg),\n",
    "          Text(\"a\", 0.0*factor_svg, 0.6*factor_svg, **kwargs_text),\n",
    "    ).move(0*factor_svg, 2*factor_svg),\n",
    "\n",
    "    Panel(\n",
    "          SVG(PANEL_C1).scale(svg_scale).move(0*factor_svg,0*factor_svg),\n",
    "          Text(\"b\", 0.0*factor_svg, 0.6*factor_svg, **kwargs_text),\n",
    "    ).move(30*factor_svg, 2.0*factor_svg),\n",
    "\n",
    "    Panel(\n",
    "          SVG(PANEL_D1).scale(svg_scale).move(0*factor_svg, 0*factor_svg),\n",
    "          Text(\"c\", -2.6*factor_svg, 2.6*factor_svg, **kwargs_text),\n",
    "    ).move(92.3*factor_svg, 0.0*factor_svg),\n",
    "\n",
    "    Panel(\n",
    "          SVG(PANEL_B).scale(svg_scale).move(0*factor_svg,0*factor_svg),\n",
    "          Text(\"d\", -2.0*factor_svg, -3.5*factor_svg, **kwargs_text),\n",
    "    ).move(2*factor_svg, 31.5*factor_svg),\n",
    "\n",
    "    Panel(\n",
    "          SVG(PANEL_C2).scale(svg_scale).move(0*factor_svg,0*factor_svg),\n",
    "        Text(\"e\", 0.0*factor_svg, -3.4*factor_svg, **kwargs_text),\n",
    "    ).move(30*factor_svg, 31.4*factor_svg),\n",
    "\n",
    "    Panel(\n",
    "          SVG(PANEL_D2).scale(svg_scale).move(0*factor_svg, 0*factor_svg),\n",
    "        Text(\"f\", -2.0*factor_svg, 6.0*factor_svg, **kwargs_text),\n",
    "    ).move(91.1*factor_svg, 22.0*factor_svg),\n",
    ")\n",
    "\n",
    "f.save(\"../fig/fig1.svg\")\n",
    "svg('../fig/fig1.svg')"
   ]
  },
  {
   "cell_type": "code",
   "execution_count": null,
   "metadata": {},
   "outputs": [],
   "source": []
  },
  {
   "cell_type": "code",
   "execution_count": null,
   "metadata": {},
   "outputs": [],
   "source": []
  },
  {
   "cell_type": "code",
   "execution_count": null,
   "metadata": {},
   "outputs": [],
   "source": []
  }
 ],
 "metadata": {
  "kernelspec": {
   "display_name": "Python 3",
   "language": "python",
   "name": "python3"
  },
  "language_info": {
   "codemirror_mode": {
    "name": "ipython",
    "version": 3
   },
   "file_extension": ".py",
   "mimetype": "text/x-python",
   "name": "python",
   "nbconvert_exporter": "python",
   "pygments_lexer": "ipython3",
   "version": "3.8.10"
  }
 },
 "nbformat": 4,
 "nbformat_minor": 4
}
