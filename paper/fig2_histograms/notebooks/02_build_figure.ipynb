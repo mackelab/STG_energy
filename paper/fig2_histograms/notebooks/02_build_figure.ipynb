{
 "cells": [
  {
   "cell_type": "code",
   "execution_count": 8,
   "metadata": {},
   "outputs": [],
   "source": [
    "import time\n",
    "from copy import deepcopy\n",
    "\n",
    "import IPython.display as IPd\n",
    "import matplotlib as mpl\n",
    "import matplotlib.pylab as plt\n",
    "import numpy as np\n",
    "\n",
    "import stg_energy.fig2_histograms.viz as viz\n",
    "from pyloric import simulate\n",
    "from stg_energy.common import col, svg\n",
    "import pandas as pd"
   ]
  },
  {
   "cell_type": "markdown",
   "metadata": {},
   "source": [
    "# Figure 2"
   ]
  },
  {
   "cell_type": "code",
   "execution_count": 14,
   "metadata": {},
   "outputs": [],
   "source": [
    "pd.options.display.max_columns=999"
   ]
  },
  {
   "cell_type": "code",
   "execution_count": 5,
   "metadata": {},
   "outputs": [],
   "source": [
    "%load_ext autoreload\n",
    "%autoreload 2"
   ]
  },
  {
   "cell_type": "code",
   "execution_count": 6,
   "metadata": {},
   "outputs": [],
   "source": [
    "PANEL_A = \"../svg/panel_a.svg\"\n",
    "PANEL_B = \"../svg/panel_b.svg\"\n",
    "PANEL_C1 = \"../svg/panel_c1.svg\"\n",
    "PANEL_C2 = \"../svg/panel_c2.svg\"\n",
    "PANEL_D1 = \"../svg/panel_d1.svg\"\n",
    "PANEL_D2 = \"../svg/panel_d2.svg\"\n",
    "\n",
    "PANEL_C1_supp = \"../svg/panel_c1_supp.svg\"\n",
    "PANEL_C2_supp = \"../svg/panel_c2_supp.svg\"\n",
    "PANEL_D1_supp = \"../svg/panel_d1_supp.svg\"\n",
    "PANEL_D2_supp = \"../svg/panel_d2_supp.svg\""
   ]
  },
  {
   "cell_type": "code",
   "execution_count": 85,
   "metadata": {},
   "outputs": [],
   "source": [
    "theta = pd.read_pickle(\"../../../results/simulation_data_Tube_MLslurm_cluster/close_to_xo_circuit_parameters.pkl\")\n",
    "x = pd.read_pickle(\"../../../results/simulation_data_Tube_MLslurm_cluster/close_to_xo_simulation_outputs.pkl\")\n",
    "seeds = np.load(\"../../../results/simulation_data_Tube_MLslurm_cluster/close_to_xo_seeds.npy\")\n",
    "\n",
    "theta_np = theta.to_numpy()\n",
    "x_np = x.to_numpy()"
   ]
  },
  {
   "cell_type": "markdown",
   "metadata": {},
   "source": [
    "# Panel A: Histogram for total energy"
   ]
  },
  {
   "cell_type": "code",
   "execution_count": 86,
   "metadata": {},
   "outputs": [],
   "source": [
    "all_energies_per_spike = x[\"energies_per_spike\"].to_numpy()\n",
    "all_total_energies = x[\"energies\"].to_numpy()"
   ]
  },
  {
   "cell_type": "code",
   "execution_count": 87,
   "metadata": {},
   "outputs": [],
   "source": [
    "summed_energies_per_spike = np.sum(np.asarray(all_energies_per_spike), axis=1)\n",
    "summed_energies_total = np.sum(np.asarray(all_total_energies), axis=1)"
   ]
  },
  {
   "cell_type": "code",
   "execution_count": 88,
   "metadata": {},
   "outputs": [
    {
     "data": {
      "text/plain": [
       "array([142889.73118529, 154686.78826598, 129325.24806029, ...,\n",
       "       163975.93039683, 133531.64588166, 227250.81305192])"
      ]
     },
     "execution_count": 88,
     "metadata": {},
     "output_type": "execute_result"
    }
   ],
   "source": [
    "summed_energies_total"
   ]
  },
  {
   "cell_type": "code",
   "execution_count": 89,
   "metadata": {},
   "outputs": [
    {
     "data": {
      "text/plain": [
       "81.2161"
      ]
     },
     "execution_count": 89,
     "metadata": {},
     "output_type": "execute_result"
    }
   ],
   "source": [
    "129325. * 0.628e-3"
   ]
  },
  {
   "cell_type": "code",
   "execution_count": 90,
   "metadata": {},
   "outputs": [
    {
     "data": {
      "image/png": "[encoded data removed]",
      "text/plain": [
       "<Figure size 450x100 with 4 Axes>"
      ]
     },
     "metadata": {},
     "output_type": "display_data"
    }
   ],
   "source": [
    "with mpl.rc_context(fname=\"../../../.matplotlibrc\"):\n",
    "    fig, ax = plt.subplots(1, 4, figsize=(4.5, 1))\n",
    "\n",
    "    # / 10 because of 10 seconds simulation_time. /1000 to go from nJ to muJ\n",
    "    _ = ax[0].hist(\n",
    "        all_total_energies[:, 0]/10/1000, range=[0, 30], bins=100, color=\"#3182bd\"\n",
    "    )\n",
    "    ax[0].set_ylabel(\"Count\")\n",
    "    ax[0].tick_params(axis=\"both\", which=\"major\")\n",
    "    ax[0].spines[\"top\"].set_visible(False)\n",
    "    ax[0].spines[\"right\"].set_visible(False)\n",
    "    ax[0].spines[\"left\"].set_visible(False)\n",
    "    ax[0].axes.get_yaxis().set_ticks([])\n",
    "    ax[0].set_title(\"AB/PD\")\n",
    "\n",
    "    _ = ax[1].hist(\n",
    "        all_total_energies[:, 1]/10/1000, range=[0, 30], bins=100, color=\"#fc8d59\"\n",
    "    )\n",
    "    # ax[1].set_ylabel('Count')\n",
    "    ax[1].tick_params(axis=\"both\", which=\"major\")\n",
    "    ax[1].spines[\"top\"].set_visible(False)\n",
    "    ax[1].spines[\"right\"].set_visible(False)\n",
    "    ax[1].spines[\"left\"].set_visible(False)\n",
    "    ax[1].axes.get_yaxis().set_ticks([])\n",
    "    ax[1].set_title(\"LP\")\n",
    "\n",
    "    _ = ax[2].hist(\n",
    "        all_total_energies[:, 2]/10/1000, range=[0, 30], bins=100, color=\"#2ca25f\"\n",
    "    )\n",
    "    # ax[2].set_ylabel('Count')\n",
    "    ax[2].tick_params(axis=\"both\", which=\"major\")\n",
    "    ax[2].spines[\"top\"].set_visible(False)\n",
    "    ax[2].spines[\"right\"].set_visible(False)\n",
    "    ax[2].spines[\"left\"].set_visible(False)\n",
    "    ax[2].axes.get_yaxis().set_ticks([])\n",
    "    ax[2].set_title(\"PY\")\n",
    "\n",
    "    _ = ax[3].hist(summed_energies_total/10/1000, range=[0, 30], bins=100, color=\"k\")\n",
    "    # ax[3].set_ylabel('Count')\n",
    "    ax[3].tick_params(axis=\"both\", which=\"major\")\n",
    "    ax[3].spines[\"top\"].set_visible(False)\n",
    "    ax[3].spines[\"right\"].set_visible(False)\n",
    "    ax[3].spines[\"left\"].set_visible(False)\n",
    "    ax[3].axes.get_yaxis().set_ticks([])\n",
    "    ax[3].set_title(\"Sum\")\n",
    "\n",
    "    plt.subplots_adjust(wspace=0.3)\n",
    "\n",
    "    for i in range(4):\n",
    "        ax[i].set_xlim([0, 30])\n",
    "        ax[i].spines[\"top\"].set_visible(False)\n",
    "        ax[i].spines[\"right\"].set_visible(False)\n",
    "        ax[i].spines[\"left\"].set_visible(False)\n",
    "        ax[i].set_xlabel(\"Energy ($\\mu$J/s)\")\n",
    "        ax[i].set_xticks([0, 30])\n",
    "\n",
    "    plt.savefig(PANEL_A, facecolor=\"None\", transparent=True)\n",
    "    plt.show()"
   ]
  },
  {
   "cell_type": "markdown",
   "metadata": {},
   "source": [
    "# Panel B: Histogram for energy per spike"
   ]
  },
  {
   "cell_type": "code",
   "execution_count": 91,
   "metadata": {},
   "outputs": [
    {
     "data": {
      "image/png": "[encoded data removed]",
      "text/plain": [
       "<Figure size 450x100 with 3 Axes>"
      ]
     },
     "metadata": {},
     "output_type": "display_data"
    }
   ],
   "source": [
    "with mpl.rc_context(fname=\"../../../.matplotlibrc\"):\n",
    "    fig, ax = plt.subplots(1, 3, figsize=(4.5, 1))\n",
    "\n",
    "    # The factor /4000 comes from: 10 second recording. 0.025ms stepsize -> total energy = int_energy = energy * 0.025ms = energy / 40000\n",
    "    _ = ax[0].hist(all_energies_per_spike[:, 0] / 1000, range=[0, 1], bins=100, color=\"#3182bd\")\n",
    "    ax[0].set_ylabel(\"Count\")\n",
    "    ax[0].axes.get_yaxis().set_ticks([])\n",
    "    ax[0].set_title(\"AB/PD\")\n",
    "\n",
    "    _ = ax[1].hist(\n",
    "        all_energies_per_spike[:, 1] / 1000, range=[0, 1], bins=100, color=\"#fc8d59\"\n",
    "    )\n",
    "    # ax[1].set_ylabel('Count')\n",
    "    ax[1].set_xlabel(\"E/spike\")\n",
    "    ax[1].axes.get_yaxis().set_ticks([])\n",
    "    ax[1].set_title(\"LP\")\n",
    "\n",
    "    _ = ax[2].hist(all_energies_per_spike[:, 2] / 1000, range=[0, 1], bins=100, color=\"#2ca25f\")\n",
    "    # ax[2].set_ylabel('Count')\n",
    "    ax[2].set_xlabel(\"E/spike\")d\n",
    "    ax[2].axes.get_yaxis().set_ticks([])\n",
    "    ax[2].set_title(\"PY\")\n",
    "\n",
    "    for i in range(3):\n",
    "        ax[i].set_xlim([0, 1])\n",
    "        ax[i].set_xticks([0, 1])\n",
    "        ax[i].set_xlabel(\"E/spike ($\\mu$J)\")\n",
    "        ax[i].spines[\"top\"].set_visible(False)\n",
    "        ax[i].spines[\"right\"].set_visible(False)\n",
    "        ax[i].spines[\"left\"].set_visible(False)\n",
    "\n",
    "    plt.subplots_adjust(wspace=0.3)\n",
    "\n",
    "#     plt.savefig(PANEL_B, facecolor=\"None\", transparent=True)\n",
    "    plt.show()"
   ]
  },
  {
   "cell_type": "markdown",
   "metadata": {},
   "source": [
    "# Panel C: trace with highest and lowest energy"
   ]
  },
  {
   "cell_type": "code",
   "execution_count": 162,
   "metadata": {},
   "outputs": [],
   "source": [
    "inds = np.argsort(summed_energies_total)\n",
    "sorted_params = theta_np[inds]\n",
    "sorted_seeds = seeds[inds]\n",
    "sorted_params_pd = pd.DataFrame(sorted_params, columns=theta.columns)"
   ]
  },
  {
   "cell_type": "code",
   "execution_count": 163,
   "metadata": {},
   "outputs": [],
   "source": [
    "all_out_targets = []\n",
    "\n",
    "for counter in [0, len(sorted_params) - 1]:\n",
    "    out_target = simulate(\n",
    "        sorted_params_pd.loc[counter], seed=int(sorted_seeds[counter]), track_currents=True, track_energy=True\n",
    "    )\n",
    "    all_out_targets.append(out_target)"
   ]
  },
  {
   "cell_type": "code",
   "execution_count": 164,
   "metadata": {},
   "outputs": [],
   "source": [
    "time_vec = np.arange(0, 11000, 0.025)"
   ]
  },
  {
   "cell_type": "code",
   "execution_count": 165,
   "metadata": {},
   "outputs": [
    {
     "name": "stdout",
     "output_type": "stream",
     "text": [
      "Showing :   3.0 seconds\n",
      "Scalebar indicates:  50mV\n"
     ]
    },
    {
     "data": {
      "image/png": "[encoded data removed]",
      "text/plain": [
       "<Figure size 490x110 with 2 Axes>"
      ]
     },
     "metadata": {},
     "output_type": "display_data"
    }
   ],
   "source": [
    "with mpl.rc_context(fname=\"../../../.matplotlibrc\"):\n",
    "    viz.compare_voltage_low_and_high_energy_trace(\n",
    "        all_out_targets,\n",
    "        time_vec,\n",
    "        figsize=(4.9, 1.1),\n",
    "    )\n",
    "    plt.savefig(PANEL_C1, facecolor='None', transparent=True)\n",
    "    plt.show()"
   ]
  },
  {
   "cell_type": "code",
   "execution_count": 166,
   "metadata": {},
   "outputs": [
    {
     "name": "stdout",
     "output_type": "stream",
     "text": [
      "Showing :   3.0 seconds\n",
      "Scalebar indicates:  100 micro Joule / second\n"
     ]
    },
    {
     "data": {
      "image/png": "[encoded data removed]",
      "text/plain": [
       "<Figure size 490x110 with 2 Axes>"
      ]
     },
     "metadata": {},
     "output_type": "display_data"
    }
   ],
   "source": [
    "with mpl.rc_context(fname=\"../../../.matplotlibrc\"):\n",
    "    viz.compare_energy_low_and_high_energy_trace(\n",
    "        all_out_targets,\n",
    "        t=time_vec,\n",
    "        figsize=(4.9, 1.1),\n",
    "    )\n",
    "    plt.savefig(PANEL_C2, facecolor='None', transparent=True)\n",
    "    plt.show()"
   ]
  },
  {
   "cell_type": "markdown",
   "metadata": {},
   "source": [
    "# Panel D: Energy scape"
   ]
  },
  {
   "cell_type": "code",
   "execution_count": 167,
   "metadata": {},
   "outputs": [
    {
     "data": {
      "image/png": "[encoded data removed]",
      "text/plain": [
       "<Figure size 410x120 with 2 Axes>"
      ]
     },
     "metadata": {},
     "output_type": "display_data"
    }
   ],
   "source": [
    "with mpl.rc_context(fname=\"../../../.matplotlibrc\"):\n",
    "    viz.energy_scape_voltage(\n",
    "        all_out_targets,\n",
    "        time_vec,\n",
    "        figsize=(4.1, 1.2),\n",
    "        cols=['k', 'k', 'k'],\n",
    "    )\n",
    "    plt.savefig(PANEL_D1, facecolor=\"None\", transparent=True)\n",
    "    plt.show()"
   ]
  },
  {
   "cell_type": "code",
   "execution_count": 168,
   "metadata": {},
   "outputs": [
    {
     "name": "stdout",
     "output_type": "stream",
     "text": [
      "time_len 1800\n"
     ]
    },
    {
     "data": {
      "image/png": "[encoded data removed]",
      "text/plain": [
       "<Figure size 410x120 with 2 Axes>"
      ]
     },
     "metadata": {},
     "output_type": "display_data"
    }
   ],
   "source": [
    "with mpl.rc_context(fname=\"../../../.matplotlibrc\"):\n",
    "    viz.energy_scape_energy(\n",
    "        all_out_targets,\n",
    "        time_vec,\n",
    "        figsize=(4.1, 1.2),\n",
    "    )\n",
    "    plt.savefig(PANEL_D2, facecolor=\"None\", transparent=True)\n",
    "    plt.show()"
   ]
  },
  {
   "cell_type": "markdown",
   "metadata": {},
   "source": [
    "# Assemble figure"
   ]
  },
  {
   "cell_type": "code",
   "execution_count": 169,
   "metadata": {},
   "outputs": [],
   "source": [
    "def svg(img):\n",
    "    IPd.display(IPd.HTML('<img src=\"{}\" / >'.format(img, time.time())))"
   ]
  },
  {
   "cell_type": "code",
   "execution_count": 170,
   "metadata": {},
   "outputs": [
    {
     "data": {
      "text/html": [
       "<img src=\"../fig/fig2.svg\" / >"
      ],
      "text/plain": [
       "<IPython.core.display.HTML object>"
      ]
     },
     "metadata": {},
     "output_type": "display_data"
    }
   ],
   "source": [
    "from svgutils.compose import *\n",
    "\n",
    "# > Inkscape pixel is 1/90 of an inch, other software usually uses 1/72.\n",
    "# > http://www.inkscapeforum.com/viewtopic.php?f=6&t=5964\n",
    "svg_scale = 1.25  # set this to 1.25 for Inkscape, 1.0 otherwise\n",
    "factor_svg=5.5\n",
    "\n",
    "# Panel letters in Helvetica Neue, 12pt, Medium\n",
    "kwargs_text = {'size': '12pt', 'font': 'Arial', 'weight': '800'}\n",
    "kwargs_consistent = {'size': '10pt', 'font': 'Arial', 'weight': '500', 'color': '#AF99EF'}\n",
    "kwargs_consistent1 = {'size': '10pt', 'font': 'Arial', 'weight': '500', 'color': '#9E7DD5'}\n",
    "kwargs_inconsistent = {'size': '10pt', 'font': 'Arial', 'weight': '500', 'color': '#AF99EF'}\n",
    "kwargs_text8pt = {'size': '7.7pt', 'font': 'Arial'}\n",
    "\n",
    "f = Figure(\"20.3cm\", \"11.4cm\",\n",
    "\n",
    "    Panel(\n",
    "          SVG(PANEL_C1).scale(svg_scale).move(0*factor_svg,0*factor_svg),\n",
    "          Text(\"a\", 0.0*factor_svg, 2.6*factor_svg, **kwargs_text),\n",
    "    ).move(0*factor_svg, 0*factor_svg),\n",
    "\n",
    "    Panel(\n",
    "          SVG(PANEL_C2).scale(svg_scale).move(0*factor_svg,0*factor_svg),\n",
    "    ).move(0*factor_svg, 26.6*factor_svg),\n",
    "\n",
    "    Panel(\n",
    "          SVG(PANEL_D1).scale(svg_scale).move(0*factor_svg, 0*factor_svg),\n",
    "          Text(\"b\", -2*factor_svg, 2.6*factor_svg, **kwargs_text),\n",
    "    ).move(73*factor_svg, 0.0*factor_svg),\n",
    "\n",
    "    Panel(\n",
    "          SVG(PANEL_D2).scale(svg_scale).move(0*factor_svg, 0*factor_svg),\n",
    "    ).move(72.1*factor_svg, 20.0*factor_svg),\n",
    "\n",
    "    Panel(\n",
    "          SVG(PANEL_A).scale(svg_scale).move(0, 0*factor_svg),\n",
    "          Text(\"c\", 0.0*factor_svg, 2.5*factor_svg, **kwargs_text),\n",
    "    ).move(0*factor_svg, 55.0*factor_svg),\n",
    "\n",
    "    Panel(\n",
    "        SVG(PANEL_B).scale(svg_scale).move(0*factor_svg, 0*factor_svg),\n",
    "        Text(\"d\", -2.0*factor_svg, 2.5*factor_svg, **kwargs_text),\n",
    "    ).move(73*factor_svg, 55.0*factor_svg),\n",
    ")\n",
    "\n",
    "!mkdir -p fig\n",
    "f.save(\"../fig/fig2.svg\")\n",
    "svg('../fig/fig2.svg')"
   ]
  },
  {
   "cell_type": "code",
   "execution_count": null,
   "metadata": {},
   "outputs": [],
   "source": []
  },
  {
   "cell_type": "code",
   "execution_count": null,
   "metadata": {},
   "outputs": [],
   "source": []
  },
  {
   "cell_type": "code",
   "execution_count": null,
   "metadata": {},
   "outputs": [],
   "source": []
  },
  {
   "cell_type": "code",
   "execution_count": null,
   "metadata": {},
   "outputs": [],
   "source": []
  }
 ],
 "metadata": {
  "kernelspec": {
   "display_name": "sbi_prinz",
   "language": "python",
   "name": "sbi_prinz"
  },
  "language_info": {
   "codemirror_mode": {
    "name": "ipython",
    "version": 3
   },
   "file_extension": ".py",
   "mimetype": "text/x-python",
   "name": "python",
   "nbconvert_exporter": "python",
   "pygments_lexer": "ipython3",
   "version": "3.8.5"
  }
 },
 "nbformat": 4,
 "nbformat_minor": 4
}
