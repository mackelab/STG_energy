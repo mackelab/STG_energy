{
 "cells": [
  {
   "cell_type": "markdown",
   "metadata": {},
   "source": [
    "# Fig 7: posterior over temperatures\n",
    "Results are the same as in my MSc thesis. This means that they were created with delfi, and they are on a different lobster."
   ]
  },
  {
   "cell_type": "code",
   "execution_count": 5,
   "metadata": {},
   "outputs": [],
   "source": [
    "%load_ext autoreload\n",
    "%autoreload 2"
   ]
  },
  {
   "cell_type": "code",
   "execution_count": 51,
   "metadata": {},
   "outputs": [],
   "source": [
    "import numpy as np\n",
    "import importlib\n",
    "import matplotlib as mpl\n",
    "import matplotlib.pylab as plt\n",
    "import time\n",
    "from copy import deepcopy\n",
    "\n",
    "import sys\n",
    "sys.path.append(\"../model/\")\n",
    "sys.path.append('../../')\n",
    "sys.path.append('../../simulator')\n",
    "\n",
    "from common import col, svg, samples_nd, get_labels_8pt\n",
    "\n",
    "from sbi_prior import create_prior, create_prior_general\n",
    "from sbi_wrapper import simulate, simulate_general, load_setup, get_time, stats\n",
    "from process_samples import merge_samples\n",
    "import viz\n",
    "# import viz_samples_thesis\n",
    "# import viz_samples\n",
    "# import train_utils as tu\n",
    "# import startEndUtils as seu\n"
   ]
  },
  {
   "cell_type": "code",
   "execution_count": 7,
   "metadata": {},
   "outputs": [],
   "source": [
    "PANEL_A1 = 'svg/panel_a1.svg'\n",
    "PANEL_A2 = 'svg/panel_a2.svg'\n",
    "PANEL_A3 = 'svg/panel_a3.svg'\n",
    "PANEL_A4 = 'svg/panel_a4.svg'\n",
    "PANEL_A5 = 'svg/panel_a5.svg'\n",
    "\n",
    "PANEL_B1 = 'svg/panel_b1.svg'\n",
    "PANEL_B2 = 'svg/panel_b2.svg'\n",
    "PANEL_B3 = 'svg/panel_b3.svg'\n",
    "PANEL_B4 = 'svg/panel_b4.svg'\n",
    "PANEL_B5 = 'svg/panel_b5.svg'\n",
    "\n",
    "PANEL_C1 = 'svg/panel_c1.svg'\n",
    "PANEL_C2 = 'svg/panel_c2.svg'\n",
    "PANEL_C3 = 'svg/panel_c3.svg'\n",
    "PANEL_C4 = 'svg/panel_c4.svg'\n",
    "PANEL_C5 = 'svg/panel_c5.svg'\n",
    "\n",
    "PANEL_D1 = 'svg/panel_d1.svg'\n",
    "PANEL_D2 = 'svg/panel_d2.svg'\n",
    "PANEL_D3 = 'svg/panel_d3.svg'\n",
    "PANEL_D4 = 'svg/panel_d4.svg'\n",
    "PANEL_D5 = 'svg/panel_d5.svg'\n",
    "\n",
    "PANEL_X1 = 'svg/panel_x1.svg'\n",
    "PANEL_X2 = 'svg/panel_x2.svg'\n",
    "PANEL_X3 = 'svg/panel_x3.svg'\n",
    "\n",
    "#PANEL_C2 = 'svg/panel_c2.svg'\n",
    "#PANEL_C3 = 'svg/panel_c3.svg'\n",
    "#PANEL_C4 = 'svg/panel_c4.svg'\n",
    "\n",
    "PANEL_suppA = 'svg/panel_supp_a.svg'"
   ]
  },
  {
   "cell_type": "code",
   "execution_count": 8,
   "metadata": {},
   "outputs": [],
   "source": [
    "prior = create_prior(log=True)\n",
    "dimensions_11 = 31\n",
    "lims_11 = np.asarray([-np.sqrt(3)*np.ones(dimensions_11), np.sqrt(3)*np.ones(dimensions_11)]).T \n",
    "dimensions_15 = 46\n",
    "lims_15 = np.asarray([-np.sqrt(3)*np.ones(dimensions_15), np.sqrt(3)*np.ones(dimensions_15)]).T"
   ]
  },
  {
   "cell_type": "code",
   "execution_count": 9,
   "metadata": {},
   "outputs": [],
   "source": [
    "samples_MAF_11 = merge_samples(\"../../results/temperature/samples_delfi_MSc/R1_11deg\", name='conductance_params')\n",
    "samples_MAF_11 = np.reshape(samples_MAF_11, (10*2520, 31))\n",
    "\n",
    "samples_MAF_15 = merge_samples(\"../../results/temperature/samples_delfi_MSc/R2_15deg\", name='conductance_params')\n",
    "samples_MAF_15 = np.reshape(samples_MAF_15, (10*2520, 46))\n",
    "\n",
    "samples_MAF_19 = merge_samples(\"../../results/temperature/samples_delfi_MSc/R3_19deg\", name='conductance_params')\n",
    "samples_MAF_19 = np.reshape(samples_MAF_19, (10*2520, 46))\n",
    "\n",
    "samples_MAF_23 = merge_samples(\"../../results/temperature/samples_delfi_MSc/R4_23deg\", name='conductance_params')\n",
    "samples_MAF_23 = np.reshape(samples_MAF_23, (10*2520, 46))\n",
    "\n",
    "samples_MAF_27 = merge_samples(\"../../results/temperature/samples_delfi_MSc/R5_27deg\", name='conductance_params')\n",
    "samples_MAF_27 = np.reshape(samples_MAF_27, (10*2520, 46))"
   ]
  },
  {
   "cell_type": "markdown",
   "metadata": {},
   "source": [
    "### Load data"
   ]
  },
  {
   "cell_type": "code",
   "execution_count": 10,
   "metadata": {},
   "outputs": [],
   "source": [
    "prior = create_prior(log=True)\n",
    "params_mean = prior.mean.numpy()\n",
    "params_std = prior.stddev.numpy()"
   ]
  },
  {
   "cell_type": "code",
   "execution_count": 11,
   "metadata": {},
   "outputs": [],
   "source": [
    "# import train_utils as tu\n",
    "\n",
    "summstats_experimental_11 = np.load('../../results/temperature/experimental_data/857_016_summstats/ss_857_016_0049_11.npz')['summ_stats']\n",
    "summstats_experimental_15 = np.load('../../results/temperature/experimental_data/857_016_summstats/ss_857_016_0056_15.npz')['summ_stats']\n",
    "summstats_experimental_19 = np.load('../../results/temperature/experimental_data/857_016_summstats/ss_857_016_0059_19.npz')['summ_stats']\n",
    "summstats_experimental_23 = np.load('../../results/temperature/experimental_data/857_016_summstats/ss_857_016_0063_23.npz')['summ_stats']\n",
    "summstats_experimental_27 = np.load('../../results/temperature/experimental_data/857_016_summstats/ss_857_016_0069_27.npz')['summ_stats']"
   ]
  },
  {
   "cell_type": "code",
   "execution_count": 12,
   "metadata": {},
   "outputs": [],
   "source": [
    "# posterior_MAF_11 = inf_SNPE_MAF_11.predict([summstats_experimental_11])\n",
    "# posterior_MAF_15 = inf_SNPE_MAF_15.predict([summstats_experimental_15])\n",
    "# posterior_MAF_19 = inf_SNPE_MAF_19.predict([summstats_experimental_19])\n",
    "# posterior_MAF_23 = inf_SNPE_MAF_23.predict([summstats_experimental_23])\n",
    "# posterior_MAF_27 = inf_SNPE_MAF_27.predict([summstats_experimental_27])"
   ]
  },
  {
   "cell_type": "markdown",
   "metadata": {},
   "source": [
    "# Panel A: Traces to infer"
   ]
  },
  {
   "cell_type": "markdown",
   "metadata": {},
   "source": [
    "### 11 degree"
   ]
  },
  {
   "cell_type": "code",
   "execution_count": 13,
   "metadata": {},
   "outputs": [],
   "source": [
    "npz = np.load('../../results/temperature/experimental_data/857_016_traces/data_857_016_0049.npz')\n",
    "t_11 = npz['t']\n",
    "PD_spikes_11 = npz['PD_spikes']\n",
    "LP_spikes_11 = npz['LP_spikes']\n",
    "PY_spikes_11 = npz['PY_spikes']\n",
    "\n",
    "pdn = npz['pdn']\n",
    "lpn = npz['lpn']\n",
    "pyn = npz['pyn']\n",
    "\n",
    "dt = t_11[1] - t_11[0]"
   ]
  },
  {
   "cell_type": "code",
   "execution_count": 14,
   "metadata": {},
   "outputs": [
    {
     "data": {
      "image/png": "[encoded data removed]",
      "text/plain": [
       "<Figure size 180x130 with 1 Axes>"
      ]
     },
     "metadata": {},
     "output_type": "display_data"
    }
   ],
   "source": [
    "counter = 0\n",
    "\n",
    "start_index = 100000\n",
    "end_index   = 130000\n",
    "height_offset = 200\n",
    "\n",
    "with mpl.rc_context(fname='../../.matplotlibrc'):\n",
    "    \n",
    "    fig, ax = plt.subplots(1, 1, figsize=(1.8,1.3))\n",
    "\n",
    "    ax.plot(t_11[:end_index-start_index], 5+2.5+pdn[:end_index-start_index]/np.max(pdn), c=col['GT'], lw=0.5)\n",
    "    ax.plot(t_11[:end_index-start_index], 5+1.45+lpn[:end_index-start_index]/2.5/np.max(lpn), c=col['GT'], lw=0.5)\n",
    "    ax.plot(t_11[:end_index-start_index], 5+pyn[:end_index-start_index]/1.2/np.max(pyn), c=col['GT'], lw=0.5)\n",
    "    \n",
    "    #plt.plot(t_11[:end_index-start_index], 2.5+PD_spikes_11[:end_index-start_index], c=col['GT'])\n",
    "    #plt.plot(t_11[:end_index-start_index], 1.25+LP_spikes_11[:end_index-start_index], c=col['GT'])\n",
    "    #plt.plot(t_11[:end_index-start_index], PY_spikes_11[:end_index-start_index], c=col['GT'])\n",
    "\n",
    "    #ax.legend(('pdn (PD)', 'lpn (LP)', 'pyn (PY)'), bbox_to_anchor=(1.23, 1.01), loc='upper right')\n",
    "    #ax.set_xlabel('seconds')\n",
    "    ax.get_yaxis().set_visible(False)\n",
    "    ax.get_xaxis().set_visible(False)\n",
    "\n",
    "    ax.spines['right'].set_visible(False)\n",
    "    ax.spines['top'].set_visible(False)\n",
    "    ax.spines['left'].set_visible(False)\n",
    "    ax.spines['bottom'].set_visible(False)\n",
    "    \n",
    "    duration = 0.5\n",
    "    number_of_timesteps = int(duration / dt)\n",
    "    t_scale = np.linspace(t_11[0], t_11[number_of_timesteps-1], 2)\n",
    "    \n",
    "    ax.plot(t_scale, 4.3 * np.ones_like(t_scale), c='k', lw=1.0)\n",
    "\n",
    "#     plt.savefig(PANEL_A1, facecolor='None', transparent=True)\n",
    "\n",
    "    plt.show()"
   ]
  },
  {
   "cell_type": "markdown",
   "metadata": {},
   "source": [
    "### 15 degree"
   ]
  },
  {
   "cell_type": "code",
   "execution_count": 15,
   "metadata": {},
   "outputs": [],
   "source": [
    "npz = np.load('../../results/temperature/experimental_data/857_016_traces/data_857_016_0056.npz')\n",
    "t_15 = npz['t']\n",
    "PD_spikes_15 = npz['PD_spikes']\n",
    "LP_spikes_15 = npz['LP_spikes']\n",
    "PY_spikes_15 = npz['PY_spikes']\n",
    "\n",
    "pdn = npz['pdn']\n",
    "lpn = npz['lpn']\n",
    "pyn = npz['pyn']\n",
    "\n",
    "dt = t_15[1] - t_15[0]"
   ]
  },
  {
   "cell_type": "code",
   "execution_count": 16,
   "metadata": {},
   "outputs": [
    {
     "data": {
      "image/png": "[encoded data removed]",
      "text/plain": [
       "<Figure size 180x130 with 1 Axes>"
      ]
     },
     "metadata": {},
     "output_type": "display_data"
    }
   ],
   "source": [
    "counter = 0\n",
    "\n",
    "start_index = 60000\n",
    "end_index   = 90000\n",
    "height_offset = 200\n",
    "\n",
    "with mpl.rc_context(fname='../../.matplotlibrc'):\n",
    "    \n",
    "    fig, ax = plt.subplots(1, 1, figsize=(1.8,1.3))\n",
    "\n",
    "    ax.plot(t_15[:end_index-start_index], 5+2.5+pdn[start_index:end_index]/np.max(pdn), c=col['GT'], lw=0.5)\n",
    "    ax.plot(t_15[:end_index-start_index], 5+1.45+lpn[start_index:end_index]/2.5/np.max(lpn), c=col['GT'], lw=0.5)\n",
    "    ax.plot(t_15[:end_index-start_index], 5+pyn[start_index:end_index]/1.2/np.max(pyn), c=col['GT'], lw=0.5)\n",
    "    \n",
    "    #plt.plot(t_15[:end_index-start_index], 2.5+PD_spikes_15[start_index:end_index], c=col['GT'])\n",
    "    #plt.plot(t_15[:end_index-start_index], 1.25+LP_spikes_15[start_index:end_index], c=col['GT'])\n",
    "    #plt.plot(t_15[:end_index-start_index], PY_spikes_15[start_index:end_index], c=col['GT'])\n",
    "\n",
    "    #ax.legend(('pdn (PD)', 'lpn (LP)', 'pyn (PY)'), bbox_to_anchor=(1.23, 1.01), loc='upper right')\n",
    "    ax.get_yaxis().set_visible(False)\n",
    "    ax.get_xaxis().set_visible(False)\n",
    "\n",
    "    ax.spines['right'].set_visible(False)\n",
    "    ax.spines['top'].set_visible(False)\n",
    "    ax.spines['left'].set_visible(False)\n",
    "    ax.spines['bottom'].set_visible(False)\n",
    "    \n",
    "    duration = 0.5\n",
    "    number_of_timesteps = int(duration / dt)\n",
    "    t_scale = np.linspace(t_15[0], t_15[number_of_timesteps-1], 2)\n",
    "    \n",
    "    ax.plot(t_scale, 4.3 * np.ones_like(t_scale), c='k', lw=1.0)\n",
    "\n",
    "#     plt.savefig(PANEL_A2, facecolor='None', transparent=True)\n",
    "\n",
    "    plt.show()"
   ]
  },
  {
   "cell_type": "markdown",
   "metadata": {},
   "source": [
    "# 19 degree"
   ]
  },
  {
   "cell_type": "code",
   "execution_count": 17,
   "metadata": {},
   "outputs": [],
   "source": [
    "npz = np.load('../../results/temperature/experimental_data/857_016_traces/data_857_016_0059.npz')\n",
    "t_19 = npz['t']\n",
    "PD_spikes_19 = npz['PD_spikes']\n",
    "LP_spikes_19 = npz['LP_spikes']\n",
    "PY_spikes_19 = npz['PY_spikes']\n",
    "\n",
    "pdn = npz['pdn']\n",
    "lpn = npz['lpn']\n",
    "pyn = npz['pyn']"
   ]
  },
  {
   "cell_type": "code",
   "execution_count": 18,
   "metadata": {},
   "outputs": [
    {
     "data": {
      "image/png": "[encoded data removed]",
      "text/plain": [
       "<Figure size 180x130 with 1 Axes>"
      ]
     },
     "metadata": {},
     "output_type": "display_data"
    }
   ],
   "source": [
    "counter = 0\n",
    "\n",
    "start_index = 100000\n",
    "end_index   = 130000\n",
    "height_offset = 200\n",
    "\n",
    "with mpl.rc_context(fname='../../.matplotlibrc'):\n",
    "    \n",
    "    fig, ax = plt.subplots(1, 1, figsize=(1.8,1.3))\n",
    "\n",
    "    ax.plot(t_19[:end_index-start_index], 5+2.5+pdn[:end_index-start_index]/np.max(pdn), c=col['GT'], lw=0.5)\n",
    "    ax.plot(t_19[:end_index-start_index], 5+1.45+lpn[:end_index-start_index]/2.5/np.max(lpn), c=col['GT'], lw=0.5)\n",
    "    ax.plot(t_19[:end_index-start_index], 5+pyn[:end_index-start_index]/1.2/np.max(pyn), c=col['GT'], lw=0.5)\n",
    "    \n",
    "    #plt.plot(t_19[:end_index-start_index], 2.5+PD_spikes_19[:end_index-start_index], c=col['GT'])\n",
    "    #plt.plot(t_19[:end_index-start_index], 1.25+LP_spikes_19[:end_index-start_index], c=col['GT'])\n",
    "    #plt.plot(t_19[:end_index-start_index], PY_spikes_19[:end_index-start_index], c=col['GT'])\n",
    "\n",
    "    #ax.legend(('pdn (PD)', 'lpn (LP)', 'pyn (PY)'), bbox_to_anchor=(1.23, 1.01), loc='upper right')\n",
    "    ax.get_yaxis().set_visible(False)\n",
    "    ax.get_xaxis().set_visible(False)\n",
    "\n",
    "    ax.spines['right'].set_visible(False)\n",
    "    ax.spines['top'].set_visible(False)\n",
    "    ax.spines['left'].set_visible(False)\n",
    "    ax.spines['bottom'].set_visible(False)\n",
    "    \n",
    "    duration = 0.5\n",
    "    number_of_timesteps = int(duration / dt)\n",
    "    t_scale = np.linspace(t_15[0], t_15[number_of_timesteps-1], 2)\n",
    "    \n",
    "    ax.plot(t_scale, 4.3 * np.ones_like(t_scale), c='k', lw=1.0)\n",
    "\n",
    "#     plt.savefig(PANEL_A3, facecolor='None', transparent=True)\n",
    "\n",
    "    plt.show()"
   ]
  },
  {
   "cell_type": "markdown",
   "metadata": {},
   "source": [
    "### 23 degree"
   ]
  },
  {
   "cell_type": "code",
   "execution_count": 19,
   "metadata": {},
   "outputs": [],
   "source": [
    "npz = np.load('../../results/temperature/experimental_data/857_016_traces/data_857_016_0063.npz')\n",
    "t_23 = npz['t']\n",
    "PD_spikes_23 = npz['PD_spikes']\n",
    "LP_spikes_23 = npz['LP_spikes']\n",
    "PY_spikes_23 = npz['PY_spikes']\n",
    "\n",
    "pdn = npz['pdn']\n",
    "lpn = npz['lpn']\n",
    "pyn = npz['pyn']"
   ]
  },
  {
   "cell_type": "code",
   "execution_count": 20,
   "metadata": {},
   "outputs": [
    {
     "data": {
      "image/png": "[encoded data removed]",
      "text/plain": [
       "<Figure size 180x130 with 1 Axes>"
      ]
     },
     "metadata": {},
     "output_type": "display_data"
    }
   ],
   "source": [
    "counter = 0\n",
    "\n",
    "start_index = 100000\n",
    "end_index   = 130000\n",
    "height_offset = 200\n",
    "\n",
    "with mpl.rc_context(fname='../../.matplotlibrc'):\n",
    "    \n",
    "    fig, ax = plt.subplots(1, 1, figsize=(1.8,1.3))\n",
    "\n",
    "    ax.plot(t_23[:end_index-start_index], 5+2.5+pdn[:end_index-start_index]/np.max(pdn), c=col['GT'], lw=0.5)\n",
    "    ax.plot(t_23[:end_index-start_index], 5+1.45+lpn[:end_index-start_index]/2.5/np.max(lpn), c=col['GT'], lw=0.5)\n",
    "    ax.plot(t_23[:end_index-start_index], 5+pyn[:end_index-start_index]/1.2/np.max(pyn), c=col['GT'], lw=0.5)\n",
    "    \n",
    "    #plt.plot(t_23[:end_index-start_index], 2.5+PD_spikes_23[:end_index-start_index], c=col['GT'])\n",
    "    #plt.plot(t_23[:end_index-start_index], 1.25+LP_spikes_23[:end_index-start_index], c=col['GT'])\n",
    "    #plt.plot(t_23[:end_index-start_index], PY_spikes_23[:end_index-start_index], c=col['GT'])\n",
    "\n",
    "    #ax.legend(('pdn (PD)', 'lpn (LP)', 'pyn (PY)'), bbox_to_anchor=(1.23, 1.01), loc='upper right')\n",
    "    ax.get_yaxis().set_visible(False)\n",
    "    ax.get_xaxis().set_visible(False)\n",
    "\n",
    "    ax.spines['right'].set_visible(False)\n",
    "    ax.spines['top'].set_visible(False)\n",
    "    ax.spines['left'].set_visible(False)\n",
    "    ax.spines['bottom'].set_visible(False)\n",
    "    \n",
    "    duration = 0.5\n",
    "    number_of_timesteps = int(duration / dt)\n",
    "    t_scale = np.linspace(t_15[0], t_15[number_of_timesteps-1], 2)\n",
    "    \n",
    "    ax.plot(t_scale, 4.3 * np.ones_like(t_scale), c='k', lw=1.0)\n",
    "\n",
    "#     plt.savefig(PANEL_A4, facecolor='None', transparent=True)\n",
    "\n",
    "    plt.show()"
   ]
  },
  {
   "cell_type": "markdown",
   "metadata": {},
   "source": [
    "### 27 degree"
   ]
  },
  {
   "cell_type": "code",
   "execution_count": 21,
   "metadata": {},
   "outputs": [],
   "source": [
    "npz = np.load('../../results/temperature/experimental_data/857_016_traces/data_857_016_0069.npz')\n",
    "t_27 = npz['t']\n",
    "PD_spikes_27 = npz['PD_spikes']\n",
    "LP_spikes_27 = npz['LP_spikes']\n",
    "PY_spikes_27 = npz['PY_spikes']\n",
    "\n",
    "pdn = npz['pdn']\n",
    "lpn = npz['lpn']\n",
    "pyn = npz['pyn']"
   ]
  },
  {
   "cell_type": "code",
   "execution_count": 22,
   "metadata": {},
   "outputs": [
    {
     "data": {
      "image/png": "[encoded data removed]",
      "text/plain": [
       "<Figure size 180x130 with 1 Axes>"
      ]
     },
     "metadata": {},
     "output_type": "display_data"
    }
   ],
   "source": [
    "counter = 0\n",
    "\n",
    "start_index = 100000\n",
    "end_index   = 130000\n",
    "height_offset = 200\n",
    "\n",
    "with mpl.rc_context(fname='../../.matplotlibrc'):\n",
    "    \n",
    "    fig, ax = plt.subplots(1, 1, figsize=(1.8,1.3))\n",
    "\n",
    "    ax.plot(t_27[:end_index-start_index], 5+2.5+pdn[:end_index-start_index]/np.max(pdn), c=col['GT'], lw=0.5)\n",
    "    ax.plot(t_27[:end_index-start_index], 5+1.45+lpn[:end_index-start_index]/2.5/np.max(lpn), c=col['GT'], lw=0.5)\n",
    "    ax.plot(t_27[:end_index-start_index], 5+pyn[:end_index-start_index]/1.2/np.max(pyn), c=col['GT'], lw=0.5)\n",
    "    \n",
    "    #plt.plot(t_27[:end_index-start_index], 2.5+PD_spikes_27[:end_index-start_index], c=col['GT'])\n",
    "    #plt.plot(t_27[:end_index-start_index], 1.25+LP_spikes_27[:end_index-start_index], c=col['GT'])\n",
    "    #plt.plot(t_27[:end_index-start_index], PY_spikes_27[:end_index-start_index], c=col['GT'])\n",
    "\n",
    "    #ax.legend(('pdn (PD)', 'lpn (LP)', 'pyn (PY)'), bbox_to_anchor=(1.23, 1.01), loc='upper right')\n",
    "    ax.get_yaxis().set_visible(False)\n",
    "    ax.get_xaxis().set_visible(False)\n",
    "\n",
    "    ax.spines['right'].set_visible(False)\n",
    "    ax.spines['top'].set_visible(False)\n",
    "    ax.spines['left'].set_visible(False)\n",
    "    ax.spines['bottom'].set_visible(False)\n",
    "    \n",
    "    duration = 0.5\n",
    "    number_of_timesteps = int(duration / dt)\n",
    "    t_scale = np.linspace(t_15[0], t_15[number_of_timesteps-1], 2)\n",
    "    \n",
    "    ax.plot(t_scale, 4.3 * np.ones_like(t_scale), c='k', lw=1.0)\n",
    "\n",
    "#     plt.savefig(PANEL_A5, facecolor='None', transparent=True)\n",
    "\n",
    "    plt.show()"
   ]
  },
  {
   "cell_type": "markdown",
   "metadata": {},
   "source": [
    "# Panel B: Posteriors"
   ]
  },
  {
   "cell_type": "code",
   "execution_count": 23,
   "metadata": {},
   "outputs": [],
   "source": [
    "labels_ = get_labels_8pt()\n",
    "labels_[9] += ''"
   ]
  },
  {
   "cell_type": "code",
   "execution_count": 24,
   "metadata": {},
   "outputs": [],
   "source": [
    "from decimal import Decimal\n",
    "all_labels = []\n",
    "lims=lims_11\n",
    "params_std_11 = params_std\n",
    "params_mean_11 = params_mean\n",
    "for dim_i in range(31):\n",
    "    if dim_i > len(params_mean_11) - 7.5: # synapses\n",
    "        if dim_i == 24: all_labels.append([r'$\\mathdefault{0.01}$        ', r'$\\mathdefault{10000}\\;\\;\\;\\;$   '])\n",
    "        else: all_labels.append([r'$\\mathdefault{0.01}$   ', r'$\\mathdefault{1000}\\;\\;\\;\\;$ '])\n",
    "    else: # membrane conductances\n",
    "        num_after_digits = -int(np.log10(lims[dim_i, 1] * params_std[dim_i] + params_mean[dim_i]))\n",
    "        if num_after_digits > 2:\n",
    "            num_after_digits=2\n",
    "        labels = [round(Decimal((lims[dim_i, num_tmp] * params_std[dim_i] + params_mean[dim_i]) / 0.628e-3), num_after_digits)\n",
    "                  for num_tmp in range(2)]\n",
    "        new_labels = []\n",
    "        counter=0\n",
    "        for l in labels:\n",
    "            if counter == 0:\n",
    "                new_labels.append(r'$\\mathdefault{'+str(l)+'}$       ')\n",
    "            else:\n",
    "                new_labels.append(r'$\\mathdefault{'+str(l)+'}\\;\\;\\;$    ')\n",
    "            counter+=1\n",
    "        all_labels.append(new_labels)"
   ]
  },
  {
   "cell_type": "code",
   "execution_count": 25,
   "metadata": {},
   "outputs": [],
   "source": [
    "labels_ = viz.get_labels_8pt_supp()\n",
    "new_labels = []\n",
    "for l in labels_:\n",
    "    if counter > 0: new_labels.append(l+'    ')\n",
    "labels_ = new_labels"
   ]
  },
  {
   "cell_type": "code",
   "execution_count": 26,
   "metadata": {},
   "outputs": [
    {
     "data": {
      "image/png": "[encoded data removed]",
      "text/plain": [
       "<Figure size 153x153 with 16 Axes>"
      ]
     },
     "metadata": {},
     "output_type": "display_data"
    }
   ],
   "source": [
    "with mpl.rc_context(fname='../../.matplotlibrc'):\n",
    "    fig, axes = samples_nd(samples=[samples_MAF_11],\n",
    "                           subset=[4, 14, 18, 24],\n",
    "                           limits=lims,\n",
    "                           ticks=lims,\n",
    "                           tick_labels=all_labels,\n",
    "                           fig_size=(17.0*0.09,17.0*0.09),\n",
    "                           labels=labels_,\n",
    "                           scatter_offdiag={'rasterized':True, 'alpha':1.0},\n",
    "                           diag=['kde'],\n",
    "                           tick_labelpad =1,\n",
    "                           labelpad=1,\n",
    "                           upper=['kde'],\n",
    "                           hist_offdiag={'bins':50})\n",
    "#     plt.savefig(PANEL_B1, facecolor='None', transparent=True)\n",
    "\n",
    "    plt.show()"
   ]
  },
  {
   "cell_type": "code",
   "execution_count": 27,
   "metadata": {},
   "outputs": [
    {
     "data": {
      "image/png": "[encoded data removed]",
      "text/plain": [
       "<Figure size 153x153 with 16 Axes>"
      ]
     },
     "metadata": {},
     "output_type": "display_data"
    }
   ],
   "source": [
    "with mpl.rc_context(fname='../../.matplotlibrc'):\n",
    "    fig, axes = samples_nd(samples=[samples_MAF_15],\n",
    "                           subset=[4, 14, 18, 24],\n",
    "                           limits=lims,\n",
    "                           ticks=lims,\n",
    "                           tick_labels=all_labels,\n",
    "                           fig_size=(17.0*0.09,17.0*0.09),\n",
    "                           labels=labels_,\n",
    "                           scatter_offdiag={'rasterized':True, 'alpha':1.0},\n",
    "                           diag=['kde'],\n",
    "                           upper=['kde'],\n",
    "                           tick_labelpad =1,\n",
    "                           labelpad=1,\n",
    "                           hist_offdiag={'bins':50})\n",
    "                           #plot_offdiag={'linewidth': 1.6, 'path_effects':[pe.Stroke(linewidth=2.4, foreground='k'), pe.Normal()]}),\n",
    "#     plt.savefig(PANEL_B2, facecolor='None', transparent=True)\n",
    "\n",
    "    plt.show()"
   ]
  },
  {
   "cell_type": "code",
   "execution_count": 28,
   "metadata": {},
   "outputs": [
    {
     "data": {
      "image/png": "[encoded data removed]",
      "text/plain": [
       "<Figure size 153x153 with 16 Axes>"
      ]
     },
     "metadata": {},
     "output_type": "display_data"
    }
   ],
   "source": [
    "with mpl.rc_context(fname='../../.matplotlibrc'):\n",
    "    fig, axes = samples_nd(samples=[samples_MAF_19],\n",
    "                           subset=[4, 14, 18, 24],\n",
    "                           limits=lims,\n",
    "                           ticks=lims,\n",
    "                           tick_labels=all_labels,\n",
    "                           fig_size=(17.0*0.09,17.0*0.09),\n",
    "                           labels=labels_,\n",
    "                           scatter_offdiag={'rasterized':True, 'alpha':1.0},\n",
    "                           diag=['kde'],\n",
    "                           upper=['kde'],\n",
    "                           tick_labelpad = 1,\n",
    "                           labelpad=1,\n",
    "                           hist_offdiag={'bins':50})\n",
    "#     plt.savefig(PANEL_B3, facecolor='None', transparent=True)\n",
    "\n",
    "    plt.show()"
   ]
  },
  {
   "cell_type": "code",
   "execution_count": 29,
   "metadata": {},
   "outputs": [
    {
     "data": {
      "image/png": "[encoded data removed]",
      "text/plain": [
       "<Figure size 153x153 with 16 Axes>"
      ]
     },
     "metadata": {},
     "output_type": "display_data"
    }
   ],
   "source": [
    "with mpl.rc_context(fname='../../.matplotlibrc'):\n",
    "    fig, axes = samples_nd(samples=[samples_MAF_23],\n",
    "                           subset=[4, 14, 18, 24],\n",
    "                           limits=lims,\n",
    "                           ticks=lims,\n",
    "                           tick_labels=all_labels,\n",
    "                           fig_size=(17.0*0.09,17.0*0.09),\n",
    "                           labels=labels_,\n",
    "                           scatter_offdiag={'rasterized':True, 'alpha':1.0},\n",
    "                           diag=['kde'],\n",
    "                           upper=['kde'],\n",
    "                           tick_labelpad = 1,\n",
    "                           labelpad=1,\n",
    "                           hist_offdiag={'bins':50})\n",
    "#     plt.savefig(PANEL_B4, facecolor='None', transparent=True)\n",
    "\n",
    "    plt.show()"
   ]
  },
  {
   "cell_type": "code",
   "execution_count": 30,
   "metadata": {},
   "outputs": [
    {
     "data": {
      "image/png": "[encoded data removed]",
      "text/plain": [
       "<Figure size 153x153 with 16 Axes>"
      ]
     },
     "metadata": {},
     "output_type": "display_data"
    }
   ],
   "source": [
    "with mpl.rc_context(fname='../../.matplotlibrc'):\n",
    "    fig, axes = samples_nd(samples=[samples_MAF_27],\n",
    "                           subset=[4, 14, 18, 24],\n",
    "                           limits=lims,\n",
    "                           ticks=lims,\n",
    "                           tick_labels=all_labels,\n",
    "                           fig_size=(17.0*0.09,17.0*0.09),\n",
    "                           labels=labels_,\n",
    "                           scatter_offdiag={'rasterized':True, 'alpha':1.0},\n",
    "                           diag=['kde'],\n",
    "                           upper=['kde'],\n",
    "                           tick_labelpad = 1,\n",
    "                           labelpad=1,\n",
    "                           hist_offdiag={'bins':50})\n",
    "#     plt.savefig(PANEL_B5, facecolor='None', transparent=True)\n",
    "\n",
    "    plt.show()"
   ]
  },
  {
   "cell_type": "markdown",
   "metadata": {},
   "source": [
    "# Panel C: samples from posterior"
   ]
  },
  {
   "cell_type": "code",
   "execution_count": 31,
   "metadata": {},
   "outputs": [],
   "source": [
    "hyperparams = load_setup('collect_samples_15deg_46D')"
   ]
  },
  {
   "cell_type": "code",
   "execution_count": 32,
   "metadata": {},
   "outputs": [],
   "source": [
    "prior_15 = create_prior_general(hyperparams, log=True)\n",
    "dimensions_15 = 46\n",
    "lims_15 = np.asarray([-np.sqrt(3)*np.ones(dimensions_15), np.sqrt(3)*np.ones(dimensions_15)]).T\n",
    "\n",
    "# labels_ = viz.get_labels()\n",
    "# prior_normalized = dd.Uniform(-np.sqrt(3)*np.ones(dimensions_15), np.sqrt(3)*np.ones(dimensions_15), seed=params_15.seed)\n",
    "\n",
    "# params_11 = deepcopy(params_15)\n",
    "\n",
    "params_mean_15 = prior_15.mean.numpy()\n",
    "params_std_15 = prior_15.stddev.numpy()"
   ]
  },
  {
   "cell_type": "markdown",
   "metadata": {},
   "source": [
    "### 11 degree"
   ]
  },
  {
   "cell_type": "code",
   "execution_count": 57,
   "metadata": {},
   "outputs": [],
   "source": [
    "hyperparams['model_params']['temp'] = 283"
   ]
  },
  {
   "cell_type": "code",
   "execution_count": 59,
   "metadata": {},
   "outputs": [
    {
     "name": "stderr",
     "output_type": "stream",
     "text": [
      "/Users/deismic/anaconda3/envs/sbi_prinz/lib/python3.8/site-packages/numpy/core/_asarray.py:83: VisibleDeprecationWarning: Creating an ndarray from ragged nested sequences (which is a list-or-tuple of lists-or-tuples-or ndarrays with different lengths or shapes) is deprecated. If you meant to do this, you must specify 'dtype=object' when creating the ndarray\n",
      "  return array(a, dtype, copy=False, order=order)\n"
     ]
    },
    {
     "data": {
      "image/png": "[encoded data removed]",
      "text/plain": [
       "<Figure size 216x216 with 1 Axes>"
      ]
     },
     "metadata": {},
     "output_type": "display_data"
    },
    {
     "name": "stderr",
     "output_type": "stream",
     "text": [
      "/Users/deismic/anaconda3/envs/sbi_prinz/lib/python3.8/site-packages/numpy/core/_asarray.py:83: VisibleDeprecationWarning: Creating an ndarray from ragged nested sequences (which is a list-or-tuple of lists-or-tuples-or ndarrays with different lengths or shapes) is deprecated. If you meant to do this, you must specify 'dtype=object' when creating the ndarray\n",
      "  return array(a, dtype, copy=False, order=order)\n"
     ]
    },
    {
     "data": {
      "image/png": "[encoded data removed]",
      "text/plain": [
       "<Figure size 216x216 with 1 Axes>"
      ]
     },
     "metadata": {},
     "output_type": "display_data"
    }
   ],
   "source": [
    "num_samples = 2\n",
    "time_len = int(30000 * (t_15[1]- t_15[0]) / 0.025/1e-3)\n",
    "\n",
    "show_xaxis = False\n",
    "counter = 0\n",
    "    \n",
    "for counter in range(num_samples):\n",
    "    params1 = samples_MAF_27[2+counter]\n",
    "    target_params = params1 * params_std_15 + params_mean_15\n",
    "    out_target = simulate_general(deepcopy(target_params), hyperparams, seed=418011) # params.true_params gives the synaptic strengths #  165000\n",
    "    ss = stats(out_target)\n",
    "    \n",
    "    fig, ax = plt.subplots(1,1, figsize=(3,3))\n",
    "    ax = viz.vis_sample_plain(out_target, get_time(), ax, time_len=time_len, offset=20000, col='k')\n",
    "#     if counter == 0: plt.savefig(PANEL_C1, facecolor='None', transparent=True)\n",
    "#     if counter == 1: plt.savefig(PANEL_D1, facecolor='None', transparent=True)\n",
    "    plt.show()"
   ]
  },
  {
   "cell_type": "code",
   "execution_count": 101,
   "metadata": {},
   "outputs": [],
   "source": [
    "hyperparams['model_params']['temp'] = 287"
   ]
  },
  {
   "cell_type": "code",
   "execution_count": 102,
   "metadata": {},
   "outputs": [
    {
     "name": "stderr",
     "output_type": "stream",
     "text": [
      "/Users/deismic/anaconda3/envs/sbi_prinz/lib/python3.8/site-packages/numpy/core/_asarray.py:83: VisibleDeprecationWarning: Creating an ndarray from ragged nested sequences (which is a list-or-tuple of lists-or-tuples-or ndarrays with different lengths or shapes) is deprecated. If you meant to do this, you must specify 'dtype=object' when creating the ndarray\n",
      "  return array(a, dtype, copy=False, order=order)\n"
     ]
    },
    {
     "data": {
      "image/png": "[encoded data removed]",
      "text/plain": [
       "<Figure size 216x216 with 1 Axes>"
      ]
     },
     "metadata": {},
     "output_type": "display_data"
    },
    {
     "name": "stderr",
     "output_type": "stream",
     "text": [
      "/Users/deismic/anaconda3/envs/sbi_prinz/lib/python3.8/site-packages/numpy/core/_asarray.py:83: VisibleDeprecationWarning: Creating an ndarray from ragged nested sequences (which is a list-or-tuple of lists-or-tuples-or ndarrays with different lengths or shapes) is deprecated. If you meant to do this, you must specify 'dtype=object' when creating the ndarray\n",
      "  return array(a, dtype, copy=False, order=order)\n"
     ]
    },
    {
     "data": {
      "image/png": "[encoded data removed]",
      "text/plain": [
       "<Figure size 216x216 with 1 Axes>"
      ]
     },
     "metadata": {},
     "output_type": "display_data"
    }
   ],
   "source": [
    "num_samples = 2\n",
    "time_len = int((end_index-start_index) * (t_15[1]- t_15[0]) / 0.025/1e-3)\n",
    "\n",
    "show_xaxis = False\n",
    "    \n",
    "for counter in range(num_samples):\n",
    "    params1 = samples_MAF_27[2+counter]\n",
    "    if counter == 0: params1 = np.load('../model/parameter_set_used_for_fig6_in_msc_thesis.npz')['params1']\n",
    "    \n",
    "    target_params = params1 * params_std_15 + params_mean_15\n",
    "    out_target = simulate_general(deepcopy(target_params), hyperparams, seed=418011) # params.true_params gives the synaptic strengths #  165000\n",
    "    ss = stats(out_target)\n",
    "    \n",
    "    fig, ax = plt.subplots(1,1, figsize=(3,3))\n",
    "    ax = viz.vis_sample_plain(out_target, get_time(), ax, time_len=time_len, offset=30000, col='k')\n",
    "#     if counter == 0: plt.savefig(PANEL_C2, facecolor='None', transparent=True)\n",
    "#     if counter == 1: plt.savefig(PANEL_D2, facecolor='None', transparent=True)\n",
    "    plt.show()"
   ]
  },
  {
   "cell_type": "code",
   "execution_count": 103,
   "metadata": {},
   "outputs": [],
   "source": [
    "hyperparams['model_params']['temp'] = 291"
   ]
  },
  {
   "cell_type": "code",
   "execution_count": 104,
   "metadata": {},
   "outputs": [
    {
     "name": "stderr",
     "output_type": "stream",
     "text": [
      "/Users/deismic/anaconda3/envs/sbi_prinz/lib/python3.8/site-packages/numpy/core/_asarray.py:83: VisibleDeprecationWarning: Creating an ndarray from ragged nested sequences (which is a list-or-tuple of lists-or-tuples-or ndarrays with different lengths or shapes) is deprecated. If you meant to do this, you must specify 'dtype=object' when creating the ndarray\n",
      "  return array(a, dtype, copy=False, order=order)\n"
     ]
    },
    {
     "data": {
      "image/png": "[encoded data removed]",
      "text/plain": [
       "<Figure size 216x216 with 1 Axes>"
      ]
     },
     "metadata": {},
     "output_type": "display_data"
    },
    {
     "name": "stderr",
     "output_type": "stream",
     "text": [
      "/Users/deismic/anaconda3/envs/sbi_prinz/lib/python3.8/site-packages/numpy/core/_asarray.py:83: VisibleDeprecationWarning: Creating an ndarray from ragged nested sequences (which is a list-or-tuple of lists-or-tuples-or ndarrays with different lengths or shapes) is deprecated. If you meant to do this, you must specify 'dtype=object' when creating the ndarray\n",
      "  return array(a, dtype, copy=False, order=order)\n"
     ]
    },
    {
     "data": {
      "image/png": "[encoded data removed]",
      "text/plain": [
       "<Figure size 216x216 with 1 Axes>"
      ]
     },
     "metadata": {},
     "output_type": "display_data"
    }
   ],
   "source": [
    "num_samples = 2\n",
    "time_len = int((end_index-start_index) * (t_15[1]- t_15[0]) / 0.025/1e-3)\n",
    "\n",
    "show_xaxis = False\n",
    "    \n",
    "for counter in range(num_samples):\n",
    "    params1 = samples_MAF_27[2+counter]\n",
    "    if counter == 0: params1 = np.load('../model/parameter_set_used_for_fig6_in_msc_thesis.npz')['params1']\n",
    "    \n",
    "    target_params = params1 * params_std_15 + params_mean_15\n",
    "    out_target = simulate_general(deepcopy(target_params), hyperparams, seed=418011) # params.true_params gives the synaptic strengths #  165000\n",
    "    \n",
    "    fig, ax = plt.subplots(1,1, figsize=(3,3))\n",
    "    ax = viz.vis_sample_plain(out_target, get_time(), ax, time_len=time_len, offset=20000, col='k')\n",
    "#     if counter == 0: plt.savefig(PANEL_C2, facecolor='None', transparent=True)\n",
    "#     if counter == 1: plt.savefig(PANEL_D2, facecolor='None', transparent=True)\n",
    "    plt.show()"
   ]
  },
  {
   "cell_type": "code",
   "execution_count": 105,
   "metadata": {},
   "outputs": [],
   "source": [
    "hyperparams['model_params']['temp'] = 295"
   ]
  },
  {
   "cell_type": "code",
   "execution_count": 106,
   "metadata": {},
   "outputs": [
    {
     "name": "stderr",
     "output_type": "stream",
     "text": [
      "/Users/deismic/anaconda3/envs/sbi_prinz/lib/python3.8/site-packages/numpy/core/_asarray.py:83: VisibleDeprecationWarning: Creating an ndarray from ragged nested sequences (which is a list-or-tuple of lists-or-tuples-or ndarrays with different lengths or shapes) is deprecated. If you meant to do this, you must specify 'dtype=object' when creating the ndarray\n",
      "  return array(a, dtype, copy=False, order=order)\n"
     ]
    },
    {
     "data": {
      "image/png": "[encoded data removed]",
      "text/plain": [
       "<Figure size 216x216 with 1 Axes>"
      ]
     },
     "metadata": {},
     "output_type": "display_data"
    },
    {
     "name": "stderr",
     "output_type": "stream",
     "text": [
      "/Users/deismic/anaconda3/envs/sbi_prinz/lib/python3.8/site-packages/numpy/core/_asarray.py:83: VisibleDeprecationWarning: Creating an ndarray from ragged nested sequences (which is a list-or-tuple of lists-or-tuples-or ndarrays with different lengths or shapes) is deprecated. If you meant to do this, you must specify 'dtype=object' when creating the ndarray\n",
      "  return array(a, dtype, copy=False, order=order)\n"
     ]
    },
    {
     "data": {
      "image/png": "[encoded data removed]",
      "text/plain": [
       "<Figure size 216x216 with 1 Axes>"
      ]
     },
     "metadata": {},
     "output_type": "display_data"
    }
   ],
   "source": [
    "num_samples = 2\n",
    "time_len = int((end_index-start_index) * (t_15[1]- t_15[0]) / 0.025/1e-3)\n",
    "\n",
    "show_xaxis = False\n",
    "    \n",
    "for counter in range(num_samples):\n",
    "    params1 = samples_MAF_27[2+counter]\n",
    "    if counter == 0: params1 = np.load('../model/parameter_set_used_for_fig6_in_msc_thesis.npz')['params1']\n",
    "    \n",
    "    target_params = params1 * params_std_15 + params_mean_15\n",
    "    out_target = simulate_general(deepcopy(target_params), hyperparams, seed=418011) # params.true_params gives the synaptic strengths #  165000\n",
    "#     ss = summ_stats_11.calc([out_target])[0]\n",
    "#     print('ss', ss)\n",
    "    \n",
    "    fig, ax = plt.subplots(1,1, figsize=(3,3))\n",
    "    ax = viz.vis_sample_plain(out_target, get_time(), ax, time_len=time_len, offset=20000, col='k')\n",
    "#     if counter == 0: plt.savefig(PANEL_C2, facecolor='None', transparent=True)\n",
    "#     if counter == 1: plt.savefig(PANEL_D2, facecolor='None', transparent=True)\n",
    "    plt.show()"
   ]
  },
  {
   "cell_type": "code",
   "execution_count": 107,
   "metadata": {},
   "outputs": [],
   "source": [
    "hyperparams['model_params']['temp'] = 299"
   ]
  },
  {
   "cell_type": "code",
   "execution_count": 108,
   "metadata": {},
   "outputs": [
    {
     "name": "stderr",
     "output_type": "stream",
     "text": [
      "/Users/deismic/anaconda3/envs/sbi_prinz/lib/python3.8/site-packages/numpy/core/_asarray.py:83: VisibleDeprecationWarning: Creating an ndarray from ragged nested sequences (which is a list-or-tuple of lists-or-tuples-or ndarrays with different lengths or shapes) is deprecated. If you meant to do this, you must specify 'dtype=object' when creating the ndarray\n",
      "  return array(a, dtype, copy=False, order=order)\n"
     ]
    },
    {
     "data": {
      "image/png": "[encoded data removed]",
      "text/plain": [
       "<Figure size 216x216 with 1 Axes>"
      ]
     },
     "metadata": {},
     "output_type": "display_data"
    },
    {
     "name": "stderr",
     "output_type": "stream",
     "text": [
      "/Users/deismic/anaconda3/envs/sbi_prinz/lib/python3.8/site-packages/numpy/core/_asarray.py:83: VisibleDeprecationWarning: Creating an ndarray from ragged nested sequences (which is a list-or-tuple of lists-or-tuples-or ndarrays with different lengths or shapes) is deprecated. If you meant to do this, you must specify 'dtype=object' when creating the ndarray\n",
      "  return array(a, dtype, copy=False, order=order)\n"
     ]
    },
    {
     "data": {
      "image/png": "[encoded data removed]",
      "text/plain": [
       "<Figure size 216x216 with 1 Axes>"
      ]
     },
     "metadata": {},
     "output_type": "display_data"
    }
   ],
   "source": [
    "num_samples = 2\n",
    "time_len = int((end_index-start_index) * (t_15[1]- t_15[0]) / 0.025/1e-3)\n",
    "\n",
    "show_xaxis = False\n",
    "    \n",
    "for counter in range(num_samples):\n",
    "    params1 = samples_MAF_27[2+counter]\n",
    "    if counter == 0: params1 = np.load('../model/parameter_set_used_for_fig6_in_msc_thesis.npz')['params1']\n",
    "    \n",
    "    target_params = params1 * params_std_15 + params_mean_15\n",
    "    out_target = simulate_general(deepcopy(target_params), hyperparams, seed=418011) # params.true_params gives the synaptic strengths #  165000\n",
    "    \n",
    "    fig, ax = plt.subplots(1,1, figsize=(3,3))\n",
    "    ax = viz.vis_sample_plain(out_target, get_time(), ax, time_len=time_len, offset=20000, col='k')\n",
    "#     if counter == 0: plt.savefig(PANEL_C2, facecolor='None', transparent=True)\n",
    "#     if counter == 1: plt.savefig(PANEL_D2, facecolor='None', transparent=True)\n",
    "    plt.show()"
   ]
  },
  {
   "cell_type": "markdown",
   "metadata": {},
   "source": [
    "# Panel d"
   ]
  },
  {
   "cell_type": "code",
   "execution_count": 109,
   "metadata": {},
   "outputs": [],
   "source": [
    "all_ss = np.load('../../results/temperature/five_posterior_samples_along_T/samplesAlongTemperature.npz')['all_ss']\n",
    "num_samples = 10\n",
    "temp_vec = np.arange(283,300)"
   ]
  },
  {
   "cell_type": "code",
   "execution_count": 110,
   "metadata": {},
   "outputs": [],
   "source": [
    "all_ss_reshape = np.reshape(all_ss, (num_samples, int(len(all_ss)/num_samples), 19))"
   ]
  },
  {
   "cell_type": "code",
   "execution_count": 111,
   "metadata": {},
   "outputs": [],
   "source": [
    "all_exp_cycles = np.asarray([summstats_experimental_11[0], summstats_experimental_15[0], summstats_experimental_19[0], summstats_experimental_23[0], summstats_experimental_27[0]])\n",
    "all_exp_freqs = 1/all_exp_cycles*1000"
   ]
  },
  {
   "cell_type": "code",
   "execution_count": 113,
   "metadata": {},
   "outputs": [
    {
     "data": {
      "image/png": "[encoded data removed]",
      "text/plain": [
       "<Figure size 270x90 with 1 Axes>"
      ]
     },
     "metadata": {},
     "output_type": "display_data"
    }
   ],
   "source": [
    "figsize = (2.7,0.9)\n",
    "with mpl.rc_context(fname='../../.matplotlibrc'):\n",
    "    fig, ax = plt.subplots(1, 1, figsize=figsize)\n",
    "    for ss in all_ss_reshape[:-5]:\n",
    "        all_cycles = ss[:,0]\n",
    "        all_freqs = 1/all_cycles*1000\n",
    "        ax.plot(temp_vec-272, all_freqs, c=col['CONSISTENT1'], lw=0.8)\n",
    "        ax.scatter(temp_vec-272, all_freqs, color=col['CONSISTENT1'], marker='o', s=10.0)\n",
    "    ax.plot(np.asarray([283,287,291,295,299])-272, all_exp_freqs, c=col['GT'], lw=1.8)\n",
    "    ax.scatter(np.asarray([283,287,291,295,299])-272, all_exp_freqs, color=col['GT'], marker='o', s=40.0, zorder=100)\n",
    "    ax.set_xlabel('Temperature [°C]')\n",
    "    ax.set_ylabel('Cycle freq. [Hz]')\n",
    "    plt.xticks([11,15,19,23,27])\n",
    "    plt.yticks([0.5,1.0,1.5,2.0])\n",
    "    ax.spines['top'].set_visible(False)\n",
    "    ax.spines['right'].set_visible(False)\n",
    "#     plt.savefig(PANEL_X1, facecolor='None', transparent=True)\n",
    "    plt.show()"
   ]
  },
  {
   "cell_type": "code",
   "execution_count": 114,
   "metadata": {},
   "outputs": [],
   "source": [
    "all_experimLP_phases = np.asarray([summstats_experimental_11[13], summstats_experimental_15[13], summstats_experimental_19[13], summstats_experimental_23[13], summstats_experimental_27[13]])"
   ]
  },
  {
   "cell_type": "code",
   "execution_count": 116,
   "metadata": {},
   "outputs": [
    {
     "data": {
      "image/png": "[encoded data removed]",
      "text/plain": [
       "<Figure size 270x90 with 1 Axes>"
      ]
     },
     "metadata": {},
     "output_type": "display_data"
    }
   ],
   "source": [
    "with mpl.rc_context(fname='../../.matplotlibrc'):\n",
    "    fig, ax = plt.subplots(1, 1, figsize=figsize)\n",
    "    for ss in all_ss_reshape[:-5]:\n",
    "        all_LP_phases = ss[:,13]\n",
    "        ax.plot(temp_vec-272, all_LP_phases, c=col['CONSISTENT1'], lw=0.8)\n",
    "        ax.scatter(temp_vec-272, all_LP_phases, color=col['CONSISTENT1'], marker='o', s=10.0)\n",
    "    ax.plot(np.asarray([283,287,291,295,299])-272, all_experimLP_phases, c=col['GT'], lw=1.8)\n",
    "    ax.scatter(np.asarray([283,287,291,295,299])-272, all_experimLP_phases, color=col['GT'], marker='o', s=40.0, zorder=100)\n",
    "    ax.set_xlabel('Temperature [°C]')\n",
    "    ax.set_ylabel('Phase of LP')\n",
    "    ax.set_ylim(0,1)\n",
    "    plt.xticks([11,15,19,23,27])\n",
    "    ax.spines['top'].set_visible(False)\n",
    "    ax.spines['right'].set_visible(False)\n",
    "#     plt.savefig(PANEL_X2, facecolor='None', transparent=True)\n",
    "    plt.show()"
   ]
  },
  {
   "cell_type": "code",
   "execution_count": 117,
   "metadata": {},
   "outputs": [],
   "source": [
    "all_experimPY_phases = np.asarray([summstats_experimental_11[14], summstats_experimental_15[14], summstats_experimental_19[14], summstats_experimental_23[14], summstats_experimental_27[14]])"
   ]
  },
  {
   "cell_type": "code",
   "execution_count": 118,
   "metadata": {},
   "outputs": [
    {
     "data": {
      "image/png": "[encoded data removed]",
      "text/plain": [
       "<Figure size 270x90 with 1 Axes>"
      ]
     },
     "metadata": {},
     "output_type": "display_data"
    }
   ],
   "source": [
    "with mpl.rc_context(fname='../../.matplotlibrc'):\n",
    "    fig, ax = plt.subplots(1, 1, figsize=figsize)\n",
    "    for ss in all_ss_reshape[:-5]:\n",
    "        all_LP_phases = ss[:,14]\n",
    "        ax.plot(temp_vec-272, all_LP_phases, c=col['CONSISTENT1'], lw=0.8)\n",
    "        ax.scatter(temp_vec-272, all_LP_phases, color=col['CONSISTENT1'], marker='o', s=10.0)\n",
    "    ax.plot(np.asarray([283,287,291,295,299])-272, all_experimPY_phases, c=col['GT'], lw=1.8)\n",
    "    ax.scatter(np.asarray([283,287,291,295,299])-272, all_experimPY_phases, color=col['GT'], marker='o', s=40.0, zorder=100)\n",
    "    ax.set_xlabel('Temperature [°C]')\n",
    "    ax.set_ylabel('Phase of PY')\n",
    "    ax.set_ylim(0,1)\n",
    "    plt.xticks([11,15,19,23,27])\n",
    "    ax.spines['top'].set_visible(False)\n",
    "    ax.spines['right'].set_visible(False)\n",
    "#     plt.savefig(PANEL_X3, facecolor='None', transparent=True)\n",
    "    plt.show()"
   ]
  },
  {
   "cell_type": "markdown",
   "metadata": {},
   "source": [
    "# Assemble figure"
   ]
  },
  {
   "cell_type": "code",
   "execution_count": 119,
   "metadata": {},
   "outputs": [],
   "source": [
    "import IPython.display as IPd\n",
    "\n",
    "def svg(img):\n",
    "    IPd.display(IPd.HTML('<img src=\"{}\" / >'.format(img, time.time())))"
   ]
  },
  {
   "cell_type": "code",
   "execution_count": 62,
   "metadata": {},
   "outputs": [
    {
     "data": {
      "text/html": [
       "<img src=\"fig/fig6.svg\" / >"
      ],
      "text/plain": [
       "<IPython.core.display.HTML object>"
      ]
     },
     "metadata": {},
     "output_type": "display_data"
    }
   ],
   "source": [
    "from svgutils.compose import *\n",
    "\n",
    "# > Inkscape pixel is 1/90 of an inch, other software usually uses 1/72.\n",
    "# > http://www.inkscapeforum.com/viewtopic.php?f=6&t=5964\n",
    "svg_scale = 1.25  # set this to 1.25 for Inkscape, 1.0 otherwise\n",
    "factor_svg=5.5\n",
    "\n",
    "# Panel letters in Helvetica Neue, 12pt, Medium\n",
    "kwargs_text = {'size': '12pt', 'font': 'Arial', 'weight': '800'}\n",
    "kwargs_consistent = {'size': '10pt', 'font': 'Arial', 'weight': '500', 'color': '#AF99EF'}\n",
    "kwargs_consistent1 = {'size': '10pt', 'font': 'Arial', 'weight': '500', 'color': '#9E7DD5'}\n",
    "kwargs_inconsistent = {'size': '10pt', 'font': 'Arial', 'weight': '500', 'color': '#D73789'}\n",
    "kwargs_text8pt = {'size': '7.7pt', 'font': 'Arial'}\n",
    "\n",
    "plot_panelA = True\n",
    "plot_panelB = True\n",
    "plot_panelC = False\n",
    "plot_panelD = True\n",
    "plot_panelE = True\n",
    "\n",
    "f = Figure('20.3cm', '13.7cm',\n",
    "\n",
    "           \n",
    "    Panel(\n",
    "          SVG(PANEL_A1).scale(svg_scale).move(0, 15*factor_svg),\n",
    "          Text(\"a\", 0*factor_svg, 15.5*factor_svg, **kwargs_text),\n",
    "        Text(\"11°C\", 10*factor_svg, 16.0*factor_svg, **kwargs_text8pt),\n",
    "    ).move(2*factor_svg, -13.0*factor_svg),\n",
    "\n",
    "    Panel(\n",
    "          SVG(PANEL_A2).scale(svg_scale).move(0, 15*factor_svg),\n",
    "        Text(\"15°C\", 10*factor_svg, 16*factor_svg, **kwargs_text8pt),\n",
    "    ).move(30*factor_svg, -13.5*factor_svg),\n",
    "\n",
    "    Panel(\n",
    "          SVG(PANEL_A3).scale(svg_scale).move(0, 15*factor_svg),\n",
    "        Text(\"19°C\", 10*factor_svg, 16*factor_svg, **kwargs_text8pt),\n",
    "    ).move(58*factor_svg, -13.5*factor_svg),\n",
    "\n",
    "    Panel(\n",
    "          SVG(PANEL_A4).scale(svg_scale).move(0, 15*factor_svg),\n",
    "        Text(\"23°C\", 10*factor_svg, 16*factor_svg, **kwargs_text8pt),\n",
    "    ).move(86*factor_svg, -13.5*factor_svg),\n",
    "\n",
    "    Panel(\n",
    "          SVG(PANEL_A5).scale(svg_scale).move(0, 15*factor_svg),\n",
    "        Text(\"27°C\", 10*factor_svg, 16*factor_svg, **kwargs_text8pt),\n",
    "    ).move(114*factor_svg, -13.5*factor_svg),\n",
    "\n",
    "    Panel(\n",
    "          SVG(PANEL_B1).scale(svg_scale).move(0, 0*factor_svg),\n",
    "          Text(\"b\", 0*factor_svg, 2.5*factor_svg, **kwargs_text),\n",
    "    ).move(0*factor_svg, 23*factor_svg),\n",
    "\n",
    "    Panel(\n",
    "          SVG(PANEL_B2).scale(svg_scale).move(0, 0*factor_svg),\n",
    "    ).move(28*factor_svg, 23*factor_svg),\n",
    "\n",
    "    Panel(\n",
    "          SVG(PANEL_B3).scale(svg_scale).move(0, 0*factor_svg),\n",
    "    ).move(56*factor_svg, 23*factor_svg),\n",
    "\n",
    "    Panel(\n",
    "          SVG(PANEL_B4).scale(svg_scale).move(0, 0*factor_svg),\n",
    "    ).move(84*factor_svg, 23*factor_svg),\n",
    "\n",
    "    Panel(\n",
    "          SVG(PANEL_B5).scale(svg_scale).move(0, 0*factor_svg),\n",
    "    ).move(112*factor_svg, 23*factor_svg),\n",
    "\n",
    "    Panel(\n",
    "          SVG(PANEL_D1).scale(svg_scale).move(0, 0*factor_svg),\n",
    "          Text(\"c\", 0*factor_svg, 2.5*factor_svg, **kwargs_text),\n",
    "    ).move(0*factor_svg, 53*factor_svg),\n",
    "\n",
    "    Panel(\n",
    "          SVG(PANEL_D2).scale(svg_scale).move(0, 0*factor_svg),\n",
    "    ).move(28*factor_svg, 53*factor_svg),\n",
    "\n",
    "    Panel(\n",
    "          SVG(PANEL_D3).scale(svg_scale).move(0, 0*factor_svg),\n",
    "    ).move(56*factor_svg, 53*factor_svg),\n",
    "\n",
    "    Panel(\n",
    "          SVG(PANEL_D4).scale(svg_scale).move(0, 0*factor_svg),\n",
    "    ).move(84*factor_svg, 53*factor_svg),\n",
    "\n",
    "    Panel(\n",
    "          SVG(PANEL_D5).scale(svg_scale).move(0, 0*factor_svg),\n",
    "    ).move(112*factor_svg, 53*factor_svg),\n",
    "           \n",
    "    \n",
    "    #Panel(\n",
    "    #      SVG(PANEL_D1).scale(svg_scale).move(0, 0*factor_svg),\n",
    "    #).move(0*factor_svg, 88*factor_svg),\n",
    "\n",
    "    #Panel(\n",
    "    #      SVG(PANEL_D2).scale(svg_scale).move(0, 0*factor_svg),\n",
    "    #).move(28*factor_svg, 88*factor_svg),\n",
    "\n",
    "    #Panel(\n",
    "    #      SVG(PANEL_D3).scale(svg_scale).move(0, 0*factor_svg),\n",
    "    #).move(56*factor_svg, 88*factor_svg),\n",
    "\n",
    "    #Panel(\n",
    "    #      SVG(PANEL_D4).scale(svg_scale).move(0, 0*factor_svg),\n",
    "    #).move(84*factor_svg, 88*factor_svg),\n",
    "\n",
    "    #Panel(\n",
    "    #      SVG(PANEL_D5).scale(svg_scale).move(0, 0*factor_svg),\n",
    "    #).move(112*factor_svg, 88*factor_svg),\n",
    "           \n",
    "    Panel(\n",
    "          SVG(PANEL_X1).scale(svg_scale).move(0, 15*factor_svg),\n",
    "        Text(\"d\", 0*factor_svg, 15.0*factor_svg, **kwargs_text),\n",
    "    ).move(0*factor_svg, 59*factor_svg),\n",
    "\n",
    "    Panel(\n",
    "          SVG(PANEL_X2).scale(svg_scale).move(0, 15*factor_svg),\n",
    "    ).move(47*factor_svg, 59*factor_svg),\n",
    "\n",
    "    Panel(\n",
    "          SVG(PANEL_X3).scale(svg_scale).move(0, 15*factor_svg),\n",
    "    ).move(94*factor_svg, 59*factor_svg),\n",
    ")\n",
    "\n",
    "!mkdir -p fig\n",
    "f.save(\"fig/fig6.svg\")\n",
    "svg('fig/fig6.svg')"
   ]
  },
  {
   "cell_type": "code",
   "execution_count": null,
   "metadata": {},
   "outputs": [],
   "source": [
    "from svgutils.compose import *\n",
    "\n",
    "# > Inkscape pixel is 1/90 of an inch, other software usually uses 1/72.\n",
    "# > http://www.inkscapeforum.com/viewtopic.php?f=6&t=5964\n",
    "svg_scale = 1.25  # set this to 1.25 for Inkscape, 1.0 otherwise\n",
    "factor_svg=5.5\n",
    "\n",
    "# Panel letters in Helvetica Neue, 12pt, Medium\n",
    "kwargs_text = {'size': '12pt', 'font': 'Arial', 'weight': '800'}\n",
    "kwargs_consistent = {'size': '10pt', 'font': 'Arial', 'weight': '500', 'color': '#AF99EF'}\n",
    "kwargs_consistent1 = {'size': '10pt', 'font': 'Arial', 'weight': '500', 'color': '#9E7DD5'}\n",
    "kwargs_inconsistent = {'size': '10pt', 'font': 'Arial', 'weight': '500', 'color': '#D73789'}\n",
    "kwargs_text8pt = {'size': '7.7pt', 'font': 'Arial'}\n",
    "\n",
    "plot_panelA = True\n",
    "plot_panelB = True\n",
    "plot_panelC = False\n",
    "plot_panelD = True\n",
    "plot_panelE = True\n",
    "\n",
    "f = Figure('20.3cm', '13.7cm',\n",
    "\n",
    "           \n",
    "    Panel(\n",
    "          SVG(PANEL_A1).scale(svg_scale).move(0, 15*factor_svg),\n",
    "          Text(\"a\", 0*factor_svg, 15.5*factor_svg, **kwargs_text),\n",
    "        Text(\"11°C\", 10*factor_svg, 16.0*factor_svg, **kwargs_text8pt),\n",
    "    ).move(2*factor_svg, -13.0*factor_svg),\n",
    "\n",
    "    Panel(\n",
    "          SVG(PANEL_A2).scale(svg_scale).move(0, 15*factor_svg),\n",
    "        Text(\"15°C\", 10*factor_svg, 16*factor_svg, **kwargs_text8pt),\n",
    "    ).move(30*factor_svg, -13.5*factor_svg),\n",
    "\n",
    "    Panel(\n",
    "          SVG(PANEL_A3).scale(svg_scale).move(0, 15*factor_svg),\n",
    "        Text(\"19°C\", 10*factor_svg, 16*factor_svg, **kwargs_text8pt),\n",
    "    ).move(58*factor_svg, -13.5*factor_svg),\n",
    "\n",
    "    Panel(\n",
    "          SVG(PANEL_A4).scale(svg_scale).move(0, 15*factor_svg),\n",
    "        Text(\"23°C\", 10*factor_svg, 16*factor_svg, **kwargs_text8pt),\n",
    "    ).move(86*factor_svg, -13.5*factor_svg),\n",
    "\n",
    "    Panel(\n",
    "          SVG(PANEL_A5).scale(svg_scale).move(0, 15*factor_svg),\n",
    "        Text(\"27°C\", 10*factor_svg, 16*factor_svg, **kwargs_text8pt),\n",
    "    ).move(114*factor_svg, -13.5*factor_svg),\n",
    "\n",
    "    Panel(\n",
    "          SVG(PANEL_B1).scale(svg_scale).move(0, 0*factor_svg),\n",
    "          Text(\"b\", 0*factor_svg, 0.5*factor_svg, **kwargs_text),\n",
    "        Text(\"11°C\", 11*factor_svg, 0.5*factor_svg, **kwargs_text8pt),\n",
    "    ).move(0*factor_svg, 25*factor_svg),\n",
    "\n",
    "    Panel(\n",
    "          SVG(PANEL_B2).scale(svg_scale).move(0, 0*factor_svg),\n",
    "        Text(\"11°C+15°C\", 9*factor_svg, 0.5*factor_svg, **kwargs_text8pt),\n",
    "    ).move(27.75*factor_svg, 25*factor_svg),\n",
    "\n",
    "    Panel(\n",
    "          SVG(PANEL_B3).scale(svg_scale).move(0, 0*factor_svg),\n",
    "        Text(\"11°C+15°C+19°C\", 7*factor_svg, 0.5*factor_svg, **kwargs_text8pt),\n",
    "    ).move(55.5*factor_svg, 25*factor_svg),\n",
    "\n",
    "    Panel(\n",
    "          SVG(PANEL_B4).scale(svg_scale).move(0, 0*factor_svg),\n",
    "        Text(\"11°C+15°C+19°C+23°C\", 5*factor_svg, 0.5*factor_svg, **kwargs_text8pt),\n",
    "    ).move(83.25*factor_svg, 25*factor_svg),\n",
    "\n",
    "    Panel(\n",
    "          SVG(PANEL_B5).scale(svg_scale).move(0, 0*factor_svg),\n",
    "        Text(\"11°C+15°C+19°C+23°C+27°C\", 3*factor_svg, 0.5*factor_svg, **kwargs_text8pt),\n",
    "    ).move(111*factor_svg, 25*factor_svg),\n",
    "\n",
    "    Panel(\n",
    "          SVG(PANEL_D1).scale(svg_scale).move(0, 0*factor_svg),\n",
    "          Text(\"c\", 0*factor_svg, 2.5*factor_svg, **kwargs_text),\n",
    "    ).move(0*factor_svg, 53*factor_svg),\n",
    "\n",
    "    Panel(\n",
    "          SVG(PANEL_D2).scale(svg_scale).move(0, 0*factor_svg),\n",
    "    ).move(28*factor_svg, 53*factor_svg),\n",
    "\n",
    "    Panel(\n",
    "          SVG(PANEL_D3).scale(svg_scale).move(0, 0*factor_svg),\n",
    "    ).move(56*factor_svg, 53*factor_svg),\n",
    "\n",
    "    Panel(\n",
    "          SVG(PANEL_D4).scale(svg_scale).move(0, 0*factor_svg),\n",
    "    ).move(84*factor_svg, 53*factor_svg),\n",
    "\n",
    "    Panel(\n",
    "          SVG(PANEL_D5).scale(svg_scale).move(0, 0*factor_svg),\n",
    "    ).move(112*factor_svg, 53*factor_svg),\n",
    "           \n",
    "    \n",
    "    #Panel(\n",
    "    #      SVG(PANEL_D1).scale(svg_scale).move(0, 0*factor_svg),\n",
    "    #).move(0*factor_svg, 88*factor_svg),\n",
    "\n",
    "    #Panel(\n",
    "    #      SVG(PANEL_D2).scale(svg_scale).move(0, 0*factor_svg),\n",
    "    #).move(28*factor_svg, 88*factor_svg),\n",
    "\n",
    "    #Panel(\n",
    "    #      SVG(PANEL_D3).scale(svg_scale).move(0, 0*factor_svg),\n",
    "    #).move(56*factor_svg, 88*factor_svg),\n",
    "\n",
    "    #Panel(\n",
    "    #      SVG(PANEL_D4).scale(svg_scale).move(0, 0*factor_svg),\n",
    "    #).move(84*factor_svg, 88*factor_svg),\n",
    "\n",
    "    #Panel(\n",
    "    #      SVG(PANEL_D5).scale(svg_scale).move(0, 0*factor_svg),\n",
    "    #).move(112*factor_svg, 88*factor_svg),\n",
    "           \n",
    "    Panel(\n",
    "          SVG(PANEL_X1).scale(svg_scale).move(0, 15*factor_svg),\n",
    "        Text(\"d\", 0*factor_svg, 15.0*factor_svg, **kwargs_text),\n",
    "    ).move(0*factor_svg, 59*factor_svg),\n",
    "\n",
    "    Panel(\n",
    "          SVG(PANEL_X2).scale(svg_scale).move(0, 15*factor_svg),\n",
    "    ).move(47*factor_svg, 59*factor_svg),\n",
    "\n",
    "    Panel(\n",
    "          SVG(PANEL_X3).scale(svg_scale).move(0, 15*factor_svg),\n",
    "    ).move(94*factor_svg, 59*factor_svg),\n",
    ")\n",
    "\n",
    "!mkdir -p fig\n",
    "f.save(\"fig/fig6.svg\")\n",
    "svg('fig/fig6.svg')"
   ]
  },
  {
   "cell_type": "code",
   "execution_count": null,
   "metadata": {},
   "outputs": [],
   "source": []
  }
 ],
 "metadata": {
  "kernelspec": {
   "display_name": "sbi_prinz",
   "language": "python",
   "name": "sbi_prinz"
  },
  "language_info": {
   "codemirror_mode": {
    "name": "ipython",
    "version": 3
   },
   "file_extension": ".py",
   "mimetype": "text/x-python",
   "name": "python",
   "nbconvert_exporter": "python",
   "pygments_lexer": "ipython3",
   "version": "3.8.5"
  }
 },
 "nbformat": 4,
 "nbformat_minor": 4
}
