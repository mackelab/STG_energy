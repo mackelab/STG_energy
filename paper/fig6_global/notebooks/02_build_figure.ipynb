{
 "cells": [
  {
   "cell_type": "code",
   "execution_count": 29,
   "metadata": {},
   "outputs": [],
   "source": [
    "import time\n",
    "from copy import deepcopy\n",
    "\n",
    "import matplotlib as mpl\n",
    "import matplotlib.pylab as plt\n",
    "import numpy as np\n",
    "\n",
    "import stg_energy.fig6_global.viz as viz\n",
    "from stg_energy.common import col, samples_nd, svg\n",
    "from stg_energy.fig5_cc.energy import check_if_close_to_obs\n",
    "\n",
    "from pyloric.sbi_wrapper import simulate, stats"
   ]
  },
  {
   "cell_type": "markdown",
   "metadata": {},
   "source": [
    "# Figure 6"
   ]
  },
  {
   "cell_type": "code",
   "execution_count": 8,
   "metadata": {},
   "outputs": [
    {
     "name": "stdout",
     "output_type": "stream",
     "text": [
      "The autoreload extension is already loaded. To reload it, use:\n",
      "  %reload_ext autoreload\n"
     ]
    }
   ],
   "source": [
    "%load_ext autoreload\n",
    "%autoreload 2"
   ]
  },
  {
   "cell_type": "code",
   "execution_count": 9,
   "metadata": {},
   "outputs": [
    {
     "name": "stdout",
     "output_type": "stream",
     "text": [
      "There are 55043 datapoints in this dataset\n"
     ]
    }
   ],
   "source": [
    "data_n = np.load(\"../../results/11deg_post_pred/11_deg_post_pred_close_to_obs.npz\")\n",
    "sample_seeds = data_n[\"sample_seeds\"]\n",
    "sample_params = data_n[\"sample_params\"]\n",
    "sample_stats = data_n[\"sample_stats\"]\n",
    "print(\"There are\", len(sample_seeds), \"datapoints in this dataset\")"
   ]
  },
  {
   "cell_type": "code",
   "execution_count": 10,
   "metadata": {},
   "outputs": [],
   "source": [
    "datafile = \"../../results/prior_samples_after_classifier/samples_full_3.npz\"\n",
    "data = np.load(datafile)\n",
    "\n",
    "params = data[\"params\"]\n",
    "stats = data[\"stats\"]\n",
    "seeds = data[\"seeds\"]\n",
    "\n",
    "stats_mean = np.mean(stats, axis=0)\n",
    "stats_std = np.std(stats, axis=0)"
   ]
  },
  {
   "cell_type": "code",
   "execution_count": 11,
   "metadata": {},
   "outputs": [
    {
     "name": "stdout",
     "output_type": "stream",
     "text": [
      "(98,)\n"
     ]
    }
   ],
   "source": [
    "max_energy_allowed = 1367000\n",
    "energies = sample_stats[:, 21:24]\n",
    "summed_energies = np.sum(energies, axis=1)\n",
    "sample_params_total = sample_params[summed_energies < max_energy_allowed]\n",
    "sample_stats_total = sample_stats[summed_energies < max_energy_allowed]\n",
    "sample_seeds_total = sample_seeds[summed_energies < max_energy_allowed]\n",
    "print(sample_seeds_total.shape)"
   ]
  },
  {
   "cell_type": "code",
   "execution_count": 12,
   "metadata": {},
   "outputs": [],
   "source": [
    "energies_all_ABPD = sample_stats_total[:, 21]\n",
    "energies_all_LP = sample_stats_total[:, 22]\n",
    "energies_all_PY = sample_stats_total[:, 23]\n",
    "energies_all_total = np.sum(sample_stats_total[:, 21:24], axis=1)"
   ]
  },
  {
   "cell_type": "code",
   "execution_count": 13,
   "metadata": {},
   "outputs": [],
   "source": [
    "energies_all_ABPD = sample_stats[:, 21]\n",
    "energies_all_LP = sample_stats[:, 22]\n",
    "energies_all_PY = sample_stats[:, 23]\n",
    "energies_all_total = np.sum(sample_stats[:, 21:24], axis=1)"
   ]
  },
  {
   "cell_type": "markdown",
   "metadata": {},
   "source": [
    "### Extract lowest energies for AB/PD"
   ]
  },
  {
   "cell_type": "code",
   "execution_count": 14,
   "metadata": {},
   "outputs": [],
   "source": [
    "sample_seeds = data_n[\"sample_seeds\"]\n",
    "sample_params = data_n[\"sample_params\"]\n",
    "sample_stats = data_n[\"sample_stats\"]"
   ]
  },
  {
   "cell_type": "code",
   "execution_count": 15,
   "metadata": {},
   "outputs": [
    {
     "data": {
      "text/plain": [
       "(100,)"
      ]
     },
     "execution_count": 15,
     "metadata": {},
     "output_type": "execute_result"
    }
   ],
   "source": [
    "max_energy_allowed = 136900\n",
    "energies = sample_stats[:, 21:24]\n",
    "summed_energies = energies[:, 0]\n",
    "sample_params_ABPD = sample_params[summed_energies < max_energy_allowed]\n",
    "sample_stats_ABPD = sample_stats[summed_energies < max_energy_allowed]\n",
    "sample_seeds_ABPD = sample_seeds[summed_energies < max_energy_allowed]\n",
    "sample_seeds_ABPD.shape"
   ]
  },
  {
   "cell_type": "code",
   "execution_count": 16,
   "metadata": {},
   "outputs": [],
   "source": [
    "energies_ABPD_ABPD = sample_stats_ABPD[:, 21]\n",
    "energies_ABPD_LP = sample_stats_ABPD[:, 22]\n",
    "energies_ABPD_PY = sample_stats_ABPD[:, 23]\n",
    "energies_ABPD_total = np.sum(sample_stats_ABPD[:, 21:24], axis=1)"
   ]
  },
  {
   "cell_type": "markdown",
   "metadata": {},
   "source": [
    "### Lowest LP"
   ]
  },
  {
   "cell_type": "code",
   "execution_count": 17,
   "metadata": {},
   "outputs": [],
   "source": [
    "sample_seeds = data_n[\"sample_seeds\"]\n",
    "sample_params = data_n[\"sample_params\"]\n",
    "sample_stats = data_n[\"sample_stats\"]"
   ]
  },
  {
   "cell_type": "code",
   "execution_count": 18,
   "metadata": {},
   "outputs": [
    {
     "data": {
      "text/plain": [
       "(99,)"
      ]
     },
     "execution_count": 18,
     "metadata": {},
     "output_type": "execute_result"
    }
   ],
   "source": [
    "max_energy_allowed = 102100\n",
    "energies = sample_stats[:, 21:24]\n",
    "summed_energies = energies[:, 1]\n",
    "sample_params_LP = sample_params[summed_energies < max_energy_allowed]\n",
    "sample_stats_LP = sample_stats[summed_energies < max_energy_allowed]\n",
    "sample_seeds_LP = sample_seeds[summed_energies < max_energy_allowed]\n",
    "sample_seeds_LP.shape"
   ]
  },
  {
   "cell_type": "code",
   "execution_count": 19,
   "metadata": {},
   "outputs": [],
   "source": [
    "energies_LP_ABPD = sample_stats_LP[:, 21]\n",
    "energies_LP_LP = sample_stats_LP[:, 22]\n",
    "energies_LP_PY = sample_stats_LP[:, 23]\n",
    "energies_LP_total = np.sum(sample_stats_LP[:, 21:24], axis=1)"
   ]
  },
  {
   "cell_type": "markdown",
   "metadata": {},
   "source": [
    "### Lowest PY energies"
   ]
  },
  {
   "cell_type": "code",
   "execution_count": 20,
   "metadata": {},
   "outputs": [],
   "source": [
    "sample_seeds = data_n[\"sample_seeds\"]\n",
    "sample_params = data_n[\"sample_params\"]\n",
    "sample_stats = data_n[\"sample_stats\"]"
   ]
  },
  {
   "cell_type": "code",
   "execution_count": 21,
   "metadata": {},
   "outputs": [
    {
     "data": {
      "text/plain": [
       "(99,)"
      ]
     },
     "execution_count": 21,
     "metadata": {},
     "output_type": "execute_result"
    }
   ],
   "source": [
    "max_energy_allowed = 392000\n",
    "energies = sample_stats[:, 21:24]\n",
    "summed_energies = energies[:, 2]\n",
    "sample_params_PY = sample_params[summed_energies < max_energy_allowed]\n",
    "sample_stats_PY = sample_stats[summed_energies < max_energy_allowed]\n",
    "sample_seeds_PY = sample_seeds[summed_energies < max_energy_allowed]\n",
    "sample_seeds_PY.shape"
   ]
  },
  {
   "cell_type": "code",
   "execution_count": 22,
   "metadata": {},
   "outputs": [],
   "source": [
    "energies_PY_ABPD = sample_stats_PY[:, 21]\n",
    "energies_PY_LP = sample_stats_PY[:, 22]\n",
    "energies_PY_PY = sample_stats_PY[:, 23]\n",
    "energies_PY_total = np.sum(sample_stats_PY[:, 21:24], axis=1)"
   ]
  },
  {
   "cell_type": "markdown",
   "metadata": {},
   "source": [
    "### Test for statistical independence"
   ]
  },
  {
   "cell_type": "code",
   "execution_count": 23,
   "metadata": {},
   "outputs": [
    {
     "data": {
      "text/plain": [
       "0.008336510184628134"
      ]
     },
     "execution_count": 23,
     "metadata": {},
     "output_type": "execute_result"
    }
   ],
   "source": [
    "np.corrcoef(energies[:1000,0], energies[:1000,2])[0,1]"
   ]
  },
  {
   "cell_type": "code",
   "execution_count": 24,
   "metadata": {},
   "outputs": [
    {
     "data": {
      "text/plain": [
       "0.02893844625324265"
      ]
     },
     "execution_count": 24,
     "metadata": {},
     "output_type": "execute_result"
    }
   ],
   "source": [
    "np.corrcoef(energies[:1000,1], energies[:1000,2])[0,1]"
   ]
  },
  {
   "cell_type": "code",
   "execution_count": 25,
   "metadata": {},
   "outputs": [
    {
     "data": {
      "text/plain": [
       "<matplotlib.collections.PathCollection at 0x7f0af5d64b80>"
      ]
     },
     "execution_count": 25,
     "metadata": {},
     "output_type": "execute_result"
    },
    {
     "data": {
      "image/png": "[encoded data removed]",
      "text/plain": [
       "<Figure size 432x288 with 1 Axes>"
      ]
     },
     "metadata": {
      "needs_background": "light"
     },
     "output_type": "display_data"
    }
   ],
   "source": [
    "plt.scatter(energies[:1000,1], energies[:1000,2])"
   ]
  },
  {
   "cell_type": "markdown",
   "metadata": {},
   "source": [
    "### Boxplot"
   ]
  },
  {
   "cell_type": "code",
   "execution_count": 26,
   "metadata": {},
   "outputs": [],
   "source": [
    "a = np.asarray([1, 2, 3, 4])\n",
    "positions = np.concatenate((a, a+6, a+12, a+18))"
   ]
  },
  {
   "cell_type": "code",
   "execution_count": 27,
   "metadata": {},
   "outputs": [
    {
     "data": {
      "text/plain": [
       "[Text(2.5, 0, 'All posterior samples'),\n",
       " Text(8.5, 0, 'AB/PD Efficient'),\n",
       " Text(14.5, 0, 'LP Efficient'),\n",
       " Text(20.5, 0, 'PY Efficient')]"
      ]
     },
     "execution_count": 27,
     "metadata": {},
     "output_type": "execute_result"
    },
    {
     "data": {
      "image/png": "[encoded data removed]",
      "text/plain": [
       "<Figure size 1080x216 with 1 Axes>"
      ]
     },
     "metadata": {
      "needs_background": "light"
     },
     "output_type": "display_data"
    }
   ],
   "source": [
    "fig, ax = plt.subplots(1, 1, figsize = (15, 3))\n",
    "\n",
    "box1 = ax.boxplot([energies_all_ABPD, energies_all_LP, energies_all_PY, energies_all_total,\n",
    "                    energies_ABPD_ABPD, energies_ABPD_LP, energies_ABPD_PY, energies_ABPD_total,\n",
    "                    energies_LP_ABPD, energies_LP_LP, energies_LP_PY, energies_LP_total, \n",
    "                    energies_PY_ABPD, energies_PY_LP, energies_PY_PY, energies_PY_total, ], positions=positions, patch_artist=True)\n",
    "\n",
    "cols = ['b', 'orange', 'g', 'k', 'b', 'orange', 'g', 'k', 'b', 'orange', 'g', 'k', 'b', 'orange', 'g', 'k']\n",
    "\n",
    "for i, patch in enumerate(box1['boxes']):\n",
    "    patch.set(facecolor=cols[i])\n",
    "\n",
    "ax.axhline(np.min(energies_all_total), linestyle='--', color='grey')\n",
    "\n",
    "_ = ax.set_ylabel('Energy')\n",
    "ax.spines['top'].set_visible(False)\n",
    "ax.spines['right'].set_visible(False)\n",
    "\n",
    "ax.set_xticks([2.5, 8.5, 14.5, 20.5])\n",
    "ax.set_xticklabels(['All posterior samples', 'AB/PD Efficient', 'LP Efficient', 'PY Efficient'])"
   ]
  },
  {
   "cell_type": "markdown",
   "metadata": {},
   "source": [
    "### Add the ones that were build by independent composition"
   ]
  },
  {
   "cell_type": "code",
   "execution_count": 32,
   "metadata": {},
   "outputs": [],
   "source": [
    "npz = np.load(\"../../results/experimental_data/summstats_prep845_082_0044.npz\")\n",
    "observation = npz[\"summ_stats\"]"
   ]
  },
  {
   "cell_type": "code",
   "execution_count": 41,
   "metadata": {},
   "outputs": [
    {
     "name": "stdout",
     "output_type": "stream",
     "text": [
      "all_counter 0\n",
      "all_counter 50\n"
     ]
    },
    {
     "name": "stderr",
     "output_type": "stream",
     "text": [
      "/home/michael/anaconda3/envs/sbi_prinz/lib/python3.8/site-packages/numpy/core/fromnumeric.py:3372: RuntimeWarning: Mean of empty slice.\n",
      "  return _methods._mean(a, axis=axis, dtype=dtype,\n",
      "/home/michael/anaconda3/envs/sbi_prinz/lib/python3.8/site-packages/numpy/core/_methods.py:170: RuntimeWarning: invalid value encountered in double_scalars\n",
      "  ret = ret.dtype.type(ret / rcount)\n",
      "/home/michael/anaconda3/envs/sbi_prinz/lib/python3.8/site-packages/numpy/lib/function_base.py:380: RuntimeWarning: Mean of empty slice.\n",
      "  avg = a.mean(axis)\n"
     ]
    }
   ],
   "source": [
    "all_targets = []\n",
    "all_counter = 0\n",
    "offsets = [150000, 95000, 100000, 100000, 100000, 100000, 100000, 40000, 40000, 40000, 40000, 40000, 40000]\n",
    "scale_bar_ = [False, False]\n",
    "\n",
    "good_ss = []\n",
    "all_good_energies = []\n",
    "all_good_energies_ABPD = []\n",
    "all_good_energies_LP = []\n",
    "all_good_energies_PY = []\n",
    "\n",
    "perfect_params = []\n",
    "perfect_ss = []\n",
    "\n",
    "perfect_params_times5 = []\n",
    "perfect_ss_times5 = []\n",
    "\n",
    "for _ in range(100):\n",
    "    ABPD_index = np.random.randint(0, 99, 1)[0] # 99 cause 99 lowest energy samples\n",
    "    LP_index   = np.random.randint(0, 99, 1)[0] # 99 cause 99 lowest energy samples\n",
    "    PY_index   = np.random.randint(0, 99, 1)[0] # 99 cause 99 lowest energy samples\n",
    "    \n",
    "    syn_index = np.random.randint(0, 3, 1)\n",
    "    \n",
    "    if syn_index[0] == 0:\n",
    "        syn_params = sample_params_ABPD[ABPD_index, 24:]\n",
    "    if syn_index[0] == 1:\n",
    "        syn_params = sample_params_LP[LP_index, 24:]\n",
    "    if syn_index[0] == 2:\n",
    "        syn_params = sample_params_PY[PY_index, 24:]\n",
    "        \n",
    "    comb_params = np.concatenate((sample_params_ABPD[ABPD_index, :8], sample_params_LP[LP_index, 8:16], sample_params_PY[PY_index, 16:24], syn_params))\n",
    "    \n",
    "    target_params = deepcopy(comb_params)\n",
    "    if all_counter % 50 == 0: print('all_counter', all_counter)\n",
    "\n",
    "    out_target = simulate(deepcopy(target_params), seed=0) # params.true_params gives the synaptic strengths  # 165000    \n",
    "    \n",
    "    ss = stats(out_target)\n",
    "    \n",
    "    if np.invert(np.any(np.isnan(ss))):\n",
    "        all_good_energies_ABPD.append(np.sum(out_target['energy'], axis=1)[0])\n",
    "        all_good_energies_LP.append(np.sum(out_target['energy'], axis=1)[1])\n",
    "        all_good_energies_PY.append(np.sum(out_target['energy'], axis=1)[2])\n",
    "        all_good_energies.append(np.sum(out_target['energy']))\n",
    "        good_ss.append(ss)\n",
    "        \n",
    "        num_std = np.asarray([0.02, 0.02, 0.02, 0.02, 0.2, 0.2, 0.2, 0.2, 0.2, 0.2, 0.2, 0.2, 0.2, 0.2, 0.2])\n",
    "        response = check_if_close_to_obs(ss, observation, num_std, stats_std=stats_std)\n",
    "        if response:\n",
    "            perfect_params.append(target_params)\n",
    "            perfect_ss.append(ss)\n",
    "            \n",
    "        num_std = np.asarray([0.02, 0.02, 0.02, 0.02, 0.2, 0.2, 0.2, 0.2, 0.2, 0.2, 0.2, 0.2, 0.2, 0.2, 0.2])*5\n",
    "        response = check_if_close_to_obs(ss, observation, num_std, stats_std=stats_std)\n",
    "        if response:\n",
    "            perfect_params_times5.append(target_params)\n",
    "            perfect_ss_times5.append(ss)\n",
    "        \n",
    "    all_counter += 1\n",
    "    \n",
    "good_ss = np.asarray(good_ss)\n",
    "perfect_params = np.asarray(perfect_params)\n",
    "perfect_ss = np.asarray(perfect_ss)\n",
    "perfect_params_times5 = np.asarray(perfect_params_times10)\n",
    "perfect_ss_times5 = np.asarray(perfect_ss_times10)"
   ]
  },
  {
   "cell_type": "code",
   "execution_count": 42,
   "metadata": {},
   "outputs": [
    {
     "data": {
      "text/plain": [
       "[Text(2.5, 0, 'Overall Efficient'),\n",
       " Text(8.5, 0, 'AB/PD Efficient'),\n",
       " Text(14.5, 0, 'LP Efficient'),\n",
       " Text(20.5, 0, 'PY Efficient'),\n",
       " Text(26.5, 0, 'Composition')]"
      ]
     },
     "execution_count": 42,
     "metadata": {},
     "output_type": "execute_result"
    },
    {
     "data": {
      "image/png": "[encoded data removed]",
      "text/plain": [
       "<Figure size 1080x360 with 1 Axes>"
      ]
     },
     "metadata": {
      "needs_background": "light"
     },
     "output_type": "display_data"
    }
   ],
   "source": [
    "fig, ax = plt.subplots(1, 1, figsize = (15, 5))\n",
    "\n",
    "a = np.asarray([1, 2, 3, 4])\n",
    "positions = np.concatenate((a, a+6, a+12, a+18, a+24))\n",
    "\n",
    "box1 = ax.boxplot([energies_all_ABPD, energies_all_LP, energies_all_PY, energies_all_total,\n",
    "                    energies_ABPD_ABPD, energies_ABPD_LP, energies_ABPD_PY, energies_ABPD_total,\n",
    "                    energies_LP_ABPD, energies_LP_LP, energies_LP_PY, energies_LP_total, \n",
    "                    energies_PY_ABPD, energies_PY_LP, energies_PY_PY, energies_PY_total,\n",
    "                    all_good_energies_ABPD, all_good_energies_LP, all_good_energies_PY, all_good_energies,], positions=positions, patch_artist=True)\n",
    "\n",
    "cols = ['b', 'orange', 'g', 'k', 'b', 'orange', 'g', 'k', 'b', 'orange', 'g', 'k', 'b', 'orange', 'g', 'k', 'b', 'orange', 'g', 'k']\n",
    "\n",
    "for i, patch in enumerate(box1['boxes']):\n",
    "    patch.set(facecolor=cols[i])\n",
    "\n",
    "ax.axhline(np.min(energies_all_total), linestyle='--', color='grey')\n",
    "\n",
    "_ = ax.set_ylabel('Energy')\n",
    "ax.spines['top'].set_visible(False)\n",
    "ax.spines['right'].set_visible(False)\n",
    "\n",
    "ax.set_xticks([2.5, 8.5, 14.5, 20.5, 26.5])\n",
    "ax.set_xticklabels(['Overall Efficient', 'AB/PD Efficient', 'LP Efficient', 'PY Efficient', 'Composition'])"
   ]
  },
  {
   "cell_type": "code",
   "execution_count": null,
   "metadata": {},
   "outputs": [],
   "source": []
  }
 ],
 "metadata": {
  "kernelspec": {
   "display_name": "sbi_prinz",
   "language": "python",
   "name": "sbi_prinz"
  },
  "language_info": {
   "codemirror_mode": {
    "name": "ipython",
    "version": 3
   },
   "file_extension": ".py",
   "mimetype": "text/x-python",
   "name": "python",
   "nbconvert_exporter": "python",
   "pygments_lexer": "ipython3",
   "version": "3.8.5"
  }
 },
 "nbformat": 4,
 "nbformat_minor": 4
}
