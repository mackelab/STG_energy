{
 "cells": [
  {
   "cell_type": "code",
   "execution_count": 495,
   "metadata": {},
   "outputs": [],
   "source": [
    "import time\n",
    "from copy import deepcopy\n",
    "\n",
    "import dill as pickle\n",
    "import IPython.display as IPd\n",
    "import matplotlib as mpl\n",
    "import matplotlib.colors as mcolors\n",
    "import matplotlib.patheffects as pe\n",
    "import matplotlib.pylab as plt\n",
    "import numpy as np\n",
    "import torch\n",
    "from matplotlib.ticker import FormatStrFormatter\n",
    "\n",
    "import stg_energy.fig5_cc.energy as ue\n",
    "import stg_energy.fig5_cc.helpers as helpers\n",
    "import stg_energy.fig5_cc.viz as viz\n",
    "from stg_energy.fig3_active_subspaces.viz import energy_scape\n",
    "from pyloric import create_prior\n",
    "from pyloric import simulate\n",
    "from stg_energy.common import col, get_labels_8pt\n",
    "from stg_energy.fig5_cc.conditional_density import (\n",
    "    buildCondCovMatrix,\n",
    "    conditional_correlation,\n",
    "    conditional_mutual_information,\n",
    "    eval_conditional_density,\n",
    "    partialCorrelation,\n",
    ")"
   ]
  },
  {
   "cell_type": "markdown",
   "metadata": {},
   "source": [
    "# Figure 5"
   ]
  },
  {
   "cell_type": "code",
   "execution_count": 429,
   "metadata": {},
   "outputs": [
    {
     "name": "stdout",
     "output_type": "stream",
     "text": [
      "The autoreload extension is already loaded. To reload it, use:\n",
      "  %reload_ext autoreload\n"
     ]
    }
   ],
   "source": [
    "%load_ext autoreload\n",
    "%autoreload 2"
   ]
  },
  {
   "cell_type": "code",
   "execution_count": 430,
   "metadata": {},
   "outputs": [],
   "source": [
    "PANEL_B0 = \"../svg/panel_b0.svg\"\n",
    "PANEL_C0 = \"../svg/panel_c0.svg\"\n",
    "PANEL_C1 = \"../svg/panel_c1.svg\"\n",
    "PANEL_C_CBAR = \"../svg/panel_c_cbar.svg\"\n",
    "PANEL_C2 = \"../svg/panel_c2.svg\"\n",
    "PANEL_C3 = \"../svg/panel_c3.svg\"\n",
    "PANEL_D1 = \"../svg/panel_d1.svg\"\n",
    "PANEL_D2 = \"../svg/panel_d2.svg\"\n",
    "PANEL_D3 = \"../svg/panel_d3.svg\"\n",
    "PANEL_D4 = \"../svg/panel_d4.svg\"\n",
    "PANEL_D5 = \"../svg/panel_d5.svg\"\n",
    "\n",
    "PANEL_suppA_traces = \"../svg/panel_suppA_traces.svg\"\n",
    "PANEL_suppB_traces = \"../svg/panel_suppB_traces.svg\"\n",
    "PANEL_suppC_traces = \"../svg/panel_suppC_traces.svg\"\n",
    "\n",
    "PANEL_REG_supp_fraction_ABPD = \"../svg/panel_REG_supp_fraction_ABPD.svg\"\n",
    "PANEL_REG_supp_fraction_LP = \"../svg/panel_REG_supp_fraction_LP.svg\"\n",
    "PANEL_REG_supp_fraction_PY = \"../svg/panel_REG_supp_fraction_PY.svg\"\n",
    "PANEL_REG_supp_fraction_syn = \"../svg/panel_REG_supp_fraction_syn.svg\""
   ]
  },
  {
   "cell_type": "code",
   "execution_count": 431,
   "metadata": {},
   "outputs": [],
   "source": [
    "import pandas as pd"
   ]
  },
  {
   "cell_type": "code",
   "execution_count": 432,
   "metadata": {},
   "outputs": [],
   "source": [
    "path_sims_after_classifier = \"../../../results/simulation_data_Tube_MLslurm_cluster/simulate_11deg_R3_predictives_at_11deg/data/\"\n",
    "\n",
    "params = pd.read_pickle(path_sims_after_classifier + \"valid_circuit_parameters.pkl\").to_numpy()\n",
    "stats = pd.read_pickle(path_sims_after_classifier + \"valid_simulation_outputs.pkl\").to_numpy()\n",
    "seeds = np.load(path_sims_after_classifier + \"valid_seeds.npy\")\n",
    "# data = np.load(datafile)\n",
    "# params = data[\"params\"]\n",
    "# stats = data[\"stats\"]\n",
    "# seeds = data[\"seeds\"]\n",
    "\n",
    "stats_mean = np.mean(stats, axis=0)\n",
    "stats_std = np.std(stats, axis=0)"
   ]
  },
  {
   "cell_type": "code",
   "execution_count": 433,
   "metadata": {},
   "outputs": [
    {
     "name": "stderr",
     "output_type": "stream",
     "text": [
      "/home/michael/Documents/sbi/sbi/inference/posteriors/base_posterior.py:1089: UserWarning: You had saved the posterior under an older version of `sbi`. To make the loaded version comply with the version you are using right now, we had to set the following attributes: `self._device = cpu` `self._num_iid_trials = None` `self._iid_methods = ['snle', 'snre_a', 'snre_b']` `self._allow_iid_x = False` `self._sample_with = rejection`\n",
      "  warn(warning_description + warning_msg)\n"
     ]
    }
   ],
   "source": [
    "import sys\n",
    "sys.path.append(\"home/michael/Documents/sbi/sbi/utils/user_input_checks_utils\")\n",
    "import sys\n",
    "from sbi.utils import user_input_checks_utils\n",
    "\n",
    "sys.modules[\"sbi.user_input.user_input_checks_utils\"] = user_input_checks_utils\n",
    "with open(\n",
    "    \"../../../results/trained_neural_nets/inference/posterior_11deg.pickle\", \"rb\"\n",
    ") as handle:\n",
    "    posterior = pickle.load(handle)\n",
    "    posterior._device = 'cpu'"
   ]
  },
  {
   "cell_type": "code",
   "execution_count": 434,
   "metadata": {},
   "outputs": [],
   "source": [
    "prior = create_prior(as_torch_dist=True)\n",
    "dimensions = 31\n",
    "params_mean = prior.mean.numpy()\n",
    "params_std = prior.stddev.numpy()\n",
    "\n",
    "summstats_experimental_11 = np.load(\"../../../results/experimental_data/xo_11deg.npy\")"
   ]
  },
  {
   "cell_type": "code",
   "execution_count": 435,
   "metadata": {},
   "outputs": [],
   "source": [
    "posterior.set_default_x(torch.as_tensor([summstats_experimental_11], dtype=torch.float32))"
   ]
  },
  {
   "cell_type": "code",
   "execution_count": 436,
   "metadata": {},
   "outputs": [],
   "source": [
    "lims_unnorm = np.asarray(\n",
    "    [prior.support.base_constraint.lower_bound.numpy(), prior.support.base_constraint.upper_bound.numpy()]\n",
    ").T\n",
    "lims_unnorm[:, 0] += 1e-8\n",
    "lims_unnorm[:, 1] -= 1e-8"
   ]
  },
  {
   "cell_type": "code",
   "execution_count": 437,
   "metadata": {},
   "outputs": [],
   "source": [
    "lims = np.reshape([-np.sqrt(3), np.sqrt(3)] * 46, (46, 2))"
   ]
  },
  {
   "cell_type": "markdown",
   "metadata": {},
   "source": [
    "### Find a value to condition on"
   ]
  },
  {
   "cell_type": "code",
   "execution_count": 438,
   "metadata": {},
   "outputs": [],
   "source": [
    "theta = pd.read_pickle(\n",
    "    \"../../../results/simulation_data_Tube_MLslurm_cluster/close_to_xo_circuit_parameters.pkl\"\n",
    ")\n",
    "x = pd.read_pickle(\n",
    "    \"../../../results/simulation_data_Tube_MLslurm_cluster/close_to_xo_simulation_outputs.pkl\"\n",
    ")\n",
    "sample_seeds = np.load(\n",
    "    \"../../../results/simulation_data_Tube_MLslurm_cluster/close_to_xo_seeds.npy\"\n",
    ")\n",
    "\n",
    "sample_params = theta.to_numpy()\n",
    "sample_stats = x.to_numpy()"
   ]
  },
  {
   "cell_type": "code",
   "execution_count": 439,
   "metadata": {},
   "outputs": [],
   "source": [
    "from decimal import Decimal\n",
    "\n",
    "all_labels = []\n",
    "for dim_i in range(31):\n",
    "    if dim_i > len(params_mean) - 7.5:  # synapses\n",
    "        if dim_i == 24:\n",
    "            all_labels.append(\n",
    "                [r\"$\\mathdefault{0.01}$   \", r\"$\\mathdefault{10000}\\;\\;\\;\\;$   \"]\n",
    "            )\n",
    "        else:\n",
    "            all_labels.append(\n",
    "                [r\"$\\;\\;\\mathdefault{0.01}$\", r\"$\\mathdefault{1000}\\;\\;\\;\\;$ \"]\n",
    "            )\n",
    "    else:  # membrane conductances\n",
    "        num_after_digits = -int(\n",
    "            np.log10(lims[dim_i, 1] * params_std[dim_i] + params_mean[dim_i])\n",
    "        )\n",
    "        if num_after_digits > 2:\n",
    "            num_after_digits = 2\n",
    "        labels = [round(lims_unnorm[dim_i, num_tmp]) for num_tmp in range(2)]\n",
    "                \n",
    "        new_labels = []\n",
    "        counter = 0\n",
    "        for l in labels:\n",
    "            if counter == 0:\n",
    "                new_labels.append(r\"$\\mathdefault{\" + str(l) + \"}$\")\n",
    "            else:\n",
    "                new_labels.append(r\"$\\mathdefault{\" + str(l) + \"}\\;\\;\\;$ \")\n",
    "            counter += 1\n",
    "        all_labels.append(new_labels)"
   ]
  },
  {
   "cell_type": "markdown",
   "metadata": {},
   "source": [
    "# Panel A: perturbing one parameter breaks activity"
   ]
  },
  {
   "cell_type": "markdown",
   "metadata": {},
   "source": [
    "Good setups:  \n",
    "sample_number=2, bad_condition[0]=0.11, dims=0,5  \n",
    "sample_number=8, bad_condition[0]=0.11, dims=0,5  "
   ]
  },
  {
   "cell_type": "code",
   "execution_count": 440,
   "metadata": {},
   "outputs": [],
   "source": [
    "sample_number = 0\n",
    "condition1 = deepcopy(sample_params[sample_number])  # 5,6 is good\n",
    "condition_stats = deepcopy(sample_stats[sample_number])\n",
    "condition1_norm = torch.as_tensor([condition1])"
   ]
  },
  {
   "cell_type": "markdown",
   "metadata": {},
   "source": [
    "### Perturb parameter set"
   ]
  },
  {
   "cell_type": "code",
   "execution_count": 441,
   "metadata": {},
   "outputs": [],
   "source": [
    "condition1[0] = 270.0\n",
    "condition1[5] = 85\n",
    "bad_condition = deepcopy(condition1)\n",
    "bad_condition[0] = 450.0   # 0.28\n",
    "condition1_norm = torch.as_tensor(condition1).unsqueeze(0)"
   ]
  },
  {
   "cell_type": "code",
   "execution_count": 442,
   "metadata": {},
   "outputs": [
    {
     "data": {
      "image/png": "[encoded data removed]",
      "text/plain": [
       "<Figure size 432x288 with 1 Axes>"
      ]
     },
     "metadata": {
      "needs_background": "light"
     },
     "output_type": "display_data"
    }
   ],
   "source": [
    "all_dists = []\n",
    "resolution = 100\n",
    "\n",
    "for ppp in range(31):\n",
    "    counts, _, _ = plt.hist(sample_params[:, ppp], range=lims_unnorm[ppp], bins=100)\n",
    "    inds = np.where(counts>0.0)\n",
    "    max_min_dist = np.max(inds) - np.min(inds)+1\n",
    "    all_dists.append(max_min_dist)\n",
    "all_dists = np.asarray(all_dists)\n",
    "all_baseline_fracs = all_dists / resolution"
   ]
  },
  {
   "cell_type": "code",
   "execution_count": 443,
   "metadata": {},
   "outputs": [
    {
     "data": {
      "application/vnd.jupyter.widget-view+json": {
       "model_id": "6311b67a77774a1aa615529d1f33d13c",
       "version_major": 2,
       "version_minor": 0
      },
      "text/plain": [
       "Drawing 10000 posterior samples:   0%|          | 0/10000 [00:00<?, ?it/s]"
      ]
     },
     "metadata": {},
     "output_type": "display_data"
    },
    {
     "name": "stdout",
     "output_type": "stream",
     "text": [
      "threshold_for_simulating 2.5556097222820978e-30\n"
     ]
    }
   ],
   "source": [
    "my_samples = posterior.sample((10000,))\n",
    "probs = posterior.log_prob(my_samples).detach().numpy()\n",
    "sorted_log_probs = np.sort(probs)\n",
    "threshold_for_simulating = sorted_log_probs[1000]\n",
    "threshold_for_simulating = np.exp(threshold_for_simulating) / 1e10 # subtract for numerical stability\n",
    "print(\"threshold_for_simulating\", threshold_for_simulating)"
   ]
  },
  {
   "cell_type": "code",
   "execution_count": 444,
   "metadata": {},
   "outputs": [],
   "source": [
    "all_dists = []\n",
    "for ppp in range(31):\n",
    "\n",
    "    p_vector = np.exp(eval_conditional_density(\n",
    "        posterior,\n",
    "        torch.as_tensor(condition1_norm, dtype=torch.float32),\n",
    "        lims_unnorm,\n",
    "        ppp,\n",
    "        ppp,\n",
    "        resolution=resolution,\n",
    "        log=True\n",
    "    ) - 100 )\n",
    "\n",
    "    threshold =  deepcopy(threshold_for_simulating)\n",
    "\n",
    "    inds = np.where(p_vector>threshold)\n",
    "    if np.any(p_vector>threshold): \n",
    "        max_min_dist = np.max(inds) - np.min(inds)+1\n",
    "    else:\n",
    "        max_min_dist = 0.0\n",
    "    all_dists.append(max_min_dist)\n",
    "all_dists = np.asarray(all_dists)\n",
    "all_fracs = all_dists / resolution\n",
    "all_relative_fracs = all_fracs / all_baseline_fracs"
   ]
  },
  {
   "cell_type": "code",
   "execution_count": 445,
   "metadata": {},
   "outputs": [],
   "source": [
    "from stg_energy.fig3_active_subspaces.viz import py_sensitivity_bars, synapse_sensitivity_bars"
   ]
  },
  {
   "cell_type": "code",
   "execution_count": 446,
   "metadata": {},
   "outputs": [
    {
     "data": {
      "image/png": "[encoded data removed]",
      "text/plain": [
       "<Figure size 190x100 with 1 Axes>"
      ]
     },
     "metadata": {},
     "output_type": "display_data"
    }
   ],
   "source": [
    "with mpl.rc_context(fname=\"../../../.matplotlibrc\"):\n",
    "    py_sensitivity_bars(all_relative_fracs[0:8][None,], ylim=[0.0, 1.0], figsize=(1.9, 1.0), ylabel='Fraction of \\n '+r'marginal $\\theta$ range', plot_labels=True, color=\"#3182bd\")\n",
    "#     plt.savefig(PANEL_REG_supp_fraction_ABPD, facecolor='None', transparent=False)"
   ]
  },
  {
   "cell_type": "code",
   "execution_count": 447,
   "metadata": {},
   "outputs": [
    {
     "data": {
      "image/png": "[encoded data removed]",
      "text/plain": [
       "<Figure size 190x100 with 1 Axes>"
      ]
     },
     "metadata": {},
     "output_type": "display_data"
    }
   ],
   "source": [
    "with mpl.rc_context(fname=\"../../../.matplotlibrc\"):\n",
    "    py_sensitivity_bars(all_relative_fracs[8:16][None,], ylim=[0.0, 1.0], figsize=(1.9, 1.0), ylabel='', plot_labels=False, color=\"#fc8d59\")\n",
    "#     plt.savefig(PANEL_REG_supp_fraction_LP, facecolor='None', transparent=False)"
   ]
  },
  {
   "cell_type": "code",
   "execution_count": 448,
   "metadata": {},
   "outputs": [
    {
     "data": {
      "image/png": "[encoded data removed]",
      "text/plain": [
       "<Figure size 190x100 with 1 Axes>"
      ]
     },
     "metadata": {},
     "output_type": "display_data"
    }
   ],
   "source": [
    "with mpl.rc_context(fname=\"../../../.matplotlibrc\"):\n",
    "    py_sensitivity_bars(all_relative_fracs[16:24][None,], ylim=[0.0, 1.0], figsize=(1.9, 1.0), ylabel='', plot_labels=False, color=\"#2ca25f\")\n",
    "#     plt.savefig(PANEL_REG_supp_fraction_PY, facecolor='None', transparent=False)"
   ]
  },
  {
   "cell_type": "code",
   "execution_count": 449,
   "metadata": {},
   "outputs": [
    {
     "data": {
      "image/png": "[encoded data removed]",
      "text/plain": [
       "<Figure size 160x100 with 1 Axes>"
      ]
     },
     "metadata": {},
     "output_type": "display_data"
    }
   ],
   "source": [
    "with mpl.rc_context(fname=\"../../../.matplotlibrc\"):\n",
    "    synapse_sensitivity_bars(torch.as_tensor(all_relative_fracs[24:][None,]), ylim=[0.0, 1.0], figsize=(1.6, 1.0), ylabel='', color=\"k\")\n",
    "#     plt.savefig(PANEL_REG_supp_fraction_syn, facecolor='None', transparent=False)"
   ]
  },
  {
   "cell_type": "code",
   "execution_count": 450,
   "metadata": {},
   "outputs": [
    {
     "name": "stderr",
     "output_type": "stream",
     "text": [
      "/home/michael/Documents/STG_energy/stg_energy/fig5_cc/viz.py:386: FutureWarning: elementwise comparison failed; returning scalar instead, but in the future will perform elementwise comparison\n",
      "  if opts[\"labels\"] == [] or opts[\"labels\"] is None:\n"
     ]
    },
    {
     "data": {
      "image/png": "[encoded data removed]",
      "text/plain": [
       "<Figure size 120x130 with 1 Axes>"
      ]
     },
     "metadata": {},
     "output_type": "display_data"
    }
   ],
   "source": [
    "import matplotlib.patheffects as pe\n",
    "\n",
    "with mpl.rc_context(fname=\"../../../.matplotlibrc\"):\n",
    "\n",
    "    labels_ = get_labels_8pt()\n",
    "    labels_[9] += \"\"\n",
    "\n",
    "    fig, axes = viz.singleOneDmarginal(\n",
    "        pdfs=[posterior],\n",
    "        samples=sample_params,\n",
    "        # subset=[0,1,2,3,4,5,6,7], # ,25,26,28\n",
    "        subset=[0],  # ,25,26,28\n",
    "        limits=lims_unnorm,\n",
    "        ticks=lims_unnorm,\n",
    "        tick_labels=all_labels,\n",
    "        fig_size=(1.2, 1.3),\n",
    "        labels=labels_,\n",
    "#         points=[condition1, bad_condition],\n",
    "        scatter_offdiag={\"rasterized\": True, \"alpha\": 1.0},\n",
    "        # points_offdiag={'marker':'o', 'markeredgecolor':'w', 'markersize':3.6, 'markeredgewidth':0.5, 'path_effects':[pe.Stroke(linewidth=1.2, foreground='k'), pe.Normal()]},\n",
    "        points_colors=[col[\"CONSISTENT1\"], col[\"INCONSISTENT\"]],\n",
    "        samples_colors=[col[\"SNPE\"]],\n",
    "        condition=torch.as_tensor(condition1_norm, dtype=torch.float32),\n",
    "        diag=[\"cond\"],\n",
    "        upper=[\"cond\"],\n",
    "        hist_offdiag={\"bins\": 500},\n",
    "        hist_diag={\"bins\": 500},\n",
    "    )\n",
    "    plt.savefig(PANEL_B0, facecolor='None', transparent=True)\n",
    "    plt.show()"
   ]
  },
  {
   "cell_type": "markdown",
   "metadata": {},
   "source": [
    "### Compute the energy to be saved from moving in 1D"
   ]
  },
  {
   "cell_type": "code",
   "execution_count": 452,
   "metadata": {},
   "outputs": [],
   "source": [
    "p = create_prior()"
   ]
  },
  {
   "cell_type": "code",
   "execution_count": 453,
   "metadata": {},
   "outputs": [],
   "source": [
    "condition_pd = pd.DataFrame([condition1], columns=p.sample((1,)).columns)"
   ]
  },
  {
   "cell_type": "code",
   "execution_count": 454,
   "metadata": {},
   "outputs": [],
   "source": [
    "out_target = simulate(deepcopy(condition_pd.loc[0]), seed=0)"
   ]
  },
  {
   "cell_type": "code",
   "execution_count": 455,
   "metadata": {},
   "outputs": [],
   "source": [
    "time_vec = np.arange(0, 11000, 0.025)"
   ]
  },
  {
   "cell_type": "code",
   "execution_count": 456,
   "metadata": {},
   "outputs": [
    {
     "data": {
      "image/png": "[encoded data removed]",
      "text/plain": [
       "<Figure size 350x200 with 1 Axes>"
      ]
     },
     "metadata": {},
     "output_type": "display_data"
    }
   ],
   "source": [
    "with mpl.rc_context(fname=\"../../../.matplotlibrc\"):\n",
    "    fig, ax = plt.subplots(1, 1, facecolor=\"white\", figsize=(3.5, 2.0))\n",
    "    fig = viz.vis_sample_plain(\n",
    "        out_target,\n",
    "        time_vec,\n",
    "        ax,\n",
    "        time_len=120000,\n",
    "        offset=40000,\n",
    "        col=col[\"CONSISTENT1\"],\n",
    "        scale_bar=False,\n",
    "    )\n",
    "    plt.savefig(PANEL_suppA_traces, facecolor='None', transparent=True)\n",
    "    plt.show()"
   ]
  },
  {
   "cell_type": "code",
   "execution_count": 457,
   "metadata": {},
   "outputs": [],
   "source": [
    "condition_pd_bad = pd.DataFrame([bad_condition], columns=p.sample((1,)).columns)\n",
    "out_target = simulate(deepcopy(condition_pd_bad.loc[0]), seed=4) # 6"
   ]
  },
  {
   "cell_type": "code",
   "execution_count": 458,
   "metadata": {},
   "outputs": [
    {
     "data": {
      "image/png": "[encoded data removed]",
      "text/plain": [
       "<Figure size 350x200 with 1 Axes>"
      ]
     },
     "metadata": {},
     "output_type": "display_data"
    }
   ],
   "source": [
    "with mpl.rc_context(fname=\"../../../.matplotlibrc\"):\n",
    "    fig, ax = plt.subplots(1, 1, facecolor=\"white\", figsize=(3.5, 2.0))\n",
    "    fig = viz.vis_sample_plain(\n",
    "        out_target,\n",
    "        time_vec,\n",
    "        ax,\n",
    "        time_len=120000,\n",
    "        col=col[\"INCONSISTENT\"],\n",
    "        offset=300000,\n",
    "        scale_bar=False,\n",
    "    )\n",
    "    plt.savefig(PANEL_suppB_traces, facecolor='None', transparent=True)\n",
    "    plt.show()"
   ]
  },
  {
   "cell_type": "markdown",
   "metadata": {},
   "source": [
    "# Panel B: cure the parameter set"
   ]
  },
  {
   "cell_type": "code",
   "execution_count": 459,
   "metadata": {},
   "outputs": [],
   "source": [
    "cured_condition = deepcopy(bad_condition)\n",
    "cured_condition[5] = 95.0 # 0.087"
   ]
  },
  {
   "cell_type": "code",
   "execution_count": 460,
   "metadata": {},
   "outputs": [],
   "source": [
    "def revert_positions(a):\n",
    "    \"\"\"\n",
    "    Because we swap the dimensions of the two parameters (such that LP-CaS is on the x-axis), we also have to flip these values for the points.\n",
    "    \"\"\"\n",
    "    a_new = deepcopy(a)\n",
    "    a_new[5] = deepcopy(a[0])\n",
    "    a_new[0] = deepcopy(a[5])\n",
    "    return a_new"
   ]
  },
  {
   "cell_type": "code",
   "execution_count": 461,
   "metadata": {},
   "outputs": [],
   "source": [
    "# from decimal import Decimal\n",
    "\n",
    "# all_labels = []\n",
    "# for dim_i in range(31):\n",
    "#     if dim_i > len(params_mean) - 7.5:  # synapses\n",
    "#         if dim_i == 24:\n",
    "#             all_labels.append(\n",
    "#                 [r\"$\\mathdefault{0.01}$   \", r\"$\\mathdefault{10000}$   \"]\n",
    "#             )\n",
    "#         else:\n",
    "#             all_labels.append(\n",
    "#                 [r\"$\\;\\;\\mathdefault{0.01}$\", r\"$\\mathdefault{1000}$ \"]\n",
    "#             )\n",
    "#     else:  # membrane conductances\n",
    "#         num_after_digits = -int(\n",
    "#             np.log10(lims[dim_i, 1] * params_std[dim_i] + params_mean[dim_i])\n",
    "#         )\n",
    "#         if num_after_digits > 2:\n",
    "#             num_after_digits = 2\n",
    "#         labels = [\n",
    "#             round(\n",
    "#                 Decimal(\n",
    "#                     (lims[dim_i, num_tmp] * params_std[dim_i] + params_mean[dim_i])\n",
    "#                     / 0.628e-3\n",
    "#                 ),\n",
    "#                 num_after_digits,\n",
    "#             )\n",
    "#             for num_tmp in range(2)\n",
    "#         ]\n",
    "#         new_labels = []\n",
    "#         counter = 0\n",
    "#         for l in labels:\n",
    "#             if counter == 0:\n",
    "#                 new_labels.append(r\"$\\mathdefault{\" + str(int(l)) + \"}$\")\n",
    "#             else:\n",
    "#                 new_labels.append(r\"$\\mathdefault{\" + str(int(l)) + \"}$\")\n",
    "#             counter += 1\n",
    "#         all_labels.append(new_labels)"
   ]
  },
  {
   "cell_type": "code",
   "execution_count": 525,
   "metadata": {},
   "outputs": [],
   "source": [
    "all_labels[5][1] = \"$\\\\mathdefault{150}$\"\n",
    "all_labels[0][1] = \"$\\\\mathdefault{500}$\""
   ]
  },
  {
   "cell_type": "code",
   "execution_count": 526,
   "metadata": {},
   "outputs": [
    {
     "name": "stderr",
     "output_type": "stream",
     "text": [
      "/home/michael/Documents/STG_energy/stg_energy/fig5_cc/viz.py:681: FutureWarning: elementwise comparison failed; returning scalar instead, but in the future will perform elementwise comparison\n",
      "  if opts[\"labels\"] == [] or opts[\"labels\"] is None:\n"
     ]
    },
    {
     "name": "stdout",
     "output_type": "stream",
     "text": [
      "running this upper\n"
     ]
    },
    {
     "data": {
      "image/png": "[encoded data removed]",
      "text/plain": [
       "<Figure size 140x140 with 1 Axes>"
      ]
     },
     "metadata": {},
     "output_type": "display_data"
    }
   ],
   "source": [
    "# condition1_swap = revert_positions(condition1)\n",
    "# bad_condition_swap = revert_positions(bad_condition)\n",
    "# cured_condition_swap = revert_positions(cured_condition)\n",
    "\n",
    "with mpl.rc_context(fname=\"../../../.matplotlibrc\"):\n",
    "\n",
    "    labels_ = get_labels_8pt()\n",
    "    labels_[9] += \"\"\n",
    "\n",
    "    _ = viz.single2Dmarginal(\n",
    "        pdfs=[posterior],\n",
    "        samples=sample_params,\n",
    "        subset=[5, 0],  # 0,1   0,4    0,5\n",
    "        #subset=[0,5],  # 0,1   0,4    0,5\n",
    "        limits=lims_unnorm,\n",
    "        ticks=lims_unnorm,\n",
    "        tick_labels=all_labels,\n",
    "        fig_size=(1.4, 1.4),\n",
    "        labels=labels_,\n",
    "#         points=[condition1, bad_condition, cured_condition],\n",
    "        scatter_offdiag={\"rasterized\": True, \"alpha\": 1.0},\n",
    "        points_offdiag={'markersize':12.6},\n",
    "        points_colors=[col[\"CONSISTENT1\"], col[\"INCONSISTENT\"], col[\"GT\"]],\n",
    "        samples_colors=[col[\"SNPE\"]],\n",
    "        condition=torch.as_tensor(condition1_norm, dtype=torch.float32),\n",
    "        diag=None,\n",
    "        upper=[\"cond\"],\n",
    "        hist_offdiag={\"bins\": 40},\n",
    "    )\n",
    "\n",
    "    plt.savefig(PANEL_C0, facecolor='None', transparent=True)\n",
    "    plt.show()"
   ]
  },
  {
   "cell_type": "code",
   "execution_count": 463,
   "metadata": {},
   "outputs": [
    {
     "data": {
      "image/png": "[encoded data removed]",
      "text/plain": [
       "<Figure size 350x200 with 1 Axes>"
      ]
     },
     "metadata": {},
     "output_type": "display_data"
    }
   ],
   "source": [
    "condition_pd_cured = pd.DataFrame([cured_condition], columns=p.sample((1,)).columns)\n",
    "out_target = simulate(deepcopy(condition_pd_cured.loc[0]), seed=0)\n",
    "\n",
    "with mpl.rc_context(fname=\"../../../.matplotlibrc\"):\n",
    "    fig, ax = plt.subplots(1, 1, facecolor=\"white\", figsize=(3.5, 2.0))\n",
    "    fig = viz.vis_sample_plain(\n",
    "        out_target, time_vec, ax, time_len=120000, col=col[\"GT\"], offset=45000, scale_bar=False\n",
    "    )\n",
    "    plt.savefig(PANEL_suppC_traces, facecolor='None', transparent=True)\n",
    "    plt.show()"
   ]
  },
  {
   "cell_type": "markdown",
   "metadata": {},
   "source": [
    "# Panel C: show that energy is not constant in this plane"
   ]
  },
  {
   "cell_type": "code",
   "execution_count": 464,
   "metadata": {},
   "outputs": [],
   "source": [
    "# pairs = np.asarray(\n",
    "#     [[0, 2], [4, 5], [10, 11], [11, 12], [17, 18], [18, 19], [22, 26], [24, 25]]\n",
    "# )  # [18,19]\n",
    "pairs = np.asarray(\n",
    "    [[0, 5]]\n",
    ")  # [18,19]\n",
    "neuron_to_observe = [\"PM\", \"PM\", \"LP\", \"LP\", \"PY\", \"PY\", \"PM\", \"PM\"]"
   ]
  },
  {
   "cell_type": "code",
   "execution_count": 465,
   "metadata": {},
   "outputs": [],
   "source": [
    "condition1_norm = torch.as_tensor([condition1], dtype=torch.float32)"
   ]
  },
  {
   "cell_type": "code",
   "execution_count": 466,
   "metadata": {},
   "outputs": [],
   "source": [
    "condition1 = deepcopy(sample_params[sample_number])  # 5,6 is good\n",
    "condition1_stats = deepcopy(sample_stats[sample_number])\n",
    "condition1_norm = torch.as_tensor([condition1])"
   ]
  },
  {
   "cell_type": "code",
   "execution_count": 467,
   "metadata": {},
   "outputs": [],
   "source": [
    "from sbi.analysis import ActiveSubspace\n",
    "\n",
    "# import stg_energy.fig3_active_subspaces.viz as viz\n",
    "from stg_energy.fig3_active_subspaces.helper_functions import nth_argmax, nth_argmin"
   ]
  },
  {
   "cell_type": "code",
   "execution_count": 468,
   "metadata": {},
   "outputs": [],
   "source": [
    "grid_bins = 50\n",
    "patience = 3"
   ]
  },
  {
   "cell_type": "code",
   "execution_count": 469,
   "metadata": {},
   "outputs": [],
   "source": [
    "xo =summstats_experimental_11"
   ]
  },
  {
   "cell_type": "code",
   "execution_count": 471,
   "metadata": {},
   "outputs": [],
   "source": [
    "# energies = x[\"energies\"]\n",
    "# energies_tt = torch.as_tensor(energies.to_numpy())\n",
    "# x_tt = torch.as_tensor(x.to_numpy(), dtype=torch.float32)\n",
    "\n",
    "# num_test = 1000\n",
    "# theta_test = torch.as_tensor(theta.to_numpy()[:num_test], dtype=torch.float32)\n",
    "# theta_train = torch.as_tensor(theta.to_numpy()[num_test:], dtype=torch.float32)\n",
    "\n",
    "# train_energy = torch.as_tensor(\n",
    "#     energies_tt[num_test:, 0].unsqueeze(1), dtype=torch.float32\n",
    "# )\n",
    "# test_energy = torch.as_tensor(\n",
    "#     energies_tt[:num_test, 0].unsqueeze(1), dtype=torch.float32\n",
    "# )\n",
    "# torch.manual_seed(0)\n",
    "# sensitivity = ActiveSubspace(posterior)\n",
    "# converged_nn_AB = sensitivity.add_property(\n",
    "#     theta_train, train_energy, hidden_features=20, num_blocks=1\n",
    "# ).train()"
   ]
  },
  {
   "cell_type": "code",
   "execution_count": 473,
   "metadata": {},
   "outputs": [],
   "source": [
    "# with open(\n",
    "#     \"../../../results/conditional_correlation_energy/converged_net_AB.pickle\",\n",
    "#     \"wb\",\n",
    "# ) as handle:\n",
    "#     pickle.dump(converged_nn_AB, handle)"
   ]
  },
  {
   "cell_type": "code",
   "execution_count": 474,
   "metadata": {},
   "outputs": [],
   "source": [
    "with open(\n",
    "    \"../../../results/conditional_correlation_energy/converged_net_AB.pickle\",\n",
    "    \"rb\",\n",
    ") as handle:\n",
    "    converged_nn_AB = pickle.load(handle)"
   ]
  },
  {
   "cell_type": "code",
   "execution_count": 475,
   "metadata": {},
   "outputs": [
    {
     "data": {
      "application/vnd.jupyter.widget-view+json": {
       "model_id": "1eb762adb9304df582b24af42373152a",
       "version_major": 2,
       "version_minor": 0
      },
      "text/plain": [
       "Drawing 10000 posterior samples:   0%|          | 0/10000 [00:00<?, ?it/s]"
      ]
     },
     "metadata": {},
     "output_type": "display_data"
    },
    {
     "name": "stdout",
     "output_type": "stream",
     "text": [
      "threshold_for_simulating 2.302251267068827e-18\n"
     ]
    }
   ],
   "source": [
    "my_samples = posterior.sample((10000,))\n",
    "probs = posterior.log_prob(my_samples).detach().numpy()\n",
    "sorted_log_probs = np.sort(probs)\n",
    "threshold_for_simulating = sorted_log_probs[6000]\n",
    "threshold_for_simulating = np.exp(threshold_for_simulating) / 1e0 # subtract for numerical stability\n",
    "print(\"threshold_for_simulating\", threshold_for_simulating)"
   ]
  },
  {
   "cell_type": "code",
   "execution_count": 476,
   "metadata": {
    "tags": []
   },
   "outputs": [
    {
     "name": "stdout",
     "output_type": "stream",
     "text": [
      "New pair\n"
     ]
    },
    {
     "data": {
      "image/png": "[encoded data removed]",
      "text/plain": [
       "<Figure size 432x288 with 1 Axes>"
      ]
     },
     "metadata": {
      "needs_background": "light"
     },
     "output_type": "display_data"
    }
   ],
   "source": [
    "vec = np.linspace(-np.sqrt(3), np.sqrt(3), grid_bins)\n",
    "all_energy_images = []\n",
    "all_conditional_correlations = []\n",
    "\n",
    "for counter, pair in enumerate(pairs):\n",
    "    print(\"New pair\")\n",
    "    dim1 = pair[0]\n",
    "    dim2 = pair[1]\n",
    "\n",
    "    p_vector = eval_conditional_density(\n",
    "        posterior, condition1_norm, lims_unnorm, dim1, dim2, resolution=50, log=False\n",
    "    )\n",
    "    p_vector = p_vector / np.max(p_vector)  # just to scale it to 1\n",
    "\n",
    "    # correct the limits a bit: when we evaluate exactly at the bounds, it gets 0.0.\n",
    "    lims_unnorm[:, 0] += 1e-12\n",
    "    lims_unnorm[:, 1] -= 1e-12\n",
    "\n",
    "    # get the energies in the conditional plane\n",
    "    energy_image, energy_image_specific_neuron, _, _ = ue.energy_of_conditional(\n",
    "        posterior,\n",
    "        torch.as_tensor([condition1], dtype=torch.float32),\n",
    "        grid_bins,\n",
    "        threshold_for_simulating,\n",
    "        dim1,\n",
    "        dim2,\n",
    "        lims_unnorm,\n",
    "        stats_std=stats_std,\n",
    "        neuron_to_observe=neuron_to_observe[counter],\n",
    "        patience=patience,\n",
    "        regression_net=converged_nn_AB,\n",
    "    )\n",
    "\n",
    "    all_conditional_correlations.append(p_vector)\n",
    "    all_energy_images.append(energy_image)\n",
    "\n",
    "#     np.save(f'../../results/conditional_correlation_energy/200930_sample{sample_number}_dims{dim1}_{dim2}_grid{grid_bins}_patience{patience}_p_vector_nn', p_vector)\n",
    "#     np.save(f'../../results/conditional_correlation_energy/200930_sample{sample_number}_dims{dim1}_{dim2}_grid{grid_bins}_patience{patience}_energy_nn', energy_image)\n",
    "#     np.save(f'../../results/conditional_correlation_energy/200930_sample{sample_number}_dims{dim1}_{dim2}_grid{grid_bins}_patience{patience}_energy_specific_neuron_nn', energy_image_specific_neuron)"
   ]
  },
  {
   "cell_type": "code",
   "execution_count": 477,
   "metadata": {},
   "outputs": [],
   "source": [
    "# all_conditional_correlations = np.load(\n",
    "#     \"../../results/conditional_correlation_energy/200930_dim10_dim25_grid50_patience3_p_vector.npy\"\n",
    "# )\n",
    "# all_energy_images = np.load(\n",
    "#     \"../../results/conditional_correlation_energy/200930_dim10_dim25_grid50_patience3.npy\"\n",
    "# )"
   ]
  },
  {
   "cell_type": "code",
   "execution_count": 478,
   "metadata": {},
   "outputs": [],
   "source": [
    "# all_conditional_correlations = np.asarray(all_conditional_correlations)\n",
    "# energy_image = np.asarray(all_energy_images)"
   ]
  },
  {
   "cell_type": "code",
   "execution_count": 479,
   "metadata": {},
   "outputs": [],
   "source": [
    "energy_image = energy_image_specific_neuron"
   ]
  },
  {
   "cell_type": "code",
   "execution_count": 480,
   "metadata": {},
   "outputs": [
    {
     "name": "stdout",
     "output_type": "stream",
     "text": [
      "image [[-2.5e-05 -2.5e-05 -2.5e-05 ... -2.5e-05 -2.5e-05 -2.5e-05]\n",
      " [-2.5e-05 -2.5e-05 -2.5e-05 ... -2.5e-05 -2.5e-05 -2.5e-05]\n",
      " [-2.5e-05 -2.5e-05 -2.5e-05 ... -2.5e-05 -2.5e-05 -2.5e-05]\n",
      " ...\n",
      " [-2.5e-05 -2.5e-05 -2.5e-05 ... -2.5e-05 -2.5e-05 -2.5e-05]\n",
      " [-2.5e-05 -2.5e-05 -2.5e-05 ... -2.5e-05 -2.5e-05 -2.5e-05]\n",
      " [-2.5e-05 -2.5e-05 -2.5e-05 ... -2.5e-05 -2.5e-05 -2.5e-05]]\n",
      "image != np.max(image) 1.60592431640625\n"
     ]
    },
    {
     "data": {
      "image/png": "[encoded data removed]",
      "text/plain": [
       "<Figure size 200x200 with 2 Axes>"
      ]
     },
     "metadata": {},
     "output_type": "display_data"
    }
   ],
   "source": [
    "# build colormap\n",
    "colors = plt.cm.autumn(np.linspace(0, 1, 2048))\n",
    "blacks = np.ones_like(colors)\n",
    "blacks[:, :3] = 0.0\n",
    "\n",
    "# combine them and build a new colormap\n",
    "colors = np.vstack((blacks[-1], np.flipud(colors)))\n",
    "mymap = mcolors.LinearSegmentedColormap.from_list(\"my_colormap\", colors)\n",
    "\n",
    "image = deepcopy(energy_image / 40000)\n",
    "# image[image == 0.0] = np.max(image) + 1.0\n",
    "print(\"image\", image)\n",
    "print(\"image != np.max(image)\", np.max(image))\n",
    "max_val_of_image = np.max(image[image != np.max(image)])\n",
    "min_val_of_image = np.min(image[image != np.min(image)])\n",
    "diff = max_val_of_image - min_val_of_image\n",
    "val_for_black_parts = min_val_of_image - 1/200*diff\n",
    "image[image == np.min(image)] = val_for_black_parts\n",
    "val_for_white_parts = max_val_of_image + 1/200*diff\n",
    "image[image == np.max(image)] = val_for_white_parts\n",
    "\n",
    "with mpl.rc_context(fname=\"../../../.matplotlibrc\"):\n",
    "    fig, ax = plt.subplots(1, 1, figsize=(2, 2))\n",
    "    h = ax.imshow(image, origin=\"lower\", aspect=\"auto\", cmap=mymap)\n",
    "    plt.colorbar(h)\n",
    "    ax.axes.get_yaxis().set_ticks([])\n",
    "    ax.axes.get_xaxis().set_ticks([])\n",
    "    plt.show()"
   ]
  },
  {
   "cell_type": "code",
   "execution_count": 481,
   "metadata": {},
   "outputs": [
    {
     "data": {
      "text/plain": [
       "array([[0, 5]])"
      ]
     },
     "execution_count": 481,
     "metadata": {},
     "output_type": "execute_result"
    }
   ],
   "source": [
    "pairs"
   ]
  },
  {
   "cell_type": "code",
   "execution_count": 482,
   "metadata": {},
   "outputs": [],
   "source": [
    "neurons = [\"AB/PD1\", \"AB/PD2\", \"LP1\", \"LP2\", \"PY1\", \"PY2\", \"syn1\", \"syn2\"]\n",
    "\n",
    "seeds_max = [0, 0, 0, 1, 0, 0, 0, 0]\n",
    "seeds_min = [0, 0, 1, 1, 0, 0, 0, 0]\n",
    "\n",
    "t_max_mins = [125000, 125000, 100000, 100000, 112000, 113000, 110000, 125000]\n",
    "t_max_maxs = [145000, 145000, 120000, 120000, 132000, 133000, 130000, 145000]\n",
    "\n",
    "t_min_mins = [120000, 125000, 100000, 100000, 112000, 113000, 110000, 125000]\n",
    "t_min_maxs = [140000, 145000, 120000, 120000, 132000, 133000, 130000, 145000]\n",
    "\n",
    "neuron_to_plot = [0, 0, 1, 1, 2, 2, 2, 0]\n",
    "\n",
    "set_to_inspect = 0\n",
    "\n",
    "# find dims\n",
    "# energy_image = all_energy_images[set_to_inspect]\n",
    "pair = pairs[set_to_inspect]\n",
    "dim1 = pair[0]\n",
    "dim2 = pair[1]\n",
    "\n",
    "vec1 = np.linspace(lims_unnorm[dim1, 0], lims_unnorm[dim1, 1], grid_bins)\n",
    "vec2 = np.linspace(lims_unnorm[dim2, 0], lims_unnorm[dim2, 1], grid_bins)"
   ]
  },
  {
   "cell_type": "code",
   "execution_count": 483,
   "metadata": {},
   "outputs": [],
   "source": [
    "np_pair = np.asarray(pair)\n",
    "labels = get_labels_8pt()\n",
    "labels_for_x_and_y = labels[np_pair]"
   ]
  },
  {
   "cell_type": "code",
   "execution_count": 484,
   "metadata": {},
   "outputs": [
    {
     "name": "stdout",
     "output_type": "stream",
     "text": [
      "-------- High energy set --------\n"
     ]
    },
    {
     "data": {
      "image/png": "[encoded data removed]",
      "text/plain": [
       "<Figure size 130x130 with 2 Axes>"
      ]
     },
     "metadata": {},
     "output_type": "display_data"
    }
   ],
   "source": [
    "###################################################################################################\n",
    "#                                        maximum energy set                                       #\n",
    "###################################################################################################\n",
    "\n",
    "print(\"-------- High energy set --------\")\n",
    "cond1_norm_tmp = deepcopy(condition1_norm[0])\n",
    "tmp_energy_image = deepcopy(energy_image)\n",
    "# find parameter value that had maximum energy\n",
    "max_energy_pixel = np.unravel_index(tmp_energy_image.argmax(), tmp_energy_image.shape)\n",
    "# replace the parameter values\n",
    "param1 = vec1[max_energy_pixel[0]]\n",
    "param2 = vec2[max_energy_pixel[1]]\n",
    "\n",
    "cond1_norm_tmp[dim1] = param1\n",
    "cond1_norm_tmp[dim2] = param2\n",
    "\n",
    "# simulate and build energy scape\n",
    "parameter_set = cond1_norm_tmp\n",
    "set_pd = pd.DataFrame([parameter_set], columns=p.sample((1,)).columns)\n",
    "\n",
    "out_target = simulate(deepcopy(set_pd).loc[0], seed=8607175, track_currents=True, track_energy=True)\n",
    "\n",
    "with mpl.rc_context(fname=\"../../../.matplotlibrc\"):\n",
    "    energy_scape(\n",
    "        out_target,\n",
    "        time_vec,\n",
    "        figsize=(1.3, 1.3),\n",
    "        cols=['k', 'k', 'k'],\n",
    "        time_len=20000,\n",
    "        offset=155000,\n",
    "        neuron=neuron_to_plot[set_to_inspect],\n",
    "        ylabels=False,\n",
    "    )\n",
    "    plt.savefig(PANEL_C2, facecolor='None', transparent=True)\n",
    "    plt.show()"
   ]
  },
  {
   "cell_type": "code",
   "execution_count": 485,
   "metadata": {},
   "outputs": [
    {
     "data": {
      "text/plain": [
       "(49, 13)"
      ]
     },
     "execution_count": 485,
     "metadata": {},
     "output_type": "execute_result"
    }
   ],
   "source": [
    "max_energy_pixel"
   ]
  },
  {
   "cell_type": "code",
   "execution_count": 486,
   "metadata": {},
   "outputs": [
    {
     "name": "stdout",
     "output_type": "stream",
     "text": [
      "-------- Low energy set --------\n"
     ]
    },
    {
     "data": {
      "image/png": "[encoded data removed]",
      "text/plain": [
       "<Figure size 130x130 with 2 Axes>"
      ]
     },
     "metadata": {},
     "output_type": "display_data"
    }
   ],
   "source": [
    "###################################################################################################\n",
    "#                                        minimum energy set                                       #\n",
    "###################################################################################################\n",
    "print(\"-------- Low energy set --------\")\n",
    "tmp_energy_image = deepcopy(energy_image)\n",
    "tmp_energy_image[tmp_energy_image <=0.0] = 1e10\n",
    "min_energy_pixel = np.unravel_index(tmp_energy_image.argmin(), tmp_energy_image.shape)\n",
    "param1 = vec1[min_energy_pixel[0]]\n",
    "param2 = vec2[min_energy_pixel[1]]\n",
    "\n",
    "cond1_norm_tmp[dim1] = param1\n",
    "cond1_norm_tmp[dim2] = param2\n",
    "\n",
    "parameter_set = cond1_norm_tmp\n",
    "set_pd = pd.DataFrame([parameter_set], columns=p.sample((1,)).columns)\n",
    "\n",
    "out_target = simulate(deepcopy(set_pd).loc[0], seed=8607175, track_currents=True, track_energy=True)\n",
    "with mpl.rc_context(fname=\"../../../.matplotlibrc\"):\n",
    "    energy_scape(\n",
    "        out_target,\n",
    "        time_vec,\n",
    "        figsize=(1.3, 1.3),\n",
    "        cols=['k', 'k', 'k'],\n",
    "        time_len=20000,\n",
    "        offset=301300,\n",
    "        neuron=neuron_to_plot[set_to_inspect],\n",
    "        ylabels=True,\n",
    "    )\n",
    "    plt.savefig(PANEL_C3, facecolor='None', transparent=True)\n",
    "    plt.show()"
   ]
  },
  {
   "cell_type": "markdown",
   "metadata": {},
   "source": [
    "# Plot the figure again, but with the points of max and min"
   ]
  },
  {
   "cell_type": "code",
   "execution_count": 487,
   "metadata": {},
   "outputs": [],
   "source": [
    "from pyloric import create_prior\n",
    "prior = create_prior(as_torch_dist=True)"
   ]
  },
  {
   "cell_type": "code",
   "execution_count": 488,
   "metadata": {},
   "outputs": [],
   "source": [
    "lower0 = prior.support.base_constraint.lower_bound[pairs[set_to_inspect][0]].item()\n",
    "upper0 = prior.support.base_constraint.upper_bound[pairs[set_to_inspect][0]].item()\n",
    "lower1= prior.support.base_constraint.lower_bound[pairs[set_to_inspect][1]].item()\n",
    "upper1 = prior.support.base_constraint.upper_bound[pairs[set_to_inspect][1]].item()"
   ]
  },
  {
   "cell_type": "code",
   "execution_count": 489,
   "metadata": {},
   "outputs": [
    {
     "data": {
      "image/png": "[encoded data removed]",
      "text/plain": [
       "<Figure size 140x140 with 1 Axes>"
      ]
     },
     "metadata": {},
     "output_type": "display_data"
    }
   ],
   "source": [
    "# build colormap\n",
    "colors = plt.cm.autumn(np.linspace(0, 1, 2048))\n",
    "blacks = np.ones_like(colors)\n",
    "blacks[:, :3] = 0.0\n",
    "\n",
    "# combine them and build a new colormap\n",
    "colors = np.vstack((blacks[-1], np.flipud(colors)))\n",
    "mymap = mcolors.LinearSegmentedColormap.from_list(\"my_colormap\", colors)\n",
    "\n",
    "image = deepcopy(energy_image / 40000)\n",
    "max_val_of_image = np.max(image[image != np.max(image)])\n",
    "min_val_of_image = np.min(image[image != np.min(image)])\n",
    "diff = max_val_of_image - min_val_of_image\n",
    "val_for_black_parts = min_val_of_image - 1/200*diff\n",
    "image[image == np.min(image)] = val_for_black_parts\n",
    "\n",
    "with mpl.rc_context(fname=\"../../../.matplotlibrc\"):\n",
    "    fig, ax = plt.subplots(1, 1, figsize=(1.4, 1.4))\n",
    "    h = ax.imshow(image.T, origin=\"lower\", aspect=\"auto\", cmap=mymap)\n",
    "    ax.scatter(min_energy_pixel[0], min_energy_pixel[1]-0.5, s=40, color='#FFFFFF', edgecolors='k', linewidths=0.8)\n",
    "    # -0.5 because otherwise the dot is cut off.\n",
    "    ax.scatter(max_energy_pixel[0]-0.5, max_energy_pixel[1], s=40, color='#FFFFFF', edgecolors='k', linewidths=0.8)\n",
    "    ax.axes.get_yaxis().set_ticks([])\n",
    "    ax.axes.get_xaxis().set_ticks([])\n",
    "#     ax.spines['top'].set_visible(True)\n",
    "#     ax.spines['right'].set_visible(True)\n",
    "    ax.set_xlabel(labels_for_x_and_y[0], labelpad=-3)\n",
    "    ax.set_ylabel(labels_for_x_and_y[1], labelpad=-9)\n",
    "    ax.set_xticks([-0.5, image.shape[0]-0.5])\n",
    "    ax.set_yticks([-0.5, image.shape[1]-0.5])\n",
    "    ax.set_xticklabels([int(np.round(lower0)), int(np.round(upper0))])\n",
    "    ax.set_yticklabels([int(np.round(lower1)), int(np.round(upper1))])\n",
    "    \n",
    "#     ax.annotate(\n",
    "#         \"\",\n",
    "#         xy=(45, 12),\n",
    "#         xytext=(37, 7),\n",
    "#         arrowprops=dict(\n",
    "#             facecolor=\"w\",\n",
    "#             edgecolor=\"w\",\n",
    "#             headwidth=4.4,\n",
    "#             headlength=4.7,\n",
    "#             width=0.1,\n",
    "#         ),\n",
    "#     )\n",
    "    \n",
    "#     ax.annotate(\n",
    "#         \"\",\n",
    "#         xy=(16, 45),\n",
    "#         xytext=(10, 36),\n",
    "#         arrowprops=dict(\n",
    "#             facecolor=\"w\",\n",
    "#             edgecolor=\"w\",\n",
    "#             headwidth=4.4,\n",
    "#             headlength=4.7,\n",
    "#             width=0.1,\n",
    "#         ),\n",
    "#     )\n",
    "    \n",
    "    plt.savefig(PANEL_C1, facecolor='None', transparent=True)\n",
    "    plt.show()"
   ]
  },
  {
   "cell_type": "code",
   "execution_count": 490,
   "metadata": {},
   "outputs": [
    {
     "name": "stderr",
     "output_type": "stream",
     "text": [
      "<ipython-input-490-6daa2e91558f>:5: MatplotlibDeprecationWarning: Starting from Matplotlib 3.6, colorbar() will steal space from the mappable's axes, rather than from the current axes, to place the colorbar.  To silence this warning, explicitly pass the 'ax' argument to colorbar().\n",
      "  cbar = plt.colorbar(h)\n"
     ]
    },
    {
     "data": {
      "image/png": "[encoded data removed]",
      "text/plain": [
       "<Figure size 130x130 with 1 Axes>"
      ]
     },
     "metadata": {},
     "output_type": "display_data"
    }
   ],
   "source": [
    "with mpl.rc_context(fname=\"../../../.matplotlibrc\"):\n",
    "\n",
    "    # draw a new figure and replot the colorbar there\n",
    "    fig, ax = plt.subplots(figsize=(1.3, 1.3))\n",
    "    cbar = plt.colorbar(h)\n",
    "    cbar.set_ticks([val_for_black_parts, max_val_of_image])\n",
    "    cbar.set_ticklabels(['%.1f' %val_for_black_parts, '%.1f' %max_val_of_image])\n",
    "    cbar.set_label(\"E (AB) ($\\mu$J/s)\", labelpad=-7)\n",
    "\n",
    "    ax.remove()\n",
    "    plt.savefig(PANEL_C_CBAR, facecolor='None', transparent=True)\n",
    "    plt.show()"
   ]
  },
  {
   "cell_type": "markdown",
   "metadata": {},
   "source": [
    "# Panel D: summarize the energy gains in matrizes"
   ]
  },
  {
   "cell_type": "markdown",
   "metadata": {},
   "source": [
    "### AB/PD"
   ]
  },
  {
   "cell_type": "code",
   "execution_count": 491,
   "metadata": {},
   "outputs": [],
   "source": [
    "condition1_original = deepcopy(sample_params[sample_number])  # 5,6 is good\n",
    "condition1_stats_original = deepcopy(sample_stats[sample_number])\n",
    "condition1_norm_original = torch.as_tensor([condition1_original])"
   ]
  },
  {
   "cell_type": "code",
   "execution_count": 492,
   "metadata": {},
   "outputs": [
    {
     "data": {
      "image/png": "[encoded data removed]",
      "text/plain": [
       "<Figure size 432x288 with 1 Axes>"
      ]
     },
     "metadata": {
      "needs_background": "light"
     },
     "output_type": "display_data"
    }
   ],
   "source": [
    "(\n",
    "    all_conditional_correlations,\n",
    "    all_energy_images,\n",
    "    all_energy_specific,\n",
    "    all_energy_per_spike,\n",
    "    all_num_spikes_per_burst,\n",
    ") = helpers.generate_and_store_data(\n",
    "    neuron1=np.arange(8),\n",
    "    neuron2=np.arange(8),\n",
    "    neuron_to_observe='PM',\n",
    "    grid_bins=grid_bins,\n",
    "    posterior=posterior,\n",
    "    condition1_norm=condition1_norm_original,\n",
    "    lims_unnorm=lims_unnorm,\n",
    "    stats_std=stats_std,\n",
    "    regression_net=converged_nn_AB,\n",
    "    min_prob=threshold_for_simulating,\n",
    ")"
   ]
  },
  {
   "cell_type": "code",
   "execution_count": 496,
   "metadata": {},
   "outputs": [],
   "source": [
    "with open(\n",
    "    \"../../../results/conditional_correlation_energy/211007_PM_all_stored_data_from_all_energy_specific_nn.pickle\",\n",
    "    \"rb\",\n",
    ") as handle:\n",
    "    all_energy_images_specific = pickle.load(handle)"
   ]
  },
  {
   "cell_type": "code",
   "execution_count": 497,
   "metadata": {},
   "outputs": [
    {
     "data": {
      "image/png": "[encoded data removed]",
      "text/plain": [
       "<Figure size 190x190 with 1 Axes>"
      ]
     },
     "metadata": {},
     "output_type": "display_data"
    }
   ],
   "source": [
    "with mpl.rc_context(fname=\"../../../.matplotlibrc\"):\n",
    "    viz.energy_gain_matrix(all_energy_images_specific, figsize=(1.9, 1.9), title=\"AB/PD\", lims=[0,90])\n",
    "    plt.savefig(PANEL_D1, facecolor='None', transparent=True)\n",
    "    plt.show()"
   ]
  },
  {
   "cell_type": "markdown",
   "metadata": {},
   "source": [
    "### LP"
   ]
  },
  {
   "cell_type": "code",
   "execution_count": 498,
   "metadata": {},
   "outputs": [],
   "source": [
    "# energies = x[\"energies\"]\n",
    "# energies_tt = torch.as_tensor(energies.to_numpy())\n",
    "# x_tt = torch.as_tensor(x.to_numpy(), dtype=torch.float32)\n",
    "\n",
    "# num_test = 1000\n",
    "# theta_test = torch.as_tensor(theta.to_numpy()[:num_test], dtype=torch.float32)\n",
    "# theta_train = torch.as_tensor(theta.to_numpy()[num_test:], dtype=torch.float32)\n",
    "\n",
    "# train_energy = torch.as_tensor(\n",
    "#     energies_tt[num_test:, 1].unsqueeze(1), dtype=torch.float32\n",
    "# )\n",
    "# test_energy = torch.as_tensor(\n",
    "#     energies_tt[:num_test, 1].unsqueeze(1), dtype=torch.float32\n",
    "# )\n",
    "# torch.manual_seed(0)\n",
    "# sensitivity = ActiveSubspace(posterior)\n",
    "# converged_nn_LP = sensitivity.add_property(\n",
    "#     theta_train, train_energy, hidden_features=20, num_blocks=1\n",
    "# ).train()"
   ]
  },
  {
   "cell_type": "code",
   "execution_count": 499,
   "metadata": {},
   "outputs": [],
   "source": [
    "# with open(\n",
    "#     \"../../../results/conditional_correlation_energy/converged_net_LP.pickle\",\n",
    "#     \"wb\",\n",
    "# ) as handle:\n",
    "#     pickle.dump(converged_nn_LP, handle)"
   ]
  },
  {
   "cell_type": "code",
   "execution_count": 500,
   "metadata": {},
   "outputs": [],
   "source": [
    "with open(\n",
    "    \"../../../results/conditional_correlation_energy/converged_net_LP.pickle\",\n",
    "    \"rb\",\n",
    ") as handle:\n",
    "    converged_nn_LP = pickle.load(handle)"
   ]
  },
  {
   "cell_type": "code",
   "execution_count": 501,
   "metadata": {},
   "outputs": [
    {
     "data": {
      "image/png": "[encoded data removed]",
      "text/plain": [
       "<Figure size 432x288 with 1 Axes>"
      ]
     },
     "metadata": {
      "needs_background": "light"
     },
     "output_type": "display_data"
    }
   ],
   "source": [
    "(\n",
    "    all_conditional_correlations,\n",
    "    all_energy_images,\n",
    "    all_energy_specific,\n",
    "    all_energy_per_spike,\n",
    "    all_num_spikes_per_burst,\n",
    ") = helpers.generate_and_store_data(\n",
    "    neuron1=np.arange(8,16),\n",
    "    neuron2=np.arange(8,16),\n",
    "    neuron_to_observe='LP',\n",
    "    grid_bins=grid_bins,\n",
    "    posterior=posterior,\n",
    "    condition1_norm=condition1_norm,\n",
    "    lims_unnorm=lims_unnorm,\n",
    "    stats_std=stats_std,\n",
    "    regression_net=converged_nn_LP,\n",
    "    min_prob=threshold_for_simulating,\n",
    ")"
   ]
  },
  {
   "cell_type": "code",
   "execution_count": 502,
   "metadata": {},
   "outputs": [],
   "source": [
    "with open(\n",
    "    \"../../../results/conditional_correlation_energy/211007_LP_all_stored_data_from_all_energy_specific_nn.pickle\",\n",
    "    \"rb\",\n",
    ") as handle:\n",
    "    all_energy_images_specific = pickle.load(handle)"
   ]
  },
  {
   "cell_type": "code",
   "execution_count": 503,
   "metadata": {},
   "outputs": [
    {
     "data": {
      "image/png": "[encoded data removed]",
      "text/plain": [
       "<Figure size 190x190 with 1 Axes>"
      ]
     },
     "metadata": {},
     "output_type": "display_data"
    }
   ],
   "source": [
    "with mpl.rc_context(fname=\"../../../.matplotlibrc\"):\n",
    "    viz.energy_gain_matrix(all_energy_images_specific, figsize=(1.9, 1.9), title=\"LP\", lims=[0., 90.])\n",
    "    plt.savefig(PANEL_D2, facecolor='None', transparent=True)\n",
    "    plt.show()"
   ]
  },
  {
   "cell_type": "markdown",
   "metadata": {},
   "source": [
    "### PY"
   ]
  },
  {
   "cell_type": "code",
   "execution_count": 504,
   "metadata": {},
   "outputs": [],
   "source": [
    "# energies = x[\"energies\"]\n",
    "# energies_tt = torch.as_tensor(energies.to_numpy())\n",
    "# x_tt = torch.as_tensor(x.to_numpy(), dtype=torch.float32)\n",
    "\n",
    "# num_test = 1000\n",
    "# theta_test = torch.as_tensor(theta.to_numpy()[:num_test], dtype=torch.float32)\n",
    "# theta_train = torch.as_tensor(theta.to_numpy()[num_test:], dtype=torch.float32)\n",
    "\n",
    "# train_energy = torch.as_tensor(\n",
    "#     energies_tt[num_test:, 2].unsqueeze(1), dtype=torch.float32\n",
    "# )\n",
    "# test_energy = torch.as_tensor(\n",
    "#     energies_tt[:num_test, 2].unsqueeze(1), dtype=torch.float32\n",
    "# )\n",
    "# torch.manual_seed(0)\n",
    "# sensitivity = ActiveSubspace(posterior)\n",
    "# converged_nn_PY = sensitivity.add_property(\n",
    "#     theta_train, train_energy, hidden_features=20, num_blocks=1\n",
    "# ).train()"
   ]
  },
  {
   "cell_type": "code",
   "execution_count": 505,
   "metadata": {},
   "outputs": [],
   "source": [
    "# with open(\n",
    "#     \"../../../results/conditional_correlation_energy/converged_net_PY.pickle\",\n",
    "#     \"wb\",\n",
    "# ) as handle:\n",
    "#     pickle.dump(converged_nn_PY, handle)"
   ]
  },
  {
   "cell_type": "code",
   "execution_count": 506,
   "metadata": {},
   "outputs": [],
   "source": [
    "with open(\n",
    "    \"../../../results/conditional_correlation_energy/converged_net_PY.pickle\",\n",
    "    \"rb\",\n",
    ") as handle:\n",
    "    converged_nn_PY = pickle.load(handle)"
   ]
  },
  {
   "cell_type": "code",
   "execution_count": 507,
   "metadata": {},
   "outputs": [
    {
     "data": {
      "image/png": "[encoded data removed]",
      "text/plain": [
       "<Figure size 432x288 with 1 Axes>"
      ]
     },
     "metadata": {
      "needs_background": "light"
     },
     "output_type": "display_data"
    }
   ],
   "source": [
    "(\n",
    "    all_conditional_correlations,\n",
    "    all_energy_images,\n",
    "    all_energy_specific,\n",
    "    all_energy_per_spike,\n",
    "    all_num_spikes_per_burst,\n",
    ") = helpers.generate_and_store_data(\n",
    "    neuron1=np.arange(16,24),\n",
    "    neuron2=np.arange(16,24),\n",
    "    neuron_to_observe='PY',\n",
    "    grid_bins=grid_bins,\n",
    "    posterior=posterior,\n",
    "    condition1_norm=condition1_norm,\n",
    "    lims_unnorm=lims_unnorm,\n",
    "    stats_std=stats_std,\n",
    "    regression_net=converged_nn_PY,\n",
    "    min_prob=threshold_for_simulating,\n",
    ")"
   ]
  },
  {
   "cell_type": "code",
   "execution_count": 508,
   "metadata": {},
   "outputs": [],
   "source": [
    "with open(\n",
    "    \"../../../results/conditional_correlation_energy/211007_PY_all_stored_data_from_all_energy_specific_nn.pickle\",\n",
    "    \"rb\",\n",
    ") as handle:\n",
    "    all_energy_images = pickle.load(handle)"
   ]
  },
  {
   "cell_type": "code",
   "execution_count": 509,
   "metadata": {},
   "outputs": [
    {
     "name": "stderr",
     "output_type": "stream",
     "text": [
      "<ipython-input-509-a1c714b7e363>:3: MatplotlibDeprecationWarning: Starting from Matplotlib 3.6, colorbar() will steal space from the mappable's axes, rather than from the current axes, to place the colorbar.  To silence this warning, explicitly pass the 'ax' argument to colorbar().\n",
      "  fig.colorbar(im)\n"
     ]
    },
    {
     "data": {
      "image/png": "[encoded data removed]",
      "text/plain": [
       "<Figure size 190x190 with 1 Axes>"
      ]
     },
     "metadata": {},
     "output_type": "display_data"
    }
   ],
   "source": [
    "with mpl.rc_context(fname=\"../../../.matplotlibrc\"):\n",
    "    im = viz.energy_gain_matrix(all_energy_images, figsize=(1.9, 1.9), title=\"PY\", lims=[0, 90])\n",
    "    fig.colorbar(im)\n",
    "    plt.savefig(PANEL_D3, facecolor='None', transparent=True)\n",
    "    plt.show()"
   ]
  },
  {
   "cell_type": "markdown",
   "metadata": {},
   "source": [
    "### Synapses"
   ]
  },
  {
   "cell_type": "code",
   "execution_count": 510,
   "metadata": {},
   "outputs": [
    {
     "data": {
      "image/png": "[encoded data removed]",
      "text/plain": [
       "<Figure size 432x288 with 1 Axes>"
      ]
     },
     "metadata": {
      "needs_background": "light"
     },
     "output_type": "display_data"
    }
   ],
   "source": [
    "pairs_syn = np.asarray(\n",
    "    [\n",
    "        [24, 8],\n",
    "        [24, 9],\n",
    "        [24, 10],\n",
    "        [24, 11],\n",
    "        [24, 12],\n",
    "        [24, 13],\n",
    "        [24, 14],\n",
    "        [24, 15],  # LP\n",
    "        [25, 8],\n",
    "        [25, 9],\n",
    "        [25, 10],\n",
    "        [25, 11],\n",
    "        [25, 12],\n",
    "        [25, 13],\n",
    "        [25, 14],\n",
    "        [25, 15],  # LP\n",
    "        [26, 16],\n",
    "        [26, 17],\n",
    "        [26, 18],\n",
    "        [26, 19],\n",
    "        [26, 20],\n",
    "        [26, 21],\n",
    "        [26, 22],\n",
    "        [26, 23],  # PY\n",
    "        [27, 16],\n",
    "        [27, 17],\n",
    "        [27, 18],\n",
    "        [27, 19],\n",
    "        [27, 20],\n",
    "        [27, 21],\n",
    "        [27, 22],\n",
    "        [27, 23],  # PY\n",
    "        [28, 0],\n",
    "        [28, 1],\n",
    "        [28, 2],\n",
    "        [28, 3],\n",
    "        [28, 4],\n",
    "        [28, 5],\n",
    "        [28, 6],\n",
    "        [28, 7],  # PD\n",
    "        [29, 16],\n",
    "        [29, 17],\n",
    "        [29, 18],\n",
    "        [29, 19],\n",
    "        [29, 20],\n",
    "        [29, 21],\n",
    "        [29, 22],\n",
    "        [29, 23],  # PY\n",
    "        [30, 8],\n",
    "        [30, 9],\n",
    "        [30, 10],\n",
    "        [30, 11],\n",
    "        [30, 12],\n",
    "        [30, 13],\n",
    "        [30, 14],\n",
    "        [30, 15],\n",
    "    ]  # LP\n",
    ")\n",
    "neuron_to_observe = [\"LP\"] * 16 + [\"PY\"] * 16 + [\"PM\"] * 8 + [\"PY\"] * 8 + [\"LP\"] * 8\n",
    "\n",
    "(\n",
    "    all_conditional_correlations,\n",
    "    all_energy_images,\n",
    "    all_energy_specific,\n",
    "    all_energy_per_spike,\n",
    "    all_num_spikes_per_burst,\n",
    ") = helpers.generate_and_store_data(\n",
    "    pairs=pairs_syn,\n",
    "    neuron1=np.arange(16,24),\n",
    "    neuron2=np.arange(16,24),\n",
    "    neuron_to_observe=neuron_to_observe,\n",
    "    grid_bins=grid_bins,\n",
    "    posterior=posterior,\n",
    "    condition1_norm=condition1_norm,\n",
    "    lims_unnorm=lims_unnorm,\n",
    "    stats_std=stats_std,\n",
    "    store_as='Synapses',\n",
    "    net1=converged_nn_AB,\n",
    "    net2=converged_nn_LP,\n",
    "    net3=converged_nn_PY,\n",
    "    min_prob=threshold_for_simulating,\n",
    ")"
   ]
  },
  {
   "cell_type": "code",
   "execution_count": 511,
   "metadata": {},
   "outputs": [],
   "source": [
    "with open(\n",
    "    \"../../../results/conditional_correlation_energy/211007_Synapses_all_stored_data_from_all_energy_specific_nn.pickle\",\n",
    "    \"rb\",\n",
    ") as handle:\n",
    "    all_energy_images = pickle.load(handle)"
   ]
  },
  {
   "cell_type": "code",
   "execution_count": 512,
   "metadata": {},
   "outputs": [
    {
     "name": "stderr",
     "output_type": "stream",
     "text": [
      "<ipython-input-512-79822553429b>:5: MatplotlibDeprecationWarning: Starting from Matplotlib 3.6, colorbar() will steal space from the mappable's axes, rather than from the current axes, to place the colorbar.  To silence this warning, explicitly pass the 'ax' argument to colorbar().\n",
      "  fig.colorbar(im)\n"
     ]
    },
    {
     "data": {
      "image/png": "[encoded data removed]",
      "text/plain": [
       "<Figure size 190x190 with 1 Axes>"
      ]
     },
     "metadata": {},
     "output_type": "display_data"
    }
   ],
   "source": [
    "with mpl.rc_context(fname=\"../../../.matplotlibrc\"):\n",
    "    im = viz.energy_gain_matrix_syn(\n",
    "        all_energy_images, figsize=(1.9, 1.9), title=\"Synapses\", lims=[0, 90]\n",
    "    )\n",
    "    fig.colorbar(im)\n",
    "    plt.savefig(PANEL_D4, facecolor='None', transparent=True)\n",
    "    plt.show()"
   ]
  },
  {
   "cell_type": "code",
   "execution_count": 513,
   "metadata": {},
   "outputs": [
    {
     "data": {
      "image/png": "[encoded data removed]",
      "text/plain": [
       "<Figure size 190x190 with 1 Axes>"
      ]
     },
     "metadata": {},
     "output_type": "display_data"
    }
   ],
   "source": [
    "with mpl.rc_context(fname=\"../../../.matplotlibrc\"):\n",
    "\n",
    "    # draw a new figure and replot the colorbar there\n",
    "    fig, ax = plt.subplots(figsize=(1.9, 1.9))\n",
    "    cb = plt.colorbar(im, ax=ax, aspect=25)\n",
    "\n",
    "    # cb.outline.set_color('white')\n",
    "\n",
    "    cb.outline.set_edgecolor(\"k\")\n",
    "    #cb.outline.set_linewidth(0.2)\n",
    "\n",
    "    cb.set_ticks([0.0, 90])  # vertically oriented colorbar\n",
    "    cb.ax.set_yticklabels([\"0 %\", \"90 %\"])  # vertically oriented colorbar\n",
    "\n",
    "    cb.ax.set_ylabel(\"Pot. energy savings \\n in respective neuron\")\n",
    "    cb.ax.yaxis.labelpad = -12\n",
    "\n",
    "    ax.remove()\n",
    "    plt.savefig(PANEL_D5, facecolor='None', transparent=True)\n",
    "    plt.show()"
   ]
  },
  {
   "cell_type": "markdown",
   "metadata": {},
   "source": [
    "# Assemble figure"
   ]
  },
  {
   "cell_type": "code",
   "execution_count": 514,
   "metadata": {},
   "outputs": [],
   "source": [
    "def svg(img):\n",
    "    IPd.display(IPd.HTML('<img src=\"{}\" / >'.format(img, time.time())))"
   ]
  },
  {
   "cell_type": "code",
   "execution_count": 530,
   "metadata": {},
   "outputs": [
    {
     "data": {
      "text/html": [
       "<img src=\"../fig/fig5_cc.svg\" / >"
      ],
      "text/plain": [
       "<IPython.core.display.HTML object>"
      ]
     },
     "metadata": {},
     "output_type": "display_data"
    }
   ],
   "source": [
    "from svgutils.compose import *\n",
    "\n",
    "# > Inkscape pixel is 1/90 of an inch, other software usually uses 1/72.\n",
    "# > http://www.inkscapeforum.com/viewtopic.php?f=6&t=5964\n",
    "svg_scale = 1.25  # set this to 1.25 for Inkscape, 1.0 otherwise\n",
    "factor_svg=5.5\n",
    "\n",
    "# Panel letters in Helvetica Neue, 12pt, Medium\n",
    "kwargs_text = {'size': '12pt', 'font': 'Arial', 'weight': '800'}\n",
    "kwargs_consistent = {'size': '10pt', 'font': 'Arial', 'weight': '500', 'color': '#AF99EF'}\n",
    "kwargs_consistent1 = {'size': '10pt', 'font': 'Arial', 'weight': '500', 'color': '#9E7DD5'}\n",
    "kwargs_inconsistent = {'size': '10pt', 'font': 'Arial', 'weight': '500', 'color': '#AF99EF'}\n",
    "kwargs_text8pt = {'size': '7.7pt', 'font': 'Arial'}\n",
    "kwargs_text8pt_white = {'size': '7.7pt', 'font': 'Arial', 'color': '#FFFFFF'}\n",
    "\n",
    "sizefactor = 1.0\n",
    "dshift = 0.5*factor_svg\n",
    "\n",
    "f = Figure(\"20.3cm\", \"9.3cm\",\n",
    "\n",
    "   Panel(\n",
    "        SVG(PANEL_B0).scale(svg_scale),\n",
    "        Text(\"a\", 1.3*factor_svg, 1.3*factor_svg, **kwargs_text),\n",
    "    ).move(-1.3*factor_svg, 1.5*factor_svg),\n",
    "               \n",
    "    Panel(\n",
    "        SVG(PANEL_C0).scale(svg_scale),\n",
    "        Text(\"b\", -0.8*factor_svg, 1.3*factor_svg, **kwargs_text),\n",
    "    ).move(25.3*factor_svg, 1.0*factor_svg),\n",
    "    \n",
    "    Panel(\n",
    "        SVG(PANEL_C1).scale(svg_scale),\n",
    "        Text(\"c\", -1*factor_svg, 1.3*factor_svg, **kwargs_text),\n",
    "#         if arrows:\n",
    "#             Text(\"d\", 9.2*factor_svg, 9.0*factor_svg, **kwargs_text8pt_white),\n",
    "#             Text(\"e\", 18.6*factor_svg, 18.5*factor_svg, **kwargs_text8pt_white),\n",
    "        Text(\"d\", 10.3*factor_svg, 4.3*factor_svg, **kwargs_text8pt_white),\n",
    "        Text(\"e\", 22.8*factor_svg, 17.4*factor_svg, **kwargs_text8pt_white),\n",
    "    ).move(55*factor_svg, 1.2*factor_svg),\n",
    "    \n",
    "    Panel(\n",
    "        SVG(PANEL_C_CBAR).scale(svg_scale),\n",
    "    ).move(79.5*factor_svg, 2.1*factor_svg),\n",
    "    \n",
    "    Panel(\n",
    "        SVG(PANEL_C3).scale(svg_scale),\n",
    "        Text(\"d\", -1*factor_svg, 0.5*factor_svg, **kwargs_text),\n",
    "    ).move(91*factor_svg, 2.3*factor_svg),\n",
    "           \n",
    "    Panel(\n",
    "        SVG(PANEL_C2).scale(svg_scale),\n",
    "        Text(\"e\", -1*factor_svg, 0.5*factor_svg, **kwargs_text),\n",
    "    ).move(120*factor_svg, 2.3*factor_svg),\n",
    "    \n",
    "    Panel(\n",
    "        SVG(PANEL_D1).scale(svg_scale),\n",
    "        Text(\"f\", 0*factor_svg, 2*factor_svg, **kwargs_text),\n",
    "    ).move(0*factor_svg, 29*factor_svg),\n",
    "    \n",
    "    Panel(\n",
    "        SVG(PANEL_D2).scale(svg_scale),\n",
    "    ).move(32*factor_svg, 29*factor_svg),\n",
    "    \n",
    "    Panel(\n",
    "        SVG(PANEL_D3).scale(svg_scale),\n",
    "    ).move(64*factor_svg, 29*factor_svg),\n",
    "    \n",
    "    Panel(\n",
    "        SVG(PANEL_D4).scale(svg_scale),\n",
    "    ).move(96*factor_svg, 31.7*factor_svg),\n",
    "    \n",
    "    Panel(\n",
    "        SVG(PANEL_D5).scale(svg_scale),\n",
    "    ).move(129.7*factor_svg, 31.6*factor_svg),\n",
    ")\n",
    "\n",
    "!mkdir -p fig\n",
    "f.save(\"../fig/fig5_cc.svg\")\n",
    "svg('../fig/fig5_cc.svg')"
   ]
  },
  {
   "cell_type": "markdown",
   "metadata": {},
   "source": [
    "### Assemble supplementary"
   ]
  },
  {
   "cell_type": "code",
   "execution_count": 516,
   "metadata": {},
   "outputs": [
    {
     "data": {
      "text/html": [
       "<img src=\"../fig/fig5_supp_traces.svg\" / >"
      ],
      "text/plain": [
       "<IPython.core.display.HTML object>"
      ]
     },
     "metadata": {},
     "output_type": "display_data"
    }
   ],
   "source": [
    "from svgutils.compose import *\n",
    "\n",
    "# > Inkscape pixel is 1/90 of an inch, other software usually uses 1/72.\n",
    "# > http://www.inkscapeforum.com/viewtopic.php?f=6&t=5964\n",
    "svg_scale = 1.25  # set this to 1.25 for Inkscape, 1.0 otherwise\n",
    "factor_svg=5.5\n",
    "\n",
    "# Panel letters in Helvetica Neue, 12pt, Medium\n",
    "kwargs_text = {'size': '12pt', 'font': 'Arial', 'weight': '800'}\n",
    "kwargs_consistent = {'size': '10pt', 'font': 'Arial', 'weight': '500', 'color': '#AF99EF'}\n",
    "kwargs_consistent1 = {'size': '10pt', 'font': 'Arial', 'weight': '500', 'color': '#9E7DD5'}\n",
    "kwargs_inconsistent = {'size': '10pt', 'font': 'Arial', 'weight': '500', 'color': '#AF99EF'}\n",
    "kwargs_text8pt = {'size': '7.7pt', 'font': 'Arial'}\n",
    "kwargs_text8pt_white = {'size': '7.7pt', 'font': 'Arial', 'color': '#FFFFFF'}\n",
    "\n",
    "sizefactor = 1.0\n",
    "dshift = 0.5*factor_svg\n",
    "\n",
    "f = Figure(\"20.3cm\", \"4.3cm\",\n",
    "\n",
    "   Panel(\n",
    "        SVG(PANEL_suppA_traces).scale(svg_scale),\n",
    "        Text(\"a\", 0*factor_svg, 1.3*factor_svg, **kwargs_text),\n",
    "    ).move(0*factor_svg, 1.5*factor_svg),\n",
    "               \n",
    "    Panel(\n",
    "        SVG(PANEL_suppB_traces).scale(svg_scale),\n",
    "        Text(\"b\", -0.8*factor_svg, 1.3*factor_svg, **kwargs_text),\n",
    "    ).move(48.*factor_svg, 1.0*factor_svg),\n",
    "           \n",
    "    Panel(\n",
    "        SVG(PANEL_suppC_traces).scale(svg_scale),\n",
    "        Text(\"c\", -0.8*factor_svg, 1.3*factor_svg, **kwargs_text),\n",
    "    ).move(96.*factor_svg, 1.0*factor_svg),\n",
    "\n",
    ")\n",
    "\n",
    "!mkdir -p fig\n",
    "f.save(\"../fig/fig5_supp_traces.svg\")\n",
    "svg('../fig/fig5_supp_traces.svg')"
   ]
  },
  {
   "cell_type": "markdown",
   "metadata": {},
   "source": [
    "# Old stuff"
   ]
  },
  {
   "cell_type": "code",
   "execution_count": 210,
   "metadata": {},
   "outputs": [
    {
     "data": {
      "text/html": [
       "<img src=\"../fig/fig5_supp_fractions.svg\" / >"
      ],
      "text/plain": [
       "<IPython.core.display.HTML object>"
      ]
     },
     "metadata": {},
     "output_type": "display_data"
    }
   ],
   "source": [
    "from svgutils.compose import *\n",
    "\n",
    "# > Inkscape pixel is 1/90 of an inch, other software usually uses 1/72.\n",
    "# > http://www.inkscapeforum.com/viewtopic.php?f=6&t=5964\n",
    "svg_scale = 1.25  # set this to 1.25 for Inkscape, 1.0 otherwise\n",
    "factor_svg=5.5\n",
    "\n",
    "# Panel letters in Helvetica Neue, 12pt, Medium\n",
    "kwargs_text = {'size': '12pt', 'font': 'Arial', 'weight': '800'}\n",
    "kwargs_consistent = {'size': '10pt', 'font': 'Arial', 'weight': '500', 'color': '#AF99EF'}\n",
    "kwargs_consistent1 = {'size': '10pt', 'font': 'Arial', 'weight': '500', 'color': '#9E7DD5'}\n",
    "kwargs_inconsistent = {'size': '10pt', 'font': 'Arial', 'weight': '500', 'color': '#AF99EF'}\n",
    "kwargs_text8pt = {'size': '7.7pt', 'font': 'Arial'}\n",
    "kwargs_text8pt_white = {'size': '7.7pt', 'font': 'Arial', 'color': '#FFFFFF'}\n",
    "\n",
    "sizefactor = 1.0\n",
    "dshift = 0.5*factor_svg\n",
    "\n",
    "f = Figure(\"20.3cm\", \"3.3cm\",\n",
    "\n",
    "   Panel(\n",
    "        SVG(PANEL_REG_supp_fraction_ABPD).scale(svg_scale),\n",
    "    ).move(0*factor_svg, 0.0*factor_svg),\n",
    "           \n",
    "    Panel(\n",
    "        SVG(PANEL_REG_supp_fraction_LP).scale(svg_scale),\n",
    "    ).move(38*factor_svg, 1.7*factor_svg),\n",
    "           \n",
    "    Panel(\n",
    "        SVG(PANEL_REG_supp_fraction_PY).scale(svg_scale),\n",
    "    ).move(68*factor_svg, 1.7*factor_svg),\n",
    "           \n",
    "    Panel(\n",
    "        SVG(PANEL_REG_supp_fraction_syn).scale(svg_scale),\n",
    "    ).move(97*factor_svg, 1.7*factor_svg),\n",
    ")\n",
    "\n",
    "!mkdir -p fig\n",
    "f.save(\"../fig/fig5_supp_fractions.svg\")\n",
    "svg('../fig/fig5_supp_fractions.svg')"
   ]
  },
  {
   "cell_type": "code",
   "execution_count": null,
   "metadata": {},
   "outputs": [],
   "source": []
  }
 ],
 "metadata": {
  "kernelspec": {
   "display_name": "Python 3",
   "language": "python",
   "name": "python3"
  },
  "language_info": {
   "codemirror_mode": {
    "name": "ipython",
    "version": 3
   },
   "file_extension": ".py",
   "mimetype": "text/x-python",
   "name": "python",
   "nbconvert_exporter": "python",
   "pygments_lexer": "ipython3",
   "version": "3.8.10"
  }
 },
 "nbformat": 4,
 "nbformat_minor": 4
}
