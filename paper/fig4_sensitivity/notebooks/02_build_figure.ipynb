{
 "cells": [
  {
   "cell_type": "code",
   "execution_count": 1,
   "metadata": {},
   "outputs": [],
   "source": [
    "import numpy as np\n",
    "import matplotlib.pyplot as plt\n",
    "from  mpl_toolkits.axisartist.grid_helper_curvelinear import GridHelperCurveLinear\n",
    "from mpl_toolkits.axisartist import Subplot"
   ]
  },
  {
   "cell_type": "code",
   "execution_count": 2,
   "metadata": {},
   "outputs": [],
   "source": [
    "import time\n",
    "\n",
    "import IPython.display as IPd\n",
    "import matplotlib as mpl\n",
    "import matplotlib.pylab as plt\n",
    "import numpy as np\n",
    "import torch\n",
    "import pandas as pd\n",
    "import dill as pickle\n",
    "\n",
    "from sbi.utils import ActiveSubspace\n",
    "from pyloric import simulate, summary_stats\n",
    "\n",
    "from stg_energy.common import svg\n",
    "from stg_energy.fig3_amortize_energy.viz import (\n",
    "    energy_scape,\n",
    "    plot_eigenvalues,\n",
    "    py_sensitivity_bars,\n",
    ")\n",
    "from stg_energy.fig4_sensitivity.helper_functions import (\n",
    "    nth_argmax,\n",
    "    nth_argmin,\n",
    "    prepare_data,\n",
    "    regression_plot,\n",
    ")\n",
    "import stg_energy.fig4_sensitivity.viz as viz"
   ]
  },
  {
   "cell_type": "code",
   "execution_count": 3,
   "metadata": {},
   "outputs": [],
   "source": [
    "pd.options.display.max_columns=999"
   ]
  },
  {
   "cell_type": "markdown",
   "metadata": {},
   "source": [
    "# Figure 4"
   ]
  },
  {
   "cell_type": "code",
   "execution_count": 4,
   "metadata": {},
   "outputs": [],
   "source": [
    "%load_ext autoreload\n",
    "%autoreload 2"
   ]
  },
  {
   "cell_type": "code",
   "execution_count": 5,
   "metadata": {},
   "outputs": [],
   "source": [
    "PANEL_supp1 = \"../svg/panel_supp1.svg\"\n",
    "PANEL_supp2 = \"../svg/panel_supp2.svg\"\n",
    "\n",
    "PANEL_A0_NEW = \"../svg/panel_a0_new.svg\"\n",
    "PANEL_A1_NEW = \"../svg/panel_a1_new.svg\"\n",
    "PANEL_A2_NEW = \"../svg/panel_a2_new.svg\"\n",
    "PANEL_B0_NEW = \"../svg/panel_b0_new.svg\"\n",
    "PANEL_B1_NEW = \"../svg/panel_b1_new.svg\"\n",
    "PANEL_B2_NEW = \"../svg/panel_b2_new.svg\"\n",
    "PANEL_C_NEW = \"../svg/panel_c_new.svg\"\n",
    "PANEL_C_angle = \"../svg/panel_c_angle_illustration.svg\"\n",
    "PANEL_D1_NEW = \"../svg/panel_d1_new.svg\"\n",
    "PANEL_D2_NEW = \"../svg/panel_d2_new.svg\"\n",
    "PANEL_D3_NEW = \"../svg/panel_d3_new.svg\"\n",
    "PANEL_D4_NEW = \"../svg/panel_d4_new.svg\"\n",
    "PANEL_D5_NEW = \"../svg/panel_d5_new.svg\"\n",
    "PANEL_D6_NEW = \"../svg/panel_d6_new.svg\"\n",
    "\n",
    "PANEL_nn_reg_EperSpike = \"../svg/panel_nn_reg_EperSpike.svg\"\n",
    "PANEL_nn_reg_numSpikes = \"../svg/panel_nn_reg_numSpikes.svg\""
   ]
  },
  {
   "cell_type": "markdown",
   "metadata": {},
   "source": [
    "### Sort out the data from the cluster"
   ]
  },
  {
   "cell_type": "code",
   "execution_count": 6,
   "metadata": {},
   "outputs": [],
   "source": [
    "theta = pd.read_pickle(\"../../../results/simulation_data_Tube_MLslurm_cluster/close_to_xo_circuit_parameters.pkl\")\n",
    "x = pd.read_pickle(\"../../../results/simulation_data_Tube_MLslurm_cluster/close_to_xo_simulation_outputs.pkl\")\n",
    "seeds = np.load(\"../../../results/simulation_data_Tube_MLslurm_cluster/close_to_xo_seeds.npy\")\n",
    "\n",
    "theta_np = theta.to_numpy()\n",
    "x_np = x.to_numpy()"
   ]
  },
  {
   "cell_type": "code",
   "execution_count": 7,
   "metadata": {},
   "outputs": [],
   "source": [
    "with open('../../../results/trained_neural_nets/inference/posterior_11deg.pickle', 'rb') as handle:\n",
    "    posterior = pickle.load(handle)"
   ]
  },
  {
   "cell_type": "code",
   "execution_count": 8,
   "metadata": {},
   "outputs": [],
   "source": [
    "xo = np.load('../../../results/experimental_data/xo_11deg.npy')"
   ]
  },
  {
   "cell_type": "markdown",
   "metadata": {},
   "source": [
    "# Train regression net"
   ]
  },
  {
   "cell_type": "markdown",
   "metadata": {},
   "source": [
    "### Prepare parameters"
   ]
  },
  {
   "cell_type": "code",
   "execution_count": 84,
   "metadata": {},
   "outputs": [],
   "source": [
    "num_test = 500\n",
    "\n",
    "theta_test = torch.as_tensor(theta_np[:num_test], dtype=torch.float32)\n",
    "theta_train = torch.as_tensor(theta_np[num_test:], dtype=torch.float32)"
   ]
  },
  {
   "cell_type": "markdown",
   "metadata": {},
   "source": [
    "### Prepare energy/spike"
   ]
  },
  {
   "cell_type": "code",
   "execution_count": 85,
   "metadata": {},
   "outputs": [],
   "source": [
    "all_energies_per_spike_ABPD = x['energies_per_spike']['PM'].to_numpy()\n",
    "all_energies_per_spike_ABPD_test = torch.as_tensor(all_energies_per_spike_ABPD[:num_test], dtype=torch.float32).unsqueeze(1)\n",
    "all_energies_per_spike_ABPD_train = torch.as_tensor(all_energies_per_spike_ABPD[num_test:], dtype=torch.float32).unsqueeze(1)"
   ]
  },
  {
   "cell_type": "code",
   "execution_count": 86,
   "metadata": {},
   "outputs": [
    {
     "data": {
      "text/plain": [
       "torch.Size([35439, 1])"
      ]
     },
     "execution_count": 86,
     "metadata": {},
     "output_type": "execute_result"
    }
   ],
   "source": [
    "all_energies_per_spike_ABPD_train.shape"
   ]
  },
  {
   "cell_type": "code",
   "execution_count": 87,
   "metadata": {},
   "outputs": [],
   "source": [
    "numSpikesPerBurst = x['num_spikes']['PM'].to_numpy() / x['num_bursts']['PM'].to_numpy()\n",
    "numSpikesPerBurst_test = torch.as_tensor(numSpikesPerBurst[:num_test], dtype=torch.float32).unsqueeze(1)\n",
    "numSpikesPerBurst_train = torch.as_tensor(numSpikesPerBurst[num_test:], dtype=torch.float32).unsqueeze(1)"
   ]
  },
  {
   "cell_type": "markdown",
   "metadata": {},
   "source": [
    "### Train classifier for energy per spike"
   ]
  },
  {
   "cell_type": "code",
   "execution_count": 88,
   "metadata": {},
   "outputs": [],
   "source": [
    "sensitivity = ActiveSubspace(posterior.set_default_x(xo))"
   ]
  },
  {
   "cell_type": "code",
   "execution_count": 89,
   "metadata": {},
   "outputs": [
    {
     "name": "stdout",
     "output_type": "stream",
     "text": [
      "Training neural network. Epochs trained:  3\r"
     ]
    }
   ],
   "source": [
    "converged_nn = sensitivity.add_property(\n",
    "    theta_train,\n",
    "    all_energies_per_spike_ABPD_train,\n",
    "    hidden_features=20,\n",
    "    num_blocks=1\n",
    ").train(max_num_epochs=2)"
   ]
  },
  {
   "cell_type": "code",
   "execution_count": 90,
   "metadata": {},
   "outputs": [],
   "source": [
    "predictions = converged_nn(theta_test).detach().numpy()"
   ]
  },
  {
   "cell_type": "code",
   "execution_count": 91,
   "metadata": {},
   "outputs": [
    {
     "data": {
      "image/png": "[encoded data removed]",
      "text/plain": [
       "<Figure size 200x150 with 1 Axes>"
      ]
     },
     "metadata": {},
     "output_type": "display_data"
    }
   ],
   "source": [
    "with mpl.rc_context(fname=\"../../../.matplotlibrc\"):\n",
    "    fig, ax = plt.subplots(1, 1, figsize=(2, 1.5))\n",
    "    unnorm_x = all_energies_per_spike_ABPD_test[:300].numpy()\n",
    "    unnorm_y = predictions[:300]\n",
    "    ax.scatter(x=unnorm_x, y=unnorm_y, s=3, color=\"#2b8cbe\")\n",
    "    gt_vec = np.linspace(np.min(unnorm_x), np.max(unnorm_x), 2)\n",
    "    ax.plot(gt_vec, gt_vec, \"#ff7f00\")\n",
    "    ax.set_xlabel(\"Energy / spike\")\n",
    "    ax.set_ylabel(\"Neural net prediction\")\n",
    "    plt.savefig(PANEL_supp1, facecolor=\"None\", transparent=True)"
   ]
  },
  {
   "cell_type": "markdown",
   "metadata": {},
   "source": [
    "### Regression network for #spikes"
   ]
  },
  {
   "cell_type": "markdown",
   "metadata": {},
   "source": [
    "### Get active subspace for E / spike"
   ]
  },
  {
   "cell_type": "code",
   "execution_count": 92,
   "metadata": {},
   "outputs": [
    {
     "data": {
      "application/vnd.jupyter.widget-view+json": {
       "model_id": "e848507cae144c86a9c1bbf16c3365ae",
       "version_major": 2,
       "version_minor": 0
      },
      "text/plain": [
       "HBox(children=(FloatProgress(value=0.0, description='Drawing 1000 posterior samples', max=1000.0, style=Progre…"
      ]
     },
     "metadata": {},
     "output_type": "display_data"
    },
    {
     "name": "stdout",
     "output_type": "stream",
     "text": [
      "\n"
     ]
    }
   ],
   "source": [
    "e_vals, e_vecs = sensitivity.find_active()"
   ]
  },
  {
   "cell_type": "code",
   "execution_count": 93,
   "metadata": {},
   "outputs": [
    {
     "name": "stdout",
     "output_type": "stream",
     "text": [
      "Ratio of first to second eigenvalue:  tensor(307.0017)\n"
     ]
    },
    {
     "data": {
      "image/png": "[encoded data removed]",
      "text/plain": [
       "<Figure size 180x100 with 1 Axes>"
      ]
     },
     "metadata": {},
     "output_type": "display_data"
    }
   ],
   "source": [
    "with mpl.rc_context(fname=\"../../../.matplotlibrc\"):\n",
    "    plot_eigenvalues(\n",
    "        torch.log(torch.flip(e_vals, dims=(0,))),\n",
    "        figsize=(1.8, 1.0),\n",
    "        ylabel=\"log(E.-value)\",\n",
    "        color='k'\n",
    "    )\n",
    "    print(\n",
    "        \"Ratio of first to second eigenvalue: \",\n",
    "        e_vals[-1] / e_vals[-2],\n",
    "    )\n",
    "    plt.savefig(PANEL_A0_NEW, facecolor=\"None\", transparent=True)\n",
    "    plt.show()"
   ]
  },
  {
   "cell_type": "code",
   "execution_count": 94,
   "metadata": {},
   "outputs": [
    {
     "data": {
      "image/png": "[encoded data removed]",
      "text/plain": [
       "<Figure size 160x70 with 1 Axes>"
      ]
     },
     "metadata": {},
     "output_type": "display_data"
    }
   ],
   "source": [
    "with mpl.rc_context(fname=\"../../../.matplotlibrc\"):\n",
    "    py_sensitivity_bars(\n",
    "        e_vecs[0:8, -1:].T,\n",
    "        ylim=[-0.7, 1.0],\n",
    "        figsize=(1.6, 0.7),\n",
    "        ylabel=\"First E-vec.\",\n",
    "        plot_labels=True,\n",
    "        color=\"#3182bd\",\n",
    "    )\n",
    "    plt.savefig(PANEL_A1_NEW, facecolor=\"None\", transparent=True)\n",
    "    plt.show()"
   ]
  },
  {
   "cell_type": "code",
   "execution_count": 95,
   "metadata": {},
   "outputs": [
    {
     "data": {
      "image/png": "[encoded data removed]",
      "text/plain": [
       "<Figure size 200x70 with 1 Axes>"
      ]
     },
     "metadata": {},
     "output_type": "display_data"
    }
   ],
   "source": [
    "with mpl.rc_context(fname=\"../../../.matplotlibrc\"):\n",
    "    viz.other_sensitivity_bars(\n",
    "        e_vecs[8:, -1:].T, ylim=[-0.7, 1.0], figsize=(2.0, 0.7)\n",
    "    )\n",
    "    plt.savefig(PANEL_A2_NEW, facecolor=\"None\", transparent=True)\n",
    "    plt.show()"
   ]
  },
  {
   "cell_type": "markdown",
   "metadata": {},
   "source": [
    "### Get active subspace for number of spikes"
   ]
  },
  {
   "cell_type": "code",
   "execution_count": 96,
   "metadata": {},
   "outputs": [],
   "source": [
    "sensitivity_num_spikes = ActiveSubspace(posterior.set_default_x(xo))"
   ]
  },
  {
   "cell_type": "code",
   "execution_count": 97,
   "metadata": {},
   "outputs": [
    {
     "name": "stdout",
     "output_type": "stream",
     "text": [
      "Training neural network. Epochs trained:  3\r"
     ]
    }
   ],
   "source": [
    "converged_nn_num_spikes = sensitivity_num_spikes.add_property(\n",
    "    theta_train,\n",
    "    numSpikesPerBurst_train,\n",
    "    hidden_features=20,\n",
    "    num_blocks=1\n",
    ").train(max_num_epochs=2)"
   ]
  },
  {
   "cell_type": "code",
   "execution_count": 98,
   "metadata": {},
   "outputs": [],
   "source": [
    "predictions = converged_nn_num_spikes(theta_test).detach().numpy()"
   ]
  },
  {
   "cell_type": "code",
   "execution_count": 99,
   "metadata": {},
   "outputs": [
    {
     "data": {
      "image/png": "[encoded data removed]",
      "text/plain": [
       "<Figure size 200x150 with 1 Axes>"
      ]
     },
     "metadata": {},
     "output_type": "display_data"
    }
   ],
   "source": [
    "with mpl.rc_context(fname=\"../../../.matplotlibrc\"):\n",
    "    fig, ax = plt.subplots(1, 1, figsize=(2, 1.5))\n",
    "    unnorm_x = numSpikesPerBurst_test[:300].numpy()\n",
    "    unnorm_y = predictions[:300]\n",
    "    ax.scatter(x=unnorm_x, y=unnorm_y, s=3, color=\"#2b8cbe\")\n",
    "    gt_vec = np.linspace(np.min(unnorm_x), np.max(unnorm_x), 2)\n",
    "    ax.plot(gt_vec, gt_vec, \"#ff7f00\")\n",
    "    ax.set_xlabel(\"Spikes per burst\")\n",
    "    ax.set_ylabel(\"Neural net prediction\")\n",
    "    plt.savefig(PANEL_supp2, facecolor=\"None\", transparent=True)"
   ]
  },
  {
   "cell_type": "code",
   "execution_count": 100,
   "metadata": {},
   "outputs": [
    {
     "data": {
      "application/vnd.jupyter.widget-view+json": {
       "model_id": "4ac45f24176b4f5c9c930484f0f7e261",
       "version_major": 2,
       "version_minor": 0
      },
      "text/plain": [
       "HBox(children=(FloatProgress(value=0.0, description='Drawing 1000 posterior samples', max=1000.0, style=Progre…"
      ]
     },
     "metadata": {},
     "output_type": "display_data"
    },
    {
     "name": "stdout",
     "output_type": "stream",
     "text": [
      "\n"
     ]
    }
   ],
   "source": [
    "e_vals_num_spikes, e_vecs_num_spikes = sensitivity_num_spikes.find_active()"
   ]
  },
  {
   "cell_type": "code",
   "execution_count": 101,
   "metadata": {},
   "outputs": [
    {
     "name": "stdout",
     "output_type": "stream",
     "text": [
      "Ratio of first to second eigenvalue:  tensor(55.9759)\n"
     ]
    },
    {
     "data": {
      "image/png": "[encoded data removed]",
      "text/plain": [
       "<Figure size 180x100 with 1 Axes>"
      ]
     },
     "metadata": {},
     "output_type": "display_data"
    }
   ],
   "source": [
    "with mpl.rc_context(fname=\"../../../.matplotlibrc\"):\n",
    "    plot_eigenvalues(\n",
    "        torch.log(torch.flip(e_vals_num_spikes, dims=(0,))),\n",
    "        figsize=(1.8, 1.0),\n",
    "        ylabel=\"log(E.-value)\",\n",
    "        color='k'\n",
    "    )\n",
    "    print(\n",
    "        \"Ratio of first to second eigenvalue: \",\n",
    "        e_vals_num_spikes[-1] / e_vals_num_spikes[-2],\n",
    "    )\n",
    "    plt.savefig(PANEL_B0_NEW, facecolor=\"None\", transparent=True)\n",
    "    plt.show()"
   ]
  },
  {
   "cell_type": "code",
   "execution_count": 102,
   "metadata": {},
   "outputs": [
    {
     "data": {
      "image/png": "[encoded data removed]",
      "text/plain": [
       "<Figure size 160x70 with 1 Axes>"
      ]
     },
     "metadata": {},
     "output_type": "display_data"
    }
   ],
   "source": [
    "with mpl.rc_context(fname=\"../../../.matplotlibrc\"):\n",
    "    py_sensitivity_bars(\n",
    "        e_vecs_num_spikes[0:8, -1:].T,\n",
    "        ylim=[-0.7, 1.0],\n",
    "        figsize=(1.6, 0.7),\n",
    "        ylabel=\"First E-vec.\",\n",
    "        plot_labels=True,\n",
    "        color=\"#3182bd\",\n",
    "    )\n",
    "    plt.savefig(PANEL_B1_NEW, facecolor=\"None\", transparent=True)\n",
    "    plt.show()"
   ]
  },
  {
   "cell_type": "code",
   "execution_count": 103,
   "metadata": {},
   "outputs": [
    {
     "data": {
      "image/png": "[encoded data removed]",
      "text/plain": [
       "<Figure size 200x70 with 1 Axes>"
      ]
     },
     "metadata": {},
     "output_type": "display_data"
    }
   ],
   "source": [
    "with mpl.rc_context(fname=\"../../../.matplotlibrc\"):\n",
    "    viz.other_sensitivity_bars(\n",
    "        e_vecs_num_spikes[8:, -1:].T, ylim=[-0.7, 1.0], figsize=(2.0, 0.7)\n",
    "    )\n",
    "    plt.savefig(PANEL_B2_NEW, facecolor=\"None\", transparent=True)\n",
    "    plt.show()"
   ]
  },
  {
   "cell_type": "code",
   "execution_count": 104,
   "metadata": {},
   "outputs": [],
   "source": [
    "v1 = e_vecs_num_spikes[:, -1]\n",
    "v2 = e_vecs[:, -1]"
   ]
  },
  {
   "cell_type": "code",
   "execution_count": 105,
   "metadata": {},
   "outputs": [
    {
     "name": "stdout",
     "output_type": "stream",
     "text": [
      "tensor([ 9.5302e-01,  6.1007e-02,  3.3579e-02, -9.3122e-02,  2.7588e-01,\n",
      "        -3.5913e-02,  7.0745e-03, -2.2624e-03,  6.6320e-03,  3.2385e-04,\n",
      "        -1.6065e-04,  3.3435e-03,  3.9594e-03, -6.5005e-03, -1.8813e-03,\n",
      "         7.5386e-03, -5.4543e-03,  1.3298e-02, -1.6737e-03,  4.5605e-03,\n",
      "         2.5183e-03,  7.1121e-03,  4.1047e-03, -4.0366e-03,  1.2437e-02,\n",
      "        -1.4762e-03, -4.2061e-03, -4.2581e-03,  6.2489e-03,  6.8568e-03,\n",
      "         1.1894e-03])\n"
     ]
    }
   ],
   "source": [
    "norm_v1 = torch.norm(v1)\n",
    "print(v2)"
   ]
  },
  {
   "cell_type": "code",
   "execution_count": 106,
   "metadata": {},
   "outputs": [
    {
     "name": "stdout",
     "output_type": "stream",
     "text": [
      "dot_prod -0.3497956097126007\n"
     ]
    }
   ],
   "source": [
    "dot_prod = torch.dot(v1, v2).item()\n",
    "print('dot_prod', dot_prod)"
   ]
  },
  {
   "cell_type": "code",
   "execution_count": 107,
   "metadata": {},
   "outputs": [
    {
     "name": "stdout",
     "output_type": "stream",
     "text": [
      "angle in rad: 1.928149248402582\n",
      "angle in deg: 110.47481420478972\n"
     ]
    }
   ],
   "source": [
    "import math\n",
    "angle = math.acos(dot_prod)\n",
    "print('angle in rad:', angle)\n",
    "print('angle in deg:', angle / 2 / math.pi * 360)"
   ]
  },
  {
   "cell_type": "markdown",
   "metadata": {},
   "source": [
    "# Project parameters into plane"
   ]
  },
  {
   "cell_type": "code",
   "execution_count": 110,
   "metadata": {},
   "outputs": [],
   "source": [
    "projected_e_per_spike = sensitivity.project(theta_train, num_dimensions=1)\n",
    "projected_num_spikes = sensitivity_num_spikes.project(theta_train, num_dimensions=1)"
   ]
  },
  {
   "cell_type": "markdown",
   "metadata": {},
   "source": [
    "### Select three interesting parameter sets"
   ]
  },
  {
   "cell_type": "code",
   "execution_count": 120,
   "metadata": {},
   "outputs": [],
   "source": [
    "ind_of_min_e_per_spike = nth_argmin(projected_e_per_spike, 0)\n",
    "ind_of_max_e_per_spike = nth_argmax(projected_e_per_spike, 27)"
   ]
  },
  {
   "cell_type": "code",
   "execution_count": 121,
   "metadata": {},
   "outputs": [],
   "source": [
    "ind_of_min_numSpikes = nth_argmin(projected_num_spikes, 14)\n",
    "ind_of_max_numSpikes = nth_argmax(projected_num_spikes, 0)"
   ]
  },
  {
   "cell_type": "code",
   "execution_count": 122,
   "metadata": {},
   "outputs": [],
   "source": [
    "cond1 = projected_e_per_spike > -1.2\n",
    "cond2 = projected_e_per_spike < -0.8\n",
    "cond3 = projected_num_spikes > -1.2\n",
    "cond4 = projected_num_spikes < -0.8"
   ]
  },
  {
   "cell_type": "code",
   "execution_count": 123,
   "metadata": {},
   "outputs": [],
   "source": [
    "full_cond = torch.logical_and(torch.logical_and(torch.logical_and(cond1, cond2), cond3), cond4)"
   ]
  },
  {
   "cell_type": "code",
   "execution_count": 133,
   "metadata": {},
   "outputs": [],
   "source": [
    "fulfiling_param_sets = theta_train[full_cond[:, 0]]\n",
    "print(fulfiling_param_sets.shape)"
   ]
  },
  {
   "cell_type": "code",
   "execution_count": 126,
   "metadata": {},
   "outputs": [],
   "source": [
    "parameter_set1 = theta_train[ind_of_min_e_per_spike].unsqueeze(0)\n",
    "parameter_set1_dim1 = sensitivity.project(parameter_set1, num_dimensions=1)\n",
    "parameter_set1_dim2 = sensitivity_num_spikes.project(parameter_set1, num_dimensions=1)\n",
    "\n",
    "parameter_set2 = theta_train[ind_of_min_numSpikes].unsqueeze(0)\n",
    "parameter_set2_dim1 = sensitivity.project(parameter_set2, num_dimensions=1)\n",
    "parameter_set2_dim2 = sensitivity_num_spikes.project(parameter_set2, num_dimensions=1)\n",
    "\n",
    "# parameter_set3 = train_params_norm[ind_of_max_e_per_spike].unsqueeze(0)\n",
    "parameter_set3 = theta_train[full_cond[:, 0]][0].unsqueeze(0)\n",
    "parameter_set3_dim1 = sensitivity.project(parameter_set3, num_dimensions=1)\n",
    "parameter_set3_dim2 = sensitivity_num_spikes.project(parameter_set3, num_dimensions=1)"
   ]
  },
  {
   "cell_type": "markdown",
   "metadata": {},
   "source": [
    "### For coloring the dots with the energy consumed by the AB/PD neuron, load the energies"
   ]
  },
  {
   "cell_type": "code",
   "execution_count": 128,
   "metadata": {},
   "outputs": [],
   "source": [
    "energies = x['energies']['PM'].to_numpy()\n",
    "energies_train = energies[500:]"
   ]
  },
  {
   "cell_type": "markdown",
   "metadata": {},
   "source": [
    "# Panel E"
   ]
  },
  {
   "cell_type": "markdown",
   "metadata": {},
   "source": [
    "### Non-orthogonal version"
   ]
  },
  {
   "cell_type": "code",
   "execution_count": 129,
   "metadata": {},
   "outputs": [],
   "source": [
    "angle_within_90deg = math.pi - angle"
   ]
  },
  {
   "cell_type": "code",
   "execution_count": 130,
   "metadata": {},
   "outputs": [],
   "source": [
    "from matplotlib import ticker\n",
    "my_ticker = ticker.FixedFormatter([-2,0,2])\n",
    "from matplotlib.ticker import (MultipleLocator, FormatStrFormatter, AutoMinorLocator)"
   ]
  },
  {
   "cell_type": "code",
   "execution_count": 176,
   "metadata": {},
   "outputs": [
    {
     "data": {
      "image/png": "[encoded data removed]",
      "text/plain": [
       "<Figure size 310x200 with 2 Axes>"
      ]
     },
     "metadata": {},
     "output_type": "display_data"
    }
   ],
   "source": [
    "import numpy as np\n",
    "import matplotlib.pyplot as plt\n",
    "from  mpl_toolkits.axisartist.grid_helper_curvelinear import GridHelperCurveLinear\n",
    "from mpl_toolkits.axisartist import Subplot, ParasiteAxesAuxTrans\n",
    "import  mpl_toolkits.axisartist.angle_helper as angle_helper\n",
    "from mpl_toolkits.axisartist.grid_finder import FixedLocator\n",
    "\n",
    "def curvelinear_test1(fig):\n",
    "    xlims = [-3.4, 2.2]\n",
    "    ylims = [-3.42, 2.8]\n",
    "\n",
    "    # We need this ration because the scale on the y-axis and on the x-axis is\n",
    "    # different. The ration is approximately 2.7 / 1.8, which is the ratio of\n",
    "    # the mins of the data in the respective dimensions. Correctness of the\n",
    "    # ration 1.55 was checked by manually rotating the ylabel with:\n",
    "    # `ax1.axis[\"y\"].label.set_rotation(-19)`. 19 degree is the true angle from\n",
    "    # a right angle.\n",
    "    ratio_yx = 1.55\n",
    "\n",
    "    def tr(x, y):\n",
    "        x, y = np.asarray(x), np.asarray(y)\n",
    "        return x-y / math.tan(angle_within_90deg) / ratio_yx, y\n",
    "    def inv_tr(x,y):\n",
    "        x, y = np.asarray(x), np.asarray(y)\n",
    "        return x + y * math.tan(angle_within_90deg) * ratio_yx, y\n",
    "\n",
    "    grid_locator1 = FixedLocator([-1.8, 0, 1.8])\n",
    "    grid_locator2 = FixedLocator([-2.7, 0])\n",
    "\n",
    "    grid_helper = GridHelperCurveLinear(aux_trans=(tr, inv_tr), \n",
    "                                        grid_locator1=grid_locator1,\n",
    "                                        grid_locator2=grid_locator2)\n",
    "    \n",
    "    ax1 = Subplot(fig, 1, 1, 1, grid_helper=grid_helper)\n",
    "    fig.add_subplot(ax1)\n",
    "    \n",
    "#     ax1.grid(zorder=-100)\n",
    "    ax1.grid(True, which='minor', zorder=-100)\n",
    "    \n",
    "    projected_data_x, projected_data_y = tr(projected_num_spikes[:4000].T, projected_e_per_spike[:4000].T)\n",
    "    im = ax1.scatter(\n",
    "        projected_data_x,\n",
    "        projected_data_y,\n",
    "        s=3,\n",
    "        c=energies_train[:4000],\n",
    "        cmap='autumn_r'\n",
    "    )\n",
    "    ax1.scatter(*tr(parameter_set1_dim2, parameter_set1_dim1), color=\"#0570b0\")\n",
    "    ax1.scatter(*tr(parameter_set2_dim2, parameter_set2_dim1), color=\"#0570b0\")\n",
    "    ax1.scatter(*tr(parameter_set3_dim2, parameter_set3_dim1), color=\"#0570b0\")\n",
    "    \n",
    "    ax1.annotate(\n",
    "        \"\",\n",
    "        xy=(-0.9, -2.1),\n",
    "        xytext=(-0.2, -0.5),\n",
    "        arrowprops=dict(\n",
    "            facecolor=\"#0570b0\",\n",
    "            edgecolor=\"#0570b0\",\n",
    "            headwidth=5.4,\n",
    "            headlength=5.7,\n",
    "            width=0.1,\n",
    "        ),\n",
    "    )\n",
    "    \n",
    "    ax1.axis[\"right\"].set_visible(False)\n",
    "    ax1.axis[\"top\"].set_visible(False)\n",
    "    ax1.axis[\"bottom\"].set_visible(False)\n",
    "    ax1.axis[\"left\"].set_visible(False)\n",
    "\n",
    "    xx, yy = tr([3, 6], [5.0, 10.])\n",
    "    ax1.plot(xx, yy)\n",
    "\n",
    "    ax1.set_xlim(xlims)\n",
    "    ax1.set_ylim(ylims)\n",
    "    \n",
    "    ax1.set_ylabel(\"Proj. to 1st E-vec: E / spike\")\n",
    "    ax1.set_xlabel(\"Proj. to 1st E-vec: E / spike\")\n",
    "    \n",
    "    ax1.axis[\"y\"]=ax1.new_floating_axis(0, -2.4)\n",
    "    ax1.axis[\"x\"]=ax1.new_floating_axis(1, -3.4)\n",
    "    ax1.axis[\"y\"].set_axis_direction(\"top\")\n",
    "    ax1.axis[\"y\"].label.set_axis_direction(\"bottom\")\n",
    "    ax1.axis[\"y\"].set_ticklabel_direction(\"+\")\n",
    "    ax1.axis[\"y\"].invert_ticklabel_direction()\n",
    "    \n",
    "    cbar = plt.colorbar(im, aspect=25, fraction=0.04, pad=0.04)\n",
    "    cbar.set_ticks([])\n",
    "    cbar.set_label(\"Energy (AB)\", labelpad=5)\n",
    "\n",
    "with mpl.rc_context(fname=\"../../../.matplotlibrc\"):\n",
    "    fig = plt.figure(figsize=(3.1, 2.0))\n",
    "    curvelinear_test1(fig)\n",
    "    plt.savefig(PANEL_C_NEW, facecolor=\"None\", transparent=True)\n",
    "    plt.show()"
   ]
  },
  {
   "cell_type": "code",
   "execution_count": 137,
   "metadata": {},
   "outputs": [],
   "source": [
    "all_energies_per_spike = x['energies_per_spike']['PM'].to_numpy()\n",
    "all_energies = x['energies']['PM'].to_numpy()\n",
    "all_num_spikes = x['num_spikes']['PM'].to_numpy()\n",
    "\n",
    "min_energy_per_spike = np.min(all_energies_per_spike)\n",
    "max_energy_per_spike = np.max(all_energies_per_spike)\n",
    "\n",
    "min_energy = np.min(all_energies)\n",
    "max_energy = np.max(all_energies)\n",
    "\n",
    "min_num_spikes = np.min(all_num_spikes)\n",
    "max_num_spikes = np.max(all_num_spikes)"
   ]
  },
  {
   "cell_type": "code",
   "execution_count": 146,
   "metadata": {},
   "outputs": [],
   "source": [
    "unnorm_set_dim_1 = pd.DataFrame(parameter_set1[:1], columns=theta.columns)\n",
    "unnorm_set_dim_2 = pd.DataFrame(parameter_set2[:1], columns=theta.columns)\n",
    "unnorm_set_dim_3 = pd.DataFrame(parameter_set3[:1], columns=theta.columns)\n",
    "\n",
    "simulation_output_1 = simulate(unnorm_set_dim_1.loc[0], seed=0, track_energy=True, track_currents=True)\n",
    "simulation_output_2 = simulate(unnorm_set_dim_2.loc[0], seed=0, track_energy=True, track_currents=True)\n",
    "simulation_output_3 = simulate(unnorm_set_dim_3.loc[0], seed=0, track_energy=True, track_currents=True)"
   ]
  },
  {
   "cell_type": "code",
   "execution_count": 147,
   "metadata": {},
   "outputs": [],
   "source": [
    "time_vec = np.arange(0, 11000, 0.025)"
   ]
  },
  {
   "cell_type": "code",
   "execution_count": 153,
   "metadata": {},
   "outputs": [
    {
     "data": {
      "image/png": "[encoded data removed]",
      "text/plain": [
       "<Figure size 130x100 with 2 Axes>"
      ]
     },
     "metadata": {},
     "output_type": "display_data"
    }
   ],
   "source": [
    "with mpl.rc_context(fname=\"../../../.matplotlibrc\"):\n",
    "    energy_scape(\n",
    "        simulation_output_1,\n",
    "        time_vec,\n",
    "        (1.3, 1.0),\n",
    "        [\"k\", \"k\", \"k\"],\n",
    "        time_len=20000,\n",
    "        offset=106000,\n",
    "        ylimE=[0, 250],\n",
    "        v_labelpad=4.7,\n",
    "        neuron=0,\n",
    "    )\n",
    "#     plt.savefig(PANEL_D1_NEW, facecolor=\"None\", transparent=True)"
   ]
  },
  {
   "cell_type": "code",
   "execution_count": 163,
   "metadata": {},
   "outputs": [
    {
     "data": {
      "image/png": "[encoded data removed]",
      "text/plain": [
       "<Figure size 70x100 with 1 Axes>"
      ]
     },
     "metadata": {},
     "output_type": "display_data"
    }
   ],
   "source": [
    "summstats = summary_stats(\n",
    "    simulation_output_1,\n",
    "    stats_customization={\n",
    "        'energies': True,\n",
    "        'num_spikes': True,\n",
    "        'energies_per_spike': True\n",
    "    }\n",
    ")\n",
    "num_spikes_ABPD = summstats['num_spikes']['PM'].to_numpy()[0]\n",
    "energies_ABPD_sim = summstats['energies']['PM'].to_numpy()[0]\n",
    "energyperspike_ABPD_sim = summstats['energies_per_spike']['PM'].to_numpy()[0]\n",
    "\n",
    "with mpl.rc_context(fname=\"../../../.matplotlibrc\"):\n",
    "    fig, ax = plt.subplots(1, 1, figsize=(0.7, 1.0))\n",
    "    height_num_spikes = (num_spikes_ABPD - min_num_spikes) / (\n",
    "        max_num_spikes - min_num_spikes\n",
    "    )\n",
    "    height_energy_per_spike = (energyperspike_ABPD_sim - min_energy_per_spike) / (\n",
    "        max_energy_per_spike - min_energy_per_spike\n",
    "    )\n",
    "    height_energy = (energies_ABPD_sim - min_energy) / (max_energy - min_energy)\n",
    "    ax.bar(\n",
    "        np.arange(0, 3),\n",
    "        [height_num_spikes, height_energy_per_spike, height_energy],\n",
    "        width=0.3,\n",
    "        facecolor='k',\n",
    "    )\n",
    "    ax.set_ylim([0, 1])\n",
    "    ax.set_xlim([-0.4, 2.4])\n",
    "    ax.spines[\"top\"].set_visible(False)\n",
    "    ax.spines[\"right\"].set_visible(False)\n",
    "    ax.set_xticks([0, 1, 2])\n",
    "    ax.set_yticks([0, 1])\n",
    "    ax.set_xticklabels([\"#spikes\", \"E/spike\", \"Energy\"], rotation=45)\n",
    "    ax.set_yticklabels([\"min\", \"max\"])\n",
    "    plt.savefig(PANEL_D2_NEW, facecolor=\"None\", transparent=True)\n",
    "    plt.show()"
   ]
  },
  {
   "cell_type": "code",
   "execution_count": 166,
   "metadata": {},
   "outputs": [
    {
     "data": {
      "image/png": "[encoded data removed]",
      "text/plain": [
       "<Figure size 130x100 with 2 Axes>"
      ]
     },
     "metadata": {},
     "output_type": "display_data"
    }
   ],
   "source": [
    "with mpl.rc_context(fname=\"../../../.matplotlibrc\"):\n",
    "    energy_scape(\n",
    "        simulation_output_2,\n",
    "        time_vec,\n",
    "        (1.3, 1.0),\n",
    "        [\"k\", \"k\", \"k\"],\n",
    "        time_len=20000,\n",
    "        offset=305000,\n",
    "        ylimE=[0, 2000],\n",
    "        v_labelpad=4.7,\n",
    "        neuron=0,\n",
    "    )\n",
    "    plt.savefig(PANEL_D3_NEW, facecolor=\"None\", transparent=True)"
   ]
  },
  {
   "cell_type": "code",
   "execution_count": 169,
   "metadata": {},
   "outputs": [
    {
     "data": {
      "image/png": "[encoded data removed]",
      "text/plain": [
       "<Figure size 70x100 with 1 Axes>"
      ]
     },
     "metadata": {},
     "output_type": "display_data"
    }
   ],
   "source": [
    "summstats = summary_stats(\n",
    "    simulation_output_2,\n",
    "    stats_customization={\n",
    "        'energies': True,\n",
    "        'num_spikes': True,\n",
    "        'energies_per_spike': True\n",
    "    }\n",
    ")\n",
    "num_spikes_ABPD = summstats['num_spikes']['PM'].to_numpy()[0]\n",
    "energies_ABPD_sim = summstats['energies']['PM'].to_numpy()[0]\n",
    "energyperspike_ABPD_sim = summstats['energies_per_spike']['PM'].to_numpy()[0]\n",
    "\n",
    "with mpl.rc_context(fname=\"../../../.matplotlibrc\"):\n",
    "    fig, ax = plt.subplots(1, 1, figsize=(0.7, 1.0))\n",
    "    height_num_spikes = (num_spikes_ABPD - min_num_spikes) / (\n",
    "        max_num_spikes - min_num_spikes\n",
    "    )\n",
    "    height_energy_per_spike = (energyperspike_ABPD_sim - min_energy_per_spike) / (\n",
    "        max_energy_per_spike - min_energy_per_spike\n",
    "    )\n",
    "    height_energy = (energies_ABPD_sim - min_energy) / (max_energy - min_energy)\n",
    "    ax.bar(\n",
    "        np.arange(0, 3),\n",
    "        [height_num_spikes, height_energy_per_spike, height_energy],\n",
    "        width=0.3,\n",
    "        facecolor='k',\n",
    "    )\n",
    "    ax.set_ylim([0, 1])\n",
    "    ax.set_xlim([-0.4, 2.4])\n",
    "    ax.spines[\"top\"].set_visible(False)\n",
    "    ax.spines[\"right\"].set_visible(False)\n",
    "    ax.set_xticks([0, 1, 2])\n",
    "    ax.set_yticks([0, 1])\n",
    "    ax.set_xticklabels([\"#spikes\", \"E/spike\", \"Energy\"], rotation=45)\n",
    "    ax.set_yticklabels([\"min\", \"max\"])\n",
    "    plt.savefig(PANEL_D4_NEW, facecolor=\"None\", transparent=True)\n",
    "    plt.show()"
   ]
  },
  {
   "cell_type": "code",
   "execution_count": 171,
   "metadata": {},
   "outputs": [
    {
     "data": {
      "image/png": "[encoded data removed]",
      "text/plain": [
       "<Figure size 130x100 with 2 Axes>"
      ]
     },
     "metadata": {},
     "output_type": "display_data"
    }
   ],
   "source": [
    "with mpl.rc_context(fname=\"../../../.matplotlibrc\"):\n",
    "    energy_scape(\n",
    "        simulation_output_3,\n",
    "        time_vec,\n",
    "        (1.3, 1.0),\n",
    "        [\"k\", \"k\", \"k\"],\n",
    "        time_len=20000,\n",
    "        offset=118000,\n",
    "        ylimE=[0, 2000],\n",
    "        v_labelpad=4.7,\n",
    "        neuron=0,\n",
    "    )\n",
    "    plt.savefig(PANEL_D5_NEW, facecolor=\"None\", transparent=True)"
   ]
  },
  {
   "cell_type": "code",
   "execution_count": 173,
   "metadata": {},
   "outputs": [
    {
     "data": {
      "image/png": "[encoded data removed]",
      "text/plain": [
       "<Figure size 70x100 with 1 Axes>"
      ]
     },
     "metadata": {},
     "output_type": "display_data"
    }
   ],
   "source": [
    "summstats = summary_stats(\n",
    "    simulation_output_3,\n",
    "    stats_customization={\n",
    "        'energies': True,\n",
    "        'num_spikes': True,\n",
    "        'energies_per_spike': True\n",
    "    }\n",
    ")\n",
    "num_spikes_ABPD = summstats['num_spikes']['PM'].to_numpy()[0]\n",
    "energies_ABPD_sim = summstats['energies']['PM'].to_numpy()[0]\n",
    "energyperspike_ABPD_sim = summstats['energies_per_spike']['PM'].to_numpy()[0]\n",
    "\n",
    "with mpl.rc_context(fname=\"../../../.matplotlibrc\"):\n",
    "    fig, ax = plt.subplots(1, 1, figsize=(0.7, 1.0))\n",
    "    height_num_spikes = (num_spikes_ABPD - min_num_spikes) / (\n",
    "        max_num_spikes - min_num_spikes\n",
    "    )\n",
    "    height_energy_per_spike = (energyperspike_ABPD_sim - min_energy_per_spike) / (\n",
    "        max_energy_per_spike - min_energy_per_spike\n",
    "    )\n",
    "    height_energy = (energies_ABPD_sim - min_energy) / (max_energy - min_energy)\n",
    "    ax.bar(\n",
    "        np.arange(0, 3),\n",
    "        [height_num_spikes, height_energy_per_spike, height_energy],\n",
    "        width=0.3,\n",
    "        facecolor='k',\n",
    "    )\n",
    "    ax.set_ylim([0, 1])\n",
    "    ax.set_xlim([-0.4, 2.4])\n",
    "    ax.spines[\"top\"].set_visible(False)\n",
    "    ax.spines[\"right\"].set_visible(False)\n",
    "    ax.set_xticks([0, 1, 2])\n",
    "    ax.set_yticks([0, 1])\n",
    "    ax.set_xticklabels([\"#spikes\", \"E/spike\", \"Energy\"], rotation=45)\n",
    "    ax.set_yticklabels([\"min\", \"max\"])\n",
    "    plt.savefig(PANEL_D6_NEW, facecolor=\"None\", transparent=True)\n",
    "    plt.show()"
   ]
  },
  {
   "cell_type": "markdown",
   "metadata": {},
   "source": [
    "# Assemble figure"
   ]
  },
  {
   "cell_type": "markdown",
   "metadata": {},
   "source": [
    "Todos after the figure:\n",
    "- #spikes -> E/spike on y-axis\n",
    "- grid has to be truncated\n",
    "- \"minimal energy\" a bit closer together \n",
    "- axis truncated"
   ]
  },
  {
   "cell_type": "code",
   "execution_count": 174,
   "metadata": {},
   "outputs": [],
   "source": [
    "def svg(img):\n",
    "    IPd.display(IPd.HTML('<img src=\"{}\" / >'.format(img, time.time())))"
   ]
  },
  {
   "cell_type": "code",
   "execution_count": 177,
   "metadata": {},
   "outputs": [
    {
     "data": {
      "text/html": [
       "<img src=\"../fig/fig4_new.svg\" / >"
      ],
      "text/plain": [
       "<IPython.core.display.HTML object>"
      ]
     },
     "metadata": {},
     "output_type": "display_data"
    }
   ],
   "source": [
    "from svgutils.compose import *\n",
    "\n",
    "# > Inkscape pixel is 1/90 of an inch, other software usually uses 1/72.\n",
    "# > http://www.inkscapeforum.com/viewtopic.php?f=6&t=5964\n",
    "svg_scale = 1.25  # set this to 1.25 for Inkscape, 1.0 otherwise\n",
    "factor_svg=5.5\n",
    "\n",
    "# Panel letters in Helvetica Neue, 12pt, Medium\n",
    "kwargs_text = {'size': '12pt', 'font': 'Arial', 'weight': '800'}\n",
    "kwargs_consistent = {'size': '10pt', 'font': 'Arial', 'weight': '500', 'color': '#AF99EF'}\n",
    "kwargs_consistent1 = {'size': '10pt', 'font': 'Arial', 'weight': '500', 'color': '#9E7DD5'}\n",
    "kwargs_inconsistent = {'size': '10pt', 'font': 'Arial', 'weight': '500', 'color': '#AF99EF'}\n",
    "kwargs_text8pt = {'size': '7.7pt', 'font': 'Arial'}\n",
    "kwargs_text8pt_red = {'size': '7.7pt', 'font': 'Arial', 'color': '#0570b0'}\n",
    "\n",
    "f = Figure(\"20.3cm\", \"9.1cm\",\n",
    "\n",
    "    Panel(\n",
    "         SVG(PANEL_nn_reg_EperSpike).scale(svg_scale).move(0, 0*factor_svg),\n",
    "         Text(\"a\", -3.2*factor_svg, -0.5*factor_svg, **kwargs_text),\n",
    "    ).move(3.2*factor_svg, 3.0*factor_svg),\n",
    "    \n",
    "    Panel(\n",
    "         SVG(PANEL_A1_NEW).scale(svg_scale).move(0, 0*factor_svg),\n",
    "        Text(\"b\", -2.0*factor_svg, 2.5*factor_svg, **kwargs_text),\n",
    "    ).move(34.5*factor_svg, 0.0*factor_svg),\n",
    "    \n",
    "    Panel(\n",
    "         SVG(PANEL_A2_NEW).scale(svg_scale).move(0, 0*factor_svg),\n",
    "    ).move(56.5*factor_svg, 0.6*factor_svg),\n",
    "\n",
    "    Panel(\n",
    "        SVG(PANEL_nn_reg_numSpikes).scale(svg_scale).move(0*factor_svg, 0*factor_svg),\n",
    "        Text(\"c\", -3.2*factor_svg, -0.5*factor_svg, **kwargs_text),\n",
    "    ).move(3.2*factor_svg, 22*factor_svg),\n",
    "    \n",
    "    Panel(\n",
    "        SVG(PANEL_B1_NEW).scale(svg_scale).move(0*factor_svg, 0*factor_svg),\n",
    "        Text(\"d\", -2.0*factor_svg, 2.5*factor_svg, **kwargs_text),\n",
    "    ).move(34.5*factor_svg, 19.0*factor_svg),\n",
    "           \n",
    "    Panel(\n",
    "        SVG(PANEL_B2_NEW).scale(svg_scale).move(0*factor_svg, 0*factor_svg),\n",
    "    ).move(56.5*factor_svg, 19.6*factor_svg),\n",
    "    \n",
    "    Panel(\n",
    "          SVG(PANEL_C_NEW).scale(svg_scale).move(0*factor_svg,0*factor_svg),\n",
    "        Text(\"e\", 0.5*factor_svg, 0.5*factor_svg, **kwargs_text),\n",
    "        Text(\"g\", 11.6*factor_svg, 10.9*factor_svg, **kwargs_text8pt_red),\n",
    "        Text(\"h\", 19.2*factor_svg, 17.6*factor_svg, **kwargs_text8pt_red),\n",
    "        Text(\"f\", 27.5*factor_svg, 26.3*factor_svg, **kwargs_text8pt_red),\n",
    "        Text(\"minimal\", 15.5*factor_svg, 23.6*factor_svg, **kwargs_text8pt_red),\n",
    "        Text(\"energy\", 15.5*factor_svg, 25.6*factor_svg, **kwargs_text8pt_red),\n",
    "    ).move(94*factor_svg, 2*factor_svg),\n",
    "           \n",
    "    Panel(\n",
    "        SVG(PANEL_C_angle).scale(svg_scale).move(0*factor_svg, 0*factor_svg),\n",
    "    ).move(97*factor_svg, 28.6*factor_svg),\n",
    "\n",
    "    Panel(\n",
    "          SVG(PANEL_D1_NEW).scale(svg_scale).move(0*factor_svg, 0*factor_svg),\n",
    "        Text(\"f\", -2.0*factor_svg, 2.5*factor_svg, **kwargs_text),\n",
    "    ).move(2*factor_svg, 40.0*factor_svg),\n",
    "\n",
    "    Panel(\n",
    "          SVG(PANEL_D2_NEW).scale(svg_scale).move(0*factor_svg, 0*factor_svg),\n",
    "    ).move(29*factor_svg, 39.5*factor_svg),\n",
    "\n",
    "    Panel(\n",
    "          SVG(PANEL_D3_NEW).scale(svg_scale).move(0*factor_svg, 0*factor_svg),\n",
    "        Text(\"g\", -2.0*factor_svg, 2.5*factor_svg, **kwargs_text),\n",
    "    ).move(48*factor_svg, 40*factor_svg),\n",
    "\n",
    "    Panel(\n",
    "          SVG(PANEL_D4_NEW).scale(svg_scale).move(0*factor_svg, 0*factor_svg),\n",
    "    ).move(75*factor_svg, 39.5*factor_svg),\n",
    "\n",
    "    Panel(\n",
    "          SVG(PANEL_D5_NEW).scale(svg_scale).move(0*factor_svg, 0*factor_svg),\n",
    "        Text(\"h\", -2.0*factor_svg, 2.5*factor_svg, **kwargs_text),\n",
    "    ).move(94*factor_svg, 40*factor_svg),\n",
    "\n",
    "    Panel(\n",
    "          SVG(PANEL_D6_NEW).scale(svg_scale).move(0*factor_svg, 0*factor_svg),\n",
    "    ).move(121*factor_svg, 39.5*factor_svg),\n",
    ")\n",
    "\n",
    "!mkdir -p fig\n",
    "f.save(\"../fig/fig4_new.svg\")\n",
    "svg('../fig/fig4_new.svg')"
   ]
  },
  {
   "cell_type": "markdown",
   "metadata": {},
   "source": [
    "### Assemble supplementary"
   ]
  },
  {
   "cell_type": "code",
   "execution_count": 178,
   "metadata": {},
   "outputs": [
    {
     "data": {
      "text/html": [
       "<img src=\"../fig/fig4_supp_EV_spectrum.svg\" / >"
      ],
      "text/plain": [
       "<IPython.core.display.HTML object>"
      ]
     },
     "metadata": {},
     "output_type": "display_data"
    }
   ],
   "source": [
    "f = Figure(\"20.3cm\", \"3.0cm\",\n",
    "\n",
    "    Panel(\n",
    "         SVG(PANEL_A0_NEW).scale(svg_scale).move(0, 0*factor_svg),\n",
    "         Text(\"a\", -2.0*factor_svg, 2.5*factor_svg, **kwargs_text),\n",
    "    ).move(2*factor_svg, 0.0*factor_svg),\n",
    "    \n",
    "    Panel(\n",
    "        SVG(PANEL_B0_NEW).scale(svg_scale).move(0*factor_svg, 0*factor_svg),\n",
    "        Text(\"b\", -2.0*factor_svg, 2.5*factor_svg, **kwargs_text),\n",
    "    ).move(50*factor_svg, 0.0*factor_svg),\n",
    "    \n",
    ")\n",
    "\n",
    "!mkdir -p fig\n",
    "f.save(\"../fig/fig4_supp_EV_spectrum.svg\")\n",
    "svg('../fig/fig4_supp_EV_spectrum.svg')"
   ]
  },
  {
   "cell_type": "code",
   "execution_count": 179,
   "metadata": {},
   "outputs": [
    {
     "data": {
      "text/html": [
       "<img src=\"../fig/fig4_supp_convergence.svg\" / >"
      ],
      "text/plain": [
       "<IPython.core.display.HTML object>"
      ]
     },
     "metadata": {},
     "output_type": "display_data"
    }
   ],
   "source": [
    "f = Figure(\"20.3cm\", \"3.9cm\",\n",
    "\n",
    "    Panel(\n",
    "         SVG(PANEL_supp1).scale(svg_scale).move(0, 0*factor_svg),\n",
    "         Text(\"a\", -2.0*factor_svg, 2.5*factor_svg, **kwargs_text),\n",
    "    ).move(2*factor_svg, 0.0*factor_svg),\n",
    "    \n",
    "    Panel(\n",
    "        SVG(PANEL_supp2).scale(svg_scale).move(0*factor_svg, 0*factor_svg),\n",
    "        Text(\"b\", -2.0*factor_svg, 2.5*factor_svg, **kwargs_text),\n",
    "    ).move(50*factor_svg, 0.0*factor_svg),\n",
    "    \n",
    ")\n",
    "\n",
    "!mkdir -p fig\n",
    "f.save(\"../fig/fig4_supp_convergence.svg\")\n",
    "svg('../fig/fig4_supp_convergence.svg')"
   ]
  },
  {
   "cell_type": "code",
   "execution_count": null,
   "metadata": {},
   "outputs": [],
   "source": []
  },
  {
   "cell_type": "code",
   "execution_count": null,
   "metadata": {},
   "outputs": [],
   "source": []
  },
  {
   "cell_type": "code",
   "execution_count": null,
   "metadata": {},
   "outputs": [],
   "source": []
  },
  {
   "cell_type": "code",
   "execution_count": null,
   "metadata": {},
   "outputs": [],
   "source": []
  },
  {
   "cell_type": "code",
   "execution_count": null,
   "metadata": {},
   "outputs": [],
   "source": []
  },
  {
   "cell_type": "code",
   "execution_count": null,
   "metadata": {},
   "outputs": [],
   "source": []
  },
  {
   "cell_type": "code",
   "execution_count": null,
   "metadata": {},
   "outputs": [],
   "source": []
  },
  {
   "cell_type": "code",
   "execution_count": null,
   "metadata": {},
   "outputs": [],
   "source": []
  }
 ],
 "metadata": {
  "kernelspec": {
   "display_name": "sbi_prinz",
   "language": "python",
   "name": "sbi_prinz"
  },
  "language_info": {
   "codemirror_mode": {
    "name": "ipython",
    "version": 3
   },
   "file_extension": ".py",
   "mimetype": "text/x-python",
   "name": "python",
   "nbconvert_exporter": "python",
   "pygments_lexer": "ipython3",
   "version": "3.8.5"
  }
 },
 "nbformat": 4,
 "nbformat_minor": 4
}
