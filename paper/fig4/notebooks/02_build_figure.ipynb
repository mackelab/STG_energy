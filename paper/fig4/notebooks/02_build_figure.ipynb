{
 "cells": [
  {
   "cell_type": "code",
   "execution_count": 1,
   "metadata": {},
   "outputs": [],
   "source": [
    "import numpy as np\n",
    "import importlib\n",
    "import matplotlib as mpl\n",
    "import matplotlib.pylab as plt\n",
    "import time\n",
    "from copy import deepcopy\n",
    "import torch\n",
    "import IPython.display as IPd\n",
    "import pandas as pd\n",
    "import dill as pickle\n",
    "\n",
    "from stg_energy.common import col, svg, samples_nd, get_labels_8pt\n",
    "# from stg_energy.fig5_cc.viz import vis_sample_plain\n",
    "from pyloric import simulate, summary_stats, create_prior\n",
    "from stg_energy.fig7_temp.process_samples import merge_samples\n",
    "import stg_energy.fig7_temp.viz as viz\n",
    "from sbi.analysis import ActiveSubspace\n",
    "\n",
    "from stg_energy import check_if_close_to_obs\n",
    "\n",
    "import pyabf"
   ]
  },
  {
   "cell_type": "markdown",
   "metadata": {},
   "source": [
    "# Fig 7: posterior over temperatures"
   ]
  },
  {
   "cell_type": "code",
   "execution_count": 2,
   "metadata": {},
   "outputs": [],
   "source": [
    "%load_ext autoreload\n",
    "%autoreload 2"
   ]
  },
  {
   "cell_type": "code",
   "execution_count": 3,
   "metadata": {},
   "outputs": [],
   "source": [
    "PANEL_exp1 = '../svg/panel_exp1.svg'\n",
    "PANEL_exp2 = '../svg/panel_exp2.svg'\n",
    "\n",
    "PANEL_exp1_spikes = '../svg/panel_exp1_spikes.svg'\n",
    "PANEL_exp2_spikes = '../svg/panel_exp2_spikes.svg'\n",
    "\n",
    "PANEL_A1 = '../svg/panel_a1.svg'\n",
    "PANEL_A2 = '../svg/panel_a2.svg'\n",
    "\n",
    "PANEL_B1 = '../svg/panel_b1.svg'\n",
    "PANEL_B2 = '../svg/panel_b2.svg'\n",
    "\n",
    "PANEL_C1 = '../svg/panel_c1.svg'\n",
    "PANEL_C2 = '../svg/panel_c2.svg'\n",
    "PANEL_C3 = '../svg/panel_c3.svg'\n",
    "\n",
    "PANEL_D1 = '../svg/panel_d1.svg'\n",
    "PANEL_D2 = '../svg/panel_d2.svg'\n",
    "\n",
    "PANEL_E1 = '../svg/panel_e1.svg'\n",
    "PANEL_E2 = '../svg/panel_e2.svg'\n",
    "PANEL_E3 = '../svg/panel_e3.svg'\n",
    "PANEL_E4 = '../svg/panel_e4.svg'\n",
    "\n",
    "PANEL_F = '../svg/panel_f.svg'\n",
    "PANEL_G = '../svg/panel_g.svg'"
   ]
  },
  {
   "cell_type": "code",
   "execution_count": 4,
   "metadata": {},
   "outputs": [],
   "source": [
    "prior_11 = create_prior(as_torch_dist=True)\n",
    "prior_27 = create_prior(\n",
    "    customization={\n",
    "        \"Q10_gbar_mem\": [True, True, True, True, True, True, True, True],\n",
    "        \"Q10_gbar_syn\": [True, True],\n",
    "        \"Q10_tau_m\": [False],\n",
    "        \"Q10_tau_h\": [False],\n",
    "        \"Q10_tau_CaBuff\": [False],\n",
    "        \"Q10_tau_syn\": [False, False],\n",
    "    },\n",
    "    as_torch_dist=True\n",
    ")\n",
    "prior_27_lower = prior_27.support.lower_bound\n",
    "prior_27_upper = prior_27.support.upper_bound\n",
    "lims_27 = np.asarray([prior_27_lower.numpy(), prior_27_upper.numpy()]).T"
   ]
  },
  {
   "cell_type": "markdown",
   "metadata": {},
   "source": [
    "### Load samples from 11 deg, 15deg, 19deg, 23deg, 27deg"
   ]
  },
  {
   "cell_type": "code",
   "execution_count": 112,
   "metadata": {},
   "outputs": [],
   "source": [
    "xo11 = np.load(\"../../../results/experimental_data/xo_11deg.npy\")\n",
    "xo27 = np.load(\"../../../results/experimental_data/xo_27deg.npy\")\n",
    "\n",
    "npz = np.load(\"../../../results/experimental_data/trace_data_845_082_0044.npz\")\n",
    "t = npz[\"t\"]"
   ]
  },
  {
   "cell_type": "code",
   "execution_count": 113,
   "metadata": {},
   "outputs": [],
   "source": [
    "sims_p = \"../../../results/simulation_data_Tube_MLslurm_cluster/\""
   ]
  },
  {
   "cell_type": "code",
   "execution_count": 114,
   "metadata": {},
   "outputs": [],
   "source": [
    "theta_11_11_close = pd.read_pickle(sims_p+\"close_to_xo_circuit_parameters.pkl\")\n",
    "x_11_11_close = pd.read_pickle(sims_p+\"close_to_xo_simulation_outputs.pkl\")\n",
    "seeds_11_11_close = np.load(sims_p+\"close_to_xo_seeds.npy\")\n",
    "\n",
    "theta_11_11_close_np = theta_11_11_close.to_numpy()\n",
    "x_11_11_close_np = x_11_11_close.to_numpy()"
   ]
  },
  {
   "cell_type": "code",
   "execution_count": 115,
   "metadata": {},
   "outputs": [],
   "source": [
    "theta_27_11 = pd.read_pickle(sims_p+\"simulate_27deg_R4_predictives_at_11deg_notau/data/all_circuit_parameters.pkl\")\n",
    "x_27_11 = pd.read_pickle(sims_p+\"simulate_27deg_R4_predictives_at_11deg_notau/data/all_simulation_outputs.pkl\")\n",
    "seeds_27_11 = np.load(sims_p+\"simulate_27deg_R4_predictives_at_11deg_notau/data/all_seeds.npy\")\n",
    "\n",
    "theta_27_11_np = theta_27_11.to_numpy()\n",
    "x_27_11_np = x_27_11.to_numpy()"
   ]
  },
  {
   "cell_type": "code",
   "execution_count": 116,
   "metadata": {},
   "outputs": [],
   "source": [
    "theta_27_27 = pd.read_pickle(sims_p+\"simulate_27deg_R4_predictives_at_27deg_notau/data/all_circuit_parameters.pkl\")\n",
    "x_27_27 = pd.read_pickle(sims_p+\"simulate_27deg_R4_predictives_at_27deg_notau/data/all_simulation_outputs.pkl\")\n",
    "seeds_27_27 = np.load(sims_p+\"simulate_27deg_R4_predictives_at_27deg_notau/data/all_seeds.npy\")\n",
    "\n",
    "theta_27_27_np = theta_27_27.to_numpy()\n",
    "x_27_27_np = x_27_27.to_numpy()"
   ]
  },
  {
   "cell_type": "code",
   "execution_count": 117,
   "metadata": {},
   "outputs": [],
   "source": [
    "condition_rejection_nan = pd.read_pickle(sims_p+\"simulate_11deg_R3_predictives_at_27deg_notau_only_close/data/simulation_outputs/sim_0.pkl\")\n",
    "condition_rejection_nan_np = condition_rejection_nan.to_numpy()\n",
    "\n",
    "condition_rejection = np.invert(np.any(np.isnan(condition_rejection_nan_np), axis=1))\n",
    "\n",
    "x_11_11_rejection_nan = x_11_11_close[condition_rejection]\n",
    "x_11_11_rejection_nan = x_11_11_rejection_nan.loc[x_11_11_rejection_nan['pyloric_like']['Circuit'] == 1.0]\n",
    "x_11_11_rejection_nan_np = x_11_11_close_np[condition_rejection]"
   ]
  },
  {
   "cell_type": "code",
   "execution_count": 118,
   "metadata": {},
   "outputs": [
    {
     "data": {
      "text/plain": [
       "(11983, 34)"
      ]
     },
     "execution_count": 118,
     "metadata": {},
     "output_type": "execute_result"
    }
   ],
   "source": [
    "x_11_11_rejection_nan_np.shape"
   ]
  },
  {
   "cell_type": "code",
   "execution_count": 119,
   "metadata": {},
   "outputs": [],
   "source": [
    "import sys\n",
    "from sbi.utils import user_input_checks_utils\n",
    "\n",
    "sys.modules[\"sbi.user_input.user_input_checks_utils\"] = user_input_checks_utils"
   ]
  },
  {
   "cell_type": "code",
   "execution_count": 120,
   "metadata": {},
   "outputs": [
    {
     "name": "stderr",
     "output_type": "stream",
     "text": [
      "/home/michael/Documents/sbi/sbi/inference/posteriors/base_posterior.py:962: UserWarning: You had saved the posterior under an older version of `sbi`. To make the loaded version comply with the version you are using right now, we had to set `self._device = 'cpu'`\n",
      "  warn(\n"
     ]
    }
   ],
   "source": [
    "with open(\"../../../results/trained_neural_nets/inference/posterior_27deg_notau_082.pickle\", \"rb\") as handle:\n",
    "    posterior = pickle.load(handle)"
   ]
  },
  {
   "cell_type": "markdown",
   "metadata": {},
   "source": [
    "### Check if theta at 11 and 27 predictives are indeed the same"
   ]
  },
  {
   "cell_type": "code",
   "execution_count": 121,
   "metadata": {},
   "outputs": [],
   "source": [
    "test_27_11 = pd.read_pickle(sims_p+\"simulate_27deg_R4_predictives_at_11deg_notau/data/circuit_parameters/sim_0.pkl\")\n",
    "test_27_11_np = test_27_11.to_numpy()"
   ]
  },
  {
   "cell_type": "code",
   "execution_count": 122,
   "metadata": {},
   "outputs": [],
   "source": [
    "test_27_27 = pd.read_pickle(sims_p+\"simulate_27deg_R4_predictives_at_27deg_notau/data/circuit_parameters/sim_0.pkl\")\n",
    "test_27_27_np = test_27_27.to_numpy()"
   ]
  },
  {
   "cell_type": "markdown",
   "metadata": {},
   "source": [
    "### Select only those stats that were sufficiently close at 11 and 27 degree"
   ]
  },
  {
   "cell_type": "code",
   "execution_count": 123,
   "metadata": {},
   "outputs": [],
   "source": [
    "close_at_11 = check_if_close_to_obs(x_27_11_np)"
   ]
  },
  {
   "cell_type": "code",
   "execution_count": 124,
   "metadata": {},
   "outputs": [],
   "source": [
    "close_at_27 = check_if_close_to_obs(x_27_27_np, xo=xo27[:15])"
   ]
  },
  {
   "cell_type": "code",
   "execution_count": 125,
   "metadata": {},
   "outputs": [],
   "source": [
    "close_at_both = np.asarray([c1 and c2 for c1, c2 in zip(close_at_11, close_at_27)])"
   ]
  },
  {
   "cell_type": "code",
   "execution_count": 126,
   "metadata": {},
   "outputs": [],
   "source": [
    "x_27_27_close = x_27_27[close_at_both]\n",
    "theta_27_27_close = theta_27_27[close_at_both]\n",
    "seeds_27_27_close = seeds_27_27[close_at_both]\n",
    "\n",
    "x_27_27_close_np = x_27_27_np[close_at_both]\n",
    "theta_27_27_close_np = theta_27_27_np[close_at_both]"
   ]
  },
  {
   "cell_type": "code",
   "execution_count": 127,
   "metadata": {},
   "outputs": [],
   "source": [
    "x_27_11_close = x_27_11[close_at_both]\n",
    "theta_27_11_close = theta_27_11[close_at_both]\n",
    "seeds_27_11_close = seeds_27_11[close_at_both]\n",
    "\n",
    "x_27_11_close_np = x_27_11_np[close_at_both]\n",
    "theta_27_11_close_np = theta_27_11_np[close_at_both]"
   ]
  },
  {
   "cell_type": "code",
   "execution_count": 128,
   "metadata": {},
   "outputs": [
    {
     "data": {
      "text/plain": [
       "6131"
      ]
     },
     "execution_count": 128,
     "metadata": {},
     "output_type": "execute_result"
    }
   ],
   "source": [
    "np.sum(close_at_both)"
   ]
  },
  {
   "cell_type": "markdown",
   "metadata": {},
   "source": [
    "### Reset indizes to start at 1"
   ]
  },
  {
   "cell_type": "code",
   "execution_count": 129,
   "metadata": {},
   "outputs": [],
   "source": [
    "x_27_11_close.index = np.arange(len(x_27_11_close))\n",
    "theta_27_11_close.index = np.arange(len(theta_27_11_close))\n",
    "\n",
    "x_27_27_close.index = np.arange(len(x_27_27_close))\n",
    "theta_27_27_close.index = np.arange(len(theta_27_27_close))"
   ]
  },
  {
   "cell_type": "markdown",
   "metadata": {},
   "source": [
    "# Plot experimental data"
   ]
  },
  {
   "cell_type": "code",
   "execution_count": 130,
   "metadata": {},
   "outputs": [],
   "source": [
    "npz = np.load('../../../results/experimental_data/trace_data_845_082_0044.npz')\n",
    "t = npz['t']\n",
    "PD_spikes = npz['PD_spikes']\n",
    "LP_spikes = npz['LP_spikes']\n",
    "PY_spikes = npz['PY_spikes']\n",
    "pdn = npz['pdn']\n",
    "lpn = npz['lpn']\n",
    "pyn = npz['pyn']"
   ]
  },
  {
   "cell_type": "code",
   "execution_count": 131,
   "metadata": {},
   "outputs": [],
   "source": [
    "start_index = 219500 + 2100\n",
    "end_index   = 246500 + 2100  # 32000\n",
    "height_offset = 200\n",
    "shown_t = t[end_index] - t[start_index]\n",
    "time_len = shown_t / 0.025 * 1000\n",
    "dt = t[1] - t[0]"
   ]
  },
  {
   "cell_type": "code",
   "execution_count": 132,
   "metadata": {},
   "outputs": [
    {
     "data": {
      "image/png": "[encoded data removed]",
      "text/plain": [
       "<Figure size 220x130 with 1 Axes>"
      ]
     },
     "metadata": {},
     "output_type": "display_data"
    }
   ],
   "source": [
    "with mpl.rc_context(fname='../../../.matplotlibrc'):\n",
    "    fig, ax = plt.subplots(1,1,figsize=(2.2, 1.3)) # (2.87, 2.08*3/4)\n",
    "    ax.plot(t[start_index:end_index], 2.5+pdn[start_index:end_index]*0.007, c=col['GT'], lw=0.8)\n",
    "    ax.plot(t[start_index:end_index], 1.2+lpn[start_index:end_index]*0.25, c=col['GT'], lw=0.8)\n",
    "    ax.plot(t[start_index:end_index], -0.1+pyn[start_index:end_index]*0.013, c=col['GT'], lw=0.8)\n",
    "\n",
    "    ax.spines['right'].set_visible(False)\n",
    "    ax.spines['top'].set_visible(False)\n",
    "    ax.spines['bottom'].set_visible(False)\n",
    "    ax.spines['left'].set_visible(False)\n",
    "    ax.axes.get_yaxis().set_ticks([])\n",
    "    ax.axes.get_xaxis().set_ticks([])\n",
    "    ax.get_yaxis().set_visible(False)\n",
    "    ax.set_ylim([-0.95, 4.0])\n",
    "    \n",
    "    duration = 0.5\n",
    "    number_of_timesteps = int(duration / dt)\n",
    "    t_scale = np.linspace(t[start_index], t[start_index + number_of_timesteps], 2)\n",
    "    \n",
    "    ax.plot(t_scale, -0.8 * np.ones_like(t_scale), c='k', lw=1.0)\n",
    "    \n",
    "    plt.savefig(PANEL_exp1, facecolor='None', transparent=True)\n",
    "    plt.show()"
   ]
  },
  {
   "cell_type": "code",
   "execution_count": 133,
   "metadata": {},
   "outputs": [
    {
     "data": {
      "image/png": "[encoded data removed]",
      "text/plain": [
       "<Figure size 220x130 with 1 Axes>"
      ]
     },
     "metadata": {},
     "output_type": "display_data"
    }
   ],
   "source": [
    "with mpl.rc_context(fname='../../../.matplotlibrc'):\n",
    "    fig, ax = plt.subplots(1,1,figsize=(2.2, 1.3)) # (2.87, 2.08*3/4)\n",
    "    ax.plot(t[start_index:end_index], 2.5+PD_spikes[start_index:end_index], c=col['GT'], lw=0.8)\n",
    "    ax.plot(t[start_index:end_index], 1.25+LP_spikes[start_index:end_index], c=col['GT'], lw=0.8)\n",
    "    ax.plot(t[start_index:end_index], PY_spikes[start_index:end_index], c=col['GT'], lw=0.8)\n",
    "\n",
    "    ax.spines['right'].set_visible(False)\n",
    "    ax.spines['top'].set_visible(False)\n",
    "    ax.spines['bottom'].set_visible(False)\n",
    "    ax.spines['left'].set_visible(False)\n",
    "    ax.axes.get_yaxis().set_ticks([])\n",
    "    ax.axes.get_xaxis().set_ticks([])\n",
    "    ax.get_yaxis().set_visible(False)\n",
    "    ax.set_ylim([-0.95, 4.0])\n",
    "    \n",
    "    duration = 0.5\n",
    "    number_of_timesteps = int(duration / dt)\n",
    "    t_scale = np.linspace(t[start_index], t[start_index + number_of_timesteps], 2)\n",
    "    \n",
    "    ax.plot(t_scale, -0.8 * np.ones_like(t_scale), c='k', lw=1.0)\n",
    "    \n",
    "    plt.savefig(PANEL_exp1_spikes, facecolor='None', transparent=True)\n",
    "    plt.show()"
   ]
  },
  {
   "cell_type": "code",
   "execution_count": 134,
   "metadata": {},
   "outputs": [],
   "source": [
    "name = '845_082_0064'\n",
    "datafile = \"../../../results/experimental_data/\"+name+\".abf\"\n",
    "abf = pyabf.ABF(datafile)"
   ]
  },
  {
   "cell_type": "code",
   "execution_count": 135,
   "metadata": {},
   "outputs": [],
   "source": [
    "channel_names = abf.adcNames\n",
    "channel_data = abf.data"
   ]
  },
  {
   "cell_type": "code",
   "execution_count": 136,
   "metadata": {},
   "outputs": [],
   "source": [
    "LPN = channel_data[3]\n",
    "PYN = channel_data[1]\n",
    "PDN = channel_data[2]\n",
    "LVN = channel_data[6]\n",
    "sampling_frequency = abf.dataRate"
   ]
  },
  {
   "cell_type": "code",
   "execution_count": 137,
   "metadata": {},
   "outputs": [
    {
     "data": {
      "image/png": "[encoded data removed]",
      "text/plain": [
       "<Figure size 220x130 with 1 Axes>"
      ]
     },
     "metadata": {},
     "output_type": "display_data"
    }
   ],
   "source": [
    "with mpl.rc_context(fname='../../../.matplotlibrc'):\n",
    "    fig, ax = plt.subplots(1,1,figsize=(2.2, 1.3)) # (2.87, 2.08*3/4)\n",
    "    ax.plot(t[start_index:end_index], 2.5+PDN[start_index:end_index]*0.007, c=col['GT'], lw=0.8)\n",
    "    ax.plot(t[start_index:end_index], 1.2+LPN[start_index:end_index]*0.25, c=col['GT'], lw=0.8)\n",
    "    ax.plot(t[start_index:end_index], -0.1+PYN[start_index:end_index]*0.013, c=col['GT'], lw=0.8)\n",
    "\n",
    "    ax.spines['right'].set_visible(False)\n",
    "    ax.spines['top'].set_visible(False)\n",
    "    ax.spines['bottom'].set_visible(False)\n",
    "    ax.spines['left'].set_visible(False)\n",
    "    ax.axes.get_yaxis().set_ticks([])\n",
    "    ax.axes.get_xaxis().set_ticks([])\n",
    "    ax.get_yaxis().set_visible(False)\n",
    "    ax.set_ylim([-0.95, 4.0])\n",
    "\n",
    "    duration = 0.5\n",
    "    number_of_timesteps = int(duration / dt)\n",
    "    t_scale = np.linspace(t[start_index], t[start_index + number_of_timesteps], 2)\n",
    "\n",
    "    ax.plot(t_scale, -0.8 * np.ones_like(t_scale), c='k', lw=1.0)\n",
    "\n",
    "    plt.savefig(PANEL_exp2, facecolor='None', transparent=True)\n",
    "    plt.show()"
   ]
  },
  {
   "cell_type": "code",
   "execution_count": 138,
   "metadata": {},
   "outputs": [],
   "source": [
    "npz = np.load('../../../results/experimental_data/data_845_082_0064.npz')\n",
    "t = npz['t']\n",
    "PD_spikes = npz['PD_spikes']\n",
    "LP_spikes = npz['LP_spikes']\n",
    "PY_spikes = npz['PY_spikes']"
   ]
  },
  {
   "cell_type": "code",
   "execution_count": 139,
   "metadata": {},
   "outputs": [
    {
     "data": {
      "image/png": "[encoded data removed]",
      "text/plain": [
       "<Figure size 220x130 with 1 Axes>"
      ]
     },
     "metadata": {},
     "output_type": "display_data"
    }
   ],
   "source": [
    "with mpl.rc_context(fname='../../../.matplotlibrc'):\n",
    "    fig, ax = plt.subplots(1,1,figsize=(2.2, 1.3)) # (2.87, 2.08*3/4)\n",
    "    ax.plot(t[start_index:end_index], 2.5+PD_spikes[start_index:end_index], c=col['GT'], lw=0.8)\n",
    "    ax.plot(t[start_index:end_index], 1.25+LP_spikes[start_index:end_index], c=col['GT'], lw=0.8)\n",
    "    ax.plot(t[start_index:end_index], PY_spikes[start_index:end_index], c=col['GT'], lw=0.8)\n",
    "\n",
    "    ax.spines['right'].set_visible(False)\n",
    "    ax.spines['top'].set_visible(False)\n",
    "    ax.spines['bottom'].set_visible(False)\n",
    "    ax.spines['left'].set_visible(False)\n",
    "    ax.axes.get_yaxis().set_ticks([])\n",
    "    ax.axes.get_xaxis().set_ticks([])\n",
    "    ax.get_yaxis().set_visible(False)\n",
    "    ax.set_ylim([-0.95, 4.0])\n",
    "\n",
    "    duration = 0.5\n",
    "    number_of_timesteps = int(duration / dt)\n",
    "    t_scale = np.linspace(t[start_index], t[start_index + number_of_timesteps], 2)\n",
    "\n",
    "    ax.plot(t_scale, -0.8 * np.ones_like(t_scale), c='k', lw=1.0)\n",
    "\n",
    "    plt.savefig(PANEL_exp2_spikes, facecolor='None', transparent=True)\n",
    "    plt.show()"
   ]
  },
  {
   "cell_type": "markdown",
   "metadata": {},
   "source": [
    "# Plot posteriors"
   ]
  },
  {
   "cell_type": "code",
   "execution_count": 141,
   "metadata": {},
   "outputs": [],
   "source": [
    "labels_ = get_labels_8pt()\n",
    "labels_[9] += ''"
   ]
  },
  {
   "cell_type": "code",
   "execution_count": 142,
   "metadata": {},
   "outputs": [
    {
     "name": "stderr",
     "output_type": "stream",
     "text": [
      "/home/michael/Documents/STG_energy/stg_energy/common.py:728: FutureWarning: elementwise comparison failed; returning scalar instead, but in the future will perform elementwise comparison\n",
      "  if opts[\"labels\"] == [] or opts[\"labels\"] is None:\n"
     ]
    },
    {
     "data": {
      "image/png": "[encoded data removed]",
      "text/plain": [
       "<Figure size 190x190 with 16 Axes>"
      ]
     },
     "metadata": {},
     "output_type": "display_data"
    }
   ],
   "source": [
    "with mpl.rc_context(fname='../../../.matplotlibrc'):\n",
    "    q10_samples = prior_27.sample((theta_11_11_close_np.shape[0],)).numpy()[:, -10:]\n",
    "    sample_params_11_q10 = np.concatenate((theta_11_11_close_np, q10_samples), axis=1)\n",
    "    _ = samples_nd(\n",
    "        samples=sample_params_11_q10[:10000],\n",
    "        subset=[0,10,19,33],\n",
    "        upper=['kde'],\n",
    "        diag=['kde'],\n",
    "        fig_size=(1.9, 1.9),\n",
    "        limits=lims_27,\n",
    "        ticks=lims_27,\n",
    "        labels=labels_,\n",
    "    )\n",
    "    plt.savefig(PANEL_A1, facecolor='None', transparent=True)"
   ]
  },
  {
   "cell_type": "code",
   "execution_count": 143,
   "metadata": {},
   "outputs": [
    {
     "name": "stderr",
     "output_type": "stream",
     "text": [
      "/home/michael/Documents/STG_energy/stg_energy/common.py:728: FutureWarning: elementwise comparison failed; returning scalar instead, but in the future will perform elementwise comparison\n",
      "  if opts[\"labels\"] == [] or opts[\"labels\"] is None:\n"
     ]
    },
    {
     "data": {
      "image/png": "[encoded data removed]",
      "text/plain": [
       "<Figure size 190x190 with 16 Axes>"
      ]
     },
     "metadata": {},
     "output_type": "display_data"
    }
   ],
   "source": [
    "with mpl.rc_context(fname='../../../.matplotlibrc'):\n",
    "    sample_params_27_norm = theta_27_27_np\n",
    "    _ = samples_nd(\n",
    "        samples=sample_params_27_norm[:10000],\n",
    "        subset=[0,10,19,33],\n",
    "        upper=['kde'],\n",
    "        diag=['kde'],\n",
    "        fig_size=(1.9, 1.9),\n",
    "        limits=lims_27,\n",
    "        ticks=lims_27,\n",
    "        labels=labels_,\n",
    "    )\n",
    "    plt.savefig(PANEL_A2, facecolor='None', transparent=True)"
   ]
  },
  {
   "cell_type": "markdown",
   "metadata": {},
   "source": [
    "# Plot a sample from the 27deg posterior across temperatures"
   ]
  },
  {
   "cell_type": "code",
   "execution_count": 144,
   "metadata": {},
   "outputs": [],
   "source": [
    "time_vec = np.arange(0, 11000, 0.025)"
   ]
  },
  {
   "cell_type": "code",
   "execution_count": 145,
   "metadata": {},
   "outputs": [
    {
     "data": {
      "image/png": "[encoded data removed]",
      "text/plain": [
       "<Figure size 200x115 with 1 Axes>"
      ]
     },
     "metadata": {},
     "output_type": "display_data"
    },
    {
     "data": {
      "image/png": "[encoded data removed]",
      "text/plain": [
       "<Figure size 200x115 with 1 Axes>"
      ]
     },
     "metadata": {},
     "output_type": "display_data"
    }
   ],
   "source": [
    "sample_index = 3\n",
    "counter = 0\n",
    "offsets = [82000, 16500]\n",
    "\n",
    "for temp in [283, 299]:\n",
    "\n",
    "    out_target = simulate(\n",
    "        theta_27_27_close.loc[sample_index],\n",
    "        seed=int(seeds_27_27_close[sample_index]),\n",
    "        temperature=temp,\n",
    "    )\n",
    "\n",
    "    with mpl.rc_context(fname=\"../../../.matplotlibrc\"):\n",
    "        fig, ax = plt.subplots(1, 1, facecolor=\"white\", figsize=(2.0, 1.15))\n",
    "        fig = viz.vis_sample_plain(\n",
    "            out_target,\n",
    "            time_vec,\n",
    "            ax,\n",
    "            time_len=int(shown_t / 0.025 * 1000),\n",
    "            col='k',\n",
    "            offset=offsets[counter],\n",
    "            scale_bar=False,\n",
    "        )\n",
    "        if temp == 283:\n",
    "            plt.savefig(PANEL_B1, facecolor='None', transparent=True)\n",
    "        elif temp == 299:\n",
    "            plt.savefig(PANEL_B2, facecolor='None', transparent=True)\n",
    "        plt.show()\n",
    "        counter += 1"
   ]
  },
  {
   "cell_type": "code",
   "execution_count": 146,
   "metadata": {},
   "outputs": [],
   "source": [
    "e_11 = np.sum(x_27_11_close['energies'].to_numpy(), axis=1) / 10 / 1000\n",
    "e_27 = np.sum(x_27_27_close['energies'].to_numpy(), axis=1) / 10 / 1000"
   ]
  },
  {
   "cell_type": "code",
   "execution_count": 147,
   "metadata": {},
   "outputs": [
    {
     "name": "stdout",
     "output_type": "stream",
     "text": [
      "Pearson correlation coefficient between energy consumption at 11 and 27 degree:  0.6305378864155537\n"
     ]
    }
   ],
   "source": [
    "print(\"Pearson correlation coefficient between energy consumption at 11 and 27 degree: \", np.corrcoef(e_11, e_27)[0, 1])"
   ]
  },
  {
   "cell_type": "code",
   "execution_count": 148,
   "metadata": {},
   "outputs": [
    {
     "data": {
      "image/png": "[encoded data removed]",
      "text/plain": [
       "<Figure size 140x120 with 1 Axes>"
      ]
     },
     "metadata": {},
     "output_type": "display_data"
    }
   ],
   "source": [
    "with mpl.rc_context(fname='../../../.matplotlibrc'):\n",
    "    fig, ax = plt.subplots(1, 1, figsize=(1.4, 1.2))\n",
    "    ax.scatter(e_11[500:800], e_27[500:800], s=3, c='k')\n",
    "    ax.plot([0, 24], [0, 24], c='gray', alpha=0.5)\n",
    "    ax.set_xlabel(\"E at 11 °C ($\\mu$J/s)\")\n",
    "    ax.set_ylabel(\"E at 27 °C ($\\mu$J/s)\")\n",
    "    ax.arrow(6.6, 18, 0.98, -3.5, head_width=1.3, head_length=1.3, facecolor=\"#d7301f\", edgecolor='#d7301f')\n",
    "    ax.set_xlim([0, 25])\n",
    "    ax.set_ylim([0, 25])\n",
    "    plt.savefig(PANEL_F, facecolor='None', transparent=True)"
   ]
  },
  {
   "cell_type": "code",
   "execution_count": 149,
   "metadata": {},
   "outputs": [
    {
     "name": "stdout",
     "output_type": "stream",
     "text": [
      "Training neural network. Epochs trained:  162\r"
     ]
    },
    {
     "data": {
      "application/vnd.jupyter.widget-view+json": {
       "model_id": "585dd623af804f5d961860324238b3c7",
       "version_major": 2,
       "version_minor": 0
      },
      "text/plain": [
       "HBox(children=(FloatProgress(value=0.0, description='Drawing 1000 posterior samples', max=1000.0, style=Progre…"
      ]
     },
     "metadata": {},
     "output_type": "display_data"
    },
    {
     "name": "stdout",
     "output_type": "stream",
     "text": [
      "\n"
     ]
    }
   ],
   "source": [
    "_ = torch.manual_seed(0)\n",
    "sensitivity = ActiveSubspace(posterior.set_default_x(xo27))\n",
    "\n",
    "theta_27_27_train = torch.as_tensor(theta_27_27_close_np[40:], dtype=torch.float32)\n",
    "energies_train = torch.as_tensor(np.sum(x_27_27_close['energies'].to_numpy()[40:], axis=1), dtype=torch.float32).unsqueeze(1)\n",
    "\n",
    "converged_nn = sensitivity.add_property(\n",
    "    theta_27_27_train,\n",
    "    energies_train, \n",
    "    hidden_features=20, \n",
    "    num_blocks=1).train()\n",
    "\n",
    "e_vals, e_vecs = sensitivity.find_directions()\n"
   ]
  },
  {
   "cell_type": "code",
   "execution_count": 150,
   "metadata": {},
   "outputs": [
    {
     "data": {
      "image/png": "[encoded data removed]",
      "text/plain": [
       "<Figure size 200x100 with 1 Axes>"
      ]
     },
     "metadata": {},
     "output_type": "display_data"
    }
   ],
   "source": [
    "from stg_energy.fig3_active_subspaces.viz import plot_eigenvalues\n",
    "\n",
    "with mpl.rc_context(fname=\"../../../.matplotlibrc\"):\n",
    "    plot_eigenvalues(torch.log(torch.abs(torch.flip(e_vals, dims=(0,)))), figsize=(2.0, 1.0), color='k')\n",
    "    plt.show()"
   ]
  },
  {
   "cell_type": "code",
   "execution_count": 151,
   "metadata": {},
   "outputs": [
    {
     "data": {
      "image/png": "[encoded data removed]",
      "text/plain": [
       "<Figure size 250x120 with 1 Axes>"
      ]
     },
     "metadata": {},
     "output_type": "display_data"
    }
   ],
   "source": [
    "with mpl.rc_context(fname=\"../../../.matplotlibrc\"):\n",
    "    viz.py_sensitivity_bars_q10(\n",
    "        e_vecs[:, -1].T,\n",
    "        ylim=[-1, 1.0],\n",
    "        figsize=(2.5, 1.2),\n",
    "        ylabel=\"Active dir.\",\n",
    "        plot_labels=True,\n",
    "        title='',\n",
    "    )\n",
    "    plt.savefig(PANEL_G, facecolor='None', transparent=True)"
   ]
  },
  {
   "cell_type": "markdown",
   "metadata": {},
   "source": [
    "# Show speed-up"
   ]
  },
  {
   "cell_type": "markdown",
   "metadata": {},
   "source": [
    "### Simulate 3 parameter sets at every temperature from 11 to 27 degree"
   ]
  },
  {
   "cell_type": "code",
   "execution_count": 152,
   "metadata": {},
   "outputs": [],
   "source": [
    "all_durs_each_set = []\n",
    "all_stats_each_set = []\n",
    "skip_steps = 1\n",
    "for index in range(3, 4):\n",
    "    all_cycle_durs = []\n",
    "    all_stats = []\n",
    "    for temp in range(283, 300, skip_steps):\n",
    "        out_target = simulate(\n",
    "            theta_27_27_close.loc[index],\n",
    "            temperature=temp,\n",
    "            seed=0,\n",
    "        )\n",
    "\n",
    "        summstats = summary_stats(out_target).to_numpy()[0]\n",
    "        all_cycle_durs.append(summstats[0])\n",
    "        all_stats.append(summstats[:15])\n",
    "    all_durs_each_set.append(all_cycle_durs)\n",
    "    all_stats_each_set.append(all_stats)\n",
    "all_durs_each_set = np.asarray(all_durs_each_set)\n",
    "all_stats_each_set = np.asarray(all_stats_each_set)"
   ]
  },
  {
   "cell_type": "code",
   "execution_count": 153,
   "metadata": {},
   "outputs": [
    {
     "data": {
      "image/png": "[encoded data removed]",
      "text/plain": [
       "<Figure size 260x80 with 1 Axes>"
      ]
     },
     "metadata": {},
     "output_type": "display_data"
    }
   ],
   "source": [
    "with mpl.rc_context(fname='../../../.matplotlibrc'):\n",
    "    fig, ax = plt.subplots(1,1, figsize=(2.6, 0.8))\n",
    "    xaxis = np.arange(11, 28, skip_steps)\n",
    "    for traces in all_durs_each_set:\n",
    "        ax.plot(xaxis, 1./traces*1000, 'k')\n",
    "    for traces in all_durs_each_set:\n",
    "        ax.scatter(xaxis, 1./traces*1000, s=10, c='k', zorder=1000)\n",
    "\n",
    "    ax.scatter(11, 1/xo11[0]*1000, s=30, color='green', zorder=10000)\n",
    "    ax.scatter(27, 1/xo27[0]*1000, s=30, color='green', zorder=10000)\n",
    "    ax.spines['top'].set_visible(False)\n",
    "    ax.spines['right'].set_visible(False)\n",
    "    ax.set_xlim([10.5, 27.5])\n",
    "    ax.set_xticks([11, 15, 19, 23, 27])\n",
    "    ax.set_xlabel(\"Temperature (°C)\")\n",
    "    ax.set_ylabel(\"Cycle freq.\\n(Hz)\")\n",
    "    ax.set_ylim([0.70, 3])\n",
    "    plt.savefig(PANEL_C1, facecolor='None', transparent=True)\n",
    "    plt.show()"
   ]
  },
  {
   "cell_type": "code",
   "execution_count": 154,
   "metadata": {},
   "outputs": [
    {
     "data": {
      "image/png": "[encoded data removed]",
      "text/plain": [
       "<Figure size 260x80 with 1 Axes>"
      ]
     },
     "metadata": {},
     "output_type": "display_data"
    }
   ],
   "source": [
    "phase_LP = all_stats_each_set[:, :, 7]\n",
    "with mpl.rc_context(fname='../../../.matplotlibrc'):\n",
    "    fig, ax = plt.subplots(1,1, figsize=(2.6, 0.8))\n",
    "    xaxis = np.arange(11, 28, skip_steps)\n",
    "    for traces in phase_LP:\n",
    "        ax.plot(xaxis, traces, 'k')\n",
    "    for traces in phase_LP:\n",
    "        ax.scatter(xaxis, traces, s=10, c='k', zorder=1000)\n",
    "\n",
    "    ax.scatter(11, xo11[7], s=30, color='green', zorder=1000000)\n",
    "    ax.scatter(27, xo27[7], s=30, color='green', zorder=1000000)\n",
    "    ax.spines['top'].set_visible(False)\n",
    "    ax.spines['right'].set_visible(False)\n",
    "    ax.set_xlim([10.5, 27.5])\n",
    "    ax.set_xticks([11, 15, 19, 23, 27])\n",
    "    ax.set_xlabel(\"Temperature (°C)\")\n",
    "    ax.set_ylabel(\"Phase LP\\n(% of cycle)\")\n",
    "    ax.set_ylim([0,1])\n",
    "    ax.set_yticks([0,1])\n",
    "    plt.savefig(PANEL_C2, facecolor='None', transparent=True)\n",
    "    plt.show()"
   ]
  },
  {
   "cell_type": "code",
   "execution_count": 155,
   "metadata": {},
   "outputs": [
    {
     "data": {
      "image/png": "[encoded data removed]",
      "text/plain": [
       "<Figure size 260x80 with 1 Axes>"
      ]
     },
     "metadata": {},
     "output_type": "display_data"
    }
   ],
   "source": [
    "phase_PY = all_stats_each_set[:, :, 8]\n",
    "with mpl.rc_context(fname='../../../.matplotlibrc'):\n",
    "    fig, ax = plt.subplots(1,1, figsize=(2.6, 0.8))\n",
    "    xaxis = np.arange(11, 28, skip_steps)\n",
    "    for traces in phase_PY:\n",
    "        ax.plot(xaxis, traces, 'k')\n",
    "    for traces in phase_PY:\n",
    "        ax.scatter(xaxis, traces, s=10, c='k', zorder=1000)\n",
    "\n",
    "    ax.scatter(11, xo11[8], s=30, color='green', zorder=1000000)\n",
    "    ax.scatter(27, xo27[8], s=30, color='green', zorder=1000000)\n",
    "    ax.spines['top'].set_visible(False)\n",
    "    ax.spines['right'].set_visible(False)\n",
    "    ax.set_xlim([10.5, 27.5])\n",
    "    ax.set_xticks([11, 15, 19, 23, 27])\n",
    "    ax.set_xlabel(\"Temperature (°C)\")\n",
    "    ax.set_ylabel(\"Phase PY\\n(% of cycle)\")\n",
    "    ax.set_ylim([0, 1])\n",
    "    ax.set_yticks([0, 1])\n",
    "    plt.savefig(PANEL_C3, facecolor='None', transparent=True)\n",
    "    plt.show()"
   ]
  },
  {
   "cell_type": "markdown",
   "metadata": {},
   "source": [
    "# Relation between energy efficiency and temperature robustness"
   ]
  },
  {
   "cell_type": "markdown",
   "metadata": {},
   "source": [
    "### Load samples from 27deg posterior. Samples have been rejected if too far from obs at 11deg and then been simulated at 27deg"
   ]
  },
  {
   "cell_type": "code",
   "execution_count": 156,
   "metadata": {},
   "outputs": [],
   "source": [
    "all_total_energies_11 = x_11_11_close['energies'].to_numpy()\n",
    "all_total_energies_27 = x_27_11_close['energies'].to_numpy()\n",
    "all_total_energies_rejection = x_11_11_rejection_nan['energies'].to_numpy()"
   ]
  },
  {
   "cell_type": "code",
   "execution_count": 157,
   "metadata": {},
   "outputs": [],
   "source": [
    "summed_energies_total_11 = np.sum(np.asarray(all_total_energies_11), axis=1) / 10 / 1000 # per second, micro-Joule\n",
    "summed_energies_total_27 = np.sum(np.asarray(all_total_energies_27), axis=1) / 10 / 1000\n",
    "summed_energies_total_27_rejection = np.sum(np.asarray(all_total_energies_rejection), axis=1) / 10 / 1000"
   ]
  },
  {
   "cell_type": "code",
   "execution_count": 158,
   "metadata": {},
   "outputs": [
    {
     "data": {
      "text/plain": [
       "(35939,)"
      ]
     },
     "execution_count": 158,
     "metadata": {},
     "output_type": "execute_result"
    }
   ],
   "source": [
    "summed_energies_total_11.shape"
   ]
  },
  {
   "cell_type": "code",
   "execution_count": 159,
   "metadata": {},
   "outputs": [
    {
     "data": {
      "text/plain": [
       "(6131,)"
      ]
     },
     "execution_count": 159,
     "metadata": {},
     "output_type": "execute_result"
    }
   ],
   "source": [
    "summed_energies_total_27.shape"
   ]
  },
  {
   "cell_type": "code",
   "execution_count": 160,
   "metadata": {},
   "outputs": [
    {
     "data": {
      "image/png": "[encoded data removed]",
      "text/plain": [
       "<Figure size 160x90 with 1 Axes>"
      ]
     },
     "metadata": {},
     "output_type": "display_data"
    }
   ],
   "source": [
    "with mpl.rc_context(fname='../../../.matplotlibrc'):\n",
    "    fig, ax = plt.subplots(1, 1, figsize=(1.6, 0.9))\n",
    "\n",
    "    hist_vals_11 = ax.hist(summed_energies_total_11, range=(0, 30), bins=100, color='w', density=True)\n",
    "    hist_vals_27 = ax.hist(summed_energies_total_27, range=(0, 30), bins=100, color='w', density=True)\n",
    "\n",
    "    hist_diff = hist_vals_11[1][1] - hist_vals_11[1][0]\n",
    "    line11 = ax.plot(hist_vals_11[1][:-1]+hist_diff/2, hist_vals_11[0], c='#1b7837')\n",
    "    line27 = ax.plot(hist_vals_27[1][:-1]+hist_diff/2, hist_vals_27[0], c='#c51b7d')\n",
    "    ax.set_xlabel('Energy at 11°C ($\\mu J/s$)')\n",
    "    ax.spines['top'].set_visible(False)\n",
    "    ax.spines['right'].set_visible(False)\n",
    "    ax.set_ylim([0, 0.14])\n",
    "    ax.set_yticks([])\n",
    "\n",
    "    plt.legend((line11[0], line27[0]), ('Fitted at 11°C', 'Fitted at 11 & 27°C'), bbox_to_anchor=(0.6, 1.1, 0.5, 0.5), handlelength=0.8, handletextpad=0.3)\n",
    "\n",
    "    plt.savefig(PANEL_D1, facecolor='None', transparent=True)"
   ]
  },
  {
   "cell_type": "code",
   "execution_count": 161,
   "metadata": {},
   "outputs": [
    {
     "data": {
      "image/png": "[encoded data removed]",
      "text/plain": [
       "<Figure size 160x90 with 1 Axes>"
      ]
     },
     "metadata": {},
     "output_type": "display_data"
    }
   ],
   "source": [
    "with mpl.rc_context(fname='../../../.matplotlibrc'):\n",
    "    fig, ax = plt.subplots(1, 1, figsize=(1.6, 0.9))\n",
    "\n",
    "    hist_vals_11 = ax.hist(summed_energies_total_11, range=(0, 30), bins=100, color='w', density=True)\n",
    "    hist_vals_27 = ax.hist(summed_energies_total_27_rejection, range=(0, 30), bins=100, color='w', density=True)\n",
    "\n",
    "    hist_diff = hist_vals_11[1][1] - hist_vals_11[1][0]\n",
    "    line11 = ax.plot(hist_vals_11[1][:-1]+hist_diff/2, hist_vals_11[0], c='#1b7837')\n",
    "    line27 = ax.plot(hist_vals_27[1][:-1]+hist_diff/2, hist_vals_27[0], c='#762a83')\n",
    "    ax.set_xlabel('Energy at 11°C ($\\mu J/s$)')\n",
    "    ax.set_ylabel('Count (norm.)')\n",
    "    ax.spines['top'].set_visible(False)\n",
    "    ax.spines['right'].set_visible(False)\n",
    "    ax.set_ylim([0, 0.14])\n",
    "\n",
    "    plt.legend((line11[0], line27[0]), ('Fitted at 11°C', 'Fitted at 11°C & \\nrobust at 27°C'), bbox_to_anchor=(0.5, 1.1, 0.5, 0.5), handlelength=0.8, handletextpad=0.3)\n",
    "\n",
    "    plt.savefig(PANEL_D2, facecolor='None', transparent=True)"
   ]
  },
  {
   "cell_type": "markdown",
   "metadata": {},
   "source": [
    "# Compose figure"
   ]
  },
  {
   "cell_type": "code",
   "execution_count": 5,
   "metadata": {},
   "outputs": [],
   "source": [
    "def svg(img):\n",
    "    IPd.display(IPd.HTML('<img src=\"{}\" / >'.format(img, time.time())))"
   ]
  },
  {
   "cell_type": "code",
   "execution_count": 8,
   "metadata": {},
   "outputs": [
    {
     "data": {
      "text/html": [
       "<img src=\"../fig/fig4.svg\" / >"
      ],
      "text/plain": [
       "<IPython.core.display.HTML object>"
      ]
     },
     "metadata": {},
     "output_type": "display_data"
    }
   ],
   "source": [
    "from svgutils.compose import *\n",
    "\n",
    "# > Inkscape pixel is 1/90 of an inch, other software usually uses 1/72.\n",
    "# > http://www.inkscapeforum.com/viewtopic.php?f=6&t=5964\n",
    "svg_scale = 1.25  # set this to 1.25 for Inkscape, 1.0 otherwise\n",
    "factor_svg=5.5\n",
    "\n",
    "# Panel letters in Helvetica Neue, 12pt, Medium\n",
    "kwargs_text = {'size': '12pt', 'font': 'Arial', 'weight': '800'}\n",
    "kwargs_consistent = {'size': '10pt', 'font': 'Arial', 'weight': '500', 'color': '#AF99EF'}\n",
    "kwargs_consistent1 = {'size': '10pt', 'font': 'Arial', 'weight': '500', 'color': '#9E7DD5'}\n",
    "kwargs_inconsistent = {'size': '10pt', 'font': 'Arial', 'weight': '500', 'color': '#AF99EF'}\n",
    "kwargs_text8pt = {'size': '7.7pt', 'font': 'Arial'}\n",
    "\n",
    "f = Figure(\"20.3cm\", \"12.5cm\",\n",
    "\n",
    "    Panel(\n",
    "          SVG(PANEL_exp1).scale(svg_scale).move(0*factor_svg,0*factor_svg),\n",
    "          Text(\"a\", 0.0*factor_svg, 4.6*factor_svg, **kwargs_text),\n",
    "    ).move(0*factor_svg, -2*factor_svg),\n",
    "\n",
    "    Panel(\n",
    "          SVG(PANEL_exp2).scale(svg_scale).move(0*factor_svg,0*factor_svg),\n",
    "    ).move(0*factor_svg, 16*factor_svg),\n",
    "           \n",
    "    Panel(\n",
    "          SVG(PANEL_A1).scale(svg_scale).move(0*factor_svg,0*factor_svg),\n",
    "          Text(\"b\", 0.0*factor_svg, 2.6*factor_svg, **kwargs_text),\n",
    "    ).move(38*factor_svg, 0*factor_svg),\n",
    "\n",
    "    Panel(\n",
    "          SVG(PANEL_A2).scale(svg_scale).move(0*factor_svg,0*factor_svg),\n",
    "    ).move(71*factor_svg, 0*factor_svg),\n",
    "\n",
    "    Panel(\n",
    "          SVG(PANEL_B1).scale(svg_scale).move(0*factor_svg,0*factor_svg),\n",
    "          Text(\"c\", 0.0*factor_svg, 2.6*factor_svg, **kwargs_text),\n",
    "    ).move(110*factor_svg, 0*factor_svg),\n",
    "\n",
    "    Panel(\n",
    "          SVG(PANEL_B2).scale(svg_scale).move(0*factor_svg,0*factor_svg),\n",
    "    ).move(110*factor_svg, 18*factor_svg),\n",
    "\n",
    "    Panel(\n",
    "          SVG(PANEL_C1).scale(svg_scale).move(0*factor_svg,0*factor_svg),\n",
    "          Text(\"d\", 0.0*factor_svg, 1.1*factor_svg, **kwargs_text),\n",
    "    ).move(0*factor_svg, 38*factor_svg),\n",
    "\n",
    "    Panel(\n",
    "          SVG(PANEL_C2).scale(svg_scale).move(0*factor_svg,0*factor_svg),\n",
    "    ).move(47*factor_svg, 38*factor_svg),\n",
    "\n",
    "    Panel(\n",
    "          SVG(PANEL_C3).scale(svg_scale).move(0*factor_svg,0*factor_svg),\n",
    "    ).move(96*factor_svg, 38*factor_svg),\n",
    "    \n",
    "    Panel(\n",
    "          SVG(PANEL_F).scale(svg_scale).move(0*factor_svg,0*factor_svg),\n",
    "         Text(\"e\", -0.85*factor_svg, 0.5*factor_svg, **kwargs_text),\n",
    "    ).move(0.85*factor_svg, 62*factor_svg),\n",
    "    \n",
    "    Panel(\n",
    "          SVG(PANEL_G).scale(svg_scale).move(0*factor_svg,0*factor_svg),\n",
    "         Text(\"f\", 0.0*factor_svg, 1.1*factor_svg, **kwargs_text),\n",
    "    ).move(32.5*factor_svg, 61.45*factor_svg),\n",
    "\n",
    "    Panel(\n",
    "          SVG(PANEL_D2).scale(svg_scale).move(0*factor_svg,0*factor_svg),\n",
    "        Text(\"g\", 0.5*factor_svg, 2.5*factor_svg, **kwargs_text),\n",
    "    ).move(86*factor_svg, 59.83*factor_svg),\n",
    "\n",
    "    Panel(\n",
    "          SVG(PANEL_D1).scale(svg_scale).move(0*factor_svg,0*factor_svg),\n",
    "    ).move(116*factor_svg, 59.8*factor_svg),\n",
    "\n",
    ")\n",
    "\n",
    "!mkdir -p fig\n",
    "f.save(\"../fig/fig4.svg\")\n",
    "svg('../fig/fig4.svg')"
   ]
  },
  {
   "cell_type": "code",
   "execution_count": null,
   "metadata": {},
   "outputs": [],
   "source": []
  },
  {
   "cell_type": "code",
   "execution_count": null,
   "metadata": {},
   "outputs": [],
   "source": []
  },
  {
   "cell_type": "code",
   "execution_count": null,
   "metadata": {},
   "outputs": [],
   "source": []
  },
  {
   "cell_type": "code",
   "execution_count": null,
   "metadata": {},
   "outputs": [],
   "source": []
  },
  {
   "cell_type": "code",
   "execution_count": null,
   "metadata": {},
   "outputs": [],
   "source": []
  },
  {
   "cell_type": "code",
   "execution_count": null,
   "metadata": {},
   "outputs": [],
   "source": []
  },
  {
   "cell_type": "code",
   "execution_count": null,
   "metadata": {},
   "outputs": [],
   "source": []
  },
  {
   "cell_type": "code",
   "execution_count": null,
   "metadata": {},
   "outputs": [],
   "source": []
  },
  {
   "cell_type": "code",
   "execution_count": null,
   "metadata": {},
   "outputs": [],
   "source": []
  }
 ],
 "metadata": {
  "kernelspec": {
   "display_name": "sbi_prinz",
   "language": "python",
   "name": "sbi_prinz"
  },
  "language_info": {
   "codemirror_mode": {
    "name": "ipython",
    "version": 3
   },
   "file_extension": ".py",
   "mimetype": "text/x-python",
   "name": "python",
   "nbconvert_exporter": "python",
   "pygments_lexer": "ipython3",
   "version": "3.8.5"
  }
 },
 "nbformat": 4,
 "nbformat_minor": 4
}
