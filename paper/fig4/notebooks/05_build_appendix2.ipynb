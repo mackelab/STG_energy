{
 "cells": [
  {
   "cell_type": "code",
   "execution_count": 1,
   "metadata": {},
   "outputs": [],
   "source": [
    "import numpy as np\n",
    "import importlib\n",
    "import matplotlib as mpl\n",
    "import matplotlib.pylab as plt\n",
    "import time\n",
    "from copy import deepcopy\n",
    "import torch\n",
    "import IPython.display as IPd\n",
    "import pandas as pd\n",
    "import dill as pickle\n",
    "from multiprocessing import Pool\n",
    "\n",
    "from stg_energy.common import col, svg, samples_nd, get_labels_8pt, reorder_stats\n",
    "from stg_energy.fig5_cc.viz import vis_sample_plain\n",
    "from pyloric import simulate, summary_stats, create_prior\n",
    "from stg_energy.fig7_temp.process_samples import merge_samples\n",
    "import stg_energy.fig7_temp.viz as viz\n",
    "from sbi.utils import ActiveSubspace\n",
    "\n",
    "from stg_energy import check_if_close_to_obs\n",
    "\n",
    "import pyabf"
   ]
  },
  {
   "cell_type": "markdown",
   "metadata": {},
   "source": [
    "# Fig 7: posterior over temperatures"
   ]
  },
  {
   "cell_type": "code",
   "execution_count": 2,
   "metadata": {},
   "outputs": [],
   "source": [
    "%load_ext autoreload\n",
    "%autoreload 2"
   ]
  },
  {
   "cell_type": "code",
   "execution_count": 3,
   "metadata": {},
   "outputs": [],
   "source": [
    "PANEL_exp1 = '../svg/panel_exp1.svg'\n",
    "PANEL_exp2 = '../svg/panel_exp2.svg'\n",
    "\n",
    "PANEL_A1 = '../svg/panel_a1.svg'\n",
    "PANEL_A2 = '../svg/panel_a2.svg'\n",
    "\n",
    "PANEL_B1 = '../svg/panel_b1.svg'\n",
    "PANEL_B2 = '../svg/panel_b2.svg'\n",
    "\n",
    "PANEL_C1 = '../svg/panel_c1.svg'\n",
    "PANEL_C2 = '../svg/panel_c2.svg'\n",
    "PANEL_C3 = '../svg/panel_c3.svg'\n",
    "\n",
    "PANEL_D1 = '../svg/panel_d1.svg'\n",
    "PANEL_D2 = '../svg/panel_d2.svg'\n",
    "\n",
    "PANEL_E1 = '../svg/panel_e1.svg'\n",
    "PANEL_E2 = '../svg/panel_e2.svg'\n",
    "PANEL_E3 = '../svg/panel_e3.svg'\n",
    "PANEL_E4 = '../svg/panel_e4.svg'\n",
    "\n",
    "PANEL_F = '../svg/panel_f.svg'\n",
    "PANEL_G = '../svg/panel_g.svg'"
   ]
  },
  {
   "cell_type": "markdown",
   "metadata": {},
   "source": [
    "### Load samples from 11 deg, 15deg, 19deg, 23deg, 27deg"
   ]
  },
  {
   "cell_type": "code",
   "execution_count": 31,
   "metadata": {},
   "outputs": [
    {
     "name": "stdout",
     "output_type": "stream",
     "text": [
      "1364.451376146789\n",
      "272.78181818181827\n",
      "141.99545454545435\n",
      "505.7348214285717\n",
      "0.19992051233965857\n",
      "0.10406780118940519\n",
      "0.37065067342800223\n",
      "0.42341758774276916\n",
      "0.5694534831862397\n",
      "577.7327102803752\n",
      "776.9915887850472\n",
      "305.007476635515\n",
      "57.6999999999993\n",
      "0.2235385459442726\n",
      "0.04228805878223679\n",
      "2.5\n",
      "2.5\n",
      "2.5\n"
     ]
    }
   ],
   "source": [
    "xo11 = np.load(\"../../../results/experimental_data/xo_11deg_078.npy\")\n",
    "xo27 = np.load(\"../../../results/experimental_data/xo_27deg_078.npy\")\n",
    "\n",
    "xo11_or = np.load(\"../../../results/experimental_data/xo_11deg.npy\")\n",
    "\n",
    "for x in xo11:\n",
    "    print(x)"
   ]
  },
  {
   "cell_type": "markdown",
   "metadata": {},
   "source": [
    "### Show data at 11 degree"
   ]
  },
  {
   "cell_type": "code",
   "execution_count": 32,
   "metadata": {},
   "outputs": [],
   "source": [
    "npz = np.load('../../../results/experimental_data/supplementary_traces/data_857_016_0049.npz')\n",
    "t = npz['t']\n",
    "PD_spikes = npz['PD_spikes']\n",
    "LP_spikes = npz['LP_spikes']\n",
    "PY_spikes = npz['PY_spikes']\n",
    "\n",
    "pdn = npz['pdn']\n",
    "lpn = npz['lpn']\n",
    "pyn = npz['pyn']"
   ]
  },
  {
   "cell_type": "code",
   "execution_count": 33,
   "metadata": {},
   "outputs": [],
   "source": [
    "start_index = 100000\n",
    "end_index   = 130000\n",
    "height_offset = 200\n",
    "shown_t = t[end_index] - t[start_index]\n",
    "time_len = shown_t / 0.025 * 1000\n",
    "dt = t[1] - t[0]"
   ]
  },
  {
   "cell_type": "code",
   "execution_count": 34,
   "metadata": {},
   "outputs": [
    {
     "data": {
      "image/png": "[encoded data removed]",
      "text/plain": [
       "<Figure size 220x130 with 1 Axes>"
      ]
     },
     "metadata": {},
     "output_type": "display_data"
    }
   ],
   "source": [
    "with mpl.rc_context(fname='../../../.matplotlibrc'):\n",
    "    fig, ax = plt.subplots(1,1,figsize=(2.2, 1.3)) # (2.87, 2.08*3/4)\n",
    "    ax.plot(t[start_index:end_index], 7.5+pdn[start_index:end_index]/np.max(pdn), c=col['GT'], lw=0.8)\n",
    "    ax.plot(t[start_index:end_index], 6.45+lpn[start_index:end_index]/2.5/np.max(lpn), c=col['GT'], lw=0.8)\n",
    "    ax.plot(t[start_index:end_index], 5+pyn[start_index:end_index]/1.2/np.max(pyn), c=col['GT'], lw=0.8)\n",
    "\n",
    "    ax.spines['right'].set_visible(False)\n",
    "    ax.spines['top'].set_visible(False)\n",
    "    ax.spines['bottom'].set_visible(False)\n",
    "    ax.spines['left'].set_visible(False)\n",
    "    ax.axes.get_yaxis().set_ticks([])\n",
    "    ax.axes.get_xaxis().set_ticks([])\n",
    "    ax.get_yaxis().set_visible(False)\n",
    "    \n",
    "    duration = 0.5\n",
    "    number_of_timesteps = int(duration / dt)\n",
    "    t_scale = np.linspace(t[start_index], t[start_index + number_of_timesteps], 2)\n",
    "    \n",
    "    ax.plot(t_scale, 4.3 * np.ones_like(t_scale), c='k', lw=1.0)\n",
    "    \n",
    "#     plt.savefig(PANEL_exp1, facecolor='None', transparent=True)\n",
    "    plt.show()"
   ]
  },
  {
   "cell_type": "markdown",
   "metadata": {},
   "source": [
    "### Show data at 27 degree"
   ]
  },
  {
   "cell_type": "code",
   "execution_count": 35,
   "metadata": {},
   "outputs": [],
   "source": [
    "npz = np.load('../../../results/experimental_data/supplementary_traces/data_857_016_0069.npz')\n",
    "t = npz['t']\n",
    "PD_spikes = npz['PD_spikes']\n",
    "LP_spikes = npz['LP_spikes']\n",
    "PY_spikes = npz['PY_spikes']\n",
    "\n",
    "pdn = npz['pdn']\n",
    "lpn = npz['lpn']\n",
    "pyn = npz['pyn']"
   ]
  },
  {
   "cell_type": "code",
   "execution_count": 36,
   "metadata": {},
   "outputs": [],
   "source": [
    "start_index = 100000\n",
    "end_index   = 130000\n",
    "height_offset = 200\n",
    "shown_t = t[end_index] - t[start_index]\n",
    "time_len = shown_t / 0.025 * 1000\n",
    "dt = t[1] - t[0]"
   ]
  },
  {
   "cell_type": "code",
   "execution_count": 37,
   "metadata": {},
   "outputs": [
    {
     "data": {
      "image/png": "[encoded data removed]",
      "text/plain": [
       "<Figure size 220x130 with 1 Axes>"
      ]
     },
     "metadata": {},
     "output_type": "display_data"
    }
   ],
   "source": [
    "with mpl.rc_context(fname='../../../.matplotlibrc'):\n",
    "    fig, ax = plt.subplots(1,1,figsize=(2.2, 1.3)) # (2.87, 2.08*3/4)\n",
    "    ax.plot(t[start_index:end_index], 7.5+pdn[start_index:end_index]/np.max(pdn), c=col['GT'], lw=0.8)\n",
    "    ax.plot(t[start_index:end_index], 6.45+lpn[start_index:end_index]/2.5/np.max(lpn), c=col['GT'], lw=0.8)\n",
    "    ax.plot(t[start_index:end_index], 5+pyn[start_index:end_index]/1.2/np.max(pyn), c=col['GT'], lw=0.8)\n",
    "\n",
    "    ax.spines['right'].set_visible(False)\n",
    "    ax.spines['top'].set_visible(False)\n",
    "    ax.spines['bottom'].set_visible(False)\n",
    "    ax.spines['left'].set_visible(False)\n",
    "    ax.axes.get_yaxis().set_ticks([])\n",
    "    ax.axes.get_xaxis().set_ticks([])\n",
    "    ax.get_yaxis().set_visible(False)\n",
    "    \n",
    "    duration = 0.5\n",
    "    number_of_timesteps = int(duration / dt)\n",
    "    t_scale = np.linspace(t[start_index], t[start_index + number_of_timesteps], 2)\n",
    "    \n",
    "    ax.plot(t_scale, 4.3 * np.ones_like(t_scale), c='k', lw=1.0)\n",
    "    \n",
    "#     plt.savefig(PANEL_exp1, facecolor='None', transparent=True)\n",
    "    plt.show()"
   ]
  },
  {
   "cell_type": "markdown",
   "metadata": {},
   "source": [
    "# Simulate samples from 11 deg posterior"
   ]
  },
  {
   "cell_type": "code",
   "execution_count": 38,
   "metadata": {},
   "outputs": [],
   "source": [
    "with open(\n",
    "    \"../../../results/trained_neural_nets/inference/posterior_11deg.pickle\", \"rb\"\n",
    ") as handle:\n",
    "    posterior = pickle.load(handle)"
   ]
  },
  {
   "cell_type": "code",
   "execution_count": 39,
   "metadata": {},
   "outputs": [
    {
     "data": {
      "application/vnd.jupyter.widget-view+json": {
       "model_id": "1fde04e5a2ab4e05b57100dc60cf4c2f",
       "version_major": 2,
       "version_minor": 0
      },
      "text/plain": [
       "HBox(children=(FloatProgress(value=0.0, description='Drawing 100000 posterior samples', max=100000.0, style=Pr…"
      ]
     },
     "metadata": {},
     "output_type": "display_data"
    },
    {
     "name": "stdout",
     "output_type": "stream",
     "text": [
      "\n"
     ]
    }
   ],
   "source": [
    "torch.manual_seed(0)\n",
    "posterior_samples_11 = posterior.sample((10000,), x=xo11)\n",
    "\n",
    "prior_11 = create_prior()\n",
    "param_names = prior_11.sample((1,)).columns\n",
    "\n",
    "posterior_pd1 = pd.DataFrame(posterior_samples_11, columns=param_names)"
   ]
  },
  {
   "cell_type": "code",
   "execution_count": 40,
   "metadata": {},
   "outputs": [],
   "source": [
    "trace = simulate(posterior_pd1.loc[0], track_energy=True)\n",
    "stats = summary_stats(trace, stats_customization={'energies': True, 'plateau_durations': True})\n",
    "\n",
    "stat_names = stats.columns"
   ]
  },
  {
   "cell_type": "code",
   "execution_count": 41,
   "metadata": {},
   "outputs": [],
   "source": [
    "def sim_func_11(samples):\n",
    "    posterior_pd = pd.DataFrame(np.asarray([samples.numpy()]), columns=param_names)\n",
    "    trace = simulate(posterior_pd.loc[0], track_energy=True, seed=0)\n",
    "    stats = summary_stats(trace, stats_customization={'energies': True, 'plateau_durations': True})\n",
    "    return stats.to_numpy()[0]"
   ]
  },
  {
   "cell_type": "code",
   "execution_count": 42,
   "metadata": {},
   "outputs": [],
   "source": [
    "data = []\n",
    "num_sims = 500\n",
    "for kkk in range(1):\n",
    "    with Pool(processes=12) as pool:\n",
    "        data.append(pool.map(sim_func_11, posterior_samples_11[5000*kkk:5000*kkk+num_sims]))"
   ]
  },
  {
   "cell_type": "code",
   "execution_count": 62,
   "metadata": {},
   "outputs": [],
   "source": [
    "x_11_11 = np.asarray(data)\n",
    "x_11_11_reshape = np.reshape(x_11_11, (500, 21))"
   ]
  },
  {
   "cell_type": "code",
   "execution_count": 63,
   "metadata": {},
   "outputs": [],
   "source": [
    "# x_11_11 = np.asarray(data)\n",
    "close_enough = check_if_close_to_obs(x_11_11_reshape, xo=xo11[:15], check_burst_num=False, sloppiness=6.0)\n",
    "x_11_11_reshape = x_11_11_reshape[close_enough]\n",
    "x_11_11_reshape = pd.DataFrame(x_11_11_reshape, columns=stat_names)"
   ]
  },
  {
   "cell_type": "code",
   "execution_count": 64,
   "metadata": {},
   "outputs": [
    {
     "name": "stdout",
     "output_type": "stream",
     "text": [
      "4\n"
     ]
    }
   ],
   "source": [
    "num_of_valid = np.invert(np.any(np.isnan(x_11_11_reshape), axis=1))\n",
    "print(np.sum(num_of_valid))"
   ]
  },
  {
   "cell_type": "markdown",
   "metadata": {},
   "source": [
    "# Simulate samples from 27 deg posterior"
   ]
  },
  {
   "cell_type": "code",
   "execution_count": 21,
   "metadata": {},
   "outputs": [],
   "source": [
    "with open(\n",
    "    \"../../../results/trained_neural_nets/inference/temp27_flow_notau_016_-35.57665352652927_tensor([83551]).pickle\", \"rb\"\n",
    ") as handle:\n",
    "    posterior_27 = pickle.load(handle)"
   ]
  },
  {
   "cell_type": "code",
   "execution_count": 22,
   "metadata": {},
   "outputs": [
    {
     "data": {
      "application/vnd.jupyter.widget-view+json": {
       "model_id": "a466f93fbfe643abbd45ec6ca968b477",
       "version_major": 2,
       "version_minor": 0
      },
      "text/plain": [
       "HBox(children=(FloatProgress(value=0.0, description='Drawing 10000 posterior samples', max=10000.0, style=Prog…"
      ]
     },
     "metadata": {},
     "output_type": "display_data"
    },
    {
     "name": "stdout",
     "output_type": "stream",
     "text": [
      "\n"
     ]
    }
   ],
   "source": [
    "torch.manual_seed(0)\n",
    "posterior_samples_27 = posterior_27.sample((10000,), x=xo27)\n",
    "\n",
    "prior_27 = create_prior(\n",
    "        customization={\n",
    "            \"Q10_gbar_mem\": [True, True, True, True, True, True, True, True],\n",
    "            \"Q10_gbar_syn\": [True, True],\n",
    "            \"Q10_tau_m\": [False],\n",
    "            \"Q10_tau_h\": [False],\n",
    "            \"Q10_tau_CaBuff\": [False],\n",
    "            \"Q10_tau_syn\": [False, False],\n",
    "        },\n",
    "    )\n",
    "param_names = prior_27.sample((1,)).columns"
   ]
  },
  {
   "cell_type": "markdown",
   "metadata": {},
   "source": [
    "### Simulate at 27 deg"
   ]
  },
  {
   "cell_type": "code",
   "execution_count": 114,
   "metadata": {},
   "outputs": [],
   "source": [
    "def sim_func_27(samples):\n",
    "    posterior_pd = pd.DataFrame(np.asarray([samples.numpy()]), columns=param_names)\n",
    "    trace = simulate(posterior_pd.loc[0], temperature=299, track_energy=True, seed=0)\n",
    "    stats = summary_stats(trace, stats_customization={'energies': True, 'plateau_durations': True})\n",
    "    return stats.to_numpy()[0]"
   ]
  },
  {
   "cell_type": "code",
   "execution_count": 115,
   "metadata": {},
   "outputs": [],
   "source": [
    "with Pool(processes=12) as pool:\n",
    "    data = pool.map(sim_func_27, posterior_samples_27[:500])\n",
    "x_27_27 = np.asarray(data)"
   ]
  },
  {
   "cell_type": "code",
   "execution_count": 116,
   "metadata": {},
   "outputs": [],
   "source": [
    "x_27_27pd = pd.DataFrame(x_27_27, columns=stat_names)"
   ]
  },
  {
   "cell_type": "code",
   "execution_count": 117,
   "metadata": {},
   "outputs": [],
   "source": [
    "close_enough = check_if_close_to_obs(x_27_27, xo=xo27[:15], check_burst_num=False, sloppiness=10.0)\n",
    "x_27_27 = x_27_27[close_enough]\n",
    "x_27_27 = pd.DataFrame(x_27_27, columns=stat_names)"
   ]
  },
  {
   "cell_type": "code",
   "execution_count": 118,
   "metadata": {},
   "outputs": [
    {
     "name": "stdout",
     "output_type": "stream",
     "text": [
      "126\n"
     ]
    }
   ],
   "source": [
    "num_of_valid = np.invert(np.any(np.isnan(x_27_27), axis=1))\n",
    "print(np.sum(num_of_valid))"
   ]
  },
  {
   "cell_type": "markdown",
   "metadata": {},
   "source": [
    "### Simulate at 11 deg"
   ]
  },
  {
   "cell_type": "code",
   "execution_count": 23,
   "metadata": {},
   "outputs": [],
   "source": [
    "with Pool(processes=12) as pool:\n",
    "    data = pool.map(sim_func_11, posterior_samples_27[:20000])\n",
    "x_27_11 = np.asarray(data)"
   ]
  },
  {
   "cell_type": "code",
   "execution_count": 153,
   "metadata": {},
   "outputs": [],
   "source": [
    "close_enough = check_if_close_to_obs(x_27_11, xo=xo11[:15], check_burst_num=False, sloppiness=6.0)\n",
    "x_27_11 = x_27_11[close_enough]\n",
    "x_27_11 = pd.DataFrame(x_27_11, columns=stat_names)"
   ]
  },
  {
   "cell_type": "code",
   "execution_count": 154,
   "metadata": {},
   "outputs": [
    {
     "name": "stdout",
     "output_type": "stream",
     "text": [
      "668\n"
     ]
    }
   ],
   "source": [
    "num_of_valid = np.invert(np.any(np.isnan(x_27_11), axis=1))\n",
    "print(np.sum(num_of_valid))"
   ]
  },
  {
   "cell_type": "markdown",
   "metadata": {},
   "source": [
    "### Simulate a sample from 27 posterior at 11 and 27 deg"
   ]
  },
  {
   "cell_type": "code",
   "execution_count": 155,
   "metadata": {},
   "outputs": [],
   "source": [
    "time_vec = np.arange(0, 11000, 0.025)"
   ]
  },
  {
   "cell_type": "code",
   "execution_count": 156,
   "metadata": {},
   "outputs": [],
   "source": [
    "# sample_index = 1\n",
    "# counter = 0\n",
    "# offsets = [82000, 16500]\n",
    "\n",
    "# for temp in [283, 299]:\n",
    "\n",
    "#     out_target = simulate(\n",
    "#         posterior_pd.loc[sample_index],\n",
    "#         seed=0,\n",
    "#         temperature=temp,\n",
    "#     )\n",
    "\n",
    "#     with mpl.rc_context(fname=\"../../../.matplotlibrc\"):\n",
    "#         fig, ax = plt.subplots(1, 1, facecolor=\"white\", figsize=(2.0, 1.15))\n",
    "#         fig = vis_sample_plain(\n",
    "#             out_target,\n",
    "#             time_vec,\n",
    "#             ax,\n",
    "#             time_len=int(shown_t / 0.025 * 1000),\n",
    "#             col='k',\n",
    "#             offset=offsets[counter],\n",
    "#             scale_bar=False,\n",
    "#         )\n",
    "# #         if temp == 283:\n",
    "# #             plt.savefig(PANEL_B1, facecolor='None', transparent=True)\n",
    "# #         elif temp == 299:\n",
    "# #             plt.savefig(PANEL_B2, facecolor='None', transparent=True)\n",
    "#         plt.show()\n",
    "#         counter += 1"
   ]
  },
  {
   "cell_type": "code",
   "execution_count": 124,
   "metadata": {},
   "outputs": [
    {
     "name": "stdout",
     "output_type": "stream",
     "text": [
      "number of considered simulations:   62\n"
     ]
    }
   ],
   "source": [
    "min_num = min(x_27_11.shape[0], x_27_27.shape[0])\n",
    "print(\"number of considered simulations:  \", min_num)\n",
    "e_11 = np.sum(x_27_11['energies'].to_numpy()[:min_num], axis=1) / 10 / 1000\n",
    "e_27 = np.sum(x_27_27['energies'].to_numpy()[:min_num], axis=1) / 10 / 1000"
   ]
  },
  {
   "cell_type": "code",
   "execution_count": 125,
   "metadata": {},
   "outputs": [
    {
     "name": "stdout",
     "output_type": "stream",
     "text": [
      "Pearson correlation coefficient between energy consumption at 11 and 27 degree:  0.1606881252213901\n"
     ]
    }
   ],
   "source": [
    "print(\"Pearson correlation coefficient between energy consumption at 11 and 27 degree: \", np.corrcoef(e_11, e_27)[0, 1])"
   ]
  },
  {
   "cell_type": "code",
   "execution_count": 126,
   "metadata": {},
   "outputs": [
    {
     "data": {
      "image/png": "[encoded data removed]",
      "text/plain": [
       "<Figure size 140x120 with 1 Axes>"
      ]
     },
     "metadata": {},
     "output_type": "display_data"
    }
   ],
   "source": [
    "with mpl.rc_context(fname='../../../.matplotlibrc'):\n",
    "    fig, ax = plt.subplots(1, 1, figsize=(1.4, 1.2))\n",
    "    ax.scatter(e_11, e_27, s=3, c='k')\n",
    "    ax.plot([4, 24], [4, 24], c='gray', alpha=0.5)\n",
    "    ax.set_xlabel(\"E at 11 °C [$\\mu$J/s]\")\n",
    "    ax.set_ylabel(\"E at 27 °C [$\\mu$J/s]\")\n",
    "#     plt.savefig(PANEL_F, facecolor='None', transparent=True)"
   ]
  },
  {
   "cell_type": "markdown",
   "metadata": {},
   "source": [
    "# Relation between energy efficiency and temperature robustness"
   ]
  },
  {
   "cell_type": "markdown",
   "metadata": {},
   "source": [
    "### Load samples from 27deg posterior. Samples have been rejected if too far from obs at 11deg and then been simulated at 27deg"
   ]
  },
  {
   "cell_type": "code",
   "execution_count": 157,
   "metadata": {},
   "outputs": [
    {
     "name": "stdout",
     "output_type": "stream",
     "text": [
      "number of considered simulations:   454\n"
     ]
    }
   ],
   "source": [
    "min_num = min(x_11_11.shape[0], x_27_11.shape[0])\n",
    "print(\"number of considered simulations:  \", min_num)\n",
    "all_total_energies_11 = x_11_11['energies'].to_numpy()[:min_num]\n",
    "all_total_energies_27 = x_27_11['energies'].to_numpy()[:min_num]\n",
    "# all_total_energies_rejection = x_11_11_rejection_nan['energies'].to_numpy()"
   ]
  },
  {
   "cell_type": "code",
   "execution_count": 158,
   "metadata": {},
   "outputs": [],
   "source": [
    "summed_energies_total_11 = np.sum(np.asarray(all_total_energies_11), axis=1) / 10 / 1000 # per second, micro-Joule\n",
    "summed_energies_total_27 = np.sum(np.asarray(all_total_energies_27), axis=1) / 10 / 1000\n",
    "# summed_energies_total_27_rejection = np.sum(np.asarray(all_total_energies_rejection), axis=1) / 10 / 1000"
   ]
  },
  {
   "cell_type": "code",
   "execution_count": 159,
   "metadata": {},
   "outputs": [
    {
     "data": {
      "image/png": "[encoded data removed]",
      "text/plain": [
       "<Figure size 160x90 with 1 Axes>"
      ]
     },
     "metadata": {},
     "output_type": "display_data"
    }
   ],
   "source": [
    "with mpl.rc_context(fname='../../../.matplotlibrc'):\n",
    "    fig, ax = plt.subplots(1, 1, figsize=(1.6, 0.9))\n",
    "\n",
    "    hist_vals_11 = ax.hist(summed_energies_total_11[:900], range=(0, 30), bins=100, color='w')\n",
    "    hist_vals_27 = ax.hist(summed_energies_total_27[:900], range=(0, 30), bins=100, color='w')\n",
    "\n",
    "    hist_diff = hist_vals_11[1][1] - hist_vals_11[1][0]\n",
    "    line11 = ax.plot(hist_vals_11[1][:-1]+hist_diff/2, hist_vals_11[0], c='#1b7837')\n",
    "    line27 = ax.plot(hist_vals_27[1][:-1]+hist_diff/2, hist_vals_27[0], c='#c51b7d')\n",
    "    ax.set_xlabel('Energy at 11°C ($\\mu J/s$)')\n",
    "    ax.spines['top'].set_visible(False)\n",
    "    ax.spines['right'].set_visible(False)\n",
    "#     ax.set_ylim([0, 52])\n",
    "    ax.set_yticks([])\n",
    "\n",
    "    plt.legend((line11[0], line27[0]), ('Fitted at 11°C', 'Fitted at 11 & 27°C'), bbox_to_anchor=(0.6, 1.1, 0.5, 0.5), handlelength=0.8, handletextpad=0.3)\n",
    "\n",
    "#     plt.savefig(PANEL_D1, facecolor='None', transparent=True)"
   ]
  },
  {
   "cell_type": "code",
   "execution_count": 130,
   "metadata": {},
   "outputs": [],
   "source": [
    "# with mpl.rc_context(fname='../../../.matplotlibrc'):\n",
    "#     fig, ax = plt.subplots(1, 1, figsize=(1.6, 0.9))\n",
    "\n",
    "#     hist_vals_11 = ax.hist(summed_energies_total_11[:900], range=(0, 30), bins=100, color='w')\n",
    "#     hist_vals_27 = ax.hist(summed_energies_total_27_rejection[:900], range=(0, 30), bins=100, color='w')\n",
    "\n",
    "#     hist_diff = hist_vals_11[1][1] - hist_vals_11[1][0]\n",
    "#     line11 = ax.plot(hist_vals_11[1][:-1]+hist_diff/2, hist_vals_11[0], c='#1b7837')\n",
    "#     line27 = ax.plot(hist_vals_27[1][:-1]+hist_diff/2, hist_vals_27[0], c='#762a83')\n",
    "#     ax.set_xlabel('Energy at 11°C ($\\mu J/s$)')\n",
    "#     ax.set_ylabel('Count')\n",
    "#     ax.spines['top'].set_visible(False)\n",
    "#     ax.spines['right'].set_visible(False)\n",
    "#     ax.set_ylim([0, 52])\n",
    "    \n",
    "#     plt.legend((line11[0], line27[0]), ('Fitted at 11°C', 'Fitted at 11°C & \\nrobust at 27°C'), bbox_to_anchor=(0.5, 1.1, 0.5, 0.5), handlelength=0.8, handletextpad=0.3)\n",
    "\n",
    "#     plt.savefig(PANEL_D2, facecolor='None', transparent=True)"
   ]
  },
  {
   "cell_type": "markdown",
   "metadata": {},
   "source": [
    "# Compose figure"
   ]
  },
  {
   "cell_type": "code",
   "execution_count": 56,
   "metadata": {},
   "outputs": [],
   "source": [
    "def svg(img):\n",
    "    IPd.display(IPd.HTML('<img src=\"{}\" / >'.format(img, time.time())))"
   ]
  },
  {
   "cell_type": "code",
   "execution_count": 59,
   "metadata": {},
   "outputs": [
    {
     "data": {
      "text/html": [
       "<img src=\"../fig/fig4.svg\" / >"
      ],
      "text/plain": [
       "<IPython.core.display.HTML object>"
      ]
     },
     "metadata": {},
     "output_type": "display_data"
    }
   ],
   "source": [
    "from svgutils.compose import *\n",
    "\n",
    "# > Inkscape pixel is 1/90 of an inch, other software usually uses 1/72.\n",
    "# > http://www.inkscapeforum.com/viewtopic.php?f=6&t=5964\n",
    "svg_scale = 1.25  # set this to 1.25 for Inkscape, 1.0 otherwise\n",
    "factor_svg=5.5\n",
    "\n",
    "# Panel letters in Helvetica Neue, 12pt, Medium\n",
    "kwargs_text = {'size': '12pt', 'font': 'Arial', 'weight': '800'}\n",
    "kwargs_consistent = {'size': '10pt', 'font': 'Arial', 'weight': '500', 'color': '#AF99EF'}\n",
    "kwargs_consistent1 = {'size': '10pt', 'font': 'Arial', 'weight': '500', 'color': '#9E7DD5'}\n",
    "kwargs_inconsistent = {'size': '10pt', 'font': 'Arial', 'weight': '500', 'color': '#AF99EF'}\n",
    "kwargs_text8pt = {'size': '7.7pt', 'font': 'Arial'}\n",
    "\n",
    "f = Figure(\"20.3cm\", \"12.5cm\",\n",
    "\n",
    "    Panel(\n",
    "          SVG(PANEL_exp1).scale(svg_scale).move(0*factor_svg,0*factor_svg),\n",
    "          Text(\"a\", 0.0*factor_svg, 4.6*factor_svg, **kwargs_text),\n",
    "    ).move(0*factor_svg, -2*factor_svg),\n",
    "\n",
    "    Panel(\n",
    "          SVG(PANEL_exp2).scale(svg_scale).move(0*factor_svg,0*factor_svg),\n",
    "    ).move(0*factor_svg, 16*factor_svg),\n",
    "           \n",
    "    Panel(\n",
    "          SVG(PANEL_A1).scale(svg_scale).move(0*factor_svg,0*factor_svg),\n",
    "          Text(\"b\", 0.0*factor_svg, 2.6*factor_svg, **kwargs_text),\n",
    "    ).move(38*factor_svg, 0*factor_svg),\n",
    "\n",
    "    Panel(\n",
    "          SVG(PANEL_A2).scale(svg_scale).move(0*factor_svg,0*factor_svg),\n",
    "    ).move(71*factor_svg, 0*factor_svg),\n",
    "\n",
    "    Panel(\n",
    "          SVG(PANEL_B1).scale(svg_scale).move(0*factor_svg,0*factor_svg),\n",
    "          Text(\"c\", 0.0*factor_svg, 2.6*factor_svg, **kwargs_text),\n",
    "    ).move(110*factor_svg, 0*factor_svg),\n",
    "\n",
    "    Panel(\n",
    "          SVG(PANEL_B2).scale(svg_scale).move(0*factor_svg,0*factor_svg),\n",
    "    ).move(110*factor_svg, 18*factor_svg),\n",
    "\n",
    "    Panel(\n",
    "          SVG(PANEL_C1).scale(svg_scale).move(0*factor_svg,0*factor_svg),\n",
    "          Text(\"d\", 0.0*factor_svg, 1.1*factor_svg, **kwargs_text),\n",
    "    ).move(0*factor_svg, 38*factor_svg),\n",
    "\n",
    "    Panel(\n",
    "          SVG(PANEL_C2).scale(svg_scale).move(0*factor_svg,0*factor_svg),\n",
    "    ).move(47*factor_svg, 38*factor_svg),\n",
    "\n",
    "    Panel(\n",
    "          SVG(PANEL_C3).scale(svg_scale).move(0*factor_svg,0*factor_svg),\n",
    "    ).move(96*factor_svg, 38*factor_svg),\n",
    "    \n",
    "    Panel(\n",
    "          SVG(PANEL_F).scale(svg_scale).move(0*factor_svg,0*factor_svg),\n",
    "         Text(\"e\", -1.0*factor_svg, 0.5*factor_svg, **kwargs_text),\n",
    "    ).move(1*factor_svg, 62*factor_svg),\n",
    "    \n",
    "    Panel(\n",
    "          SVG(PANEL_G).scale(svg_scale).move(0*factor_svg,0*factor_svg),\n",
    "         Text(\"f\", 0.0*factor_svg, 1.1*factor_svg, **kwargs_text),\n",
    "    ).move(32.5*factor_svg, 61.45*factor_svg),\n",
    "\n",
    "    Panel(\n",
    "          SVG(PANEL_D2).scale(svg_scale).move(0*factor_svg,0*factor_svg),\n",
    "        Text(\"g\", 0.5*factor_svg, 2.5*factor_svg, **kwargs_text),\n",
    "    ).move(86*factor_svg, 59.89*factor_svg),\n",
    "\n",
    "    Panel(\n",
    "          SVG(PANEL_D1).scale(svg_scale).move(0*factor_svg,0*factor_svg),\n",
    "    ).move(116*factor_svg, 59.8*factor_svg),\n",
    "\n",
    ")\n",
    "\n",
    "!mkdir -p fig\n",
    "f.save(\"../fig/fig4.svg\")\n",
    "svg('../fig/fig4.svg')"
   ]
  },
  {
   "cell_type": "code",
   "execution_count": null,
   "metadata": {},
   "outputs": [],
   "source": []
  },
  {
   "cell_type": "code",
   "execution_count": null,
   "metadata": {},
   "outputs": [],
   "source": []
  },
  {
   "cell_type": "code",
   "execution_count": null,
   "metadata": {},
   "outputs": [],
   "source": []
  }
 ],
 "metadata": {
  "kernelspec": {
   "display_name": "sbi_prinz",
   "language": "python",
   "name": "sbi_prinz"
  },
  "language_info": {
   "codemirror_mode": {
    "name": "ipython",
    "version": 3
   },
   "file_extension": ".py",
   "mimetype": "text/x-python",
   "name": "python",
   "nbconvert_exporter": "python",
   "pygments_lexer": "ipython3",
   "version": "3.8.5"
  }
 },
 "nbformat": 4,
 "nbformat_minor": 4
}
