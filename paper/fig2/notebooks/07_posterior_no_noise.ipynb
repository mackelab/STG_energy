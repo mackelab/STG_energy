{
 "cells": [
  {
   "cell_type": "code",
   "execution_count": 27,
   "metadata": {},
   "outputs": [],
   "source": [
    "import numpy as np\n",
    "import matplotlib.pylab as plt\n",
    "import time\n",
    "from copy import deepcopy\n",
    "\n",
    "import importlib\n",
    "import matplotlib as mpl\n",
    "import matplotlib.patches as mp\n",
    "import pandas as pd\n",
    "import torch\n",
    "import matplotlib.patheffects as pe\n",
    "\n",
    "\n",
    "from pyloric import create_prior, simulate, summary_stats\n",
    "from stg_energy.common import col, svg, get_labels_8pt\n",
    "import stg_energy.fig2_inference.viz as viz\n",
    "from sbi.analysis import pairplot"
   ]
  },
  {
   "cell_type": "markdown",
   "metadata": {},
   "source": [
    "# Figure 1"
   ]
  },
  {
   "cell_type": "code",
   "execution_count": 28,
   "metadata": {},
   "outputs": [],
   "source": [
    "pd.options.display.max_columns=999"
   ]
  },
  {
   "cell_type": "code",
   "execution_count": 29,
   "metadata": {},
   "outputs": [
    {
     "name": "stdout",
     "output_type": "stream",
     "text": [
      "The autoreload extension is already loaded. To reload it, use:\n",
      "  %reload_ext autoreload\n"
     ]
    }
   ],
   "source": [
    "%load_ext autoreload\n",
    "%autoreload 2"
   ]
  },
  {
   "cell_type": "code",
   "execution_count": 30,
   "metadata": {},
   "outputs": [],
   "source": [
    "PANEL_A1 = '../svg/panel_a_no_noise1.svg'\n",
    "PANEL_A2 = '../svg/panel_a_no_noise2.svg'\n",
    "PANEL_A3 = '../svg/panel_a_no_noise3.svg'\n",
    "PANEL_A4 = '../svg/panel_e_no_noise4.svg'\n",
    "\n",
    "PANEL_B1 = '../svg/panel_b_no_noise1.svg'\n",
    "PANEL_B2 = '../svg/panel_b_no_noise2.svg'\n",
    "PANEL_B3 = '../svg/panel_b_no_noise3.svg'\n",
    "PANEL_B4 = '../svg/panel_b_no_noise4.svg'"
   ]
  },
  {
   "cell_type": "code",
   "execution_count": 31,
   "metadata": {},
   "outputs": [],
   "source": [
    "x_std = torch.as_tensor(\n",
    "    [\n",
    "        10,\n",
    "        5,\n",
    "        5,\n",
    "        5,\n",
    "        0.005,\n",
    "        0.005,\n",
    "        0.005,\n",
    "        0.005,\n",
    "        0.005,\n",
    "        5,\n",
    "        5,\n",
    "        5,\n",
    "        5,\n",
    "        0.005,\n",
    "        0.005,\n",
    "        0.1,\n",
    "        0.1,\n",
    "        0.1,\n",
    "    ]\n",
    ")"
   ]
  },
  {
   "cell_type": "markdown",
   "metadata": {},
   "source": [
    "### Select the simulations that were close"
   ]
  },
  {
   "cell_type": "code",
   "execution_count": 32,
   "metadata": {},
   "outputs": [
    {
     "name": "stdout",
     "output_type": "stream",
     "text": [
      "theta.to_numpy().shape (35939, 34)\n"
     ]
    }
   ],
   "source": [
    "path = \"../../../results/simulation_data_Tube_MLslurm_cluster\"\n",
    "theta_internal_yes_observation_no = pd.read_pickle(path + '/simulate_11deg_R3_predictives_at_11deg/data/all_circuit_parameters.pkl')\n",
    "all_x_internal_yes_observation_no = pd.read_pickle(path + '/simulate_11deg_R3_predictives_at_11deg/data/valid_simulation_outputs.pkl')\n",
    "x_internal_yes_observation_no = pd.read_pickle(path + '/close_to_xo_simulation_outputs.pkl')\n",
    "theta_np_internal_yes_observation_no = theta_internal_yes_observation_no.to_numpy()\n",
    "x_np_internal_yes_observation_no = x_internal_yes_observation_no.to_numpy()\n",
    "print(\"theta.to_numpy().shape\", x_np_internal_yes_observation_no.shape)"
   ]
  },
  {
   "cell_type": "code",
   "execution_count": 33,
   "metadata": {},
   "outputs": [
    {
     "name": "stdout",
     "output_type": "stream",
     "text": [
      "theta.to_numpy().shape (69210, 34)\n"
     ]
    }
   ],
   "source": [
    "path = \"../../../results/simulation_data_Tube_MLslurm_cluster_no_noise\"\n",
    "theta_internal_no_observation_yes = pd.read_pickle(path + '/simulate_11deg_R3_predictives_at_11deg_obsnoise/data/all_circuit_parameters.pkl')\n",
    "all_x_internal_no_observation_yes = pd.read_pickle(path + '/simulate_11deg_R3_predictives_at_11deg_obsnoise/data/valid_simulation_outputs.pkl')\n",
    "noise = torch.randn(all_x_internal_no_observation_yes.to_numpy()[:, :18].shape) * x_std\n",
    "all_x_internal_no_observation_yes = all_x_internal_no_observation_yes.iloc[:, :18].add(noise.numpy())\n",
    "\n",
    "x_internal_no_observation_yes = pd.read_pickle(path + '/close_to_xo_simulation_outputs_obsnoise.pkl')\n",
    "theta_np_internal_no_observation_yes = theta_internal_no_observation_yes.to_numpy()\n",
    "x_np_internal_no_observation_yes = x_internal_no_observation_yes.to_numpy()\n",
    "print(\"theta.to_numpy().shape\", x_np_internal_no_observation_yes.shape)"
   ]
  },
  {
   "cell_type": "code",
   "execution_count": 34,
   "metadata": {},
   "outputs": [
    {
     "data": {
      "text/html": [
       "<div>\n",
       "<style scoped>\n",
       "    .dataframe tbody tr th:only-of-type {\n",
       "        vertical-align: middle;\n",
       "    }\n",
       "\n",
       "    .dataframe tbody tr th {\n",
       "        vertical-align: top;\n",
       "    }\n",
       "\n",
       "    .dataframe thead tr th {\n",
       "        text-align: left;\n",
       "    }\n",
       "</style>\n",
       "<table border=\"1\" class=\"dataframe\">\n",
       "  <thead>\n",
       "    <tr>\n",
       "      <th></th>\n",
       "      <th colspan=\"8\" halign=\"left\">AB/PD</th>\n",
       "      <th colspan=\"8\" halign=\"left\">LP</th>\n",
       "      <th colspan=\"8\" halign=\"left\">PY</th>\n",
       "      <th colspan=\"7\" halign=\"left\">Synapses</th>\n",
       "    </tr>\n",
       "    <tr>\n",
       "      <th></th>\n",
       "      <th>Na</th>\n",
       "      <th>CaT</th>\n",
       "      <th>CaS</th>\n",
       "      <th>A</th>\n",
       "      <th>KCa</th>\n",
       "      <th>Kd</th>\n",
       "      <th>H</th>\n",
       "      <th>Leak</th>\n",
       "      <th>Na</th>\n",
       "      <th>CaT</th>\n",
       "      <th>CaS</th>\n",
       "      <th>A</th>\n",
       "      <th>KCa</th>\n",
       "      <th>Kd</th>\n",
       "      <th>H</th>\n",
       "      <th>Leak</th>\n",
       "      <th>Na</th>\n",
       "      <th>CaT</th>\n",
       "      <th>CaS</th>\n",
       "      <th>A</th>\n",
       "      <th>KCa</th>\n",
       "      <th>Kd</th>\n",
       "      <th>H</th>\n",
       "      <th>Leak</th>\n",
       "      <th>AB-LP</th>\n",
       "      <th>PD-LP</th>\n",
       "      <th>AB-PY</th>\n",
       "      <th>PD-PY</th>\n",
       "      <th>LP-PD</th>\n",
       "      <th>LP-PY</th>\n",
       "      <th>PY-LP</th>\n",
       "    </tr>\n",
       "  </thead>\n",
       "  <tbody>\n",
       "    <tr>\n",
       "      <th>0</th>\n",
       "      <td>335.142822</td>\n",
       "      <td>3.642817</td>\n",
       "      <td>5.656654</td>\n",
       "      <td>52.437004</td>\n",
       "      <td>12.283934</td>\n",
       "      <td>86.156860</td>\n",
       "      <td>0.009963</td>\n",
       "      <td>0.001948</td>\n",
       "      <td>166.358841</td>\n",
       "      <td>0.623696</td>\n",
       "      <td>7.492273</td>\n",
       "      <td>50.778019</td>\n",
       "      <td>5.582737</td>\n",
       "      <td>91.603127</td>\n",
       "      <td>0.046992</td>\n",
       "      <td>0.028519</td>\n",
       "      <td>413.623383</td>\n",
       "      <td>11.185506</td>\n",
       "      <td>3.808970</td>\n",
       "      <td>37.492226</td>\n",
       "      <td>1.663072</td>\n",
       "      <td>103.034569</td>\n",
       "      <td>0.039658</td>\n",
       "      <td>0.004646</td>\n",
       "      <td>-11.267961</td>\n",
       "      <td>-11.403337</td>\n",
       "      <td>-9.306324</td>\n",
       "      <td>-8.653463</td>\n",
       "      <td>-10.936566</td>\n",
       "      <td>-15.632698</td>\n",
       "      <td>-11.527353</td>\n",
       "    </tr>\n",
       "    <tr>\n",
       "      <th>1</th>\n",
       "      <td>404.451538</td>\n",
       "      <td>0.730120</td>\n",
       "      <td>2.389753</td>\n",
       "      <td>20.652334</td>\n",
       "      <td>2.207460</td>\n",
       "      <td>135.177536</td>\n",
       "      <td>0.019322</td>\n",
       "      <td>0.003448</td>\n",
       "      <td>64.931961</td>\n",
       "      <td>1.811883</td>\n",
       "      <td>6.377604</td>\n",
       "      <td>57.964878</td>\n",
       "      <td>6.515990</td>\n",
       "      <td>117.265068</td>\n",
       "      <td>0.018158</td>\n",
       "      <td>0.015482</td>\n",
       "      <td>401.735321</td>\n",
       "      <td>5.629870</td>\n",
       "      <td>3.399771</td>\n",
       "      <td>50.011951</td>\n",
       "      <td>2.260622</td>\n",
       "      <td>134.961380</td>\n",
       "      <td>0.021108</td>\n",
       "      <td>0.031057</td>\n",
       "      <td>-11.225235</td>\n",
       "      <td>-12.445988</td>\n",
       "      <td>-11.042120</td>\n",
       "      <td>-9.592044</td>\n",
       "      <td>-7.672864</td>\n",
       "      <td>-15.563944</td>\n",
       "      <td>-10.203691</td>\n",
       "    </tr>\n",
       "    <tr>\n",
       "      <th>2</th>\n",
       "      <td>268.517273</td>\n",
       "      <td>5.971848</td>\n",
       "      <td>3.628879</td>\n",
       "      <td>56.184101</td>\n",
       "      <td>6.079761</td>\n",
       "      <td>55.622158</td>\n",
       "      <td>0.010176</td>\n",
       "      <td>0.001251</td>\n",
       "      <td>91.985207</td>\n",
       "      <td>0.080190</td>\n",
       "      <td>5.885638</td>\n",
       "      <td>39.374813</td>\n",
       "      <td>1.718455</td>\n",
       "      <td>87.666817</td>\n",
       "      <td>0.011779</td>\n",
       "      <td>0.031467</td>\n",
       "      <td>302.195526</td>\n",
       "      <td>6.136609</td>\n",
       "      <td>2.789069</td>\n",
       "      <td>51.078526</td>\n",
       "      <td>1.274477</td>\n",
       "      <td>80.756111</td>\n",
       "      <td>0.036761</td>\n",
       "      <td>0.007124</td>\n",
       "      <td>-17.423601</td>\n",
       "      <td>-11.286250</td>\n",
       "      <td>-14.953726</td>\n",
       "      <td>-9.247796</td>\n",
       "      <td>-11.787680</td>\n",
       "      <td>-16.759523</td>\n",
       "      <td>-8.677181</td>\n",
       "    </tr>\n",
       "    <tr>\n",
       "      <th>3</th>\n",
       "      <td>221.978958</td>\n",
       "      <td>1.765614</td>\n",
       "      <td>3.796111</td>\n",
       "      <td>43.298199</td>\n",
       "      <td>8.913057</td>\n",
       "      <td>107.137741</td>\n",
       "      <td>0.012730</td>\n",
       "      <td>0.002214</td>\n",
       "      <td>63.442348</td>\n",
       "      <td>0.478663</td>\n",
       "      <td>5.494138</td>\n",
       "      <td>34.548805</td>\n",
       "      <td>8.295957</td>\n",
       "      <td>117.138435</td>\n",
       "      <td>0.052248</td>\n",
       "      <td>0.039127</td>\n",
       "      <td>589.242676</td>\n",
       "      <td>6.865509</td>\n",
       "      <td>2.017179</td>\n",
       "      <td>30.072115</td>\n",
       "      <td>0.725021</td>\n",
       "      <td>136.554352</td>\n",
       "      <td>0.032986</td>\n",
       "      <td>0.032368</td>\n",
       "      <td>-9.747215</td>\n",
       "      <td>-16.516621</td>\n",
       "      <td>-16.537434</td>\n",
       "      <td>-8.888759</td>\n",
       "      <td>-10.461069</td>\n",
       "      <td>-14.684890</td>\n",
       "      <td>-10.723748</td>\n",
       "    </tr>\n",
       "    <tr>\n",
       "      <th>4</th>\n",
       "      <td>306.609863</td>\n",
       "      <td>3.152080</td>\n",
       "      <td>5.590533</td>\n",
       "      <td>20.147081</td>\n",
       "      <td>10.056272</td>\n",
       "      <td>51.646561</td>\n",
       "      <td>0.001753</td>\n",
       "      <td>0.002591</td>\n",
       "      <td>173.545273</td>\n",
       "      <td>0.057237</td>\n",
       "      <td>8.355140</td>\n",
       "      <td>42.836842</td>\n",
       "      <td>7.401172</td>\n",
       "      <td>108.931053</td>\n",
       "      <td>0.045653</td>\n",
       "      <td>0.010372</td>\n",
       "      <td>500.586792</td>\n",
       "      <td>4.067754</td>\n",
       "      <td>3.634317</td>\n",
       "      <td>35.931561</td>\n",
       "      <td>1.993152</td>\n",
       "      <td>136.231064</td>\n",
       "      <td>0.008874</td>\n",
       "      <td>0.007793</td>\n",
       "      <td>-8.008126</td>\n",
       "      <td>-12.101233</td>\n",
       "      <td>-8.897873</td>\n",
       "      <td>-10.698553</td>\n",
       "      <td>-10.232709</td>\n",
       "      <td>-17.311161</td>\n",
       "      <td>-8.262414</td>\n",
       "    </tr>\n",
       "    <tr>\n",
       "      <th>...</th>\n",
       "      <td>...</td>\n",
       "      <td>...</td>\n",
       "      <td>...</td>\n",
       "      <td>...</td>\n",
       "      <td>...</td>\n",
       "      <td>...</td>\n",
       "      <td>...</td>\n",
       "      <td>...</td>\n",
       "      <td>...</td>\n",
       "      <td>...</td>\n",
       "      <td>...</td>\n",
       "      <td>...</td>\n",
       "      <td>...</td>\n",
       "      <td>...</td>\n",
       "      <td>...</td>\n",
       "      <td>...</td>\n",
       "      <td>...</td>\n",
       "      <td>...</td>\n",
       "      <td>...</td>\n",
       "      <td>...</td>\n",
       "      <td>...</td>\n",
       "      <td>...</td>\n",
       "      <td>...</td>\n",
       "      <td>...</td>\n",
       "      <td>...</td>\n",
       "      <td>...</td>\n",
       "      <td>...</td>\n",
       "      <td>...</td>\n",
       "      <td>...</td>\n",
       "      <td>...</td>\n",
       "      <td>...</td>\n",
       "    </tr>\n",
       "    <tr>\n",
       "      <th>999995</th>\n",
       "      <td>250.889862</td>\n",
       "      <td>4.090577</td>\n",
       "      <td>6.781713</td>\n",
       "      <td>37.671867</td>\n",
       "      <td>13.389294</td>\n",
       "      <td>115.749344</td>\n",
       "      <td>0.011923</td>\n",
       "      <td>0.008595</td>\n",
       "      <td>117.132713</td>\n",
       "      <td>2.005118</td>\n",
       "      <td>3.524361</td>\n",
       "      <td>34.405788</td>\n",
       "      <td>5.081974</td>\n",
       "      <td>104.726517</td>\n",
       "      <td>0.057372</td>\n",
       "      <td>0.026809</td>\n",
       "      <td>573.350891</td>\n",
       "      <td>7.251960</td>\n",
       "      <td>1.973784</td>\n",
       "      <td>56.324017</td>\n",
       "      <td>1.681375</td>\n",
       "      <td>115.531067</td>\n",
       "      <td>0.058690</td>\n",
       "      <td>0.037008</td>\n",
       "      <td>-10.975080</td>\n",
       "      <td>-16.524799</td>\n",
       "      <td>-17.391766</td>\n",
       "      <td>-9.197591</td>\n",
       "      <td>-8.714081</td>\n",
       "      <td>-16.940542</td>\n",
       "      <td>-12.522919</td>\n",
       "    </tr>\n",
       "    <tr>\n",
       "      <th>999996</th>\n",
       "      <td>146.205338</td>\n",
       "      <td>1.104031</td>\n",
       "      <td>4.095209</td>\n",
       "      <td>50.920265</td>\n",
       "      <td>5.619720</td>\n",
       "      <td>145.289093</td>\n",
       "      <td>0.019679</td>\n",
       "      <td>0.003888</td>\n",
       "      <td>71.092064</td>\n",
       "      <td>1.716244</td>\n",
       "      <td>6.707365</td>\n",
       "      <td>46.281044</td>\n",
       "      <td>7.032457</td>\n",
       "      <td>114.102783</td>\n",
       "      <td>0.048553</td>\n",
       "      <td>0.028767</td>\n",
       "      <td>281.211731</td>\n",
       "      <td>9.522369</td>\n",
       "      <td>3.151313</td>\n",
       "      <td>50.058983</td>\n",
       "      <td>2.588042</td>\n",
       "      <td>85.509819</td>\n",
       "      <td>0.057573</td>\n",
       "      <td>0.025928</td>\n",
       "      <td>-10.490995</td>\n",
       "      <td>-17.961962</td>\n",
       "      <td>-10.278673</td>\n",
       "      <td>-8.497827</td>\n",
       "      <td>-9.915503</td>\n",
       "      <td>-15.372184</td>\n",
       "      <td>-16.442343</td>\n",
       "    </tr>\n",
       "    <tr>\n",
       "      <th>999997</th>\n",
       "      <td>425.476746</td>\n",
       "      <td>6.295744</td>\n",
       "      <td>5.525082</td>\n",
       "      <td>35.023663</td>\n",
       "      <td>8.144011</td>\n",
       "      <td>48.897888</td>\n",
       "      <td>0.000343</td>\n",
       "      <td>0.001857</td>\n",
       "      <td>135.394577</td>\n",
       "      <td>0.253768</td>\n",
       "      <td>9.494118</td>\n",
       "      <td>56.105537</td>\n",
       "      <td>6.046223</td>\n",
       "      <td>113.660378</td>\n",
       "      <td>0.031347</td>\n",
       "      <td>0.038146</td>\n",
       "      <td>555.938782</td>\n",
       "      <td>11.436425</td>\n",
       "      <td>2.550045</td>\n",
       "      <td>48.026382</td>\n",
       "      <td>3.035025</td>\n",
       "      <td>123.695892</td>\n",
       "      <td>0.027639</td>\n",
       "      <td>0.022607</td>\n",
       "      <td>-14.750498</td>\n",
       "      <td>-11.411124</td>\n",
       "      <td>-17.906757</td>\n",
       "      <td>-8.922277</td>\n",
       "      <td>-13.744325</td>\n",
       "      <td>-15.293393</td>\n",
       "      <td>-12.403960</td>\n",
       "    </tr>\n",
       "    <tr>\n",
       "      <th>999998</th>\n",
       "      <td>317.351166</td>\n",
       "      <td>1.629837</td>\n",
       "      <td>5.113094</td>\n",
       "      <td>48.149223</td>\n",
       "      <td>11.404830</td>\n",
       "      <td>94.494820</td>\n",
       "      <td>0.007105</td>\n",
       "      <td>0.001597</td>\n",
       "      <td>189.452042</td>\n",
       "      <td>1.890340</td>\n",
       "      <td>4.464040</td>\n",
       "      <td>35.285332</td>\n",
       "      <td>8.103642</td>\n",
       "      <td>91.564835</td>\n",
       "      <td>0.026546</td>\n",
       "      <td>0.027713</td>\n",
       "      <td>90.531898</td>\n",
       "      <td>5.526473</td>\n",
       "      <td>1.835148</td>\n",
       "      <td>34.620880</td>\n",
       "      <td>0.496311</td>\n",
       "      <td>148.199875</td>\n",
       "      <td>0.038137</td>\n",
       "      <td>0.024112</td>\n",
       "      <td>-10.251329</td>\n",
       "      <td>-14.926495</td>\n",
       "      <td>-9.108311</td>\n",
       "      <td>-11.152184</td>\n",
       "      <td>-12.142953</td>\n",
       "      <td>-15.303204</td>\n",
       "      <td>-15.319910</td>\n",
       "    </tr>\n",
       "    <tr>\n",
       "      <th>999999</th>\n",
       "      <td>365.962891</td>\n",
       "      <td>2.976633</td>\n",
       "      <td>3.530033</td>\n",
       "      <td>26.581545</td>\n",
       "      <td>7.830242</td>\n",
       "      <td>56.548164</td>\n",
       "      <td>0.004595</td>\n",
       "      <td>0.008277</td>\n",
       "      <td>119.943466</td>\n",
       "      <td>1.647137</td>\n",
       "      <td>5.025185</td>\n",
       "      <td>53.272217</td>\n",
       "      <td>6.914482</td>\n",
       "      <td>53.835407</td>\n",
       "      <td>0.057278</td>\n",
       "      <td>0.015488</td>\n",
       "      <td>318.869873</td>\n",
       "      <td>7.105578</td>\n",
       "      <td>2.651657</td>\n",
       "      <td>46.413567</td>\n",
       "      <td>1.542419</td>\n",
       "      <td>76.774902</td>\n",
       "      <td>0.010028</td>\n",
       "      <td>0.005664</td>\n",
       "      <td>-10.735669</td>\n",
       "      <td>-14.815648</td>\n",
       "      <td>-10.939728</td>\n",
       "      <td>-15.448311</td>\n",
       "      <td>-9.325465</td>\n",
       "      <td>-16.931311</td>\n",
       "      <td>-17.909582</td>\n",
       "    </tr>\n",
       "  </tbody>\n",
       "</table>\n",
       "<p>1000000 rows × 31 columns</p>\n",
       "</div>"
      ],
      "text/plain": [
       "             AB/PD                                                        \\\n",
       "                Na       CaT       CaS          A        KCa          Kd   \n",
       "0       335.142822  3.642817  5.656654  52.437004  12.283934   86.156860   \n",
       "1       404.451538  0.730120  2.389753  20.652334   2.207460  135.177536   \n",
       "2       268.517273  5.971848  3.628879  56.184101   6.079761   55.622158   \n",
       "3       221.978958  1.765614  3.796111  43.298199   8.913057  107.137741   \n",
       "4       306.609863  3.152080  5.590533  20.147081  10.056272   51.646561   \n",
       "...            ...       ...       ...        ...        ...         ...   \n",
       "999995  250.889862  4.090577  6.781713  37.671867  13.389294  115.749344   \n",
       "999996  146.205338  1.104031  4.095209  50.920265   5.619720  145.289093   \n",
       "999997  425.476746  6.295744  5.525082  35.023663   8.144011   48.897888   \n",
       "999998  317.351166  1.629837  5.113094  48.149223  11.404830   94.494820   \n",
       "999999  365.962891  2.976633  3.530033  26.581545   7.830242   56.548164   \n",
       "\n",
       "                                    LP                                 \\\n",
       "               H      Leak          Na       CaT       CaS          A   \n",
       "0       0.009963  0.001948  166.358841  0.623696  7.492273  50.778019   \n",
       "1       0.019322  0.003448   64.931961  1.811883  6.377604  57.964878   \n",
       "2       0.010176  0.001251   91.985207  0.080190  5.885638  39.374813   \n",
       "3       0.012730  0.002214   63.442348  0.478663  5.494138  34.548805   \n",
       "4       0.001753  0.002591  173.545273  0.057237  8.355140  42.836842   \n",
       "...          ...       ...         ...       ...       ...        ...   \n",
       "999995  0.011923  0.008595  117.132713  2.005118  3.524361  34.405788   \n",
       "999996  0.019679  0.003888   71.092064  1.716244  6.707365  46.281044   \n",
       "999997  0.000343  0.001857  135.394577  0.253768  9.494118  56.105537   \n",
       "999998  0.007105  0.001597  189.452042  1.890340  4.464040  35.285332   \n",
       "999999  0.004595  0.008277  119.943466  1.647137  5.025185  53.272217   \n",
       "\n",
       "                                                          PY             \\\n",
       "             KCa          Kd         H      Leak          Na        CaT   \n",
       "0       5.582737   91.603127  0.046992  0.028519  413.623383  11.185506   \n",
       "1       6.515990  117.265068  0.018158  0.015482  401.735321   5.629870   \n",
       "2       1.718455   87.666817  0.011779  0.031467  302.195526   6.136609   \n",
       "3       8.295957  117.138435  0.052248  0.039127  589.242676   6.865509   \n",
       "4       7.401172  108.931053  0.045653  0.010372  500.586792   4.067754   \n",
       "...          ...         ...       ...       ...         ...        ...   \n",
       "999995  5.081974  104.726517  0.057372  0.026809  573.350891   7.251960   \n",
       "999996  7.032457  114.102783  0.048553  0.028767  281.211731   9.522369   \n",
       "999997  6.046223  113.660378  0.031347  0.038146  555.938782  11.436425   \n",
       "999998  8.103642   91.564835  0.026546  0.027713   90.531898   5.526473   \n",
       "999999  6.914482   53.835407  0.057278  0.015488  318.869873   7.105578   \n",
       "\n",
       "                                                                       \\\n",
       "             CaS          A       KCa          Kd         H      Leak   \n",
       "0       3.808970  37.492226  1.663072  103.034569  0.039658  0.004646   \n",
       "1       3.399771  50.011951  2.260622  134.961380  0.021108  0.031057   \n",
       "2       2.789069  51.078526  1.274477   80.756111  0.036761  0.007124   \n",
       "3       2.017179  30.072115  0.725021  136.554352  0.032986  0.032368   \n",
       "4       3.634317  35.931561  1.993152  136.231064  0.008874  0.007793   \n",
       "...          ...        ...       ...         ...       ...       ...   \n",
       "999995  1.973784  56.324017  1.681375  115.531067  0.058690  0.037008   \n",
       "999996  3.151313  50.058983  2.588042   85.509819  0.057573  0.025928   \n",
       "999997  2.550045  48.026382  3.035025  123.695892  0.027639  0.022607   \n",
       "999998  1.835148  34.620880  0.496311  148.199875  0.038137  0.024112   \n",
       "999999  2.651657  46.413567  1.542419   76.774902  0.010028  0.005664   \n",
       "\n",
       "         Synapses                                                         \\\n",
       "            AB-LP      PD-LP      AB-PY      PD-PY      LP-PD      LP-PY   \n",
       "0      -11.267961 -11.403337  -9.306324  -8.653463 -10.936566 -15.632698   \n",
       "1      -11.225235 -12.445988 -11.042120  -9.592044  -7.672864 -15.563944   \n",
       "2      -17.423601 -11.286250 -14.953726  -9.247796 -11.787680 -16.759523   \n",
       "3       -9.747215 -16.516621 -16.537434  -8.888759 -10.461069 -14.684890   \n",
       "4       -8.008126 -12.101233  -8.897873 -10.698553 -10.232709 -17.311161   \n",
       "...           ...        ...        ...        ...        ...        ...   \n",
       "999995 -10.975080 -16.524799 -17.391766  -9.197591  -8.714081 -16.940542   \n",
       "999996 -10.490995 -17.961962 -10.278673  -8.497827  -9.915503 -15.372184   \n",
       "999997 -14.750498 -11.411124 -17.906757  -8.922277 -13.744325 -15.293393   \n",
       "999998 -10.251329 -14.926495  -9.108311 -11.152184 -12.142953 -15.303204   \n",
       "999999 -10.735669 -14.815648 -10.939728 -15.448311  -9.325465 -16.931311   \n",
       "\n",
       "                   \n",
       "            PY-LP  \n",
       "0      -11.527353  \n",
       "1      -10.203691  \n",
       "2       -8.677181  \n",
       "3      -10.723748  \n",
       "4       -8.262414  \n",
       "...           ...  \n",
       "999995 -12.522919  \n",
       "999996 -16.442343  \n",
       "999997 -12.403960  \n",
       "999998 -15.319910  \n",
       "999999 -17.909582  \n",
       "\n",
       "[1000000 rows x 31 columns]"
      ]
     },
     "execution_count": 34,
     "metadata": {},
     "output_type": "execute_result"
    }
   ],
   "source": [
    "theta_internal_no_observation_yes"
   ]
  },
  {
   "cell_type": "code",
   "execution_count": 35,
   "metadata": {},
   "outputs": [],
   "source": [
    "vals1 = np.std(theta_internal_no_observation_yes.to_numpy(), axis=0)"
   ]
  },
  {
   "cell_type": "code",
   "execution_count": 36,
   "metadata": {},
   "outputs": [
    {
     "name": "stdout",
     "output_type": "stream",
     "text": [
      "theta.to_numpy().shape (40236, 34)\n"
     ]
    }
   ],
   "source": [
    "path = \"../../../results/simulation_data_Tube_MLslurm_cluster_no_noise\"\n",
    "theta_internal_yes_observation_yes = pd.read_pickle(path + '/simulate_11deg_R3_predictives_at_11deg_bothnoise/data/all_circuit_parameters.pkl')\n",
    "all_x_internal_yes_observation_yes = pd.read_pickle(path + '/simulate_11deg_R3_predictives_at_11deg_bothnoise/data/valid_simulation_outputs.pkl')\n",
    "noise = torch.randn(all_x_internal_yes_observation_yes.to_numpy()[:, :18].shape) * x_std\n",
    "all_x_internal_yes_observation_yes = all_x_internal_yes_observation_yes.iloc[:, :18].add(noise.numpy())\n",
    "\n",
    "x_internal_yes_observation_yes = pd.read_pickle(path + '/close_to_xo_simulation_outputs_bothnoise.pkl')\n",
    "theta_np_internal_yes_observation_yes = theta_internal_yes_observation_yes.to_numpy()\n",
    "x_np_internal_yes_observation_yes = x_internal_yes_observation_yes.to_numpy()\n",
    "print(\"theta.to_numpy().shape\", x_np_internal_yes_observation_yes.shape)"
   ]
  },
  {
   "cell_type": "code",
   "execution_count": 37,
   "metadata": {},
   "outputs": [],
   "source": [
    "vals2 = np.std(theta_internal_yes_observation_yes.to_numpy(), axis=0)"
   ]
  },
  {
   "cell_type": "code",
   "execution_count": 38,
   "metadata": {},
   "outputs": [
    {
     "name": "stdout",
     "output_type": "stream",
     "text": [
      "theta.to_numpy().shape (87937, 34)\n"
     ]
    }
   ],
   "source": [
    "path = \"../../../results/simulation_data_Tube_MLslurm_cluster_no_noise\"\n",
    "theta_internal_no_observation_no = pd.read_pickle(path + '/simulate_11deg_R3_predictives_at_11deg/data/all_circuit_parameters.pkl')\n",
    "all_x_internal_no_observation_no = pd.read_pickle(path + '/simulate_11deg_R3_predictives_at_11deg/data/valid_simulation_outputs.pkl')\n",
    "x_internal_no_observation_no = pd.read_pickle(path + '/close_to_xo_simulation_outputs.pkl')\n",
    "theta_np_internal_no_observation_no = theta_internal_no_observation_no.to_numpy()\n",
    "x_np_internal_no_observation_no = x_internal_no_observation_no.to_numpy()\n",
    "print(\"theta.to_numpy().shape\", x_np_internal_no_observation_no.shape)"
   ]
  },
  {
   "cell_type": "code",
   "execution_count": 39,
   "metadata": {},
   "outputs": [],
   "source": [
    "x_o = np.load(\"../../../results/experimental_data/xo_11deg.npy\", allow_pickle=True)"
   ]
  },
  {
   "cell_type": "markdown",
   "metadata": {},
   "source": [
    "# Compute distances"
   ]
  },
  {
   "cell_type": "code",
   "execution_count": 40,
   "metadata": {},
   "outputs": [],
   "source": [
    "path = \"../../../results/simulation_data_Tube_MLslurm_cluster/01_simulate_11deg\"\n",
    "x_prior = pd.read_pickle(path + \"/data/valid_simulation_outputs.pkl\")\n",
    "x_prior_np = x_prior.to_numpy()\n",
    "\n",
    "stats_std = np.std(x_prior_np, axis=0)[:18]"
   ]
  },
  {
   "cell_type": "code",
   "execution_count": 41,
   "metadata": {},
   "outputs": [],
   "source": [
    "distance_yes_no = np.mean(np.sqrt(np.sum((all_x_internal_yes_observation_no.to_numpy()[:,:18] - x_o)**2 / stats_std, axis=1)))\n",
    "distance_no_yes = np.mean(np.sqrt(np.sum((all_x_internal_no_observation_yes.to_numpy()[:,:18]  - x_o)**2 / stats_std, axis=1)))\n",
    "distance_yes_yes = np.mean(np.sqrt(np.sum((all_x_internal_yes_observation_yes.to_numpy()[:,:18]  - x_o)**2 / stats_std, axis=1)))\n",
    "distance_no_no = np.mean(np.sqrt(np.sum((all_x_internal_no_observation_no.to_numpy()[:,:18]  - x_o)**2 / stats_std, axis=1)))"
   ]
  },
  {
   "cell_type": "code",
   "execution_count": 42,
   "metadata": {},
   "outputs": [
    {
     "name": "stdout",
     "output_type": "stream",
     "text": [
      "3.3489329433002957\n"
     ]
    }
   ],
   "source": [
    "print(distance_yes_no)"
   ]
  },
  {
   "cell_type": "code",
   "execution_count": 43,
   "metadata": {},
   "outputs": [
    {
     "name": "stdout",
     "output_type": "stream",
     "text": [
      "3.0127602532438575\n"
     ]
    }
   ],
   "source": [
    "print(distance_no_yes)"
   ]
  },
  {
   "cell_type": "code",
   "execution_count": 44,
   "metadata": {},
   "outputs": [
    {
     "name": "stdout",
     "output_type": "stream",
     "text": [
      "3.2691700309859826\n"
     ]
    }
   ],
   "source": [
    "print(distance_yes_yes)"
   ]
  },
  {
   "cell_type": "code",
   "execution_count": 45,
   "metadata": {},
   "outputs": [
    {
     "name": "stdout",
     "output_type": "stream",
     "text": [
      "2.5996921844247423\n"
     ]
    }
   ],
   "source": [
    "print(distance_no_no)"
   ]
  },
  {
   "cell_type": "code",
   "execution_count": 46,
   "metadata": {},
   "outputs": [],
   "source": [
    "prior = create_prior(as_torch_dist=True)\n",
    "lower_bound = prior.support.base_constraint.lower_bound\n",
    "upper_bound = prior.support.base_constraint.upper_bound\n",
    "prior_pd = create_prior()\n",
    "lims = np.asarray([lower_bound.numpy(), upper_bound.numpy()]).T"
   ]
  },
  {
   "cell_type": "markdown",
   "metadata": {},
   "source": [
    "### Load posteriors to compute DKL"
   ]
  },
  {
   "cell_type": "code",
   "execution_count": 55,
   "metadata": {},
   "outputs": [],
   "source": [
    "import pickle"
   ]
  },
  {
   "cell_type": "code",
   "execution_count": 56,
   "metadata": {},
   "outputs": [],
   "source": [
    "with open(\"../../../results/trained_neural_nets/inference/posterior_11deg_no_noise_bothnoise.pickle\", \"rb\") as handle:\n",
    "    posterior_broad = pickle.load(handle)"
   ]
  },
  {
   "cell_type": "code",
   "execution_count": 57,
   "metadata": {},
   "outputs": [],
   "source": [
    "with open(\"../../../results/trained_neural_nets/inference/posterior_11deg_no_noise_obsnoise.pickle\", \"rb\") as handle:\n",
    "    posterior_obs = pickle.load(handle)"
   ]
  },
  {
   "cell_type": "code",
   "execution_count": 95,
   "metadata": {},
   "outputs": [],
   "source": [
    "_ = torch.manual_seed(0)\n",
    "num_samples = 100_000"
   ]
  },
  {
   "cell_type": "code",
   "execution_count": 96,
   "metadata": {},
   "outputs": [],
   "source": [
    "broad_dist = posterior_broad.set_default_x(x_o)\n",
    "narrow_dist = posterior_obs.set_default_x(x_o)"
   ]
  },
  {
   "cell_type": "code",
   "execution_count": 97,
   "metadata": {},
   "outputs": [],
   "source": [
    "# broad_dist = torch.distributions.MultivariateNormal(torch.zeros(31), torch.eye(31))\n",
    "# narrow_dist = torch.distributions.MultivariateNormal(torch.zeros(31), 0.8*torch.eye(31))"
   ]
  },
  {
   "cell_type": "code",
   "execution_count": 98,
   "metadata": {},
   "outputs": [
    {
     "data": {
      "application/vnd.jupyter.widget-view+json": {
       "model_id": "664da8c59d3b41ada2aebb3bc8ba2b49",
       "version_major": 2,
       "version_minor": 0
      },
      "text/plain": [
       "Drawing 100000 posterior samples:   0%|          | 0/100000 [00:00<?, ?it/s]"
      ]
     },
     "metadata": {},
     "output_type": "display_data"
    },
    {
     "name": "stdout",
     "output_type": "stream",
     "text": [
      "dkl1 tensor(6.4218)\n"
     ]
    }
   ],
   "source": [
    "samples_both = broad_dist.sample((num_samples,))\n",
    "log_probs_both = broad_dist.log_prob(samples_both)\n",
    "log_probs_obs = narrow_dist.log_prob(samples_both)\n",
    "dkl1 = torch.mean(log_probs_both - log_probs_obs)\n",
    "print(\"dkl1\", dkl1)"
   ]
  },
  {
   "cell_type": "code",
   "execution_count": 99,
   "metadata": {},
   "outputs": [
    {
     "data": {
      "application/vnd.jupyter.widget-view+json": {
       "model_id": "3bcd8248a76441f4a2a831eb1fa76522",
       "version_major": 2,
       "version_minor": 0
      },
      "text/plain": [
       "Drawing 100000 posterior samples:   0%|          | 0/100000 [00:00<?, ?it/s]"
      ]
     },
     "metadata": {},
     "output_type": "display_data"
    },
    {
     "name": "stdout",
     "output_type": "stream",
     "text": [
      "dkl2 tensor(5.2204)\n"
     ]
    }
   ],
   "source": [
    "samples_obs = narrow_dist.sample((num_samples,))\n",
    "log_probs_both = broad_dist.log_prob(samples_obs)\n",
    "log_probs_obs = narrow_dist.log_prob(samples_obs)\n",
    "dkl2 = torch.mean(log_probs_obs - log_probs_both)\n",
    "print(\"dkl2\", dkl2)"
   ]
  },
  {
   "cell_type": "markdown",
   "metadata": {},
   "source": [
    "# Panel A: posteriors"
   ]
  },
  {
   "cell_type": "code",
   "execution_count": 18,
   "metadata": {},
   "outputs": [],
   "source": [
    "labels_ = get_labels_8pt()\n",
    "labels_[9] += ''"
   ]
  },
  {
   "cell_type": "code",
   "execution_count": 19,
   "metadata": {},
   "outputs": [
    {
     "name": "stderr",
     "output_type": "stream",
     "text": [
      "/home/michael/Documents/STG_energy_sbi/sbi/utils/plot.py:563: FutureWarning: elementwise comparison failed; returning scalar instead, but in the future will perform elementwise comparison\n",
      "  if opts[\"labels\"] == [] or opts[\"labels\"] is None:\n"
     ]
    },
    {
     "data": {
      "image/png": "[encoded data removed]",
      "text/plain": [
       "<Figure size 204x204 with 16 Axes>"
      ]
     },
     "metadata": {},
     "output_type": "display_data"
    }
   ],
   "source": [
    "with mpl.rc_context(fname='../../../.matplotlibrc'):\n",
    "    fig, axes = pairplot(samples=[theta_np_internal_yes_observation_no[:10000]],\n",
    "                           subset=[2,4,10, 16],\n",
    "                           limits=lims,\n",
    "                           ticks=lims,\n",
    "                           figsize=(17.0*0.12, 17.0*0.12),\n",
    "                           labels=labels_,\n",
    "                           scatter_offdiag={'rasterized':True, 'alpha':1.0},\n",
    "                           samples_colors=[col['SNPE']],\n",
    "                           diag=['kde'],\n",
    "                           upper=['kde'],\n",
    "                           hist_offdiag={'bins':50},\n",
    "                           plot_offdiag={'linewidth': 1.6, 'path_effects':[pe.Stroke(linewidth=2.4, foreground='k'), pe.Normal()]})\n",
    "\n",
    "    plt.savefig(PANEL_A1, facecolor='None', transparent=True)\n",
    "    plt.show()"
   ]
  },
  {
   "cell_type": "code",
   "execution_count": 20,
   "metadata": {},
   "outputs": [
    {
     "name": "stderr",
     "output_type": "stream",
     "text": [
      "/home/michael/Documents/STG_energy_sbi/sbi/utils/plot.py:563: FutureWarning: elementwise comparison failed; returning scalar instead, but in the future will perform elementwise comparison\n",
      "  if opts[\"labels\"] == [] or opts[\"labels\"] is None:\n"
     ]
    },
    {
     "data": {
      "image/png": "[encoded data removed]",
      "text/plain": [
       "<Figure size 204x204 with 16 Axes>"
      ]
     },
     "metadata": {},
     "output_type": "display_data"
    }
   ],
   "source": [
    "with mpl.rc_context(fname='../../../.matplotlibrc'):\n",
    "    fig, axes = pairplot(samples=[theta_np_internal_no_observation_yes[:10000]],\n",
    "                           subset=[2,4,10, 16],\n",
    "                           limits=lims,\n",
    "                           ticks=lims,\n",
    "                           figsize=(17.0*0.12, 17.0*0.12),\n",
    "                           labels=labels_,\n",
    "                           scatter_offdiag={'rasterized':True, 'alpha':1.0},\n",
    "                           samples_colors=[col['SNPE']],\n",
    "                           diag=['kde'],\n",
    "                           upper=['kde'],\n",
    "                           hist_offdiag={'bins':50},\n",
    "                           plot_offdiag={'linewidth': 1.6, 'path_effects':[pe.Stroke(linewidth=2.4, foreground='k'), pe.Normal()]})\n",
    "\n",
    "    plt.savefig(PANEL_A2, facecolor='None', transparent=True)\n",
    "    plt.show()"
   ]
  },
  {
   "cell_type": "code",
   "execution_count": 21,
   "metadata": {},
   "outputs": [
    {
     "name": "stderr",
     "output_type": "stream",
     "text": [
      "/home/michael/Documents/STG_energy_sbi/sbi/utils/plot.py:563: FutureWarning: elementwise comparison failed; returning scalar instead, but in the future will perform elementwise comparison\n",
      "  if opts[\"labels\"] == [] or opts[\"labels\"] is None:\n"
     ]
    },
    {
     "data": {
      "image/png": "[encoded data removed]",
      "text/plain": [
       "<Figure size 204x204 with 16 Axes>"
      ]
     },
     "metadata": {},
     "output_type": "display_data"
    }
   ],
   "source": [
    "with mpl.rc_context(fname='../../../.matplotlibrc'):\n",
    "    fig, axes = pairplot(samples=[theta_np_internal_no_observation_no[:10000]],\n",
    "                           subset=[2,4,10, 16],\n",
    "                           limits=lims,\n",
    "                           ticks=lims,\n",
    "                           figsize=(17.0*0.12, 17.0*0.12),\n",
    "                           labels=labels_,\n",
    "                           scatter_offdiag={'rasterized':True, 'alpha':1.0},\n",
    "                           samples_colors=[col['SNPE']],\n",
    "                           diag=['kde'],\n",
    "                           upper=['kde'],\n",
    "                           hist_offdiag={'bins':50},\n",
    "                           plot_offdiag={'linewidth': 1.6, 'path_effects':[pe.Stroke(linewidth=2.4, foreground='k'), pe.Normal()]})\n",
    "\n",
    "    plt.savefig(PANEL_A3, facecolor='None', transparent=True)\n",
    "    plt.show()"
   ]
  },
  {
   "cell_type": "code",
   "execution_count": 22,
   "metadata": {},
   "outputs": [
    {
     "name": "stderr",
     "output_type": "stream",
     "text": [
      "/home/michael/Documents/STG_energy_sbi/sbi/utils/plot.py:563: FutureWarning: elementwise comparison failed; returning scalar instead, but in the future will perform elementwise comparison\n",
      "  if opts[\"labels\"] == [] or opts[\"labels\"] is None:\n"
     ]
    },
    {
     "data": {
      "image/png": "[encoded data removed]",
      "text/plain": [
       "<Figure size 204x204 with 16 Axes>"
      ]
     },
     "metadata": {},
     "output_type": "display_data"
    }
   ],
   "source": [
    "with mpl.rc_context(fname='../../../.matplotlibrc'):\n",
    "    fig, axes = pairplot(samples=[theta_np_internal_yes_observation_yes[:10000]],\n",
    "                           subset=[2,4,10, 16],\n",
    "                           limits=lims,\n",
    "                           ticks=lims,\n",
    "                           figsize=(17.0*0.12, 17.0*0.12),\n",
    "                           labels=labels_,\n",
    "                           scatter_offdiag={'rasterized':True, 'alpha':1.0},\n",
    "                           samples_colors=[col['SNPE']],\n",
    "                           diag=['kde'],\n",
    "                           upper=['kde'],\n",
    "                           hist_offdiag={'bins':50},\n",
    "                           plot_offdiag={'linewidth': 1.6, 'path_effects':[pe.Stroke(linewidth=2.4, foreground='k'), pe.Normal()]})\n",
    "\n",
    "    plt.savefig(PANEL_A4, facecolor='None', transparent=True)\n",
    "    plt.show()"
   ]
  },
  {
   "cell_type": "markdown",
   "metadata": {},
   "source": [
    "# Histograms"
   ]
  },
  {
   "cell_type": "code",
   "execution_count": 23,
   "metadata": {},
   "outputs": [
    {
     "data": {
      "image/png": "[encoded data removed]",
      "text/plain": [
       "<Figure size 120x100 with 1 Axes>"
      ]
     },
     "metadata": {},
     "output_type": "display_data"
    }
   ],
   "source": [
    "all_energies_per_spike = x_internal_yes_observation_no[\"energies_per_spike\"].to_numpy()\n",
    "all_total_energies = x_internal_yes_observation_no[\"energies\"].to_numpy()\n",
    "\n",
    "summed_energies_per_spike = np.sum(np.asarray(all_energies_per_spike), axis=1)\n",
    "summed_energies_total = np.sum(np.asarray(all_total_energies), axis=1)\n",
    "\n",
    "with mpl.rc_context(fname=\"../../../.matplotlibrc\"):\n",
    "    fig, ax = plt.subplots(1, 1, figsize=(1.2, 1))\n",
    "\n",
    "    _ = ax.hist(summed_energies_total/10/1000, range=[0, 30], bins=100, color=\"k\")\n",
    "    # ax[3].set_ylabel('Count')\n",
    "    ax.tick_params(axis=\"both\", which=\"major\")\n",
    "    ax.spines[\"top\"].set_visible(False)\n",
    "    ax.spines[\"right\"].set_visible(False)\n",
    "    ax.spines[\"left\"].set_visible(False)\n",
    "    ax.axes.get_yaxis().set_ticks([])\n",
    "\n",
    "    plt.subplots_adjust(wspace=0.3)\n",
    "\n",
    "    ax.set_xlim([0, 30])\n",
    "    ax.spines[\"top\"].set_visible(False)\n",
    "    ax.spines[\"right\"].set_visible(False)\n",
    "    ax.spines[\"left\"].set_visible(False)\n",
    "    ax.set_xlabel(\"Energy ($\\mu$J/s)\")\n",
    "    ax.set_xticks([0, 30])\n",
    "    ax.set_ylabel(\"Count\")\n",
    "\n",
    "    plt.savefig(PANEL_B1, facecolor=\"None\", transparent=True)\n",
    "    plt.show()"
   ]
  },
  {
   "cell_type": "code",
   "execution_count": 24,
   "metadata": {},
   "outputs": [
    {
     "data": {
      "image/png": "[encoded data removed]",
      "text/plain": [
       "<Figure size 120x100 with 1 Axes>"
      ]
     },
     "metadata": {},
     "output_type": "display_data"
    }
   ],
   "source": [
    "all_energies_per_spike = x_internal_no_observation_yes[\"energies_per_spike\"].to_numpy()\n",
    "all_total_energies = x_internal_no_observation_yes[\"energies\"].to_numpy()\n",
    "\n",
    "summed_energies_per_spike = np.sum(np.asarray(all_energies_per_spike), axis=1)\n",
    "summed_energies_total = np.sum(np.asarray(all_total_energies), axis=1)\n",
    "\n",
    "with mpl.rc_context(fname=\"../../../.matplotlibrc\"):\n",
    "    fig, ax = plt.subplots(1, 1, figsize=(1.2, 1))\n",
    "\n",
    "    _ = ax.hist(summed_energies_total/10/1000, range=[0, 30], bins=100, color=\"k\")\n",
    "    # ax[3].set_ylabel('Count')\n",
    "    ax.tick_params(axis=\"both\", which=\"major\")\n",
    "    ax.spines[\"top\"].set_visible(False)\n",
    "    ax.spines[\"right\"].set_visible(False)\n",
    "    ax.spines[\"left\"].set_visible(False)\n",
    "    ax.axes.get_yaxis().set_ticks([])\n",
    "\n",
    "    plt.subplots_adjust(wspace=0.3)\n",
    "\n",
    "    ax.set_xlim([0, 30])\n",
    "    ax.spines[\"top\"].set_visible(False)\n",
    "    ax.spines[\"right\"].set_visible(False)\n",
    "    ax.spines[\"left\"].set_visible(False)\n",
    "    ax.set_xlabel(\"Energy ($\\mu$J/s)\")\n",
    "    ax.set_xticks([0, 30])\n",
    "    ax.set_ylabel(\"Count\")\n",
    "\n",
    "    plt.savefig(PANEL_B2, facecolor=\"None\", transparent=True)\n",
    "    plt.show()"
   ]
  },
  {
   "cell_type": "code",
   "execution_count": 25,
   "metadata": {},
   "outputs": [
    {
     "data": {
      "image/png": "[encoded data removed]",
      "text/plain": [
       "<Figure size 120x100 with 1 Axes>"
      ]
     },
     "metadata": {},
     "output_type": "display_data"
    }
   ],
   "source": [
    "all_energies_per_spike = x_internal_no_observation_no[\"energies_per_spike\"].to_numpy()\n",
    "all_total_energies = x_internal_no_observation_no[\"energies\"].to_numpy()\n",
    "\n",
    "summed_energies_per_spike = np.sum(np.asarray(all_energies_per_spike), axis=1)\n",
    "summed_energies_total = np.sum(np.asarray(all_total_energies), axis=1)\n",
    "\n",
    "with mpl.rc_context(fname=\"../../../.matplotlibrc\"):\n",
    "    fig, ax = plt.subplots(1, 1, figsize=(1.2, 1))\n",
    "\n",
    "    _ = ax.hist(summed_energies_total/10/1000, range=[0, 30], bins=100, color=\"k\")\n",
    "    ax.tick_params(axis=\"both\", which=\"major\")\n",
    "    ax.spines[\"top\"].set_visible(False)\n",
    "    ax.spines[\"right\"].set_visible(False)\n",
    "    ax.spines[\"left\"].set_visible(False)\n",
    "    ax.axes.get_yaxis().set_ticks([])\n",
    "\n",
    "    plt.subplots_adjust(wspace=0.3)\n",
    "\n",
    "    ax.set_xlim([0, 30])\n",
    "    ax.spines[\"top\"].set_visible(False)\n",
    "    ax.spines[\"right\"].set_visible(False)\n",
    "    ax.spines[\"left\"].set_visible(False)\n",
    "    ax.set_xlabel(\"Energy ($\\mu$J/s)\")\n",
    "    ax.set_xticks([0, 30])\n",
    "    ax.set_ylabel(\"Count\")\n",
    "\n",
    "    plt.savefig(PANEL_B3, facecolor=\"None\", transparent=True)\n",
    "    plt.show()"
   ]
  },
  {
   "cell_type": "code",
   "execution_count": 26,
   "metadata": {},
   "outputs": [
    {
     "data": {
      "image/png": "[encoded data removed]",
      "text/plain": [
       "<Figure size 120x100 with 1 Axes>"
      ]
     },
     "metadata": {},
     "output_type": "display_data"
    }
   ],
   "source": [
    "all_energies_per_spike = x_internal_yes_observation_yes[\"energies_per_spike\"].to_numpy()\n",
    "all_total_energies = x_internal_yes_observation_yes[\"energies\"].to_numpy()\n",
    "\n",
    "summed_energies_per_spike = np.sum(np.asarray(all_energies_per_spike), axis=1)\n",
    "summed_energies_total = np.sum(np.asarray(all_total_energies), axis=1)\n",
    "\n",
    "with mpl.rc_context(fname=\"../../../.matplotlibrc\"):\n",
    "    fig, ax = plt.subplots(1, 1, figsize=(1.2, 1))\n",
    "\n",
    "    _ = ax.hist(summed_energies_total/10/1000, range=[0, 30], bins=100, color=\"k\")\n",
    "    # ax[3].set_ylabel('Count')\n",
    "    ax.tick_params(axis=\"both\", which=\"major\")\n",
    "    ax.spines[\"top\"].set_visible(False)\n",
    "    ax.spines[\"right\"].set_visible(False)\n",
    "    ax.spines[\"left\"].set_visible(False)\n",
    "    ax.axes.get_yaxis().set_ticks([])\n",
    "\n",
    "    plt.subplots_adjust(wspace=0.3)\n",
    "\n",
    "    ax.set_xlim([0, 30])\n",
    "    ax.spines[\"top\"].set_visible(False)\n",
    "    ax.spines[\"right\"].set_visible(False)\n",
    "    ax.spines[\"left\"].set_visible(False)\n",
    "    ax.set_xlabel(\"Energy ($\\mu$J/s)\")\n",
    "    ax.set_xticks([0, 30])\n",
    "    ax.set_ylabel(\"Count\")\n",
    "\n",
    "    plt.savefig(PANEL_B4, facecolor=\"None\", transparent=True)\n",
    "    plt.show()"
   ]
  },
  {
   "cell_type": "markdown",
   "metadata": {},
   "source": [
    "# Assemble figure"
   ]
  },
  {
   "cell_type": "code",
   "execution_count": 27,
   "metadata": {},
   "outputs": [],
   "source": [
    "import time\n",
    "import IPython.display as IPd\n",
    "\n",
    "def svg(img):\n",
    "    IPd.display(IPd.HTML('<img src=\"{}\" / >'.format(img, time.time())))"
   ]
  },
  {
   "cell_type": "code",
   "execution_count": 31,
   "metadata": {
    "tags": []
   },
   "outputs": [
    {
     "data": {
      "text/html": [
       "<img src=\"../fig/fig2_no_noise.svg\" / >"
      ],
      "text/plain": [
       "<IPython.core.display.HTML object>"
      ]
     },
     "metadata": {},
     "output_type": "display_data"
    }
   ],
   "source": [
    "from svgutils.compose import *\n",
    "\n",
    "# > Inkscape pixel is 1/90 of an inch, other software usually uses 1/72.\n",
    "# > http://www.inkscapeforum.com/viewtopic.php?f=6&t=5964\n",
    "svg_scale = 1.25  # set this to 1.25 for Inkscape, 1.0 otherwise\n",
    "factor_svg=5.5\n",
    "\n",
    "# Panel letters in Helvetica Neue, 12pt, Medium\n",
    "kwargs_text = {'size': '12pt', 'font': 'Arial', 'weight': '800'}\n",
    "kwargs_consistent = {'size': '10pt', 'font': 'Arial', 'weight': '500', 'color': '#AF99EF'}\n",
    "kwargs_consistent1 = {'size': '10pt', 'font': 'Arial', 'weight': '500', 'color': '#9E7DD5'}\n",
    "kwargs_inconsistent = {'size': '10pt', 'font': 'Arial', 'weight': '500', 'color': '#AF99EF'}\n",
    "kwargs_text8pt = {'size': '7.7pt', 'font': 'Arial'}\n",
    "\n",
    "\n",
    "sizefactor = 1.0\n",
    "dshift = 0.5*factor_svg\n",
    "\n",
    "f = Figure(\"20.3cm\", \"8.3cm\",\n",
    "    \n",
    "    Panel(\n",
    "          SVG(PANEL_A1).scale(svg_scale).move(-10*factor_svg,0*factor_svg),\n",
    "          Text(\"a\", -10.5*factor_svg, 1.5*factor_svg-dshift, **kwargs_text),\n",
    "          Text(\"Only intrinsic noise\", -2.8*factor_svg, 0.8*factor_svg, **kwargs_text8pt),\n",
    "    ).move(10.5*factor_svg, 1.3*factor_svg),\n",
    "    \n",
    "    Panel(\n",
    "          SVG(PANEL_A2).scale(svg_scale).move(-10*factor_svg,0*factor_svg),\n",
    "          Text(\"Only observation noise\", -4*factor_svg, 0.8*factor_svg, **kwargs_text8pt),\n",
    "    ).move(45.5*factor_svg, 1.3*factor_svg),\n",
    "           \n",
    "#     Panel(\n",
    "#           SVG(PANEL_A3).scale(svg_scale).move(-10*factor_svg,0*factor_svg),\n",
    "#           Text(\"No noise\", 1.5*factor_svg, 0.8*factor_svg, **kwargs_text8pt),\n",
    "#     ).move(80.5*factor_svg, 1.3*factor_svg),\n",
    "    \n",
    "    Panel(\n",
    "          SVG(PANEL_A4).scale(svg_scale).move(-10*factor_svg,0*factor_svg),\n",
    "          Text(\"Intrinsic & observation noise\", -6.2*factor_svg, 0.8*factor_svg, **kwargs_text8pt),\n",
    "    ).move(80.5*factor_svg, 1.3*factor_svg),\n",
    "           \n",
    "    Panel(\n",
    "          SVG(PANEL_B1).scale(svg_scale).move(-10*factor_svg,0*factor_svg),\n",
    "          Text(\"b\", -14.5*factor_svg, 1.5*factor_svg-dshift, **kwargs_text),\n",
    "    ).move(14.5*factor_svg, 36.3*factor_svg),\n",
    "    \n",
    "    Panel(\n",
    "          SVG(PANEL_B2).scale(svg_scale).move(-10*factor_svg,0*factor_svg),\n",
    "    ).move(49.5*factor_svg, 36.3*factor_svg),\n",
    "    \n",
    "#     Panel(\n",
    "#           SVG(PANEL_B3).scale(svg_scale).move(-10*factor_svg,0*factor_svg),\n",
    "#     ).move(84.5*factor_svg, 36.3*factor_svg),\n",
    "    \n",
    "    Panel(\n",
    "          SVG(PANEL_B4).scale(svg_scale).move(-10*factor_svg,0*factor_svg),\n",
    "    ).move(84.5*factor_svg, 36.3*factor_svg),\n",
    ")\n",
    "\n",
    "!mkdir -p fig\n",
    "f.save(\"../fig/fig2_no_noise.svg\")\n",
    "svg('../fig/fig2_no_noise.svg')"
   ]
  },
  {
   "cell_type": "code",
   "execution_count": null,
   "metadata": {},
   "outputs": [],
   "source": []
  },
  {
   "cell_type": "code",
   "execution_count": null,
   "metadata": {},
   "outputs": [],
   "source": []
  }
 ],
 "metadata": {
  "kernelspec": {
   "display_name": "Python 3",
   "language": "python",
   "name": "python3"
  },
  "language_info": {
   "codemirror_mode": {
    "name": "ipython",
    "version": 3
   },
   "file_extension": ".py",
   "mimetype": "text/x-python",
   "name": "python",
   "nbconvert_exporter": "python",
   "pygments_lexer": "ipython3",
   "version": "3.8.10"
  }
 },
 "nbformat": 4,
 "nbformat_minor": 4
}
