{
 "cells": [
  {
   "cell_type": "code",
   "execution_count": 1,
   "metadata": {},
   "outputs": [],
   "source": [
    "import numpy as np\n",
    "import matplotlib.pylab as plt\n",
    "import time\n",
    "from copy import deepcopy\n",
    "\n",
    "import importlib\n",
    "import matplotlib as mpl\n",
    "import matplotlib.patches as mp\n",
    "import pandas as pd\n",
    "import torch\n",
    "\n",
    "from pyloric import create_prior, simulate, summary_stats\n",
    "from stg_energy.common import check_if_close_to_obs\n",
    "from stg_energy.common import col, svg, get_labels_8pt\n",
    "import stg_energy.fig2_inference.viz as viz\n",
    "from sbi.analysis import pairplot"
   ]
  },
  {
   "cell_type": "markdown",
   "metadata": {},
   "source": [
    "# Figure 1"
   ]
  },
  {
   "cell_type": "code",
   "execution_count": 2,
   "metadata": {},
   "outputs": [],
   "source": [
    "pd.options.display.max_columns=999"
   ]
  },
  {
   "cell_type": "code",
   "execution_count": 3,
   "metadata": {},
   "outputs": [],
   "source": [
    "%load_ext autoreload\n",
    "%autoreload 2"
   ]
  },
  {
   "cell_type": "code",
   "execution_count": 4,
   "metadata": {},
   "outputs": [],
   "source": [
    "PANEL_A = '../svg/panel_a_appendix_singularity.svg'\n",
    "PANEL_B = '../svg/panel_b_appendix_singularity.svg'\n",
    "PANEL_C = '../svg/panel_c_appendix_singularity.svg'\n",
    "# PANEL_C = '../svg/panel_c.svg'\n",
    "# PANEL_D = '../svg/panel_d.svg'\n",
    "# PANEL_E = '../svg/panel_e.svg'\n",
    "# PANEL_F = '../svg/panel_f.svg'\n",
    "# PANEL_G = '../svg/panel_g.svg'\n",
    "# PANEL_H = '../svg/panel_h.svg'\n",
    "# PANEL_I = '../svg/panel_i.svg'"
   ]
  },
  {
   "cell_type": "markdown",
   "metadata": {},
   "source": [
    "# Panel B: experimental data"
   ]
  },
  {
   "cell_type": "code",
   "execution_count": 5,
   "metadata": {},
   "outputs": [],
   "source": [
    "npz = np.load('../../../results/experimental_data/trace_data_845_082_0044.npz')\n",
    "t = npz['t']\n",
    "PD_spikes = npz['PD_spikes']\n",
    "LP_spikes = npz['LP_spikes']\n",
    "PY_spikes = npz['PY_spikes']\n",
    "pdn = npz['pdn']\n",
    "lpn = npz['lpn']\n",
    "pyn = npz['pyn']"
   ]
  },
  {
   "cell_type": "code",
   "execution_count": 6,
   "metadata": {},
   "outputs": [],
   "source": [
    "start_index = 219500 + 2100\n",
    "end_index   = 246500 + 2100  # 32000\n",
    "height_offset = 200\n",
    "shown_t = t[end_index] - t[start_index]\n",
    "time_len = shown_t / 0.025 * 1000\n",
    "dt = t[1] - t[0]"
   ]
  },
  {
   "cell_type": "markdown",
   "metadata": {},
   "source": [
    "### Select the simulations that were close"
   ]
  },
  {
   "cell_type": "code",
   "execution_count": 7,
   "metadata": {},
   "outputs": [],
   "source": [
    "path = \"../../../results/simulation_data_Tube_MLslurm_cluster\"\n",
    "theta = pd.read_pickle(path + '/close_to_xo_circuit_parameters.pkl')\n",
    "x = pd.read_pickle(path + '/close_to_xo_simulation_outputs.pkl')\n",
    "seeds = np.load(path + '/close_to_xo_seeds.npy')\n",
    "theta_np = theta.to_numpy()\n",
    "x_np = x.to_numpy()"
   ]
  },
  {
   "cell_type": "code",
   "execution_count": 8,
   "metadata": {},
   "outputs": [
    {
     "data": {
      "text/plain": [
       "(35939, 31)"
      ]
     },
     "execution_count": 8,
     "metadata": {},
     "output_type": "execute_result"
    }
   ],
   "source": [
    "theta.to_numpy().shape"
   ]
  },
  {
   "cell_type": "markdown",
   "metadata": {},
   "source": [
    "### Load network"
   ]
  },
  {
   "cell_type": "code",
   "execution_count": 9,
   "metadata": {},
   "outputs": [],
   "source": [
    "prior = create_prior(as_torch_dist=True)\n",
    "lower_bound = prior.support.base_constraint.lower_bound\n",
    "upper_bound = prior.support.base_constraint.upper_bound\n",
    "prior_pd = create_prior()\n",
    "lims = np.asarray([lower_bound.numpy(), upper_bound.numpy()]).T\n",
    "# dimensions = 31\n",
    "# lims = np.asarray([-np.sqrt(3)*np.ones(dimensions), np.sqrt(3)*np.ones(dimensions)]).T"
   ]
  },
  {
   "cell_type": "markdown",
   "metadata": {},
   "source": [
    "### Scale membrane conductances"
   ]
  },
  {
   "cell_type": "code",
   "execution_count": 10,
   "metadata": {},
   "outputs": [],
   "source": [
    "path = \"/home/michael/Documents/STG_energy/results/simulation_data_Tube_MLslurm_cluster/01_simulate_11deg\"\n",
    "x_prior = pd.read_pickle(path + \"/data/valid_simulation_outputs.pkl\")\n",
    "num_std = np.std(x_prior.to_numpy(), axis=0)"
   ]
  },
  {
   "cell_type": "code",
   "execution_count": 11,
   "metadata": {},
   "outputs": [],
   "source": [
    "energies = x[\"energies\"]\n",
    "energies_tt = torch.as_tensor(energies.to_numpy())\n",
    "x_tt = torch.as_tensor(x_np, dtype=torch.float32)\n",
    "custom_stats = {\n",
    "        \"plateau_durations\": True,\n",
    "        \"num_bursts\": True,\n",
    "        \"num_spikes\": True,\n",
    "        \"energies\": True,\n",
    "        \"energies_per_burst\": True,\n",
    "        \"energies_per_spike\": True,\n",
    "        \"pyloric_like\": True,\n",
    "    }"
   ]
  },
  {
   "cell_type": "code",
   "execution_count": 12,
   "metadata": {},
   "outputs": [],
   "source": [
    "xo = np.load(\"../../../results/experimental_data/xo_11deg.npy\")"
   ]
  },
  {
   "cell_type": "code",
   "execution_count": 130,
   "metadata": {},
   "outputs": [],
   "source": [
    "def compute_xs(highest_or_lowest=\"lowest\", all_singularities = [1.0, 2.0, 3.0, 4.0, 5.0]):\n",
    "    all_stats = []\n",
    "\n",
    "    for singularity_limit_factor in all_singularities:\n",
    "\n",
    "        summed_energies = np.sum(x['energies'].to_numpy(), axis=1) / 10 / 1000\n",
    "        inds = np.argsort(summed_energies)\n",
    "        if highest_or_lowest == \"hightest\":\n",
    "            inds = inds[::-1]\n",
    "        sorted_energies = summed_energies[inds]\n",
    "\n",
    "        sorted_energies = summed_energies[inds]\n",
    "        num_vals = sorted_energies.shape[0]\n",
    "\n",
    "        quantile = 0.001\n",
    "        one_percent_quantile = int(num_vals * quantile)\n",
    "        one_percent_energy = sorted_energies[one_percent_quantile]\n",
    "\n",
    "        if highest_or_lowest == \"hightest\":\n",
    "            min_energy_condition = summed_energies > one_percent_energy\n",
    "        else:\n",
    "            min_energy_condition = summed_energies < one_percent_energy\n",
    "        min_energy_theta = theta_np[min_energy_condition]\n",
    "        min_energy_x = x_np[min_energy_condition]\n",
    "        min_energy_energy = summed_energies[min_energy_condition]\n",
    "        low_seeds = seeds[min_energy_condition]\n",
    "\n",
    "        min_energy_theta[:, :24] *= singularity_limit_factor\n",
    "        min_energy_theta[:, 24:] += np.log(singularity_limit_factor)\n",
    "        \n",
    "        low_theta = pd.DataFrame(min_energy_theta, columns=theta.columns)\n",
    "\n",
    "        all_traces = []\n",
    "        num_sims = 20\n",
    "        for parameter_index in range(num_sims):\n",
    "            all_traces.append(simulate(low_theta.loc[parameter_index], seed=int(low_seeds[parameter_index])))\n",
    "\n",
    "        stats = pd.concat([summary_stats(t, stats_customization=custom_stats, t_burn_in=1000) for t in all_traces])\n",
    "        all_stats.append(stats)\n",
    "#         xs = pd.DataFrame(min_energy_x, columns=stats.columns)\n",
    "\n",
    "    return all_stats\n",
    "    \n",
    "\n",
    "def compute_dists(all_stats):\n",
    "    all_dists = []\n",
    "    all_valid_fractions = []\n",
    "    for stats in all_stats:\n",
    "    \n",
    "        # Replace NaN with xo - 3*prior_std\n",
    "        num_features = 15\n",
    "        replacement = xo[:num_features] - 1 * num_std[:num_features]\n",
    "        stats_sim = stats.to_numpy()[:, :num_features]\n",
    "        all_good = np.invert(np.any(np.isnan(stats_sim), axis=1))\n",
    "        stats_sim = stats_sim[all_good]\n",
    "        fraction_of_good = np.sum(all_good) / len(stats)\n",
    "\n",
    "        diff = xo[:num_features] - stats_sim\n",
    "        weighted_diff = diff / num_std[:num_features]\n",
    "        dist = np.sqrt(np.sum(weighted_diff**2, axis=1))\n",
    "        av_dist = np.mean(dist)\n",
    "        all_dists.append(av_dist)\n",
    "        all_valid_fractions.append(fraction_of_good)\n",
    "    return all_dists, all_valid_fractions\n",
    "\n",
    "def compute_cycle(all_stats):\n",
    "    all_dists = []\n",
    "    all_valid_fractions = []\n",
    "    for stats in all_stats:\n",
    "    \n",
    "        stats_sim = stats.to_numpy()\n",
    "        all_good = np.invert(np.any(np.isnan(stats_sim), axis=1))\n",
    "        stats_sim = stats_sim[all_good]\n",
    "\n",
    "#         print(\"stats_sim\", stats_sim)\n",
    "        diff = xo[0] - stats_sim[:, 0]\n",
    "        weighted_diff = diff / num_std[0]\n",
    "        av_dist = np.mean(np.abs(weighted_diff))\n",
    "        all_dists.append(av_dist)\n",
    "    return all_dists\n",
    "\n",
    "def compute_duty_abpd(all_stats):\n",
    "    all_dists = []\n",
    "    all_valid_fractions = []\n",
    "    for stats in all_stats:\n",
    "        stats_sim = stats[\"duty_cycles\"][\"PM\"].to_numpy()\n",
    "        all_good = np.invert(np.any(np.isnan(stats_sim)))\n",
    "        stats_sim = stats_sim[all_good]\n",
    "        diff = xo[4] - np.squeeze(stats_sim)\n",
    "        weighted_diff = diff / num_std[4]\n",
    "        av_dist = np.mean(np.abs(weighted_diff))\n",
    "        all_dists.append(av_dist)\n",
    "    return all_dists"
   ]
  },
  {
   "cell_type": "code",
   "execution_count": 131,
   "metadata": {},
   "outputs": [],
   "source": [
    "#cheapest, cheapest_valid = compute_dists(\"lowest\")"
   ]
  },
  {
   "cell_type": "code",
   "execution_count": 164,
   "metadata": {},
   "outputs": [],
   "source": [
    "# all_singularities = [1.0, 1.2, 1.4, 1.6, 1.8, 2.0, 2.2, 2.4, 2.6, 2.8, 3.0, 3.2, 3.4, 3.6, 3.8, 4.0, 4.2, 4.4, 4.6, 4.8, 5.0]\n",
    "# all_singularities = [1.0, 2.0, 3.0, 4.0, 5.0]\n",
    "all_singularities = 1.0 / np.asarray([1.0, 1.25, 1.5, 1.75, 2.0, 2.25, 2.5, 2.75, 3.0])\n",
    "\n",
    "# computed_stats = compute_xs(\"hightest\", all_singularities=all_singularities)"
   ]
  },
  {
   "cell_type": "code",
   "execution_count": 165,
   "metadata": {},
   "outputs": [],
   "source": [
    "# most_expensive, most_expensive_valid = compute_dists(computed_stats)\n",
    "# cycle_dur = compute_cycle(computed_stats)\n",
    "# duty_cycle_abpd = compute_duty_abpd(computed_stats)"
   ]
  },
  {
   "cell_type": "code",
   "execution_count": 166,
   "metadata": {},
   "outputs": [],
   "source": [
    "# np.savez(\"singularity_simulations_inward.npz\", most_expensive=most_expensive, cycle_dur=cycle_dur, duty_cycle_abpd=duty_cycle_abpd)"
   ]
  },
  {
   "cell_type": "code",
   "execution_count": 167,
   "metadata": {},
   "outputs": [],
   "source": [
    "data = np.load(\"singularity_simulations_inward.npz\")\n",
    "most_expensive = data[\"most_expensive\"]\n",
    "cycle_dur = data[\"cycle_dur\"]\n",
    "duty_cycle_abpd = data[\"duty_cycle_abpd\"]"
   ]
  },
  {
   "cell_type": "code",
   "execution_count": 192,
   "metadata": {},
   "outputs": [
    {
     "data": {
      "image/png": "[encoded data removed]",
      "text/plain": [
       "<Figure size 200x150 with 1 Axes>"
      ]
     },
     "metadata": {},
     "output_type": "display_data"
    }
   ],
   "source": [
    "with mpl.rc_context(fname=\"../../../.matplotlibrc\"):\n",
    "    fig, ax = plt.subplots(1, 1, figsize=(2, 1.5))\n",
    "    ax.plot(1/all_singularities, most_expensive)\n",
    "    ax.set_xlabel(\"Scaling factor\")\n",
    "    ax.set_ylabel(r\"$\\;||x - x_o||\\;$\" \"\\n\" \"(z-scored)\")\n",
    "    ax.set_ylim([0.0, 1.3])\n",
    "    ax.set_xticks([1, 2, 3])\n",
    "    ax.set_xticklabels([\"1\", \"1/2\", \"1/3\"])\n",
    "    ax.set_yticks([0, 1])\n",
    "    plt.subplots_adjust(wspace=0.7)\n",
    "    plt.savefig(PANEL_A, facecolor='None', dpi=300, bbox_inches='tight')"
   ]
  },
  {
   "cell_type": "code",
   "execution_count": 193,
   "metadata": {},
   "outputs": [
    {
     "data": {
      "image/png": "[encoded data removed]",
      "text/plain": [
       "<Figure size 200x150 with 1 Axes>"
      ]
     },
     "metadata": {},
     "output_type": "display_data"
    }
   ],
   "source": [
    "with mpl.rc_context(fname=\"../../../.matplotlibrc\"):\n",
    "    fig, ax = plt.subplots(1, 1, figsize=(2, 1.5))\n",
    "    ax.plot(1/all_singularities, cycle_dur)\n",
    "    ax.set_xlabel(\"Scaling factor\")\n",
    "    ax.set_ylabel(\"Error in cycle duration\\n(z-scored)\")\n",
    "    ax.set_ylim([0.0, 1.3])\n",
    "    ax.set_xticks([1, 2, 3])\n",
    "    ax.set_xticklabels([\"1\", \"1/2\", \"1/3\"])\n",
    "    ax.set_yticks([0, 1])\n",
    "    plt.subplots_adjust(wspace=0.7)\n",
    "    plt.savefig(PANEL_B, facecolor='None', dpi=300, bbox_inches='tight')"
   ]
  },
  {
   "cell_type": "code",
   "execution_count": 194,
   "metadata": {},
   "outputs": [
    {
     "data": {
      "image/png": "[encoded data removed]",
      "text/plain": [
       "<Figure size 200x150 with 1 Axes>"
      ]
     },
     "metadata": {},
     "output_type": "display_data"
    }
   ],
   "source": [
    "with mpl.rc_context(fname=\"../../../.matplotlibrc\"):\n",
    "    fig, ax = plt.subplots(1, 1, figsize=(2, 1.5))\n",
    "    ax.plot(1/all_singularities, duty_cycle_abpd)\n",
    "    ax.set_xlabel(\"Scaling factor\")\n",
    "    ax.set_ylabel(\"Error in duty cycle\\n(AB/PD) (z-scored)\")\n",
    "    ax.set_ylim([0.0, 1.3])\n",
    "    ax.set_xticks([1, 2, 3])\n",
    "    ax.set_xticklabels([\"1\", \"1/2\", \"1/3\"])\n",
    "    ax.set_yticks([0, 1])\n",
    "    plt.subplots_adjust(wspace=0.7)\n",
    "    plt.savefig(PANEL_C, facecolor='None', dpi=300, bbox_inches='tight')"
   ]
  },
  {
   "cell_type": "markdown",
   "metadata": {},
   "source": [
    "#### Assemble figure"
   ]
  },
  {
   "cell_type": "code",
   "execution_count": 195,
   "metadata": {},
   "outputs": [],
   "source": [
    "color_mixture1 = 0.33 * np.asarray(list(col['CONSISTENT1'])) + 0.67 * np.asarray(\n",
    "    list(col['CONSISTENT2']))\n",
    "color_mixture2 = 0.67 * np.asarray(list(col['CONSISTENT1'])) + 0.33 * np.asarray(\n",
    "    list(col['CONSISTENT2']))"
   ]
  },
  {
   "cell_type": "code",
   "execution_count": 196,
   "metadata": {},
   "outputs": [],
   "source": [
    "import time\n",
    "import IPython.display as IPd\n",
    "\n",
    "def svg(img):\n",
    "    IPd.display(IPd.HTML('<img src=\"{}\" / >'.format(img, time.time())))"
   ]
  },
  {
   "cell_type": "code",
   "execution_count": 199,
   "metadata": {
    "tags": []
   },
   "outputs": [
    {
     "data": {
      "text/html": [
       "<img src=\"../fig/fig2_supp_singular_limit.svg\" / >"
      ],
      "text/plain": [
       "<IPython.core.display.HTML object>"
      ]
     },
     "metadata": {},
     "output_type": "display_data"
    }
   ],
   "source": [
    "from svgutils.compose import *\n",
    "\n",
    "# > Inkscape pixel is 1/90 of an inch, other software usually uses 1/72.\n",
    "# > http://www.inkscapeforum.com/viewtopic.php?f=6&t=5964\n",
    "svg_scale = 1.25  # set this to 1.25 for Inkscape, 1.0 otherwise\n",
    "factor_svg=5.5\n",
    "\n",
    "# Panel letters in Helvetica Neue, 12pt, Medium\n",
    "kwargs_text = {'size': '12pt', 'font': 'Arial', 'weight': '800'}\n",
    "kwargs_consistent = {'size': '10pt', 'font': 'Arial', 'weight': '500', 'color': '#AF99EF'}\n",
    "kwargs_consistent1 = {'size': '10pt', 'font': 'Arial', 'weight': '500', 'color': '#9E7DD5'}\n",
    "kwargs_inconsistent = {'size': '10pt', 'font': 'Arial', 'weight': '500', 'color': '#AF99EF'}\n",
    "kwargs_text8pt = {'size': '7.7pt', 'font': 'Arial'}\n",
    "\n",
    "f = Figure(\"20.3cm\", \"4.1cm\",\n",
    "    Panel(\n",
    "          SVG(PANEL_A).scale(svg_scale*1.03).move(0*factor_svg, 0*factor_svg),\n",
    "        Text(\"a\", -1.5*factor_svg, 2.4*factor_svg, **kwargs_text),\n",
    "    ).move(1.5*factor_svg, 0*factor_svg),\n",
    "           \n",
    "    Panel(\n",
    "          SVG(PANEL_B).scale(svg_scale*1.03).move(0*factor_svg, 0*factor_svg),\n",
    "        Text(\"b\", -1.5*factor_svg, 3.0*factor_svg, **kwargs_text),\n",
    "    ).move(44.25*factor_svg, -0.6*factor_svg),\n",
    "           \n",
    "    Panel(\n",
    "          SVG(PANEL_C).scale(svg_scale*1.03).move(0*factor_svg, 0*factor_svg),\n",
    "        Text(\"c\", -1.5*factor_svg, 2.4*factor_svg, **kwargs_text),\n",
    "    ).move(86.5*factor_svg, 0*factor_svg),\n",
    ")\n",
    "\n",
    "!mkdir -p fig\n",
    "f.save(\"../fig/fig2_supp_singular_limit.svg\")\n",
    "svg('../fig/fig2_supp_singular_limit.svg')"
   ]
  },
  {
   "cell_type": "code",
   "execution_count": null,
   "metadata": {},
   "outputs": [],
   "source": []
  }
 ],
 "metadata": {
  "kernelspec": {
   "display_name": "Python 3",
   "language": "python",
   "name": "python3"
  },
  "language_info": {
   "codemirror_mode": {
    "name": "ipython",
    "version": 3
   },
   "file_extension": ".py",
   "mimetype": "text/x-python",
   "name": "python",
   "nbconvert_exporter": "python",
   "pygments_lexer": "ipython3",
   "version": "3.8.10"
  }
 },
 "nbformat": 4,
 "nbformat_minor": 4
}
