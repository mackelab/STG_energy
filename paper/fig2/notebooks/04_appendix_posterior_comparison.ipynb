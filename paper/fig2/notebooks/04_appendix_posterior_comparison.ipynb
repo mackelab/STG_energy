{
 "cells": [
  {
   "cell_type": "markdown",
   "metadata": {},
   "source": [
    "# Inspect whether the cluster runs were successful when using prior samples accepted by the classifier"
   ]
  },
  {
   "cell_type": "markdown",
   "metadata": {},
   "source": [
    "### Previous best NSF with 30 million simulation budget: 10.75% NaNs"
   ]
  },
  {
   "cell_type": "code",
   "execution_count": 1,
   "metadata": {},
   "outputs": [],
   "source": [
    "%load_ext autoreload\n",
    "%autoreload 2"
   ]
  },
  {
   "cell_type": "code",
   "execution_count": 2,
   "metadata": {},
   "outputs": [],
   "source": [
    "%matplotlib inline"
   ]
  },
  {
   "cell_type": "code",
   "execution_count": 3,
   "metadata": {},
   "outputs": [],
   "source": [
    "import numpy as np\n",
    "from copy import deepcopy\n",
    "import matplotlib as mpl\n",
    "import matplotlib.pyplot as plt\n",
    "import pandas as pd\n",
    "from stg_energy.common import col, svg, plot_pdf, samples_nd, get_labels_8pt, reorder_stats\n",
    "from stg_energy.fig2_inference.viz import get_summ_stat_name, get_summ_stat_name_text, get_synapse_name, get_summ_stat_name_asterisk"
   ]
  },
  {
   "cell_type": "code",
   "execution_count": 4,
   "metadata": {},
   "outputs": [],
   "source": [
    "PANEL_A = '../svg/panel_supp_compare_maf_a.svg'\n",
    "PANEL_B = '../svg/panel_supp_compare_maf_b.svg'"
   ]
  },
  {
   "cell_type": "code",
   "execution_count": 5,
   "metadata": {},
   "outputs": [],
   "source": [
    "path = \"../../../results/simulation_data_Tube_MLslurm_cluster/01_simulate_11deg\"\n",
    "x_prior = pd.read_pickle(path + \"/data/valid_simulation_outputs.pkl\")\n",
    "x_prior_np = x_prior.to_numpy()\n",
    "\n",
    "x_prior_np = reorder_stats(x_prior_np)\n",
    "\n",
    "stats_mean = np.mean(x_prior_np, axis=0)\n",
    "stats_std = np.std(x_prior_np, axis=0)"
   ]
  },
  {
   "cell_type": "code",
   "execution_count": 6,
   "metadata": {},
   "outputs": [],
   "source": [
    "path = '../../../results/simulation_data_Tube_MLslurm_cluster/simulate_11deg_R3_predictives_at_11deg/data/all_simulation_outputs.pkl'\n",
    "posterior_predictives = pd.read_pickle(path)\n",
    "posterior_predictives_np = posterior_predictives.to_numpy()"
   ]
  },
  {
   "cell_type": "code",
   "execution_count": 7,
   "metadata": {},
   "outputs": [],
   "source": [
    "posterior_predictives_np = reorder_stats(posterior_predictives_np)"
   ]
  },
  {
   "cell_type": "code",
   "execution_count": 8,
   "metadata": {},
   "outputs": [
    {
     "data": {
      "text/plain": [
       "(1020000, 34)"
      ]
     },
     "execution_count": 8,
     "metadata": {},
     "output_type": "execute_result"
    }
   ],
   "source": [
    "posterior_predictives_np.shape"
   ]
  },
  {
   "cell_type": "code",
   "execution_count": 9,
   "metadata": {},
   "outputs": [],
   "source": [
    "good_or_not = np.invert(np.any(np.isnan(posterior_predictives_np), axis=1))"
   ]
  },
  {
   "cell_type": "code",
   "execution_count": 10,
   "metadata": {},
   "outputs": [
    {
     "name": "stdout",
     "output_type": "stream",
     "text": [
      "Overall percentage of NaNs 14.935784313725492 %\n"
     ]
    }
   ],
   "source": [
    "good_percentage = np.sum(good_or_not) / posterior_predictives_np.shape[0] * 100\n",
    "print(\"Overall percentage of NaNs\", 100.-good_percentage, \"%\")"
   ]
  },
  {
   "cell_type": "code",
   "execution_count": 11,
   "metadata": {},
   "outputs": [],
   "source": [
    "xo = np.load(\"../../../results/experimental_data/xo_11deg.npy\")\n",
    "observation = reorder_stats(xo)[0]"
   ]
  },
  {
   "cell_type": "code",
   "execution_count": 12,
   "metadata": {},
   "outputs": [],
   "source": [
    "ss_norm = (np.asarray(posterior_predictives_np[:,:15]) - stats_mean[:15]) / stats_std[:15]\n",
    "norm_gt = (observation[:15] - stats_mean[:15]) / stats_std[:15]"
   ]
  },
  {
   "cell_type": "markdown",
   "metadata": {},
   "source": [
    "### Better visualization"
   ]
  },
  {
   "cell_type": "code",
   "execution_count": 13,
   "metadata": {},
   "outputs": [],
   "source": [
    "names = []\n",
    "for num in range(15):\n",
    "    names.append(get_summ_stat_name_text(num))"
   ]
  },
  {
   "cell_type": "code",
   "execution_count": 14,
   "metadata": {},
   "outputs": [
    {
     "name": "stderr",
     "output_type": "stream",
     "text": [
      "findfont: Font family ['serif'] not found. Falling back to DejaVu Sans.\n"
     ]
    },
    {
     "data": {
      "image/png": "[encoded data removed]",
      "text/plain": [
       "<Figure size 472.5x130 with 1 Axes>"
      ]
     },
     "metadata": {},
     "output_type": "display_data"
    }
   ],
   "source": [
    "import seaborn as sns\n",
    "import pandas as pd\n",
    "\n",
    "with mpl.rc_context(fname='../../../.matplotlibrc'):\n",
    "    fig, ax = plt.subplots(1,1, figsize=(3.5*1.35, 1.3))\n",
    "    plt.scatter(np.arange(15)+0.4, norm_gt, marker='x', s=15.0, color=col['GT'])\n",
    "    df = pd.DataFrame(ss_norm)\n",
    "\n",
    "    box = sns.boxplot(data=df, width=0.4, fliersize=.0, linewidth=1.2) # , color='#0570b0'\n",
    "    for i, patch in enumerate(box.artists):\n",
    "        r, g, b, a = patch.get_facecolor() # r, g, b, a = patch.get_facecolor()\n",
    "        patch.set_facecolor(col['CONSISTENT2']) # patch.set_facecolor((r, g, b, .6))\n",
    "        patch.set_edgecolor(col['CONSISTENT2'])\n",
    "        for j in range(i*6,i*6+6):\n",
    "            line = ax.lines[j]\n",
    "            line.set_color(col['CONSISTENT1'])\n",
    "            line.set_mfc(col['CONSISTENT1'])\n",
    "            line.set_mec(col['CONSISTENT1'])\n",
    "\n",
    "    ax.set_ylim([-2,2])\n",
    "    ax.set_xlim([-0.5,14.7])\n",
    "    ax.set_xticklabels(names, rotation='vertical')\n",
    "    ax.set_yticks([-2, 0, 2])\n",
    "    ax.set_yticklabels(['$\\mathdefault{-2}\\sigma$', '0', '2$\\sigma$'])\n",
    "    ax.text(0.33,  -0.68, 'Summary statistics', transform=ax.transAxes)\n",
    "    ax.text(0.322, -0.80, '[st. dev. of samples]', transform=ax.transAxes)\n",
    "    #plt.savefig('../results/energy/classifier/figs/summstats.png', dpi=300, bbox_inches='tight')\n",
    "    plt.show()"
   ]
  },
  {
   "cell_type": "markdown",
   "metadata": {},
   "source": [
    "### Load posterior predictives from delfi with MAF"
   ]
  },
  {
   "cell_type": "code",
   "execution_count": 15,
   "metadata": {},
   "outputs": [],
   "source": [
    "stats_maf = np.load('../../../results/11deg_post_pred/delfi_maf_post_pred.npz')['all_ss']"
   ]
  },
  {
   "cell_type": "code",
   "execution_count": 16,
   "metadata": {},
   "outputs": [],
   "source": [
    "stats_maf[:, 7] = stats_maf[:, 7] - stats_maf[:, 6]  # Because we had previously used the delay from AB/PD to PY and now use the delay from LP to PY."
   ]
  },
  {
   "cell_type": "code",
   "execution_count": 17,
   "metadata": {},
   "outputs": [
    {
     "name": "stdout",
     "output_type": "stream",
     "text": [
      "number of good samples 396\n",
      "fraction of bad samples 20.8 %\n"
     ]
    }
   ],
   "source": [
    "good_s = []\n",
    "for s in stats_maf:\n",
    "    if np.invert(np.any(np.isnan(s))):\n",
    "        good_s.append(s)\n",
    "good_s = np.asarray(good_s)\n",
    "print('number of good samples', len(good_s))\n",
    "print('fraction of bad samples', (len(stats_maf) - len(good_s)) / len(stats_maf) * 100, '%')"
   ]
  },
  {
   "cell_type": "markdown",
   "metadata": {},
   "source": [
    "# Compare to big MAF from big paper"
   ]
  },
  {
   "cell_type": "code",
   "execution_count": 18,
   "metadata": {},
   "outputs": [],
   "source": [
    "norm_stats_maf = (np.asarray(good_s[:,:15]) - stats_mean[:15]) / stats_std[:15]"
   ]
  },
  {
   "cell_type": "code",
   "execution_count": 19,
   "metadata": {},
   "outputs": [
    {
     "data": {
      "text/plain": [
       "(396, 15)"
      ]
     },
     "execution_count": 19,
     "metadata": {},
     "output_type": "execute_result"
    }
   ],
   "source": [
    "norm_stats_maf.shape"
   ]
  },
  {
   "cell_type": "code",
   "execution_count": 20,
   "metadata": {},
   "outputs": [
    {
     "data": {
      "text/plain": [
       "(1020000, 15)"
      ]
     },
     "execution_count": 20,
     "metadata": {},
     "output_type": "execute_result"
    }
   ],
   "source": [
    "ss_norm.shape"
   ]
  },
  {
   "cell_type": "code",
   "execution_count": 21,
   "metadata": {},
   "outputs": [
    {
     "data": {
      "image/png": "[encoded data removed]",
      "text/plain": [
       "<Figure size 800x100 with 1 Axes>"
      ]
     },
     "metadata": {},
     "output_type": "display_data"
    }
   ],
   "source": [
    "import seaborn as sns\n",
    "import pandas as pd\n",
    "\n",
    "with mpl.rc_context(fname='../../../.matplotlibrc'):\n",
    "    fig, ax = plt.subplots(1,1, figsize=(8., 1.))\n",
    "    ax.scatter(np.arange(15)+0.2, norm_gt, marker='x', s=15.0, color=col['GT'])\n",
    "\n",
    "    box1 = ax.boxplot(ss_norm[good_or_not], positions=np.arange(15), widths=0.2, patch_artist=True, showfliers=False)\n",
    "    box2 = ax.boxplot(norm_stats_maf, positions=np.arange(15)-0.3, widths=0.2, patch_artist=True, showfliers=False) # , color='#0570b0'\n",
    "\n",
    "    colors = ['r']*15\n",
    "    for patch, color in zip(box1['boxes'], colors):\n",
    "        patch.set_facecolor(color)\n",
    "        \n",
    "    colors = ['b']*15\n",
    "    for patch, color in zip(box2['boxes'], colors):\n",
    "        patch.set_facecolor(color)\n",
    "\n",
    "    ax.set_ylim([-2,2])\n",
    "    ax.set_xlim([-0.5,14.7])\n",
    "    ax.set_xticks(np.arange(15))\n",
    "    ax.set_xticklabels(names, rotation='vertical')\n",
    "    ax.set_yticks([-2, 0, 2])\n",
    "    ax.set_yticklabels(['$\\mathdefault{-2}\\sigma$', '0', '2$\\sigma$'])\n",
    "    ax.set_xlabel('Summary statistics')\n",
    "    ax.set_ylabel('st. dev. of samples')\n",
    "    #plt.savefig('../results/energy/classifier/figs/fig1.png', dpi=300, bbox_inches='tight')\n",
    "    plt.show()"
   ]
  },
  {
   "cell_type": "markdown",
   "metadata": {},
   "source": [
    "### Make histogramm"
   ]
  },
  {
   "cell_type": "code",
   "execution_count": 22,
   "metadata": {},
   "outputs": [],
   "source": [
    "# differences\n",
    "sd_sbi = (norm_gt - ss_norm[good_or_not])**2\n",
    "sd_delfi = (norm_gt - norm_stats_maf)**2"
   ]
  },
  {
   "cell_type": "code",
   "execution_count": 23,
   "metadata": {},
   "outputs": [],
   "source": [
    "summed_square_diff_sbi = np.median(sd_sbi, axis=0)\n",
    "summed_square_diff_delfi = np.median(sd_delfi, axis=0)"
   ]
  },
  {
   "cell_type": "code",
   "execution_count": 24,
   "metadata": {},
   "outputs": [
    {
     "name": "stderr",
     "output_type": "stream",
     "text": [
      "findfont: Font family ['serif'] not found. Falling back to DejaVu Sans.\n"
     ]
    },
    {
     "data": {
      "image/png": "[encoded data removed]",
      "text/plain": [
       "<Figure size 400x100 with 1 Axes>"
      ]
     },
     "metadata": {},
     "output_type": "display_data"
    }
   ],
   "source": [
    "with mpl.rc_context(fname='../../../.matplotlibrc'):\n",
    "    fig, ax = plt.subplots(1, 1, figsize=(4.0, 1.))\n",
    "    ax.bar(np.arange(15)-0.3, summed_square_diff_delfi, width=0.2, color='#2b8cbe', label='previous')\n",
    "    ax.bar(np.arange(15), summed_square_diff_sbi, width=0.2, color='#e34a33', label='ours')\n",
    "    ax.set_ylim([0, 0.008])\n",
    "    ax.set_xticks(np.arange(15))\n",
    "    ax.set_xticklabels(names, rotation='vertical')\n",
    "    ax.set_xlim([-0.5,14.7])\n",
    "    ax.spines['top'].set_visible(False)\n",
    "    ax.spines['right'].set_visible(False)\n",
    "\n",
    "    ax.legend()\n",
    "\n",
    "    ax.set_ylabel('Median sq. error')\n",
    "    ax.set_xlabel('Summary statistics')\n",
    "\n",
    "    plt.savefig(PANEL_A, facecolor='None', transparent=True)\n",
    "    plt.show()"
   ]
  },
  {
   "cell_type": "code",
   "execution_count": 25,
   "metadata": {},
   "outputs": [
    {
     "data": {
      "image/png": "[encoded data removed]",
      "text/plain": [
       "<Figure size 400x100 with 1 Axes>"
      ]
     },
     "metadata": {},
     "output_type": "display_data"
    }
   ],
   "source": [
    "with mpl.rc_context(fname='../../../.matplotlibrc'):\n",
    "    fig, ax = plt.subplots(1, 1, figsize=(4.0, 1.))\n",
    "    ax.bar(np.arange(15), (summed_square_diff_delfi - summed_square_diff_sbi) / summed_square_diff_delfi * 100, width=0.2, color='#636363')\n",
    "    ax.set_ylim([0, 50])\n",
    "    ax.set_xticks(np.arange(15))\n",
    "    ax.set_xticklabels(names, rotation='vertical')\n",
    "    ax.set_xlim([-0.5, 14.7])\n",
    "    ax.spines['top'].set_visible(False)\n",
    "    ax.spines['right'].set_visible(False)\n",
    "    #ax.axhline(1.0, linestyle='--', c='grey')\n",
    "\n",
    "    ax.set_ylabel('Error reduction\\nin %')\n",
    "    ax.set_xlabel('Summary statistics')\n",
    "\n",
    "    plt.savefig(PANEL_B, facecolor='None', transparent=True)\n",
    "    plt.show()"
   ]
  },
  {
   "cell_type": "markdown",
   "metadata": {},
   "source": [
    "### Assemble figure"
   ]
  },
  {
   "cell_type": "code",
   "execution_count": 26,
   "metadata": {},
   "outputs": [],
   "source": [
    "import time\n",
    "import IPython.display as IPd\n",
    "\n",
    "def svg(img):\n",
    "    IPd.display(IPd.HTML('<img src=\"{}\" / >'.format(img, time.time())))"
   ]
  },
  {
   "cell_type": "code",
   "execution_count": 27,
   "metadata": {},
   "outputs": [
    {
     "data": {
      "text/html": [
       "<img src=\"../fig/fig2_supp2.svg\" / >"
      ],
      "text/plain": [
       "<IPython.core.display.HTML object>"
      ]
     },
     "metadata": {},
     "output_type": "display_data"
    }
   ],
   "source": [
    "from svgutils.compose import *\n",
    "\n",
    "# > Inkscape pixel is 1/90 of an inch, other software usually uses 1/72.\n",
    "# > http://www.inkscapeforum.com/viewtopic.php?f=6&t=5964\n",
    "svg_scale = 1.25  # set this to 1.25 for Inkscape, 1.0 otherwise\n",
    "factor_svg=5.5\n",
    "\n",
    "# Panel letters in Helvetica Neue, 12pt, Medium\n",
    "kwargs_text = {'size': '12pt', 'font': 'Arial', 'weight': '800'}\n",
    "kwargs_consistent = {'size': '10pt', 'font': 'Arial', 'weight': '500', 'color': '#AF99EF'}\n",
    "kwargs_consistent1 = {'size': '10pt', 'font': 'Arial', 'weight': '500', 'color': '#9E7DD5'}\n",
    "kwargs_inconsistent = {'size': '10pt', 'font': 'Arial', 'weight': '500', 'color': '#AF99EF'}\n",
    "kwargs_text8pt = {'size': '7.7pt', 'font': 'Arial'}\n",
    "\n",
    "sizefactor = 1.0\n",
    "\n",
    "f = Figure(\"20.3cm\", \"4.3cm\",\n",
    "\n",
    "    Panel(\n",
    "          SVG(PANEL_A).scale(svg_scale),\n",
    "          Text(\"a\", -1*factor_svg, 0*factor_svg, **kwargs_text),\n",
    "    ).move(2.7*factor_svg, 2*factor_svg),\n",
    "\n",
    "    Panel(\n",
    "          SVG(PANEL_B).scale(svg_scale),\n",
    "          Text(\"b\",-1*factor_svg, -0.6*factor_svg, **kwargs_text),\n",
    "    ).move(70.1*factor_svg, 2.6*factor_svg),\n",
    "\n",
    ")\n",
    "\n",
    "!mkdir -p fig\n",
    "f.save(\"../fig/fig2_supp2.svg\")\n",
    "svg('../fig/fig2_supp2.svg')"
   ]
  },
  {
   "cell_type": "code",
   "execution_count": null,
   "metadata": {},
   "outputs": [],
   "source": []
  },
  {
   "cell_type": "code",
   "execution_count": null,
   "metadata": {},
   "outputs": [],
   "source": []
  }
 ],
 "metadata": {
  "kernelspec": {
   "display_name": "sbi_prinz",
   "language": "python",
   "name": "sbi_prinz"
  },
  "language_info": {
   "codemirror_mode": {
    "name": "ipython",
    "version": 3
   },
   "file_extension": ".py",
   "mimetype": "text/x-python",
   "name": "python",
   "nbconvert_exporter": "python",
   "pygments_lexer": "ipython3",
   "version": "3.8.5"
  }
 },
 "nbformat": 4,
 "nbformat_minor": 4
}
