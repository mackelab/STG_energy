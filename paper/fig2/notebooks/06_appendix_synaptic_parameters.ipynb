{
 "cells": [
  {
   "cell_type": "code",
   "execution_count": 1,
   "metadata": {},
   "outputs": [],
   "source": [
    "%load_ext autoreload\n",
    "%autoreload 2"
   ]
  },
  {
   "cell_type": "code",
   "execution_count": 2,
   "metadata": {},
   "outputs": [],
   "source": [
    "import numpy as np\n",
    "import matplotlib.pylab as plt\n",
    "import time\n",
    "from copy import deepcopy\n",
    "\n",
    "import importlib\n",
    "import matplotlib as mpl\n",
    "import matplotlib.patches as mp\n",
    "import pandas as pd\n",
    "import torch\n",
    "from multiprocessing import Pool\n",
    "import pickle\n",
    "\n",
    "from pyloric import create_prior, simulate, summary_stats\n",
    "from stg_energy.common import col, svg, get_labels_8pt\n",
    "import stg_energy.fig2_inference.viz as viz\n",
    "from sbi.analysis import pairplot\n",
    "from stg_energy.common import check_if_close_to_obs\n",
    "import itertools\n",
    "from sbi.utils import BoxUniform"
   ]
  },
  {
   "cell_type": "markdown",
   "metadata": {},
   "source": [
    "# Figure 1"
   ]
  },
  {
   "cell_type": "code",
   "execution_count": 3,
   "metadata": {},
   "outputs": [],
   "source": [
    "pd.options.display.max_columns=999"
   ]
  },
  {
   "cell_type": "code",
   "execution_count": 4,
   "metadata": {},
   "outputs": [],
   "source": [
    "# from sbi.utils.user_input_checks_utils import PytorchReturnTypeWrapper"
   ]
  },
  {
   "cell_type": "code",
   "execution_count": 5,
   "metadata": {},
   "outputs": [],
   "source": [
    "PANEL_A = '../svg/panel_a.svg'\n",
    "PANEL_B = '../svg/panel_b.svg'\n",
    "PANEL_C = '../svg/panel_c.svg'\n",
    "PANEL_D = '../svg/panel_d.svg'\n",
    "PANEL_E = '../svg/panel_e.svg'\n",
    "PANEL_F = '../svg/panel_f.svg'\n",
    "PANEL_G = '../svg/panel_g.svg'\n",
    "PANEL_H = '../svg/panel_h.svg'\n",
    "PANEL_I = '../svg/panel_i.svg'"
   ]
  },
  {
   "cell_type": "markdown",
   "metadata": {},
   "source": [
    "### Select the simulations that were close"
   ]
  },
  {
   "cell_type": "code",
   "execution_count": 6,
   "metadata": {},
   "outputs": [],
   "source": [
    "path = \"../../../results/simulation_data_Tube_MLslurm_cluster\"\n",
    "theta = pd.read_pickle(path + '/close_to_xo_circuit_parameters.pkl')\n",
    "x = pd.read_pickle(path + '/close_to_xo_simulation_outputs.pkl')\n",
    "seeds = np.load(path + '/close_to_xo_seeds.npy')\n",
    "theta_np = theta.to_numpy()\n",
    "x_np = x.to_numpy()"
   ]
  },
  {
   "cell_type": "markdown",
   "metadata": {},
   "source": [
    "### Load network"
   ]
  },
  {
   "cell_type": "code",
   "execution_count": 7,
   "metadata": {},
   "outputs": [],
   "source": [
    "prior = create_prior(as_torch_dist=True)\n",
    "lower_bound = prior.support.base_constraint.lower_bound\n",
    "upper_bound = prior.support.base_constraint.upper_bound\n",
    "prior_pd = create_prior()\n",
    "lims = np.asarray([lower_bound.numpy(), upper_bound.numpy()]).T\n",
    "# dimensions = 31\n",
    "# lims = np.asarray([-np.sqrt(3)*np.ones(dimensions), np.sqrt(3)*np.ones(dimensions)]).T"
   ]
  },
  {
   "cell_type": "markdown",
   "metadata": {},
   "source": [
    "# Panel B: experimental data"
   ]
  },
  {
   "cell_type": "code",
   "execution_count": 8,
   "metadata": {},
   "outputs": [],
   "source": [
    "npz = np.load('../../../results/experimental_data/trace_data_845_082_0044.npz')\n",
    "t = npz['t']"
   ]
  },
  {
   "cell_type": "markdown",
   "metadata": {},
   "source": [
    "# Panel D: posterior samples"
   ]
  },
  {
   "cell_type": "code",
   "execution_count": 9,
   "metadata": {},
   "outputs": [],
   "source": [
    "esglut_mean = -70\n",
    "kminusglut_mean = 40\n",
    "eschol_mean = -80\n",
    "kminuschol_mean = 100\n",
    "vth_mean = -35.0\n",
    "delta_mean = 5.0\n",
    "\n",
    "esglut_diff = 20\n",
    "kminusglut_diff = 15\n",
    "eschol_diff = 20\n",
    "kminuschol_diff = 20\n",
    "vth_diff = 10.0\n",
    "delta_diff = 1.0\n",
    "\n",
    "diffs = [[esglut_diff]*5, [kminusglut_diff]*5, [eschol_diff]*2, [kminuschol_diff]*2, [vth_diff]*7, [delta_diff]*7]\n",
    "diffs = list(itertools.chain(*diffs))\n",
    "\n",
    "means = [[esglut_mean]*5, [kminusglut_mean]*5, [eschol_mean]*2, [kminuschol_mean]*2, [vth_mean]*7, [delta_mean]*7]\n",
    "means = list(itertools.chain(*means))\n",
    "\n",
    "diff = torch.tensor(diffs)\n",
    "mean = torch.tensor(means)\n",
    "prior_size = 2.0\n",
    "prior_synapses = BoxUniform(mean-diff*prior_size, mean+diff*prior_size)"
   ]
  },
  {
   "cell_type": "code",
   "execution_count": 10,
   "metadata": {},
   "outputs": [],
   "source": [
    "def my_simulator(params_with_seeds):\n",
    "    p1 = create_prior()\n",
    "    pars = p1.sample((1,))\n",
    "    column_names = pars.columns\n",
    "\n",
    "    parameter_set_pd = pd.DataFrame(\n",
    "        np.asarray([params_with_seeds[:-1]]), columns=column_names\n",
    "    )\n",
    "    out_target = simulate(\n",
    "        parameter_set_pd.loc[0],\n",
    "        seed=int(params_with_seeds[-1]),\n",
    "        dt=0.025,\n",
    "        t_max=11000,\n",
    "        temperature=283,\n",
    "        noise_std=0.001,\n",
    "        track_energy=True,\n",
    "        energy_measure=\"current\"\n",
    "    )\n",
    "    custom_stats = {\n",
    "        \"plateau_durations\": True,\n",
    "        \"num_bursts\": True,\n",
    "        \"num_spikes\": True,\n",
    "        \"energies\": True,\n",
    "        \"energies_per_burst\": True,\n",
    "        \"energies_per_spike\": True,\n",
    "        \"pyloric_like\": True,\n",
    "    }\n",
    "    return summary_stats(out_target, stats_customization=custom_stats, t_burn_in=1000)"
   ]
  },
  {
   "cell_type": "code",
   "execution_count": 11,
   "metadata": {},
   "outputs": [],
   "source": [
    "def my_simulator_synaptic(theta_synaptic):\n",
    "    \n",
    "    Esglut=theta_synaptic[0:5].tolist()\n",
    "    kminusglut=theta_synaptic[5:10].tolist()\n",
    "    Eschol=theta_synaptic[10:12].tolist()\n",
    "    kminuschol=theta_synaptic[12:14].tolist()\n",
    "    Vth=theta_synaptic[14:21].tolist()\n",
    "    Delta=theta_synaptic[21:28].tolist()\n",
    "    seed=theta_synaptic[28].item()\n",
    "    \n",
    "    out_target = simulate(\n",
    "        theta_conductance,\n",
    "        seed=int(seed),\n",
    "        dt=0.025,\n",
    "        t_max=11000,\n",
    "        temperature=283,\n",
    "        noise_std=0.001,\n",
    "        track_energy=True,\n",
    "        Esglut=Esglut, \n",
    "        kminusglut=kminusglut, \n",
    "        Eschol=Eschol, \n",
    "        kminuschol=kminuschol, \n",
    "        Vth=Vth, \n",
    "        Delta=Delta\n",
    "    )\n",
    "    custom_stats = {\n",
    "        \"plateau_durations\": True,\n",
    "        \"num_bursts\": True,\n",
    "        \"num_spikes\": True,\n",
    "        \"energies\": True,\n",
    "        \"energies_per_burst\": True,\n",
    "        \"energies_per_spike\": True,\n",
    "        \"pyloric_like\": True,\n",
    "    }\n",
    "    return summary_stats(out_target, stats_customization=custom_stats, t_burn_in=1000)"
   ]
  },
  {
   "cell_type": "code",
   "execution_count": 12,
   "metadata": {},
   "outputs": [],
   "source": [
    "data_np = theta.to_numpy()\n",
    "params_with_seeds = np.concatenate((data_np, seeds[:, None]), axis=1)"
   ]
  },
  {
   "cell_type": "code",
   "execution_count": 13,
   "metadata": {},
   "outputs": [
    {
     "data": {
      "text/plain": [
       "(35939, 32)"
      ]
     },
     "execution_count": 13,
     "metadata": {},
     "output_type": "execute_result"
    }
   ],
   "source": [
    "params_with_seeds.shape"
   ]
  },
  {
   "cell_type": "code",
   "execution_count": 14,
   "metadata": {},
   "outputs": [
    {
     "name": "stdout",
     "output_type": "stream",
     "text": [
      "Simulation time 1.3842217922210693\n"
     ]
    }
   ],
   "source": [
    "with Pool(16) as pool:\n",
    "    start_time = time.time()\n",
    "    data1 = pool.map(my_simulator, params_with_seeds[:10])\n",
    "    print(\"Simulation time\", time.time() - start_time)\n",
    "\n",
    "sims_out1 = pd.concat(data1, ignore_index=True)"
   ]
  },
  {
   "cell_type": "code",
   "execution_count": 15,
   "metadata": {},
   "outputs": [
    {
     "name": "stdout",
     "output_type": "stream",
     "text": [
      "[ True  True  True  True  True  True  True  True  True  True]\n"
     ]
    }
   ],
   "source": [
    "close = check_if_close_to_obs(sims_out1.to_numpy(), sloppiness_durations=1.0, sloppiness_phases=1.0)\n",
    "print(close)"
   ]
  },
  {
   "cell_type": "code",
   "execution_count": 24,
   "metadata": {},
   "outputs": [],
   "source": [
    "time_vec = np.arange(0, 11000, 0.025)"
   ]
  },
  {
   "cell_type": "code",
   "execution_count": 30,
   "metadata": {},
   "outputs": [],
   "source": [
    "num_sims = 100000"
   ]
  },
  {
   "cell_type": "code",
   "execution_count": 33,
   "metadata": {
    "jupyter": {
     "source_hidden": true
    },
    "tags": []
   },
   "outputs": [],
   "source": [
    "# for config_ind in range(10):\n",
    "#     theta_conductance = theta.loc[config_ind]\n",
    "#     print(\"============== \", config_ind)\n",
    "    \n",
    "#     for seed in range(50):\n",
    "#         _ = torch.manual_seed(seed)\n",
    "#         seeds = torch.randint(0, 1000000, (int(num_sims / 50),)).unsqueeze(1)\n",
    "#         theta_synaptic = prior_synapses.sample((int(num_sims / 50),))\n",
    "#         params_with_seeds = torch.cat([theta_synaptic, seeds], dim=1)\n",
    "\n",
    "#         with Pool(16) as pool:\n",
    "#             start_time = time.time()\n",
    "#             data1 = pool.map(my_simulator_synaptic, params_with_seeds)\n",
    "#             print(\"Simulation time\", time.time() - start_time)\n",
    "\n",
    "#         sims_out1 = pd.concat(data1, ignore_index=True)\n",
    "#         sims_out1.to_pickle(f\"../../../results/energy_measure_comparison/simulation2_outputs_synapse_variation_config{config_ind}_{seed}.pkl\")\n",
    "#         with open(f\"../../../results/energy_measure_comparison/theta2_synapse_variation_config{config_ind}_{seed}.pkl\", \"wb\") as handle:\n",
    "#             pickle.dump(theta_synaptic, handle)\n",
    "#         with open(f\"../../../results/energy_measure_comparison/seeds2_synapse_variation_config{config_ind}_{seed}.pkl\", \"wb\") as handle:\n",
    "#             pickle.dump(seeds, handle)"
   ]
  },
  {
   "cell_type": "code",
   "execution_count": 34,
   "metadata": {},
   "outputs": [],
   "source": [
    "# for config_ind in range(10):\n",
    "#     all_sims = []\n",
    "#     all_theta = []\n",
    "#     all_seeds = []\n",
    "#     for seed in range(50):\n",
    "#         sims_out1 = pd.read_pickle(f\"../../../results/energy_measure_comparison/simulation2_outputs_synapse_variation_config{config_ind}_{seed}.pkl\")\n",
    "#         with open(f\"../../../results/energy_measure_comparison/theta2_synapse_variation_config{config_ind}_{seed}.pkl\", \"rb\") as handle:\n",
    "#             theta_synaptic = pickle.load(handle)\n",
    "#         with open(f\"../../../results/energy_measure_comparison/seeds2_synapse_variation_config{config_ind}_{seed}.pkl\", \"rb\") as handle:\n",
    "#             seeds = pickle.load(handle)\n",
    "            \n",
    "#         all_sims.append(sims_out1)\n",
    "#         all_theta.append(theta_synaptic)\n",
    "#         all_seeds.append(seeds)\n",
    "#     all_sims = pd.concat(all_sims, ignore_index=True)\n",
    "#     all_theta = torch.cat(all_theta)\n",
    "#     all_seeds = torch.cat(all_seeds)\n",
    "    \n",
    "#     all_sims.to_pickle(f\"../../../results/energy_measure_comparison/simulation2_outputs_synapse_variation_config{config_ind}_50k.pkl\")\n",
    "#     with open(f\"../../../results/energy_measure_comparison/theta2_synapse_variation_config{config_ind}_50k.pkl\", \"wb\") as handle:\n",
    "#         pickle.dump(all_theta, handle)\n",
    "#     with open(f\"../../../results/energy_measure_comparison/seeds2_synapse_variation_config{config_ind}_50k.pkl\", \"wb\") as handle:\n",
    "#         pickle.dump(all_seeds, handle)"
   ]
  },
  {
   "cell_type": "markdown",
   "metadata": {},
   "source": [
    "## Panel A: Similar traces from disparate synaptic conductances"
   ]
  },
  {
   "cell_type": "markdown",
   "metadata": {},
   "source": [
    "### First, identify two configurations that are very dissimilar"
   ]
  },
  {
   "cell_type": "code",
   "execution_count": 79,
   "metadata": {
    "tags": []
   },
   "outputs": [
    {
     "name": "stdout",
     "output_type": "stream",
     "text": [
      "close 34\n",
      "1 10\n",
      "num of large differences: 10\n",
      "Inds of difference: (array([ 6, 10, 14, 18, 20, 21, 22, 23, 24, 27]),)\n",
      "1 12\n",
      "num of large differences: 9\n",
      "Inds of difference: (array([ 8,  9, 10, 18, 21, 22, 23, 25, 27]),)\n",
      "2 3\n",
      "num of large differences: 9\n",
      "Inds of difference: (array([ 1,  7,  8, 11, 17, 18, 22, 25, 27]),)\n",
      "2 13\n",
      "num of large differences: 11\n",
      "Inds of difference: (array([ 7,  9, 12, 14, 18, 19, 20, 23, 24, 25, 27]),)\n",
      "3 2\n",
      "num of large differences: 9\n",
      "Inds of difference: (array([ 1,  7,  8, 11, 17, 18, 22, 25, 27]),)\n",
      "3 5\n",
      "num of large differences: 9\n",
      "Inds of difference: (array([ 7,  8, 17, 20, 22, 23, 24, 25, 26]),)\n",
      "3 6\n",
      "num of large differences: 10\n",
      "Inds of difference: (array([ 1,  3,  6,  7,  8, 11, 16, 18, 20, 24]),)\n",
      "3 7\n",
      "num of large differences: 9\n",
      "Inds of difference: (array([ 1,  6,  8, 17, 19, 20, 22, 24, 27]),)\n",
      "3 10\n",
      "num of large differences: 10\n",
      "Inds of difference: (array([ 1,  6,  9, 11, 17, 19, 20, 22, 25, 27]),)\n",
      "3 13\n",
      "num of large differences: 12\n",
      "Inds of difference: (array([ 1,  8,  9, 11, 12, 14, 17, 19, 20, 21, 22, 24]),)\n",
      "3 24\n",
      "num of large differences: 10\n",
      "Inds of difference: (array([ 1,  8, 11, 12, 15, 16, 17, 21, 25, 26]),)\n",
      "3 27\n",
      "num of large differences: 9\n",
      "Inds of difference: (array([ 1,  7, 16, 19, 21, 22, 24, 26, 27]),)\n",
      "3 29\n",
      "num of large differences: 10\n",
      "Inds of difference: (array([ 1,  4,  7, 10, 11, 13, 18, 21, 24, 25]),)\n",
      "4 10\n",
      "num of large differences: 10\n",
      "Inds of difference: (array([ 1,  6,  8, 10, 12, 15, 17, 20, 21, 24]),)\n",
      "4 13\n",
      "num of large differences: 9\n",
      "Inds of difference: (array([ 1,  3,  7, 12, 14, 17, 20, 23, 27]),)\n",
      "4 25\n",
      "num of large differences: 9\n",
      "Inds of difference: (array([ 3,  8, 10, 15, 16, 17, 21, 25, 27]),)\n",
      "4 31\n",
      "num of large differences: 9\n",
      "Inds of difference: (array([ 1,  3,  9, 10, 12, 16, 17, 21, 27]),)\n",
      "4 32\n",
      "num of large differences: 9\n",
      "Inds of difference: (array([ 1,  3,  8, 17, 21, 24, 25, 26, 27]),)\n",
      "5 3\n",
      "num of large differences: 9\n",
      "Inds of difference: (array([ 7,  8, 17, 20, 22, 23, 24, 25, 26]),)\n",
      "5 11\n",
      "num of large differences: 9\n",
      "Inds of difference: (array([ 1,  5,  7, 15, 20, 22, 24, 25, 27]),)\n",
      "5 16\n",
      "num of large differences: 10\n",
      "Inds of difference: (array([ 3,  6,  8, 12, 20, 22, 23, 24, 25, 27]),)\n",
      "6 3\n",
      "num of large differences: 10\n",
      "Inds of difference: (array([ 1,  3,  6,  7,  8, 11, 16, 18, 20, 24]),)\n",
      "6 9\n",
      "num of large differences: 10\n",
      "Inds of difference: (array([ 1,  6,  8, 10, 15, 16, 18, 19, 20, 24]),)\n",
      "6 11\n",
      "num of large differences: 10\n",
      "Inds of difference: (array([ 1,  3,  5,  6, 11, 15, 18, 19, 20, 24]),)\n",
      "6 13\n",
      "num of large differences: 10\n",
      "Inds of difference: (array([ 3,  6, 12, 14, 15, 16, 17, 18, 19, 21]),)\n",
      "6 18\n",
      "num of large differences: 9\n",
      "Inds of difference: (array([ 1,  3, 12, 14, 15, 16, 18, 20, 25]),)\n",
      "6 19\n",
      "num of large differences: 10\n",
      "Inds of difference: (array([ 1, 10, 12, 14, 16, 17, 18, 20, 22, 27]),)\n",
      "6 23\n",
      "num of large differences: 9\n",
      "Inds of difference: (array([ 1,  3,  6, 10, 16, 17, 20, 22, 23]),)\n",
      "6 24\n",
      "num of large differences: 10\n",
      "Inds of difference: (array([ 3,  6, 10, 12, 15, 17, 20, 21, 24, 25]),)\n",
      "7 3\n",
      "num of large differences: 9\n",
      "Inds of difference: (array([ 1,  6,  8, 17, 19, 20, 22, 24, 27]),)\n",
      "7 15\n",
      "num of large differences: 9\n",
      "Inds of difference: (array([ 6, 11, 12, 14, 17, 19, 20, 22, 27]),)\n",
      "7 20\n",
      "num of large differences: 10\n",
      "Inds of difference: (array([ 6,  8,  9, 11, 16, 17, 19, 20, 22, 23]),)\n",
      "7 22\n",
      "num of large differences: 9\n",
      "Inds of difference: (array([ 1,  6,  9, 10, 17, 19, 22, 25, 27]),)\n",
      "7 24\n",
      "num of large differences: 10\n",
      "Inds of difference: (array([ 6, 11, 12, 14, 16, 19, 20, 22, 25, 26]),)\n",
      "7 25\n",
      "num of large differences: 9\n",
      "Inds of difference: (array([ 8,  9, 11, 16, 19, 20, 23, 25, 27]),)\n",
      "9 6\n",
      "num of large differences: 10\n",
      "Inds of difference: (array([ 1,  6,  8, 10, 15, 16, 18, 19, 20, 24]),)\n",
      "9 24\n",
      "num of large differences: 10\n",
      "Inds of difference: (array([ 1,  8,  9, 12, 14, 16, 17, 18, 19, 26]),)\n",
      "10 1\n",
      "num of large differences: 10\n",
      "Inds of difference: (array([ 6, 10, 14, 18, 20, 21, 22, 23, 24, 27]),)\n",
      "10 3\n",
      "num of large differences: 10\n",
      "Inds of difference: (array([ 1,  6,  9, 11, 17, 19, 20, 22, 25, 27]),)\n",
      "10 4\n",
      "num of large differences: 10\n",
      "Inds of difference: (array([ 1,  6,  8, 10, 12, 15, 17, 20, 21, 24]),)\n",
      "10 15\n",
      "num of large differences: 9\n",
      "Inds of difference: (array([ 1,  6,  9, 14, 17, 18, 20, 21, 27]),)\n",
      "10 22\n",
      "num of large differences: 10\n",
      "Inds of difference: (array([ 1,  3,  6,  8, 10, 11, 15, 21, 24, 27]),)\n",
      "11 5\n",
      "num of large differences: 9\n",
      "Inds of difference: (array([ 1,  5,  7, 15, 20, 22, 24, 25, 27]),)\n",
      "11 6\n",
      "num of large differences: 10\n",
      "Inds of difference: (array([ 1,  3,  5,  6, 11, 15, 18, 19, 20, 24]),)\n",
      "11 15\n",
      "num of large differences: 10\n",
      "Inds of difference: (array([ 4,  5,  9, 11, 14, 15, 18, 19, 21, 27]),)\n",
      "11 21\n",
      "num of large differences: 10\n",
      "Inds of difference: (array([ 1,  3,  5,  6, 15, 18, 20, 21, 24, 27]),)\n",
      "11 29\n",
      "num of large differences: 10\n",
      "Inds of difference: (array([ 1,  4,  5,  9, 11, 15, 18, 21, 24, 25]),)\n",
      "12 1\n",
      "num of large differences: 9\n",
      "Inds of difference: (array([ 8,  9, 10, 18, 21, 22, 23, 25, 27]),)\n",
      "12 16\n",
      "num of large differences: 11\n",
      "Inds of difference: (array([ 3,  6,  8,  9, 12, 16, 19, 20, 22, 25, 26]),)\n",
      "12 20\n",
      "num of large differences: 9\n",
      "Inds of difference: (array([ 3,  8,  9, 10, 11, 16, 21, 22, 25]),)\n",
      "12 21\n",
      "num of large differences: 11\n",
      "Inds of difference: (array([ 6, 10, 12, 18, 19, 21, 22, 23, 25, 26, 27]),)\n",
      "12 32\n",
      "num of large differences: 10\n",
      "Inds of difference: (array([ 3,  8, 10, 11, 16, 18, 19, 22, 26, 27]),)\n",
      "13 2\n",
      "num of large differences: 11\n",
      "Inds of difference: (array([ 7,  9, 12, 14, 18, 19, 20, 23, 24, 25, 27]),)\n",
      "13 3\n",
      "num of large differences: 12\n",
      "Inds of difference: (array([ 1,  8,  9, 11, 12, 14, 17, 19, 20, 21, 22, 24]),)\n",
      "13 4\n",
      "num of large differences: 9\n",
      "Inds of difference: (array([ 1,  3,  7, 12, 14, 17, 20, 23, 27]),)\n",
      "13 6\n",
      "num of large differences: 10\n",
      "Inds of difference: (array([ 3,  6, 12, 14, 15, 16, 17, 18, 19, 21]),)\n",
      "13 15\n",
      "num of large differences: 11\n",
      "Inds of difference: (array([ 1,  4,  9, 14, 15, 17, 18, 19, 20, 23, 24]),)\n",
      "13 16\n",
      "num of large differences: 11\n",
      "Inds of difference: (array([ 6,  8, 12, 16, 18, 20, 21, 22, 23, 24, 27]),)\n",
      "13 25\n",
      "num of large differences: 9\n",
      "Inds of difference: (array([ 1,  8, 10, 12, 16, 19, 20, 23, 25]),)\n",
      "13 29\n",
      "num of large differences: 9\n",
      "Inds of difference: (array([ 3,  4,  8,  9, 10, 17, 18, 22, 25]),)\n",
      "13 32\n",
      "num of large differences: 9\n",
      "Inds of difference: (array([ 8, 14, 16, 18, 21, 22, 24, 25, 26]),)\n",
      "15 7\n",
      "num of large differences: 9\n",
      "Inds of difference: (array([ 6, 11, 12, 14, 17, 19, 20, 22, 27]),)\n",
      "15 10\n",
      "num of large differences: 9\n",
      "Inds of difference: (array([ 1,  6,  9, 14, 17, 18, 20, 21, 27]),)\n",
      "15 11\n",
      "num of large differences: 10\n",
      "Inds of difference: (array([ 4,  5,  9, 11, 14, 15, 18, 19, 21, 27]),)\n",
      "15 13\n",
      "num of large differences: 11\n",
      "Inds of difference: (array([ 1,  4,  9, 14, 15, 17, 18, 19, 20, 23, 24]),)\n",
      "16 5\n",
      "num of large differences: 10\n",
      "Inds of difference: (array([ 3,  6,  8, 12, 20, 22, 23, 24, 25, 27]),)\n",
      "16 12\n",
      "num of large differences: 11\n",
      "Inds of difference: (array([ 3,  6,  8,  9, 12, 16, 19, 20, 22, 25, 26]),)\n",
      "16 13\n",
      "num of large differences: 11\n",
      "Inds of difference: (array([ 6,  8, 12, 16, 18, 20, 21, 22, 23, 24, 27]),)\n",
      "16 26\n",
      "num of large differences: 10\n",
      "Inds of difference: (array([ 6,  8, 10, 12, 15, 19, 20, 21, 23, 24]),)\n",
      "17 24\n",
      "num of large differences: 9\n",
      "Inds of difference: (array([ 6,  8,  9, 11, 12, 16, 17, 19, 26]),)\n",
      "17 25\n",
      "num of large differences: 9\n",
      "Inds of difference: (array([10, 11, 14, 15, 16, 19, 22, 23, 27]),)\n",
      "18 6\n",
      "num of large differences: 9\n",
      "Inds of difference: (array([ 1,  3, 12, 14, 15, 16, 18, 20, 25]),)\n",
      "18 33\n",
      "num of large differences: 9\n",
      "Inds of difference: (array([ 1,  3,  6,  9, 14, 16, 20, 24, 25]),)\n",
      "19 6\n",
      "num of large differences: 10\n",
      "Inds of difference: (array([ 1, 10, 12, 14, 16, 17, 18, 20, 22, 27]),)\n",
      "20 7\n",
      "num of large differences: 10\n",
      "Inds of difference: (array([ 6,  8,  9, 11, 16, 17, 19, 20, 22, 23]),)\n",
      "20 12\n",
      "num of large differences: 9\n",
      "Inds of difference: (array([ 3,  8,  9, 10, 11, 16, 21, 22, 25]),)\n",
      "21 11\n",
      "num of large differences: 10\n",
      "Inds of difference: (array([ 1,  3,  5,  6, 15, 18, 20, 21, 24, 27]),)\n",
      "21 12\n",
      "num of large differences: 11\n",
      "Inds of difference: (array([ 6, 10, 12, 18, 19, 21, 22, 23, 25, 26, 27]),)\n",
      "21 24\n",
      "num of large differences: 10\n",
      "Inds of difference: (array([ 3,  6,  9, 10, 12, 14, 15, 16, 17, 19]),)\n",
      "22 7\n",
      "num of large differences: 9\n",
      "Inds of difference: (array([ 1,  6,  9, 10, 17, 19, 22, 25, 27]),)\n",
      "22 10\n",
      "num of large differences: 10\n",
      "Inds of difference: (array([ 1,  3,  6,  8, 10, 11, 15, 21, 24, 27]),)\n",
      "22 25\n",
      "num of large differences: 9\n",
      "Inds of difference: (array([ 5,  6,  8, 10, 11, 15, 20, 22, 26]),)\n",
      "23 6\n",
      "num of large differences: 9\n",
      "Inds of difference: (array([ 1,  3,  6, 10, 16, 17, 20, 22, 23]),)\n",
      "24 3\n",
      "num of large differences: 10\n",
      "Inds of difference: (array([ 1,  8, 11, 12, 15, 16, 17, 21, 25, 26]),)\n",
      "24 6\n",
      "num of large differences: 10\n",
      "Inds of difference: (array([ 3,  6, 10, 12, 15, 17, 20, 21, 24, 25]),)\n",
      "24 7\n",
      "num of large differences: 10\n",
      "Inds of difference: (array([ 6, 11, 12, 14, 16, 19, 20, 22, 25, 26]),)\n",
      "24 9\n",
      "num of large differences: 10\n",
      "Inds of difference: (array([ 1,  8,  9, 12, 14, 16, 17, 18, 19, 26]),)\n",
      "24 17\n",
      "num of large differences: 9\n",
      "Inds of difference: (array([ 6,  8,  9, 11, 12, 16, 17, 19, 26]),)\n",
      "24 21\n",
      "num of large differences: 10\n",
      "Inds of difference: (array([ 3,  6,  9, 10, 12, 14, 15, 16, 17, 19]),)\n",
      "25 4\n",
      "num of large differences: 9\n",
      "Inds of difference: (array([ 3,  8, 10, 15, 16, 17, 21, 25, 27]),)\n",
      "25 7\n",
      "num of large differences: 9\n",
      "Inds of difference: (array([ 8,  9, 11, 16, 19, 20, 23, 25, 27]),)\n",
      "25 13\n",
      "num of large differences: 9\n",
      "Inds of difference: (array([ 1,  8, 10, 12, 16, 19, 20, 23, 25]),)\n",
      "25 17\n",
      "num of large differences: 9\n",
      "Inds of difference: (array([10, 11, 14, 15, 16, 19, 22, 23, 27]),)\n",
      "25 22\n",
      "num of large differences: 9\n",
      "Inds of difference: (array([ 5,  6,  8, 10, 11, 15, 20, 22, 26]),)\n",
      "25 28\n",
      "num of large differences: 10\n",
      "Inds of difference: (array([ 3,  6,  8, 11, 14, 16, 19, 22, 25, 27]),)\n",
      "26 16\n",
      "num of large differences: 10\n",
      "Inds of difference: (array([ 6,  8, 10, 12, 15, 19, 20, 21, 23, 24]),)\n",
      "26 32\n",
      "num of large differences: 10\n",
      "Inds of difference: (array([ 1,  8, 10, 17, 18, 19, 21, 24, 25, 26]),)\n",
      "27 3\n",
      "num of large differences: 9\n",
      "Inds of difference: (array([ 1,  7, 16, 19, 21, 22, 24, 26, 27]),)\n",
      "28 25\n",
      "num of large differences: 10\n",
      "Inds of difference: (array([ 3,  6,  8, 11, 14, 16, 19, 22, 25, 27]),)\n",
      "28 32\n",
      "num of large differences: 11\n",
      "Inds of difference: (array([ 1,  3,  6,  8, 10, 16, 17, 18, 25, 26, 27]),)\n",
      "29 3\n",
      "num of large differences: 10\n",
      "Inds of difference: (array([ 1,  4,  7, 10, 11, 13, 18, 21, 24, 25]),)\n",
      "29 11\n",
      "num of large differences: 10\n",
      "Inds of difference: (array([ 1,  4,  5,  9, 11, 15, 18, 21, 24, 25]),)\n",
      "29 13\n",
      "num of large differences: 9\n",
      "Inds of difference: (array([ 3,  4,  8,  9, 10, 17, 18, 22, 25]),)\n",
      "31 4\n",
      "num of large differences: 9\n",
      "Inds of difference: (array([ 1,  3,  9, 10, 12, 16, 17, 21, 27]),)\n",
      "32 4\n",
      "num of large differences: 9\n",
      "Inds of difference: (array([ 1,  3,  8, 17, 21, 24, 25, 26, 27]),)\n",
      "32 12\n",
      "num of large differences: 10\n",
      "Inds of difference: (array([ 3,  8, 10, 11, 16, 18, 19, 22, 26, 27]),)\n",
      "32 13\n",
      "num of large differences: 9\n",
      "Inds of difference: (array([ 8, 14, 16, 18, 21, 22, 24, 25, 26]),)\n",
      "32 26\n",
      "num of large differences: 10\n",
      "Inds of difference: (array([ 1,  8, 10, 17, 18, 19, 21, 24, 25, 26]),)\n",
      "32 28\n",
      "num of large differences: 11\n",
      "Inds of difference: (array([ 1,  3,  6,  8, 10, 16, 17, 18, 25, 26, 27]),)\n",
      "33 18\n",
      "num of large differences: 9\n",
      "Inds of difference: (array([ 1,  3,  6,  9, 14, 16, 20, 24, 25]),)\n"
     ]
    }
   ],
   "source": [
    "config_ind = 0\n",
    "sims_out = pd.read_pickle(f\"../../../results/energy_measure_comparison/simulation2_outputs_synapse_variation_config{config_ind}_50k.pkl\")\n",
    "with open(f\"../../../results/energy_measure_comparison/theta2_synapse_variation_config{config_ind}_50k.pkl\", \"rb\") as handle:\n",
    "    theta_synaptic = pickle.load(handle)\n",
    "with open(f\"../../../results/energy_measure_comparison/seeds2_synapse_variation_config{config_ind}_50k.pkl\", \"rb\") as handle:\n",
    "    seeds = pickle.load(handle)\n",
    "theta_conductance = theta.loc[config_ind]\n",
    "\n",
    "close = check_if_close_to_obs(sims_out.to_numpy(), sloppiness_durations=1.0, sloppiness_phases=1.0)\n",
    "\n",
    "theta_synaptic_close = theta_synaptic[close]\n",
    "seeds_close = seeds[close]\n",
    "sims_out_close = sims_out.loc[close]\n",
    "\n",
    "print(\"close\", np.sum(close))\n",
    "\n",
    "for index1 in range(len(seeds_close)):\n",
    "    for index2 in range(len(seeds_close)):\n",
    "        syanptic_conductances1 = theta_synaptic_close[index1]\n",
    "        syanptic_conductances2 = theta_synaptic_close[index2]\n",
    "        \n",
    "        absolute_difference = np.abs(syanptic_conductances1 - syanptic_conductances2)\n",
    "        z_scored_diff = absolute_difference / np.asarray(diffs)\n",
    "        \n",
    "        num_of_large_differences = np.sum(z_scored_diff.numpy() > 2.0)\n",
    "        if num_of_large_differences > 8:\n",
    "            print(index1, index2)\n",
    "            print(f\"num of large differences: {num_of_large_differences}\")\n",
    "            print(f\"Inds of difference: {np.where(z_scored_diff.numpy() > 2.0)}\")"
   ]
  },
  {
   "cell_type": "code",
   "execution_count": 91,
   "metadata": {},
   "outputs": [
    {
     "name": "stdout",
     "output_type": "stream",
     "text": [
      "[ 1 10]\n",
      "[ 6  8 12]\n",
      "[15 17 20]\n",
      "[21 24]\n"
     ]
    }
   ],
   "source": [
    "large_difference_inds = np.asarray([ 1,  6,  8, 10, 12, 15, 17, 20, 21, 24])\n",
    "\n",
    "es_condition = np.bitwise_or(large_difference_inds < 5.0, np.bitwise_and(large_difference_inds < 12., large_difference_inds > 9.))\n",
    "es_differences = large_difference_inds[es_condition]\n",
    "\n",
    "kminus_condition = np.bitwise_or(np.bitwise_and(large_difference_inds < 10., large_difference_inds > 4.), np.bitwise_and(large_difference_inds < 13., large_difference_inds > 11.))\n",
    "kminus_differences = large_difference_inds[kminus_condition]\n",
    "\n",
    "vth_condition = np.bitwise_and(large_difference_inds < 21., large_difference_inds > 13.)\n",
    "vth_differences = large_difference_inds[vth_condition]\n",
    "\n",
    "delta_condition = large_difference_inds > 20.\n",
    "delta_differences = large_difference_inds[delta_condition]\n",
    "print(es_differences)\n",
    "print(kminus_differences)\n",
    "print(vth_differences)\n",
    "print(delta_differences)"
   ]
  },
  {
   "cell_type": "markdown",
   "metadata": {},
   "source": [
    "### Then plot them"
   ]
  },
  {
   "cell_type": "code",
   "execution_count": 92,
   "metadata": {},
   "outputs": [],
   "source": [
    "config_ind = 0\n",
    "sims_out = pd.read_pickle(f\"../../../results/energy_measure_comparison/simulation2_outputs_synapse_variation_config{config_ind}_50k.pkl\")\n",
    "with open(f\"../../../results/energy_measure_comparison/theta2_synapse_variation_config{config_ind}_50k.pkl\", \"rb\") as handle:\n",
    "    theta_synaptic = pickle.load(handle)\n",
    "with open(f\"../../../results/energy_measure_comparison/seeds2_synapse_variation_config{config_ind}_50k.pkl\", \"rb\") as handle:\n",
    "    seeds = pickle.load(handle)\n",
    "theta_conductance = theta.loc[config_ind]\n",
    "\n",
    "close = check_if_close_to_obs(sims_out.to_numpy(), sloppiness_durations=1.0, sloppiness_phases=1.0)\n",
    "\n",
    "theta_synaptic_close = theta_synaptic[close]\n",
    "seeds_close = seeds[close]\n",
    "sims_out_close = sims_out.loc[close]\n",
    "\n",
    "config1_ind = 4\n",
    "config2_ind = 10\n",
    "\n",
    "out_targets = []\n",
    "for inds in [config1_ind, config2_ind]:\n",
    "    Esglut=theta_synaptic_close[inds][0:5].tolist()\n",
    "    kminusglut=theta_synaptic_close[inds][5:10].tolist()\n",
    "    Eschol=theta_synaptic_close[inds][10:12].tolist()\n",
    "    kminuschol=theta_synaptic_close[inds][12:14].tolist()\n",
    "    Vth=theta_synaptic_close[inds][14:21].tolist()\n",
    "    Delta=theta_synaptic_close[inds][21:28].tolist()\n",
    "\n",
    "    out_target = simulate(\n",
    "        theta_conductance,\n",
    "        seed=int(seeds_close[inds]),\n",
    "        dt=0.025,\n",
    "        t_max=11000,\n",
    "        temperature=283,\n",
    "        noise_std=0.001,\n",
    "        Esglut=Esglut, \n",
    "        kminusglut=kminusglut, \n",
    "        Eschol=Eschol, \n",
    "        kminuschol=kminuschol, \n",
    "        Vth=Vth, \n",
    "        Delta=Delta,\n",
    "        track_energy=True,\n",
    "    )\n",
    "    out_targets.append(out_target)"
   ]
  },
  {
   "cell_type": "code",
   "execution_count": 102,
   "metadata": {},
   "outputs": [
    {
     "data": {
      "image/png": "[encoded data removed]",
      "text/plain": [
       "<Figure size 220x130 with 1 Axes>"
      ]
     },
     "metadata": {},
     "output_type": "display_data"
    },
    {
     "data": {
      "image/png": "[encoded data removed]",
      "text/plain": [
       "<Figure size 220x130 with 1 Axes>"
      ]
     },
     "metadata": {},
     "output_type": "display_data"
    }
   ],
   "source": [
    "with mpl.rc_context(fname=\"../../../.matplotlibrc\"):\n",
    "    offsets=[46000, 79000]\n",
    "    for ind in range(2):\n",
    "        fig, ax = plt.subplots(1,1,figsize=(2.2, 1.3))\n",
    "        viz.vis_sample_plain(\n",
    "            voltage_trace=out_targets[ind],\n",
    "            t=time_vec,\n",
    "            axV=ax,\n",
    "            time_len=110000,\n",
    "            offset=offsets[ind],\n",
    "            col=\"k\",\n",
    "            scale_bar=True,\n",
    "            scale_bar_voltage=True,\n",
    "            print_label=False,\n",
    "        )\n",
    "        plt.savefig(f\"../svg/panel_a_{ind}.svg\")\n",
    "        plt.show()"
   ]
  },
  {
   "cell_type": "code",
   "execution_count": 104,
   "metadata": {},
   "outputs": [],
   "source": [
    "names = np.asarray([\n",
    "    r\"$E_s$\"+\"\\nAB-LP\", \n",
    "    r\"$E_s$\"+\"\\nAB-PY\", \n",
    "    r\"$E_s$\"+\"\\nLP-AB\", \n",
    "    r\"$E_s$\"+\"\\nLP-PY\", \n",
    "    r\"$E_s$\"+\"\\nPY-LP\", \n",
    "    r\"$k_-$\"+\"\\nAB-LP\", \n",
    "    r\"$k_-$\"+\"\\nAB-PY\", \n",
    "    r\"$k_-$\"+\"\\nLP-AB\", \n",
    "    r\"$k_-$\"+\"\\nLP-PY\", \n",
    "    r\"$k_-$\"+\"\\nPY-LP\", \n",
    "    r\"$E_s$\"+\"\\nPD-LP\", \n",
    "    r\"$E_s$\"+\"\\nPD-PY\", \n",
    "    r\"$k_-$\"+\"\\nPD-LP\", \n",
    "    r\"$k_-$\"+\"\\nPD-PY\", \n",
    "    r\"$V_{th}$\"+\"\\nAB-LP\", \n",
    "    r\"$V_{th}$\"+\"\\nPD-LP\", \n",
    "    r\"$V_{th}$\"+\"\\nAB-PY\", \n",
    "    r\"$V_{th}$\"+\"\\nPD-PY\", \n",
    "    r\"$V_{th}$\"+\"\\nLP-AB\", \n",
    "    r\"$V_{th}$\"+\"\\nLP-PY\", \n",
    "    r\"$V_{th}$\"+\"\\nPY-LP\", \n",
    "    r\"$\\Delta$\"+\"\\nAB-LP\", \n",
    "    r\"$\\Delta$\"+\"\\nPD-LP\", \n",
    "    r\"$\\Delta$\"+\"\\nAB-PY\", \n",
    "    r\"$\\Delta$\"+\"\\nPD-PY\", \n",
    "    r\"$\\Delta$\"+\"\\nLP-AB\", \n",
    "    r\"$\\Delta$\"+\"\\nLP-PY\", \n",
    "    r\"$\\Delta$\"+\"\\nPY-LP\", \n",
    "])"
   ]
  },
  {
   "cell_type": "code",
   "execution_count": 105,
   "metadata": {},
   "outputs": [],
   "source": [
    "large_difference_inds = np.asarray([ 1,  6,  8,  9, 10, 14, 18, 23, 25])\n",
    "\n",
    "es_condition = np.bitwise_or(large_difference_inds < 5.0, np.bitwise_and(large_difference_inds < 12., large_difference_inds > 9.))\n",
    "es_differences = large_difference_inds[es_condition]\n",
    "\n",
    "kminus_condition = np.bitwise_or(np.bitwise_and(large_difference_inds < 10., large_difference_inds > 4.), np.bitwise_and(large_difference_inds < 13., large_difference_inds > 11.))\n",
    "kminus_differences = large_difference_inds[kminus_condition]\n",
    "\n",
    "vth_condition = np.bitwise_and(large_difference_inds < 21., large_difference_inds > 13.)\n",
    "vth_differences = large_difference_inds[vth_condition]\n",
    "\n",
    "delta_condition = large_difference_inds > 20.\n",
    "delta_differences = large_difference_inds[delta_condition]"
   ]
  },
  {
   "cell_type": "code",
   "execution_count": 106,
   "metadata": {},
   "outputs": [
    {
     "data": {
      "image/png": "[encoded data removed]",
      "text/plain": [
       "<Figure size 80x110 with 1 Axes>"
      ]
     },
     "metadata": {},
     "output_type": "display_data"
    },
    {
     "data": {
      "image/png": "[encoded data removed]",
      "text/plain": [
       "<Figure size 80x110 with 1 Axes>"
      ]
     },
     "metadata": {},
     "output_type": "display_data"
    }
   ],
   "source": [
    "for counter, ind in enumerate([config1_ind, config2_ind]):\n",
    "    with mpl.rc_context(fname=\"../../../.matplotlibrc\"):\n",
    "#         conductance_inds = [0, 5, 10, 15, 25]\n",
    "        fig, ax = plt.subplots(1, 1, figsize=(0.8, 1.1))\n",
    "        es_differences = es_differences[:2]\n",
    "        ax.bar(np.arange(len(es_differences)), theta_synaptic_close[ind, es_differences], color=\"k\", width=0.6)\n",
    "        ax.set_xlim([-.5, 1.5])\n",
    "        ax.set_xticks(np.arange(len(es_differences)))\n",
    "        if counter == 0:\n",
    "            ax.set_xticklabels([])\n",
    "        else:\n",
    "            ax.set_xticklabels([names[es_differences[0]]+r\"$\\;\\;\\;\\;\\;\\;$\", names[es_differences[1]]])\n",
    "        ax.set_ylim([-120, 0])\n",
    "        ax.set_yticks([-120, 0])\n",
    "        ax.set_ylabel(\"mV\", labelpad=-15)\n",
    "        plt.savefig(f\"../svg/panel_b1_{counter}.svg\")\n",
    "    plt.show()"
   ]
  },
  {
   "cell_type": "code",
   "execution_count": 107,
   "metadata": {},
   "outputs": [
    {
     "data": {
      "image/png": "[encoded data removed]",
      "text/plain": [
       "<Figure size 80x110 with 1 Axes>"
      ]
     },
     "metadata": {},
     "output_type": "display_data"
    },
    {
     "data": {
      "image/png": "[encoded data removed]",
      "text/plain": [
       "<Figure size 80x110 with 1 Axes>"
      ]
     },
     "metadata": {},
     "output_type": "display_data"
    }
   ],
   "source": [
    "for counter, ind in enumerate([config1_ind, config2_ind]):\n",
    "    with mpl.rc_context(fname=\"../../../.matplotlibrc\"):\n",
    "        conductance_inds = [0, 5, 10, 15, 25]\n",
    "        fig, ax = plt.subplots(1, 1, figsize=(0.8, 1.1))\n",
    "        kminus_differences = kminus_differences[:2]\n",
    "        ax.bar(np.arange(len(kminus_differences)), theta_synaptic_close[ind, kminus_differences], color=\"k\", width=0.6)\n",
    "        ax.set_xlim([-.5, 1.5])\n",
    "        ax.set_xticks(np.arange(len(kminus_differences)))\n",
    "        if counter == 0:\n",
    "            ax.set_xticklabels([])\n",
    "        else:\n",
    "            ax.set_xticklabels([names[kminus_differences[0]]+r\"$\\;\\;\\;\\;\\;\\;$\", names[kminus_differences[1]]])\n",
    "        ax.set_ylim([0, 140])\n",
    "        ax.set_yticks([0, 140])\n",
    "        ax.set_ylabel(\"1 / ms\", labelpad=-11)\n",
    "        plt.savefig(f\"../svg/panel_b2_{counter}.svg\")\n",
    "    plt.show()"
   ]
  },
  {
   "cell_type": "code",
   "execution_count": 108,
   "metadata": {},
   "outputs": [
    {
     "data": {
      "image/png": "[encoded data removed]",
      "text/plain": [
       "<Figure size 80x110 with 1 Axes>"
      ]
     },
     "metadata": {},
     "output_type": "display_data"
    },
    {
     "data": {
      "image/png": "[encoded data removed]",
      "text/plain": [
       "<Figure size 80x110 with 1 Axes>"
      ]
     },
     "metadata": {},
     "output_type": "display_data"
    }
   ],
   "source": [
    "for counter, ind in enumerate([config1_ind, config2_ind]):\n",
    "    with mpl.rc_context(fname=\"../../../.matplotlibrc\"):\n",
    "        conductance_inds = [0, 5, 10, 15, 25]\n",
    "        fig, ax = plt.subplots(1, 1, figsize=(0.8, 1.1))\n",
    "        vth_differences = vth_differences[:2]\n",
    "        ax.bar(np.arange(len(vth_differences)), theta_synaptic_close[ind, vth_differences], color=\"k\", width=0.6)\n",
    "        ax.set_xlim([-.5, 1.5])\n",
    "        ax.set_xticks(np.arange(len(vth_differences)))\n",
    "        if counter == 0:\n",
    "            ax.set_xticklabels([])\n",
    "        else:\n",
    "            ax.set_xticklabels([names[vth_differences[0]]+r\"$\\;\\;\\;\\;\\;\\;$\", names[vth_differences[1]]])\n",
    "        ax.set_ylim([-55, -15])\n",
    "        ax.set_yticks([-55, -15])\n",
    "        ax.set_ylabel(\"mV\", labelpad=-11)\n",
    "        plt.savefig(f\"../svg/panel_b3_{counter}.svg\")\n",
    "    plt.show()"
   ]
  },
  {
   "cell_type": "code",
   "execution_count": 109,
   "metadata": {},
   "outputs": [
    {
     "data": {
      "image/png": "[encoded data removed]",
      "text/plain": [
       "<Figure size 80x110 with 1 Axes>"
      ]
     },
     "metadata": {},
     "output_type": "display_data"
    },
    {
     "data": {
      "image/png": "[encoded data removed]",
      "text/plain": [
       "<Figure size 80x110 with 1 Axes>"
      ]
     },
     "metadata": {},
     "output_type": "display_data"
    }
   ],
   "source": [
    "for counter, ind in enumerate([config1_ind, config2_ind]):\n",
    "    with mpl.rc_context(fname=\"../../../.matplotlibrc\"):\n",
    "        conductance_inds = [0, 5, 10, 15, 25]\n",
    "        fig, ax = plt.subplots(1, 1, figsize=(0.8, 1.1))\n",
    "        delta_differences = delta_differences[:2]\n",
    "        ax.bar(np.arange(len(delta_differences)), theta_synaptic_close[ind, delta_differences], color=\"k\", width=0.6)\n",
    "        ax.set_xlim([-.5, 1.5])\n",
    "        ax.set_xticks(np.arange(len(delta_differences)))\n",
    "        if counter == 0:\n",
    "            ax.set_xticklabels([])\n",
    "        else:\n",
    "            ax.set_xticklabels([names[delta_differences[0]]+r\"$\\;\\;\\;\\;\\;\\;$\", names[delta_differences[1]]])\n",
    "        ax.set_ylim([0, 7])\n",
    "        ax.set_yticks([0, 7])\n",
    "        ax.set_ylabel(\"mV\", labelpad=-8)\n",
    "        plt.savefig(f\"../svg/panel_b4_{counter}.svg\")\n",
    "    plt.show()"
   ]
  },
  {
   "cell_type": "markdown",
   "metadata": {},
   "source": [
    "## Panel B: histograms over energy"
   ]
  },
  {
   "cell_type": "code",
   "execution_count": 110,
   "metadata": {},
   "outputs": [
    {
     "name": "stdout",
     "output_type": "stream",
     "text": [
      "Number of considered parameter sets:  76\n"
     ]
    }
   ],
   "source": [
    "hists = []\n",
    "bin_edges = []\n",
    "for config_ind in range(1):\n",
    "    sims_out = pd.read_pickle(f\"../../../results/energy_measure_comparison/simulation2_outputs_synapse_variation_config{config_ind}_50k.pkl\")\n",
    "    with open(f\"../../../results/energy_measure_comparison/theta2_synapse_variation_config{config_ind}_50k.pkl\", \"rb\") as handle:\n",
    "        theta_synaptic = pickle.load(handle)\n",
    "    with open(f\"../../../results/energy_measure_comparison/seeds2_synapse_variation_config{config_ind}_50k.pkl\", \"rb\") as handle:\n",
    "        seeds = pickle.load(handle)\n",
    "    theta_conductance = theta.loc[config_ind]\n",
    "\n",
    "    close = check_if_close_to_obs(sims_out.to_numpy(), sloppiness_durations=1.2, sloppiness_phases=2.0)\n",
    "\n",
    "    print(\"Number of considered parameter sets: \", np.sum(close))\n",
    "    sims_out_close = sims_out.loc[close]\n",
    "    energies_close = np.sum(sims_out_close[\"energies\"].to_numpy(), axis=1) / 10 / 1000\n",
    "    hist, bin_edge = np.histogram(energies_close, range=(0, 30), bins=50, density=True)\n",
    "    hists.append(hist)\n",
    "    bin_edges.append(bin_edge)"
   ]
  },
  {
   "cell_type": "code",
   "execution_count": 111,
   "metadata": {},
   "outputs": [
    {
     "data": {
      "text/plain": [
       "0.3970179751166631"
      ]
     },
     "execution_count": 111,
     "metadata": {},
     "output_type": "execute_result"
    }
   ],
   "source": [
    "min_ = np.min(sims_out_close[\"energies_per_spike\"][\"LP\"])\n",
    "max_ = np.max(sims_out_close[\"energies_per_spike\"][\"LP\"])\n",
    "(max_ - min_) / max_"
   ]
  },
  {
   "cell_type": "code",
   "execution_count": 112,
   "metadata": {},
   "outputs": [
    {
     "data": {
      "text/plain": [
       "0.3221991260835201"
      ]
     },
     "execution_count": 112,
     "metadata": {},
     "output_type": "execute_result"
    }
   ],
   "source": [
    "min_ = np.min(energies_close)\n",
    "max_ = np.max(energies_close)\n",
    "(max_ - min_) / max_"
   ]
  },
  {
   "cell_type": "code",
   "execution_count": 113,
   "metadata": {},
   "outputs": [
    {
     "data": {
      "image/png": "[encoded data removed]",
      "text/plain": [
       "<Figure size 120x110 with 1 Axes>"
      ]
     },
     "metadata": {},
     "output_type": "display_data"
    }
   ],
   "source": [
    "with mpl.rc_context(fname=\"../../../.matplotlibrc\"):\n",
    "    fig, ax = plt.subplots(1, 1, figsize=(1.2, 1.1))\n",
    "    for config_ind in range(1):\n",
    "#         ax.hist(bin_edges[config_ind][:-1], hists[config_ind], c=\"k\")\n",
    "        ax.hist(energies_close, range=(0, 30), bins=50, color=\"k\")\n",
    "    ax.set_xlabel(r\"Energy $\\mu J/s$\", labelpad=-6)\n",
    "    ax.set_ylabel(\"Counts\", labelpad=-6)\n",
    "    ax.set_xlim([0, 30])\n",
    "    ax.set_ylim([0, 16])\n",
    "    ax.set_yticks([0, 16])\n",
    "    ax.set_xticks([0, 30])\n",
    "    plt.savefig(\"../svg/panel_c.svg\")\n",
    "    plt.show()"
   ]
  },
  {
   "cell_type": "markdown",
   "metadata": {},
   "source": [
    "## Panel C"
   ]
  },
  {
   "cell_type": "code",
   "execution_count": 114,
   "metadata": {},
   "outputs": [
    {
     "name": "stdout",
     "output_type": "stream",
     "text": [
      "Number of considered parameter sets:  44\n",
      "Number of considered parameter sets:  6\n",
      "Number of considered parameter sets:  25\n",
      "Number of considered parameter sets:  5\n",
      "Number of considered parameter sets:  13\n",
      "Number of considered parameter sets:  21\n",
      "Number of considered parameter sets:  52\n",
      "Number of considered parameter sets:  39\n",
      "Number of considered parameter sets:  20\n",
      "Number of considered parameter sets:  37\n"
     ]
    }
   ],
   "source": [
    "all_potential_energy_savings = []\n",
    "for config_ind in range(10):\n",
    "    sims_out = pd.read_pickle(f\"../../../results/energy_measure_comparison/simulation_outputs_synapse_variation_config{config_ind}_50k.pkl\")\n",
    "    with open(f\"../../../results/energy_measure_comparison/theta_synapse_variation_config{config_ind}_50k.pkl\", \"rb\") as handle:\n",
    "        theta_synaptic = pickle.load(handle)\n",
    "    with open(f\"../../../results/energy_measure_comparison/seeds_synapse_variation_config{config_ind}_50k.pkl\", \"rb\") as handle:\n",
    "        seeds = pickle.load(handle)\n",
    "    theta_conductance = theta.loc[config_ind]\n",
    "\n",
    "    close = check_if_close_to_obs(sims_out.to_numpy(), sloppiness_durations=1.2, sloppiness_phases=2.0)\n",
    "\n",
    "    print(\"Number of considered parameter sets: \", np.sum(close))\n",
    "    sims_out_close = sims_out.loc[close]\n",
    "    energies_close = np.sum(sims_out_close[\"energies\"].to_numpy(), axis=1) / 10 / 1000\n",
    "    largest_energy = np.max(energies_close)\n",
    "    smallest_energy = np.min(energies_close)\n",
    "    \n",
    "    potential_energy_savings = (largest_energy - smallest_energy) / largest_energy\n",
    "    all_potential_energy_savings.append(potential_energy_savings)"
   ]
  },
  {
   "cell_type": "code",
   "execution_count": 115,
   "metadata": {},
   "outputs": [
    {
     "data": {
      "image/png": "[encoded data removed]",
      "text/plain": [
       "<Figure size 120x100 with 1 Axes>"
      ]
     },
     "metadata": {},
     "output_type": "display_data"
    }
   ],
   "source": [
    "with mpl.rc_context(fname=\"../../../.matplotlibrc\"):\n",
    "    fig, ax = plt.subplots(1, 1, figsize=(1.2, 1.0))\n",
    "    for a in all_potential_energy_savings:\n",
    "        ax.axvline(a, c=\"k\", linewidth=1.0)\n",
    "        \n",
    "    ax.axvline(0.8730947552560072, c=\"g\", linewidth=1.0)\n",
    "    ax.set_xlabel(\"Potential energy savings\")\n",
    "    ax.set_xticks([0, 1])\n",
    "    ax.set_yticks([])\n",
    "    ax.spines[\"left\"].set_visible(False)\n",
    "    ax.set_xticklabels([\"0%\", \"100%\"])\n",
    "    plt.savefig(\"../svg/panel_d.svg\")\n",
    "    plt.show()"
   ]
  },
  {
   "cell_type": "markdown",
   "metadata": {},
   "source": [
    "# Assemble figure"
   ]
  },
  {
   "cell_type": "code",
   "execution_count": 116,
   "metadata": {},
   "outputs": [],
   "source": [
    "import time\n",
    "import IPython.display as IPd\n",
    "\n",
    "def svg(img):\n",
    "    IPd.display(IPd.HTML('<img src=\"{}\" / >'.format(img, time.time())))"
   ]
  },
  {
   "cell_type": "code",
   "execution_count": 117,
   "metadata": {
    "tags": []
   },
   "outputs": [
    {
     "data": {
      "text/html": [
       "<img src=\"../fig/fig2_synaptic_variation.svg\" / >"
      ],
      "text/plain": [
       "<IPython.core.display.HTML object>"
      ]
     },
     "metadata": {},
     "output_type": "display_data"
    }
   ],
   "source": [
    "from svgutils.compose import *\n",
    "\n",
    "# > Inkscape pixel is 1/90 of an inch, other software usually uses 1/72.\n",
    "# > http://www.inkscapeforum.com/viewtopic.php?f=6&t=5964\n",
    "svg_scale = 1.25  # set this to 1.25 for Inkscape, 1.0 otherwise\n",
    "factor_svg=5.5\n",
    "\n",
    "# Panel letters in Helvetica Neue, 12pt, Medium\n",
    "kwargs_text = {'size': '12pt', 'font': 'Arial', 'weight': '800'}\n",
    "kwargs_consistent = {'size': '10pt', 'font': 'Arial', 'weight': '500', 'color': '#AF99EF'}\n",
    "kwargs_consistent1 = {'size': '10pt', 'font': 'Arial', 'weight': '500', 'color': '#9E7DD5'}\n",
    "kwargs_inconsistent = {'size': '10pt', 'font': 'Arial', 'weight': '500', 'color': '#AF99EF'}\n",
    "kwargs_text8pt = {'size': '7.7pt', 'font': 'Arial'}\n",
    "\n",
    "\n",
    "f = Figure(\"20.3cm\", \"6.5cm\",\n",
    "           \n",
    "    Panel(\n",
    "          SVG(\"../svg/panel_a_0.svg\").scale(svg_scale*1.03).move(0*factor_svg, 0*factor_svg),\n",
    "          Text(\"a\", 0*factor_svg, 2.2*factor_svg, **kwargs_text),\n",
    "    ).move(0*factor_svg, 0*factor_svg),\n",
    "           \n",
    "    Panel(\n",
    "          SVG(\"../svg/panel_a_1.svg\").scale(svg_scale*1.03).move(0*factor_svg, 0*factor_svg),\n",
    "    ).move(0*factor_svg, 21*factor_svg),\n",
    "    \n",
    "    Panel(\n",
    "          SVG(\"../svg/panel_b1_0.svg\").scale(svg_scale*1.03).move(0*factor_svg, 0*factor_svg),\n",
    "          Text(\"b\", 0*factor_svg, 2.3*factor_svg, **kwargs_text),\n",
    "    ).move(36*factor_svg, 0.1*factor_svg),\n",
    "           \n",
    "    Panel(\n",
    "          SVG(\"../svg/panel_b1_1.svg\").scale(svg_scale*1.03).move(0*factor_svg, 0*factor_svg),\n",
    "    ).move(36*factor_svg, 21.1*factor_svg),\n",
    "           \n",
    "    Panel(\n",
    "          SVG(\"../svg/panel_b2_0.svg\").scale(svg_scale*1.03).move(0*factor_svg, 0*factor_svg),\n",
    "    ).move(55*factor_svg, 0*factor_svg),\n",
    "           \n",
    "    Panel(\n",
    "          SVG(\"../svg/panel_b2_1.svg\").scale(svg_scale*1.03).move(0*factor_svg, 0*factor_svg),\n",
    "    ).move(55*factor_svg, 21*factor_svg),\n",
    "           \n",
    "    Panel(\n",
    "          SVG(\"../svg/panel_b3_0.svg\").scale(svg_scale*1.03).move(0*factor_svg, 0*factor_svg),\n",
    "    ).move(73*factor_svg, 0*factor_svg),\n",
    "           \n",
    "    Panel(\n",
    "          SVG(\"../svg/panel_b3_1.svg\").scale(svg_scale*1.03).move(0*factor_svg, 0*factor_svg),\n",
    "    ).move(73*factor_svg, 21*factor_svg),\n",
    "           \n",
    "    Panel(\n",
    "          SVG(\"../svg/panel_b4_0.svg\").scale(svg_scale*1.03).move(0*factor_svg, 0*factor_svg),\n",
    "    ).move(92*factor_svg, 0*factor_svg),\n",
    "           \n",
    "    Panel(\n",
    "          SVG(\"../svg/panel_b4_1.svg\").scale(svg_scale*1.03).move(0*factor_svg, 0*factor_svg),\n",
    "    ).move(92*factor_svg, 21*factor_svg),\n",
    "           \n",
    "    Panel(\n",
    "          SVG(\"../svg/panel_c.svg\").scale(svg_scale*1.03).move(0*factor_svg, 0*factor_svg),\n",
    "          Text(\"c\", -1*factor_svg, 2.2*factor_svg, **kwargs_text),\n",
    "    ).move(115.2*factor_svg, 0.0*factor_svg),\n",
    "           \n",
    "    Panel(\n",
    "          SVG(\"../svg/panel_d.svg\").scale(svg_scale*1.03).move(0*factor_svg, 0*factor_svg),\n",
    "          Text(\"d\", -3.1*factor_svg, 1.0*factor_svg, **kwargs_text),\n",
    "    ).move(117.3*factor_svg, 23.0*factor_svg),\n",
    "\n",
    ")\n",
    "\n",
    "!mkdir -p fig\n",
    "f.save(\"../fig/fig2_synaptic_variation.svg\")\n",
    "svg('../fig/fig2_synaptic_variation.svg')"
   ]
  },
  {
   "cell_type": "code",
   "execution_count": null,
   "metadata": {},
   "outputs": [],
   "source": []
  },
  {
   "cell_type": "code",
   "execution_count": null,
   "metadata": {},
   "outputs": [],
   "source": []
  }
 ],
 "metadata": {
  "kernelspec": {
   "display_name": "Python 3",
   "language": "python",
   "name": "python3"
  },
  "language_info": {
   "codemirror_mode": {
    "name": "ipython",
    "version": 3
   },
   "file_extension": ".py",
   "mimetype": "text/x-python",
   "name": "python",
   "nbconvert_exporter": "python",
   "pygments_lexer": "ipython3",
   "version": "3.8.10"
  }
 },
 "nbformat": 4,
 "nbformat_minor": 4
}
