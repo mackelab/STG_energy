{
 "cells": [
  {
   "cell_type": "code",
   "execution_count": 1,
   "metadata": {},
   "outputs": [],
   "source": [
    "%load_ext autoreload\n",
    "%autoreload 2"
   ]
  },
  {
   "cell_type": "code",
   "execution_count": 2,
   "metadata": {},
   "outputs": [],
   "source": [
    "import numpy as np\n",
    "import matplotlib.pylab as plt\n",
    "import time\n",
    "from copy import deepcopy\n",
    "\n",
    "import importlib\n",
    "import matplotlib as mpl\n",
    "import matplotlib.patches as mp\n",
    "import pandas as pd\n",
    "import torch\n",
    "from multiprocessing import Pool\n",
    "import pickle\n",
    "\n",
    "from pyloric import create_prior, simulate, summary_stats\n",
    "from stg_energy.common import col, svg, get_labels_8pt\n",
    "import stg_energy.fig2_inference.viz as viz\n",
    "from sbi.analysis import pairplot\n",
    "from stg_energy.common import check_if_close_to_obs\n",
    "import itertools"
   ]
  },
  {
   "cell_type": "markdown",
   "metadata": {},
   "source": [
    "# Figure 1"
   ]
  },
  {
   "cell_type": "code",
   "execution_count": 3,
   "metadata": {},
   "outputs": [],
   "source": [
    "pd.options.display.max_columns=999"
   ]
  },
  {
   "cell_type": "code",
   "execution_count": 4,
   "metadata": {},
   "outputs": [],
   "source": [
    "import sbi"
   ]
  },
  {
   "cell_type": "code",
   "execution_count": 5,
   "metadata": {},
   "outputs": [],
   "source": [
    "from sbi.utils.user_input_checks_utils import PytorchReturnTypeWrapper"
   ]
  },
  {
   "cell_type": "code",
   "execution_count": 6,
   "metadata": {},
   "outputs": [],
   "source": [
    "PANEL_A = '../svg/panel_a.svg'\n",
    "PANEL_B = '../svg/panel_b.svg'\n",
    "PANEL_C = '../svg/panel_c.svg'\n",
    "PANEL_D = '../svg/panel_d.svg'\n",
    "PANEL_E = '../svg/panel_e.svg'\n",
    "PANEL_F = '../svg/panel_f.svg'\n",
    "PANEL_G = '../svg/panel_g.svg'\n",
    "PANEL_H = '../svg/panel_h.svg'\n",
    "PANEL_I = '../svg/panel_i.svg'"
   ]
  },
  {
   "cell_type": "markdown",
   "metadata": {},
   "source": [
    "### Select the simulations that were close"
   ]
  },
  {
   "cell_type": "code",
   "execution_count": 7,
   "metadata": {},
   "outputs": [],
   "source": [
    "path = \"../../../results/simulation_data_Tube_MLslurm_cluster/01_simulate_11deg/data\"\n",
    "theta = pd.read_pickle(path + '/all_circuit_parameters.pkl')\n",
    "x = pd.read_pickle(path + '/all_simulation_outputs.pkl')\n",
    "seeds = np.load(path + '/all_seeds.npy')\n",
    "theta_np = theta.to_numpy()\n",
    "x_np = x.to_numpy()"
   ]
  },
  {
   "cell_type": "markdown",
   "metadata": {},
   "source": [
    "### Load network"
   ]
  },
  {
   "cell_type": "code",
   "execution_count": 8,
   "metadata": {},
   "outputs": [],
   "source": [
    "prior = create_prior(as_torch_dist=True)\n",
    "lower_bound = prior.support.base_constraint.lower_bound\n",
    "upper_bound = prior.support.base_constraint.upper_bound\n",
    "prior_pd = create_prior()\n",
    "lims = np.asarray([lower_bound.numpy(), upper_bound.numpy()]).T\n",
    "# dimensions = 31\n",
    "# lims = np.asarray([-np.sqrt(3)*np.ones(dimensions), np.sqrt(3)*np.ones(dimensions)]).T"
   ]
  },
  {
   "cell_type": "markdown",
   "metadata": {},
   "source": [
    "# Panel B: experimental data"
   ]
  },
  {
   "cell_type": "code",
   "execution_count": 9,
   "metadata": {},
   "outputs": [],
   "source": [
    "npz = np.load('../../../results/experimental_data/trace_data_845_082_0044.npz')\n",
    "t = npz['t']\n",
    "PD_spikes = npz['PD_spikes']\n",
    "LP_spikes = npz['LP_spikes']\n",
    "PY_spikes = npz['PY_spikes']\n",
    "pdn = npz['pdn']\n",
    "lpn = npz['lpn']\n",
    "pyn = npz['pyn']"
   ]
  },
  {
   "cell_type": "markdown",
   "metadata": {},
   "source": [
    "# Panel D: posterior samples"
   ]
  },
  {
   "cell_type": "code",
   "execution_count": 10,
   "metadata": {},
   "outputs": [],
   "source": [
    "from sbi.utils import BoxUniform"
   ]
  },
  {
   "cell_type": "code",
   "execution_count": 11,
   "metadata": {},
   "outputs": [],
   "source": [
    "esglut_mean = -70\n",
    "kminusglut_mean = 40\n",
    "eschol_mean = -80\n",
    "kminuschol_mean = 100\n",
    "vth_mean = 100\n",
    "delta_mean = 5\n",
    "\n",
    "esglut_diff = 20\n",
    "kminusglut_diff = 15\n",
    "eschol_diff = 20\n",
    "kminuschol_diff = 20\n",
    "vth_diff = 20\n",
    "delta_diff = 2\n",
    "\n",
    "diffs = [[esglut_diff]*5, [kminusglut_diff]*5, [eschol_diff]*2, [kminuschol_diff]*2, [vth_diff]*7, [delta_diff]*7]\n",
    "diffs = list(itertools.chain(*diffs))\n",
    "\n",
    "means = [[esglut_mean]*5, [kminusglut_mean]*5, [eschol_mean]*2, [kminuschol_mean]*2, [vth_mean]*7, [delta_mean]*7]\n",
    "means = list(itertools.chain(*means))\n",
    "\n",
    "diff = torch.tensor(diffs)\n",
    "mean = torch.tensor(means)\n",
    "prior_size = 2.0\n",
    "prior_synapses = BoxUniform(mean-diff*prior_size, mean+diff*prior_size)"
   ]
  },
  {
   "cell_type": "code",
   "execution_count": 12,
   "metadata": {},
   "outputs": [],
   "source": [
    "def my_simulator(params_with_seeds):\n",
    "    p1 = create_prior()\n",
    "    pars = p1.sample((1,))\n",
    "    column_names = pars.columns\n",
    "\n",
    "    parameter_set_pd = pd.DataFrame(\n",
    "        np.asarray([params_with_seeds[:-1]]), columns=column_names\n",
    "    )\n",
    "    out_target = simulate(\n",
    "        parameter_set_pd.loc[0],\n",
    "        seed=int(params_with_seeds[-1]),\n",
    "        dt=0.025,\n",
    "        t_max=11000,\n",
    "        temperature=283,\n",
    "        noise_std=0.001,\n",
    "        track_energy=True,\n",
    "        energy_measure=\"current\"\n",
    "    )\n",
    "    custom_stats = {\n",
    "        \"plateau_durations\": True,\n",
    "        \"num_bursts\": True,\n",
    "        \"num_spikes\": True,\n",
    "        \"energies\": True,\n",
    "        \"energies_per_burst\": True,\n",
    "        \"energies_per_spike\": True,\n",
    "        \"pyloric_like\": True,\n",
    "    }\n",
    "    return summary_stats(out_target, stats_customization=custom_stats, t_burn_in=1000)"
   ]
  },
  {
   "cell_type": "code",
   "execution_count": 13,
   "metadata": {},
   "outputs": [],
   "source": [
    "def my_simulator_synaptic(theta_synaptic):\n",
    "    \n",
    "    Esglut=theta_synaptic[0:5].tolist()\n",
    "    kminusglut=theta_synaptic[5:10].tolist()\n",
    "    Eschol=theta_synaptic[10:12].tolist()\n",
    "    kminuschol=theta_synaptic[12:14].tolist()\n",
    "    Vth=theta_synaptic[14:21].tolist()\n",
    "    Delta=theta_synaptic[21:28].tolist()\n",
    "    seed=theta_synaptic[28].item()\n",
    "    \n",
    "    out_target = simulate(\n",
    "        theta_conductance,\n",
    "        seed=int(seed),\n",
    "        dt=0.025,\n",
    "        t_max=11000,\n",
    "        temperature=283,\n",
    "        noise_std=0.001,\n",
    "        track_energy=True,\n",
    "        Esglut=Esglut, \n",
    "        kminusglut=kminusglut, \n",
    "        Eschol=Eschol, \n",
    "        kminuschol=kminuschol, \n",
    "        Vth=Vth, \n",
    "        Delta=Delta\n",
    "    )\n",
    "    custom_stats = {\n",
    "        \"plateau_durations\": True,\n",
    "        \"num_bursts\": True,\n",
    "        \"num_spikes\": True,\n",
    "        \"energies\": True,\n",
    "        \"energies_per_burst\": True,\n",
    "        \"energies_per_spike\": True,\n",
    "        \"pyloric_like\": True,\n",
    "    }\n",
    "    return summary_stats(out_target, stats_customization=custom_stats, t_burn_in=1000)"
   ]
  },
  {
   "cell_type": "code",
   "execution_count": 14,
   "metadata": {},
   "outputs": [],
   "source": [
    "data_np = theta.to_numpy()\n",
    "params_with_seeds = np.concatenate((data_np, seeds[:, None]), axis=1)"
   ]
  },
  {
   "cell_type": "code",
   "execution_count": 15,
   "metadata": {},
   "outputs": [
    {
     "name": "stdout",
     "output_type": "stream",
     "text": [
      "Simulation time 1.2367897033691406\n"
     ]
    }
   ],
   "source": [
    "with Pool(16) as pool:\n",
    "    start_time = time.time()\n",
    "    data1 = pool.map(my_simulator, params_with_seeds[:10])\n",
    "    print(\"Simulation time\", time.time() - start_time)\n",
    "\n",
    "sims_out1 = pd.concat(data1, ignore_index=True)"
   ]
  },
  {
   "cell_type": "code",
   "execution_count": 16,
   "metadata": {},
   "outputs": [
    {
     "name": "stdout",
     "output_type": "stream",
     "text": [
      "[False False False False False False False False False False]\n"
     ]
    }
   ],
   "source": [
    "close = check_if_close_to_obs(sims_out1.to_numpy(), sloppiness_durations=1.0, sloppiness_phases=1.0)\n",
    "print(close)"
   ]
  },
  {
   "cell_type": "code",
   "execution_count": 17,
   "metadata": {},
   "outputs": [],
   "source": [
    "time_vec = np.arange(0, 11000, 0.025)"
   ]
  },
  {
   "cell_type": "code",
   "execution_count": 18,
   "metadata": {},
   "outputs": [],
   "source": [
    "num_sims = 50000"
   ]
  },
  {
   "cell_type": "code",
   "execution_count": 19,
   "metadata": {
    "tags": []
   },
   "outputs": [],
   "source": [
    "# for config_ind in range(10):\n",
    "#     theta_conductance = theta.loc[config_ind]\n",
    "#     print(\"============== \", config_ind)\n",
    "    \n",
    "#     for seed in range(50):\n",
    "#         _ = torch.manual_seed(seed)\n",
    "#         seeds = torch.randint(0, 1000000, (int(num_sims / 50),)).unsqueeze(1)\n",
    "#         theta_synaptic = prior_synapses.sample((int(num_sims / 50),))\n",
    "#         params_with_seeds = torch.cat([theta_synaptic, seeds], dim=1)\n",
    "\n",
    "#         with Pool(16) as pool:\n",
    "#             start_time = time.time()\n",
    "#             data1 = pool.map(my_simulator_synaptic, params_with_seeds)\n",
    "#             print(\"Simulation time\", time.time() - start_time)\n",
    "\n",
    "#         sims_out1 = pd.concat(data1, ignore_index=True)\n",
    "#         sims_out1.to_pickle(f\"../../../results/energy_measure_comparison/simulation_outputs_synapse_variation_config{config_ind}_{seed}.pkl\")\n",
    "#         with open(f\"../../../results/energy_measure_comparison/theta_synapse_variation_config{config_ind}_{seed}.pkl\", \"wb\") as handle:\n",
    "#             pickle.dump(theta_synaptic, handle)\n",
    "#         with open(f\"../../../results/energy_measure_comparison/seeds_synapse_variation_config{config_ind}_{seed}.pkl\", \"wb\") as handle:\n",
    "#             pickle.dump(seeds, handle)"
   ]
  },
  {
   "cell_type": "code",
   "execution_count": 20,
   "metadata": {},
   "outputs": [],
   "source": [
    "# for config_ind in range(10):\n",
    "#     all_sims = []\n",
    "#     all_theta = []\n",
    "#     all_seeds = []\n",
    "#     for seed in range(50):\n",
    "#         sims_out1 = pd.read_pickle(f\"../../../results/energy_measure_comparison/simulation_outputs_synapse_variation_config{config_ind}_{seed}.pkl\")\n",
    "#         with open(f\"../../../results/energy_measure_comparison/theta_synapse_variation_config{config_ind}_{seed}.pkl\", \"rb\") as handle:\n",
    "#             theta_synaptic = pickle.load(handle)\n",
    "#         with open(f\"../../../results/energy_measure_comparison/seeds_synapse_variation_config{config_ind}_{seed}.pkl\", \"rb\") as handle:\n",
    "#             seeds = pickle.load(handle)\n",
    "            \n",
    "#         all_sims.append(sims_out1)\n",
    "#         all_theta.append(theta_synaptic)\n",
    "#         all_seeds.append(seeds)\n",
    "#     all_sims = pd.concat(all_sims, ignore_index=True)\n",
    "#     all_theta = torch.cat(all_theta)\n",
    "#     all_seeds = torch.cat(all_seeds)\n",
    "    \n",
    "#     all_sims.to_pickle(f\"../../../results/energy_measure_comparison/simulation_outputs_synapse_variation_config{config_ind}_50k.pkl\")\n",
    "#     with open(f\"../../../results/energy_measure_comparison/theta_synapse_variation_config{config_ind}_50k.pkl\", \"wb\") as handle:\n",
    "#         pickle.dump(all_theta, handle)\n",
    "#     with open(f\"../../../results/energy_measure_comparison/seeds_synapse_variation_config{config_ind}_50k.pkl\", \"wb\") as handle:\n",
    "#         pickle.dump(all_seeds, handle)"
   ]
  },
  {
   "cell_type": "markdown",
   "metadata": {},
   "source": [
    "## Panel A: Similar traces from disparate synaptic conductances"
   ]
  },
  {
   "cell_type": "markdown",
   "metadata": {},
   "source": [
    "### First, identify two configurations that are very dissimilar"
   ]
  },
  {
   "cell_type": "code",
   "execution_count": 21,
   "metadata": {
    "tags": []
   },
   "outputs": [
    {
     "name": "stdout",
     "output_type": "stream",
     "text": [
      "close 21\n",
      "0 16\n",
      "num of large differences: 10\n",
      "Inds of difference: (array([ 5,  6,  7, 12, 17, 21, 23, 25, 26, 27]),)\n",
      "1 9\n",
      "num of large differences: 9\n",
      "Inds of difference: (array([ 1,  6,  8,  9, 10, 14, 18, 23, 25]),)\n",
      "2 11\n",
      "num of large differences: 9\n",
      "Inds of difference: (array([ 1,  6, 15, 17, 18, 19, 20, 24, 25]),)\n",
      "3 6\n",
      "num of large differences: 10\n",
      "Inds of difference: (array([ 3, 10, 12, 14, 15, 16, 18, 21, 24, 25]),)\n",
      "3 8\n",
      "num of large differences: 10\n",
      "Inds of difference: (array([ 1, 10, 14, 15, 16, 18, 19, 23, 24, 25]),)\n",
      "3 11\n",
      "num of large differences: 10\n",
      "Inds of difference: (array([ 1,  3, 15, 16, 17, 18, 19, 20, 25, 26]),)\n",
      "4 11\n",
      "num of large differences: 9\n",
      "Inds of difference: (array([ 1,  6,  7,  8, 17, 18, 20, 23, 25]),)\n",
      "6 3\n",
      "num of large differences: 10\n",
      "Inds of difference: (array([ 3, 10, 12, 14, 15, 16, 18, 21, 24, 25]),)\n",
      "6 20\n",
      "num of large differences: 9\n",
      "Inds of difference: (array([ 3,  5,  8, 12, 14, 15, 17, 21, 25]),)\n",
      "7 9\n",
      "num of large differences: 10\n",
      "Inds of difference: (array([ 1,  3,  5,  8,  9, 12, 19, 23, 25, 26]),)\n",
      "8 3\n",
      "num of large differences: 10\n",
      "Inds of difference: (array([ 1, 10, 14, 15, 16, 18, 19, 23, 24, 25]),)\n",
      "9 1\n",
      "num of large differences: 9\n",
      "Inds of difference: (array([ 1,  6,  8,  9, 10, 14, 18, 23, 25]),)\n",
      "9 7\n",
      "num of large differences: 10\n",
      "Inds of difference: (array([ 1,  3,  5,  8,  9, 12, 19, 23, 25, 26]),)\n",
      "11 2\n",
      "num of large differences: 9\n",
      "Inds of difference: (array([ 1,  6, 15, 17, 18, 19, 20, 24, 25]),)\n",
      "11 3\n",
      "num of large differences: 10\n",
      "Inds of difference: (array([ 1,  3, 15, 16, 17, 18, 19, 20, 25, 26]),)\n",
      "11 4\n",
      "num of large differences: 9\n",
      "Inds of difference: (array([ 1,  6,  7,  8, 17, 18, 20, 23, 25]),)\n",
      "16 0\n",
      "num of large differences: 10\n",
      "Inds of difference: (array([ 5,  6,  7, 12, 17, 21, 23, 25, 26, 27]),)\n",
      "17 19\n",
      "num of large differences: 9\n",
      "Inds of difference: (array([ 3,  5,  7, 15, 17, 18, 19, 22, 26]),)\n",
      "19 17\n",
      "num of large differences: 9\n",
      "Inds of difference: (array([ 3,  5,  7, 15, 17, 18, 19, 22, 26]),)\n",
      "20 6\n",
      "num of large differences: 9\n",
      "Inds of difference: (array([ 3,  5,  8, 12, 14, 15, 17, 21, 25]),)\n"
     ]
    }
   ],
   "source": [
    "config_ind = 0\n",
    "sims_out = pd.read_pickle(f\"../../../results/energy_measure_comparison/simulation_outputs_synapse_variation_config{config_ind}_50k.pkl\")\n",
    "with open(f\"../../../results/energy_measure_comparison/theta_synapse_variation_config{config_ind}_50k.pkl\", \"rb\") as handle:\n",
    "    theta_synaptic = pickle.load(handle)\n",
    "with open(f\"../../../results/energy_measure_comparison/seeds_synapse_variation_config{config_ind}_50k.pkl\", \"rb\") as handle:\n",
    "    seeds = pickle.load(handle)\n",
    "theta_conductance = theta.loc[config_ind]\n",
    "\n",
    "close = check_if_close_to_obs(sims_out.to_numpy(), sloppiness_durations=1.0, sloppiness_phases=1.0)\n",
    "\n",
    "theta_synaptic_close = theta_synaptic[close]\n",
    "seeds_close = seeds[close]\n",
    "sims_out_close = sims_out.loc[close]\n",
    "\n",
    "print(\"close\", np.sum(close))\n",
    "\n",
    "for index1 in range(len(seeds_close)):\n",
    "    for index2 in range(len(seeds_close)):\n",
    "        syanptic_conductances1 = theta_synaptic_close[index1]\n",
    "        syanptic_conductances2 = theta_synaptic_close[index2]\n",
    "        \n",
    "        absolute_difference = np.abs(syanptic_conductances1 - syanptic_conductances2)\n",
    "        z_scored_diff = absolute_difference / np.asarray(diffs)\n",
    "        \n",
    "        num_of_large_differences = np.sum(z_scored_diff.numpy() > 2.0)\n",
    "        if num_of_large_differences > 8:\n",
    "            print(index1, index2)\n",
    "            print(f\"num of large differences: {num_of_large_differences}\")\n",
    "            print(f\"Inds of difference: {np.where(z_scored_diff.numpy() > 2.0)}\")"
   ]
  },
  {
   "cell_type": "code",
   "execution_count": 22,
   "metadata": {},
   "outputs": [
    {
     "name": "stdout",
     "output_type": "stream",
     "text": [
      "[ 1 10]\n",
      "[6 8 9]\n",
      "[14 18]\n",
      "[23 25]\n"
     ]
    }
   ],
   "source": [
    "large_difference_inds = np.asarray([ 1,  6,  8,  9, 10, 14, 18, 23, 25])\n",
    "\n",
    "es_condition = np.bitwise_or(large_difference_inds < 5.0, np.bitwise_and(large_difference_inds < 12., large_difference_inds > 9.))\n",
    "es_differences = large_difference_inds[es_condition]\n",
    "\n",
    "kminus_condition = np.bitwise_or(np.bitwise_and(large_difference_inds < 10., large_difference_inds > 4.), np.bitwise_and(large_difference_inds < 13., large_difference_inds > 11.))\n",
    "kminus_differences = large_difference_inds[kminus_condition]\n",
    "\n",
    "vth_condition = np.bitwise_and(large_difference_inds < 21., large_difference_inds > 13.)\n",
    "vth_differences = large_difference_inds[vth_condition]\n",
    "\n",
    "delta_condition = large_difference_inds > 20.\n",
    "delta_differences = large_difference_inds[delta_condition]\n",
    "print(es_differences)\n",
    "print(kminus_differences)\n",
    "print(vth_differences)\n",
    "print(delta_differences)"
   ]
  },
  {
   "cell_type": "markdown",
   "metadata": {},
   "source": [
    "### Then plot them"
   ]
  },
  {
   "cell_type": "code",
   "execution_count": 23,
   "metadata": {},
   "outputs": [],
   "source": [
    "config_ind = 0\n",
    "sims_out = pd.read_pickle(f\"../../../results/energy_measure_comparison/simulation_outputs_synapse_variation_config{config_ind}_50k.pkl\")\n",
    "with open(f\"../../../results/energy_measure_comparison/theta_synapse_variation_config{config_ind}_50k.pkl\", \"rb\") as handle:\n",
    "    theta_synaptic = pickle.load(handle)\n",
    "with open(f\"../../../results/energy_measure_comparison/seeds_synapse_variation_config{config_ind}_50k.pkl\", \"rb\") as handle:\n",
    "    seeds = pickle.load(handle)\n",
    "theta_conductance = theta.loc[config_ind]\n",
    "\n",
    "close = check_if_close_to_obs(sims_out.to_numpy(), sloppiness_durations=1.0, sloppiness_phases=1.0)\n",
    "\n",
    "theta_synaptic_close = theta_synaptic[close]\n",
    "seeds_close = seeds[close]\n",
    "sims_out_close = sims_out.loc[close]\n",
    "\n",
    "config1_ind = 1\n",
    "config2_ind = 9\n",
    "\n",
    "out_targets = []\n",
    "for inds in [config1_ind, config2_ind]:\n",
    "    Esglut=theta_synaptic_close[inds][0:5].tolist()\n",
    "    kminusglut=theta_synaptic_close[inds][5:10].tolist()\n",
    "    Eschol=theta_synaptic_close[inds][10:12].tolist()\n",
    "    kminuschol=theta_synaptic_close[inds][12:14].tolist()\n",
    "    Vth=theta_synaptic_close[inds][14:21].tolist()\n",
    "    Delta=theta_synaptic_close[inds][21:28].tolist()\n",
    "\n",
    "    out_target = simulate(\n",
    "        theta_conductance,\n",
    "        seed=int(seeds_close[inds]),\n",
    "        dt=0.025,\n",
    "        t_max=11000,\n",
    "        temperature=283,\n",
    "        noise_std=0.001,\n",
    "        Esglut=Esglut, \n",
    "        kminusglut=kminusglut, \n",
    "        Eschol=Eschol, \n",
    "        kminuschol=kminuschol, \n",
    "        Vth=Vth, \n",
    "        Delta=Delta,\n",
    "        track_energy=True,\n",
    "    )\n",
    "    out_targets.append(out_target)"
   ]
  },
  {
   "cell_type": "code",
   "execution_count": 24,
   "metadata": {},
   "outputs": [
    {
     "data": {
      "image/png": "[encoded data removed]",
      "text/plain": [
       "<Figure size 220x130 with 1 Axes>"
      ]
     },
     "metadata": {},
     "output_type": "display_data"
    },
    {
     "data": {
      "image/png": "[encoded data removed]",
      "text/plain": [
       "<Figure size 220x130 with 1 Axes>"
      ]
     },
     "metadata": {},
     "output_type": "display_data"
    }
   ],
   "source": [
    "with mpl.rc_context(fname=\"../../../.matplotlibrc\"):\n",
    "    offsets=[42000, 46000]\n",
    "    for ind in range(2):\n",
    "        fig, ax = plt.subplots(1,1,figsize=(2.2, 1.3))\n",
    "        viz.vis_sample_plain(\n",
    "            voltage_trace=out_targets[ind],\n",
    "            t=time_vec,\n",
    "            axV=ax,\n",
    "            time_len=110000,\n",
    "            offset=offsets[ind],\n",
    "            col=\"k\",\n",
    "            scale_bar=True,\n",
    "            scale_bar_voltage=True,\n",
    "            print_label=False,\n",
    "        )\n",
    "#         plt.savefig(f\"../svg/panel_a_{ind}.svg\")\n",
    "        plt.show()"
   ]
  },
  {
   "cell_type": "code",
   "execution_count": 25,
   "metadata": {},
   "outputs": [],
   "source": [
    "names = np.asarray([\n",
    "    r\"$E_s$\"+\"\\nAB-LP\", \n",
    "    r\"$E_s$\"+\"\\nAB-PY\", \n",
    "    r\"$E_s$\"+\"\\nLP-AB\", \n",
    "    r\"$E_s$\"+\"\\nLP-PY\", \n",
    "    r\"$E_s$\"+\"\\nPY-LP\", \n",
    "    r\"$k_-$\"+\"\\nAB-LP\", \n",
    "    r\"$k_-$\"+\"\\nAB-PY\", \n",
    "    r\"$k_-$\"+\"\\nLP-AB\", \n",
    "    r\"$k_-$\"+\"\\nLP-PY\", \n",
    "    r\"$k_-$\"+\"\\nPY-LP\", \n",
    "    r\"$E_s$\"+\"\\nPD-LP\", \n",
    "    r\"$E_s$\"+\"\\nPD-PY\", \n",
    "    r\"$k_-$\"+\"\\nPD-LP\", \n",
    "    r\"$k_-$\"+\"\\nPD-PY\", \n",
    "    r\"$V_{th}$\"+\"\\nAB-LP\", \n",
    "    r\"$V_{th}$\"+\"\\nPD-LP\", \n",
    "    r\"$V_{th}$\"+\"\\nAB-PY\", \n",
    "    r\"$V_{th}$\"+\"\\nPD-PY\", \n",
    "    r\"$V_{th}$\"+\"\\nLP-AB\", \n",
    "    r\"$V_{th}$\"+\"\\nLP-PY\", \n",
    "    r\"$V_{th}$\"+\"\\nPY-LP\", \n",
    "    r\"$\\Delta$\"+\"\\nAB-LP\", \n",
    "    r\"$\\Delta$\"+\"\\nPD-LP\", \n",
    "    r\"$\\Delta$\"+\"\\nAB-PY\", \n",
    "    r\"$\\Delta$\"+\"\\nPD-PY\", \n",
    "    r\"$\\Delta$\"+\"\\nLP-AB\", \n",
    "    r\"$\\Delta$\"+\"\\nLP-PY\", \n",
    "    r\"$\\Delta$\"+\"\\nPY-LP\", \n",
    "])"
   ]
  },
  {
   "cell_type": "code",
   "execution_count": 26,
   "metadata": {},
   "outputs": [],
   "source": [
    "large_difference_inds = np.asarray([ 1,  6,  8,  9, 10, 14, 18, 23, 25])\n",
    "\n",
    "es_condition = np.bitwise_or(large_difference_inds < 5.0, np.bitwise_and(large_difference_inds < 12., large_difference_inds > 9.))\n",
    "es_differences = large_difference_inds[es_condition]\n",
    "\n",
    "kminus_condition = np.bitwise_or(np.bitwise_and(large_difference_inds < 10., large_difference_inds > 4.), np.bitwise_and(large_difference_inds < 13., large_difference_inds > 11.))\n",
    "kminus_differences = large_difference_inds[kminus_condition]\n",
    "\n",
    "vth_condition = np.bitwise_and(large_difference_inds < 21., large_difference_inds > 13.)\n",
    "vth_differences = large_difference_inds[vth_condition]\n",
    "\n",
    "delta_condition = large_difference_inds > 20.\n",
    "delta_differences = large_difference_inds[delta_condition]"
   ]
  },
  {
   "cell_type": "code",
   "execution_count": 27,
   "metadata": {},
   "outputs": [
    {
     "data": {
      "image/png": "[encoded data removed]",
      "text/plain": [
       "<Figure size 80x110 with 1 Axes>"
      ]
     },
     "metadata": {},
     "output_type": "display_data"
    },
    {
     "data": {
      "image/png": "[encoded data removed]",
      "text/plain": [
       "<Figure size 80x110 with 1 Axes>"
      ]
     },
     "metadata": {},
     "output_type": "display_data"
    }
   ],
   "source": [
    "for counter, ind in enumerate([config1_ind, config2_ind]):\n",
    "    with mpl.rc_context(fname=\"../../../.matplotlibrc\"):\n",
    "#         conductance_inds = [0, 5, 10, 15, 25]\n",
    "        fig, ax = plt.subplots(1, 1, figsize=(0.8, 1.1))\n",
    "        es_differences = es_differences[:2]\n",
    "        ax.bar(np.arange(len(es_differences)), theta_synaptic_close[ind, es_differences], color=\"k\", width=0.6)\n",
    "        ax.set_xlim([-.5, 1.5])\n",
    "        ax.set_xticks(np.arange(len(es_differences)))\n",
    "        if counter == 0:\n",
    "            ax.set_xticklabels([])\n",
    "        else:\n",
    "            ax.set_xticklabels([names[es_differences[0]]+r\"$\\;\\;\\;\\;\\;\\;$\", names[es_differences[1]]])\n",
    "        ax.set_ylim([-120, 0])\n",
    "        ax.set_yticks([-120, 0])\n",
    "        ax.set_ylabel(\"mV\", labelpad=-15)\n",
    "#         plt.savefig(f\"../svg/panel_b1_{counter}.svg\")\n",
    "    plt.show()"
   ]
  },
  {
   "cell_type": "code",
   "execution_count": 28,
   "metadata": {},
   "outputs": [
    {
     "data": {
      "image/png": "[encoded data removed]",
      "text/plain": [
       "<Figure size 80x110 with 1 Axes>"
      ]
     },
     "metadata": {},
     "output_type": "display_data"
    },
    {
     "data": {
      "image/png": "[encoded data removed]",
      "text/plain": [
       "<Figure size 80x110 with 1 Axes>"
      ]
     },
     "metadata": {},
     "output_type": "display_data"
    }
   ],
   "source": [
    "for counter, ind in enumerate([config1_ind, config2_ind]):\n",
    "    with mpl.rc_context(fname=\"../../../.matplotlibrc\"):\n",
    "        conductance_inds = [0, 5, 10, 15, 25]\n",
    "        fig, ax = plt.subplots(1, 1, figsize=(0.8, 1.1))\n",
    "        kminus_differences = kminus_differences[:2]\n",
    "        ax.bar(np.arange(len(kminus_differences)), theta_synaptic_close[ind, kminus_differences], color=\"k\", width=0.6)\n",
    "        ax.set_xlim([-.5, 1.5])\n",
    "        ax.set_xticks(np.arange(len(kminus_differences)))\n",
    "        if counter == 0:\n",
    "            ax.set_xticklabels([])\n",
    "        else:\n",
    "            ax.set_xticklabels([names[kminus_differences[0]]+r\"$\\;\\;\\;\\;\\;\\;$\", names[kminus_differences[1]]])\n",
    "        ax.set_ylim([0, 140])\n",
    "        ax.set_yticks([0, 140])\n",
    "        ax.set_ylabel(\"1 / ms\", labelpad=-11)\n",
    "#         plt.savefig(f\"../svg/panel_b2_{counter}.svg\")\n",
    "    plt.show()"
   ]
  },
  {
   "cell_type": "code",
   "execution_count": 29,
   "metadata": {},
   "outputs": [
    {
     "data": {
      "image/png": "[encoded data removed]",
      "text/plain": [
       "<Figure size 80x110 with 1 Axes>"
      ]
     },
     "metadata": {},
     "output_type": "display_data"
    },
    {
     "data": {
      "image/png": "[encoded data removed]",
      "text/plain": [
       "<Figure size 80x110 with 1 Axes>"
      ]
     },
     "metadata": {},
     "output_type": "display_data"
    }
   ],
   "source": [
    "for counter, ind in enumerate([config1_ind, config2_ind]):\n",
    "    with mpl.rc_context(fname=\"../../../.matplotlibrc\"):\n",
    "        conductance_inds = [0, 5, 10, 15, 25]\n",
    "        fig, ax = plt.subplots(1, 1, figsize=(0.8, 1.1))\n",
    "        vth_differences = vth_differences[:2]\n",
    "        ax.bar(np.arange(len(vth_differences)), theta_synaptic_close[ind, vth_differences], color=\"k\", width=0.6)\n",
    "        ax.set_xlim([-.5, 1.5])\n",
    "        ax.set_xticks(np.arange(len(vth_differences)))\n",
    "        if counter == 0:\n",
    "            ax.set_xticklabels([])\n",
    "        else:\n",
    "            ax.set_xticklabels([names[vth_differences[0]]+r\"$\\;\\;\\;\\;\\;\\;$\", names[vth_differences[1]]])\n",
    "        ax.set_ylim([0, 140])\n",
    "        ax.set_yticks([0, 140])\n",
    "        ax.set_ylabel(\"mV\", labelpad=-11)\n",
    "#         plt.savefig(f\"../svg/panel_b3_{counter}.svg\")\n",
    "    plt.show()"
   ]
  },
  {
   "cell_type": "code",
   "execution_count": 30,
   "metadata": {},
   "outputs": [
    {
     "data": {
      "image/png": "[encoded data removed]",
      "text/plain": [
       "<Figure size 80x110 with 1 Axes>"
      ]
     },
     "metadata": {},
     "output_type": "display_data"
    },
    {
     "data": {
      "image/png": "[encoded data removed]",
      "text/plain": [
       "<Figure size 80x110 with 1 Axes>"
      ]
     },
     "metadata": {},
     "output_type": "display_data"
    }
   ],
   "source": [
    "for counter, ind in enumerate([config1_ind, config2_ind]):\n",
    "    with mpl.rc_context(fname=\"../../../.matplotlibrc\"):\n",
    "        conductance_inds = [0, 5, 10, 15, 25]\n",
    "        fig, ax = plt.subplots(1, 1, figsize=(0.8, 1.1))\n",
    "        delta_differences = delta_differences[:2]\n",
    "        ax.bar(np.arange(len(delta_differences)), theta_synaptic_close[ind, delta_differences], color=\"k\", width=0.6)\n",
    "        ax.set_xlim([-.5, 1.5])\n",
    "        ax.set_xticks(np.arange(len(delta_differences)))\n",
    "        if counter == 0:\n",
    "            ax.set_xticklabels([])\n",
    "        else:\n",
    "            ax.set_xticklabels([names[delta_differences[0]]+r\"$\\;\\;\\;\\;\\;\\;$\", names[delta_differences[1]]])\n",
    "        ax.set_ylim([0, 10])\n",
    "        ax.set_yticks([0, 10])\n",
    "        ax.set_ylabel(\"mV\", labelpad=-8)\n",
    "#         plt.savefig(f\"../svg/panel_b4_{counter}.svg\")\n",
    "    plt.show()"
   ]
  },
  {
   "cell_type": "markdown",
   "metadata": {},
   "source": [
    "## Panel B: histograms over energy"
   ]
  },
  {
   "cell_type": "code",
   "execution_count": 31,
   "metadata": {},
   "outputs": [
    {
     "name": "stdout",
     "output_type": "stream",
     "text": [
      "Number of considered parameter sets:  44\n"
     ]
    }
   ],
   "source": [
    "hists = []\n",
    "bin_edges = []\n",
    "for config_ind in range(1):\n",
    "    sims_out = pd.read_pickle(f\"../../../results/energy_measure_comparison/simulation_outputs_synapse_variation_config{config_ind}_50k.pkl\")\n",
    "    with open(f\"../../../results/energy_measure_comparison/theta_synapse_variation_config{config_ind}_50k.pkl\", \"rb\") as handle:\n",
    "        theta_synaptic = pickle.load(handle)\n",
    "    with open(f\"../../../results/energy_measure_comparison/seeds_synapse_variation_config{config_ind}_50k.pkl\", \"rb\") as handle:\n",
    "        seeds = pickle.load(handle)\n",
    "    theta_conductance = theta.loc[config_ind]\n",
    "\n",
    "    close = check_if_close_to_obs(sims_out.to_numpy(), sloppiness_durations=1.2, sloppiness_phases=2.0)\n",
    "\n",
    "    print(\"Number of considered parameter sets: \", np.sum(close))\n",
    "    sims_out_close = sims_out.loc[close]\n",
    "    energies_close = np.sum(sims_out_close[\"energies\"].to_numpy(), axis=1) / 10 / 1000\n",
    "    hist, bin_edge = np.histogram(energies_close, range=(0, 30), bins=50, density=True)\n",
    "    hists.append(hist)\n",
    "    bin_edges.append(bin_edge)"
   ]
  },
  {
   "cell_type": "code",
   "execution_count": 32,
   "metadata": {},
   "outputs": [
    {
     "data": {
      "text/plain": [
       "0.34305397098429485"
      ]
     },
     "execution_count": 32,
     "metadata": {},
     "output_type": "execute_result"
    }
   ],
   "source": [
    "min_ = np.min(sims_out_close[\"energies_per_spike\"][\"LP\"])\n",
    "max_ = np.max(sims_out_close[\"energies_per_spike\"][\"LP\"])\n",
    "(max_ - min_) / max_"
   ]
  },
  {
   "cell_type": "code",
   "execution_count": 33,
   "metadata": {},
   "outputs": [
    {
     "data": {
      "text/plain": [
       "0.27681354720600587"
      ]
     },
     "execution_count": 33,
     "metadata": {},
     "output_type": "execute_result"
    }
   ],
   "source": [
    "min_ = np.min(energies_close)\n",
    "max_ = np.max(energies_close)\n",
    "(max_ - min_) / max_"
   ]
  },
  {
   "cell_type": "code",
   "execution_count": 34,
   "metadata": {},
   "outputs": [
    {
     "data": {
      "image/png": "[encoded data removed]",
      "text/plain": [
       "<Figure size 120x110 with 1 Axes>"
      ]
     },
     "metadata": {},
     "output_type": "display_data"
    }
   ],
   "source": [
    "with mpl.rc_context(fname=\"../../../.matplotlibrc\"):\n",
    "    fig, ax = plt.subplots(1, 1, figsize=(1.2, 1.1))\n",
    "    for config_ind in range(1):\n",
    "#         ax.hist(bin_edges[config_ind][:-1], hists[config_ind], c=\"k\")\n",
    "        ax.hist(energies_close, range=(0, 30), bins=50, color=\"k\")\n",
    "    ax.set_xlabel(r\"Energy $\\mu J/s$\", labelpad=-6)\n",
    "    ax.set_ylabel(\"Counts\", labelpad=-6)\n",
    "    ax.set_xlim([0, 30])\n",
    "    ax.set_ylim([0, 10])\n",
    "    ax.set_yticks([0, 10])\n",
    "    ax.set_xticks([0, 30])\n",
    "#     plt.savefig(\"../svg/panel_c.svg\")\n",
    "    plt.show()"
   ]
  },
  {
   "cell_type": "markdown",
   "metadata": {},
   "source": [
    "## Panel C"
   ]
  },
  {
   "cell_type": "code",
   "execution_count": 35,
   "metadata": {},
   "outputs": [
    {
     "name": "stdout",
     "output_type": "stream",
     "text": [
      "Number of considered parameter sets:  44\n",
      "Number of considered parameter sets:  6\n",
      "Number of considered parameter sets:  25\n",
      "Number of considered parameter sets:  5\n",
      "Number of considered parameter sets:  13\n",
      "Number of considered parameter sets:  21\n",
      "Number of considered parameter sets:  52\n",
      "Number of considered parameter sets:  39\n",
      "Number of considered parameter sets:  20\n",
      "Number of considered parameter sets:  37\n"
     ]
    }
   ],
   "source": [
    "all_potential_energy_savings = []\n",
    "for config_ind in range(10):\n",
    "    sims_out = pd.read_pickle(f\"../../../results/energy_measure_comparison/simulation_outputs_synapse_variation_config{config_ind}_50k.pkl\")\n",
    "    with open(f\"../../../results/energy_measure_comparison/theta_synapse_variation_config{config_ind}_50k.pkl\", \"rb\") as handle:\n",
    "        theta_synaptic = pickle.load(handle)\n",
    "    with open(f\"../../../results/energy_measure_comparison/seeds_synapse_variation_config{config_ind}_50k.pkl\", \"rb\") as handle:\n",
    "        seeds = pickle.load(handle)\n",
    "    theta_conductance = theta.loc[config_ind]\n",
    "\n",
    "    close = check_if_close_to_obs(sims_out.to_numpy(), sloppiness_durations=1.2, sloppiness_phases=2.0)\n",
    "\n",
    "    print(\"Number of considered parameter sets: \", np.sum(close))\n",
    "    sims_out_close = sims_out.loc[close]\n",
    "    energies_close = np.sum(sims_out_close[\"energies\"].to_numpy(), axis=1) / 10 / 1000\n",
    "    largest_energy = np.max(energies_close)\n",
    "    smallest_energy = np.min(energies_close)\n",
    "    \n",
    "    potential_energy_savings = (largest_energy - smallest_energy) / largest_energy\n",
    "    all_potential_energy_savings.append(potential_energy_savings)"
   ]
  },
  {
   "cell_type": "code",
   "execution_count": 36,
   "metadata": {},
   "outputs": [
    {
     "data": {
      "text/plain": [
       "[0.27681354720600587,\n",
       " 0.12581001388495588,\n",
       " 0.21811006317281717,\n",
       " 0.09683829186720996,\n",
       " 0.16021224314741273,\n",
       " 0.23785573560769688,\n",
       " 0.1940903166015602,\n",
       " 0.22815507278212882,\n",
       " 0.17443335060946916,\n",
       " 0.2687027606047978]"
      ]
     },
     "execution_count": 36,
     "metadata": {},
     "output_type": "execute_result"
    }
   ],
   "source": [
    "all_potential_energy_savings"
   ]
  },
  {
   "cell_type": "code",
   "execution_count": 37,
   "metadata": {},
   "outputs": [
    {
     "data": {
      "image/png": "[encoded data removed]",
      "text/plain": [
       "<Figure size 120x100 with 1 Axes>"
      ]
     },
     "metadata": {},
     "output_type": "display_data"
    }
   ],
   "source": [
    "with mpl.rc_context(fname=\"../../../.matplotlibrc\"):\n",
    "    fig, ax = plt.subplots(1, 1, figsize=(1.2, 1.0))\n",
    "    for a in all_potential_energy_savings:\n",
    "        ax.axvline(a, c=\"k\", linewidth=1.0)\n",
    "        \n",
    "    ax.axvline(0.8730947552560072, c=\"g\", linewidth=1.0)\n",
    "    ax.set_xlabel(\"Potential energy savings\")\n",
    "    ax.set_xticks([0, 1])\n",
    "    ax.set_yticks([])\n",
    "    ax.spines[\"left\"].set_visible(False)\n",
    "    ax.set_xticklabels([\"0%\", \"100%\"])\n",
    "#     plt.savefig(\"../svg/panel_d.svg\")\n",
    "    plt.show()"
   ]
  },
  {
   "cell_type": "markdown",
   "metadata": {},
   "source": [
    "# Assemble figure"
   ]
  },
  {
   "cell_type": "code",
   "execution_count": 38,
   "metadata": {},
   "outputs": [],
   "source": [
    "import time\n",
    "import IPython.display as IPd\n",
    "\n",
    "def svg(img):\n",
    "    IPd.display(IPd.HTML('<img src=\"{}\" / >'.format(img, time.time())))"
   ]
  },
  {
   "cell_type": "code",
   "execution_count": 72,
   "metadata": {
    "tags": []
   },
   "outputs": [
    {
     "data": {
      "text/html": [
       "<img src=\"../fig/fig2_synaptic_variation.svg\" / >"
      ],
      "text/plain": [
       "<IPython.core.display.HTML object>"
      ]
     },
     "metadata": {},
     "output_type": "display_data"
    }
   ],
   "source": [
    "from svgutils.compose import *\n",
    "\n",
    "# > Inkscape pixel is 1/90 of an inch, other software usually uses 1/72.\n",
    "# > http://www.inkscapeforum.com/viewtopic.php?f=6&t=5964\n",
    "svg_scale = 1.25  # set this to 1.25 for Inkscape, 1.0 otherwise\n",
    "factor_svg=5.5\n",
    "\n",
    "# Panel letters in Helvetica Neue, 12pt, Medium\n",
    "kwargs_text = {'size': '12pt', 'font': 'Arial', 'weight': '800'}\n",
    "kwargs_consistent = {'size': '10pt', 'font': 'Arial', 'weight': '500', 'color': '#AF99EF'}\n",
    "kwargs_consistent1 = {'size': '10pt', 'font': 'Arial', 'weight': '500', 'color': '#9E7DD5'}\n",
    "kwargs_inconsistent = {'size': '10pt', 'font': 'Arial', 'weight': '500', 'color': '#AF99EF'}\n",
    "kwargs_text8pt = {'size': '7.7pt', 'font': 'Arial'}\n",
    "\n",
    "\n",
    "f = Figure(\"20.3cm\", \"6.5cm\",\n",
    "           \n",
    "    Panel(\n",
    "          SVG(\"../svg/panel_a_0.svg\").scale(svg_scale*1.03).move(0*factor_svg, 0*factor_svg),\n",
    "          Text(\"a\", 0*factor_svg, 2.2*factor_svg, **kwargs_text),\n",
    "    ).move(0*factor_svg, 0*factor_svg),\n",
    "           \n",
    "    Panel(\n",
    "          SVG(\"../svg/panel_a_1.svg\").scale(svg_scale*1.03).move(0*factor_svg, 0*factor_svg),\n",
    "    ).move(0*factor_svg, 21*factor_svg),\n",
    "    \n",
    "    Panel(\n",
    "          SVG(\"../svg/panel_b1_0.svg\").scale(svg_scale*1.03).move(0*factor_svg, 0*factor_svg),\n",
    "          Text(\"b\", 0*factor_svg, 2.3*factor_svg, **kwargs_text),\n",
    "    ).move(36*factor_svg, 0.1*factor_svg),\n",
    "           \n",
    "    Panel(\n",
    "          SVG(\"../svg/panel_b1_1.svg\").scale(svg_scale*1.03).move(0*factor_svg, 0*factor_svg),\n",
    "    ).move(36*factor_svg, 21.1*factor_svg),\n",
    "           \n",
    "    Panel(\n",
    "          SVG(\"../svg/panel_b2_0.svg\").scale(svg_scale*1.03).move(0*factor_svg, 0*factor_svg),\n",
    "    ).move(55*factor_svg, 0*factor_svg),\n",
    "           \n",
    "    Panel(\n",
    "          SVG(\"../svg/panel_b2_1.svg\").scale(svg_scale*1.03).move(0*factor_svg, 0*factor_svg),\n",
    "    ).move(55*factor_svg, 21*factor_svg),\n",
    "           \n",
    "    Panel(\n",
    "          SVG(\"../svg/panel_b3_0.svg\").scale(svg_scale*1.03).move(0*factor_svg, 0*factor_svg),\n",
    "    ).move(73*factor_svg, 0*factor_svg),\n",
    "           \n",
    "    Panel(\n",
    "          SVG(\"../svg/panel_b3_1.svg\").scale(svg_scale*1.03).move(0*factor_svg, 0*factor_svg),\n",
    "    ).move(73*factor_svg, 21*factor_svg),\n",
    "           \n",
    "    Panel(\n",
    "          SVG(\"../svg/panel_b4_0.svg\").scale(svg_scale*1.03).move(0*factor_svg, 0*factor_svg),\n",
    "    ).move(92*factor_svg, 0*factor_svg),\n",
    "           \n",
    "    Panel(\n",
    "          SVG(\"../svg/panel_b4_1.svg\").scale(svg_scale*1.03).move(0*factor_svg, 0*factor_svg),\n",
    "    ).move(92*factor_svg, 21*factor_svg),\n",
    "           \n",
    "    Panel(\n",
    "          SVG(\"../svg/panel_c.svg\").scale(svg_scale*1.03).move(0*factor_svg, 0*factor_svg),\n",
    "          Text(\"c\", -1*factor_svg, 2.2*factor_svg, **kwargs_text),\n",
    "    ).move(115.2*factor_svg, 0.0*factor_svg),\n",
    "           \n",
    "    Panel(\n",
    "          SVG(\"../svg/panel_d.svg\").scale(svg_scale*1.03).move(0*factor_svg, 0*factor_svg),\n",
    "          Text(\"d\", -3.1*factor_svg, 1.0*factor_svg, **kwargs_text),\n",
    "    ).move(117.3*factor_svg, 23.0*factor_svg),\n",
    "\n",
    ")\n",
    "\n",
    "!mkdir -p fig\n",
    "f.save(\"../fig/fig2_synaptic_variation.svg\")\n",
    "svg('../fig/fig2_synaptic_variation.svg')"
   ]
  },
  {
   "cell_type": "code",
   "execution_count": null,
   "metadata": {},
   "outputs": [],
   "source": []
  },
  {
   "cell_type": "code",
   "execution_count": null,
   "metadata": {},
   "outputs": [],
   "source": []
  }
 ],
 "metadata": {
  "kernelspec": {
   "display_name": "Python 3",
   "language": "python",
   "name": "python3"
  },
  "language_info": {
   "codemirror_mode": {
    "name": "ipython",
    "version": 3
   },
   "file_extension": ".py",
   "mimetype": "text/x-python",
   "name": "python",
   "nbconvert_exporter": "python",
   "pygments_lexer": "ipython3",
   "version": "3.8.10"
  }
 },
 "nbformat": 4,
 "nbformat_minor": 4
}
