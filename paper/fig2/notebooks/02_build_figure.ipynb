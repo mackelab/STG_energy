{
 "cells": [
  {
   "cell_type": "code",
   "execution_count": 1,
   "metadata": {},
   "outputs": [],
   "source": [
    "import numpy as np\n",
    "import matplotlib.pylab as plt\n",
    "import time\n",
    "from copy import deepcopy\n",
    "\n",
    "import importlib\n",
    "import matplotlib as mpl\n",
    "import matplotlib.patches as mp\n",
    "import pandas as pd\n",
    "import torch\n",
    "\n",
    "from pyloric import create_prior, simulate, summary_stats\n",
    "from stg_energy.common import col, svg, get_labels_8pt\n",
    "import stg_energy.fig1_posterior.viz as viz\n",
    "from sbi.utils import pairplot"
   ]
  },
  {
   "cell_type": "markdown",
   "metadata": {},
   "source": [
    "# Figure 1"
   ]
  },
  {
   "cell_type": "code",
   "execution_count": 2,
   "metadata": {},
   "outputs": [],
   "source": [
    "pd.options.display.max_columns=999"
   ]
  },
  {
   "cell_type": "code",
   "execution_count": 3,
   "metadata": {},
   "outputs": [],
   "source": [
    "%load_ext autoreload\n",
    "%autoreload 2"
   ]
  },
  {
   "cell_type": "code",
   "execution_count": 4,
   "metadata": {},
   "outputs": [],
   "source": [
    "PANEL_A = '../svg/panel_a.svg'\n",
    "PANEL_B = '../svg/panel_b.svg'\n",
    "PANEL_C = '../svg/panel_c.svg'\n",
    "PANEL_D = '../svg/panel_d.svg'\n",
    "PANEL_E = '../svg/panel_e.svg'\n",
    "PANEL_F = '../svg/panel_f.svg'\n",
    "PANEL_G = '../svg/panel_g.svg'\n",
    "PANEL_H = '../svg/panel_h.svg'\n",
    "PANEL_I = '../svg/panel_i.svg'"
   ]
  },
  {
   "cell_type": "markdown",
   "metadata": {},
   "source": [
    "### Select the simulations that were close"
   ]
  },
  {
   "cell_type": "code",
   "execution_count": 5,
   "metadata": {},
   "outputs": [],
   "source": [
    "path = \"../../../results/simulation_data_Tube_MLslurm_cluster\"\n",
    "theta = pd.read_pickle(path + '/close_to_xo_circuit_parameters.pkl')\n",
    "x = pd.read_pickle(path + '/close_to_xo_simulation_outputs.pkl')\n",
    "seeds = np.load(path + '/close_to_xo_seeds.npy')\n",
    "theta_np = theta.to_numpy()\n",
    "x_np = x.to_numpy()"
   ]
  },
  {
   "cell_type": "code",
   "execution_count": 6,
   "metadata": {},
   "outputs": [
    {
     "data": {
      "text/plain": [
       "(35939, 31)"
      ]
     },
     "execution_count": 6,
     "metadata": {},
     "output_type": "execute_result"
    }
   ],
   "source": [
    "theta.to_numpy().shape"
   ]
  },
  {
   "cell_type": "markdown",
   "metadata": {},
   "source": [
    "### Load samples"
   ]
  },
  {
   "cell_type": "code",
   "execution_count": 7,
   "metadata": {},
   "outputs": [],
   "source": [
    "# outfile = '../../results/11deg_post_pred/11_deg_post_pred_close_to_obs.npz'\n",
    "# data_n = np.load(outfile)\n",
    "# sample_seeds = data_n[\"sample_seeds\"]\n",
    "# sample_params = data_n[\"sample_params\"]\n",
    "# sample_stats = data_n[\"sample_stats\"]\n",
    "# print('There are', len(sample_seeds), 'datapoints in this dataset')\n",
    "\n",
    "# stats_mean = np.mean(sample_stats, axis=0)\n",
    "# stats_std  = np.std(sample_stats, axis=0)"
   ]
  },
  {
   "cell_type": "markdown",
   "metadata": {},
   "source": [
    "### Load network"
   ]
  },
  {
   "cell_type": "code",
   "execution_count": 8,
   "metadata": {},
   "outputs": [],
   "source": [
    "prior = create_prior(as_torch_dist=True)\n",
    "lower_bound = prior.support.lower_bound\n",
    "upper_bound = prior.support.upper_bound\n",
    "prior_pd = create_prior()\n",
    "lims = np.asarray([lower_bound.numpy(), upper_bound.numpy()]).T\n",
    "# dimensions = 31\n",
    "# lims = np.asarray([-np.sqrt(3)*np.ones(dimensions), np.sqrt(3)*np.ones(dimensions)]).T"
   ]
  },
  {
   "cell_type": "code",
   "execution_count": 9,
   "metadata": {},
   "outputs": [],
   "source": [
    "# params_mean = prior.mean.numpy()\n",
    "# params_std = prior.stddev.numpy()"
   ]
  },
  {
   "cell_type": "code",
   "execution_count": 10,
   "metadata": {},
   "outputs": [],
   "source": [
    "# sample_params_norm = (sample_params - params_mean) / params_std"
   ]
  },
  {
   "cell_type": "markdown",
   "metadata": {},
   "source": [
    "# Panel B: experimental data"
   ]
  },
  {
   "cell_type": "code",
   "execution_count": 11,
   "metadata": {},
   "outputs": [],
   "source": [
    "npz = np.load('../../../results/experimental_data/trace_data_845_082_0044.npz')\n",
    "t = npz['t']\n",
    "PD_spikes = npz['PD_spikes']\n",
    "LP_spikes = npz['LP_spikes']\n",
    "PY_spikes = npz['PY_spikes']\n",
    "pdn = npz['pdn']\n",
    "lpn = npz['lpn']\n",
    "pyn = npz['pyn']"
   ]
  },
  {
   "cell_type": "code",
   "execution_count": 12,
   "metadata": {},
   "outputs": [],
   "source": [
    "start_index = 219500 + 2100\n",
    "end_index   = 246500 + 2100  # 32000\n",
    "height_offset = 200\n",
    "shown_t = t[end_index] - t[start_index]\n",
    "time_len = shown_t / 0.025 * 1000\n",
    "dt = t[1] - t[0]"
   ]
  },
  {
   "cell_type": "code",
   "execution_count": 13,
   "metadata": {},
   "outputs": [
    {
     "data": {
      "image/png": "[encoded data removed]",
      "text/plain": [
       "<Figure size 220x130 with 1 Axes>"
      ]
     },
     "metadata": {},
     "output_type": "display_data"
    }
   ],
   "source": [
    "with mpl.rc_context(fname='../../../.matplotlibrc'):\n",
    "    fig, ax = plt.subplots(1,1,figsize=(2.2, 1.3)) # (2.87, 2.08*3/4)\n",
    "    ax.plot(t[start_index:end_index], 2.5+pdn[start_index:end_index]*0.007, c=col['GT'], lw=0.8)\n",
    "    ax.plot(t[start_index:end_index], 1.2+lpn[start_index:end_index]*0.25, c=col['GT'], lw=0.8)\n",
    "    ax.plot(t[start_index:end_index], -0.1+pyn[start_index:end_index]*0.013, c=col['GT'], lw=0.8)\n",
    "    \n",
    "    linew = 0.4\n",
    "    headl = 0.06\n",
    "    headw = 0.16\n",
    "    linelen = 0.17\n",
    "    circlefact = 0.8\n",
    "    \n",
    "    # period arrow\n",
    "    height1 = 3.2\n",
    "    plt.arrow(t[start_index]+0.6, height1, 1.15, 0,  shape='full', head_width=headw, head_length=headl, length_includes_head=True, color='k', lw=linew)\n",
    "    plt.arrow(t[start_index]+1.75, height1, -1.15, 0,  shape='full', head_width=headw, head_length=headl, length_includes_head=True, color='k', lw=linew)\n",
    "    plt.plot([t[start_index]+0.6, t[start_index]+0.6], [height1-linelen,height1+linelen], c='k', lw=linew*1.5)\n",
    "    plt.plot([t[start_index]+1.75, t[start_index]+1.75], [height1-linelen,height1+linelen], c='k', lw=linew*1.5)\n",
    "    #patch =mp.Ellipse((t[start_index]+1.2, 3.65), 0.2*circlefact,0.6*circlefact, color='lightgray')\n",
    "    #ax.add_patch(patch)\n",
    "    \n",
    "    # delay arrow\n",
    "    height2 = 1.64\n",
    "    plt.arrow(t[start_index]+0.6, height2, 0.48, 0,  shape='full', head_width=headw, head_length=headl, length_includes_head=True, color='k', lw=linew)\n",
    "    plt.arrow(t[start_index]+1.08, height2, -0.48, 0,  shape='full', head_width=headw, head_length=headl, length_includes_head=True, color='k', lw=linew)\n",
    "    plt.plot([t[start_index]+0.6, t[start_index]+0.6], [height2-linelen,height2+linelen], c='k', lw=linew*1.5)\n",
    "    plt.plot([t[start_index]+1.08, t[start_index]+1.08], [height2-linelen,height2+linelen], c='k', lw=linew*1.5)\n",
    "    #patch =mp.Ellipse((t[start_index]+0.94, 2.1), 0.2*circlefact,0.6*circlefact, color='lightgray')\n",
    "    #ax.add_patch(patch)\n",
    "    \n",
    "    # gap arrow\n",
    "    plt.arrow(t[start_index]+1.98, height2, 0.27, 0,  shape='full', head_width=headw, head_length=headl, length_includes_head=True, color='k', lw=linew)\n",
    "    plt.arrow(t[start_index]+2.25, height2, -0.27, 0,  shape='full', head_width=headw, head_length=headl, length_includes_head=True, color='k', lw=linew)\n",
    "    plt.plot([t[start_index]+1.98, t[start_index]+1.98], [height2-linelen,height2+linelen], c='k', lw=linew*1.5)\n",
    "    plt.plot([t[start_index]+2.25, t[start_index]+2.25], [height2-linelen,height2+linelen], c='k', lw=linew*1.5)\n",
    "    #patch =mp.Ellipse((t[start_index]+2.1, 2.1), 0.2*circlefact,0.6*circlefact, color='lightgray')\n",
    "    #ax.add_patch(patch)\n",
    "    \n",
    "    # duration arrow\n",
    "    height4 = 0.44\n",
    "    plt.arrow(t[start_index]+1.33, height4, 0.43, 0,  shape='full', head_width=headw, head_length=headl, length_includes_head=True, color='k', lw=linew)\n",
    "    plt.arrow(t[start_index]+1.76, height4, -0.43, 0,  shape='full', head_width=headw, head_length=headl, length_includes_head=True, color='k', lw=linew)\n",
    "    plt.plot([t[start_index]+1.33, t[start_index]+1.33], [height4-linelen,height4+linelen], c='k', lw=linew*1.5)\n",
    "    plt.plot([t[start_index]+1.76, t[start_index]+1.76], [height4-linelen,height4+linelen], c='k', lw=linew*1.5)\n",
    "    #patch =mp.Ellipse((t[start_index]+1.55, 0.9), radius=0.2, color='lightgray')\n",
    "    #ax.add_patch(patch)\n",
    "    \n",
    "\n",
    "    ax.spines['right'].set_visible(False)\n",
    "    ax.spines['top'].set_visible(False)\n",
    "    ax.spines['bottom'].set_visible(False)\n",
    "    ax.spines['left'].set_visible(False)\n",
    "    ax.axes.get_yaxis().set_ticks([])\n",
    "    ax.axes.get_xaxis().set_ticks([])\n",
    "    ax.get_yaxis().set_visible(False)\n",
    "    ax.set_ylim([-0.95, 4.0])\n",
    "    \n",
    "    duration = 0.5\n",
    "    number_of_timesteps = int(duration / dt)\n",
    "    t_scale = np.linspace(t[start_index], t[start_index + number_of_timesteps], 2)\n",
    "    \n",
    "    ax.plot(t_scale, -0.8 * np.ones_like(t_scale), c='k', lw=1.0)\n",
    "    \n",
    "    plt.savefig(PANEL_B, facecolor='None', transparent=True)\n",
    "    plt.show()"
   ]
  },
  {
   "cell_type": "markdown",
   "metadata": {},
   "source": [
    "# Panel C: posterior"
   ]
  },
  {
   "cell_type": "code",
   "execution_count": 14,
   "metadata": {},
   "outputs": [],
   "source": [
    "# from decimal import Decimal\n",
    "# all_labels = []\n",
    "# for dim_i in range(31):\n",
    "#     if dim_i > len(params_mean) - 7.5: # synapses\n",
    "#         if dim_i == 24: all_labels.append([r'$\\mathdefault{0.01}\\;\\;\\;\\;\\;$ ', r'$\\mathdefault{10000}\\;\\;\\;\\;$  '])\n",
    "#         else: all_labels.append([r'$\\;\\;\\mathdefault{0.01}\\;\\;\\;\\;\\;$ ', r'$\\mathdefault{1000}\\;\\;\\;\\;$ '])\n",
    "#     else: # membrane conductances\n",
    "#         num_after_digits = -int(np.log10(lims[dim_i, 1] * params_std[dim_i] + params_mean[dim_i]))\n",
    "#         if num_after_digits > 2:\n",
    "#             num_after_digits=2\n",
    "#         labels = [round(Decimal((lims[dim_i, num_tmp] * params_std[dim_i] + params_mean[dim_i]) / 0.628e-3), num_after_digits)\n",
    "#                   for num_tmp in range(2)]\n",
    "#         new_labels = []\n",
    "#         counter=0\n",
    "#         for l in labels:\n",
    "#             if counter == 0:\n",
    "#                 new_labels.append(r'$\\mathdefault{'+str(l)+'}\\;\\;\\;\\;\\;$ ')\n",
    "#             else:\n",
    "#                 new_labels.append(r'$\\mathdefault{'+str(l)+'}\\;\\;\\;\\;\\;$ ')\n",
    "#             counter+=1\n",
    "#         all_labels.append(new_labels)"
   ]
  },
  {
   "cell_type": "code",
   "execution_count": 15,
   "metadata": {},
   "outputs": [],
   "source": [
    "path = '../../../results/simulation_data_Tube_MLslurm_cluster/01_simulate_11deg_R3/data/all_circuit_parameters.pkl'\n",
    "params_accepted_by_classifier = pd.read_pickle(path)\n",
    "params_accepted_by_classifier_np = params_accepted_by_classifier.to_numpy()\n",
    "# params_accepted_by_classifier_norm = (params_accepted_by_classifier_np - params_mean) / params_std"
   ]
  },
  {
   "cell_type": "code",
   "execution_count": 16,
   "metadata": {},
   "outputs": [
    {
     "name": "stderr",
     "output_type": "stream",
     "text": [
      "/home/michael/Documents/sbi/sbi/utils/plot.py:180: UserWarning: Importing `pairplot` from `sbi.utils` is deprecated since sbi v0.15.0. Instead, use `from sbi.analysis import pairplot`.\n",
      "  warn(\n",
      "/home/michael/Documents/sbi/sbi/utils/plot.py:197: UserWarning: You passed an argument `fig_size`. Since sbi v0.15.0, the argument should be called `figsize`. In future versions, `fig_size` will no longer be supported.\n",
      "  warn(\n",
      "/home/michael/Documents/sbi/sbi/utils/plot.py:546: FutureWarning: elementwise comparison failed; returning scalar instead, but in the future will perform elementwise comparison\n",
      "  if opts[\"labels\"] == [] or opts[\"labels\"] is None:\n",
      "findfont: Font family ['serif'] not found. Falling back to DejaVu Sans.\n",
      "findfont: Font family ['serif'] not found. Falling back to DejaVu Sans.\n"
     ]
    },
    {
     "data": {
      "image/png": "[encoded data removed]",
      "text/plain": [
       "<Figure size 204x204 with 16 Axes>"
      ]
     },
     "metadata": {},
     "output_type": "display_data"
    }
   ],
   "source": [
    "import matplotlib.patheffects as pe\n",
    "\n",
    "with mpl.rc_context(fname='../../../.matplotlibrc'):\n",
    "\n",
    "    labels_ = get_labels_8pt()\n",
    "    labels_[9] += ''\n",
    "\n",
    "    fig, axes = pairplot(samples=[params_accepted_by_classifier_np[:100000]],\n",
    "                           subset=[2,4,10,16],\n",
    "                           limits=lims,\n",
    "                           ticks=lims,\n",
    "                           fig_size=(17.0*0.12, 17.0*0.12),\n",
    "                           labels=labels_,\n",
    "                           scatter_offdiag={'rasterized':True, 'alpha':1.0},\n",
    "                           samples_colors=[col['SNPE']],\n",
    "                           diag=['kde'],\n",
    "                           upper=['kde'],\n",
    "                           hist_offdiag={'bins':50},\n",
    "                           plot_offdiag={'linewidth': 1.6, 'path_effects':[pe.Stroke(linewidth=2.4, foreground='k'), pe.Normal()]})\n",
    "\n",
    "    plt.savefig(PANEL_D, facecolor='None', transparent=True)\n",
    "    plt.show()"
   ]
  },
  {
   "cell_type": "code",
   "execution_count": 17,
   "metadata": {},
   "outputs": [
    {
     "name": "stderr",
     "output_type": "stream",
     "text": [
      "/home/michael/Documents/sbi/sbi/utils/plot.py:180: UserWarning: Importing `pairplot` from `sbi.utils` is deprecated since sbi v0.15.0. Instead, use `from sbi.analysis import pairplot`.\n",
      "  warn(\n",
      "/home/michael/Documents/sbi/sbi/utils/plot.py:197: UserWarning: You passed an argument `fig_size`. Since sbi v0.15.0, the argument should be called `figsize`. In future versions, `fig_size` will no longer be supported.\n",
      "  warn(\n",
      "/home/michael/Documents/sbi/sbi/utils/plot.py:546: FutureWarning: elementwise comparison failed; returning scalar instead, but in the future will perform elementwise comparison\n",
      "  if opts[\"labels\"] == [] or opts[\"labels\"] is None:\n"
     ]
    },
    {
     "data": {
      "image/png": "[encoded data removed]",
      "text/plain": [
       "<Figure size 204x204 with 16 Axes>"
      ]
     },
     "metadata": {},
     "output_type": "display_data"
    }
   ],
   "source": [
    "import matplotlib.patheffects as pe\n",
    "\n",
    "with mpl.rc_context(fname='../../../.matplotlibrc'):\n",
    "\n",
    "    labels_ = get_labels_8pt()\n",
    "    labels_[9] += ''\n",
    "\n",
    "    fig, axes = pairplot(samples=[theta_np[:10000]],\n",
    "                           subset=[2,4,10, 16],\n",
    "                           limits=lims,\n",
    "                           ticks=lims,\n",
    "                           fig_size=(17.0*0.12, 17.0*0.12),\n",
    "                           labels=labels_,\n",
    "                           scatter_offdiag={'rasterized':True, 'alpha':1.0},\n",
    "                           samples_colors=[col['SNPE']],\n",
    "                           diag=['kde'],\n",
    "                           upper=['kde'],\n",
    "                           hist_offdiag={'bins':50},\n",
    "                           plot_offdiag={'linewidth': 1.6, 'path_effects':[pe.Stroke(linewidth=2.4, foreground='k'), pe.Normal()]})\n",
    "\n",
    "    plt.savefig(PANEL_E, facecolor='None', transparent=True)\n",
    "    plt.show()"
   ]
  },
  {
   "cell_type": "markdown",
   "metadata": {},
   "source": [
    "# Panel D: posterior samples"
   ]
  },
  {
   "cell_type": "code",
   "execution_count": 18,
   "metadata": {},
   "outputs": [],
   "source": [
    "all_traces = []\n",
    "for parameter_index in range(6):\n",
    "    all_traces.append(simulate(theta.loc[parameter_index], seed=int(seeds[parameter_index])))"
   ]
  },
  {
   "cell_type": "code",
   "execution_count": 19,
   "metadata": {},
   "outputs": [],
   "source": [
    "time_vec = np.arange(0, 11000, 0.025)"
   ]
  },
  {
   "cell_type": "markdown",
   "metadata": {},
   "source": [
    "# Panel E / F: alternative"
   ]
  },
  {
   "cell_type": "code",
   "execution_count": 47,
   "metadata": {},
   "outputs": [],
   "source": [
    "torch.manual_seed(13)\n",
    "trace_prior = simulate(prior_pd.sample((20,)).loc[10], seed=0)\n",
    "trace_posterior = simulate(theta.loc[1], seed=int(seeds[1]))"
   ]
  },
  {
   "cell_type": "code",
   "execution_count": 48,
   "metadata": {},
   "outputs": [
    {
     "data": {
      "image/png": "[encoded data removed]",
      "text/plain": [
       "<Figure size 158.4x86.4 with 1 Axes>"
      ]
     },
     "metadata": {},
     "output_type": "display_data"
    }
   ],
   "source": [
    "for ky in range(13, 14):\n",
    "\n",
    "    fig, ax = plt.subplots(1,1,figsize=(2.2,1.2))\n",
    "    viz.vis_sample_plain(\n",
    "        voltage_trace=trace_prior,\n",
    "        t=time_vec,\n",
    "        axV=ax,\n",
    "        time_len=int(time_len),\n",
    "        offset=0,\n",
    "        col=\"k\",\n",
    "        scale_bar=True,\n",
    "        scale_bar_voltage=True,\n",
    "        print_label=False,\n",
    "    )\n",
    "    plt.savefig(PANEL_C, facecolor='None', transparent=True, dpi=300, bbox_inches='tight')\n",
    "    plt.show()"
   ]
  },
  {
   "cell_type": "code",
   "execution_count": 49,
   "metadata": {},
   "outputs": [
    {
     "data": {
      "image/png": "[encoded data removed]",
      "text/plain": [
       "<Figure size 158.4x86.4 with 1 Axes>"
      ]
     },
     "metadata": {},
     "output_type": "display_data"
    }
   ],
   "source": [
    "for kkkk in [61]: # 34, 46, 51, 61\n",
    "    trace_classifier = simulate(params_accepted_by_classifier.loc[kkkk], seed=0) # 6, 11, 26\n",
    "    fig, ax = plt.subplots(1,1,figsize=(2.2,1.2))\n",
    "    viz.vis_sample_plain(\n",
    "        voltage_trace=trace_classifier,\n",
    "        t=time_vec,\n",
    "        axV=ax,\n",
    "        time_len=int(time_len),\n",
    "        offset=0,\n",
    "        col=\"k\",\n",
    "        scale_bar=True,\n",
    "        scale_bar_voltage=True,\n",
    "        print_label=False,\n",
    "    )\n",
    "    plt.savefig(PANEL_F, facecolor='None', transparent=True, dpi=300, bbox_inches='tight')\n",
    "    plt.show()"
   ]
  },
  {
   "cell_type": "code",
   "execution_count": 50,
   "metadata": {},
   "outputs": [
    {
     "data": {
      "image/png": "[encoded data removed]",
      "text/plain": [
       "<Figure size 158.4x86.4 with 1 Axes>"
      ]
     },
     "metadata": {},
     "output_type": "display_data"
    }
   ],
   "source": [
    "fig, ax = plt.subplots(1,1,figsize=(2.2,1.2))\n",
    "viz.vis_sample_plain(\n",
    "    voltage_trace=trace_posterior,\n",
    "    t=time_vec,\n",
    "    axV=ax,\n",
    "    time_len=int(time_len),\n",
    "    offset=45000,\n",
    "    col=\"k\",\n",
    "    scale_bar=False,\n",
    "    scale_bar_voltage=False,\n",
    "    print_label=False,\n",
    ")\n",
    "plt.savefig(PANEL_G, facecolor='None', transparent=True, dpi=300, bbox_inches='tight')\n",
    "plt.show()"
   ]
  },
  {
   "cell_type": "markdown",
   "metadata": {},
   "source": [
    "# Histograms"
   ]
  },
  {
   "cell_type": "code",
   "execution_count": 51,
   "metadata": {},
   "outputs": [],
   "source": [
    "theta = pd.read_pickle(\"../../../results/simulation_data_Tube_MLslurm_cluster/close_to_xo_circuit_parameters.pkl\")\n",
    "x = pd.read_pickle(\"../../../results/simulation_data_Tube_MLslurm_cluster/close_to_xo_simulation_outputs.pkl\")\n",
    "seeds = np.load(\"../../../results/simulation_data_Tube_MLslurm_cluster/close_to_xo_seeds.npy\")\n",
    "\n",
    "theta_np = theta.to_numpy()\n",
    "x_np = x.to_numpy()"
   ]
  },
  {
   "cell_type": "code",
   "execution_count": 52,
   "metadata": {},
   "outputs": [],
   "source": [
    "all_energies_per_spike = x[\"energies_per_spike\"].to_numpy()\n",
    "all_total_energies = x[\"energies\"].to_numpy()"
   ]
  },
  {
   "cell_type": "code",
   "execution_count": 53,
   "metadata": {},
   "outputs": [],
   "source": [
    "summed_energies_per_spike = np.sum(np.asarray(all_energies_per_spike), axis=1)\n",
    "summed_energies_total = np.sum(np.asarray(all_total_energies), axis=1)"
   ]
  },
  {
   "cell_type": "code",
   "execution_count": 54,
   "metadata": {},
   "outputs": [
    {
     "data": {
      "image/png": "[encoded data removed]",
      "text/plain": [
       "<Figure size 450x100 with 4 Axes>"
      ]
     },
     "metadata": {},
     "output_type": "display_data"
    }
   ],
   "source": [
    "with mpl.rc_context(fname=\"../../../.matplotlibrc\"):\n",
    "    fig, ax = plt.subplots(1, 4, figsize=(4.5, 1))\n",
    "\n",
    "    # / 10 because of 10 seconds simulation_time. /1000 to go from nJ to muJ\n",
    "    _ = ax[0].hist(\n",
    "        all_total_energies[:, 0]/10/1000, range=[0, 30], bins=100, color=\"#3182bd\"\n",
    "    )\n",
    "    ax[0].set_ylabel(\"Count\")\n",
    "    ax[0].tick_params(axis=\"both\", which=\"major\")\n",
    "    ax[0].spines[\"top\"].set_visible(False)\n",
    "    ax[0].spines[\"right\"].set_visible(False)\n",
    "    ax[0].spines[\"left\"].set_visible(False)\n",
    "    ax[0].axes.get_yaxis().set_ticks([])\n",
    "    ax[0].set_title(\"AB/PD\")\n",
    "\n",
    "    _ = ax[1].hist(\n",
    "        all_total_energies[:, 1]/10/1000, range=[0, 30], bins=100, color=\"#fc8d59\"\n",
    "    )\n",
    "    # ax[1].set_ylabel('Count')\n",
    "    ax[1].tick_params(axis=\"both\", which=\"major\")\n",
    "    ax[1].spines[\"top\"].set_visible(False)\n",
    "    ax[1].spines[\"right\"].set_visible(False)\n",
    "    ax[1].spines[\"left\"].set_visible(False)\n",
    "    ax[1].axes.get_yaxis().set_ticks([])\n",
    "    ax[1].set_title(\"LP\")\n",
    "\n",
    "    _ = ax[2].hist(\n",
    "        all_total_energies[:, 2]/10/1000, range=[0, 30], bins=100, color=\"#2ca25f\"\n",
    "    )\n",
    "    # ax[2].set_ylabel('Count')\n",
    "    ax[2].tick_params(axis=\"both\", which=\"major\")\n",
    "    ax[2].spines[\"top\"].set_visible(False)\n",
    "    ax[2].spines[\"right\"].set_visible(False)\n",
    "    ax[2].spines[\"left\"].set_visible(False)\n",
    "    ax[2].axes.get_yaxis().set_ticks([])\n",
    "    ax[2].set_title(\"PY\")\n",
    "\n",
    "    _ = ax[3].hist(summed_energies_total/10/1000, range=[0, 30], bins=100, color=\"k\")\n",
    "    # ax[3].set_ylabel('Count')\n",
    "    ax[3].tick_params(axis=\"both\", which=\"major\")\n",
    "    ax[3].spines[\"top\"].set_visible(False)\n",
    "    ax[3].spines[\"right\"].set_visible(False)\n",
    "    ax[3].spines[\"left\"].set_visible(False)\n",
    "    ax[3].axes.get_yaxis().set_ticks([])\n",
    "    ax[3].set_title(\"Sum\")\n",
    "\n",
    "    plt.subplots_adjust(wspace=0.3)\n",
    "\n",
    "    for i in range(4):\n",
    "        ax[i].set_xlim([0, 30])\n",
    "        ax[i].spines[\"top\"].set_visible(False)\n",
    "        ax[i].spines[\"right\"].set_visible(False)\n",
    "        ax[i].spines[\"left\"].set_visible(False)\n",
    "        ax[i].set_xlabel(\"Energy ($\\mu$J/s)\")\n",
    "        ax[i].set_xticks([0, 30])\n",
    "\n",
    "    plt.savefig(PANEL_H, facecolor=\"None\", transparent=True)\n",
    "    plt.show()"
   ]
  },
  {
   "cell_type": "code",
   "execution_count": 55,
   "metadata": {},
   "outputs": [
    {
     "data": {
      "image/png": "[encoded data removed]",
      "text/plain": [
       "<Figure size 450x100 with 3 Axes>"
      ]
     },
     "metadata": {},
     "output_type": "display_data"
    }
   ],
   "source": [
    "with mpl.rc_context(fname=\"../../../.matplotlibrc\"):\n",
    "    fig, ax = plt.subplots(1, 3, figsize=(4.5, 1))\n",
    "\n",
    "    # The factor /4000 comes from: 10 second recording. 0.025ms stepsize -> total energy = int_energy = energy * 0.025ms = energy / 40000\n",
    "    _ = ax[0].hist(all_energies_per_spike[:, 0] / 1000, range=[0, 1], bins=100, color=\"#3182bd\")\n",
    "    ax[0].set_ylabel(\"Count\")\n",
    "    ax[0].axes.get_yaxis().set_ticks([])\n",
    "    ax[0].set_title(\"AB/PD\")\n",
    "\n",
    "    _ = ax[1].hist(\n",
    "        all_energies_per_spike[:, 1] / 1000, range=[0, 1], bins=100, color=\"#fc8d59\"\n",
    "    )\n",
    "    # ax[1].set_ylabel('Count')\n",
    "    ax[1].set_xlabel(\"E/spike\")\n",
    "    ax[1].axes.get_yaxis().set_ticks([])\n",
    "    ax[1].set_title(\"LP\")\n",
    "\n",
    "    _ = ax[2].hist(all_energies_per_spike[:, 2] / 1000, range=[0, 1], bins=100, color=\"#2ca25f\")\n",
    "    # ax[2].set_ylabel('Count')\n",
    "    ax[2].set_xlabel(\"E/spike\")\n",
    "    ax[2].axes.get_yaxis().set_ticks([])\n",
    "    ax[2].set_title(\"PY\")\n",
    "\n",
    "    for i in range(3):\n",
    "        ax[i].set_xlim([0, 1])\n",
    "        ax[i].set_xticks([0, 1])\n",
    "        ax[i].set_xlabel(\"E/spike ($\\mu$J)\")\n",
    "        ax[i].spines[\"top\"].set_visible(False)\n",
    "        ax[i].spines[\"right\"].set_visible(False)\n",
    "        ax[i].spines[\"left\"].set_visible(False)\n",
    "\n",
    "    plt.subplots_adjust(wspace=0.3)\n",
    "\n",
    "    plt.savefig(PANEL_I, facecolor=\"None\", transparent=True)\n",
    "    plt.show()"
   ]
  },
  {
   "cell_type": "markdown",
   "metadata": {},
   "source": [
    "# Assemble figure"
   ]
  },
  {
   "cell_type": "code",
   "execution_count": 56,
   "metadata": {},
   "outputs": [],
   "source": [
    "color_mixture1 = 0.33 * np.asarray(list(col['CONSISTENT1'])) + 0.67 * np.asarray(\n",
    "    list(col['CONSISTENT2']))\n",
    "color_mixture2 = 0.67 * np.asarray(list(col['CONSISTENT1'])) + 0.33 * np.asarray(\n",
    "    list(col['CONSISTENT2']))"
   ]
  },
  {
   "cell_type": "code",
   "execution_count": 57,
   "metadata": {},
   "outputs": [],
   "source": [
    "import time\n",
    "import IPython.display as IPd\n",
    "\n",
    "def svg(img):\n",
    "    IPd.display(IPd.HTML('<img src=\"{}\" / >'.format(img, time.time())))"
   ]
  },
  {
   "cell_type": "code",
   "execution_count": 58,
   "metadata": {},
   "outputs": [
    {
     "data": {
      "text/html": [
       "<img src=\"../fig/fig2.svg\" / >"
      ],
      "text/plain": [
       "<IPython.core.display.HTML object>"
      ]
     },
     "metadata": {},
     "output_type": "display_data"
    }
   ],
   "source": [
    "from svgutils.compose import *\n",
    "\n",
    "# > Inkscape pixel is 1/90 of an inch, other software usually uses 1/72.\n",
    "# > http://www.inkscapeforum.com/viewtopic.php?f=6&t=5964\n",
    "svg_scale = 1.25  # set this to 1.25 for Inkscape, 1.0 otherwise\n",
    "factor_svg=5.5\n",
    "\n",
    "# Panel letters in Helvetica Neue, 12pt, Medium\n",
    "kwargs_text = {'size': '12pt', 'font': 'Arial', 'weight': '800'}\n",
    "kwargs_consistent = {'size': '10pt', 'font': 'Arial', 'weight': '500', 'color': '#AF99EF'}\n",
    "kwargs_consistent1 = {'size': '10pt', 'font': 'Arial', 'weight': '500', 'color': '#9E7DD5'}\n",
    "kwargs_inconsistent = {'size': '10pt', 'font': 'Arial', 'weight': '500', 'color': '#AF99EF'}\n",
    "kwargs_text8pt = {'size': '7.7pt', 'font': 'Arial'}\n",
    "\n",
    "startx1 = 492\n",
    "startx2 = 594\n",
    "starty1 = 204\n",
    "starty2 = 307\n",
    "\n",
    "endx1 = 642\n",
    "endx2 = 673\n",
    "endy1 = 159\n",
    "endy2 = 191\n",
    "\n",
    "deltax1 =  endx1-startx1\n",
    "deltax2 =  endx2-startx2\n",
    "deltay1 =  endy1-starty1\n",
    "deltay2 =  endy2-starty2\n",
    "\n",
    "sizefactor = 1.0\n",
    "dshift = 0.5*factor_svg\n",
    "\n",
    "f = Figure(\"20.3cm\", \"14.1cm\",\n",
    "           \n",
    "    Panel(\n",
    "          SVG(PANEL_A).scale(svg_scale*1.03).move(0*factor_svg, 0*factor_svg),\n",
    "          Text(\"a\", -5*factor_svg, 2.0*factor_svg-dshift, **kwargs_text),\n",
    "    ).move(5*factor_svg, 0*factor_svg+dshift),\n",
    "\n",
    "    Panel(\n",
    "        SVG(PANEL_B).scale(svg_scale).move(0*factor_svg, 0*factor_svg),\n",
    "        Text(\"b\", -2.0*factor_svg, 3.5*factor_svg-dshift, **kwargs_text),\n",
    "        Text(\"PD\", -1.*factor_svg, 7.2*factor_svg, **kwargs_text8pt),\n",
    "        Text(\"LP\", -1.*factor_svg, 11.6*factor_svg, **kwargs_text8pt),\n",
    "        Text(\"PY\", -1.*factor_svg, 15.8*factor_svg, **kwargs_text8pt),\n",
    "        Text(\"1\", 13.8*factor_svg, 3.8*factor_svg, **kwargs_text8pt),\n",
    "        Text(\"2\", 10.4*factor_svg, 9.0*factor_svg, **kwargs_text8pt),\n",
    "        Text(\"3\", 22.35*factor_svg, 9.0*factor_svg, **kwargs_text8pt),\n",
    "        Text(\"4\", 17.0*factor_svg, 12.8*factor_svg, **kwargs_text8pt),\n",
    "    ).move(3.0*factor_svg, 180-1.5*factor_svg+dshift),\n",
    "           \n",
    "    Panel(\n",
    "          SVG(PANEL_C).scale(svg_scale).move(0*factor_svg, 0*factor_svg),\n",
    "          Text(\"c\", -3*factor_svg, 3.5*factor_svg-dshift, **kwargs_text),\n",
    "    ).move(3*factor_svg, 180+19.5*factor_svg+dshift),\n",
    "           \n",
    "    Panel(\n",
    "          SVG(PANEL_D).scale(svg_scale).move(-10*factor_svg,0*factor_svg),\n",
    "          Text(\"d\", -10.5*factor_svg, 1.5*factor_svg-dshift, **kwargs_text),\n",
    "    ).move(45.5*factor_svg, 180+0.5*factor_svg+dshift),\n",
    "\n",
    "    Panel(\n",
    "          SVG(PANEL_E).scale(svg_scale).move(-10*factor_svg,0*factor_svg),\n",
    "          Text(\"e\", -10.5*factor_svg, 1.5*factor_svg-dshift, **kwargs_text),\n",
    "    ).move(83.5*factor_svg, 180+0.5*factor_svg+dshift),\n",
    "\n",
    "    Panel(\n",
    "          SVG(PANEL_F).scale(svg_scale).move(0*factor_svg, 0*factor_svg),\n",
    "          Text(\"f\", 0*factor_svg, 1.5*factor_svg-dshift, **kwargs_text),\n",
    "    ).move(111*factor_svg, 180+0.5*factor_svg+dshift),\n",
    "\n",
    "   Panel(\n",
    "          SVG(PANEL_G).scale(svg_scale).move(0*factor_svg, 0*factor_svg),\n",
    "          Text(\"g\", 0*factor_svg, 3.5*factor_svg-dshift, **kwargs_text),\n",
    "    ).move(111*factor_svg, 180+19.5*factor_svg+dshift),\n",
    "\n",
    "    Panel(\n",
    "          SVG(PANEL_H).scale(svg_scale).move(0*factor_svg, 0*factor_svg),\n",
    "          Text(\"h\", -3*factor_svg, 3.5*factor_svg-dshift, **kwargs_text),\n",
    "    ).move(3*factor_svg, 180+40.5*factor_svg+dshift),\n",
    "\n",
    "    Panel(\n",
    "          SVG(PANEL_I).scale(svg_scale).move(0*factor_svg, 0*factor_svg),\n",
    "          Text(\"i\", -3*factor_svg, 3.5*factor_svg-dshift, **kwargs_text),\n",
    "    ).move(76*factor_svg, 180+40.5*factor_svg+dshift)\n",
    ")\n",
    "\n",
    "!mkdir -p fig\n",
    "f.save(\"../fig/fig2.svg\")\n",
    "svg('../fig/fig2.svg')"
   ]
  },
  {
   "cell_type": "markdown",
   "metadata": {},
   "source": [
    "### Supplementary: quantitative comparison between simulation-informed prior and posterior"
   ]
  },
  {
   "cell_type": "code",
   "execution_count": 59,
   "metadata": {},
   "outputs": [],
   "source": [
    "from stg_energy.common import reorder_stats"
   ]
  },
  {
   "cell_type": "code",
   "execution_count": 60,
   "metadata": {},
   "outputs": [],
   "source": [
    "PANEL_prior_stats = '../svg/panel_prior_stats.svg'\n",
    "PANEL_sim_inf_prior_stats = '../svg/panel_sim_inf_prior_stats.svg'\n",
    "PANEL_post_stats = '../svg/panel_post_stats.svg'"
   ]
  },
  {
   "cell_type": "code",
   "execution_count": 61,
   "metadata": {},
   "outputs": [],
   "source": [
    "names = []\n",
    "for num in range(15):\n",
    "    names.append(viz.get_summ_stat_name_text(num))"
   ]
  },
  {
   "cell_type": "code",
   "execution_count": 62,
   "metadata": {},
   "outputs": [],
   "source": [
    "num_sims = 500"
   ]
  },
  {
   "cell_type": "code",
   "execution_count": 63,
   "metadata": {},
   "outputs": [],
   "source": [
    "path = \"../../../results/simulation_data_Tube_MLslurm_cluster/01_simulate_11deg\"\n",
    "x_prior = pd.read_pickle(path + \"/data/valid_simulation_outputs.pkl\")\n",
    "x_prior_np = x_prior.to_numpy()\n",
    "\n",
    "x_prior_np = reorder_stats(x_prior_np)\n",
    "\n",
    "stats_mean = np.mean(x_prior_np, axis=0)\n",
    "stats_std = np.std(x_prior_np, axis=0)"
   ]
  },
  {
   "cell_type": "code",
   "execution_count": 64,
   "metadata": {},
   "outputs": [],
   "source": [
    "xo = np.load(\"../../../results/experimental_data/xo_11deg.npy\")\n",
    "xo = reorder_stats(xo)[0]"
   ]
  },
  {
   "cell_type": "markdown",
   "metadata": {},
   "source": [
    "### Prior"
   ]
  },
  {
   "cell_type": "code",
   "execution_count": 66,
   "metadata": {},
   "outputs": [
    {
     "data": {
      "image/png": "[encoded data removed]",
      "text/plain": [
       "<Figure size 340x130 with 1 Axes>"
      ]
     },
     "metadata": {},
     "output_type": "display_data"
    }
   ],
   "source": [
    "import seaborn as sns\n",
    "import pandas as pd\n",
    "\n",
    "norm_ss = (np.asarray(x_prior_np)[:num_sims,:15]-stats_mean[:15])/stats_std[:15]\n",
    "\n",
    "with mpl.rc_context(fname='../../../.matplotlibrc'):\n",
    "    fig, ax = plt.subplots(1, 1, figsize=(3.4*1.0, 1.3))\n",
    "    plt.scatter(np.arange(15)+0.4, (xo[:15]-stats_mean[:15])/stats_std[:15], marker='x', s=15.0, color=col['GT'])\n",
    "    df = pd.DataFrame(np.asarray(norm_ss))\n",
    "\n",
    "    box = sns.boxplot(data=df, width=0.4, fliersize=.0, linewidth=1.2) # , color='#0570b0'\n",
    "    for i, patch in enumerate(box.artists):\n",
    "        r, g, b, a = patch.get_facecolor() # r, g, b, a = patch.get_facecolor()\n",
    "        patch.set_facecolor(1-((1-np.asarray(col['CONSISTENT1'])))*0.6) # patch.set_facecolor((r, g, b, .6))\n",
    "        patch.set_edgecolor(1-((1-np.asarray(col['CONSISTENT1'])))*0.6) # WANT A BRIGHTER ONE!\n",
    "        for j in range(i*6,i*6+6):\n",
    "            line = ax.lines[j]\n",
    "            line.set_color(col['CONSISTENT1'])\n",
    "            line.set_mfc(col['CONSISTENT1'])\n",
    "            line.set_mec(col['CONSISTENT1'])\n",
    "            \n",
    "    ax.set_ylim([-2,2])\n",
    "    ax.set_xlim([-0.5,14.7])\n",
    "    ax.set_xticklabels(names, rotation='vertical')\n",
    "    ax.set_yticks([-2, -1, 0, 1, 2])\n",
    "    ax.set_yticklabels(['$\\mathdefault{-2} \\sigma$', '$\\mathdefault{-}\\sigma$', '0', '$\\sigma$', '$\\mathdefault{2} \\sigma$'])\n",
    "    ax.text(0.15,  -0.8, 'Summary features of prior samples', transform=ax.transAxes)\n",
    "    ax.text(0.322, -0.95, '[st. dev. of samples]', transform=ax.transAxes)\n",
    "    plt.savefig(PANEL_prior_stats, facecolor='None', transparent=True, dpi=300, bbox_inches='tight')\n",
    "    plt.show()"
   ]
  },
  {
   "cell_type": "markdown",
   "metadata": {},
   "source": [
    "### Simulation-informed prior"
   ]
  },
  {
   "cell_type": "code",
   "execution_count": 67,
   "metadata": {},
   "outputs": [],
   "source": [
    "path = '../../../results/simulation_data_Tube_MLslurm_cluster/01_simulate_11deg_R3/data/valid_simulation_outputs.pkl'\n",
    "classifier_predictives = pd.read_pickle(path)\n",
    "classifier_predictives_np = classifier_predictives.to_numpy()\n",
    "classifier_predictives_np = reorder_stats(classifier_predictives_np)"
   ]
  },
  {
   "cell_type": "code",
   "execution_count": 68,
   "metadata": {},
   "outputs": [
    {
     "data": {
      "image/png": "[encoded data removed]",
      "text/plain": [
       "<Figure size 340x130 with 1 Axes>"
      ]
     },
     "metadata": {},
     "output_type": "display_data"
    }
   ],
   "source": [
    "# import seaborn as sns\n",
    "import pandas as pd\n",
    "\n",
    "norm_ss = (np.asarray(classifier_predictives_np)[:,:15]-stats_mean[:15])/stats_std[:15]\n",
    "\n",
    "with mpl.rc_context(fname='../../../.matplotlibrc'):\n",
    "    fig, ax = plt.subplots(1,1, figsize=(3.4*1., 1.3))\n",
    "    plt.scatter(np.arange(15)+0.4, (xo[:15]-stats_mean[:15])/stats_std[:15], marker='x', s=15.0, color=col['GT'])\n",
    "    df = pd.DataFrame(np.asarray(norm_ss))\n",
    "\n",
    "    box = sns.boxplot(data=df, width=0.4, fliersize=.0, linewidth=1.2) # , color='#0570b0'\n",
    "    for i, patch in enumerate(box.artists):\n",
    "        r, g, b, a = patch.get_facecolor() # r, g, b, a = patch.get_facecolor()\n",
    "        patch.set_facecolor(1-((1-np.asarray(col['CONSISTENT1'])))*0.6) # patch.set_facecolor((r, g, b, .6))\n",
    "        patch.set_edgecolor(1-((1-np.asarray(col['CONSISTENT1'])))*0.6) # WANT A BRIGHTER ONE!\n",
    "        for j in range(i*6,i*6+6):\n",
    "            line = ax.lines[j]\n",
    "            line.set_color(col['CONSISTENT1'])\n",
    "            line.set_mfc(col['CONSISTENT1'])\n",
    "            line.set_mec(col['CONSISTENT1'])\n",
    "        \n",
    "    ax.set_ylim([-2,2])\n",
    "    ax.set_xlim([-0.5,14.7])\n",
    "    ax.set_xticklabels(names, rotation='vertical')\n",
    "    ax.set_yticks([-2, -1, 0, 1, 2])\n",
    "    ax.set_yticklabels(['$\\mathdefault{-2} \\sigma$', '$\\mathdefault{-}\\sigma$', '0', '$\\sigma$', '$\\mathdefault{2} \\sigma$'])\n",
    "    ax.text(-0.12,  -0.8, 'Summary features of simulation-informed-prior samples', transform=ax.transAxes)\n",
    "    ax.text(0.322, -0.95, '[st. dev. of samples]', transform=ax.transAxes)\n",
    "    plt.savefig(PANEL_sim_inf_prior_stats, facecolor='None', transparent=True, dpi=300, bbox_inches='tight')\n",
    "    plt.show()"
   ]
  },
  {
   "cell_type": "markdown",
   "metadata": {},
   "source": [
    "### Posterior"
   ]
  },
  {
   "cell_type": "code",
   "execution_count": 69,
   "metadata": {},
   "outputs": [],
   "source": [
    "path = '../../../results/simulation_data_Tube_MLslurm_cluster/simulate_11deg_R3_predictives_at_11deg/data/valid_simulation_outputs.pkl'\n",
    "posterior_predictives = pd.read_pickle(path)\n",
    "posterior_predictives_np = posterior_predictives.to_numpy()\n",
    "posterior_predictives_np = reorder_stats(posterior_predictives_np)"
   ]
  },
  {
   "cell_type": "code",
   "execution_count": 70,
   "metadata": {},
   "outputs": [
    {
     "data": {
      "image/png": "[encoded data removed]",
      "text/plain": [
       "<Figure size 340x130 with 1 Axes>"
      ]
     },
     "metadata": {},
     "output_type": "display_data"
    }
   ],
   "source": [
    "import seaborn as sns\n",
    "import pandas as pd\n",
    "\n",
    "norm_ss = (np.asarray(posterior_predictives_np)[:,:15]-stats_mean[:15])/stats_std[:15]\n",
    "\n",
    "with mpl.rc_context(fname='../../../.matplotlibrc'):\n",
    "    fig, ax = plt.subplots(1,1, figsize=(3.4*1.0, 1.3))\n",
    "    plt.scatter(np.arange(15)+0.4, (xo[:15]-stats_mean[:15])/stats_std[:15], marker='x', s=15.0, color=col['GT'])\n",
    "    df = pd.DataFrame(np.asarray(norm_ss))\n",
    "\n",
    "    box = sns.boxplot(data=df, width=0.4, fliersize=.0, linewidth=1.2) # , color='#0570b0'\n",
    "    for i, patch in enumerate(box.artists):\n",
    "        r, g, b, a = patch.get_facecolor() # r, g, b, a = patch.get_facecolor()\n",
    "        patch.set_facecolor(1-((1-np.asarray(col['CONSISTENT1'])))*0.6) # patch.set_facecolor((r, g, b, .6))\n",
    "        patch.set_edgecolor(1-((1-np.asarray(col['CONSISTENT1'])))*0.6) # WANT A BRIGHTER ONE!\n",
    "        for j in range(i*6,i*6+6):\n",
    "            line = ax.lines[j]\n",
    "            line.set_color(col['CONSISTENT1'])\n",
    "            line.set_mfc(col['CONSISTENT1'])\n",
    "            line.set_mec(col['CONSISTENT1'])\n",
    "            \n",
    "    ax.set_ylim([-2,2])\n",
    "    ax.set_xlim([-0.5,14.7])\n",
    "    ax.set_xticklabels(names, rotation='vertical')\n",
    "    ax.set_yticks([-2, -1, 0, 1, 2])\n",
    "    ax.set_yticklabels(['$\\mathdefault{-2} \\sigma$', '$\\mathdefault{-}\\sigma$', '0', '$\\sigma$', '$\\mathdefault{2} \\sigma$'])\n",
    "    ax.text(0.10,  -0.8, 'Summary features of posterior samples', transform=ax.transAxes)\n",
    "    ax.text(0.322, -0.95, '[st. dev. of samples]', transform=ax.transAxes)\n",
    "    plt.savefig(PANEL_post_stats, facecolor='None', transparent=True, dpi=300, bbox_inches='tight')\n",
    "    plt.show()"
   ]
  },
  {
   "cell_type": "markdown",
   "metadata": {},
   "source": [
    "### Assemble figure"
   ]
  },
  {
   "cell_type": "code",
   "execution_count": 71,
   "metadata": {},
   "outputs": [
    {
     "data": {
      "text/html": [
       "<img src=\"../fig/fig2_supp3.svg\" / >"
      ],
      "text/plain": [
       "<IPython.core.display.HTML object>"
      ]
     },
     "metadata": {},
     "output_type": "display_data"
    }
   ],
   "source": [
    "from svgutils.compose import *\n",
    "\n",
    "# > Inkscape pixel is 1/90 of an inch, other software usually uses 1/72.\n",
    "# > http://www.inkscapeforum.com/viewtopic.php?f=6&t=5964\n",
    "svg_scale = 1.25  # set this to 1.25 for Inkscape, 1.0 otherwise\n",
    "factor_svg=5.5\n",
    "\n",
    "# Panel letters in Helvetica Neue, 12pt, Medium\n",
    "kwargs_text = {'size': '12pt', 'font': 'Arial', 'weight': '800'}\n",
    "kwargs_consistent = {'size': '10pt', 'font': 'Arial', 'weight': '500', 'color': '#AF99EF'}\n",
    "kwargs_consistent1 = {'size': '10pt', 'font': 'Arial', 'weight': '500', 'color': '#9E7DD5'}\n",
    "kwargs_inconsistent = {'size': '10pt', 'font': 'Arial', 'weight': '500', 'color': '#AF99EF'}\n",
    "kwargs_text8pt = {'size': '7.7pt', 'font': 'Arial'}\n",
    "\n",
    "startx1 = 492\n",
    "startx2 = 594\n",
    "starty1 = 204\n",
    "starty2 = 307\n",
    "\n",
    "endx1 = 642\n",
    "endx2 = 673\n",
    "endy1 = 159\n",
    "endy2 = 191\n",
    "\n",
    "deltax1 =  endx1-startx1\n",
    "deltax2 =  endx2-startx2\n",
    "deltay1 =  endy1-starty1\n",
    "deltay2 =  endy2-starty2\n",
    "\n",
    "sizefactor = 1.0\n",
    "dshift = 0.5*factor_svg\n",
    "\n",
    "f = Figure(\"20.3cm\", \"4.7cm\",\n",
    "           \n",
    "    Panel(\n",
    "          SVG(PANEL_prior_stats).scale(svg_scale).scale(0.9).move(0, 15*factor_svg),\n",
    "    ).move(0*factor_svg, -14.4*factor_svg+dshift),\n",
    "           \n",
    "    Panel(\n",
    "          SVG(PANEL_sim_inf_prior_stats).scale(svg_scale).scale(0.9).move(0, 15*factor_svg),\n",
    "    ).move(47*factor_svg, -14.4*factor_svg+dshift),\n",
    "\n",
    "    Panel(\n",
    "          SVG(PANEL_post_stats).scale(svg_scale).scale(0.9).move(0, 15*factor_svg),\n",
    "    ).move(94*factor_svg, -14.4*factor_svg+dshift),\n",
    ")\n",
    "\n",
    "!mkdir -p fig\n",
    "f.save(\"../fig/fig2_supp3.svg\")\n",
    "svg('../fig/fig2_supp3.svg')"
   ]
  },
  {
   "cell_type": "code",
   "execution_count": null,
   "metadata": {},
   "outputs": [],
   "source": []
  },
  {
   "cell_type": "code",
   "execution_count": null,
   "metadata": {},
   "outputs": [],
   "source": []
  }
 ],
 "metadata": {
  "kernelspec": {
   "display_name": "sbi_prinz",
   "language": "python",
   "name": "sbi_prinz"
  },
  "language_info": {
   "codemirror_mode": {
    "name": "ipython",
    "version": 3
   },
   "file_extension": ".py",
   "mimetype": "text/x-python",
   "name": "python",
   "nbconvert_exporter": "python",
   "pygments_lexer": "ipython3",
   "version": "3.8.5"
  }
 },
 "nbformat": 4,
 "nbformat_minor": 4
}
