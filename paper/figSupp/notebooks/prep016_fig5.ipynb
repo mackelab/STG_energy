{
 "cells": [
  {
   "cell_type": "code",
   "execution_count": 1,
   "metadata": {},
   "outputs": [],
   "source": [
    "import math\n",
    "import time\n",
    "from multiprocessing import Pool\n",
    "from copy import deepcopy\n",
    "import dill as pickle\n",
    "import IPython.display as IPd\n",
    "import matplotlib as mpl\n",
    "import matplotlib.pylab as plt\n",
    "import numpy as np\n",
    "import pandas as pd\n",
    "import torch\n",
    "from matplotlib import ticker\n",
    "from pyloric import create_prior, simulate, summary_stats\n",
    "from pyloric.utils import show_traces\n",
    "from pyloric.utils import energy_of_membrane, energy_of_synapse\n",
    "from stg_energy import check_if_close_to_obs \n",
    "from sbi.analysis import ActiveSubspace\n",
    "from sbi.utils import BoxUniform\n",
    "from stg_energy.common import get_labels_8pt, generate_labels_for_pairplot, check_if_close_to_obs\n",
    "from sbi.analysis import pairplot\n",
    "from pyloric import create_prior\n",
    "import matplotlib.patheffects as pe\n",
    "\n",
    "from stg_energy.fig3_active_subspaces.helper_functions import nth_argmax, nth_argmin\n",
    "import stg_energy.fig5_global.viz_05_appendix as viz"
   ]
  },
  {
   "cell_type": "markdown",
   "metadata": {},
   "source": [
    "# Figure 5"
   ]
  },
  {
   "cell_type": "code",
   "execution_count": 2,
   "metadata": {},
   "outputs": [],
   "source": [
    "pd.options.display.max_columns = 999"
   ]
  },
  {
   "cell_type": "code",
   "execution_count": 3,
   "metadata": {},
   "outputs": [],
   "source": [
    "%load_ext autoreload\n",
    "%autoreload 2"
   ]
  },
  {
   "cell_type": "code",
   "execution_count": 4,
   "metadata": {},
   "outputs": [],
   "source": [
    "PANEL_A1 = \"../svg/panel_016_fig5_a1.svg\"\n",
    "PANEL_A2 = \"../svg/panel_016_fig5_a2.svg\"\n",
    "PANEL_A3 = \"../svg/panel_016_fig5_a3.svg\"\n",
    "PANEL_B1 = \"../svg/panel_016_fig5_b1.svg\"\n",
    "PANEL_B2 = \"../svg/panel_016_fig5_b2.svg\"\n",
    "PANEL_C1 = \"../svg/panel_016_fig5_c1.svg\"\n",
    "PANEL_C2 = \"../svg/panel_016_fig5_c2.svg\"\n",
    "PANEL_D11 = \"../svg/panel_016_fig5_d11.svg\"\n",
    "PANEL_D12 = \"../svg/panel_016_fig5_d12.svg\"\n",
    "PANEL_D21 = \"../svg/panel_016_fig5_d21.svg\"\n",
    "PANEL_D22 = \"../svg/panel_016_fig5_d22.svg\"\n",
    "PANEL_E1 = \"../svg/panel_016_fig5_e1.svg\"\n",
    "PANEL_E2 = \"../svg/panel_016_fig5_e2.svg\"\n",
    "PANEL_E3 = \"../svg/panel_016_fig5_e3.svg\"\n",
    "PANEL_E4 = \"../svg/panel_016_fig5_e4.svg\"\n",
    "PANEL_F = \"../svg/panel_016_fig5_f.svg\"\n",
    "PANEL_E4_summ = \"../svg/panel_078_fig5_e4_summ.svg\"\n",
    "PANEL_F_summ = \"../svg/panel_078_fig5_f_summ.svg\""
   ]
  },
  {
   "cell_type": "markdown",
   "metadata": {},
   "source": [
    "### Load experimental data"
   ]
  },
  {
   "cell_type": "code",
   "execution_count": 5,
   "metadata": {},
   "outputs": [],
   "source": [
    "prior_11 = create_prior()"
   ]
  },
  {
   "cell_type": "code",
   "execution_count": 6,
   "metadata": {},
   "outputs": [],
   "source": [
    "theta = pd.read_pickle(\n",
    "    \"../../../results/simulation_data_Tube_MLslurm_cluster/close_to_xo_circuit_parameters_016.pkl\"\n",
    ")\n",
    "x = pd.read_pickle(\n",
    "    \"../../../results/simulation_data_Tube_MLslurm_cluster/close_to_xo_simulation_outputs_016.pkl\"\n",
    ")\n",
    "seeds = np.load(\n",
    "    \"../../../results/simulation_data_Tube_MLslurm_cluster/close_to_xo_seeds_016.npy\"\n",
    ")\n",
    "\n",
    "theta_np = theta.to_numpy()\n",
    "x_np = x.to_numpy()"
   ]
  },
  {
   "cell_type": "code",
   "execution_count": 7,
   "metadata": {},
   "outputs": [],
   "source": [
    "syns = deepcopy(theta_np[:, -7:])\n",
    "syns = np.exp(syns)"
   ]
  },
  {
   "cell_type": "code",
   "execution_count": 8,
   "metadata": {},
   "outputs": [],
   "source": [
    "import sys\n",
    "sys.path.append(\"home/michael/Documents/sbi/sbi/utils/user_input_checks_utils\")"
   ]
  },
  {
   "cell_type": "code",
   "execution_count": 9,
   "metadata": {},
   "outputs": [],
   "source": [
    "import sys\n",
    "from sbi.utils import user_input_checks_utils\n",
    "\n",
    "sys.modules[\"sbi.user_input.user_input_checks_utils\"] = user_input_checks_utils"
   ]
  },
  {
   "cell_type": "code",
   "execution_count": 10,
   "metadata": {},
   "outputs": [
    {
     "name": "stderr",
     "output_type": "stream",
     "text": [
      "/home/michael/Documents/sbi/sbi/inference/posteriors/base_posterior.py:1130: UserWarning: You had saved the posterior under an older version of `sbi`. To make the loaded version comply with the version you are using right now, we had to set the following attributes: `self._device = cpu` `self._num_iid_trials = None` `self._iid_methods = ['snle', 'snre_a', 'snre_b']` `self._allow_iid_x = False` `self._sample_with = rejection`\n",
      "  warn(warning_description + warning_msg)\n"
     ]
    }
   ],
   "source": [
    "with open(\n",
    "    \"../../../results/trained_neural_nets/inference/posterior_11deg.pickle\", \"rb\"\n",
    ") as handle:\n",
    "    posterior = pickle.load(handle)\n",
    "    posterior._device = 'cpu'\n",
    "    \n",
    "posterior._prior = BoxUniform(posterior._prior.support.base_constraint.lower_bound, posterior._prior.support.base_constraint.upper_bound)"
   ]
  },
  {
   "cell_type": "code",
   "execution_count": 11,
   "metadata": {},
   "outputs": [],
   "source": [
    "xo = np.load(\"../../../results/experimental_data/xo_11deg_016.npy\")"
   ]
  },
  {
   "cell_type": "code",
   "execution_count": 12,
   "metadata": {},
   "outputs": [],
   "source": [
    "# close_sim = check_if_close_to_obs(\n",
    "#     x=x_np,\n",
    "#     xo=xo[:15],\n",
    "#     min_num_bursts=6.5\n",
    "# )\n",
    "# theta_np_ = theta_np[close_sim]\n",
    "# x_np_ = x_np[close_sim]\n",
    "# seeds_ = seeds[close_sim]\n",
    "# theta_pd_ = pd.DataFrame(theta_np_, columns=theta.columns)\n",
    "# x_pd_ = pd.DataFrame(x_np_, columns=x.columns)\n",
    "# np.save(\"../../../results/simulation_data_Tube_MLslurm_cluster/close_to_xo_seeds_min_burst_condition_078.npy\", seeds_)\n",
    "# theta_pd_.to_pickle(\"../../../results/simulation_data_Tube_MLslurm_cluster/close_to_xo_circuit_parameters_min_burst_condition_078.pkl\")\n",
    "# x_pd_.to_pickle(\"../../../results/simulation_data_Tube_MLslurm_cluster/close_to_xo_simulation_outputs_min_burst_condition_078.pkl\")"
   ]
  },
  {
   "cell_type": "code",
   "execution_count": 13,
   "metadata": {},
   "outputs": [],
   "source": [
    "energies = x[\"energies\"]\n",
    "energies_tt = torch.as_tensor(energies.to_numpy())\n",
    "x_tt = torch.as_tensor(x_np, dtype=torch.float32)\n",
    "summed_energies = np.sum(x['energies'].to_numpy(), axis=1) / 10 / 1000"
   ]
  },
  {
   "cell_type": "code",
   "execution_count": 14,
   "metadata": {},
   "outputs": [],
   "source": [
    "prior = create_prior(as_torch_dist=True)\n",
    "lower_b = prior.support.base_constraint.lower_bound.unsqueeze(0)\n",
    "upper_b = prior.support.base_constraint.upper_bound.unsqueeze(0)\n",
    "limits = torch.cat((lower_b, upper_b), dim=0).T"
   ]
  },
  {
   "cell_type": "markdown",
   "metadata": {},
   "source": [
    "### Load experimental data for time vector"
   ]
  },
  {
   "cell_type": "code",
   "execution_count": 15,
   "metadata": {},
   "outputs": [],
   "source": [
    "npz = np.load('../../../results/experimental_data/trace_data_845_082_0044.npz')\n",
    "t = npz['t']\n",
    "PD_spikes = npz['PD_spikes']\n",
    "LP_spikes = npz['LP_spikes']\n",
    "PY_spikes = npz['PY_spikes']\n",
    "pdn = npz['pdn']\n",
    "lpn = npz['lpn']\n",
    "pyn = npz['pyn']\n",
    "start_index = 219500 + 2100\n",
    "end_index   = 246500 + 2100  # 32000\n",
    "height_offset = 200\n",
    "shown_t = t[end_index] - t[start_index]\n",
    "time_len = shown_t / 0.025 * 1000\n",
    "dt = t[1] - t[0]\n",
    "time_vec = np.arange(0, 11000, 0.025)"
   ]
  },
  {
   "cell_type": "code",
   "execution_count": 16,
   "metadata": {},
   "outputs": [],
   "source": [
    "energies_tt = torch.as_tensor(energies.to_numpy())\n",
    "x_tt = torch.as_tensor(x_np, dtype=torch.float32)\n",
    "\n",
    "summed_energies = x['energies'].to_numpy()[:, 1] / 10 / 1000"
   ]
  },
  {
   "cell_type": "code",
   "execution_count": 17,
   "metadata": {},
   "outputs": [],
   "source": [
    "allowed_std = 1.0"
   ]
  },
  {
   "cell_type": "markdown",
   "metadata": {},
   "source": [
    "### Correlation plots"
   ]
  },
  {
   "cell_type": "code",
   "execution_count": 18,
   "metadata": {},
   "outputs": [],
   "source": [
    "from scipy import stats"
   ]
  },
  {
   "cell_type": "code",
   "execution_count": 19,
   "metadata": {},
   "outputs": [],
   "source": [
    "ab_energies = x['energies'].to_numpy()[:, 0] / 10 / 1000\n",
    "lp_energies = x['energies'].to_numpy()[:, 1] / 10 / 1000\n",
    "py_energies = x['energies'].to_numpy()[:, 2] / 10 / 1000"
   ]
  },
  {
   "cell_type": "code",
   "execution_count": 22,
   "metadata": {},
   "outputs": [],
   "source": [
    "def eval_reg(point, slope, intercept):\n",
    "    return point * slope + intercept"
   ]
  },
  {
   "cell_type": "code",
   "execution_count": 23,
   "metadata": {},
   "outputs": [
    {
     "name": "stdout",
     "output_type": "stream",
     "text": [
      "slope -0.008660096119432126\n",
      "pvalue 0.3931109180323683\n",
      "pearson corr -0.016133509452621958\n"
     ]
    },
    {
     "data": {
      "image/png": "[encoded data removed]",
      "text/plain": [
       "<Figure size 100x50 with 1 Axes>"
      ]
     },
     "metadata": {},
     "output_type": "display_data"
    }
   ],
   "source": [
    "slope, intercept, r_value, p_value, std_err = stats.linregress(ab_energies, lp_energies)\n",
    "pcc = stats.pearsonr(ab_energies, lp_energies)[0]\n",
    "\n",
    "print(\"slope\", slope)\n",
    "print(\"pvalue\", p_value)\n",
    "print(\"pearson corr\", pcc)\n",
    "\n",
    "with mpl.rc_context(fname=\"../../../.matplotlibrc\"):\n",
    "    fig, ax = plt.subplots(1, 1, figsize=(1.0, 0.5))\n",
    "    ax.scatter(ab_energies[:100], lp_energies[:100], color=\"k\", s=5.0, alpha=0.5)\n",
    "    ax.plot([0.0, 9.0], [eval_reg(0.0, slope, intercept), eval_reg(9.0, slope, intercept)], color=\"k\", alpha=1.0)\n",
    "    ax.set_xlim([0.0, 9.0])\n",
    "    ax.set_ylim([0.0, 6.0])\n",
    "    ax.set_xticks([0.0, 9.0])\n",
    "    ax.set_yticks([0.0, 6.0])\n",
    "    ax.set_xlabel(\"AB/PD\", labelpad=-7)\n",
    "    ax.set_ylabel(\"LP\", labelpad=-7)\n",
    "    plt.savefig(PANEL_A1, facecolor=\"None\", transparent=True)"
   ]
  },
  {
   "cell_type": "code",
   "execution_count": 24,
   "metadata": {
    "tags": []
   },
   "outputs": [
    {
     "name": "stdout",
     "output_type": "stream",
     "text": [
      "slope 0.21927926866049294\n",
      "pvalue 0.0012606104733471502\n",
      "pearson corr 0.060870160040406164\n"
     ]
    },
    {
     "data": {
      "image/png": "[encoded data removed]",
      "text/plain": [
       "<Figure size 100x50 with 1 Axes>"
      ]
     },
     "metadata": {},
     "output_type": "display_data"
    }
   ],
   "source": [
    "slope, intercept, r_value, p_value, std_err = stats.linregress(lp_energies, py_energies)\n",
    "pcc = stats.pearsonr(lp_energies, py_energies)[0]\n",
    "\n",
    "print(\"slope\", slope)\n",
    "print(\"pvalue\", p_value)\n",
    "print(\"pearson corr\", pcc)\n",
    "\n",
    "with mpl.rc_context(fname=\"../../../.matplotlibrc\"):\n",
    "    fig, ax = plt.subplots(1, 1, figsize=(1.0, 0.5))\n",
    "    ax.scatter(lp_energies[:100], py_energies[:100], color=\"k\", s=5.0, alpha=0.5)\n",
    "    ax.plot([0.0, 6.0], [eval_reg(0.0, slope, intercept), eval_reg(6.0, slope, intercept)], color=\"k\", alpha=1.0)\n",
    "    ax.set_xlim([0.0, 6.0])\n",
    "    ax.set_ylim([0.0, 20.0])\n",
    "    ax.set_xticks([0.0, 6.0])\n",
    "    ax.set_yticks([0.0, 20.0])\n",
    "    ax.set_xlabel(\"LP\", labelpad=-7)\n",
    "    ax.set_ylabel(\"PY\", labelpad=-7)\n",
    "    plt.savefig(PANEL_A2, facecolor=\"None\", transparent=True)"
   ]
  },
  {
   "cell_type": "code",
   "execution_count": 25,
   "metadata": {
    "tags": []
   },
   "outputs": [
    {
     "name": "stdout",
     "output_type": "stream",
     "text": [
      "slope 0.05945699442637846\n",
      "pvalue 0.10355702737206778\n",
      "pearson corr 0.03074793517167006\n"
     ]
    },
    {
     "data": {
      "image/png": "[encoded data removed]",
      "text/plain": [
       "<Figure size 100x50 with 1 Axes>"
      ]
     },
     "metadata": {},
     "output_type": "display_data"
    }
   ],
   "source": [
    "slope, intercept, r_value, p_value, std_err = stats.linregress(ab_energies, py_energies)\n",
    "pcc = stats.pearsonr(ab_energies, py_energies)[0]\n",
    "\n",
    "print(\"slope\", slope)\n",
    "print(\"pvalue\", p_value)\n",
    "print(\"pearson corr\", pcc)\n",
    "\n",
    "with mpl.rc_context(fname=\"../../../.matplotlibrc\"):\n",
    "    fig, ax = plt.subplots(1, 1, figsize=(1.0, 0.5))\n",
    "    ax.scatter(ab_energies[:100], py_energies[:100], color=\"k\", s=5.0, alpha=0.5)\n",
    "    ax.plot([0.0, 20.0], [eval_reg(0.0, slope, intercept), eval_reg(20.0, slope, intercept)], color=\"k\", alpha=1.0)\n",
    "    ax.set_xlim([0.0, 9.0])\n",
    "    ax.set_ylim([0.0, 20.0])\n",
    "    ax.set_xticks([0.0, 9.0])\n",
    "    ax.set_yticks([0.0, 20.0])\n",
    "    ax.set_xlabel(\"AB/PD\", labelpad=-7)\n",
    "    ax.set_ylabel(\"PY\", labelpad=-7)\n",
    "    plt.savefig(PANEL_A3, facecolor=\"None\", transparent=True)"
   ]
  },
  {
   "cell_type": "markdown",
   "metadata": {},
   "source": [
    "### Panel B"
   ]
  },
  {
   "cell_type": "code",
   "execution_count": 26,
   "metadata": {},
   "outputs": [],
   "source": [
    "preparation = \"016\"\n",
    "xo, min_num_bursts = viz.load_xo_minnumbursts_of_preparation(preparation)"
   ]
  },
  {
   "cell_type": "code",
   "execution_count": 27,
   "metadata": {
    "tags": []
   },
   "outputs": [],
   "source": [
    "selected_ones_1 = [3, 1, 3]\n",
    "selected_ones_2 = [4, 3, 4]\n",
    "index_1 = 0\n",
    "index_2 = 0"
   ]
  },
  {
   "cell_type": "code",
   "execution_count": 28,
   "metadata": {
    "tags": []
   },
   "outputs": [
    {
     "name": "stdout",
     "output_type": "stream",
     "text": [
      "successful_seeds (2,)\n",
      "successful_seeds (2,)\n"
     ]
    },
    {
     "data": {
      "image/png": "[encoded data removed]",
      "text/plain": [
       "<Figure size 200x120 with 1 Axes>"
      ]
     },
     "metadata": {},
     "output_type": "display_data"
    },
    {
     "data": {
      "image/png": "[encoded data removed]",
      "text/plain": [
       "<Figure size 200x120 with 1 Axes>"
      ]
     },
     "metadata": {},
     "output_type": "display_data"
    }
   ],
   "source": [
    "with mpl.rc_context(fname=\"../../../.matplotlibrc\"):\n",
    "    viz.plot_stuff(preparation, selected_ones_1, time_vec, time_len, allowed_std, width=2.0, height=1.2, offset=140000, index=index_1)\n",
    "    plt.savefig(PANEL_B1, facecolor=\"None\", transparent=True)\n",
    "    viz.plot_stuff(preparation, selected_ones_2, time_vec, time_len, allowed_std, width=2.0, height=1.2, offset=290000, index=index_2)\n",
    "    plt.savefig(PANEL_B2, facecolor=\"None\", transparent=True)"
   ]
  },
  {
   "cell_type": "markdown",
   "metadata": {},
   "source": [
    "### Panel C"
   ]
  },
  {
   "cell_type": "code",
   "execution_count": 29,
   "metadata": {
    "tags": []
   },
   "outputs": [
    {
     "name": "stderr",
     "output_type": "stream",
     "text": [
      "findfont: Font family ['serif'] not found. Falling back to DejaVu Sans.\n",
      "findfont: Generic family 'serif' not found because none of the following families were found: Arial, sans-serif\n"
     ]
    },
    {
     "data": {
      "image/png": "[encoded data removed]",
      "text/plain": [
       "<Figure size 70x80 with 1 Axes>"
      ]
     },
     "metadata": {},
     "output_type": "display_data"
    },
    {
     "data": {
      "image/png": "[encoded data removed]",
      "text/plain": [
       "<Figure size 70x80 with 1 Axes>"
      ]
     },
     "metadata": {},
     "output_type": "display_data"
    }
   ],
   "source": [
    "with mpl.rc_context(fname=\"../../../.matplotlibrc\"):\n",
    "    summed_energies_total1 = viz.plot_energies(preparation, selected_ones_1, allowed_std, labels=False, index=index_1)\n",
    "    plt.savefig(PANEL_C1, facecolor='None', transparent=True)\n",
    "    summed_energies_total2 = viz.plot_energies(preparation, selected_ones_2, allowed_std, index=index_2)\n",
    "    plt.savefig(PANEL_C2, facecolor='None', transparent=True)"
   ]
  },
  {
   "cell_type": "markdown",
   "metadata": {},
   "source": [
    "### Panel D"
   ]
  },
  {
   "cell_type": "code",
   "execution_count": 30,
   "metadata": {
    "tags": []
   },
   "outputs": [
    {
     "data": {
      "image/png": "[encoded data removed]",
      "text/plain": [
       "<Figure size 100x70 with 1 Axes>"
      ]
     },
     "metadata": {},
     "output_type": "display_data"
    },
    {
     "data": {
      "image/png": "[encoded data removed]",
      "text/plain": [
       "<Figure size 100x70 with 1 Axes>"
      ]
     },
     "metadata": {},
     "output_type": "display_data"
    }
   ],
   "source": [
    "params_to_plot = [1, 3, 14, 20, 23, 27, 28]\n",
    "\n",
    "samples1, stats, all_seeds_loaded = viz.load_theta_x_seeds(*selected_ones_1, preparation=preparation)\n",
    "close_sim = check_if_close_to_obs(stats, xo=xo, min_num_bursts=min_num_bursts, sloppiness_durations=allowed_std, sloppiness_phases=allowed_std)\n",
    "successful_samples1 = samples1[close_sim][index_1]\n",
    "with mpl.rc_context(fname=\"../../../.matplotlibrc\"):\n",
    "    viz.plot_params(successful_samples1, params_to_plot, labels=False, width=1.0, height=0.7, labelpad=2, ylim=[0, 300])\n",
    "    plt.savefig(PANEL_D11, facecolor='None', transparent=True)\n",
    "\n",
    "samples2, stats, all_seeds_loaded = viz.load_theta_x_seeds(*selected_ones_2, preparation=preparation)\n",
    "close_sim = check_if_close_to_obs(stats, xo=xo, min_num_bursts=min_num_bursts, sloppiness_durations=allowed_std, sloppiness_phases=allowed_std)\n",
    "successful_samples2 = samples2[close_sim][index_2]\n",
    "with mpl.rc_context(fname=\"../../../.matplotlibrc\"):\n",
    "    viz.plot_params(successful_samples2, params_to_plot, width=1.0, height=0.7, labelpad=2, ylim=[0, 300])\n",
    "    plt.savefig(PANEL_D21, facecolor='None', transparent=True)"
   ]
  },
  {
   "cell_type": "code",
   "execution_count": 31,
   "metadata": {
    "tags": []
   },
   "outputs": [
    {
     "data": {
      "image/png": "[encoded data removed]",
      "text/plain": [
       "<Figure size 42x70 with 1 Axes>"
      ]
     },
     "metadata": {},
     "output_type": "display_data"
    },
    {
     "data": {
      "image/png": "[encoded data removed]",
      "text/plain": [
       "<Figure size 42x70 with 1 Axes>"
      ]
     },
     "metadata": {},
     "output_type": "display_data"
    }
   ],
   "source": [
    "samples, stats, all_seeds_loaded = viz.load_theta_x_seeds(*selected_ones_1, preparation=preparation)\n",
    "close_sim = check_if_close_to_obs(stats, xo=xo, min_num_bursts=min_num_bursts, sloppiness_durations=allowed_std, sloppiness_phases=allowed_std)\n",
    "successful_samples = samples[close_sim][index_1]\n",
    "with mpl.rc_context(fname=\"../../../.matplotlibrc\"):\n",
    "    viz.plot_synapses(successful_samples, params_to_plot, labels=False, ylim=[0, 60], width=0.42, height=0.7, labelpad=-2)\n",
    "    plt.savefig(PANEL_D12, facecolor='None', transparent=True)\n",
    "    \n",
    "samples, stats, all_seeds_loaded = viz.load_theta_x_seeds(*selected_ones_2, preparation=preparation)\n",
    "close_sim = check_if_close_to_obs(stats, xo=xo, min_num_bursts=min_num_bursts, sloppiness_durations=allowed_std, sloppiness_phases=allowed_std)\n",
    "successful_samples = samples[close_sim][index_2]\n",
    "with mpl.rc_context(fname=\"../../../.matplotlibrc\"):\n",
    "    viz.plot_synapses(successful_samples, params_to_plot, ylim=[0, 60], width=0.42, height=0.7, labelpad=-2)\n",
    "    plt.savefig(PANEL_D22, facecolor='None', transparent=True)"
   ]
  },
  {
   "cell_type": "markdown",
   "metadata": {},
   "source": [
    "### Panel E"
   ]
  },
  {
   "cell_type": "code",
   "execution_count": 32,
   "metadata": {
    "tags": []
   },
   "outputs": [],
   "source": [
    "successful_samples_tt = []\n",
    "all_low_energies = []\n",
    "for i in range(5):\n",
    "    for j in range(5):\n",
    "        for k in range(5):\n",
    "            stats = viz.load_x_pd(i, j, k, preparation)\n",
    "            samples, _, _ = viz.load_theta_x_seeds(i, j, k, preparation)\n",
    "            close_sim = check_if_close_to_obs(stats.to_numpy(), xo=xo, min_num_bursts=min_num_bursts, sloppiness_durations=allowed_std, sloppiness_phases=allowed_std)\n",
    "            if np.any(close_sim):\n",
    "                successful_stats1 = stats[close_sim]\n",
    "                energy1 = successful_stats1[\"energies\"].to_numpy()/10/1000\n",
    "                summed_energies_total1 = np.asarray(energy1)\n",
    "                all_low_energies.append(summed_energies_total1)\n",
    "                \n",
    "                successful_samples = samples[close_sim]\n",
    "                successful_samples_tt.append(torch.as_tensor(successful_samples, dtype=torch.float32))\n",
    "successful_samples_tt = torch.cat(successful_samples_tt)\n",
    "all_low_energies = np.concatenate(all_low_energies)"
   ]
  },
  {
   "cell_type": "code",
   "execution_count": 33,
   "metadata": {
    "tags": []
   },
   "outputs": [
    {
     "data": {
      "image/png": "[encoded data removed]",
      "text/plain": [
       "<Figure size 140x100 with 1 Axes>"
      ]
     },
     "metadata": {},
     "output_type": "display_data"
    }
   ],
   "source": [
    "theta = pd.read_pickle(\"../../../results/simulation_data_Tube_MLslurm_cluster/close_to_xo_circuit_parameters_016.pkl\")\n",
    "x = pd.read_pickle(\"../../../results/simulation_data_Tube_MLslurm_cluster/close_to_xo_simulation_outputs_016.pkl\")\n",
    "seeds = np.load(\"../../../results/simulation_data_Tube_MLslurm_cluster/close_to_xo_seeds_016.npy\")\n",
    "\n",
    "theta_np = theta.to_numpy()\n",
    "x_np = x.to_numpy()\n",
    "\n",
    "all_total_energies = x[\"energies\"].to_numpy()\n",
    "summed_energies_total = np.sum(np.asarray(all_total_energies), axis=1)\n",
    "\n",
    "with mpl.rc_context(fname=\"../../../.matplotlibrc\"):\n",
    "    fig, ax = plt.subplots(1, 1, figsize=(1.4, 1))\n",
    "    _ = ax.hist(all_total_energies[:, 0]/10/1000, range=[0, 30], bins=75, color=\"#3182bd\", weights=0.03*np.ones_like(summed_energies_total))\n",
    "    _ = ax.hist(all_low_energies[:, 0], range=[0, 30], bins=75, color=\"#d7301f\")\n",
    "    ax.set_ylabel('Count (unnorm.)')\n",
    "    ax.tick_params(axis=\"both\", which=\"major\")\n",
    "    ax.spines[\"top\"].set_visible(False)\n",
    "    ax.spines[\"right\"].set_visible(False)\n",
    "    ax.spines[\"left\"].set_visible(False)\n",
    "    ax.axes.get_yaxis().set_ticks([])\n",
    "    ax.set_xlabel(\"Energy AB/PD\\n($\\mu$J/s)\")\n",
    "    ax.set_xlim([0, 30])\n",
    "    plt.savefig(PANEL_E1, facecolor='None', transparent=True)"
   ]
  },
  {
   "cell_type": "code",
   "execution_count": 34,
   "metadata": {
    "tags": []
   },
   "outputs": [
    {
     "data": {
      "image/png": "[encoded data removed]",
      "text/plain": [
       "<Figure size 140x100 with 1 Axes>"
      ]
     },
     "metadata": {},
     "output_type": "display_data"
    }
   ],
   "source": [
    "with mpl.rc_context(fname=\"../../../.matplotlibrc\"):\n",
    "    fig, ax = plt.subplots(1, 1, figsize=(1.4, 1))\n",
    "    _ = ax.hist(all_total_energies[:, 1]/10/1000, range=[0, 30], bins=75, color=\"#fc8d59\", weights=0.02*np.ones_like(summed_energies_total))\n",
    "    _ = ax.hist(all_low_energies[:, 1], range=[0, 30], bins=75, color=\"#d7301f\")\n",
    "    ax.tick_params(axis=\"both\", which=\"major\")\n",
    "    ax.spines[\"top\"].set_visible(False)\n",
    "    ax.spines[\"right\"].set_visible(False)\n",
    "    ax.spines[\"left\"].set_visible(False)\n",
    "    ax.axes.get_yaxis().set_ticks([])\n",
    "    ax.set_xlabel(\"Energy LP\\n($\\mu$J/s)\")\n",
    "    ax.set_xlim([0, 30])\n",
    "    plt.savefig(PANEL_E2, facecolor='None', transparent=True)"
   ]
  },
  {
   "cell_type": "code",
   "execution_count": 35,
   "metadata": {
    "tags": []
   },
   "outputs": [
    {
     "data": {
      "image/png": "[encoded data removed]",
      "text/plain": [
       "<Figure size 140x100 with 1 Axes>"
      ]
     },
     "metadata": {},
     "output_type": "display_data"
    }
   ],
   "source": [
    "with mpl.rc_context(fname=\"../../../.matplotlibrc\"):\n",
    "    fig, ax = plt.subplots(1, 1, figsize=(1.4, 1))\n",
    "    _ = ax.hist(all_total_energies[:, 2]/10/1000, range=[0, 30], bins=75, color=\"#2ca25f\", weights=0.048*np.ones_like(summed_energies_total))\n",
    "    _ = ax.hist(all_low_energies[:, 2], range=[0, 30], bins=75, color=\"#d7301f\")\n",
    "    ax.tick_params(axis=\"both\", which=\"major\")\n",
    "    ax.spines[\"top\"].set_visible(False)\n",
    "    ax.spines[\"right\"].set_visible(False)\n",
    "    ax.spines[\"left\"].set_visible(False)\n",
    "    ax.axes.get_yaxis().set_ticks([])\n",
    "    ax.set_xlabel(\"Energy PY\\n($\\mu$J/s)\")\n",
    "    ax.set_xlim([0, 30])\n",
    "    plt.savefig(PANEL_E3, facecolor='None', transparent=True)"
   ]
  },
  {
   "cell_type": "code",
   "execution_count": 36,
   "metadata": {
    "tags": []
   },
   "outputs": [
    {
     "data": {
      "image/png": "[encoded data removed]",
      "text/plain": [
       "<Figure size 140x100 with 1 Axes>"
      ]
     },
     "metadata": {},
     "output_type": "display_data"
    }
   ],
   "source": [
    "with mpl.rc_context(fname=\"../../../.matplotlibrc\"):\n",
    "    fig, ax = plt.subplots(1, 1, figsize=(1.4, 1))\n",
    "    _ = ax.hist(summed_energies_total/10/1000, range=[0, 30], bins=75, color=\"k\", weights=0.06*np.ones_like(summed_energies_total))\n",
    "    _ = ax.hist(np.sum(all_low_energies, axis=1), range=[0, 30], bins=75, color=\"#d7301f\")\n",
    "    ax.tick_params(axis=\"both\", which=\"major\")\n",
    "    ax.spines[\"top\"].set_visible(False)\n",
    "    ax.spines[\"right\"].set_visible(False)\n",
    "    ax.spines[\"left\"].set_visible(False)\n",
    "    ax.axes.get_yaxis().set_ticks([])\n",
    "    ax.set_xlabel(\"Energy total\\n($\\mu$J/s)\")\n",
    "    ax.set_xlim([0, 30])\n",
    "    plt.savefig(PANEL_E4, facecolor='None', transparent=True)"
   ]
  },
  {
   "cell_type": "markdown",
   "metadata": {},
   "source": [
    "### Panel F"
   ]
  },
  {
   "cell_type": "code",
   "execution_count": 37,
   "metadata": {
    "tags": []
   },
   "outputs": [],
   "source": [
    "prior_samples = prior.sample((100_000,))\n",
    "xo_full = np.load(\"../../../results/experimental_data/xo_11deg_016.npy\")\n",
    "log_probs = posterior.log_prob(torch.as_tensor(theta_np), x=xo_full).numpy()\n",
    "probs_of_successful = posterior.log_prob(successful_samples_tt, x=xo_full).numpy()\n",
    "prior_probs = posterior.log_prob(prior_samples, x=xo_full).numpy()"
   ]
  },
  {
   "cell_type": "code",
   "execution_count": 38,
   "metadata": {
    "tags": []
   },
   "outputs": [
    {
     "data": {
      "image/png": "[encoded data removed]",
      "text/plain": [
       "<Figure size 220x90 with 1 Axes>"
      ]
     },
     "metadata": {},
     "output_type": "display_data"
    }
   ],
   "source": [
    "with mpl.rc_context(fname='../../../.matplotlibrc'):\n",
    "    fig, ax = plt.subplots(1, 1, figsize=(2.2, 0.9))\n",
    "    ax.hist(prior_probs, color=\"grey\", bins=70, weights=0.0028*np.ones_like(prior_probs), range=(-180, -35))\n",
    "    ax.hist(log_probs, color=\"k\", bins=70, weights=0.0095*np.ones_like(log_probs), range=(-180, -35))\n",
    "    ax.hist(probs_of_successful, color=\"#d7301f\", bins=70, range=(-180, -35), alpha=0.9)\n",
    "    ax.set_xlabel(\"Posterior log-probability\")\n",
    "    ax.set_ylabel(\"Count (unnorm.)\")\n",
    "    ax.spines[\"left\"].set_visible(False)\n",
    "    ax.set_yticks([])\n",
    "    ax.legend([\"Prior\", \"Posterior\", \"MCMC\"], ncol=3, handlelength=0.3, handletextpad=0.3, columnspacing=1.0, loc=\"upper left\", bbox_to_anchor=(0.0, 1.3))\n",
    "    plt.savefig(PANEL_F, facecolor='None', transparent=True)"
   ]
  },
  {
   "cell_type": "markdown",
   "metadata": {
    "tags": []
   },
   "source": [
    "# Assemble figure"
   ]
  },
  {
   "cell_type": "code",
   "execution_count": 39,
   "metadata": {
    "tags": []
   },
   "outputs": [],
   "source": [
    "import time\n",
    "import IPython.display as IPd\n",
    "\n",
    "def svg(img):\n",
    "    IPd.display(IPd.HTML('<img src=\"{}\" / >'.format(img, time.time())))"
   ]
  },
  {
   "cell_type": "code",
   "execution_count": 40,
   "metadata": {},
   "outputs": [
    {
     "data": {
      "text/html": [
       "<img src=\"../fig/016_full_fig5.svg\" / >"
      ],
      "text/plain": [
       "<IPython.core.display.HTML object>"
      ]
     },
     "metadata": {},
     "output_type": "display_data"
    }
   ],
   "source": [
    "from svgutils.compose import *\n",
    "\n",
    "# > Inkscape pixel is 1/90 of an inch, other software usually uses 1/72.\n",
    "# > http://www.inkscapeforum.com/viewtopic.php?f=6&t=5964\n",
    "svg_scale = 1.25  # set this to 1.25 for Inkscape, 1.0 otherwise\n",
    "factor_svg=5.5\n",
    "\n",
    "# Panel letters in Helvetica Neue, 12pt, Medium\n",
    "kwargs_text = {'size': '12pt', 'font': 'Arial', 'weight': '800'}\n",
    "kwargs_consistent = {'size': '10pt', 'font': 'Arial', 'weight': '500', 'color': '#AF99EF'}\n",
    "kwargs_consistent1 = {'size': '10pt', 'font': 'Arial', 'weight': '500', 'color': '#9E7DD5'}\n",
    "kwargs_inconsistent = {'size': '10pt', 'font': 'Arial', 'weight': '500', 'color': '#AF99EF'}\n",
    "kwargs_text8pt = {'size': '7.7pt', 'font': 'Arial'}\n",
    "\n",
    "sizefactor = 1.0\n",
    "dshift = 0.5*factor_svg\n",
    "\n",
    "f = Figure(\"20.3cm\", \"9.2cm\",\n",
    "           \n",
    "    Panel(\n",
    "        SVG(PANEL_A1).scale(svg_scale).move(0*factor_svg, 0*factor_svg),\n",
    "        Text(\"a\", -2.0*factor_svg, 3.8*factor_svg-dshift, **kwargs_text),\n",
    "    ).move(2.2*factor_svg, -1.5*factor_svg+dshift),\n",
    "           \n",
    "    Panel(\n",
    "        SVG(PANEL_A2).scale(svg_scale).move(0*factor_svg, 0*factor_svg),\n",
    "    ).move(1*factor_svg, 11.4*factor_svg+dshift),\n",
    "           \n",
    "    Panel(\n",
    "        SVG(PANEL_A3).scale(svg_scale).move(0*factor_svg, 0*factor_svg),\n",
    "    ).move(1*factor_svg, 24.3*factor_svg+dshift),\n",
    "    \n",
    "    Panel(\n",
    "        SVG(\"../../fig5/svg/panel_a.svg\").scale(svg_scale).move(0*factor_svg, 0*factor_svg),\n",
    "        Text(\"b\", -1.0*factor_svg, 0.55*factor_svg-dshift, **kwargs_text),\n",
    "    ).move(28.5*factor_svg, 1.75*factor_svg+dshift),\n",
    "           \n",
    "    Panel(\n",
    "        SVG(PANEL_B1).scale(svg_scale).move(0*factor_svg, 0*factor_svg),\n",
    "        Text(\"c\", 0.5*factor_svg, 4.3*factor_svg-dshift, **kwargs_text),\n",
    "    ).move(71*factor_svg, -2.0*factor_svg+dshift),\n",
    "    \n",
    "    Panel(\n",
    "        SVG(PANEL_B2).scale(svg_scale).move(0*factor_svg, 0*factor_svg),\n",
    "    ).move(71*factor_svg, 15.5*factor_svg+dshift),\n",
    "    \n",
    "    Panel(\n",
    "        SVG(PANEL_D11).scale(svg_scale).move(0*factor_svg, 0*factor_svg),\n",
    "        Text(\"d\", -1.5*factor_svg, 1.3*factor_svg-dshift, **kwargs_text),\n",
    "    ).move(104.5*factor_svg, 1.0*factor_svg+dshift),\n",
    "\n",
    "    Panel(\n",
    "        SVG(PANEL_D21).scale(svg_scale).move(0*factor_svg, 0*factor_svg),\n",
    "    ).move(104.5*factor_svg, 18.0*factor_svg+dshift),\n",
    "           \n",
    "    Panel(\n",
    "        SVG(PANEL_D12).scale(svg_scale).move(0*factor_svg, 0*factor_svg),\n",
    "    ).move(127.0*factor_svg, 1.0*factor_svg+dshift),\n",
    "    Panel(\n",
    "        SVG(PANEL_D22).scale(svg_scale).move(0*factor_svg, 0*factor_svg),\n",
    "    ).move(127.0*factor_svg, 18.0*factor_svg+dshift),\n",
    "\n",
    "    Panel(\n",
    "          SVG(PANEL_E1).scale(svg_scale).move(0*factor_svg, 0*factor_svg),\n",
    "          Text(\"e\", -0.8*factor_svg, 1.8*factor_svg-dshift, **kwargs_text),\n",
    "    ).move(1*factor_svg, 39.8*factor_svg),\n",
    "    Panel(\n",
    "          SVG(PANEL_E2).scale(svg_scale).move(0*factor_svg, 0*factor_svg),\n",
    "    ).move(27.4*factor_svg, 41.0*factor_svg),\n",
    "    Panel(\n",
    "          SVG(PANEL_E3).scale(svg_scale).move(0*factor_svg, 0*factor_svg),\n",
    "    ).move(51.8*factor_svg, 41.0*factor_svg),\n",
    "    Panel(\n",
    "          SVG(PANEL_E4).scale(svg_scale).move(0*factor_svg, 0*factor_svg),\n",
    "    ).move(76.3*factor_svg, 41.0*factor_svg),\n",
    "    \n",
    "    Panel(\n",
    "          SVG(PANEL_F).scale(svg_scale).move(-10*factor_svg,0*factor_svg),\n",
    "          Text(\"f\", -11.5*factor_svg, 1.9*factor_svg-dshift, **kwargs_text),\n",
    "    ).move(114.5*factor_svg, 39.7*factor_svg),\n",
    ")\n",
    "\n",
    "!mkdir -p fig\n",
    "f.save(\"../fig/016_full_fig5.svg\")\n",
    "svg('../fig/016_full_fig5.svg')"
   ]
  },
  {
   "cell_type": "code",
   "execution_count": 42,
   "metadata": {},
   "outputs": [
    {
     "data": {
      "image/png": "[encoded data removed]",
      "text/plain": [
       "<Figure size 220x70 with 1 Axes>"
      ]
     },
     "metadata": {},
     "output_type": "display_data"
    }
   ],
   "source": [
    "with mpl.rc_context(fname=\"../../../.matplotlibrc\"):\n",
    "    fig, ax = plt.subplots(1, 1, figsize=(2.2, 0.7))\n",
    "    _ = ax.hist(summed_energies_total/10/1000, range=[0, 30], bins=75, color=\"k\", weights=0.065*np.ones_like(summed_energies_total))\n",
    "    _ = ax.hist(np.sum(all_low_energies, axis=1), range=[0, 30], bins=75, color=\"#d7301f\")\n",
    "    ax.tick_params(axis=\"both\", which=\"major\")\n",
    "    ax.spines[\"top\"].set_visible(False)\n",
    "    ax.spines[\"right\"].set_visible(False)\n",
    "    ax.spines[\"left\"].set_visible(False)\n",
    "    ax.axes.get_yaxis().set_ticks([])\n",
    "    ax.set_ylabel('Count (unnorm.)')\n",
    "    ax.set_title(\"Energy total ($\\mu$J/s)\")\n",
    "    ax.set_xlim([0, 30])\n",
    "    plt.savefig(PANEL_E4_summ, facecolor='None', transparent=True)"
   ]
  },
  {
   "cell_type": "code",
   "execution_count": 43,
   "metadata": {},
   "outputs": [
    {
     "data": {
      "image/png": "[encoded data removed]",
      "text/plain": [
       "<Figure size 220x70 with 1 Axes>"
      ]
     },
     "metadata": {},
     "output_type": "display_data"
    }
   ],
   "source": [
    "with mpl.rc_context(fname='../../../.matplotlibrc'):\n",
    "    fig, ax = plt.subplots(1, 1, figsize=(2.2, 0.7))\n",
    "    ax.hist(prior_probs, color=\"grey\", bins=70, weights=0.0023*np.ones_like(prior_probs), range=(-180, -35))\n",
    "    ax.hist(log_probs, color=\"k\", bins=70, weights=0.008*np.ones_like(log_probs), range=(-180, -35))\n",
    "    ax.hist(probs_of_successful, color=\"#d7301f\", bins=70, range=(-180, -35), alpha=0.9)\n",
    "    ax.set_xlabel(\"Posterior log-probability\")\n",
    "    ax.set_ylabel(\"Count (unnorm.)\")\n",
    "    ax.spines[\"left\"].set_visible(False)\n",
    "    ax.set_yticks([])\n",
    "    ax.legend([\"Prior\", \"Posterior\", \"MCMC\"], ncol=3, handlelength=0.3, handletextpad=0.3, columnspacing=1.0, loc=\"upper left\", bbox_to_anchor=(0.0, 1.5))\n",
    "    plt.savefig(PANEL_F_summ, facecolor='None', transparent=True)"
   ]
  },
  {
   "cell_type": "code",
   "execution_count": 44,
   "metadata": {},
   "outputs": [
    {
     "data": {
      "text/html": [
       "<img src=\"../fig/prep016_summ_fig5.svg\" / >"
      ],
      "text/plain": [
       "<IPython.core.display.HTML object>"
      ]
     },
     "metadata": {},
     "output_type": "display_data"
    }
   ],
   "source": [
    "from svgutils.compose import *\n",
    "\n",
    "# > Inkscape pixel is 1/90 of an inch, other software usually uses 1/72.\n",
    "# > http://www.inkscapeforum.com/viewtopic.php?f=6&t=5964\n",
    "svg_scale = 1.25  # set this to 1.25 for Inkscape, 1.0 otherwise\n",
    "factor_svg=5.5\n",
    "\n",
    "# Panel letters in Helvetica Neue, 12pt, Medium\n",
    "kwargs_text = {'size': '12pt', 'font': 'Arial', 'weight': '800'}\n",
    "kwargs_consistent = {'size': '10pt', 'font': 'Arial', 'weight': '500', 'color': '#AF99EF'}\n",
    "kwargs_consistent1 = {'size': '10pt', 'font': 'Arial', 'weight': '500', 'color': '#9E7DD5'}\n",
    "kwargs_inconsistent = {'size': '10pt', 'font': 'Arial', 'weight': '500', 'color': '#AF99EF'}\n",
    "kwargs_text8pt = {'size': '7.7pt', 'font': 'Arial'}\n",
    "\n",
    "sizefactor = 1.0\n",
    "dshift = 0.5*factor_svg\n",
    "\n",
    "f = Figure(\"20.3cm\", \"5.6cm\",\n",
    "           \n",
    "    Panel(\n",
    "        SVG(PANEL_A1).scale(svg_scale).move(0*factor_svg, 0*factor_svg),\n",
    "        Text(\"a\", -2.0*factor_svg, 3.8*factor_svg-dshift, **kwargs_text),\n",
    "    ).move(2.2*factor_svg, -1.5*factor_svg+dshift),\n",
    "           \n",
    "    Panel(\n",
    "        SVG(PANEL_A2).scale(svg_scale).move(0*factor_svg, 0*factor_svg),\n",
    "    ).move(1*factor_svg, 11.4*factor_svg+dshift),\n",
    "           \n",
    "    Panel(\n",
    "        SVG(PANEL_A3).scale(svg_scale).move(0*factor_svg, 0*factor_svg),\n",
    "    ).move(1*factor_svg, 24.3*factor_svg+dshift),\n",
    "    \n",
    "    Panel(\n",
    "        SVG(PANEL_B1).scale(svg_scale).move(0*factor_svg, 0*factor_svg),\n",
    "        Text(\"b\", -0.5*factor_svg, 3.3*factor_svg-dshift, **kwargs_text),\n",
    "    ).move(25*factor_svg, -1.0*factor_svg+dshift),\n",
    "    \n",
    "    Panel(\n",
    "        SVG(PANEL_B2).scale(svg_scale).move(0*factor_svg, 0*factor_svg),\n",
    "    ).move(25*factor_svg, 16.5*factor_svg+dshift),\n",
    "    \n",
    "    Panel(\n",
    "        SVG(PANEL_D11).scale(svg_scale).move(0*factor_svg, 0*factor_svg),\n",
    "        Text(\"c\", -1.5*factor_svg, 1.3*factor_svg-dshift, **kwargs_text),\n",
    "    ).move(57.5*factor_svg, 1.0*factor_svg+dshift),\n",
    "\n",
    "    Panel(\n",
    "        SVG(PANEL_D21).scale(svg_scale).move(0*factor_svg, 0*factor_svg),\n",
    "    ).move(57.5*factor_svg, 18.0*factor_svg+dshift),\n",
    "\n",
    "    Panel(\n",
    "        SVG(PANEL_D12).scale(svg_scale).move(0*factor_svg, 0*factor_svg),\n",
    "    ).move(79.0*factor_svg, 1.3*factor_svg+dshift),\n",
    "    Panel(\n",
    "        SVG(PANEL_D22).scale(svg_scale).move(0*factor_svg, 0*factor_svg),\n",
    "    ).move(79.0*factor_svg, 18.3*factor_svg+dshift),\n",
    "\n",
    "    Panel(\n",
    "          SVG(PANEL_E4_summ).scale(svg_scale).move(0*factor_svg, 0*factor_svg),\n",
    "          Text(\"d\", -2.2*factor_svg, 2.9*factor_svg, **kwargs_text),\n",
    "    ).move(100.3*factor_svg, -0.6*factor_svg),\n",
    "    \n",
    "    Panel(\n",
    "          SVG(PANEL_F_summ).scale(svg_scale).move(-10*factor_svg,0*factor_svg),\n",
    "          Text(\"e\", -12.2*factor_svg, 2.4*factor_svg, **kwargs_text),\n",
    "    ).move(110.3*factor_svg, 16.05*factor_svg),\n",
    ")\n",
    "\n",
    "!mkdir -p fig\n",
    "f.save(\"../fig/prep016_summ_fig5.svg\")\n",
    "svg('../fig/prep016_summ_fig5.svg')"
   ]
  },
  {
   "cell_type": "code",
   "execution_count": null,
   "metadata": {},
   "outputs": [],
   "source": []
  }
 ],
 "metadata": {
  "kernelspec": {
   "display_name": "Python 3",
   "language": "python",
   "name": "python3"
  },
  "language_info": {
   "codemirror_mode": {
    "name": "ipython",
    "version": 3
   },
   "file_extension": ".py",
   "mimetype": "text/x-python",
   "name": "python",
   "nbconvert_exporter": "python",
   "pygments_lexer": "ipython3",
   "version": "3.8.10"
  }
 },
 "nbformat": 4,
 "nbformat_minor": 4
}
