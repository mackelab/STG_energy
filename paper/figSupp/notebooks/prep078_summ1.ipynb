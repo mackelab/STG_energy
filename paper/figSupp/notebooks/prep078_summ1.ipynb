{
 "cells": [
  {
   "cell_type": "code",
   "execution_count": 40,
   "metadata": {},
   "outputs": [],
   "source": [
    "import numpy as np\n",
    "import matplotlib.pylab as plt\n",
    "import time\n",
    "from copy import deepcopy\n",
    "import pickle\n",
    "from multiprocessing import Pool\n",
    "import importlib\n",
    "import matplotlib as mpl\n",
    "import matplotlib.patches as mp\n",
    "import pandas as pd\n",
    "import torch\n",
    "\n",
    "from pyloric import create_prior, simulate, summary_stats\n",
    "from stg_energy.common import col, svg, get_labels_8pt, check_if_close_to_obs\n",
    "import stg_energy.fig2_inference.viz as viz\n",
    "import stg_energy.fig3_active_subspaces.viz as viz3\n",
    "from sbi.analysis import pairplot\n",
    "from stg_energy.fig3_active_subspaces.helper_functions import nth_argmax, nth_argmin, obtain_max_in_dimension\n",
    "\n",
    "from sbi.analysis import ActiveSubspace\n",
    "from sklearn.linear_model import LinearRegression"
   ]
  },
  {
   "cell_type": "markdown",
   "metadata": {},
   "source": [
    "# Figure 1"
   ]
  },
  {
   "cell_type": "code",
   "execution_count": 2,
   "metadata": {},
   "outputs": [],
   "source": [
    "pd.options.display.max_columns=999"
   ]
  },
  {
   "cell_type": "code",
   "execution_count": 3,
   "metadata": {},
   "outputs": [],
   "source": [
    "%load_ext autoreload\n",
    "%autoreload 2"
   ]
  },
  {
   "cell_type": "code",
   "execution_count": 4,
   "metadata": {},
   "outputs": [],
   "source": [
    "PANEL_A = '../svg/panel_a_078_summ1.svg'\n",
    "PANEL_B = '../svg/panel_b_078_summ1.svg'\n",
    "PANEL_C = '../svg/panel_c_078_summ1.svg'\n",
    "PANEL_D = '../svg/panel_d_078_summ1.svg'\n",
    "PANEL_E = '../svg/panel_e_078_summ1.svg'\n",
    "PANEL_F = '../svg/panel_f_078_summ1.svg'\n",
    "PANEL_G = '../svg/panel_g_078_summ1.svg'\n",
    "PANEL_H = '../svg/panel_h_078_summ1.svg'\n",
    "PANEL_I = '../svg/panel_i_078_summ1.svg'"
   ]
  },
  {
   "cell_type": "markdown",
   "metadata": {},
   "source": [
    "### Initialize simulator stuff"
   ]
  },
  {
   "cell_type": "code",
   "execution_count": 5,
   "metadata": {},
   "outputs": [],
   "source": [
    "prior_ = create_prior()\n",
    "sim_out = simulate(prior_.sample((1,)).loc[0])\n",
    "ss = summary_stats(sim_out, stats_customization={\n",
    "        \"plateau_durations\": True,\n",
    "        \"num_bursts\": True,\n",
    "        \"num_spikes\": True,\n",
    "        \"energies\": True,\n",
    "        \"energies_per_burst\": True,\n",
    "        \"energies_per_spike\": True,\n",
    "        \"pyloric_like\": True,\n",
    "    })\n",
    "stat_names = ss.columns"
   ]
  },
  {
   "cell_type": "markdown",
   "metadata": {},
   "source": [
    "### Initialize inference data"
   ]
  },
  {
   "cell_type": "code",
   "execution_count": 6,
   "metadata": {},
   "outputs": [],
   "source": [
    "xo11 = np.load(\"../../../results/experimental_data/xo_11deg_078.npy\")\n",
    "xo27 = np.load(\"../../../results/experimental_data/xo_27deg_078.npy\")"
   ]
  },
  {
   "cell_type": "code",
   "execution_count": 7,
   "metadata": {},
   "outputs": [],
   "source": [
    "path = \"../../../results/simulation_data_Tube_MLslurm_cluster/simulate_11deg_R3_predictives_at_11deg_078/data\"\n",
    "theta = pd.read_pickle(path + '/valid_circuit_parameters.pkl')\n",
    "x = pd.read_pickle(path + '/valid_simulation_outputs.pkl')\n",
    "seeds = np.load(path + '/valid_seeds.npy')\n",
    "theta_original = theta.to_numpy()\n",
    "x_original = x.to_numpy()"
   ]
  },
  {
   "cell_type": "code",
   "execution_count": 8,
   "metadata": {},
   "outputs": [],
   "source": [
    "close_enough = check_if_close_to_obs(x_original, xo=xo11[:15], check_burst_num=True, min_num_bursts=6.5)\n",
    "\n",
    "theta_np = theta_original[close_enough]\n",
    "x_np = x_original[close_enough]\n",
    "\n",
    "theta = pd.DataFrame(theta_np, columns=prior_.sample((1,)).columns)\n",
    "x = pd.DataFrame(x_np, columns=stat_names)"
   ]
  },
  {
   "cell_type": "code",
   "execution_count": 9,
   "metadata": {},
   "outputs": [
    {
     "data": {
      "text/plain": [
       "(6830, 34)"
      ]
     },
     "execution_count": 9,
     "metadata": {},
     "output_type": "execute_result"
    }
   ],
   "source": [
    "x.shape"
   ]
  },
  {
   "cell_type": "markdown",
   "metadata": {},
   "source": [
    "### Select the simulations that were close"
   ]
  },
  {
   "cell_type": "code",
   "execution_count": 10,
   "metadata": {},
   "outputs": [],
   "source": [
    "# path = \"../../../results/simulation_data_Tube_MLslurm_cluster\"\n",
    "# theta = pd.read_pickle(path + '/close_to_xo_circuit_parameters.pkl')\n",
    "# x = pd.read_pickle(path + '/close_to_xo_simulation_outputs.pkl')\n",
    "# seeds = np.load(path + '/close_to_xo_seeds.npy')\n",
    "# theta_np = theta.to_numpy()\n",
    "# x_np = x.to_numpy()"
   ]
  },
  {
   "cell_type": "code",
   "execution_count": 11,
   "metadata": {},
   "outputs": [],
   "source": [
    "# theta.to_numpy().shape"
   ]
  },
  {
   "cell_type": "markdown",
   "metadata": {},
   "source": [
    "### Load network"
   ]
  },
  {
   "cell_type": "code",
   "execution_count": 12,
   "metadata": {},
   "outputs": [],
   "source": [
    "prior = create_prior(as_torch_dist=True)\n",
    "lower_bound = prior.support.base_constraint.lower_bound\n",
    "upper_bound = prior.support.base_constraint.upper_bound\n",
    "prior_pd = create_prior()\n",
    "lims = np.asarray([lower_bound.numpy(), upper_bound.numpy()]).T"
   ]
  },
  {
   "cell_type": "markdown",
   "metadata": {},
   "source": [
    "# Panel B: experimental data"
   ]
  },
  {
   "cell_type": "code",
   "execution_count": 13,
   "metadata": {},
   "outputs": [],
   "source": [
    "import pyabf\n",
    "\n",
    "datafile = \"../../../results/experimental_data/845_078_0027.abf\"\n",
    "abf = pyabf.ABF(datafile)"
   ]
  },
  {
   "cell_type": "code",
   "execution_count": 14,
   "metadata": {},
   "outputs": [],
   "source": [
    "t = np.load(\"../../../results/experimental_data/data_845_078_0027.npz\")['t']"
   ]
  },
  {
   "cell_type": "code",
   "execution_count": 15,
   "metadata": {},
   "outputs": [
    {
     "name": "stdout",
     "output_type": "stream",
     "text": [
      "ABF (version 2.0.0.0) with 8 channels (mV, mV, mv, mV, V, nA, mV, V), sampled at 10.0 kHz, containing 1 sweep, having no tags, with a total length of 2.50 minutes, recorded with protocol \"Protocol_1\".\n",
      "['I_MTest 1', 'I_MTest 2', 'IN 4', 'IN 6', 'IN 7', 'i2', 'IN 10', 'IN 13']\n"
     ]
    }
   ],
   "source": [
    "print(abf)\n",
    "channel_names = abf.adcNames\n",
    "print(channel_names)"
   ]
  },
  {
   "cell_type": "code",
   "execution_count": 16,
   "metadata": {},
   "outputs": [],
   "source": [
    "channel_data = abf.data"
   ]
  },
  {
   "cell_type": "code",
   "execution_count": 17,
   "metadata": {},
   "outputs": [],
   "source": [
    "lpn = channel_data[6]\n",
    "pyn = channel_data[5]\n",
    "pdn = channel_data[7]\n",
    "LVN = channel_data[4]\n",
    "sampling_frequency = abf.dataRate"
   ]
  },
  {
   "cell_type": "code",
   "execution_count": 18,
   "metadata": {},
   "outputs": [],
   "source": [
    "start_index = 193000\n",
    "end_index   = 223000\n",
    "height_offset = 200\n",
    "shown_t = t[end_index] - t[start_index]\n",
    "time_len = shown_t / 0.025 * 1000\n",
    "dt = t[1] - t[0]"
   ]
  },
  {
   "cell_type": "code",
   "execution_count": 19,
   "metadata": {},
   "outputs": [
    {
     "data": {
      "image/png": "[encoded data removed]",
      "text/plain": [
       "<Figure size 200x130 with 1 Axes>"
      ]
     },
     "metadata": {},
     "output_type": "display_data"
    }
   ],
   "source": [
    "with mpl.rc_context(fname='../../../.matplotlibrc'):\n",
    "    fig, ax = plt.subplots(1,1,figsize=(2.0, 1.3)) # (2.87, 2.08*3/4)\n",
    "    ax.plot(t[start_index:end_index], 7.5+pdn[start_index:end_index]/np.max(pdn), c=\"k\", lw=0.8)\n",
    "    ax.plot(t[start_index:end_index], 6.25+lpn[start_index:end_index]/2.5/np.max(lpn), c=\"k\", lw=0.8)\n",
    "    ax.plot(t[start_index:end_index], 5+pyn[start_index:end_index]/1.2/np.max(pyn), c=\"k\", lw=0.8)\n",
    "\n",
    "    ax.spines['right'].set_visible(False)\n",
    "    ax.spines['top'].set_visible(False)\n",
    "    ax.spines['bottom'].set_visible(False)\n",
    "    ax.spines['left'].set_visible(False)\n",
    "    ax.axes.get_yaxis().set_ticks([])\n",
    "    ax.axes.get_xaxis().set_ticks([])\n",
    "    ax.get_yaxis().set_visible(False)\n",
    "\n",
    "    duration = 0.5\n",
    "    number_of_timesteps = int(duration / dt)\n",
    "    t_scale = np.linspace(t[start_index], t[start_index + number_of_timesteps], 2)\n",
    "\n",
    "    ax.plot(t_scale, 4.3 * np.ones_like(t_scale), c='k', lw=1.0)\n",
    "\n",
    "    plt.savefig(PANEL_A, facecolor='None', transparent=True)\n",
    "    plt.show()"
   ]
  },
  {
   "cell_type": "markdown",
   "metadata": {},
   "source": [
    "# Panel C: posterior"
   ]
  },
  {
   "cell_type": "code",
   "execution_count": 20,
   "metadata": {},
   "outputs": [
    {
     "name": "stderr",
     "output_type": "stream",
     "text": [
      "/home/michael/Documents/STG_energy_sbi/sbi/utils/plot.py:205: UserWarning: You passed an argument `fig_size`. Since sbi v0.15.0, the argument should be called `figsize`. In future versions, `fig_size` will no longer be supported.\n",
      "  warn(\n",
      "/home/michael/Documents/STG_energy_sbi/sbi/utils/plot.py:563: FutureWarning: elementwise comparison failed; returning scalar instead, but in the future will perform elementwise comparison\n",
      "  if opts[\"labels\"] == [] or opts[\"labels\"] is None:\n"
     ]
    },
    {
     "data": {
      "image/png": "[encoded data removed]",
      "text/plain": [
       "<Figure size 204x204 with 16 Axes>"
      ]
     },
     "metadata": {},
     "output_type": "display_data"
    }
   ],
   "source": [
    "import matplotlib.patheffects as pe\n",
    "\n",
    "with mpl.rc_context(fname='../../../.matplotlibrc'):\n",
    "\n",
    "    labels_ = get_labels_8pt()\n",
    "    labels_[9] += ''\n",
    "\n",
    "    fig, axes = pairplot(samples=[theta_np[:10000]],\n",
    "                           subset=[2,4,10, 16],\n",
    "                           limits=lims,\n",
    "                           ticks=lims,\n",
    "                           fig_size=(17.0*0.12, 17.0*0.12),\n",
    "                           labels=labels_,\n",
    "                           scatter_offdiag={'rasterized':True, 'alpha':1.0},\n",
    "                           samples_colors=[col['SNPE']],\n",
    "                           diag=['kde'],\n",
    "                           upper=['kde'],\n",
    "                           hist_offdiag={'bins':50},\n",
    "                           plot_offdiag={'linewidth': 1.6, 'path_effects':[pe.Stroke(linewidth=2.4, foreground='k'), pe.Normal()]})\n",
    "\n",
    "#     plt.savefig(PANEL_B, facecolor='None', transparent=True)\n",
    "    plt.show()"
   ]
  },
  {
   "cell_type": "markdown",
   "metadata": {},
   "source": [
    "# Panel D: posterior samples"
   ]
  },
  {
   "cell_type": "code",
   "execution_count": 21,
   "metadata": {},
   "outputs": [],
   "source": [
    "time_vec = np.arange(0, 11000, 0.025)"
   ]
  },
  {
   "cell_type": "code",
   "execution_count": 22,
   "metadata": {},
   "outputs": [],
   "source": [
    "trace_posterior = simulate(theta.loc[0], seed=int(seeds[0]))"
   ]
  },
  {
   "cell_type": "code",
   "execution_count": 23,
   "metadata": {},
   "outputs": [
    {
     "data": {
      "image/png": "[encoded data removed]",
      "text/plain": [
       "<Figure size 144x86.4 with 1 Axes>"
      ]
     },
     "metadata": {},
     "output_type": "display_data"
    }
   ],
   "source": [
    "fig, ax = plt.subplots(1,1,figsize=(2.0,1.2))\n",
    "viz.vis_sample_plain(\n",
    "    voltage_trace=trace_posterior,\n",
    "    t=time_vec,\n",
    "    axV=ax,\n",
    "    time_len=int(time_len),\n",
    "    offset=60000,\n",
    "    col=\"k\",\n",
    "    scale_bar=False,\n",
    "    scale_bar_voltage=False,\n",
    "    print_label=False,\n",
    ")\n",
    "plt.savefig(PANEL_B, facecolor='None', transparent=True, dpi=300, bbox_inches='tight')\n",
    "plt.show()"
   ]
  },
  {
   "cell_type": "markdown",
   "metadata": {},
   "source": [
    "# Histograms"
   ]
  },
  {
   "cell_type": "code",
   "execution_count": 24,
   "metadata": {},
   "outputs": [],
   "source": [
    "all_energies_per_spike = x[\"energies_per_spike\"].to_numpy()\n",
    "all_total_energies = x[\"energies\"].to_numpy()"
   ]
  },
  {
   "cell_type": "code",
   "execution_count": 25,
   "metadata": {},
   "outputs": [],
   "source": [
    "summed_energies_per_spike = np.sum(np.asarray(all_energies_per_spike), axis=1)\n",
    "summed_energies_total = np.sum(np.asarray(all_total_energies), axis=1)"
   ]
  },
  {
   "cell_type": "code",
   "execution_count": 26,
   "metadata": {},
   "outputs": [
    {
     "data": {
      "image/png": "[encoded data removed]",
      "text/plain": [
       "<Figure size 100x100 with 1 Axes>"
      ]
     },
     "metadata": {},
     "output_type": "display_data"
    }
   ],
   "source": [
    "with mpl.rc_context(fname=\"../../../.matplotlibrc\"):\n",
    "    fig, ax = plt.subplots(1, 1, figsize=(1.0, 1.0))\n",
    "\n",
    "#     # / 10 because of 10 seconds simulation_time. /1000 to go from nJ to muJ\n",
    "#     _ = ax[0].hist(\n",
    "#         all_total_energies[:, 0]/10/1000, range=[0, 30], bins=100, color=\"#3182bd\"\n",
    "#     )\n",
    "#     ax[0].set_ylabel(\"Count\")\n",
    "#     ax[0].tick_params(axis=\"both\", which=\"major\")\n",
    "#     ax[0].spines[\"top\"].set_visible(False)\n",
    "#     ax[0].spines[\"right\"].set_visible(False)\n",
    "#     ax[0].spines[\"left\"].set_visible(False)\n",
    "#     ax[0].axes.get_yaxis().set_ticks([])\n",
    "#     ax[0].set_title(\"AB/PD\")\n",
    "\n",
    "#     _ = ax[1].hist(\n",
    "#         all_total_energies[:, 1]/10/1000, range=[0, 30], bins=100, color=\"#fc8d59\"\n",
    "#     )\n",
    "#     # ax[1].set_ylabel('Count')\n",
    "#     ax[1].tick_params(axis=\"both\", which=\"major\")\n",
    "#     ax[1].spines[\"top\"].set_visible(False)\n",
    "#     ax[1].spines[\"right\"].set_visible(False)\n",
    "#     ax[1].spines[\"left\"].set_visible(False)\n",
    "#     ax[1].axes.get_yaxis().set_ticks([])\n",
    "#     ax[1].set_title(\"LP\")\n",
    "\n",
    "#     _ = ax[2].hist(\n",
    "#         all_total_energies[:, 2]/10/1000, range=[0, 30], bins=100, color=\"#2ca25f\"\n",
    "#     )\n",
    "#     # ax[2].set_ylabel('Count')\n",
    "#     ax[2].tick_params(axis=\"both\", which=\"major\")\n",
    "#     ax[2].spines[\"top\"].set_visible(False)\n",
    "#     ax[2].spines[\"right\"].set_visible(False)\n",
    "#     ax[2].spines[\"left\"].set_visible(False)\n",
    "#     ax[2].axes.get_yaxis().set_ticks([])\n",
    "#     ax[2].set_title(\"PY\")\n",
    "\n",
    "    _ = ax.hist(summed_energies_total/10/1000, range=[0, 30], bins=100, color=\"k\")\n",
    "    # ax[3].set_ylabel('Count')\n",
    "    ax.tick_params(axis=\"both\", which=\"major\")\n",
    "    ax.spines[\"top\"].set_visible(False)\n",
    "    ax.spines[\"right\"].set_visible(False)\n",
    "    ax.spines[\"left\"].set_visible(False)\n",
    "    ax.axes.get_yaxis().set_ticks([])\n",
    "#     ax.set_title(\"Sum\")\n",
    "\n",
    "    plt.subplots_adjust(wspace=0.3)\n",
    "\n",
    "    ax.set_xlim([0, 30])\n",
    "    ax.spines[\"top\"].set_visible(False)\n",
    "    ax.spines[\"right\"].set_visible(False)\n",
    "    ax.spines[\"left\"].set_visible(False)\n",
    "    ax.set_xlabel(\"Energy ($\\mu$J/s)\")\n",
    "    ax.set_xticks([0, 30])\n",
    "    ax.set_ylabel(\"Count\")\n",
    "\n",
    "    plt.savefig(PANEL_C, facecolor=\"None\", transparent=True)\n",
    "    plt.show()"
   ]
  },
  {
   "cell_type": "code",
   "execution_count": 27,
   "metadata": {},
   "outputs": [
    {
     "name": "stdout",
     "output_type": "stream",
     "text": [
      "min and max differ by:   9.179786456831717\n"
     ]
    }
   ],
   "source": [
    "print(\"min and max differ by:  \", np.max(summed_energies_total/10/1000) / np.min(summed_energies_total/10/1000))"
   ]
  },
  {
   "cell_type": "code",
   "execution_count": 28,
   "metadata": {},
   "outputs": [
    {
     "data": {
      "image/png": "[encoded data removed]",
      "text/plain": [
       "<Figure size 450x100 with 3 Axes>"
      ]
     },
     "metadata": {},
     "output_type": "display_data"
    }
   ],
   "source": [
    "with mpl.rc_context(fname=\"../../../.matplotlibrc\"):\n",
    "    fig, ax = plt.subplots(1, 3, figsize=(4.5, 1))\n",
    "\n",
    "    # The factor /4000 comes from: 10 second recording. 0.025ms stepsize -> total energy = int_energy = energy * 0.025ms = energy / 40000\n",
    "    _ = ax[0].hist(all_energies_per_spike[:, 0] / 1000, range=[0, 1], bins=100, color=\"#3182bd\")\n",
    "    ax[0].set_ylabel(\"Count\")\n",
    "    ax[0].axes.get_yaxis().set_ticks([])\n",
    "    ax[0].set_title(\"AB/PD\")\n",
    "\n",
    "    _ = ax[1].hist(\n",
    "        all_energies_per_spike[:, 1] / 1000, range=[0, 1], bins=100, color=\"#fc8d59\"\n",
    "    )\n",
    "    # ax[1].set_ylabel('Count')\n",
    "    ax[1].set_xlabel(\"E/spike\")\n",
    "    ax[1].axes.get_yaxis().set_ticks([])\n",
    "    ax[1].set_title(\"LP\")\n",
    "\n",
    "    _ = ax[2].hist(all_energies_per_spike[:, 2] / 1000, range=[0, 1], bins=100, color=\"#2ca25f\")\n",
    "    # ax[2].set_ylabel('Count')\n",
    "    ax[2].set_xlabel(\"E/spike\")\n",
    "    ax[2].axes.get_yaxis().set_ticks([])\n",
    "    ax[2].set_title(\"PY\")\n",
    "\n",
    "    for i in range(3):\n",
    "        ax[i].set_xlim([0, 1])\n",
    "        ax[i].set_xticks([0, 1])\n",
    "        ax[i].set_xlabel(\"E/spike ($\\mu$J)\")\n",
    "        ax[i].spines[\"top\"].set_visible(False)\n",
    "        ax[i].spines[\"right\"].set_visible(False)\n",
    "        ax[i].spines[\"left\"].set_visible(False)\n",
    "\n",
    "    plt.subplots_adjust(wspace=0.3)\n",
    "\n",
    "#     plt.savefig(PANEL_I, facecolor=\"None\", transparent=True)\n",
    "    plt.show()"
   ]
  },
  {
   "cell_type": "markdown",
   "metadata": {},
   "source": [
    "# Fig 3"
   ]
  },
  {
   "cell_type": "code",
   "execution_count": 29,
   "metadata": {},
   "outputs": [],
   "source": [
    "import sys\n",
    "from sbi.utils import user_input_checks_utils\n",
    "\n",
    "sys.modules[\"sbi.user_input.user_input_checks_utils\"] = user_input_checks_utils"
   ]
  },
  {
   "cell_type": "code",
   "execution_count": 30,
   "metadata": {},
   "outputs": [
    {
     "name": "stderr",
     "output_type": "stream",
     "text": [
      "/home/michael/Documents/STG_energy_sbi/sbi/inference/posteriors/base_posterior.py:1089: UserWarning: You had saved the posterior under an older version of `sbi`. To make the loaded version comply with the version you are using right now, we had to set the following attributes: `self._device = cpu` `self._num_iid_trials = None` `self._iid_methods = ['snle', 'snre_a', 'snre_b']` `self._allow_iid_x = False` `self._sample_with = rejection`\n",
      "  warn(warning_description + warning_msg)\n"
     ]
    }
   ],
   "source": [
    "with open(\n",
    "    \"../../../results/trained_neural_nets/inference/posterior_11deg.pickle\", \"rb\"\n",
    ") as handle:\n",
    "    posterior = pickle.load(handle)\n",
    "    posterior._device = 'cpu'\n",
    "    posterior._sample_with = \"rejection\""
   ]
  },
  {
   "cell_type": "code",
   "execution_count": 31,
   "metadata": {},
   "outputs": [],
   "source": [
    "energies = x[\"energies\"]"
   ]
  },
  {
   "cell_type": "code",
   "execution_count": 32,
   "metadata": {},
   "outputs": [],
   "source": [
    "energies_tt = torch.as_tensor(energies.to_numpy())\n",
    "x_tt = torch.as_tensor(x_np, dtype=torch.float32)"
   ]
  },
  {
   "cell_type": "code",
   "execution_count": 41,
   "metadata": {},
   "outputs": [],
   "source": [
    "num_test = 500\n",
    "\n",
    "test_params = theta_np[:num_test]\n",
    "train_params = theta_np[num_test:]\n",
    "mean_params = prior.mean.numpy()\n",
    "std_params = prior.stddev.numpy()\n",
    "\n",
    "mean_params = obtain_max_in_dimension(mean_params)\n",
    "std_params = obtain_max_in_dimension(std_params)\n",
    "\n",
    "train_params_norm = (train_params - mean_params) / std_params\n",
    "test_params_norm = (test_params - mean_params) / std_params"
   ]
  },
  {
   "cell_type": "code",
   "execution_count": 42,
   "metadata": {},
   "outputs": [],
   "source": [
    "train_energy_ABPD = torch.sum(torch.as_tensor(energies.to_numpy())[num_test:], dim=1).unsqueeze(1)\n",
    "test_energy_ABPD = torch.sum(torch.as_tensor(energies.to_numpy())[:num_test], dim=1).unsqueeze(1)\n",
    "mean_energy = torch.mean(train_energy_ABPD)\n",
    "std_energy = torch.std(train_energy_ABPD)\n",
    "train_energy_ABPD_norm = (train_energy_ABPD - mean_energy) / std_energy\n",
    "test_energy_ABPD_norm = (test_energy_ABPD - mean_energy) / std_energy\n",
    "\n",
    "regressor = LinearRegression()\n",
    "fitted_reg = regressor.fit(train_params_norm, train_energy_ABPD_norm)\n",
    "predictions = fitted_reg.predict(test_params_norm)\n",
    "coeff = np.asarray([fitted_reg.coef_[0]])\n",
    "coeff = coeff / np.linalg.norm(coeff)"
   ]
  },
  {
   "cell_type": "code",
   "execution_count": 43,
   "metadata": {},
   "outputs": [
    {
     "data": {
      "image/png": "[encoded data removed]",
      "text/plain": [
       "<Figure size 250x100 with 1 Axes>"
      ]
     },
     "metadata": {},
     "output_type": "display_data"
    }
   ],
   "source": [
    "with mpl.rc_context(fname=\"../../../.matplotlibrc\"):\n",
    "    viz3.py_sensitivity_bars_cosyne(\n",
    "        torch.as_tensor(coeff)[0],\n",
    "        ylim=[-1, 1.0],\n",
    "        figsize=(2.5, 1.0),\n",
    "        ylabel=\"Weights w\",\n",
    "        plot_labels=True,\n",
    "        title=None,\n",
    "    )\n",
    "    plt.savefig(PANEL_D, facecolor=\"None\", transparent=True)\n",
    "    plt.show()"
   ]
  },
  {
   "cell_type": "markdown",
   "metadata": {},
   "source": [
    "# Assemble figure"
   ]
  },
  {
   "cell_type": "code",
   "execution_count": 44,
   "metadata": {},
   "outputs": [],
   "source": [
    "color_mixture1 = 0.33 * np.asarray(list(col['CONSISTENT1'])) + 0.67 * np.asarray(\n",
    "    list(col['CONSISTENT2']))\n",
    "color_mixture2 = 0.67 * np.asarray(list(col['CONSISTENT1'])) + 0.33 * np.asarray(\n",
    "    list(col['CONSISTENT2']))"
   ]
  },
  {
   "cell_type": "code",
   "execution_count": 45,
   "metadata": {},
   "outputs": [],
   "source": [
    "import time\n",
    "import IPython.display as IPd\n",
    "\n",
    "def svg(img):\n",
    "    IPd.display(IPd.HTML('<img src=\"{}\" / >'.format(img, time.time())))"
   ]
  },
  {
   "cell_type": "code",
   "execution_count": 46,
   "metadata": {},
   "outputs": [
    {
     "data": {
      "text/html": [
       "<img src=\"../fig/prep078_summ1.svg\" / >"
      ],
      "text/plain": [
       "<IPython.core.display.HTML object>"
      ]
     },
     "metadata": {},
     "output_type": "display_data"
    }
   ],
   "source": [
    "from svgutils.compose import *\n",
    "\n",
    "# > Inkscape pixel is 1/90 of an inch, other software usually uses 1/72.\n",
    "# > http://www.inkscapeforum.com/viewtopic.php?f=6&t=5964\n",
    "svg_scale = 1.25  # set this to 1.25 for Inkscape, 1.0 otherwise\n",
    "factor_svg=5.5\n",
    "\n",
    "# Panel letters in Helvetica Neue, 12pt, Medium\n",
    "kwargs_text = {'size': '12pt', 'font': 'Arial', 'weight': '800'}\n",
    "kwargs_consistent = {'size': '10pt', 'font': 'Arial', 'weight': '500', 'color': '#AF99EF'}\n",
    "kwargs_consistent1 = {'size': '10pt', 'font': 'Arial', 'weight': '500', 'color': '#9E7DD5'}\n",
    "kwargs_inconsistent = {'size': '10pt', 'font': 'Arial', 'weight': '500', 'color': '#AF99EF'}\n",
    "kwargs_text8pt = {'size': '7.7pt', 'font': 'Arial'}\n",
    "\n",
    "startx1 = 492\n",
    "startx2 = 594\n",
    "starty1 = 204\n",
    "starty2 = 307\n",
    "\n",
    "endx1 = 642\n",
    "endx2 = 673\n",
    "endy1 = 159\n",
    "endy2 = 191\n",
    "\n",
    "deltax1 =  endx1-startx1\n",
    "deltax2 =  endx2-startx2\n",
    "deltay1 =  endy1-starty1\n",
    "deltay2 =  endy2-starty2\n",
    "\n",
    "sizefactor = 1.0\n",
    "dshift = 0.5*factor_svg\n",
    "\n",
    "f = Figure(\"20.3cm\", \"3.2cm\",\n",
    "\n",
    "    Panel(\n",
    "          SVG(PANEL_A).scale(svg_scale*1.03).move(0*factor_svg, 0*factor_svg),\n",
    "          Text(\"a\", -2*factor_svg, 2.3*factor_svg-dshift, **kwargs_text),\n",
    "        Text(\"PD\", -1.*factor_svg, 6.0*factor_svg, **kwargs_text8pt),\n",
    "        Text(\"LP\", -1.*factor_svg, 10.8*factor_svg, **kwargs_text8pt),\n",
    "        Text(\"PY\", -1.*factor_svg, 15.8*factor_svg, **kwargs_text8pt),\n",
    "    ).move(2*factor_svg, 0*factor_svg+dshift),\n",
    "\n",
    "    Panel(\n",
    "        SVG(PANEL_B).scale(svg_scale).move(0*factor_svg, 0*factor_svg),\n",
    "        Text(\"b\", 0.0*factor_svg, 1.8*factor_svg-dshift, **kwargs_text),\n",
    "    ).move(33.0*factor_svg, 0.5*factor_svg+dshift),\n",
    "\n",
    "    Panel(\n",
    "          SVG(PANEL_C).scale(svg_scale).move(0*factor_svg, 0*factor_svg),\n",
    "          Text(\"c\", -0*factor_svg, 1.1*factor_svg-dshift, **kwargs_text),\n",
    "    ).move(67*factor_svg, 1.2*factor_svg+dshift),\n",
    "\n",
    "    Panel(\n",
    "          SVG(PANEL_D).scale(svg_scale).move(-10*factor_svg,0*factor_svg),\n",
    "          Text(\"d\", -10.5*factor_svg, 1.9*factor_svg-dshift, **kwargs_text),\n",
    "    ).move(99.5*factor_svg, 0.4*factor_svg+dshift),\n",
    "\n",
    ")\n",
    "\n",
    "!mkdir -p fig\n",
    "f.save(\"../fig/prep078_summ1.svg\")\n",
    "svg('../fig/prep078_summ1.svg')"
   ]
  },
  {
   "cell_type": "code",
   "execution_count": null,
   "metadata": {},
   "outputs": [],
   "source": []
  },
  {
   "cell_type": "code",
   "execution_count": null,
   "metadata": {},
   "outputs": [],
   "source": []
  }
 ],
 "metadata": {
  "kernelspec": {
   "display_name": "Python 3",
   "language": "python",
   "name": "python3"
  },
  "language_info": {
   "codemirror_mode": {
    "name": "ipython",
    "version": 3
   },
   "file_extension": ".py",
   "mimetype": "text/x-python",
   "name": "python",
   "nbconvert_exporter": "python",
   "pygments_lexer": "ipython3",
   "version": "3.8.10"
  }
 },
 "nbformat": 4,
 "nbformat_minor": 4
}
