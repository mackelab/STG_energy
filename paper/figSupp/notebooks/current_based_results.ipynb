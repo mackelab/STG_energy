{
 "cells": [
  {
   "cell_type": "code",
   "execution_count": 1,
   "metadata": {},
   "outputs": [],
   "source": [
    "import time\n",
    "from copy import deepcopy\n",
    "\n",
    "import IPython.display as IPd\n",
    "import matplotlib as mpl\n",
    "import matplotlib.pylab as plt\n",
    "import numpy as np"
   ]
  },
  {
   "cell_type": "code",
   "execution_count": 2,
   "metadata": {},
   "outputs": [],
   "source": [
    "\n",
    "import stg_energy.fig3_active_subspaces.viz as viz\n",
    "from pyloric import simulate, summary_stats\n",
    "from stg_energy.common import col, svg\n",
    "import pandas as pd\n",
    "import torch\n",
    "from stg_energy.fig3_active_subspaces.helper_functions import nth_argmax, nth_argmin, obtain_max_in_dimension\n",
    "from stg_energy import check_if_close_to_obs\n"
   ]
  },
  {
   "cell_type": "markdown",
   "metadata": {},
   "source": [
    "# Figure 2"
   ]
  },
  {
   "cell_type": "code",
   "execution_count": 3,
   "metadata": {},
   "outputs": [],
   "source": [
    "pd.options.display.max_columns=999"
   ]
  },
  {
   "cell_type": "code",
   "execution_count": 4,
   "metadata": {},
   "outputs": [],
   "source": [
    "%load_ext autoreload\n",
    "%autoreload 2"
   ]
  },
  {
   "cell_type": "code",
   "execution_count": 5,
   "metadata": {},
   "outputs": [],
   "source": [
    "PANEL_A = \"../svg/panel_a_supp_current.svg\"\n",
    "PANEL_B = \"../svg/panel_b_supp_current.svg\"\n",
    "PANEL_C = \"../svg/panel_c_supp_current.svg\"\n",
    "PANEL_D = \"../svg/panel_d_supp_current.svg\""
   ]
  },
  {
   "cell_type": "code",
   "execution_count": 6,
   "metadata": {},
   "outputs": [],
   "source": [
    "theta = pd.read_pickle(\"../../../results/simulation_data_Tube_MLslurm_cluster/close_to_xo_circuit_parameters.pkl\")\n",
    "x = pd.read_pickle(\"../../../results/simulation_data_Tube_MLslurm_cluster/close_to_xo_simulation_outputs.pkl\")\n",
    "seeds = np.load(\"../../../results/simulation_data_Tube_MLslurm_cluster/close_to_xo_seeds.npy\")\n",
    "\n",
    "theta_np = theta.to_numpy()\n",
    "x_np = x.to_numpy()"
   ]
  },
  {
   "cell_type": "markdown",
   "metadata": {},
   "source": [
    "# Panel A: Histogram for total energy"
   ]
  },
  {
   "cell_type": "code",
   "execution_count": 7,
   "metadata": {},
   "outputs": [],
   "source": [
    "sims_total = pd.read_pickle(\"../../../results/energy_measure_comparison/posterior_total.pkl\")\n",
    "all_total_energies = sims_total[\"energies\"].to_numpy() / 10 / 1.6"
   ]
  },
  {
   "cell_type": "code",
   "execution_count": 8,
   "metadata": {},
   "outputs": [],
   "source": [
    "# summed_energies_per_spike = np.sum(np.asarray(all_energies_per_spike), axis=1)\n",
    "summed_energies_total = np.sum(np.asarray(all_total_energies), axis=1)"
   ]
  },
  {
   "cell_type": "code",
   "execution_count": 9,
   "metadata": {},
   "outputs": [
    {
     "data": {
      "text/plain": [
       "array([22.02134252, 23.85566053, 19.76136732, ..., 25.33556263,\n",
       "       20.41035845, 35.60915965])"
      ]
     },
     "execution_count": 9,
     "metadata": {},
     "output_type": "execute_result"
    }
   ],
   "source": [
    "summed_energies_total"
   ]
  },
  {
   "cell_type": "code",
   "execution_count": 107,
   "metadata": {},
   "outputs": [
    {
     "data": {
      "image/png": "[encoded data removed]",
      "text/plain": [
       "<Figure size 100x120 with 1 Axes>"
      ]
     },
     "metadata": {},
     "output_type": "display_data"
    }
   ],
   "source": [
    "with mpl.rc_context(fname=\"../../../.matplotlibrc\"):\n",
    "    fig, ax = plt.subplots(1, 1, figsize=(1.0, 1.2))\n",
    "\n",
    "\n",
    "    _ = ax.hist(summed_energies_total, range=[0, 50], bins=100, color=\"k\")\n",
    "    # ax[3].set_ylabel('Count')\n",
    "    ax.tick_params(axis=\"both\", which=\"major\")\n",
    "    ax.spines[\"top\"].set_visible(False)\n",
    "    ax.spines[\"right\"].set_visible(False)\n",
    "    ax.spines[\"left\"].set_visible(False)\n",
    "    ax.axes.get_yaxis().set_ticks([])\n",
    "    ax.set_ylabel(\"Count\")\n",
    "    plt.subplots_adjust(wspace=0.3)\n",
    "\n",
    "    ax.set_xlim([0, 50])\n",
    "    ax.spines[\"top\"].set_visible(False)\n",
    "    ax.spines[\"right\"].set_visible(False)\n",
    "    ax.spines[\"left\"].set_visible(False)\n",
    "    ax.set_xlabel(\"Energy ($\\mu$J/s)\")\n",
    "    ax.set_xticks([0, 50])\n",
    "\n",
    "    plt.savefig(PANEL_A, facecolor=\"None\", transparent=True)\n",
    "    plt.show()"
   ]
  },
  {
   "cell_type": "markdown",
   "metadata": {},
   "source": [
    "# Panel B: constrainment"
   ]
  },
  {
   "cell_type": "code",
   "execution_count": 11,
   "metadata": {},
   "outputs": [],
   "source": [
    "cols_hex = [\n",
    "    \"#1b9e77\",\n",
    "    \"#d95f02\",\n",
    "    \"#7570b3\",\n",
    "    \"#e7298a\",\n",
    "    \"#66a61e\",\n",
    "    \"#e6ab02\",\n",
    "    \"#a6761d\",\n",
    "    \"#666666\",\n",
    "    \"#1b9e77\",\n",
    "    \"#d95f02\",\n",
    "    \"#7570b3\",\n",
    "    \"#e7298a\",\n",
    "    \"#66a61e\",\n",
    "    \"#e6ab02\",\n",
    "    \"#a6761d\",\n",
    "    \"#666666\",\n",
    "    \"#1b9e77\",\n",
    "    \"#d95f02\",\n",
    "    \"#7570b3\",\n",
    "    \"#e7298a\",\n",
    "    \"#66a61e\",\n",
    "    \"#e6ab02\",\n",
    "    \"#a6761d\",\n",
    "    \"#666666\",\n",
    "]\n",
    "cols = np.asarray(cols_hex)"
   ]
  },
  {
   "cell_type": "code",
   "execution_count": 12,
   "metadata": {},
   "outputs": [],
   "source": [
    "energies_tt = torch.as_tensor(all_total_energies, dtype=torch.float32)\n",
    "# x_tt = torch.as_tensor(x_np, dtype=torch.float32)"
   ]
  },
  {
   "cell_type": "code",
   "execution_count": 13,
   "metadata": {},
   "outputs": [],
   "source": [
    "num_test = 1000\n",
    "\n",
    "theta_test = torch.as_tensor(theta_np[:num_test], dtype=torch.float32)\n",
    "theta_train = torch.as_tensor(theta_np[num_test:], dtype=torch.float32)"
   ]
  },
  {
   "cell_type": "code",
   "execution_count": 14,
   "metadata": {},
   "outputs": [],
   "source": [
    "train_energy = torch.as_tensor(\n",
    "    torch.sum(energies_tt[num_test:], dim=1).unsqueeze(1), dtype=torch.float32\n",
    ")\n",
    "test_energy = torch.as_tensor(\n",
    "    torch.sum(energies_tt[:num_test], dim=1).unsqueeze(1), dtype=torch.float32\n",
    ")"
   ]
  },
  {
   "cell_type": "code",
   "execution_count": 15,
   "metadata": {},
   "outputs": [],
   "source": [
    "summed_energies = summed_energies_total"
   ]
  },
  {
   "cell_type": "code",
   "execution_count": 16,
   "metadata": {},
   "outputs": [],
   "source": [
    "inds = np.argsort(summed_energies)"
   ]
  },
  {
   "cell_type": "code",
   "execution_count": 17,
   "metadata": {},
   "outputs": [],
   "source": [
    "sorted_energies = summed_energies[inds]\n",
    "num_vals = sorted_energies.shape[0]\n",
    "quantile = 0.02\n",
    "one_percent_quantile = int(num_vals * quantile)\n",
    "ninenine_percent_quantile = int(num_vals * (1-quantile))\n",
    "one_percent_energy = sorted_energies[one_percent_quantile]\n",
    "ninenine_percent_energy = sorted_energies[ninenine_percent_quantile]"
   ]
  },
  {
   "cell_type": "code",
   "execution_count": 18,
   "metadata": {},
   "outputs": [],
   "source": [
    "min_energy_condition = summed_energies < one_percent_energy\n",
    "max_energy_condition = summed_energies > ninenine_percent_energy"
   ]
  },
  {
   "cell_type": "code",
   "execution_count": 19,
   "metadata": {},
   "outputs": [],
   "source": [
    "min_energy_theta = theta_np[min_energy_condition]\n",
    "max_energy_theta = theta_np[max_energy_condition]\n",
    "\n",
    "min_energy_energies = summed_energies[min_energy_condition]\n",
    "max_energy_energies = summed_energies[max_energy_condition]"
   ]
  },
  {
   "cell_type": "code",
   "execution_count": 20,
   "metadata": {},
   "outputs": [],
   "source": [
    "std_of_min_energy = np.std(min_energy_theta, axis=0)\n",
    "std_of_all_samples = np.std(theta_np, axis=0)"
   ]
  },
  {
   "cell_type": "code",
   "execution_count": 21,
   "metadata": {},
   "outputs": [],
   "source": [
    "stds_fraction = 1 - (std_of_min_energy / std_of_all_samples)"
   ]
  },
  {
   "cell_type": "code",
   "execution_count": 106,
   "metadata": {},
   "outputs": [
    {
     "data": {
      "image/png": "[encoded data removed]",
      "text/plain": [
       "<Figure size 180x120 with 1 Axes>"
      ]
     },
     "metadata": {},
     "output_type": "display_data"
    }
   ],
   "source": [
    "with mpl.rc_context(fname=\"../../../.matplotlibrc\"):\n",
    "    viz.py_sensitivity_bars_cosyne(\n",
    "        1.0 - deepcopy(torch.as_tensor(stds_fraction)),\n",
    "        ylim=[0.0, 1.0],\n",
    "        figsize=(1.8, 1.2),\n",
    "        ylabel=\"Fraction of std. dev.\",\n",
    "        title=None,\n",
    "        title_x_offset=-1.1,\n",
    "        title_y_offset=0.1,\n",
    "        legend_y_offset=0.3,\n",
    "        legend=False,\n",
    "        yticks=[0, 1],\n",
    "        ylabelpad=5.5,\n",
    "        rotation=90,\n",
    "        spacing=0.23\n",
    "    )\n",
    "    plt.savefig(PANEL_B, facecolor=\"None\", transparent=False)\n",
    "    plt.show()"
   ]
  },
  {
   "cell_type": "markdown",
   "metadata": {},
   "source": [
    "# Panel C"
   ]
  },
  {
   "cell_type": "code",
   "execution_count": 23,
   "metadata": {},
   "outputs": [],
   "source": [
    "from pyloric import create_prior\n",
    "from sklearn.linear_model import LinearRegression\n",
    "\n",
    "prior = create_prior()"
   ]
  },
  {
   "cell_type": "code",
   "execution_count": 24,
   "metadata": {},
   "outputs": [],
   "source": [
    "energies = torch.as_tensor(all_total_energies, dtype=torch.float32)"
   ]
  },
  {
   "cell_type": "code",
   "execution_count": 25,
   "metadata": {},
   "outputs": [],
   "source": [
    "num_test = 500\n",
    "\n",
    "test_params = theta_np[:num_test]\n",
    "train_params = theta_np[num_test:]\n",
    "mean_params = prior.numerical_prior.mean.numpy()\n",
    "std_params = prior.numerical_prior.stddev.numpy()\n",
    "\n",
    "mean_params = obtain_max_in_dimension(mean_params)\n",
    "std_params = obtain_max_in_dimension(std_params)\n",
    "\n",
    "train_params_norm = (train_params - mean_params) / std_params\n",
    "test_params_norm = (test_params - mean_params) / std_params"
   ]
  },
  {
   "cell_type": "code",
   "execution_count": 26,
   "metadata": {},
   "outputs": [],
   "source": [
    "train_energy_ABPD = torch.sum(torch.as_tensor(energies.numpy())[num_test:], dim=1).unsqueeze(1)\n",
    "test_energy_ABPD = torch.sum(torch.as_tensor(energies.numpy())[:num_test], dim=1).unsqueeze(1)\n",
    "mean_energy = torch.mean(train_energy_ABPD)\n",
    "std_energy = torch.std(train_energy_ABPD)\n",
    "train_energy_ABPD_norm = (train_energy_ABPD - mean_energy) / std_energy\n",
    "test_energy_ABPD_norm = (test_energy_ABPD - mean_energy) / std_energy\n",
    "\n",
    "regressor = LinearRegression()\n",
    "fitted_reg = regressor.fit(train_params_norm, train_energy_ABPD_norm)\n",
    "predictions = fitted_reg.predict(test_params_norm)\n",
    "coeff = np.asarray([fitted_reg.coef_[0]])\n",
    "coeff = coeff / np.linalg.norm(coeff)"
   ]
  },
  {
   "cell_type": "code",
   "execution_count": 27,
   "metadata": {},
   "outputs": [
    {
     "data": {
      "text/plain": [
       "array([[ 0.1727502 ,  0.2202642 ,  0.2110698 , -0.10814327,  0.01554409,\n",
       "        -0.04977924, -0.01045543, -0.04654298,  0.12997827,  0.2866243 ,\n",
       "         0.20686424, -0.08117511, -0.00668267, -0.05561426,  0.00904026,\n",
       "        -0.02317927,  0.3086239 ,  0.38215867,  0.56343347, -0.24364972,\n",
       "        -0.2739956 , -0.08248641,  0.01132163, -0.04305229,  0.02503261,\n",
       "        -0.00919805, -0.01153536,  0.03876711,  0.00540328, -0.01854856,\n",
       "         0.05930854]], dtype=float32)"
      ]
     },
     "execution_count": 27,
     "metadata": {},
     "output_type": "execute_result"
    }
   ],
   "source": [
    "coeff"
   ]
  },
  {
   "cell_type": "code",
   "execution_count": 105,
   "metadata": {},
   "outputs": [
    {
     "data": {
      "image/png": "[encoded data removed]",
      "text/plain": [
       "<Figure size 235x120 with 1 Axes>"
      ]
     },
     "metadata": {},
     "output_type": "display_data"
    }
   ],
   "source": [
    "with mpl.rc_context(fname=\"../../../.matplotlibrc\"):\n",
    "    viz.py_sensitivity_bars_cosyne(\n",
    "        torch.as_tensor(coeff)[0],\n",
    "        ylim=[-1, 1.0],\n",
    "        figsize=(2.35, 1.2),\n",
    "        ylabel='Weights w',\n",
    "        plot_labels=True,\n",
    "        legend=False,\n",
    "        title='Total energy',\n",
    "        yticks=[-1, 0, 1]\n",
    "    )\n",
    "    plt.savefig(PANEL_C, facecolor=\"None\", transparent=False)\n",
    "    plt.show()"
   ]
  },
  {
   "cell_type": "markdown",
   "metadata": {},
   "source": [
    "# Panel D"
   ]
  },
  {
   "cell_type": "code",
   "execution_count": 29,
   "metadata": {},
   "outputs": [],
   "source": [
    "sims_p = \"../../../results/simulation_data_Tube_MLslurm_cluster/\""
   ]
  },
  {
   "cell_type": "code",
   "execution_count": 30,
   "metadata": {},
   "outputs": [],
   "source": [
    "theta_11_11_close = pd.read_pickle(sims_p+\"close_to_xo_circuit_parameters.pkl\")\n",
    "# x_11_11_close = pd.read_pickle(sims_p+\"close_to_xo_simulation_outputs.pkl\")\n",
    "\n",
    "x_11_11_close = pd.read_pickle(\"../../../results/energy_measure_comparison/posterior_total.pkl\")\n",
    "\n",
    "seeds_11_11_close = np.load(sims_p+\"close_to_xo_seeds.npy\")\n",
    "\n",
    "theta_11_11_close_np = theta_11_11_close.to_numpy()\n",
    "x_11_11_close_np = x_11_11_close.to_numpy()"
   ]
  },
  {
   "cell_type": "code",
   "execution_count": 31,
   "metadata": {},
   "outputs": [],
   "source": [
    "theta_27_11 = pd.read_pickle(sims_p+\"simulate_27deg_R4_predictives_at_11deg_notau/data/all_circuit_parameters.pkl\")\n",
    "x_27_11 = pd.read_pickle(sims_p+\"simulate_27deg_R4_predictives_at_11deg_notau/data/all_simulation_outputs.pkl\")\n",
    "seeds_27_11 = np.load(sims_p+\"simulate_27deg_R4_predictives_at_11deg_notau/data/all_seeds.npy\")\n",
    "\n",
    "theta_27_11_np = theta_27_11.to_numpy()\n",
    "x_27_11_np = x_27_11.to_numpy()"
   ]
  },
  {
   "cell_type": "code",
   "execution_count": 32,
   "metadata": {},
   "outputs": [],
   "source": [
    "theta_27_27 = pd.read_pickle(sims_p+\"simulate_27deg_R4_predictives_at_27deg_notau/data/all_circuit_parameters.pkl\")\n",
    "x_27_27 = pd.read_pickle(sims_p+\"simulate_27deg_R4_predictives_at_27deg_notau/data/all_simulation_outputs.pkl\")\n",
    "seeds_27_27 = np.load(sims_p+\"simulate_27deg_R4_predictives_at_27deg_notau/data/all_seeds.npy\")\n",
    "\n",
    "theta_27_27_np = theta_27_27.to_numpy()\n",
    "x_27_27_np = x_27_27.to_numpy()"
   ]
  },
  {
   "cell_type": "code",
   "execution_count": 33,
   "metadata": {},
   "outputs": [],
   "source": [
    "condition_rejection_nan = pd.read_pickle(sims_p+\"simulate_11deg_R3_predictives_at_27deg_notau_only_close/data/simulation_outputs/sim_0.pkl\")\n",
    "condition_rejection_nan_np = condition_rejection_nan.to_numpy()\n",
    "\n",
    "condition_rejection = np.invert(np.any(np.isnan(condition_rejection_nan_np), axis=1))\n",
    "\n",
    "x_11_11_rejection_nan = x_11_11_close[condition_rejection]\n",
    "x_11_11_rejection_nan = x_11_11_rejection_nan.loc[x_11_11_rejection_nan['pyloric_like']['Circuit'] == 1.0]\n",
    "x_11_11_rejection_nan_np = x_11_11_close_np[condition_rejection]\n",
    "theta_11_11_rejection_nan_np = theta_11_11_close_np[condition_rejection]"
   ]
  },
  {
   "cell_type": "code",
   "execution_count": 34,
   "metadata": {},
   "outputs": [],
   "source": [
    "xo11 = np.load(\"../../../results/experimental_data/xo_11deg.npy\")\n",
    "xo27 = np.load(\"../../../results/experimental_data/xo_27deg.npy\")\n",
    "\n",
    "npz = np.load(\"../../../results/experimental_data/trace_data_845_082_0044.npz\")\n",
    "t = npz[\"t\"]"
   ]
  },
  {
   "cell_type": "code",
   "execution_count": 35,
   "metadata": {},
   "outputs": [],
   "source": [
    "close_at_11 = check_if_close_to_obs(x_27_11_np)\n",
    "close_at_27 = check_if_close_to_obs(x_27_27_np, xo=xo27[:15])\n",
    "close_at_both = np.asarray([c1 and c2 for c1, c2 in zip(close_at_11, close_at_27)])\n",
    "\n",
    "x_27_27_close = x_27_27[close_at_both]\n",
    "theta_27_27_close = theta_27_27[close_at_both]\n",
    "seeds_27_27_close = seeds_27_27[close_at_both]\n",
    "\n",
    "x_27_27_close_np = x_27_27_np[close_at_both]\n",
    "theta_27_27_close_np = theta_27_27_np[close_at_both]\n",
    "\n",
    "x_27_11_close = x_27_11[close_at_both]\n",
    "theta_27_11_close = theta_27_11[close_at_both]\n",
    "seeds_27_11_close = seeds_27_11[close_at_both]\n",
    "\n",
    "x_27_11_close_np = x_27_11_np[close_at_both]\n",
    "theta_27_11_close_np = theta_27_11_np[close_at_both]"
   ]
  },
  {
   "cell_type": "code",
   "execution_count": 36,
   "metadata": {},
   "outputs": [],
   "source": [
    "x_27_11_close.index = np.arange(len(x_27_11_close))\n",
    "theta_27_11_close.index = np.arange(len(theta_27_11_close))\n",
    "\n",
    "x_27_27_close.index = np.arange(len(x_27_27_close))\n",
    "theta_27_27_close.index = np.arange(len(theta_27_27_close))"
   ]
  },
  {
   "cell_type": "code",
   "execution_count": 37,
   "metadata": {},
   "outputs": [
    {
     "data": {
      "text/html": [
       "<div>\n",
       "<style scoped>\n",
       "    .dataframe tbody tr th:only-of-type {\n",
       "        vertical-align: middle;\n",
       "    }\n",
       "\n",
       "    .dataframe tbody tr th {\n",
       "        vertical-align: top;\n",
       "    }\n",
       "\n",
       "    .dataframe thead tr th {\n",
       "        text-align: left;\n",
       "    }\n",
       "</style>\n",
       "<table border=\"1\" class=\"dataframe\">\n",
       "  <thead>\n",
       "    <tr>\n",
       "      <th></th>\n",
       "      <th colspan=\"8\" halign=\"left\">AB/PD</th>\n",
       "      <th colspan=\"8\" halign=\"left\">LP</th>\n",
       "      <th colspan=\"8\" halign=\"left\">PY</th>\n",
       "      <th colspan=\"7\" halign=\"left\">Synapses</th>\n",
       "    </tr>\n",
       "    <tr>\n",
       "      <th></th>\n",
       "      <th>Na</th>\n",
       "      <th>CaT</th>\n",
       "      <th>CaS</th>\n",
       "      <th>A</th>\n",
       "      <th>KCa</th>\n",
       "      <th>Kd</th>\n",
       "      <th>H</th>\n",
       "      <th>Leak</th>\n",
       "      <th>Na</th>\n",
       "      <th>CaT</th>\n",
       "      <th>CaS</th>\n",
       "      <th>A</th>\n",
       "      <th>KCa</th>\n",
       "      <th>Kd</th>\n",
       "      <th>H</th>\n",
       "      <th>Leak</th>\n",
       "      <th>Na</th>\n",
       "      <th>CaT</th>\n",
       "      <th>CaS</th>\n",
       "      <th>A</th>\n",
       "      <th>KCa</th>\n",
       "      <th>Kd</th>\n",
       "      <th>H</th>\n",
       "      <th>Leak</th>\n",
       "      <th>AB-LP</th>\n",
       "      <th>PD-LP</th>\n",
       "      <th>AB-PY</th>\n",
       "      <th>PD-PY</th>\n",
       "      <th>LP-PD</th>\n",
       "      <th>LP-PY</th>\n",
       "      <th>PY-LP</th>\n",
       "    </tr>\n",
       "  </thead>\n",
       "  <tbody>\n",
       "    <tr>\n",
       "      <th>0</th>\n",
       "      <td>304.990326</td>\n",
       "      <td>1.789204</td>\n",
       "      <td>3.997164</td>\n",
       "      <td>4.001170</td>\n",
       "      <td>7.991362</td>\n",
       "      <td>41.313229</td>\n",
       "      <td>0.002192</td>\n",
       "      <td>0.006065</td>\n",
       "      <td>143.944977</td>\n",
       "      <td>0.158747</td>\n",
       "      <td>8.507117</td>\n",
       "      <td>54.347969</td>\n",
       "      <td>4.330705</td>\n",
       "      <td>122.133148</td>\n",
       "      <td>0.042896</td>\n",
       "      <td>0.014669</td>\n",
       "      <td>289.703857</td>\n",
       "      <td>11.523194</td>\n",
       "      <td>3.412572</td>\n",
       "      <td>31.251215</td>\n",
       "      <td>3.112689</td>\n",
       "      <td>141.121536</td>\n",
       "      <td>0.028108</td>\n",
       "      <td>0.027426</td>\n",
       "      <td>-8.933640</td>\n",
       "      <td>-11.397654</td>\n",
       "      <td>-10.403267</td>\n",
       "      <td>-8.622699</td>\n",
       "      <td>-7.288735</td>\n",
       "      <td>-13.991539</td>\n",
       "      <td>-8.822592</td>\n",
       "    </tr>\n",
       "    <tr>\n",
       "      <th>1</th>\n",
       "      <td>408.176056</td>\n",
       "      <td>7.125993</td>\n",
       "      <td>5.481329</td>\n",
       "      <td>7.802814</td>\n",
       "      <td>12.115567</td>\n",
       "      <td>93.069473</td>\n",
       "      <td>0.000656</td>\n",
       "      <td>0.001899</td>\n",
       "      <td>103.531601</td>\n",
       "      <td>0.617423</td>\n",
       "      <td>5.530856</td>\n",
       "      <td>30.084188</td>\n",
       "      <td>5.449278</td>\n",
       "      <td>56.968632</td>\n",
       "      <td>0.038606</td>\n",
       "      <td>0.018213</td>\n",
       "      <td>594.720337</td>\n",
       "      <td>10.626469</td>\n",
       "      <td>1.999339</td>\n",
       "      <td>33.684559</td>\n",
       "      <td>2.135439</td>\n",
       "      <td>117.302696</td>\n",
       "      <td>0.021839</td>\n",
       "      <td>0.024636</td>\n",
       "      <td>-8.460548</td>\n",
       "      <td>-17.876564</td>\n",
       "      <td>-7.179394</td>\n",
       "      <td>-9.516022</td>\n",
       "      <td>-10.528512</td>\n",
       "      <td>-14.880213</td>\n",
       "      <td>-6.955824</td>\n",
       "    </tr>\n",
       "    <tr>\n",
       "      <th>2</th>\n",
       "      <td>109.887695</td>\n",
       "      <td>3.397462</td>\n",
       "      <td>5.508301</td>\n",
       "      <td>24.641094</td>\n",
       "      <td>11.342633</td>\n",
       "      <td>131.047089</td>\n",
       "      <td>0.004622</td>\n",
       "      <td>0.000486</td>\n",
       "      <td>79.312943</td>\n",
       "      <td>1.699502</td>\n",
       "      <td>2.589211</td>\n",
       "      <td>17.879963</td>\n",
       "      <td>2.742831</td>\n",
       "      <td>69.734612</td>\n",
       "      <td>0.053269</td>\n",
       "      <td>0.028687</td>\n",
       "      <td>138.640289</td>\n",
       "      <td>3.995982</td>\n",
       "      <td>2.122867</td>\n",
       "      <td>31.055859</td>\n",
       "      <td>0.480947</td>\n",
       "      <td>125.208603</td>\n",
       "      <td>0.022984</td>\n",
       "      <td>0.003262</td>\n",
       "      <td>-11.680749</td>\n",
       "      <td>-11.824137</td>\n",
       "      <td>-8.177279</td>\n",
       "      <td>-14.189631</td>\n",
       "      <td>-12.378317</td>\n",
       "      <td>-15.992473</td>\n",
       "      <td>-8.306984</td>\n",
       "    </tr>\n",
       "    <tr>\n",
       "      <th>3</th>\n",
       "      <td>247.452057</td>\n",
       "      <td>1.730958</td>\n",
       "      <td>1.558352</td>\n",
       "      <td>9.972960</td>\n",
       "      <td>4.740343</td>\n",
       "      <td>44.698849</td>\n",
       "      <td>0.002328</td>\n",
       "      <td>0.008061</td>\n",
       "      <td>104.176003</td>\n",
       "      <td>0.541186</td>\n",
       "      <td>7.317458</td>\n",
       "      <td>57.440533</td>\n",
       "      <td>7.649863</td>\n",
       "      <td>70.249985</td>\n",
       "      <td>0.043699</td>\n",
       "      <td>0.014704</td>\n",
       "      <td>272.211914</td>\n",
       "      <td>5.709944</td>\n",
       "      <td>2.545594</td>\n",
       "      <td>33.940456</td>\n",
       "      <td>2.366876</td>\n",
       "      <td>118.905510</td>\n",
       "      <td>0.035291</td>\n",
       "      <td>0.027760</td>\n",
       "      <td>-9.002361</td>\n",
       "      <td>-15.411232</td>\n",
       "      <td>-13.762635</td>\n",
       "      <td>-8.945077</td>\n",
       "      <td>-8.948560</td>\n",
       "      <td>-14.580270</td>\n",
       "      <td>-10.770862</td>\n",
       "    </tr>\n",
       "    <tr>\n",
       "      <th>4</th>\n",
       "      <td>80.258926</td>\n",
       "      <td>1.319289</td>\n",
       "      <td>3.109921</td>\n",
       "      <td>16.975822</td>\n",
       "      <td>8.556080</td>\n",
       "      <td>113.675949</td>\n",
       "      <td>0.000630</td>\n",
       "      <td>0.009864</td>\n",
       "      <td>156.906158</td>\n",
       "      <td>0.762273</td>\n",
       "      <td>5.251544</td>\n",
       "      <td>42.963989</td>\n",
       "      <td>4.737316</td>\n",
       "      <td>98.462387</td>\n",
       "      <td>0.041773</td>\n",
       "      <td>0.010495</td>\n",
       "      <td>478.501740</td>\n",
       "      <td>3.287252</td>\n",
       "      <td>3.523968</td>\n",
       "      <td>34.463661</td>\n",
       "      <td>1.637747</td>\n",
       "      <td>69.111549</td>\n",
       "      <td>0.047965</td>\n",
       "      <td>0.034084</td>\n",
       "      <td>-10.125693</td>\n",
       "      <td>-12.012525</td>\n",
       "      <td>-16.422735</td>\n",
       "      <td>-8.391762</td>\n",
       "      <td>-7.735722</td>\n",
       "      <td>-12.987802</td>\n",
       "      <td>-9.413422</td>\n",
       "    </tr>\n",
       "    <tr>\n",
       "      <th>...</th>\n",
       "      <td>...</td>\n",
       "      <td>...</td>\n",
       "      <td>...</td>\n",
       "      <td>...</td>\n",
       "      <td>...</td>\n",
       "      <td>...</td>\n",
       "      <td>...</td>\n",
       "      <td>...</td>\n",
       "      <td>...</td>\n",
       "      <td>...</td>\n",
       "      <td>...</td>\n",
       "      <td>...</td>\n",
       "      <td>...</td>\n",
       "      <td>...</td>\n",
       "      <td>...</td>\n",
       "      <td>...</td>\n",
       "      <td>...</td>\n",
       "      <td>...</td>\n",
       "      <td>...</td>\n",
       "      <td>...</td>\n",
       "      <td>...</td>\n",
       "      <td>...</td>\n",
       "      <td>...</td>\n",
       "      <td>...</td>\n",
       "      <td>...</td>\n",
       "      <td>...</td>\n",
       "      <td>...</td>\n",
       "      <td>...</td>\n",
       "      <td>...</td>\n",
       "      <td>...</td>\n",
       "      <td>...</td>\n",
       "    </tr>\n",
       "    <tr>\n",
       "      <th>6126</th>\n",
       "      <td>127.028465</td>\n",
       "      <td>1.315958</td>\n",
       "      <td>4.736544</td>\n",
       "      <td>8.775309</td>\n",
       "      <td>11.608871</td>\n",
       "      <td>70.885719</td>\n",
       "      <td>0.000231</td>\n",
       "      <td>0.004543</td>\n",
       "      <td>102.683090</td>\n",
       "      <td>0.287959</td>\n",
       "      <td>3.561882</td>\n",
       "      <td>23.816483</td>\n",
       "      <td>1.007531</td>\n",
       "      <td>58.855659</td>\n",
       "      <td>0.057020</td>\n",
       "      <td>0.010463</td>\n",
       "      <td>288.379211</td>\n",
       "      <td>3.192037</td>\n",
       "      <td>3.749928</td>\n",
       "      <td>40.938690</td>\n",
       "      <td>2.097486</td>\n",
       "      <td>81.657852</td>\n",
       "      <td>0.050458</td>\n",
       "      <td>0.036162</td>\n",
       "      <td>-8.249474</td>\n",
       "      <td>-13.654927</td>\n",
       "      <td>-15.408004</td>\n",
       "      <td>-8.371552</td>\n",
       "      <td>-8.024258</td>\n",
       "      <td>-14.074170</td>\n",
       "      <td>-7.849110</td>\n",
       "    </tr>\n",
       "    <tr>\n",
       "      <th>6127</th>\n",
       "      <td>333.460846</td>\n",
       "      <td>2.698201</td>\n",
       "      <td>5.137254</td>\n",
       "      <td>15.445150</td>\n",
       "      <td>11.699034</td>\n",
       "      <td>73.369278</td>\n",
       "      <td>0.001747</td>\n",
       "      <td>0.005577</td>\n",
       "      <td>67.204430</td>\n",
       "      <td>0.516356</td>\n",
       "      <td>5.210397</td>\n",
       "      <td>55.740448</td>\n",
       "      <td>0.838758</td>\n",
       "      <td>45.124386</td>\n",
       "      <td>0.035484</td>\n",
       "      <td>0.013282</td>\n",
       "      <td>299.198303</td>\n",
       "      <td>7.311912</td>\n",
       "      <td>3.697595</td>\n",
       "      <td>47.332119</td>\n",
       "      <td>2.431706</td>\n",
       "      <td>93.040657</td>\n",
       "      <td>0.025101</td>\n",
       "      <td>0.026172</td>\n",
       "      <td>-12.558969</td>\n",
       "      <td>-11.964643</td>\n",
       "      <td>-7.565369</td>\n",
       "      <td>-9.139029</td>\n",
       "      <td>-7.846698</td>\n",
       "      <td>-16.833633</td>\n",
       "      <td>-9.521032</td>\n",
       "    </tr>\n",
       "    <tr>\n",
       "      <th>6128</th>\n",
       "      <td>301.265320</td>\n",
       "      <td>4.964927</td>\n",
       "      <td>3.280591</td>\n",
       "      <td>0.985764</td>\n",
       "      <td>10.116987</td>\n",
       "      <td>108.212433</td>\n",
       "      <td>0.000006</td>\n",
       "      <td>0.008537</td>\n",
       "      <td>63.884159</td>\n",
       "      <td>1.103435</td>\n",
       "      <td>4.929003</td>\n",
       "      <td>22.421890</td>\n",
       "      <td>8.162315</td>\n",
       "      <td>101.210228</td>\n",
       "      <td>0.029388</td>\n",
       "      <td>0.027117</td>\n",
       "      <td>124.424774</td>\n",
       "      <td>6.287436</td>\n",
       "      <td>3.828130</td>\n",
       "      <td>30.586130</td>\n",
       "      <td>3.825820</td>\n",
       "      <td>147.203522</td>\n",
       "      <td>0.015524</td>\n",
       "      <td>0.015633</td>\n",
       "      <td>-17.530468</td>\n",
       "      <td>-11.203122</td>\n",
       "      <td>-13.985844</td>\n",
       "      <td>-9.434192</td>\n",
       "      <td>-7.154862</td>\n",
       "      <td>-15.426828</td>\n",
       "      <td>-8.151293</td>\n",
       "    </tr>\n",
       "    <tr>\n",
       "      <th>6129</th>\n",
       "      <td>337.023224</td>\n",
       "      <td>5.326642</td>\n",
       "      <td>7.178200</td>\n",
       "      <td>59.952869</td>\n",
       "      <td>14.620828</td>\n",
       "      <td>139.333344</td>\n",
       "      <td>0.000978</td>\n",
       "      <td>0.005662</td>\n",
       "      <td>187.550583</td>\n",
       "      <td>0.139048</td>\n",
       "      <td>11.591822</td>\n",
       "      <td>58.700405</td>\n",
       "      <td>1.885499</td>\n",
       "      <td>94.667984</td>\n",
       "      <td>0.054415</td>\n",
       "      <td>0.018586</td>\n",
       "      <td>573.252380</td>\n",
       "      <td>1.889885</td>\n",
       "      <td>3.260670</td>\n",
       "      <td>32.413410</td>\n",
       "      <td>0.092413</td>\n",
       "      <td>148.334717</td>\n",
       "      <td>0.019156</td>\n",
       "      <td>0.015809</td>\n",
       "      <td>-9.271015</td>\n",
       "      <td>-10.377681</td>\n",
       "      <td>-18.380569</td>\n",
       "      <td>-8.861606</td>\n",
       "      <td>-7.719604</td>\n",
       "      <td>-17.852272</td>\n",
       "      <td>-7.018603</td>\n",
       "    </tr>\n",
       "    <tr>\n",
       "      <th>6130</th>\n",
       "      <td>401.557037</td>\n",
       "      <td>3.434575</td>\n",
       "      <td>1.499387</td>\n",
       "      <td>24.603209</td>\n",
       "      <td>3.843304</td>\n",
       "      <td>81.871033</td>\n",
       "      <td>0.002610</td>\n",
       "      <td>0.007635</td>\n",
       "      <td>139.463181</td>\n",
       "      <td>0.578104</td>\n",
       "      <td>4.907999</td>\n",
       "      <td>49.993027</td>\n",
       "      <td>3.120297</td>\n",
       "      <td>66.642189</td>\n",
       "      <td>0.058204</td>\n",
       "      <td>0.025525</td>\n",
       "      <td>307.446533</td>\n",
       "      <td>8.150930</td>\n",
       "      <td>2.675313</td>\n",
       "      <td>30.622292</td>\n",
       "      <td>2.466575</td>\n",
       "      <td>120.781609</td>\n",
       "      <td>0.031773</td>\n",
       "      <td>0.037647</td>\n",
       "      <td>-9.704490</td>\n",
       "      <td>-14.536919</td>\n",
       "      <td>-16.849085</td>\n",
       "      <td>-8.844224</td>\n",
       "      <td>-11.235164</td>\n",
       "      <td>-17.232328</td>\n",
       "      <td>-10.128167</td>\n",
       "    </tr>\n",
       "  </tbody>\n",
       "</table>\n",
       "<p>6131 rows × 31 columns</p>\n",
       "</div>"
      ],
      "text/plain": [
       "           AB/PD                                                        \\\n",
       "              Na       CaT       CaS          A        KCa          Kd   \n",
       "0     304.990326  1.789204  3.997164   4.001170   7.991362   41.313229   \n",
       "1     408.176056  7.125993  5.481329   7.802814  12.115567   93.069473   \n",
       "2     109.887695  3.397462  5.508301  24.641094  11.342633  131.047089   \n",
       "3     247.452057  1.730958  1.558352   9.972960   4.740343   44.698849   \n",
       "4      80.258926  1.319289  3.109921  16.975822   8.556080  113.675949   \n",
       "...          ...       ...       ...        ...        ...         ...   \n",
       "6126  127.028465  1.315958  4.736544   8.775309  11.608871   70.885719   \n",
       "6127  333.460846  2.698201  5.137254  15.445150  11.699034   73.369278   \n",
       "6128  301.265320  4.964927  3.280591   0.985764  10.116987  108.212433   \n",
       "6129  337.023224  5.326642  7.178200  59.952869  14.620828  139.333344   \n",
       "6130  401.557037  3.434575  1.499387  24.603209   3.843304   81.871033   \n",
       "\n",
       "                                  LP                                  \\\n",
       "             H      Leak          Na       CaT        CaS          A   \n",
       "0     0.002192  0.006065  143.944977  0.158747   8.507117  54.347969   \n",
       "1     0.000656  0.001899  103.531601  0.617423   5.530856  30.084188   \n",
       "2     0.004622  0.000486   79.312943  1.699502   2.589211  17.879963   \n",
       "3     0.002328  0.008061  104.176003  0.541186   7.317458  57.440533   \n",
       "4     0.000630  0.009864  156.906158  0.762273   5.251544  42.963989   \n",
       "...        ...       ...         ...       ...        ...        ...   \n",
       "6126  0.000231  0.004543  102.683090  0.287959   3.561882  23.816483   \n",
       "6127  0.001747  0.005577   67.204430  0.516356   5.210397  55.740448   \n",
       "6128  0.000006  0.008537   63.884159  1.103435   4.929003  22.421890   \n",
       "6129  0.000978  0.005662  187.550583  0.139048  11.591822  58.700405   \n",
       "6130  0.002610  0.007635  139.463181  0.578104   4.907999  49.993027   \n",
       "\n",
       "                                                        PY             \\\n",
       "           KCa          Kd         H      Leak          Na        CaT   \n",
       "0     4.330705  122.133148  0.042896  0.014669  289.703857  11.523194   \n",
       "1     5.449278   56.968632  0.038606  0.018213  594.720337  10.626469   \n",
       "2     2.742831   69.734612  0.053269  0.028687  138.640289   3.995982   \n",
       "3     7.649863   70.249985  0.043699  0.014704  272.211914   5.709944   \n",
       "4     4.737316   98.462387  0.041773  0.010495  478.501740   3.287252   \n",
       "...        ...         ...       ...       ...         ...        ...   \n",
       "6126  1.007531   58.855659  0.057020  0.010463  288.379211   3.192037   \n",
       "6127  0.838758   45.124386  0.035484  0.013282  299.198303   7.311912   \n",
       "6128  8.162315  101.210228  0.029388  0.027117  124.424774   6.287436   \n",
       "6129  1.885499   94.667984  0.054415  0.018586  573.252380   1.889885   \n",
       "6130  3.120297   66.642189  0.058204  0.025525  307.446533   8.150930   \n",
       "\n",
       "                                                                     \\\n",
       "           CaS          A       KCa          Kd         H      Leak   \n",
       "0     3.412572  31.251215  3.112689  141.121536  0.028108  0.027426   \n",
       "1     1.999339  33.684559  2.135439  117.302696  0.021839  0.024636   \n",
       "2     2.122867  31.055859  0.480947  125.208603  0.022984  0.003262   \n",
       "3     2.545594  33.940456  2.366876  118.905510  0.035291  0.027760   \n",
       "4     3.523968  34.463661  1.637747   69.111549  0.047965  0.034084   \n",
       "...        ...        ...       ...         ...       ...       ...   \n",
       "6126  3.749928  40.938690  2.097486   81.657852  0.050458  0.036162   \n",
       "6127  3.697595  47.332119  2.431706   93.040657  0.025101  0.026172   \n",
       "6128  3.828130  30.586130  3.825820  147.203522  0.015524  0.015633   \n",
       "6129  3.260670  32.413410  0.092413  148.334717  0.019156  0.015809   \n",
       "6130  2.675313  30.622292  2.466575  120.781609  0.031773  0.037647   \n",
       "\n",
       "       Synapses                                                         \\\n",
       "          AB-LP      PD-LP      AB-PY      PD-PY      LP-PD      LP-PY   \n",
       "0     -8.933640 -11.397654 -10.403267  -8.622699  -7.288735 -13.991539   \n",
       "1     -8.460548 -17.876564  -7.179394  -9.516022 -10.528512 -14.880213   \n",
       "2    -11.680749 -11.824137  -8.177279 -14.189631 -12.378317 -15.992473   \n",
       "3     -9.002361 -15.411232 -13.762635  -8.945077  -8.948560 -14.580270   \n",
       "4    -10.125693 -12.012525 -16.422735  -8.391762  -7.735722 -12.987802   \n",
       "...         ...        ...        ...        ...        ...        ...   \n",
       "6126  -8.249474 -13.654927 -15.408004  -8.371552  -8.024258 -14.074170   \n",
       "6127 -12.558969 -11.964643  -7.565369  -9.139029  -7.846698 -16.833633   \n",
       "6128 -17.530468 -11.203122 -13.985844  -9.434192  -7.154862 -15.426828   \n",
       "6129  -9.271015 -10.377681 -18.380569  -8.861606  -7.719604 -17.852272   \n",
       "6130  -9.704490 -14.536919 -16.849085  -8.844224 -11.235164 -17.232328   \n",
       "\n",
       "                 \n",
       "          PY-LP  \n",
       "0     -8.822592  \n",
       "1     -6.955824  \n",
       "2     -8.306984  \n",
       "3    -10.770862  \n",
       "4     -9.413422  \n",
       "...         ...  \n",
       "6126  -7.849110  \n",
       "6127  -9.521032  \n",
       "6128  -8.151293  \n",
       "6129  -7.018603  \n",
       "6130 -10.128167  \n",
       "\n",
       "[6131 rows x 31 columns]"
      ]
     },
     "execution_count": 37,
     "metadata": {},
     "output_type": "execute_result"
    }
   ],
   "source": [
    "theta_27_11_close"
   ]
  },
  {
   "cell_type": "markdown",
   "metadata": {},
   "source": [
    "# Resimulate, at 11 degree, those configurations that are fit at 27"
   ]
  },
  {
   "cell_type": "code",
   "execution_count": 38,
   "metadata": {},
   "outputs": [],
   "source": [
    "from pyloric import simulate, create_prior, summary_stats\n",
    "from multiprocessing import Pool"
   ]
  },
  {
   "cell_type": "code",
   "execution_count": 59,
   "metadata": {},
   "outputs": [],
   "source": [
    "def my_simulator(params_with_seeds):\n",
    "    p1 = create_prior()\n",
    "    pars = p1.sample((1,))\n",
    "    column_names = pars.columns\n",
    "\n",
    "    parameter_set_pd = pd.DataFrame(\n",
    "        np.asarray([params_with_seeds[:-1]]), columns=column_names\n",
    "    )\n",
    "    out_target = simulate(\n",
    "        parameter_set_pd.loc[0],\n",
    "        seed=int(params_with_seeds[-1]),\n",
    "        dt=0.025,\n",
    "        t_max=11000,\n",
    "        temperature=283,\n",
    "        noise_std=0.001,\n",
    "        track_energy=True,\n",
    "        energy_measure=\"current\"\n",
    "    )\n",
    "    custom_stats = {\n",
    "        \"plateau_durations\": True,\n",
    "        \"num_bursts\": True,\n",
    "        \"num_spikes\": True,\n",
    "        \"energies\": True,\n",
    "        \"energies_per_burst\": True,\n",
    "        \"energies_per_spike\": True,\n",
    "        \"pyloric_like\": True,\n",
    "    }\n",
    "    return summary_stats(out_target, stats_customization=custom_stats, t_burn_in=1000)"
   ]
  },
  {
   "cell_type": "code",
   "execution_count": 72,
   "metadata": {},
   "outputs": [],
   "source": [
    "data_np = theta_27_11_close.to_numpy()\n",
    "params_with_seeds = np.concatenate((data_np, seeds_27_11_close[:, None]), axis=1)"
   ]
  },
  {
   "cell_type": "code",
   "execution_count": 73,
   "metadata": {},
   "outputs": [
    {
     "name": "stdout",
     "output_type": "stream",
     "text": [
      "Simulation time 577.739413022995\n"
     ]
    }
   ],
   "source": [
    "with Pool(16) as pool:\n",
    "    start_time = time.time()\n",
    "    data1 = pool.map(my_simulator, params_with_seeds)\n",
    "    print(\"Simulation time\", time.time() - start_time)\n",
    "\n",
    "sims_out1 = pd.concat(data1, ignore_index=True)\n",
    "sims_out1.to_pickle(\"../../../results/energy_measure_comparison/posterior_total_configs_fitted_at_27_11_close.pkl\")"
   ]
  },
  {
   "cell_type": "code",
   "execution_count": 74,
   "metadata": {},
   "outputs": [],
   "source": [
    "x_27_11_current_based_energy = pd.read_pickle(\"../../../results/energy_measure_comparison/posterior_total_configs_fitted_at_27_11_close.pkl\")\n"
   ]
  },
  {
   "cell_type": "code",
   "execution_count": 75,
   "metadata": {},
   "outputs": [],
   "source": [
    "all_total_energies_11 = x_11_11_close['energies'].to_numpy()\n",
    "all_total_energies_27 = x_27_11_current_based_energy['energies'].to_numpy()\n",
    "all_total_energies_rejection = x_11_11_rejection_nan['energies'].to_numpy()"
   ]
  },
  {
   "cell_type": "code",
   "execution_count": 76,
   "metadata": {},
   "outputs": [],
   "source": [
    "summed_energies_total_11 = np.sum(np.asarray(all_total_energies_11), axis=1) / 10 / 1.6 # per second, micro-Joule\n",
    "summed_energies_total_27 = np.sum(np.asarray(all_total_energies_27), axis=1) / 10 / 1.6\n",
    "summed_energies_total_27_rejection = np.sum(np.asarray(all_total_energies_rejection), axis=1) / 10 / 1.6"
   ]
  },
  {
   "cell_type": "code",
   "execution_count": 77,
   "metadata": {},
   "outputs": [
    {
     "data": {
      "image/png": "[encoded data removed]",
      "text/plain": [
       "<Figure size 260x70 with 1 Axes>"
      ]
     },
     "metadata": {},
     "output_type": "display_data"
    }
   ],
   "source": [
    "with mpl.rc_context(fname='../../../.matplotlibrc'):\n",
    "    fig, ax = plt.subplots(1, 1, figsize=(2.6, 0.7))\n",
    "\n",
    "    hist_vals_11 = ax.hist(summed_energies_total_11, range=(0, 50), bins=100, color='w', density=True)\n",
    "    hist_vals_27_rob = ax.hist(summed_energies_total_27_rejection, range=(0, 50), bins=100, color='w', density=True)\n",
    "    hist_vals_27 = ax.hist(summed_energies_total_27, range=(0, 50), bins=100, color='w', density=True)\n",
    "\n",
    "    hist_diff = hist_vals_11[1][1] - hist_vals_11[1][0]\n",
    "    line11 = ax.plot(hist_vals_11[1][:-1]+hist_diff/2, hist_vals_11[0], c='#1b7837')\n",
    "    line27robust = ax.plot(hist_vals_27_rob[1][:-1]+hist_diff/2, hist_vals_27_rob[0], c='#762a83')\n",
    "    line27 = ax.plot(hist_vals_27[1][:-1]+hist_diff/2, hist_vals_27[0], c='#c51b7d')\n",
    "    ax.set_xlabel('Energy at 11°C ($\\mu J/s$)')\n",
    "    ax.set_ylabel('Count (norm.)')\n",
    "    ax.spines['top'].set_visible(False)\n",
    "    ax.spines['right'].set_visible(False)\n",
    "    ax.set_ylim([0, 0.09])\n",
    "    ax.set_yticks([])\n",
    "\n",
    "    plt.legend((line11[0], line27robust[0], line27[0]), ('Fitted at 11°C', 'Fitted at 11°C & robust at 27°C', 'Fitted at 11°C & fitted at 27°C'), bbox_to_anchor=(0.0, 1.0, 0.5, 0.5), handlelength=0.8, handletextpad=0.3)\n",
    "\n",
    "    plt.savefig(PANEL_D, facecolor='None', transparent=True)"
   ]
  },
  {
   "cell_type": "markdown",
   "metadata": {},
   "source": [
    "# Assemble figure"
   ]
  },
  {
   "cell_type": "code",
   "execution_count": 98,
   "metadata": {},
   "outputs": [],
   "source": [
    "def svg(img):\n",
    "    IPd.display(IPd.HTML('<img src=\"{}\" / >'.format(img, time.time())))"
   ]
  },
  {
   "cell_type": "code",
   "execution_count": 120,
   "metadata": {
    "tags": []
   },
   "outputs": [
    {
     "data": {
      "text/html": [
       "<img src=\"../fig/fig1_supp_current_results.svg\" / >"
      ],
      "text/plain": [
       "<IPython.core.display.HTML object>"
      ]
     },
     "metadata": {},
     "output_type": "display_data"
    }
   ],
   "source": [
    "from svgutils.compose import *\n",
    "import svgutils.transform as sg\n",
    "\n",
    "# > Inkscape pixel is 1/90 of an inch, other software usually uses 1/72.\n",
    "# > http://www.inkscapeforum.com/viewtopic.php?f=6&t=5964\n",
    "svg_scale = 1.25  # set this to 1.25 for Inkscape, 1.0 otherwise\n",
    "factor_svg=5.5\n",
    "\n",
    "# Panel letters in Helvetica Neue, 12pt, Medium\n",
    "kwargs_text = {'size': '12pt', 'font': 'Arial', 'weight': '800'}\n",
    "kwargs_consistent = {'size': '10pt', 'font': 'Arial', 'weight': '500', 'color': '#AF99EF'}\n",
    "kwargs_consistent1 = {'size': '10pt', 'font': 'Arial', 'weight': '500', 'color': '#9E7DD5'}\n",
    "kwargs_inconsistent = {'size': '10pt', 'font': 'Arial', 'weight': '500', 'color': '#AF99EF'}\n",
    "kwargs_text8pt = {'size': '7.7pt', 'font': 'Arial'}\n",
    "\n",
    "f = Figure(\"20.3cm\", \"3.8cm\",\n",
    "\n",
    "    Panel(\n",
    "          SVG(PANEL_A).scale(svg_scale).move(0*factor_svg,0*factor_svg),\n",
    "          Text(\"a\", 0.0*factor_svg, 0.7*factor_svg, **kwargs_text),\n",
    "    ).move(0*factor_svg, 2.3*factor_svg),\n",
    "           \n",
    "    Panel(\n",
    "          SVG(PANEL_B).scale(svg_scale).move(0*factor_svg,0*factor_svg),\n",
    "          Text(\"b\", -1*factor_svg, 1.5*factor_svg, **kwargs_text),\n",
    "    ).move(22*factor_svg, 1.5*factor_svg),\n",
    "    \n",
    "    Panel(\n",
    "          SVG(PANEL_C).scale(svg_scale).move(0*factor_svg,0*factor_svg),\n",
    "          Text(\"c\", 0.0*factor_svg, 1.5*factor_svg, **kwargs_text),\n",
    "    ).move(57*factor_svg, 1.5*factor_svg),\n",
    "           \n",
    "    Panel(\n",
    "          SVG(PANEL_D).scale(svg_scale).move(0*factor_svg,0*factor_svg),\n",
    "          Text(\"d\", 0.0*factor_svg, 3.7*factor_svg, **kwargs_text),\n",
    "    ).move(100*factor_svg, -.7*factor_svg),\n",
    "\n",
    ")\n",
    "\n",
    "f.save(\"../fig/fig1_supp_current_results.svg\")\n",
    "svg('../fig/fig1_supp_current_results.svg')"
   ]
  },
  {
   "cell_type": "code",
   "execution_count": null,
   "metadata": {},
   "outputs": [],
   "source": []
  },
  {
   "cell_type": "code",
   "execution_count": null,
   "metadata": {},
   "outputs": [],
   "source": []
  },
  {
   "cell_type": "code",
   "execution_count": null,
   "metadata": {},
   "outputs": [],
   "source": []
  }
 ],
 "metadata": {
  "kernelspec": {
   "display_name": "Python 3",
   "language": "python",
   "name": "python3"
  },
  "language_info": {
   "codemirror_mode": {
    "name": "ipython",
    "version": 3
   },
   "file_extension": ".py",
   "mimetype": "text/x-python",
   "name": "python",
   "nbconvert_exporter": "python",
   "pygments_lexer": "ipython3",
   "version": "3.8.10"
  }
 },
 "nbformat": 4,
 "nbformat_minor": 4
}
