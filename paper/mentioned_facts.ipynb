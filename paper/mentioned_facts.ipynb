{
 "cells": [
  {
   "cell_type": "markdown",
   "metadata": {},
   "source": [
    "# Mentioned facts in the paper"
   ]
  },
  {
   "cell_type": "code",
   "execution_count": 2,
   "metadata": {},
   "outputs": [],
   "source": [
    "%load_ext autoreload\n",
    "%autoreload 2"
   ]
  },
  {
   "cell_type": "code",
   "execution_count": 3,
   "metadata": {},
   "outputs": [],
   "source": [
    "import numpy as np\n",
    "import matplotlib.pylab as plt\n",
    "import time\n",
    "from copy import deepcopy\n",
    "import pickle\n",
    "\n",
    "import importlib\n",
    "import matplotlib as mpl\n",
    "import matplotlib.patches as mp\n",
    "import pandas as pd\n",
    "\n",
    "from pyloric import create_prior, simulate, summary_stats\n",
    "from stg_energy.common import col, svg, get_labels_8pt\n",
    "import stg_energy.fig1_posterior.viz as viz\n",
    "from sbi.utils import pairplot\n",
    "from stg_energy import check_if_close_to_obs "
   ]
  },
  {
   "cell_type": "code",
   "execution_count": 4,
   "metadata": {},
   "outputs": [],
   "source": [
    "pd.options.display.max_columns=999"
   ]
  },
  {
   "cell_type": "markdown",
   "metadata": {},
   "source": [
    "### Fraction of samples that produce valid simulation outputs"
   ]
  },
  {
   "cell_type": "code",
   "execution_count": 23,
   "metadata": {},
   "outputs": [
    {
     "name": "stdout",
     "output_type": "stream",
     "text": [
      "Fraction of prior samples that produce well-defined summstats:  8.4794 %\n"
     ]
    }
   ],
   "source": [
    "theta = pd.read_pickle(\"../results/simulation_data_Tube_MLslurm_cluster/01_simulate_11deg/data/valid_circuit_parameters.pkl\")\n",
    "x = pd.read_pickle(\"../results/simulation_data_Tube_MLslurm_cluster/01_simulate_11deg/data/valid_simulation_outputs.pkl\")\n",
    "seeds = np.load(\"../results/simulation_data_Tube_MLslurm_cluster/01_simulate_11deg/data/valid_seeds.npy\")\n",
    "\n",
    "theta_np = theta.to_numpy()\n",
    "x_np_1 = x.to_numpy()\n",
    "\n",
    "print(\"Fraction of prior samples that produce well-defined summstats: \", x_np.shape[0] / 3000000 * 100, \"%\")"
   ]
  },
  {
   "cell_type": "code",
   "execution_count": 24,
   "metadata": {},
   "outputs": [
    {
     "name": "stdout",
     "output_type": "stream",
     "text": [
      "Fraction of restricted prior (Round 2) samples that produce well-defined summstats:  8.4794 %\n"
     ]
    }
   ],
   "source": [
    "theta = pd.read_pickle(\"../results/simulation_data_Tube_MLslurm_cluster/01_simulate_11deg_R2/data/valid_circuit_parameters.pkl\")\n",
    "x = pd.read_pickle(\"../results/simulation_data_Tube_MLslurm_cluster/01_simulate_11deg_R2/data/valid_simulation_outputs.pkl\")\n",
    "seeds = np.load(\"../results/simulation_data_Tube_MLslurm_cluster/01_simulate_11deg_R2/data/valid_seeds.npy\")\n",
    "\n",
    "theta_np = theta.to_numpy()\n",
    "x_np_2 = x.to_numpy()\n",
    "\n",
    "print(\"Fraction of restricted prior (Round 2) samples that produce well-defined summstats: \", x_np.shape[0] / 3000000 * 100, \"%\")"
   ]
  },
  {
   "cell_type": "code",
   "execution_count": 25,
   "metadata": {},
   "outputs": [
    {
     "name": "stdout",
     "output_type": "stream",
     "text": [
      "Fraction of restricted prior (Round 3) samples that produce well-defined summstats:  8.4794 %\n"
     ]
    }
   ],
   "source": [
    "theta = pd.read_pickle(\"../results/simulation_data_Tube_MLslurm_cluster/01_simulate_11deg_R3/data/valid_circuit_parameters.pkl\")\n",
    "x = pd.read_pickle(\"../results/simulation_data_Tube_MLslurm_cluster/01_simulate_11deg_R3/data/valid_simulation_outputs.pkl\")\n",
    "seeds = np.load(\"../results/simulation_data_Tube_MLslurm_cluster/01_simulate_11deg_R3/data/valid_seeds.npy\")\n",
    "\n",
    "theta_np = theta.to_numpy()\n",
    "x_np_3 = x.to_numpy()\n",
    "\n",
    "print(\"Fraction of restricted prior (Round 3) samples that produce well-defined summstats: \", x_np.shape[0] / 3000000 * 100, \"%\")"
   ]
  },
  {
   "cell_type": "code",
   "execution_count": 28,
   "metadata": {},
   "outputs": [
    {
     "name": "stdout",
     "output_type": "stream",
     "text": [
      "Total number of valid simulation:   438608\n"
     ]
    }
   ],
   "source": [
    "print(\"Total number of valid simulations:  \", x_np_1.shape[0] + x_np_2.shape[0] + x_np_3.shape[0])"
   ]
  },
  {
   "cell_type": "markdown",
   "metadata": {},
   "source": [
    "### Almost no prior simulations match our criteria"
   ]
  },
  {
   "cell_type": "code",
   "execution_count": 21,
   "metadata": {},
   "outputs": [],
   "source": [
    "theta = pd.read_pickle(\"../results/simulation_data_Tube_MLslurm_cluster/01_simulate_11deg/data/valid_circuit_parameters.pkl\")\n",
    "x = pd.read_pickle(\"../results/simulation_data_Tube_MLslurm_cluster/01_simulate_11deg/data/valid_simulation_outputs.pkl\")\n",
    "seeds = np.load(\"../results/simulation_data_Tube_MLslurm_cluster/01_simulate_11deg/data/valid_seeds.npy\")\n",
    "\n",
    "theta_np = theta.to_numpy()\n",
    "x_np = x.to_numpy()"
   ]
  },
  {
   "cell_type": "code",
   "execution_count": 18,
   "metadata": {},
   "outputs": [],
   "source": [
    "close_sim = check_if_close_to_obs(x_np)"
   ]
  },
  {
   "cell_type": "code",
   "execution_count": 22,
   "metadata": {},
   "outputs": [
    {
     "name": "stdout",
     "output_type": "stream",
     "text": [
      "Number of prior simulations that fulfilled our criteria:   0\n",
      "Overall, we had simulated 3 million times (dataset `/01_simulate_11deg/data/all_circuit_parameters.pkl`)\n"
     ]
    }
   ],
   "source": [
    "print(\"Number of prior simulations that fulfilled our criteria:  \", np.sum(close_sim))\n",
    "print(\"Overall, we had simulated 3 million times (dataset `/01_simulate_11deg/data/all_circuit_parameters.pkl`)\")"
   ]
  },
  {
   "cell_type": "code",
   "execution_count": 5,
   "metadata": {},
   "outputs": [],
   "source": [
    "theta = pd.read_pickle(\"../results/simulation_data_Tube_MLslurm_cluster/01_simulate_11deg_R3/data/valid_circuit_parameters.pkl\")\n",
    "x = pd.read_pickle(\"../results/simulation_data_Tube_MLslurm_cluster/01_simulate_11deg_R3/data/valid_simulation_outputs.pkl\")\n",
    "seeds = np.load(\"../results/simulation_data_Tube_MLslurm_cluster/01_simulate_11deg_R3/data/valid_seeds.npy\")\n",
    "\n",
    "theta_np = theta.to_numpy()\n",
    "x_np = x.to_numpy()"
   ]
  },
  {
   "cell_type": "code",
   "execution_count": 6,
   "metadata": {},
   "outputs": [],
   "source": [
    "close_sim = check_if_close_to_obs(x_np)"
   ]
  },
  {
   "cell_type": "code",
   "execution_count": 7,
   "metadata": {},
   "outputs": [
    {
     "name": "stdout",
     "output_type": "stream",
     "text": [
      "Number of prior simulations that fulfilled our criteria:   1\n",
      "Overall, we had simulated 3 million times (dataset `/01_simulate_11deg/data/all_circuit_parameters.pkl`)\n"
     ]
    }
   ],
   "source": [
    "print(\"Number of restricted prior simulations that fulfilled our criteria:  \", np.sum(close_sim))\n",
    "print(\"Overall, we had simulated 3 million times (dataset `/01_simulate_11deg/data/all_circuit_parameters.pkl`)\")"
   ]
  },
  {
   "cell_type": "markdown",
   "metadata": {},
   "source": [
    "### Number of posterior samples that fulfill the criterion"
   ]
  },
  {
   "cell_type": "code",
   "execution_count": 30,
   "metadata": {},
   "outputs": [
    {
     "name": "stdout",
     "output_type": "stream",
     "text": [
      "Number of great samples 35939\n"
     ]
    }
   ],
   "source": [
    "path = \"../results/simulation_data_Tube_MLslurm_cluster\"\n",
    "theta = pd.read_pickle(path + '/close_to_xo_circuit_parameters.pkl')\n",
    "x = pd.read_pickle(path + '/close_to_xo_simulation_outputs.pkl')\n",
    "seeds = np.load(path + '/close_to_xo_seeds.npy')\n",
    "theta_np = theta.to_numpy()\n",
    "x_np = x.to_numpy()\n",
    "\n",
    "print(\"Number of great samples\", x_np.shape[0])"
   ]
  },
  {
   "cell_type": "markdown",
   "metadata": {},
   "source": [
    "### Number of posterior samples that match data at 11 and 27 degree"
   ]
  },
  {
   "cell_type": "code",
   "execution_count": 34,
   "metadata": {},
   "outputs": [
    {
     "name": "stdout",
     "output_type": "stream",
     "text": [
      "Number of great samples (see fig4 notebook):     967\n"
     ]
    }
   ],
   "source": [
    "print(\"Number of great samples (see fig4 notebook):    \", 967)"
   ]
  },
  {
   "cell_type": "markdown",
   "metadata": {},
   "source": [
    "### Hyperparameters of the classifier"
   ]
  },
  {
   "cell_type": "code",
   "execution_count": 18,
   "metadata": {},
   "outputs": [
    {
     "name": "stdout",
     "output_type": "stream",
     "text": [
      "batchsize, lr, hiddenunits, num_transform_layers:      199 0.000758956039499681 0.437553839592111 80 5\n"
     ]
    }
   ],
   "source": [
    "print(\"batchsize, lr, hiddenunits, num_transform_layers:     \", 199, 0.000758956039499681, 0.437553839592111, 80, 5)"
   ]
  },
  {
   "cell_type": "markdown",
   "metadata": {},
   "source": [
    "### Hyperparameters of the posterior"
   ]
  },
  {
   "cell_type": "code",
   "execution_count": 14,
   "metadata": {},
   "outputs": [],
   "source": [
    "with open(\"../results/trained_neural_nets/inference/posterior_11deg_hyperparams_seed847297.pickle\", \"rb\") as handle:\n",
    "    hyperparams = pickle.load(handle)"
   ]
  },
  {
   "cell_type": "code",
   "execution_count": 17,
   "metadata": {},
   "outputs": [
    {
     "name": "stdout",
     "output_type": "stream",
     "text": [
      "batchsize, lr, hiddenunits, num_transform_layers:      tensor([2.0000e+02, 1.0000e-04, 2.0000e+02, 1.0000e+01])\n"
     ]
    }
   ],
   "source": [
    "print(\"batchsize, lr, hiddenunits, num_transform_layers:     \", hyperparams)"
   ]
  }
 ],
 "metadata": {
  "kernelspec": {
   "display_name": "sbi_prinz",
   "language": "python",
   "name": "sbi_prinz"
  },
  "language_info": {
   "codemirror_mode": {
    "name": "ipython",
    "version": 3
   },
   "file_extension": ".py",
   "mimetype": "text/x-python",
   "name": "python",
   "nbconvert_exporter": "python",
   "pygments_lexer": "ipython3",
   "version": "3.8.5"
  }
 },
 "nbformat": 4,
 "nbformat_minor": 4
}
