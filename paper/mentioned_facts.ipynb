{
 "cells": [
  {
   "cell_type": "markdown",
   "metadata": {},
   "source": [
    "# Mentioned facts in the paper"
   ]
  },
  {
   "cell_type": "code",
   "execution_count": 2,
   "metadata": {},
   "outputs": [],
   "source": [
    "%load_ext autoreload\n",
    "%autoreload 2"
   ]
  },
  {
   "cell_type": "code",
   "execution_count": 27,
   "metadata": {},
   "outputs": [],
   "source": [
    "import numpy as np\n",
    "import matplotlib.pylab as plt\n",
    "import time\n",
    "from copy import deepcopy\n",
    "import pickle\n",
    "import torch\n",
    "\n",
    "import importlib\n",
    "import matplotlib as mpl\n",
    "import matplotlib.patches as mp\n",
    "import pandas as pd\n",
    "\n",
    "from pyloric import create_prior, simulate, summary_stats\n",
    "from stg_energy.common import col, svg, get_labels_8pt\n",
    "import stg_energy.fig1_posterior.viz as viz\n",
    "from sbi.utils import pairplot\n",
    "from stg_energy import check_if_close_to_obs "
   ]
  },
  {
   "cell_type": "code",
   "execution_count": 28,
   "metadata": {},
   "outputs": [],
   "source": [
    "pd.options.display.max_columns=999"
   ]
  },
  {
   "cell_type": "markdown",
   "metadata": {},
   "source": [
    "### Probability of accepted samples under the posterior"
   ]
  },
  {
   "cell_type": "code",
   "execution_count": 29,
   "metadata": {},
   "outputs": [
    {
     "name": "stdout",
     "output_type": "stream",
     "text": [
      "Number of great samples 1020000\n"
     ]
    }
   ],
   "source": [
    "path = \"../results/simulation_data_Tube_MLslurm_cluster\"\n",
    "theta = pd.read_pickle(path + '/simulate_11deg_R3_predictives_at_11deg/data/all_circuit_parameters.pkl')\n",
    "x = pd.read_pickle(path + '/simulate_11deg_R3_predictives_at_11deg/data/all_simulation_outputs.pkl')\n",
    "seeds = np.load(path + '/simulate_11deg_R3_predictives_at_11deg/data/all_seeds.npy')\n",
    "theta_np = theta.to_numpy()\n",
    "x_np = x.to_numpy()\n",
    "\n",
    "print(\"Number of great samples\", x_np.shape[0])"
   ]
  },
  {
   "cell_type": "code",
   "execution_count": 30,
   "metadata": {},
   "outputs": [],
   "source": [
    "close_sim = check_if_close_to_obs(x_np)"
   ]
  },
  {
   "cell_type": "code",
   "execution_count": 31,
   "metadata": {},
   "outputs": [],
   "source": [
    "close_theta = theta_np[close_sim]\n",
    "not_close_theta = theta_np[np.invert(close_sim)]"
   ]
  },
  {
   "cell_type": "code",
   "execution_count": 35,
   "metadata": {},
   "outputs": [],
   "source": [
    "with open(\"../results/trained_neural_nets/inference/posterior_11deg.pickle\", \"rb\") as handle:\n",
    "    posterior = pickle.load(handle)\n",
    "    posterior._device = \"cpu\"\n",
    "    \n",
    "xo = np.load(\"../results/experimental_data/xo_11deg.npy\")"
   ]
  },
  {
   "cell_type": "code",
   "execution_count": 36,
   "metadata": {},
   "outputs": [],
   "source": [
    "num_eval = 10_000\n",
    "close_log_prob = posterior.log_prob(torch.as_tensor(close_theta[:num_eval], dtype=torch.float32), x=xo)\n",
    "not_close_log_prob = posterior.log_prob(torch.as_tensor(not_close_theta[:num_eval], dtype=torch.float32), x=xo)"
   ]
  },
  {
   "cell_type": "code",
   "execution_count": 46,
   "metadata": {},
   "outputs": [
    {
     "data": {
      "image/png": "[encoded data removed]",
      "text/plain": [
       "<Figure size 432x288 with 1 Axes>"
      ]
     },
     "metadata": {
      "needs_background": "light"
     },
     "output_type": "display_data"
    }
   ],
   "source": [
    "vals_good, _, _ = plt.hist(close_log_prob.detach().numpy(), bins=100, range=[-60, -20])\n",
    "vals_bad, _, _ = plt.hist(not_close_log_prob.detach().numpy(), bins=100, range=[-60, -20])"
   ]
  },
  {
   "cell_type": "code",
   "execution_count": 50,
   "metadata": {},
   "outputs": [
    {
     "data": {
      "text/plain": [
       "<matplotlib.legend.Legend at 0x7f916f4cce80>"
      ]
     },
     "execution_count": 50,
     "metadata": {},
     "output_type": "execute_result"
    },
    {
     "data": {
      "image/png": "[encoded data removed]",
      "text/plain": [
       "<Figure size 432x288 with 1 Axes>"
      ]
     },
     "metadata": {
      "needs_background": "light"
     },
     "output_type": "display_data"
    }
   ],
   "source": [
    "plt.plot(np.linspace(-60, 20, 100), vals_good)\n",
    "plt.plot(np.linspace(-60, 20, 100), vals_bad)\n",
    "plt.ylabel(\"Count\")\n",
    "plt.xlabel(\"log-prob under posterior\")\n",
    "plt.legend([\"close samples\", \"not-close samples\"])"
   ]
  },
  {
   "cell_type": "markdown",
   "metadata": {},
   "source": [
    "### Fraction of samples that produce valid simulation outputs"
   ]
  },
  {
   "cell_type": "code",
   "execution_count": 6,
   "metadata": {},
   "outputs": [
    {
     "name": "stdout",
     "output_type": "stream",
     "text": [
      "Fraction of prior samples that produce well-defined summstats:  0.9731 %\n"
     ]
    }
   ],
   "source": [
    "theta = pd.read_pickle(\"../results/simulation_data_Tube_MLslurm_cluster/01_simulate_11deg/data/valid_circuit_parameters.pkl\")\n",
    "x = pd.read_pickle(\"../results/simulation_data_Tube_MLslurm_cluster/01_simulate_11deg/data/valid_simulation_outputs.pkl\")\n",
    "seeds = np.load(\"../results/simulation_data_Tube_MLslurm_cluster/01_simulate_11deg/data/valid_seeds.npy\")\n",
    "\n",
    "theta_np = theta.to_numpy()\n",
    "x_np_1 = x.to_numpy()\n",
    "\n",
    "print(\"Fraction of prior samples that produce well-defined summstats: \", x_np_1.shape[0] / 3000000 * 100, \"%\")"
   ]
  },
  {
   "cell_type": "code",
   "execution_count": 7,
   "metadata": {},
   "outputs": [
    {
     "name": "stdout",
     "output_type": "stream",
     "text": [
      "Fraction of restricted prior (Round 2) samples that produce well-defined summstats:  5.167766666666666 %\n"
     ]
    }
   ],
   "source": [
    "theta = pd.read_pickle(\"../results/simulation_data_Tube_MLslurm_cluster/01_simulate_11deg_R2/data/valid_circuit_parameters.pkl\")\n",
    "x = pd.read_pickle(\"../results/simulation_data_Tube_MLslurm_cluster/01_simulate_11deg_R2/data/valid_simulation_outputs.pkl\")\n",
    "seeds = np.load(\"../results/simulation_data_Tube_MLslurm_cluster/01_simulate_11deg_R2/data/valid_seeds.npy\")\n",
    "\n",
    "theta_np = theta.to_numpy()\n",
    "x_np_2 = x.to_numpy()\n",
    "\n",
    "print(\"Fraction of restricted prior (Round 2) samples that produce well-defined summstats: \", x_np_2.shape[0] / 3000000 * 100, \"%\")"
   ]
  },
  {
   "cell_type": "code",
   "execution_count": 8,
   "metadata": {},
   "outputs": [
    {
     "name": "stdout",
     "output_type": "stream",
     "text": [
      "Fraction of restricted prior (Round 3) samples that produce well-defined summstats:  8.4794 %\n"
     ]
    }
   ],
   "source": [
    "theta = pd.read_pickle(\"../results/simulation_data_Tube_MLslurm_cluster/01_simulate_11deg_R3/data/valid_circuit_parameters.pkl\")\n",
    "x = pd.read_pickle(\"../results/simulation_data_Tube_MLslurm_cluster/01_simulate_11deg_R3/data/valid_simulation_outputs.pkl\")\n",
    "seeds = np.load(\"../results/simulation_data_Tube_MLslurm_cluster/01_simulate_11deg_R3/data/valid_seeds.npy\")\n",
    "\n",
    "theta_np = theta.to_numpy()\n",
    "x_np_3 = x.to_numpy()\n",
    "\n",
    "print(\"Fraction of restricted prior (Round 3) samples that produce well-defined summstats: \", x_np_3.shape[0] / 3000000 * 100, \"%\")"
   ]
  },
  {
   "cell_type": "code",
   "execution_count": 9,
   "metadata": {},
   "outputs": [
    {
     "name": "stdout",
     "output_type": "stream",
     "text": [
      "Total number of valid simulations:   438608\n"
     ]
    }
   ],
   "source": [
    "print(\"Total number of valid simulations:  \", x_np_1.shape[0] + x_np_2.shape[0] + x_np_3.shape[0])"
   ]
  },
  {
   "cell_type": "markdown",
   "metadata": {},
   "source": [
    "### Almost no prior simulations match our criteria"
   ]
  },
  {
   "cell_type": "code",
   "execution_count": 21,
   "metadata": {},
   "outputs": [],
   "source": [
    "theta = pd.read_pickle(\"../results/simulation_data_Tube_MLslurm_cluster/01_simulate_11deg/data/valid_circuit_parameters.pkl\")\n",
    "x = pd.read_pickle(\"../results/simulation_data_Tube_MLslurm_cluster/01_simulate_11deg/data/valid_simulation_outputs.pkl\")\n",
    "seeds = np.load(\"../results/simulation_data_Tube_MLslurm_cluster/01_simulate_11deg/data/valid_seeds.npy\")\n",
    "\n",
    "theta_np = theta.to_numpy()\n",
    "x_np = x.to_numpy()"
   ]
  },
  {
   "cell_type": "code",
   "execution_count": 18,
   "metadata": {},
   "outputs": [],
   "source": [
    "close_sim = check_if_close_to_obs(x_np)"
   ]
  },
  {
   "cell_type": "code",
   "execution_count": 22,
   "metadata": {},
   "outputs": [
    {
     "name": "stdout",
     "output_type": "stream",
     "text": [
      "Number of prior simulations that fulfilled our criteria:   0\n",
      "Overall, we had simulated 3 million times (dataset `/01_simulate_11deg/data/all_circuit_parameters.pkl`)\n"
     ]
    }
   ],
   "source": [
    "print(\"Number of prior simulations that fulfilled our criteria:  \", np.sum(close_sim))\n",
    "print(\"Overall, we had simulated 3 million times (dataset `/01_simulate_11deg/data/all_circuit_parameters.pkl`)\")"
   ]
  },
  {
   "cell_type": "code",
   "execution_count": 5,
   "metadata": {},
   "outputs": [],
   "source": [
    "theta = pd.read_pickle(\"../results/simulation_data_Tube_MLslurm_cluster/01_simulate_11deg_R3/data/valid_circuit_parameters.pkl\")\n",
    "x = pd.read_pickle(\"../results/simulation_data_Tube_MLslurm_cluster/01_simulate_11deg_R3/data/valid_simulation_outputs.pkl\")\n",
    "seeds = np.load(\"../results/simulation_data_Tube_MLslurm_cluster/01_simulate_11deg_R3/data/valid_seeds.npy\")\n",
    "\n",
    "theta_np = theta.to_numpy()\n",
    "x_np = x.to_numpy()"
   ]
  },
  {
   "cell_type": "code",
   "execution_count": 6,
   "metadata": {},
   "outputs": [],
   "source": [
    "close_sim = check_if_close_to_obs(x_np)"
   ]
  },
  {
   "cell_type": "code",
   "execution_count": 7,
   "metadata": {},
   "outputs": [
    {
     "name": "stdout",
     "output_type": "stream",
     "text": [
      "Number of prior simulations that fulfilled our criteria:   1\n",
      "Overall, we had simulated 3 million times (dataset `/01_simulate_11deg/data/all_circuit_parameters.pkl`)\n"
     ]
    }
   ],
   "source": [
    "print(\"Number of restricted prior simulations that fulfilled our criteria:  \", np.sum(close_sim))\n",
    "print(\"Overall, we had simulated 3 million times (dataset `/01_simulate_11deg/data/all_circuit_parameters.pkl`)\")"
   ]
  },
  {
   "cell_type": "markdown",
   "metadata": {},
   "source": [
    "### Number of posterior samples that fulfill the criterion"
   ]
  },
  {
   "cell_type": "code",
   "execution_count": 30,
   "metadata": {},
   "outputs": [
    {
     "name": "stdout",
     "output_type": "stream",
     "text": [
      "Number of great samples 35939\n"
     ]
    }
   ],
   "source": [
    "path = \"../results/simulation_data_Tube_MLslurm_cluster\"\n",
    "theta = pd.read_pickle(path + '/close_to_xo_circuit_parameters.pkl')\n",
    "x = pd.read_pickle(path + '/close_to_xo_simulation_outputs.pkl')\n",
    "seeds = np.load(path + '/close_to_xo_seeds.npy')\n",
    "theta_np = theta.to_numpy()\n",
    "x_np = x.to_numpy()\n",
    "\n",
    "print(\"Number of great samples\", x_np.shape[0])"
   ]
  },
  {
   "cell_type": "markdown",
   "metadata": {},
   "source": [
    "### Number of posterior samples that match data at 11 and 27 degree"
   ]
  },
  {
   "cell_type": "code",
   "execution_count": 34,
   "metadata": {},
   "outputs": [
    {
     "name": "stdout",
     "output_type": "stream",
     "text": [
      "Number of great samples (see fig4 notebook):     967\n"
     ]
    }
   ],
   "source": [
    "print(\"Number of great samples (see fig4 notebook):    \", 967)"
   ]
  },
  {
   "cell_type": "markdown",
   "metadata": {},
   "source": [
    "### Hyperparameters of the classifier"
   ]
  },
  {
   "cell_type": "code",
   "execution_count": 18,
   "metadata": {},
   "outputs": [
    {
     "name": "stdout",
     "output_type": "stream",
     "text": [
      "batchsize, lr, hiddenunits, num_transform_layers:      199 0.000758956039499681 0.437553839592111 80 5\n"
     ]
    }
   ],
   "source": [
    "print(\"batchsize, lr, hiddenunits, num_transform_layers:     \", 199, 0.000758956039499681, 0.437553839592111, 80, 5)"
   ]
  },
  {
   "cell_type": "markdown",
   "metadata": {},
   "source": [
    "### Hyperparameters of the posterior"
   ]
  },
  {
   "cell_type": "code",
   "execution_count": 12,
   "metadata": {},
   "outputs": [],
   "source": [
    "with open(\"../results/trained_neural_nets/inference/posterior_11deg_hyperparams_seed847297.pickle\", \"rb\") as handle:\n",
    "    hyperparams = pickle.load(handle)"
   ]
  },
  {
   "cell_type": "code",
   "execution_count": 13,
   "metadata": {},
   "outputs": [
    {
     "name": "stdout",
     "output_type": "stream",
     "text": [
      "batchsize, lr, hiddenunits, num_transform_layers:      tensor([2.0000e+02, 1.0000e-04, 2.0000e+02, 1.0000e+01])\n"
     ]
    }
   ],
   "source": [
    "print(\"batchsize, lr, hiddenunits, num_transform_layers:     \", hyperparams)"
   ]
  },
  {
   "cell_type": "code",
   "execution_count": null,
   "metadata": {},
   "outputs": [],
   "source": []
  }
 ],
 "metadata": {
  "kernelspec": {
   "display_name": "sbi_prinz",
   "language": "python",
   "name": "sbi_prinz"
  },
  "language_info": {
   "codemirror_mode": {
    "name": "ipython",
    "version": 3
   },
   "file_extension": ".py",
   "mimetype": "text/x-python",
   "name": "python",
   "nbconvert_exporter": "python",
   "pygments_lexer": "ipython3",
   "version": "3.8.5"
  }
 },
 "nbformat": 4,
 "nbformat_minor": 4
}
