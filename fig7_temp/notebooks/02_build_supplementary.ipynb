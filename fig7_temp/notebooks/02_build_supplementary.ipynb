{
 "cells": [
  {
   "cell_type": "markdown",
   "metadata": {},
   "source": [
    "# Fig 1: Infer the posterior over experimental data"
   ]
  },
  {
   "cell_type": "code",
   "execution_count": 1,
   "metadata": {},
   "outputs": [],
   "source": [
    "%matplotlib inline"
   ]
  },
  {
   "cell_type": "code",
   "execution_count": 2,
   "metadata": {},
   "outputs": [],
   "source": [
    "import numpy as np\n",
    "import matplotlib.pylab as plt\n",
    "import delfi.distribution as dd\n",
    "import time\n",
    "from copy import deepcopy\n",
    "import sys\n",
    "sys.path.append(\"../../setup\")\n",
    "sys.path.append(\"../../simulator\")\n",
    "sys.path.append(\"../../inference\")\n",
    "sys.path.append(\"../../visualization\")\n",
    "sys.path.append(\"../../utils\")\n",
    "sys.path.append(\"../\")\n",
    "\n",
    "import netio\n",
    "import viz\n",
    "import viz_samples_thesis\n",
    "import viz_samples\n",
    "import importlib\n",
    "from compare_samples import get_dist, evaluate_summ_stats\n",
    "import viz_samples_thesis\n",
    "import train_utils as tu\n",
    "import startEndUtils as seu\n",
    "from find_pyloric import merge_samples, params_are_bounded\n",
    "import dill as pickle\n",
    "import matplotlib as mpl\n",
    "\n",
    "from common import col, svg, samples_nd\n",
    "from delfi.utils.conditional_density import eval_conditional_density, conditional_correlation, conditional_mutual_information, buildCondCovMatrix, partialCorrelation\n",
    "\n",
    "date_today = '1908208'\n",
    "\n",
    "PANEL_X1 = 'svg/panel_x1.svg'\n",
    "PANEL_X2 = 'svg/panel_x2.svg'\n",
    "PANEL_X3 = 'svg/panel_x3.svg'\n",
    "\n",
    "%load_ext autoreload\n",
    "%autoreload 2"
   ]
  },
  {
   "cell_type": "code",
   "execution_count": 3,
   "metadata": {},
   "outputs": [],
   "source": [
    "params = netio.load_setup(\"collect_31D_paper\")"
   ]
  },
  {
   "cell_type": "code",
   "execution_count": 4,
   "metadata": {},
   "outputs": [],
   "source": [
    "date_today = '190807'\n",
    "import dill as pickle\n",
    "with open('../../thesis_results/temperature/nets/R1_11deg/191031_204070samples_seed1_Exper11deg_larger.pkl', 'rb') as file:\n",
    "    inf_SNPE_MAF_11, log, params_11 = pickle.load(file)\n",
    "with open('../../thesis_results/temperature/nets/R2_15deg/191031_016_seed1_Exper15deg.pkl', 'rb') as file:\n",
    "    inf_SNPE_MAF_15, log, params_15 = pickle.load(file)\n",
    "with open('../../thesis_results/temperature/nets/R3_19deg/191103_seed1_Exper19deg.pkl', 'rb') as file:\n",
    "    inf_SNPE_MAF_19, log, params_19 = pickle.load(file)\n",
    "with open('../../thesis_results/temperature/nets/R4_23deg/191106_seed1_Exper23deg.pkl', 'rb') as file:\n",
    "    inf_SNPE_MAF_23, log, params_23 = pickle.load(file)\n",
    "with open('../../thesis_results/temperature/nets/R5_27deg/191112_seed1_Exper27deg.pkl', 'rb') as file:\n",
    "    inf_SNPE_MAF_27, log, params_27 = pickle.load(file)"
   ]
  },
  {
   "cell_type": "code",
   "execution_count": 5,
   "metadata": {},
   "outputs": [],
   "source": [
    "prior = netio.create_prior(params, log=True)\n",
    "dimensions_11 = np.sum(params.use_membrane) + 7\n",
    "lims_11 = np.asarray([-np.sqrt(3)*np.ones(dimensions_11), np.sqrt(3)*np.ones(dimensions_11)]).T \n",
    "dimensions_15 = np.sum(params.use_membrane) + 7 + 15\n",
    "lims_15 = np.asarray([-np.sqrt(3)*np.ones(dimensions_15), np.sqrt(3)*np.ones(dimensions_15)]).T"
   ]
  },
  {
   "cell_type": "code",
   "execution_count": 6,
   "metadata": {},
   "outputs": [],
   "source": [
    "samples_MAF_11 = merge_samples(\"../../thesis_results/temperature/samples/R1_11deg/02_posterior_samples\", name='conductance_params')\n",
    "samples_MAF_11 = np.reshape(samples_MAF_11, (500*2520, 31))\n",
    "\n",
    "samples_MAF_15 = merge_samples(\"../../thesis_results/temperature/samples/R2_15deg/02_posterior_samples\", name='conductance_params')\n",
    "samples_MAF_15 = np.reshape(samples_MAF_15, (500*2520, 46))\n",
    "\n",
    "samples_MAF_19 = merge_samples(\"../../thesis_results/temperature/samples/R3_19deg/02_posterior_samples\", name='conductance_params')\n",
    "samples_MAF_19 = np.reshape(samples_MAF_19, (500*2520, 46))\n",
    "\n",
    "samples_MAF_23 = merge_samples(\"../../thesis_results/temperature/samples/R4_23deg/02_posterior_samples\", name='conductance_params')\n",
    "samples_MAF_23 = np.reshape(samples_MAF_23, (500*2520, 46))\n",
    "\n",
    "samples_MAF_27 = merge_samples(\"../../thesis_results/temperature/samples/R5_27deg/02_posterior_samples\", name='conductance_params')\n",
    "samples_MAF_27 = np.reshape(samples_MAF_27, (500*2520, 46))"
   ]
  },
  {
   "cell_type": "markdown",
   "metadata": {},
   "source": [
    "### Load data"
   ]
  },
  {
   "cell_type": "code",
   "execution_count": 7,
   "metadata": {},
   "outputs": [],
   "source": [
    "prior = netio.create_prior(params, log=True)\n",
    "params_mean = prior.mean\n",
    "params_std = prior.std\n",
    "import train_utils as tu\n",
    "\n",
    "params = netio.load_setup('train_31D_15deg_R1_paper')\n",
    "prior_41D = netio.create_prior(params, log=True)\n",
    "summstats_experimental_11 = np.load('../../thesis_results/experimental/summstats/857_016/ss_857_016_0049_11.npz')['summ_stats']\n",
    "summstats_experimental_15 = np.load('../../thesis_results/experimental/summstats/857_016/ss_857_016_0056_15.npz')['summ_stats']\n",
    "summstats_experimental_19 = np.load('../../thesis_results/experimental/summstats/857_016/ss_857_016_0059_19.npz')['summ_stats']\n",
    "summstats_experimental_23 = np.load('../../thesis_results/experimental/summstats/857_016/ss_857_016_0063_23.npz')['summ_stats']\n",
    "summstats_experimental_27 = np.load('../../thesis_results/experimental/summstats/857_016/ss_857_016_0069_27.npz')['summ_stats']\n",
    "params = netio.load_setup(\"collect_31D_paper\")"
   ]
  },
  {
   "cell_type": "code",
   "execution_count": 8,
   "metadata": {},
   "outputs": [],
   "source": [
    "posterior_MAF_11 = inf_SNPE_MAF_11.predict([summstats_experimental_11])\n",
    "posterior_MAF_15 = inf_SNPE_MAF_15.predict([summstats_experimental_15])\n",
    "posterior_MAF_19 = inf_SNPE_MAF_19.predict([summstats_experimental_19])\n",
    "posterior_MAF_23 = inf_SNPE_MAF_23.predict([summstats_experimental_23])\n",
    "posterior_MAF_27 = inf_SNPE_MAF_27.predict([summstats_experimental_27])"
   ]
  },
  {
   "cell_type": "code",
   "execution_count": 9,
   "metadata": {},
   "outputs": [],
   "source": [
    "npz = np.load('../../results/experimental/traces/857_016/data_857_016_0056.npz')\n",
    "t_15 = npz['t']\n",
    "\n",
    "counter = 0\n",
    "\n",
    "start_index = 60000\n",
    "end_index   = 100000\n",
    "height_offset = 200"
   ]
  },
  {
   "cell_type": "markdown",
   "metadata": {},
   "source": [
    "# Panel C: samples from posterior"
   ]
  },
  {
   "cell_type": "code",
   "execution_count": 9,
   "metadata": {},
   "outputs": [],
   "source": [
    "prior_15 = netio.create_prior(params_15, log=True)\n",
    "dimensions_15 = np.sum(params_11.use_membrane) + 7 + 15\n",
    "lims_15 = np.asarray([-np.sqrt(3)*np.ones(dimensions_15), np.sqrt(3)*np.ones(dimensions_15)]).T\n",
    "\n",
    "labels_ = viz.get_labels(params_15)\n",
    "prior_normalized = dd.Uniform(-np.sqrt(3)*np.ones(dimensions_15), np.sqrt(3)*np.ones(dimensions_15), seed=params_15.seed)\n",
    "\n",
    "params_11 = deepcopy(params_15)\n",
    "\n",
    "params_mean_15 = prior_15.mean\n",
    "params_std_15 = prior_15.std"
   ]
  },
  {
   "cell_type": "markdown",
   "metadata": {},
   "source": [
    "### 11 degree"
   ]
  },
  {
   "cell_type": "code",
   "execution_count": 10,
   "metadata": {
    "collapsed": true,
    "jupyter": {
     "outputs_hidden": true
    }
   },
   "outputs": [
    {
     "name": "stdout",
     "output_type": "stream",
     "text": [
      "temp:   283\n",
      "temp:   284\n",
      "temp:   285\n",
      "temp:   286\n",
      "temp:   287\n",
      "temp:   288\n",
      "temp:   289\n",
      "temp:   290\n",
      "temp:   291\n",
      "temp:   292\n",
      "temp:   293\n",
      "temp:   294\n",
      "temp:   295\n",
      "temp:   296\n",
      "temp:   297\n",
      "temp:   298\n",
      "temp:   299\n",
      "temp:   283\n",
      "temp:   284\n"
     ]
    },
    {
     "name": "stderr",
     "output_type": "stream",
     "text": [
      "ERROR:root:Internal Python error in the inspect module.\n",
      "Below is the traceback from this internal error.\n",
      "\n"
     ]
    },
    {
     "name": "stdout",
     "output_type": "stream",
     "text": [
      "Traceback (most recent call last):\n",
      "  File \"/Users/deismic/anaconda3/envs/lfi_prinz/lib/python3.7/site-packages/IPython/core/interactiveshell.py\", line 3267, in run_code\n",
      "    exec(code_obj, self.user_global_ns, self.user_ns)\n",
      "  File \"<ipython-input-10-6631825ef525>\", line 23, in <module>\n",
      "    out_target = pyloric_sim_11[0].gen_single(deepcopy(target_params), seed_sim=True, to_seed=418011) # params.true_params gives the synaptic strengths #  165000\n",
      "  File \"../../simulator/prinzetal.py\", line 224, in gen_single\n",
      "    **self.kwargs)\n",
      "KeyboardInterrupt\n",
      "\n",
      "During handling of the above exception, another exception occurred:\n",
      "\n",
      "Traceback (most recent call last):\n",
      "  File \"/Users/deismic/anaconda3/envs/lfi_prinz/lib/python3.7/site-packages/IPython/core/interactiveshell.py\", line 3267, in run_code\n",
      "    exec(code_obj, self.user_global_ns, self.user_ns)\n",
      "KeyboardInterrupt\n",
      "\n",
      "During handling of the above exception, another exception occurred:\n",
      "\n",
      "Traceback (most recent call last):\n",
      "  File \"/Users/deismic/anaconda3/envs/lfi_prinz/lib/python3.7/site-packages/IPython/core/interactiveshell.py\", line 2018, in showtraceback\n",
      "    stb = value._render_traceback_()\n",
      "AttributeError: 'KeyboardInterrupt' object has no attribute '_render_traceback_'\n",
      "\n",
      "During handling of the above exception, another exception occurred:\n",
      "\n",
      "Traceback (most recent call last):\n",
      "  File \"/Users/deismic/anaconda3/envs/lfi_prinz/lib/python3.7/site-packages/IPython/core/ultratb.py\", line 1095, in get_records\n",
      "    return _fixed_getinnerframes(etb, number_of_lines_of_context, tb_offset)\n",
      "  File \"/Users/deismic/anaconda3/envs/lfi_prinz/lib/python3.7/site-packages/IPython/core/ultratb.py\", line 313, in wrapped\n",
      "    return f(*args, **kwargs)\n",
      "  File \"/Users/deismic/anaconda3/envs/lfi_prinz/lib/python3.7/site-packages/IPython/core/ultratb.py\", line 347, in _fixed_getinnerframes\n",
      "    records = fix_frame_records_filenames(inspect.getinnerframes(etb, context))\n",
      "  File \"/Users/deismic/anaconda3/envs/lfi_prinz/lib/python3.7/inspect.py\", line 1500, in getinnerframes\n",
      "    frameinfo = (tb.tb_frame,) + getframeinfo(tb, context)\n",
      "  File \"/Users/deismic/anaconda3/envs/lfi_prinz/lib/python3.7/inspect.py\", line 1458, in getframeinfo\n",
      "    filename = getsourcefile(frame) or getfile(frame)\n",
      "  File \"/Users/deismic/anaconda3/envs/lfi_prinz/lib/python3.7/inspect.py\", line 696, in getsourcefile\n",
      "    if getattr(getmodule(object, filename), '__loader__', None) is not None:\n",
      "  File \"/Users/deismic/anaconda3/envs/lfi_prinz/lib/python3.7/inspect.py\", line 742, in getmodule\n",
      "    os.path.realpath(f)] = module.__name__\n",
      "  File \"/Users/deismic/anaconda3/envs/lfi_prinz/lib/python3.7/posixpath.py\", line 388, in realpath\n",
      "    path, ok = _joinrealpath(filename[:0], filename, {})\n",
      "  File \"/Users/deismic/anaconda3/envs/lfi_prinz/lib/python3.7/posixpath.py\", line 422, in _joinrealpath\n",
      "    if not islink(newpath):\n",
      "  File \"/Users/deismic/anaconda3/envs/lfi_prinz/lib/python3.7/posixpath.py\", line 171, in islink\n",
      "    st = os.lstat(path)\n",
      "KeyboardInterrupt\n"
     ]
    },
    {
     "ename": "KeyboardInterrupt",
     "evalue": "",
     "output_type": "error",
     "traceback": [
      "\u001b[0;31m---------------------------------------------------------------------------\u001b[0m",
      "\nDuring handling of the above exception, another exception occurred:\n",
      "\u001b[0;31mKeyboardInterrupt\u001b[0m                         Traceback (most recent call last)",
      "\u001b[0;31mKeyboardInterrupt\u001b[0m: "
     ]
    }
   ],
   "source": [
    "num_samples = 2\n",
    "time_len = int(40000 * (t_15[1]- t_15[0]) / 0.025/1e-3)\n",
    "\n",
    "show_xaxis = False\n",
    "counter = 0\n",
    "num_samples = 10\n",
    "all_ss = []\n",
    "\n",
    "temp_vec = np.arange(283,300)\n",
    "\n",
    "for counter in range(num_samples):\n",
    "    for temp in temp_vec:\n",
    "\n",
    "        params_11.model_params['temp'] = temp\n",
    "        pyloric_sim_11 = netio.create_simulators(params_11)\n",
    "        summ_stats_11 = netio.create_summstats(params_11)\n",
    "\n",
    "        print('temp:  ', temp)\n",
    "        #fig, ax = plt.subplots(1,1,figsize=(1.8,1.15))\n",
    "        params1 = samples_MAF_27[2+counter]\n",
    "\n",
    "        target_params = params1 * params_std_15 + params_mean_15\n",
    "        out_target = pyloric_sim_11[0].gen_single(deepcopy(target_params), seed_sim=True, to_seed=418011) # params.true_params gives the synaptic strengths #  165000\n",
    "        ss = summ_stats_11.calc([out_target])[0]\n",
    "        #print('ss', ss)\n",
    "        all_ss.append(ss)\n",
    "\n",
    "        #ax = viz_samples.vis_sample_plain(pyloric_sim_11[0], summ_stats_11, target_params, voltage_trace=out_target, test_idx=[0], axV=ax, case='high_p', col=[col['CONSISTENT1'], col['CONSISTENT1'], col['CONSISTENT1']], time_len=time_len, fontscale=1.2, show_xaxis=show_xaxis, linescale=1.2, legend=False, offset=20000,\n",
    "        #                             title='Sample along the path of high probability in Prinz format', date_today='190705_posterior_samples_experimental', counter=0, save_fig=False)\n",
    "        plt.show()"
   ]
  },
  {
   "cell_type": "code",
   "execution_count": null,
   "metadata": {},
   "outputs": [],
   "source": [
    "np.savez('../../thesis_results/temperature/posterior_samples_along_T/samplesAlongTemperature.npz', all_ss=all_ss)"
   ]
  },
  {
   "cell_type": "code",
   "execution_count": 20,
   "metadata": {},
   "outputs": [],
   "source": [
    "all_ss = np.load('../../thesis_results/temperature/posterior_samples_along_T/samplesAlongTemperature.npz')['all_ss']"
   ]
  },
  {
   "cell_type": "code",
   "execution_count": 21,
   "metadata": {},
   "outputs": [
    {
     "data": {
      "text/plain": [
       "(170, 19)"
      ]
     },
     "execution_count": 21,
     "metadata": {},
     "output_type": "execute_result"
    }
   ],
   "source": [
    "np.shape(all_ss)"
   ]
  },
  {
   "cell_type": "code",
   "execution_count": 18,
   "metadata": {},
   "outputs": [],
   "source": [
    "all_ss_reshape = np.reshape(all_ss, (num_samples, int(len(all_ss)/num_samples), 19))"
   ]
  },
  {
   "cell_type": "markdown",
   "metadata": {},
   "source": [
    "# Panel A: Plot all cycle frequencies"
   ]
  },
  {
   "cell_type": "code",
   "execution_count": 19,
   "metadata": {},
   "outputs": [
    {
     "data": {
      "text/plain": [
       "(10, 17, 19)"
      ]
     },
     "execution_count": 19,
     "metadata": {},
     "output_type": "execute_result"
    }
   ],
   "source": [
    "np.shape(all_ss_reshape)"
   ]
  },
  {
   "cell_type": "code",
   "execution_count": 13,
   "metadata": {},
   "outputs": [],
   "source": [
    "all_exp_cycles = np.asarray([summstats_experimental_11[0], summstats_experimental_15[0], summstats_experimental_19[0], summstats_experimental_23[0], summstats_experimental_27[0]])\n",
    "all_exp_freqs = 1/all_exp_cycles*1000"
   ]
  },
  {
   "cell_type": "code",
   "execution_count": 14,
   "metadata": {},
   "outputs": [
    {
     "data": {
      "image/png": "[encoded data removed]",
      "text/plain": [
       "<Figure size 270x120 with 1 Axes>"
      ]
     },
     "metadata": {},
     "output_type": "display_data"
    }
   ],
   "source": [
    "figsize = (2.7,1.2)\n",
    "with mpl.rc_context(fname='../matplotlibrc.txt'):\n",
    "    fig, ax = plt.subplots(1, 1, figsize=figsize)\n",
    "    for ss in all_ss_reshape[:-5]:\n",
    "        all_cycles = ss[:,0]\n",
    "        all_freqs = 1/all_cycles*1000\n",
    "        ax.plot(temp_vec-272, all_freqs, c=col['CONSISTENT1'])\n",
    "        ax.scatter(temp_vec-272, all_freqs, color=col['CONSISTENT1'], marker='o', s=20.0)\n",
    "    ax.plot(np.asarray([283,287,291,295,299])-272, all_exp_freqs, c=col['GT'], lw=2.5)\n",
    "    ax.scatter(np.asarray([283,287,291,295,299])-272, all_exp_freqs, color=col['GT'], marker='o', s=60.0, zorder=100)\n",
    "    ax.set_xlabel('Temperature [°C]')\n",
    "    ax.set_ylabel('Cycle frequency [Hz]')\n",
    "    plt.xticks([11,15,19,23,27])\n",
    "    plt.yticks([0.5,1.0,1.5,2.0])\n",
    "    ax.spines['top'].set_visible(False)\n",
    "    ax.spines['right'].set_visible(False)\n",
    "    plt.savefig(PANEL_X1, facecolor='None', transparent=True)\n",
    "    plt.show()"
   ]
  },
  {
   "cell_type": "markdown",
   "metadata": {},
   "source": [
    "# Panel B: Plot all phases of LP"
   ]
  },
  {
   "cell_type": "code",
   "execution_count": 170,
   "metadata": {},
   "outputs": [],
   "source": [
    "all_experimLP_phases = np.asarray([summstats_experimental_11[13], summstats_experimental_15[13], summstats_experimental_19[13], summstats_experimental_23[13], summstats_experimental_27[13]])"
   ]
  },
  {
   "cell_type": "code",
   "execution_count": 177,
   "metadata": {},
   "outputs": [
    {
     "data": {
      "image/png": "[encoded data removed]",
      "text/plain": [
       "<Figure size 270x120 with 1 Axes>"
      ]
     },
     "metadata": {},
     "output_type": "display_data"
    }
   ],
   "source": [
    "with mpl.rc_context(fname='../matplotlibrc.txt'):\n",
    "    fig, ax = plt.subplots(1, 1, figsize=figsize)\n",
    "    for ss in all_ss_reshape[:-5]:\n",
    "        all_LP_phases = ss[:,13]\n",
    "        ax.plot(temp_vec-272, all_LP_phases, c=col['CONSISTENT1'])\n",
    "        ax.scatter(temp_vec-272, all_LP_phases, color=col['CONSISTENT1'], marker='o', s=20.0)\n",
    "    ax.plot(np.asarray([283,287,291,295,299])-272, all_experimLP_phases, c=col['GT'], lw=2.5)\n",
    "    ax.scatter(np.asarray([283,287,291,295,299])-272, all_experimLP_phases, color=col['GT'], marker='o', s=60.0, zorder=100)\n",
    "    ax.set_xlabel('Temperature [°C]')\n",
    "    ax.set_ylabel('Phase of LP neuron')\n",
    "    ax.set_ylim(0,1)\n",
    "    plt.xticks([11,15,19,23,27])\n",
    "    ax.spines['top'].set_visible(False)\n",
    "    ax.spines['right'].set_visible(False)\n",
    "    plt.savefig(PANEL_X2, facecolor='None', transparent=True)\n",
    "    plt.show()"
   ]
  },
  {
   "cell_type": "markdown",
   "metadata": {},
   "source": [
    "# Panel C: Plot all phases of LP"
   ]
  },
  {
   "cell_type": "code",
   "execution_count": 172,
   "metadata": {},
   "outputs": [],
   "source": [
    "all_experimPY_phases = np.asarray([summstats_experimental_11[14], summstats_experimental_15[14], summstats_experimental_19[14], summstats_experimental_23[14], summstats_experimental_27[14]])"
   ]
  },
  {
   "cell_type": "code",
   "execution_count": 178,
   "metadata": {},
   "outputs": [
    {
     "data": {
      "image/png": "[encoded data removed]",
      "text/plain": [
       "<Figure size 270x120 with 1 Axes>"
      ]
     },
     "metadata": {},
     "output_type": "display_data"
    }
   ],
   "source": [
    "with mpl.rc_context(fname='../matplotlibrc.txt'):\n",
    "    fig, ax = plt.subplots(1, 1, figsize=figsize)\n",
    "    for ss in all_ss_reshape[:-5]:\n",
    "        all_LP_phases = ss[:,14]\n",
    "        ax.plot(temp_vec-272, all_LP_phases, c=col['CONSISTENT1'])\n",
    "        ax.scatter(temp_vec-272, all_LP_phases, color=col['CONSISTENT1'], marker='o', s=20.0)\n",
    "    ax.plot(np.asarray([283,287,291,295,299])-272, all_experimPY_phases, c=col['GT'], lw=2.5)\n",
    "    ax.scatter(np.asarray([283,287,291,295,299])-272, all_experimPY_phases, color=col['GT'], marker='o', s=60.0, zorder=100)\n",
    "    ax.set_xlabel('Temperature [°C]')\n",
    "    ax.set_ylabel('Phase of PY neuron')\n",
    "    ax.set_ylim(0,1)\n",
    "    plt.xticks([11,15,19,23,27])\n",
    "    ax.spines['top'].set_visible(False)\n",
    "    ax.spines['right'].set_visible(False)\n",
    "    plt.savefig(PANEL_X3, facecolor='None', transparent=True)\n",
    "    plt.show()"
   ]
  },
  {
   "cell_type": "markdown",
   "metadata": {},
   "source": [
    "# Assemble figure"
   ]
  },
  {
   "cell_type": "code",
   "execution_count": 162,
   "metadata": {},
   "outputs": [],
   "source": [
    "import IPython.display as IPd\n",
    "\n",
    "def svg(img):\n",
    "    IPd.display(IPd.HTML('<img src=\"{}\" / >'.format(img, time.time())))"
   ]
  },
  {
   "cell_type": "code",
   "execution_count": 168,
   "metadata": {},
   "outputs": [
    {
     "data": {
      "text/html": [
       "<img src=\"fig/fig6.svg\" / >"
      ],
      "text/plain": [
       "<IPython.core.display.HTML object>"
      ]
     },
     "metadata": {},
     "output_type": "display_data"
    }
   ],
   "source": [
    "from svgutils.compose import *\n",
    "\n",
    "# > Inkscape pixel is 1/90 of an inch, other software usually uses 1/72.\n",
    "# > http://www.inkscapeforum.com/viewtopic.php?f=6&t=5964\n",
    "svg_scale = 1.25  # set this to 1.25 for Inkscape, 1.0 otherwise\n",
    "factor_svg=5.5\n",
    "\n",
    "# Panel letters in Helvetica Neue, 12pt, Medium\n",
    "kwargs_text = {'size': '12pt', 'font': 'Arial', 'weight': '800'}\n",
    "kwargs_consistent = {'size': '10pt', 'font': 'Arial', 'weight': '500', 'color': '#AF99EF'}\n",
    "kwargs_consistent1 = {'size': '10pt', 'font': 'Arial', 'weight': '500', 'color': '#9E7DD5'}\n",
    "kwargs_inconsistent = {'size': '10pt', 'font': 'Arial', 'weight': '500', 'color': '#D73789'}\n",
    "kwargs_text8pt = {'size': '7.7pt', 'font': 'Arial'}\n",
    "\n",
    "plot_panelA = True\n",
    "plot_panelB = True\n",
    "plot_panelC = False\n",
    "plot_panelD = True\n",
    "plot_panelE = True\n",
    "\n",
    "f = Figure('20.3cm', '4.3cm',\n",
    "\n",
    "    Panel(\n",
    "          SVG(PANEL_X1).scale(svg_scale).move(0, 15*factor_svg),\n",
    "    ).move(0*factor_svg, -14.5*factor_svg),\n",
    "\n",
    "    Panel(\n",
    "          SVG(PANEL_X2).scale(svg_scale).move(0, 15*factor_svg),\n",
    "    ).move(48*factor_svg, -14.5*factor_svg),\n",
    "\n",
    "    Panel(\n",
    "          SVG(PANEL_X3).scale(svg_scale).move(0, 15*factor_svg),\n",
    "    ).move(96*factor_svg, -14.5*factor_svg),\n",
    "\n",
    "    \n",
    ")\n",
    "\n",
    "!mkdir -p fig\n",
    "f.save(\"fig/fig6.svg\")\n",
    "svg('fig/fig6.svg')"
   ]
  },
  {
   "cell_type": "code",
   "execution_count": null,
   "metadata": {},
   "outputs": [],
   "source": []
  }
 ],
 "metadata": {
  "kernelspec": {
   "display_name": "sbi",
   "language": "python",
   "name": "sbi"
  },
  "language_info": {
   "codemirror_mode": {
    "name": "ipython",
    "version": 3
   },
   "file_extension": ".py",
   "mimetype": "text/x-python",
   "name": "python",
   "nbconvert_exporter": "python",
   "pygments_lexer": "ipython3",
   "version": "3.8.2"
  }
 },
 "nbformat": 4,
 "nbformat_minor": 4
}
