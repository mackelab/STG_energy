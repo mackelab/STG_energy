{
 "cells": [
  {
   "cell_type": "code",
   "execution_count": 1,
   "metadata": {},
   "outputs": [],
   "source": [
    "import numpy as np\n",
    "import importlib\n",
    "import matplotlib as mpl\n",
    "import matplotlib.pylab as plt\n",
    "import time\n",
    "from copy import deepcopy\n",
    "import torch\n",
    "\n",
    "from stg_energy.common import col, svg, samples_nd, get_labels_8pt\n",
    "from stg_energy.fig5_cc.viz import vis_sample_plain\n",
    "from pyloric.sbi_prior import create_prior, create_prior_general\n",
    "from pyloric.sbi_wrapper import simulate, simulate_general, load_setup, get_time, stats\n",
    "from stg_energy.fig7_temp.process_samples import merge_samples\n",
    "import stg_energy.fig7_temp.viz\n",
    "\n",
    "from stg_energy.fig2_histograms.energy import select_ss_close_to_obs\n",
    "from parameters import ParameterSet\n",
    "\n",
    "from joblib import Parallel, delayed"
   ]
  },
  {
   "cell_type": "markdown",
   "metadata": {},
   "source": [
    "### Load the initial 55,000 samples that were close to the observation"
   ]
  },
  {
   "cell_type": "code",
   "execution_count": 2,
   "metadata": {},
   "outputs": [],
   "source": [
    "data = np.load(\"../../results/11deg_post_pred/11_deg_post_pred_close_to_obs.npz\")\n",
    "good_params = data[\"sample_params\"]\n",
    "good_stats = data[\"sample_stats\"]\n",
    "good_seeds = data[\"sample_seeds\"]"
   ]
  },
  {
   "cell_type": "markdown",
   "metadata": {},
   "source": [
    "### Load the other 5 million simulations at 11 degree. We then search these for being close to the observation"
   ]
  },
  {
   "cell_type": "code",
   "execution_count": 5,
   "metadata": {},
   "outputs": [],
   "source": [
    "datafile = \"../../results/prior_samples_after_classifier/samples_full_3.npz\"\n",
    "data = np.load(datafile)\n",
    "ss_prior = data[\"stats\"]\n",
    "\n",
    "stats_mean = np.mean(ss_prior, axis=0)\n",
    "stats_std = np.std(ss_prior, axis=0)"
   ]
  },
  {
   "cell_type": "code",
   "execution_count": 6,
   "metadata": {},
   "outputs": [],
   "source": [
    "npz = np.load(\"../../results/experimental_data/summstats_prep845_082_0044.npz\")\n",
    "observation = npz[\"summ_stats\"]\n",
    "\n",
    "npz = np.load(\"../../results/experimental_data/trace_data_845_082_0044.npz\")\n",
    "t = npz[\"t\"]"
   ]
  },
  {
   "cell_type": "code",
   "execution_count": 7,
   "metadata": {},
   "outputs": [],
   "source": [
    "num_std = np.asarray(\n",
    "    [0.02, 0.02, 0.02, 0.02, 0.2, 0.2, 0.2, 0.2, 0.2, 0.2, 0.2, 0.2, 0.2, 0.2, 0.2]\n",
    ")"
   ]
  },
  {
   "cell_type": "code",
   "execution_count": null,
   "metadata": {},
   "outputs": [],
   "source": [
    "all_good_params = [good_params]\n",
    "all_good_stats = [good_stats]\n",
    "all_good_seeds = [good_seeds]\n",
    "\n",
    "total_num_close_to_obs = 0\n",
    "\n",
    "for k in range(2000):\n",
    "    data = np.load(f\"../../results/11deg_post_pred/11deg_5million_predictives_for_temp/simulated/11deg_5million_predictives_for_temp_{k}.npz\")\n",
    "    params_5million = data['params']\n",
    "    stats_5million = data['stats']\n",
    "    seeds_5million = data['seeds']\n",
    "\n",
    "    good_params_new, good_dat_new, good_seeds_new = select_ss_close_to_obs(\n",
    "        params_5million,\n",
    "        stats_5million,\n",
    "        seeds_5million,\n",
    "        observation,\n",
    "        num_std=num_std,\n",
    "        stats_std=stats_std[:15],\n",
    "    )\n",
    "    if k % 200 == 0: \n",
    "        print(\"Num_of_good: \", params_5million.shape[0])\n",
    "        \n",
    "    total_num_close_to_obs += params_5million.shape[0]\n",
    "\n",
    "    np.savez(f\"../../results/11deg_post_pred/11deg_5million_predictives_for_temp/close_to_obs/11deg_5million_predictives_for_temp_{k}.npz\", params=good_params_new, stats=good_new_dat, seeds=good_seeds_new)\n",
    "    \n",
    "print(\"total number of remaining samples:   \", total_num_close_to_obs)"
   ]
  },
  {
   "cell_type": "markdown",
   "metadata": {},
   "source": [
    "### Simulate all data at 27 degree"
   ]
  },
  {
   "cell_type": "code",
   "execution_count": 10,
   "metadata": {},
   "outputs": [],
   "source": [
    "setups_dict = ParameterSet('/home/michael/Documents/pyloric/pyloric/setups.prm')\n",
    "hyperparams_11 = setups_dict['collect_samples_15deg_energy_ssRanges']\n",
    "general_prior = create_prior_general(hyperparams_11, log=True)"
   ]
  },
  {
   "cell_type": "code",
   "execution_count": 13,
   "metadata": {},
   "outputs": [],
   "source": [
    "hyperparams_11.model_params.temp = 299"
   ]
  },
  {
   "cell_type": "code",
   "execution_count": null,
   "metadata": {},
   "outputs": [],
   "source": [
    "for k in range(2000):\n",
    "    start_time = time.time()\n",
    "    \n",
    "    data = np.load(f\"../../results/11deg_post_pred/11deg_5million_predictives_for_temp/close_to_obs/11deg_5million_predictives_for_temp_{k}.npz\")\n",
    "    params_close = data['params']\n",
    "    stats_close = data['stats']\n",
    "    seeds_close = data['seeds']\n",
    "    \n",
    "    q10s = general_prior.sample((params_close.shape[0],))[:, -10:].detach().numpy()\n",
    "    params_with_q10s = np.concatenate((params_close, q10s), dim=1)\n",
    "\n",
    "    seeds_27 = np.random.randint(0, 10000, (params_with_q10s.shape[0], 1))\n",
    "    params_with_seeds = np.concatenate((params_with_q10s, seeds_27), dim=1)\n",
    "\n",
    "    def simulator(params_set):\n",
    "        out_target = simulate_general(\n",
    "            deepcopy(params_set[:-1].astype(np.float64)),\n",
    "            hyperparams=hyperparams_11,\n",
    "            seed=int(params_set[-1]),\n",
    "        )\n",
    "        return stats(out_target)\n",
    "\n",
    "    simulation_outputs = Parallel(n_jobs=12)(\n",
    "        delayed(simulator)(batch)\n",
    "        for batch in params_with_seeds\n",
    "    )\n",
    "\n",
    "    simulation_outputs = np.asarray(simulation_outputs)\n",
    "\n",
    "    np.savez(f\"../../results/11deg_post_pred/temperature/sbi/201005_5Million_post_pred_close_to_obs_simulated_at_27/set_{k}.npz\", params=simulation_outputs, stats_27=simulation_outputs, stats_11=stats_close, seeds=seeds_27)\n",
    "    print(\"Overall time for iteration\", k, \":   \", time.time()-start_time)"
   ]
  },
  {
   "cell_type": "markdown",
   "metadata": {},
   "source": [
    "### Select only those simulations that are robust at 27 degree\n",
    "Why not also check for the Q10 of the cycle frequency? Because the Q10 of tau is anyways fixed. So they will anyways increase in speed."
   ]
  },
  {
   "cell_type": "code",
   "execution_count": null,
   "metadata": {},
   "outputs": [],
   "source": [
    "all_params = []\n",
    "all_stats_27 = []\n",
    "all_seeds = []\n",
    "\n",
    "for k in range(2000):\n",
    "    start_time = time.time()\n",
    "    \n",
    "    data = np.load(f\"../../results/11deg_post_pred/temperature/sbi/201005_5Million_post_pred_close_to_obs_simulated_at_27/set_{k}.npz\")\n",
    "    params_close = data['params']\n",
    "    stats_27 = data['stats_27']\n",
    "    stats_11 = data['stats_11']\n",
    "    seeds_close = data['seeds']\n",
    "    \n",
    "    condition = np.invert(np.any(np.isnan(stats_close), dim=1))\n",
    "    \n",
    "    all_params.append(params_close[condition])\n",
    "    all_stats_27.append(stats_27[condition])\n",
    "    all_stats_11.append(stats_11[condition])\n",
    "    all_seeds.append(seeds_close[condition])\n",
    "\n",
    "all_params = np.concatenate(all_params)\n",
    "all_stats = np.concatenate(all_stats)\n",
    "all_seeds = np.concatenate(all_seeds)\n",
    "\n",
    "print(\"Total number of robust samples:  \", all_params.shape[0])\n",
    "np.savez(f\"../../results/11deg_post_pred/temperature/sbi/201005_5Million_post_pred_close_to_obs_simulated_at_27_and_robust.npz\", params=all_params, stats=all_stats, seeds=all_seeds)"
   ]
  }
 ],
 "metadata": {
  "kernelspec": {
   "display_name": "sbi_prinz",
   "language": "python",
   "name": "sbi_prinz"
  },
  "language_info": {
   "codemirror_mode": {
    "name": "ipython",
    "version": 3
   },
   "file_extension": ".py",
   "mimetype": "text/x-python",
   "name": "python",
   "nbconvert_exporter": "python",
   "pygments_lexer": "ipython3",
   "version": "3.8.5"
  }
 },
 "nbformat": 4,
 "nbformat_minor": 4
}
