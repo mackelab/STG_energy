{
 "cells": [
  {
   "cell_type": "code",
   "execution_count": 1,
   "metadata": {},
   "outputs": [],
   "source": [
    "import numpy as np\n",
    "import importlib\n",
    "import matplotlib as mpl\n",
    "import matplotlib.pylab as plt\n",
    "import time\n",
    "from copy import deepcopy\n",
    "import torch\n",
    "\n",
    "from stg_energy.common import col, svg, samples_nd, get_labels_8pt\n",
    "from stg_energy.fig5_cc.viz import vis_sample_plain\n",
    "from pyloric.sbi_prior import create_prior, create_prior_general\n",
    "from pyloric.sbi_wrapper import simulate, simulate_general, load_setup, get_time, stats\n",
    "from stg_energy.fig7_temp.process_samples import merge_samples\n",
    "import stg_energy.fig7_temp.viz\n",
    "\n",
    "from stg_energy.fig2_histograms.energy import select_ss_close_to_obs\n",
    "from parameters import ParameterSet\n",
    "\n",
    "from joblib import Parallel, delayed"
   ]
  },
  {
   "cell_type": "markdown",
   "metadata": {},
   "source": [
    "### Load the initial 55,000 samples that were close to the observation"
   ]
  },
  {
   "cell_type": "code",
   "execution_count": 2,
   "metadata": {},
   "outputs": [],
   "source": [
    "data = np.load(\"../../results/11deg_post_pred/11_deg_post_pred_close_to_obs.npz\")\n",
    "good_params = data[\"sample_params\"]\n",
    "good_stats = data[\"sample_stats\"]\n",
    "good_seeds = data[\"sample_seeds\"]"
   ]
  },
  {
   "cell_type": "markdown",
   "metadata": {},
   "source": [
    "### Load the other 5 million simulations at 11 degree. We then search these for being close to the observation"
   ]
  },
  {
   "cell_type": "code",
   "execution_count": 3,
   "metadata": {},
   "outputs": [],
   "source": [
    "datafile = \"../../results/prior_samples_after_classifier/samples_full_3.npz\"\n",
    "data = np.load(datafile)\n",
    "ss_prior = data[\"stats\"]\n",
    "\n",
    "stats_mean = np.mean(ss_prior, axis=0)\n",
    "stats_std = np.std(ss_prior, axis=0)"
   ]
  },
  {
   "cell_type": "code",
   "execution_count": 4,
   "metadata": {},
   "outputs": [],
   "source": [
    "npz = np.load(\"../../results/experimental_data/summstats_prep845_082_0044.npz\")\n",
    "observation = npz[\"summ_stats\"]\n",
    "\n",
    "npz = np.load(\"../../results/experimental_data/trace_data_845_082_0044.npz\")\n",
    "t = npz[\"t\"]"
   ]
  },
  {
   "cell_type": "code",
   "execution_count": 5,
   "metadata": {},
   "outputs": [],
   "source": [
    "num_std = np.asarray(\n",
    "    [0.02, 0.02, 0.02, 0.02, 0.2, 0.2, 0.2, 0.2, 0.2, 0.2, 0.2, 0.2, 0.2, 0.2, 0.2]\n",
    ")"
   ]
  },
  {
   "cell_type": "code",
   "execution_count": 6,
   "metadata": {},
   "outputs": [
    {
     "name": "stdout",
     "output_type": "stream",
     "text": [
      "Num_of_good:  112\n",
      "total number of accepted samples:    10858\n"
     ]
    }
   ],
   "source": [
    "total_num_close_to_obs = 0\n",
    "\n",
    "for k in range(100):\n",
    "    data = np.load(f\"../../results/11deg_post_pred/11deg_5million_predictives_for_temp/simulated/11deg_5million_predictives_for_temp_{k}.npz\")\n",
    "    params_5million = data['params']\n",
    "    stats_5million = data['stats']\n",
    "    #seeds_5million = data['seeds']\n",
    "    seeds_5million = torch.zeros(params_5million.shape[0]).numpy()\n",
    "\n",
    "    good_params_new, good_dat_new, good_seeds_new = select_ss_close_to_obs(\n",
    "        params_5million,\n",
    "        stats_5million,\n",
    "        seeds_5million,\n",
    "        observation,\n",
    "        num_std=num_std,\n",
    "        stats_std=stats_std[:15],\n",
    "        new_burst_position_in_ss=True\n",
    "    )\n",
    "    if k % 200 == 0: \n",
    "        print(\"Num_of_good: \", good_params_new.shape[0])\n",
    "        \n",
    "    total_num_close_to_obs += good_params_new.shape[0]\n",
    "\n",
    "    np.savez(f\"../../results/11deg_post_pred/11deg_5million_predictives_for_temp/close_to_obs/11deg_5million_predictives_for_temp_{k}.npz\", \n",
    "             params=good_params_new, stats=good_dat_new, seeds=good_seeds_new)\n",
    "    \n",
    "print(\"total number of accepted samples:   \", total_num_close_to_obs)"
   ]
  },
  {
   "cell_type": "code",
   "execution_count": 7,
   "metadata": {},
   "outputs": [
    {
     "data": {
      "text/plain": [
       "446040"
      ]
     },
     "execution_count": 7,
     "metadata": {},
     "output_type": "execute_result"
    }
   ],
   "source": [
    "2520*177"
   ]
  },
  {
   "cell_type": "markdown",
   "metadata": {},
   "source": [
    "### Simulate all data at 27 degree"
   ]
  },
  {
   "cell_type": "code",
   "execution_count": 8,
   "metadata": {},
   "outputs": [],
   "source": [
    "setups_dict = ParameterSet('/home/michael/Documents/pyloric/pyloric/setups.prm')\n",
    "hyperparams_11 = setups_dict['collect_samples_15deg_energy_ssRanges']\n",
    "general_prior = create_prior_general(hyperparams_11, log=True)"
   ]
  },
  {
   "cell_type": "code",
   "execution_count": 9,
   "metadata": {},
   "outputs": [],
   "source": [
    "hyperparams_11.model_params.temp = 299"
   ]
  },
  {
   "cell_type": "code",
   "execution_count": 10,
   "metadata": {},
   "outputs": [
    {
     "name": "stdout",
     "output_type": "stream",
     "text": [
      "Overall time for iteration 0 :    14.36601734161377\n",
      "Overall time for iteration 1 :    13.050976037979126\n",
      "Overall time for iteration 2 :    10.827553272247314\n",
      "Overall time for iteration 3 :    12.675790786743164\n",
      "Overall time for iteration 4 :    11.464680194854736\n",
      "Overall time for iteration 5 :    12.338057279586792\n",
      "Overall time for iteration 6 :    12.68315315246582\n",
      "Overall time for iteration 7 :    13.68934416770935\n",
      "Overall time for iteration 8 :    12.336710691452026\n",
      "Overall time for iteration 9 :    11.930693626403809\n",
      "Overall time for iteration 10 :    13.57594609260559\n",
      "Overall time for iteration 11 :    13.525963068008423\n",
      "Overall time for iteration 12 :    12.103846788406372\n",
      "Overall time for iteration 13 :    10.831341981887817\n",
      "Overall time for iteration 14 :    11.307703256607056\n",
      "Overall time for iteration 15 :    10.80772590637207\n",
      "Overall time for iteration 16 :    12.501270532608032\n",
      "Overall time for iteration 17 :    11.194868087768555\n",
      "Overall time for iteration 18 :    15.070034265518188\n",
      "Overall time for iteration 19 :    11.695033073425293\n",
      "Overall time for iteration 20 :    11.270075798034668\n",
      "Overall time for iteration 21 :    13.307568788528442\n",
      "Overall time for iteration 22 :    12.263837575912476\n",
      "Overall time for iteration 23 :    12.022931575775146\n",
      "Overall time for iteration 24 :    14.284151315689087\n",
      "Overall time for iteration 25 :    12.054803371429443\n",
      "Overall time for iteration 26 :    12.301913499832153\n",
      "Overall time for iteration 27 :    12.770888328552246\n",
      "Overall time for iteration 28 :    12.26521611213684\n",
      "Overall time for iteration 29 :    12.623063802719116\n",
      "Overall time for iteration 30 :    12.914843082427979\n",
      "Overall time for iteration 31 :    12.270983457565308\n",
      "Overall time for iteration 32 :    12.15569019317627\n",
      "Overall time for iteration 33 :    11.158312559127808\n",
      "Overall time for iteration 34 :    10.170693159103394\n",
      "Overall time for iteration 35 :    11.526373147964478\n",
      "Overall time for iteration 36 :    12.000812292098999\n",
      "Overall time for iteration 37 :    13.857781887054443\n",
      "Overall time for iteration 38 :    12.952093601226807\n",
      "Overall time for iteration 39 :    12.847653150558472\n",
      "Overall time for iteration 40 :    12.461023569107056\n",
      "Overall time for iteration 41 :    13.415253162384033\n",
      "Overall time for iteration 42 :    12.889111518859863\n",
      "Overall time for iteration 43 :    14.105783224105835\n",
      "Overall time for iteration 44 :    11.032034635543823\n",
      "Overall time for iteration 45 :    13.132199048995972\n",
      "Overall time for iteration 46 :    12.0285062789917\n",
      "Overall time for iteration 47 :    11.606702089309692\n",
      "Overall time for iteration 48 :    12.24243426322937\n",
      "Overall time for iteration 49 :    11.403435230255127\n",
      "Overall time for iteration 50 :    10.132746934890747\n",
      "Overall time for iteration 51 :    11.205174922943115\n",
      "Overall time for iteration 52 :    12.06409764289856\n",
      "Overall time for iteration 53 :    11.257349014282227\n",
      "Overall time for iteration 54 :    12.81225323677063\n",
      "Overall time for iteration 55 :    12.528072834014893\n",
      "Overall time for iteration 56 :    11.734699249267578\n",
      "Overall time for iteration 57 :    10.225217342376709\n",
      "Overall time for iteration 58 :    11.833549737930298\n",
      "Overall time for iteration 59 :    11.965729713439941\n",
      "Overall time for iteration 60 :    12.523394584655762\n",
      "Overall time for iteration 61 :    13.770057678222656\n",
      "Overall time for iteration 62 :    12.598914384841919\n",
      "Overall time for iteration 63 :    11.569035291671753\n",
      "Overall time for iteration 64 :    12.242737054824829\n",
      "Overall time for iteration 65 :    11.764079093933105\n",
      "Overall time for iteration 66 :    11.304417848587036\n",
      "Overall time for iteration 67 :    12.052753686904907\n",
      "Overall time for iteration 68 :    12.369871139526367\n",
      "Overall time for iteration 69 :    13.274454832077026\n",
      "Overall time for iteration 70 :    12.446953296661377\n",
      "Overall time for iteration 71 :    11.531159400939941\n",
      "Overall time for iteration 72 :    13.467037677764893\n",
      "Overall time for iteration 73 :    11.635162115097046\n",
      "Overall time for iteration 74 :    11.344916582107544\n",
      "Overall time for iteration 75 :    11.667787075042725\n",
      "Overall time for iteration 76 :    12.568082094192505\n",
      "Overall time for iteration 77 :    13.20831036567688\n",
      "Overall time for iteration 78 :    11.817603588104248\n",
      "Overall time for iteration 79 :    12.77066969871521\n",
      "Overall time for iteration 80 :    12.285401821136475\n",
      "Overall time for iteration 81 :    10.769020557403564\n",
      "Overall time for iteration 82 :    14.620047569274902\n",
      "Overall time for iteration 83 :    12.065435647964478\n",
      "Overall time for iteration 84 :    12.387310981750488\n",
      "Overall time for iteration 85 :    10.210233688354492\n",
      "Overall time for iteration 86 :    13.039969682693481\n",
      "Overall time for iteration 87 :    10.279545068740845\n",
      "Overall time for iteration 88 :    10.570080757141113\n",
      "Overall time for iteration 89 :    13.217967510223389\n",
      "Overall time for iteration 90 :    11.245732069015503\n",
      "Overall time for iteration 91 :    11.301974534988403\n",
      "Overall time for iteration 92 :    14.543653726577759\n",
      "Overall time for iteration 93 :    13.126188516616821\n",
      "Overall time for iteration 94 :    10.919124841690063\n",
      "Overall time for iteration 95 :    12.469215869903564\n",
      "Overall time for iteration 96 :    13.702890634536743\n",
      "Overall time for iteration 97 :    12.319013118743896\n",
      "Overall time for iteration 98 :    11.947524309158325\n",
      "Overall time for iteration 99 :    10.80069899559021\n"
     ]
    }
   ],
   "source": [
    "for k in range(100):\n",
    "    start_time = time.time()\n",
    "    \n",
    "    data = np.load(f\"../../results/11deg_post_pred/11deg_5million_predictives_for_temp/close_to_obs/11deg_5million_predictives_for_temp_{k}.npz\")\n",
    "    params_close = data['params']\n",
    "    stats_close = data['stats']\n",
    "    seeds_close = data['seeds']\n",
    "    \n",
    "    q10s = general_prior.sample((params_close.shape[0],))[:, -10:].detach().numpy()\n",
    "    params_with_q10s = np.concatenate((params_close, q10s), axis=1)\n",
    "\n",
    "    seeds_27 = np.random.randint(0, 10000, (params_with_q10s.shape[0], 1))\n",
    "    params_with_seeds = np.concatenate((params_with_q10s, seeds_27), axis=1)\n",
    "\n",
    "    def simulator(params_set):\n",
    "        out_target = simulate_general(\n",
    "            deepcopy(params_set[:-1].astype(np.float64)),\n",
    "            hyperparams=hyperparams_11,\n",
    "            seed=int(params_set[-1]),\n",
    "        )\n",
    "        return stats(out_target)\n",
    "\n",
    "    simulation_outputs = Parallel(n_jobs=12)(\n",
    "        delayed(simulator)(batch)\n",
    "        for batch in params_with_seeds\n",
    "    )\n",
    "\n",
    "    simulation_outputs = np.asarray(simulation_outputs)\n",
    "\n",
    "    np.savez(f\"../../results/temperature/sbi/201005_5Million_post_pred_close_to_obs_simulated_at_27/set_{k}.npz\", \n",
    "             params=params_with_q10s, stats_27=simulation_outputs, stats_11=stats_close, seeds_27=seeds_27, seeds_11=seeds_close)\n",
    "    print(\"Overall time for iteration\", k, \":   \", time.time()-start_time)"
   ]
  },
  {
   "cell_type": "markdown",
   "metadata": {},
   "source": [
    "### Select only those simulations that are robust at 27 degree\n",
    "Why not also check for the Q10 of the cycle frequency? Because the Q10 of tau is anyways fixed. So they will anyways increase in speed."
   ]
  },
  {
   "cell_type": "code",
   "execution_count": 12,
   "metadata": {},
   "outputs": [
    {
     "name": "stdout",
     "output_type": "stream",
     "text": [
      "Total number of robust samples:   2569\n"
     ]
    }
   ],
   "source": [
    "all_params = []\n",
    "all_stats_27 = []\n",
    "all_stats_11 = []\n",
    "all_seeds_27 = []\n",
    "all_seeds_11 = []\n",
    "\n",
    "for k in range(100):\n",
    "    start_time = time.time()\n",
    "\n",
    "    data = np.load(f\"../../results/temperature/sbi/201005_5Million_post_pred_close_to_obs_simulated_at_27/set_{k}.npz\")\n",
    "    params_close = data['params']\n",
    "    stats_27 = data['stats_27']\n",
    "    stats_11 = data['stats_11']\n",
    "    seeds_27 = data['seeds_27']\n",
    "    seeds_11 = data['seeds_11']\n",
    "\n",
    "    condition = np.invert(np.any(np.isnan(stats_27), axis=1))\n",
    "\n",
    "    all_params.append(params_close[condition])\n",
    "    all_stats_27.append(stats_27[condition])\n",
    "    all_stats_11.append(stats_11[condition])\n",
    "    all_seeds_27.append(seeds_27[condition])\n",
    "    all_seeds_11.append(seeds_11[condition])\n",
    "\n",
    "all_params = np.concatenate(all_params)\n",
    "all_stats_27 = np.concatenate(all_stats_27)\n",
    "all_stats_11 = np.concatenate(all_stats_11)\n",
    "all_seeds_27 = np.concatenate(all_seeds_27)\n",
    "all_seeds_11 = np.concatenate(all_seeds_11)\n",
    "\n",
    "print(\"Total number of robust samples:  \", all_params.shape[0])\n",
    "np.savez(f\"../../results/temperature/sbi/201005_5Million_post_pred_close_to_obs_simulated_at_27_and_robust.npz\", \n",
    "         params=all_params, stats_27=all_stats_27, stats_11=all_stats_11, seeds_27=all_seeds_27, seeds_11=all_seeds_11)"
   ]
  },
  {
   "cell_type": "code",
   "execution_count": null,
   "metadata": {},
   "outputs": [],
   "source": []
  }
 ],
 "metadata": {
  "kernelspec": {
   "display_name": "sbi_prinz",
   "language": "python",
   "name": "sbi_prinz"
  },
  "language_info": {
   "codemirror_mode": {
    "name": "ipython",
    "version": 3
   },
   "file_extension": ".py",
   "mimetype": "text/x-python",
   "name": "python",
   "nbconvert_exporter": "python",
   "pygments_lexer": "ipython3",
   "version": "3.8.5"
  }
 },
 "nbformat": 4,
 "nbformat_minor": 4
}
