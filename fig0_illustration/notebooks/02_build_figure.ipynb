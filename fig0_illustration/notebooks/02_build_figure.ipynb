{
 "cells": [
  {
   "cell_type": "markdown",
   "metadata": {},
   "source": [
    "# Figure 1"
   ]
  },
  {
   "cell_type": "code",
   "execution_count": 1,
   "metadata": {},
   "outputs": [],
   "source": [
    "%load_ext autoreload\n",
    "%autoreload 2"
   ]
  },
  {
   "cell_type": "code",
   "execution_count": 2,
   "metadata": {},
   "outputs": [
    {
     "name": "stdout",
     "output_type": "stream",
     "text": [
      "The autoreload extension is already loaded. To reload it, use:\n",
      "  %reload_ext autoreload\n"
     ]
    }
   ],
   "source": [
    "import numpy as np\n",
    "import matplotlib.pylab as plt\n",
    "#import delfi.distribution as dd\n",
    "import time\n",
    "from copy import deepcopy\n",
    "import sys\n",
    "sys.path.append(\"../../../setup\")\n",
    "sys.path.append(\"../../../simulator\")\n",
    "sys.path.append(\"../../../inference\")\n",
    "sys.path.append(\"../../../utils\")\n",
    "sys.path.append(\"../model/\")\n",
    "sys.path.append('../../')\n",
    "\n",
    "from common import col, svg, plot_pdf, samples_nd, get_labels_8pt\n",
    "from find_pyloric import merge_samples, params_are_bounded\n",
    "\n",
    "import netio\n",
    "import viz\n",
    "import importlib\n",
    "import train_utils as tu\n",
    "\n",
    "import matplotlib as mpl\n",
    "\n",
    "%load_ext autoreload\n",
    "%autoreload 2"
   ]
  },
  {
   "cell_type": "code",
   "execution_count": 3,
   "metadata": {},
   "outputs": [],
   "source": [
    "PANEL_G1 = '../svg/panel_g1.svg'\n",
    "PANEL_G2 = '../svg/panel_g2.svg'\n",
    "PANEL_B1 = '../svg/panel_b1.svg'\n",
    "PANEL_B2 = '../svg/panel_b2.svg'\n",
    "PANEL_B3 = '../svg/panel_b3.svg'\n",
    "PANEL_B4 = '../svg/panel_b4.svg'"
   ]
  },
  {
   "cell_type": "markdown",
   "metadata": {},
   "source": [
    "### Load samples"
   ]
  },
  {
   "cell_type": "code",
   "execution_count": 4,
   "metadata": {},
   "outputs": [],
   "source": [
    "params = netio.load_setup('collect_31D')"
   ]
  },
  {
   "cell_type": "code",
   "execution_count": 5,
   "metadata": {},
   "outputs": [
    {
     "name": "stdout",
     "output_type": "stream",
     "text": [
      "There are 1124507 datapoints in this dataset\n"
     ]
    }
   ],
   "source": [
    "outfile = '../../results/11deg_post_pred/11_deg_post_pred.npz'\n",
    "data_n = np.load(outfile)\n",
    "sample_seeds = data_n[\"seeds\"]\n",
    "sample_params = data_n[\"params\"]\n",
    "sample_stats = data_n[\"stats\"]\n",
    "print('There are', len(sample_seeds), 'datapoints in this dataset')\n",
    "\n",
    "stats_mean = np.mean(sample_stats, axis=0)\n",
    "stats_std  = np.std(sample_stats, axis=0)"
   ]
  },
  {
   "cell_type": "markdown",
   "metadata": {},
   "source": [
    "### Load network"
   ]
  },
  {
   "cell_type": "code",
   "execution_count": 6,
   "metadata": {},
   "outputs": [],
   "source": [
    "prior = netio.create_prior(params, log=True)\n",
    "dimensions = np.sum(params.use_membrane) + 7\n",
    "lims = np.asarray([-np.sqrt(3)*np.ones(dimensions), np.sqrt(3)*np.ones(dimensions)]).T"
   ]
  },
  {
   "cell_type": "code",
   "execution_count": 7,
   "metadata": {},
   "outputs": [],
   "source": [
    "params_mean = prior.mean\n",
    "params_std = prior.std"
   ]
  },
  {
   "cell_type": "code",
   "execution_count": 8,
   "metadata": {},
   "outputs": [],
   "source": [
    "sample_params_norm = (sample_params - params_mean) / params_std"
   ]
  },
  {
   "cell_type": "code",
   "execution_count": 9,
   "metadata": {},
   "outputs": [],
   "source": [
    "from find_pyloric import merge_samples, params_are_bounded\n",
    "\n",
    "#prior_normalized = dd.Uniform(-np.sqrt(3)*np.ones(dimensions), np.sqrt(3)*np.ones(dimensions), seed=params.seed)"
   ]
  },
  {
   "cell_type": "markdown",
   "metadata": {},
   "source": [
    "# Panel B: experimental data"
   ]
  },
  {
   "cell_type": "code",
   "execution_count": 10,
   "metadata": {},
   "outputs": [],
   "source": [
    "npz = np.load('../../results/experimental_data/trace_data_845_082_0044.npz')\n",
    "t = npz['t']\n",
    "PD_spikes = npz['PD_spikes']\n",
    "LP_spikes = npz['LP_spikes']\n",
    "PY_spikes = npz['PY_spikes']\n",
    "pdn = npz['pdn']\n",
    "lpn = npz['lpn']\n",
    "pyn = npz['pyn']"
   ]
  },
  {
   "cell_type": "code",
   "execution_count": 11,
   "metadata": {},
   "outputs": [],
   "source": [
    "start_index = 219500 + 2100\n",
    "end_index   = 246500 + 2100  # 32000\n",
    "height_offset = 200\n",
    "shown_t = t[end_index] - t[start_index]\n",
    "time_len = shown_t / 0.025 * 1000\n",
    "dt = t[1] - t[0]"
   ]
  },
  {
   "cell_type": "code",
   "execution_count": 12,
   "metadata": {},
   "outputs": [],
   "source": [
    "import matplotlib.patches as mp"
   ]
  },
  {
   "cell_type": "markdown",
   "metadata": {},
   "source": [
    "# Panel C: posterior"
   ]
  },
  {
   "cell_type": "code",
   "execution_count": 13,
   "metadata": {},
   "outputs": [],
   "source": [
    "from decimal import Decimal\n",
    "all_labels = []\n",
    "for dim_i in range(31):\n",
    "    if dim_i > len(params_mean) - 7.5: # synapses\n",
    "        if dim_i == 24: all_labels.append([r'$\\mathdefault{0.01}$ ', r'$\\mathdefault{10000}\\;\\;\\;\\;$  '])\n",
    "        else: all_labels.append([r'$\\;\\;\\mathdefault{0.01}$', r'$\\mathdefault{1000}\\;\\;\\;\\;$ '])\n",
    "    else: # membrane conductances\n",
    "        num_after_digits = -int(np.log10(lims[dim_i, 1] * params_std[dim_i] + params_mean[dim_i]))\n",
    "        if num_after_digits > 2:\n",
    "            num_after_digits=2\n",
    "        labels = [round(Decimal((lims[dim_i, num_tmp] * params_std[dim_i] + params_mean[dim_i]) / 0.628e-3), num_after_digits)\n",
    "                  for num_tmp in range(2)]\n",
    "        new_labels = []\n",
    "        counter=0\n",
    "        for l in labels:\n",
    "            if counter == 0:\n",
    "                new_labels.append(r'$\\mathdefault{'+str(l)+'}$')\n",
    "            else:\n",
    "                new_labels.append(r'$\\mathdefault{'+str(l)+'}\\;\\;\\;$ ')\n",
    "            counter+=1\n",
    "        all_labels.append(new_labels)"
   ]
  },
  {
   "cell_type": "markdown",
   "metadata": {},
   "source": [
    "# Panel D: posterior samples"
   ]
  },
  {
   "cell_type": "code",
   "execution_count": 35,
   "metadata": {},
   "outputs": [],
   "source": [
    "params['noise_fact'] = 0.0"
   ]
  },
  {
   "cell_type": "code",
   "execution_count": 36,
   "metadata": {},
   "outputs": [
    {
     "name": "stdout",
     "output_type": "stream",
     "text": [
      "('seed in cHH', None)\n"
     ]
    }
   ],
   "source": [
    "pyloric_sim = netio.create_simulators(params, save_all_energies=True)[0]\n",
    "summ_stats = netio.create_summstats(params)"
   ]
  },
  {
   "cell_type": "code",
   "execution_count": 37,
   "metadata": {},
   "outputs": [],
   "source": [
    "seeds = [8, 8, 8, 8, 8]\n",
    "all_traces = []\n",
    "for parameter_index in range(2):\n",
    "    all_traces.append(pyloric_sim.gen_single(deepcopy(sample_params[parameter_index]),\n",
    "                      seed_sim=True,\n",
    "                      to_seed=seeds[parameter_index])\n",
    "                     )"
   ]
  },
  {
   "cell_type": "code",
   "execution_count": 39,
   "metadata": {},
   "outputs": [
    {
     "data": {
      "image/png": "[encoded data removed]",
      "text/plain": [
       "<Figure size 216x21.6 with 1 Axes>"
      ]
     },
     "metadata": {},
     "output_type": "display_data"
    }
   ],
   "source": [
    "#labels_ = viz.get_labels_8pt(params)\n",
    "offset = 39000\n",
    "\n",
    "fig, ax = plt.subplots(1,1, figsize=(3,0.3))\n",
    "\n",
    "with mpl.rc_context(fname='../../.matplotlibrc'):\n",
    "\n",
    "    fig = viz.vis_ABPD_plain(\n",
    "        all_traces[0],\n",
    "        t=pyloric_sim.t,\n",
    "        axV = ax,\n",
    "        offset=offset,\n",
    "        col='g', time_len=int(time_len/5),\n",
    "    )\n",
    "    \n",
    "    plt.savefig(PANEL_G1, facecolor='None', transparent=True, dpi=300, bbox_inches='tight')\n",
    "    plt.show()"
   ]
  },
  {
   "cell_type": "code",
   "execution_count": 40,
   "metadata": {},
   "outputs": [
    {
     "data": {
      "image/png": "[encoded data removed]",
      "text/plain": [
       "<Figure size 216x21.6 with 1 Axes>"
      ]
     },
     "metadata": {},
     "output_type": "display_data"
    }
   ],
   "source": [
    "#labels_ = viz.get_labels_8pt(params)\n",
    "offset = 60000\n",
    "\n",
    "fig, ax = plt.subplots(1,1, figsize=(3,0.3))\n",
    "\n",
    "with mpl.rc_context(fname='../../.matplotlibrc'):\n",
    "\n",
    "    fig = viz.vis_ABPD_plain(\n",
    "        all_traces[1],\n",
    "        t=pyloric_sim.t,\n",
    "        axV = ax,\n",
    "        offset=offset,\n",
    "        col='g', time_len=int(time_len/6),\n",
    "    )\n",
    "    \n",
    "    plt.savefig(PANEL_G2, facecolor='None', transparent=True, dpi=300, bbox_inches='tight')\n",
    "    plt.show()"
   ]
  },
  {
   "cell_type": "markdown",
   "metadata": {},
   "source": [
    "### Bad parameter sets"
   ]
  },
  {
   "cell_type": "code",
   "execution_count": 41,
   "metadata": {},
   "outputs": [],
   "source": [
    "sample = prior.gen(1)\n",
    "#np.savez('prior_sample_1.npz', sample=sample)"
   ]
  },
  {
   "cell_type": "code",
   "execution_count": 42,
   "metadata": {},
   "outputs": [],
   "source": [
    "sample = np.load('prior_sample_1.npz')['sample']"
   ]
  },
  {
   "cell_type": "code",
   "execution_count": 43,
   "metadata": {},
   "outputs": [],
   "source": [
    "seeds = [8, 8, 8, 8, 8]\n",
    "all_traces = []\n",
    "for parameter_index in range(1):\n",
    "    all_traces.append(pyloric_sim.gen_single(deepcopy(sample[0]),\n",
    "                      seed_sim=True,\n",
    "                      to_seed=seeds[parameter_index]))"
   ]
  },
  {
   "cell_type": "code",
   "execution_count": 44,
   "metadata": {},
   "outputs": [
    {
     "data": {
      "image/png": "[encoded data removed]",
      "text/plain": [
       "<Figure size 216x21.6 with 1 Axes>"
      ]
     },
     "metadata": {},
     "output_type": "display_data"
    }
   ],
   "source": [
    "#labels_ = viz.get_labels_8pt(params)\n",
    "offset = 58000\n",
    "\n",
    "fig, ax = plt.subplots(1,1, figsize=(3,0.3))\n",
    "\n",
    "with mpl.rc_context(fname='../../.matplotlibrc'):\n",
    "\n",
    "    fig = viz.vis_ABPD_plain(\n",
    "        all_traces[0],\n",
    "        t=pyloric_sim.t,\n",
    "        axV = ax,\n",
    "        offset=offset,\n",
    "        col='#e31a1c', time_len=int(time_len/3),\n",
    "    )\n",
    "    \n",
    "    plt.savefig(PANEL_B1, facecolor='None', transparent=True, dpi=300, bbox_inches='tight')\n",
    "    plt.show()"
   ]
  },
  {
   "cell_type": "code",
   "execution_count": 45,
   "metadata": {},
   "outputs": [],
   "source": [
    "sample = prior.gen(1)\n",
    "#np.savez('prior_sample_2.npz', sample=sample)"
   ]
  },
  {
   "cell_type": "code",
   "execution_count": 46,
   "metadata": {},
   "outputs": [],
   "source": [
    "sample = np.load('prior_sample_2.npz')['sample']"
   ]
  },
  {
   "cell_type": "code",
   "execution_count": 47,
   "metadata": {},
   "outputs": [],
   "source": [
    "seeds = [8, 8, 8, 8, 8]\n",
    "all_traces = []\n",
    "for parameter_index in range(1):\n",
    "    all_traces.append(pyloric_sim.gen_single(deepcopy(sample[0]),\n",
    "                      seed_sim=True,\n",
    "                      to_seed=seeds[parameter_index]))"
   ]
  },
  {
   "cell_type": "code",
   "execution_count": 48,
   "metadata": {},
   "outputs": [
    {
     "data": {
      "image/png": "[encoded data removed]",
      "text/plain": [
       "<Figure size 216x21.6 with 1 Axes>"
      ]
     },
     "metadata": {},
     "output_type": "display_data"
    }
   ],
   "source": [
    "#labels_ = viz.get_labels_8pt(params)\n",
    "offset = 60000\n",
    "\n",
    "fig, ax = plt.subplots(1,1, figsize=(3,0.3))\n",
    "\n",
    "with mpl.rc_context(fname='../../.matplotlibrc'):\n",
    "\n",
    "    fig = viz.vis_ABPD_plain(\n",
    "        all_traces[0],\n",
    "        t=pyloric_sim.t,\n",
    "        axV = ax,\n",
    "        offset=offset,\n",
    "        col='#e31a1c', time_len=int(time_len/4),\n",
    "    )\n",
    "    \n",
    "    plt.savefig(PANEL_B2, facecolor='None', transparent=True, dpi=300, bbox_inches='tight')\n",
    "    plt.show()"
   ]
  },
  {
   "cell_type": "code",
   "execution_count": 49,
   "metadata": {},
   "outputs": [],
   "source": [
    "sample = prior.gen(1)\n",
    "#np.savez('prior_sample_3.npz', sample=sample)"
   ]
  },
  {
   "cell_type": "code",
   "execution_count": 50,
   "metadata": {},
   "outputs": [],
   "source": [
    "sample = np.load('prior_sample_3.npz')['sample']"
   ]
  },
  {
   "cell_type": "code",
   "execution_count": 51,
   "metadata": {},
   "outputs": [],
   "source": [
    "seeds = [8, 8, 8, 8, 8]\n",
    "all_traces = []\n",
    "for parameter_index in range(1):\n",
    "    all_traces.append(pyloric_sim.gen_single(deepcopy(sample[0]),\n",
    "                      seed_sim=True,\n",
    "                      to_seed=seeds[parameter_index]))"
   ]
  },
  {
   "cell_type": "code",
   "execution_count": 52,
   "metadata": {},
   "outputs": [
    {
     "data": {
      "image/png": "[encoded data removed]",
      "text/plain": [
       "<Figure size 216x21.6 with 1 Axes>"
      ]
     },
     "metadata": {},
     "output_type": "display_data"
    }
   ],
   "source": [
    "#labels_ = viz.get_labels_8pt(params)\n",
    "offset = 60000\n",
    "\n",
    "fig, ax = plt.subplots(1,1, figsize=(3,0.3))\n",
    "\n",
    "with mpl.rc_context(fname='../../.matplotlibrc'):\n",
    "\n",
    "    fig = viz.vis_ABPD_plain(\n",
    "        all_traces[0],\n",
    "        t=pyloric_sim.t,\n",
    "        axV = ax,\n",
    "        offset=offset,\n",
    "        col='#e31a1c', time_len=int(time_len/4),\n",
    "    )\n",
    "    \n",
    "    plt.savefig(PANEL_B3, facecolor='None', transparent=True, dpi=300, bbox_inches='tight')\n",
    "    plt.show()"
   ]
  },
  {
   "cell_type": "code",
   "execution_count": 53,
   "metadata": {},
   "outputs": [],
   "source": [
    "sample = prior.gen(1)\n",
    "#np.savez('prior_sample_4.npz', sample=sample)"
   ]
  },
  {
   "cell_type": "code",
   "execution_count": 54,
   "metadata": {},
   "outputs": [],
   "source": [
    "sample = np.load('prior_sample_4.npz')['sample']"
   ]
  },
  {
   "cell_type": "code",
   "execution_count": 55,
   "metadata": {},
   "outputs": [],
   "source": [
    "seeds = [8, 8, 8, 8, 8]\n",
    "all_traces = []\n",
    "for parameter_index in range(1):\n",
    "    all_traces.append(pyloric_sim.gen_single(deepcopy(sample[0]),\n",
    "                      seed_sim=True,\n",
    "                      to_seed=seeds[parameter_index]))"
   ]
  },
  {
   "cell_type": "code",
   "execution_count": 56,
   "metadata": {},
   "outputs": [
    {
     "data": {
      "image/png": "[encoded data removed]",
      "text/plain": [
       "<Figure size 216x21.6 with 1 Axes>"
      ]
     },
     "metadata": {},
     "output_type": "display_data"
    }
   ],
   "source": [
    "#labels_ = viz.get_labels_8pt(params)\n",
    "offset = 60000\n",
    "\n",
    "fig, ax = plt.subplots(1,1, figsize=(3,0.3))\n",
    "\n",
    "with mpl.rc_context(fname='../../.matplotlibrc'):\n",
    "\n",
    "    fig = viz.vis_ABPD_plain(\n",
    "        all_traces[0],\n",
    "        t=pyloric_sim.t,\n",
    "        axV = ax,\n",
    "        offset=offset,\n",
    "        col='#e31a1c', time_len=int(time_len/4),\n",
    "    )\n",
    "    \n",
    "    plt.savefig(PANEL_B4, facecolor='None', transparent=True, dpi=300, bbox_inches='tight')\n",
    "    plt.show()"
   ]
  },
  {
   "cell_type": "code",
   "execution_count": null,
   "metadata": {},
   "outputs": [],
   "source": [
    "\n",
    "\n",
    "\n",
    "\n",
    "\n",
    "\n",
    "\n",
    "\n",
    "\n",
    "\n",
    "\n",
    "\n",
    "\n",
    "\n",
    "\n",
    "\n",
    "\n",
    "\n",
    "\n",
    "\n",
    "\n",
    "\n",
    "\n",
    "\n",
    "\n",
    "\n",
    "\n",
    "\n",
    "\n",
    "\n",
    "\n",
    "\n",
    "\n",
    "\n",
    "\n",
    "\n",
    "\n",
    "\n",
    "\n",
    "\n",
    "\n",
    "\n"
   ]
  },
  {
   "cell_type": "code",
   "execution_count": null,
   "metadata": {},
   "outputs": [],
   "source": []
  },
  {
   "cell_type": "code",
   "execution_count": null,
   "metadata": {},
   "outputs": [],
   "source": []
  },
  {
   "cell_type": "code",
   "execution_count": null,
   "metadata": {},
   "outputs": [],
   "source": []
  },
  {
   "cell_type": "code",
   "execution_count": null,
   "metadata": {},
   "outputs": [],
   "source": []
  },
  {
   "cell_type": "code",
   "execution_count": null,
   "metadata": {},
   "outputs": [],
   "source": []
  }
 ],
 "metadata": {
  "kernelspec": {
   "display_name": "sbi_prinz",
   "language": "python",
   "name": "sbi_prinz"
  },
  "language_info": {
   "codemirror_mode": {
    "name": "ipython",
    "version": 3
   },
   "file_extension": ".py",
   "mimetype": "text/x-python",
   "name": "python",
   "nbconvert_exporter": "python",
   "pygments_lexer": "ipython3",
   "version": "3.8.2"
  }
 },
 "nbformat": 4,
 "nbformat_minor": 4
}
