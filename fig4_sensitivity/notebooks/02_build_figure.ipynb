{
 "cells": [
  {
   "cell_type": "code",
   "execution_count": 1,
   "metadata": {},
   "outputs": [],
   "source": [
    "import importlib\n",
    "import sys\n",
    "import time\n",
    "from copy import deepcopy\n",
    "\n",
    "import matplotlib as mpl\n",
    "import matplotlib.pylab as plt\n",
    "import numpy as np\n",
    "import torch\n",
    "\n",
    "import stg_energy.fig4_sensitivity.viz as viz\n",
    "from pyloric import get_time, simulate, simulate_energyscape\n",
    "from sbi.utils.regression_net.get_nn_classifier import classifier\n",
    "from sbi.utils.regression_net.train_classifier import fit_regression_net\n",
    "from stg_energy.common import col, svg\n",
    "from stg_energy.fig3_amortize_energy.helper_functions import active_subspace\n",
    "from stg_energy.fig3_amortize_energy.viz import plot_eigenvalues, py_sensitivity_bars\n",
    "from stg_energy.fig4_sensitivity.helper_functions import (\n",
    "    get_gradient,\n",
    "    prepare_data,\n",
    "    regression_plot,\n",
    ")"
   ]
  },
  {
   "cell_type": "markdown",
   "metadata": {},
   "source": [
    "# Figure 4"
   ]
  },
  {
   "cell_type": "code",
   "execution_count": 2,
   "metadata": {},
   "outputs": [],
   "source": [
    "%load_ext autoreload\n",
    "%autoreload 2"
   ]
  },
  {
   "cell_type": "code",
   "execution_count": 3,
   "metadata": {},
   "outputs": [],
   "source": [
    "PANEL_A = \"../svg/panel_a.svg\"\n",
    "PANEL_B1 = \"../svg/panel_b1.svg\"\n",
    "PANEL_B2 = \"../svg/panel_b2.svg\"\n",
    "PANEL_C1 = \"../svg/panel_c1.svg\"\n",
    "PANEL_C2 = \"../svg/panel_c2.svg\"\n",
    "PANEL_D1 = \"../svg/panel_d1.svg\"\n",
    "PANEL_D2 = \"../svg/panel_d2.svg\"\n",
    "PANEL_D3 = \"../svg/panel_d3.svg\"\n",
    "PANEL_D4 = \"../svg/panel_d4.svg\"\n",
    "PANEL_supp1 = \"../svg/panel_supp1.svg\"\n",
    "PANEL_supp2 = \"../svg/panel_supp2.svg\""
   ]
  },
  {
   "cell_type": "markdown",
   "metadata": {},
   "source": [
    "### Sort out the data from the cluster"
   ]
  },
  {
   "cell_type": "code",
   "execution_count": 4,
   "metadata": {},
   "outputs": [
    {
     "name": "stdout",
     "output_type": "stream",
     "text": [
      "There are 55043 datapoints in this dataset\n"
     ]
    }
   ],
   "source": [
    "outfile = \"../../results/11deg_post_pred/11_deg_post_pred_close_to_obs.npz\"\n",
    "data_n = np.load(outfile)\n",
    "sample_seeds = data_n[\"sample_seeds\"]\n",
    "sample_params = data_n[\"sample_params\"]\n",
    "sample_stats = data_n[\"sample_stats\"]\n",
    "print(\"There are\", len(sample_seeds), \"datapoints in this dataset\")"
   ]
  },
  {
   "cell_type": "markdown",
   "metadata": {},
   "source": [
    "# Train regression net"
   ]
  },
  {
   "cell_type": "markdown",
   "metadata": {},
   "source": [
    "### Prepare parameters"
   ]
  },
  {
   "cell_type": "code",
   "execution_count": 5,
   "metadata": {},
   "outputs": [],
   "source": [
    "num_test = 500\n",
    "\n",
    "test_params = sample_params[:num_test]\n",
    "train_params = sample_params[num_test:]\n",
    "mean_params = np.mean(train_params, axis=0)\n",
    "std_params = np.std(train_params, axis=0)\n",
    "\n",
    "train_params_norm = (train_params - mean_params) / std_params\n",
    "test_params_norm = (test_params - mean_params) / std_params"
   ]
  },
  {
   "cell_type": "markdown",
   "metadata": {},
   "source": [
    "### Prepare energy/spike"
   ]
  },
  {
   "cell_type": "code",
   "execution_count": 6,
   "metadata": {},
   "outputs": [],
   "source": [
    "all_energies_per_spike_ABPD = sample_stats[:, 18]"
   ]
  },
  {
   "cell_type": "code",
   "execution_count": 7,
   "metadata": {},
   "outputs": [],
   "source": [
    "numSpikesPerBurst = sample_stats[:, -6] / sample_stats[:, -3]"
   ]
  },
  {
   "cell_type": "code",
   "execution_count": 8,
   "metadata": {},
   "outputs": [],
   "source": [
    "(\n",
    "    mean_energies_per_spike,\n",
    "    std_energies_per_spike,\n",
    "    train_energies_per_spike_norm,\n",
    "    test_energies_per_spike_norm,\n",
    "    mean_num_spikes,\n",
    "    std_num_spikes,\n",
    "    train_num_spikes_norm,\n",
    "    test_num_spikes_norm,\n",
    ") = prepare_data(all_energies_per_spike_ABPD, numSpikesPerBurst, num_test)"
   ]
  },
  {
   "cell_type": "code",
   "execution_count": 9,
   "metadata": {},
   "outputs": [
    {
     "name": "stderr",
     "output_type": "stream",
     "text": [
      "findfont: Font family ['serif'] not found. Falling back to DejaVu Sans.\n"
     ]
    },
    {
     "data": {
      "image/png": "[encoded data removed]",
      "text/plain": [
       "<Figure size 200x100 with 1 Axes>"
      ]
     },
     "metadata": {},
     "output_type": "display_data"
    }
   ],
   "source": [
    "unnorm_x_vals, unnorm_y_regs, unnorm_x, unnorm_y = regression_plot(\n",
    "    mean_energies_per_spike,\n",
    "    std_energies_per_spike,\n",
    "    train_energies_per_spike_norm,\n",
    "    test_energies_per_spike_norm,\n",
    "    mean_num_spikes,\n",
    "    std_num_spikes,\n",
    "    train_num_spikes_norm,\n",
    "    test_num_spikes_norm,\n",
    ")\n",
    "\n",
    "\n",
    "with mpl.rc_context(fname=\"../../.matplotlibrc\"):\n",
    "    fig, ax = plt.subplots(1, 1, figsize=(2, 1.0))\n",
    "    ax.scatter(x=unnorm_x, y=unnorm_y, s=3, color=\"#2b8cbe\")\n",
    "    ax.plot(unnorm_x_vals, unnorm_y_regs, \"#e34a33\")\n",
    "    ax.set_xlabel(\"#spikes / burst\")\n",
    "    ax.set_ylabel(\"E / spike\")\n",
    "    # -500 and +500 are only for not having half points cut off. I.e. only for visualization.\n",
    "    ax.set_yticks([np.min(unnorm_y) - 500, np.max(unnorm_y) + 500])\n",
    "    ax.set_yticklabels([\"min\", \"max\"])\n",
    "    ax.set_ylim([np.min(unnorm_y) - 500, np.max(unnorm_y) + 500])\n",
    "    # plt.savefig(PANEL_A, facecolor='None', transparent=True)\n",
    "    plt.show()"
   ]
  },
  {
   "cell_type": "markdown",
   "metadata": {},
   "source": [
    "### Train classifier"
   ]
  },
  {
   "cell_type": "code",
   "execution_count": 10,
   "metadata": {},
   "outputs": [],
   "source": [
    "nn = classifier(dim=31)"
   ]
  },
  {
   "cell_type": "code",
   "execution_count": 11,
   "metadata": {},
   "outputs": [],
   "source": [
    "# converged_nn = fit_regression_net(\n",
    "#     nn,\n",
    "#     train_params_norm,\n",
    "#     train_energies_per_spike_norm,\n",
    "#     num_train=train_params_norm.shape[0],\n",
    "#     batch_size=50,\n",
    "#     stop_after_epochs=10,\n",
    "#     max_epochs=200\n",
    "# )"
   ]
  },
  {
   "cell_type": "code",
   "execution_count": 12,
   "metadata": {},
   "outputs": [],
   "source": [
    "# np.savez('../../results/regression_nets/200821_predict_energyPerSpike_ABPD.npz', converged_nn=converged_nn)"
   ]
  },
  {
   "cell_type": "code",
   "execution_count": 13,
   "metadata": {},
   "outputs": [],
   "source": [
    "data = np.load(\n",
    "    \"../../results/regression_nets/200821_predict_energyPerSpike_ABPD.npz\",\n",
    "    allow_pickle=True,\n",
    ")\n",
    "converged_nn = data[\"converged_nn\"].tolist()"
   ]
  },
  {
   "cell_type": "code",
   "execution_count": 14,
   "metadata": {},
   "outputs": [],
   "source": [
    "predictions = converged_nn.predict(torch.as_tensor(test_params_norm)).detach().numpy()"
   ]
  },
  {
   "cell_type": "code",
   "execution_count": 15,
   "metadata": {},
   "outputs": [
    {
     "data": {
      "image/png": "[encoded data removed]",
      "text/plain": [
       "<Figure size 200x150 with 1 Axes>"
      ]
     },
     "metadata": {},
     "output_type": "display_data"
    }
   ],
   "source": [
    "with mpl.rc_context(fname=\"../../.matplotlibrc\"):\n",
    "    fig, ax = plt.subplots(1, 1, figsize=(2, 1.5))\n",
    "    unnorm_x = (\n",
    "        test_energies_per_spike_norm[:300] * std_energies_per_spike\n",
    "        + mean_energies_per_spike\n",
    "    )\n",
    "    unnorm_y = predictions[:300] * std_energies_per_spike + mean_energies_per_spike\n",
    "    ax.scatter(x=unnorm_x, y=unnorm_y, s=3, color=\"#2b8cbe\")\n",
    "    gt_vec = np.linspace(np.min(unnorm_x), np.max(unnorm_x), 2)\n",
    "    ax.plot(gt_vec, gt_vec, \"#ff7f00\")\n",
    "    ax.set_xlabel(\"Energy / spike\")\n",
    "    ax.set_ylabel(\"Neural net prediction\")\n",
    "    plt.savefig(PANEL_supp1, facecolor=\"None\", transparent=True)"
   ]
  },
  {
   "cell_type": "markdown",
   "metadata": {},
   "source": [
    "### Get gradient wrt input"
   ]
  },
  {
   "cell_type": "code",
   "execution_count": 16,
   "metadata": {},
   "outputs": [],
   "source": [
    "cum_grad = get_gradient(converged_nn, test_params_norm)"
   ]
  },
  {
   "cell_type": "markdown",
   "metadata": {},
   "source": [
    "### Get active subspace"
   ]
  },
  {
   "cell_type": "code",
   "execution_count": 17,
   "metadata": {},
   "outputs": [],
   "source": [
    "e_vals_e_per_spike, e_vecs_e_per_spike = active_subspace(converged_nn, test_params_norm)"
   ]
  },
  {
   "cell_type": "code",
   "execution_count": 72,
   "metadata": {},
   "outputs": [
    {
     "name": "stdout",
     "output_type": "stream",
     "text": [
      "Ratio of first to second eigenvalue:  tensor(7.5753)\n"
     ]
    },
    {
     "data": {
      "image/png": "[encoded data removed]",
      "text/plain": [
       "<Figure size 170x100 with 1 Axes>"
      ]
     },
     "metadata": {},
     "output_type": "display_data"
    }
   ],
   "source": [
    "with mpl.rc_context(fname=\"../../.matplotlibrc\"):\n",
    "    plot_eigenvalues(\n",
    "        torch.log(torch.flip(e_vals_e_per_spike, dims=(0,))), figsize=(1.7, 1.0)\n",
    "    )\n",
    "    print(\n",
    "        \"Ratio of first to second eigenvalue: \",\n",
    "        e_vals_e_per_spike[-1] / e_vals_e_per_spike[-2],\n",
    "    )\n",
    "    plt.show()"
   ]
  },
  {
   "cell_type": "code",
   "execution_count": 73,
   "metadata": {},
   "outputs": [
    {
     "data": {
      "image/png": "[encoded data removed]",
      "text/plain": [
       "<Figure size 160x100 with 1 Axes>"
      ]
     },
     "metadata": {},
     "output_type": "display_data"
    }
   ],
   "source": [
    "with mpl.rc_context(fname=\"../../.matplotlibrc\"):\n",
    "    py_sensitivity_bars(\n",
    "        e_vecs_e_per_spike[0:8, -1:].T,\n",
    "        ylim=[-0.3, 1.0],\n",
    "        figsize=(1.6, 1.0),\n",
    "        ylabel=\"First E-vec.\",\n",
    "        plot_labels=True,\n",
    "        color=\"#3182bd\",\n",
    "    )\n",
    "    plt.show()"
   ]
  },
  {
   "cell_type": "code",
   "execution_count": 74,
   "metadata": {},
   "outputs": [
    {
     "data": {
      "image/png": "[encoded data removed]",
      "text/plain": [
       "<Figure size 200x100 with 1 Axes>"
      ]
     },
     "metadata": {},
     "output_type": "display_data"
    }
   ],
   "source": [
    "with mpl.rc_context(fname=\"../../.matplotlibrc\"):\n",
    "    viz.other_sensitivity_bars(\n",
    "        e_vecs_e_per_spike[8:, -1:].T, ylim=[-0.3, 1.0], figsize=(2.0, 1.0)\n",
    "    )\n",
    "    plt.show()"
   ]
  },
  {
   "cell_type": "markdown",
   "metadata": {},
   "source": [
    "# Panel B: Sensitivity energy/spike"
   ]
  },
  {
   "cell_type": "code",
   "execution_count": 75,
   "metadata": {
    "jupyter": {
     "source_hidden": true
    }
   },
   "outputs": [
    {
     "data": {
      "image/png": "[encoded data removed]",
      "text/plain": [
       "<Figure size 160x80 with 1 Axes>"
      ]
     },
     "metadata": {},
     "output_type": "display_data"
    }
   ],
   "source": [
    "with mpl.rc_context(fname=\"../../.matplotlibrc\"):\n",
    "    viz.all_sensitivity_bars(cum_grad, ylim=[-1, 1], figsize=(1.6, 0.8))\n",
    "    plt.savefig(PANEL_B1, facecolor=\"None\", transparent=True)\n",
    "    plt.show()"
   ]
  },
  {
   "cell_type": "code",
   "execution_count": 76,
   "metadata": {
    "jupyter": {
     "source_hidden": true
    }
   },
   "outputs": [
    {
     "data": {
      "image/png": "[encoded data removed]",
      "text/plain": [
       "<Figure size 160x80 with 1 Axes>"
      ]
     },
     "metadata": {},
     "output_type": "display_data"
    }
   ],
   "source": [
    "with mpl.rc_context(fname=\"../../.matplotlibrc\"):\n",
    "    viz.single_neuron_sensitivity_bar(cum_grad, ylim=[-1, 1], figsize=(1.6, 0.8))\n",
    "    plt.savefig(PANEL_B2, facecolor=\"None\", transparent=True)\n",
    "    plt.show()"
   ]
  },
  {
   "cell_type": "markdown",
   "metadata": {},
   "source": [
    "# Panel C: sensitivity number of spikes"
   ]
  },
  {
   "cell_type": "code",
   "execution_count": 77,
   "metadata": {},
   "outputs": [],
   "source": [
    "nn = classifier(dim=31)"
   ]
  },
  {
   "cell_type": "code",
   "execution_count": 78,
   "metadata": {
    "jupyter": {
     "source_hidden": true
    }
   },
   "outputs": [],
   "source": [
    "# converged_nn_num_spikes = fit_regression_net(\n",
    "#     nn,\n",
    "#     train_params_norm,\n",
    "#     train_num_spikes_norm,\n",
    "#     num_train=train_params_norm.shape[0],\n",
    "#     batch_size=50,\n",
    "#     stop_after_epochs=10,\n",
    "#     max_epochs=200\n",
    "# )"
   ]
  },
  {
   "cell_type": "code",
   "execution_count": 79,
   "metadata": {
    "jupyter": {
     "source_hidden": true
    }
   },
   "outputs": [],
   "source": [
    "# np.savez('../../results/regression_nets/200821_predict_numSpikes_ABPD.npz', converged_nn=converged_nn_num_spikes)"
   ]
  },
  {
   "cell_type": "code",
   "execution_count": 80,
   "metadata": {},
   "outputs": [],
   "source": [
    "data = np.load(\n",
    "    \"../../results/regression_nets/200821_predict_numSpikes_ABPD.npz\", allow_pickle=True\n",
    ")\n",
    "converged_nn_num_spikes = data[\"converged_nn\"].tolist()"
   ]
  },
  {
   "cell_type": "code",
   "execution_count": 81,
   "metadata": {},
   "outputs": [],
   "source": [
    "predictions = (\n",
    "    converged_nn_num_spikes.predict(torch.as_tensor(test_params_norm)).detach().numpy()\n",
    ")"
   ]
  },
  {
   "cell_type": "code",
   "execution_count": 82,
   "metadata": {
    "jupyter": {
     "source_hidden": true
    }
   },
   "outputs": [
    {
     "data": {
      "image/png": "[encoded data removed]",
      "text/plain": [
       "<Figure size 200x150 with 1 Axes>"
      ]
     },
     "metadata": {},
     "output_type": "display_data"
    }
   ],
   "source": [
    "with mpl.rc_context(fname=\"../../.matplotlibrc\"):\n",
    "    fig, ax = plt.subplots(1, 1, figsize=(2, 1.5))\n",
    "    unnorm_x = test_num_spikes_norm[:300] * std_num_spikes + mean_num_spikes\n",
    "    unnorm_y = predictions[:300] * std_num_spikes + mean_num_spikes\n",
    "    ax.scatter(x=unnorm_x, y=unnorm_y, s=3, color=\"#2b8cbe\")\n",
    "    gt_vec = np.linspace(np.min(unnorm_x), np.max(unnorm_x), 2)\n",
    "    ax.plot(gt_vec, gt_vec, \"#ff7f00\")\n",
    "    ax.set_xlabel(\"Spikes per burst\")\n",
    "    ax.set_ylabel(\"Neural net prediction\")\n",
    "    plt.savefig(PANEL_supp2, facecolor=\"None\", transparent=True)"
   ]
  },
  {
   "cell_type": "markdown",
   "metadata": {},
   "source": [
    "### Get gradient wrt output"
   ]
  },
  {
   "cell_type": "code",
   "execution_count": 83,
   "metadata": {},
   "outputs": [],
   "source": [
    "cum_grad = get_gradient(converged_nn_num_spikes, test_params_norm)"
   ]
  },
  {
   "cell_type": "code",
   "execution_count": 84,
   "metadata": {
    "jupyter": {
     "source_hidden": true
    }
   },
   "outputs": [
    {
     "data": {
      "image/png": "[encoded data removed]",
      "text/plain": [
       "<Figure size 160x80 with 1 Axes>"
      ]
     },
     "metadata": {},
     "output_type": "display_data"
    }
   ],
   "source": [
    "with mpl.rc_context(fname=\"../../.matplotlibrc\"):\n",
    "    viz.all_sensitivity_bars(cum_grad, ylim=[-1.5, 1.5], figsize=(1.6, 0.8))\n",
    "    plt.savefig(PANEL_C1, facecolor=\"None\", transparent=True)\n",
    "    plt.show()"
   ]
  },
  {
   "cell_type": "code",
   "execution_count": 85,
   "metadata": {
    "jupyter": {
     "source_hidden": true
    }
   },
   "outputs": [
    {
     "data": {
      "image/png": "[encoded data removed]",
      "text/plain": [
       "<Figure size 160x80 with 1 Axes>"
      ]
     },
     "metadata": {},
     "output_type": "display_data"
    }
   ],
   "source": [
    "with mpl.rc_context(fname=\"../../.matplotlibrc\"):\n",
    "    viz.single_neuron_sensitivity_bar(cum_grad, ylim=[-1.5, 1.5], figsize=(1.6, 0.8))\n",
    "    plt.savefig(PANEL_C2, facecolor=\"None\", transparent=True)\n",
    "    plt.show()"
   ]
  },
  {
   "cell_type": "code",
   "execution_count": 86,
   "metadata": {},
   "outputs": [],
   "source": [
    "e_vals_numSpikes, e_vecs_numSpikes = active_subspace(\n",
    "    converged_nn_num_spikes, test_params_norm\n",
    ")"
   ]
  },
  {
   "cell_type": "code",
   "execution_count": 91,
   "metadata": {},
   "outputs": [
    {
     "name": "stdout",
     "output_type": "stream",
     "text": [
      "Ratio of first to second eigenvalue:  tensor(15.8987)\n"
     ]
    },
    {
     "data": {
      "image/png": "[encoded data removed]",
      "text/plain": [
       "<Figure size 170x100 with 1 Axes>"
      ]
     },
     "metadata": {},
     "output_type": "display_data"
    }
   ],
   "source": [
    "with mpl.rc_context(fname=\"../../.matplotlibrc\"):\n",
    "    plot_eigenvalues(\n",
    "        torch.log(torch.flip(e_vals_numSpikes, dims=(0,))), figsize=(1.7, 1.0)\n",
    "    )\n",
    "    print(\n",
    "        \"Ratio of first to second eigenvalue: \",\n",
    "        e_vals_numSpikes[-1] / e_vals_numSpikes[-2],\n",
    "    )\n",
    "    plt.show()"
   ]
  },
  {
   "cell_type": "code",
   "execution_count": 88,
   "metadata": {},
   "outputs": [
    {
     "data": {
      "image/png": "[encoded data removed]",
      "text/plain": [
       "<Figure size 160x100 with 1 Axes>"
      ]
     },
     "metadata": {},
     "output_type": "display_data"
    }
   ],
   "source": [
    "with mpl.rc_context(fname=\"../../.matplotlibrc\"):\n",
    "    py_sensitivity_bars(\n",
    "        e_vecs_numSpikes[0:8, -1:].T,\n",
    "        ylim=[-0.7, 0.7],\n",
    "        figsize=(1.6, 1.0),\n",
    "        ylabel=\"First E-vec.\",\n",
    "        plot_labels=True,\n",
    "        color=\"#3182bd\",\n",
    "    )\n",
    "    plt.show()"
   ]
  },
  {
   "cell_type": "code",
   "execution_count": 89,
   "metadata": {},
   "outputs": [
    {
     "data": {
      "image/png": "[encoded data removed]",
      "text/plain": [
       "<Figure size 200x100 with 1 Axes>"
      ]
     },
     "metadata": {},
     "output_type": "display_data"
    }
   ],
   "source": [
    "with mpl.rc_context(fname=\"../../.matplotlibrc\"):\n",
    "    viz.other_sensitivity_bars(\n",
    "        e_vecs_numSpikes[8:, -1:].T, ylim=[-0.3, 1.0], figsize=(2.0, 1.0)\n",
    "    )\n",
    "    plt.show()"
   ]
  },
  {
   "cell_type": "markdown",
   "metadata": {},
   "source": [
    "# Project parameters into plane"
   ]
  },
  {
   "cell_type": "code",
   "execution_count": 323,
   "metadata": {},
   "outputs": [],
   "source": [
    "energies = sample_stats[:, 21:23]\n",
    "total_energies = np.sum(energies, axis=1)"
   ]
  },
  {
   "cell_type": "code",
   "execution_count": 324,
   "metadata": {},
   "outputs": [],
   "source": [
    "energy_sort_inds = np.argsort(total_energies[500:])"
   ]
  },
  {
   "cell_type": "code",
   "execution_count": 325,
   "metadata": {},
   "outputs": [],
   "source": [
    "sorted_train_params_norm = train_params_norm[energy_sort_inds]\n",
    "top_1th_train_params_norm = sorted_train_params_norm[\n",
    "    : int(len(sorted_train_params_norm) / 20)\n",
    "]\n",
    "bad_99th_train_params_norm = sorted_train_params_norm[\n",
    "    int(len(sorted_train_params_norm) / 20) :\n",
    "]\n",
    "np.random.shuffle(top_1th_train_params_norm)\n",
    "np.random.shuffle(bad_99th_train_params_norm)"
   ]
  },
  {
   "cell_type": "code",
   "execution_count": 326,
   "metadata": {},
   "outputs": [
    {
     "data": {
      "text/plain": [
       "(54543, 31)"
      ]
     },
     "execution_count": 326,
     "metadata": {},
     "output_type": "execute_result"
    }
   ],
   "source": [
    "train_params_norm.shape"
   ]
  },
  {
   "cell_type": "code",
   "execution_count": 327,
   "metadata": {},
   "outputs": [],
   "source": [
    "num_scatter = 10000\n",
    "\n",
    "projection_mat_e_per_spike_1 = e_vecs_e_per_spike[:, -1:]\n",
    "projection_mat_e_per_spike_2 = e_vecs_e_per_spike[:, -2:-1]\n",
    "train_params_norm_tt_top = torch.as_tensor(top_1th_train_params_norm)\n",
    "train_params_norm_tt_bad = torch.as_tensor(bad_99th_train_params_norm)\n",
    "\n",
    "projected_e_per_spike_1_top = torch.mm(train_params_norm_tt_top, projection_mat_e_per_spike_1)[\n",
    "    :num_scatter\n",
    "]\n",
    "all_projected_e_per_spike_1_top = torch.mm(\n",
    "    train_params_norm_tt_top, projection_mat_e_per_spike_1\n",
    ")\n",
    "\n",
    "projected_e_per_spike_2_top = torch.mm(train_params_norm_tt_top, projection_mat_e_per_spike_2)[\n",
    "    :num_scatter\n",
    "]\n",
    "all_projected_e_per_spike_2_top = torch.mm(\n",
    "    train_params_norm_tt_top, projection_mat_e_per_spike_2\n",
    ")\n",
    "\n",
    "\n",
    "projected_e_per_spike_1_bad = torch.mm(train_params_norm_tt_bad, projection_mat_e_per_spike_1)[\n",
    "    :num_scatter\n",
    "]\n",
    "all_projected_e_per_spike_1_bad = torch.mm(\n",
    "    train_params_norm_tt_bad, projection_mat_e_per_spike_1\n",
    ")\n",
    "\n",
    "projected_e_per_spike_2_bad = torch.mm(train_params_norm_tt_bad, projection_mat_e_per_spike_2)[\n",
    "    :num_scatter\n",
    "]\n",
    "all_projected_e_per_spike_2_bad = torch.mm(\n",
    "    train_params_norm_tt_bad, projection_mat_e_per_spike_2\n",
    ")"
   ]
  },
  {
   "cell_type": "code",
   "execution_count": 328,
   "metadata": {},
   "outputs": [],
   "source": [
    "minimal_dim0_set_e_per_spike_1 = projected_e_per_spike_1[\n",
    "    torch.argmin(projected_e_per_spike_1[:, 0])\n",
    "]\n",
    "maximal_dim0_set_e_per_spike_1 = projected_e_per_spike_1[\n",
    "    torch.argmax(projected_e_per_spike_1[:, 0])\n",
    "]"
   ]
  },
  {
   "cell_type": "code",
   "execution_count": 329,
   "metadata": {},
   "outputs": [
    {
     "data": {
      "image/png": "[encoded data removed]",
      "text/plain": [
       "<Figure size 150x100 with 1 Axes>"
      ]
     },
     "metadata": {},
     "output_type": "display_data"
    }
   ],
   "source": [
    "with mpl.rc_context(fname=\"../../.matplotlibrc\"):\n",
    "    fig, ax = plt.subplots(1, 1, figsize=(1.5, 1))\n",
    "    _ = ax.hist(all_projected_e_per_spike_1[:10000].T, bins=50)\n",
    "    ax.axvline(minimal_dim0_set_e_per_spike_1, c=\"#8856a7\", ymin=0, ymax=0.75)\n",
    "    ax.axvline(maximal_dim0_set_e_per_spike_1, c=\"#8856a7\", ymin=0, ymax=0.75)\n",
    "    ax.spines[\"top\"].set_visible(False)\n",
    "    ax.spines[\"right\"].set_visible(False)\n",
    "    ax.set_xlabel(\"Projected samples\")\n",
    "    ax.set_ylabel(\"Count\")"
   ]
  },
  {
   "cell_type": "code",
   "execution_count": 330,
   "metadata": {},
   "outputs": [],
   "source": [
    "minimal_dim0_set_e_per_spike_2 = projected_e_per_spike_2[\n",
    "    torch.argmin(projected_e_per_spike_2[:, 0])\n",
    "]\n",
    "maximal_dim0_set_e_per_spike_2 = projected_e_per_spike_2[\n",
    "    torch.argmax(projected_e_per_spike_2[:, 0])\n",
    "]"
   ]
  },
  {
   "cell_type": "code",
   "execution_count": 331,
   "metadata": {},
   "outputs": [],
   "source": [
    "# with mpl.rc_context(fname=\"../../.matplotlibrc\"):\n",
    "#     fig, ax = plt.subplots(1, 1, figsize=(1.5, 1))\n",
    "#     _ = ax.hist(all_projected_e_per_spike_2[:10000].T, bins=50)\n",
    "#     ax.axvline(minimal_dim0_set_e_per_spike_2, c=\"#8856a7\", ymin=0, ymax=0.75)\n",
    "#     ax.axvline(maximal_dim0_set_e_per_spike_2, c=\"#8856a7\", ymin=0, ymax=0.75)\n",
    "#     ax.spines[\"top\"].set_visible(False)\n",
    "#     ax.spines[\"right\"].set_visible(False)\n",
    "#     ax.set_xlabel(\"Projected samples\")\n",
    "#     ax.set_ylabel(\"Count\")"
   ]
  },
  {
   "cell_type": "code",
   "execution_count": 332,
   "metadata": {},
   "outputs": [],
   "source": [
    "projection_mat_numSpikes = e_vecs_numSpikes[:, -1:]\n",
    "\n",
    "train_params_norm_tt_top = torch.as_tensor(top_1th_train_params_norm)\n",
    "train_params_norm_tt_bad = torch.as_tensor(bad_99th_train_params_norm)\n",
    "\n",
    "projected_numSpikes_top = torch.mm(train_params_norm_tt_top, projection_mat_numSpikes)[:num_scatter]\n",
    "all_projected_numSpikes_top = torch.mm(train_params_norm_tt_top, projection_mat_numSpikes)\n",
    "\n",
    "projected_numSpikes_bad = torch.mm(train_params_norm_tt_bad, projection_mat_numSpikes)[:num_scatter]\n",
    "all_projected_numSpikes_bad = torch.mm(train_params_norm_tt_bad, projection_mat_numSpikes)"
   ]
  },
  {
   "cell_type": "code",
   "execution_count": 333,
   "metadata": {},
   "outputs": [],
   "source": [
    "minimal_dim0_set_numSpikes = projected_numSpikes[\n",
    "    torch.argmin(projected_numSpikes[:, 0])\n",
    "]\n",
    "maximal_dim0_set_numSpikes = projected_numSpikes[\n",
    "    torch.argmax(projected_numSpikes[:, 0])\n",
    "]"
   ]
  },
  {
   "cell_type": "code",
   "execution_count": 334,
   "metadata": {},
   "outputs": [],
   "source": [
    "# with mpl.rc_context(fname=\"../../.matplotlibrc\"):\n",
    "#     fig, ax = plt.subplots(1, 1, figsize=(1.5, 1))\n",
    "#     _ = ax.hist(all_projected_numSpikes[:10000].T, bins=50)\n",
    "#     ax.axvline(minimal_dim0_set_numSpikes, c=\"#8856a7\", ymin=0, ymax=0.75)\n",
    "#     ax.axvline(maximal_dim0_set_numSpikes, c=\"#8856a7\", ymin=0, ymax=0.75)\n",
    "#     ax.spines[\"top\"].set_visible(False)\n",
    "#     ax.spines[\"right\"].set_visible(False)\n",
    "#     ax.set_xlabel(\"Projected samples\")\n",
    "#     ax.set_ylabel(\"Count\")"
   ]
  },
  {
   "cell_type": "code",
   "execution_count": 335,
   "metadata": {},
   "outputs": [
    {
     "data": {
      "text/plain": [
       "torch.Size([2727, 1])"
      ]
     },
     "execution_count": 335,
     "metadata": {},
     "output_type": "execute_result"
    }
   ],
   "source": [
    "all_projected_numSpikes_top.shape"
   ]
  },
  {
   "cell_type": "code",
   "execution_count": 349,
   "metadata": {},
   "outputs": [
    {
     "data": {
      "image/png": "[encoded data removed]",
      "text/plain": [
       "<Figure size 500x300 with 1 Axes>"
      ]
     },
     "metadata": {},
     "output_type": "display_data"
    }
   ],
   "source": [
    "with mpl.rc_context(fname=\"../../.matplotlibrc\"):\n",
    "    fig, ax = plt.subplots(1, 1, figsize=(5, 3))\n",
    "    _ = ax.scatter(\n",
    "        all_projected_numSpikes_bad[:1000].T, all_projected_e_per_spike_1_bad[:1000].T, s=3, color='b'\n",
    "    )\n",
    "    _ = ax.scatter(\n",
    "        all_projected_numSpikes_top[:1000].T, all_projected_e_per_spike_1_top[:1000].T, s=3, color='r'\n",
    "    )\n",
    "#     ax.axvline(minimal_dim0_set_numSpikes, c=\"#8856a7\", ymin=0, ymax=0.75)\n",
    "#     ax.axvline(maximal_dim0_set_numSpikes, c=\"#8856a7\", ymin=0, ymax=0.75)\n",
    "    ax.spines[\"top\"].set_visible(False)\n",
    "    ax.spines[\"right\"].set_visible(False)\n",
    "    ax.set_xlabel(\"Projection to 1st E-vec Num spikes\")\n",
    "    ax.set_ylabel(\"E / spike\")"
   ]
  },
  {
   "cell_type": "code",
   "execution_count": 350,
   "metadata": {},
   "outputs": [
    {
     "data": {
      "image/png": "[encoded data removed]",
      "text/plain": [
       "<Figure size 500x300 with 1 Axes>"
      ]
     },
     "metadata": {},
     "output_type": "display_data"
    }
   ],
   "source": [
    "with mpl.rc_context(fname=\"../../.matplotlibrc\"):\n",
    "    fig, ax = plt.subplots(1, 1, figsize=(5, 3))\n",
    "    _ = ax.scatter(\n",
    "        all_projected_numSpikes_bad[:1000].T, all_projected_e_per_spike_2_bad[:1000].T, s=3, color='b'\n",
    "    )\n",
    "    _ = ax.scatter(\n",
    "        all_projected_numSpikes_top[:1000].T, all_projected_e_per_spike_2_top[:1000].T, s=3, color='r'\n",
    "    )\n",
    "#     ax.axvline(minimal_dim0_set_numSpikes, c=\"#8856a7\", ymin=0, ymax=0.75)\n",
    "#     ax.axvline(maximal_dim0_set_numSpikes, c=\"#8856a7\", ymin=0, ymax=0.75)\n",
    "    ax.spines[\"top\"].set_visible(False)\n",
    "    ax.spines[\"right\"].set_visible(False)\n",
    "    ax.set_xlabel(\"Num spikes\")\n",
    "    ax.set_ylabel(\"E / spike\")"
   ]
  },
  {
   "cell_type": "markdown",
   "metadata": {},
   "source": [
    "# Panel D: num spikes and energy per spike independent"
   ]
  },
  {
   "cell_type": "code",
   "execution_count": 29,
   "metadata": {},
   "outputs": [],
   "source": [
    "quantile_energy = 0.05\n",
    "quantile_numSpikes = 0.05"
   ]
  },
  {
   "cell_type": "code",
   "execution_count": 30,
   "metadata": {},
   "outputs": [],
   "source": [
    "data = np.load(\"../../results/11deg_post_pred/11_deg_post_pred_close_to_obs.npz\")\n",
    "sample_stats = data[\"sample_stats\"]\n",
    "sample_params = data[\"sample_params\"]\n",
    "sample_seeds = data[\"sample_seeds\"]"
   ]
  },
  {
   "cell_type": "code",
   "execution_count": 31,
   "metadata": {},
   "outputs": [],
   "source": [
    "all_energies_per_spike = sample_stats[:, 18:21]\n",
    "all_total_energies = sample_stats[:, 21:24]\n",
    "summed_energies_per_spike = np.sum(np.asarray(all_energies_per_spike), axis=1)\n",
    "summed_energies_total = np.sum(np.asarray(all_total_energies), axis=1)"
   ]
  },
  {
   "cell_type": "code",
   "execution_count": 32,
   "metadata": {},
   "outputs": [],
   "source": [
    "energies_per_spike_PY = all_energies_per_spike[:, -1]\n",
    "all_numbers_of_spikes_per_burst = sample_stats[:, -6:-3] / sample_stats[:, -3:]\n",
    "number_of_spikes_per_burst_PY = all_numbers_of_spikes_per_burst[:, -1]"
   ]
  },
  {
   "cell_type": "code",
   "execution_count": 33,
   "metadata": {},
   "outputs": [],
   "source": [
    "inds_energy_per_spike = np.argsort(energies_per_spike_PY)\n",
    "inds_num_spikes = np.argsort(number_of_spikes_per_burst_PY)"
   ]
  },
  {
   "cell_type": "code",
   "execution_count": 34,
   "metadata": {},
   "outputs": [],
   "source": [
    "index_energy_per_spike = inds_energy_per_spike[\n",
    "    int(len(inds_energy_per_spike) * quantile_energy)\n",
    "]\n",
    "index_num_spikes = inds_num_spikes[int(len(inds_num_spikes) * quantile_numSpikes)]"
   ]
  },
  {
   "cell_type": "code",
   "execution_count": 35,
   "metadata": {},
   "outputs": [],
   "source": [
    "energy_per_spike_threshold = energies_per_spike_PY[index_energy_per_spike]\n",
    "num_spikes_threshold = number_of_spikes_per_burst_PY[index_num_spikes]"
   ]
  },
  {
   "cell_type": "code",
   "execution_count": 36,
   "metadata": {},
   "outputs": [],
   "source": [
    "param_sets_with_low_energy = sample_params[\n",
    "    energies_per_spike_PY < energy_per_spike_threshold\n",
    "]\n",
    "param_sets_with_low_num_spikes = sample_params[\n",
    "    number_of_spikes_per_burst_PY < num_spikes_threshold\n",
    "]"
   ]
  },
  {
   "cell_type": "code",
   "execution_count": 37,
   "metadata": {},
   "outputs": [
    {
     "name": "stdout",
     "output_type": "stream",
     "text": [
      "(2752, 31)\n",
      "(2686, 31)\n"
     ]
    }
   ],
   "source": [
    "print(param_sets_with_low_energy.shape)\n",
    "print(param_sets_with_low_num_spikes.shape)"
   ]
  },
  {
   "cell_type": "code",
   "execution_count": 38,
   "metadata": {},
   "outputs": [],
   "source": [
    "number_of_spikes_per_burst_PY_low_energy = number_of_spikes_per_burst_PY[\n",
    "    energies_per_spike_PY < energy_per_spike_threshold\n",
    "]\n",
    "params_both_low = param_sets_with_low_energy[\n",
    "    number_of_spikes_per_burst_PY_low_energy < num_spikes_threshold\n",
    "]"
   ]
  },
  {
   "cell_type": "code",
   "execution_count": 39,
   "metadata": {},
   "outputs": [
    {
     "name": "stdout",
     "output_type": "stream",
     "text": [
      "(91, 31)\n"
     ]
    }
   ],
   "source": [
    "print(params_both_low.shape)"
   ]
  },
  {
   "cell_type": "code",
   "execution_count": 42,
   "metadata": {},
   "outputs": [],
   "source": [
    "all_out_targets = []\n",
    "cols = [col[\"CONSISTENT1\"], col[\"CONSISTENT1\"]]\n",
    "\n",
    "params1 = params_both_low[0]\n",
    "\n",
    "target_params = params1  # * params_std_11 + params_mean_11\n",
    "out_target = simulate_energyscape(deepcopy(target_params), seed=0)\n",
    "\n",
    "all_out_targets.append(out_target)"
   ]
  },
  {
   "cell_type": "code",
   "execution_count": 44,
   "metadata": {},
   "outputs": [
    {
     "data": {
      "image/png": "[encoded data removed]",
      "text/plain": [
       "<Figure size 250x150 with 2 Axes>"
      ]
     },
     "metadata": {},
     "output_type": "display_data"
    }
   ],
   "source": [
    "with mpl.rc_context(fname=\"../../.matplotlibrc\"):\n",
    "    viz.plot_energy_scape(\n",
    "        out_target,\n",
    "        2,\n",
    "        get_time(),\n",
    "        109000,\n",
    "        129000,\n",
    "        figsize=(2.5, 1.5),\n",
    "        xlabel=False,\n",
    "        ylabel=True,\n",
    "    )\n",
    "    plt.savefig(PANEL_D1, facecolor=\"None\", transparent=True)\n",
    "    plt.show()"
   ]
  },
  {
   "cell_type": "code",
   "execution_count": 45,
   "metadata": {},
   "outputs": [],
   "source": [
    "quantile_energy = 1 - 0.05\n",
    "quantile_numSpikes = 0.05"
   ]
  },
  {
   "cell_type": "code",
   "execution_count": 46,
   "metadata": {},
   "outputs": [
    {
     "name": "stdout",
     "output_type": "stream",
     "text": [
      "(2752, 31)\n",
      "(2686, 31)\n"
     ]
    }
   ],
   "source": [
    "index_energy_per_spike = inds_energy_per_spike[\n",
    "    int(len(inds_energy_per_spike) * quantile_energy)\n",
    "]\n",
    "index_num_spikes = inds_num_spikes[int(len(inds_num_spikes) * quantile_numSpikes)]\n",
    "\n",
    "energy_per_spike_threshold = energies_per_spike_PY[index_energy_per_spike]\n",
    "num_spikes_threshold = number_of_spikes_per_burst_PY[index_num_spikes]\n",
    "\n",
    "param_sets_with_low_energy = sample_params[\n",
    "    energies_per_spike_PY > energy_per_spike_threshold\n",
    "]\n",
    "param_sets_with_low_num_spikes = sample_params[\n",
    "    number_of_spikes_per_burst_PY < num_spikes_threshold\n",
    "]\n",
    "\n",
    "print(param_sets_with_low_energy.shape)\n",
    "print(param_sets_with_low_num_spikes.shape)"
   ]
  },
  {
   "cell_type": "code",
   "execution_count": 47,
   "metadata": {},
   "outputs": [
    {
     "name": "stdout",
     "output_type": "stream",
     "text": [
      "(3, 31)\n"
     ]
    }
   ],
   "source": [
    "number_of_spikes_per_burst_PY_low_energy = number_of_spikes_per_burst_PY[\n",
    "    energies_per_spike_PY > energy_per_spike_threshold\n",
    "]\n",
    "params_both_low = param_sets_with_low_energy[\n",
    "    number_of_spikes_per_burst_PY_low_energy < num_spikes_threshold\n",
    "]\n",
    "\n",
    "print(params_both_low.shape)"
   ]
  },
  {
   "cell_type": "code",
   "execution_count": 48,
   "metadata": {},
   "outputs": [],
   "source": [
    "all_out_targets = []\n",
    "cols = [col[\"CONSISTENT1\"], col[\"CONSISTENT1\"]]\n",
    "\n",
    "params1 = params_both_low[0]\n",
    "\n",
    "target_params = params1  # * params_std_11 + params_mean_11\n",
    "out_target = simulate_energyscape(deepcopy(target_params), seed=0)\n",
    "\n",
    "all_out_targets.append(out_target)"
   ]
  },
  {
   "cell_type": "code",
   "execution_count": 49,
   "metadata": {},
   "outputs": [
    {
     "data": {
      "image/png": "[encoded data removed]",
      "text/plain": [
       "<Figure size 250x150 with 2 Axes>"
      ]
     },
     "metadata": {},
     "output_type": "display_data"
    }
   ],
   "source": [
    "with mpl.rc_context(fname=\"../../.matplotlibrc\"):\n",
    "    viz.plot_energy_scape(\n",
    "        out_target,\n",
    "        2,\n",
    "        get_time(),\n",
    "        108000,\n",
    "        128000,\n",
    "        figsize=(2.5, 1.5),\n",
    "        xlabel=True,\n",
    "        ylabel=True,\n",
    "    )\n",
    "    plt.savefig(PANEL_D2, facecolor=\"None\", transparent=True)\n",
    "    plt.show()"
   ]
  },
  {
   "cell_type": "code",
   "execution_count": 50,
   "metadata": {},
   "outputs": [],
   "source": [
    "quantile_energy = 0.05\n",
    "quantile_numSpikes = 1 - 0.05"
   ]
  },
  {
   "cell_type": "code",
   "execution_count": 51,
   "metadata": {},
   "outputs": [
    {
     "name": "stdout",
     "output_type": "stream",
     "text": [
      "(2752, 31)\n",
      "(2659, 31)\n"
     ]
    }
   ],
   "source": [
    "index_energy_per_spike = inds_energy_per_spike[\n",
    "    int(len(inds_energy_per_spike) * quantile_energy)\n",
    "]\n",
    "index_num_spikes = inds_num_spikes[int(len(inds_num_spikes) * quantile_numSpikes)]\n",
    "\n",
    "energy_per_spike_threshold = energies_per_spike_PY[index_energy_per_spike]\n",
    "num_spikes_threshold = number_of_spikes_per_burst_PY[index_num_spikes]\n",
    "\n",
    "param_sets_with_low_energy = sample_params[\n",
    "    energies_per_spike_PY < energy_per_spike_threshold\n",
    "]\n",
    "param_sets_with_low_num_spikes = sample_params[\n",
    "    number_of_spikes_per_burst_PY > num_spikes_threshold\n",
    "]\n",
    "\n",
    "print(param_sets_with_low_energy.shape)\n",
    "print(param_sets_with_low_num_spikes.shape)"
   ]
  },
  {
   "cell_type": "code",
   "execution_count": 52,
   "metadata": {},
   "outputs": [
    {
     "name": "stdout",
     "output_type": "stream",
     "text": [
      "(188, 31)\n"
     ]
    }
   ],
   "source": [
    "number_of_spikes_per_burst_PY_low_energy = number_of_spikes_per_burst_PY[\n",
    "    energies_per_spike_PY < energy_per_spike_threshold\n",
    "]\n",
    "params_both_low = param_sets_with_low_energy[\n",
    "    number_of_spikes_per_burst_PY_low_energy > num_spikes_threshold\n",
    "]\n",
    "\n",
    "print(params_both_low.shape)"
   ]
  },
  {
   "cell_type": "code",
   "execution_count": 53,
   "metadata": {},
   "outputs": [],
   "source": [
    "all_out_targets = []\n",
    "cols = [col[\"CONSISTENT1\"], col[\"CONSISTENT1\"]]\n",
    "\n",
    "params1 = params_both_low[0]\n",
    "\n",
    "target_params = params1  # * params_std_11 + params_mean_11\n",
    "out_target = simulate_energyscape(deepcopy(target_params), seed=0)\n",
    "\n",
    "all_out_targets.append(out_target)"
   ]
  },
  {
   "cell_type": "code",
   "execution_count": 54,
   "metadata": {},
   "outputs": [
    {
     "data": {
      "image/png": "[encoded data removed]",
      "text/plain": [
       "<Figure size 250x150 with 2 Axes>"
      ]
     },
     "metadata": {},
     "output_type": "display_data"
    }
   ],
   "source": [
    "with mpl.rc_context(fname=\"../../.matplotlibrc\"):\n",
    "    viz.plot_energy_scape(\n",
    "        out_target,\n",
    "        2,\n",
    "        get_time(),\n",
    "        114000,\n",
    "        134000,\n",
    "        figsize=(2.5, 1.5),\n",
    "        xlabel=False,\n",
    "        ylabel=False,\n",
    "    )\n",
    "    plt.savefig(PANEL_D3, facecolor=\"None\", transparent=True)\n",
    "    plt.show()"
   ]
  },
  {
   "cell_type": "code",
   "execution_count": 55,
   "metadata": {},
   "outputs": [],
   "source": [
    "quantile_energy = 1 - 0.05\n",
    "quantile_numSpikes = 1 - 0.05"
   ]
  },
  {
   "cell_type": "code",
   "execution_count": 56,
   "metadata": {},
   "outputs": [
    {
     "name": "stdout",
     "output_type": "stream",
     "text": [
      "(2752, 31)\n",
      "(2659, 31)\n"
     ]
    }
   ],
   "source": [
    "index_energy_per_spike = inds_energy_per_spike[\n",
    "    int(len(inds_energy_per_spike) * quantile_energy)\n",
    "]\n",
    "index_num_spikes = inds_num_spikes[int(len(inds_num_spikes) * quantile_numSpikes)]\n",
    "\n",
    "energy_per_spike_threshold = energies_per_spike_PY[index_energy_per_spike]\n",
    "num_spikes_threshold = number_of_spikes_per_burst_PY[index_num_spikes]\n",
    "\n",
    "param_sets_with_low_energy = sample_params[\n",
    "    energies_per_spike_PY > energy_per_spike_threshold\n",
    "]\n",
    "param_sets_with_low_num_spikes = sample_params[\n",
    "    number_of_spikes_per_burst_PY > num_spikes_threshold\n",
    "]\n",
    "\n",
    "print(param_sets_with_low_energy.shape)\n",
    "print(param_sets_with_low_num_spikes.shape)"
   ]
  },
  {
   "cell_type": "code",
   "execution_count": 57,
   "metadata": {},
   "outputs": [
    {
     "name": "stdout",
     "output_type": "stream",
     "text": [
      "(17, 31)\n"
     ]
    }
   ],
   "source": [
    "number_of_spikes_per_burst_PY_low_energy = number_of_spikes_per_burst_PY[\n",
    "    energies_per_spike_PY > energy_per_spike_threshold\n",
    "]\n",
    "params_both_low = param_sets_with_low_energy[\n",
    "    number_of_spikes_per_burst_PY_low_energy > num_spikes_threshold\n",
    "]\n",
    "\n",
    "print(params_both_low.shape)"
   ]
  },
  {
   "cell_type": "code",
   "execution_count": 58,
   "metadata": {},
   "outputs": [],
   "source": [
    "all_out_targets = []\n",
    "cols = [col[\"CONSISTENT1\"], col[\"CONSISTENT1\"]]\n",
    "\n",
    "params1 = params_both_low[0]\n",
    "\n",
    "target_params = params1  # * params_std_11 + params_mean_11\n",
    "out_target = simulate_energyscape(deepcopy(target_params), seed=0)\n",
    "\n",
    "all_out_targets.append(out_target)"
   ]
  },
  {
   "cell_type": "code",
   "execution_count": 59,
   "metadata": {},
   "outputs": [
    {
     "data": {
      "image/png": "[encoded data removed]",
      "text/plain": [
       "<Figure size 250x150 with 2 Axes>"
      ]
     },
     "metadata": {},
     "output_type": "display_data"
    }
   ],
   "source": [
    "with mpl.rc_context(fname=\"../../.matplotlibrc\"):\n",
    "    viz.plot_energy_scape(\n",
    "        out_target,\n",
    "        2,\n",
    "        get_time(),\n",
    "        100000,\n",
    "        120000,\n",
    "        figsize=(2.5, 1.5),\n",
    "        xlabel=True,\n",
    "        ylabel=False,\n",
    "    )\n",
    "    plt.savefig(PANEL_D4, facecolor=\"None\", transparent=True)\n",
    "    plt.show()"
   ]
  },
  {
   "cell_type": "markdown",
   "metadata": {},
   "source": [
    "# Assembe figure"
   ]
  },
  {
   "cell_type": "code",
   "execution_count": 127,
   "metadata": {},
   "outputs": [],
   "source": [
    "import time\n",
    "\n",
    "import IPython.display as IPd\n",
    "\n",
    "\n",
    "def svg(img):\n",
    "    IPd.display(IPd.HTML('<img src=\"{}\" / >'.format(img, time.time())))"
   ]
  },
  {
   "cell_type": "code",
   "execution_count": 128,
   "metadata": {},
   "outputs": [
    {
     "data": {
      "text/html": [
       "<img src=\"../fig/fig4.svg\" / >"
      ],
      "text/plain": [
       "<IPython.core.display.HTML object>"
      ]
     },
     "metadata": {},
     "output_type": "display_data"
    }
   ],
   "source": [
    "from svgutils.compose import *\n",
    "\n",
    "# > Inkscape pixel is 1/90 of an inch, other software usually uses 1/72.\n",
    "# > http://www.inkscapeforum.com/viewtopic.php?f=6&t=5964\n",
    "svg_scale = 1.25  # set this to 1.25 for Inkscape, 1.0 otherwise\n",
    "factor_svg=5.5\n",
    "\n",
    "# Panel letters in Helvetica Neue, 12pt, Medium\n",
    "kwargs_text = {'size': '12pt', 'font': 'Arial', 'weight': '800'}\n",
    "kwargs_consistent = {'size': '10pt', 'font': 'Arial', 'weight': '500', 'color': '#AF99EF'}\n",
    "kwargs_consistent1 = {'size': '10pt', 'font': 'Arial', 'weight': '500', 'color': '#9E7DD5'}\n",
    "kwargs_inconsistent = {'size': '10pt', 'font': 'Arial', 'weight': '500', 'color': '#AF99EF'}\n",
    "kwargs_text8pt = {'size': '7.7pt', 'font': 'Arial'}\n",
    "\n",
    "f = Figure(\"20.3cm\", \"7.9cm\",\n",
    "\n",
    "    Panel(\n",
    "         SVG(PANEL_A).scale(svg_scale).move(0, 0*factor_svg),\n",
    "         Text(\"a\", -2.0*factor_svg, 2.5*factor_svg, **kwargs_text),\n",
    "    ).move(2*factor_svg, 0.0*factor_svg),\n",
    "    \n",
    "    Panel(\n",
    "        SVG(PANEL_B1).scale(svg_scale).move(0*factor_svg, 0*factor_svg),\n",
    "        Text(\"b\", 0.0*factor_svg, 1.5*factor_svg, **kwargs_text),\n",
    "    ).move(0*factor_svg, 22.0*factor_svg),\n",
    "           \n",
    "    Panel(\n",
    "        SVG(PANEL_B2).scale(svg_scale).move(0*factor_svg, 0*factor_svg),\n",
    "    ).move(28*factor_svg, 22.0*factor_svg),\n",
    "    \n",
    "    Panel(\n",
    "          SVG(PANEL_C1).scale(svg_scale).move(0*factor_svg,0*factor_svg),\n",
    "          Text(\"c\", 0.0*factor_svg, 1.5*factor_svg, **kwargs_text),\n",
    "    ).move(0*factor_svg, 39*factor_svg),\n",
    "    \n",
    "    Panel(\n",
    "          SVG(PANEL_C2).scale(svg_scale).move(0*factor_svg,0*factor_svg),\n",
    "    ).move(28*factor_svg, 39*factor_svg),\n",
    "    \n",
    "    Panel(\n",
    "          SVG(PANEL_D1).scale(svg_scale).move(0*factor_svg, 0*factor_svg),\n",
    "          Text(\"d\", 0*factor_svg, 1.5*factor_svg, **kwargs_text),\n",
    "    ).move(58*factor_svg, 1.0*factor_svg),\n",
    "    \n",
    "    Panel(\n",
    "          SVG(PANEL_D2).scale(svg_scale).move(0*factor_svg, 0*factor_svg),\n",
    "    ).move(58*factor_svg, 27.0*factor_svg),\n",
    "    \n",
    "    Panel(\n",
    "          SVG(PANEL_D3).scale(svg_scale).move(0*factor_svg, 0*factor_svg),\n",
    "    ).move(98*factor_svg, 1.7*factor_svg),\n",
    "    \n",
    "    Panel(\n",
    "          SVG(PANEL_D4).scale(svg_scale).move(0*factor_svg, 0*factor_svg),\n",
    "    ).move(98*factor_svg, 27.7*factor_svg),\n",
    ")\n",
    "\n",
    "!mkdir -p fig\n",
    "f.save(\"../fig/fig4.svg\")\n",
    "svg('../fig/fig4.svg')"
   ]
  },
  {
   "cell_type": "markdown",
   "metadata": {},
   "source": [
    "### Assemble supplementary"
   ]
  },
  {
   "cell_type": "code",
   "execution_count": 129,
   "metadata": {},
   "outputs": [
    {
     "data": {
      "text/html": [
       "<img src=\"../fig/fig4_supp_convergence.svg\" / >"
      ],
      "text/plain": [
       "<IPython.core.display.HTML object>"
      ]
     },
     "metadata": {},
     "output_type": "display_data"
    }
   ],
   "source": [
    "f = Figure(\"20.3cm\", \"3.9cm\",\n",
    "\n",
    "    Panel(\n",
    "         SVG(PANEL_supp1).scale(svg_scale).move(0, 0*factor_svg),\n",
    "         Text(\"a\", -2.0*factor_svg, 2.5*factor_svg, **kwargs_text),\n",
    "    ).move(2*factor_svg, 0.0*factor_svg),\n",
    "    \n",
    "    Panel(\n",
    "        SVG(PANEL_supp2).scale(svg_scale).move(0*factor_svg, 0*factor_svg),\n",
    "        Text(\"b\", -2.0*factor_svg, 2.5*factor_svg, **kwargs_text),\n",
    "    ).move(50*factor_svg, 0.0*factor_svg),\n",
    "    \n",
    ")\n",
    "\n",
    "!mkdir -p fig\n",
    "f.save(\"../fig/fig4_supp_convergence.svg\")\n",
    "svg('../fig/fig4_supp_convergence.svg')"
   ]
  },
  {
   "cell_type": "code",
   "execution_count": null,
   "metadata": {},
   "outputs": [],
   "source": []
  },
  {
   "cell_type": "code",
   "execution_count": null,
   "metadata": {},
   "outputs": [],
   "source": []
  },
  {
   "cell_type": "code",
   "execution_count": null,
   "metadata": {},
   "outputs": [],
   "source": []
  },
  {
   "cell_type": "code",
   "execution_count": null,
   "metadata": {},
   "outputs": [],
   "source": []
  },
  {
   "cell_type": "code",
   "execution_count": null,
   "metadata": {},
   "outputs": [],
   "source": []
  },
  {
   "cell_type": "code",
   "execution_count": null,
   "metadata": {},
   "outputs": [],
   "source": []
  },
  {
   "cell_type": "code",
   "execution_count": null,
   "metadata": {},
   "outputs": [],
   "source": []
  },
  {
   "cell_type": "code",
   "execution_count": null,
   "metadata": {},
   "outputs": [],
   "source": []
  }
 ],
 "metadata": {
  "kernelspec": {
   "display_name": "sbi_prinz",
   "language": "python",
   "name": "sbi_prinz"
  },
  "language_info": {
   "codemirror_mode": {
    "name": "ipython",
    "version": 3
   },
   "file_extension": ".py",
   "mimetype": "text/x-python",
   "name": "python",
   "nbconvert_exporter": "python",
   "pygments_lexer": "ipython3",
   "version": "3.8.5"
  }
 },
 "nbformat": 4,
 "nbformat_minor": 4
}
