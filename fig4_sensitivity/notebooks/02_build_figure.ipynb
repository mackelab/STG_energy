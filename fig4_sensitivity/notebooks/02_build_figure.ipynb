{
 "cells": [
  {
   "cell_type": "markdown",
   "metadata": {},
   "source": [
    "# Figure 4"
   ]
  },
  {
   "cell_type": "code",
   "execution_count": 97,
   "metadata": {},
   "outputs": [
    {
     "name": "stdout",
     "output_type": "stream",
     "text": [
      "The autoreload extension is already loaded. To reload it, use:\n",
      "  %reload_ext autoreload\n"
     ]
    }
   ],
   "source": [
    "%load_ext autoreload\n",
    "%autoreload 2"
   ]
  },
  {
   "cell_type": "code",
   "execution_count": 98,
   "metadata": {},
   "outputs": [],
   "source": [
    "import numpy as np\n",
    "import matplotlib.pylab as plt\n",
    "import torch\n",
    "import time\n",
    "from copy import deepcopy\n",
    "import sys\n",
    "sys.path.append(\"../../../setup\")\n",
    "sys.path.append(\"../../../simulator\")\n",
    "sys.path.append(\"../../../inference\")\n",
    "sys.path.append(\"../../../utils\")\n",
    "sys.path.append(\"../model/\")\n",
    "sys.path.append('../../')\n",
    "\n",
    "from common import col, svg, samples_nd\n",
    "import netio\n",
    "import viz\n",
    "import importlib\n",
    "from compare_samples import get_dist, evaluate_summ_stats\n",
    "from find_pyloric import merge_samples, params_are_bounded\n",
    "import dill as pickle\n",
    "from find_pyloric import merge_datasets, merge_datasets_energy, find_pyloric_like, find_close_to_obs\n",
    "from energy import select_ss_close_to_obs\n",
    "\n",
    "import matplotlib as mpl"
   ]
  },
  {
   "cell_type": "code",
   "execution_count": 99,
   "metadata": {},
   "outputs": [],
   "source": [
    "from helper_functions import prepare_data, regression_plot, get_gradient"
   ]
  },
  {
   "cell_type": "code",
   "execution_count": 100,
   "metadata": {},
   "outputs": [],
   "source": [
    "PANEL_A  = '../svg/panel_a.svg'\n",
    "PANEL_B1 = '../svg/panel_b1.svg'\n",
    "PANEL_B2 = '../svg/panel_b2.svg'\n",
    "PANEL_C1 = '../svg/panel_c1.svg'\n",
    "PANEL_C2 = '../svg/panel_c2.svg'\n",
    "PANEL_D1 = '../svg/panel_d1.svg'\n",
    "PANEL_D2 = '../svg/panel_d2.svg'\n",
    "PANEL_D3 = '../svg/panel_d3.svg'\n",
    "PANEL_D4 = '../svg/panel_d4.svg'\n",
    "PANEL_supp1 = '../svg/panel_supp1.svg'\n",
    "PANEL_supp2 = '../svg/panel_supp2.svg'"
   ]
  },
  {
   "cell_type": "code",
   "execution_count": 101,
   "metadata": {},
   "outputs": [],
   "source": [
    "params_11 = netio.load_setup('collect_31D')\n",
    "pyloric_sim_11 = netio.create_simulators(params_11, save_all_energies=True)\n",
    "energy_calc = netio.create_energy(params_11)"
   ]
  },
  {
   "cell_type": "markdown",
   "metadata": {},
   "source": [
    "### Sort out the data from the cluster"
   ]
  },
  {
   "cell_type": "code",
   "execution_count": 102,
   "metadata": {},
   "outputs": [
    {
     "name": "stdout",
     "output_type": "stream",
     "text": [
      "There are 55043 datapoints in this dataset\n"
     ]
    }
   ],
   "source": [
    "outfile = '../../results/11deg_post_pred/11_deg_post_pred_close_to_obs.npz'\n",
    "data_n = np.load(outfile)\n",
    "sample_seeds = data_n[\"sample_seeds\"]\n",
    "sample_params = data_n[\"sample_params\"]\n",
    "sample_stats = data_n[\"sample_stats\"]\n",
    "print('There are', len(sample_seeds), 'datapoints in this dataset')"
   ]
  },
  {
   "cell_type": "markdown",
   "metadata": {},
   "source": [
    "# Train regression net"
   ]
  },
  {
   "cell_type": "markdown",
   "metadata": {},
   "source": [
    "### Prepare parameters"
   ]
  },
  {
   "cell_type": "code",
   "execution_count": 103,
   "metadata": {},
   "outputs": [],
   "source": [
    "num_test = 500\n",
    "\n",
    "test_params = sample_params[:num_test]\n",
    "train_params = sample_params[num_test:]\n",
    "mean_params = np.mean(train_params, axis=0)\n",
    "std_params = np.std(train_params, axis=0)\n",
    "\n",
    "train_params_norm = (train_params - mean_params) / std_params\n",
    "test_params_norm = (test_params - mean_params) / std_params"
   ]
  },
  {
   "cell_type": "markdown",
   "metadata": {},
   "source": [
    "### Prepare energy/spike"
   ]
  },
  {
   "cell_type": "code",
   "execution_count": 104,
   "metadata": {},
   "outputs": [],
   "source": [
    "all_energies_per_spike_ABPD = sample_stats[:, 18]"
   ]
  },
  {
   "cell_type": "code",
   "execution_count": 105,
   "metadata": {},
   "outputs": [],
   "source": [
    "numSpikesPerBurst = sample_stats[:, -6] / sample_stats[:, -3]"
   ]
  },
  {
   "cell_type": "code",
   "execution_count": 106,
   "metadata": {},
   "outputs": [],
   "source": [
    "(mean_energies_per_spike, \n",
    "std_energies_per_spike, \n",
    "train_energies_per_spike_norm,\n",
    "test_energies_per_spike_norm,\n",
    "mean_num_spikes,\n",
    "std_num_spikes,\n",
    "train_num_spikes_norm,\n",
    "test_num_spikes_norm) = prepare_data(all_energies_per_spike_ABPD, numSpikesPerBurst, num_test)"
   ]
  },
  {
   "cell_type": "code",
   "execution_count": 107,
   "metadata": {},
   "outputs": [
    {
     "data": {
      "image/png": "[encoded data removed]",
      "text/plain": [
       "<Figure size 200x100 with 1 Axes>"
      ]
     },
     "metadata": {},
     "output_type": "display_data"
    }
   ],
   "source": [
    "unnorm_x_vals, unnorm_y_regs, unnorm_x, unnorm_y = regression_plot(\n",
    "    mean_energies_per_spike, \n",
    "    std_energies_per_spike, \n",
    "    train_energies_per_spike_norm,\n",
    "    test_energies_per_spike_norm,\n",
    "    mean_num_spikes,\n",
    "    std_num_spikes,\n",
    "    train_num_spikes_norm,\n",
    "    test_num_spikes_norm\n",
    ")\n",
    "\n",
    "\n",
    "with mpl.rc_context(fname='../../.matplotlibrc'):\n",
    "    fig, ax = plt.subplots(1,1, figsize=(2,1.0))\n",
    "    ax.scatter(x=unnorm_x, y=unnorm_y, s=3, color='#2b8cbe')\n",
    "    ax.plot(unnorm_x_vals, unnorm_y_regs, '#e34a33')\n",
    "    ax.set_xlabel('Spikes / burst')\n",
    "    ax.set_ylabel('Energy / spike')\n",
    "    #plt.savefig(PANEL_A, facecolor='None', transparent=True)\n",
    "    plt.show()"
   ]
  },
  {
   "cell_type": "markdown",
   "metadata": {},
   "source": [
    "### Train classifier"
   ]
  },
  {
   "cell_type": "code",
   "execution_count": 108,
   "metadata": {},
   "outputs": [],
   "source": [
    "nn = classifier(dim=31)"
   ]
  },
  {
   "cell_type": "code",
   "execution_count": 109,
   "metadata": {},
   "outputs": [],
   "source": [
    "# converged_nn = fit_regression_net(\n",
    "#     nn, \n",
    "#     train_params_norm, \n",
    "#     train_energies_per_spike_norm, \n",
    "#     num_train=train_params_norm.shape[0],\n",
    "#     batch_size=50, \n",
    "#     stop_after_epochs=10, \n",
    "#     max_epochs=200\n",
    "# )"
   ]
  },
  {
   "cell_type": "code",
   "execution_count": 110,
   "metadata": {},
   "outputs": [],
   "source": [
    "#np.savez('../../results/regression_nets/200821_predict_energyPerSpike_ABPD.npz', converged_nn=converged_nn)"
   ]
  },
  {
   "cell_type": "code",
   "execution_count": 111,
   "metadata": {},
   "outputs": [],
   "source": [
    "data = np.load('../../results/regression_nets/200821_predict_energyPerSpike_ABPD.npz', allow_pickle=True)\n",
    "converged_nn = data['converged_nn'].tolist()"
   ]
  },
  {
   "cell_type": "code",
   "execution_count": 112,
   "metadata": {},
   "outputs": [],
   "source": [
    "predictions = converged_nn.predict(torch.as_tensor(test_params_norm)).detach().numpy()"
   ]
  },
  {
   "cell_type": "code",
   "execution_count": 113,
   "metadata": {},
   "outputs": [
    {
     "data": {
      "image/png": "[encoded data removed]",
      "text/plain": [
       "<Figure size 200x150 with 1 Axes>"
      ]
     },
     "metadata": {},
     "output_type": "display_data"
    }
   ],
   "source": [
    "with mpl.rc_context(fname='../../.matplotlibrc'):\n",
    "    fig, ax = plt.subplots(1,1, figsize=(2,1.5))\n",
    "    unnorm_x = test_energies_per_spike_norm[:300] * std_energies_per_spike + mean_energies_per_spike\n",
    "    unnorm_y = predictions[:300] * std_energies_per_spike + mean_energies_per_spike\n",
    "    ax.scatter(x=unnorm_x, y=unnorm_y, s=3, color='#2b8cbe')\n",
    "    gt_vec = np.linspace(np.min(unnorm_x), np.max(unnorm_x), 2)\n",
    "    ax.plot(gt_vec, gt_vec, '#ff7f00')\n",
    "    ax.set_xlabel('Energy / spike')\n",
    "    ax.set_ylabel('Neural net prediction')\n",
    "    plt.savefig(PANEL_supp1, facecolor='None', transparent=True)"
   ]
  },
  {
   "cell_type": "markdown",
   "metadata": {},
   "source": [
    "### Get gradient wrt input"
   ]
  },
  {
   "cell_type": "code",
   "execution_count": 114,
   "metadata": {},
   "outputs": [],
   "source": [
    "cum_grad = get_gradient(converged_nn, test_params_norm)"
   ]
  },
  {
   "cell_type": "markdown",
   "metadata": {},
   "source": [
    "# Panel B: Sensitivity energy/spike"
   ]
  },
  {
   "cell_type": "code",
   "execution_count": 115,
   "metadata": {},
   "outputs": [
    {
     "data": {
      "image/png": "[encoded data removed]",
      "text/plain": [
       "<Figure size 160x80 with 1 Axes>"
      ]
     },
     "metadata": {},
     "output_type": "display_data"
    }
   ],
   "source": [
    "with mpl.rc_context(fname='../../.matplotlibrc'):\n",
    "    viz.all_sensitivity_bars(cum_grad, ylim=[-1,1], figsize=(1.6, 0.8))\n",
    "    plt.savefig(PANEL_B1, facecolor='None', transparent=True)\n",
    "    plt.show()"
   ]
  },
  {
   "cell_type": "code",
   "execution_count": 116,
   "metadata": {},
   "outputs": [
    {
     "data": {
      "image/png": "[encoded data removed]",
      "text/plain": [
       "<Figure size 160x80 with 1 Axes>"
      ]
     },
     "metadata": {},
     "output_type": "display_data"
    }
   ],
   "source": [
    "with mpl.rc_context(fname='../../.matplotlibrc'):\n",
    "    viz.single_neuron_sensitivity_bar(cum_grad, ylim=[-1,1], figsize=(1.6, 0.8))\n",
    "    plt.savefig(PANEL_B2, facecolor='None', transparent=True)\n",
    "    plt.show()"
   ]
  },
  {
   "cell_type": "markdown",
   "metadata": {},
   "source": [
    "# Panel C: sensitivity number of spikes"
   ]
  },
  {
   "cell_type": "code",
   "execution_count": 117,
   "metadata": {},
   "outputs": [],
   "source": [
    "nn = classifier(dim=31)"
   ]
  },
  {
   "cell_type": "code",
   "execution_count": 118,
   "metadata": {},
   "outputs": [],
   "source": [
    "# converged_nn_num_spikes = fit_regression_net(\n",
    "#     nn,\n",
    "#     train_params_norm,\n",
    "#     train_num_spikes_norm,\n",
    "#     num_train=train_params_norm.shape[0],\n",
    "#     batch_size=50,\n",
    "#     stop_after_epochs=10,\n",
    "#     max_epochs=200\n",
    "# )"
   ]
  },
  {
   "cell_type": "code",
   "execution_count": 119,
   "metadata": {},
   "outputs": [],
   "source": [
    "# np.savez('../../results/regression_nets/200821_predict_numSpikes_ABPD.npz', converged_nn=converged_nn_num_spikes)"
   ]
  },
  {
   "cell_type": "code",
   "execution_count": 120,
   "metadata": {},
   "outputs": [],
   "source": [
    "data = np.load('../../results/regression_nets/200821_predict_numSpikes_ABPD.npz', allow_pickle=True)\n",
    "converged_nn_num_spikes = data['converged_nn'].tolist()"
   ]
  },
  {
   "cell_type": "code",
   "execution_count": 121,
   "metadata": {},
   "outputs": [],
   "source": [
    "predictions = converged_nn_num_spikes.predict(torch.as_tensor(test_params_norm)).detach().numpy()"
   ]
  },
  {
   "cell_type": "code",
   "execution_count": 122,
   "metadata": {},
   "outputs": [
    {
     "data": {
      "image/png": "[encoded data removed]",
      "text/plain": [
       "<Figure size 200x150 with 1 Axes>"
      ]
     },
     "metadata": {},
     "output_type": "display_data"
    }
   ],
   "source": [
    "with mpl.rc_context(fname='../../.matplotlibrc'):\n",
    "    fig, ax = plt.subplots(1,1, figsize=(2,1.5))\n",
    "    unnorm_x = test_num_spikes_norm[:300] * std_num_spikes + mean_num_spikes\n",
    "    unnorm_y = predictions[:300] * std_num_spikes + mean_num_spikes\n",
    "    ax.scatter(x=unnorm_x, y=unnorm_y, s=3, color='#2b8cbe')\n",
    "    gt_vec = np.linspace(np.min(unnorm_x), np.max(unnorm_x), 2)\n",
    "    ax.plot(gt_vec, gt_vec, '#ff7f00')\n",
    "    ax.set_xlabel('Spikes per burst')\n",
    "    ax.set_ylabel('Neural net prediction')\n",
    "    plt.savefig(PANEL_supp2, facecolor='None', transparent=True)"
   ]
  },
  {
   "cell_type": "markdown",
   "metadata": {},
   "source": [
    "### Get gradient wrt output"
   ]
  },
  {
   "cell_type": "code",
   "execution_count": 123,
   "metadata": {},
   "outputs": [],
   "source": [
    "cum_grad = get_gradient(converged_nn_num_spikes, test_params_norm)"
   ]
  },
  {
   "cell_type": "code",
   "execution_count": 124,
   "metadata": {},
   "outputs": [
    {
     "data": {
      "image/png": "[encoded data removed]",
      "text/plain": [
       "<Figure size 160x80 with 1 Axes>"
      ]
     },
     "metadata": {},
     "output_type": "display_data"
    }
   ],
   "source": [
    "with mpl.rc_context(fname='../../.matplotlibrc'):\n",
    "    viz.all_sensitivity_bars(cum_grad, ylim=[-1.5, 1.5], figsize=(1.6, 0.8))\n",
    "    plt.savefig(PANEL_C1, facecolor='None', transparent=True)\n",
    "    plt.show()"
   ]
  },
  {
   "cell_type": "code",
   "execution_count": 125,
   "metadata": {},
   "outputs": [
    {
     "data": {
      "image/png": "[encoded data removed]",
      "text/plain": [
       "<Figure size 160x80 with 1 Axes>"
      ]
     },
     "metadata": {},
     "output_type": "display_data"
    }
   ],
   "source": [
    "with mpl.rc_context(fname='../../.matplotlibrc'):\n",
    "    viz.single_neuron_sensitivity_bar(cum_grad, ylim=[-1.5,1.5], figsize=(1.6, 0.8))\n",
    "    plt.savefig(PANEL_C2, facecolor='None', transparent=True)\n",
    "    plt.show()"
   ]
  },
  {
   "cell_type": "markdown",
   "metadata": {},
   "source": [
    "# Panel D: num spikes and energy per spike independent"
   ]
  },
  {
   "cell_type": "code",
   "execution_count": 126,
   "metadata": {},
   "outputs": [],
   "source": [
    "quantile_energy    = 0.05\n",
    "quantile_numSpikes = 0.05"
   ]
  },
  {
   "cell_type": "code",
   "execution_count": 36,
   "metadata": {},
   "outputs": [],
   "source": [
    "data = np.load('../../results/11deg_post_pred/11_deg_post_pred_close_to_obs.npz')\n",
    "sample_stats = data['sample_stats']\n",
    "sample_params = data['sample_params']\n",
    "sample_seeds = data['sample_seeds']"
   ]
  },
  {
   "cell_type": "code",
   "execution_count": 37,
   "metadata": {},
   "outputs": [],
   "source": [
    "all_energies_per_spike = sample_stats[:, 18:21]\n",
    "all_total_energies     = sample_stats[:, 21:24]\n",
    "summed_energies_per_spike = np.sum(np.asarray(all_energies_per_spike), axis=1)\n",
    "summed_energies_total     = np.sum(np.asarray(all_total_energies), axis=1)"
   ]
  },
  {
   "cell_type": "code",
   "execution_count": 38,
   "metadata": {},
   "outputs": [],
   "source": [
    "energies_per_spike_PY = all_energies_per_spike[:,-1]\n",
    "all_numbers_of_spikes_per_burst = sample_stats[:, -6:-3] / sample_stats[:, -3:]\n",
    "number_of_spikes_per_burst_PY = all_numbers_of_spikes_per_burst[:, -1]"
   ]
  },
  {
   "cell_type": "code",
   "execution_count": 39,
   "metadata": {},
   "outputs": [],
   "source": [
    "inds_energy_per_spike = np.argsort(energies_per_spike_PY)\n",
    "inds_num_spikes = np.argsort(number_of_spikes_per_burst_PY)"
   ]
  },
  {
   "cell_type": "code",
   "execution_count": 40,
   "metadata": {},
   "outputs": [],
   "source": [
    "index_energy_per_spike = inds_energy_per_spike[int(len(inds_energy_per_spike)*quantile_energy)]\n",
    "index_num_spikes = inds_num_spikes[int(len(inds_num_spikes)*quantile_numSpikes)]"
   ]
  },
  {
   "cell_type": "code",
   "execution_count": 41,
   "metadata": {},
   "outputs": [],
   "source": [
    "energy_per_spike_threshold = energies_per_spike_PY[index_energy_per_spike]\n",
    "num_spikes_threshold = number_of_spikes_per_burst_PY[index_num_spikes]"
   ]
  },
  {
   "cell_type": "code",
   "execution_count": 42,
   "metadata": {},
   "outputs": [],
   "source": [
    "param_sets_with_low_energy = sample_params[energies_per_spike_PY < energy_per_spike_threshold]\n",
    "param_sets_with_low_num_spikes = sample_params[number_of_spikes_per_burst_PY < num_spikes_threshold]"
   ]
  },
  {
   "cell_type": "code",
   "execution_count": 43,
   "metadata": {},
   "outputs": [
    {
     "name": "stdout",
     "output_type": "stream",
     "text": [
      "(2752, 31)\n",
      "(2686, 31)\n"
     ]
    }
   ],
   "source": [
    "print(param_sets_with_low_energy.shape)\n",
    "print(param_sets_with_low_num_spikes.shape)"
   ]
  },
  {
   "cell_type": "code",
   "execution_count": 44,
   "metadata": {},
   "outputs": [],
   "source": [
    "number_of_spikes_per_burst_PY_low_energy = number_of_spikes_per_burst_PY[energies_per_spike_PY < energy_per_spike_threshold]\n",
    "params_both_low = param_sets_with_low_energy[number_of_spikes_per_burst_PY_low_energy < num_spikes_threshold]"
   ]
  },
  {
   "cell_type": "code",
   "execution_count": 45,
   "metadata": {},
   "outputs": [
    {
     "name": "stdout",
     "output_type": "stream",
     "text": [
      "(91, 31)\n"
     ]
    }
   ],
   "source": [
    "print(params_both_low.shape)"
   ]
  },
  {
   "cell_type": "code",
   "execution_count": 46,
   "metadata": {},
   "outputs": [],
   "source": [
    "all_out_targets = []\n",
    "cols = [col['CONSISTENT1'], col['CONSISTENT1']]\n",
    "\n",
    "params1 = params_both_low[0]\n",
    "\n",
    "target_params = params1# * params_std_11 + params_mean_11\n",
    "out_target = pyloric_sim_11[0].gen_single(deepcopy(target_params), seed_sim=True, to_seed=0)\n",
    "\n",
    "all_out_targets.append(out_target)"
   ]
  },
  {
   "cell_type": "code",
   "execution_count": 47,
   "metadata": {},
   "outputs": [
    {
     "ename": "KeyError",
     "evalue": "'all_energies'",
     "output_type": "error",
     "traceback": [
      "\u001b[0;31m---------------------------------------------------------------------------\u001b[0m",
      "\u001b[0;31mKeyError\u001b[0m                                  Traceback (most recent call last)",
      "\u001b[0;32m<ipython-input-47-48fb80edebae>\u001b[0m in \u001b[0;36m<module>\u001b[0;34m\u001b[0m\n\u001b[1;32m      1\u001b[0m \u001b[0;32mwith\u001b[0m \u001b[0mmpl\u001b[0m\u001b[0;34m.\u001b[0m\u001b[0mrc_context\u001b[0m\u001b[0;34m(\u001b[0m\u001b[0mfname\u001b[0m\u001b[0;34m=\u001b[0m\u001b[0;34m'../../.matplotlibrc'\u001b[0m\u001b[0;34m)\u001b[0m\u001b[0;34m:\u001b[0m\u001b[0;34m\u001b[0m\u001b[0;34m\u001b[0m\u001b[0m\n\u001b[0;32m----> 2\u001b[0;31m     \u001b[0mviz\u001b[0m\u001b[0;34m.\u001b[0m\u001b[0mplot_energy_scape\u001b[0m\u001b[0;34m(\u001b[0m\u001b[0mout_target\u001b[0m\u001b[0;34m,\u001b[0m \u001b[0;36m2\u001b[0m\u001b[0;34m,\u001b[0m \u001b[0mpyloric_sim_11\u001b[0m\u001b[0;34m[\u001b[0m\u001b[0;36m0\u001b[0m\u001b[0;34m]\u001b[0m\u001b[0;34m.\u001b[0m\u001b[0mt\u001b[0m\u001b[0;34m,\u001b[0m \u001b[0;36m109000\u001b[0m\u001b[0;34m,\u001b[0m \u001b[0;36m129000\u001b[0m\u001b[0;34m,\u001b[0m \u001b[0mfigsize\u001b[0m\u001b[0;34m=\u001b[0m\u001b[0;34m(\u001b[0m\u001b[0;36m2.5\u001b[0m\u001b[0;34m,\u001b[0m \u001b[0;36m1.5\u001b[0m\u001b[0;34m)\u001b[0m\u001b[0;34m,\u001b[0m \u001b[0mxlabel\u001b[0m\u001b[0;34m=\u001b[0m\u001b[0;32mFalse\u001b[0m\u001b[0;34m,\u001b[0m \u001b[0mylabel\u001b[0m\u001b[0;34m=\u001b[0m\u001b[0;32mTrue\u001b[0m\u001b[0;34m)\u001b[0m\u001b[0;34m\u001b[0m\u001b[0;34m\u001b[0m\u001b[0m\n\u001b[0m\u001b[1;32m      3\u001b[0m     \u001b[0mplt\u001b[0m\u001b[0;34m.\u001b[0m\u001b[0msavefig\u001b[0m\u001b[0;34m(\u001b[0m\u001b[0mPANEL_D1\u001b[0m\u001b[0;34m,\u001b[0m \u001b[0mfacecolor\u001b[0m\u001b[0;34m=\u001b[0m\u001b[0;34m'None'\u001b[0m\u001b[0;34m,\u001b[0m \u001b[0mtransparent\u001b[0m\u001b[0;34m=\u001b[0m\u001b[0;32mTrue\u001b[0m\u001b[0;34m)\u001b[0m\u001b[0;34m\u001b[0m\u001b[0;34m\u001b[0m\u001b[0m\n\u001b[1;32m      4\u001b[0m     \u001b[0mplt\u001b[0m\u001b[0;34m.\u001b[0m\u001b[0mshow\u001b[0m\u001b[0;34m(\u001b[0m\u001b[0;34m)\u001b[0m\u001b[0;34m\u001b[0m\u001b[0;34m\u001b[0m\u001b[0m\n",
      "\u001b[0;32m~/Documents/Studium_TUM/MasterThesis/prinzetal/energy_paper/fig4_sensitivity/model/viz.py\u001b[0m in \u001b[0;36mplot_energy_scape\u001b[0;34m(out_target, neuron_to_plot, t, t_min, t_max, figsize, xlabel, ylabel)\u001b[0m\n\u001b[1;32m     60\u001b[0m \u001b[0;34m\u001b[0m\u001b[0m\n\u001b[1;32m     61\u001b[0m     \u001b[0;31m# build energyscape\u001b[0m\u001b[0;34m\u001b[0m\u001b[0;34m\u001b[0m\u001b[0;34m\u001b[0m\u001b[0m\n\u001b[0;32m---> 62\u001b[0;31m     \u001b[0mall_energies\u001b[0m \u001b[0;34m=\u001b[0m \u001b[0mout_target\u001b[0m\u001b[0;34m[\u001b[0m\u001b[0;34m'all_energies'\u001b[0m\u001b[0;34m]\u001b[0m\u001b[0;34m\u001b[0m\u001b[0;34m\u001b[0m\u001b[0m\n\u001b[0m\u001b[1;32m     63\u001b[0m     \u001b[0mall_currents_PD\u001b[0m \u001b[0;34m=\u001b[0m \u001b[0mall_energies\u001b[0m\u001b[0;34m[\u001b[0m\u001b[0;34m:\u001b[0m\u001b[0;34m,\u001b[0m \u001b[0mneuron_to_plot\u001b[0m\u001b[0;34m,\u001b[0m \u001b[0;34m:\u001b[0m\u001b[0;34m]\u001b[0m\u001b[0;34m\u001b[0m\u001b[0;34m\u001b[0m\u001b[0m\n\u001b[1;32m     64\u001b[0m     \u001b[0mt\u001b[0m \u001b[0;34m=\u001b[0m \u001b[0mt\u001b[0m\u001b[0;34m[\u001b[0m\u001b[0;36m0\u001b[0m\u001b[0;34m:\u001b[0m\u001b[0mt_max\u001b[0m \u001b[0;34m-\u001b[0m \u001b[0mt_min\u001b[0m\u001b[0;34m]\u001b[0m\u001b[0;34m\u001b[0m\u001b[0;34m\u001b[0m\u001b[0m\n",
      "\u001b[0;31mKeyError\u001b[0m: 'all_energies'"
     ]
    }
   ],
   "source": [
    "with mpl.rc_context(fname='../../.matplotlibrc'):\n",
    "    viz.plot_energy_scape(out_target, 2, pyloric_sim_11[0].t, 109000, 129000, figsize=(2.5, 1.5), xlabel=False, ylabel=True)\n",
    "    plt.savefig(PANEL_D1, facecolor='None', transparent=True)\n",
    "    plt.show()"
   ]
  },
  {
   "cell_type": "code",
   "execution_count": 39,
   "metadata": {},
   "outputs": [],
   "source": [
    "quantile_energy    = 1-0.05\n",
    "quantile_numSpikes = 0.05"
   ]
  },
  {
   "cell_type": "code",
   "execution_count": 40,
   "metadata": {},
   "outputs": [
    {
     "name": "stdout",
     "output_type": "stream",
     "text": [
      "(2752, 31)\n",
      "(2686, 31)\n"
     ]
    }
   ],
   "source": [
    "index_energy_per_spike = inds_energy_per_spike[int(len(inds_energy_per_spike)*quantile_energy)]\n",
    "index_num_spikes = inds_num_spikes[int(len(inds_num_spikes)*quantile_numSpikes)]\n",
    "\n",
    "energy_per_spike_threshold = energies_per_spike_PY[index_energy_per_spike]\n",
    "num_spikes_threshold = number_of_spikes_per_burst_PY[index_num_spikes]\n",
    "\n",
    "param_sets_with_low_energy = sample_params[energies_per_spike_PY > energy_per_spike_threshold]\n",
    "param_sets_with_low_num_spikes = sample_params[number_of_spikes_per_burst_PY < num_spikes_threshold]\n",
    "\n",
    "print(param_sets_with_low_energy.shape)\n",
    "print(param_sets_with_low_num_spikes.shape)"
   ]
  },
  {
   "cell_type": "code",
   "execution_count": 41,
   "metadata": {},
   "outputs": [
    {
     "name": "stdout",
     "output_type": "stream",
     "text": [
      "(3, 31)\n"
     ]
    }
   ],
   "source": [
    "number_of_spikes_per_burst_PY_low_energy = number_of_spikes_per_burst_PY[energies_per_spike_PY > energy_per_spike_threshold]\n",
    "params_both_low = param_sets_with_low_energy[number_of_spikes_per_burst_PY_low_energy < num_spikes_threshold]\n",
    "\n",
    "print(params_both_low.shape)"
   ]
  },
  {
   "cell_type": "code",
   "execution_count": 42,
   "metadata": {},
   "outputs": [],
   "source": [
    "all_out_targets = []\n",
    "cols = [col['CONSISTENT1'], col['CONSISTENT1']]\n",
    "\n",
    "params1 = params_both_low[0]\n",
    "\n",
    "target_params = params1# * params_std_11 + params_mean_11\n",
    "out_target = pyloric_sim_11[0].gen_single(deepcopy(target_params), seed_sim=True, to_seed=0)\n",
    "\n",
    "all_out_targets.append(out_target)"
   ]
  },
  {
   "cell_type": "code",
   "execution_count": 43,
   "metadata": {},
   "outputs": [
    {
     "data": {
      "image/png": "[encoded data removed]",
      "text/plain": [
       "<Figure size 250x150 with 2 Axes>"
      ]
     },
     "metadata": {},
     "output_type": "display_data"
    }
   ],
   "source": [
    "with mpl.rc_context(fname='../../.matplotlibrc'):\n",
    "    viz.plot_energy_scape(out_target, 2, pyloric_sim_11[0].t, 108000, 128000, figsize=(2.5, 1.5), xlabel=True, ylabel=True)\n",
    "    plt.savefig(PANEL_D2, facecolor='None', transparent=True)\n",
    "    plt.show()"
   ]
  },
  {
   "cell_type": "code",
   "execution_count": 44,
   "metadata": {},
   "outputs": [],
   "source": [
    "quantile_energy    = 0.05\n",
    "quantile_numSpikes = 1-0.05"
   ]
  },
  {
   "cell_type": "code",
   "execution_count": 45,
   "metadata": {},
   "outputs": [
    {
     "name": "stdout",
     "output_type": "stream",
     "text": [
      "(2752, 31)\n",
      "(2659, 31)\n"
     ]
    }
   ],
   "source": [
    "index_energy_per_spike = inds_energy_per_spike[int(len(inds_energy_per_spike)*quantile_energy)]\n",
    "index_num_spikes = inds_num_spikes[int(len(inds_num_spikes)*quantile_numSpikes)]\n",
    "\n",
    "energy_per_spike_threshold = energies_per_spike_PY[index_energy_per_spike]\n",
    "num_spikes_threshold = number_of_spikes_per_burst_PY[index_num_spikes]\n",
    "\n",
    "param_sets_with_low_energy = sample_params[energies_per_spike_PY < energy_per_spike_threshold]\n",
    "param_sets_with_low_num_spikes = sample_params[number_of_spikes_per_burst_PY > num_spikes_threshold]\n",
    "\n",
    "print(param_sets_with_low_energy.shape)\n",
    "print(param_sets_with_low_num_spikes.shape)"
   ]
  },
  {
   "cell_type": "code",
   "execution_count": 46,
   "metadata": {},
   "outputs": [
    {
     "name": "stdout",
     "output_type": "stream",
     "text": [
      "(188, 31)\n"
     ]
    }
   ],
   "source": [
    "number_of_spikes_per_burst_PY_low_energy = number_of_spikes_per_burst_PY[energies_per_spike_PY < energy_per_spike_threshold]\n",
    "params_both_low = param_sets_with_low_energy[number_of_spikes_per_burst_PY_low_energy > num_spikes_threshold]\n",
    "\n",
    "print(params_both_low.shape)"
   ]
  },
  {
   "cell_type": "code",
   "execution_count": 47,
   "metadata": {},
   "outputs": [],
   "source": [
    "all_out_targets = []\n",
    "cols = [col['CONSISTENT1'], col['CONSISTENT1']]\n",
    "\n",
    "params1 = params_both_low[0]\n",
    "\n",
    "target_params = params1# * params_std_11 + params_mean_11\n",
    "out_target = pyloric_sim_11[0].gen_single(deepcopy(target_params), seed_sim=True, to_seed=0)\n",
    "\n",
    "all_out_targets.append(out_target)"
   ]
  },
  {
   "cell_type": "code",
   "execution_count": 48,
   "metadata": {},
   "outputs": [
    {
     "data": {
      "image/png": "[encoded data removed]",
      "text/plain": [
       "<Figure size 250x150 with 2 Axes>"
      ]
     },
     "metadata": {},
     "output_type": "display_data"
    }
   ],
   "source": [
    "with mpl.rc_context(fname='../../.matplotlibrc'):\n",
    "    viz.plot_energy_scape(out_target, 2, pyloric_sim_11[0].t, 114000, 134000, figsize=(2.5, 1.5), xlabel=False, ylabel=False)\n",
    "    plt.savefig(PANEL_D3, facecolor='None', transparent=True)\n",
    "    plt.show()"
   ]
  },
  {
   "cell_type": "code",
   "execution_count": 49,
   "metadata": {},
   "outputs": [],
   "source": [
    "quantile_energy    = 1-0.05\n",
    "quantile_numSpikes = 1-0.05"
   ]
  },
  {
   "cell_type": "code",
   "execution_count": 50,
   "metadata": {},
   "outputs": [
    {
     "name": "stdout",
     "output_type": "stream",
     "text": [
      "(2752, 31)\n",
      "(2659, 31)\n"
     ]
    }
   ],
   "source": [
    "index_energy_per_spike = inds_energy_per_spike[int(len(inds_energy_per_spike)*quantile_energy)]\n",
    "index_num_spikes = inds_num_spikes[int(len(inds_num_spikes)*quantile_numSpikes)]\n",
    "\n",
    "energy_per_spike_threshold = energies_per_spike_PY[index_energy_per_spike]\n",
    "num_spikes_threshold = number_of_spikes_per_burst_PY[index_num_spikes]\n",
    "\n",
    "param_sets_with_low_energy = sample_params[energies_per_spike_PY > energy_per_spike_threshold]\n",
    "param_sets_with_low_num_spikes = sample_params[number_of_spikes_per_burst_PY > num_spikes_threshold]\n",
    "\n",
    "print(param_sets_with_low_energy.shape)\n",
    "print(param_sets_with_low_num_spikes.shape)"
   ]
  },
  {
   "cell_type": "code",
   "execution_count": 51,
   "metadata": {},
   "outputs": [
    {
     "name": "stdout",
     "output_type": "stream",
     "text": [
      "(17, 31)\n"
     ]
    }
   ],
   "source": [
    "number_of_spikes_per_burst_PY_low_energy = number_of_spikes_per_burst_PY[energies_per_spike_PY > energy_per_spike_threshold]\n",
    "params_both_low = param_sets_with_low_energy[number_of_spikes_per_burst_PY_low_energy > num_spikes_threshold]\n",
    "\n",
    "print(params_both_low.shape)"
   ]
  },
  {
   "cell_type": "code",
   "execution_count": 52,
   "metadata": {},
   "outputs": [],
   "source": [
    "all_out_targets = []\n",
    "cols = [col['CONSISTENT1'], col['CONSISTENT1']]\n",
    "\n",
    "params1 = params_both_low[0]\n",
    "\n",
    "target_params = params1# * params_std_11 + params_mean_11\n",
    "out_target = pyloric_sim_11[0].gen_single(deepcopy(target_params), seed_sim=True, to_seed=0)\n",
    "\n",
    "all_out_targets.append(out_target)"
   ]
  },
  {
   "cell_type": "code",
   "execution_count": 53,
   "metadata": {},
   "outputs": [
    {
     "data": {
      "image/png": "[encoded data removed]",
      "text/plain": [
       "<Figure size 250x150 with 2 Axes>"
      ]
     },
     "metadata": {},
     "output_type": "display_data"
    }
   ],
   "source": [
    "with mpl.rc_context(fname='../../.matplotlibrc'):\n",
    "    viz.plot_energy_scape(out_target, 2, pyloric_sim_11[0].t, 100000, 120000, figsize=(2.5, 1.5), xlabel=True, ylabel=False)\n",
    "    plt.savefig(PANEL_D4, facecolor='None', transparent=True)\n",
    "    plt.show()"
   ]
  },
  {
   "cell_type": "markdown",
   "metadata": {},
   "source": [
    "# Assembe figure"
   ]
  },
  {
   "cell_type": "code",
   "execution_count": 127,
   "metadata": {},
   "outputs": [],
   "source": [
    "import time\n",
    "import IPython.display as IPd\n",
    "\n",
    "def svg(img):\n",
    "    IPd.display(IPd.HTML('<img src=\"{}\" / >'.format(img, time.time())))"
   ]
  },
  {
   "cell_type": "code",
   "execution_count": 128,
   "metadata": {},
   "outputs": [
    {
     "data": {
      "text/html": [
       "<img src=\"../fig/fig4.svg\" / >"
      ],
      "text/plain": [
       "<IPython.core.display.HTML object>"
      ]
     },
     "metadata": {},
     "output_type": "display_data"
    }
   ],
   "source": [
    "from svgutils.compose import *\n",
    "\n",
    "# > Inkscape pixel is 1/90 of an inch, other software usually uses 1/72.\n",
    "# > http://www.inkscapeforum.com/viewtopic.php?f=6&t=5964\n",
    "svg_scale = 1.25  # set this to 1.25 for Inkscape, 1.0 otherwise\n",
    "factor_svg=5.5\n",
    "\n",
    "# Panel letters in Helvetica Neue, 12pt, Medium\n",
    "kwargs_text = {'size': '12pt', 'font': 'Arial', 'weight': '800'}\n",
    "kwargs_consistent = {'size': '10pt', 'font': 'Arial', 'weight': '500', 'color': '#AF99EF'}\n",
    "kwargs_consistent1 = {'size': '10pt', 'font': 'Arial', 'weight': '500', 'color': '#9E7DD5'}\n",
    "kwargs_inconsistent = {'size': '10pt', 'font': 'Arial', 'weight': '500', 'color': '#AF99EF'}\n",
    "kwargs_text8pt = {'size': '7.7pt', 'font': 'Arial'}\n",
    "\n",
    "f = Figure(\"20.3cm\", \"7.9cm\",\n",
    "\n",
    "    Panel(\n",
    "         SVG(PANEL_A).scale(svg_scale).move(0, 0*factor_svg),\n",
    "         Text(\"a\", -2.0*factor_svg, 2.5*factor_svg, **kwargs_text),\n",
    "    ).move(2*factor_svg, 0.0*factor_svg),\n",
    "    \n",
    "    Panel(\n",
    "        SVG(PANEL_B1).scale(svg_scale).move(0*factor_svg, 0*factor_svg),\n",
    "        Text(\"b\", 0.0*factor_svg, 1.5*factor_svg, **kwargs_text),\n",
    "    ).move(0*factor_svg, 22.0*factor_svg),\n",
    "           \n",
    "    Panel(\n",
    "        SVG(PANEL_B2).scale(svg_scale).move(0*factor_svg, 0*factor_svg),\n",
    "    ).move(28*factor_svg, 22.0*factor_svg),\n",
    "    \n",
    "    Panel(\n",
    "          SVG(PANEL_C1).scale(svg_scale).move(0*factor_svg,0*factor_svg),\n",
    "          Text(\"c\", 0.0*factor_svg, 1.5*factor_svg, **kwargs_text),\n",
    "    ).move(0*factor_svg, 39*factor_svg),\n",
    "    \n",
    "    Panel(\n",
    "          SVG(PANEL_C2).scale(svg_scale).move(0*factor_svg,0*factor_svg),\n",
    "    ).move(28*factor_svg, 39*factor_svg),\n",
    "    \n",
    "    Panel(\n",
    "          SVG(PANEL_D1).scale(svg_scale).move(0*factor_svg, 0*factor_svg),\n",
    "          Text(\"d\", 0*factor_svg, 1.5*factor_svg, **kwargs_text),\n",
    "    ).move(58*factor_svg, 1.0*factor_svg),\n",
    "    \n",
    "    Panel(\n",
    "          SVG(PANEL_D2).scale(svg_scale).move(0*factor_svg, 0*factor_svg),\n",
    "    ).move(58*factor_svg, 27.0*factor_svg),\n",
    "    \n",
    "    Panel(\n",
    "          SVG(PANEL_D3).scale(svg_scale).move(0*factor_svg, 0*factor_svg),\n",
    "    ).move(98*factor_svg, 1.7*factor_svg),\n",
    "    \n",
    "    Panel(\n",
    "          SVG(PANEL_D4).scale(svg_scale).move(0*factor_svg, 0*factor_svg),\n",
    "    ).move(98*factor_svg, 27.7*factor_svg),\n",
    ")\n",
    "\n",
    "!mkdir -p fig\n",
    "f.save(\"../fig/fig4.svg\")\n",
    "svg('../fig/fig4.svg')"
   ]
  },
  {
   "cell_type": "markdown",
   "metadata": {},
   "source": [
    "### Assemble supplementary"
   ]
  },
  {
   "cell_type": "code",
   "execution_count": 129,
   "metadata": {},
   "outputs": [
    {
     "data": {
      "text/html": [
       "<img src=\"../fig/fig4_supp_convergence.svg\" / >"
      ],
      "text/plain": [
       "<IPython.core.display.HTML object>"
      ]
     },
     "metadata": {},
     "output_type": "display_data"
    }
   ],
   "source": [
    "f = Figure(\"20.3cm\", \"3.9cm\",\n",
    "\n",
    "    Panel(\n",
    "         SVG(PANEL_supp1).scale(svg_scale).move(0, 0*factor_svg),\n",
    "         Text(\"a\", -2.0*factor_svg, 2.5*factor_svg, **kwargs_text),\n",
    "    ).move(2*factor_svg, 0.0*factor_svg),\n",
    "    \n",
    "    Panel(\n",
    "        SVG(PANEL_supp2).scale(svg_scale).move(0*factor_svg, 0*factor_svg),\n",
    "        Text(\"b\", -2.0*factor_svg, 2.5*factor_svg, **kwargs_text),\n",
    "    ).move(50*factor_svg, 0.0*factor_svg),\n",
    "    \n",
    ")\n",
    "\n",
    "!mkdir -p fig\n",
    "f.save(\"../fig/fig4_supp_convergence.svg\")\n",
    "svg('../fig/fig4_supp_convergence.svg')"
   ]
  },
  {
   "cell_type": "code",
   "execution_count": null,
   "metadata": {},
   "outputs": [],
   "source": []
  },
  {
   "cell_type": "code",
   "execution_count": null,
   "metadata": {},
   "outputs": [],
   "source": []
  },
  {
   "cell_type": "code",
   "execution_count": null,
   "metadata": {},
   "outputs": [],
   "source": []
  },
  {
   "cell_type": "code",
   "execution_count": null,
   "metadata": {},
   "outputs": [],
   "source": []
  },
  {
   "cell_type": "code",
   "execution_count": null,
   "metadata": {},
   "outputs": [],
   "source": []
  },
  {
   "cell_type": "code",
   "execution_count": null,
   "metadata": {},
   "outputs": [],
   "source": []
  },
  {
   "cell_type": "code",
   "execution_count": null,
   "metadata": {},
   "outputs": [],
   "source": []
  },
  {
   "cell_type": "code",
   "execution_count": null,
   "metadata": {},
   "outputs": [],
   "source": []
  }
 ],
 "metadata": {
  "kernelspec": {
   "display_name": "sbi_prinz",
   "language": "python",
   "name": "sbi_prinz"
  },
  "language_info": {
   "codemirror_mode": {
    "name": "ipython",
    "version": 3
   },
   "file_extension": ".py",
   "mimetype": "text/x-python",
   "name": "python",
   "nbconvert_exporter": "python",
   "pygments_lexer": "ipython3",
   "version": "3.8.2"
  }
 },
 "nbformat": 4,
 "nbformat_minor": 4
}
