{
 "cells": [
  {
   "cell_type": "code",
   "execution_count": 56,
   "metadata": {},
   "outputs": [],
   "source": [
    "import numpy as np\n",
    "import matplotlib.pyplot as plt\n",
    "from  mpl_toolkits.axisartist.grid_helper_curvelinear import GridHelperCurveLinear\n",
    "from mpl_toolkits.axisartist import Subplot"
   ]
  },
  {
   "cell_type": "code",
   "execution_count": 57,
   "metadata": {},
   "outputs": [],
   "source": [
    "import time\n",
    "\n",
    "import IPython.display as IPd\n",
    "import matplotlib as mpl\n",
    "import matplotlib.pylab as plt\n",
    "import numpy as np\n",
    "import torch\n",
    "\n",
    "import stg_energy.fig4_sensitivity.viz as viz\n",
    "from pyloric import get_time, simulate_energyscape, stats\n",
    "from sbi.utils.regression_net.get_nn_classifier import classifier\n",
    "from sbi.utils.regression_net.train_classifier import fit_regression_net\n",
    "from stg_energy.common import svg\n",
    "from stg_energy.fig3_amortize_energy.helper_functions import active_subspace\n",
    "from stg_energy.fig3_amortize_energy.viz import (\n",
    "    energy_scape,\n",
    "    plot_eigenvalues,\n",
    "    py_sensitivity_bars,\n",
    ")\n",
    "from stg_energy.fig4_sensitivity.helper_functions import (\n",
    "    nth_argmax,\n",
    "    nth_argmin,\n",
    "    prepare_data,\n",
    "    regression_plot,\n",
    ")"
   ]
  },
  {
   "cell_type": "markdown",
   "metadata": {},
   "source": [
    "# Figure 4"
   ]
  },
  {
   "cell_type": "code",
   "execution_count": 58,
   "metadata": {},
   "outputs": [
    {
     "name": "stdout",
     "output_type": "stream",
     "text": [
      "The autoreload extension is already loaded. To reload it, use:\n",
      "  %reload_ext autoreload\n"
     ]
    }
   ],
   "source": [
    "%load_ext autoreload\n",
    "%autoreload 2"
   ]
  },
  {
   "cell_type": "code",
   "execution_count": 59,
   "metadata": {},
   "outputs": [],
   "source": [
    "PANEL_supp1 = \"../svg/panel_supp1.svg\"\n",
    "PANEL_supp2 = \"../svg/panel_supp2.svg\"\n",
    "\n",
    "PANEL_A0_NEW = \"../svg/panel_a0_new.svg\"\n",
    "PANEL_A1_NEW = \"../svg/panel_a1_new.svg\"\n",
    "PANEL_A2_NEW = \"../svg/panel_a2_new.svg\"\n",
    "PANEL_B0_NEW = \"../svg/panel_b0_new.svg\"\n",
    "PANEL_B1_NEW = \"../svg/panel_b1_new.svg\"\n",
    "PANEL_B2_NEW = \"../svg/panel_b2_new.svg\"\n",
    "PANEL_C_NEW = \"../svg/panel_c_new.svg\"\n",
    "PANEL_C_angle = \"../svg/panel_c_angle_illustration.svg\"\n",
    "PANEL_D1_NEW = \"../svg/panel_d1_new.svg\"\n",
    "PANEL_D2_NEW = \"../svg/panel_d2_new.svg\"\n",
    "PANEL_D3_NEW = \"../svg/panel_d3_new.svg\"\n",
    "PANEL_D4_NEW = \"../svg/panel_d4_new.svg\"\n",
    "PANEL_D5_NEW = \"../svg/panel_d5_new.svg\"\n",
    "PANEL_D6_NEW = \"../svg/panel_d6_new.svg\""
   ]
  },
  {
   "cell_type": "markdown",
   "metadata": {},
   "source": [
    "### Sort out the data from the cluster"
   ]
  },
  {
   "cell_type": "code",
   "execution_count": 60,
   "metadata": {},
   "outputs": [
    {
     "name": "stdout",
     "output_type": "stream",
     "text": [
      "There are 55043 datapoints in this dataset\n"
     ]
    }
   ],
   "source": [
    "outfile = \"../../results/11deg_post_pred/11_deg_post_pred_close_to_obs.npz\"\n",
    "data_n = np.load(outfile)\n",
    "sample_seeds = data_n[\"sample_seeds\"]\n",
    "sample_params = data_n[\"sample_params\"]\n",
    "sample_stats = data_n[\"sample_stats\"]\n",
    "print(\"There are\", len(sample_seeds), \"datapoints in this dataset\")"
   ]
  },
  {
   "cell_type": "markdown",
   "metadata": {},
   "source": [
    "# Train regression net"
   ]
  },
  {
   "cell_type": "markdown",
   "metadata": {},
   "source": [
    "### Prepare parameters"
   ]
  },
  {
   "cell_type": "code",
   "execution_count": 61,
   "metadata": {},
   "outputs": [],
   "source": [
    "num_test = 500\n",
    "\n",
    "test_params = sample_params[:num_test]\n",
    "train_params = sample_params[num_test:]\n",
    "mean_params = np.mean(train_params, axis=0)\n",
    "std_params = np.std(train_params, axis=0)\n",
    "\n",
    "train_params_norm = (train_params - mean_params) / std_params\n",
    "test_params_norm = (test_params - mean_params) / std_params"
   ]
  },
  {
   "cell_type": "markdown",
   "metadata": {},
   "source": [
    "### Prepare energy/spike"
   ]
  },
  {
   "cell_type": "code",
   "execution_count": 62,
   "metadata": {},
   "outputs": [],
   "source": [
    "all_energies_per_spike_ABPD = sample_stats[:, 18]"
   ]
  },
  {
   "cell_type": "code",
   "execution_count": 63,
   "metadata": {},
   "outputs": [],
   "source": [
    "numSpikesPerBurst = sample_stats[:, -6] / sample_stats[:, -3]"
   ]
  },
  {
   "cell_type": "code",
   "execution_count": 64,
   "metadata": {},
   "outputs": [],
   "source": [
    "(\n",
    "    mean_energies_per_spike,\n",
    "    std_energies_per_spike,\n",
    "    train_energies_per_spike_norm,\n",
    "    test_energies_per_spike_norm,\n",
    "    mean_num_spikes,\n",
    "    std_num_spikes,\n",
    "    train_num_spikes_norm,\n",
    "    test_num_spikes_norm,\n",
    ") = prepare_data(all_energies_per_spike_ABPD, numSpikesPerBurst, num_test)"
   ]
  },
  {
   "cell_type": "code",
   "execution_count": 65,
   "metadata": {},
   "outputs": [],
   "source": [
    "unnorm_x_vals, unnorm_y_regs, unnorm_x, unnorm_y = regression_plot(\n",
    "    mean_energies_per_spike,\n",
    "    std_energies_per_spike,\n",
    "    train_energies_per_spike_norm,\n",
    "    test_energies_per_spike_norm,\n",
    "    mean_num_spikes,\n",
    "    std_num_spikes,\n",
    "    train_num_spikes_norm,\n",
    "    test_num_spikes_norm,\n",
    ")"
   ]
  },
  {
   "cell_type": "markdown",
   "metadata": {},
   "source": [
    "### Train classifier for energy per spike"
   ]
  },
  {
   "cell_type": "code",
   "execution_count": 66,
   "metadata": {},
   "outputs": [],
   "source": [
    "nn = classifier(dim=31)"
   ]
  },
  {
   "cell_type": "code",
   "execution_count": 67,
   "metadata": {},
   "outputs": [],
   "source": [
    "# converged_nn = fit_regression_net(\n",
    "#     nn,\n",
    "#     train_params_norm,\n",
    "#     train_energies_per_spike_norm,\n",
    "#     num_train=train_params_norm.shape[0],\n",
    "#     batch_size=50,\n",
    "#     stop_after_epochs=10,\n",
    "#     max_epochs=200\n",
    "# )"
   ]
  },
  {
   "cell_type": "code",
   "execution_count": 68,
   "metadata": {},
   "outputs": [],
   "source": [
    "# np.savez('../../results/regression_nets/200821_predict_energyPerSpike_ABPD.npz', converged_nn=converged_nn)"
   ]
  },
  {
   "cell_type": "code",
   "execution_count": 14,
   "metadata": {},
   "outputs": [],
   "source": [
    "data = np.load(\n",
    "    \"../../results/regression_nets/200821_predict_energyPerSpike_ABPD.npz\",\n",
    "    allow_pickle=True,\n",
    ")\n",
    "converged_nn = data[\"converged_nn\"].tolist()"
   ]
  },
  {
   "cell_type": "code",
   "execution_count": 15,
   "metadata": {},
   "outputs": [],
   "source": [
    "predictions = converged_nn.predict(torch.as_tensor(test_params_norm)).detach().numpy()"
   ]
  },
  {
   "cell_type": "code",
   "execution_count": 16,
   "metadata": {},
   "outputs": [
    {
     "name": "stderr",
     "output_type": "stream",
     "text": [
      "findfont: Font family ['serif'] not found. Falling back to DejaVu Sans.\n"
     ]
    },
    {
     "data": {
      "image/png": "[encoded data removed]",
      "text/plain": [
       "<Figure size 200x150 with 1 Axes>"
      ]
     },
     "metadata": {},
     "output_type": "display_data"
    }
   ],
   "source": [
    "with mpl.rc_context(fname=\"../../.matplotlibrc\"):\n",
    "    fig, ax = plt.subplots(1, 1, figsize=(2, 1.5))\n",
    "    unnorm_x = (\n",
    "        test_energies_per_spike_norm[:300] * std_energies_per_spike\n",
    "        + mean_energies_per_spike\n",
    "    )\n",
    "    unnorm_y = predictions[:300] * std_energies_per_spike + mean_energies_per_spike\n",
    "    ax.scatter(x=unnorm_x, y=unnorm_y, s=3, color=\"#2b8cbe\")\n",
    "    gt_vec = np.linspace(np.min(unnorm_x), np.max(unnorm_x), 2)\n",
    "    ax.plot(gt_vec, gt_vec, \"#ff7f00\")\n",
    "    ax.set_xlabel(\"Energy / spike\")\n",
    "    ax.set_ylabel(\"Neural net prediction\")\n",
    "    plt.savefig(PANEL_supp1, facecolor=\"None\", transparent=True)"
   ]
  },
  {
   "cell_type": "markdown",
   "metadata": {},
   "source": [
    "### Regression network for #spikes"
   ]
  },
  {
   "cell_type": "code",
   "execution_count": 17,
   "metadata": {},
   "outputs": [],
   "source": [
    "nn = classifier(dim=31)"
   ]
  },
  {
   "cell_type": "code",
   "execution_count": 18,
   "metadata": {},
   "outputs": [],
   "source": [
    "# converged_nn_num_spikes = fit_regression_net(\n",
    "#     nn,\n",
    "#     train_params_norm,\n",
    "#     train_num_spikes_norm,\n",
    "#     num_train=train_params_norm.shape[0],\n",
    "#     batch_size=50,\n",
    "#     stop_after_epochs=10,\n",
    "#     max_epochs=200\n",
    "# )"
   ]
  },
  {
   "cell_type": "code",
   "execution_count": 19,
   "metadata": {},
   "outputs": [],
   "source": [
    "# np.savez('../../results/regression_nets/200821_predict_numSpikes_ABPD.npz', converged_nn=converged_nn_num_spikes)"
   ]
  },
  {
   "cell_type": "code",
   "execution_count": 20,
   "metadata": {},
   "outputs": [],
   "source": [
    "data = np.load(\n",
    "    \"../../results/regression_nets/200821_predict_numSpikes_ABPD.npz\", allow_pickle=True\n",
    ")\n",
    "converged_nn_num_spikes = data[\"converged_nn\"].tolist()"
   ]
  },
  {
   "cell_type": "code",
   "execution_count": 21,
   "metadata": {},
   "outputs": [],
   "source": [
    "predictions = (\n",
    "    converged_nn_num_spikes.predict(torch.as_tensor(test_params_norm)).detach().numpy()\n",
    ")"
   ]
  },
  {
   "cell_type": "code",
   "execution_count": 22,
   "metadata": {},
   "outputs": [
    {
     "data": {
      "image/png": "[encoded data removed]",
      "text/plain": [
       "<Figure size 200x150 with 1 Axes>"
      ]
     },
     "metadata": {},
     "output_type": "display_data"
    }
   ],
   "source": [
    "with mpl.rc_context(fname=\"../../.matplotlibrc\"):\n",
    "    fig, ax = plt.subplots(1, 1, figsize=(2, 1.5))\n",
    "    unnorm_x = test_num_spikes_norm[:300] * std_num_spikes + mean_num_spikes\n",
    "    unnorm_y = predictions[:300] * std_num_spikes + mean_num_spikes\n",
    "    ax.scatter(x=unnorm_x, y=unnorm_y, s=3, color=\"#2b8cbe\")\n",
    "    gt_vec = np.linspace(np.min(unnorm_x), np.max(unnorm_x), 2)\n",
    "    ax.plot(gt_vec, gt_vec, \"#ff7f00\")\n",
    "    ax.set_xlabel(\"Spikes per burst\")\n",
    "    ax.set_ylabel(\"Neural net prediction\")\n",
    "    plt.savefig(PANEL_supp2, facecolor=\"None\", transparent=True)"
   ]
  },
  {
   "cell_type": "markdown",
   "metadata": {},
   "source": [
    "### Get active subspace for E / spike"
   ]
  },
  {
   "cell_type": "code",
   "execution_count": 23,
   "metadata": {},
   "outputs": [],
   "source": [
    "e_vals_e_per_spike, e_vecs_e_per_spike = active_subspace(converged_nn, test_params_norm)"
   ]
  },
  {
   "cell_type": "code",
   "execution_count": 24,
   "metadata": {},
   "outputs": [
    {
     "name": "stdout",
     "output_type": "stream",
     "text": [
      "Ratio of first to second eigenvalue:  tensor(7.5753)\n"
     ]
    },
    {
     "data": {
      "image/png": "[encoded data removed]",
      "text/plain": [
       "<Figure size 150x70 with 1 Axes>"
      ]
     },
     "metadata": {},
     "output_type": "display_data"
    }
   ],
   "source": [
    "with mpl.rc_context(fname=\"../../.matplotlibrc\"):\n",
    "    plot_eigenvalues(\n",
    "        torch.log(torch.flip(e_vals_e_per_spike, dims=(0,))),\n",
    "        figsize=(1.5, 0.7),\n",
    "        ylabel=\"log(E.-value)\",\n",
    "        color='k'\n",
    "    )\n",
    "    print(\n",
    "        \"Ratio of first to second eigenvalue: \",\n",
    "        e_vals_e_per_spike[-1] / e_vals_e_per_spike[-2],\n",
    "    )\n",
    "    plt.savefig(PANEL_A0_NEW, facecolor=\"None\", transparent=True)\n",
    "    plt.show()"
   ]
  },
  {
   "cell_type": "code",
   "execution_count": 25,
   "metadata": {},
   "outputs": [
    {
     "data": {
      "image/png": "[encoded data removed]",
      "text/plain": [
       "<Figure size 160x70 with 1 Axes>"
      ]
     },
     "metadata": {},
     "output_type": "display_data"
    }
   ],
   "source": [
    "with mpl.rc_context(fname=\"../../.matplotlibrc\"):\n",
    "    py_sensitivity_bars(\n",
    "        e_vecs_e_per_spike[0:8, -1:].T,\n",
    "        ylim=[-0.7, 1.0],\n",
    "        figsize=(1.6, 0.7),\n",
    "        ylabel=\"First E-vec.\",\n",
    "        plot_labels=True,\n",
    "        color=\"#3182bd\",\n",
    "    )\n",
    "    plt.savefig(PANEL_A1_NEW, facecolor=\"None\", transparent=True)\n",
    "    plt.show()"
   ]
  },
  {
   "cell_type": "code",
   "execution_count": 26,
   "metadata": {},
   "outputs": [
    {
     "name": "stderr",
     "output_type": "stream",
     "text": [
      "findfont: Font family ['serif'] not found. Falling back to DejaVu Sans.\n"
     ]
    },
    {
     "data": {
      "image/png": "[encoded data removed]",
      "text/plain": [
       "<Figure size 200x70 with 1 Axes>"
      ]
     },
     "metadata": {},
     "output_type": "display_data"
    }
   ],
   "source": [
    "with mpl.rc_context(fname=\"../../.matplotlibrc\"):\n",
    "    viz.other_sensitivity_bars(\n",
    "        e_vecs_e_per_spike[8:, -1:].T, ylim=[-0.7, 1.0], figsize=(2.0, 0.7)\n",
    "    )\n",
    "    plt.savefig(PANEL_A2_NEW, facecolor=\"None\", transparent=True)\n",
    "    plt.show()"
   ]
  },
  {
   "cell_type": "markdown",
   "metadata": {},
   "source": [
    "### Get active subspace for number of spikes"
   ]
  },
  {
   "cell_type": "code",
   "execution_count": 27,
   "metadata": {},
   "outputs": [],
   "source": [
    "e_vals_numSpikes, e_vecs_numSpikes = active_subspace(\n",
    "    converged_nn_num_spikes, test_params_norm\n",
    ")"
   ]
  },
  {
   "cell_type": "code",
   "execution_count": 28,
   "metadata": {},
   "outputs": [
    {
     "name": "stdout",
     "output_type": "stream",
     "text": [
      "Ratio of first to second eigenvalue:  tensor(15.8987)\n"
     ]
    },
    {
     "data": {
      "image/png": "[encoded data removed]",
      "text/plain": [
       "<Figure size 150x70 with 1 Axes>"
      ]
     },
     "metadata": {},
     "output_type": "display_data"
    }
   ],
   "source": [
    "with mpl.rc_context(fname=\"../../.matplotlibrc\"):\n",
    "    plot_eigenvalues(\n",
    "        torch.log(torch.flip(e_vals_numSpikes, dims=(0,))),\n",
    "        figsize=(1.5, 0.7),\n",
    "        ylabel=\"log(E.-value)\",\n",
    "        color='k'\n",
    "    )\n",
    "    print(\n",
    "        \"Ratio of first to second eigenvalue: \",\n",
    "        e_vals_numSpikes[-1] / e_vals_numSpikes[-2],\n",
    "    )\n",
    "    plt.savefig(PANEL_B0_NEW, facecolor=\"None\", transparent=True)\n",
    "    plt.show()"
   ]
  },
  {
   "cell_type": "code",
   "execution_count": 29,
   "metadata": {},
   "outputs": [
    {
     "data": {
      "image/png": "[encoded data removed]",
      "text/plain": [
       "<Figure size 160x70 with 1 Axes>"
      ]
     },
     "metadata": {},
     "output_type": "display_data"
    }
   ],
   "source": [
    "with mpl.rc_context(fname=\"../../.matplotlibrc\"):\n",
    "    py_sensitivity_bars(\n",
    "        e_vecs_numSpikes[0:8, -1:].T,\n",
    "        ylim=[-0.7, 1.0],\n",
    "        figsize=(1.6, 0.7),\n",
    "        ylabel=\"First E-vec.\",\n",
    "        plot_labels=True,\n",
    "        color=\"#3182bd\",\n",
    "    )\n",
    "    plt.savefig(PANEL_B1_NEW, facecolor=\"None\", transparent=True)\n",
    "    plt.show()"
   ]
  },
  {
   "cell_type": "code",
   "execution_count": 30,
   "metadata": {},
   "outputs": [
    {
     "data": {
      "image/png": "[encoded data removed]",
      "text/plain": [
       "<Figure size 200x70 with 1 Axes>"
      ]
     },
     "metadata": {},
     "output_type": "display_data"
    }
   ],
   "source": [
    "with mpl.rc_context(fname=\"../../.matplotlibrc\"):\n",
    "    viz.other_sensitivity_bars(\n",
    "        e_vecs_numSpikes[8:, -1:].T, ylim=[-0.7, 1.0], figsize=(2.0, 0.7)\n",
    "    )\n",
    "    plt.savefig(PANEL_B2_NEW, facecolor=\"None\", transparent=True)\n",
    "    plt.show()"
   ]
  },
  {
   "cell_type": "code",
   "execution_count": 31,
   "metadata": {},
   "outputs": [],
   "source": [
    "v1 = e_vecs_numSpikes[:, -1]\n",
    "v2 = e_vecs_e_per_spike[:, -1]"
   ]
  },
  {
   "cell_type": "code",
   "execution_count": 32,
   "metadata": {},
   "outputs": [
    {
     "name": "stdout",
     "output_type": "stream",
     "text": [
      "tensor([ 9.6191e-01,  9.2882e-02,  3.0062e-02, -1.1427e-01,  2.2704e-01,\n",
      "        -8.6922e-03, -6.3886e-05, -8.1381e-03, -4.9925e-04,  6.9162e-04,\n",
      "        -2.9204e-03,  1.3402e-03,  1.5457e-03, -3.0674e-04, -3.7022e-03,\n",
      "         6.5533e-05, -9.6386e-05,  2.2530e-03,  3.3341e-03, -5.8434e-04,\n",
      "        -2.3074e-03, -2.3240e-04, -4.4345e-04,  1.8550e-03,  8.4969e-05,\n",
      "         3.2957e-03, -4.1291e-03, -4.6788e-03,  1.8416e-02,  8.1703e-04,\n",
      "         3.3852e-03])\n"
     ]
    }
   ],
   "source": [
    "norm_v1 = torch.norm(v1)\n",
    "print(v2)"
   ]
  },
  {
   "cell_type": "code",
   "execution_count": 33,
   "metadata": {},
   "outputs": [
    {
     "name": "stdout",
     "output_type": "stream",
     "text": [
      "dot_prod -0.3258383572101593\n"
     ]
    }
   ],
   "source": [
    "dot_prod = torch.dot(v1, v2).item()\n",
    "print('dot_prod', dot_prod)"
   ]
  },
  {
   "cell_type": "code",
   "execution_count": 34,
   "metadata": {},
   "outputs": [
    {
     "name": "stdout",
     "output_type": "stream",
     "text": [
      "angle in rad: 1.9026946707586512\n",
      "angle in deg: 109.01637433650446\n"
     ]
    }
   ],
   "source": [
    "import math\n",
    "angle = math.acos(dot_prod)\n",
    "print('angle in rad:', angle)\n",
    "print('angle in deg:', angle / 2 / math.pi * 360)"
   ]
  },
  {
   "cell_type": "markdown",
   "metadata": {},
   "source": [
    "# Project parameters into plane"
   ]
  },
  {
   "cell_type": "code",
   "execution_count": 35,
   "metadata": {},
   "outputs": [],
   "source": [
    "train_params_norm = torch.as_tensor(train_params_norm)"
   ]
  },
  {
   "cell_type": "markdown",
   "metadata": {},
   "source": [
    "### Energy per spike"
   ]
  },
  {
   "cell_type": "code",
   "execution_count": 36,
   "metadata": {},
   "outputs": [],
   "source": [
    "projection_mat_e_per_spike_1 = e_vecs_e_per_spike[:, -1:]\n",
    "projected_e_per_spike_1 = torch.mm(train_params_norm, projection_mat_e_per_spike_1)"
   ]
  },
  {
   "cell_type": "markdown",
   "metadata": {},
   "source": [
    "### Number of spikes"
   ]
  },
  {
   "cell_type": "code",
   "execution_count": 37,
   "metadata": {},
   "outputs": [],
   "source": [
    "projection_mat_numSpikes = e_vecs_numSpikes[:, -1:]\n",
    "projected_numSpikes = torch.mm(train_params_norm, projection_mat_numSpikes)"
   ]
  },
  {
   "cell_type": "markdown",
   "metadata": {},
   "source": [
    "### Select three interesting parameter sets"
   ]
  },
  {
   "cell_type": "code",
   "execution_count": 38,
   "metadata": {},
   "outputs": [],
   "source": [
    "ind_of_min_e_per_spike = nth_argmin(projected_e_per_spike_1, 0)\n",
    "ind_of_max_e_per_spike = nth_argmax(projected_e_per_spike_1, 27)"
   ]
  },
  {
   "cell_type": "code",
   "execution_count": 39,
   "metadata": {},
   "outputs": [],
   "source": [
    "ind_of_min_numSpikes = nth_argmin(projected_numSpikes, 14)\n",
    "ind_of_max_numSpikes = nth_argmax(projected_numSpikes, 0)"
   ]
  },
  {
   "cell_type": "code",
   "execution_count": 40,
   "metadata": {},
   "outputs": [],
   "source": [
    "parameter_set1 = train_params_norm[ind_of_min_e_per_spike].unsqueeze(0)\n",
    "parameter_set1_dim1 = torch.mm(parameter_set1, projection_mat_e_per_spike_1)\n",
    "parameter_set1_dim2 = torch.mm(parameter_set1, projection_mat_numSpikes)\n",
    "\n",
    "parameter_set2 = train_params_norm[ind_of_min_numSpikes].unsqueeze(0)\n",
    "parameter_set2_dim1 = torch.mm(parameter_set2, projection_mat_e_per_spike_1)\n",
    "parameter_set2_dim2 = torch.mm(parameter_set2, projection_mat_numSpikes)\n",
    "\n",
    "parameter_set3 = train_params_norm[ind_of_max_e_per_spike].unsqueeze(0)\n",
    "parameter_set3_dim1 = torch.mm(parameter_set3, projection_mat_e_per_spike_1)\n",
    "parameter_set3_dim2 = torch.mm(parameter_set3, projection_mat_numSpikes)"
   ]
  },
  {
   "cell_type": "markdown",
   "metadata": {},
   "source": [
    "### For coloring the dots with the energy consumed by the AB/PD neuron, load the energies"
   ]
  },
  {
   "cell_type": "code",
   "execution_count": 41,
   "metadata": {},
   "outputs": [],
   "source": [
    "energies = sample_stats[:, 21]\n",
    "energies_train = energies[500:]"
   ]
  },
  {
   "cell_type": "markdown",
   "metadata": {},
   "source": [
    "# Panel E"
   ]
  },
  {
   "cell_type": "markdown",
   "metadata": {},
   "source": [
    "### Non-orthogonal version"
   ]
  },
  {
   "cell_type": "code",
   "execution_count": 43,
   "metadata": {},
   "outputs": [],
   "source": [
    "angle_within_90deg = math.pi - angle"
   ]
  },
  {
   "cell_type": "code",
   "execution_count": 44,
   "metadata": {},
   "outputs": [],
   "source": [
    "from matplotlib import ticker\n",
    "my_ticker = ticker.FixedFormatter([-2,0,2])\n",
    "from matplotlib.ticker import (MultipleLocator, FormatStrFormatter, AutoMinorLocator)"
   ]
  },
  {
   "cell_type": "code",
   "execution_count": 45,
   "metadata": {},
   "outputs": [
    {
     "data": {
      "image/png": "[encoded data removed]",
      "text/plain": [
       "<Figure size 310x200 with 2 Axes>"
      ]
     },
     "metadata": {},
     "output_type": "display_data"
    }
   ],
   "source": [
    "import numpy as np\n",
    "import matplotlib.pyplot as plt\n",
    "from  mpl_toolkits.axisartist.grid_helper_curvelinear import GridHelperCurveLinear\n",
    "from mpl_toolkits.axisartist import Subplot, ParasiteAxesAuxTrans\n",
    "import  mpl_toolkits.axisartist.angle_helper as angle_helper\n",
    "from mpl_toolkits.axisartist.grid_finder import FixedLocator\n",
    "\n",
    "def curvelinear_test1(fig):\n",
    "    xlims = [-3.4, 2.2]\n",
    "    ylims = [-3.42, 2.8]\n",
    "\n",
    "    # We need this ration because the scale on the y-axis and on the x-axis is\n",
    "    # different. The ration is approximately 2.7 / 1.8, which is the ratio of\n",
    "    # the mins of the data in the respective dimensions. Correctness of the\n",
    "    # ration 1.55 was checked by manually rotating the ylabel with:\n",
    "    # `ax1.axis[\"y\"].label.set_rotation(-19)`. 19 degree is the true angle from\n",
    "    # a right angle.\n",
    "    ratio_yx = 1.55\n",
    "\n",
    "    def tr(x, y):\n",
    "        x, y = np.asarray(x), np.asarray(y)\n",
    "        return x-y / math.tan(angle_within_90deg) / ratio_yx, y\n",
    "    def inv_tr(x,y):\n",
    "        x, y = np.asarray(x), np.asarray(y)\n",
    "        return x + y * math.tan(angle_within_90deg) * ratio_yx, y\n",
    "\n",
    "    grid_locator1 = FixedLocator([-1.8, 0, 1.8])\n",
    "    grid_locator2 = FixedLocator([-2.7, 0])\n",
    "\n",
    "    grid_helper = GridHelperCurveLinear(aux_trans=(tr, inv_tr), \n",
    "                                        grid_locator1=grid_locator1,\n",
    "                                        grid_locator2=grid_locator2)\n",
    "    \n",
    "    ax1 = Subplot(fig, 1, 1, 1, grid_helper=grid_helper)\n",
    "    fig.add_subplot(ax1)\n",
    "    \n",
    "#     ax1.grid(zorder=-100)\n",
    "    ax1.grid(True, which='minor', zorder=-100)\n",
    "    \n",
    "    projected_data_x, projected_data_y = tr(projected_numSpikes[:4000].T, projected_e_per_spike_1[:4000].T)\n",
    "    im = ax1.scatter(\n",
    "        projected_data_x,\n",
    "        projected_data_y,\n",
    "        s=3,\n",
    "        c=energies_train[:4000],\n",
    "        cmap='autumn_r'\n",
    "    )\n",
    "    ax1.scatter(*tr(parameter_set1_dim2, parameter_set1_dim1), color=\"#0570b0\")\n",
    "    ax1.scatter(*tr(parameter_set2_dim2, parameter_set2_dim1), color=\"#0570b0\")\n",
    "    ax1.scatter(*tr(parameter_set3_dim2, parameter_set3_dim1), color=\"#0570b0\")\n",
    "    \n",
    "    ax1.annotate(\n",
    "        \"\",\n",
    "        xy=(-0.9, -2.1),\n",
    "        xytext=(-0.2, -0.5),\n",
    "        arrowprops=dict(\n",
    "            facecolor=\"#0570b0\",\n",
    "            edgecolor=\"#0570b0\",\n",
    "            headwidth=5.4,\n",
    "            headlength=5.7,\n",
    "            width=0.1,\n",
    "        ),\n",
    "    )\n",
    "    \n",
    "    ax1.axis[\"right\"].set_visible(False)\n",
    "    ax1.axis[\"top\"].set_visible(False)\n",
    "    ax1.axis[\"bottom\"].set_visible(False)\n",
    "    ax1.axis[\"left\"].set_visible(False)\n",
    "\n",
    "    xx, yy = tr([3, 6], [5.0, 10.])\n",
    "    ax1.plot(xx, yy)\n",
    "\n",
    "    ax1.set_xlim(xlims)\n",
    "    ax1.set_ylim(ylims)\n",
    "    \n",
    "    ax1.set_ylabel(\"Proj. to 1st E-vec: E / spike\")\n",
    "    ax1.set_xlabel(\"Proj. to 1st E-vec: E / spike\")\n",
    "    \n",
    "    ax1.axis[\"y\"]=ax1.new_floating_axis(0, -2.4)\n",
    "    ax1.axis[\"x\"]=ax1.new_floating_axis(1, -3.4)\n",
    "    ax1.axis[\"y\"].set_axis_direction(\"top\")\n",
    "    ax1.axis[\"y\"].label.set_axis_direction(\"bottom\")\n",
    "    ax1.axis[\"y\"].set_ticklabel_direction(\"+\")\n",
    "    ax1.axis[\"y\"].invert_ticklabel_direction()\n",
    "    \n",
    "    cbar = plt.colorbar(im, aspect=25, fraction=0.04, pad=0.04)\n",
    "    cbar.set_ticks([])\n",
    "    cbar.set_label(\"Energy (AB)\", labelpad=5)\n",
    "\n",
    "with mpl.rc_context(fname=\"../../.matplotlibrc\"):\n",
    "    fig = plt.figure(figsize=(3.1, 2.0))\n",
    "    curvelinear_test1(fig)\n",
    "    plt.savefig(PANEL_C_NEW, facecolor=\"None\", transparent=True)\n",
    "    plt.show()"
   ]
  },
  {
   "cell_type": "code",
   "execution_count": 46,
   "metadata": {},
   "outputs": [],
   "source": [
    "all_energies_per_spike = sample_stats[:, 18]\n",
    "all_energies = sample_stats[:, 21]\n",
    "all_num_spikes = sample_stats[:, 24]\n",
    "\n",
    "min_energy_per_spike = np.min(all_energies_per_spike)\n",
    "max_energy_per_spike = np.max(all_energies_per_spike)\n",
    "\n",
    "min_energy = np.min(all_energies)\n",
    "max_energy = np.max(all_energies)\n",
    "\n",
    "min_num_spikes = np.min(all_num_spikes)\n",
    "max_num_spikes = np.max(all_num_spikes)"
   ]
  },
  {
   "cell_type": "code",
   "execution_count": 47,
   "metadata": {},
   "outputs": [],
   "source": [
    "unnorm_set_dim_1 = parameter_set1[0] * std_params + mean_params\n",
    "\n",
    "unnorm_set_dim_2 = parameter_set2[0] * std_params + mean_params\n",
    "\n",
    "unnorm_set_dim_3 = parameter_set3[0] * std_params + mean_params\n",
    "\n",
    "simulation_output_1 = simulate_energyscape(unnorm_set_dim_1, seed=0)\n",
    "simulation_output_2 = simulate_energyscape(unnorm_set_dim_2, seed=0)\n",
    "simulation_output_3 = simulate_energyscape(unnorm_set_dim_3, seed=0)"
   ]
  },
  {
   "cell_type": "code",
   "execution_count": 90,
   "metadata": {},
   "outputs": [
    {
     "data": {
      "image/png": "[encoded data removed]",
      "text/plain": [
       "<Figure size 130x100 with 2 Axes>"
      ]
     },
     "metadata": {},
     "output_type": "display_data"
    }
   ],
   "source": [
    "with mpl.rc_context(fname=\"../../.matplotlibrc\"):\n",
    "    energy_scape(\n",
    "        simulation_output_1,\n",
    "        get_time(),\n",
    "        (1.3, 1.0),\n",
    "        [\"k\", \"k\", \"k\"],\n",
    "        time_len=20000,\n",
    "        offset=116000,\n",
    "        ylimE=[0, 2000],\n",
    "        v_labelpad=4.7,\n",
    "        neuron=0,\n",
    "    )\n",
    "    plt.savefig(PANEL_D1_NEW, facecolor=\"None\", transparent=True)"
   ]
  },
  {
   "cell_type": "code",
   "execution_count": 49,
   "metadata": {},
   "outputs": [
    {
     "data": {
      "image/png": "[encoded data removed]",
      "text/plain": [
       "<Figure size 70x100 with 1 Axes>"
      ]
     },
     "metadata": {},
     "output_type": "display_data"
    }
   ],
   "source": [
    "summstats = stats(simulation_output_1)\n",
    "num_spikes_ABPD = summstats[31]\n",
    "energies_ABPD_sim = summstats[28]\n",
    "energyperspike_ABPD_sim = summstats[19]\n",
    "\n",
    "with mpl.rc_context(fname=\"../../.matplotlibrc\"):\n",
    "    fig, ax = plt.subplots(1, 1, figsize=(0.7, 1.0))\n",
    "    height_num_spikes = (num_spikes_ABPD - min_num_spikes) / (\n",
    "        max_num_spikes - min_num_spikes\n",
    "    )\n",
    "    height_energy_per_spike = (energyperspike_ABPD_sim - min_energy_per_spike) / (\n",
    "        max_energy_per_spike - min_energy_per_spike\n",
    "    )\n",
    "    height_energy = (energies_ABPD_sim - min_energy) / (max_energy - min_energy)\n",
    "    ax.bar(\n",
    "        np.arange(0, 3),\n",
    "        [height_num_spikes, height_energy_per_spike, height_energy],\n",
    "        width=0.3,\n",
    "        facecolor='k',\n",
    "    )\n",
    "    ax.set_ylim([0, 1])\n",
    "    ax.set_xlim([-0.4, 2.4])\n",
    "    ax.spines[\"top\"].set_visible(False)\n",
    "    ax.spines[\"right\"].set_visible(False)\n",
    "    ax.set_xticks([0, 1, 2])\n",
    "    ax.set_yticks([0, 1])\n",
    "    ax.set_xticklabels([\"#spikes\", \"E/spike\", \"Energy\"], rotation=45)\n",
    "    ax.set_yticklabels([\"min\", \"max\"])\n",
    "    plt.savefig(PANEL_D2_NEW, facecolor=\"None\", transparent=True)\n",
    "    plt.show()"
   ]
  },
  {
   "cell_type": "code",
   "execution_count": 89,
   "metadata": {},
   "outputs": [
    {
     "data": {
      "image/png": "[encoded data removed]",
      "text/plain": [
       "<Figure size 130x100 with 2 Axes>"
      ]
     },
     "metadata": {},
     "output_type": "display_data"
    }
   ],
   "source": [
    "with mpl.rc_context(fname=\"../../.matplotlibrc\"):\n",
    "    energy_scape(\n",
    "        simulation_output_2,\n",
    "        get_time(),\n",
    "        (1.3, 1.0),\n",
    "        [\"k\", \"k\", \"k\"],\n",
    "        time_len=20000,\n",
    "        offset=292000,\n",
    "        ylimE=[0, 2000],\n",
    "        v_labelpad=4.7,\n",
    "        neuron=0,\n",
    "    )\n",
    "    plt.savefig(PANEL_D3_NEW, facecolor=\"None\", transparent=True)"
   ]
  },
  {
   "cell_type": "code",
   "execution_count": 51,
   "metadata": {},
   "outputs": [
    {
     "data": {
      "image/png": "[encoded data removed]",
      "text/plain": [
       "<Figure size 70x100 with 1 Axes>"
      ]
     },
     "metadata": {},
     "output_type": "display_data"
    }
   ],
   "source": [
    "summstats = stats(simulation_output_2)\n",
    "num_spikes_ABPD = summstats[31]\n",
    "energies_ABPD_sim = summstats[28]\n",
    "energyperspike_ABPD_sim = summstats[19]\n",
    "\n",
    "with mpl.rc_context(fname=\"../../.matplotlibrc\"):\n",
    "    fig, ax = plt.subplots(1, 1, figsize=(0.7, 1.0))\n",
    "    height_num_spikes = (num_spikes_ABPD - min_num_spikes) / (\n",
    "        max_num_spikes - min_num_spikes\n",
    "    )\n",
    "    height_energy_per_spike = (energyperspike_ABPD_sim - min_energy_per_spike) / (\n",
    "        max_energy_per_spike - min_energy_per_spike\n",
    "    )\n",
    "    height_energy = (energies_ABPD_sim - min_energy) / (max_energy - min_energy)\n",
    "    ax.bar(\n",
    "        np.arange(0, 3),\n",
    "        [height_num_spikes, height_energy_per_spike, height_energy],\n",
    "        width=0.3,\n",
    "        facecolor='k',\n",
    "    )\n",
    "    ax.set_ylim([0, 1])\n",
    "    ax.set_xlim([-0.4, 2.4])\n",
    "    ax.spines[\"top\"].set_visible(False)\n",
    "    ax.spines[\"right\"].set_visible(False)\n",
    "    ax.set_xticks([0, 1, 2])\n",
    "    ax.set_yticks([0, 1])\n",
    "    ax.set_xticklabels([\"#spikes\", \"E/spike\", \"Energy\"], rotation=45)\n",
    "    ax.set_yticklabels([\"min\", \"max\"])\n",
    "    plt.savefig(PANEL_D4_NEW, facecolor=\"None\", transparent=True)\n",
    "    plt.show()"
   ]
  },
  {
   "cell_type": "code",
   "execution_count": 88,
   "metadata": {},
   "outputs": [
    {
     "data": {
      "image/png": "[encoded data removed]",
      "text/plain": [
       "<Figure size 130x100 with 2 Axes>"
      ]
     },
     "metadata": {},
     "output_type": "display_data"
    }
   ],
   "source": [
    "with mpl.rc_context(fname=\"../../.matplotlibrc\"):\n",
    "    energy_scape(\n",
    "        simulation_output_3,\n",
    "        get_time(),\n",
    "        (1.3, 1.0),\n",
    "        [\"k\", \"k\", \"k\"],\n",
    "        time_len=20000,\n",
    "        offset=210000,\n",
    "        ylimE=[0, 2000],\n",
    "        v_labelpad=4.7,\n",
    "        neuron=0,\n",
    "    )\n",
    "    plt.savefig(PANEL_D5_NEW, facecolor=\"None\", transparent=True)"
   ]
  },
  {
   "cell_type": "code",
   "execution_count": 85,
   "metadata": {},
   "outputs": [
    {
     "data": {
      "image/png": "[encoded data removed]",
      "text/plain": [
       "<Figure size 70x100 with 1 Axes>"
      ]
     },
     "metadata": {},
     "output_type": "display_data"
    }
   ],
   "source": [
    "summstats = stats(simulation_output_3)\n",
    "num_spikes_ABPD = summstats[31]\n",
    "energies_ABPD_sim = summstats[28]\n",
    "energyperspike_ABPD_sim = summstats[19]\n",
    "\n",
    "with mpl.rc_context(fname=\"../../.matplotlibrc\"):\n",
    "    fig, ax = plt.subplots(1, 1, figsize=(0.7, 1.0))\n",
    "    height_num_spikes = (num_spikes_ABPD - min_num_spikes) / (\n",
    "        max_num_spikes - min_num_spikes\n",
    "    )\n",
    "    height_energy_per_spike = (energyperspike_ABPD_sim - min_energy_per_spike) / (\n",
    "        max_energy_per_spike - min_energy_per_spike\n",
    "    )\n",
    "    height_energy = (energies_ABPD_sim - min_energy) / (max_energy - min_energy)\n",
    "    ax.bar(\n",
    "        np.arange(0, 3),\n",
    "        [height_num_spikes, height_energy_per_spike, height_energy],\n",
    "        width=0.3,\n",
    "        facecolor='k',\n",
    "    )\n",
    "    ax.set_ylim([0, 1])\n",
    "    ax.set_xlim([-0.4, 2.4])\n",
    "    ax.spines[\"top\"].set_visible(False)\n",
    "    ax.spines[\"right\"].set_visible(False)\n",
    "    ax.set_xticks([0, 1, 2])\n",
    "    ax.set_yticks([0, 1])\n",
    "    ax.set_xticklabels([\"#spikes\", \"E/spike\", \"Energy\"], rotation=45)\n",
    "    ax.set_yticklabels([\"min\", \"max\"])\n",
    "    plt.savefig(PANEL_D6_NEW, facecolor=\"None\", transparent=True)\n",
    "    plt.show()"
   ]
  },
  {
   "cell_type": "markdown",
   "metadata": {},
   "source": [
    "# Assemble figure"
   ]
  },
  {
   "cell_type": "markdown",
   "metadata": {},
   "source": [
    "Todos after the figure:\n",
    "- #spikes -> E/spike on y-axis\n",
    "- grid has to be truncated\n",
    "- \"minimal energy\" a bit closer together \n",
    "- axis truncated"
   ]
  },
  {
   "cell_type": "code",
   "execution_count": 86,
   "metadata": {},
   "outputs": [],
   "source": [
    "def svg(img):\n",
    "    IPd.display(IPd.HTML('<img src=\"{}\" / >'.format(img, time.time())))"
   ]
  },
  {
   "cell_type": "code",
   "execution_count": 91,
   "metadata": {},
   "outputs": [
    {
     "data": {
      "text/html": [
       "<img src=\"../fig/fig4_new.svg\" / >"
      ],
      "text/plain": [
       "<IPython.core.display.HTML object>"
      ]
     },
     "metadata": {},
     "output_type": "display_data"
    }
   ],
   "source": [
    "from svgutils.compose import *\n",
    "\n",
    "# > Inkscape pixel is 1/90 of an inch, other software usually uses 1/72.\n",
    "# > http://www.inkscapeforum.com/viewtopic.php?f=6&t=5964\n",
    "svg_scale = 1.25  # set this to 1.25 for Inkscape, 1.0 otherwise\n",
    "factor_svg=5.5\n",
    "\n",
    "# Panel letters in Helvetica Neue, 12pt, Medium\n",
    "kwargs_text = {'size': '12pt', 'font': 'Arial', 'weight': '800'}\n",
    "kwargs_consistent = {'size': '10pt', 'font': 'Arial', 'weight': '500', 'color': '#AF99EF'}\n",
    "kwargs_consistent1 = {'size': '10pt', 'font': 'Arial', 'weight': '500', 'color': '#9E7DD5'}\n",
    "kwargs_inconsistent = {'size': '10pt', 'font': 'Arial', 'weight': '500', 'color': '#AF99EF'}\n",
    "kwargs_text8pt = {'size': '7.7pt', 'font': 'Arial'}\n",
    "kwargs_text8pt_red = {'size': '7.7pt', 'font': 'Arial', 'color': '#0570b0'}\n",
    "\n",
    "f = Figure(\"20.3cm\", \"9.1cm\",\n",
    "\n",
    "    Panel(\n",
    "         SVG(PANEL_A0_NEW).scale(svg_scale).move(0, 0*factor_svg),\n",
    "         Text(\"a\", -1.0*factor_svg, 3.2*factor_svg, **kwargs_text),\n",
    "    ).move(1*factor_svg, -0.7*factor_svg),\n",
    "    \n",
    "    Panel(\n",
    "         SVG(PANEL_A1_NEW).scale(svg_scale).move(0, 0*factor_svg),\n",
    "        Text(\"b\", -2.0*factor_svg, 2.5*factor_svg, **kwargs_text),\n",
    "    ).move(35*factor_svg, 0.0*factor_svg),\n",
    "    \n",
    "    Panel(\n",
    "         SVG(PANEL_A2_NEW).scale(svg_scale).move(0, 0*factor_svg),\n",
    "    ).move(57*factor_svg, 0.6*factor_svg),\n",
    "\n",
    "    Panel(\n",
    "        SVG(PANEL_B0_NEW).scale(svg_scale).move(0*factor_svg, 0*factor_svg),\n",
    "        Text(\"c\", -1.0*factor_svg, 3.2*factor_svg, **kwargs_text),\n",
    "    ).move(1*factor_svg, 18.3*factor_svg),\n",
    "    \n",
    "    Panel(\n",
    "        SVG(PANEL_B1_NEW).scale(svg_scale).move(0*factor_svg, 0*factor_svg),\n",
    "        Text(\"d\", -2.0*factor_svg, 2.5*factor_svg, **kwargs_text),\n",
    "    ).move(35*factor_svg, 19.0*factor_svg),\n",
    "           \n",
    "    Panel(\n",
    "        SVG(PANEL_B2_NEW).scale(svg_scale).move(0*factor_svg, 0*factor_svg),\n",
    "    ).move(57*factor_svg, 19.6*factor_svg),\n",
    "    \n",
    "    Panel(\n",
    "          SVG(PANEL_C_NEW).scale(svg_scale).move(0*factor_svg,0*factor_svg),\n",
    "        Text(\"e\", 0.5*factor_svg, 0.5*factor_svg, **kwargs_text),\n",
    "        Text(\"g\", 11.6*factor_svg, 10.9*factor_svg, **kwargs_text8pt_red),\n",
    "        Text(\"h\", 29.0*factor_svg, 2.3*factor_svg, **kwargs_text8pt_red),\n",
    "        Text(\"f\", 27.5*factor_svg, 26.3*factor_svg, **kwargs_text8pt_red),\n",
    "        Text(\"minimal\", 15.5*factor_svg, 23.6*factor_svg, **kwargs_text8pt_red),\n",
    "        Text(\"energy\", 15.5*factor_svg, 25.6*factor_svg, **kwargs_text8pt_red),\n",
    "    ).move(94*factor_svg, 2*factor_svg),\n",
    "           \n",
    "    Panel(\n",
    "        SVG(PANEL_C_angle).scale(svg_scale).move(0*factor_svg, 0*factor_svg),\n",
    "    ).move(97*factor_svg, 28.6*factor_svg),\n",
    "    \n",
    "    Panel(\n",
    "          SVG(PANEL_D1_NEW).scale(svg_scale).move(0*factor_svg, 0*factor_svg),\n",
    "        Text(\"f\", -2.0*factor_svg, 2.5*factor_svg, **kwargs_text),\n",
    "    ).move(2*factor_svg, 40.0*factor_svg),\n",
    "    \n",
    "    Panel(\n",
    "          SVG(PANEL_D2_NEW).scale(svg_scale).move(0*factor_svg, 0*factor_svg),\n",
    "    ).move(29*factor_svg, 39.5*factor_svg),\n",
    "    \n",
    "    Panel(\n",
    "          SVG(PANEL_D3_NEW).scale(svg_scale).move(0*factor_svg, 0*factor_svg),\n",
    "        Text(\"g\", -2.0*factor_svg, 2.5*factor_svg, **kwargs_text),\n",
    "    ).move(48*factor_svg, 40*factor_svg),\n",
    "    \n",
    "    Panel(\n",
    "          SVG(PANEL_D4_NEW).scale(svg_scale).move(0*factor_svg, 0*factor_svg),\n",
    "    ).move(75*factor_svg, 39.5*factor_svg),\n",
    "    \n",
    "    Panel(\n",
    "          SVG(PANEL_D5_NEW).scale(svg_scale).move(0*factor_svg, 0*factor_svg),\n",
    "        Text(\"h\", -2.0*factor_svg, 2.5*factor_svg, **kwargs_text),\n",
    "    ).move(94*factor_svg, 40*factor_svg),\n",
    "    \n",
    "    Panel(\n",
    "          SVG(PANEL_D6_NEW).scale(svg_scale).move(0*factor_svg, 0*factor_svg),\n",
    "    ).move(121*factor_svg, 39.5*factor_svg),\n",
    ")\n",
    "\n",
    "!mkdir -p fig\n",
    "f.save(\"../fig/fig4_new.svg\")\n",
    "svg('../fig/fig4_new.svg')"
   ]
  },
  {
   "cell_type": "markdown",
   "metadata": {},
   "source": [
    "### Assemble supplementary"
   ]
  },
  {
   "cell_type": "code",
   "execution_count": 399,
   "metadata": {},
   "outputs": [
    {
     "data": {
      "text/html": [
       "<img src=\"../fig/fig4_supp_convergence.svg\" / >"
      ],
      "text/plain": [
       "<IPython.core.display.HTML object>"
      ]
     },
     "metadata": {},
     "output_type": "display_data"
    }
   ],
   "source": [
    "f = Figure(\"20.3cm\", \"3.9cm\",\n",
    "\n",
    "    Panel(\n",
    "         SVG(PANEL_supp1).scale(svg_scale).move(0, 0*factor_svg),\n",
    "         Text(\"a\", -2.0*factor_svg, 2.5*factor_svg, **kwargs_text),\n",
    "    ).move(2*factor_svg, 0.0*factor_svg),\n",
    "    \n",
    "    Panel(\n",
    "        SVG(PANEL_supp2).scale(svg_scale).move(0*factor_svg, 0*factor_svg),\n",
    "        Text(\"b\", -2.0*factor_svg, 2.5*factor_svg, **kwargs_text),\n",
    "    ).move(50*factor_svg, 0.0*factor_svg),\n",
    "    \n",
    ")\n",
    "\n",
    "!mkdir -p fig\n",
    "f.save(\"../fig/fig4_supp_convergence.svg\")\n",
    "svg('../fig/fig4_supp_convergence.svg')"
   ]
  },
  {
   "cell_type": "code",
   "execution_count": null,
   "metadata": {},
   "outputs": [],
   "source": []
  },
  {
   "cell_type": "code",
   "execution_count": null,
   "metadata": {},
   "outputs": [],
   "source": []
  },
  {
   "cell_type": "code",
   "execution_count": null,
   "metadata": {},
   "outputs": [],
   "source": []
  },
  {
   "cell_type": "code",
   "execution_count": null,
   "metadata": {},
   "outputs": [],
   "source": []
  },
  {
   "cell_type": "code",
   "execution_count": null,
   "metadata": {},
   "outputs": [],
   "source": []
  },
  {
   "cell_type": "code",
   "execution_count": null,
   "metadata": {},
   "outputs": [],
   "source": []
  },
  {
   "cell_type": "code",
   "execution_count": null,
   "metadata": {},
   "outputs": [],
   "source": []
  },
  {
   "cell_type": "code",
   "execution_count": null,
   "metadata": {},
   "outputs": [],
   "source": []
  }
 ],
 "metadata": {
  "kernelspec": {
   "display_name": "sbi_prinz",
   "language": "python",
   "name": "sbi_prinz"
  },
  "language_info": {
   "codemirror_mode": {
    "name": "ipython",
    "version": 3
   },
   "file_extension": ".py",
   "mimetype": "text/x-python",
   "name": "python",
   "nbconvert_exporter": "python",
   "pygments_lexer": "ipython3",
   "version": "3.8.5"
  }
 },
 "nbformat": 4,
 "nbformat_minor": 4
}
