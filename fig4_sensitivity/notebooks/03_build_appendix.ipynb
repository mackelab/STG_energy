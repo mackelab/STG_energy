{
 "cells": [
  {
   "cell_type": "markdown",
   "metadata": {},
   "source": [
    "# Figure 4 supplementary: regression analysis for LP and PY"
   ]
  },
  {
   "cell_type": "code",
   "execution_count": 1,
   "metadata": {},
   "outputs": [],
   "source": [
    "%load_ext autoreload\n",
    "%autoreload 2"
   ]
  },
  {
   "cell_type": "code",
   "execution_count": 2,
   "metadata": {},
   "outputs": [],
   "source": [
    "import numpy as np\n",
    "import matplotlib.pylab as plt\n",
    "import torch\n",
    "import time\n",
    "from copy import deepcopy\n",
    "import sys\n",
    "sys.path.append(\"../../../setup\")\n",
    "sys.path.append(\"../../../simulator\")\n",
    "sys.path.append(\"../../../inference\")\n",
    "sys.path.append(\"../../../utils\")\n",
    "sys.path.append(\"../model/\")\n",
    "sys.path.append('../../')\n",
    "\n",
    "from common import col, svg, samples_nd\n",
    "import netio\n",
    "import viz\n",
    "import importlib\n",
    "from compare_samples import get_dist, evaluate_summ_stats\n",
    "from find_pyloric import merge_samples, params_are_bounded\n",
    "import dill as pickle\n",
    "from find_pyloric import merge_datasets, merge_datasets_energy, find_pyloric_like, find_close_to_obs\n",
    "from energy import select_ss_close_to_obs\n",
    "\n",
    "import matplotlib as mpl\n",
    "\n",
    "from sbi.utils.regression_net.get_nn_classifier import classifier\n",
    "from sbi.utils.regression_net.train_classifier import fit_regression_net"
   ]
  },
  {
   "cell_type": "code",
   "execution_count": 3,
   "metadata": {},
   "outputs": [],
   "source": [
    "from helper_functions import prepare_data, regression_plot, get_gradient"
   ]
  },
  {
   "cell_type": "code",
   "execution_count": 4,
   "metadata": {},
   "outputs": [],
   "source": [
    "PANEL_A  = '../svg/panel_supp_a.svg'\n",
    "PANEL_B1 = '../svg/panel_supp_b1.svg'\n",
    "PANEL_B2 = '../svg/panel_supp_b2.svg'\n",
    "PANEL_C1 = '../svg/panel_supp_c1.svg'\n",
    "PANEL_C2 = '../svg/panel_supp_c2.svg'\n",
    "\n",
    "PANEL_D  = '../svg/panel_supp_d.svg'\n",
    "PANEL_E1 = '../svg/panel_supp_e1.svg'\n",
    "PANEL_E2 = '../svg/panel_supp_e2.svg'\n",
    "PANEL_F1 = '../svg/panel_supp_f1.svg'\n",
    "PANEL_F2 = '../svg/panel_supp_f2.svg'"
   ]
  },
  {
   "cell_type": "code",
   "execution_count": 5,
   "metadata": {},
   "outputs": [],
   "source": [
    "params_11 = netio.load_setup('collect_31D')\n",
    "pyloric_sim_11 = netio.create_simulators(params_11, save_all_energies=True)\n",
    "energy_calc = netio.create_energy(params_11)"
   ]
  },
  {
   "cell_type": "markdown",
   "metadata": {},
   "source": [
    "### Sort out the data from the cluster"
   ]
  },
  {
   "cell_type": "code",
   "execution_count": 6,
   "metadata": {},
   "outputs": [
    {
     "name": "stdout",
     "output_type": "stream",
     "text": [
      "There are 55043 datapoints in this dataset\n"
     ]
    }
   ],
   "source": [
    "outfile = '../../results/11deg_post_pred/11_deg_post_pred_close_to_obs.npz'\n",
    "data_n = np.load(outfile)\n",
    "sample_seeds = data_n[\"sample_seeds\"]\n",
    "sample_params = data_n[\"sample_params\"]\n",
    "sample_stats = data_n[\"sample_stats\"]\n",
    "print('There are', len(sample_seeds), 'datapoints in this dataset')"
   ]
  },
  {
   "cell_type": "markdown",
   "metadata": {},
   "source": [
    "# Train regression net"
   ]
  },
  {
   "cell_type": "markdown",
   "metadata": {},
   "source": [
    "### Prepare parameters"
   ]
  },
  {
   "cell_type": "code",
   "execution_count": 7,
   "metadata": {},
   "outputs": [],
   "source": [
    "num_test = 500\n",
    "\n",
    "test_params = sample_params[:num_test]\n",
    "train_params = sample_params[num_test:]\n",
    "mean_params = np.mean(train_params, axis=0)\n",
    "std_params = np.std(train_params, axis=0)\n",
    "\n",
    "train_params_norm = (train_params - mean_params) / std_params\n",
    "test_params_norm = (test_params - mean_params) / std_params"
   ]
  },
  {
   "cell_type": "markdown",
   "metadata": {},
   "source": [
    "# LP neuron"
   ]
  },
  {
   "cell_type": "markdown",
   "metadata": {},
   "source": [
    "### Prepare energy/spike"
   ]
  },
  {
   "cell_type": "code",
   "execution_count": 8,
   "metadata": {},
   "outputs": [],
   "source": [
    "all_energies_per_spike_LP = sample_stats[:, 19]"
   ]
  },
  {
   "cell_type": "code",
   "execution_count": 9,
   "metadata": {},
   "outputs": [],
   "source": [
    "numSpikesPerBurst_LP = sample_stats[:, -5] / sample_stats[:, -2]"
   ]
  },
  {
   "cell_type": "markdown",
   "metadata": {},
   "source": [
    "### Prepare number of spikes / burst"
   ]
  },
  {
   "cell_type": "code",
   "execution_count": 10,
   "metadata": {},
   "outputs": [],
   "source": [
    "(mean_energies_per_spike, \n",
    "std_energies_per_spike, \n",
    "train_energies_per_spike_norm,\n",
    "test_energies_per_spike_norm,\n",
    "mean_num_spikes,\n",
    "std_num_spikes,\n",
    "train_num_spikes_norm,\n",
    "test_num_spikes_norm) = prepare_data(all_energies_per_spike_LP, numSpikesPerBurst_LP, num_test)"
   ]
  },
  {
   "cell_type": "markdown",
   "metadata": {},
   "source": [
    "### Scatter spikes/burst against energy/spike"
   ]
  },
  {
   "cell_type": "code",
   "execution_count": 11,
   "metadata": {},
   "outputs": [
    {
     "data": {
      "image/png": "[encoded data removed]",
      "text/plain": [
       "<Figure size 200x100 with 1 Axes>"
      ]
     },
     "metadata": {},
     "output_type": "display_data"
    }
   ],
   "source": [
    "unnorm_x_vals, unnorm_y_regs, unnorm_x, unnorm_y = regression_plot(\n",
    "    mean_energies_per_spike, \n",
    "    std_energies_per_spike, \n",
    "    train_energies_per_spike_norm,\n",
    "    test_energies_per_spike_norm,\n",
    "    mean_num_spikes,\n",
    "    std_num_spikes,\n",
    "    train_num_spikes_norm,\n",
    "    test_num_spikes_norm\n",
    ")\n",
    "\n",
    "\n",
    "with mpl.rc_context(fname='../../.matplotlibrc'):\n",
    "    fig, ax = plt.subplots(1,1, figsize=(2,1.0))\n",
    "    ax.scatter(x=unnorm_x, y=unnorm_y, s=3, color='#2b8cbe')\n",
    "    ax.plot(unnorm_x_vals, unnorm_y_regs, '#e34a33')\n",
    "    ax.set_xlabel('Spikes / burst')\n",
    "    ax.set_ylabel('Energy / spike')\n",
    "    plt.savefig(PANEL_A, facecolor='None', transparent=True)\n",
    "    plt.show()"
   ]
  },
  {
   "cell_type": "markdown",
   "metadata": {},
   "source": [
    "### Train classifier"
   ]
  },
  {
   "cell_type": "code",
   "execution_count": 12,
   "metadata": {},
   "outputs": [],
   "source": [
    "nn = classifier(dim=31)"
   ]
  },
  {
   "cell_type": "code",
   "execution_count": 13,
   "metadata": {},
   "outputs": [],
   "source": [
    "# converged_nn = fit_regression_net(\n",
    "#     nn, \n",
    "#     train_params_norm, \n",
    "#     train_energies_per_spike_norm, \n",
    "#     num_train=train_params_norm.shape[0],\n",
    "#     batch_size=50, \n",
    "#     stop_after_epochs=10, \n",
    "#     max_epochs=200\n",
    "# )"
   ]
  },
  {
   "cell_type": "code",
   "execution_count": 14,
   "metadata": {},
   "outputs": [],
   "source": [
    "# np.savez('../../results/regression_nets/200821_predict_energyPerSpike_LP.npz', converged_nn=converged_nn)"
   ]
  },
  {
   "cell_type": "code",
   "execution_count": 15,
   "metadata": {},
   "outputs": [],
   "source": [
    "data = np.load('../../results/regression_nets/200821_predict_energyPerSpike_LP.npz', allow_pickle=True)\n",
    "converged_nn = data['converged_nn'].tolist()"
   ]
  },
  {
   "cell_type": "code",
   "execution_count": 16,
   "metadata": {},
   "outputs": [],
   "source": [
    "predictions = converged_nn.predict(torch.as_tensor(test_params_norm)).detach().numpy()"
   ]
  },
  {
   "cell_type": "code",
   "execution_count": 17,
   "metadata": {},
   "outputs": [
    {
     "data": {
      "image/png": "[encoded data removed]",
      "text/plain": [
       "<Figure size 200x150 with 1 Axes>"
      ]
     },
     "metadata": {},
     "output_type": "display_data"
    }
   ],
   "source": [
    "with mpl.rc_context(fname='../../.matplotlibrc'):\n",
    "    fig, ax = plt.subplots(1,1, figsize=(2,1.5))\n",
    "    unnorm_x = test_energies_per_spike_norm[:300] * std_energies_per_spike + mean_energies_per_spike\n",
    "    unnorm_y = predictions[:300] * std_energies_per_spike + mean_energies_per_spike\n",
    "    ax.scatter(x=unnorm_x, y=unnorm_y, s=3, color='#2b8cbe')\n",
    "    gt_vec = np.linspace(np.min(unnorm_x), np.max(unnorm_x), 2)\n",
    "    ax.plot(gt_vec, gt_vec, '#ff7f00')\n",
    "    ax.set_xlabel('Energy / spike')\n",
    "    ax.set_ylabel('Neural net prediction')\n",
    "    #plt.savefig(PANEL_B1, facecolor='None', transparent=True)"
   ]
  },
  {
   "cell_type": "markdown",
   "metadata": {},
   "source": [
    "### Get gradient wrt input"
   ]
  },
  {
   "cell_type": "code",
   "execution_count": 18,
   "metadata": {},
   "outputs": [],
   "source": [
    "cum_grad = get_gradient(converged_nn, test_params_norm)"
   ]
  },
  {
   "cell_type": "markdown",
   "metadata": {},
   "source": [
    "# Panel B: Sensitivity energy/spike"
   ]
  },
  {
   "cell_type": "code",
   "execution_count": 19,
   "metadata": {},
   "outputs": [
    {
     "data": {
      "image/png": "[encoded data removed]",
      "text/plain": [
       "<Figure size 160x80 with 1 Axes>"
      ]
     },
     "metadata": {},
     "output_type": "display_data"
    }
   ],
   "source": [
    "with mpl.rc_context(fname='../../.matplotlibrc'):\n",
    "    viz.all_sensitivity_bars(cum_grad, ylim=[-1,1], figsize=(1.6, 0.8))\n",
    "    plt.savefig(PANEL_B1, facecolor='None', transparent=True)\n",
    "    plt.show()"
   ]
  },
  {
   "cell_type": "code",
   "execution_count": 20,
   "metadata": {},
   "outputs": [
    {
     "data": {
      "image/png": "[encoded data removed]",
      "text/plain": [
       "<Figure size 160x80 with 1 Axes>"
      ]
     },
     "metadata": {},
     "output_type": "display_data"
    }
   ],
   "source": [
    "with mpl.rc_context(fname='../../.matplotlibrc'):\n",
    "    viz.single_neuron_sensitivity_bar(cum_grad, ylim=[-1,1], start=8, end=16, figsize=(1.6, 0.8), color='#fc8d59')\n",
    "    plt.savefig(PANEL_B2, facecolor='None', transparent=True)\n",
    "    plt.show()"
   ]
  },
  {
   "cell_type": "markdown",
   "metadata": {},
   "source": [
    "# Panel C: sensitivity number of spikes"
   ]
  },
  {
   "cell_type": "code",
   "execution_count": 21,
   "metadata": {},
   "outputs": [],
   "source": [
    "nn = classifier(dim=31)"
   ]
  },
  {
   "cell_type": "code",
   "execution_count": 22,
   "metadata": {},
   "outputs": [],
   "source": [
    "# converged_nn_num_spikes = fit_regression_net(\n",
    "#     nn,\n",
    "#     train_params_norm,\n",
    "#     train_num_spikes_norm,\n",
    "#     num_train=train_params_norm.shape[0],\n",
    "#     batch_size=50,\n",
    "#     stop_after_epochs=10,\n",
    "#     max_epochs=200\n",
    "# )"
   ]
  },
  {
   "cell_type": "code",
   "execution_count": 23,
   "metadata": {},
   "outputs": [],
   "source": [
    "# np.savez('../../results/regression_nets/200821_predict_numSpikes_LP.npz', converged_nn=converged_nn_num_spikes)"
   ]
  },
  {
   "cell_type": "code",
   "execution_count": 24,
   "metadata": {},
   "outputs": [],
   "source": [
    "data = np.load('../../results/regression_nets/200821_predict_numSpikes_LP.npz', allow_pickle=True)\n",
    "converged_nn_num_spikes = data['converged_nn'].tolist()"
   ]
  },
  {
   "cell_type": "code",
   "execution_count": 25,
   "metadata": {},
   "outputs": [],
   "source": [
    "predictions = converged_nn_num_spikes.predict(torch.as_tensor(test_params_norm)).detach().numpy()"
   ]
  },
  {
   "cell_type": "code",
   "execution_count": 26,
   "metadata": {},
   "outputs": [
    {
     "data": {
      "image/png": "[encoded data removed]",
      "text/plain": [
       "<Figure size 200x150 with 1 Axes>"
      ]
     },
     "metadata": {},
     "output_type": "display_data"
    }
   ],
   "source": [
    "with mpl.rc_context(fname='../../.matplotlibrc'):\n",
    "    fig, ax = plt.subplots(1,1, figsize=(2,1.5))\n",
    "    unnorm_x = test_num_spikes_norm[:300] * std_num_spikes + mean_num_spikes\n",
    "    unnorm_y = predictions[:300] * std_num_spikes + mean_num_spikes\n",
    "    ax.scatter(x=unnorm_x, y=unnorm_y, s=3, color='#2b8cbe')\n",
    "    gt_vec = np.linspace(np.min(unnorm_x), np.max(unnorm_x), 2)\n",
    "    ax.plot(gt_vec, gt_vec, '#ff7f00')\n",
    "    ax.set_xlabel('Spikes per burst')\n",
    "    ax.set_ylabel('Neural net prediction')\n",
    "    #plt.savefig(PANEL_supp2, facecolor='None', transparent=True)"
   ]
  },
  {
   "cell_type": "markdown",
   "metadata": {},
   "source": [
    "### Get gradient wrt output"
   ]
  },
  {
   "cell_type": "code",
   "execution_count": 27,
   "metadata": {},
   "outputs": [],
   "source": [
    "cum_grad = get_gradient(converged_nn_num_spikes, test_params_norm)"
   ]
  },
  {
   "cell_type": "code",
   "execution_count": 28,
   "metadata": {},
   "outputs": [
    {
     "data": {
      "image/png": "[encoded data removed]",
      "text/plain": [
       "<Figure size 160x80 with 1 Axes>"
      ]
     },
     "metadata": {},
     "output_type": "display_data"
    }
   ],
   "source": [
    "with mpl.rc_context(fname='../../.matplotlibrc'):\n",
    "    viz.all_sensitivity_bars(cum_grad, ylim=[-1.5, 1.5], figsize=(1.6, 0.8))\n",
    "    plt.savefig(PANEL_C1, facecolor='None', transparent=True)\n",
    "    plt.show()"
   ]
  },
  {
   "cell_type": "code",
   "execution_count": 29,
   "metadata": {},
   "outputs": [
    {
     "data": {
      "image/png": "[encoded data removed]",
      "text/plain": [
       "<Figure size 160x80 with 1 Axes>"
      ]
     },
     "metadata": {},
     "output_type": "display_data"
    }
   ],
   "source": [
    "with mpl.rc_context(fname='../../.matplotlibrc'):\n",
    "    viz.single_neuron_sensitivity_bar(cum_grad, ylim=[-1.5,1.5], start=8, end=16, figsize=(1.6, 0.8), color='#fc8d59')\n",
    "    plt.savefig(PANEL_C2, facecolor='None', transparent=True)\n",
    "    plt.show()"
   ]
  },
  {
   "cell_type": "markdown",
   "metadata": {},
   "source": [
    "# PY neuron"
   ]
  },
  {
   "cell_type": "code",
   "execution_count": 30,
   "metadata": {},
   "outputs": [],
   "source": [
    "all_energies_per_spike_PY = sample_stats[:, 20]"
   ]
  },
  {
   "cell_type": "code",
   "execution_count": 31,
   "metadata": {},
   "outputs": [],
   "source": [
    "numSpikesPerBurst_PY = sample_stats[:, -4] / sample_stats[:, -1]"
   ]
  },
  {
   "cell_type": "code",
   "execution_count": 32,
   "metadata": {},
   "outputs": [],
   "source": [
    "(mean_energies_per_spike, \n",
    "std_energies_per_spike, \n",
    "train_energies_per_spike_norm,\n",
    "test_energies_per_spike_norm,\n",
    "mean_num_spikes,\n",
    "std_num_spikes,\n",
    "train_num_spikes_norm,\n",
    "test_num_spikes_norm) = prepare_data(all_energies_per_spike_PY, numSpikesPerBurst_PY, num_test)"
   ]
  },
  {
   "cell_type": "code",
   "execution_count": 34,
   "metadata": {},
   "outputs": [
    {
     "data": {
      "image/png": "[encoded data removed]",
      "text/plain": [
       "<Figure size 200x100 with 1 Axes>"
      ]
     },
     "metadata": {},
     "output_type": "display_data"
    }
   ],
   "source": [
    "unnorm_x_vals, unnorm_y_regs, unnorm_x, unnorm_y = regression_plot(\n",
    "    mean_energies_per_spike, \n",
    "    std_energies_per_spike, \n",
    "    train_energies_per_spike_norm,\n",
    "    test_energies_per_spike_norm,\n",
    "    mean_num_spikes,\n",
    "    std_num_spikes,\n",
    "    train_num_spikes_norm,\n",
    "    test_num_spikes_norm\n",
    ")\n",
    "\n",
    "with mpl.rc_context(fname='../../.matplotlibrc'):\n",
    "    fig, ax = plt.subplots(1,1, figsize=(2,1.0))\n",
    "    ax.scatter(x=unnorm_x, y=unnorm_y, s=3, color='#2b8cbe')\n",
    "    ax.plot(unnorm_x_vals, unnorm_y_regs, '#e34a33')\n",
    "    ax.set_xlabel('Spikes / burst')\n",
    "    ax.set_ylabel('Energy / spike')\n",
    "    plt.savefig(PANEL_D, facecolor='None', transparent=True)\n",
    "    plt.show()"
   ]
  },
  {
   "cell_type": "code",
   "execution_count": 35,
   "metadata": {},
   "outputs": [],
   "source": [
    "nn = classifier(dim=31)"
   ]
  },
  {
   "cell_type": "code",
   "execution_count": 36,
   "metadata": {},
   "outputs": [
    {
     "name": "stdout",
     "output_type": "stream",
     "text": [
      "Total number of trainable parameters 169001\n",
      "Training loss   0.0016774101625409129\n",
      "validation loss 0.0003614936751252899\n",
      "Training loss   0.00045256442014157417\n",
      "validation loss 0.00029227529864973373\n",
      "Training loss   0.0003288580279103984\n",
      "validation loss 0.00028585265676544743\n",
      "Training loss   0.0002833388798357585\n",
      "validation loss 0.0001859637534742668\n",
      "Training loss   0.00025524692109221654\n",
      "validation loss 0.00016349896875668513\n",
      "Training loss   0.0002277507312286061\n",
      "validation loss 0.00017359426196435795\n",
      "Training loss   0.00021128473816435107\n",
      "validation loss 0.0001474525629671668\n",
      "Training loss   0.00019824145970665885\n",
      "validation loss 0.00014590022378660036\n",
      "Training loss   0.00018677004896090068\n",
      "validation loss 0.00012387404424043613\n",
      "Training loss   0.00017823965115934998\n",
      "validation loss 0.00012469996457473877\n",
      "Training loss   0.00017154336415543592\n",
      "validation loss 0.00013595824829865279\n",
      "Training loss   0.00016371368779193713\n",
      "validation loss 0.000112570240866567\n",
      "Training loss   0.00015917936918598017\n",
      "validation loss 0.00010700299441694912\n",
      "Training loss   0.00015655645011409522\n",
      "validation loss 0.0001480532654302449\n",
      "Training loss   0.00015418139787915533\n",
      "validation loss 0.00013959011230293378\n",
      "Training loss   0.00014525834470550952\n",
      "validation loss 0.0001062084220931972\n",
      "Training loss   0.00014518934011638755\n",
      "validation loss 0.00012076758663490155\n",
      "Training loss   0.00013785510133230037\n",
      "validation loss 9.236086134762119e-05\n",
      "Training loss   0.00013956365452942287\n",
      "validation loss 9.559364020517122e-05\n",
      "Training loss   0.0001342200151808152\n",
      "validation loss 0.00010082556884889478\n",
      "Training loss   0.00012951784730944532\n",
      "validation loss 9.152473449471426e-05\n",
      "Training loss   0.00013263840505412677\n",
      "validation loss 9.269519610028273e-05\n",
      "Training loss   0.00012913358975134303\n",
      "validation loss 9.820332806591563e-05\n",
      "Training loss   0.0001278250492190805\n",
      "validation loss 9.097202318634302e-05\n",
      "Training loss   0.0001264200210057703\n",
      "validation loss 9.170967121339659e-05\n",
      "Training loss   0.0001240303621531124\n",
      "validation loss 0.00010749229127976541\n",
      "Training loss   0.00012388815260343141\n",
      "validation loss 9.332401374923484e-05\n",
      "Training loss   0.00011648975936744123\n",
      "validation loss 8.460938956974352e-05\n",
      "Training loss   0.00012149437283146553\n",
      "validation loss 9.036463664846339e-05\n",
      "Training loss   0.00011888092181523833\n",
      "validation loss 8.761606377222525e-05\n",
      "Training loss   0.00011570713018122429\n",
      "validation loss 8.449994945705729e-05\n",
      "Training loss   0.0001198018143686461\n",
      "validation loss 8.549447656685092e-05\n",
      "Training loss   0.00011773548864459664\n",
      "validation loss 8.808927722343548e-05\n",
      "Training loss   0.00011358384619059582\n",
      "validation loss 8.673525359234018e-05\n",
      "Training loss   0.00011583116954930778\n",
      "validation loss 8.318930811835171e-05\n",
      "Training loss   0.00011421631771143064\n",
      "validation loss 0.00011133933341682067\n",
      "Training loss   0.0001120584355036018\n",
      "validation loss 8.139609535054861e-05\n",
      "Training loss   0.00011185900196785198\n",
      "validation loss 8.346162628430249e-05\n",
      "Training loss   0.00011248857083693897\n",
      "validation loss 8.811232999673985e-05\n",
      "Training loss   0.0001097970369827525\n",
      "validation loss 8.460773807275088e-05\n",
      "Training loss   0.00010929545128318912\n",
      "validation loss 8.6203140956132e-05\n",
      "Training loss   0.00010815330217815155\n",
      "validation loss 8.206820701471744e-05\n",
      "Training loss   0.0001095862997772794\n",
      "validation loss 8.131612631544388e-05\n",
      "Training loss   0.00010653646319277093\n",
      "validation loss 7.9139093010525e-05\n",
      "Training loss   0.00010523143901603965\n",
      "validation loss 7.872467213519444e-05\n",
      "Training loss   0.00010590215435034472\n",
      "validation loss 8.678514603013215e-05\n",
      "Training loss   0.0001054310092155227\n",
      "validation loss 8.137543249523608e-05\n",
      "Training loss   0.00010501697157792922\n",
      "validation loss 8.150318541028814e-05\n",
      "Training loss   0.00010593156078047934\n",
      "validation loss 8.408416849650668e-05\n",
      "Training loss   0.0001014522381475861\n",
      "validation loss 7.864971460363085e-05\n",
      "Training loss   0.00010353972298484201\n",
      "validation loss 8.100062347504658e-05\n",
      "Training loss   0.00010060088542863988\n",
      "validation loss 7.935317948556187e-05\n",
      "Training loss   0.00010280365272017358\n",
      "validation loss 8.358055009488716e-05\n",
      "Training loss   0.00010140040620342684\n",
      "validation loss 8.417098873869391e-05\n",
      "Training loss   9.83118530697861e-05\n",
      "validation loss 7.686783494743647e-05\n",
      "Training loss   0.00010071169951528956\n",
      "validation loss 8.305470836045789e-05\n",
      "Training loss   9.805044092310728e-05\n",
      "validation loss 8.279186179204123e-05\n",
      "Training loss   9.797485705168424e-05\n",
      "validation loss 7.588379872547963e-05\n",
      "Training loss   9.877083056946416e-05\n",
      "validation loss 7.975090527266782e-05\n",
      "Training loss   9.759265983702932e-05\n",
      "validation loss 7.696977249277529e-05\n",
      "Training loss   9.850924596266875e-05\n",
      "validation loss 8.687485574115508e-05\n",
      "Training loss   9.78232849619603e-05\n",
      "validation loss 8.156188146068649e-05\n",
      "Training loss   9.990202171948551e-05\n",
      "validation loss 7.857323780410012e-05\n",
      "Training loss   9.582005297472049e-05\n",
      "validation loss 7.706478265422293e-05\n",
      "Training loss   9.732774550016958e-05\n",
      "validation loss 7.7263687482901e-05\n",
      "Training loss   9.621769972251424e-05\n",
      "validation loss 7.5715883740836e-05\n",
      "Training loss   9.502968453167955e-05\n",
      "validation loss 7.569541097008286e-05\n",
      "Training loss   9.584991827635538e-05\n",
      "validation loss 7.745939284293314e-05\n",
      "Training loss   9.668276787461103e-05\n",
      "validation loss 7.513756434818154e-05\n",
      "Training loss   9.63126791886165e-05\n",
      "validation loss 8.139730224985113e-05\n",
      "Training loss   9.467224422526182e-05\n",
      "validation loss 7.997524774548837e-05\n",
      "Training loss   9.341645466554664e-05\n",
      "validation loss 7.697724849053963e-05\n",
      "Training loss   9.333698532603726e-05\n",
      "validation loss 8.164817861287311e-05\n",
      "Training loss   9.528404528411659e-05\n",
      "validation loss 7.559390918724751e-05\n",
      "Training loss   9.340120640939565e-05\n",
      "validation loss 7.618101028594044e-05\n",
      "Training loss   9.163354909788703e-05\n",
      "validation loss 7.979652597240278e-05\n",
      "Training loss   9.319612950763836e-05\n",
      "validation loss 7.959126275439092e-05\n",
      "Training loss   9.240711674767648e-05\n",
      "validation loss 7.878548807552466e-05\n",
      "Training loss   9.154698006486833e-05\n",
      "validation loss 7.660640055769551e-05\n"
     ]
    }
   ],
   "source": [
    "converged_nn = fit_regression_net(\n",
    "    nn,\n",
    "    train_params_norm,\n",
    "    train_energies_per_spike_norm,\n",
    "    num_train=train_params_norm.shape[0],\n",
    "    batch_size=50,\n",
    "    stop_after_epochs=10,\n",
    "    max_epochs=200\n",
    ")"
   ]
  },
  {
   "cell_type": "code",
   "execution_count": 37,
   "metadata": {},
   "outputs": [],
   "source": [
    "np.savez('../../results/regression_nets/200821_predict_energyPerSpike_PY.npz', converged_nn=converged_nn)"
   ]
  },
  {
   "cell_type": "code",
   "execution_count": 38,
   "metadata": {},
   "outputs": [],
   "source": [
    "data = np.load('../../results/regression_nets/200821_predict_energyPerSpike_PY.npz', allow_pickle=True)\n",
    "converged_nn = data['converged_nn'].tolist()"
   ]
  },
  {
   "cell_type": "code",
   "execution_count": 39,
   "metadata": {},
   "outputs": [],
   "source": [
    "predictions = converged_nn.predict(torch.as_tensor(test_params_norm)).detach().numpy()"
   ]
  },
  {
   "cell_type": "code",
   "execution_count": 40,
   "metadata": {},
   "outputs": [
    {
     "data": {
      "image/png": "[encoded data removed]",
      "text/plain": [
       "<Figure size 200x150 with 1 Axes>"
      ]
     },
     "metadata": {},
     "output_type": "display_data"
    }
   ],
   "source": [
    "with mpl.rc_context(fname='../../.matplotlibrc'):\n",
    "    fig, ax = plt.subplots(1,1, figsize=(2,1.5))\n",
    "    unnorm_x = test_energies_per_spike_norm[:300] * std_energies_per_spike + mean_energies_per_spike\n",
    "    unnorm_y = predictions[:300] * std_energies_per_spike + mean_energies_per_spike\n",
    "    ax.scatter(x=unnorm_x, y=unnorm_y, s=3, color='#2b8cbe')\n",
    "    gt_vec = np.linspace(np.min(unnorm_x), np.max(unnorm_x), 2)\n",
    "    ax.plot(gt_vec, gt_vec, '#ff7f00')\n",
    "    ax.set_xlabel('Energy / spike')\n",
    "    ax.set_ylabel('Neural net prediction')\n",
    "    #plt.savefig(PANEL_supp1, facecolor='None', transparent=True)"
   ]
  },
  {
   "cell_type": "code",
   "execution_count": 41,
   "metadata": {},
   "outputs": [],
   "source": [
    "cum_grad = get_gradient(converged_nn, test_params_norm)"
   ]
  },
  {
   "cell_type": "code",
   "execution_count": 42,
   "metadata": {},
   "outputs": [
    {
     "data": {
      "image/png": "[encoded data removed]",
      "text/plain": [
       "<Figure size 160x80 with 1 Axes>"
      ]
     },
     "metadata": {},
     "output_type": "display_data"
    }
   ],
   "source": [
    "with mpl.rc_context(fname='../../.matplotlibrc'):\n",
    "    viz.all_sensitivity_bars(cum_grad, ylim=[-1,1], figsize=(1.6, 0.8))\n",
    "    plt.savefig(PANEL_E1, facecolor='None', transparent=True)\n",
    "    plt.show()"
   ]
  },
  {
   "cell_type": "code",
   "execution_count": 43,
   "metadata": {},
   "outputs": [
    {
     "data": {
      "image/png": "[encoded data removed]",
      "text/plain": [
       "<Figure size 160x80 with 1 Axes>"
      ]
     },
     "metadata": {},
     "output_type": "display_data"
    }
   ],
   "source": [
    "with mpl.rc_context(fname='../../.matplotlibrc'):\n",
    "    viz.single_neuron_sensitivity_bar(cum_grad, ylim=[-1,1], start=16, end=24, figsize=(1.6, 0.8), color='#2ca25f')\n",
    "    plt.savefig(PANEL_E2, facecolor='None', transparent=True)\n",
    "    plt.show()"
   ]
  },
  {
   "cell_type": "code",
   "execution_count": 44,
   "metadata": {},
   "outputs": [],
   "source": [
    "nn = classifier(dim=31)"
   ]
  },
  {
   "cell_type": "code",
   "execution_count": 45,
   "metadata": {},
   "outputs": [
    {
     "name": "stdout",
     "output_type": "stream",
     "text": [
      "Total number of trainable parameters 169001\n",
      "Training loss   0.0038939139611759216\n",
      "validation loss 0.0009487219270929954\n",
      "Training loss   0.0012657787797139592\n",
      "validation loss 0.0005709065581944205\n",
      "Training loss   0.0009043979433239493\n",
      "validation loss 0.00048593594944471615\n",
      "Training loss   0.0007757814768780718\n",
      "validation loss 0.0004242739031530104\n",
      "Training loss   0.0006943578731145399\n",
      "validation loss 0.00043232365281728295\n",
      "Training loss   0.0006740918994524226\n",
      "validation loss 0.00042930622367439304\n",
      "Training loss   0.0006094893486024399\n",
      "validation loss 0.00040963131330026386\n",
      "Training loss   0.0005930912897362334\n",
      "validation loss 0.00033770443583086584\n",
      "Training loss   0.0005630417651613091\n",
      "validation loss 0.00035004045244043405\n",
      "Training loss   0.0005496584179025262\n",
      "validation loss 0.0004962132021265769\n",
      "Training loss   0.0005281485925539976\n",
      "validation loss 0.00032156125098589797\n",
      "Training loss   0.0005263351188385811\n",
      "validation loss 0.00048434461076854023\n",
      "Training loss   0.0004996285090082406\n",
      "validation loss 0.00034361404719345076\n",
      "Training loss   0.0004884859151556005\n",
      "validation loss 0.00036009053514432076\n",
      "Training loss   0.000483790987393287\n",
      "validation loss 0.00028466495329310977\n",
      "Training loss   0.00047792766586697696\n",
      "validation loss 0.00029938978157548267\n",
      "Training loss   0.00046105421645851563\n",
      "validation loss 0.00029453494219838425\n",
      "Training loss   0.00044615988293981404\n",
      "validation loss 0.0002936133261220265\n",
      "Training loss   0.0004455046684047416\n",
      "validation loss 0.0002705222006808663\n",
      "Training loss   0.0004475977063439167\n",
      "validation loss 0.0002797335343594184\n",
      "Training loss   0.00043092819889691675\n",
      "validation loss 0.0002491873368026738\n",
      "Training loss   0.0004227161268497067\n",
      "validation loss 0.0002618302176275404\n",
      "Training loss   0.0004338185939668572\n",
      "validation loss 0.00025794392146040386\n",
      "Training loss   0.00041144207907718277\n",
      "validation loss 0.0002560148048056691\n",
      "Training loss   0.00041706655664174274\n",
      "validation loss 0.00026109247023664843\n",
      "Training loss   0.0004148324035726441\n",
      "validation loss 0.0002439534902832139\n",
      "Training loss   0.0004166295814481649\n",
      "validation loss 0.0002598892829929821\n",
      "Training loss   0.0004041877904126112\n",
      "validation loss 0.00025906512901309865\n",
      "Training loss   0.0004043495723167331\n",
      "validation loss 0.0002508245879744959\n",
      "Training loss   0.0004027733480279435\n",
      "validation loss 0.0003659065500393469\n",
      "Training loss   0.00039392024546494646\n",
      "validation loss 0.00026165021141251764\n",
      "Training loss   0.0003829422012261981\n",
      "validation loss 0.00025568678659258033\n",
      "Training loss   0.0003863583480572872\n",
      "validation loss 0.0002524410861038102\n",
      "Training loss   0.00038689599678700797\n",
      "validation loss 0.00023974004089764015\n",
      "Training loss   0.00038203977339549205\n",
      "validation loss 0.0002373521619986002\n",
      "Training loss   0.0003802907498849518\n",
      "validation loss 0.00025573342903683645\n",
      "Training loss   0.00037632167872148927\n",
      "validation loss 0.0002412615186858352\n",
      "Training loss   0.00036514775260324884\n",
      "validation loss 0.0002424153555645569\n",
      "Training loss   0.0003754404573000857\n",
      "validation loss 0.0002544034489257198\n",
      "Training loss   0.00037280958874173574\n",
      "validation loss 0.0002579791914401909\n",
      "Training loss   0.0003781966542378262\n",
      "validation loss 0.00024646719060599203\n",
      "Training loss   0.0003573714229348844\n",
      "validation loss 0.00025153116670485813\n",
      "Training loss   0.000360796498030004\n",
      "validation loss 0.00023264699486638297\n",
      "Training loss   0.0003518194959832403\n",
      "validation loss 0.0002392757841062371\n",
      "Training loss   0.0003595652767609455\n",
      "validation loss 0.00023032895636793455\n",
      "Training loss   0.000365756206607766\n",
      "validation loss 0.00022705168028786356\n",
      "Training loss   0.00035792591544956445\n",
      "validation loss 0.00022216104816109297\n",
      "Training loss   0.0003540669327121862\n",
      "validation loss 0.00024251408489142724\n",
      "Training loss   0.0003506241801800146\n",
      "validation loss 0.00023251289517151774\n",
      "Training loss   0.0003498037668771318\n",
      "validation loss 0.0002204465288003031\n",
      "Training loss   0.00034558590310835186\n",
      "validation loss 0.00023729610653793888\n",
      "Training loss   0.0003422917814572728\n",
      "validation loss 0.00023607405399396592\n",
      "Training loss   0.0003433674338070015\n",
      "validation loss 0.00022699406838315981\n",
      "Training loss   0.0003412251525851163\n",
      "validation loss 0.0002219582820784106\n",
      "Training loss   0.00034042333070098603\n",
      "validation loss 0.00023759778462671338\n",
      "Training loss   0.00033447126177733953\n",
      "validation loss 0.00022512980353507178\n",
      "Training loss   0.00033997970710350977\n",
      "validation loss 0.00025389972582500424\n",
      "Training loss   0.00033565042559024084\n",
      "validation loss 0.00021365220845428548\n",
      "Training loss   0.0003401738179181587\n",
      "validation loss 0.00024240342294071707\n",
      "Training loss   0.0003322380555882738\n",
      "validation loss 0.00022315443122091915\n",
      "Training loss   0.0003305872515007256\n",
      "validation loss 0.00022212586969164508\n",
      "Training loss   0.000326098985115119\n",
      "validation loss 0.0002244863996331731\n",
      "Training loss   0.00033044482252447935\n",
      "validation loss 0.00022742594178257243\n",
      "Training loss   0.0003286363677209883\n",
      "validation loss 0.0002178208466267553\n",
      "Training loss   0.00032559648766549673\n",
      "validation loss 0.00021976973318540099\n",
      "Training loss   0.0003236263886034444\n",
      "validation loss 0.00022328395932557713\n",
      "Training loss   0.0003186458596785011\n",
      "validation loss 0.00022246494418049384\n",
      "Training loss   0.00032836554947338336\n",
      "validation loss 0.0002245105650211069\n"
     ]
    }
   ],
   "source": [
    "converged_nn_num_spikes = fit_regression_net(\n",
    "    nn,\n",
    "    train_params_norm,\n",
    "    train_num_spikes_norm,\n",
    "    num_train=train_params_norm.shape[0],\n",
    "    batch_size=50,\n",
    "    stop_after_epochs=10,\n",
    "    max_epochs=200\n",
    ")"
   ]
  },
  {
   "cell_type": "code",
   "execution_count": 46,
   "metadata": {},
   "outputs": [],
   "source": [
    "np.savez('../../results/regression_nets/200821_predict_numSpikes_PY.npz', converged_nn=converged_nn_num_spikes)"
   ]
  },
  {
   "cell_type": "code",
   "execution_count": 47,
   "metadata": {},
   "outputs": [],
   "source": [
    "data = np.load('../../results/regression_nets/200821_predict_numSpikes_PY.npz', allow_pickle=True)\n",
    "converged_nn_num_spikes = data['converged_nn'].tolist()"
   ]
  },
  {
   "cell_type": "code",
   "execution_count": 48,
   "metadata": {},
   "outputs": [],
   "source": [
    "predictions = converged_nn_num_spikes.predict(torch.as_tensor(test_params_norm)).detach().numpy()"
   ]
  },
  {
   "cell_type": "code",
   "execution_count": 49,
   "metadata": {},
   "outputs": [
    {
     "data": {
      "image/png": "[encoded data removed]",
      "text/plain": [
       "<Figure size 200x150 with 1 Axes>"
      ]
     },
     "metadata": {},
     "output_type": "display_data"
    }
   ],
   "source": [
    "with mpl.rc_context(fname='../../.matplotlibrc'):\n",
    "    fig, ax = plt.subplots(1,1, figsize=(2,1.5))\n",
    "    unnorm_x = test_num_spikes_norm[:300] * std_num_spikes + mean_num_spikes\n",
    "    unnorm_y = predictions[:300] * std_num_spikes + mean_num_spikes\n",
    "    ax.scatter(x=unnorm_x, y=unnorm_y, s=3, color='#2b8cbe')\n",
    "    gt_vec = np.linspace(np.min(unnorm_x), np.max(unnorm_x), 2)\n",
    "    ax.plot(gt_vec, gt_vec, '#ff7f00')\n",
    "    ax.set_xlabel('Spikes per burst')\n",
    "    ax.set_ylabel('Neural net prediction')\n",
    "    #plt.savefig(PANEL_supp2, facecolor='None', transparent=True)"
   ]
  },
  {
   "cell_type": "code",
   "execution_count": 50,
   "metadata": {},
   "outputs": [],
   "source": [
    "cum_grad = get_gradient(converged_nn_num_spikes, test_params_norm)"
   ]
  },
  {
   "cell_type": "code",
   "execution_count": 51,
   "metadata": {},
   "outputs": [
    {
     "data": {
      "image/png": "[encoded data removed]",
      "text/plain": [
       "<Figure size 160x80 with 1 Axes>"
      ]
     },
     "metadata": {},
     "output_type": "display_data"
    }
   ],
   "source": [
    "with mpl.rc_context(fname='../../.matplotlibrc'):\n",
    "    viz.all_sensitivity_bars(cum_grad, ylim=[-1.5, 1.5], figsize=(1.6, 0.8))\n",
    "    plt.savefig(PANEL_F1, facecolor='None', transparent=True)\n",
    "    plt.show()"
   ]
  },
  {
   "cell_type": "code",
   "execution_count": 52,
   "metadata": {},
   "outputs": [
    {
     "data": {
      "image/png": "[encoded data removed]",
      "text/plain": [
       "<Figure size 160x80 with 1 Axes>"
      ]
     },
     "metadata": {},
     "output_type": "display_data"
    }
   ],
   "source": [
    "with mpl.rc_context(fname='../../.matplotlibrc'):\n",
    "    viz.single_neuron_sensitivity_bar(cum_grad, ylim=[-1.5,1.5], start=16, end=24, figsize=(1.6, 0.8), color='#2ca25f')\n",
    "    plt.savefig(PANEL_F2, facecolor='None', transparent=True)\n",
    "    plt.show()"
   ]
  },
  {
   "cell_type": "markdown",
   "metadata": {},
   "source": [
    "# Assembe figure"
   ]
  },
  {
   "cell_type": "code",
   "execution_count": 54,
   "metadata": {},
   "outputs": [],
   "source": [
    "import time\n",
    "import IPython.display as IPd\n",
    "\n",
    "def svg(img):\n",
    "    IPd.display(IPd.HTML('<img src=\"{}\" / >'.format(img, time.time())))"
   ]
  },
  {
   "cell_type": "code",
   "execution_count": 58,
   "metadata": {},
   "outputs": [
    {
     "data": {
      "text/html": [
       "<img src=\"../fig/fig4_supp_LP_PY.svg\" / >"
      ],
      "text/plain": [
       "<IPython.core.display.HTML object>"
      ]
     },
     "metadata": {},
     "output_type": "display_data"
    }
   ],
   "source": [
    "from svgutils.compose import *\n",
    "\n",
    "# > Inkscape pixel is 1/90 of an inch, other software usually uses 1/72.\n",
    "# > http://www.inkscapeforum.com/viewtopic.php?f=6&t=5964\n",
    "svg_scale = 1.25  # set this to 1.25 for Inkscape, 1.0 otherwise\n",
    "factor_svg=5.5\n",
    "\n",
    "# Panel letters in Helvetica Neue, 12pt, Medium\n",
    "kwargs_text = {'size': '12pt', 'font': 'Arial', 'weight': '800'}\n",
    "kwargs_consistent = {'size': '10pt', 'font': 'Arial', 'weight': '500', 'color': '#AF99EF'}\n",
    "kwargs_consistent1 = {'size': '10pt', 'font': 'Arial', 'weight': '500', 'color': '#9E7DD5'}\n",
    "kwargs_inconsistent = {'size': '10pt', 'font': 'Arial', 'weight': '500', 'color': '#AF99EF'}\n",
    "kwargs_text8pt = {'size': '7.7pt', 'font': 'Arial'}\n",
    "\n",
    "right_shift = 65\n",
    "f = Figure(\"20.3cm\", \"7.9cm\",\n",
    "\n",
    "    Panel(\n",
    "         SVG(PANEL_A).scale(svg_scale).move(0, 0*factor_svg),\n",
    "         Text(\"a\", -2.0*factor_svg, 2.5*factor_svg, **kwargs_text),\n",
    "    ).move(2*factor_svg, 0.0*factor_svg),\n",
    "    \n",
    "    Panel(\n",
    "        SVG(PANEL_B1).scale(svg_scale).move(0*factor_svg, 0*factor_svg),\n",
    "        Text(\"b\", 0.0*factor_svg, 1.5*factor_svg, **kwargs_text),\n",
    "    ).move(0*factor_svg, 22.0*factor_svg),\n",
    "           \n",
    "    Panel(\n",
    "        SVG(PANEL_B2).scale(svg_scale).move(0*factor_svg, 0*factor_svg),\n",
    "    ).move(28*factor_svg, 22.0*factor_svg),\n",
    "    \n",
    "    Panel(\n",
    "          SVG(PANEL_C1).scale(svg_scale).move(0*factor_svg,0*factor_svg),\n",
    "          Text(\"c\", 0.0*factor_svg, 1.5*factor_svg, **kwargs_text),\n",
    "    ).move(0*factor_svg, 39*factor_svg),\n",
    "    \n",
    "    Panel(\n",
    "          SVG(PANEL_C2).scale(svg_scale).move(0*factor_svg,0*factor_svg),\n",
    "    ).move(28*factor_svg, 39*factor_svg),\n",
    "           \n",
    "    Panel(\n",
    "         SVG(PANEL_D).scale(svg_scale).move(0, 0*factor_svg),\n",
    "         Text(\"d\", -2.0*factor_svg, 2.5*factor_svg, **kwargs_text),\n",
    "    ).move((2+right_shift)*factor_svg, 0.0*factor_svg),\n",
    "    \n",
    "    Panel(\n",
    "        SVG(PANEL_E1).scale(svg_scale).move(0*factor_svg, 0*factor_svg),\n",
    "        Text(\"e\", 0.0*factor_svg, 1.5*factor_svg, **kwargs_text),\n",
    "    ).move(right_shift*factor_svg, 22.0*factor_svg),\n",
    "           \n",
    "    Panel(\n",
    "        SVG(PANEL_E2).scale(svg_scale).move(0*factor_svg, 0*factor_svg),\n",
    "    ).move((28+right_shift)*factor_svg, 22.0*factor_svg),\n",
    "    \n",
    "    Panel(\n",
    "          SVG(PANEL_F1).scale(svg_scale).move(0*factor_svg,0*factor_svg),\n",
    "          Text(\"f\", 0.0*factor_svg, 1.5*factor_svg, **kwargs_text),\n",
    "    ).move(right_shift*factor_svg, 39*factor_svg),\n",
    "    \n",
    "    Panel(\n",
    "          SVG(PANEL_F2).scale(svg_scale).move(0*factor_svg,0*factor_svg),\n",
    "    ).move((28+right_shift)*factor_svg, 39*factor_svg),\n",
    "    \n",
    ")\n",
    "\n",
    "!mkdir -p fig\n",
    "f.save(\"../fig/fig4_supp_LP_PY.svg\")\n",
    "svg('../fig/fig4_supp_LP_PY.svg')"
   ]
  },
  {
   "cell_type": "code",
   "execution_count": null,
   "metadata": {},
   "outputs": [],
   "source": [
    "\n",
    "\n",
    "\n",
    "\n",
    "\n",
    "\n",
    "\n",
    "\n",
    "\n",
    "\n",
    "\n",
    "\n",
    "\n",
    "\n",
    "\n",
    "\n",
    "\n",
    "\n",
    "\n",
    "\n",
    "\n",
    "\n",
    "\n",
    "\n",
    "\n",
    "\n",
    "\n",
    "\n",
    "\n",
    "\n",
    "\n",
    "\n",
    "\n",
    "\n",
    "\n",
    "\n",
    "\n"
   ]
  },
  {
   "cell_type": "markdown",
   "metadata": {},
   "source": [
    "# Assemble figure"
   ]
  },
  {
   "cell_type": "code",
   "execution_count": 71,
   "metadata": {},
   "outputs": [],
   "source": [
    "import time\n",
    "import IPython.display as IPd\n",
    "\n",
    "def svg(img):\n",
    "    IPd.display(IPd.HTML('<img src=\"{}\" / >'.format(img, time.time())))"
   ]
  },
  {
   "cell_type": "code",
   "execution_count": 72,
   "metadata": {},
   "outputs": [
    {
     "ename": "NameError",
     "evalue": "name 'Figure' is not defined",
     "output_type": "error",
     "traceback": [
      "\u001b[0;31m---------------------------------------------------------------------------\u001b[0m",
      "\u001b[0;31mNameError\u001b[0m                                 Traceback (most recent call last)",
      "\u001b[0;32m<ipython-input-72-319fa806b7d4>\u001b[0m in \u001b[0;36m<module>\u001b[0;34m\u001b[0m\n\u001b[1;32m     13\u001b[0m \u001b[0mkwargs_text8pt\u001b[0m \u001b[0;34m=\u001b[0m \u001b[0;34m{\u001b[0m\u001b[0;34m'size'\u001b[0m\u001b[0;34m:\u001b[0m \u001b[0;34m'7.7pt'\u001b[0m\u001b[0;34m,\u001b[0m \u001b[0;34m'font'\u001b[0m\u001b[0;34m:\u001b[0m \u001b[0;34m'Arial'\u001b[0m\u001b[0;34m}\u001b[0m\u001b[0;34m\u001b[0m\u001b[0;34m\u001b[0m\u001b[0m\n\u001b[1;32m     14\u001b[0m \u001b[0;34m\u001b[0m\u001b[0m\n\u001b[0;32m---> 15\u001b[0;31m f = Figure(\"20.3cm\", \"7.9cm\",\n\u001b[0m\u001b[1;32m     16\u001b[0m \u001b[0;34m\u001b[0m\u001b[0m\n\u001b[1;32m     17\u001b[0m     Panel(\n",
      "\u001b[0;31mNameError\u001b[0m: name 'Figure' is not defined"
     ]
    }
   ],
   "source": [
    "## from svgutils.compose import *\n",
    "\n",
    "# > Inkscape pixel is 1/90 of an inch, other software usually uses 1/72.\n",
    "# > http://www.inkscapeforum.com/viewtopic.php?f=6&t=5964\n",
    "svg_scale = 1.25  # set this to 1.25 for Inkscape, 1.0 otherwise\n",
    "factor_svg=5.5\n",
    "\n",
    "# Panel letters in Helvetica Neue, 12pt, Medium\n",
    "kwargs_text = {'size': '12pt', 'font': 'Arial', 'weight': '800'}\n",
    "kwargs_consistent = {'size': '10pt', 'font': 'Arial', 'weight': '500', 'color': '#AF99EF'}\n",
    "kwargs_consistent1 = {'size': '10pt', 'font': 'Arial', 'weight': '500', 'color': '#9E7DD5'}\n",
    "kwargs_inconsistent = {'size': '10pt', 'font': 'Arial', 'weight': '500', 'color': '#AF99EF'}\n",
    "kwargs_text8pt = {'size': '7.7pt', 'font': 'Arial'}\n",
    "\n",
    "f = Figure(\"20.3cm\", \"7.9cm\",\n",
    "\n",
    "    Panel(\n",
    "         SVG(PANEL_A).scale(svg_scale).move(0, 0*factor_svg),\n",
    "         Text(\"a\", -2.0*factor_svg, 2.5*factor_svg, **kwargs_text),\n",
    "    ).move(2*factor_svg, 0.0*factor_svg),\n",
    "    \n",
    "    Panel(\n",
    "        SVG(PANEL_B1).scale(svg_scale).move(0*factor_svg, 0*factor_svg),\n",
    "        Text(\"b\", 0.0*factor_svg, 1.5*factor_svg, **kwargs_text),\n",
    "    ).move(0*factor_svg, 22.0*factor_svg),\n",
    "           \n",
    "    Panel(\n",
    "        SVG(PANEL_B2).scale(svg_scale).move(0*factor_svg, 0*factor_svg),\n",
    "    ).move(28*factor_svg, 22.0*factor_svg),\n",
    "    \n",
    "    Panel(\n",
    "          SVG(PANEL_C1).scale(svg_scale).move(0*factor_svg,0*factor_svg),\n",
    "          Text(\"c\", 0.0*factor_svg, 1.5*factor_svg, **kwargs_text),\n",
    "    ).move(0*factor_svg, 39*factor_svg),\n",
    "    \n",
    "    Panel(\n",
    "          SVG(PANEL_C2).scale(svg_scale).move(0*factor_svg,0*factor_svg),\n",
    "    ).move(28*factor_svg, 39*factor_svg),\n",
    "    \n",
    ")\n",
    "\n",
    "!mkdir -p fig\n",
    "f.save(\"../fig/fig4.svg\")\n",
    "svg('../fig/fig4.svg')"
   ]
  },
  {
   "cell_type": "code",
   "execution_count": null,
   "metadata": {},
   "outputs": [],
   "source": []
  },
  {
   "cell_type": "code",
   "execution_count": null,
   "metadata": {},
   "outputs": [],
   "source": []
  },
  {
   "cell_type": "code",
   "execution_count": null,
   "metadata": {},
   "outputs": [],
   "source": []
  },
  {
   "cell_type": "code",
   "execution_count": null,
   "metadata": {},
   "outputs": [],
   "source": []
  },
  {
   "cell_type": "code",
   "execution_count": null,
   "metadata": {},
   "outputs": [],
   "source": []
  },
  {
   "cell_type": "code",
   "execution_count": null,
   "metadata": {},
   "outputs": [],
   "source": []
  },
  {
   "cell_type": "code",
   "execution_count": null,
   "metadata": {},
   "outputs": [],
   "source": []
  },
  {
   "cell_type": "code",
   "execution_count": null,
   "metadata": {},
   "outputs": [],
   "source": []
  }
 ],
 "metadata": {
  "kernelspec": {
   "display_name": "sbi_prinz",
   "language": "python",
   "name": "sbi_prinz"
  },
  "language_info": {
   "codemirror_mode": {
    "name": "ipython",
    "version": 3
   },
   "file_extension": ".py",
   "mimetype": "text/x-python",
   "name": "python",
   "nbconvert_exporter": "python",
   "pygments_lexer": "ipython3",
   "version": "3.8.2"
  }
 },
 "nbformat": 4,
 "nbformat_minor": 4
}
