{
 "cells": [
  {
   "cell_type": "markdown",
   "metadata": {},
   "source": [
    "### Sample flow to get posterior samples"
   ]
  },
  {
   "cell_type": "code",
   "execution_count": 1,
   "metadata": {},
   "outputs": [],
   "source": [
    "import torch\n",
    "import numpy as np\n",
    "\n",
    "from pyloric import simulate, create_prior, stats\n",
    "from joblib import delayed, Parallel\n",
    "from copy import deepcopy\n",
    "from multiprocessing import Pool\n",
    "import time"
   ]
  },
  {
   "cell_type": "code",
   "execution_count": 2,
   "metadata": {},
   "outputs": [],
   "source": [
    "_ = torch.manual_seed(123123)"
   ]
  },
  {
   "cell_type": "code",
   "execution_count": 3,
   "metadata": {},
   "outputs": [],
   "source": [
    "data = np.load('/home/michael/Documents/STG_energy/results/flow/200411_flow.npz', allow_pickle=True)"
   ]
  },
  {
   "cell_type": "code",
   "execution_count": 4,
   "metadata": {},
   "outputs": [],
   "source": [
    "flow = data['posterior'].tolist()\n",
    "prior = create_prior()"
   ]
  },
  {
   "cell_type": "code",
   "execution_count": null,
   "metadata": {},
   "outputs": [
    {
     "name": "stdout",
     "output_type": "stream",
     "text": [
      "Overall time for iteration 0 :    253.24006032943726\n",
      "Overall time for iteration 1 :    250.19604897499084\n",
      "Overall time for iteration 2 :    250.91529035568237\n",
      "Overall time for iteration 3 :    252.21217226982117\n",
      "Overall time for iteration 4 :    256.71840596199036\n",
      "Overall time for iteration 5 :    257.5032002925873\n",
      "Overall time for iteration 6 :    257.1373643875122\n",
      "Overall time for iteration 7 :    255.10482954978943\n",
      "Overall time for iteration 8 :    258.20604276657104\n",
      "Overall time for iteration 9 :    256.9612317085266\n",
      "Overall time for iteration 10 :    253.80482625961304\n",
      "Overall time for iteration 11 :    258.8806004524231\n",
      "Overall time for iteration 12 :    256.51437067985535\n",
      "Overall time for iteration 13 :    254.38720631599426\n",
      "Overall time for iteration 14 :    261.8491177558899\n",
      "Overall time for iteration 15 :    258.2046139240265\n"
     ]
    }
   ],
   "source": [
    "start_time = time.time()\n",
    "all_samples = []\n",
    "for k in range(2000):\n",
    "    start_time = time.time()\n",
    "    num_samples_per_iter = 2520\n",
    "    flow_samples = flow.sample(num_samples_per_iter)\n",
    "    flow_samples = flow_samples[torch.exp(flow.log_prob(flow_samples)) > 0.0]\n",
    "    \n",
    "    seeds = torch.randint(0, 10000, (num_samples_per_iter, 1))\n",
    "    params_with_seeds = torch.cat((flow_samples, seeds), axis=1).detach().numpy()\n",
    "    \n",
    "    def simulator(params_set):\n",
    "        out_target = simulate(\n",
    "            deepcopy(params_set[:-1].astype(np.float64)),\n",
    "            seed=int(params_set[-1]),\n",
    "        )\n",
    "        return stats(out_target)\n",
    "\n",
    "    simulation_outputs = Parallel(n_jobs=12)(\n",
    "        delayed(simulator)(batch)\n",
    "        for batch in params_with_seeds\n",
    "    )\n",
    "\n",
    "    simulation_outputs = np.asarray(simulation_outputs)\n",
    "    \n",
    "    np.savez(f\"../../results/11deg_post_pred/11deg_5million_predictives_for_temp/simulated/11deg_5million_predictives_for_temp_{k}.npz\", params=simulation_outputs, stats=simulation_outputs)\n",
    "    print(\"Overall time for iteration\", k, \":   \", time.time()-start_time)"
   ]
  },
  {
   "cell_type": "code",
   "execution_count": null,
   "metadata": {},
   "outputs": [],
   "source": []
  }
 ],
 "metadata": {
  "kernelspec": {
   "display_name": "sbi_prinz",
   "language": "python",
   "name": "sbi_prinz"
  },
  "language_info": {
   "codemirror_mode": {
    "name": "ipython",
    "version": 3
   },
   "file_extension": ".py",
   "mimetype": "text/x-python",
   "name": "python",
   "nbconvert_exporter": "python",
   "pygments_lexer": "ipython3",
   "version": "3.8.5"
  }
 },
 "nbformat": 4,
 "nbformat_minor": 4
}
