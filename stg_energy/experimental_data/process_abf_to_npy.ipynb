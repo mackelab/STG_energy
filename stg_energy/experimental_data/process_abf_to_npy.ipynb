{
 "cells": [
  {
   "cell_type": "markdown",
   "metadata": {},
   "source": [
    "# Read experimental data\n",
    "This notebook will not work as the full experimental data was removed from the repository.\n",
    "\n",
    "To run the notebook, you have to [download the data](https://zenodo.org/record/5139650#.YQAuzJMzZTZ) and move them to the folder `results/experimental_data/`. If you use the data, please make sure to attribute it properly (see the information [here](https://zenodo.org/record/5139650#.YQAuzJMzZTZ))."
   ]
  },
  {
   "cell_type": "code",
   "execution_count": 1,
   "metadata": {},
   "outputs": [],
   "source": [
    "%load_ext autoreload\n",
    "%autoreload 2"
   ]
  },
  {
   "cell_type": "code",
   "execution_count": 6,
   "metadata": {},
   "outputs": [],
   "source": [
    "%matplotlib inline"
   ]
  },
  {
   "cell_type": "code",
   "execution_count": 7,
   "metadata": {},
   "outputs": [],
   "source": [
    "import pyabf\n",
    "import numpy as np\n",
    "\n",
    "import experimental_data_utils as edu\n",
    "from summ_stats import PrinzExperimStats\n",
    "from read_data import reader, ABF_reader, ABF_reader_016, ABF_reader_078\n",
    "from stg_energy.common import reorder_stats"
   ]
  },
  {
   "cell_type": "markdown",
   "metadata": {},
   "source": [
    "# Create summary stats"
   ]
  },
  {
   "cell_type": "code",
   "execution_count": 8,
   "metadata": {},
   "outputs": [],
   "source": [
    "def read_data_get_stats(name, myreader):\n",
    "    datafile = \"../../results/experimental_data/\"+name+\".abf\"\n",
    "    abf = pyabf.ABF(datafile)\n",
    "    \n",
    "    r = myreader(datafile)\n",
    "    r.read_preparation(num=\"xxx\", case='spike', subtract_PD=True)\n",
    "\n",
    "    s = PrinzExperimStats(include_pyloric_ness=True, include_plateaus=True)\n",
    "    \n",
    "    summ_stats_experiment = s.calc(reader=r)[:-1]\n",
    "    stats = reorder_stats(summ_stats_experiment, new_to_old=False)\n",
    "    stats[0, 10] -= stats[0, 9]\n",
    "    return stats"
   ]
  },
  {
   "cell_type": "code",
   "execution_count": 37,
   "metadata": {},
   "outputs": [
    {
     "name": "stdout",
     "output_type": "stream",
     "text": [
      "cycle_lengths [1260.7 1262.5 1292.8 ... 1111.1 1114.  1108.9]\n",
      "len 128\n",
      "30.785379646838066\n",
      "1273.38\n",
      "cycle_lengths[:10] [1260.7 1262.5 1292.8 ... 1217.4 1302.4 1223.5]\n",
      "avg_cycle_length 1170.8585937500002\n",
      "cycle_lengths [1256.4 1289.7 1277.1 ... 1101.8 1121.9 1107. ]\n",
      "len 127\n",
      "15.852069265556688\n",
      "1276.93\n",
      "cycle_lengths[:10] [1256.4 1289.7 1277.1 ... 1249.9 1274.3 1265. ]\n",
      "avg_cycle_length 1170.8519685039373\n",
      "cycle_lengths [1236.4 1299.8 1285.  ... 1103.8 1125.1 1087.2]\n",
      "len 127\n",
      "21.762316053214466\n",
      "1275.64\n",
      "cycle_lengths[:10] [1236.4 1299.8 1285.  ... 1281.3 1246.6 1271.1]\n",
      "avg_cycle_length 1170.7496062992127\n"
     ]
    }
   ],
   "source": [
    "name = \"845_082_0044\"\n",
    "stats = read_data_get_stats(name, myreader=ABF_reader)\n",
    "# np.savez(f\"../../results/experimental_data/xo_11deg.npy\")"
   ]
  },
  {
   "cell_type": "code",
   "execution_count": 35,
   "metadata": {},
   "outputs": [
    {
     "data": {
      "text/plain": [
       "2.5"
      ]
     },
     "execution_count": 35,
     "metadata": {},
     "output_type": "execute_result"
    }
   ],
   "source": [
    "30 / 1200 * 100"
   ]
  },
  {
   "cell_type": "code",
   "execution_count": 31,
   "metadata": {},
   "outputs": [
    {
     "ename": "NameError",
     "evalue": "name 'cycle_lengths' is not defined",
     "output_type": "error",
     "traceback": [
      "\u001b[0;31m---------------------------------------------------------------------------\u001b[0m",
      "\u001b[0;31mNameError\u001b[0m                                 Traceback (most recent call last)",
      "\u001b[0;32m<ipython-input-31-ce86b2575bc5>\u001b[0m in \u001b[0;36m<module>\u001b[0;34m\u001b[0m\n\u001b[0;32m----> 1\u001b[0;31m \u001b[0mcycle_lengths\u001b[0m\u001b[0;34m\u001b[0m\u001b[0;34m\u001b[0m\u001b[0m\n\u001b[0m",
      "\u001b[0;31mNameError\u001b[0m: name 'cycle_lengths' is not defined"
     ]
    }
   ],
   "source": [
    "cycle_lengths"
   ]
  },
  {
   "cell_type": "code",
   "execution_count": 26,
   "metadata": {},
   "outputs": [
    {
     "data": {
      "text/plain": [
       "array([1170.8586,  206.0364,  214.307 ,  412.8422,    0.176 ])"
      ]
     },
     "execution_count": 26,
     "metadata": {},
     "output_type": "execute_result"
    }
   ],
   "source": [
    "stats[0][:5]"
   ]
  },
  {
   "cell_type": "markdown",
   "metadata": {},
   "source": [
    "# Save time traces"
   ]
  },
  {
   "cell_type": "markdown",
   "metadata": {},
   "source": [
    "### Save the first trace separately purely for backwards compatibility with the filenames"
   ]
  },
  {
   "cell_type": "code",
   "execution_count": 18,
   "metadata": {},
   "outputs": [
    {
     "name": "stdout",
     "output_type": "stream",
     "text": [
      "10000.0\n"
     ]
    }
   ],
   "source": [
    "name = \"845_082_0044\"\n",
    "\n",
    "datafile = \"../../results/experimental_data/\"+name+\".abf\"\n",
    "abf = pyabf.ABF(datafile)\n",
    "\n",
    "r = ABF_reader_078(datafile)\n",
    "r.read_preparation(num=\"xxx\", case='spike', subtract_PD=True)\n",
    "\n",
    "max_time = max([len(r.pdn), len(r.lpn), len(r.pyn)])\n",
    "\n",
    "np.savez(\n",
    "    f\"../../results/experimental_data/trace_data_{name}.npz\",\n",
    "    PD_spikes=r.PD_binary,\n",
    "    LP_spikes=r.LP_binary,\n",
    "    PY_spikes=r.PY_binary,\n",
    "    pdn=r.pdn,\n",
    "    lpn=r.lpn,\n",
    "    pyn=r.pyn,\n",
    "    t=np.arange(0, max_time) * r.dt\n",
    ")"
   ]
  },
  {
   "cell_type": "markdown",
   "metadata": {},
   "source": [
    "### Then all other traces"
   ]
  },
  {
   "cell_type": "code",
   "execution_count": null,
   "metadata": {},
   "outputs": [],
   "source": [
    "def save_trace(name, myreader):\n",
    "    datafile = \"../../results/experimental_data/\"+name+\".abf\"\n",
    "    abf = pyabf.ABF(datafile)\n",
    "\n",
    "    r = myreader(datafile)\n",
    "    r.read_preparation(num=\"xxx\", case='spike', subtract_PD=True)\n",
    "\n",
    "    max_time = max([len(r.pdn), len(r.lpn), len(r.pyn)])\n",
    "\n",
    "    np.savez(\n",
    "        f\"../../results/experimental_data/data_{name}.npz\",\n",
    "        PD_spikes=r.PD_binary,\n",
    "        LP_spikes=r.LP_binary,\n",
    "        PY_spikes=r.PY_binary,\n",
    "        pdn=r.pdn,\n",
    "        lpn=r.lpn,\n",
    "        pyn=r.pyn,\n",
    "        t=np.arange(0, max_time) * r.dt\n",
    "    )"
   ]
  },
  {
   "cell_type": "code",
   "execution_count": null,
   "metadata": {},
   "outputs": [],
   "source": [
    "name = \"845_082_0064\"\n",
    "save_trace(name, myreader=ABF_reader)\n",
    "\n",
    "name = \"845_078_0027\"\n",
    "save_trace(name, myreader=ABF_reader_078)\n",
    "name = \"845_078_0040\"\n",
    "v(name, myreader=ABF_reader_078)\n",
    "\n",
    "name = \"845_016_0049\"\n",
    "save_trace(name, myreader=ABF_reader_016)\n",
    "name = \"845_016_0069\"\n",
    "save_trace(name, myreader=ABF_reader_016)"
   ]
  },
  {
   "cell_type": "code",
   "execution_count": null,
   "metadata": {},
   "outputs": [],
   "source": [
    "\n",
    "\n",
    "\n",
    "\n",
    "\n",
    "\n",
    "\n",
    "\n",
    "\n",
    "\n",
    "\n",
    "\n",
    "\n",
    "\n",
    "\n",
    "\n",
    "\n",
    "\n",
    "\n",
    "\n",
    "\n",
    "\n",
    "\n",
    "\n",
    "\n",
    "\n",
    "\n",
    "\n",
    "\n",
    "\n",
    "\n",
    "\n",
    "\n",
    "\n",
    "\n",
    "\n",
    "\n",
    "\n",
    "\n",
    "\n",
    "\n",
    "\n",
    "\n",
    "\n",
    "\n",
    "\n",
    "\n",
    "\n",
    "\n",
    "\n",
    "\n",
    "\n",
    "\n",
    "\n",
    "\n",
    "\n",
    "\n",
    "\n",
    "\n",
    "\n",
    "\n",
    "\n",
    "\n"
   ]
  },
  {
   "cell_type": "code",
   "execution_count": null,
   "metadata": {},
   "outputs": [],
   "source": []
  },
  {
   "cell_type": "code",
   "execution_count": null,
   "metadata": {},
   "outputs": [],
   "source": []
  }
 ],
 "metadata": {
  "kernelspec": {
   "display_name": "Python 3",
   "language": "python",
   "name": "python3"
  },
  "language_info": {
   "codemirror_mode": {
    "name": "ipython",
    "version": 3
   },
   "file_extension": ".py",
   "mimetype": "text/x-python",
   "name": "python",
   "nbconvert_exporter": "python",
   "pygments_lexer": "ipython3",
   "version": "3.8.10"
  }
 },
 "nbformat": 4,
 "nbformat_minor": 4
}
