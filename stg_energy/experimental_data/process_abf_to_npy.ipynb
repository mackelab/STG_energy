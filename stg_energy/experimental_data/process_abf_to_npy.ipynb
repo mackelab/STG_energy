{
 "cells": [
  {
   "cell_type": "markdown",
   "metadata": {},
   "source": [
    "# Read experimental data\n",
    "This notebook will not work as the full experimental data was removed from the repository.\n",
    "\n",
    "To run the notebook, you have to [download the data](https://zenodo.org/record/5139650#.YQAuzJMzZTZ) and move them to the folder `results/experimental_data/`. If you use the data, please make sure to attribute it properly (see the information [here](https://zenodo.org/record/5139650#.YQAuzJMzZTZ))."
   ]
  },
  {
   "cell_type": "code",
   "execution_count": 1,
   "metadata": {},
   "outputs": [],
   "source": [
    "%load_ext autoreload\n",
    "%autoreload 2"
   ]
  },
  {
   "cell_type": "code",
   "execution_count": 2,
   "metadata": {},
   "outputs": [],
   "source": [
    "%matplotlib inline"
   ]
  },
  {
   "cell_type": "code",
   "execution_count": 3,
   "metadata": {},
   "outputs": [],
   "source": [
    "import pyabf\n",
    "import numpy as np\n",
    "\n",
    "import experimental_data_utils as edu\n",
    "from summ_stats import PrinzExperimStats\n",
    "from read_data import reader, ABF_reader, ABF_reader_016, ABF_reader_078\n",
    "from stg_energy.common import reorder_stats"
   ]
  },
  {
   "cell_type": "markdown",
   "metadata": {},
   "source": [
    "# Create summary stats"
   ]
  },
  {
   "cell_type": "code",
   "execution_count": 18,
   "metadata": {},
   "outputs": [],
   "source": [
    "def read_data_get_stats(name, myreader):\n",
    "    datafile = \"../../results/experimental_data/\"+name+\".abf\"\n",
    "    abf = pyabf.ABF(datafile)\n",
    "    \n",
    "    r = myreader(datafile)\n",
    "    r.read_preparation(num=\"xxx\", case='spike', subtract_PD=True)\n",
    "\n",
    "    s = PrinzExperimStats(include_pyloric_ness=True, include_plateaus=True)\n",
    "    \n",
    "    summ_stats_experiment = s.calc(reader=r)[:-1]\n",
    "    stats = reorder_stats(summ_stats_experiment, new_to_old=False)\n",
    "    stats[0, 10] -= stats[0, 9]\n",
    "    return stats"
   ]
  },
  {
   "cell_type": "code",
   "execution_count": 19,
   "metadata": {},
   "outputs": [
    {
     "name": "stdout",
     "output_type": "stream",
     "text": [
      "std of first ten:  55.014784273387775\n",
      "std of first ten:  51.982059064920485\n",
      "std of first ten:  52.931173367102055\n"
     ]
    }
   ],
   "source": [
    "name = \"845_082_0044\"\n",
    "stats = read_data_get_stats(name, myreader=ABF_reader)\n",
    "# np.savez(f\"../../results/experimental_data/xo_11deg.npy\")"
   ]
  },
  {
   "cell_type": "code",
   "execution_count": 20,
   "metadata": {},
   "outputs": [
    {
     "name": "stdout",
     "output_type": "stream",
     "text": [
      "10000.0\n",
      "std of first ten:  21.31374460566348\n",
      "std of first ten:  20.294017282102903\n",
      "std of first ten:  157.77021560403097\n"
     ]
    }
   ],
   "source": [
    "name = \"845_078_0027\"\n",
    "stats = read_data_get_stats(name, myreader=ABF_reader_078)"
   ]
  },
  {
   "cell_type": "code",
   "execution_count": 21,
   "metadata": {},
   "outputs": [
    {
     "name": "stdout",
     "output_type": "stream",
     "text": [
      "10000.0\n",
      "std of first ten:  64.47992697384808\n",
      "std of first ten:  287.2393547940728\n",
      "std of first ten:  67.92373227963323\n"
     ]
    }
   ],
   "source": [
    "name = \"857_016_0049\"\n",
    "stats = read_data_get_stats(name, myreader=ABF_reader_016)\n",
    "# np.savez(f\"../../results/experimental_data/xo_11deg.npy\")"
   ]
  },
  {
   "cell_type": "code",
   "execution_count": 23,
   "metadata": {},
   "outputs": [
    {
     "name": "stdout",
     "output_type": "stream",
     "text": [
      "53.309338901803436\n",
      "66.45932583059913\n",
      "139.88100468251804\n"
     ]
    }
   ],
   "source": [
    "print(np.mean([55.014784273387775, 51.982059064920485, 52.931173367102055]))\n",
    "print(np.mean([21.31374460566348, 20.294017282102903, 157.77021560403097]))\n",
    "print(np.mean([64.47992697384808, 287.2393547940728, 67.92373227963323]))"
   ]
  },
  {
   "cell_type": "code",
   "execution_count": 24,
   "metadata": {},
   "outputs": [],
   "source": [
    "vals = np.asarray([53.309338901803436, 66.45932583059913, 139.88100468251804])"
   ]
  },
  {
   "cell_type": "code",
   "execution_count": 25,
   "metadata": {},
   "outputs": [
    {
     "data": {
      "text/plain": [
       "86.54988980497353"
      ]
     },
     "execution_count": 25,
     "metadata": {},
     "output_type": "execute_result"
    }
   ],
   "source": [
    "np.mean(vals)"
   ]
  },
  {
   "cell_type": "code",
   "execution_count": 26,
   "metadata": {},
   "outputs": [
    {
     "data": {
      "text/plain": [
       "38.09099980851348"
      ]
     },
     "execution_count": 26,
     "metadata": {},
     "output_type": "execute_result"
    }
   ],
   "source": [
    "np.std(vals)"
   ]
  },
  {
   "cell_type": "markdown",
   "metadata": {},
   "source": [
    "# Save time traces"
   ]
  },
  {
   "cell_type": "markdown",
   "metadata": {},
   "source": [
    "### Save the first trace separately purely for backwards compatibility with the filenames"
   ]
  },
  {
   "cell_type": "code",
   "execution_count": 18,
   "metadata": {},
   "outputs": [
    {
     "name": "stdout",
     "output_type": "stream",
     "text": [
      "10000.0\n"
     ]
    }
   ],
   "source": [
    "name = \"845_082_0044\"\n",
    "\n",
    "datafile = \"../../results/experimental_data/\"+name+\".abf\"\n",
    "abf = pyabf.ABF(datafile)\n",
    "\n",
    "r = ABF_reader_078(datafile)\n",
    "r.read_preparation(num=\"xxx\", case='spike', subtract_PD=True)\n",
    "\n",
    "max_time = max([len(r.pdn), len(r.lpn), len(r.pyn)])\n",
    "\n",
    "np.savez(\n",
    "    f\"../../results/experimental_data/trace_data_{name}.npz\",\n",
    "    PD_spikes=r.PD_binary,\n",
    "    LP_spikes=r.LP_binary,\n",
    "    PY_spikes=r.PY_binary,\n",
    "    pdn=r.pdn,\n",
    "    lpn=r.lpn,\n",
    "    pyn=r.pyn,\n",
    "    t=np.arange(0, max_time) * r.dt\n",
    ")"
   ]
  },
  {
   "cell_type": "markdown",
   "metadata": {},
   "source": [
    "### Then all other traces"
   ]
  },
  {
   "cell_type": "code",
   "execution_count": null,
   "metadata": {},
   "outputs": [],
   "source": [
    "def save_trace(name, myreader):\n",
    "    datafile = \"../../results/experimental_data/\"+name+\".abf\"\n",
    "    abf = pyabf.ABF(datafile)\n",
    "\n",
    "    r = myreader(datafile)\n",
    "    r.read_preparation(num=\"xxx\", case='spike', subtract_PD=True)\n",
    "\n",
    "    max_time = max([len(r.pdn), len(r.lpn), len(r.pyn)])\n",
    "\n",
    "    np.savez(\n",
    "        f\"../../results/experimental_data/data_{name}.npz\",\n",
    "        PD_spikes=r.PD_binary,\n",
    "        LP_spikes=r.LP_binary,\n",
    "        PY_spikes=r.PY_binary,\n",
    "        pdn=r.pdn,\n",
    "        lpn=r.lpn,\n",
    "        pyn=r.pyn,\n",
    "        t=np.arange(0, max_time) * r.dt\n",
    "    )"
   ]
  },
  {
   "cell_type": "code",
   "execution_count": null,
   "metadata": {},
   "outputs": [],
   "source": [
    "name = \"845_082_0064\"\n",
    "save_trace(name, myreader=ABF_reader)\n",
    "\n",
    "name = \"845_078_0027\"\n",
    "save_trace(name, myreader=ABF_reader_078)\n",
    "name = \"845_078_0040\"\n",
    "v(name, myreader=ABF_reader_078)\n",
    "\n",
    "name = \"845_016_0049\"\n",
    "save_trace(name, myreader=ABF_reader_016)\n",
    "name = \"845_016_0069\"\n",
    "save_trace(name, myreader=ABF_reader_016)"
   ]
  },
  {
   "cell_type": "code",
   "execution_count": null,
   "metadata": {},
   "outputs": [],
   "source": [
    "\n",
    "\n",
    "\n",
    "\n",
    "\n",
    "\n",
    "\n",
    "\n",
    "\n",
    "\n",
    "\n",
    "\n",
    "\n",
    "\n",
    "\n",
    "\n",
    "\n",
    "\n",
    "\n",
    "\n",
    "\n",
    "\n",
    "\n",
    "\n",
    "\n",
    "\n",
    "\n",
    "\n",
    "\n",
    "\n",
    "\n",
    "\n",
    "\n",
    "\n",
    "\n",
    "\n",
    "\n",
    "\n",
    "\n",
    "\n",
    "\n",
    "\n",
    "\n",
    "\n",
    "\n",
    "\n",
    "\n",
    "\n",
    "\n",
    "\n",
    "\n",
    "\n",
    "\n",
    "\n",
    "\n",
    "\n",
    "\n",
    "\n",
    "\n",
    "\n",
    "\n",
    "\n",
    "\n"
   ]
  },
  {
   "cell_type": "code",
   "execution_count": null,
   "metadata": {},
   "outputs": [],
   "source": []
  },
  {
   "cell_type": "code",
   "execution_count": null,
   "metadata": {},
   "outputs": [],
   "source": []
  }
 ],
 "metadata": {
  "kernelspec": {
   "display_name": "Python 3",
   "language": "python",
   "name": "python3"
  },
  "language_info": {
   "codemirror_mode": {
    "name": "ipython",
    "version": 3
   },
   "file_extension": ".py",
   "mimetype": "text/x-python",
   "name": "python",
   "nbconvert_exporter": "python",
   "pygments_lexer": "ipython3",
   "version": "3.8.10"
  }
 },
 "nbformat": 4,
 "nbformat_minor": 4
}
