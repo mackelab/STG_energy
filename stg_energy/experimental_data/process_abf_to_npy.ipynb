{
 "cells": [
  {
   "cell_type": "markdown",
   "metadata": {},
   "source": [
    "# Read experimental data\n",
    "This notebook will not work as the full experimental data was removed from the repository.\n",
    "\n",
    "To run the notebook, you have to [download the data](https://zenodo.org/record/5139650#.YQAuzJMzZTZ) and move them to the folder `results/experimental_data/`. If you use the data, please make sure to attribute it properly (see the information [here](https://zenodo.org/record/5139650#.YQAuzJMzZTZ))."
   ]
  },
  {
   "cell_type": "code",
   "execution_count": 1,
   "metadata": {},
   "outputs": [],
   "source": [
    "%load_ext autoreload\n",
    "%autoreload 2"
   ]
  },
  {
   "cell_type": "code",
   "execution_count": 2,
   "metadata": {},
   "outputs": [],
   "source": [
    "%matplotlib inline"
   ]
  },
  {
   "cell_type": "code",
   "execution_count": 3,
   "metadata": {},
   "outputs": [],
   "source": [
    "import pyabf\n",
    "import numpy as np\n",
    "\n",
    "import experimental_data_utils as edu\n",
    "from summ_stats import PrinzExperimStats\n",
    "from read_data import reader, ABF_reader, ABF_reader_016, ABF_reader_078\n",
    "from stg_energy.common import reorder_stats"
   ]
  },
  {
   "cell_type": "markdown",
   "metadata": {},
   "source": [
    "# Create summary stats"
   ]
  },
  {
   "cell_type": "code",
   "execution_count": 4,
   "metadata": {},
   "outputs": [],
   "source": [
    "def read_data_get_stats(name, myreader):\n",
    "    datafile = \"../../results/experimental_data/\"+name+\".abf\"\n",
    "    abf = pyabf.ABF(datafile)\n",
    "    \n",
    "    r = myreader(datafile)\n",
    "    r.read_preparation(num=\"xxx\", case='spike', subtract_PD=True)\n",
    "\n",
    "    s = PrinzExperimStats(include_pyloric_ness=True, include_plateaus=True)\n",
    "    \n",
    "    summ_stats_experiment = s.calc(reader=r)[:-1]\n",
    "    stats = reorder_stats(summ_stats_experiment, new_to_old=False)\n",
    "    stats[0, 10] -= stats[0, 9]\n",
    "    return stats"
   ]
  },
  {
   "cell_type": "code",
   "execution_count": 5,
   "metadata": {},
   "outputs": [
    {
     "ename": "ValueError",
     "evalue": "ABF file does not exist: /home/michael/Documents/STG_energy/results/experimental_data/845_082_0044.abf",
     "output_type": "error",
     "traceback": [
      "\u001b[0;31m---------------------------------------------------------------------------\u001b[0m",
      "\u001b[0;31mValueError\u001b[0m                                Traceback (most recent call last)",
      "\u001b[0;32m<ipython-input-5-c6c32fd0bfb3>\u001b[0m in \u001b[0;36m<module>\u001b[0;34m\u001b[0m\n\u001b[1;32m      1\u001b[0m \u001b[0mname\u001b[0m \u001b[0;34m=\u001b[0m \u001b[0;34m\"845_082_0044\"\u001b[0m\u001b[0;34m\u001b[0m\u001b[0;34m\u001b[0m\u001b[0m\n\u001b[0;32m----> 2\u001b[0;31m \u001b[0mread_data_get_stats\u001b[0m\u001b[0;34m(\u001b[0m\u001b[0mname\u001b[0m\u001b[0;34m,\u001b[0m \u001b[0mmyreader\u001b[0m\u001b[0;34m=\u001b[0m\u001b[0mABF_reader\u001b[0m\u001b[0;34m)\u001b[0m\u001b[0;34m\u001b[0m\u001b[0;34m\u001b[0m\u001b[0m\n\u001b[0m\u001b[1;32m      3\u001b[0m \u001b[0;31m# np.savez(f\"../../results/experimental_data/xo_11deg.npy\")\u001b[0m\u001b[0;34m\u001b[0m\u001b[0;34m\u001b[0m\u001b[0;34m\u001b[0m\u001b[0m\n\u001b[1;32m      4\u001b[0m \u001b[0mname\u001b[0m \u001b[0;34m=\u001b[0m \u001b[0;34m\"845_082_0064\"\u001b[0m\u001b[0;34m\u001b[0m\u001b[0;34m\u001b[0m\u001b[0m\n\u001b[1;32m      5\u001b[0m \u001b[0mread_data_get_stats\u001b[0m\u001b[0;34m(\u001b[0m\u001b[0mname\u001b[0m\u001b[0;34m,\u001b[0m \u001b[0mmyreader\u001b[0m\u001b[0;34m=\u001b[0m\u001b[0mABF_reader\u001b[0m\u001b[0;34m)\u001b[0m\u001b[0;34m\u001b[0m\u001b[0;34m\u001b[0m\u001b[0m\n",
      "\u001b[0;32m<ipython-input-4-baee21bb24af>\u001b[0m in \u001b[0;36mread_data_get_stats\u001b[0;34m(name, myreader)\u001b[0m\n\u001b[1;32m      1\u001b[0m \u001b[0;32mdef\u001b[0m \u001b[0mread_data_get_stats\u001b[0m\u001b[0;34m(\u001b[0m\u001b[0mname\u001b[0m\u001b[0;34m,\u001b[0m \u001b[0mmyreader\u001b[0m\u001b[0;34m)\u001b[0m\u001b[0;34m:\u001b[0m\u001b[0;34m\u001b[0m\u001b[0;34m\u001b[0m\u001b[0m\n\u001b[1;32m      2\u001b[0m     \u001b[0mdatafile\u001b[0m \u001b[0;34m=\u001b[0m \u001b[0;34m\"../../results/experimental_data/\"\u001b[0m\u001b[0;34m+\u001b[0m\u001b[0mname\u001b[0m\u001b[0;34m+\u001b[0m\u001b[0;34m\".abf\"\u001b[0m\u001b[0;34m\u001b[0m\u001b[0;34m\u001b[0m\u001b[0m\n\u001b[0;32m----> 3\u001b[0;31m     \u001b[0mabf\u001b[0m \u001b[0;34m=\u001b[0m \u001b[0mpyabf\u001b[0m\u001b[0;34m.\u001b[0m\u001b[0mABF\u001b[0m\u001b[0;34m(\u001b[0m\u001b[0mdatafile\u001b[0m\u001b[0;34m)\u001b[0m\u001b[0;34m\u001b[0m\u001b[0;34m\u001b[0m\u001b[0m\n\u001b[0m\u001b[1;32m      4\u001b[0m \u001b[0;34m\u001b[0m\u001b[0m\n\u001b[1;32m      5\u001b[0m     \u001b[0mr\u001b[0m \u001b[0;34m=\u001b[0m \u001b[0mmyreader\u001b[0m\u001b[0;34m(\u001b[0m\u001b[0mdatafile\u001b[0m\u001b[0;34m)\u001b[0m\u001b[0;34m\u001b[0m\u001b[0;34m\u001b[0m\u001b[0m\n",
      "\u001b[0;32m~/anaconda3/envs/stg-energy/lib/python3.8/site-packages/pyabf/abf.py\u001b[0m in \u001b[0;36m__init__\u001b[0;34m(self, abfFilePath, loadData, cacheStimulusFiles, stimulusFileFolder)\u001b[0m\n\u001b[1;32m     72\u001b[0m \u001b[0;34m\u001b[0m\u001b[0m\n\u001b[1;32m     73\u001b[0m         \u001b[0;32mif\u001b[0m \u001b[0;32mnot\u001b[0m \u001b[0mos\u001b[0m\u001b[0;34m.\u001b[0m\u001b[0mpath\u001b[0m\u001b[0;34m.\u001b[0m\u001b[0mexists\u001b[0m\u001b[0;34m(\u001b[0m\u001b[0mself\u001b[0m\u001b[0;34m.\u001b[0m\u001b[0mabfFilePath\u001b[0m\u001b[0;34m)\u001b[0m\u001b[0;34m:\u001b[0m\u001b[0;34m\u001b[0m\u001b[0;34m\u001b[0m\u001b[0m\n\u001b[0;32m---> 74\u001b[0;31m             \u001b[0;32mraise\u001b[0m \u001b[0mValueError\u001b[0m\u001b[0;34m(\u001b[0m\u001b[0;34m\"ABF file does not exist: %s\"\u001b[0m \u001b[0;34m%\u001b[0m \u001b[0mself\u001b[0m\u001b[0;34m.\u001b[0m\u001b[0mabfFilePath\u001b[0m\u001b[0;34m)\u001b[0m\u001b[0;34m\u001b[0m\u001b[0;34m\u001b[0m\u001b[0m\n\u001b[0m\u001b[1;32m     75\u001b[0m         \u001b[0mself\u001b[0m\u001b[0;34m.\u001b[0m\u001b[0mabfID\u001b[0m \u001b[0;34m=\u001b[0m \u001b[0mos\u001b[0m\u001b[0;34m.\u001b[0m\u001b[0mpath\u001b[0m\u001b[0;34m.\u001b[0m\u001b[0msplitext\u001b[0m\u001b[0;34m(\u001b[0m\u001b[0mos\u001b[0m\u001b[0;34m.\u001b[0m\u001b[0mpath\u001b[0m\u001b[0;34m.\u001b[0m\u001b[0mbasename\u001b[0m\u001b[0;34m(\u001b[0m\u001b[0mself\u001b[0m\u001b[0;34m.\u001b[0m\u001b[0mabfFilePath\u001b[0m\u001b[0;34m)\u001b[0m\u001b[0;34m)\u001b[0m\u001b[0;34m[\u001b[0m\u001b[0;36m0\u001b[0m\u001b[0;34m]\u001b[0m\u001b[0;34m\u001b[0m\u001b[0;34m\u001b[0m\u001b[0m\n\u001b[1;32m     76\u001b[0m         \u001b[0mlog\u001b[0m\u001b[0;34m.\u001b[0m\u001b[0mdebug\u001b[0m\u001b[0;34m(\u001b[0m\u001b[0mself\u001b[0m\u001b[0;34m.\u001b[0m\u001b[0m__repr__\u001b[0m\u001b[0;34m(\u001b[0m\u001b[0;34m)\u001b[0m\u001b[0;34m)\u001b[0m\u001b[0;34m\u001b[0m\u001b[0;34m\u001b[0m\u001b[0m\n",
      "\u001b[0;31mValueError\u001b[0m: ABF file does not exist: /home/michael/Documents/STG_energy/results/experimental_data/845_082_0044.abf"
     ]
    }
   ],
   "source": [
    "name = \"845_082_0044\"\n",
    "read_data_get_stats(name, myreader=ABF_reader)\n",
    "# np.savez(f\"../../results/experimental_data/xo_11deg.npy\")\n",
    "name = \"845_082_0064\"\n",
    "read_data_get_stats(name, myreader=ABF_reader)\n",
    "# np.savez(f\"../../results/experimental_data/xo_27deg.npy\")\n",
    "\n",
    "name = \"845_078_0027\"\n",
    "read_data_get_stats(name, myreader=ABF_reader_078)\n",
    "# np.savez(f\"../../results/experimental_data/xo_11deg_078.npy\")\n",
    "name = \"845_078_0040\"\n",
    "read_data_get_stats(name, myreader=ABF_reader_078)\n",
    "# np.savez(f\"../../results/experimental_data/xo_27deg_078.npy\")\n",
    "\n",
    "name = \"845_016_0049\"\n",
    "read_data_get_stats(name, myreader=ABF_reader_016)\n",
    "# np.savez(f\"../../results/experimental_data/xo_11deg_016.npy\")\n",
    "name = \"845_016_0069\"\n",
    "read_data_get_stats(name, myreader=ABF_reader_016)\n",
    "# np.savez(f\"../../results/experimental_data/xo_27deg_016.npy\")"
   ]
  },
  {
   "cell_type": "markdown",
   "metadata": {},
   "source": [
    "# Save time traces"
   ]
  },
  {
   "cell_type": "markdown",
   "metadata": {},
   "source": [
    "### Save the first trace separately purely for backwards compatibility with the filenames"
   ]
  },
  {
   "cell_type": "code",
   "execution_count": 18,
   "metadata": {},
   "outputs": [
    {
     "name": "stdout",
     "output_type": "stream",
     "text": [
      "10000.0\n"
     ]
    }
   ],
   "source": [
    "name = \"845_082_0044\"\n",
    "\n",
    "datafile = \"../../results/experimental_data/\"+name+\".abf\"\n",
    "abf = pyabf.ABF(datafile)\n",
    "\n",
    "r = ABF_reader_078(datafile)\n",
    "r.read_preparation(num=\"xxx\", case='spike', subtract_PD=True)\n",
    "\n",
    "max_time = max([len(r.pdn), len(r.lpn), len(r.pyn)])\n",
    "\n",
    "np.savez(\n",
    "    f\"../../results/experimental_data/trace_data_{name}.npz\",\n",
    "    PD_spikes=r.PD_binary,\n",
    "    LP_spikes=r.LP_binary,\n",
    "    PY_spikes=r.PY_binary,\n",
    "    pdn=r.pdn,\n",
    "    lpn=r.lpn,\n",
    "    pyn=r.pyn,\n",
    "    t=np.arange(0, max_time) * r.dt\n",
    ")"
   ]
  },
  {
   "cell_type": "markdown",
   "metadata": {},
   "source": [
    "### Then all other traces"
   ]
  },
  {
   "cell_type": "code",
   "execution_count": null,
   "metadata": {},
   "outputs": [],
   "source": [
    "def save_trace(name, myreader):\n",
    "    datafile = \"../../results/experimental_data/\"+name+\".abf\"\n",
    "    abf = pyabf.ABF(datafile)\n",
    "\n",
    "    r = myreader(datafile)\n",
    "    r.read_preparation(num=\"xxx\", case='spike', subtract_PD=True)\n",
    "\n",
    "    max_time = max([len(r.pdn), len(r.lpn), len(r.pyn)])\n",
    "\n",
    "    np.savez(\n",
    "        f\"../../results/experimental_data/data_{name}.npz\",\n",
    "        PD_spikes=r.PD_binary,\n",
    "        LP_spikes=r.LP_binary,\n",
    "        PY_spikes=r.PY_binary,\n",
    "        pdn=r.pdn,\n",
    "        lpn=r.lpn,\n",
    "        pyn=r.pyn,\n",
    "        t=np.arange(0, max_time) * r.dt\n",
    "    )"
   ]
  },
  {
   "cell_type": "code",
   "execution_count": null,
   "metadata": {},
   "outputs": [],
   "source": [
    "name = \"845_082_0064\"\n",
    "save_trace(name, myreader=ABF_reader)\n",
    "\n",
    "name = \"845_078_0027\"\n",
    "save_trace(name, myreader=ABF_reader_078)\n",
    "name = \"845_078_0040\"\n",
    "v(name, myreader=ABF_reader_078)\n",
    "\n",
    "name = \"845_016_0049\"\n",
    "save_trace(name, myreader=ABF_reader_016)\n",
    "name = \"845_016_0069\"\n",
    "save_trace(name, myreader=ABF_reader_016)"
   ]
  },
  {
   "cell_type": "code",
   "execution_count": null,
   "metadata": {},
   "outputs": [],
   "source": [
    "\n",
    "\n",
    "\n",
    "\n",
    "\n",
    "\n",
    "\n",
    "\n",
    "\n",
    "\n",
    "\n",
    "\n",
    "\n",
    "\n",
    "\n",
    "\n",
    "\n",
    "\n",
    "\n",
    "\n",
    "\n",
    "\n",
    "\n",
    "\n",
    "\n",
    "\n",
    "\n",
    "\n",
    "\n",
    "\n",
    "\n",
    "\n",
    "\n",
    "\n",
    "\n",
    "\n",
    "\n",
    "\n",
    "\n",
    "\n",
    "\n",
    "\n",
    "\n",
    "\n",
    "\n",
    "\n",
    "\n",
    "\n",
    "\n",
    "\n",
    "\n",
    "\n",
    "\n",
    "\n",
    "\n",
    "\n",
    "\n",
    "\n",
    "\n",
    "\n",
    "\n",
    "\n",
    "\n"
   ]
  },
  {
   "cell_type": "code",
   "execution_count": null,
   "metadata": {},
   "outputs": [],
   "source": []
  },
  {
   "cell_type": "code",
   "execution_count": null,
   "metadata": {},
   "outputs": [],
   "source": []
  }
 ],
 "metadata": {
  "kernelspec": {
   "display_name": "Python 3",
   "language": "python",
   "name": "python3"
  },
  "language_info": {
   "codemirror_mode": {
    "name": "ipython",
    "version": 3
   },
   "file_extension": ".py",
   "mimetype": "text/x-python",
   "name": "python",
   "nbconvert_exporter": "python",
   "pygments_lexer": "ipython3",
   "version": "3.8.10"
  }
 },
 "nbformat": 4,
 "nbformat_minor": 4
}
